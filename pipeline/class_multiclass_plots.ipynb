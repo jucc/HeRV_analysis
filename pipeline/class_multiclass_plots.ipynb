{
 "cells": [
  {
   "cell_type": "code",
   "execution_count": 1,
   "metadata": {},
   "outputs": [
    {
     "data": {
      "text/html": [
       "<script>requirejs.config({paths: { 'plotly': ['https://cdn.plot.ly/plotly-latest.min']},});if(!window.Plotly) {{require(['plotly'],function(plotly) {window.Plotly=plotly;});}}</script>"
      ],
      "text/vnd.plotly.v1+html": [
       "<script>requirejs.config({paths: { 'plotly': ['https://cdn.plot.ly/plotly-latest.min']},});if(!window.Plotly) {{require(['plotly'],function(plotly) {window.Plotly=plotly;});}}</script>"
      ]
     },
     "metadata": {},
     "output_type": "display_data"
    }
   ],
   "source": [
    "%load_ext autoreload\n",
    "%autoreload 2\n",
    "%matplotlib inline\n",
    "\n",
    "import pandas as pd\n",
    "from sklearn.ensemble import RandomForestClassifier\n",
    "import plotly.offline as pl\n",
    "import plotly.graph_objs as go\n",
    "pl.init_notebook_mode(connected=True)\n",
    "\n",
    "\n",
    "import classif_multiclass as cmc\n",
    "import hervpd as hp"
   ]
  },
  {
   "cell_type": "code",
   "execution_count": 2,
   "metadata": {},
   "outputs": [],
   "source": [
    "path = \"C:\\\\Users\\\\ju\\\\GDrive\\\\Projects\\\\HeRV\\\\Data\\\\PreProcessed\" \n",
    "features = ['mrri', 'sdnn', 'rmssd', 'pnn50', 'hfnu', 'lfnu', 'lf_hf']"
   ]
  },
  {
   "cell_type": "markdown",
   "metadata": {},
   "source": [
    "## Example (fragment len = 300, crop len = 30, classifier = RF)"
   ]
  },
  {
   "cell_type": "code",
   "execution_count": 3,
   "metadata": {},
   "outputs": [
    {
     "data": {
      "text/html": [
       "<div>\n",
       "<style>\n",
       "    .dataframe thead tr:only-child th {\n",
       "        text-align: right;\n",
       "    }\n",
       "\n",
       "    .dataframe thead th {\n",
       "        text-align: left;\n",
       "    }\n",
       "\n",
       "    .dataframe tbody tr th {\n",
       "        vertical-align: top;\n",
       "    }\n",
       "</style>\n",
       "<table border=\"1\" class=\"dataframe\">\n",
       "  <thead>\n",
       "    <tr style=\"text-align: right;\">\n",
       "      <th></th>\n",
       "      <th>activity</th>\n",
       "      <th>beatcount</th>\n",
       "      <th>hf</th>\n",
       "      <th>hfnu</th>\n",
       "      <th>lf</th>\n",
       "      <th>lf_hf</th>\n",
       "      <th>lfnu</th>\n",
       "      <th>mhr</th>\n",
       "      <th>mrri</th>\n",
       "      <th>nn50</th>\n",
       "      <th>...</th>\n",
       "      <th>user</th>\n",
       "      <th>vlf</th>\n",
       "      <th>gr_main3</th>\n",
       "      <th>gr_main4</th>\n",
       "      <th>gr_active</th>\n",
       "      <th>gr_focus1</th>\n",
       "      <th>gr_focus2</th>\n",
       "      <th>gr_stress1</th>\n",
       "      <th>gr_stress2</th>\n",
       "      <th>gr_stress3</th>\n",
       "    </tr>\n",
       "  </thead>\n",
       "  <tbody>\n",
       "    <tr>\n",
       "      <th>2492</th>\n",
       "      <td>sleep</td>\n",
       "      <td>374</td>\n",
       "      <td>1138.410072</td>\n",
       "      <td>58.919588</td>\n",
       "      <td>793.731856</td>\n",
       "      <td>0.697228</td>\n",
       "      <td>41.080412</td>\n",
       "      <td>73.300932</td>\n",
       "      <td>821.877005</td>\n",
       "      <td>62</td>\n",
       "      <td>...</td>\n",
       "      <td>0</td>\n",
       "      <td>532.825594</td>\n",
       "      <td>sleep</td>\n",
       "      <td>sleep</td>\n",
       "      <td>sleep</td>\n",
       "      <td>sleep</td>\n",
       "      <td>sleep</td>\n",
       "      <td>sleep</td>\n",
       "      <td>sleep</td>\n",
       "      <td>sleep</td>\n",
       "    </tr>\n",
       "    <tr>\n",
       "      <th>1870</th>\n",
       "      <td>focused-active</td>\n",
       "      <td>377</td>\n",
       "      <td>974.875536</td>\n",
       "      <td>47.878202</td>\n",
       "      <td>1061.281827</td>\n",
       "      <td>1.088633</td>\n",
       "      <td>52.121798</td>\n",
       "      <td>74.283274</td>\n",
       "      <td>812.029178</td>\n",
       "      <td>96</td>\n",
       "      <td>...</td>\n",
       "      <td>0</td>\n",
       "      <td>624.001710</td>\n",
       "      <td>still</td>\n",
       "      <td>still</td>\n",
       "      <td>active</td>\n",
       "      <td>focused</td>\n",
       "      <td>focused</td>\n",
       "      <td>stressed</td>\n",
       "      <td>stressed</td>\n",
       "      <td>stressed</td>\n",
       "    </tr>\n",
       "    <tr>\n",
       "      <th>4032</th>\n",
       "      <td>sleep</td>\n",
       "      <td>259</td>\n",
       "      <td>2900.944829</td>\n",
       "      <td>50.520561</td>\n",
       "      <td>2841.162447</td>\n",
       "      <td>0.979392</td>\n",
       "      <td>49.479439</td>\n",
       "      <td>52.587333</td>\n",
       "      <td>1187.262548</td>\n",
       "      <td>143</td>\n",
       "      <td>...</td>\n",
       "      <td>6</td>\n",
       "      <td>8654.337330</td>\n",
       "      <td>sleep</td>\n",
       "      <td>sleep</td>\n",
       "      <td>sleep</td>\n",
       "      <td>sleep</td>\n",
       "      <td>sleep</td>\n",
       "      <td>sleep</td>\n",
       "      <td>sleep</td>\n",
       "      <td>sleep</td>\n",
       "    </tr>\n",
       "    <tr>\n",
       "      <th>2771</th>\n",
       "      <td>focused-passive</td>\n",
       "      <td>396</td>\n",
       "      <td>407.712059</td>\n",
       "      <td>20.801679</td>\n",
       "      <td>1552.283888</td>\n",
       "      <td>3.807304</td>\n",
       "      <td>79.198321</td>\n",
       "      <td>78.179930</td>\n",
       "      <td>773.820707</td>\n",
       "      <td>41</td>\n",
       "      <td>...</td>\n",
       "      <td>1</td>\n",
       "      <td>1339.315932</td>\n",
       "      <td>still</td>\n",
       "      <td>still</td>\n",
       "      <td>passive</td>\n",
       "      <td>focused</td>\n",
       "      <td>focused</td>\n",
       "      <td>stressed</td>\n",
       "      <td>stressed</td>\n",
       "      <td>relaxed</td>\n",
       "    </tr>\n",
       "    <tr>\n",
       "      <th>2540</th>\n",
       "      <td>sleep</td>\n",
       "      <td>340</td>\n",
       "      <td>2506.951711</td>\n",
       "      <td>75.132114</td>\n",
       "      <td>829.772885</td>\n",
       "      <td>0.330989</td>\n",
       "      <td>24.867886</td>\n",
       "      <td>67.118918</td>\n",
       "      <td>898.320588</td>\n",
       "      <td>131</td>\n",
       "      <td>...</td>\n",
       "      <td>0</td>\n",
       "      <td>500.615464</td>\n",
       "      <td>sleep</td>\n",
       "      <td>sleep</td>\n",
       "      <td>sleep</td>\n",
       "      <td>sleep</td>\n",
       "      <td>sleep</td>\n",
       "      <td>sleep</td>\n",
       "      <td>sleep</td>\n",
       "      <td>sleep</td>\n",
       "    </tr>\n",
       "    <tr>\n",
       "      <th>239</th>\n",
       "      <td>focused-passive</td>\n",
       "      <td>412</td>\n",
       "      <td>3498.704858</td>\n",
       "      <td>80.240130</td>\n",
       "      <td>861.588275</td>\n",
       "      <td>0.246259</td>\n",
       "      <td>19.759870</td>\n",
       "      <td>84.566996</td>\n",
       "      <td>735.873786</td>\n",
       "      <td>172</td>\n",
       "      <td>...</td>\n",
       "      <td>0</td>\n",
       "      <td>544.909787</td>\n",
       "      <td>still</td>\n",
       "      <td>still</td>\n",
       "      <td>passive</td>\n",
       "      <td>focused</td>\n",
       "      <td>focused</td>\n",
       "      <td>stressed</td>\n",
       "      <td>stressed</td>\n",
       "      <td>relaxed</td>\n",
       "    </tr>\n",
       "    <tr>\n",
       "      <th>1813</th>\n",
       "      <td>sleep</td>\n",
       "      <td>352</td>\n",
       "      <td>1310.036394</td>\n",
       "      <td>62.497843</td>\n",
       "      <td>786.094180</td>\n",
       "      <td>0.600055</td>\n",
       "      <td>37.502157</td>\n",
       "      <td>69.015868</td>\n",
       "      <td>872.798295</td>\n",
       "      <td>60</td>\n",
       "      <td>...</td>\n",
       "      <td>0</td>\n",
       "      <td>764.586390</td>\n",
       "      <td>sleep</td>\n",
       "      <td>sleep</td>\n",
       "      <td>sleep</td>\n",
       "      <td>sleep</td>\n",
       "      <td>sleep</td>\n",
       "      <td>sleep</td>\n",
       "      <td>sleep</td>\n",
       "      <td>sleep</td>\n",
       "    </tr>\n",
       "  </tbody>\n",
       "</table>\n",
       "<p>7 rows × 29 columns</p>\n",
       "</div>"
      ],
      "text/plain": [
       "             activity  beatcount           hf       hfnu           lf  \\\n",
       "2492            sleep        374  1138.410072  58.919588   793.731856   \n",
       "1870   focused-active        377   974.875536  47.878202  1061.281827   \n",
       "4032            sleep        259  2900.944829  50.520561  2841.162447   \n",
       "2771  focused-passive        396   407.712059  20.801679  1552.283888   \n",
       "2540            sleep        340  2506.951711  75.132114   829.772885   \n",
       "239   focused-passive        412  3498.704858  80.240130   861.588275   \n",
       "1813            sleep        352  1310.036394  62.497843   786.094180   \n",
       "\n",
       "         lf_hf       lfnu        mhr         mrri  nn50     ...      user  \\\n",
       "2492  0.697228  41.080412  73.300932   821.877005    62     ...         0   \n",
       "1870  1.088633  52.121798  74.283274   812.029178    96     ...         0   \n",
       "4032  0.979392  49.479439  52.587333  1187.262548   143     ...         6   \n",
       "2771  3.807304  79.198321  78.179930   773.820707    41     ...         1   \n",
       "2540  0.330989  24.867886  67.118918   898.320588   131     ...         0   \n",
       "239   0.246259  19.759870  84.566996   735.873786   172     ...         0   \n",
       "1813  0.600055  37.502157  69.015868   872.798295    60     ...         0   \n",
       "\n",
       "              vlf gr_main3  gr_main4  gr_active  gr_focus1 gr_focus2  \\\n",
       "2492   532.825594    sleep     sleep      sleep      sleep     sleep   \n",
       "1870   624.001710    still     still     active    focused   focused   \n",
       "4032  8654.337330    sleep     sleep      sleep      sleep     sleep   \n",
       "2771  1339.315932    still     still    passive    focused   focused   \n",
       "2540   500.615464    sleep     sleep      sleep      sleep     sleep   \n",
       "239    544.909787    still     still    passive    focused   focused   \n",
       "1813   764.586390    sleep     sleep      sleep      sleep     sleep   \n",
       "\n",
       "     gr_stress1  gr_stress2  gr_stress3  \n",
       "2492      sleep       sleep       sleep  \n",
       "1870   stressed    stressed    stressed  \n",
       "4032      sleep       sleep       sleep  \n",
       "2771   stressed    stressed     relaxed  \n",
       "2540      sleep       sleep       sleep  \n",
       "239    stressed    stressed     relaxed  \n",
       "1813      sleep       sleep       sleep  \n",
       "\n",
       "[7 rows x 29 columns]"
      ]
     },
     "execution_count": 3,
     "metadata": {},
     "output_type": "execute_result"
    }
   ],
   "source": [
    "df = pd.read_excel(path+'\\\\df_300_30_grouped.xlsx')\n",
    "df.loc[df['activity'] == 'household-chores', 'activity'] = 'movement'\n",
    "df = df[((df['activity'] !='sleep') | (df['order'] > 30)) & (df['user'].isin([0,1,2,5,6]))]\n",
    "df.sample(7)"
   ]
  },
  {
   "cell_type": "code",
   "execution_count": 4,
   "metadata": {},
   "outputs": [],
   "source": [
    "clf = RandomForestClassifier(n_estimators=100, n_jobs=-1)"
   ]
  },
  {
   "cell_type": "markdown",
   "metadata": {},
   "source": [
    "## Interuser classification"
   ]
  },
  {
   "cell_type": "code",
   "execution_count": 29,
   "metadata": {
    "scrolled": false
   },
   "outputs": [
    {
     "name": "stdout",
     "output_type": "stream",
     "text": [
      "\n",
      "\n",
      "\n",
      "--------------------------------------------- activity ---------------------------------------------\n",
      "activity\n",
      "eat                 86\n",
      "exercise            80\n",
      "focused-active     520\n",
      "focused-passive    206\n",
      "leisure            240\n",
      "movement           495\n",
      "rest-active         98\n",
      "rest-passive       145\n",
      "sleep              524\n",
      "Name: user, dtype: int64\n",
      "1915 479\n"
     ]
    },
    {
     "data": {
      "application/vnd.plotly.v1+json": {
       "data": [
        {
         "colorscale": [
          [
           0,
           "rgb(165,0,38)"
          ],
          [
           0.1111111111111111,
           "rgb(215,48,39)"
          ],
          [
           0.2222222222222222,
           "rgb(244,109,67)"
          ],
          [
           0.3333333333333333,
           "rgb(253,174,97)"
          ],
          [
           0.4444444444444444,
           "rgb(254,224,144)"
          ],
          [
           0.5555555555555556,
           "rgb(224,243,248)"
          ],
          [
           0.6666666666666666,
           "rgb(171,217,233)"
          ],
          [
           0.7777777777777778,
           "rgb(116,173,209)"
          ],
          [
           0.8888888888888888,
           "rgb(69,117,180)"
          ],
          [
           1,
           "rgb(49,54,149)"
          ]
         ],
         "type": "heatmap",
         "x": [
          "precision",
          "recall",
          "f1"
         ],
         "y": [
          "eat",
          "exercise",
          "focused-active",
          "focused-passive",
          "leisure",
          "movement",
          "rest-active",
          "rest-passive",
          "sleep"
         ],
         "z": [
          [
           0.5,
           0.07142857142857142,
           0.125
          ],
          [
           0.75,
           0.46153846153846156,
           0.5714285714285714
          ],
          [
           0.4868421052631579,
           0.6115702479338843,
           0.5421245421245421
          ],
          [
           0.3333333333333333,
           0.23255813953488372,
           0.273972602739726
          ],
          [
           0.18181818181818182,
           0.16666666666666666,
           0.17391304347826086
          ],
          [
           0.6486486486486487,
           0.8181818181818182,
           0.7236180904522613
          ],
          [
           0.45454545454545453,
           0.20833333333333334,
           0.28571428571428575
          ],
          [
           0.3076923076923077,
           0.15384615384615385,
           0.20512820512820515
          ],
          [
           0.8333333333333334,
           0.8823529411764706,
           0.8571428571428571
          ]
         ],
         "zmax": 1,
         "zmin": 0.5
        }
       ],
       "layout": {
        "font": {
         "color": "#333333",
         "size": 16
        },
        "title": "Precision, Recall, F1-score",
        "yaxis": {
         "autorange": "reversed"
        }
       }
      },
      "text/html": [
       "<div id=\"f014f796-426c-45e4-9837-1154c124975b\" style=\"height: 525px; width: 100%;\" class=\"plotly-graph-div\"></div><script type=\"text/javascript\">require([\"plotly\"], function(Plotly) { window.PLOTLYENV=window.PLOTLYENV || {};window.PLOTLYENV.BASE_URL=\"https://plot.ly\";Plotly.newPlot(\"f014f796-426c-45e4-9837-1154c124975b\", [{\"type\": \"heatmap\", \"z\": [[0.5, 0.07142857142857142, 0.125], [0.75, 0.46153846153846156, 0.5714285714285714], [0.4868421052631579, 0.6115702479338843, 0.5421245421245421], [0.3333333333333333, 0.23255813953488372, 0.273972602739726], [0.18181818181818182, 0.16666666666666666, 0.17391304347826086], [0.6486486486486487, 0.8181818181818182, 0.7236180904522613], [0.45454545454545453, 0.20833333333333334, 0.28571428571428575], [0.3076923076923077, 0.15384615384615385, 0.20512820512820515], [0.8333333333333334, 0.8823529411764706, 0.8571428571428571]], \"y\": [\"eat\", \"exercise\", \"focused-active\", \"focused-passive\", \"leisure\", \"movement\", \"rest-active\", \"rest-passive\", \"sleep\"], \"x\": [\"precision\", \"recall\", \"f1\"], \"colorscale\": [[0.0, \"rgb(165,0,38)\"], [0.1111111111111111, \"rgb(215,48,39)\"], [0.2222222222222222, \"rgb(244,109,67)\"], [0.3333333333333333, \"rgb(253,174,97)\"], [0.4444444444444444, \"rgb(254,224,144)\"], [0.5555555555555556, \"rgb(224,243,248)\"], [0.6666666666666666, \"rgb(171,217,233)\"], [0.7777777777777778, \"rgb(116,173,209)\"], [0.8888888888888888, \"rgb(69,117,180)\"], [1.0, \"rgb(49,54,149)\"]], \"zmin\": 0.5, \"zmax\": 1.0}], {\"title\": \"Precision, Recall, F1-score\", \"font\": {\"size\": 16, \"color\": \"#333333\"}, \"yaxis\": {\"autorange\": \"reversed\"}}, {\"showLink\": true, \"linkText\": \"Export to plot.ly\"})});</script>"
      ],
      "text/vnd.plotly.v1+html": [
       "<div id=\"f014f796-426c-45e4-9837-1154c124975b\" style=\"height: 525px; width: 100%;\" class=\"plotly-graph-div\"></div><script type=\"text/javascript\">require([\"plotly\"], function(Plotly) { window.PLOTLYENV=window.PLOTLYENV || {};window.PLOTLYENV.BASE_URL=\"https://plot.ly\";Plotly.newPlot(\"f014f796-426c-45e4-9837-1154c124975b\", [{\"type\": \"heatmap\", \"z\": [[0.5, 0.07142857142857142, 0.125], [0.75, 0.46153846153846156, 0.5714285714285714], [0.4868421052631579, 0.6115702479338843, 0.5421245421245421], [0.3333333333333333, 0.23255813953488372, 0.273972602739726], [0.18181818181818182, 0.16666666666666666, 0.17391304347826086], [0.6486486486486487, 0.8181818181818182, 0.7236180904522613], [0.45454545454545453, 0.20833333333333334, 0.28571428571428575], [0.3076923076923077, 0.15384615384615385, 0.20512820512820515], [0.8333333333333334, 0.8823529411764706, 0.8571428571428571]], \"y\": [\"eat\", \"exercise\", \"focused-active\", \"focused-passive\", \"leisure\", \"movement\", \"rest-active\", \"rest-passive\", \"sleep\"], \"x\": [\"precision\", \"recall\", \"f1\"], \"colorscale\": [[0.0, \"rgb(165,0,38)\"], [0.1111111111111111, \"rgb(215,48,39)\"], [0.2222222222222222, \"rgb(244,109,67)\"], [0.3333333333333333, \"rgb(253,174,97)\"], [0.4444444444444444, \"rgb(254,224,144)\"], [0.5555555555555556, \"rgb(224,243,248)\"], [0.6666666666666666, \"rgb(171,217,233)\"], [0.7777777777777778, \"rgb(116,173,209)\"], [0.8888888888888888, \"rgb(69,117,180)\"], [1.0, \"rgb(49,54,149)\"]], \"zmin\": 0.5, \"zmax\": 1.0}], {\"title\": \"Precision, Recall, F1-score\", \"font\": {\"size\": 16, \"color\": \"#333333\"}, \"yaxis\": {\"autorange\": \"reversed\"}}, {\"showLink\": true, \"linkText\": \"Export to plot.ly\"})});</script>"
      ]
     },
     "metadata": {},
     "output_type": "display_data"
    },
    {
     "data": {
      "application/vnd.plotly.v1+json": {
       "data": [
        {
         "colorscale": "Reds",
         "type": "heatmap",
         "x": [
          "eat",
          "exercise",
          "focused-active",
          "focused-passive",
          "leisure",
          "movement",
          "rest-active",
          "rest-passive",
          "sleep"
         ],
         "y": [
          "eat",
          "exercise",
          "focused-active",
          "focused-passive",
          "leisure",
          "movement",
          "rest-active",
          "rest-passive",
          "sleep"
         ],
         "z": [
          [
           1,
           0,
           4,
           2,
           3,
           3,
           0,
           1,
           0
          ],
          [
           0,
           6,
           0,
           0,
           0,
           7,
           0,
           0,
           0
          ],
          [
           0,
           0,
           74,
           9,
           14,
           10,
           5,
           4,
           5
          ],
          [
           1,
           0,
           14,
           10,
           9,
           6,
           0,
           1,
           2
          ],
          [
           0,
           0,
           28,
           5,
           8,
           4,
           0,
           1,
           2
          ],
          [
           0,
           2,
           10,
           0,
           1,
           72,
           0,
           1,
           2
          ],
          [
           0,
           0,
           5,
           4,
           5,
           4,
           5,
           1,
           0
          ],
          [
           0,
           0,
           8,
           0,
           2,
           5,
           0,
           4,
           7
          ],
          [
           0,
           0,
           9,
           0,
           2,
           0,
           1,
           0,
           90
          ]
         ]
        }
       ],
       "layout": {
        "font": {
         "color": "#333333",
         "size": 16
        },
        "title": "Confusion Matrix",
        "xaxis": {
         "title": "predicted",
         "titlefont": {
          "color": "#333333",
          "size": 16
         }
        },
        "yaxis": {
         "autorange": "reversed",
         "title": "true label",
         "titlefont": {
          "color": "#333333",
          "size": 16
         }
        }
       }
      },
      "text/html": [
       "<div id=\"00a9f813-580a-4e9a-96cc-840c68fef67a\" style=\"height: 525px; width: 100%;\" class=\"plotly-graph-div\"></div><script type=\"text/javascript\">require([\"plotly\"], function(Plotly) { window.PLOTLYENV=window.PLOTLYENV || {};window.PLOTLYENV.BASE_URL=\"https://plot.ly\";Plotly.newPlot(\"00a9f813-580a-4e9a-96cc-840c68fef67a\", [{\"type\": \"heatmap\", \"z\": [[1, 0, 4, 2, 3, 3, 0, 1, 0], [0, 6, 0, 0, 0, 7, 0, 0, 0], [0, 0, 74, 9, 14, 10, 5, 4, 5], [1, 0, 14, 10, 9, 6, 0, 1, 2], [0, 0, 28, 5, 8, 4, 0, 1, 2], [0, 2, 10, 0, 1, 72, 0, 1, 2], [0, 0, 5, 4, 5, 4, 5, 1, 0], [0, 0, 8, 0, 2, 5, 0, 4, 7], [0, 0, 9, 0, 2, 0, 1, 0, 90]], \"x\": [\"eat\", \"exercise\", \"focused-active\", \"focused-passive\", \"leisure\", \"movement\", \"rest-active\", \"rest-passive\", \"sleep\"], \"y\": [\"eat\", \"exercise\", \"focused-active\", \"focused-passive\", \"leisure\", \"movement\", \"rest-active\", \"rest-passive\", \"sleep\"], \"colorscale\": \"Reds\"}], {\"title\": \"Confusion Matrix\", \"font\": {\"size\": 16, \"color\": \"#333333\"}, \"xaxis\": {\"title\": \"predicted\", \"titlefont\": {\"size\": 16, \"color\": \"#333333\"}}, \"yaxis\": {\"title\": \"true label\", \"titlefont\": {\"size\": 16, \"color\": \"#333333\"}, \"autorange\": \"reversed\"}}, {\"showLink\": true, \"linkText\": \"Export to plot.ly\"})});</script>"
      ],
      "text/vnd.plotly.v1+html": [
       "<div id=\"00a9f813-580a-4e9a-96cc-840c68fef67a\" style=\"height: 525px; width: 100%;\" class=\"plotly-graph-div\"></div><script type=\"text/javascript\">require([\"plotly\"], function(Plotly) { window.PLOTLYENV=window.PLOTLYENV || {};window.PLOTLYENV.BASE_URL=\"https://plot.ly\";Plotly.newPlot(\"00a9f813-580a-4e9a-96cc-840c68fef67a\", [{\"type\": \"heatmap\", \"z\": [[1, 0, 4, 2, 3, 3, 0, 1, 0], [0, 6, 0, 0, 0, 7, 0, 0, 0], [0, 0, 74, 9, 14, 10, 5, 4, 5], [1, 0, 14, 10, 9, 6, 0, 1, 2], [0, 0, 28, 5, 8, 4, 0, 1, 2], [0, 2, 10, 0, 1, 72, 0, 1, 2], [0, 0, 5, 4, 5, 4, 5, 1, 0], [0, 0, 8, 0, 2, 5, 0, 4, 7], [0, 0, 9, 0, 2, 0, 1, 0, 90]], \"x\": [\"eat\", \"exercise\", \"focused-active\", \"focused-passive\", \"leisure\", \"movement\", \"rest-active\", \"rest-passive\", \"sleep\"], \"y\": [\"eat\", \"exercise\", \"focused-active\", \"focused-passive\", \"leisure\", \"movement\", \"rest-active\", \"rest-passive\", \"sleep\"], \"colorscale\": \"Reds\"}], {\"title\": \"Confusion Matrix\", \"font\": {\"size\": 16, \"color\": \"#333333\"}, \"xaxis\": {\"title\": \"predicted\", \"titlefont\": {\"size\": 16, \"color\": \"#333333\"}}, \"yaxis\": {\"title\": \"true label\", \"titlefont\": {\"size\": 16, \"color\": \"#333333\"}, \"autorange\": \"reversed\"}}, {\"showLink\": true, \"linkText\": \"Export to plot.ly\"})});</script>"
      ]
     },
     "metadata": {},
     "output_type": "display_data"
    },
    {
     "name": "stdout",
     "output_type": "stream",
     "text": [
      "\n",
      "\n",
      "\n",
      "--------------------------------------------- gr_main3 ---------------------------------------------\n",
      "gr_main3\n",
      "move      575\n",
      "sleep     524\n",
      "still    1295\n",
      "Name: user, dtype: int64\n",
      "1915 479\n"
     ]
    },
    {
     "data": {
      "application/vnd.plotly.v1+json": {
       "data": [
        {
         "colorscale": [
          [
           0,
           "rgb(165,0,38)"
          ],
          [
           0.1111111111111111,
           "rgb(215,48,39)"
          ],
          [
           0.2222222222222222,
           "rgb(244,109,67)"
          ],
          [
           0.3333333333333333,
           "rgb(253,174,97)"
          ],
          [
           0.4444444444444444,
           "rgb(254,224,144)"
          ],
          [
           0.5555555555555556,
           "rgb(224,243,248)"
          ],
          [
           0.6666666666666666,
           "rgb(171,217,233)"
          ],
          [
           0.7777777777777778,
           "rgb(116,173,209)"
          ],
          [
           0.8888888888888888,
           "rgb(69,117,180)"
          ],
          [
           1,
           "rgb(49,54,149)"
          ]
         ],
         "type": "heatmap",
         "x": [
          "precision",
          "recall",
          "f1"
         ],
         "y": [
          "move",
          "sleep",
          "still"
         ],
         "z": [
          [
           0.7837837837837838,
           0.7565217391304347,
           0.7699115044247786
          ],
          [
           0.8878504672897196,
           0.8407079646017699,
           0.8636363636363636
          ],
          [
           0.8275862068965517,
           0.8605577689243028,
           0.84375
          ]
         ],
         "zmax": 1,
         "zmin": 0.5
        }
       ],
       "layout": {
        "font": {
         "color": "#333333",
         "size": 16
        },
        "title": "Precision, Recall, F1-score",
        "yaxis": {
         "autorange": "reversed"
        }
       }
      },
      "text/html": [
       "<div id=\"ec29289e-19d1-45ef-8cab-0b693a683a46\" style=\"height: 525px; width: 100%;\" class=\"plotly-graph-div\"></div><script type=\"text/javascript\">require([\"plotly\"], function(Plotly) { window.PLOTLYENV=window.PLOTLYENV || {};window.PLOTLYENV.BASE_URL=\"https://plot.ly\";Plotly.newPlot(\"ec29289e-19d1-45ef-8cab-0b693a683a46\", [{\"type\": \"heatmap\", \"z\": [[0.7837837837837838, 0.7565217391304347, 0.7699115044247786], [0.8878504672897196, 0.8407079646017699, 0.8636363636363636], [0.8275862068965517, 0.8605577689243028, 0.84375]], \"y\": [\"move\", \"sleep\", \"still\"], \"x\": [\"precision\", \"recall\", \"f1\"], \"colorscale\": [[0.0, \"rgb(165,0,38)\"], [0.1111111111111111, \"rgb(215,48,39)\"], [0.2222222222222222, \"rgb(244,109,67)\"], [0.3333333333333333, \"rgb(253,174,97)\"], [0.4444444444444444, \"rgb(254,224,144)\"], [0.5555555555555556, \"rgb(224,243,248)\"], [0.6666666666666666, \"rgb(171,217,233)\"], [0.7777777777777778, \"rgb(116,173,209)\"], [0.8888888888888888, \"rgb(69,117,180)\"], [1.0, \"rgb(49,54,149)\"]], \"zmin\": 0.5, \"zmax\": 1.0}], {\"title\": \"Precision, Recall, F1-score\", \"font\": {\"size\": 16, \"color\": \"#333333\"}, \"yaxis\": {\"autorange\": \"reversed\"}}, {\"showLink\": true, \"linkText\": \"Export to plot.ly\"})});</script>"
      ],
      "text/vnd.plotly.v1+html": [
       "<div id=\"ec29289e-19d1-45ef-8cab-0b693a683a46\" style=\"height: 525px; width: 100%;\" class=\"plotly-graph-div\"></div><script type=\"text/javascript\">require([\"plotly\"], function(Plotly) { window.PLOTLYENV=window.PLOTLYENV || {};window.PLOTLYENV.BASE_URL=\"https://plot.ly\";Plotly.newPlot(\"ec29289e-19d1-45ef-8cab-0b693a683a46\", [{\"type\": \"heatmap\", \"z\": [[0.7837837837837838, 0.7565217391304347, 0.7699115044247786], [0.8878504672897196, 0.8407079646017699, 0.8636363636363636], [0.8275862068965517, 0.8605577689243028, 0.84375]], \"y\": [\"move\", \"sleep\", \"still\"], \"x\": [\"precision\", \"recall\", \"f1\"], \"colorscale\": [[0.0, \"rgb(165,0,38)\"], [0.1111111111111111, \"rgb(215,48,39)\"], [0.2222222222222222, \"rgb(244,109,67)\"], [0.3333333333333333, \"rgb(253,174,97)\"], [0.4444444444444444, \"rgb(254,224,144)\"], [0.5555555555555556, \"rgb(224,243,248)\"], [0.6666666666666666, \"rgb(171,217,233)\"], [0.7777777777777778, \"rgb(116,173,209)\"], [0.8888888888888888, \"rgb(69,117,180)\"], [1.0, \"rgb(49,54,149)\"]], \"zmin\": 0.5, \"zmax\": 1.0}], {\"title\": \"Precision, Recall, F1-score\", \"font\": {\"size\": 16, \"color\": \"#333333\"}, \"yaxis\": {\"autorange\": \"reversed\"}}, {\"showLink\": true, \"linkText\": \"Export to plot.ly\"})});</script>"
      ]
     },
     "metadata": {},
     "output_type": "display_data"
    },
    {
     "data": {
      "application/vnd.plotly.v1+json": {
       "data": [
        {
         "colorscale": "Reds",
         "type": "heatmap",
         "x": [
          "move",
          "sleep",
          "still"
         ],
         "y": [
          "move",
          "sleep",
          "still"
         ],
         "z": [
          [
           87,
           1,
           27
          ],
          [
           0,
           95,
           18
          ],
          [
           24,
           11,
           216
          ]
         ]
        }
       ],
       "layout": {
        "font": {
         "color": "#333333",
         "size": 16
        },
        "title": "Confusion Matrix",
        "xaxis": {
         "title": "predicted",
         "titlefont": {
          "color": "#333333",
          "size": 16
         }
        },
        "yaxis": {
         "autorange": "reversed",
         "title": "true label",
         "titlefont": {
          "color": "#333333",
          "size": 16
         }
        }
       }
      },
      "text/html": [
       "<div id=\"1fa4f832-74b4-4fd0-bc03-fd064b2a4b87\" style=\"height: 525px; width: 100%;\" class=\"plotly-graph-div\"></div><script type=\"text/javascript\">require([\"plotly\"], function(Plotly) { window.PLOTLYENV=window.PLOTLYENV || {};window.PLOTLYENV.BASE_URL=\"https://plot.ly\";Plotly.newPlot(\"1fa4f832-74b4-4fd0-bc03-fd064b2a4b87\", [{\"type\": \"heatmap\", \"z\": [[87, 1, 27], [0, 95, 18], [24, 11, 216]], \"x\": [\"move\", \"sleep\", \"still\"], \"y\": [\"move\", \"sleep\", \"still\"], \"colorscale\": \"Reds\"}], {\"title\": \"Confusion Matrix\", \"font\": {\"size\": 16, \"color\": \"#333333\"}, \"xaxis\": {\"title\": \"predicted\", \"titlefont\": {\"size\": 16, \"color\": \"#333333\"}}, \"yaxis\": {\"title\": \"true label\", \"titlefont\": {\"size\": 16, \"color\": \"#333333\"}, \"autorange\": \"reversed\"}}, {\"showLink\": true, \"linkText\": \"Export to plot.ly\"})});</script>"
      ],
      "text/vnd.plotly.v1+html": [
       "<div id=\"1fa4f832-74b4-4fd0-bc03-fd064b2a4b87\" style=\"height: 525px; width: 100%;\" class=\"plotly-graph-div\"></div><script type=\"text/javascript\">require([\"plotly\"], function(Plotly) { window.PLOTLYENV=window.PLOTLYENV || {};window.PLOTLYENV.BASE_URL=\"https://plot.ly\";Plotly.newPlot(\"1fa4f832-74b4-4fd0-bc03-fd064b2a4b87\", [{\"type\": \"heatmap\", \"z\": [[87, 1, 27], [0, 95, 18], [24, 11, 216]], \"x\": [\"move\", \"sleep\", \"still\"], \"y\": [\"move\", \"sleep\", \"still\"], \"colorscale\": \"Reds\"}], {\"title\": \"Confusion Matrix\", \"font\": {\"size\": 16, \"color\": \"#333333\"}, \"xaxis\": {\"title\": \"predicted\", \"titlefont\": {\"size\": 16, \"color\": \"#333333\"}}, \"yaxis\": {\"title\": \"true label\", \"titlefont\": {\"size\": 16, \"color\": \"#333333\"}, \"autorange\": \"reversed\"}}, {\"showLink\": true, \"linkText\": \"Export to plot.ly\"})});</script>"
      ]
     },
     "metadata": {},
     "output_type": "display_data"
    },
    {
     "name": "stdout",
     "output_type": "stream",
     "text": [
      "\n",
      "\n",
      "\n",
      "--------------------------------------------- gr_main4 ---------------------------------------------\n",
      "gr_main4\n",
      "exercise      80\n",
      "move         495\n",
      "sleep        524\n",
      "still       1295\n",
      "Name: user, dtype: int64\n",
      "1915 479\n"
     ]
    },
    {
     "data": {
      "application/vnd.plotly.v1+json": {
       "data": [
        {
         "colorscale": [
          [
           0,
           "rgb(165,0,38)"
          ],
          [
           0.1111111111111111,
           "rgb(215,48,39)"
          ],
          [
           0.2222222222222222,
           "rgb(244,109,67)"
          ],
          [
           0.3333333333333333,
           "rgb(253,174,97)"
          ],
          [
           0.4444444444444444,
           "rgb(254,224,144)"
          ],
          [
           0.5555555555555556,
           "rgb(224,243,248)"
          ],
          [
           0.6666666666666666,
           "rgb(171,217,233)"
          ],
          [
           0.7777777777777778,
           "rgb(116,173,209)"
          ],
          [
           0.8888888888888888,
           "rgb(69,117,180)"
          ],
          [
           1,
           "rgb(49,54,149)"
          ]
         ],
         "type": "heatmap",
         "x": [
          "precision",
          "recall",
          "f1"
         ],
         "y": [
          "exercise",
          "move",
          "sleep",
          "still"
         ],
         "z": [
          [
           0.631578947368421,
           0.8,
           0.7058823529411765
          ],
          [
           0.6354166666666666,
           0.6630434782608695,
           0.6489361702127658
          ],
          [
           0.9038461538461539,
           0.8392857142857143,
           0.8703703703703703
          ],
          [
           0.8346153846153846,
           0.8346153846153846,
           0.8346153846153846
          ]
         ],
         "zmax": 1,
         "zmin": 0.5
        }
       ],
       "layout": {
        "font": {
         "color": "#333333",
         "size": 16
        },
        "title": "Precision, Recall, F1-score",
        "yaxis": {
         "autorange": "reversed"
        }
       }
      },
      "text/html": [
       "<div id=\"d1156a0a-d079-44f3-bfcd-1441211fd522\" style=\"height: 525px; width: 100%;\" class=\"plotly-graph-div\"></div><script type=\"text/javascript\">require([\"plotly\"], function(Plotly) { window.PLOTLYENV=window.PLOTLYENV || {};window.PLOTLYENV.BASE_URL=\"https://plot.ly\";Plotly.newPlot(\"d1156a0a-d079-44f3-bfcd-1441211fd522\", [{\"type\": \"heatmap\", \"z\": [[0.631578947368421, 0.8, 0.7058823529411765], [0.6354166666666666, 0.6630434782608695, 0.6489361702127658], [0.9038461538461539, 0.8392857142857143, 0.8703703703703703], [0.8346153846153846, 0.8346153846153846, 0.8346153846153846]], \"y\": [\"exercise\", \"move\", \"sleep\", \"still\"], \"x\": [\"precision\", \"recall\", \"f1\"], \"colorscale\": [[0.0, \"rgb(165,0,38)\"], [0.1111111111111111, \"rgb(215,48,39)\"], [0.2222222222222222, \"rgb(244,109,67)\"], [0.3333333333333333, \"rgb(253,174,97)\"], [0.4444444444444444, \"rgb(254,224,144)\"], [0.5555555555555556, \"rgb(224,243,248)\"], [0.6666666666666666, \"rgb(171,217,233)\"], [0.7777777777777778, \"rgb(116,173,209)\"], [0.8888888888888888, \"rgb(69,117,180)\"], [1.0, \"rgb(49,54,149)\"]], \"zmin\": 0.5, \"zmax\": 1.0}], {\"title\": \"Precision, Recall, F1-score\", \"font\": {\"size\": 16, \"color\": \"#333333\"}, \"yaxis\": {\"autorange\": \"reversed\"}}, {\"showLink\": true, \"linkText\": \"Export to plot.ly\"})});</script>"
      ],
      "text/vnd.plotly.v1+html": [
       "<div id=\"d1156a0a-d079-44f3-bfcd-1441211fd522\" style=\"height: 525px; width: 100%;\" class=\"plotly-graph-div\"></div><script type=\"text/javascript\">require([\"plotly\"], function(Plotly) { window.PLOTLYENV=window.PLOTLYENV || {};window.PLOTLYENV.BASE_URL=\"https://plot.ly\";Plotly.newPlot(\"d1156a0a-d079-44f3-bfcd-1441211fd522\", [{\"type\": \"heatmap\", \"z\": [[0.631578947368421, 0.8, 0.7058823529411765], [0.6354166666666666, 0.6630434782608695, 0.6489361702127658], [0.9038461538461539, 0.8392857142857143, 0.8703703703703703], [0.8346153846153846, 0.8346153846153846, 0.8346153846153846]], \"y\": [\"exercise\", \"move\", \"sleep\", \"still\"], \"x\": [\"precision\", \"recall\", \"f1\"], \"colorscale\": [[0.0, \"rgb(165,0,38)\"], [0.1111111111111111, \"rgb(215,48,39)\"], [0.2222222222222222, \"rgb(244,109,67)\"], [0.3333333333333333, \"rgb(253,174,97)\"], [0.4444444444444444, \"rgb(254,224,144)\"], [0.5555555555555556, \"rgb(224,243,248)\"], [0.6666666666666666, \"rgb(171,217,233)\"], [0.7777777777777778, \"rgb(116,173,209)\"], [0.8888888888888888, \"rgb(69,117,180)\"], [1.0, \"rgb(49,54,149)\"]], \"zmin\": 0.5, \"zmax\": 1.0}], {\"title\": \"Precision, Recall, F1-score\", \"font\": {\"size\": 16, \"color\": \"#333333\"}, \"yaxis\": {\"autorange\": \"reversed\"}}, {\"showLink\": true, \"linkText\": \"Export to plot.ly\"})});</script>"
      ]
     },
     "metadata": {},
     "output_type": "display_data"
    },
    {
     "data": {
      "application/vnd.plotly.v1+json": {
       "data": [
        {
         "colorscale": "Reds",
         "type": "heatmap",
         "x": [
          "exercise",
          "move",
          "sleep",
          "still"
         ],
         "y": [
          "exercise",
          "move",
          "sleep",
          "still"
         ],
         "z": [
          [
           12,
           3,
           0,
           0
          ],
          [
           6,
           61,
           0,
           25
          ],
          [
           0,
           0,
           94,
           18
          ],
          [
           1,
           32,
           10,
           217
          ]
         ]
        }
       ],
       "layout": {
        "font": {
         "color": "#333333",
         "size": 16
        },
        "title": "Confusion Matrix",
        "xaxis": {
         "title": "predicted",
         "titlefont": {
          "color": "#333333",
          "size": 16
         }
        },
        "yaxis": {
         "autorange": "reversed",
         "title": "true label",
         "titlefont": {
          "color": "#333333",
          "size": 16
         }
        }
       }
      },
      "text/html": [
       "<div id=\"1e702312-d2fd-4d9f-a1fa-dbca4d3d0ad3\" style=\"height: 525px; width: 100%;\" class=\"plotly-graph-div\"></div><script type=\"text/javascript\">require([\"plotly\"], function(Plotly) { window.PLOTLYENV=window.PLOTLYENV || {};window.PLOTLYENV.BASE_URL=\"https://plot.ly\";Plotly.newPlot(\"1e702312-d2fd-4d9f-a1fa-dbca4d3d0ad3\", [{\"type\": \"heatmap\", \"z\": [[12, 3, 0, 0], [6, 61, 0, 25], [0, 0, 94, 18], [1, 32, 10, 217]], \"x\": [\"exercise\", \"move\", \"sleep\", \"still\"], \"y\": [\"exercise\", \"move\", \"sleep\", \"still\"], \"colorscale\": \"Reds\"}], {\"title\": \"Confusion Matrix\", \"font\": {\"size\": 16, \"color\": \"#333333\"}, \"xaxis\": {\"title\": \"predicted\", \"titlefont\": {\"size\": 16, \"color\": \"#333333\"}}, \"yaxis\": {\"title\": \"true label\", \"titlefont\": {\"size\": 16, \"color\": \"#333333\"}, \"autorange\": \"reversed\"}}, {\"showLink\": true, \"linkText\": \"Export to plot.ly\"})});</script>"
      ],
      "text/vnd.plotly.v1+html": [
       "<div id=\"1e702312-d2fd-4d9f-a1fa-dbca4d3d0ad3\" style=\"height: 525px; width: 100%;\" class=\"plotly-graph-div\"></div><script type=\"text/javascript\">require([\"plotly\"], function(Plotly) { window.PLOTLYENV=window.PLOTLYENV || {};window.PLOTLYENV.BASE_URL=\"https://plot.ly\";Plotly.newPlot(\"1e702312-d2fd-4d9f-a1fa-dbca4d3d0ad3\", [{\"type\": \"heatmap\", \"z\": [[12, 3, 0, 0], [6, 61, 0, 25], [0, 0, 94, 18], [1, 32, 10, 217]], \"x\": [\"exercise\", \"move\", \"sleep\", \"still\"], \"y\": [\"exercise\", \"move\", \"sleep\", \"still\"], \"colorscale\": \"Reds\"}], {\"title\": \"Confusion Matrix\", \"font\": {\"size\": 16, \"color\": \"#333333\"}, \"xaxis\": {\"title\": \"predicted\", \"titlefont\": {\"size\": 16, \"color\": \"#333333\"}}, \"yaxis\": {\"title\": \"true label\", \"titlefont\": {\"size\": 16, \"color\": \"#333333\"}, \"autorange\": \"reversed\"}}, {\"showLink\": true, \"linkText\": \"Export to plot.ly\"})});</script>"
      ]
     },
     "metadata": {},
     "output_type": "display_data"
    },
    {
     "name": "stdout",
     "output_type": "stream",
     "text": [
      "\n",
      "\n",
      "\n",
      "--------------------------------------------- gr_stress1 ---------------------------------------------\n",
      "gr_stress1\n",
      "exercise     80\n",
      "move        495\n",
      "relaxed     385\n",
      "sleep       524\n",
      "stressed    910\n",
      "Name: user, dtype: int64\n",
      "1915 479\n"
     ]
    },
    {
     "data": {
      "application/vnd.plotly.v1+json": {
       "data": [
        {
         "colorscale": [
          [
           0,
           "rgb(165,0,38)"
          ],
          [
           0.1111111111111111,
           "rgb(215,48,39)"
          ],
          [
           0.2222222222222222,
           "rgb(244,109,67)"
          ],
          [
           0.3333333333333333,
           "rgb(253,174,97)"
          ],
          [
           0.4444444444444444,
           "rgb(254,224,144)"
          ],
          [
           0.5555555555555556,
           "rgb(224,243,248)"
          ],
          [
           0.6666666666666666,
           "rgb(171,217,233)"
          ],
          [
           0.7777777777777778,
           "rgb(116,173,209)"
          ],
          [
           0.8888888888888888,
           "rgb(69,117,180)"
          ],
          [
           1,
           "rgb(49,54,149)"
          ]
         ],
         "type": "heatmap",
         "x": [
          "precision",
          "recall",
          "f1"
         ],
         "y": [
          "exercise",
          "move",
          "relaxed",
          "sleep",
          "stressed"
         ],
         "z": [
          [
           0.7619047619047619,
           0.8421052631578947,
           0.8
          ],
          [
           0.7849462365591398,
           0.73,
           0.7564766839378239
          ],
          [
           0.25,
           0.06666666666666667,
           0.10526315789473685
          ],
          [
           0.7962962962962963,
           0.8958333333333334,
           0.8431372549019608
          ],
          [
           0.6413502109704642,
           0.8042328042328042,
           0.7136150234741784
          ]
         ],
         "zmax": 1,
         "zmin": 0.5
        }
       ],
       "layout": {
        "font": {
         "color": "#333333",
         "size": 16
        },
        "title": "Precision, Recall, F1-score",
        "yaxis": {
         "autorange": "reversed"
        }
       }
      },
      "text/html": [
       "<div id=\"1613ebe3-4331-4954-9001-9e03fc2e064f\" style=\"height: 525px; width: 100%;\" class=\"plotly-graph-div\"></div><script type=\"text/javascript\">require([\"plotly\"], function(Plotly) { window.PLOTLYENV=window.PLOTLYENV || {};window.PLOTLYENV.BASE_URL=\"https://plot.ly\";Plotly.newPlot(\"1613ebe3-4331-4954-9001-9e03fc2e064f\", [{\"type\": \"heatmap\", \"z\": [[0.7619047619047619, 0.8421052631578947, 0.8], [0.7849462365591398, 0.73, 0.7564766839378239], [0.25, 0.06666666666666667, 0.10526315789473685], [0.7962962962962963, 0.8958333333333334, 0.8431372549019608], [0.6413502109704642, 0.8042328042328042, 0.7136150234741784]], \"y\": [\"exercise\", \"move\", \"relaxed\", \"sleep\", \"stressed\"], \"x\": [\"precision\", \"recall\", \"f1\"], \"colorscale\": [[0.0, \"rgb(165,0,38)\"], [0.1111111111111111, \"rgb(215,48,39)\"], [0.2222222222222222, \"rgb(244,109,67)\"], [0.3333333333333333, \"rgb(253,174,97)\"], [0.4444444444444444, \"rgb(254,224,144)\"], [0.5555555555555556, \"rgb(224,243,248)\"], [0.6666666666666666, \"rgb(171,217,233)\"], [0.7777777777777778, \"rgb(116,173,209)\"], [0.8888888888888888, \"rgb(69,117,180)\"], [1.0, \"rgb(49,54,149)\"]], \"zmin\": 0.5, \"zmax\": 1.0}], {\"title\": \"Precision, Recall, F1-score\", \"font\": {\"size\": 16, \"color\": \"#333333\"}, \"yaxis\": {\"autorange\": \"reversed\"}}, {\"showLink\": true, \"linkText\": \"Export to plot.ly\"})});</script>"
      ],
      "text/vnd.plotly.v1+html": [
       "<div id=\"1613ebe3-4331-4954-9001-9e03fc2e064f\" style=\"height: 525px; width: 100%;\" class=\"plotly-graph-div\"></div><script type=\"text/javascript\">require([\"plotly\"], function(Plotly) { window.PLOTLYENV=window.PLOTLYENV || {};window.PLOTLYENV.BASE_URL=\"https://plot.ly\";Plotly.newPlot(\"1613ebe3-4331-4954-9001-9e03fc2e064f\", [{\"type\": \"heatmap\", \"z\": [[0.7619047619047619, 0.8421052631578947, 0.8], [0.7849462365591398, 0.73, 0.7564766839378239], [0.25, 0.06666666666666667, 0.10526315789473685], [0.7962962962962963, 0.8958333333333334, 0.8431372549019608], [0.6413502109704642, 0.8042328042328042, 0.7136150234741784]], \"y\": [\"exercise\", \"move\", \"relaxed\", \"sleep\", \"stressed\"], \"x\": [\"precision\", \"recall\", \"f1\"], \"colorscale\": [[0.0, \"rgb(165,0,38)\"], [0.1111111111111111, \"rgb(215,48,39)\"], [0.2222222222222222, \"rgb(244,109,67)\"], [0.3333333333333333, \"rgb(253,174,97)\"], [0.4444444444444444, \"rgb(254,224,144)\"], [0.5555555555555556, \"rgb(224,243,248)\"], [0.6666666666666666, \"rgb(171,217,233)\"], [0.7777777777777778, \"rgb(116,173,209)\"], [0.8888888888888888, \"rgb(69,117,180)\"], [1.0, \"rgb(49,54,149)\"]], \"zmin\": 0.5, \"zmax\": 1.0}], {\"title\": \"Precision, Recall, F1-score\", \"font\": {\"size\": 16, \"color\": \"#333333\"}, \"yaxis\": {\"autorange\": \"reversed\"}}, {\"showLink\": true, \"linkText\": \"Export to plot.ly\"})});</script>"
      ]
     },
     "metadata": {},
     "output_type": "display_data"
    },
    {
     "data": {
      "application/vnd.plotly.v1+json": {
       "data": [
        {
         "colorscale": "Reds",
         "type": "heatmap",
         "x": [
          "exercise",
          "move",
          "relaxed",
          "sleep",
          "stressed"
         ],
         "y": [
          "exercise",
          "move",
          "relaxed",
          "sleep",
          "stressed"
         ],
         "z": [
          [
           16,
           3,
           0,
           0,
           0
          ],
          [
           4,
           73,
           3,
           0,
           20
          ],
          [
           0,
           7,
           5,
           8,
           55
          ],
          [
           0,
           0,
           0,
           86,
           10
          ],
          [
           1,
           10,
           12,
           14,
           152
          ]
         ]
        }
       ],
       "layout": {
        "font": {
         "color": "#333333",
         "size": 16
        },
        "title": "Confusion Matrix",
        "xaxis": {
         "title": "predicted",
         "titlefont": {
          "color": "#333333",
          "size": 16
         }
        },
        "yaxis": {
         "autorange": "reversed",
         "title": "true label",
         "titlefont": {
          "color": "#333333",
          "size": 16
         }
        }
       }
      },
      "text/html": [
       "<div id=\"6941a590-7ab7-4c0c-b34a-254d0de2e892\" style=\"height: 525px; width: 100%;\" class=\"plotly-graph-div\"></div><script type=\"text/javascript\">require([\"plotly\"], function(Plotly) { window.PLOTLYENV=window.PLOTLYENV || {};window.PLOTLYENV.BASE_URL=\"https://plot.ly\";Plotly.newPlot(\"6941a590-7ab7-4c0c-b34a-254d0de2e892\", [{\"type\": \"heatmap\", \"z\": [[16, 3, 0, 0, 0], [4, 73, 3, 0, 20], [0, 7, 5, 8, 55], [0, 0, 0, 86, 10], [1, 10, 12, 14, 152]], \"x\": [\"exercise\", \"move\", \"relaxed\", \"sleep\", \"stressed\"], \"y\": [\"exercise\", \"move\", \"relaxed\", \"sleep\", \"stressed\"], \"colorscale\": \"Reds\"}], {\"title\": \"Confusion Matrix\", \"font\": {\"size\": 16, \"color\": \"#333333\"}, \"xaxis\": {\"title\": \"predicted\", \"titlefont\": {\"size\": 16, \"color\": \"#333333\"}}, \"yaxis\": {\"title\": \"true label\", \"titlefont\": {\"size\": 16, \"color\": \"#333333\"}, \"autorange\": \"reversed\"}}, {\"showLink\": true, \"linkText\": \"Export to plot.ly\"})});</script>"
      ],
      "text/vnd.plotly.v1+html": [
       "<div id=\"6941a590-7ab7-4c0c-b34a-254d0de2e892\" style=\"height: 525px; width: 100%;\" class=\"plotly-graph-div\"></div><script type=\"text/javascript\">require([\"plotly\"], function(Plotly) { window.PLOTLYENV=window.PLOTLYENV || {};window.PLOTLYENV.BASE_URL=\"https://plot.ly\";Plotly.newPlot(\"6941a590-7ab7-4c0c-b34a-254d0de2e892\", [{\"type\": \"heatmap\", \"z\": [[16, 3, 0, 0, 0], [4, 73, 3, 0, 20], [0, 7, 5, 8, 55], [0, 0, 0, 86, 10], [1, 10, 12, 14, 152]], \"x\": [\"exercise\", \"move\", \"relaxed\", \"sleep\", \"stressed\"], \"y\": [\"exercise\", \"move\", \"relaxed\", \"sleep\", \"stressed\"], \"colorscale\": \"Reds\"}], {\"title\": \"Confusion Matrix\", \"font\": {\"size\": 16, \"color\": \"#333333\"}, \"xaxis\": {\"title\": \"predicted\", \"titlefont\": {\"size\": 16, \"color\": \"#333333\"}}, \"yaxis\": {\"title\": \"true label\", \"titlefont\": {\"size\": 16, \"color\": \"#333333\"}, \"autorange\": \"reversed\"}}, {\"showLink\": true, \"linkText\": \"Export to plot.ly\"})});</script>"
      ]
     },
     "metadata": {},
     "output_type": "display_data"
    },
    {
     "name": "stdout",
     "output_type": "stream",
     "text": [
      "\n",
      "\n",
      "\n",
      "--------------------------------------------- gr_stress2 ---------------------------------------------\n",
      "gr_stress2\n",
      "exercise     80\n",
      "move        495\n",
      "relaxed     471\n",
      "sleep       524\n",
      "stressed    824\n",
      "Name: user, dtype: int64\n",
      "1915 479\n"
     ]
    },
    {
     "data": {
      "application/vnd.plotly.v1+json": {
       "data": [
        {
         "colorscale": [
          [
           0,
           "rgb(165,0,38)"
          ],
          [
           0.1111111111111111,
           "rgb(215,48,39)"
          ],
          [
           0.2222222222222222,
           "rgb(244,109,67)"
          ],
          [
           0.3333333333333333,
           "rgb(253,174,97)"
          ],
          [
           0.4444444444444444,
           "rgb(254,224,144)"
          ],
          [
           0.5555555555555556,
           "rgb(224,243,248)"
          ],
          [
           0.6666666666666666,
           "rgb(171,217,233)"
          ],
          [
           0.7777777777777778,
           "rgb(116,173,209)"
          ],
          [
           0.8888888888888888,
           "rgb(69,117,180)"
          ],
          [
           1,
           "rgb(49,54,149)"
          ]
         ],
         "type": "heatmap",
         "x": [
          "precision",
          "recall",
          "f1"
         ],
         "y": [
          "exercise",
          "move",
          "relaxed",
          "sleep",
          "stressed"
         ],
         "z": [
          [
           0.6666666666666666,
           0.7272727272727273,
           0.6956521739130435
          ],
          [
           0.6967213114754098,
           0.7798165137614679,
           0.7359307359307359
          ],
          [
           0.37254901960784315,
           0.2159090909090909,
           0.2733812949640288
          ],
          [
           0.808695652173913,
           0.8942307692307693,
           0.8493150684931506
          ],
          [
           0.6536312849162011,
           0.7005988023952096,
           0.676300578034682
          ]
         ],
         "zmax": 1,
         "zmin": 0.5
        }
       ],
       "layout": {
        "font": {
         "color": "#333333",
         "size": 16
        },
        "title": "Precision, Recall, F1-score",
        "yaxis": {
         "autorange": "reversed"
        }
       }
      },
      "text/html": [
       "<div id=\"5e5d5ddf-63b7-40f5-b6ae-d991bc58ebaf\" style=\"height: 525px; width: 100%;\" class=\"plotly-graph-div\"></div><script type=\"text/javascript\">require([\"plotly\"], function(Plotly) { window.PLOTLYENV=window.PLOTLYENV || {};window.PLOTLYENV.BASE_URL=\"https://plot.ly\";Plotly.newPlot(\"5e5d5ddf-63b7-40f5-b6ae-d991bc58ebaf\", [{\"type\": \"heatmap\", \"z\": [[0.6666666666666666, 0.7272727272727273, 0.6956521739130435], [0.6967213114754098, 0.7798165137614679, 0.7359307359307359], [0.37254901960784315, 0.2159090909090909, 0.2733812949640288], [0.808695652173913, 0.8942307692307693, 0.8493150684931506], [0.6536312849162011, 0.7005988023952096, 0.676300578034682]], \"y\": [\"exercise\", \"move\", \"relaxed\", \"sleep\", \"stressed\"], \"x\": [\"precision\", \"recall\", \"f1\"], \"colorscale\": [[0.0, \"rgb(165,0,38)\"], [0.1111111111111111, \"rgb(215,48,39)\"], [0.2222222222222222, \"rgb(244,109,67)\"], [0.3333333333333333, \"rgb(253,174,97)\"], [0.4444444444444444, \"rgb(254,224,144)\"], [0.5555555555555556, \"rgb(224,243,248)\"], [0.6666666666666666, \"rgb(171,217,233)\"], [0.7777777777777778, \"rgb(116,173,209)\"], [0.8888888888888888, \"rgb(69,117,180)\"], [1.0, \"rgb(49,54,149)\"]], \"zmin\": 0.5, \"zmax\": 1.0}], {\"title\": \"Precision, Recall, F1-score\", \"font\": {\"size\": 16, \"color\": \"#333333\"}, \"yaxis\": {\"autorange\": \"reversed\"}}, {\"showLink\": true, \"linkText\": \"Export to plot.ly\"})});</script>"
      ],
      "text/vnd.plotly.v1+html": [
       "<div id=\"5e5d5ddf-63b7-40f5-b6ae-d991bc58ebaf\" style=\"height: 525px; width: 100%;\" class=\"plotly-graph-div\"></div><script type=\"text/javascript\">require([\"plotly\"], function(Plotly) { window.PLOTLYENV=window.PLOTLYENV || {};window.PLOTLYENV.BASE_URL=\"https://plot.ly\";Plotly.newPlot(\"5e5d5ddf-63b7-40f5-b6ae-d991bc58ebaf\", [{\"type\": \"heatmap\", \"z\": [[0.6666666666666666, 0.7272727272727273, 0.6956521739130435], [0.6967213114754098, 0.7798165137614679, 0.7359307359307359], [0.37254901960784315, 0.2159090909090909, 0.2733812949640288], [0.808695652173913, 0.8942307692307693, 0.8493150684931506], [0.6536312849162011, 0.7005988023952096, 0.676300578034682]], \"y\": [\"exercise\", \"move\", \"relaxed\", \"sleep\", \"stressed\"], \"x\": [\"precision\", \"recall\", \"f1\"], \"colorscale\": [[0.0, \"rgb(165,0,38)\"], [0.1111111111111111, \"rgb(215,48,39)\"], [0.2222222222222222, \"rgb(244,109,67)\"], [0.3333333333333333, \"rgb(253,174,97)\"], [0.4444444444444444, \"rgb(254,224,144)\"], [0.5555555555555556, \"rgb(224,243,248)\"], [0.6666666666666666, \"rgb(171,217,233)\"], [0.7777777777777778, \"rgb(116,173,209)\"], [0.8888888888888888, \"rgb(69,117,180)\"], [1.0, \"rgb(49,54,149)\"]], \"zmin\": 0.5, \"zmax\": 1.0}], {\"title\": \"Precision, Recall, F1-score\", \"font\": {\"size\": 16, \"color\": \"#333333\"}, \"yaxis\": {\"autorange\": \"reversed\"}}, {\"showLink\": true, \"linkText\": \"Export to plot.ly\"})});</script>"
      ]
     },
     "metadata": {},
     "output_type": "display_data"
    },
    {
     "data": {
      "application/vnd.plotly.v1+json": {
       "data": [
        {
         "colorscale": "Reds",
         "type": "heatmap",
         "x": [
          "exercise",
          "move",
          "relaxed",
          "sleep",
          "stressed"
         ],
         "y": [
          "exercise",
          "move",
          "relaxed",
          "sleep",
          "stressed"
         ],
         "z": [
          [
           8,
           3,
           0,
           0,
           0
          ],
          [
           3,
           85,
           5,
           1,
           15
          ],
          [
           0,
           20,
           19,
           12,
           37
          ],
          [
           0,
           0,
           1,
           93,
           10
          ],
          [
           1,
           14,
           26,
           9,
           117
          ]
         ]
        }
       ],
       "layout": {
        "font": {
         "color": "#333333",
         "size": 16
        },
        "title": "Confusion Matrix",
        "xaxis": {
         "title": "predicted",
         "titlefont": {
          "color": "#333333",
          "size": 16
         }
        },
        "yaxis": {
         "autorange": "reversed",
         "title": "true label",
         "titlefont": {
          "color": "#333333",
          "size": 16
         }
        }
       }
      },
      "text/html": [
       "<div id=\"0a166c9b-7217-479f-8d6a-695d909d65d9\" style=\"height: 525px; width: 100%;\" class=\"plotly-graph-div\"></div><script type=\"text/javascript\">require([\"plotly\"], function(Plotly) { window.PLOTLYENV=window.PLOTLYENV || {};window.PLOTLYENV.BASE_URL=\"https://plot.ly\";Plotly.newPlot(\"0a166c9b-7217-479f-8d6a-695d909d65d9\", [{\"type\": \"heatmap\", \"z\": [[8, 3, 0, 0, 0], [3, 85, 5, 1, 15], [0, 20, 19, 12, 37], [0, 0, 1, 93, 10], [1, 14, 26, 9, 117]], \"x\": [\"exercise\", \"move\", \"relaxed\", \"sleep\", \"stressed\"], \"y\": [\"exercise\", \"move\", \"relaxed\", \"sleep\", \"stressed\"], \"colorscale\": \"Reds\"}], {\"title\": \"Confusion Matrix\", \"font\": {\"size\": 16, \"color\": \"#333333\"}, \"xaxis\": {\"title\": \"predicted\", \"titlefont\": {\"size\": 16, \"color\": \"#333333\"}}, \"yaxis\": {\"title\": \"true label\", \"titlefont\": {\"size\": 16, \"color\": \"#333333\"}, \"autorange\": \"reversed\"}}, {\"showLink\": true, \"linkText\": \"Export to plot.ly\"})});</script>"
      ],
      "text/vnd.plotly.v1+html": [
       "<div id=\"0a166c9b-7217-479f-8d6a-695d909d65d9\" style=\"height: 525px; width: 100%;\" class=\"plotly-graph-div\"></div><script type=\"text/javascript\">require([\"plotly\"], function(Plotly) { window.PLOTLYENV=window.PLOTLYENV || {};window.PLOTLYENV.BASE_URL=\"https://plot.ly\";Plotly.newPlot(\"0a166c9b-7217-479f-8d6a-695d909d65d9\", [{\"type\": \"heatmap\", \"z\": [[8, 3, 0, 0, 0], [3, 85, 5, 1, 15], [0, 20, 19, 12, 37], [0, 0, 1, 93, 10], [1, 14, 26, 9, 117]], \"x\": [\"exercise\", \"move\", \"relaxed\", \"sleep\", \"stressed\"], \"y\": [\"exercise\", \"move\", \"relaxed\", \"sleep\", \"stressed\"], \"colorscale\": \"Reds\"}], {\"title\": \"Confusion Matrix\", \"font\": {\"size\": 16, \"color\": \"#333333\"}, \"xaxis\": {\"title\": \"predicted\", \"titlefont\": {\"size\": 16, \"color\": \"#333333\"}}, \"yaxis\": {\"title\": \"true label\", \"titlefont\": {\"size\": 16, \"color\": \"#333333\"}, \"autorange\": \"reversed\"}}, {\"showLink\": true, \"linkText\": \"Export to plot.ly\"})});</script>"
      ]
     },
     "metadata": {},
     "output_type": "display_data"
    },
    {
     "name": "stdout",
     "output_type": "stream",
     "text": [
      "\n",
      "\n",
      "\n",
      "--------------------------------------------- gr_stress3 ---------------------------------------------\n",
      "gr_stress3\n",
      "exercise     80\n",
      "move        495\n",
      "relaxed     689\n",
      "sleep       524\n",
      "stressed    606\n",
      "Name: user, dtype: int64\n",
      "1915 479\n"
     ]
    },
    {
     "data": {
      "application/vnd.plotly.v1+json": {
       "data": [
        {
         "colorscale": [
          [
           0,
           "rgb(165,0,38)"
          ],
          [
           0.1111111111111111,
           "rgb(215,48,39)"
          ],
          [
           0.2222222222222222,
           "rgb(244,109,67)"
          ],
          [
           0.3333333333333333,
           "rgb(253,174,97)"
          ],
          [
           0.4444444444444444,
           "rgb(254,224,144)"
          ],
          [
           0.5555555555555556,
           "rgb(224,243,248)"
          ],
          [
           0.6666666666666666,
           "rgb(171,217,233)"
          ],
          [
           0.7777777777777778,
           "rgb(116,173,209)"
          ],
          [
           0.8888888888888888,
           "rgb(69,117,180)"
          ],
          [
           1,
           "rgb(49,54,149)"
          ]
         ],
         "type": "heatmap",
         "x": [
          "precision",
          "recall",
          "f1"
         ],
         "y": [
          "exercise",
          "move",
          "relaxed",
          "sleep",
          "stressed"
         ],
         "z": [
          [
           0.7368421052631579,
           0.7777777777777778,
           0.7567567567567567
          ],
          [
           0.6568627450980392,
           0.6633663366336634,
           0.6600985221674878
          ],
          [
           0.5503875968992248,
           0.4965034965034965,
           0.5220588235294118
          ],
          [
           0.8613861386138614,
           0.8613861386138614,
           0.8613861386138614
          ],
          [
           0.5078125,
           0.5603448275862069,
           0.5327868852459016
          ]
         ],
         "zmax": 1,
         "zmin": 0.5
        }
       ],
       "layout": {
        "font": {
         "color": "#333333",
         "size": 16
        },
        "title": "Precision, Recall, F1-score",
        "yaxis": {
         "autorange": "reversed"
        }
       }
      },
      "text/html": [
       "<div id=\"c68b9327-3d4d-43c6-b6bb-5b4ffce7a5ef\" style=\"height: 525px; width: 100%;\" class=\"plotly-graph-div\"></div><script type=\"text/javascript\">require([\"plotly\"], function(Plotly) { window.PLOTLYENV=window.PLOTLYENV || {};window.PLOTLYENV.BASE_URL=\"https://plot.ly\";Plotly.newPlot(\"c68b9327-3d4d-43c6-b6bb-5b4ffce7a5ef\", [{\"type\": \"heatmap\", \"z\": [[0.7368421052631579, 0.7777777777777778, 0.7567567567567567], [0.6568627450980392, 0.6633663366336634, 0.6600985221674878], [0.5503875968992248, 0.4965034965034965, 0.5220588235294118], [0.8613861386138614, 0.8613861386138614, 0.8613861386138614], [0.5078125, 0.5603448275862069, 0.5327868852459016]], \"y\": [\"exercise\", \"move\", \"relaxed\", \"sleep\", \"stressed\"], \"x\": [\"precision\", \"recall\", \"f1\"], \"colorscale\": [[0.0, \"rgb(165,0,38)\"], [0.1111111111111111, \"rgb(215,48,39)\"], [0.2222222222222222, \"rgb(244,109,67)\"], [0.3333333333333333, \"rgb(253,174,97)\"], [0.4444444444444444, \"rgb(254,224,144)\"], [0.5555555555555556, \"rgb(224,243,248)\"], [0.6666666666666666, \"rgb(171,217,233)\"], [0.7777777777777778, \"rgb(116,173,209)\"], [0.8888888888888888, \"rgb(69,117,180)\"], [1.0, \"rgb(49,54,149)\"]], \"zmin\": 0.5, \"zmax\": 1.0}], {\"title\": \"Precision, Recall, F1-score\", \"font\": {\"size\": 16, \"color\": \"#333333\"}, \"yaxis\": {\"autorange\": \"reversed\"}}, {\"showLink\": true, \"linkText\": \"Export to plot.ly\"})});</script>"
      ],
      "text/vnd.plotly.v1+html": [
       "<div id=\"c68b9327-3d4d-43c6-b6bb-5b4ffce7a5ef\" style=\"height: 525px; width: 100%;\" class=\"plotly-graph-div\"></div><script type=\"text/javascript\">require([\"plotly\"], function(Plotly) { window.PLOTLYENV=window.PLOTLYENV || {};window.PLOTLYENV.BASE_URL=\"https://plot.ly\";Plotly.newPlot(\"c68b9327-3d4d-43c6-b6bb-5b4ffce7a5ef\", [{\"type\": \"heatmap\", \"z\": [[0.7368421052631579, 0.7777777777777778, 0.7567567567567567], [0.6568627450980392, 0.6633663366336634, 0.6600985221674878], [0.5503875968992248, 0.4965034965034965, 0.5220588235294118], [0.8613861386138614, 0.8613861386138614, 0.8613861386138614], [0.5078125, 0.5603448275862069, 0.5327868852459016]], \"y\": [\"exercise\", \"move\", \"relaxed\", \"sleep\", \"stressed\"], \"x\": [\"precision\", \"recall\", \"f1\"], \"colorscale\": [[0.0, \"rgb(165,0,38)\"], [0.1111111111111111, \"rgb(215,48,39)\"], [0.2222222222222222, \"rgb(244,109,67)\"], [0.3333333333333333, \"rgb(253,174,97)\"], [0.4444444444444444, \"rgb(254,224,144)\"], [0.5555555555555556, \"rgb(224,243,248)\"], [0.6666666666666666, \"rgb(171,217,233)\"], [0.7777777777777778, \"rgb(116,173,209)\"], [0.8888888888888888, \"rgb(69,117,180)\"], [1.0, \"rgb(49,54,149)\"]], \"zmin\": 0.5, \"zmax\": 1.0}], {\"title\": \"Precision, Recall, F1-score\", \"font\": {\"size\": 16, \"color\": \"#333333\"}, \"yaxis\": {\"autorange\": \"reversed\"}}, {\"showLink\": true, \"linkText\": \"Export to plot.ly\"})});</script>"
      ]
     },
     "metadata": {},
     "output_type": "display_data"
    },
    {
     "data": {
      "application/vnd.plotly.v1+json": {
       "data": [
        {
         "colorscale": "Reds",
         "type": "heatmap",
         "x": [
          "exercise",
          "move",
          "relaxed",
          "sleep",
          "stressed"
         ],
         "y": [
          "exercise",
          "move",
          "relaxed",
          "sleep",
          "stressed"
         ],
         "z": [
          [
           14,
           4,
           0,
           0,
           0
          ],
          [
           4,
           67,
           18,
           0,
           12
          ],
          [
           1,
           22,
           71,
           9,
           40
          ],
          [
           0,
           0,
           3,
           87,
           11
          ],
          [
           0,
           9,
           37,
           5,
           65
          ]
         ]
        }
       ],
       "layout": {
        "font": {
         "color": "#333333",
         "size": 16
        },
        "title": "Confusion Matrix",
        "xaxis": {
         "title": "predicted",
         "titlefont": {
          "color": "#333333",
          "size": 16
         }
        },
        "yaxis": {
         "autorange": "reversed",
         "title": "true label",
         "titlefont": {
          "color": "#333333",
          "size": 16
         }
        }
       }
      },
      "text/html": [
       "<div id=\"9ab67e45-e9e1-45c2-ab37-169918b6ee50\" style=\"height: 525px; width: 100%;\" class=\"plotly-graph-div\"></div><script type=\"text/javascript\">require([\"plotly\"], function(Plotly) { window.PLOTLYENV=window.PLOTLYENV || {};window.PLOTLYENV.BASE_URL=\"https://plot.ly\";Plotly.newPlot(\"9ab67e45-e9e1-45c2-ab37-169918b6ee50\", [{\"type\": \"heatmap\", \"z\": [[14, 4, 0, 0, 0], [4, 67, 18, 0, 12], [1, 22, 71, 9, 40], [0, 0, 3, 87, 11], [0, 9, 37, 5, 65]], \"x\": [\"exercise\", \"move\", \"relaxed\", \"sleep\", \"stressed\"], \"y\": [\"exercise\", \"move\", \"relaxed\", \"sleep\", \"stressed\"], \"colorscale\": \"Reds\"}], {\"title\": \"Confusion Matrix\", \"font\": {\"size\": 16, \"color\": \"#333333\"}, \"xaxis\": {\"title\": \"predicted\", \"titlefont\": {\"size\": 16, \"color\": \"#333333\"}}, \"yaxis\": {\"title\": \"true label\", \"titlefont\": {\"size\": 16, \"color\": \"#333333\"}, \"autorange\": \"reversed\"}}, {\"showLink\": true, \"linkText\": \"Export to plot.ly\"})});</script>"
      ],
      "text/vnd.plotly.v1+html": [
       "<div id=\"9ab67e45-e9e1-45c2-ab37-169918b6ee50\" style=\"height: 525px; width: 100%;\" class=\"plotly-graph-div\"></div><script type=\"text/javascript\">require([\"plotly\"], function(Plotly) { window.PLOTLYENV=window.PLOTLYENV || {};window.PLOTLYENV.BASE_URL=\"https://plot.ly\";Plotly.newPlot(\"9ab67e45-e9e1-45c2-ab37-169918b6ee50\", [{\"type\": \"heatmap\", \"z\": [[14, 4, 0, 0, 0], [4, 67, 18, 0, 12], [1, 22, 71, 9, 40], [0, 0, 3, 87, 11], [0, 9, 37, 5, 65]], \"x\": [\"exercise\", \"move\", \"relaxed\", \"sleep\", \"stressed\"], \"y\": [\"exercise\", \"move\", \"relaxed\", \"sleep\", \"stressed\"], \"colorscale\": \"Reds\"}], {\"title\": \"Confusion Matrix\", \"font\": {\"size\": 16, \"color\": \"#333333\"}, \"xaxis\": {\"title\": \"predicted\", \"titlefont\": {\"size\": 16, \"color\": \"#333333\"}}, \"yaxis\": {\"title\": \"true label\", \"titlefont\": {\"size\": 16, \"color\": \"#333333\"}, \"autorange\": \"reversed\"}}, {\"showLink\": true, \"linkText\": \"Export to plot.ly\"})});</script>"
      ]
     },
     "metadata": {},
     "output_type": "display_data"
    }
   ],
   "source": [
    "#for label in ['gr_active', 'gr_focus1', 'gr_focus2', 'gr_stress1', 'gr_stress2', 'gr_stress3']:\n",
    "for label in ['activity', 'gr_main3', 'gr_main4', 'gr_stress1', 'gr_stress2', 'gr_stress3']:\n",
    "    cmc.plot_matrices(df, clf, features, label)"
   ]
  },
  {
   "cell_type": "markdown",
   "metadata": {},
   "source": [
    "## Intrauser classification for user 0"
   ]
  },
  {
   "cell_type": "code",
   "execution_count": 14,
   "metadata": {
    "scrolled": false
   },
   "outputs": [
    {
     "name": "stdout",
     "output_type": "stream",
     "text": [
      "\n",
      "\n",
      "\n",
      "--------------------------------------------- activity ---------------------------------------------\n",
      "activity\n",
      "eat                 12\n",
      "exercise            61\n",
      "focused-active     261\n",
      "focused-passive    106\n",
      "leisure             66\n",
      "movement           347\n",
      "rest-active         28\n",
      "rest-passive       123\n",
      "sleep              357\n",
      "Name: user, dtype: int64\n",
      "1088 273\n"
     ]
    },
    {
     "name": "stderr",
     "output_type": "stream",
     "text": [
      "C:\\Users\\Ju\\Anaconda3\\lib\\site-packages\\sklearn\\metrics\\classification.py:1135: UndefinedMetricWarning:\n",
      "\n",
      "Precision and F-score are ill-defined and being set to 0.0 in labels with no predicted samples.\n",
      "\n"
     ]
    },
    {
     "data": {
      "application/vnd.plotly.v1+json": {
       "data": [
        {
         "colorscale": [
          [
           0,
           "rgb(165,0,38)"
          ],
          [
           0.1111111111111111,
           "rgb(215,48,39)"
          ],
          [
           0.2222222222222222,
           "rgb(244,109,67)"
          ],
          [
           0.3333333333333333,
           "rgb(253,174,97)"
          ],
          [
           0.4444444444444444,
           "rgb(254,224,144)"
          ],
          [
           0.5555555555555556,
           "rgb(224,243,248)"
          ],
          [
           0.6666666666666666,
           "rgb(171,217,233)"
          ],
          [
           0.7777777777777778,
           "rgb(116,173,209)"
          ],
          [
           0.8888888888888888,
           "rgb(69,117,180)"
          ],
          [
           1,
           "rgb(49,54,149)"
          ]
         ],
         "type": "heatmap",
         "x": [
          "precision",
          "recall",
          "f1"
         ],
         "y": [
          "eat",
          "exercise",
          "focused-active",
          "focused-passive",
          "leisure",
          "movement",
          "rest-active",
          "rest-passive",
          "sleep"
         ],
         "z": [
          [
           0,
           0,
           0
          ],
          [
           0.75,
           0.8181818181818182,
           0.7826086956521738
          ],
          [
           0.4358974358974359,
           0.68,
           0.53125
          ],
          [
           0.5,
           0.25,
           0.3333333333333333
          ],
          [
           0.5,
           0.21428571428571427,
           0.3
          ],
          [
           0.6705882352941176,
           0.8028169014084507,
           0.7307692307692307
          ],
          [
           0,
           0,
           0
          ],
          [
           0,
           0,
           0
          ],
          [
           0.8243243243243243,
           0.8591549295774648,
           0.8413793103448276
          ]
         ],
         "zmax": 1,
         "zmin": 0.5
        }
       ],
       "layout": {
        "font": {
         "color": "#333333",
         "size": 16
        },
        "title": "Precision, Recall, F1-score",
        "yaxis": {
         "autorange": "reversed"
        }
       }
      },
      "text/html": [
       "<div id=\"f5015c85-1f57-4234-8b11-b963ffd813a5\" style=\"height: 525px; width: 100%;\" class=\"plotly-graph-div\"></div><script type=\"text/javascript\">require([\"plotly\"], function(Plotly) { window.PLOTLYENV=window.PLOTLYENV || {};window.PLOTLYENV.BASE_URL=\"https://plot.ly\";Plotly.newPlot(\"f5015c85-1f57-4234-8b11-b963ffd813a5\", [{\"type\": \"heatmap\", \"z\": [[0.0, 0.0, 0.0], [0.75, 0.8181818181818182, 0.7826086956521738], [0.4358974358974359, 0.68, 0.53125], [0.5, 0.25, 0.3333333333333333], [0.5, 0.21428571428571427, 0.3], [0.6705882352941176, 0.8028169014084507, 0.7307692307692307], [0.0, 0.0, 0.0], [0.0, 0.0, 0.0], [0.8243243243243243, 0.8591549295774648, 0.8413793103448276]], \"y\": [\"eat\", \"exercise\", \"focused-active\", \"focused-passive\", \"leisure\", \"movement\", \"rest-active\", \"rest-passive\", \"sleep\"], \"x\": [\"precision\", \"recall\", \"f1\"], \"colorscale\": [[0.0, \"rgb(165,0,38)\"], [0.1111111111111111, \"rgb(215,48,39)\"], [0.2222222222222222, \"rgb(244,109,67)\"], [0.3333333333333333, \"rgb(253,174,97)\"], [0.4444444444444444, \"rgb(254,224,144)\"], [0.5555555555555556, \"rgb(224,243,248)\"], [0.6666666666666666, \"rgb(171,217,233)\"], [0.7777777777777778, \"rgb(116,173,209)\"], [0.8888888888888888, \"rgb(69,117,180)\"], [1.0, \"rgb(49,54,149)\"]], \"zmin\": 0.5, \"zmax\": 1.0}], {\"title\": \"Precision, Recall, F1-score\", \"font\": {\"size\": 16, \"color\": \"#333333\"}, \"yaxis\": {\"autorange\": \"reversed\"}}, {\"showLink\": true, \"linkText\": \"Export to plot.ly\"})});</script>"
      ],
      "text/vnd.plotly.v1+html": [
       "<div id=\"f5015c85-1f57-4234-8b11-b963ffd813a5\" style=\"height: 525px; width: 100%;\" class=\"plotly-graph-div\"></div><script type=\"text/javascript\">require([\"plotly\"], function(Plotly) { window.PLOTLYENV=window.PLOTLYENV || {};window.PLOTLYENV.BASE_URL=\"https://plot.ly\";Plotly.newPlot(\"f5015c85-1f57-4234-8b11-b963ffd813a5\", [{\"type\": \"heatmap\", \"z\": [[0.0, 0.0, 0.0], [0.75, 0.8181818181818182, 0.7826086956521738], [0.4358974358974359, 0.68, 0.53125], [0.5, 0.25, 0.3333333333333333], [0.5, 0.21428571428571427, 0.3], [0.6705882352941176, 0.8028169014084507, 0.7307692307692307], [0.0, 0.0, 0.0], [0.0, 0.0, 0.0], [0.8243243243243243, 0.8591549295774648, 0.8413793103448276]], \"y\": [\"eat\", \"exercise\", \"focused-active\", \"focused-passive\", \"leisure\", \"movement\", \"rest-active\", \"rest-passive\", \"sleep\"], \"x\": [\"precision\", \"recall\", \"f1\"], \"colorscale\": [[0.0, \"rgb(165,0,38)\"], [0.1111111111111111, \"rgb(215,48,39)\"], [0.2222222222222222, \"rgb(244,109,67)\"], [0.3333333333333333, \"rgb(253,174,97)\"], [0.4444444444444444, \"rgb(254,224,144)\"], [0.5555555555555556, \"rgb(224,243,248)\"], [0.6666666666666666, \"rgb(171,217,233)\"], [0.7777777777777778, \"rgb(116,173,209)\"], [0.8888888888888888, \"rgb(69,117,180)\"], [1.0, \"rgb(49,54,149)\"]], \"zmin\": 0.5, \"zmax\": 1.0}], {\"title\": \"Precision, Recall, F1-score\", \"font\": {\"size\": 16, \"color\": \"#333333\"}, \"yaxis\": {\"autorange\": \"reversed\"}}, {\"showLink\": true, \"linkText\": \"Export to plot.ly\"})});</script>"
      ]
     },
     "metadata": {},
     "output_type": "display_data"
    },
    {
     "data": {
      "application/vnd.plotly.v1+json": {
       "data": [
        {
         "colorscale": "Reds",
         "type": "heatmap",
         "x": [
          "eat",
          "exercise",
          "focused-active",
          "focused-passive",
          "leisure",
          "movement",
          "rest-active",
          "rest-passive",
          "sleep"
         ],
         "y": [
          "eat",
          "exercise",
          "focused-active",
          "focused-passive",
          "leisure",
          "movement",
          "rest-active",
          "rest-passive",
          "sleep"
         ],
         "z": [
          [
           0,
           0,
           0,
           0,
           0,
           2,
           0,
           0,
           0
          ],
          [
           0,
           9,
           0,
           0,
           0,
           2,
           0,
           0,
           0
          ],
          [
           0,
           0,
           34,
           4,
           1,
           6,
           0,
           2,
           3
          ],
          [
           0,
           0,
           10,
           6,
           1,
           2,
           0,
           1,
           4
          ],
          [
           0,
           0,
           9,
           0,
           3,
           2,
           0,
           0,
           0
          ],
          [
           0,
           3,
           8,
           1,
           0,
           57,
           0,
           2,
           0
          ],
          [
           0,
           0,
           4,
           1,
           1,
           4,
           0,
           0,
           1
          ],
          [
           1,
           0,
           6,
           0,
           0,
           7,
           0,
           0,
           5
          ],
          [
           0,
           0,
           7,
           0,
           0,
           3,
           0,
           0,
           61
          ]
         ]
        }
       ],
       "layout": {
        "font": {
         "color": "#333333",
         "size": 16
        },
        "title": "Confusion Matrix",
        "xaxis": {
         "title": "predicted",
         "titlefont": {
          "color": "#333333",
          "size": 16
         }
        },
        "yaxis": {
         "autorange": "reversed",
         "title": "true label",
         "titlefont": {
          "color": "#333333",
          "size": 16
         }
        }
       }
      },
      "text/html": [
       "<div id=\"5219637f-9e88-4bde-8320-c58cc9268f59\" style=\"height: 525px; width: 100%;\" class=\"plotly-graph-div\"></div><script type=\"text/javascript\">require([\"plotly\"], function(Plotly) { window.PLOTLYENV=window.PLOTLYENV || {};window.PLOTLYENV.BASE_URL=\"https://plot.ly\";Plotly.newPlot(\"5219637f-9e88-4bde-8320-c58cc9268f59\", [{\"type\": \"heatmap\", \"z\": [[0, 0, 0, 0, 0, 2, 0, 0, 0], [0, 9, 0, 0, 0, 2, 0, 0, 0], [0, 0, 34, 4, 1, 6, 0, 2, 3], [0, 0, 10, 6, 1, 2, 0, 1, 4], [0, 0, 9, 0, 3, 2, 0, 0, 0], [0, 3, 8, 1, 0, 57, 0, 2, 0], [0, 0, 4, 1, 1, 4, 0, 0, 1], [1, 0, 6, 0, 0, 7, 0, 0, 5], [0, 0, 7, 0, 0, 3, 0, 0, 61]], \"x\": [\"eat\", \"exercise\", \"focused-active\", \"focused-passive\", \"leisure\", \"movement\", \"rest-active\", \"rest-passive\", \"sleep\"], \"y\": [\"eat\", \"exercise\", \"focused-active\", \"focused-passive\", \"leisure\", \"movement\", \"rest-active\", \"rest-passive\", \"sleep\"], \"colorscale\": \"Reds\"}], {\"title\": \"Confusion Matrix\", \"font\": {\"size\": 16, \"color\": \"#333333\"}, \"xaxis\": {\"title\": \"predicted\", \"titlefont\": {\"size\": 16, \"color\": \"#333333\"}}, \"yaxis\": {\"title\": \"true label\", \"titlefont\": {\"size\": 16, \"color\": \"#333333\"}, \"autorange\": \"reversed\"}}, {\"showLink\": true, \"linkText\": \"Export to plot.ly\"})});</script>"
      ],
      "text/vnd.plotly.v1+html": [
       "<div id=\"5219637f-9e88-4bde-8320-c58cc9268f59\" style=\"height: 525px; width: 100%;\" class=\"plotly-graph-div\"></div><script type=\"text/javascript\">require([\"plotly\"], function(Plotly) { window.PLOTLYENV=window.PLOTLYENV || {};window.PLOTLYENV.BASE_URL=\"https://plot.ly\";Plotly.newPlot(\"5219637f-9e88-4bde-8320-c58cc9268f59\", [{\"type\": \"heatmap\", \"z\": [[0, 0, 0, 0, 0, 2, 0, 0, 0], [0, 9, 0, 0, 0, 2, 0, 0, 0], [0, 0, 34, 4, 1, 6, 0, 2, 3], [0, 0, 10, 6, 1, 2, 0, 1, 4], [0, 0, 9, 0, 3, 2, 0, 0, 0], [0, 3, 8, 1, 0, 57, 0, 2, 0], [0, 0, 4, 1, 1, 4, 0, 0, 1], [1, 0, 6, 0, 0, 7, 0, 0, 5], [0, 0, 7, 0, 0, 3, 0, 0, 61]], \"x\": [\"eat\", \"exercise\", \"focused-active\", \"focused-passive\", \"leisure\", \"movement\", \"rest-active\", \"rest-passive\", \"sleep\"], \"y\": [\"eat\", \"exercise\", \"focused-active\", \"focused-passive\", \"leisure\", \"movement\", \"rest-active\", \"rest-passive\", \"sleep\"], \"colorscale\": \"Reds\"}], {\"title\": \"Confusion Matrix\", \"font\": {\"size\": 16, \"color\": \"#333333\"}, \"xaxis\": {\"title\": \"predicted\", \"titlefont\": {\"size\": 16, \"color\": \"#333333\"}}, \"yaxis\": {\"title\": \"true label\", \"titlefont\": {\"size\": 16, \"color\": \"#333333\"}, \"autorange\": \"reversed\"}}, {\"showLink\": true, \"linkText\": \"Export to plot.ly\"})});</script>"
      ]
     },
     "metadata": {},
     "output_type": "display_data"
    },
    {
     "name": "stdout",
     "output_type": "stream",
     "text": [
      "\n",
      "\n",
      "\n",
      "--------------------------------------------- gr_main3 ---------------------------------------------\n",
      "gr_main3\n",
      "move     408\n",
      "sleep    357\n",
      "still    596\n",
      "Name: user, dtype: int64\n",
      "1088 273\n"
     ]
    },
    {
     "data": {
      "application/vnd.plotly.v1+json": {
       "data": [
        {
         "colorscale": [
          [
           0,
           "rgb(165,0,38)"
          ],
          [
           0.1111111111111111,
           "rgb(215,48,39)"
          ],
          [
           0.2222222222222222,
           "rgb(244,109,67)"
          ],
          [
           0.3333333333333333,
           "rgb(253,174,97)"
          ],
          [
           0.4444444444444444,
           "rgb(254,224,144)"
          ],
          [
           0.5555555555555556,
           "rgb(224,243,248)"
          ],
          [
           0.6666666666666666,
           "rgb(171,217,233)"
          ],
          [
           0.7777777777777778,
           "rgb(116,173,209)"
          ],
          [
           0.8888888888888888,
           "rgb(69,117,180)"
          ],
          [
           1,
           "rgb(49,54,149)"
          ]
         ],
         "type": "heatmap",
         "x": [
          "precision",
          "recall",
          "f1"
         ],
         "y": [
          "move",
          "sleep",
          "still"
         ],
         "z": [
          [
           0.8210526315789474,
           0.8210526315789474,
           0.8210526315789475
          ],
          [
           0.9166666666666666,
           0.873015873015873,
           0.894308943089431
          ],
          [
           0.788135593220339,
           0.808695652173913,
           0.7982832618025751
          ]
         ],
         "zmax": 1,
         "zmin": 0.5
        }
       ],
       "layout": {
        "font": {
         "color": "#333333",
         "size": 16
        },
        "title": "Precision, Recall, F1-score",
        "yaxis": {
         "autorange": "reversed"
        }
       }
      },
      "text/html": [
       "<div id=\"0bde4935-b5ff-47bc-a9f9-49433fca13ed\" style=\"height: 525px; width: 100%;\" class=\"plotly-graph-div\"></div><script type=\"text/javascript\">require([\"plotly\"], function(Plotly) { window.PLOTLYENV=window.PLOTLYENV || {};window.PLOTLYENV.BASE_URL=\"https://plot.ly\";Plotly.newPlot(\"0bde4935-b5ff-47bc-a9f9-49433fca13ed\", [{\"type\": \"heatmap\", \"z\": [[0.8210526315789474, 0.8210526315789474, 0.8210526315789475], [0.9166666666666666, 0.873015873015873, 0.894308943089431], [0.788135593220339, 0.808695652173913, 0.7982832618025751]], \"y\": [\"move\", \"sleep\", \"still\"], \"x\": [\"precision\", \"recall\", \"f1\"], \"colorscale\": [[0.0, \"rgb(165,0,38)\"], [0.1111111111111111, \"rgb(215,48,39)\"], [0.2222222222222222, \"rgb(244,109,67)\"], [0.3333333333333333, \"rgb(253,174,97)\"], [0.4444444444444444, \"rgb(254,224,144)\"], [0.5555555555555556, \"rgb(224,243,248)\"], [0.6666666666666666, \"rgb(171,217,233)\"], [0.7777777777777778, \"rgb(116,173,209)\"], [0.8888888888888888, \"rgb(69,117,180)\"], [1.0, \"rgb(49,54,149)\"]], \"zmin\": 0.5, \"zmax\": 1.0}], {\"title\": \"Precision, Recall, F1-score\", \"font\": {\"size\": 16, \"color\": \"#333333\"}, \"yaxis\": {\"autorange\": \"reversed\"}}, {\"showLink\": true, \"linkText\": \"Export to plot.ly\"})});</script>"
      ],
      "text/vnd.plotly.v1+html": [
       "<div id=\"0bde4935-b5ff-47bc-a9f9-49433fca13ed\" style=\"height: 525px; width: 100%;\" class=\"plotly-graph-div\"></div><script type=\"text/javascript\">require([\"plotly\"], function(Plotly) { window.PLOTLYENV=window.PLOTLYENV || {};window.PLOTLYENV.BASE_URL=\"https://plot.ly\";Plotly.newPlot(\"0bde4935-b5ff-47bc-a9f9-49433fca13ed\", [{\"type\": \"heatmap\", \"z\": [[0.8210526315789474, 0.8210526315789474, 0.8210526315789475], [0.9166666666666666, 0.873015873015873, 0.894308943089431], [0.788135593220339, 0.808695652173913, 0.7982832618025751]], \"y\": [\"move\", \"sleep\", \"still\"], \"x\": [\"precision\", \"recall\", \"f1\"], \"colorscale\": [[0.0, \"rgb(165,0,38)\"], [0.1111111111111111, \"rgb(215,48,39)\"], [0.2222222222222222, \"rgb(244,109,67)\"], [0.3333333333333333, \"rgb(253,174,97)\"], [0.4444444444444444, \"rgb(254,224,144)\"], [0.5555555555555556, \"rgb(224,243,248)\"], [0.6666666666666666, \"rgb(171,217,233)\"], [0.7777777777777778, \"rgb(116,173,209)\"], [0.8888888888888888, \"rgb(69,117,180)\"], [1.0, \"rgb(49,54,149)\"]], \"zmin\": 0.5, \"zmax\": 1.0}], {\"title\": \"Precision, Recall, F1-score\", \"font\": {\"size\": 16, \"color\": \"#333333\"}, \"yaxis\": {\"autorange\": \"reversed\"}}, {\"showLink\": true, \"linkText\": \"Export to plot.ly\"})});</script>"
      ]
     },
     "metadata": {},
     "output_type": "display_data"
    },
    {
     "data": {
      "application/vnd.plotly.v1+json": {
       "data": [
        {
         "colorscale": "Reds",
         "type": "heatmap",
         "x": [
          "move",
          "sleep",
          "still"
         ],
         "y": [
          "move",
          "sleep",
          "still"
         ],
         "z": [
          [
           78,
           0,
           17
          ],
          [
           0,
           55,
           8
          ],
          [
           17,
           5,
           93
          ]
         ]
        }
       ],
       "layout": {
        "font": {
         "color": "#333333",
         "size": 16
        },
        "title": "Confusion Matrix",
        "xaxis": {
         "title": "predicted",
         "titlefont": {
          "color": "#333333",
          "size": 16
         }
        },
        "yaxis": {
         "autorange": "reversed",
         "title": "true label",
         "titlefont": {
          "color": "#333333",
          "size": 16
         }
        }
       }
      },
      "text/html": [
       "<div id=\"4d948911-e8de-4f79-b47a-f5c94d993e10\" style=\"height: 525px; width: 100%;\" class=\"plotly-graph-div\"></div><script type=\"text/javascript\">require([\"plotly\"], function(Plotly) { window.PLOTLYENV=window.PLOTLYENV || {};window.PLOTLYENV.BASE_URL=\"https://plot.ly\";Plotly.newPlot(\"4d948911-e8de-4f79-b47a-f5c94d993e10\", [{\"type\": \"heatmap\", \"z\": [[78, 0, 17], [0, 55, 8], [17, 5, 93]], \"x\": [\"move\", \"sleep\", \"still\"], \"y\": [\"move\", \"sleep\", \"still\"], \"colorscale\": \"Reds\"}], {\"title\": \"Confusion Matrix\", \"font\": {\"size\": 16, \"color\": \"#333333\"}, \"xaxis\": {\"title\": \"predicted\", \"titlefont\": {\"size\": 16, \"color\": \"#333333\"}}, \"yaxis\": {\"title\": \"true label\", \"titlefont\": {\"size\": 16, \"color\": \"#333333\"}, \"autorange\": \"reversed\"}}, {\"showLink\": true, \"linkText\": \"Export to plot.ly\"})});</script>"
      ],
      "text/vnd.plotly.v1+html": [
       "<div id=\"4d948911-e8de-4f79-b47a-f5c94d993e10\" style=\"height: 525px; width: 100%;\" class=\"plotly-graph-div\"></div><script type=\"text/javascript\">require([\"plotly\"], function(Plotly) { window.PLOTLYENV=window.PLOTLYENV || {};window.PLOTLYENV.BASE_URL=\"https://plot.ly\";Plotly.newPlot(\"4d948911-e8de-4f79-b47a-f5c94d993e10\", [{\"type\": \"heatmap\", \"z\": [[78, 0, 17], [0, 55, 8], [17, 5, 93]], \"x\": [\"move\", \"sleep\", \"still\"], \"y\": [\"move\", \"sleep\", \"still\"], \"colorscale\": \"Reds\"}], {\"title\": \"Confusion Matrix\", \"font\": {\"size\": 16, \"color\": \"#333333\"}, \"xaxis\": {\"title\": \"predicted\", \"titlefont\": {\"size\": 16, \"color\": \"#333333\"}}, \"yaxis\": {\"title\": \"true label\", \"titlefont\": {\"size\": 16, \"color\": \"#333333\"}, \"autorange\": \"reversed\"}}, {\"showLink\": true, \"linkText\": \"Export to plot.ly\"})});</script>"
      ]
     },
     "metadata": {},
     "output_type": "display_data"
    },
    {
     "name": "stdout",
     "output_type": "stream",
     "text": [
      "\n",
      "\n",
      "\n",
      "--------------------------------------------- gr_main4 ---------------------------------------------\n",
      "gr_main4\n",
      "exercise     61\n",
      "move        347\n",
      "sleep       357\n",
      "still       596\n",
      "Name: user, dtype: int64\n",
      "1088 273\n"
     ]
    },
    {
     "data": {
      "application/vnd.plotly.v1+json": {
       "data": [
        {
         "colorscale": [
          [
           0,
           "rgb(165,0,38)"
          ],
          [
           0.1111111111111111,
           "rgb(215,48,39)"
          ],
          [
           0.2222222222222222,
           "rgb(244,109,67)"
          ],
          [
           0.3333333333333333,
           "rgb(253,174,97)"
          ],
          [
           0.4444444444444444,
           "rgb(254,224,144)"
          ],
          [
           0.5555555555555556,
           "rgb(224,243,248)"
          ],
          [
           0.6666666666666666,
           "rgb(171,217,233)"
          ],
          [
           0.7777777777777778,
           "rgb(116,173,209)"
          ],
          [
           0.8888888888888888,
           "rgb(69,117,180)"
          ],
          [
           1,
           "rgb(49,54,149)"
          ]
         ],
         "type": "heatmap",
         "x": [
          "precision",
          "recall",
          "f1"
         ],
         "y": [
          "exercise",
          "move",
          "sleep",
          "still"
         ],
         "z": [
          [
           0.6666666666666666,
           0.7692307692307693,
           0.7142857142857142
          ],
          [
           0.6491228070175439,
           0.6607142857142857,
           0.6548672566371682
          ],
          [
           0.9305555555555556,
           0.881578947368421,
           0.9054054054054054
          ],
          [
           0.8217054263565892,
           0.828125,
           0.8249027237354085
          ]
         ],
         "zmax": 1,
         "zmin": 0.5
        }
       ],
       "layout": {
        "font": {
         "color": "#333333",
         "size": 16
        },
        "title": "Precision, Recall, F1-score",
        "yaxis": {
         "autorange": "reversed"
        }
       }
      },
      "text/html": [
       "<div id=\"2c0dce19-f5c6-4c88-9f8b-6f28fc825ec6\" style=\"height: 525px; width: 100%;\" class=\"plotly-graph-div\"></div><script type=\"text/javascript\">require([\"plotly\"], function(Plotly) { window.PLOTLYENV=window.PLOTLYENV || {};window.PLOTLYENV.BASE_URL=\"https://plot.ly\";Plotly.newPlot(\"2c0dce19-f5c6-4c88-9f8b-6f28fc825ec6\", [{\"type\": \"heatmap\", \"z\": [[0.6666666666666666, 0.7692307692307693, 0.7142857142857142], [0.6491228070175439, 0.6607142857142857, 0.6548672566371682], [0.9305555555555556, 0.881578947368421, 0.9054054054054054], [0.8217054263565892, 0.828125, 0.8249027237354085]], \"y\": [\"exercise\", \"move\", \"sleep\", \"still\"], \"x\": [\"precision\", \"recall\", \"f1\"], \"colorscale\": [[0.0, \"rgb(165,0,38)\"], [0.1111111111111111, \"rgb(215,48,39)\"], [0.2222222222222222, \"rgb(244,109,67)\"], [0.3333333333333333, \"rgb(253,174,97)\"], [0.4444444444444444, \"rgb(254,224,144)\"], [0.5555555555555556, \"rgb(224,243,248)\"], [0.6666666666666666, \"rgb(171,217,233)\"], [0.7777777777777778, \"rgb(116,173,209)\"], [0.8888888888888888, \"rgb(69,117,180)\"], [1.0, \"rgb(49,54,149)\"]], \"zmin\": 0.5, \"zmax\": 1.0}], {\"title\": \"Precision, Recall, F1-score\", \"font\": {\"size\": 16, \"color\": \"#333333\"}, \"yaxis\": {\"autorange\": \"reversed\"}}, {\"showLink\": true, \"linkText\": \"Export to plot.ly\"})});</script>"
      ],
      "text/vnd.plotly.v1+html": [
       "<div id=\"2c0dce19-f5c6-4c88-9f8b-6f28fc825ec6\" style=\"height: 525px; width: 100%;\" class=\"plotly-graph-div\"></div><script type=\"text/javascript\">require([\"plotly\"], function(Plotly) { window.PLOTLYENV=window.PLOTLYENV || {};window.PLOTLYENV.BASE_URL=\"https://plot.ly\";Plotly.newPlot(\"2c0dce19-f5c6-4c88-9f8b-6f28fc825ec6\", [{\"type\": \"heatmap\", \"z\": [[0.6666666666666666, 0.7692307692307693, 0.7142857142857142], [0.6491228070175439, 0.6607142857142857, 0.6548672566371682], [0.9305555555555556, 0.881578947368421, 0.9054054054054054], [0.8217054263565892, 0.828125, 0.8249027237354085]], \"y\": [\"exercise\", \"move\", \"sleep\", \"still\"], \"x\": [\"precision\", \"recall\", \"f1\"], \"colorscale\": [[0.0, \"rgb(165,0,38)\"], [0.1111111111111111, \"rgb(215,48,39)\"], [0.2222222222222222, \"rgb(244,109,67)\"], [0.3333333333333333, \"rgb(253,174,97)\"], [0.4444444444444444, \"rgb(254,224,144)\"], [0.5555555555555556, \"rgb(224,243,248)\"], [0.6666666666666666, \"rgb(171,217,233)\"], [0.7777777777777778, \"rgb(116,173,209)\"], [0.8888888888888888, \"rgb(69,117,180)\"], [1.0, \"rgb(49,54,149)\"]], \"zmin\": 0.5, \"zmax\": 1.0}], {\"title\": \"Precision, Recall, F1-score\", \"font\": {\"size\": 16, \"color\": \"#333333\"}, \"yaxis\": {\"autorange\": \"reversed\"}}, {\"showLink\": true, \"linkText\": \"Export to plot.ly\"})});</script>"
      ]
     },
     "metadata": {},
     "output_type": "display_data"
    },
    {
     "data": {
      "application/vnd.plotly.v1+json": {
       "data": [
        {
         "colorscale": "Reds",
         "type": "heatmap",
         "x": [
          "exercise",
          "move",
          "sleep",
          "still"
         ],
         "y": [
          "exercise",
          "move",
          "sleep",
          "still"
         ],
         "z": [
          [
           10,
           3,
           0,
           0
          ],
          [
           5,
           37,
           0,
           14
          ],
          [
           0,
           0,
           67,
           9
          ],
          [
           0,
           17,
           5,
           106
          ]
         ]
        }
       ],
       "layout": {
        "font": {
         "color": "#333333",
         "size": 16
        },
        "title": "Confusion Matrix",
        "xaxis": {
         "title": "predicted",
         "titlefont": {
          "color": "#333333",
          "size": 16
         }
        },
        "yaxis": {
         "autorange": "reversed",
         "title": "true label",
         "titlefont": {
          "color": "#333333",
          "size": 16
         }
        }
       }
      },
      "text/html": [
       "<div id=\"15fb63c1-781c-48af-839a-e48d42aa827e\" style=\"height: 525px; width: 100%;\" class=\"plotly-graph-div\"></div><script type=\"text/javascript\">require([\"plotly\"], function(Plotly) { window.PLOTLYENV=window.PLOTLYENV || {};window.PLOTLYENV.BASE_URL=\"https://plot.ly\";Plotly.newPlot(\"15fb63c1-781c-48af-839a-e48d42aa827e\", [{\"type\": \"heatmap\", \"z\": [[10, 3, 0, 0], [5, 37, 0, 14], [0, 0, 67, 9], [0, 17, 5, 106]], \"x\": [\"exercise\", \"move\", \"sleep\", \"still\"], \"y\": [\"exercise\", \"move\", \"sleep\", \"still\"], \"colorscale\": \"Reds\"}], {\"title\": \"Confusion Matrix\", \"font\": {\"size\": 16, \"color\": \"#333333\"}, \"xaxis\": {\"title\": \"predicted\", \"titlefont\": {\"size\": 16, \"color\": \"#333333\"}}, \"yaxis\": {\"title\": \"true label\", \"titlefont\": {\"size\": 16, \"color\": \"#333333\"}, \"autorange\": \"reversed\"}}, {\"showLink\": true, \"linkText\": \"Export to plot.ly\"})});</script>"
      ],
      "text/vnd.plotly.v1+html": [
       "<div id=\"15fb63c1-781c-48af-839a-e48d42aa827e\" style=\"height: 525px; width: 100%;\" class=\"plotly-graph-div\"></div><script type=\"text/javascript\">require([\"plotly\"], function(Plotly) { window.PLOTLYENV=window.PLOTLYENV || {};window.PLOTLYENV.BASE_URL=\"https://plot.ly\";Plotly.newPlot(\"15fb63c1-781c-48af-839a-e48d42aa827e\", [{\"type\": \"heatmap\", \"z\": [[10, 3, 0, 0], [5, 37, 0, 14], [0, 0, 67, 9], [0, 17, 5, 106]], \"x\": [\"exercise\", \"move\", \"sleep\", \"still\"], \"y\": [\"exercise\", \"move\", \"sleep\", \"still\"], \"colorscale\": \"Reds\"}], {\"title\": \"Confusion Matrix\", \"font\": {\"size\": 16, \"color\": \"#333333\"}, \"xaxis\": {\"title\": \"predicted\", \"titlefont\": {\"size\": 16, \"color\": \"#333333\"}}, \"yaxis\": {\"title\": \"true label\", \"titlefont\": {\"size\": 16, \"color\": \"#333333\"}, \"autorange\": \"reversed\"}}, {\"showLink\": true, \"linkText\": \"Export to plot.ly\"})});</script>"
      ]
     },
     "metadata": {},
     "output_type": "display_data"
    },
    {
     "name": "stdout",
     "output_type": "stream",
     "text": [
      "\n",
      "\n",
      "\n",
      "--------------------------------------------- gr_stress1 ---------------------------------------------\n",
      "gr_stress1\n",
      "exercise     61\n",
      "move        347\n",
      "relaxed     189\n",
      "sleep       357\n",
      "stressed    407\n",
      "Name: user, dtype: int64\n",
      "1088 273\n"
     ]
    },
    {
     "data": {
      "application/vnd.plotly.v1+json": {
       "data": [
        {
         "colorscale": [
          [
           0,
           "rgb(165,0,38)"
          ],
          [
           0.1111111111111111,
           "rgb(215,48,39)"
          ],
          [
           0.2222222222222222,
           "rgb(244,109,67)"
          ],
          [
           0.3333333333333333,
           "rgb(253,174,97)"
          ],
          [
           0.4444444444444444,
           "rgb(254,224,144)"
          ],
          [
           0.5555555555555556,
           "rgb(224,243,248)"
          ],
          [
           0.6666666666666666,
           "rgb(171,217,233)"
          ],
          [
           0.7777777777777778,
           "rgb(116,173,209)"
          ],
          [
           0.8888888888888888,
           "rgb(69,117,180)"
          ],
          [
           1,
           "rgb(49,54,149)"
          ]
         ],
         "type": "heatmap",
         "x": [
          "precision",
          "recall",
          "f1"
         ],
         "y": [
          "exercise",
          "move",
          "relaxed",
          "sleep",
          "stressed"
         ],
         "z": [
          [
           0.6,
           0.5454545454545454,
           0.5714285714285713
          ],
          [
           0.6455696202531646,
           0.7391304347826086,
           0.6891891891891891
          ],
          [
           0.25,
           0.08888888888888889,
           0.13114754098360656
          ],
          [
           0.8904109589041096,
           0.9420289855072463,
           0.9154929577464788
          ],
          [
           0.5894736842105263,
           0.7088607594936709,
           0.6436781609195403
          ]
         ],
         "zmax": 1,
         "zmin": 0.5
        }
       ],
       "layout": {
        "font": {
         "color": "#333333",
         "size": 16
        },
        "title": "Precision, Recall, F1-score",
        "yaxis": {
         "autorange": "reversed"
        }
       }
      },
      "text/html": [
       "<div id=\"49fb6942-b825-46aa-b808-13e34eef9fa3\" style=\"height: 525px; width: 100%;\" class=\"plotly-graph-div\"></div><script type=\"text/javascript\">require([\"plotly\"], function(Plotly) { window.PLOTLYENV=window.PLOTLYENV || {};window.PLOTLYENV.BASE_URL=\"https://plot.ly\";Plotly.newPlot(\"49fb6942-b825-46aa-b808-13e34eef9fa3\", [{\"type\": \"heatmap\", \"z\": [[0.6, 0.5454545454545454, 0.5714285714285713], [0.6455696202531646, 0.7391304347826086, 0.6891891891891891], [0.25, 0.08888888888888889, 0.13114754098360656], [0.8904109589041096, 0.9420289855072463, 0.9154929577464788], [0.5894736842105263, 0.7088607594936709, 0.6436781609195403]], \"y\": [\"exercise\", \"move\", \"relaxed\", \"sleep\", \"stressed\"], \"x\": [\"precision\", \"recall\", \"f1\"], \"colorscale\": [[0.0, \"rgb(165,0,38)\"], [0.1111111111111111, \"rgb(215,48,39)\"], [0.2222222222222222, \"rgb(244,109,67)\"], [0.3333333333333333, \"rgb(253,174,97)\"], [0.4444444444444444, \"rgb(254,224,144)\"], [0.5555555555555556, \"rgb(224,243,248)\"], [0.6666666666666666, \"rgb(171,217,233)\"], [0.7777777777777778, \"rgb(116,173,209)\"], [0.8888888888888888, \"rgb(69,117,180)\"], [1.0, \"rgb(49,54,149)\"]], \"zmin\": 0.5, \"zmax\": 1.0}], {\"title\": \"Precision, Recall, F1-score\", \"font\": {\"size\": 16, \"color\": \"#333333\"}, \"yaxis\": {\"autorange\": \"reversed\"}}, {\"showLink\": true, \"linkText\": \"Export to plot.ly\"})});</script>"
      ],
      "text/vnd.plotly.v1+html": [
       "<div id=\"49fb6942-b825-46aa-b808-13e34eef9fa3\" style=\"height: 525px; width: 100%;\" class=\"plotly-graph-div\"></div><script type=\"text/javascript\">require([\"plotly\"], function(Plotly) { window.PLOTLYENV=window.PLOTLYENV || {};window.PLOTLYENV.BASE_URL=\"https://plot.ly\";Plotly.newPlot(\"49fb6942-b825-46aa-b808-13e34eef9fa3\", [{\"type\": \"heatmap\", \"z\": [[0.6, 0.5454545454545454, 0.5714285714285713], [0.6455696202531646, 0.7391304347826086, 0.6891891891891891], [0.25, 0.08888888888888889, 0.13114754098360656], [0.8904109589041096, 0.9420289855072463, 0.9154929577464788], [0.5894736842105263, 0.7088607594936709, 0.6436781609195403]], \"y\": [\"exercise\", \"move\", \"relaxed\", \"sleep\", \"stressed\"], \"x\": [\"precision\", \"recall\", \"f1\"], \"colorscale\": [[0.0, \"rgb(165,0,38)\"], [0.1111111111111111, \"rgb(215,48,39)\"], [0.2222222222222222, \"rgb(244,109,67)\"], [0.3333333333333333, \"rgb(253,174,97)\"], [0.4444444444444444, \"rgb(254,224,144)\"], [0.5555555555555556, \"rgb(224,243,248)\"], [0.6666666666666666, \"rgb(171,217,233)\"], [0.7777777777777778, \"rgb(116,173,209)\"], [0.8888888888888888, \"rgb(69,117,180)\"], [1.0, \"rgb(49,54,149)\"]], \"zmin\": 0.5, \"zmax\": 1.0}], {\"title\": \"Precision, Recall, F1-score\", \"font\": {\"size\": 16, \"color\": \"#333333\"}, \"yaxis\": {\"autorange\": \"reversed\"}}, {\"showLink\": true, \"linkText\": \"Export to plot.ly\"})});</script>"
      ]
     },
     "metadata": {},
     "output_type": "display_data"
    },
    {
     "data": {
      "application/vnd.plotly.v1+json": {
       "data": [
        {
         "colorscale": "Reds",
         "type": "heatmap",
         "x": [
          "exercise",
          "move",
          "relaxed",
          "sleep",
          "stressed"
         ],
         "y": [
          "exercise",
          "move",
          "relaxed",
          "sleep",
          "stressed"
         ],
         "z": [
          [
           6,
           5,
           0,
           0,
           0
          ],
          [
           4,
           51,
           4,
           0,
           10
          ],
          [
           0,
           11,
           4,
           4,
           26
          ],
          [
           0,
           0,
           1,
           65,
           3
          ],
          [
           0,
           12,
           7,
           4,
           56
          ]
         ]
        }
       ],
       "layout": {
        "font": {
         "color": "#333333",
         "size": 16
        },
        "title": "Confusion Matrix",
        "xaxis": {
         "title": "predicted",
         "titlefont": {
          "color": "#333333",
          "size": 16
         }
        },
        "yaxis": {
         "autorange": "reversed",
         "title": "true label",
         "titlefont": {
          "color": "#333333",
          "size": 16
         }
        }
       }
      },
      "text/html": [
       "<div id=\"c50545e3-0085-45a1-9e50-f9cfb1d0b0e6\" style=\"height: 525px; width: 100%;\" class=\"plotly-graph-div\"></div><script type=\"text/javascript\">require([\"plotly\"], function(Plotly) { window.PLOTLYENV=window.PLOTLYENV || {};window.PLOTLYENV.BASE_URL=\"https://plot.ly\";Plotly.newPlot(\"c50545e3-0085-45a1-9e50-f9cfb1d0b0e6\", [{\"type\": \"heatmap\", \"z\": [[6, 5, 0, 0, 0], [4, 51, 4, 0, 10], [0, 11, 4, 4, 26], [0, 0, 1, 65, 3], [0, 12, 7, 4, 56]], \"x\": [\"exercise\", \"move\", \"relaxed\", \"sleep\", \"stressed\"], \"y\": [\"exercise\", \"move\", \"relaxed\", \"sleep\", \"stressed\"], \"colorscale\": \"Reds\"}], {\"title\": \"Confusion Matrix\", \"font\": {\"size\": 16, \"color\": \"#333333\"}, \"xaxis\": {\"title\": \"predicted\", \"titlefont\": {\"size\": 16, \"color\": \"#333333\"}}, \"yaxis\": {\"title\": \"true label\", \"titlefont\": {\"size\": 16, \"color\": \"#333333\"}, \"autorange\": \"reversed\"}}, {\"showLink\": true, \"linkText\": \"Export to plot.ly\"})});</script>"
      ],
      "text/vnd.plotly.v1+html": [
       "<div id=\"c50545e3-0085-45a1-9e50-f9cfb1d0b0e6\" style=\"height: 525px; width: 100%;\" class=\"plotly-graph-div\"></div><script type=\"text/javascript\">require([\"plotly\"], function(Plotly) { window.PLOTLYENV=window.PLOTLYENV || {};window.PLOTLYENV.BASE_URL=\"https://plot.ly\";Plotly.newPlot(\"c50545e3-0085-45a1-9e50-f9cfb1d0b0e6\", [{\"type\": \"heatmap\", \"z\": [[6, 5, 0, 0, 0], [4, 51, 4, 0, 10], [0, 11, 4, 4, 26], [0, 0, 1, 65, 3], [0, 12, 7, 4, 56]], \"x\": [\"exercise\", \"move\", \"relaxed\", \"sleep\", \"stressed\"], \"y\": [\"exercise\", \"move\", \"relaxed\", \"sleep\", \"stressed\"], \"colorscale\": \"Reds\"}], {\"title\": \"Confusion Matrix\", \"font\": {\"size\": 16, \"color\": \"#333333\"}, \"xaxis\": {\"title\": \"predicted\", \"titlefont\": {\"size\": 16, \"color\": \"#333333\"}}, \"yaxis\": {\"title\": \"true label\", \"titlefont\": {\"size\": 16, \"color\": \"#333333\"}, \"autorange\": \"reversed\"}}, {\"showLink\": true, \"linkText\": \"Export to plot.ly\"})});</script>"
      ]
     },
     "metadata": {},
     "output_type": "display_data"
    }
   ],
   "source": [
    "dfu = df[df['user']==0]\n",
    "for label in ['activity', 'gr_main3', 'gr_main4', 'gr_stress1']:\n",
    "    cmc.plot_matrices(dfu, clf, features, label)              \n",
    "    "
   ]
  },
  {
   "cell_type": "markdown",
   "metadata": {},
   "source": [
    "## Intrauser classification for user 1"
   ]
  },
  {
   "cell_type": "code",
   "execution_count": 18,
   "metadata": {
    "scrolled": false
   },
   "outputs": [
    {
     "name": "stdout",
     "output_type": "stream",
     "text": [
      "\n",
      "\n",
      "\n",
      "--------------------------------------------- activity ---------------------------------------------\n",
      "activity\n",
      "eat                 10\n",
      "exercise            19\n",
      "focused-active     135\n",
      "focused-passive     29\n",
      "leisure             72\n",
      "movement            21\n",
      "rest-active          3\n",
      "rest-passive         8\n",
      "sleep               27\n",
      "Name: user, dtype: int64\n",
      "259 65\n"
     ]
    },
    {
     "name": "stderr",
     "output_type": "stream",
     "text": [
      "C:\\Users\\Ju\\Anaconda3\\lib\\site-packages\\sklearn\\metrics\\classification.py:1135: UndefinedMetricWarning:\n",
      "\n",
      "Precision and F-score are ill-defined and being set to 0.0 in labels with no predicted samples.\n",
      "\n"
     ]
    },
    {
     "data": {
      "application/vnd.plotly.v1+json": {
       "data": [
        {
         "colorscale": [
          [
           0,
           "rgb(165,0,38)"
          ],
          [
           0.1111111111111111,
           "rgb(215,48,39)"
          ],
          [
           0.2222222222222222,
           "rgb(244,109,67)"
          ],
          [
           0.3333333333333333,
           "rgb(253,174,97)"
          ],
          [
           0.4444444444444444,
           "rgb(254,224,144)"
          ],
          [
           0.5555555555555556,
           "rgb(224,243,248)"
          ],
          [
           0.6666666666666666,
           "rgb(171,217,233)"
          ],
          [
           0.7777777777777778,
           "rgb(116,173,209)"
          ],
          [
           0.8888888888888888,
           "rgb(69,117,180)"
          ],
          [
           1,
           "rgb(49,54,149)"
          ]
         ],
         "type": "heatmap",
         "x": [
          "precision",
          "recall",
          "f1"
         ],
         "y": [
          "eat",
          "exercise",
          "focused-active",
          "focused-passive",
          "leisure",
          "movement",
          "rest-passive",
          "sleep"
         ],
         "z": [
          [
           0,
           0,
           0
          ],
          [
           0.8,
           1,
           0.888888888888889
          ],
          [
           0.5806451612903226,
           0.75,
           0.6545454545454547
          ],
          [
           0.42857142857142855,
           0.3333333333333333,
           0.375
          ],
          [
           0.4166666666666667,
           0.3125,
           0.35714285714285715
          ],
          [
           0.5,
           0.4,
           0.4444444444444445
          ],
          [
           0,
           0,
           0
          ],
          [
           1,
           1,
           1
          ]
         ],
         "zmax": 1,
         "zmin": 0.5
        }
       ],
       "layout": {
        "font": {
         "color": "#333333",
         "size": 16
        },
        "title": "Precision, Recall, F1-score",
        "yaxis": {
         "autorange": "reversed"
        }
       }
      },
      "text/html": [
       "<div id=\"0ec57470-ad9b-4bdd-973a-0eebed1cf697\" style=\"height: 525px; width: 100%;\" class=\"plotly-graph-div\"></div><script type=\"text/javascript\">require([\"plotly\"], function(Plotly) { window.PLOTLYENV=window.PLOTLYENV || {};window.PLOTLYENV.BASE_URL=\"https://plot.ly\";Plotly.newPlot(\"0ec57470-ad9b-4bdd-973a-0eebed1cf697\", [{\"type\": \"heatmap\", \"z\": [[0.0, 0.0, 0.0], [0.8, 1.0, 0.888888888888889], [0.5806451612903226, 0.75, 0.6545454545454547], [0.42857142857142855, 0.3333333333333333, 0.375], [0.4166666666666667, 0.3125, 0.35714285714285715], [0.5, 0.4, 0.4444444444444445], [0.0, 0.0, 0.0], [1.0, 1.0, 1.0]], \"y\": [\"eat\", \"exercise\", \"focused-active\", \"focused-passive\", \"leisure\", \"movement\", \"rest-passive\", \"sleep\"], \"x\": [\"precision\", \"recall\", \"f1\"], \"colorscale\": [[0.0, \"rgb(165,0,38)\"], [0.1111111111111111, \"rgb(215,48,39)\"], [0.2222222222222222, \"rgb(244,109,67)\"], [0.3333333333333333, \"rgb(253,174,97)\"], [0.4444444444444444, \"rgb(254,224,144)\"], [0.5555555555555556, \"rgb(224,243,248)\"], [0.6666666666666666, \"rgb(171,217,233)\"], [0.7777777777777778, \"rgb(116,173,209)\"], [0.8888888888888888, \"rgb(69,117,180)\"], [1.0, \"rgb(49,54,149)\"]], \"zmin\": 0.5, \"zmax\": 1.0}], {\"title\": \"Precision, Recall, F1-score\", \"font\": {\"size\": 16, \"color\": \"#333333\"}, \"yaxis\": {\"autorange\": \"reversed\"}}, {\"showLink\": true, \"linkText\": \"Export to plot.ly\"})});</script>"
      ],
      "text/vnd.plotly.v1+html": [
       "<div id=\"0ec57470-ad9b-4bdd-973a-0eebed1cf697\" style=\"height: 525px; width: 100%;\" class=\"plotly-graph-div\"></div><script type=\"text/javascript\">require([\"plotly\"], function(Plotly) { window.PLOTLYENV=window.PLOTLYENV || {};window.PLOTLYENV.BASE_URL=\"https://plot.ly\";Plotly.newPlot(\"0ec57470-ad9b-4bdd-973a-0eebed1cf697\", [{\"type\": \"heatmap\", \"z\": [[0.0, 0.0, 0.0], [0.8, 1.0, 0.888888888888889], [0.5806451612903226, 0.75, 0.6545454545454547], [0.42857142857142855, 0.3333333333333333, 0.375], [0.4166666666666667, 0.3125, 0.35714285714285715], [0.5, 0.4, 0.4444444444444445], [0.0, 0.0, 0.0], [1.0, 1.0, 1.0]], \"y\": [\"eat\", \"exercise\", \"focused-active\", \"focused-passive\", \"leisure\", \"movement\", \"rest-passive\", \"sleep\"], \"x\": [\"precision\", \"recall\", \"f1\"], \"colorscale\": [[0.0, \"rgb(165,0,38)\"], [0.1111111111111111, \"rgb(215,48,39)\"], [0.2222222222222222, \"rgb(244,109,67)\"], [0.3333333333333333, \"rgb(253,174,97)\"], [0.4444444444444444, \"rgb(254,224,144)\"], [0.5555555555555556, \"rgb(224,243,248)\"], [0.6666666666666666, \"rgb(171,217,233)\"], [0.7777777777777778, \"rgb(116,173,209)\"], [0.8888888888888888, \"rgb(69,117,180)\"], [1.0, \"rgb(49,54,149)\"]], \"zmin\": 0.5, \"zmax\": 1.0}], {\"title\": \"Precision, Recall, F1-score\", \"font\": {\"size\": 16, \"color\": \"#333333\"}, \"yaxis\": {\"autorange\": \"reversed\"}}, {\"showLink\": true, \"linkText\": \"Export to plot.ly\"})});</script>"
      ]
     },
     "metadata": {},
     "output_type": "display_data"
    },
    {
     "data": {
      "application/vnd.plotly.v1+json": {
       "data": [
        {
         "colorscale": "Reds",
         "type": "heatmap",
         "x": [
          "eat",
          "exercise",
          "focused-active",
          "focused-passive",
          "leisure",
          "movement",
          "rest-passive",
          "sleep"
         ],
         "y": [
          "eat",
          "exercise",
          "focused-active",
          "focused-passive",
          "leisure",
          "movement",
          "rest-passive",
          "sleep"
         ],
         "z": [
          [
           0,
           0,
           0,
           0,
           1,
           1,
           0,
           0
          ],
          [
           0,
           4,
           0,
           0,
           0,
           0,
           0,
           0
          ],
          [
           0,
           0,
           18,
           3,
           2,
           1,
           0,
           0
          ],
          [
           0,
           0,
           4,
           3,
           2,
           0,
           0,
           0
          ],
          [
           1,
           0,
           9,
           1,
           5,
           0,
           0,
           0
          ],
          [
           1,
           1,
           0,
           0,
           1,
           2,
           0,
           0
          ],
          [
           0,
           0,
           0,
           0,
           1,
           0,
           0,
           0
          ],
          [
           0,
           0,
           0,
           0,
           0,
           0,
           0,
           4
          ]
         ]
        }
       ],
       "layout": {
        "font": {
         "color": "#333333",
         "size": 16
        },
        "title": "Confusion Matrix",
        "xaxis": {
         "title": "predicted",
         "titlefont": {
          "color": "#333333",
          "size": 16
         }
        },
        "yaxis": {
         "autorange": "reversed",
         "title": "true label",
         "titlefont": {
          "color": "#333333",
          "size": 16
         }
        }
       }
      },
      "text/html": [
       "<div id=\"e20113f5-1cff-4c2e-9de8-bf91a00c7688\" style=\"height: 525px; width: 100%;\" class=\"plotly-graph-div\"></div><script type=\"text/javascript\">require([\"plotly\"], function(Plotly) { window.PLOTLYENV=window.PLOTLYENV || {};window.PLOTLYENV.BASE_URL=\"https://plot.ly\";Plotly.newPlot(\"e20113f5-1cff-4c2e-9de8-bf91a00c7688\", [{\"type\": \"heatmap\", \"z\": [[0, 0, 0, 0, 1, 1, 0, 0], [0, 4, 0, 0, 0, 0, 0, 0], [0, 0, 18, 3, 2, 1, 0, 0], [0, 0, 4, 3, 2, 0, 0, 0], [1, 0, 9, 1, 5, 0, 0, 0], [1, 1, 0, 0, 1, 2, 0, 0], [0, 0, 0, 0, 1, 0, 0, 0], [0, 0, 0, 0, 0, 0, 0, 4]], \"x\": [\"eat\", \"exercise\", \"focused-active\", \"focused-passive\", \"leisure\", \"movement\", \"rest-passive\", \"sleep\"], \"y\": [\"eat\", \"exercise\", \"focused-active\", \"focused-passive\", \"leisure\", \"movement\", \"rest-passive\", \"sleep\"], \"colorscale\": \"Reds\"}], {\"title\": \"Confusion Matrix\", \"font\": {\"size\": 16, \"color\": \"#333333\"}, \"xaxis\": {\"title\": \"predicted\", \"titlefont\": {\"size\": 16, \"color\": \"#333333\"}}, \"yaxis\": {\"title\": \"true label\", \"titlefont\": {\"size\": 16, \"color\": \"#333333\"}, \"autorange\": \"reversed\"}}, {\"showLink\": true, \"linkText\": \"Export to plot.ly\"})});</script>"
      ],
      "text/vnd.plotly.v1+html": [
       "<div id=\"e20113f5-1cff-4c2e-9de8-bf91a00c7688\" style=\"height: 525px; width: 100%;\" class=\"plotly-graph-div\"></div><script type=\"text/javascript\">require([\"plotly\"], function(Plotly) { window.PLOTLYENV=window.PLOTLYENV || {};window.PLOTLYENV.BASE_URL=\"https://plot.ly\";Plotly.newPlot(\"e20113f5-1cff-4c2e-9de8-bf91a00c7688\", [{\"type\": \"heatmap\", \"z\": [[0, 0, 0, 0, 1, 1, 0, 0], [0, 4, 0, 0, 0, 0, 0, 0], [0, 0, 18, 3, 2, 1, 0, 0], [0, 0, 4, 3, 2, 0, 0, 0], [1, 0, 9, 1, 5, 0, 0, 0], [1, 1, 0, 0, 1, 2, 0, 0], [0, 0, 0, 0, 1, 0, 0, 0], [0, 0, 0, 0, 0, 0, 0, 4]], \"x\": [\"eat\", \"exercise\", \"focused-active\", \"focused-passive\", \"leisure\", \"movement\", \"rest-passive\", \"sleep\"], \"y\": [\"eat\", \"exercise\", \"focused-active\", \"focused-passive\", \"leisure\", \"movement\", \"rest-passive\", \"sleep\"], \"colorscale\": \"Reds\"}], {\"title\": \"Confusion Matrix\", \"font\": {\"size\": 16, \"color\": \"#333333\"}, \"xaxis\": {\"title\": \"predicted\", \"titlefont\": {\"size\": 16, \"color\": \"#333333\"}}, \"yaxis\": {\"title\": \"true label\", \"titlefont\": {\"size\": 16, \"color\": \"#333333\"}, \"autorange\": \"reversed\"}}, {\"showLink\": true, \"linkText\": \"Export to plot.ly\"})});</script>"
      ]
     },
     "metadata": {},
     "output_type": "display_data"
    },
    {
     "name": "stdout",
     "output_type": "stream",
     "text": [
      "\n",
      "\n",
      "\n",
      "--------------------------------------------- gr_main3 ---------------------------------------------\n",
      "gr_main3\n",
      "move      40\n",
      "sleep     27\n",
      "still    257\n",
      "Name: user, dtype: int64\n",
      "259 65\n"
     ]
    },
    {
     "data": {
      "application/vnd.plotly.v1+json": {
       "data": [
        {
         "colorscale": [
          [
           0,
           "rgb(165,0,38)"
          ],
          [
           0.1111111111111111,
           "rgb(215,48,39)"
          ],
          [
           0.2222222222222222,
           "rgb(244,109,67)"
          ],
          [
           0.3333333333333333,
           "rgb(253,174,97)"
          ],
          [
           0.4444444444444444,
           "rgb(254,224,144)"
          ],
          [
           0.5555555555555556,
           "rgb(224,243,248)"
          ],
          [
           0.6666666666666666,
           "rgb(171,217,233)"
          ],
          [
           0.7777777777777778,
           "rgb(116,173,209)"
          ],
          [
           0.8888888888888888,
           "rgb(69,117,180)"
          ],
          [
           1,
           "rgb(49,54,149)"
          ]
         ],
         "type": "heatmap",
         "x": [
          "precision",
          "recall",
          "f1"
         ],
         "y": [
          "move",
          "sleep",
          "still"
         ],
         "z": [
          [
           1,
           0.8333333333333334,
           0.9090909090909091
          ],
          [
           1,
           1,
           1
          ],
          [
           0.9807692307692307,
           1,
           0.9902912621359222
          ]
         ],
         "zmax": 1,
         "zmin": 0.5
        }
       ],
       "layout": {
        "font": {
         "color": "#333333",
         "size": 16
        },
        "title": "Precision, Recall, F1-score",
        "yaxis": {
         "autorange": "reversed"
        }
       }
      },
      "text/html": [
       "<div id=\"13b027cb-f147-4e1b-a945-66be9d003dc5\" style=\"height: 525px; width: 100%;\" class=\"plotly-graph-div\"></div><script type=\"text/javascript\">require([\"plotly\"], function(Plotly) { window.PLOTLYENV=window.PLOTLYENV || {};window.PLOTLYENV.BASE_URL=\"https://plot.ly\";Plotly.newPlot(\"13b027cb-f147-4e1b-a945-66be9d003dc5\", [{\"type\": \"heatmap\", \"z\": [[1.0, 0.8333333333333334, 0.9090909090909091], [1.0, 1.0, 1.0], [0.9807692307692307, 1.0, 0.9902912621359222]], \"y\": [\"move\", \"sleep\", \"still\"], \"x\": [\"precision\", \"recall\", \"f1\"], \"colorscale\": [[0.0, \"rgb(165,0,38)\"], [0.1111111111111111, \"rgb(215,48,39)\"], [0.2222222222222222, \"rgb(244,109,67)\"], [0.3333333333333333, \"rgb(253,174,97)\"], [0.4444444444444444, \"rgb(254,224,144)\"], [0.5555555555555556, \"rgb(224,243,248)\"], [0.6666666666666666, \"rgb(171,217,233)\"], [0.7777777777777778, \"rgb(116,173,209)\"], [0.8888888888888888, \"rgb(69,117,180)\"], [1.0, \"rgb(49,54,149)\"]], \"zmin\": 0.5, \"zmax\": 1.0}], {\"title\": \"Precision, Recall, F1-score\", \"font\": {\"size\": 16, \"color\": \"#333333\"}, \"yaxis\": {\"autorange\": \"reversed\"}}, {\"showLink\": true, \"linkText\": \"Export to plot.ly\"})});</script>"
      ],
      "text/vnd.plotly.v1+html": [
       "<div id=\"13b027cb-f147-4e1b-a945-66be9d003dc5\" style=\"height: 525px; width: 100%;\" class=\"plotly-graph-div\"></div><script type=\"text/javascript\">require([\"plotly\"], function(Plotly) { window.PLOTLYENV=window.PLOTLYENV || {};window.PLOTLYENV.BASE_URL=\"https://plot.ly\";Plotly.newPlot(\"13b027cb-f147-4e1b-a945-66be9d003dc5\", [{\"type\": \"heatmap\", \"z\": [[1.0, 0.8333333333333334, 0.9090909090909091], [1.0, 1.0, 1.0], [0.9807692307692307, 1.0, 0.9902912621359222]], \"y\": [\"move\", \"sleep\", \"still\"], \"x\": [\"precision\", \"recall\", \"f1\"], \"colorscale\": [[0.0, \"rgb(165,0,38)\"], [0.1111111111111111, \"rgb(215,48,39)\"], [0.2222222222222222, \"rgb(244,109,67)\"], [0.3333333333333333, \"rgb(253,174,97)\"], [0.4444444444444444, \"rgb(254,224,144)\"], [0.5555555555555556, \"rgb(224,243,248)\"], [0.6666666666666666, \"rgb(171,217,233)\"], [0.7777777777777778, \"rgb(116,173,209)\"], [0.8888888888888888, \"rgb(69,117,180)\"], [1.0, \"rgb(49,54,149)\"]], \"zmin\": 0.5, \"zmax\": 1.0}], {\"title\": \"Precision, Recall, F1-score\", \"font\": {\"size\": 16, \"color\": \"#333333\"}, \"yaxis\": {\"autorange\": \"reversed\"}}, {\"showLink\": true, \"linkText\": \"Export to plot.ly\"})});</script>"
      ]
     },
     "metadata": {},
     "output_type": "display_data"
    },
    {
     "data": {
      "application/vnd.plotly.v1+json": {
       "data": [
        {
         "colorscale": "Reds",
         "type": "heatmap",
         "x": [
          "move",
          "sleep",
          "still"
         ],
         "y": [
          "move",
          "sleep",
          "still"
         ],
         "z": [
          [
           5,
           0,
           1
          ],
          [
           0,
           8,
           0
          ],
          [
           0,
           0,
           51
          ]
         ]
        }
       ],
       "layout": {
        "font": {
         "color": "#333333",
         "size": 16
        },
        "title": "Confusion Matrix",
        "xaxis": {
         "title": "predicted",
         "titlefont": {
          "color": "#333333",
          "size": 16
         }
        },
        "yaxis": {
         "autorange": "reversed",
         "title": "true label",
         "titlefont": {
          "color": "#333333",
          "size": 16
         }
        }
       }
      },
      "text/html": [
       "<div id=\"7201b454-1bc3-4fe8-8d91-4813f1155627\" style=\"height: 525px; width: 100%;\" class=\"plotly-graph-div\"></div><script type=\"text/javascript\">require([\"plotly\"], function(Plotly) { window.PLOTLYENV=window.PLOTLYENV || {};window.PLOTLYENV.BASE_URL=\"https://plot.ly\";Plotly.newPlot(\"7201b454-1bc3-4fe8-8d91-4813f1155627\", [{\"type\": \"heatmap\", \"z\": [[5, 0, 1], [0, 8, 0], [0, 0, 51]], \"x\": [\"move\", \"sleep\", \"still\"], \"y\": [\"move\", \"sleep\", \"still\"], \"colorscale\": \"Reds\"}], {\"title\": \"Confusion Matrix\", \"font\": {\"size\": 16, \"color\": \"#333333\"}, \"xaxis\": {\"title\": \"predicted\", \"titlefont\": {\"size\": 16, \"color\": \"#333333\"}}, \"yaxis\": {\"title\": \"true label\", \"titlefont\": {\"size\": 16, \"color\": \"#333333\"}, \"autorange\": \"reversed\"}}, {\"showLink\": true, \"linkText\": \"Export to plot.ly\"})});</script>"
      ],
      "text/vnd.plotly.v1+html": [
       "<div id=\"7201b454-1bc3-4fe8-8d91-4813f1155627\" style=\"height: 525px; width: 100%;\" class=\"plotly-graph-div\"></div><script type=\"text/javascript\">require([\"plotly\"], function(Plotly) { window.PLOTLYENV=window.PLOTLYENV || {};window.PLOTLYENV.BASE_URL=\"https://plot.ly\";Plotly.newPlot(\"7201b454-1bc3-4fe8-8d91-4813f1155627\", [{\"type\": \"heatmap\", \"z\": [[5, 0, 1], [0, 8, 0], [0, 0, 51]], \"x\": [\"move\", \"sleep\", \"still\"], \"y\": [\"move\", \"sleep\", \"still\"], \"colorscale\": \"Reds\"}], {\"title\": \"Confusion Matrix\", \"font\": {\"size\": 16, \"color\": \"#333333\"}, \"xaxis\": {\"title\": \"predicted\", \"titlefont\": {\"size\": 16, \"color\": \"#333333\"}}, \"yaxis\": {\"title\": \"true label\", \"titlefont\": {\"size\": 16, \"color\": \"#333333\"}, \"autorange\": \"reversed\"}}, {\"showLink\": true, \"linkText\": \"Export to plot.ly\"})});</script>"
      ]
     },
     "metadata": {},
     "output_type": "display_data"
    },
    {
     "name": "stdout",
     "output_type": "stream",
     "text": [
      "\n",
      "\n",
      "\n",
      "--------------------------------------------- gr_main4 ---------------------------------------------\n",
      "gr_main4\n",
      "exercise     19\n",
      "move         21\n",
      "sleep        27\n",
      "still       257\n",
      "Name: user, dtype: int64\n",
      "259 65\n"
     ]
    },
    {
     "data": {
      "application/vnd.plotly.v1+json": {
       "data": [
        {
         "colorscale": [
          [
           0,
           "rgb(165,0,38)"
          ],
          [
           0.1111111111111111,
           "rgb(215,48,39)"
          ],
          [
           0.2222222222222222,
           "rgb(244,109,67)"
          ],
          [
           0.3333333333333333,
           "rgb(253,174,97)"
          ],
          [
           0.4444444444444444,
           "rgb(254,224,144)"
          ],
          [
           0.5555555555555556,
           "rgb(224,243,248)"
          ],
          [
           0.6666666666666666,
           "rgb(171,217,233)"
          ],
          [
           0.7777777777777778,
           "rgb(116,173,209)"
          ],
          [
           0.8888888888888888,
           "rgb(69,117,180)"
          ],
          [
           1,
           "rgb(49,54,149)"
          ]
         ],
         "type": "heatmap",
         "x": [
          "precision",
          "recall",
          "f1"
         ],
         "y": [
          "exercise",
          "move",
          "sleep",
          "still"
         ],
         "z": [
          [
           0.5,
           1,
           0.6666666666666666
          ],
          [
           1,
           0.3333333333333333,
           0.5
          ],
          [
           1,
           1,
           1
          ],
          [
           0.9433962264150944,
           1,
           0.970873786407767
          ]
         ],
         "zmax": 1,
         "zmin": 0.5
        }
       ],
       "layout": {
        "font": {
         "color": "#333333",
         "size": 16
        },
        "title": "Precision, Recall, F1-score",
        "yaxis": {
         "autorange": "reversed"
        }
       }
      },
      "text/html": [
       "<div id=\"a729c447-52ff-48ac-ab65-e7514b9ecc9d\" style=\"height: 525px; width: 100%;\" class=\"plotly-graph-div\"></div><script type=\"text/javascript\">require([\"plotly\"], function(Plotly) { window.PLOTLYENV=window.PLOTLYENV || {};window.PLOTLYENV.BASE_URL=\"https://plot.ly\";Plotly.newPlot(\"a729c447-52ff-48ac-ab65-e7514b9ecc9d\", [{\"type\": \"heatmap\", \"z\": [[0.5, 1.0, 0.6666666666666666], [1.0, 0.3333333333333333, 0.5], [1.0, 1.0, 1.0], [0.9433962264150944, 1.0, 0.970873786407767]], \"y\": [\"exercise\", \"move\", \"sleep\", \"still\"], \"x\": [\"precision\", \"recall\", \"f1\"], \"colorscale\": [[0.0, \"rgb(165,0,38)\"], [0.1111111111111111, \"rgb(215,48,39)\"], [0.2222222222222222, \"rgb(244,109,67)\"], [0.3333333333333333, \"rgb(253,174,97)\"], [0.4444444444444444, \"rgb(254,224,144)\"], [0.5555555555555556, \"rgb(224,243,248)\"], [0.6666666666666666, \"rgb(171,217,233)\"], [0.7777777777777778, \"rgb(116,173,209)\"], [0.8888888888888888, \"rgb(69,117,180)\"], [1.0, \"rgb(49,54,149)\"]], \"zmin\": 0.5, \"zmax\": 1.0}], {\"title\": \"Precision, Recall, F1-score\", \"font\": {\"size\": 16, \"color\": \"#333333\"}, \"yaxis\": {\"autorange\": \"reversed\"}}, {\"showLink\": true, \"linkText\": \"Export to plot.ly\"})});</script>"
      ],
      "text/vnd.plotly.v1+html": [
       "<div id=\"a729c447-52ff-48ac-ab65-e7514b9ecc9d\" style=\"height: 525px; width: 100%;\" class=\"plotly-graph-div\"></div><script type=\"text/javascript\">require([\"plotly\"], function(Plotly) { window.PLOTLYENV=window.PLOTLYENV || {};window.PLOTLYENV.BASE_URL=\"https://plot.ly\";Plotly.newPlot(\"a729c447-52ff-48ac-ab65-e7514b9ecc9d\", [{\"type\": \"heatmap\", \"z\": [[0.5, 1.0, 0.6666666666666666], [1.0, 0.3333333333333333, 0.5], [1.0, 1.0, 1.0], [0.9433962264150944, 1.0, 0.970873786407767]], \"y\": [\"exercise\", \"move\", \"sleep\", \"still\"], \"x\": [\"precision\", \"recall\", \"f1\"], \"colorscale\": [[0.0, \"rgb(165,0,38)\"], [0.1111111111111111, \"rgb(215,48,39)\"], [0.2222222222222222, \"rgb(244,109,67)\"], [0.3333333333333333, \"rgb(253,174,97)\"], [0.4444444444444444, \"rgb(254,224,144)\"], [0.5555555555555556, \"rgb(224,243,248)\"], [0.6666666666666666, \"rgb(171,217,233)\"], [0.7777777777777778, \"rgb(116,173,209)\"], [0.8888888888888888, \"rgb(69,117,180)\"], [1.0, \"rgb(49,54,149)\"]], \"zmin\": 0.5, \"zmax\": 1.0}], {\"title\": \"Precision, Recall, F1-score\", \"font\": {\"size\": 16, \"color\": \"#333333\"}, \"yaxis\": {\"autorange\": \"reversed\"}}, {\"showLink\": true, \"linkText\": \"Export to plot.ly\"})});</script>"
      ]
     },
     "metadata": {},
     "output_type": "display_data"
    },
    {
     "data": {
      "application/vnd.plotly.v1+json": {
       "data": [
        {
         "colorscale": "Reds",
         "type": "heatmap",
         "x": [
          "exercise",
          "move",
          "sleep",
          "still"
         ],
         "y": [
          "exercise",
          "move",
          "sleep",
          "still"
         ],
         "z": [
          [
           1,
           0,
           0,
           0
          ],
          [
           1,
           2,
           0,
           3
          ],
          [
           0,
           0,
           8,
           0
          ],
          [
           0,
           0,
           0,
           50
          ]
         ]
        }
       ],
       "layout": {
        "font": {
         "color": "#333333",
         "size": 16
        },
        "title": "Confusion Matrix",
        "xaxis": {
         "title": "predicted",
         "titlefont": {
          "color": "#333333",
          "size": 16
         }
        },
        "yaxis": {
         "autorange": "reversed",
         "title": "true label",
         "titlefont": {
          "color": "#333333",
          "size": 16
         }
        }
       }
      },
      "text/html": [
       "<div id=\"8743cfb7-f97d-4031-81de-c9b4db618b10\" style=\"height: 525px; width: 100%;\" class=\"plotly-graph-div\"></div><script type=\"text/javascript\">require([\"plotly\"], function(Plotly) { window.PLOTLYENV=window.PLOTLYENV || {};window.PLOTLYENV.BASE_URL=\"https://plot.ly\";Plotly.newPlot(\"8743cfb7-f97d-4031-81de-c9b4db618b10\", [{\"type\": \"heatmap\", \"z\": [[1, 0, 0, 0], [1, 2, 0, 3], [0, 0, 8, 0], [0, 0, 0, 50]], \"x\": [\"exercise\", \"move\", \"sleep\", \"still\"], \"y\": [\"exercise\", \"move\", \"sleep\", \"still\"], \"colorscale\": \"Reds\"}], {\"title\": \"Confusion Matrix\", \"font\": {\"size\": 16, \"color\": \"#333333\"}, \"xaxis\": {\"title\": \"predicted\", \"titlefont\": {\"size\": 16, \"color\": \"#333333\"}}, \"yaxis\": {\"title\": \"true label\", \"titlefont\": {\"size\": 16, \"color\": \"#333333\"}, \"autorange\": \"reversed\"}}, {\"showLink\": true, \"linkText\": \"Export to plot.ly\"})});</script>"
      ],
      "text/vnd.plotly.v1+html": [
       "<div id=\"8743cfb7-f97d-4031-81de-c9b4db618b10\" style=\"height: 525px; width: 100%;\" class=\"plotly-graph-div\"></div><script type=\"text/javascript\">require([\"plotly\"], function(Plotly) { window.PLOTLYENV=window.PLOTLYENV || {};window.PLOTLYENV.BASE_URL=\"https://plot.ly\";Plotly.newPlot(\"8743cfb7-f97d-4031-81de-c9b4db618b10\", [{\"type\": \"heatmap\", \"z\": [[1, 0, 0, 0], [1, 2, 0, 3], [0, 0, 8, 0], [0, 0, 0, 50]], \"x\": [\"exercise\", \"move\", \"sleep\", \"still\"], \"y\": [\"exercise\", \"move\", \"sleep\", \"still\"], \"colorscale\": \"Reds\"}], {\"title\": \"Confusion Matrix\", \"font\": {\"size\": 16, \"color\": \"#333333\"}, \"xaxis\": {\"title\": \"predicted\", \"titlefont\": {\"size\": 16, \"color\": \"#333333\"}}, \"yaxis\": {\"title\": \"true label\", \"titlefont\": {\"size\": 16, \"color\": \"#333333\"}, \"autorange\": \"reversed\"}}, {\"showLink\": true, \"linkText\": \"Export to plot.ly\"})});</script>"
      ]
     },
     "metadata": {},
     "output_type": "display_data"
    },
    {
     "name": "stdout",
     "output_type": "stream",
     "text": [
      "\n",
      "\n",
      "\n",
      "--------------------------------------------- gr_stress3 ---------------------------------------------\n",
      "gr_stress3\n",
      "exercise     19\n",
      "move         21\n",
      "relaxed     112\n",
      "sleep        27\n",
      "stressed    145\n",
      "Name: user, dtype: int64\n",
      "259 65\n"
     ]
    },
    {
     "data": {
      "application/vnd.plotly.v1+json": {
       "data": [
        {
         "colorscale": [
          [
           0,
           "rgb(165,0,38)"
          ],
          [
           0.1111111111111111,
           "rgb(215,48,39)"
          ],
          [
           0.2222222222222222,
           "rgb(244,109,67)"
          ],
          [
           0.3333333333333333,
           "rgb(253,174,97)"
          ],
          [
           0.4444444444444444,
           "rgb(254,224,144)"
          ],
          [
           0.5555555555555556,
           "rgb(224,243,248)"
          ],
          [
           0.6666666666666666,
           "rgb(171,217,233)"
          ],
          [
           0.7777777777777778,
           "rgb(116,173,209)"
          ],
          [
           0.8888888888888888,
           "rgb(69,117,180)"
          ],
          [
           1,
           "rgb(49,54,149)"
          ]
         ],
         "type": "heatmap",
         "x": [
          "precision",
          "recall",
          "f1"
         ],
         "y": [
          "exercise",
          "move",
          "relaxed",
          "sleep",
          "stressed"
         ],
         "z": [
          [
           1,
           1,
           1
          ],
          [
           1,
           0.75,
           0.8571428571428571
          ],
          [
           0.46153846153846156,
           0.46153846153846156,
           0.46153846153846156
          ],
          [
           1,
           1,
           1
          ],
          [
           0.8,
           0.8235294117647058,
           0.8115942028985507
          ]
         ],
         "zmax": 1,
         "zmin": 0.5
        }
       ],
       "layout": {
        "font": {
         "color": "#333333",
         "size": 16
        },
        "title": "Precision, Recall, F1-score",
        "yaxis": {
         "autorange": "reversed"
        }
       }
      },
      "text/html": [
       "<div id=\"55f9d63e-bc98-41a0-b7ca-10982a928223\" style=\"height: 525px; width: 100%;\" class=\"plotly-graph-div\"></div><script type=\"text/javascript\">require([\"plotly\"], function(Plotly) { window.PLOTLYENV=window.PLOTLYENV || {};window.PLOTLYENV.BASE_URL=\"https://plot.ly\";Plotly.newPlot(\"55f9d63e-bc98-41a0-b7ca-10982a928223\", [{\"type\": \"heatmap\", \"z\": [[1.0, 1.0, 1.0], [1.0, 0.75, 0.8571428571428571], [0.46153846153846156, 0.46153846153846156, 0.46153846153846156], [1.0, 1.0, 1.0], [0.8, 0.8235294117647058, 0.8115942028985507]], \"y\": [\"exercise\", \"move\", \"relaxed\", \"sleep\", \"stressed\"], \"x\": [\"precision\", \"recall\", \"f1\"], \"colorscale\": [[0.0, \"rgb(165,0,38)\"], [0.1111111111111111, \"rgb(215,48,39)\"], [0.2222222222222222, \"rgb(244,109,67)\"], [0.3333333333333333, \"rgb(253,174,97)\"], [0.4444444444444444, \"rgb(254,224,144)\"], [0.5555555555555556, \"rgb(224,243,248)\"], [0.6666666666666666, \"rgb(171,217,233)\"], [0.7777777777777778, \"rgb(116,173,209)\"], [0.8888888888888888, \"rgb(69,117,180)\"], [1.0, \"rgb(49,54,149)\"]], \"zmin\": 0.5, \"zmax\": 1.0}], {\"title\": \"Precision, Recall, F1-score\", \"font\": {\"size\": 16, \"color\": \"#333333\"}, \"yaxis\": {\"autorange\": \"reversed\"}}, {\"showLink\": true, \"linkText\": \"Export to plot.ly\"})});</script>"
      ],
      "text/vnd.plotly.v1+html": [
       "<div id=\"55f9d63e-bc98-41a0-b7ca-10982a928223\" style=\"height: 525px; width: 100%;\" class=\"plotly-graph-div\"></div><script type=\"text/javascript\">require([\"plotly\"], function(Plotly) { window.PLOTLYENV=window.PLOTLYENV || {};window.PLOTLYENV.BASE_URL=\"https://plot.ly\";Plotly.newPlot(\"55f9d63e-bc98-41a0-b7ca-10982a928223\", [{\"type\": \"heatmap\", \"z\": [[1.0, 1.0, 1.0], [1.0, 0.75, 0.8571428571428571], [0.46153846153846156, 0.46153846153846156, 0.46153846153846156], [1.0, 1.0, 1.0], [0.8, 0.8235294117647058, 0.8115942028985507]], \"y\": [\"exercise\", \"move\", \"relaxed\", \"sleep\", \"stressed\"], \"x\": [\"precision\", \"recall\", \"f1\"], \"colorscale\": [[0.0, \"rgb(165,0,38)\"], [0.1111111111111111, \"rgb(215,48,39)\"], [0.2222222222222222, \"rgb(244,109,67)\"], [0.3333333333333333, \"rgb(253,174,97)\"], [0.4444444444444444, \"rgb(254,224,144)\"], [0.5555555555555556, \"rgb(224,243,248)\"], [0.6666666666666666, \"rgb(171,217,233)\"], [0.7777777777777778, \"rgb(116,173,209)\"], [0.8888888888888888, \"rgb(69,117,180)\"], [1.0, \"rgb(49,54,149)\"]], \"zmin\": 0.5, \"zmax\": 1.0}], {\"title\": \"Precision, Recall, F1-score\", \"font\": {\"size\": 16, \"color\": \"#333333\"}, \"yaxis\": {\"autorange\": \"reversed\"}}, {\"showLink\": true, \"linkText\": \"Export to plot.ly\"})});</script>"
      ]
     },
     "metadata": {},
     "output_type": "display_data"
    },
    {
     "data": {
      "application/vnd.plotly.v1+json": {
       "data": [
        {
         "colorscale": "Reds",
         "type": "heatmap",
         "x": [
          "exercise",
          "move",
          "relaxed",
          "sleep",
          "stressed"
         ],
         "y": [
          "exercise",
          "move",
          "relaxed",
          "sleep",
          "stressed"
         ],
         "z": [
          [
           3,
           0,
           0,
           0,
           0
          ],
          [
           0,
           3,
           1,
           0,
           0
          ],
          [
           0,
           0,
           6,
           0,
           7
          ],
          [
           0,
           0,
           0,
           11,
           0
          ],
          [
           0,
           0,
           6,
           0,
           28
          ]
         ]
        }
       ],
       "layout": {
        "font": {
         "color": "#333333",
         "size": 16
        },
        "title": "Confusion Matrix",
        "xaxis": {
         "title": "predicted",
         "titlefont": {
          "color": "#333333",
          "size": 16
         }
        },
        "yaxis": {
         "autorange": "reversed",
         "title": "true label",
         "titlefont": {
          "color": "#333333",
          "size": 16
         }
        }
       }
      },
      "text/html": [
       "<div id=\"c6a1e22d-84a7-4d26-bcb5-189a8c701763\" style=\"height: 525px; width: 100%;\" class=\"plotly-graph-div\"></div><script type=\"text/javascript\">require([\"plotly\"], function(Plotly) { window.PLOTLYENV=window.PLOTLYENV || {};window.PLOTLYENV.BASE_URL=\"https://plot.ly\";Plotly.newPlot(\"c6a1e22d-84a7-4d26-bcb5-189a8c701763\", [{\"type\": \"heatmap\", \"z\": [[3, 0, 0, 0, 0], [0, 3, 1, 0, 0], [0, 0, 6, 0, 7], [0, 0, 0, 11, 0], [0, 0, 6, 0, 28]], \"x\": [\"exercise\", \"move\", \"relaxed\", \"sleep\", \"stressed\"], \"y\": [\"exercise\", \"move\", \"relaxed\", \"sleep\", \"stressed\"], \"colorscale\": \"Reds\"}], {\"title\": \"Confusion Matrix\", \"font\": {\"size\": 16, \"color\": \"#333333\"}, \"xaxis\": {\"title\": \"predicted\", \"titlefont\": {\"size\": 16, \"color\": \"#333333\"}}, \"yaxis\": {\"title\": \"true label\", \"titlefont\": {\"size\": 16, \"color\": \"#333333\"}, \"autorange\": \"reversed\"}}, {\"showLink\": true, \"linkText\": \"Export to plot.ly\"})});</script>"
      ],
      "text/vnd.plotly.v1+html": [
       "<div id=\"c6a1e22d-84a7-4d26-bcb5-189a8c701763\" style=\"height: 525px; width: 100%;\" class=\"plotly-graph-div\"></div><script type=\"text/javascript\">require([\"plotly\"], function(Plotly) { window.PLOTLYENV=window.PLOTLYENV || {};window.PLOTLYENV.BASE_URL=\"https://plot.ly\";Plotly.newPlot(\"c6a1e22d-84a7-4d26-bcb5-189a8c701763\", [{\"type\": \"heatmap\", \"z\": [[3, 0, 0, 0, 0], [0, 3, 1, 0, 0], [0, 0, 6, 0, 7], [0, 0, 0, 11, 0], [0, 0, 6, 0, 28]], \"x\": [\"exercise\", \"move\", \"relaxed\", \"sleep\", \"stressed\"], \"y\": [\"exercise\", \"move\", \"relaxed\", \"sleep\", \"stressed\"], \"colorscale\": \"Reds\"}], {\"title\": \"Confusion Matrix\", \"font\": {\"size\": 16, \"color\": \"#333333\"}, \"xaxis\": {\"title\": \"predicted\", \"titlefont\": {\"size\": 16, \"color\": \"#333333\"}}, \"yaxis\": {\"title\": \"true label\", \"titlefont\": {\"size\": 16, \"color\": \"#333333\"}, \"autorange\": \"reversed\"}}, {\"showLink\": true, \"linkText\": \"Export to plot.ly\"})});</script>"
      ]
     },
     "metadata": {},
     "output_type": "display_data"
    }
   ],
   "source": [
    "dfu = df[df['user']==1]\n",
    "for label in ['activity', 'gr_main3', 'gr_main4', 'gr_stress3']:\n",
    "    cmc.plot_matrices(dfu, clf, features, label)          "
   ]
  },
  {
   "cell_type": "markdown",
   "metadata": {},
   "source": [
    "## Intrauser classification for user 6"
   ]
  },
  {
   "cell_type": "code",
   "execution_count": 24,
   "metadata": {
    "scrolled": false
   },
   "outputs": [
    {
     "name": "stdout",
     "output_type": "stream",
     "text": [
      "\n",
      "\n",
      "\n",
      "--------------------------------------------- activity ---------------------------------------------\n",
      "activity\n",
      "eat               12\n",
      "focused-active    35\n",
      "leisure           31\n",
      "rest-active       35\n",
      "sleep             47\n",
      "Name: user, dtype: int64\n",
      "128 32\n"
     ]
    },
    {
     "data": {
      "application/vnd.plotly.v1+json": {
       "data": [
        {
         "colorscale": [
          [
           0,
           "rgb(165,0,38)"
          ],
          [
           0.1111111111111111,
           "rgb(215,48,39)"
          ],
          [
           0.2222222222222222,
           "rgb(244,109,67)"
          ],
          [
           0.3333333333333333,
           "rgb(253,174,97)"
          ],
          [
           0.4444444444444444,
           "rgb(254,224,144)"
          ],
          [
           0.5555555555555556,
           "rgb(224,243,248)"
          ],
          [
           0.6666666666666666,
           "rgb(171,217,233)"
          ],
          [
           0.7777777777777778,
           "rgb(116,173,209)"
          ],
          [
           0.8888888888888888,
           "rgb(69,117,180)"
          ],
          [
           1,
           "rgb(49,54,149)"
          ]
         ],
         "type": "heatmap",
         "x": [
          "precision",
          "recall",
          "f1"
         ],
         "y": [
          "eat",
          "focused-active",
          "leisure",
          "rest-active",
          "sleep"
         ],
         "z": [
          [
           0,
           0,
           0
          ],
          [
           0.9090909090909091,
           0.6666666666666666,
           0.7692307692307692
          ],
          [
           0.3333333333333333,
           0.6666666666666666,
           0.4444444444444444
          ],
          [
           0.75,
           0.5,
           0.6
          ],
          [
           0.7777777777777778,
           1,
           0.8750000000000001
          ]
         ],
         "zmax": 1,
         "zmin": 0.5
        }
       ],
       "layout": {
        "font": {
         "color": "#333333",
         "size": 16
        },
        "title": "Precision, Recall, F1-score",
        "yaxis": {
         "autorange": "reversed"
        }
       }
      },
      "text/html": [
       "<div id=\"5262c63d-b8c8-465b-8c54-d67d21a3094b\" style=\"height: 525px; width: 100%;\" class=\"plotly-graph-div\"></div><script type=\"text/javascript\">require([\"plotly\"], function(Plotly) { window.PLOTLYENV=window.PLOTLYENV || {};window.PLOTLYENV.BASE_URL=\"https://plot.ly\";Plotly.newPlot(\"5262c63d-b8c8-465b-8c54-d67d21a3094b\", [{\"type\": \"heatmap\", \"z\": [[0.0, 0.0, 0.0], [0.9090909090909091, 0.6666666666666666, 0.7692307692307692], [0.3333333333333333, 0.6666666666666666, 0.4444444444444444], [0.75, 0.5, 0.6], [0.7777777777777778, 1.0, 0.8750000000000001]], \"y\": [\"eat\", \"focused-active\", \"leisure\", \"rest-active\", \"sleep\"], \"x\": [\"precision\", \"recall\", \"f1\"], \"colorscale\": [[0.0, \"rgb(165,0,38)\"], [0.1111111111111111, \"rgb(215,48,39)\"], [0.2222222222222222, \"rgb(244,109,67)\"], [0.3333333333333333, \"rgb(253,174,97)\"], [0.4444444444444444, \"rgb(254,224,144)\"], [0.5555555555555556, \"rgb(224,243,248)\"], [0.6666666666666666, \"rgb(171,217,233)\"], [0.7777777777777778, \"rgb(116,173,209)\"], [0.8888888888888888, \"rgb(69,117,180)\"], [1.0, \"rgb(49,54,149)\"]], \"zmin\": 0.5, \"zmax\": 1.0}], {\"title\": \"Precision, Recall, F1-score\", \"font\": {\"size\": 16, \"color\": \"#333333\"}, \"yaxis\": {\"autorange\": \"reversed\"}}, {\"showLink\": true, \"linkText\": \"Export to plot.ly\"})});</script>"
      ],
      "text/vnd.plotly.v1+html": [
       "<div id=\"5262c63d-b8c8-465b-8c54-d67d21a3094b\" style=\"height: 525px; width: 100%;\" class=\"plotly-graph-div\"></div><script type=\"text/javascript\">require([\"plotly\"], function(Plotly) { window.PLOTLYENV=window.PLOTLYENV || {};window.PLOTLYENV.BASE_URL=\"https://plot.ly\";Plotly.newPlot(\"5262c63d-b8c8-465b-8c54-d67d21a3094b\", [{\"type\": \"heatmap\", \"z\": [[0.0, 0.0, 0.0], [0.9090909090909091, 0.6666666666666666, 0.7692307692307692], [0.3333333333333333, 0.6666666666666666, 0.4444444444444444], [0.75, 0.5, 0.6], [0.7777777777777778, 1.0, 0.8750000000000001]], \"y\": [\"eat\", \"focused-active\", \"leisure\", \"rest-active\", \"sleep\"], \"x\": [\"precision\", \"recall\", \"f1\"], \"colorscale\": [[0.0, \"rgb(165,0,38)\"], [0.1111111111111111, \"rgb(215,48,39)\"], [0.2222222222222222, \"rgb(244,109,67)\"], [0.3333333333333333, \"rgb(253,174,97)\"], [0.4444444444444444, \"rgb(254,224,144)\"], [0.5555555555555556, \"rgb(224,243,248)\"], [0.6666666666666666, \"rgb(171,217,233)\"], [0.7777777777777778, \"rgb(116,173,209)\"], [0.8888888888888888, \"rgb(69,117,180)\"], [1.0, \"rgb(49,54,149)\"]], \"zmin\": 0.5, \"zmax\": 1.0}], {\"title\": \"Precision, Recall, F1-score\", \"font\": {\"size\": 16, \"color\": \"#333333\"}, \"yaxis\": {\"autorange\": \"reversed\"}}, {\"showLink\": true, \"linkText\": \"Export to plot.ly\"})});</script>"
      ]
     },
     "metadata": {},
     "output_type": "display_data"
    },
    {
     "data": {
      "application/vnd.plotly.v1+json": {
       "data": [
        {
         "colorscale": "Reds",
         "type": "heatmap",
         "x": [
          "eat",
          "focused-active",
          "leisure",
          "rest-active",
          "sleep"
         ],
         "y": [
          "eat",
          "focused-active",
          "leisure",
          "rest-active",
          "sleep"
         ],
         "z": [
          [
           0,
           0,
           0,
           1,
           0
          ],
          [
           0,
           10,
           3,
           0,
           2
          ],
          [
           1,
           0,
           2,
           0,
           0
          ],
          [
           1,
           1,
           1,
           3,
           0
          ],
          [
           0,
           0,
           0,
           0,
           7
          ]
         ]
        }
       ],
       "layout": {
        "font": {
         "color": "#333333",
         "size": 16
        },
        "title": "Confusion Matrix",
        "xaxis": {
         "title": "predicted",
         "titlefont": {
          "color": "#333333",
          "size": 16
         }
        },
        "yaxis": {
         "autorange": "reversed",
         "title": "true label",
         "titlefont": {
          "color": "#333333",
          "size": 16
         }
        }
       }
      },
      "text/html": [
       "<div id=\"2b06b315-566a-415b-ae23-3656a0a9c3d0\" style=\"height: 525px; width: 100%;\" class=\"plotly-graph-div\"></div><script type=\"text/javascript\">require([\"plotly\"], function(Plotly) { window.PLOTLYENV=window.PLOTLYENV || {};window.PLOTLYENV.BASE_URL=\"https://plot.ly\";Plotly.newPlot(\"2b06b315-566a-415b-ae23-3656a0a9c3d0\", [{\"type\": \"heatmap\", \"z\": [[0, 0, 0, 1, 0], [0, 10, 3, 0, 2], [1, 0, 2, 0, 0], [1, 1, 1, 3, 0], [0, 0, 0, 0, 7]], \"x\": [\"eat\", \"focused-active\", \"leisure\", \"rest-active\", \"sleep\"], \"y\": [\"eat\", \"focused-active\", \"leisure\", \"rest-active\", \"sleep\"], \"colorscale\": \"Reds\"}], {\"title\": \"Confusion Matrix\", \"font\": {\"size\": 16, \"color\": \"#333333\"}, \"xaxis\": {\"title\": \"predicted\", \"titlefont\": {\"size\": 16, \"color\": \"#333333\"}}, \"yaxis\": {\"title\": \"true label\", \"titlefont\": {\"size\": 16, \"color\": \"#333333\"}, \"autorange\": \"reversed\"}}, {\"showLink\": true, \"linkText\": \"Export to plot.ly\"})});</script>"
      ],
      "text/vnd.plotly.v1+html": [
       "<div id=\"2b06b315-566a-415b-ae23-3656a0a9c3d0\" style=\"height: 525px; width: 100%;\" class=\"plotly-graph-div\"></div><script type=\"text/javascript\">require([\"plotly\"], function(Plotly) { window.PLOTLYENV=window.PLOTLYENV || {};window.PLOTLYENV.BASE_URL=\"https://plot.ly\";Plotly.newPlot(\"2b06b315-566a-415b-ae23-3656a0a9c3d0\", [{\"type\": \"heatmap\", \"z\": [[0, 0, 0, 1, 0], [0, 10, 3, 0, 2], [1, 0, 2, 0, 0], [1, 1, 1, 3, 0], [0, 0, 0, 0, 7]], \"x\": [\"eat\", \"focused-active\", \"leisure\", \"rest-active\", \"sleep\"], \"y\": [\"eat\", \"focused-active\", \"leisure\", \"rest-active\", \"sleep\"], \"colorscale\": \"Reds\"}], {\"title\": \"Confusion Matrix\", \"font\": {\"size\": 16, \"color\": \"#333333\"}, \"xaxis\": {\"title\": \"predicted\", \"titlefont\": {\"size\": 16, \"color\": \"#333333\"}}, \"yaxis\": {\"title\": \"true label\", \"titlefont\": {\"size\": 16, \"color\": \"#333333\"}, \"autorange\": \"reversed\"}}, {\"showLink\": true, \"linkText\": \"Export to plot.ly\"})});</script>"
      ]
     },
     "metadata": {},
     "output_type": "display_data"
    },
    {
     "name": "stdout",
     "output_type": "stream",
     "text": [
      "\n",
      "\n",
      "\n",
      "--------------------------------------------- gr_main4 ---------------------------------------------\n",
      "gr_main4\n",
      "sleep     47\n",
      "still    113\n",
      "Name: user, dtype: int64\n",
      "128 32\n"
     ]
    },
    {
     "data": {
      "application/vnd.plotly.v1+json": {
       "data": [
        {
         "colorscale": [
          [
           0,
           "rgb(165,0,38)"
          ],
          [
           0.1111111111111111,
           "rgb(215,48,39)"
          ],
          [
           0.2222222222222222,
           "rgb(244,109,67)"
          ],
          [
           0.3333333333333333,
           "rgb(253,174,97)"
          ],
          [
           0.4444444444444444,
           "rgb(254,224,144)"
          ],
          [
           0.5555555555555556,
           "rgb(224,243,248)"
          ],
          [
           0.6666666666666666,
           "rgb(171,217,233)"
          ],
          [
           0.7777777777777778,
           "rgb(116,173,209)"
          ],
          [
           0.8888888888888888,
           "rgb(69,117,180)"
          ],
          [
           1,
           "rgb(49,54,149)"
          ]
         ],
         "type": "heatmap",
         "x": [
          "precision",
          "recall",
          "f1"
         ],
         "y": [
          "sleep",
          "still"
         ],
         "z": [
          [
           1,
           1,
           1
          ],
          [
           1,
           1,
           1
          ]
         ],
         "zmax": 1,
         "zmin": 0.5
        }
       ],
       "layout": {
        "font": {
         "color": "#333333",
         "size": 16
        },
        "title": "Precision, Recall, F1-score",
        "yaxis": {
         "autorange": "reversed"
        }
       }
      },
      "text/html": [
       "<div id=\"575101b3-119e-4834-80ee-969d996e3bb0\" style=\"height: 525px; width: 100%;\" class=\"plotly-graph-div\"></div><script type=\"text/javascript\">require([\"plotly\"], function(Plotly) { window.PLOTLYENV=window.PLOTLYENV || {};window.PLOTLYENV.BASE_URL=\"https://plot.ly\";Plotly.newPlot(\"575101b3-119e-4834-80ee-969d996e3bb0\", [{\"type\": \"heatmap\", \"z\": [[1.0, 1.0, 1.0], [1.0, 1.0, 1.0]], \"y\": [\"sleep\", \"still\"], \"x\": [\"precision\", \"recall\", \"f1\"], \"colorscale\": [[0.0, \"rgb(165,0,38)\"], [0.1111111111111111, \"rgb(215,48,39)\"], [0.2222222222222222, \"rgb(244,109,67)\"], [0.3333333333333333, \"rgb(253,174,97)\"], [0.4444444444444444, \"rgb(254,224,144)\"], [0.5555555555555556, \"rgb(224,243,248)\"], [0.6666666666666666, \"rgb(171,217,233)\"], [0.7777777777777778, \"rgb(116,173,209)\"], [0.8888888888888888, \"rgb(69,117,180)\"], [1.0, \"rgb(49,54,149)\"]], \"zmin\": 0.5, \"zmax\": 1.0}], {\"title\": \"Precision, Recall, F1-score\", \"font\": {\"size\": 16, \"color\": \"#333333\"}, \"yaxis\": {\"autorange\": \"reversed\"}}, {\"showLink\": true, \"linkText\": \"Export to plot.ly\"})});</script>"
      ],
      "text/vnd.plotly.v1+html": [
       "<div id=\"575101b3-119e-4834-80ee-969d996e3bb0\" style=\"height: 525px; width: 100%;\" class=\"plotly-graph-div\"></div><script type=\"text/javascript\">require([\"plotly\"], function(Plotly) { window.PLOTLYENV=window.PLOTLYENV || {};window.PLOTLYENV.BASE_URL=\"https://plot.ly\";Plotly.newPlot(\"575101b3-119e-4834-80ee-969d996e3bb0\", [{\"type\": \"heatmap\", \"z\": [[1.0, 1.0, 1.0], [1.0, 1.0, 1.0]], \"y\": [\"sleep\", \"still\"], \"x\": [\"precision\", \"recall\", \"f1\"], \"colorscale\": [[0.0, \"rgb(165,0,38)\"], [0.1111111111111111, \"rgb(215,48,39)\"], [0.2222222222222222, \"rgb(244,109,67)\"], [0.3333333333333333, \"rgb(253,174,97)\"], [0.4444444444444444, \"rgb(254,224,144)\"], [0.5555555555555556, \"rgb(224,243,248)\"], [0.6666666666666666, \"rgb(171,217,233)\"], [0.7777777777777778, \"rgb(116,173,209)\"], [0.8888888888888888, \"rgb(69,117,180)\"], [1.0, \"rgb(49,54,149)\"]], \"zmin\": 0.5, \"zmax\": 1.0}], {\"title\": \"Precision, Recall, F1-score\", \"font\": {\"size\": 16, \"color\": \"#333333\"}, \"yaxis\": {\"autorange\": \"reversed\"}}, {\"showLink\": true, \"linkText\": \"Export to plot.ly\"})});</script>"
      ]
     },
     "metadata": {},
     "output_type": "display_data"
    },
    {
     "data": {
      "application/vnd.plotly.v1+json": {
       "data": [
        {
         "colorscale": "Reds",
         "type": "heatmap",
         "x": [
          "sleep",
          "still"
         ],
         "y": [
          "sleep",
          "still"
         ],
         "z": [
          [
           10,
           0
          ],
          [
           0,
           22
          ]
         ]
        }
       ],
       "layout": {
        "font": {
         "color": "#333333",
         "size": 16
        },
        "title": "Confusion Matrix",
        "xaxis": {
         "title": "predicted",
         "titlefont": {
          "color": "#333333",
          "size": 16
         }
        },
        "yaxis": {
         "autorange": "reversed",
         "title": "true label",
         "titlefont": {
          "color": "#333333",
          "size": 16
         }
        }
       }
      },
      "text/html": [
       "<div id=\"682609e4-5032-43cd-90f4-3e1464d1b3fa\" style=\"height: 525px; width: 100%;\" class=\"plotly-graph-div\"></div><script type=\"text/javascript\">require([\"plotly\"], function(Plotly) { window.PLOTLYENV=window.PLOTLYENV || {};window.PLOTLYENV.BASE_URL=\"https://plot.ly\";Plotly.newPlot(\"682609e4-5032-43cd-90f4-3e1464d1b3fa\", [{\"type\": \"heatmap\", \"z\": [[10, 0], [0, 22]], \"x\": [\"sleep\", \"still\"], \"y\": [\"sleep\", \"still\"], \"colorscale\": \"Reds\"}], {\"title\": \"Confusion Matrix\", \"font\": {\"size\": 16, \"color\": \"#333333\"}, \"xaxis\": {\"title\": \"predicted\", \"titlefont\": {\"size\": 16, \"color\": \"#333333\"}}, \"yaxis\": {\"title\": \"true label\", \"titlefont\": {\"size\": 16, \"color\": \"#333333\"}, \"autorange\": \"reversed\"}}, {\"showLink\": true, \"linkText\": \"Export to plot.ly\"})});</script>"
      ],
      "text/vnd.plotly.v1+html": [
       "<div id=\"682609e4-5032-43cd-90f4-3e1464d1b3fa\" style=\"height: 525px; width: 100%;\" class=\"plotly-graph-div\"></div><script type=\"text/javascript\">require([\"plotly\"], function(Plotly) { window.PLOTLYENV=window.PLOTLYENV || {};window.PLOTLYENV.BASE_URL=\"https://plot.ly\";Plotly.newPlot(\"682609e4-5032-43cd-90f4-3e1464d1b3fa\", [{\"type\": \"heatmap\", \"z\": [[10, 0], [0, 22]], \"x\": [\"sleep\", \"still\"], \"y\": [\"sleep\", \"still\"], \"colorscale\": \"Reds\"}], {\"title\": \"Confusion Matrix\", \"font\": {\"size\": 16, \"color\": \"#333333\"}, \"xaxis\": {\"title\": \"predicted\", \"titlefont\": {\"size\": 16, \"color\": \"#333333\"}}, \"yaxis\": {\"title\": \"true label\", \"titlefont\": {\"size\": 16, \"color\": \"#333333\"}, \"autorange\": \"reversed\"}}, {\"showLink\": true, \"linkText\": \"Export to plot.ly\"})});</script>"
      ]
     },
     "metadata": {},
     "output_type": "display_data"
    },
    {
     "name": "stdout",
     "output_type": "stream",
     "text": [
      "\n",
      "\n",
      "\n",
      "--------------------------------------------- gr_stress2 ---------------------------------------------\n",
      "gr_stress2\n",
      "relaxed     43\n",
      "sleep       47\n",
      "stressed    70\n",
      "Name: user, dtype: int64\n",
      "128 32\n"
     ]
    },
    {
     "data": {
      "application/vnd.plotly.v1+json": {
       "data": [
        {
         "colorscale": [
          [
           0,
           "rgb(165,0,38)"
          ],
          [
           0.1111111111111111,
           "rgb(215,48,39)"
          ],
          [
           0.2222222222222222,
           "rgb(244,109,67)"
          ],
          [
           0.3333333333333333,
           "rgb(253,174,97)"
          ],
          [
           0.4444444444444444,
           "rgb(254,224,144)"
          ],
          [
           0.5555555555555556,
           "rgb(224,243,248)"
          ],
          [
           0.6666666666666666,
           "rgb(171,217,233)"
          ],
          [
           0.7777777777777778,
           "rgb(116,173,209)"
          ],
          [
           0.8888888888888888,
           "rgb(69,117,180)"
          ],
          [
           1,
           "rgb(49,54,149)"
          ]
         ],
         "type": "heatmap",
         "x": [
          "precision",
          "recall",
          "f1"
         ],
         "y": [
          "relaxed",
          "sleep",
          "stressed"
         ],
         "z": [
          [
           0.7,
           0.6363636363636364,
           0.6666666666666666
          ],
          [
           1,
           0.875,
           0.9333333333333333
          ],
          [
           0.6666666666666666,
           0.7692307692307693,
           0.7142857142857142
          ]
         ],
         "zmax": 1,
         "zmin": 0.5
        }
       ],
       "layout": {
        "font": {
         "color": "#333333",
         "size": 16
        },
        "title": "Precision, Recall, F1-score",
        "yaxis": {
         "autorange": "reversed"
        }
       }
      },
      "text/html": [
       "<div id=\"1367813a-7e32-4cbe-876a-ccd83de4beee\" style=\"height: 525px; width: 100%;\" class=\"plotly-graph-div\"></div><script type=\"text/javascript\">require([\"plotly\"], function(Plotly) { window.PLOTLYENV=window.PLOTLYENV || {};window.PLOTLYENV.BASE_URL=\"https://plot.ly\";Plotly.newPlot(\"1367813a-7e32-4cbe-876a-ccd83de4beee\", [{\"type\": \"heatmap\", \"z\": [[0.7, 0.6363636363636364, 0.6666666666666666], [1.0, 0.875, 0.9333333333333333], [0.6666666666666666, 0.7692307692307693, 0.7142857142857142]], \"y\": [\"relaxed\", \"sleep\", \"stressed\"], \"x\": [\"precision\", \"recall\", \"f1\"], \"colorscale\": [[0.0, \"rgb(165,0,38)\"], [0.1111111111111111, \"rgb(215,48,39)\"], [0.2222222222222222, \"rgb(244,109,67)\"], [0.3333333333333333, \"rgb(253,174,97)\"], [0.4444444444444444, \"rgb(254,224,144)\"], [0.5555555555555556, \"rgb(224,243,248)\"], [0.6666666666666666, \"rgb(171,217,233)\"], [0.7777777777777778, \"rgb(116,173,209)\"], [0.8888888888888888, \"rgb(69,117,180)\"], [1.0, \"rgb(49,54,149)\"]], \"zmin\": 0.5, \"zmax\": 1.0}], {\"title\": \"Precision, Recall, F1-score\", \"font\": {\"size\": 16, \"color\": \"#333333\"}, \"yaxis\": {\"autorange\": \"reversed\"}}, {\"showLink\": true, \"linkText\": \"Export to plot.ly\"})});</script>"
      ],
      "text/vnd.plotly.v1+html": [
       "<div id=\"1367813a-7e32-4cbe-876a-ccd83de4beee\" style=\"height: 525px; width: 100%;\" class=\"plotly-graph-div\"></div><script type=\"text/javascript\">require([\"plotly\"], function(Plotly) { window.PLOTLYENV=window.PLOTLYENV || {};window.PLOTLYENV.BASE_URL=\"https://plot.ly\";Plotly.newPlot(\"1367813a-7e32-4cbe-876a-ccd83de4beee\", [{\"type\": \"heatmap\", \"z\": [[0.7, 0.6363636363636364, 0.6666666666666666], [1.0, 0.875, 0.9333333333333333], [0.6666666666666666, 0.7692307692307693, 0.7142857142857142]], \"y\": [\"relaxed\", \"sleep\", \"stressed\"], \"x\": [\"precision\", \"recall\", \"f1\"], \"colorscale\": [[0.0, \"rgb(165,0,38)\"], [0.1111111111111111, \"rgb(215,48,39)\"], [0.2222222222222222, \"rgb(244,109,67)\"], [0.3333333333333333, \"rgb(253,174,97)\"], [0.4444444444444444, \"rgb(254,224,144)\"], [0.5555555555555556, \"rgb(224,243,248)\"], [0.6666666666666666, \"rgb(171,217,233)\"], [0.7777777777777778, \"rgb(116,173,209)\"], [0.8888888888888888, \"rgb(69,117,180)\"], [1.0, \"rgb(49,54,149)\"]], \"zmin\": 0.5, \"zmax\": 1.0}], {\"title\": \"Precision, Recall, F1-score\", \"font\": {\"size\": 16, \"color\": \"#333333\"}, \"yaxis\": {\"autorange\": \"reversed\"}}, {\"showLink\": true, \"linkText\": \"Export to plot.ly\"})});</script>"
      ]
     },
     "metadata": {},
     "output_type": "display_data"
    },
    {
     "data": {
      "application/vnd.plotly.v1+json": {
       "data": [
        {
         "colorscale": "Reds",
         "type": "heatmap",
         "x": [
          "relaxed",
          "sleep",
          "stressed"
         ],
         "y": [
          "relaxed",
          "sleep",
          "stressed"
         ],
         "z": [
          [
           7,
           0,
           4
          ],
          [
           0,
           7,
           1
          ],
          [
           3,
           0,
           10
          ]
         ]
        }
       ],
       "layout": {
        "font": {
         "color": "#333333",
         "size": 16
        },
        "title": "Confusion Matrix",
        "xaxis": {
         "title": "predicted",
         "titlefont": {
          "color": "#333333",
          "size": 16
         }
        },
        "yaxis": {
         "autorange": "reversed",
         "title": "true label",
         "titlefont": {
          "color": "#333333",
          "size": 16
         }
        }
       }
      },
      "text/html": [
       "<div id=\"0fc3d819-3109-4ebf-ab18-e5960e2b9a9c\" style=\"height: 525px; width: 100%;\" class=\"plotly-graph-div\"></div><script type=\"text/javascript\">require([\"plotly\"], function(Plotly) { window.PLOTLYENV=window.PLOTLYENV || {};window.PLOTLYENV.BASE_URL=\"https://plot.ly\";Plotly.newPlot(\"0fc3d819-3109-4ebf-ab18-e5960e2b9a9c\", [{\"type\": \"heatmap\", \"z\": [[7, 0, 4], [0, 7, 1], [3, 0, 10]], \"x\": [\"relaxed\", \"sleep\", \"stressed\"], \"y\": [\"relaxed\", \"sleep\", \"stressed\"], \"colorscale\": \"Reds\"}], {\"title\": \"Confusion Matrix\", \"font\": {\"size\": 16, \"color\": \"#333333\"}, \"xaxis\": {\"title\": \"predicted\", \"titlefont\": {\"size\": 16, \"color\": \"#333333\"}}, \"yaxis\": {\"title\": \"true label\", \"titlefont\": {\"size\": 16, \"color\": \"#333333\"}, \"autorange\": \"reversed\"}}, {\"showLink\": true, \"linkText\": \"Export to plot.ly\"})});</script>"
      ],
      "text/vnd.plotly.v1+html": [
       "<div id=\"0fc3d819-3109-4ebf-ab18-e5960e2b9a9c\" style=\"height: 525px; width: 100%;\" class=\"plotly-graph-div\"></div><script type=\"text/javascript\">require([\"plotly\"], function(Plotly) { window.PLOTLYENV=window.PLOTLYENV || {};window.PLOTLYENV.BASE_URL=\"https://plot.ly\";Plotly.newPlot(\"0fc3d819-3109-4ebf-ab18-e5960e2b9a9c\", [{\"type\": \"heatmap\", \"z\": [[7, 0, 4], [0, 7, 1], [3, 0, 10]], \"x\": [\"relaxed\", \"sleep\", \"stressed\"], \"y\": [\"relaxed\", \"sleep\", \"stressed\"], \"colorscale\": \"Reds\"}], {\"title\": \"Confusion Matrix\", \"font\": {\"size\": 16, \"color\": \"#333333\"}, \"xaxis\": {\"title\": \"predicted\", \"titlefont\": {\"size\": 16, \"color\": \"#333333\"}}, \"yaxis\": {\"title\": \"true label\", \"titlefont\": {\"size\": 16, \"color\": \"#333333\"}, \"autorange\": \"reversed\"}}, {\"showLink\": true, \"linkText\": \"Export to plot.ly\"})});</script>"
      ]
     },
     "metadata": {},
     "output_type": "display_data"
    }
   ],
   "source": [
    "dfu = df[df['user']==6]\n",
    "for label in ['activity', 'gr_main4',  'gr_stress2']:\n",
    "    cmc.plot_matrices(dfu, clf, features, label)"
   ]
  },
  {
   "cell_type": "markdown",
   "metadata": {},
   "source": [
    "## Intrauser classification for user 2"
   ]
  },
  {
   "cell_type": "code",
   "execution_count": 25,
   "metadata": {
    "scrolled": false
   },
   "outputs": [
    {
     "name": "stdout",
     "output_type": "stream",
     "text": [
      "\n",
      "\n",
      "\n",
      "--------------------------------------------- activity ---------------------------------------------\n",
      "activity\n",
      "eat                38\n",
      "focused-active     89\n",
      "focused-passive    71\n",
      "leisure            55\n",
      "movement           82\n",
      "rest-active        30\n",
      "rest-passive        4\n",
      "Name: user, dtype: int64\n",
      "295 74\n"
     ]
    },
    {
     "name": "stderr",
     "output_type": "stream",
     "text": [
      "C:\\Users\\Ju\\Anaconda3\\lib\\site-packages\\sklearn\\metrics\\classification.py:1135: UndefinedMetricWarning:\n",
      "\n",
      "Precision and F-score are ill-defined and being set to 0.0 in labels with no predicted samples.\n",
      "\n"
     ]
    },
    {
     "data": {
      "application/vnd.plotly.v1+json": {
       "data": [
        {
         "colorscale": [
          [
           0,
           "rgb(165,0,38)"
          ],
          [
           0.1111111111111111,
           "rgb(215,48,39)"
          ],
          [
           0.2222222222222222,
           "rgb(244,109,67)"
          ],
          [
           0.3333333333333333,
           "rgb(253,174,97)"
          ],
          [
           0.4444444444444444,
           "rgb(254,224,144)"
          ],
          [
           0.5555555555555556,
           "rgb(224,243,248)"
          ],
          [
           0.6666666666666666,
           "rgb(171,217,233)"
          ],
          [
           0.7777777777777778,
           "rgb(116,173,209)"
          ],
          [
           0.8888888888888888,
           "rgb(69,117,180)"
          ],
          [
           1,
           "rgb(49,54,149)"
          ]
         ],
         "type": "heatmap",
         "x": [
          "precision",
          "recall",
          "f1"
         ],
         "y": [
          "eat",
          "focused-active",
          "focused-passive",
          "leisure",
          "movement",
          "rest-active",
          "rest-passive"
         ],
         "z": [
          [
           0,
           0,
           0
          ],
          [
           0.5714285714285714,
           0.5454545454545454,
           0.5581395348837208
          ],
          [
           0.2777777777777778,
           0.3333333333333333,
           0.303030303030303
          ],
          [
           0.3333333333333333,
           0.16666666666666666,
           0.2222222222222222
          ],
          [
           0.2631578947368421,
           0.5555555555555556,
           0.35714285714285715
          ],
          [
           0.6666666666666666,
           0.2222222222222222,
           0.3333333333333333
          ],
          [
           0,
           0,
           0
          ]
         ],
         "zmax": 1,
         "zmin": 0.5
        }
       ],
       "layout": {
        "font": {
         "color": "#333333",
         "size": 16
        },
        "title": "Precision, Recall, F1-score",
        "yaxis": {
         "autorange": "reversed"
        }
       }
      },
      "text/html": [
       "<div id=\"e9606cc3-f175-4a84-9fc5-3d8ddbae11fb\" style=\"height: 525px; width: 100%;\" class=\"plotly-graph-div\"></div><script type=\"text/javascript\">require([\"plotly\"], function(Plotly) { window.PLOTLYENV=window.PLOTLYENV || {};window.PLOTLYENV.BASE_URL=\"https://plot.ly\";Plotly.newPlot(\"e9606cc3-f175-4a84-9fc5-3d8ddbae11fb\", [{\"type\": \"heatmap\", \"z\": [[0.0, 0.0, 0.0], [0.5714285714285714, 0.5454545454545454, 0.5581395348837208], [0.2777777777777778, 0.3333333333333333, 0.303030303030303], [0.3333333333333333, 0.16666666666666666, 0.2222222222222222], [0.2631578947368421, 0.5555555555555556, 0.35714285714285715], [0.6666666666666666, 0.2222222222222222, 0.3333333333333333], [0.0, 0.0, 0.0]], \"y\": [\"eat\", \"focused-active\", \"focused-passive\", \"leisure\", \"movement\", \"rest-active\", \"rest-passive\"], \"x\": [\"precision\", \"recall\", \"f1\"], \"colorscale\": [[0.0, \"rgb(165,0,38)\"], [0.1111111111111111, \"rgb(215,48,39)\"], [0.2222222222222222, \"rgb(244,109,67)\"], [0.3333333333333333, \"rgb(253,174,97)\"], [0.4444444444444444, \"rgb(254,224,144)\"], [0.5555555555555556, \"rgb(224,243,248)\"], [0.6666666666666666, \"rgb(171,217,233)\"], [0.7777777777777778, \"rgb(116,173,209)\"], [0.8888888888888888, \"rgb(69,117,180)\"], [1.0, \"rgb(49,54,149)\"]], \"zmin\": 0.5, \"zmax\": 1.0}], {\"title\": \"Precision, Recall, F1-score\", \"font\": {\"size\": 16, \"color\": \"#333333\"}, \"yaxis\": {\"autorange\": \"reversed\"}}, {\"showLink\": true, \"linkText\": \"Export to plot.ly\"})});</script>"
      ],
      "text/vnd.plotly.v1+html": [
       "<div id=\"e9606cc3-f175-4a84-9fc5-3d8ddbae11fb\" style=\"height: 525px; width: 100%;\" class=\"plotly-graph-div\"></div><script type=\"text/javascript\">require([\"plotly\"], function(Plotly) { window.PLOTLYENV=window.PLOTLYENV || {};window.PLOTLYENV.BASE_URL=\"https://plot.ly\";Plotly.newPlot(\"e9606cc3-f175-4a84-9fc5-3d8ddbae11fb\", [{\"type\": \"heatmap\", \"z\": [[0.0, 0.0, 0.0], [0.5714285714285714, 0.5454545454545454, 0.5581395348837208], [0.2777777777777778, 0.3333333333333333, 0.303030303030303], [0.3333333333333333, 0.16666666666666666, 0.2222222222222222], [0.2631578947368421, 0.5555555555555556, 0.35714285714285715], [0.6666666666666666, 0.2222222222222222, 0.3333333333333333], [0.0, 0.0, 0.0]], \"y\": [\"eat\", \"focused-active\", \"focused-passive\", \"leisure\", \"movement\", \"rest-active\", \"rest-passive\"], \"x\": [\"precision\", \"recall\", \"f1\"], \"colorscale\": [[0.0, \"rgb(165,0,38)\"], [0.1111111111111111, \"rgb(215,48,39)\"], [0.2222222222222222, \"rgb(244,109,67)\"], [0.3333333333333333, \"rgb(253,174,97)\"], [0.4444444444444444, \"rgb(254,224,144)\"], [0.5555555555555556, \"rgb(224,243,248)\"], [0.6666666666666666, \"rgb(171,217,233)\"], [0.7777777777777778, \"rgb(116,173,209)\"], [0.8888888888888888, \"rgb(69,117,180)\"], [1.0, \"rgb(49,54,149)\"]], \"zmin\": 0.5, \"zmax\": 1.0}], {\"title\": \"Precision, Recall, F1-score\", \"font\": {\"size\": 16, \"color\": \"#333333\"}, \"yaxis\": {\"autorange\": \"reversed\"}}, {\"showLink\": true, \"linkText\": \"Export to plot.ly\"})});</script>"
      ]
     },
     "metadata": {},
     "output_type": "display_data"
    },
    {
     "data": {
      "application/vnd.plotly.v1+json": {
       "data": [
        {
         "colorscale": "Reds",
         "type": "heatmap",
         "x": [
          "eat",
          "focused-active",
          "focused-passive",
          "leisure",
          "movement",
          "rest-active",
          "rest-passive"
         ],
         "y": [
          "eat",
          "focused-active",
          "focused-passive",
          "leisure",
          "movement",
          "rest-active",
          "rest-passive"
         ],
         "z": [
          [
           0,
           0,
           2,
           0,
           4,
           0,
           0
          ],
          [
           1,
           12,
           3,
           3,
           3,
           0,
           0
          ],
          [
           2,
           2,
           5,
           1,
           5,
           0,
           0
          ],
          [
           1,
           4,
           2,
           2,
           2,
           1,
           0
          ],
          [
           1,
           1,
           2,
           0,
           5,
           0,
           0
          ],
          [
           2,
           1,
           4,
           0,
           0,
           2,
           0
          ],
          [
           0,
           1,
           0,
           0,
           0,
           0,
           0
          ]
         ]
        }
       ],
       "layout": {
        "font": {
         "color": "#333333",
         "size": 16
        },
        "title": "Confusion Matrix",
        "xaxis": {
         "title": "predicted",
         "titlefont": {
          "color": "#333333",
          "size": 16
         }
        },
        "yaxis": {
         "autorange": "reversed",
         "title": "true label",
         "titlefont": {
          "color": "#333333",
          "size": 16
         }
        }
       }
      },
      "text/html": [
       "<div id=\"59110f8b-e013-45ff-9738-797ee74876a6\" style=\"height: 525px; width: 100%;\" class=\"plotly-graph-div\"></div><script type=\"text/javascript\">require([\"plotly\"], function(Plotly) { window.PLOTLYENV=window.PLOTLYENV || {};window.PLOTLYENV.BASE_URL=\"https://plot.ly\";Plotly.newPlot(\"59110f8b-e013-45ff-9738-797ee74876a6\", [{\"type\": \"heatmap\", \"z\": [[0, 0, 2, 0, 4, 0, 0], [1, 12, 3, 3, 3, 0, 0], [2, 2, 5, 1, 5, 0, 0], [1, 4, 2, 2, 2, 1, 0], [1, 1, 2, 0, 5, 0, 0], [2, 1, 4, 0, 0, 2, 0], [0, 1, 0, 0, 0, 0, 0]], \"x\": [\"eat\", \"focused-active\", \"focused-passive\", \"leisure\", \"movement\", \"rest-active\", \"rest-passive\"], \"y\": [\"eat\", \"focused-active\", \"focused-passive\", \"leisure\", \"movement\", \"rest-active\", \"rest-passive\"], \"colorscale\": \"Reds\"}], {\"title\": \"Confusion Matrix\", \"font\": {\"size\": 16, \"color\": \"#333333\"}, \"xaxis\": {\"title\": \"predicted\", \"titlefont\": {\"size\": 16, \"color\": \"#333333\"}}, \"yaxis\": {\"title\": \"true label\", \"titlefont\": {\"size\": 16, \"color\": \"#333333\"}, \"autorange\": \"reversed\"}}, {\"showLink\": true, \"linkText\": \"Export to plot.ly\"})});</script>"
      ],
      "text/vnd.plotly.v1+html": [
       "<div id=\"59110f8b-e013-45ff-9738-797ee74876a6\" style=\"height: 525px; width: 100%;\" class=\"plotly-graph-div\"></div><script type=\"text/javascript\">require([\"plotly\"], function(Plotly) { window.PLOTLYENV=window.PLOTLYENV || {};window.PLOTLYENV.BASE_URL=\"https://plot.ly\";Plotly.newPlot(\"59110f8b-e013-45ff-9738-797ee74876a6\", [{\"type\": \"heatmap\", \"z\": [[0, 0, 2, 0, 4, 0, 0], [1, 12, 3, 3, 3, 0, 0], [2, 2, 5, 1, 5, 0, 0], [1, 4, 2, 2, 2, 1, 0], [1, 1, 2, 0, 5, 0, 0], [2, 1, 4, 0, 0, 2, 0], [0, 1, 0, 0, 0, 0, 0]], \"x\": [\"eat\", \"focused-active\", \"focused-passive\", \"leisure\", \"movement\", \"rest-active\", \"rest-passive\"], \"y\": [\"eat\", \"focused-active\", \"focused-passive\", \"leisure\", \"movement\", \"rest-active\", \"rest-passive\"], \"colorscale\": \"Reds\"}], {\"title\": \"Confusion Matrix\", \"font\": {\"size\": 16, \"color\": \"#333333\"}, \"xaxis\": {\"title\": \"predicted\", \"titlefont\": {\"size\": 16, \"color\": \"#333333\"}}, \"yaxis\": {\"title\": \"true label\", \"titlefont\": {\"size\": 16, \"color\": \"#333333\"}, \"autorange\": \"reversed\"}}, {\"showLink\": true, \"linkText\": \"Export to plot.ly\"})});</script>"
      ]
     },
     "metadata": {},
     "output_type": "display_data"
    },
    {
     "name": "stdout",
     "output_type": "stream",
     "text": [
      "\n",
      "\n",
      "\n",
      "--------------------------------------------- gr_main3 ---------------------------------------------\n",
      "gr_main3\n",
      "move      82\n",
      "still    287\n",
      "Name: user, dtype: int64\n",
      "295 74\n"
     ]
    },
    {
     "data": {
      "application/vnd.plotly.v1+json": {
       "data": [
        {
         "colorscale": [
          [
           0,
           "rgb(165,0,38)"
          ],
          [
           0.1111111111111111,
           "rgb(215,48,39)"
          ],
          [
           0.2222222222222222,
           "rgb(244,109,67)"
          ],
          [
           0.3333333333333333,
           "rgb(253,174,97)"
          ],
          [
           0.4444444444444444,
           "rgb(254,224,144)"
          ],
          [
           0.5555555555555556,
           "rgb(224,243,248)"
          ],
          [
           0.6666666666666666,
           "rgb(171,217,233)"
          ],
          [
           0.7777777777777778,
           "rgb(116,173,209)"
          ],
          [
           0.8888888888888888,
           "rgb(69,117,180)"
          ],
          [
           1,
           "rgb(49,54,149)"
          ]
         ],
         "type": "heatmap",
         "x": [
          "precision",
          "recall",
          "f1"
         ],
         "y": [
          "move",
          "still"
         ],
         "z": [
          [
           0.9090909090909091,
           0.5555555555555556,
           0.6896551724137931
          ],
          [
           0.873015873015873,
           0.9821428571428571,
           0.9243697478991596
          ]
         ],
         "zmax": 1,
         "zmin": 0.5
        }
       ],
       "layout": {
        "font": {
         "color": "#333333",
         "size": 16
        },
        "title": "Precision, Recall, F1-score",
        "yaxis": {
         "autorange": "reversed"
        }
       }
      },
      "text/html": [
       "<div id=\"c0603c2e-9bed-4c3c-95da-1af9bd2329e5\" style=\"height: 525px; width: 100%;\" class=\"plotly-graph-div\"></div><script type=\"text/javascript\">require([\"plotly\"], function(Plotly) { window.PLOTLYENV=window.PLOTLYENV || {};window.PLOTLYENV.BASE_URL=\"https://plot.ly\";Plotly.newPlot(\"c0603c2e-9bed-4c3c-95da-1af9bd2329e5\", [{\"type\": \"heatmap\", \"z\": [[0.9090909090909091, 0.5555555555555556, 0.6896551724137931], [0.873015873015873, 0.9821428571428571, 0.9243697478991596]], \"y\": [\"move\", \"still\"], \"x\": [\"precision\", \"recall\", \"f1\"], \"colorscale\": [[0.0, \"rgb(165,0,38)\"], [0.1111111111111111, \"rgb(215,48,39)\"], [0.2222222222222222, \"rgb(244,109,67)\"], [0.3333333333333333, \"rgb(253,174,97)\"], [0.4444444444444444, \"rgb(254,224,144)\"], [0.5555555555555556, \"rgb(224,243,248)\"], [0.6666666666666666, \"rgb(171,217,233)\"], [0.7777777777777778, \"rgb(116,173,209)\"], [0.8888888888888888, \"rgb(69,117,180)\"], [1.0, \"rgb(49,54,149)\"]], \"zmin\": 0.5, \"zmax\": 1.0}], {\"title\": \"Precision, Recall, F1-score\", \"font\": {\"size\": 16, \"color\": \"#333333\"}, \"yaxis\": {\"autorange\": \"reversed\"}}, {\"showLink\": true, \"linkText\": \"Export to plot.ly\"})});</script>"
      ],
      "text/vnd.plotly.v1+html": [
       "<div id=\"c0603c2e-9bed-4c3c-95da-1af9bd2329e5\" style=\"height: 525px; width: 100%;\" class=\"plotly-graph-div\"></div><script type=\"text/javascript\">require([\"plotly\"], function(Plotly) { window.PLOTLYENV=window.PLOTLYENV || {};window.PLOTLYENV.BASE_URL=\"https://plot.ly\";Plotly.newPlot(\"c0603c2e-9bed-4c3c-95da-1af9bd2329e5\", [{\"type\": \"heatmap\", \"z\": [[0.9090909090909091, 0.5555555555555556, 0.6896551724137931], [0.873015873015873, 0.9821428571428571, 0.9243697478991596]], \"y\": [\"move\", \"still\"], \"x\": [\"precision\", \"recall\", \"f1\"], \"colorscale\": [[0.0, \"rgb(165,0,38)\"], [0.1111111111111111, \"rgb(215,48,39)\"], [0.2222222222222222, \"rgb(244,109,67)\"], [0.3333333333333333, \"rgb(253,174,97)\"], [0.4444444444444444, \"rgb(254,224,144)\"], [0.5555555555555556, \"rgb(224,243,248)\"], [0.6666666666666666, \"rgb(171,217,233)\"], [0.7777777777777778, \"rgb(116,173,209)\"], [0.8888888888888888, \"rgb(69,117,180)\"], [1.0, \"rgb(49,54,149)\"]], \"zmin\": 0.5, \"zmax\": 1.0}], {\"title\": \"Precision, Recall, F1-score\", \"font\": {\"size\": 16, \"color\": \"#333333\"}, \"yaxis\": {\"autorange\": \"reversed\"}}, {\"showLink\": true, \"linkText\": \"Export to plot.ly\"})});</script>"
      ]
     },
     "metadata": {},
     "output_type": "display_data"
    },
    {
     "data": {
      "application/vnd.plotly.v1+json": {
       "data": [
        {
         "colorscale": "Reds",
         "type": "heatmap",
         "x": [
          "move",
          "still"
         ],
         "y": [
          "move",
          "still"
         ],
         "z": [
          [
           10,
           8
          ],
          [
           1,
           55
          ]
         ]
        }
       ],
       "layout": {
        "font": {
         "color": "#333333",
         "size": 16
        },
        "title": "Confusion Matrix",
        "xaxis": {
         "title": "predicted",
         "titlefont": {
          "color": "#333333",
          "size": 16
         }
        },
        "yaxis": {
         "autorange": "reversed",
         "title": "true label",
         "titlefont": {
          "color": "#333333",
          "size": 16
         }
        }
       }
      },
      "text/html": [
       "<div id=\"140e521f-eec3-42c5-98ca-c52e492f29eb\" style=\"height: 525px; width: 100%;\" class=\"plotly-graph-div\"></div><script type=\"text/javascript\">require([\"plotly\"], function(Plotly) { window.PLOTLYENV=window.PLOTLYENV || {};window.PLOTLYENV.BASE_URL=\"https://plot.ly\";Plotly.newPlot(\"140e521f-eec3-42c5-98ca-c52e492f29eb\", [{\"type\": \"heatmap\", \"z\": [[10, 8], [1, 55]], \"x\": [\"move\", \"still\"], \"y\": [\"move\", \"still\"], \"colorscale\": \"Reds\"}], {\"title\": \"Confusion Matrix\", \"font\": {\"size\": 16, \"color\": \"#333333\"}, \"xaxis\": {\"title\": \"predicted\", \"titlefont\": {\"size\": 16, \"color\": \"#333333\"}}, \"yaxis\": {\"title\": \"true label\", \"titlefont\": {\"size\": 16, \"color\": \"#333333\"}, \"autorange\": \"reversed\"}}, {\"showLink\": true, \"linkText\": \"Export to plot.ly\"})});</script>"
      ],
      "text/vnd.plotly.v1+html": [
       "<div id=\"140e521f-eec3-42c5-98ca-c52e492f29eb\" style=\"height: 525px; width: 100%;\" class=\"plotly-graph-div\"></div><script type=\"text/javascript\">require([\"plotly\"], function(Plotly) { window.PLOTLYENV=window.PLOTLYENV || {};window.PLOTLYENV.BASE_URL=\"https://plot.ly\";Plotly.newPlot(\"140e521f-eec3-42c5-98ca-c52e492f29eb\", [{\"type\": \"heatmap\", \"z\": [[10, 8], [1, 55]], \"x\": [\"move\", \"still\"], \"y\": [\"move\", \"still\"], \"colorscale\": \"Reds\"}], {\"title\": \"Confusion Matrix\", \"font\": {\"size\": 16, \"color\": \"#333333\"}, \"xaxis\": {\"title\": \"predicted\", \"titlefont\": {\"size\": 16, \"color\": \"#333333\"}}, \"yaxis\": {\"title\": \"true label\", \"titlefont\": {\"size\": 16, \"color\": \"#333333\"}, \"autorange\": \"reversed\"}}, {\"showLink\": true, \"linkText\": \"Export to plot.ly\"})});</script>"
      ]
     },
     "metadata": {},
     "output_type": "display_data"
    },
    {
     "name": "stdout",
     "output_type": "stream",
     "text": [
      "\n",
      "\n",
      "\n",
      "--------------------------------------------- gr_main4 ---------------------------------------------\n",
      "gr_main4\n",
      "move      82\n",
      "still    287\n",
      "Name: user, dtype: int64\n",
      "295 74\n"
     ]
    },
    {
     "data": {
      "application/vnd.plotly.v1+json": {
       "data": [
        {
         "colorscale": [
          [
           0,
           "rgb(165,0,38)"
          ],
          [
           0.1111111111111111,
           "rgb(215,48,39)"
          ],
          [
           0.2222222222222222,
           "rgb(244,109,67)"
          ],
          [
           0.3333333333333333,
           "rgb(253,174,97)"
          ],
          [
           0.4444444444444444,
           "rgb(254,224,144)"
          ],
          [
           0.5555555555555556,
           "rgb(224,243,248)"
          ],
          [
           0.6666666666666666,
           "rgb(171,217,233)"
          ],
          [
           0.7777777777777778,
           "rgb(116,173,209)"
          ],
          [
           0.8888888888888888,
           "rgb(69,117,180)"
          ],
          [
           1,
           "rgb(49,54,149)"
          ]
         ],
         "type": "heatmap",
         "x": [
          "precision",
          "recall",
          "f1"
         ],
         "y": [
          "move",
          "still"
         ],
         "z": [
          [
           0.7142857142857143,
           0.4,
           0.5128205128205129
          ],
          [
           0.75,
           0.9183673469387755,
           0.8256880733944955
          ]
         ],
         "zmax": 1,
         "zmin": 0.5
        }
       ],
       "layout": {
        "font": {
         "color": "#333333",
         "size": 16
        },
        "title": "Precision, Recall, F1-score",
        "yaxis": {
         "autorange": "reversed"
        }
       }
      },
      "text/html": [
       "<div id=\"9edafade-c43e-4146-b46d-38bcb1e98993\" style=\"height: 525px; width: 100%;\" class=\"plotly-graph-div\"></div><script type=\"text/javascript\">require([\"plotly\"], function(Plotly) { window.PLOTLYENV=window.PLOTLYENV || {};window.PLOTLYENV.BASE_URL=\"https://plot.ly\";Plotly.newPlot(\"9edafade-c43e-4146-b46d-38bcb1e98993\", [{\"type\": \"heatmap\", \"z\": [[0.7142857142857143, 0.4, 0.5128205128205129], [0.75, 0.9183673469387755, 0.8256880733944955]], \"y\": [\"move\", \"still\"], \"x\": [\"precision\", \"recall\", \"f1\"], \"colorscale\": [[0.0, \"rgb(165,0,38)\"], [0.1111111111111111, \"rgb(215,48,39)\"], [0.2222222222222222, \"rgb(244,109,67)\"], [0.3333333333333333, \"rgb(253,174,97)\"], [0.4444444444444444, \"rgb(254,224,144)\"], [0.5555555555555556, \"rgb(224,243,248)\"], [0.6666666666666666, \"rgb(171,217,233)\"], [0.7777777777777778, \"rgb(116,173,209)\"], [0.8888888888888888, \"rgb(69,117,180)\"], [1.0, \"rgb(49,54,149)\"]], \"zmin\": 0.5, \"zmax\": 1.0}], {\"title\": \"Precision, Recall, F1-score\", \"font\": {\"size\": 16, \"color\": \"#333333\"}, \"yaxis\": {\"autorange\": \"reversed\"}}, {\"showLink\": true, \"linkText\": \"Export to plot.ly\"})});</script>"
      ],
      "text/vnd.plotly.v1+html": [
       "<div id=\"9edafade-c43e-4146-b46d-38bcb1e98993\" style=\"height: 525px; width: 100%;\" class=\"plotly-graph-div\"></div><script type=\"text/javascript\">require([\"plotly\"], function(Plotly) { window.PLOTLYENV=window.PLOTLYENV || {};window.PLOTLYENV.BASE_URL=\"https://plot.ly\";Plotly.newPlot(\"9edafade-c43e-4146-b46d-38bcb1e98993\", [{\"type\": \"heatmap\", \"z\": [[0.7142857142857143, 0.4, 0.5128205128205129], [0.75, 0.9183673469387755, 0.8256880733944955]], \"y\": [\"move\", \"still\"], \"x\": [\"precision\", \"recall\", \"f1\"], \"colorscale\": [[0.0, \"rgb(165,0,38)\"], [0.1111111111111111, \"rgb(215,48,39)\"], [0.2222222222222222, \"rgb(244,109,67)\"], [0.3333333333333333, \"rgb(253,174,97)\"], [0.4444444444444444, \"rgb(254,224,144)\"], [0.5555555555555556, \"rgb(224,243,248)\"], [0.6666666666666666, \"rgb(171,217,233)\"], [0.7777777777777778, \"rgb(116,173,209)\"], [0.8888888888888888, \"rgb(69,117,180)\"], [1.0, \"rgb(49,54,149)\"]], \"zmin\": 0.5, \"zmax\": 1.0}], {\"title\": \"Precision, Recall, F1-score\", \"font\": {\"size\": 16, \"color\": \"#333333\"}, \"yaxis\": {\"autorange\": \"reversed\"}}, {\"showLink\": true, \"linkText\": \"Export to plot.ly\"})});</script>"
      ]
     },
     "metadata": {},
     "output_type": "display_data"
    },
    {
     "data": {
      "application/vnd.plotly.v1+json": {
       "data": [
        {
         "colorscale": "Reds",
         "type": "heatmap",
         "x": [
          "move",
          "still"
         ],
         "y": [
          "move",
          "still"
         ],
         "z": [
          [
           10,
           15
          ],
          [
           4,
           45
          ]
         ]
        }
       ],
       "layout": {
        "font": {
         "color": "#333333",
         "size": 16
        },
        "title": "Confusion Matrix",
        "xaxis": {
         "title": "predicted",
         "titlefont": {
          "color": "#333333",
          "size": 16
         }
        },
        "yaxis": {
         "autorange": "reversed",
         "title": "true label",
         "titlefont": {
          "color": "#333333",
          "size": 16
         }
        }
       }
      },
      "text/html": [
       "<div id=\"e9052b46-ccbd-4ba7-804c-c772673e7638\" style=\"height: 525px; width: 100%;\" class=\"plotly-graph-div\"></div><script type=\"text/javascript\">require([\"plotly\"], function(Plotly) { window.PLOTLYENV=window.PLOTLYENV || {};window.PLOTLYENV.BASE_URL=\"https://plot.ly\";Plotly.newPlot(\"e9052b46-ccbd-4ba7-804c-c772673e7638\", [{\"type\": \"heatmap\", \"z\": [[10, 15], [4, 45]], \"x\": [\"move\", \"still\"], \"y\": [\"move\", \"still\"], \"colorscale\": \"Reds\"}], {\"title\": \"Confusion Matrix\", \"font\": {\"size\": 16, \"color\": \"#333333\"}, \"xaxis\": {\"title\": \"predicted\", \"titlefont\": {\"size\": 16, \"color\": \"#333333\"}}, \"yaxis\": {\"title\": \"true label\", \"titlefont\": {\"size\": 16, \"color\": \"#333333\"}, \"autorange\": \"reversed\"}}, {\"showLink\": true, \"linkText\": \"Export to plot.ly\"})});</script>"
      ],
      "text/vnd.plotly.v1+html": [
       "<div id=\"e9052b46-ccbd-4ba7-804c-c772673e7638\" style=\"height: 525px; width: 100%;\" class=\"plotly-graph-div\"></div><script type=\"text/javascript\">require([\"plotly\"], function(Plotly) { window.PLOTLYENV=window.PLOTLYENV || {};window.PLOTLYENV.BASE_URL=\"https://plot.ly\";Plotly.newPlot(\"e9052b46-ccbd-4ba7-804c-c772673e7638\", [{\"type\": \"heatmap\", \"z\": [[10, 15], [4, 45]], \"x\": [\"move\", \"still\"], \"y\": [\"move\", \"still\"], \"colorscale\": \"Reds\"}], {\"title\": \"Confusion Matrix\", \"font\": {\"size\": 16, \"color\": \"#333333\"}, \"xaxis\": {\"title\": \"predicted\", \"titlefont\": {\"size\": 16, \"color\": \"#333333\"}}, \"yaxis\": {\"title\": \"true label\", \"titlefont\": {\"size\": 16, \"color\": \"#333333\"}, \"autorange\": \"reversed\"}}, {\"showLink\": true, \"linkText\": \"Export to plot.ly\"})});</script>"
      ]
     },
     "metadata": {},
     "output_type": "display_data"
    },
    {
     "name": "stdout",
     "output_type": "stream",
     "text": [
      "\n",
      "\n",
      "\n",
      "--------------------------------------------- gr_stress2 ---------------------------------------------\n",
      "gr_stress2\n",
      "move         82\n",
      "relaxed      97\n",
      "stressed    190\n",
      "Name: user, dtype: int64\n",
      "295 74\n"
     ]
    },
    {
     "data": {
      "application/vnd.plotly.v1+json": {
       "data": [
        {
         "colorscale": [
          [
           0,
           "rgb(165,0,38)"
          ],
          [
           0.1111111111111111,
           "rgb(215,48,39)"
          ],
          [
           0.2222222222222222,
           "rgb(244,109,67)"
          ],
          [
           0.3333333333333333,
           "rgb(253,174,97)"
          ],
          [
           0.4444444444444444,
           "rgb(254,224,144)"
          ],
          [
           0.5555555555555556,
           "rgb(224,243,248)"
          ],
          [
           0.6666666666666666,
           "rgb(171,217,233)"
          ],
          [
           0.7777777777777778,
           "rgb(116,173,209)"
          ],
          [
           0.8888888888888888,
           "rgb(69,117,180)"
          ],
          [
           1,
           "rgb(49,54,149)"
          ]
         ],
         "type": "heatmap",
         "x": [
          "precision",
          "recall",
          "f1"
         ],
         "y": [
          "move",
          "relaxed",
          "stressed"
         ],
         "z": [
          [
           0.8,
           0.5714285714285714,
           0.6666666666666666
          ],
          [
           0.4444444444444444,
           0.14814814814814814,
           0.2222222222222222
          ],
          [
           0.5454545454545454,
           0.9090909090909091,
           0.6818181818181818
          ]
         ],
         "zmax": 1,
         "zmin": 0.5
        }
       ],
       "layout": {
        "font": {
         "color": "#333333",
         "size": 16
        },
        "title": "Precision, Recall, F1-score",
        "yaxis": {
         "autorange": "reversed"
        }
       }
      },
      "text/html": [
       "<div id=\"9cfc4aa1-4703-4d41-ba0d-b263984f82e1\" style=\"height: 525px; width: 100%;\" class=\"plotly-graph-div\"></div><script type=\"text/javascript\">require([\"plotly\"], function(Plotly) { window.PLOTLYENV=window.PLOTLYENV || {};window.PLOTLYENV.BASE_URL=\"https://plot.ly\";Plotly.newPlot(\"9cfc4aa1-4703-4d41-ba0d-b263984f82e1\", [{\"type\": \"heatmap\", \"z\": [[0.8, 0.5714285714285714, 0.6666666666666666], [0.4444444444444444, 0.14814814814814814, 0.2222222222222222], [0.5454545454545454, 0.9090909090909091, 0.6818181818181818]], \"y\": [\"move\", \"relaxed\", \"stressed\"], \"x\": [\"precision\", \"recall\", \"f1\"], \"colorscale\": [[0.0, \"rgb(165,0,38)\"], [0.1111111111111111, \"rgb(215,48,39)\"], [0.2222222222222222, \"rgb(244,109,67)\"], [0.3333333333333333, \"rgb(253,174,97)\"], [0.4444444444444444, \"rgb(254,224,144)\"], [0.5555555555555556, \"rgb(224,243,248)\"], [0.6666666666666666, \"rgb(171,217,233)\"], [0.7777777777777778, \"rgb(116,173,209)\"], [0.8888888888888888, \"rgb(69,117,180)\"], [1.0, \"rgb(49,54,149)\"]], \"zmin\": 0.5, \"zmax\": 1.0}], {\"title\": \"Precision, Recall, F1-score\", \"font\": {\"size\": 16, \"color\": \"#333333\"}, \"yaxis\": {\"autorange\": \"reversed\"}}, {\"showLink\": true, \"linkText\": \"Export to plot.ly\"})});</script>"
      ],
      "text/vnd.plotly.v1+html": [
       "<div id=\"9cfc4aa1-4703-4d41-ba0d-b263984f82e1\" style=\"height: 525px; width: 100%;\" class=\"plotly-graph-div\"></div><script type=\"text/javascript\">require([\"plotly\"], function(Plotly) { window.PLOTLYENV=window.PLOTLYENV || {};window.PLOTLYENV.BASE_URL=\"https://plot.ly\";Plotly.newPlot(\"9cfc4aa1-4703-4d41-ba0d-b263984f82e1\", [{\"type\": \"heatmap\", \"z\": [[0.8, 0.5714285714285714, 0.6666666666666666], [0.4444444444444444, 0.14814814814814814, 0.2222222222222222], [0.5454545454545454, 0.9090909090909091, 0.6818181818181818]], \"y\": [\"move\", \"relaxed\", \"stressed\"], \"x\": [\"precision\", \"recall\", \"f1\"], \"colorscale\": [[0.0, \"rgb(165,0,38)\"], [0.1111111111111111, \"rgb(215,48,39)\"], [0.2222222222222222, \"rgb(244,109,67)\"], [0.3333333333333333, \"rgb(253,174,97)\"], [0.4444444444444444, \"rgb(254,224,144)\"], [0.5555555555555556, \"rgb(224,243,248)\"], [0.6666666666666666, \"rgb(171,217,233)\"], [0.7777777777777778, \"rgb(116,173,209)\"], [0.8888888888888888, \"rgb(69,117,180)\"], [1.0, \"rgb(49,54,149)\"]], \"zmin\": 0.5, \"zmax\": 1.0}], {\"title\": \"Precision, Recall, F1-score\", \"font\": {\"size\": 16, \"color\": \"#333333\"}, \"yaxis\": {\"autorange\": \"reversed\"}}, {\"showLink\": true, \"linkText\": \"Export to plot.ly\"})});</script>"
      ]
     },
     "metadata": {},
     "output_type": "display_data"
    },
    {
     "data": {
      "application/vnd.plotly.v1+json": {
       "data": [
        {
         "colorscale": "Reds",
         "type": "heatmap",
         "x": [
          "move",
          "relaxed",
          "stressed"
         ],
         "y": [
          "move",
          "relaxed",
          "stressed"
         ],
         "z": [
          [
           8,
           2,
           4
          ],
          [
           2,
           4,
           21
          ],
          [
           0,
           3,
           30
          ]
         ]
        }
       ],
       "layout": {
        "font": {
         "color": "#333333",
         "size": 16
        },
        "title": "Confusion Matrix",
        "xaxis": {
         "title": "predicted",
         "titlefont": {
          "color": "#333333",
          "size": 16
         }
        },
        "yaxis": {
         "autorange": "reversed",
         "title": "true label",
         "titlefont": {
          "color": "#333333",
          "size": 16
         }
        }
       }
      },
      "text/html": [
       "<div id=\"b5f07723-c206-41d3-858b-86f131fc5994\" style=\"height: 525px; width: 100%;\" class=\"plotly-graph-div\"></div><script type=\"text/javascript\">require([\"plotly\"], function(Plotly) { window.PLOTLYENV=window.PLOTLYENV || {};window.PLOTLYENV.BASE_URL=\"https://plot.ly\";Plotly.newPlot(\"b5f07723-c206-41d3-858b-86f131fc5994\", [{\"type\": \"heatmap\", \"z\": [[8, 2, 4], [2, 4, 21], [0, 3, 30]], \"x\": [\"move\", \"relaxed\", \"stressed\"], \"y\": [\"move\", \"relaxed\", \"stressed\"], \"colorscale\": \"Reds\"}], {\"title\": \"Confusion Matrix\", \"font\": {\"size\": 16, \"color\": \"#333333\"}, \"xaxis\": {\"title\": \"predicted\", \"titlefont\": {\"size\": 16, \"color\": \"#333333\"}}, \"yaxis\": {\"title\": \"true label\", \"titlefont\": {\"size\": 16, \"color\": \"#333333\"}, \"autorange\": \"reversed\"}}, {\"showLink\": true, \"linkText\": \"Export to plot.ly\"})});</script>"
      ],
      "text/vnd.plotly.v1+html": [
       "<div id=\"b5f07723-c206-41d3-858b-86f131fc5994\" style=\"height: 525px; width: 100%;\" class=\"plotly-graph-div\"></div><script type=\"text/javascript\">require([\"plotly\"], function(Plotly) { window.PLOTLYENV=window.PLOTLYENV || {};window.PLOTLYENV.BASE_URL=\"https://plot.ly\";Plotly.newPlot(\"b5f07723-c206-41d3-858b-86f131fc5994\", [{\"type\": \"heatmap\", \"z\": [[8, 2, 4], [2, 4, 21], [0, 3, 30]], \"x\": [\"move\", \"relaxed\", \"stressed\"], \"y\": [\"move\", \"relaxed\", \"stressed\"], \"colorscale\": \"Reds\"}], {\"title\": \"Confusion Matrix\", \"font\": {\"size\": 16, \"color\": \"#333333\"}, \"xaxis\": {\"title\": \"predicted\", \"titlefont\": {\"size\": 16, \"color\": \"#333333\"}}, \"yaxis\": {\"title\": \"true label\", \"titlefont\": {\"size\": 16, \"color\": \"#333333\"}, \"autorange\": \"reversed\"}}, {\"showLink\": true, \"linkText\": \"Export to plot.ly\"})});</script>"
      ]
     },
     "metadata": {},
     "output_type": "display_data"
    }
   ],
   "source": [
    "dfu = df[df['user']==2]\n",
    "for label in ['activity', 'gr_main3', 'gr_main4', 'gr_stress2']:\n",
    "    cmc.plot_matrices(dfu, clf, features, label)          "
   ]
  },
  {
   "cell_type": "code",
   "execution_count": 28,
   "metadata": {},
   "outputs": [
    {
     "name": "stderr",
     "output_type": "stream",
     "text": [
      "C:\\Users\\Ju\\Anaconda3\\lib\\site-packages\\pandas\\core\\indexing.py:179: SettingWithCopyWarning:\n",
      "\n",
      "\n",
      "A value is trying to be set on a copy of a slice from a DataFrame\n",
      "\n",
      "See the caveats in the documentation: http://pandas.pydata.org/pandas-docs/stable/indexing.html#indexing-view-versus-copy\n",
      "\n"
     ]
    }
   ],
   "source": [
    "df.posture.loc[df.posture == 'lying down'] =  'lie'\n",
    "df.posture.loc[df.posture == 'sitting'] =  'sit'\n",
    "df.posture.loc[df.posture == 'standing'] =  'stand'\n",
    "df.posture.loc[df.posture == 'standing '] =  'stand'\n",
    "df = df.loc[df.posture != 'posture']"
   ]
  },
  {
   "cell_type": "code",
   "execution_count": 29,
   "metadata": {},
   "outputs": [
    {
     "name": "stdout",
     "output_type": "stream",
     "text": [
      "\n",
      "\n",
      "\n",
      "--------------------------------------------- posture ---------------------------------------------\n",
      "posture\n",
      "lie       631\n",
      "sit      1198\n",
      "stand     556\n",
      "Name: user, dtype: int64\n",
      "1908 477\n"
     ]
    },
    {
     "data": {
      "application/vnd.plotly.v1+json": {
       "data": [
        {
         "colorscale": [
          [
           0,
           "rgb(165,0,38)"
          ],
          [
           0.1111111111111111,
           "rgb(215,48,39)"
          ],
          [
           0.2222222222222222,
           "rgb(244,109,67)"
          ],
          [
           0.3333333333333333,
           "rgb(253,174,97)"
          ],
          [
           0.4444444444444444,
           "rgb(254,224,144)"
          ],
          [
           0.5555555555555556,
           "rgb(224,243,248)"
          ],
          [
           0.6666666666666666,
           "rgb(171,217,233)"
          ],
          [
           0.7777777777777778,
           "rgb(116,173,209)"
          ],
          [
           0.8888888888888888,
           "rgb(69,117,180)"
          ],
          [
           1,
           "rgb(49,54,149)"
          ]
         ],
         "type": "heatmap",
         "x": [
          "precision",
          "recall",
          "f1"
         ],
         "y": [
          "lie",
          "sit",
          "stand"
         ],
         "z": [
          [
           0.8846153846153846,
           0.7796610169491526,
           0.8288288288288288
          ],
          [
           0.7803030303030303,
           0.865546218487395,
           0.8207171314741035
          ],
          [
           0.7981651376146789,
           0.71900826446281,
           0.7565217391304349
          ]
         ],
         "zmax": 1,
         "zmin": 0.5
        }
       ],
       "layout": {
        "font": {
         "color": "#333333",
         "size": 16
        },
        "title": "Precision, Recall, F1-score",
        "yaxis": {
         "autorange": "reversed"
        }
       }
      },
      "text/html": [
       "<div id=\"bab5165f-338c-4873-b0fe-9bedbb0fdf24\" style=\"height: 525px; width: 100%;\" class=\"plotly-graph-div\"></div><script type=\"text/javascript\">require([\"plotly\"], function(Plotly) { window.PLOTLYENV=window.PLOTLYENV || {};window.PLOTLYENV.BASE_URL=\"https://plot.ly\";Plotly.newPlot(\"bab5165f-338c-4873-b0fe-9bedbb0fdf24\", [{\"type\": \"heatmap\", \"z\": [[0.8846153846153846, 0.7796610169491526, 0.8288288288288288], [0.7803030303030303, 0.865546218487395, 0.8207171314741035], [0.7981651376146789, 0.71900826446281, 0.7565217391304349]], \"y\": [\"lie\", \"sit\", \"stand\"], \"x\": [\"precision\", \"recall\", \"f1\"], \"colorscale\": [[0.0, \"rgb(165,0,38)\"], [0.1111111111111111, \"rgb(215,48,39)\"], [0.2222222222222222, \"rgb(244,109,67)\"], [0.3333333333333333, \"rgb(253,174,97)\"], [0.4444444444444444, \"rgb(254,224,144)\"], [0.5555555555555556, \"rgb(224,243,248)\"], [0.6666666666666666, \"rgb(171,217,233)\"], [0.7777777777777778, \"rgb(116,173,209)\"], [0.8888888888888888, \"rgb(69,117,180)\"], [1.0, \"rgb(49,54,149)\"]], \"zmin\": 0.5, \"zmax\": 1.0}], {\"title\": \"Precision, Recall, F1-score\", \"font\": {\"size\": 16, \"color\": \"#333333\"}, \"yaxis\": {\"autorange\": \"reversed\"}}, {\"showLink\": true, \"linkText\": \"Export to plot.ly\"})});</script>"
      ],
      "text/vnd.plotly.v1+html": [
       "<div id=\"bab5165f-338c-4873-b0fe-9bedbb0fdf24\" style=\"height: 525px; width: 100%;\" class=\"plotly-graph-div\"></div><script type=\"text/javascript\">require([\"plotly\"], function(Plotly) { window.PLOTLYENV=window.PLOTLYENV || {};window.PLOTLYENV.BASE_URL=\"https://plot.ly\";Plotly.newPlot(\"bab5165f-338c-4873-b0fe-9bedbb0fdf24\", [{\"type\": \"heatmap\", \"z\": [[0.8846153846153846, 0.7796610169491526, 0.8288288288288288], [0.7803030303030303, 0.865546218487395, 0.8207171314741035], [0.7981651376146789, 0.71900826446281, 0.7565217391304349]], \"y\": [\"lie\", \"sit\", \"stand\"], \"x\": [\"precision\", \"recall\", \"f1\"], \"colorscale\": [[0.0, \"rgb(165,0,38)\"], [0.1111111111111111, \"rgb(215,48,39)\"], [0.2222222222222222, \"rgb(244,109,67)\"], [0.3333333333333333, \"rgb(253,174,97)\"], [0.4444444444444444, \"rgb(254,224,144)\"], [0.5555555555555556, \"rgb(224,243,248)\"], [0.6666666666666666, \"rgb(171,217,233)\"], [0.7777777777777778, \"rgb(116,173,209)\"], [0.8888888888888888, \"rgb(69,117,180)\"], [1.0, \"rgb(49,54,149)\"]], \"zmin\": 0.5, \"zmax\": 1.0}], {\"title\": \"Precision, Recall, F1-score\", \"font\": {\"size\": 16, \"color\": \"#333333\"}, \"yaxis\": {\"autorange\": \"reversed\"}}, {\"showLink\": true, \"linkText\": \"Export to plot.ly\"})});</script>"
      ]
     },
     "metadata": {},
     "output_type": "display_data"
    },
    {
     "data": {
      "application/vnd.plotly.v1+json": {
       "data": [
        {
         "colorscale": "Reds",
         "type": "heatmap",
         "x": [
          "lie",
          "sit",
          "stand"
         ],
         "y": [
          "lie",
          "sit",
          "stand"
         ],
         "z": [
          [
           92,
           24,
           2
          ],
          [
           12,
           206,
           20
          ],
          [
           0,
           34,
           87
          ]
         ]
        }
       ],
       "layout": {
        "font": {
         "color": "#333333",
         "size": 16
        },
        "title": "Confusion Matrix",
        "xaxis": {
         "title": "predicted",
         "titlefont": {
          "color": "#333333",
          "size": 16
         }
        },
        "yaxis": {
         "autorange": "reversed",
         "title": "true label",
         "titlefont": {
          "color": "#333333",
          "size": 16
         }
        }
       }
      },
      "text/html": [
       "<div id=\"080887fa-46ff-4b4f-83e7-a203be5c0678\" style=\"height: 525px; width: 100%;\" class=\"plotly-graph-div\"></div><script type=\"text/javascript\">require([\"plotly\"], function(Plotly) { window.PLOTLYENV=window.PLOTLYENV || {};window.PLOTLYENV.BASE_URL=\"https://plot.ly\";Plotly.newPlot(\"080887fa-46ff-4b4f-83e7-a203be5c0678\", [{\"type\": \"heatmap\", \"z\": [[92, 24, 2], [12, 206, 20], [0, 34, 87]], \"x\": [\"lie\", \"sit\", \"stand\"], \"y\": [\"lie\", \"sit\", \"stand\"], \"colorscale\": \"Reds\"}], {\"title\": \"Confusion Matrix\", \"font\": {\"size\": 16, \"color\": \"#333333\"}, \"xaxis\": {\"title\": \"predicted\", \"titlefont\": {\"size\": 16, \"color\": \"#333333\"}}, \"yaxis\": {\"title\": \"true label\", \"titlefont\": {\"size\": 16, \"color\": \"#333333\"}, \"autorange\": \"reversed\"}}, {\"showLink\": true, \"linkText\": \"Export to plot.ly\"})});</script>"
      ],
      "text/vnd.plotly.v1+html": [
       "<div id=\"080887fa-46ff-4b4f-83e7-a203be5c0678\" style=\"height: 525px; width: 100%;\" class=\"plotly-graph-div\"></div><script type=\"text/javascript\">require([\"plotly\"], function(Plotly) { window.PLOTLYENV=window.PLOTLYENV || {};window.PLOTLYENV.BASE_URL=\"https://plot.ly\";Plotly.newPlot(\"080887fa-46ff-4b4f-83e7-a203be5c0678\", [{\"type\": \"heatmap\", \"z\": [[92, 24, 2], [12, 206, 20], [0, 34, 87]], \"x\": [\"lie\", \"sit\", \"stand\"], \"y\": [\"lie\", \"sit\", \"stand\"], \"colorscale\": \"Reds\"}], {\"title\": \"Confusion Matrix\", \"font\": {\"size\": 16, \"color\": \"#333333\"}, \"xaxis\": {\"title\": \"predicted\", \"titlefont\": {\"size\": 16, \"color\": \"#333333\"}}, \"yaxis\": {\"title\": \"true label\", \"titlefont\": {\"size\": 16, \"color\": \"#333333\"}, \"autorange\": \"reversed\"}}, {\"showLink\": true, \"linkText\": \"Export to plot.ly\"})});</script>"
      ]
     },
     "metadata": {},
     "output_type": "display_data"
    }
   ],
   "source": [
    "cmc.plot_matrices(df, clf, features, 'posture')"
   ]
  },
  {
   "cell_type": "code",
   "execution_count": null,
   "metadata": {},
   "outputs": [],
   "source": []
  }
 ],
 "metadata": {
  "kernelspec": {
   "display_name": "Python 3",
   "language": "python",
   "name": "python3"
  },
  "language_info": {
   "codemirror_mode": {
    "name": "ipython",
    "version": 3
   },
   "file_extension": ".py",
   "mimetype": "text/x-python",
   "name": "python",
   "nbconvert_exporter": "python",
   "pygments_lexer": "ipython3",
   "version": "3.6.3"
  }
 },
 "nbformat": 4,
 "nbformat_minor": 2
}
