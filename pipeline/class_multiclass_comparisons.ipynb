{
 "cells": [
  {
   "cell_type": "code",
   "execution_count": 1,
   "metadata": {},
   "outputs": [
    {
     "data": {
      "text/html": [
       "<script>requirejs.config({paths: { 'plotly': ['https://cdn.plot.ly/plotly-latest.min']},});if(!window.Plotly) {{require(['plotly'],function(plotly) {window.Plotly=plotly;});}}</script>"
      ],
      "text/vnd.plotly.v1+html": [
       "<script>requirejs.config({paths: { 'plotly': ['https://cdn.plot.ly/plotly-latest.min']},});if(!window.Plotly) {{require(['plotly'],function(plotly) {window.Plotly=plotly;});}}</script>"
      ]
     },
     "metadata": {},
     "output_type": "display_data"
    }
   ],
   "source": [
    "%load_ext autoreload\n",
    "%autoreload 2\n",
    "%matplotlib inline\n",
    "\n",
    "import pandas as pd\n",
    "import numpy as np\n",
    "import plotly.offline as pl\n",
    "import plotly.graph_objs as go\n",
    "pl.init_notebook_mode(connected=True)\n",
    "\n",
    "from sklearn import svm\n",
    "from sklearn.ensemble import RandomForestClassifier\n",
    "from sklearn.preprocessing import scale\n",
    "from sklearn.model_selection import StratifiedShuffleSplit, GridSearchCV, train_test_split\n",
    "from sklearn.metrics import classification_report, precision_recall_fscore_support, confusion_matrix\n",
    "\n",
    "import hervpd as hp\n",
    "import classif\n",
    "import dataviz as dv\n",
    "import classif_multiclass as cmc"
   ]
  },
  {
   "cell_type": "code",
   "execution_count": 5,
   "metadata": {},
   "outputs": [],
   "source": [
    "path = \"C:\\\\Users\\\\ju\\\\GDrive\\\\Projects\\\\HeRV\\\\Data\\\\PreProcessed\" \n",
    "\n",
    "features = ['mrri', 'sdnn', 'rmssd', 'pnn50', 'hfnu', 'lfnu', 'lf_hf']\n",
    "crops = [30, 90] \n",
    "durations = [600, 300, 240, 180, 120, 60]"
   ]
  },
  {
   "cell_type": "code",
   "execution_count": 3,
   "metadata": {},
   "outputs": [],
   "source": [
    "c1 = 10\n",
    "gamma = 0.1\n",
    "\n",
    "\n",
    "clf_rbf = svm.SVC(kernel='rbf', cache_size=1000, C=c1, gamma=gamma)\n",
    "clf_lin = svm.SVC(kernel='linear', cache_size=1000, C=10, gamma=gamma)\n",
    "clf_rf = RandomForestClassifier(n_estimators=100, n_jobs=-1)\n",
    "\n",
    "#classifiers = {'rf': clf_rf, 'rbf': clf_rbf, 'lin': clf_lin}\n",
    "classifiers = {'rf': clf_rf, 'rbf': clf_rbf}"
   ]
  },
  {
   "cell_type": "markdown",
   "metadata": {},
   "source": [
    "## Reports"
   ]
  },
  {
   "cell_type": "code",
   "execution_count": 24,
   "metadata": {},
   "outputs": [
    {
     "name": "stdout",
     "output_type": "stream",
     "text": [
      "1265 317\n",
      "1265 317\n"
     ]
    },
    {
     "name": "stderr",
     "output_type": "stream",
     "text": [
      "C:\\Users\\Ju\\Anaconda3\\lib\\site-packages\\sklearn\\metrics\\classification.py:1135: UndefinedMetricWarning:\n",
      "\n",
      "Precision and F-score are ill-defined and being set to 0.0 in labels with no predicted samples.\n",
      "\n"
     ]
    },
    {
     "name": "stdout",
     "output_type": "stream",
     "text": [
      "1233 309\n",
      "1233 309\n"
     ]
    },
    {
     "name": "stderr",
     "output_type": "stream",
     "text": [
      "C:\\Users\\Ju\\Anaconda3\\lib\\site-packages\\sklearn\\metrics\\classification.py:1135: UndefinedMetricWarning:\n",
      "\n",
      "Precision and F-score are ill-defined and being set to 0.0 in labels with no predicted samples.\n",
      "\n"
     ]
    },
    {
     "name": "stdout",
     "output_type": "stream",
     "text": [
      "2655 664\n",
      "2655 664\n"
     ]
    },
    {
     "name": "stderr",
     "output_type": "stream",
     "text": [
      "C:\\Users\\Ju\\Anaconda3\\lib\\site-packages\\sklearn\\metrics\\classification.py:1135: UndefinedMetricWarning:\n",
      "\n",
      "Precision and F-score are ill-defined and being set to 0.0 in labels with no predicted samples.\n",
      "\n"
     ]
    },
    {
     "name": "stdout",
     "output_type": "stream",
     "text": [
      "2584 646\n",
      "2584 646\n"
     ]
    },
    {
     "name": "stderr",
     "output_type": "stream",
     "text": [
      "C:\\Users\\Ju\\Anaconda3\\lib\\site-packages\\sklearn\\metrics\\classification.py:1135: UndefinedMetricWarning:\n",
      "\n",
      "Precision and F-score are ill-defined and being set to 0.0 in labels with no predicted samples.\n",
      "\n"
     ]
    },
    {
     "name": "stdout",
     "output_type": "stream",
     "text": [
      "3365 842\n",
      "3365 842\n"
     ]
    },
    {
     "name": "stderr",
     "output_type": "stream",
     "text": [
      "C:\\Users\\Ju\\Anaconda3\\lib\\site-packages\\sklearn\\metrics\\classification.py:1135: UndefinedMetricWarning:\n",
      "\n",
      "Precision and F-score are ill-defined and being set to 0.0 in labels with no predicted samples.\n",
      "\n"
     ]
    },
    {
     "name": "stdout",
     "output_type": "stream",
     "text": [
      "3295 824\n",
      "3295 824\n"
     ]
    },
    {
     "name": "stderr",
     "output_type": "stream",
     "text": [
      "C:\\Users\\Ju\\Anaconda3\\lib\\site-packages\\sklearn\\metrics\\classification.py:1135: UndefinedMetricWarning:\n",
      "\n",
      "Precision and F-score are ill-defined and being set to 0.0 in labels with no predicted samples.\n",
      "\n"
     ]
    },
    {
     "name": "stdout",
     "output_type": "stream",
     "text": [
      "4553 1139\n",
      "4553 1139\n",
      "4451 1113\n",
      "4451 1113\n",
      "6933 1734\n",
      "6933 1734\n",
      "6783 1696\n",
      "6783 1696\n"
     ]
    },
    {
     "name": "stderr",
     "output_type": "stream",
     "text": [
      "C:\\Users\\Ju\\Anaconda3\\lib\\site-packages\\sklearn\\metrics\\classification.py:1135: UndefinedMetricWarning:\n",
      "\n",
      "Precision and F-score are ill-defined and being set to 0.0 in labels with no predicted samples.\n",
      "\n"
     ]
    },
    {
     "name": "stdout",
     "output_type": "stream",
     "text": [
      "14116 3529\n",
      "14116 3529\n",
      "13795 3449\n",
      "13795 3449\n"
     ]
    }
   ],
   "source": [
    "dminter = cmc.multiclass_classif_table(durations, crops, classifiers, features, 'gr_main4', path)"
   ]
  },
  {
   "cell_type": "code",
   "execution_count": 25,
   "metadata": {},
   "outputs": [
    {
     "data": {
      "text/html": [
       "<div>\n",
       "<style>\n",
       "    .dataframe thead tr:only-child th {\n",
       "        text-align: right;\n",
       "    }\n",
       "\n",
       "    .dataframe thead th {\n",
       "        text-align: left;\n",
       "    }\n",
       "\n",
       "    .dataframe tbody tr th {\n",
       "        vertical-align: top;\n",
       "    }\n",
       "</style>\n",
       "<table border=\"1\" class=\"dataframe\">\n",
       "  <thead>\n",
       "    <tr style=\"text-align: right;\">\n",
       "      <th></th>\n",
       "      <th>class</th>\n",
       "      <th>classifier</th>\n",
       "      <th>crop</th>\n",
       "      <th>duration</th>\n",
       "      <th>f1</th>\n",
       "      <th>label</th>\n",
       "      <th>precision</th>\n",
       "      <th>recall</th>\n",
       "      <th>support</th>\n",
       "      <th>user</th>\n",
       "    </tr>\n",
       "  </thead>\n",
       "  <tbody>\n",
       "    <tr>\n",
       "      <th>0</th>\n",
       "      <td>exercise</td>\n",
       "      <td>rf</td>\n",
       "      <td>30</td>\n",
       "      <td>600</td>\n",
       "      <td>0.838710</td>\n",
       "      <td>gr_main4</td>\n",
       "      <td>0.866667</td>\n",
       "      <td>0.812500</td>\n",
       "      <td>16</td>\n",
       "      <td>-1</td>\n",
       "    </tr>\n",
       "    <tr>\n",
       "      <th>1</th>\n",
       "      <td>move</td>\n",
       "      <td>rf</td>\n",
       "      <td>30</td>\n",
       "      <td>600</td>\n",
       "      <td>0.764045</td>\n",
       "      <td>gr_main4</td>\n",
       "      <td>0.790698</td>\n",
       "      <td>0.739130</td>\n",
       "      <td>46</td>\n",
       "      <td>-1</td>\n",
       "    </tr>\n",
       "    <tr>\n",
       "      <th>2</th>\n",
       "      <td>sleep</td>\n",
       "      <td>rf</td>\n",
       "      <td>30</td>\n",
       "      <td>600</td>\n",
       "      <td>0.894942</td>\n",
       "      <td>gr_main4</td>\n",
       "      <td>0.905512</td>\n",
       "      <td>0.884615</td>\n",
       "      <td>130</td>\n",
       "      <td>-1</td>\n",
       "    </tr>\n",
       "    <tr>\n",
       "      <th>3</th>\n",
       "      <td>still</td>\n",
       "      <td>rf</td>\n",
       "      <td>30</td>\n",
       "      <td>600</td>\n",
       "      <td>0.832685</td>\n",
       "      <td>gr_main4</td>\n",
       "      <td>0.810606</td>\n",
       "      <td>0.856000</td>\n",
       "      <td>125</td>\n",
       "      <td>-1</td>\n",
       "    </tr>\n",
       "    <tr>\n",
       "      <th>4</th>\n",
       "      <td>exercise</td>\n",
       "      <td>rbf</td>\n",
       "      <td>30</td>\n",
       "      <td>600</td>\n",
       "      <td>0.000000</td>\n",
       "      <td>gr_main4</td>\n",
       "      <td>0.000000</td>\n",
       "      <td>0.000000</td>\n",
       "      <td>15</td>\n",
       "      <td>-1</td>\n",
       "    </tr>\n",
       "    <tr>\n",
       "      <th>5</th>\n",
       "      <td>move</td>\n",
       "      <td>rbf</td>\n",
       "      <td>30</td>\n",
       "      <td>600</td>\n",
       "      <td>0.048780</td>\n",
       "      <td>gr_main4</td>\n",
       "      <td>1.000000</td>\n",
       "      <td>0.025000</td>\n",
       "      <td>40</td>\n",
       "      <td>-1</td>\n",
       "    </tr>\n",
       "    <tr>\n",
       "      <th>6</th>\n",
       "      <td>sleep</td>\n",
       "      <td>rbf</td>\n",
       "      <td>30</td>\n",
       "      <td>600</td>\n",
       "      <td>0.090909</td>\n",
       "      <td>gr_main4</td>\n",
       "      <td>1.000000</td>\n",
       "      <td>0.047619</td>\n",
       "      <td>126</td>\n",
       "      <td>-1</td>\n",
       "    </tr>\n",
       "    <tr>\n",
       "      <th>7</th>\n",
       "      <td>still</td>\n",
       "      <td>rbf</td>\n",
       "      <td>30</td>\n",
       "      <td>600</td>\n",
       "      <td>0.609865</td>\n",
       "      <td>gr_main4</td>\n",
       "      <td>0.438710</td>\n",
       "      <td>1.000000</td>\n",
       "      <td>136</td>\n",
       "      <td>-1</td>\n",
       "    </tr>\n",
       "    <tr>\n",
       "      <th>8</th>\n",
       "      <td>exercise</td>\n",
       "      <td>rf</td>\n",
       "      <td>90</td>\n",
       "      <td>600</td>\n",
       "      <td>0.727273</td>\n",
       "      <td>gr_main4</td>\n",
       "      <td>1.000000</td>\n",
       "      <td>0.571429</td>\n",
       "      <td>14</td>\n",
       "      <td>-1</td>\n",
       "    </tr>\n",
       "    <tr>\n",
       "      <th>9</th>\n",
       "      <td>move</td>\n",
       "      <td>rf</td>\n",
       "      <td>90</td>\n",
       "      <td>600</td>\n",
       "      <td>0.660194</td>\n",
       "      <td>gr_main4</td>\n",
       "      <td>0.618182</td>\n",
       "      <td>0.708333</td>\n",
       "      <td>48</td>\n",
       "      <td>-1</td>\n",
       "    </tr>\n",
       "    <tr>\n",
       "      <th>10</th>\n",
       "      <td>sleep</td>\n",
       "      <td>rf</td>\n",
       "      <td>90</td>\n",
       "      <td>600</td>\n",
       "      <td>0.832653</td>\n",
       "      <td>gr_main4</td>\n",
       "      <td>0.822581</td>\n",
       "      <td>0.842975</td>\n",
       "      <td>121</td>\n",
       "      <td>-1</td>\n",
       "    </tr>\n",
       "    <tr>\n",
       "      <th>11</th>\n",
       "      <td>still</td>\n",
       "      <td>rf</td>\n",
       "      <td>90</td>\n",
       "      <td>600</td>\n",
       "      <td>0.725806</td>\n",
       "      <td>gr_main4</td>\n",
       "      <td>0.737705</td>\n",
       "      <td>0.714286</td>\n",
       "      <td>126</td>\n",
       "      <td>-1</td>\n",
       "    </tr>\n",
       "    <tr>\n",
       "      <th>12</th>\n",
       "      <td>exercise</td>\n",
       "      <td>rbf</td>\n",
       "      <td>90</td>\n",
       "      <td>600</td>\n",
       "      <td>0.000000</td>\n",
       "      <td>gr_main4</td>\n",
       "      <td>0.000000</td>\n",
       "      <td>0.000000</td>\n",
       "      <td>11</td>\n",
       "      <td>-1</td>\n",
       "    </tr>\n",
       "    <tr>\n",
       "      <th>13</th>\n",
       "      <td>move</td>\n",
       "      <td>rbf</td>\n",
       "      <td>90</td>\n",
       "      <td>600</td>\n",
       "      <td>0.000000</td>\n",
       "      <td>gr_main4</td>\n",
       "      <td>0.000000</td>\n",
       "      <td>0.000000</td>\n",
       "      <td>38</td>\n",
       "      <td>-1</td>\n",
       "    </tr>\n",
       "    <tr>\n",
       "      <th>14</th>\n",
       "      <td>sleep</td>\n",
       "      <td>rbf</td>\n",
       "      <td>90</td>\n",
       "      <td>600</td>\n",
       "      <td>0.151724</td>\n",
       "      <td>gr_main4</td>\n",
       "      <td>1.000000</td>\n",
       "      <td>0.082090</td>\n",
       "      <td>134</td>\n",
       "      <td>-1</td>\n",
       "    </tr>\n",
       "    <tr>\n",
       "      <th>15</th>\n",
       "      <td>still</td>\n",
       "      <td>rbf</td>\n",
       "      <td>90</td>\n",
       "      <td>600</td>\n",
       "      <td>0.594340</td>\n",
       "      <td>gr_main4</td>\n",
       "      <td>0.422819</td>\n",
       "      <td>1.000000</td>\n",
       "      <td>126</td>\n",
       "      <td>-1</td>\n",
       "    </tr>\n",
       "    <tr>\n",
       "      <th>16</th>\n",
       "      <td>exercise</td>\n",
       "      <td>rf</td>\n",
       "      <td>30</td>\n",
       "      <td>300</td>\n",
       "      <td>0.896552</td>\n",
       "      <td>gr_main4</td>\n",
       "      <td>0.928571</td>\n",
       "      <td>0.866667</td>\n",
       "      <td>15</td>\n",
       "      <td>-1</td>\n",
       "    </tr>\n",
       "    <tr>\n",
       "      <th>17</th>\n",
       "      <td>move</td>\n",
       "      <td>rf</td>\n",
       "      <td>30</td>\n",
       "      <td>300</td>\n",
       "      <td>0.663462</td>\n",
       "      <td>gr_main4</td>\n",
       "      <td>0.633028</td>\n",
       "      <td>0.696970</td>\n",
       "      <td>99</td>\n",
       "      <td>-1</td>\n",
       "    </tr>\n",
       "    <tr>\n",
       "      <th>18</th>\n",
       "      <td>sleep</td>\n",
       "      <td>rf</td>\n",
       "      <td>30</td>\n",
       "      <td>300</td>\n",
       "      <td>0.830645</td>\n",
       "      <td>gr_main4</td>\n",
       "      <td>0.830645</td>\n",
       "      <td>0.830645</td>\n",
       "      <td>248</td>\n",
       "      <td>-1</td>\n",
       "    </tr>\n",
       "    <tr>\n",
       "      <th>19</th>\n",
       "      <td>still</td>\n",
       "      <td>rf</td>\n",
       "      <td>30</td>\n",
       "      <td>300</td>\n",
       "      <td>0.756303</td>\n",
       "      <td>gr_main4</td>\n",
       "      <td>0.767918</td>\n",
       "      <td>0.745033</td>\n",
       "      <td>302</td>\n",
       "      <td>-1</td>\n",
       "    </tr>\n",
       "    <tr>\n",
       "      <th>20</th>\n",
       "      <td>exercise</td>\n",
       "      <td>rbf</td>\n",
       "      <td>30</td>\n",
       "      <td>300</td>\n",
       "      <td>0.000000</td>\n",
       "      <td>gr_main4</td>\n",
       "      <td>0.000000</td>\n",
       "      <td>0.000000</td>\n",
       "      <td>16</td>\n",
       "      <td>-1</td>\n",
       "    </tr>\n",
       "    <tr>\n",
       "      <th>21</th>\n",
       "      <td>move</td>\n",
       "      <td>rbf</td>\n",
       "      <td>30</td>\n",
       "      <td>300</td>\n",
       "      <td>0.035398</td>\n",
       "      <td>gr_main4</td>\n",
       "      <td>1.000000</td>\n",
       "      <td>0.018018</td>\n",
       "      <td>111</td>\n",
       "      <td>-1</td>\n",
       "    </tr>\n",
       "    <tr>\n",
       "      <th>22</th>\n",
       "      <td>sleep</td>\n",
       "      <td>rbf</td>\n",
       "      <td>30</td>\n",
       "      <td>300</td>\n",
       "      <td>0.129278</td>\n",
       "      <td>gr_main4</td>\n",
       "      <td>0.809524</td>\n",
       "      <td>0.070248</td>\n",
       "      <td>242</td>\n",
       "      <td>-1</td>\n",
       "    </tr>\n",
       "    <tr>\n",
       "      <th>23</th>\n",
       "      <td>still</td>\n",
       "      <td>rbf</td>\n",
       "      <td>30</td>\n",
       "      <td>300</td>\n",
       "      <td>0.621795</td>\n",
       "      <td>gr_main4</td>\n",
       "      <td>0.453978</td>\n",
       "      <td>0.986441</td>\n",
       "      <td>295</td>\n",
       "      <td>-1</td>\n",
       "    </tr>\n",
       "    <tr>\n",
       "      <th>24</th>\n",
       "      <td>exercise</td>\n",
       "      <td>rf</td>\n",
       "      <td>90</td>\n",
       "      <td>300</td>\n",
       "      <td>0.685714</td>\n",
       "      <td>gr_main4</td>\n",
       "      <td>0.750000</td>\n",
       "      <td>0.631579</td>\n",
       "      <td>19</td>\n",
       "      <td>-1</td>\n",
       "    </tr>\n",
       "    <tr>\n",
       "      <th>25</th>\n",
       "      <td>move</td>\n",
       "      <td>rf</td>\n",
       "      <td>90</td>\n",
       "      <td>300</td>\n",
       "      <td>0.702128</td>\n",
       "      <td>gr_main4</td>\n",
       "      <td>0.725275</td>\n",
       "      <td>0.680412</td>\n",
       "      <td>97</td>\n",
       "      <td>-1</td>\n",
       "    </tr>\n",
       "    <tr>\n",
       "      <th>26</th>\n",
       "      <td>sleep</td>\n",
       "      <td>rf</td>\n",
       "      <td>90</td>\n",
       "      <td>300</td>\n",
       "      <td>0.833684</td>\n",
       "      <td>gr_main4</td>\n",
       "      <td>0.831933</td>\n",
       "      <td>0.835443</td>\n",
       "      <td>237</td>\n",
       "      <td>-1</td>\n",
       "    </tr>\n",
       "    <tr>\n",
       "      <th>27</th>\n",
       "      <td>still</td>\n",
       "      <td>rf</td>\n",
       "      <td>90</td>\n",
       "      <td>300</td>\n",
       "      <td>0.794613</td>\n",
       "      <td>gr_main4</td>\n",
       "      <td>0.784053</td>\n",
       "      <td>0.805461</td>\n",
       "      <td>293</td>\n",
       "      <td>-1</td>\n",
       "    </tr>\n",
       "    <tr>\n",
       "      <th>28</th>\n",
       "      <td>exercise</td>\n",
       "      <td>rbf</td>\n",
       "      <td>90</td>\n",
       "      <td>300</td>\n",
       "      <td>0.000000</td>\n",
       "      <td>gr_main4</td>\n",
       "      <td>0.000000</td>\n",
       "      <td>0.000000</td>\n",
       "      <td>25</td>\n",
       "      <td>-1</td>\n",
       "    </tr>\n",
       "    <tr>\n",
       "      <th>29</th>\n",
       "      <td>move</td>\n",
       "      <td>rbf</td>\n",
       "      <td>90</td>\n",
       "      <td>300</td>\n",
       "      <td>0.018182</td>\n",
       "      <td>gr_main4</td>\n",
       "      <td>1.000000</td>\n",
       "      <td>0.009174</td>\n",
       "      <td>109</td>\n",
       "      <td>-1</td>\n",
       "    </tr>\n",
       "    <tr>\n",
       "      <th>...</th>\n",
       "      <td>...</td>\n",
       "      <td>...</td>\n",
       "      <td>...</td>\n",
       "      <td>...</td>\n",
       "      <td>...</td>\n",
       "      <td>...</td>\n",
       "      <td>...</td>\n",
       "      <td>...</td>\n",
       "      <td>...</td>\n",
       "      <td>...</td>\n",
       "    </tr>\n",
       "    <tr>\n",
       "      <th>66</th>\n",
       "      <td>sleep</td>\n",
       "      <td>rf</td>\n",
       "      <td>30</td>\n",
       "      <td>120</td>\n",
       "      <td>0.804973</td>\n",
       "      <td>gr_main4</td>\n",
       "      <td>0.827476</td>\n",
       "      <td>0.783661</td>\n",
       "      <td>661</td>\n",
       "      <td>-1</td>\n",
       "    </tr>\n",
       "    <tr>\n",
       "      <th>67</th>\n",
       "      <td>still</td>\n",
       "      <td>rf</td>\n",
       "      <td>30</td>\n",
       "      <td>120</td>\n",
       "      <td>0.741602</td>\n",
       "      <td>gr_main4</td>\n",
       "      <td>0.708642</td>\n",
       "      <td>0.777778</td>\n",
       "      <td>738</td>\n",
       "      <td>-1</td>\n",
       "    </tr>\n",
       "    <tr>\n",
       "      <th>68</th>\n",
       "      <td>exercise</td>\n",
       "      <td>rbf</td>\n",
       "      <td>30</td>\n",
       "      <td>120</td>\n",
       "      <td>0.023529</td>\n",
       "      <td>gr_main4</td>\n",
       "      <td>1.000000</td>\n",
       "      <td>0.011905</td>\n",
       "      <td>84</td>\n",
       "      <td>-1</td>\n",
       "    </tr>\n",
       "    <tr>\n",
       "      <th>69</th>\n",
       "      <td>move</td>\n",
       "      <td>rbf</td>\n",
       "      <td>30</td>\n",
       "      <td>120</td>\n",
       "      <td>0.055556</td>\n",
       "      <td>gr_main4</td>\n",
       "      <td>0.500000</td>\n",
       "      <td>0.029412</td>\n",
       "      <td>238</td>\n",
       "      <td>-1</td>\n",
       "    </tr>\n",
       "    <tr>\n",
       "      <th>70</th>\n",
       "      <td>sleep</td>\n",
       "      <td>rbf</td>\n",
       "      <td>30</td>\n",
       "      <td>120</td>\n",
       "      <td>0.235142</td>\n",
       "      <td>gr_main4</td>\n",
       "      <td>0.798246</td>\n",
       "      <td>0.137879</td>\n",
       "      <td>660</td>\n",
       "      <td>-1</td>\n",
       "    </tr>\n",
       "    <tr>\n",
       "      <th>71</th>\n",
       "      <td>still</td>\n",
       "      <td>rbf</td>\n",
       "      <td>30</td>\n",
       "      <td>120</td>\n",
       "      <td>0.615189</td>\n",
       "      <td>gr_main4</td>\n",
       "      <td>0.451713</td>\n",
       "      <td>0.964096</td>\n",
       "      <td>752</td>\n",
       "      <td>-1</td>\n",
       "    </tr>\n",
       "    <tr>\n",
       "      <th>72</th>\n",
       "      <td>exercise</td>\n",
       "      <td>rf</td>\n",
       "      <td>90</td>\n",
       "      <td>120</td>\n",
       "      <td>0.700000</td>\n",
       "      <td>gr_main4</td>\n",
       "      <td>0.760870</td>\n",
       "      <td>0.648148</td>\n",
       "      <td>54</td>\n",
       "      <td>-1</td>\n",
       "    </tr>\n",
       "    <tr>\n",
       "      <th>73</th>\n",
       "      <td>move</td>\n",
       "      <td>rf</td>\n",
       "      <td>90</td>\n",
       "      <td>120</td>\n",
       "      <td>0.620553</td>\n",
       "      <td>gr_main4</td>\n",
       "      <td>0.606178</td>\n",
       "      <td>0.635628</td>\n",
       "      <td>247</td>\n",
       "      <td>-1</td>\n",
       "    </tr>\n",
       "    <tr>\n",
       "      <th>74</th>\n",
       "      <td>sleep</td>\n",
       "      <td>rf</td>\n",
       "      <td>90</td>\n",
       "      <td>120</td>\n",
       "      <td>0.821564</td>\n",
       "      <td>gr_main4</td>\n",
       "      <td>0.838760</td>\n",
       "      <td>0.805060</td>\n",
       "      <td>672</td>\n",
       "      <td>-1</td>\n",
       "    </tr>\n",
       "    <tr>\n",
       "      <th>75</th>\n",
       "      <td>still</td>\n",
       "      <td>rf</td>\n",
       "      <td>90</td>\n",
       "      <td>120</td>\n",
       "      <td>0.740640</td>\n",
       "      <td>gr_main4</td>\n",
       "      <td>0.729223</td>\n",
       "      <td>0.752420</td>\n",
       "      <td>723</td>\n",
       "      <td>-1</td>\n",
       "    </tr>\n",
       "    <tr>\n",
       "      <th>76</th>\n",
       "      <td>exercise</td>\n",
       "      <td>rbf</td>\n",
       "      <td>90</td>\n",
       "      <td>120</td>\n",
       "      <td>0.000000</td>\n",
       "      <td>gr_main4</td>\n",
       "      <td>0.000000</td>\n",
       "      <td>0.000000</td>\n",
       "      <td>54</td>\n",
       "      <td>-1</td>\n",
       "    </tr>\n",
       "    <tr>\n",
       "      <th>77</th>\n",
       "      <td>move</td>\n",
       "      <td>rbf</td>\n",
       "      <td>90</td>\n",
       "      <td>120</td>\n",
       "      <td>0.014440</td>\n",
       "      <td>gr_main4</td>\n",
       "      <td>0.200000</td>\n",
       "      <td>0.007491</td>\n",
       "      <td>267</td>\n",
       "      <td>-1</td>\n",
       "    </tr>\n",
       "    <tr>\n",
       "      <th>78</th>\n",
       "      <td>sleep</td>\n",
       "      <td>rbf</td>\n",
       "      <td>90</td>\n",
       "      <td>120</td>\n",
       "      <td>0.214092</td>\n",
       "      <td>gr_main4</td>\n",
       "      <td>0.840426</td>\n",
       "      <td>0.122671</td>\n",
       "      <td>644</td>\n",
       "      <td>-1</td>\n",
       "    </tr>\n",
       "    <tr>\n",
       "      <th>79</th>\n",
       "      <td>still</td>\n",
       "      <td>rbf</td>\n",
       "      <td>90</td>\n",
       "      <td>120</td>\n",
       "      <td>0.610418</td>\n",
       "      <td>gr_main4</td>\n",
       "      <td>0.445352</td>\n",
       "      <td>0.969904</td>\n",
       "      <td>731</td>\n",
       "      <td>-1</td>\n",
       "    </tr>\n",
       "    <tr>\n",
       "      <th>80</th>\n",
       "      <td>exercise</td>\n",
       "      <td>rf</td>\n",
       "      <td>30</td>\n",
       "      <td>60</td>\n",
       "      <td>0.656716</td>\n",
       "      <td>gr_main4</td>\n",
       "      <td>0.767442</td>\n",
       "      <td>0.573913</td>\n",
       "      <td>115</td>\n",
       "      <td>-1</td>\n",
       "    </tr>\n",
       "    <tr>\n",
       "      <th>81</th>\n",
       "      <td>move</td>\n",
       "      <td>rf</td>\n",
       "      <td>30</td>\n",
       "      <td>60</td>\n",
       "      <td>0.587771</td>\n",
       "      <td>gr_main4</td>\n",
       "      <td>0.593625</td>\n",
       "      <td>0.582031</td>\n",
       "      <td>512</td>\n",
       "      <td>-1</td>\n",
       "    </tr>\n",
       "    <tr>\n",
       "      <th>82</th>\n",
       "      <td>sleep</td>\n",
       "      <td>rf</td>\n",
       "      <td>30</td>\n",
       "      <td>60</td>\n",
       "      <td>0.793116</td>\n",
       "      <td>gr_main4</td>\n",
       "      <td>0.810398</td>\n",
       "      <td>0.776557</td>\n",
       "      <td>1365</td>\n",
       "      <td>-1</td>\n",
       "    </tr>\n",
       "    <tr>\n",
       "      <th>83</th>\n",
       "      <td>still</td>\n",
       "      <td>rf</td>\n",
       "      <td>30</td>\n",
       "      <td>60</td>\n",
       "      <td>0.731230</td>\n",
       "      <td>gr_main4</td>\n",
       "      <td>0.709737</td>\n",
       "      <td>0.754066</td>\n",
       "      <td>1537</td>\n",
       "      <td>-1</td>\n",
       "    </tr>\n",
       "    <tr>\n",
       "      <th>84</th>\n",
       "      <td>exercise</td>\n",
       "      <td>rbf</td>\n",
       "      <td>30</td>\n",
       "      <td>60</td>\n",
       "      <td>0.158730</td>\n",
       "      <td>gr_main4</td>\n",
       "      <td>0.833333</td>\n",
       "      <td>0.087719</td>\n",
       "      <td>114</td>\n",
       "      <td>-1</td>\n",
       "    </tr>\n",
       "    <tr>\n",
       "      <th>85</th>\n",
       "      <td>move</td>\n",
       "      <td>rbf</td>\n",
       "      <td>30</td>\n",
       "      <td>60</td>\n",
       "      <td>0.064516</td>\n",
       "      <td>gr_main4</td>\n",
       "      <td>0.500000</td>\n",
       "      <td>0.034483</td>\n",
       "      <td>522</td>\n",
       "      <td>-1</td>\n",
       "    </tr>\n",
       "    <tr>\n",
       "      <th>86</th>\n",
       "      <td>sleep</td>\n",
       "      <td>rbf</td>\n",
       "      <td>30</td>\n",
       "      <td>60</td>\n",
       "      <td>0.298507</td>\n",
       "      <td>gr_main4</td>\n",
       "      <td>0.801282</td>\n",
       "      <td>0.183419</td>\n",
       "      <td>1363</td>\n",
       "      <td>-1</td>\n",
       "    </tr>\n",
       "    <tr>\n",
       "      <th>87</th>\n",
       "      <td>still</td>\n",
       "      <td>rbf</td>\n",
       "      <td>30</td>\n",
       "      <td>60</td>\n",
       "      <td>0.619281</td>\n",
       "      <td>gr_main4</td>\n",
       "      <td>0.459135</td>\n",
       "      <td>0.950980</td>\n",
       "      <td>1530</td>\n",
       "      <td>-1</td>\n",
       "    </tr>\n",
       "    <tr>\n",
       "      <th>88</th>\n",
       "      <td>exercise</td>\n",
       "      <td>rf</td>\n",
       "      <td>90</td>\n",
       "      <td>60</td>\n",
       "      <td>0.712871</td>\n",
       "      <td>gr_main4</td>\n",
       "      <td>0.712871</td>\n",
       "      <td>0.712871</td>\n",
       "      <td>101</td>\n",
       "      <td>-1</td>\n",
       "    </tr>\n",
       "    <tr>\n",
       "      <th>89</th>\n",
       "      <td>move</td>\n",
       "      <td>rf</td>\n",
       "      <td>90</td>\n",
       "      <td>60</td>\n",
       "      <td>0.600410</td>\n",
       "      <td>gr_main4</td>\n",
       "      <td>0.604124</td>\n",
       "      <td>0.596741</td>\n",
       "      <td>491</td>\n",
       "      <td>-1</td>\n",
       "    </tr>\n",
       "    <tr>\n",
       "      <th>90</th>\n",
       "      <td>sleep</td>\n",
       "      <td>rf</td>\n",
       "      <td>90</td>\n",
       "      <td>60</td>\n",
       "      <td>0.791822</td>\n",
       "      <td>gr_main4</td>\n",
       "      <td>0.806207</td>\n",
       "      <td>0.777940</td>\n",
       "      <td>1369</td>\n",
       "      <td>-1</td>\n",
       "    </tr>\n",
       "    <tr>\n",
       "      <th>91</th>\n",
       "      <td>still</td>\n",
       "      <td>rf</td>\n",
       "      <td>90</td>\n",
       "      <td>60</td>\n",
       "      <td>0.724752</td>\n",
       "      <td>gr_main4</td>\n",
       "      <td>0.712062</td>\n",
       "      <td>0.737903</td>\n",
       "      <td>1488</td>\n",
       "      <td>-1</td>\n",
       "    </tr>\n",
       "    <tr>\n",
       "      <th>92</th>\n",
       "      <td>exercise</td>\n",
       "      <td>rbf</td>\n",
       "      <td>90</td>\n",
       "      <td>60</td>\n",
       "      <td>0.082645</td>\n",
       "      <td>gr_main4</td>\n",
       "      <td>0.555556</td>\n",
       "      <td>0.044643</td>\n",
       "      <td>112</td>\n",
       "      <td>-1</td>\n",
       "    </tr>\n",
       "    <tr>\n",
       "      <th>93</th>\n",
       "      <td>move</td>\n",
       "      <td>rbf</td>\n",
       "      <td>90</td>\n",
       "      <td>60</td>\n",
       "      <td>0.102161</td>\n",
       "      <td>gr_main4</td>\n",
       "      <td>0.702703</td>\n",
       "      <td>0.055085</td>\n",
       "      <td>472</td>\n",
       "      <td>-1</td>\n",
       "    </tr>\n",
       "    <tr>\n",
       "      <th>94</th>\n",
       "      <td>sleep</td>\n",
       "      <td>rbf</td>\n",
       "      <td>90</td>\n",
       "      <td>60</td>\n",
       "      <td>0.327506</td>\n",
       "      <td>gr_main4</td>\n",
       "      <td>0.802857</td>\n",
       "      <td>0.205710</td>\n",
       "      <td>1366</td>\n",
       "      <td>-1</td>\n",
       "    </tr>\n",
       "    <tr>\n",
       "      <th>95</th>\n",
       "      <td>still</td>\n",
       "      <td>rbf</td>\n",
       "      <td>90</td>\n",
       "      <td>60</td>\n",
       "      <td>0.626538</td>\n",
       "      <td>gr_main4</td>\n",
       "      <td>0.467082</td>\n",
       "      <td>0.951301</td>\n",
       "      <td>1499</td>\n",
       "      <td>-1</td>\n",
       "    </tr>\n",
       "  </tbody>\n",
       "</table>\n",
       "<p>96 rows × 10 columns</p>\n",
       "</div>"
      ],
      "text/plain": [
       "       class classifier  crop  duration        f1     label  precision  \\\n",
       "0   exercise         rf    30       600  0.838710  gr_main4   0.866667   \n",
       "1       move         rf    30       600  0.764045  gr_main4   0.790698   \n",
       "2      sleep         rf    30       600  0.894942  gr_main4   0.905512   \n",
       "3      still         rf    30       600  0.832685  gr_main4   0.810606   \n",
       "4   exercise        rbf    30       600  0.000000  gr_main4   0.000000   \n",
       "5       move        rbf    30       600  0.048780  gr_main4   1.000000   \n",
       "6      sleep        rbf    30       600  0.090909  gr_main4   1.000000   \n",
       "7      still        rbf    30       600  0.609865  gr_main4   0.438710   \n",
       "8   exercise         rf    90       600  0.727273  gr_main4   1.000000   \n",
       "9       move         rf    90       600  0.660194  gr_main4   0.618182   \n",
       "10     sleep         rf    90       600  0.832653  gr_main4   0.822581   \n",
       "11     still         rf    90       600  0.725806  gr_main4   0.737705   \n",
       "12  exercise        rbf    90       600  0.000000  gr_main4   0.000000   \n",
       "13      move        rbf    90       600  0.000000  gr_main4   0.000000   \n",
       "14     sleep        rbf    90       600  0.151724  gr_main4   1.000000   \n",
       "15     still        rbf    90       600  0.594340  gr_main4   0.422819   \n",
       "16  exercise         rf    30       300  0.896552  gr_main4   0.928571   \n",
       "17      move         rf    30       300  0.663462  gr_main4   0.633028   \n",
       "18     sleep         rf    30       300  0.830645  gr_main4   0.830645   \n",
       "19     still         rf    30       300  0.756303  gr_main4   0.767918   \n",
       "20  exercise        rbf    30       300  0.000000  gr_main4   0.000000   \n",
       "21      move        rbf    30       300  0.035398  gr_main4   1.000000   \n",
       "22     sleep        rbf    30       300  0.129278  gr_main4   0.809524   \n",
       "23     still        rbf    30       300  0.621795  gr_main4   0.453978   \n",
       "24  exercise         rf    90       300  0.685714  gr_main4   0.750000   \n",
       "25      move         rf    90       300  0.702128  gr_main4   0.725275   \n",
       "26     sleep         rf    90       300  0.833684  gr_main4   0.831933   \n",
       "27     still         rf    90       300  0.794613  gr_main4   0.784053   \n",
       "28  exercise        rbf    90       300  0.000000  gr_main4   0.000000   \n",
       "29      move        rbf    90       300  0.018182  gr_main4   1.000000   \n",
       "..       ...        ...   ...       ...       ...       ...        ...   \n",
       "66     sleep         rf    30       120  0.804973  gr_main4   0.827476   \n",
       "67     still         rf    30       120  0.741602  gr_main4   0.708642   \n",
       "68  exercise        rbf    30       120  0.023529  gr_main4   1.000000   \n",
       "69      move        rbf    30       120  0.055556  gr_main4   0.500000   \n",
       "70     sleep        rbf    30       120  0.235142  gr_main4   0.798246   \n",
       "71     still        rbf    30       120  0.615189  gr_main4   0.451713   \n",
       "72  exercise         rf    90       120  0.700000  gr_main4   0.760870   \n",
       "73      move         rf    90       120  0.620553  gr_main4   0.606178   \n",
       "74     sleep         rf    90       120  0.821564  gr_main4   0.838760   \n",
       "75     still         rf    90       120  0.740640  gr_main4   0.729223   \n",
       "76  exercise        rbf    90       120  0.000000  gr_main4   0.000000   \n",
       "77      move        rbf    90       120  0.014440  gr_main4   0.200000   \n",
       "78     sleep        rbf    90       120  0.214092  gr_main4   0.840426   \n",
       "79     still        rbf    90       120  0.610418  gr_main4   0.445352   \n",
       "80  exercise         rf    30        60  0.656716  gr_main4   0.767442   \n",
       "81      move         rf    30        60  0.587771  gr_main4   0.593625   \n",
       "82     sleep         rf    30        60  0.793116  gr_main4   0.810398   \n",
       "83     still         rf    30        60  0.731230  gr_main4   0.709737   \n",
       "84  exercise        rbf    30        60  0.158730  gr_main4   0.833333   \n",
       "85      move        rbf    30        60  0.064516  gr_main4   0.500000   \n",
       "86     sleep        rbf    30        60  0.298507  gr_main4   0.801282   \n",
       "87     still        rbf    30        60  0.619281  gr_main4   0.459135   \n",
       "88  exercise         rf    90        60  0.712871  gr_main4   0.712871   \n",
       "89      move         rf    90        60  0.600410  gr_main4   0.604124   \n",
       "90     sleep         rf    90        60  0.791822  gr_main4   0.806207   \n",
       "91     still         rf    90        60  0.724752  gr_main4   0.712062   \n",
       "92  exercise        rbf    90        60  0.082645  gr_main4   0.555556   \n",
       "93      move        rbf    90        60  0.102161  gr_main4   0.702703   \n",
       "94     sleep        rbf    90        60  0.327506  gr_main4   0.802857   \n",
       "95     still        rbf    90        60  0.626538  gr_main4   0.467082   \n",
       "\n",
       "      recall  support  user  \n",
       "0   0.812500       16    -1  \n",
       "1   0.739130       46    -1  \n",
       "2   0.884615      130    -1  \n",
       "3   0.856000      125    -1  \n",
       "4   0.000000       15    -1  \n",
       "5   0.025000       40    -1  \n",
       "6   0.047619      126    -1  \n",
       "7   1.000000      136    -1  \n",
       "8   0.571429       14    -1  \n",
       "9   0.708333       48    -1  \n",
       "10  0.842975      121    -1  \n",
       "11  0.714286      126    -1  \n",
       "12  0.000000       11    -1  \n",
       "13  0.000000       38    -1  \n",
       "14  0.082090      134    -1  \n",
       "15  1.000000      126    -1  \n",
       "16  0.866667       15    -1  \n",
       "17  0.696970       99    -1  \n",
       "18  0.830645      248    -1  \n",
       "19  0.745033      302    -1  \n",
       "20  0.000000       16    -1  \n",
       "21  0.018018      111    -1  \n",
       "22  0.070248      242    -1  \n",
       "23  0.986441      295    -1  \n",
       "24  0.631579       19    -1  \n",
       "25  0.680412       97    -1  \n",
       "26  0.835443      237    -1  \n",
       "27  0.805461      293    -1  \n",
       "28  0.000000       25    -1  \n",
       "29  0.009174      109    -1  \n",
       "..       ...      ...   ...  \n",
       "66  0.783661      661    -1  \n",
       "67  0.777778      738    -1  \n",
       "68  0.011905       84    -1  \n",
       "69  0.029412      238    -1  \n",
       "70  0.137879      660    -1  \n",
       "71  0.964096      752    -1  \n",
       "72  0.648148       54    -1  \n",
       "73  0.635628      247    -1  \n",
       "74  0.805060      672    -1  \n",
       "75  0.752420      723    -1  \n",
       "76  0.000000       54    -1  \n",
       "77  0.007491      267    -1  \n",
       "78  0.122671      644    -1  \n",
       "79  0.969904      731    -1  \n",
       "80  0.573913      115    -1  \n",
       "81  0.582031      512    -1  \n",
       "82  0.776557     1365    -1  \n",
       "83  0.754066     1537    -1  \n",
       "84  0.087719      114    -1  \n",
       "85  0.034483      522    -1  \n",
       "86  0.183419     1363    -1  \n",
       "87  0.950980     1530    -1  \n",
       "88  0.712871      101    -1  \n",
       "89  0.596741      491    -1  \n",
       "90  0.777940     1369    -1  \n",
       "91  0.737903     1488    -1  \n",
       "92  0.044643      112    -1  \n",
       "93  0.055085      472    -1  \n",
       "94  0.205710     1366    -1  \n",
       "95  0.951301     1499    -1  \n",
       "\n",
       "[96 rows x 10 columns]"
      ]
     },
     "execution_count": 25,
     "metadata": {},
     "output_type": "execute_result"
    }
   ],
   "source": [
    "dfinter = pd.DataFrame(dminter)\n",
    "dfinter"
   ]
  },
  {
   "cell_type": "code",
   "execution_count": 26,
   "metadata": {},
   "outputs": [],
   "source": [
    "dfinter.to_excel(path + '\\\\results_multiclass_3.xlsx')"
   ]
  },
  {
   "cell_type": "code",
   "execution_count": 27,
   "metadata": {},
   "outputs": [],
   "source": [
    "dfinter = pd.read_excel(path + '\\\\results_multiclass_3.xlsx')"
   ]
  },
  {
   "cell_type": "code",
   "execution_count": 28,
   "metadata": {},
   "outputs": [
    {
     "data": {
      "text/html": [
       "<div>\n",
       "<style>\n",
       "    .dataframe thead tr:only-child th {\n",
       "        text-align: right;\n",
       "    }\n",
       "\n",
       "    .dataframe thead th {\n",
       "        text-align: left;\n",
       "    }\n",
       "\n",
       "    .dataframe tbody tr th {\n",
       "        vertical-align: top;\n",
       "    }\n",
       "</style>\n",
       "<table border=\"1\" class=\"dataframe\">\n",
       "  <thead>\n",
       "    <tr style=\"text-align: right;\">\n",
       "      <th></th>\n",
       "      <th>class</th>\n",
       "      <th>classifier</th>\n",
       "      <th>crop</th>\n",
       "      <th>duration</th>\n",
       "      <th>f1</th>\n",
       "      <th>label</th>\n",
       "      <th>precision</th>\n",
       "      <th>recall</th>\n",
       "      <th>support</th>\n",
       "      <th>user</th>\n",
       "    </tr>\n",
       "  </thead>\n",
       "  <tbody>\n",
       "    <tr>\n",
       "      <th>16</th>\n",
       "      <td>exercise</td>\n",
       "      <td>rf</td>\n",
       "      <td>30</td>\n",
       "      <td>300</td>\n",
       "      <td>0.896552</td>\n",
       "      <td>gr_main4</td>\n",
       "      <td>0.928571</td>\n",
       "      <td>0.866667</td>\n",
       "      <td>15</td>\n",
       "      <td>-1</td>\n",
       "    </tr>\n",
       "    <tr>\n",
       "      <th>17</th>\n",
       "      <td>move</td>\n",
       "      <td>rf</td>\n",
       "      <td>30</td>\n",
       "      <td>300</td>\n",
       "      <td>0.663462</td>\n",
       "      <td>gr_main4</td>\n",
       "      <td>0.633028</td>\n",
       "      <td>0.696970</td>\n",
       "      <td>99</td>\n",
       "      <td>-1</td>\n",
       "    </tr>\n",
       "    <tr>\n",
       "      <th>18</th>\n",
       "      <td>sleep</td>\n",
       "      <td>rf</td>\n",
       "      <td>30</td>\n",
       "      <td>300</td>\n",
       "      <td>0.830645</td>\n",
       "      <td>gr_main4</td>\n",
       "      <td>0.830645</td>\n",
       "      <td>0.830645</td>\n",
       "      <td>248</td>\n",
       "      <td>-1</td>\n",
       "    </tr>\n",
       "    <tr>\n",
       "      <th>19</th>\n",
       "      <td>still</td>\n",
       "      <td>rf</td>\n",
       "      <td>30</td>\n",
       "      <td>300</td>\n",
       "      <td>0.756303</td>\n",
       "      <td>gr_main4</td>\n",
       "      <td>0.767918</td>\n",
       "      <td>0.745033</td>\n",
       "      <td>302</td>\n",
       "      <td>-1</td>\n",
       "    </tr>\n",
       "  </tbody>\n",
       "</table>\n",
       "</div>"
      ],
      "text/plain": [
       "       class classifier  crop  duration        f1     label  precision  \\\n",
       "16  exercise         rf    30       300  0.896552  gr_main4   0.928571   \n",
       "17      move         rf    30       300  0.663462  gr_main4   0.633028   \n",
       "18     sleep         rf    30       300  0.830645  gr_main4   0.830645   \n",
       "19     still         rf    30       300  0.756303  gr_main4   0.767918   \n",
       "\n",
       "      recall  support  user  \n",
       "16  0.866667       15    -1  \n",
       "17  0.696970       99    -1  \n",
       "18  0.830645      248    -1  \n",
       "19  0.745033      302    -1  "
      ]
     },
     "execution_count": 28,
     "metadata": {},
     "output_type": "execute_result"
    }
   ],
   "source": [
    "dfinter[(dfinter['duration'] == 300) & (dfinter['crop'] == 30) & (dfinter['classifier']=='rf')]"
   ]
  },
  {
   "cell_type": "markdown",
   "metadata": {},
   "source": [
    "## Comparing classifiers and fragment len"
   ]
  },
  {
   "cell_type": "code",
   "execution_count": 32,
   "metadata": {
    "scrolled": false
   },
   "outputs": [
    {
     "data": {
      "application/vnd.plotly.v1+json": {
       "data": [
        {
         "name": 600,
         "type": "bar",
         "x": [
          "rf",
          "rbf"
         ],
         "y": [
          0.7272727272727273,
          0
         ]
        },
        {
         "name": 300,
         "type": "bar",
         "x": [
          "rf",
          "rbf"
         ],
         "y": [
          0.6857142857142857,
          0
         ]
        },
        {
         "name": 240,
         "type": "bar",
         "x": [
          "rf",
          "rbf"
         ],
         "y": [
          0.7272727272727272,
          0
         ]
        },
        {
         "name": 180,
         "type": "bar",
         "x": [
          "rf",
          "rbf"
         ],
         "y": [
          0.5964912280701754,
          0.05882352941176471
         ]
        },
        {
         "name": 120,
         "type": "bar",
         "x": [
          "rf",
          "rbf"
         ],
         "y": [
          0.7000000000000001,
          0
         ]
        },
        {
         "name": 60,
         "type": "bar",
         "x": [
          "rf",
          "rbf"
         ],
         "y": [
          0.7128712871287128,
          0.08264462809917357
         ]
        }
       ],
       "layout": {
        "barmode": "group",
        "title": "exercise"
       }
      },
      "text/html": [
       "<div id=\"083c04cd-8e93-49a4-9ca6-ba06f6d4e0a6\" style=\"height: 525px; width: 100%;\" class=\"plotly-graph-div\"></div><script type=\"text/javascript\">require([\"plotly\"], function(Plotly) { window.PLOTLYENV=window.PLOTLYENV || {};window.PLOTLYENV.BASE_URL=\"https://plot.ly\";Plotly.newPlot(\"083c04cd-8e93-49a4-9ca6-ba06f6d4e0a6\", [{\"type\": \"bar\", \"x\": [\"rf\", \"rbf\"], \"y\": [0.7272727272727273, 0.0], \"name\": 600}, {\"type\": \"bar\", \"x\": [\"rf\", \"rbf\"], \"y\": [0.6857142857142857, 0.0], \"name\": 300}, {\"type\": \"bar\", \"x\": [\"rf\", \"rbf\"], \"y\": [0.7272727272727272, 0.0], \"name\": 240}, {\"type\": \"bar\", \"x\": [\"rf\", \"rbf\"], \"y\": [0.5964912280701754, 0.05882352941176471], \"name\": 180}, {\"type\": \"bar\", \"x\": [\"rf\", \"rbf\"], \"y\": [0.7000000000000001, 0.0], \"name\": 120}, {\"type\": \"bar\", \"x\": [\"rf\", \"rbf\"], \"y\": [0.7128712871287128, 0.08264462809917357], \"name\": 60}], {\"barmode\": \"group\", \"title\": \"exercise\"}, {\"showLink\": true, \"linkText\": \"Export to plot.ly\"})});</script>"
      ],
      "text/vnd.plotly.v1+html": [
       "<div id=\"083c04cd-8e93-49a4-9ca6-ba06f6d4e0a6\" style=\"height: 525px; width: 100%;\" class=\"plotly-graph-div\"></div><script type=\"text/javascript\">require([\"plotly\"], function(Plotly) { window.PLOTLYENV=window.PLOTLYENV || {};window.PLOTLYENV.BASE_URL=\"https://plot.ly\";Plotly.newPlot(\"083c04cd-8e93-49a4-9ca6-ba06f6d4e0a6\", [{\"type\": \"bar\", \"x\": [\"rf\", \"rbf\"], \"y\": [0.7272727272727273, 0.0], \"name\": 600}, {\"type\": \"bar\", \"x\": [\"rf\", \"rbf\"], \"y\": [0.6857142857142857, 0.0], \"name\": 300}, {\"type\": \"bar\", \"x\": [\"rf\", \"rbf\"], \"y\": [0.7272727272727272, 0.0], \"name\": 240}, {\"type\": \"bar\", \"x\": [\"rf\", \"rbf\"], \"y\": [0.5964912280701754, 0.05882352941176471], \"name\": 180}, {\"type\": \"bar\", \"x\": [\"rf\", \"rbf\"], \"y\": [0.7000000000000001, 0.0], \"name\": 120}, {\"type\": \"bar\", \"x\": [\"rf\", \"rbf\"], \"y\": [0.7128712871287128, 0.08264462809917357], \"name\": 60}], {\"barmode\": \"group\", \"title\": \"exercise\"}, {\"showLink\": true, \"linkText\": \"Export to plot.ly\"})});</script>"
      ]
     },
     "metadata": {},
     "output_type": "display_data"
    },
    {
     "data": {
      "application/vnd.plotly.v1+json": {
       "data": [
        {
         "name": 600,
         "type": "bar",
         "x": [
          "rf",
          "rbf"
         ],
         "y": [
          0.6601941747572815,
          0
         ]
        },
        {
         "name": 300,
         "type": "bar",
         "x": [
          "rf",
          "rbf"
         ],
         "y": [
          0.7021276595744682,
          0.01818181818181818
         ]
        },
        {
         "name": 240,
         "type": "bar",
         "x": [
          "rf",
          "rbf"
         ],
         "y": [
          0.6377952755905512,
          0
         ]
        },
        {
         "name": 180,
         "type": "bar",
         "x": [
          "rf",
          "rbf"
         ],
         "y": [
          0.6607142857142857,
          0
         ]
        },
        {
         "name": 120,
         "type": "bar",
         "x": [
          "rf",
          "rbf"
         ],
         "y": [
          0.6205533596837944,
          0.01444043321299639
         ]
        },
        {
         "name": 60,
         "type": "bar",
         "x": [
          "rf",
          "rbf"
         ],
         "y": [
          0.6004098360655737,
          0.1021611001964637
         ]
        }
       ],
       "layout": {
        "barmode": "group",
        "title": "move"
       }
      },
      "text/html": [
       "<div id=\"9d15b1c8-a8a3-4a40-b52f-cd3a17621e9a\" style=\"height: 525px; width: 100%;\" class=\"plotly-graph-div\"></div><script type=\"text/javascript\">require([\"plotly\"], function(Plotly) { window.PLOTLYENV=window.PLOTLYENV || {};window.PLOTLYENV.BASE_URL=\"https://plot.ly\";Plotly.newPlot(\"9d15b1c8-a8a3-4a40-b52f-cd3a17621e9a\", [{\"type\": \"bar\", \"x\": [\"rf\", \"rbf\"], \"y\": [0.6601941747572815, 0.0], \"name\": 600}, {\"type\": \"bar\", \"x\": [\"rf\", \"rbf\"], \"y\": [0.7021276595744682, 0.01818181818181818], \"name\": 300}, {\"type\": \"bar\", \"x\": [\"rf\", \"rbf\"], \"y\": [0.6377952755905512, 0.0], \"name\": 240}, {\"type\": \"bar\", \"x\": [\"rf\", \"rbf\"], \"y\": [0.6607142857142857, 0.0], \"name\": 180}, {\"type\": \"bar\", \"x\": [\"rf\", \"rbf\"], \"y\": [0.6205533596837944, 0.01444043321299639], \"name\": 120}, {\"type\": \"bar\", \"x\": [\"rf\", \"rbf\"], \"y\": [0.6004098360655737, 0.1021611001964637], \"name\": 60}], {\"barmode\": \"group\", \"title\": \"move\"}, {\"showLink\": true, \"linkText\": \"Export to plot.ly\"})});</script>"
      ],
      "text/vnd.plotly.v1+html": [
       "<div id=\"9d15b1c8-a8a3-4a40-b52f-cd3a17621e9a\" style=\"height: 525px; width: 100%;\" class=\"plotly-graph-div\"></div><script type=\"text/javascript\">require([\"plotly\"], function(Plotly) { window.PLOTLYENV=window.PLOTLYENV || {};window.PLOTLYENV.BASE_URL=\"https://plot.ly\";Plotly.newPlot(\"9d15b1c8-a8a3-4a40-b52f-cd3a17621e9a\", [{\"type\": \"bar\", \"x\": [\"rf\", \"rbf\"], \"y\": [0.6601941747572815, 0.0], \"name\": 600}, {\"type\": \"bar\", \"x\": [\"rf\", \"rbf\"], \"y\": [0.7021276595744682, 0.01818181818181818], \"name\": 300}, {\"type\": \"bar\", \"x\": [\"rf\", \"rbf\"], \"y\": [0.6377952755905512, 0.0], \"name\": 240}, {\"type\": \"bar\", \"x\": [\"rf\", \"rbf\"], \"y\": [0.6607142857142857, 0.0], \"name\": 180}, {\"type\": \"bar\", \"x\": [\"rf\", \"rbf\"], \"y\": [0.6205533596837944, 0.01444043321299639], \"name\": 120}, {\"type\": \"bar\", \"x\": [\"rf\", \"rbf\"], \"y\": [0.6004098360655737, 0.1021611001964637], \"name\": 60}], {\"barmode\": \"group\", \"title\": \"move\"}, {\"showLink\": true, \"linkText\": \"Export to plot.ly\"})});</script>"
      ]
     },
     "metadata": {},
     "output_type": "display_data"
    },
    {
     "data": {
      "application/vnd.plotly.v1+json": {
       "data": [
        {
         "name": 600,
         "type": "bar",
         "x": [
          "rf",
          "rbf"
         ],
         "y": [
          0.8326530612244898,
          0.1517241379310345
         ]
        },
        {
         "name": 300,
         "type": "bar",
         "x": [
          "rf",
          "rbf"
         ],
         "y": [
          0.8336842105263157,
          0.1163636363636364
         ]
        },
        {
         "name": 240,
         "type": "bar",
         "x": [
          "rf",
          "rbf"
         ],
         "y": [
          0.8264462809917356,
          0.1710914454277286
         ]
        },
        {
         "name": 180,
         "type": "bar",
         "x": [
          "rf",
          "rbf"
         ],
         "y": [
          0.8394495412844037,
          0.2530120481927711
         ]
        },
        {
         "name": 120,
         "type": "bar",
         "x": [
          "rf",
          "rbf"
         ],
         "y": [
          0.8215641609719059,
          0.2140921409214092
         ]
        },
        {
         "name": 60,
         "type": "bar",
         "x": [
          "rf",
          "rbf"
         ],
         "y": [
          0.79182156133829,
          0.3275058275058275
         ]
        }
       ],
       "layout": {
        "barmode": "group",
        "title": "sleep"
       }
      },
      "text/html": [
       "<div id=\"d3f8ce4a-2adb-4a41-8845-cce6033ea773\" style=\"height: 525px; width: 100%;\" class=\"plotly-graph-div\"></div><script type=\"text/javascript\">require([\"plotly\"], function(Plotly) { window.PLOTLYENV=window.PLOTLYENV || {};window.PLOTLYENV.BASE_URL=\"https://plot.ly\";Plotly.newPlot(\"d3f8ce4a-2adb-4a41-8845-cce6033ea773\", [{\"type\": \"bar\", \"x\": [\"rf\", \"rbf\"], \"y\": [0.8326530612244898, 0.1517241379310345], \"name\": 600}, {\"type\": \"bar\", \"x\": [\"rf\", \"rbf\"], \"y\": [0.8336842105263157, 0.1163636363636364], \"name\": 300}, {\"type\": \"bar\", \"x\": [\"rf\", \"rbf\"], \"y\": [0.8264462809917356, 0.1710914454277286], \"name\": 240}, {\"type\": \"bar\", \"x\": [\"rf\", \"rbf\"], \"y\": [0.8394495412844037, 0.2530120481927711], \"name\": 180}, {\"type\": \"bar\", \"x\": [\"rf\", \"rbf\"], \"y\": [0.8215641609719059, 0.2140921409214092], \"name\": 120}, {\"type\": \"bar\", \"x\": [\"rf\", \"rbf\"], \"y\": [0.79182156133829, 0.3275058275058275], \"name\": 60}], {\"barmode\": \"group\", \"title\": \"sleep\"}, {\"showLink\": true, \"linkText\": \"Export to plot.ly\"})});</script>"
      ],
      "text/vnd.plotly.v1+html": [
       "<div id=\"d3f8ce4a-2adb-4a41-8845-cce6033ea773\" style=\"height: 525px; width: 100%;\" class=\"plotly-graph-div\"></div><script type=\"text/javascript\">require([\"plotly\"], function(Plotly) { window.PLOTLYENV=window.PLOTLYENV || {};window.PLOTLYENV.BASE_URL=\"https://plot.ly\";Plotly.newPlot(\"d3f8ce4a-2adb-4a41-8845-cce6033ea773\", [{\"type\": \"bar\", \"x\": [\"rf\", \"rbf\"], \"y\": [0.8326530612244898, 0.1517241379310345], \"name\": 600}, {\"type\": \"bar\", \"x\": [\"rf\", \"rbf\"], \"y\": [0.8336842105263157, 0.1163636363636364], \"name\": 300}, {\"type\": \"bar\", \"x\": [\"rf\", \"rbf\"], \"y\": [0.8264462809917356, 0.1710914454277286], \"name\": 240}, {\"type\": \"bar\", \"x\": [\"rf\", \"rbf\"], \"y\": [0.8394495412844037, 0.2530120481927711], \"name\": 180}, {\"type\": \"bar\", \"x\": [\"rf\", \"rbf\"], \"y\": [0.8215641609719059, 0.2140921409214092], \"name\": 120}, {\"type\": \"bar\", \"x\": [\"rf\", \"rbf\"], \"y\": [0.79182156133829, 0.3275058275058275], \"name\": 60}], {\"barmode\": \"group\", \"title\": \"sleep\"}, {\"showLink\": true, \"linkText\": \"Export to plot.ly\"})});</script>"
      ]
     },
     "metadata": {},
     "output_type": "display_data"
    },
    {
     "data": {
      "application/vnd.plotly.v1+json": {
       "data": [
        {
         "name": 600,
         "type": "bar",
         "x": [
          "rf",
          "rbf"
         ],
         "y": [
          0.7258064516129032,
          0.5943396226415094
         ]
        },
        {
         "name": 300,
         "type": "bar",
         "x": [
          "rf",
          "rbf"
         ],
         "y": [
          0.7946127946127947,
          0.5736961451247166
         ]
        },
        {
         "name": 240,
         "type": "bar",
         "x": [
          "rf",
          "rbf"
         ],
         "y": [
          0.7677852348993288,
          0.6173913043478262
         ]
        },
        {
         "name": 180,
         "type": "bar",
         "x": [
          "rf",
          "rbf"
         ],
         "y": [
          0.7762747138397502,
          0.618828176431863
         ]
        },
        {
         "name": 120,
         "type": "bar",
         "x": [
          "rf",
          "rbf"
         ],
         "y": [
          0.7406398910823689,
          0.61041756349548
         ]
        },
        {
         "name": 60,
         "type": "bar",
         "x": [
          "rf",
          "rbf"
         ],
         "y": [
          0.7247524752475247,
          0.6265377855887522
         ]
        }
       ],
       "layout": {
        "barmode": "group",
        "title": "still"
       }
      },
      "text/html": [
       "<div id=\"9a8bd6ce-28df-4c81-855c-7e7ad5c29ec6\" style=\"height: 525px; width: 100%;\" class=\"plotly-graph-div\"></div><script type=\"text/javascript\">require([\"plotly\"], function(Plotly) { window.PLOTLYENV=window.PLOTLYENV || {};window.PLOTLYENV.BASE_URL=\"https://plot.ly\";Plotly.newPlot(\"9a8bd6ce-28df-4c81-855c-7e7ad5c29ec6\", [{\"type\": \"bar\", \"x\": [\"rf\", \"rbf\"], \"y\": [0.7258064516129032, 0.5943396226415094], \"name\": 600}, {\"type\": \"bar\", \"x\": [\"rf\", \"rbf\"], \"y\": [0.7946127946127947, 0.5736961451247166], \"name\": 300}, {\"type\": \"bar\", \"x\": [\"rf\", \"rbf\"], \"y\": [0.7677852348993288, 0.6173913043478262], \"name\": 240}, {\"type\": \"bar\", \"x\": [\"rf\", \"rbf\"], \"y\": [0.7762747138397502, 0.618828176431863], \"name\": 180}, {\"type\": \"bar\", \"x\": [\"rf\", \"rbf\"], \"y\": [0.7406398910823689, 0.61041756349548], \"name\": 120}, {\"type\": \"bar\", \"x\": [\"rf\", \"rbf\"], \"y\": [0.7247524752475247, 0.6265377855887522], \"name\": 60}], {\"barmode\": \"group\", \"title\": \"still\"}, {\"showLink\": true, \"linkText\": \"Export to plot.ly\"})});</script>"
      ],
      "text/vnd.plotly.v1+html": [
       "<div id=\"9a8bd6ce-28df-4c81-855c-7e7ad5c29ec6\" style=\"height: 525px; width: 100%;\" class=\"plotly-graph-div\"></div><script type=\"text/javascript\">require([\"plotly\"], function(Plotly) { window.PLOTLYENV=window.PLOTLYENV || {};window.PLOTLYENV.BASE_URL=\"https://plot.ly\";Plotly.newPlot(\"9a8bd6ce-28df-4c81-855c-7e7ad5c29ec6\", [{\"type\": \"bar\", \"x\": [\"rf\", \"rbf\"], \"y\": [0.7258064516129032, 0.5943396226415094], \"name\": 600}, {\"type\": \"bar\", \"x\": [\"rf\", \"rbf\"], \"y\": [0.7946127946127947, 0.5736961451247166], \"name\": 300}, {\"type\": \"bar\", \"x\": [\"rf\", \"rbf\"], \"y\": [0.7677852348993288, 0.6173913043478262], \"name\": 240}, {\"type\": \"bar\", \"x\": [\"rf\", \"rbf\"], \"y\": [0.7762747138397502, 0.618828176431863], \"name\": 180}, {\"type\": \"bar\", \"x\": [\"rf\", \"rbf\"], \"y\": [0.7406398910823689, 0.61041756349548], \"name\": 120}, {\"type\": \"bar\", \"x\": [\"rf\", \"rbf\"], \"y\": [0.7247524752475247, 0.6265377855887522], \"name\": 60}], {\"barmode\": \"group\", \"title\": \"still\"}, {\"showLink\": true, \"linkText\": \"Export to plot.ly\"})});</script>"
      ]
     },
     "metadata": {},
     "output_type": "display_data"
    }
   ],
   "source": [
    "dv.bargroup(dfinter[dfinter['crop']==90], 'class', 'duration', 'classifier', 'f1')"
   ]
  },
  {
   "cell_type": "markdown",
   "metadata": {},
   "source": [
    "## Comparing crops and fragment len"
   ]
  },
  {
   "cell_type": "code",
   "execution_count": 34,
   "metadata": {
    "scrolled": false
   },
   "outputs": [
    {
     "data": {
      "application/vnd.plotly.v1+json": {
       "data": [
        {
         "name": 600,
         "type": "bar",
         "x": [
          30,
          90
         ],
         "y": [
          0.8387096774193549,
          0.7272727272727273
         ]
        },
        {
         "name": 300,
         "type": "bar",
         "x": [
          30,
          90
         ],
         "y": [
          0.896551724137931,
          0.6857142857142857
         ]
        },
        {
         "name": 240,
         "type": "bar",
         "x": [
          30,
          90
         ],
         "y": [
          0.7142857142857142,
          0.7272727272727272
         ]
        },
        {
         "name": 180,
         "type": "bar",
         "x": [
          30,
          90
         ],
         "y": [
          0.7368421052631579,
          0.5964912280701754
         ]
        },
        {
         "name": 120,
         "type": "bar",
         "x": [
          30,
          90
         ],
         "y": [
          0.6875000000000001,
          0.7000000000000001
         ]
        },
        {
         "name": 60,
         "type": "bar",
         "x": [
          30,
          90
         ],
         "y": [
          0.6567164179104478,
          0.7128712871287128
         ]
        }
       ],
       "layout": {
        "barmode": "group",
        "title": "exercise"
       }
      },
      "text/html": [
       "<div id=\"671bc200-17ab-44be-9b92-1f5a7b8db9b6\" style=\"height: 525px; width: 100%;\" class=\"plotly-graph-div\"></div><script type=\"text/javascript\">require([\"plotly\"], function(Plotly) { window.PLOTLYENV=window.PLOTLYENV || {};window.PLOTLYENV.BASE_URL=\"https://plot.ly\";Plotly.newPlot(\"671bc200-17ab-44be-9b92-1f5a7b8db9b6\", [{\"type\": \"bar\", \"x\": [30, 90], \"y\": [0.8387096774193549, 0.7272727272727273], \"name\": 600}, {\"type\": \"bar\", \"x\": [30, 90], \"y\": [0.896551724137931, 0.6857142857142857], \"name\": 300}, {\"type\": \"bar\", \"x\": [30, 90], \"y\": [0.7142857142857142, 0.7272727272727272], \"name\": 240}, {\"type\": \"bar\", \"x\": [30, 90], \"y\": [0.7368421052631579, 0.5964912280701754], \"name\": 180}, {\"type\": \"bar\", \"x\": [30, 90], \"y\": [0.6875000000000001, 0.7000000000000001], \"name\": 120}, {\"type\": \"bar\", \"x\": [30, 90], \"y\": [0.6567164179104478, 0.7128712871287128], \"name\": 60}], {\"barmode\": \"group\", \"title\": \"exercise\"}, {\"showLink\": true, \"linkText\": \"Export to plot.ly\"})});</script>"
      ],
      "text/vnd.plotly.v1+html": [
       "<div id=\"671bc200-17ab-44be-9b92-1f5a7b8db9b6\" style=\"height: 525px; width: 100%;\" class=\"plotly-graph-div\"></div><script type=\"text/javascript\">require([\"plotly\"], function(Plotly) { window.PLOTLYENV=window.PLOTLYENV || {};window.PLOTLYENV.BASE_URL=\"https://plot.ly\";Plotly.newPlot(\"671bc200-17ab-44be-9b92-1f5a7b8db9b6\", [{\"type\": \"bar\", \"x\": [30, 90], \"y\": [0.8387096774193549, 0.7272727272727273], \"name\": 600}, {\"type\": \"bar\", \"x\": [30, 90], \"y\": [0.896551724137931, 0.6857142857142857], \"name\": 300}, {\"type\": \"bar\", \"x\": [30, 90], \"y\": [0.7142857142857142, 0.7272727272727272], \"name\": 240}, {\"type\": \"bar\", \"x\": [30, 90], \"y\": [0.7368421052631579, 0.5964912280701754], \"name\": 180}, {\"type\": \"bar\", \"x\": [30, 90], \"y\": [0.6875000000000001, 0.7000000000000001], \"name\": 120}, {\"type\": \"bar\", \"x\": [30, 90], \"y\": [0.6567164179104478, 0.7128712871287128], \"name\": 60}], {\"barmode\": \"group\", \"title\": \"exercise\"}, {\"showLink\": true, \"linkText\": \"Export to plot.ly\"})});</script>"
      ]
     },
     "metadata": {},
     "output_type": "display_data"
    },
    {
     "data": {
      "application/vnd.plotly.v1+json": {
       "data": [
        {
         "name": 600,
         "type": "bar",
         "x": [
          30,
          90
         ],
         "y": [
          0.7640449438202247,
          0.6601941747572815
         ]
        },
        {
         "name": 300,
         "type": "bar",
         "x": [
          30,
          90
         ],
         "y": [
          0.6634615384615384,
          0.7021276595744682
         ]
        },
        {
         "name": 240,
         "type": "bar",
         "x": [
          30,
          90
         ],
         "y": [
          0.5560975609756098,
          0.6377952755905512
         ]
        },
        {
         "name": 180,
         "type": "bar",
         "x": [
          30,
          90
         ],
         "y": [
          0.6563467492260062,
          0.6607142857142857
         ]
        },
        {
         "name": 120,
         "type": "bar",
         "x": [
          30,
          90
         ],
         "y": [
          0.6368715083798883,
          0.6205533596837944
         ]
        },
        {
         "name": 60,
         "type": "bar",
         "x": [
          30,
          90
         ],
         "y": [
          0.5877712031558185,
          0.6004098360655737
         ]
        }
       ],
       "layout": {
        "barmode": "group",
        "title": "move"
       }
      },
      "text/html": [
       "<div id=\"f9a46c24-bc39-4f0b-aaf4-8e04670efc7e\" style=\"height: 525px; width: 100%;\" class=\"plotly-graph-div\"></div><script type=\"text/javascript\">require([\"plotly\"], function(Plotly) { window.PLOTLYENV=window.PLOTLYENV || {};window.PLOTLYENV.BASE_URL=\"https://plot.ly\";Plotly.newPlot(\"f9a46c24-bc39-4f0b-aaf4-8e04670efc7e\", [{\"type\": \"bar\", \"x\": [30, 90], \"y\": [0.7640449438202247, 0.6601941747572815], \"name\": 600}, {\"type\": \"bar\", \"x\": [30, 90], \"y\": [0.6634615384615384, 0.7021276595744682], \"name\": 300}, {\"type\": \"bar\", \"x\": [30, 90], \"y\": [0.5560975609756098, 0.6377952755905512], \"name\": 240}, {\"type\": \"bar\", \"x\": [30, 90], \"y\": [0.6563467492260062, 0.6607142857142857], \"name\": 180}, {\"type\": \"bar\", \"x\": [30, 90], \"y\": [0.6368715083798883, 0.6205533596837944], \"name\": 120}, {\"type\": \"bar\", \"x\": [30, 90], \"y\": [0.5877712031558185, 0.6004098360655737], \"name\": 60}], {\"barmode\": \"group\", \"title\": \"move\"}, {\"showLink\": true, \"linkText\": \"Export to plot.ly\"})});</script>"
      ],
      "text/vnd.plotly.v1+html": [
       "<div id=\"f9a46c24-bc39-4f0b-aaf4-8e04670efc7e\" style=\"height: 525px; width: 100%;\" class=\"plotly-graph-div\"></div><script type=\"text/javascript\">require([\"plotly\"], function(Plotly) { window.PLOTLYENV=window.PLOTLYENV || {};window.PLOTLYENV.BASE_URL=\"https://plot.ly\";Plotly.newPlot(\"f9a46c24-bc39-4f0b-aaf4-8e04670efc7e\", [{\"type\": \"bar\", \"x\": [30, 90], \"y\": [0.7640449438202247, 0.6601941747572815], \"name\": 600}, {\"type\": \"bar\", \"x\": [30, 90], \"y\": [0.6634615384615384, 0.7021276595744682], \"name\": 300}, {\"type\": \"bar\", \"x\": [30, 90], \"y\": [0.5560975609756098, 0.6377952755905512], \"name\": 240}, {\"type\": \"bar\", \"x\": [30, 90], \"y\": [0.6563467492260062, 0.6607142857142857], \"name\": 180}, {\"type\": \"bar\", \"x\": [30, 90], \"y\": [0.6368715083798883, 0.6205533596837944], \"name\": 120}, {\"type\": \"bar\", \"x\": [30, 90], \"y\": [0.5877712031558185, 0.6004098360655737], \"name\": 60}], {\"barmode\": \"group\", \"title\": \"move\"}, {\"showLink\": true, \"linkText\": \"Export to plot.ly\"})});</script>"
      ]
     },
     "metadata": {},
     "output_type": "display_data"
    },
    {
     "data": {
      "application/vnd.plotly.v1+json": {
       "data": [
        {
         "name": 600,
         "type": "bar",
         "x": [
          30,
          90
         ],
         "y": [
          0.8949416342412451,
          0.8326530612244898
         ]
        },
        {
         "name": 300,
         "type": "bar",
         "x": [
          30,
          90
         ],
         "y": [
          0.8306451612903226,
          0.8336842105263157
         ]
        },
        {
         "name": 240,
         "type": "bar",
         "x": [
          30,
          90
         ],
         "y": [
          0.8248062015503876,
          0.8264462809917356
         ]
        },
        {
         "name": 180,
         "type": "bar",
         "x": [
          30,
          90
         ],
         "y": [
          0.807825086306099,
          0.8394495412844037
         ]
        },
        {
         "name": 120,
         "type": "bar",
         "x": [
          30,
          90
         ],
         "y": [
          0.804972804972805,
          0.8215641609719059
         ]
        },
        {
         "name": 60,
         "type": "bar",
         "x": [
          30,
          90
         ],
         "y": [
          0.7931163486719043,
          0.79182156133829
         ]
        }
       ],
       "layout": {
        "barmode": "group",
        "title": "sleep"
       }
      },
      "text/html": [
       "<div id=\"1243b999-0c58-44f4-80dd-ca6e31b824c1\" style=\"height: 525px; width: 100%;\" class=\"plotly-graph-div\"></div><script type=\"text/javascript\">require([\"plotly\"], function(Plotly) { window.PLOTLYENV=window.PLOTLYENV || {};window.PLOTLYENV.BASE_URL=\"https://plot.ly\";Plotly.newPlot(\"1243b999-0c58-44f4-80dd-ca6e31b824c1\", [{\"type\": \"bar\", \"x\": [30, 90], \"y\": [0.8949416342412451, 0.8326530612244898], \"name\": 600}, {\"type\": \"bar\", \"x\": [30, 90], \"y\": [0.8306451612903226, 0.8336842105263157], \"name\": 300}, {\"type\": \"bar\", \"x\": [30, 90], \"y\": [0.8248062015503876, 0.8264462809917356], \"name\": 240}, {\"type\": \"bar\", \"x\": [30, 90], \"y\": [0.807825086306099, 0.8394495412844037], \"name\": 180}, {\"type\": \"bar\", \"x\": [30, 90], \"y\": [0.804972804972805, 0.8215641609719059], \"name\": 120}, {\"type\": \"bar\", \"x\": [30, 90], \"y\": [0.7931163486719043, 0.79182156133829], \"name\": 60}], {\"barmode\": \"group\", \"title\": \"sleep\"}, {\"showLink\": true, \"linkText\": \"Export to plot.ly\"})});</script>"
      ],
      "text/vnd.plotly.v1+html": [
       "<div id=\"1243b999-0c58-44f4-80dd-ca6e31b824c1\" style=\"height: 525px; width: 100%;\" class=\"plotly-graph-div\"></div><script type=\"text/javascript\">require([\"plotly\"], function(Plotly) { window.PLOTLYENV=window.PLOTLYENV || {};window.PLOTLYENV.BASE_URL=\"https://plot.ly\";Plotly.newPlot(\"1243b999-0c58-44f4-80dd-ca6e31b824c1\", [{\"type\": \"bar\", \"x\": [30, 90], \"y\": [0.8949416342412451, 0.8326530612244898], \"name\": 600}, {\"type\": \"bar\", \"x\": [30, 90], \"y\": [0.8306451612903226, 0.8336842105263157], \"name\": 300}, {\"type\": \"bar\", \"x\": [30, 90], \"y\": [0.8248062015503876, 0.8264462809917356], \"name\": 240}, {\"type\": \"bar\", \"x\": [30, 90], \"y\": [0.807825086306099, 0.8394495412844037], \"name\": 180}, {\"type\": \"bar\", \"x\": [30, 90], \"y\": [0.804972804972805, 0.8215641609719059], \"name\": 120}, {\"type\": \"bar\", \"x\": [30, 90], \"y\": [0.7931163486719043, 0.79182156133829], \"name\": 60}], {\"barmode\": \"group\", \"title\": \"sleep\"}, {\"showLink\": true, \"linkText\": \"Export to plot.ly\"})});</script>"
      ]
     },
     "metadata": {},
     "output_type": "display_data"
    },
    {
     "data": {
      "application/vnd.plotly.v1+json": {
       "data": [
        {
         "name": 600,
         "type": "bar",
         "x": [
          30,
          90
         ],
         "y": [
          0.8326848249027238,
          0.7258064516129032
         ]
        },
        {
         "name": 300,
         "type": "bar",
         "x": [
          30,
          90
         ],
         "y": [
          0.7563025210084033,
          0.7946127946127947
         ]
        },
        {
         "name": 240,
         "type": "bar",
         "x": [
          30,
          90
         ],
         "y": [
          0.7609254498714653,
          0.7677852348993288
         ]
        },
        {
         "name": 180,
         "type": "bar",
         "x": [
          30,
          90
         ],
         "y": [
          0.7521865889212829,
          0.7762747138397502
         ]
        },
        {
         "name": 120,
         "type": "bar",
         "x": [
          30,
          90
         ],
         "y": [
          0.7416020671834626,
          0.7406398910823689
         ]
        },
        {
         "name": 60,
         "type": "bar",
         "x": [
          30,
          90
         ],
         "y": [
          0.7312302839116718,
          0.7247524752475247
         ]
        }
       ],
       "layout": {
        "barmode": "group",
        "title": "still"
       }
      },
      "text/html": [
       "<div id=\"9b4d7758-12fa-487b-b4a3-4fc269397a11\" style=\"height: 525px; width: 100%;\" class=\"plotly-graph-div\"></div><script type=\"text/javascript\">require([\"plotly\"], function(Plotly) { window.PLOTLYENV=window.PLOTLYENV || {};window.PLOTLYENV.BASE_URL=\"https://plot.ly\";Plotly.newPlot(\"9b4d7758-12fa-487b-b4a3-4fc269397a11\", [{\"type\": \"bar\", \"x\": [30, 90], \"y\": [0.8326848249027238, 0.7258064516129032], \"name\": 600}, {\"type\": \"bar\", \"x\": [30, 90], \"y\": [0.7563025210084033, 0.7946127946127947], \"name\": 300}, {\"type\": \"bar\", \"x\": [30, 90], \"y\": [0.7609254498714653, 0.7677852348993288], \"name\": 240}, {\"type\": \"bar\", \"x\": [30, 90], \"y\": [0.7521865889212829, 0.7762747138397502], \"name\": 180}, {\"type\": \"bar\", \"x\": [30, 90], \"y\": [0.7416020671834626, 0.7406398910823689], \"name\": 120}, {\"type\": \"bar\", \"x\": [30, 90], \"y\": [0.7312302839116718, 0.7247524752475247], \"name\": 60}], {\"barmode\": \"group\", \"title\": \"still\"}, {\"showLink\": true, \"linkText\": \"Export to plot.ly\"})});</script>"
      ],
      "text/vnd.plotly.v1+html": [
       "<div id=\"9b4d7758-12fa-487b-b4a3-4fc269397a11\" style=\"height: 525px; width: 100%;\" class=\"plotly-graph-div\"></div><script type=\"text/javascript\">require([\"plotly\"], function(Plotly) { window.PLOTLYENV=window.PLOTLYENV || {};window.PLOTLYENV.BASE_URL=\"https://plot.ly\";Plotly.newPlot(\"9b4d7758-12fa-487b-b4a3-4fc269397a11\", [{\"type\": \"bar\", \"x\": [30, 90], \"y\": [0.8326848249027238, 0.7258064516129032], \"name\": 600}, {\"type\": \"bar\", \"x\": [30, 90], \"y\": [0.7563025210084033, 0.7946127946127947], \"name\": 300}, {\"type\": \"bar\", \"x\": [30, 90], \"y\": [0.7609254498714653, 0.7677852348993288], \"name\": 240}, {\"type\": \"bar\", \"x\": [30, 90], \"y\": [0.7521865889212829, 0.7762747138397502], \"name\": 180}, {\"type\": \"bar\", \"x\": [30, 90], \"y\": [0.7416020671834626, 0.7406398910823689], \"name\": 120}, {\"type\": \"bar\", \"x\": [30, 90], \"y\": [0.7312302839116718, 0.7247524752475247], \"name\": 60}], {\"barmode\": \"group\", \"title\": \"still\"}, {\"showLink\": true, \"linkText\": \"Export to plot.ly\"})});</script>"
      ]
     },
     "metadata": {},
     "output_type": "display_data"
    }
   ],
   "source": [
    "dv.bargroup(dfinter[dfinter['classifier']=='rf'], 'class', 'duration', 'crop', 'f1')"
   ]
  },
  {
   "cell_type": "code",
   "execution_count": null,
   "metadata": {},
   "outputs": [],
   "source": []
  },
  {
   "cell_type": "code",
   "execution_count": null,
   "metadata": {},
   "outputs": [],
   "source": []
  }
 ],
 "metadata": {
  "kernelspec": {
   "display_name": "Python 3",
   "language": "python",
   "name": "python3"
  },
  "language_info": {
   "codemirror_mode": {
    "name": "ipython",
    "version": 3
   },
   "file_extension": ".py",
   "mimetype": "text/x-python",
   "name": "python",
   "nbconvert_exporter": "python",
   "pygments_lexer": "ipython3",
   "version": "3.6.3"
  }
 },
 "nbformat": 4,
 "nbformat_minor": 2
}
