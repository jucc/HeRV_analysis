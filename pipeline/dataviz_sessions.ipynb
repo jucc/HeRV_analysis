{
 "cells": [
  {
   "cell_type": "markdown",
   "metadata": {},
   "source": [
    "## Plotting random samples of each activity"
   ]
  },
  {
   "cell_type": "code",
   "execution_count": null,
   "metadata": {},
   "outputs": [],
   "source": [
    "verbose = True\n",
    "    \n",
    "file = \"C:\\\\Users\\\\ju\\\\GDrive\\\\Projects\\\\HeRV\\\\Data\\\\PreProcessed\\\\sessions.xlsx\""
   ]
  },
  {
   "cell_type": "code",
   "execution_count": null,
   "metadata": {},
   "outputs": [],
   "source": [
    "df = pd.read_excel(file)\n",
    "df.sample(5)"
   ]
  },
  {
   "cell_type": "code",
   "execution_count": null,
   "metadata": {},
   "outputs": [],
   "source": [
    "def plot_sess(sess, title):\n",
    "    \"\"\"\n",
    "    sess can be a row from df or dic containing an 'rr' key with a list of intervals\n",
    "    \"\"\"\n",
    "    rr = # use pif to retrieve session beats\n",
    "    x1, x2 = cf.beats_to_lists(rr)\n",
    "\n",
    "    trace1 = [go.Scatter(x=x1, y=x2)]\n",
    "    trace2 = [go.Histogram(x=x2)]\n",
    "    \n",
    "    layout = go.Layout(title=title)\n",
    "\n",
    "    pl.iplot(trace1, layout)\n",
    "    pl.iplot(trace2, layout)\n",
    "    "
   ]
  },
  {
   "cell_type": "code",
   "execution_count": null,
   "metadata": {},
   "outputs": [],
   "source": [
    "for act in df['activity'].unique():\n",
    "    v = df[df['activity'] == act].sample(1)\n",
    "    print('---------------- ',act,' ---------------')\n",
    "    for i in range(1):\n",
    "        print('USER: ', v.iloc[i]['user'])\n",
    "        plot_sess(v.iloc[i], act)"
   ]
  }
 ],
 "metadata": {
  "kernelspec": {
   "display_name": "Python 3",
   "language": "python",
   "name": "python3"
  },
  "language_info": {
   "codemirror_mode": {
    "name": "ipython",
    "version": 3
   },
   "file_extension": ".py",
   "mimetype": "text/x-python",
   "name": "python",
   "nbconvert_exporter": "python",
   "pygments_lexer": "ipython3",
   "version": "3.6.3"
  }
 },
 "nbformat": 4,
 "nbformat_minor": 2
}
