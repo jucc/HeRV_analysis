{
 "cells": [
  {
   "cell_type": "code",
   "execution_count": 1,
   "metadata": {},
   "outputs": [
    {
     "data": {
      "text/html": [
       "<script>requirejs.config({paths: { 'plotly': ['https://cdn.plot.ly/plotly-latest.min']},});if(!window.Plotly) {{require(['plotly'],function(plotly) {window.Plotly=plotly;});}}</script>"
      ],
      "text/vnd.plotly.v1+html": [
       "<script>requirejs.config({paths: { 'plotly': ['https://cdn.plot.ly/plotly-latest.min']},});if(!window.Plotly) {{require(['plotly'],function(plotly) {window.Plotly=plotly;});}}</script>"
      ]
     },
     "metadata": {},
     "output_type": "display_data"
    }
   ],
   "source": [
    "%load_ext autoreload\n",
    "%autoreload 2\n",
    "%matplotlib inline  \n",
    "\n",
    "import pandas as pd\n",
    "import numpy as np\n",
    "import matplotlib.pyplot as plt\n",
    "import plotly.offline as pl\n",
    "import plotly.graph_objs as go\n",
    "pl.init_notebook_mode(connected=True)\n",
    "\n",
    "from sklearn import svm\n",
    "from sklearn.ensemble import RandomForestClassifier\n",
    "from sklearn.preprocessing import scale\n",
    "from sklearn.model_selection import StratifiedShuffleSplit, GridSearchCV, train_test_split\n",
    "from sklearn.metrics import classification_report, precision_recall_fscore_support\n",
    "\n",
    "import hervpd as hp\n",
    "import classif\n",
    "import dataviz as dv"
   ]
  },
  {
   "cell_type": "code",
   "execution_count": 17,
   "metadata": {},
   "outputs": [],
   "source": [
    "path = \"C:\\\\Users\\\\ju\\\\GDrive\\\\Projects\\\\HeRV\\\\Data\\\\PreProcessed\" \n",
    "\n",
    "features = ['mrri', 'sdnn', 'rmssd', 'pnn50', 'hfnu', 'lfnu', 'lf_hf']\n",
    "onehotlabels = ['sleep', 'exercise', 'move', 'stress1', 'stress2', 'stress3', 'stress4', 'stress5', 'relax1', 'relax2', 'relax3', 'relax4', 'relax5', 'active', 'passive']\n",
    "crops = [90, 30] \n",
    "durations = [600, 450, 300, 240, 180, 120, 60]"
   ]
  },
  {
   "cell_type": "code",
   "execution_count": 18,
   "metadata": {},
   "outputs": [],
   "source": [
    "c1 = 10\n",
    "c2 = 10\n",
    "gamma = 0.1\n",
    "\n",
    "\n",
    "clf_rbf = svm.SVC(kernel='rbf', cache_size=1000, C=c1, gamma=gamma)\n",
    "clf_lin = svm.SVC(kernel='linear', cache_size=1000, C=10, gamma=gamma)\n",
    "clf_rf = RandomForestClassifier(n_estimators=100, n_jobs=-1)\n",
    "\n",
    "#classifiers = {'rf': clf_rf, 'rbf': clf_rbf, 'lin': clf_lin}\n",
    "classifiers = {'rf': clf_rf, 'rbf': clf_rbf}"
   ]
  },
  {
   "cell_type": "code",
   "execution_count": 7,
   "metadata": {},
   "outputs": [
    {
     "name": "stdout",
     "output_type": "stream",
     "text": [
      "13759 3440\n"
     ]
    },
    {
     "name": "stderr",
     "output_type": "stream",
     "text": [
      "C:\\Users\\Ju\\Anaconda3\\lib\\site-packages\\sklearn\\utils\\validation.py:475: DataConversionWarning:\n",
      "\n",
      "Data with input dtype int64 was converted to float64 by StandardScaler.\n",
      "\n"
     ]
    }
   ],
   "source": [
    "filename = classif.build_filename(path, 60, 90) \n",
    "df = pd.read_excel(filename)\n",
    "train, test = hp.preprocess(df, onehotlabels)"
   ]
  },
  {
   "cell_type": "markdown",
   "metadata": {},
   "source": [
    "## Interuser classification"
   ]
  },
  {
   "cell_type": "code",
   "execution_count": null,
   "metadata": {
    "scrolled": true
   },
   "outputs": [],
   "source": [
    "%time fullresult = classif.full_binary_classification(classifiers, durations, crops, features, onehotlabels, path=path)"
   ]
  },
  {
   "cell_type": "code",
   "execution_count": 22,
   "metadata": {},
   "outputs": [
    {
     "data": {
      "text/html": [
       "<div>\n",
       "<style>\n",
       "    .dataframe thead tr:only-child th {\n",
       "        text-align: right;\n",
       "    }\n",
       "\n",
       "    .dataframe thead th {\n",
       "        text-align: left;\n",
       "    }\n",
       "\n",
       "    .dataframe tbody tr th {\n",
       "        vertical-align: top;\n",
       "    }\n",
       "</style>\n",
       "<table border=\"1\" class=\"dataframe\">\n",
       "  <thead>\n",
       "    <tr style=\"text-align: right;\">\n",
       "      <th></th>\n",
       "      <th>crop</th>\n",
       "      <th>duration</th>\n",
       "      <th>f1</th>\n",
       "      <th>fn</th>\n",
       "      <th>fp</th>\n",
       "      <th>precision</th>\n",
       "      <th>recall</th>\n",
       "      <th>score</th>\n",
       "      <th>tn</th>\n",
       "      <th>tp</th>\n",
       "      <th>user</th>\n",
       "    </tr>\n",
       "  </thead>\n",
       "  <tbody>\n",
       "    <tr>\n",
       "      <th>count</th>\n",
       "      <td>75.0</td>\n",
       "      <td>75.00000</td>\n",
       "      <td>75.000000</td>\n",
       "      <td>75.000000</td>\n",
       "      <td>75.000000</td>\n",
       "      <td>75.000000</td>\n",
       "      <td>75.000000</td>\n",
       "      <td>75.000000</td>\n",
       "      <td>75.000000</td>\n",
       "      <td>75.000000</td>\n",
       "      <td>75.0</td>\n",
       "    </tr>\n",
       "    <tr>\n",
       "      <th>mean</th>\n",
       "      <td>90.0</td>\n",
       "      <td>180.00000</td>\n",
       "      <td>0.425696</td>\n",
       "      <td>209.373333</td>\n",
       "      <td>67.386667</td>\n",
       "      <td>0.590875</td>\n",
       "      <td>0.355776</td>\n",
       "      <td>0.825971</td>\n",
       "      <td>1149.760000</td>\n",
       "      <td>115.280000</td>\n",
       "      <td>-1.0</td>\n",
       "    </tr>\n",
       "    <tr>\n",
       "      <th>std</th>\n",
       "      <td>0.0</td>\n",
       "      <td>85.42422</td>\n",
       "      <td>0.201654</td>\n",
       "      <td>177.453669</td>\n",
       "      <td>60.581616</td>\n",
       "      <td>0.126800</td>\n",
       "      <td>0.211611</td>\n",
       "      <td>0.058265</td>\n",
       "      <td>778.757341</td>\n",
       "      <td>148.215289</td>\n",
       "      <td>0.0</td>\n",
       "    </tr>\n",
       "    <tr>\n",
       "      <th>min</th>\n",
       "      <td>90.0</td>\n",
       "      <td>60.00000</td>\n",
       "      <td>0.073801</td>\n",
       "      <td>2.000000</td>\n",
       "      <td>3.000000</td>\n",
       "      <td>0.312500</td>\n",
       "      <td>0.040733</td>\n",
       "      <td>0.749392</td>\n",
       "      <td>343.000000</td>\n",
       "      <td>6.000000</td>\n",
       "      <td>-1.0</td>\n",
       "    </tr>\n",
       "    <tr>\n",
       "      <th>25%</th>\n",
       "      <td>90.0</td>\n",
       "      <td>120.00000</td>\n",
       "      <td>0.280110</td>\n",
       "      <td>92.500000</td>\n",
       "      <td>25.000000</td>\n",
       "      <td>0.524863</td>\n",
       "      <td>0.197654</td>\n",
       "      <td>0.787448</td>\n",
       "      <td>566.000000</td>\n",
       "      <td>33.500000</td>\n",
       "      <td>-1.0</td>\n",
       "    </tr>\n",
       "    <tr>\n",
       "      <th>50%</th>\n",
       "      <td>90.0</td>\n",
       "      <td>180.00000</td>\n",
       "      <td>0.421569</td>\n",
       "      <td>150.000000</td>\n",
       "      <td>49.000000</td>\n",
       "      <td>0.579909</td>\n",
       "      <td>0.330729</td>\n",
       "      <td>0.812403</td>\n",
       "      <td>836.000000</td>\n",
       "      <td>67.000000</td>\n",
       "      <td>-1.0</td>\n",
       "    </tr>\n",
       "    <tr>\n",
       "      <th>75%</th>\n",
       "      <td>90.0</td>\n",
       "      <td>240.00000</td>\n",
       "      <td>0.535474</td>\n",
       "      <td>260.000000</td>\n",
       "      <td>87.000000</td>\n",
       "      <td>0.620661</td>\n",
       "      <td>0.472334</td>\n",
       "      <td>0.854942</td>\n",
       "      <td>1372.500000</td>\n",
       "      <td>129.500000</td>\n",
       "      <td>-1.0</td>\n",
       "    </tr>\n",
       "    <tr>\n",
       "      <th>max</th>\n",
       "      <td>90.0</td>\n",
       "      <td>300.00000</td>\n",
       "      <td>0.860377</td>\n",
       "      <td>630.000000</td>\n",
       "      <td>281.000000</td>\n",
       "      <td>0.901186</td>\n",
       "      <td>0.888889</td>\n",
       "      <td>0.989147</td>\n",
       "      <td>3323.000000</td>\n",
       "      <td>1043.000000</td>\n",
       "      <td>-1.0</td>\n",
       "    </tr>\n",
       "  </tbody>\n",
       "</table>\n",
       "</div>"
      ],
      "text/plain": [
       "       crop   duration         f1          fn          fp  precision  \\\n",
       "count  75.0   75.00000  75.000000   75.000000   75.000000  75.000000   \n",
       "mean   90.0  180.00000   0.425696  209.373333   67.386667   0.590875   \n",
       "std     0.0   85.42422   0.201654  177.453669   60.581616   0.126800   \n",
       "min    90.0   60.00000   0.073801    2.000000    3.000000   0.312500   \n",
       "25%    90.0  120.00000   0.280110   92.500000   25.000000   0.524863   \n",
       "50%    90.0  180.00000   0.421569  150.000000   49.000000   0.579909   \n",
       "75%    90.0  240.00000   0.535474  260.000000   87.000000   0.620661   \n",
       "max    90.0  300.00000   0.860377  630.000000  281.000000   0.901186   \n",
       "\n",
       "          recall      score           tn           tp  user  \n",
       "count  75.000000  75.000000    75.000000    75.000000  75.0  \n",
       "mean    0.355776   0.825971  1149.760000   115.280000  -1.0  \n",
       "std     0.211611   0.058265   778.757341   148.215289   0.0  \n",
       "min     0.040733   0.749392   343.000000     6.000000  -1.0  \n",
       "25%     0.197654   0.787448   566.000000    33.500000  -1.0  \n",
       "50%     0.330729   0.812403   836.000000    67.000000  -1.0  \n",
       "75%     0.472334   0.854942  1372.500000   129.500000  -1.0  \n",
       "max     0.888889   0.989147  3323.000000  1043.000000  -1.0  "
      ]
     },
     "execution_count": 22,
     "metadata": {},
     "output_type": "execute_result"
    }
   ],
   "source": [
    "dfi = pd.DataFrame(fullresult)\n",
    "dfi.loc[dfi['classifier']=='rf'].describe()"
   ]
  },
  {
   "cell_type": "code",
   "execution_count": 23,
   "metadata": {},
   "outputs": [
    {
     "data": {
      "text/html": [
       "<div>\n",
       "<style>\n",
       "    .dataframe thead tr:only-child th {\n",
       "        text-align: right;\n",
       "    }\n",
       "\n",
       "    .dataframe thead th {\n",
       "        text-align: left;\n",
       "    }\n",
       "\n",
       "    .dataframe tbody tr th {\n",
       "        vertical-align: top;\n",
       "    }\n",
       "</style>\n",
       "<table border=\"1\" class=\"dataframe\">\n",
       "  <thead>\n",
       "    <tr style=\"text-align: right;\">\n",
       "      <th></th>\n",
       "      <th>classifier</th>\n",
       "      <th>crop</th>\n",
       "      <th>duration</th>\n",
       "      <th>f1</th>\n",
       "      <th>fn</th>\n",
       "      <th>fp</th>\n",
       "      <th>label</th>\n",
       "      <th>precision</th>\n",
       "      <th>recall</th>\n",
       "      <th>score</th>\n",
       "      <th>support</th>\n",
       "      <th>tn</th>\n",
       "      <th>tp</th>\n",
       "      <th>user</th>\n",
       "    </tr>\n",
       "  </thead>\n",
       "  <tbody>\n",
       "    <tr>\n",
       "      <th>0</th>\n",
       "      <td>rf</td>\n",
       "      <td>90</td>\n",
       "      <td>300</td>\n",
       "      <td>0.860377</td>\n",
       "      <td>49</td>\n",
       "      <td>25</td>\n",
       "      <td>sleep</td>\n",
       "      <td>0.901186</td>\n",
       "      <td>0.823105</td>\n",
       "      <td>0.885271</td>\n",
       "      <td>None</td>\n",
       "      <td>343</td>\n",
       "      <td>228</td>\n",
       "      <td>-1</td>\n",
       "    </tr>\n",
       "    <tr>\n",
       "      <th>1</th>\n",
       "      <td>rf</td>\n",
       "      <td>90</td>\n",
       "      <td>300</td>\n",
       "      <td>0.820513</td>\n",
       "      <td>2</td>\n",
       "      <td>5</td>\n",
       "      <td>exercise</td>\n",
       "      <td>0.761905</td>\n",
       "      <td>0.888889</td>\n",
       "      <td>0.989147</td>\n",
       "      <td>None</td>\n",
       "      <td>622</td>\n",
       "      <td>16</td>\n",
       "      <td>-1</td>\n",
       "    </tr>\n",
       "    <tr>\n",
       "      <th>2</th>\n",
       "      <td>rf</td>\n",
       "      <td>90</td>\n",
       "      <td>300</td>\n",
       "      <td>0.670270</td>\n",
       "      <td>43</td>\n",
       "      <td>18</td>\n",
       "      <td>move</td>\n",
       "      <td>0.775000</td>\n",
       "      <td>0.590476</td>\n",
       "      <td>0.905426</td>\n",
       "      <td>None</td>\n",
       "      <td>522</td>\n",
       "      <td>62</td>\n",
       "      <td>-1</td>\n",
       "    </tr>\n",
       "    <tr>\n",
       "      <th>3</th>\n",
       "      <td>rf</td>\n",
       "      <td>90</td>\n",
       "      <td>300</td>\n",
       "      <td>0.495726</td>\n",
       "      <td>82</td>\n",
       "      <td>36</td>\n",
       "      <td>stress1</td>\n",
       "      <td>0.617021</td>\n",
       "      <td>0.414286</td>\n",
       "      <td>0.817054</td>\n",
       "      <td>None</td>\n",
       "      <td>469</td>\n",
       "      <td>58</td>\n",
       "      <td>-1</td>\n",
       "    </tr>\n",
       "    <tr>\n",
       "      <th>4</th>\n",
       "      <td>rf</td>\n",
       "      <td>90</td>\n",
       "      <td>300</td>\n",
       "      <td>0.570447</td>\n",
       "      <td>69</td>\n",
       "      <td>56</td>\n",
       "      <td>stress2</td>\n",
       "      <td>0.597122</td>\n",
       "      <td>0.546053</td>\n",
       "      <td>0.806202</td>\n",
       "      <td>None</td>\n",
       "      <td>437</td>\n",
       "      <td>83</td>\n",
       "      <td>-1</td>\n",
       "    </tr>\n",
       "    <tr>\n",
       "      <th>5</th>\n",
       "      <td>rf</td>\n",
       "      <td>90</td>\n",
       "      <td>300</td>\n",
       "      <td>0.440367</td>\n",
       "      <td>82</td>\n",
       "      <td>40</td>\n",
       "      <td>stress3</td>\n",
       "      <td>0.545455</td>\n",
       "      <td>0.369231</td>\n",
       "      <td>0.810853</td>\n",
       "      <td>None</td>\n",
       "      <td>475</td>\n",
       "      <td>48</td>\n",
       "      <td>-1</td>\n",
       "    </tr>\n",
       "    <tr>\n",
       "      <th>6</th>\n",
       "      <td>rf</td>\n",
       "      <td>90</td>\n",
       "      <td>300</td>\n",
       "      <td>0.523438</td>\n",
       "      <td>75</td>\n",
       "      <td>47</td>\n",
       "      <td>stress4</td>\n",
       "      <td>0.587719</td>\n",
       "      <td>0.471831</td>\n",
       "      <td>0.810853</td>\n",
       "      <td>None</td>\n",
       "      <td>456</td>\n",
       "      <td>67</td>\n",
       "      <td>-1</td>\n",
       "    </tr>\n",
       "    <tr>\n",
       "      <th>7</th>\n",
       "      <td>rf</td>\n",
       "      <td>90</td>\n",
       "      <td>300</td>\n",
       "      <td>0.440000</td>\n",
       "      <td>67</td>\n",
       "      <td>17</td>\n",
       "      <td>stress5</td>\n",
       "      <td>0.660000</td>\n",
       "      <td>0.330000</td>\n",
       "      <td>0.869767</td>\n",
       "      <td>None</td>\n",
       "      <td>528</td>\n",
       "      <td>33</td>\n",
       "      <td>-1</td>\n",
       "    </tr>\n",
       "    <tr>\n",
       "      <th>8</th>\n",
       "      <td>rf</td>\n",
       "      <td>90</td>\n",
       "      <td>300</td>\n",
       "      <td>0.212121</td>\n",
       "      <td>91</td>\n",
       "      <td>13</td>\n",
       "      <td>relax1</td>\n",
       "      <td>0.518519</td>\n",
       "      <td>0.133333</td>\n",
       "      <td>0.838760</td>\n",
       "      <td>None</td>\n",
       "      <td>527</td>\n",
       "      <td>14</td>\n",
       "      <td>-1</td>\n",
       "    </tr>\n",
       "    <tr>\n",
       "      <th>9</th>\n",
       "      <td>rf</td>\n",
       "      <td>90</td>\n",
       "      <td>300</td>\n",
       "      <td>0.114286</td>\n",
       "      <td>87</td>\n",
       "      <td>6</td>\n",
       "      <td>relax2</td>\n",
       "      <td>0.500000</td>\n",
       "      <td>0.064516</td>\n",
       "      <td>0.855814</td>\n",
       "      <td>None</td>\n",
       "      <td>546</td>\n",
       "      <td>6</td>\n",
       "      <td>-1</td>\n",
       "    </tr>\n",
       "    <tr>\n",
       "      <th>10</th>\n",
       "      <td>rf</td>\n",
       "      <td>90</td>\n",
       "      <td>300</td>\n",
       "      <td>0.271605</td>\n",
       "      <td>93</td>\n",
       "      <td>25</td>\n",
       "      <td>relax3</td>\n",
       "      <td>0.468085</td>\n",
       "      <td>0.191304</td>\n",
       "      <td>0.817054</td>\n",
       "      <td>None</td>\n",
       "      <td>505</td>\n",
       "      <td>22</td>\n",
       "      <td>-1</td>\n",
       "    </tr>\n",
       "    <tr>\n",
       "      <th>11</th>\n",
       "      <td>rf</td>\n",
       "      <td>90</td>\n",
       "      <td>300</td>\n",
       "      <td>0.174603</td>\n",
       "      <td>92</td>\n",
       "      <td>12</td>\n",
       "      <td>relax4</td>\n",
       "      <td>0.478261</td>\n",
       "      <td>0.106796</td>\n",
       "      <td>0.838760</td>\n",
       "      <td>None</td>\n",
       "      <td>530</td>\n",
       "      <td>11</td>\n",
       "      <td>-1</td>\n",
       "    </tr>\n",
       "    <tr>\n",
       "      <th>12</th>\n",
       "      <td>rf</td>\n",
       "      <td>90</td>\n",
       "      <td>300</td>\n",
       "      <td>0.456140</td>\n",
       "      <td>93</td>\n",
       "      <td>31</td>\n",
       "      <td>relax5</td>\n",
       "      <td>0.626506</td>\n",
       "      <td>0.358621</td>\n",
       "      <td>0.807752</td>\n",
       "      <td>None</td>\n",
       "      <td>469</td>\n",
       "      <td>52</td>\n",
       "      <td>-1</td>\n",
       "    </tr>\n",
       "    <tr>\n",
       "      <th>13</th>\n",
       "      <td>rf</td>\n",
       "      <td>90</td>\n",
       "      <td>300</td>\n",
       "      <td>0.450262</td>\n",
       "      <td>69</td>\n",
       "      <td>36</td>\n",
       "      <td>active</td>\n",
       "      <td>0.544304</td>\n",
       "      <td>0.383929</td>\n",
       "      <td>0.837209</td>\n",
       "      <td>None</td>\n",
       "      <td>497</td>\n",
       "      <td>43</td>\n",
       "      <td>-1</td>\n",
       "    </tr>\n",
       "    <tr>\n",
       "      <th>14</th>\n",
       "      <td>rf</td>\n",
       "      <td>90</td>\n",
       "      <td>300</td>\n",
       "      <td>0.345946</td>\n",
       "      <td>101</td>\n",
       "      <td>20</td>\n",
       "      <td>passive</td>\n",
       "      <td>0.615385</td>\n",
       "      <td>0.240602</td>\n",
       "      <td>0.812403</td>\n",
       "      <td>None</td>\n",
       "      <td>492</td>\n",
       "      <td>32</td>\n",
       "      <td>-1</td>\n",
       "    </tr>\n",
       "    <tr>\n",
       "      <th>15</th>\n",
       "      <td>rbf</td>\n",
       "      <td>90</td>\n",
       "      <td>300</td>\n",
       "      <td>0.076389</td>\n",
       "      <td>266</td>\n",
       "      <td>0</td>\n",
       "      <td>sleep</td>\n",
       "      <td>1.000000</td>\n",
       "      <td>0.039711</td>\n",
       "      <td>0.587597</td>\n",
       "      <td>None</td>\n",
       "      <td>368</td>\n",
       "      <td>11</td>\n",
       "      <td>-1</td>\n",
       "    </tr>\n",
       "    <tr>\n",
       "      <th>16</th>\n",
       "      <td>rbf</td>\n",
       "      <td>90</td>\n",
       "      <td>300</td>\n",
       "      <td>0.000000</td>\n",
       "      <td>18</td>\n",
       "      <td>0</td>\n",
       "      <td>exercise</td>\n",
       "      <td>0.000000</td>\n",
       "      <td>0.000000</td>\n",
       "      <td>0.972093</td>\n",
       "      <td>None</td>\n",
       "      <td>627</td>\n",
       "      <td>0</td>\n",
       "      <td>-1</td>\n",
       "    </tr>\n",
       "    <tr>\n",
       "      <th>17</th>\n",
       "      <td>rbf</td>\n",
       "      <td>90</td>\n",
       "      <td>300</td>\n",
       "      <td>0.000000</td>\n",
       "      <td>105</td>\n",
       "      <td>1</td>\n",
       "      <td>move</td>\n",
       "      <td>0.000000</td>\n",
       "      <td>0.000000</td>\n",
       "      <td>0.835659</td>\n",
       "      <td>None</td>\n",
       "      <td>539</td>\n",
       "      <td>0</td>\n",
       "      <td>-1</td>\n",
       "    </tr>\n",
       "    <tr>\n",
       "      <th>18</th>\n",
       "      <td>rbf</td>\n",
       "      <td>90</td>\n",
       "      <td>300</td>\n",
       "      <td>0.014085</td>\n",
       "      <td>139</td>\n",
       "      <td>1</td>\n",
       "      <td>stress1</td>\n",
       "      <td>0.500000</td>\n",
       "      <td>0.007143</td>\n",
       "      <td>0.782946</td>\n",
       "      <td>None</td>\n",
       "      <td>504</td>\n",
       "      <td>1</td>\n",
       "      <td>-1</td>\n",
       "    </tr>\n",
       "    <tr>\n",
       "      <th>19</th>\n",
       "      <td>rbf</td>\n",
       "      <td>90</td>\n",
       "      <td>300</td>\n",
       "      <td>0.012903</td>\n",
       "      <td>151</td>\n",
       "      <td>2</td>\n",
       "      <td>stress2</td>\n",
       "      <td>0.333333</td>\n",
       "      <td>0.006579</td>\n",
       "      <td>0.762791</td>\n",
       "      <td>None</td>\n",
       "      <td>491</td>\n",
       "      <td>1</td>\n",
       "      <td>-1</td>\n",
       "    </tr>\n",
       "    <tr>\n",
       "      <th>20</th>\n",
       "      <td>rbf</td>\n",
       "      <td>90</td>\n",
       "      <td>300</td>\n",
       "      <td>0.000000</td>\n",
       "      <td>130</td>\n",
       "      <td>1</td>\n",
       "      <td>stress3</td>\n",
       "      <td>0.000000</td>\n",
       "      <td>0.000000</td>\n",
       "      <td>0.796899</td>\n",
       "      <td>None</td>\n",
       "      <td>514</td>\n",
       "      <td>0</td>\n",
       "      <td>-1</td>\n",
       "    </tr>\n",
       "    <tr>\n",
       "      <th>21</th>\n",
       "      <td>rbf</td>\n",
       "      <td>90</td>\n",
       "      <td>300</td>\n",
       "      <td>0.013793</td>\n",
       "      <td>141</td>\n",
       "      <td>2</td>\n",
       "      <td>stress4</td>\n",
       "      <td>0.333333</td>\n",
       "      <td>0.007042</td>\n",
       "      <td>0.778295</td>\n",
       "      <td>None</td>\n",
       "      <td>501</td>\n",
       "      <td>1</td>\n",
       "      <td>-1</td>\n",
       "    </tr>\n",
       "    <tr>\n",
       "      <th>22</th>\n",
       "      <td>rbf</td>\n",
       "      <td>90</td>\n",
       "      <td>300</td>\n",
       "      <td>0.000000</td>\n",
       "      <td>100</td>\n",
       "      <td>0</td>\n",
       "      <td>stress5</td>\n",
       "      <td>0.000000</td>\n",
       "      <td>0.000000</td>\n",
       "      <td>0.844961</td>\n",
       "      <td>None</td>\n",
       "      <td>545</td>\n",
       "      <td>0</td>\n",
       "      <td>-1</td>\n",
       "    </tr>\n",
       "    <tr>\n",
       "      <th>23</th>\n",
       "      <td>rbf</td>\n",
       "      <td>90</td>\n",
       "      <td>300</td>\n",
       "      <td>0.000000</td>\n",
       "      <td>105</td>\n",
       "      <td>0</td>\n",
       "      <td>relax1</td>\n",
       "      <td>0.000000</td>\n",
       "      <td>0.000000</td>\n",
       "      <td>0.837209</td>\n",
       "      <td>None</td>\n",
       "      <td>540</td>\n",
       "      <td>0</td>\n",
       "      <td>-1</td>\n",
       "    </tr>\n",
       "    <tr>\n",
       "      <th>24</th>\n",
       "      <td>rbf</td>\n",
       "      <td>90</td>\n",
       "      <td>300</td>\n",
       "      <td>0.000000</td>\n",
       "      <td>93</td>\n",
       "      <td>0</td>\n",
       "      <td>relax2</td>\n",
       "      <td>0.000000</td>\n",
       "      <td>0.000000</td>\n",
       "      <td>0.855814</td>\n",
       "      <td>None</td>\n",
       "      <td>552</td>\n",
       "      <td>0</td>\n",
       "      <td>-1</td>\n",
       "    </tr>\n",
       "    <tr>\n",
       "      <th>25</th>\n",
       "      <td>rbf</td>\n",
       "      <td>90</td>\n",
       "      <td>300</td>\n",
       "      <td>0.000000</td>\n",
       "      <td>115</td>\n",
       "      <td>0</td>\n",
       "      <td>relax3</td>\n",
       "      <td>0.000000</td>\n",
       "      <td>0.000000</td>\n",
       "      <td>0.821705</td>\n",
       "      <td>None</td>\n",
       "      <td>530</td>\n",
       "      <td>0</td>\n",
       "      <td>-1</td>\n",
       "    </tr>\n",
       "    <tr>\n",
       "      <th>26</th>\n",
       "      <td>rbf</td>\n",
       "      <td>90</td>\n",
       "      <td>300</td>\n",
       "      <td>0.000000</td>\n",
       "      <td>103</td>\n",
       "      <td>0</td>\n",
       "      <td>relax4</td>\n",
       "      <td>0.000000</td>\n",
       "      <td>0.000000</td>\n",
       "      <td>0.840310</td>\n",
       "      <td>None</td>\n",
       "      <td>542</td>\n",
       "      <td>0</td>\n",
       "      <td>-1</td>\n",
       "    </tr>\n",
       "    <tr>\n",
       "      <th>27</th>\n",
       "      <td>rbf</td>\n",
       "      <td>90</td>\n",
       "      <td>300</td>\n",
       "      <td>0.013605</td>\n",
       "      <td>144</td>\n",
       "      <td>1</td>\n",
       "      <td>relax5</td>\n",
       "      <td>0.500000</td>\n",
       "      <td>0.006897</td>\n",
       "      <td>0.775194</td>\n",
       "      <td>None</td>\n",
       "      <td>499</td>\n",
       "      <td>1</td>\n",
       "      <td>-1</td>\n",
       "    </tr>\n",
       "    <tr>\n",
       "      <th>28</th>\n",
       "      <td>rbf</td>\n",
       "      <td>90</td>\n",
       "      <td>300</td>\n",
       "      <td>0.017699</td>\n",
       "      <td>111</td>\n",
       "      <td>0</td>\n",
       "      <td>active</td>\n",
       "      <td>1.000000</td>\n",
       "      <td>0.008929</td>\n",
       "      <td>0.827907</td>\n",
       "      <td>None</td>\n",
       "      <td>533</td>\n",
       "      <td>1</td>\n",
       "      <td>-1</td>\n",
       "    </tr>\n",
       "    <tr>\n",
       "      <th>29</th>\n",
       "      <td>rbf</td>\n",
       "      <td>90</td>\n",
       "      <td>300</td>\n",
       "      <td>0.000000</td>\n",
       "      <td>133</td>\n",
       "      <td>1</td>\n",
       "      <td>passive</td>\n",
       "      <td>0.000000</td>\n",
       "      <td>0.000000</td>\n",
       "      <td>0.792248</td>\n",
       "      <td>None</td>\n",
       "      <td>511</td>\n",
       "      <td>0</td>\n",
       "      <td>-1</td>\n",
       "    </tr>\n",
       "    <tr>\n",
       "      <th>...</th>\n",
       "      <td>...</td>\n",
       "      <td>...</td>\n",
       "      <td>...</td>\n",
       "      <td>...</td>\n",
       "      <td>...</td>\n",
       "      <td>...</td>\n",
       "      <td>...</td>\n",
       "      <td>...</td>\n",
       "      <td>...</td>\n",
       "      <td>...</td>\n",
       "      <td>...</td>\n",
       "      <td>...</td>\n",
       "      <td>...</td>\n",
       "      <td>...</td>\n",
       "    </tr>\n",
       "    <tr>\n",
       "      <th>120</th>\n",
       "      <td>rf</td>\n",
       "      <td>90</td>\n",
       "      <td>60</td>\n",
       "      <td>0.801383</td>\n",
       "      <td>284</td>\n",
       "      <td>233</td>\n",
       "      <td>sleep</td>\n",
       "      <td>0.817398</td>\n",
       "      <td>0.785983</td>\n",
       "      <td>0.849709</td>\n",
       "      <td>None</td>\n",
       "      <td>1880</td>\n",
       "      <td>1043</td>\n",
       "      <td>-1</td>\n",
       "    </tr>\n",
       "    <tr>\n",
       "      <th>121</th>\n",
       "      <td>rf</td>\n",
       "      <td>90</td>\n",
       "      <td>60</td>\n",
       "      <td>0.721311</td>\n",
       "      <td>32</td>\n",
       "      <td>19</td>\n",
       "      <td>exercise</td>\n",
       "      <td>0.776471</td>\n",
       "      <td>0.673469</td>\n",
       "      <td>0.985174</td>\n",
       "      <td>None</td>\n",
       "      <td>3323</td>\n",
       "      <td>66</td>\n",
       "      <td>-1</td>\n",
       "    </tr>\n",
       "    <tr>\n",
       "      <th>122</th>\n",
       "      <td>rf</td>\n",
       "      <td>90</td>\n",
       "      <td>60</td>\n",
       "      <td>0.558352</td>\n",
       "      <td>245</td>\n",
       "      <td>141</td>\n",
       "      <td>move</td>\n",
       "      <td>0.633766</td>\n",
       "      <td>0.498978</td>\n",
       "      <td>0.887791</td>\n",
       "      <td>None</td>\n",
       "      <td>2810</td>\n",
       "      <td>244</td>\n",
       "      <td>-1</td>\n",
       "    </tr>\n",
       "    <tr>\n",
       "      <th>123</th>\n",
       "      <td>rf</td>\n",
       "      <td>90</td>\n",
       "      <td>60</td>\n",
       "      <td>0.433471</td>\n",
       "      <td>597</td>\n",
       "      <td>229</td>\n",
       "      <td>stress1</td>\n",
       "      <td>0.579817</td>\n",
       "      <td>0.346112</td>\n",
       "      <td>0.759884</td>\n",
       "      <td>None</td>\n",
       "      <td>2298</td>\n",
       "      <td>316</td>\n",
       "      <td>-1</td>\n",
       "    </tr>\n",
       "    <tr>\n",
       "      <th>124</th>\n",
       "      <td>rf</td>\n",
       "      <td>90</td>\n",
       "      <td>60</td>\n",
       "      <td>0.513834</td>\n",
       "      <td>580</td>\n",
       "      <td>281</td>\n",
       "      <td>stress2</td>\n",
       "      <td>0.618207</td>\n",
       "      <td>0.439614</td>\n",
       "      <td>0.749709</td>\n",
       "      <td>None</td>\n",
       "      <td>2124</td>\n",
       "      <td>455</td>\n",
       "      <td>-1</td>\n",
       "    </tr>\n",
       "    <tr>\n",
       "      <th>125</th>\n",
       "      <td>rf</td>\n",
       "      <td>90</td>\n",
       "      <td>60</td>\n",
       "      <td>0.376929</td>\n",
       "      <td>580</td>\n",
       "      <td>187</td>\n",
       "      <td>stress3</td>\n",
       "      <td>0.553699</td>\n",
       "      <td>0.285714</td>\n",
       "      <td>0.777035</td>\n",
       "      <td>None</td>\n",
       "      <td>2441</td>\n",
       "      <td>232</td>\n",
       "      <td>-1</td>\n",
       "    </tr>\n",
       "    <tr>\n",
       "      <th>126</th>\n",
       "      <td>rf</td>\n",
       "      <td>90</td>\n",
       "      <td>60</td>\n",
       "      <td>0.446205</td>\n",
       "      <td>596</td>\n",
       "      <td>243</td>\n",
       "      <td>stress4</td>\n",
       "      <td>0.581756</td>\n",
       "      <td>0.361884</td>\n",
       "      <td>0.756105</td>\n",
       "      <td>None</td>\n",
       "      <td>2263</td>\n",
       "      <td>338</td>\n",
       "      <td>-1</td>\n",
       "    </tr>\n",
       "    <tr>\n",
       "      <th>127</th>\n",
       "      <td>rf</td>\n",
       "      <td>90</td>\n",
       "      <td>60</td>\n",
       "      <td>0.305882</td>\n",
       "      <td>548</td>\n",
       "      <td>101</td>\n",
       "      <td>stress5</td>\n",
       "      <td>0.586066</td>\n",
       "      <td>0.206946</td>\n",
       "      <td>0.811337</td>\n",
       "      <td>None</td>\n",
       "      <td>2648</td>\n",
       "      <td>143</td>\n",
       "      <td>-1</td>\n",
       "    </tr>\n",
       "    <tr>\n",
       "      <th>128</th>\n",
       "      <td>rf</td>\n",
       "      <td>90</td>\n",
       "      <td>60</td>\n",
       "      <td>0.165986</td>\n",
       "      <td>552</td>\n",
       "      <td>61</td>\n",
       "      <td>relax1</td>\n",
       "      <td>0.500000</td>\n",
       "      <td>0.099511</td>\n",
       "      <td>0.821802</td>\n",
       "      <td>None</td>\n",
       "      <td>2766</td>\n",
       "      <td>61</td>\n",
       "      <td>-1</td>\n",
       "    </tr>\n",
       "    <tr>\n",
       "      <th>129</th>\n",
       "      <td>rf</td>\n",
       "      <td>90</td>\n",
       "      <td>60</td>\n",
       "      <td>0.073801</td>\n",
       "      <td>471</td>\n",
       "      <td>31</td>\n",
       "      <td>relax2</td>\n",
       "      <td>0.392157</td>\n",
       "      <td>0.040733</td>\n",
       "      <td>0.854070</td>\n",
       "      <td>None</td>\n",
       "      <td>2918</td>\n",
       "      <td>20</td>\n",
       "      <td>-1</td>\n",
       "    </tr>\n",
       "    <tr>\n",
       "      <th>130</th>\n",
       "      <td>rf</td>\n",
       "      <td>90</td>\n",
       "      <td>60</td>\n",
       "      <td>0.231189</td>\n",
       "      <td>608</td>\n",
       "      <td>97</td>\n",
       "      <td>relax3</td>\n",
       "      <td>0.522167</td>\n",
       "      <td>0.148459</td>\n",
       "      <td>0.795058</td>\n",
       "      <td>None</td>\n",
       "      <td>2629</td>\n",
       "      <td>106</td>\n",
       "      <td>-1</td>\n",
       "    </tr>\n",
       "    <tr>\n",
       "      <th>131</th>\n",
       "      <td>rf</td>\n",
       "      <td>90</td>\n",
       "      <td>60</td>\n",
       "      <td>0.117143</td>\n",
       "      <td>551</td>\n",
       "      <td>67</td>\n",
       "      <td>relax4</td>\n",
       "      <td>0.379630</td>\n",
       "      <td>0.069257</td>\n",
       "      <td>0.820349</td>\n",
       "      <td>None</td>\n",
       "      <td>2781</td>\n",
       "      <td>41</td>\n",
       "      <td>-1</td>\n",
       "    </tr>\n",
       "    <tr>\n",
       "      <th>132</th>\n",
       "      <td>rf</td>\n",
       "      <td>90</td>\n",
       "      <td>60</td>\n",
       "      <td>0.333333</td>\n",
       "      <td>630</td>\n",
       "      <td>190</td>\n",
       "      <td>relax5</td>\n",
       "      <td>0.518987</td>\n",
       "      <td>0.245509</td>\n",
       "      <td>0.761628</td>\n",
       "      <td>None</td>\n",
       "      <td>2415</td>\n",
       "      <td>205</td>\n",
       "      <td>-1</td>\n",
       "    </tr>\n",
       "    <tr>\n",
       "      <th>133</th>\n",
       "      <td>rf</td>\n",
       "      <td>90</td>\n",
       "      <td>60</td>\n",
       "      <td>0.333913</td>\n",
       "      <td>621</td>\n",
       "      <td>145</td>\n",
       "      <td>active</td>\n",
       "      <td>0.569733</td>\n",
       "      <td>0.236162</td>\n",
       "      <td>0.777326</td>\n",
       "      <td>None</td>\n",
       "      <td>2482</td>\n",
       "      <td>192</td>\n",
       "      <td>-1</td>\n",
       "    </tr>\n",
       "    <tr>\n",
       "      <th>134</th>\n",
       "      <td>rf</td>\n",
       "      <td>90</td>\n",
       "      <td>60</td>\n",
       "      <td>0.226738</td>\n",
       "      <td>607</td>\n",
       "      <td>116</td>\n",
       "      <td>passive</td>\n",
       "      <td>0.477477</td>\n",
       "      <td>0.148668</td>\n",
       "      <td>0.789826</td>\n",
       "      <td>None</td>\n",
       "      <td>2611</td>\n",
       "      <td>106</td>\n",
       "      <td>-1</td>\n",
       "    </tr>\n",
       "    <tr>\n",
       "      <th>135</th>\n",
       "      <td>rbf</td>\n",
       "      <td>90</td>\n",
       "      <td>60</td>\n",
       "      <td>0.215789</td>\n",
       "      <td>1163</td>\n",
       "      <td>29</td>\n",
       "      <td>sleep</td>\n",
       "      <td>0.849741</td>\n",
       "      <td>0.123587</td>\n",
       "      <td>0.653488</td>\n",
       "      <td>None</td>\n",
       "      <td>2084</td>\n",
       "      <td>164</td>\n",
       "      <td>-1</td>\n",
       "    </tr>\n",
       "    <tr>\n",
       "      <th>136</th>\n",
       "      <td>rbf</td>\n",
       "      <td>90</td>\n",
       "      <td>60</td>\n",
       "      <td>0.148148</td>\n",
       "      <td>90</td>\n",
       "      <td>2</td>\n",
       "      <td>exercise</td>\n",
       "      <td>0.800000</td>\n",
       "      <td>0.081633</td>\n",
       "      <td>0.973256</td>\n",
       "      <td>None</td>\n",
       "      <td>3340</td>\n",
       "      <td>8</td>\n",
       "      <td>-1</td>\n",
       "    </tr>\n",
       "    <tr>\n",
       "      <th>137</th>\n",
       "      <td>rbf</td>\n",
       "      <td>90</td>\n",
       "      <td>60</td>\n",
       "      <td>0.061657</td>\n",
       "      <td>473</td>\n",
       "      <td>14</td>\n",
       "      <td>move</td>\n",
       "      <td>0.533333</td>\n",
       "      <td>0.032720</td>\n",
       "      <td>0.858430</td>\n",
       "      <td>None</td>\n",
       "      <td>2937</td>\n",
       "      <td>16</td>\n",
       "      <td>-1</td>\n",
       "    </tr>\n",
       "    <tr>\n",
       "      <th>138</th>\n",
       "      <td>rbf</td>\n",
       "      <td>90</td>\n",
       "      <td>60</td>\n",
       "      <td>0.045977</td>\n",
       "      <td>891</td>\n",
       "      <td>22</td>\n",
       "      <td>stress1</td>\n",
       "      <td>0.500000</td>\n",
       "      <td>0.024096</td>\n",
       "      <td>0.734593</td>\n",
       "      <td>None</td>\n",
       "      <td>2505</td>\n",
       "      <td>22</td>\n",
       "      <td>-1</td>\n",
       "    </tr>\n",
       "    <tr>\n",
       "      <th>139</th>\n",
       "      <td>rbf</td>\n",
       "      <td>90</td>\n",
       "      <td>60</td>\n",
       "      <td>0.053309</td>\n",
       "      <td>1006</td>\n",
       "      <td>24</td>\n",
       "      <td>stress2</td>\n",
       "      <td>0.547170</td>\n",
       "      <td>0.028019</td>\n",
       "      <td>0.700581</td>\n",
       "      <td>None</td>\n",
       "      <td>2381</td>\n",
       "      <td>29</td>\n",
       "      <td>-1</td>\n",
       "    </tr>\n",
       "    <tr>\n",
       "      <th>140</th>\n",
       "      <td>rbf</td>\n",
       "      <td>90</td>\n",
       "      <td>60</td>\n",
       "      <td>0.030879</td>\n",
       "      <td>799</td>\n",
       "      <td>17</td>\n",
       "      <td>stress3</td>\n",
       "      <td>0.433333</td>\n",
       "      <td>0.016010</td>\n",
       "      <td>0.762791</td>\n",
       "      <td>None</td>\n",
       "      <td>2611</td>\n",
       "      <td>13</td>\n",
       "      <td>-1</td>\n",
       "    </tr>\n",
       "    <tr>\n",
       "      <th>141</th>\n",
       "      <td>rbf</td>\n",
       "      <td>90</td>\n",
       "      <td>60</td>\n",
       "      <td>0.039054</td>\n",
       "      <td>915</td>\n",
       "      <td>20</td>\n",
       "      <td>stress4</td>\n",
       "      <td>0.487179</td>\n",
       "      <td>0.020343</td>\n",
       "      <td>0.728198</td>\n",
       "      <td>None</td>\n",
       "      <td>2486</td>\n",
       "      <td>19</td>\n",
       "      <td>-1</td>\n",
       "    </tr>\n",
       "    <tr>\n",
       "      <th>142</th>\n",
       "      <td>rbf</td>\n",
       "      <td>90</td>\n",
       "      <td>60</td>\n",
       "      <td>0.022472</td>\n",
       "      <td>683</td>\n",
       "      <td>13</td>\n",
       "      <td>stress5</td>\n",
       "      <td>0.380952</td>\n",
       "      <td>0.011577</td>\n",
       "      <td>0.797674</td>\n",
       "      <td>None</td>\n",
       "      <td>2736</td>\n",
       "      <td>8</td>\n",
       "      <td>-1</td>\n",
       "    </tr>\n",
       "    <tr>\n",
       "      <th>143</th>\n",
       "      <td>rbf</td>\n",
       "      <td>90</td>\n",
       "      <td>60</td>\n",
       "      <td>0.037618</td>\n",
       "      <td>601</td>\n",
       "      <td>13</td>\n",
       "      <td>relax1</td>\n",
       "      <td>0.480000</td>\n",
       "      <td>0.019576</td>\n",
       "      <td>0.821512</td>\n",
       "      <td>None</td>\n",
       "      <td>2814</td>\n",
       "      <td>12</td>\n",
       "      <td>-1</td>\n",
       "    </tr>\n",
       "    <tr>\n",
       "      <th>144</th>\n",
       "      <td>rbf</td>\n",
       "      <td>90</td>\n",
       "      <td>60</td>\n",
       "      <td>0.035225</td>\n",
       "      <td>482</td>\n",
       "      <td>11</td>\n",
       "      <td>relax2</td>\n",
       "      <td>0.450000</td>\n",
       "      <td>0.018330</td>\n",
       "      <td>0.856686</td>\n",
       "      <td>None</td>\n",
       "      <td>2938</td>\n",
       "      <td>9</td>\n",
       "      <td>-1</td>\n",
       "    </tr>\n",
       "    <tr>\n",
       "      <th>145</th>\n",
       "      <td>rbf</td>\n",
       "      <td>90</td>\n",
       "      <td>60</td>\n",
       "      <td>0.034806</td>\n",
       "      <td>701</td>\n",
       "      <td>20</td>\n",
       "      <td>relax3</td>\n",
       "      <td>0.393939</td>\n",
       "      <td>0.018207</td>\n",
       "      <td>0.790407</td>\n",
       "      <td>None</td>\n",
       "      <td>2706</td>\n",
       "      <td>13</td>\n",
       "      <td>-1</td>\n",
       "    </tr>\n",
       "    <tr>\n",
       "      <th>146</th>\n",
       "      <td>rbf</td>\n",
       "      <td>90</td>\n",
       "      <td>60</td>\n",
       "      <td>0.029126</td>\n",
       "      <td>583</td>\n",
       "      <td>17</td>\n",
       "      <td>relax4</td>\n",
       "      <td>0.346154</td>\n",
       "      <td>0.015203</td>\n",
       "      <td>0.825581</td>\n",
       "      <td>None</td>\n",
       "      <td>2831</td>\n",
       "      <td>9</td>\n",
       "      <td>-1</td>\n",
       "    </tr>\n",
       "    <tr>\n",
       "      <th>147</th>\n",
       "      <td>rbf</td>\n",
       "      <td>90</td>\n",
       "      <td>60</td>\n",
       "      <td>0.056754</td>\n",
       "      <td>810</td>\n",
       "      <td>21</td>\n",
       "      <td>relax5</td>\n",
       "      <td>0.543478</td>\n",
       "      <td>0.029940</td>\n",
       "      <td>0.758430</td>\n",
       "      <td>None</td>\n",
       "      <td>2584</td>\n",
       "      <td>25</td>\n",
       "      <td>-1</td>\n",
       "    </tr>\n",
       "    <tr>\n",
       "      <th>148</th>\n",
       "      <td>rbf</td>\n",
       "      <td>90</td>\n",
       "      <td>60</td>\n",
       "      <td>0.028402</td>\n",
       "      <td>801</td>\n",
       "      <td>20</td>\n",
       "      <td>active</td>\n",
       "      <td>0.375000</td>\n",
       "      <td>0.014760</td>\n",
       "      <td>0.761337</td>\n",
       "      <td>None</td>\n",
       "      <td>2607</td>\n",
       "      <td>12</td>\n",
       "      <td>-1</td>\n",
       "    </tr>\n",
       "    <tr>\n",
       "      <th>149</th>\n",
       "      <td>rbf</td>\n",
       "      <td>90</td>\n",
       "      <td>60</td>\n",
       "      <td>0.045455</td>\n",
       "      <td>696</td>\n",
       "      <td>18</td>\n",
       "      <td>passive</td>\n",
       "      <td>0.485714</td>\n",
       "      <td>0.023843</td>\n",
       "      <td>0.792442</td>\n",
       "      <td>None</td>\n",
       "      <td>2709</td>\n",
       "      <td>17</td>\n",
       "      <td>-1</td>\n",
       "    </tr>\n",
       "  </tbody>\n",
       "</table>\n",
       "<p>150 rows × 14 columns</p>\n",
       "</div>"
      ],
      "text/plain": [
       "    classifier  crop  duration        f1    fn   fp     label  precision  \\\n",
       "0           rf    90       300  0.860377    49   25     sleep   0.901186   \n",
       "1           rf    90       300  0.820513     2    5  exercise   0.761905   \n",
       "2           rf    90       300  0.670270    43   18      move   0.775000   \n",
       "3           rf    90       300  0.495726    82   36   stress1   0.617021   \n",
       "4           rf    90       300  0.570447    69   56   stress2   0.597122   \n",
       "5           rf    90       300  0.440367    82   40   stress3   0.545455   \n",
       "6           rf    90       300  0.523438    75   47   stress4   0.587719   \n",
       "7           rf    90       300  0.440000    67   17   stress5   0.660000   \n",
       "8           rf    90       300  0.212121    91   13    relax1   0.518519   \n",
       "9           rf    90       300  0.114286    87    6    relax2   0.500000   \n",
       "10          rf    90       300  0.271605    93   25    relax3   0.468085   \n",
       "11          rf    90       300  0.174603    92   12    relax4   0.478261   \n",
       "12          rf    90       300  0.456140    93   31    relax5   0.626506   \n",
       "13          rf    90       300  0.450262    69   36    active   0.544304   \n",
       "14          rf    90       300  0.345946   101   20   passive   0.615385   \n",
       "15         rbf    90       300  0.076389   266    0     sleep   1.000000   \n",
       "16         rbf    90       300  0.000000    18    0  exercise   0.000000   \n",
       "17         rbf    90       300  0.000000   105    1      move   0.000000   \n",
       "18         rbf    90       300  0.014085   139    1   stress1   0.500000   \n",
       "19         rbf    90       300  0.012903   151    2   stress2   0.333333   \n",
       "20         rbf    90       300  0.000000   130    1   stress3   0.000000   \n",
       "21         rbf    90       300  0.013793   141    2   stress4   0.333333   \n",
       "22         rbf    90       300  0.000000   100    0   stress5   0.000000   \n",
       "23         rbf    90       300  0.000000   105    0    relax1   0.000000   \n",
       "24         rbf    90       300  0.000000    93    0    relax2   0.000000   \n",
       "25         rbf    90       300  0.000000   115    0    relax3   0.000000   \n",
       "26         rbf    90       300  0.000000   103    0    relax4   0.000000   \n",
       "27         rbf    90       300  0.013605   144    1    relax5   0.500000   \n",
       "28         rbf    90       300  0.017699   111    0    active   1.000000   \n",
       "29         rbf    90       300  0.000000   133    1   passive   0.000000   \n",
       "..         ...   ...       ...       ...   ...  ...       ...        ...   \n",
       "120         rf    90        60  0.801383   284  233     sleep   0.817398   \n",
       "121         rf    90        60  0.721311    32   19  exercise   0.776471   \n",
       "122         rf    90        60  0.558352   245  141      move   0.633766   \n",
       "123         rf    90        60  0.433471   597  229   stress1   0.579817   \n",
       "124         rf    90        60  0.513834   580  281   stress2   0.618207   \n",
       "125         rf    90        60  0.376929   580  187   stress3   0.553699   \n",
       "126         rf    90        60  0.446205   596  243   stress4   0.581756   \n",
       "127         rf    90        60  0.305882   548  101   stress5   0.586066   \n",
       "128         rf    90        60  0.165986   552   61    relax1   0.500000   \n",
       "129         rf    90        60  0.073801   471   31    relax2   0.392157   \n",
       "130         rf    90        60  0.231189   608   97    relax3   0.522167   \n",
       "131         rf    90        60  0.117143   551   67    relax4   0.379630   \n",
       "132         rf    90        60  0.333333   630  190    relax5   0.518987   \n",
       "133         rf    90        60  0.333913   621  145    active   0.569733   \n",
       "134         rf    90        60  0.226738   607  116   passive   0.477477   \n",
       "135        rbf    90        60  0.215789  1163   29     sleep   0.849741   \n",
       "136        rbf    90        60  0.148148    90    2  exercise   0.800000   \n",
       "137        rbf    90        60  0.061657   473   14      move   0.533333   \n",
       "138        rbf    90        60  0.045977   891   22   stress1   0.500000   \n",
       "139        rbf    90        60  0.053309  1006   24   stress2   0.547170   \n",
       "140        rbf    90        60  0.030879   799   17   stress3   0.433333   \n",
       "141        rbf    90        60  0.039054   915   20   stress4   0.487179   \n",
       "142        rbf    90        60  0.022472   683   13   stress5   0.380952   \n",
       "143        rbf    90        60  0.037618   601   13    relax1   0.480000   \n",
       "144        rbf    90        60  0.035225   482   11    relax2   0.450000   \n",
       "145        rbf    90        60  0.034806   701   20    relax3   0.393939   \n",
       "146        rbf    90        60  0.029126   583   17    relax4   0.346154   \n",
       "147        rbf    90        60  0.056754   810   21    relax5   0.543478   \n",
       "148        rbf    90        60  0.028402   801   20    active   0.375000   \n",
       "149        rbf    90        60  0.045455   696   18   passive   0.485714   \n",
       "\n",
       "       recall     score support    tn    tp  user  \n",
       "0    0.823105  0.885271    None   343   228    -1  \n",
       "1    0.888889  0.989147    None   622    16    -1  \n",
       "2    0.590476  0.905426    None   522    62    -1  \n",
       "3    0.414286  0.817054    None   469    58    -1  \n",
       "4    0.546053  0.806202    None   437    83    -1  \n",
       "5    0.369231  0.810853    None   475    48    -1  \n",
       "6    0.471831  0.810853    None   456    67    -1  \n",
       "7    0.330000  0.869767    None   528    33    -1  \n",
       "8    0.133333  0.838760    None   527    14    -1  \n",
       "9    0.064516  0.855814    None   546     6    -1  \n",
       "10   0.191304  0.817054    None   505    22    -1  \n",
       "11   0.106796  0.838760    None   530    11    -1  \n",
       "12   0.358621  0.807752    None   469    52    -1  \n",
       "13   0.383929  0.837209    None   497    43    -1  \n",
       "14   0.240602  0.812403    None   492    32    -1  \n",
       "15   0.039711  0.587597    None   368    11    -1  \n",
       "16   0.000000  0.972093    None   627     0    -1  \n",
       "17   0.000000  0.835659    None   539     0    -1  \n",
       "18   0.007143  0.782946    None   504     1    -1  \n",
       "19   0.006579  0.762791    None   491     1    -1  \n",
       "20   0.000000  0.796899    None   514     0    -1  \n",
       "21   0.007042  0.778295    None   501     1    -1  \n",
       "22   0.000000  0.844961    None   545     0    -1  \n",
       "23   0.000000  0.837209    None   540     0    -1  \n",
       "24   0.000000  0.855814    None   552     0    -1  \n",
       "25   0.000000  0.821705    None   530     0    -1  \n",
       "26   0.000000  0.840310    None   542     0    -1  \n",
       "27   0.006897  0.775194    None   499     1    -1  \n",
       "28   0.008929  0.827907    None   533     1    -1  \n",
       "29   0.000000  0.792248    None   511     0    -1  \n",
       "..        ...       ...     ...   ...   ...   ...  \n",
       "120  0.785983  0.849709    None  1880  1043    -1  \n",
       "121  0.673469  0.985174    None  3323    66    -1  \n",
       "122  0.498978  0.887791    None  2810   244    -1  \n",
       "123  0.346112  0.759884    None  2298   316    -1  \n",
       "124  0.439614  0.749709    None  2124   455    -1  \n",
       "125  0.285714  0.777035    None  2441   232    -1  \n",
       "126  0.361884  0.756105    None  2263   338    -1  \n",
       "127  0.206946  0.811337    None  2648   143    -1  \n",
       "128  0.099511  0.821802    None  2766    61    -1  \n",
       "129  0.040733  0.854070    None  2918    20    -1  \n",
       "130  0.148459  0.795058    None  2629   106    -1  \n",
       "131  0.069257  0.820349    None  2781    41    -1  \n",
       "132  0.245509  0.761628    None  2415   205    -1  \n",
       "133  0.236162  0.777326    None  2482   192    -1  \n",
       "134  0.148668  0.789826    None  2611   106    -1  \n",
       "135  0.123587  0.653488    None  2084   164    -1  \n",
       "136  0.081633  0.973256    None  3340     8    -1  \n",
       "137  0.032720  0.858430    None  2937    16    -1  \n",
       "138  0.024096  0.734593    None  2505    22    -1  \n",
       "139  0.028019  0.700581    None  2381    29    -1  \n",
       "140  0.016010  0.762791    None  2611    13    -1  \n",
       "141  0.020343  0.728198    None  2486    19    -1  \n",
       "142  0.011577  0.797674    None  2736     8    -1  \n",
       "143  0.019576  0.821512    None  2814    12    -1  \n",
       "144  0.018330  0.856686    None  2938     9    -1  \n",
       "145  0.018207  0.790407    None  2706    13    -1  \n",
       "146  0.015203  0.825581    None  2831     9    -1  \n",
       "147  0.029940  0.758430    None  2584    25    -1  \n",
       "148  0.014760  0.761337    None  2607    12    -1  \n",
       "149  0.023843  0.792442    None  2709    17    -1  \n",
       "\n",
       "[150 rows x 14 columns]"
      ]
     },
     "execution_count": 23,
     "metadata": {},
     "output_type": "execute_result"
    }
   ],
   "source": [
    "dfi.to_excel('./resultsprelim.xlsx')\n",
    "dfi"
   ]
  },
  {
   "cell_type": "markdown",
   "metadata": {},
   "source": [
    "## Intrauser classification"
   ]
  },
  {
   "cell_type": "code",
   "execution_count": null,
   "metadata": {},
   "outputs": [],
   "source": [
    "usersresult = []\n",
    "\n",
    "for user in range(2):\n",
    "    usersresult.extend(classif.full_classification(classifiers, durations, crops, features, onehotlabels, user=user, path=path))\n",
    "    "
   ]
  },
  {
   "cell_type": "code",
   "execution_count": null,
   "metadata": {
    "scrolled": false
   },
   "outputs": [],
   "source": [
    "dfu = pd.DataFrame(usersresult)\n",
    "dfu.describe()"
   ]
  },
  {
   "cell_type": "code",
   "execution_count": null,
   "metadata": {},
   "outputs": [],
   "source": [
    "dfull = pd.concat([dfi, dfu])"
   ]
  },
  {
   "cell_type": "code",
   "execution_count": null,
   "metadata": {},
   "outputs": [],
   "source": [
    "dfull.to_excel(path + '\\\\results.xlsx')"
   ]
  },
  {
   "cell_type": "markdown",
   "metadata": {},
   "source": [
    "## Examining classification"
   ]
  },
  {
   "cell_type": "code",
   "execution_count": null,
   "metadata": {},
   "outputs": [],
   "source": [
    "dfa = pd.read_excel(path + '\\\\results.xlsx')"
   ]
  },
  {
   "cell_type": "code",
   "execution_count": 25,
   "metadata": {},
   "outputs": [
    {
     "data": {
      "text/html": [
       "<div>\n",
       "<style>\n",
       "    .dataframe thead tr:only-child th {\n",
       "        text-align: right;\n",
       "    }\n",
       "\n",
       "    .dataframe thead th {\n",
       "        text-align: left;\n",
       "    }\n",
       "\n",
       "    .dataframe tbody tr th {\n",
       "        vertical-align: top;\n",
       "    }\n",
       "</style>\n",
       "<table border=\"1\" class=\"dataframe\">\n",
       "  <thead>\n",
       "    <tr style=\"text-align: right;\">\n",
       "      <th></th>\n",
       "      <th>classifier</th>\n",
       "      <th>crop</th>\n",
       "      <th>duration</th>\n",
       "      <th>f1</th>\n",
       "      <th>fn</th>\n",
       "      <th>fp</th>\n",
       "      <th>label</th>\n",
       "      <th>precision</th>\n",
       "      <th>recall</th>\n",
       "      <th>score</th>\n",
       "      <th>support</th>\n",
       "      <th>tn</th>\n",
       "      <th>tp</th>\n",
       "      <th>user</th>\n",
       "    </tr>\n",
       "  </thead>\n",
       "  <tbody>\n",
       "    <tr>\n",
       "      <th>30</th>\n",
       "      <td>rf</td>\n",
       "      <td>90</td>\n",
       "      <td>240</td>\n",
       "      <td>0.819672</td>\n",
       "      <td>75</td>\n",
       "      <td>35</td>\n",
       "      <td>sleep</td>\n",
       "      <td>0.877193</td>\n",
       "      <td>0.769231</td>\n",
       "      <td>0.866180</td>\n",
       "      <td>None</td>\n",
       "      <td>462</td>\n",
       "      <td>250</td>\n",
       "      <td>-1</td>\n",
       "    </tr>\n",
       "    <tr>\n",
       "      <th>31</th>\n",
       "      <td>rf</td>\n",
       "      <td>90</td>\n",
       "      <td>240</td>\n",
       "      <td>0.772727</td>\n",
       "      <td>7</td>\n",
       "      <td>3</td>\n",
       "      <td>exercise</td>\n",
       "      <td>0.850000</td>\n",
       "      <td>0.708333</td>\n",
       "      <td>0.987835</td>\n",
       "      <td>None</td>\n",
       "      <td>795</td>\n",
       "      <td>17</td>\n",
       "      <td>-1</td>\n",
       "    </tr>\n",
       "    <tr>\n",
       "      <th>32</th>\n",
       "      <td>rf</td>\n",
       "      <td>90</td>\n",
       "      <td>240</td>\n",
       "      <td>0.644860</td>\n",
       "      <td>43</td>\n",
       "      <td>33</td>\n",
       "      <td>move</td>\n",
       "      <td>0.676471</td>\n",
       "      <td>0.616071</td>\n",
       "      <td>0.907543</td>\n",
       "      <td>None</td>\n",
       "      <td>677</td>\n",
       "      <td>69</td>\n",
       "      <td>-1</td>\n",
       "    </tr>\n",
       "    <tr>\n",
       "      <th>33</th>\n",
       "      <td>rf</td>\n",
       "      <td>90</td>\n",
       "      <td>240</td>\n",
       "      <td>0.544041</td>\n",
       "      <td>128</td>\n",
       "      <td>48</td>\n",
       "      <td>stress1</td>\n",
       "      <td>0.686275</td>\n",
       "      <td>0.450644</td>\n",
       "      <td>0.785888</td>\n",
       "      <td>None</td>\n",
       "      <td>541</td>\n",
       "      <td>105</td>\n",
       "      <td>-1</td>\n",
       "    </tr>\n",
       "    <tr>\n",
       "      <th>34</th>\n",
       "      <td>rf</td>\n",
       "      <td>90</td>\n",
       "      <td>240</td>\n",
       "      <td>0.546256</td>\n",
       "      <td>131</td>\n",
       "      <td>75</td>\n",
       "      <td>stress2</td>\n",
       "      <td>0.623116</td>\n",
       "      <td>0.486275</td>\n",
       "      <td>0.749392</td>\n",
       "      <td>None</td>\n",
       "      <td>492</td>\n",
       "      <td>124</td>\n",
       "      <td>-1</td>\n",
       "    </tr>\n",
       "    <tr>\n",
       "      <th>35</th>\n",
       "      <td>rf</td>\n",
       "      <td>90</td>\n",
       "      <td>240</td>\n",
       "      <td>0.451613</td>\n",
       "      <td>135</td>\n",
       "      <td>52</td>\n",
       "      <td>stress3</td>\n",
       "      <td>0.596899</td>\n",
       "      <td>0.363208</td>\n",
       "      <td>0.772506</td>\n",
       "      <td>None</td>\n",
       "      <td>558</td>\n",
       "      <td>77</td>\n",
       "      <td>-1</td>\n",
       "    </tr>\n",
       "    <tr>\n",
       "      <th>36</th>\n",
       "      <td>rf</td>\n",
       "      <td>90</td>\n",
       "      <td>240</td>\n",
       "      <td>0.503778</td>\n",
       "      <td>134</td>\n",
       "      <td>63</td>\n",
       "      <td>stress4</td>\n",
       "      <td>0.613497</td>\n",
       "      <td>0.427350</td>\n",
       "      <td>0.760341</td>\n",
       "      <td>None</td>\n",
       "      <td>525</td>\n",
       "      <td>100</td>\n",
       "      <td>-1</td>\n",
       "    </tr>\n",
       "    <tr>\n",
       "      <th>37</th>\n",
       "      <td>rf</td>\n",
       "      <td>90</td>\n",
       "      <td>240</td>\n",
       "      <td>0.401575</td>\n",
       "      <td>118</td>\n",
       "      <td>34</td>\n",
       "      <td>stress5</td>\n",
       "      <td>0.600000</td>\n",
       "      <td>0.301775</td>\n",
       "      <td>0.815085</td>\n",
       "      <td>None</td>\n",
       "      <td>619</td>\n",
       "      <td>51</td>\n",
       "      <td>-1</td>\n",
       "    </tr>\n",
       "    <tr>\n",
       "      <th>38</th>\n",
       "      <td>rf</td>\n",
       "      <td>90</td>\n",
       "      <td>240</td>\n",
       "      <td>0.279070</td>\n",
       "      <td>104</td>\n",
       "      <td>20</td>\n",
       "      <td>relax1</td>\n",
       "      <td>0.545455</td>\n",
       "      <td>0.187500</td>\n",
       "      <td>0.849148</td>\n",
       "      <td>None</td>\n",
       "      <td>674</td>\n",
       "      <td>24</td>\n",
       "      <td>-1</td>\n",
       "    </tr>\n",
       "    <tr>\n",
       "      <th>39</th>\n",
       "      <td>rf</td>\n",
       "      <td>90</td>\n",
       "      <td>240</td>\n",
       "      <td>0.140625</td>\n",
       "      <td>97</td>\n",
       "      <td>13</td>\n",
       "      <td>relax2</td>\n",
       "      <td>0.409091</td>\n",
       "      <td>0.084906</td>\n",
       "      <td>0.866180</td>\n",
       "      <td>None</td>\n",
       "      <td>703</td>\n",
       "      <td>9</td>\n",
       "      <td>-1</td>\n",
       "    </tr>\n",
       "    <tr>\n",
       "      <th>40</th>\n",
       "      <td>rf</td>\n",
       "      <td>90</td>\n",
       "      <td>240</td>\n",
       "      <td>0.302439</td>\n",
       "      <td>118</td>\n",
       "      <td>25</td>\n",
       "      <td>relax3</td>\n",
       "      <td>0.553571</td>\n",
       "      <td>0.208054</td>\n",
       "      <td>0.826034</td>\n",
       "      <td>None</td>\n",
       "      <td>648</td>\n",
       "      <td>31</td>\n",
       "      <td>-1</td>\n",
       "    </tr>\n",
       "    <tr>\n",
       "      <th>41</th>\n",
       "      <td>rf</td>\n",
       "      <td>90</td>\n",
       "      <td>240</td>\n",
       "      <td>0.168831</td>\n",
       "      <td>114</td>\n",
       "      <td>14</td>\n",
       "      <td>relax4</td>\n",
       "      <td>0.481481</td>\n",
       "      <td>0.102362</td>\n",
       "      <td>0.844282</td>\n",
       "      <td>None</td>\n",
       "      <td>681</td>\n",
       "      <td>13</td>\n",
       "      <td>-1</td>\n",
       "    </tr>\n",
       "    <tr>\n",
       "      <th>42</th>\n",
       "      <td>rf</td>\n",
       "      <td>90</td>\n",
       "      <td>240</td>\n",
       "      <td>0.450161</td>\n",
       "      <td>122</td>\n",
       "      <td>49</td>\n",
       "      <td>relax5</td>\n",
       "      <td>0.588235</td>\n",
       "      <td>0.364583</td>\n",
       "      <td>0.791971</td>\n",
       "      <td>None</td>\n",
       "      <td>581</td>\n",
       "      <td>70</td>\n",
       "      <td>-1</td>\n",
       "    </tr>\n",
       "    <tr>\n",
       "      <th>43</th>\n",
       "      <td>rf</td>\n",
       "      <td>90</td>\n",
       "      <td>240</td>\n",
       "      <td>0.410256</td>\n",
       "      <td>127</td>\n",
       "      <td>57</td>\n",
       "      <td>active</td>\n",
       "      <td>0.528926</td>\n",
       "      <td>0.335079</td>\n",
       "      <td>0.776156</td>\n",
       "      <td>None</td>\n",
       "      <td>574</td>\n",
       "      <td>64</td>\n",
       "      <td>-1</td>\n",
       "    </tr>\n",
       "    <tr>\n",
       "      <th>44</th>\n",
       "      <td>rf</td>\n",
       "      <td>90</td>\n",
       "      <td>240</td>\n",
       "      <td>0.334694</td>\n",
       "      <td>129</td>\n",
       "      <td>34</td>\n",
       "      <td>passive</td>\n",
       "      <td>0.546667</td>\n",
       "      <td>0.241176</td>\n",
       "      <td>0.801703</td>\n",
       "      <td>None</td>\n",
       "      <td>618</td>\n",
       "      <td>41</td>\n",
       "      <td>-1</td>\n",
       "    </tr>\n",
       "  </tbody>\n",
       "</table>\n",
       "</div>"
      ],
      "text/plain": [
       "   classifier  crop  duration        f1   fn  fp     label  precision  \\\n",
       "30         rf    90       240  0.819672   75  35     sleep   0.877193   \n",
       "31         rf    90       240  0.772727    7   3  exercise   0.850000   \n",
       "32         rf    90       240  0.644860   43  33      move   0.676471   \n",
       "33         rf    90       240  0.544041  128  48   stress1   0.686275   \n",
       "34         rf    90       240  0.546256  131  75   stress2   0.623116   \n",
       "35         rf    90       240  0.451613  135  52   stress3   0.596899   \n",
       "36         rf    90       240  0.503778  134  63   stress4   0.613497   \n",
       "37         rf    90       240  0.401575  118  34   stress5   0.600000   \n",
       "38         rf    90       240  0.279070  104  20    relax1   0.545455   \n",
       "39         rf    90       240  0.140625   97  13    relax2   0.409091   \n",
       "40         rf    90       240  0.302439  118  25    relax3   0.553571   \n",
       "41         rf    90       240  0.168831  114  14    relax4   0.481481   \n",
       "42         rf    90       240  0.450161  122  49    relax5   0.588235   \n",
       "43         rf    90       240  0.410256  127  57    active   0.528926   \n",
       "44         rf    90       240  0.334694  129  34   passive   0.546667   \n",
       "\n",
       "      recall     score support   tn   tp  user  \n",
       "30  0.769231  0.866180    None  462  250    -1  \n",
       "31  0.708333  0.987835    None  795   17    -1  \n",
       "32  0.616071  0.907543    None  677   69    -1  \n",
       "33  0.450644  0.785888    None  541  105    -1  \n",
       "34  0.486275  0.749392    None  492  124    -1  \n",
       "35  0.363208  0.772506    None  558   77    -1  \n",
       "36  0.427350  0.760341    None  525  100    -1  \n",
       "37  0.301775  0.815085    None  619   51    -1  \n",
       "38  0.187500  0.849148    None  674   24    -1  \n",
       "39  0.084906  0.866180    None  703    9    -1  \n",
       "40  0.208054  0.826034    None  648   31    -1  \n",
       "41  0.102362  0.844282    None  681   13    -1  \n",
       "42  0.364583  0.791971    None  581   70    -1  \n",
       "43  0.335079  0.776156    None  574   64    -1  \n",
       "44  0.241176  0.801703    None  618   41    -1  "
      ]
     },
     "execution_count": 25,
     "metadata": {},
     "output_type": "execute_result"
    }
   ],
   "source": [
    "dview = dfi.loc[(dfi['classifier'] == 'rf') & (dfi['crop'] == 90) &(dfi['duration']==240)]\n",
    "dview"
   ]
  },
  {
   "cell_type": "code",
   "execution_count": 26,
   "metadata": {
    "scrolled": false
   },
   "outputs": [
    {
     "data": {
      "application/vnd.plotly.v1+json": {
       "data": [
        {
         "name": 300,
         "type": "bar",
         "x": [
          "rf",
          "rbf"
         ],
         "y": [
          0.8603773584905662,
          0.0763888888888889
         ]
        },
        {
         "name": 240,
         "type": "bar",
         "x": [
          "rf",
          "rbf"
         ],
         "y": [
          0.819672131147541,
          0.06547619047619048
         ]
        },
        {
         "name": 180,
         "type": "bar",
         "x": [
          "rf",
          "rbf"
         ],
         "y": [
          0.8015075376884423,
          0.08597285067873303
         ]
        },
        {
         "name": 120,
         "type": "bar",
         "x": [
          "rf",
          "rbf"
         ],
         "y": [
          0.8092209856915741,
          0.12273361227336123
         ]
        },
        {
         "name": 60,
         "type": "bar",
         "x": [
          "rf",
          "rbf"
         ],
         "y": [
          0.8013830195927776,
          0.2157894736842105
         ]
        }
       ],
       "layout": {
        "barmode": "group",
        "title": "sleep"
       }
      },
      "text/html": [
       "<div id=\"cd5a1675-570f-4813-9513-72e1abc84372\" style=\"height: 525px; width: 100%;\" class=\"plotly-graph-div\"></div><script type=\"text/javascript\">require([\"plotly\"], function(Plotly) { window.PLOTLYENV=window.PLOTLYENV || {};window.PLOTLYENV.BASE_URL=\"https://plot.ly\";Plotly.newPlot(\"cd5a1675-570f-4813-9513-72e1abc84372\", [{\"type\": \"bar\", \"x\": [\"rf\", \"rbf\"], \"y\": [0.8603773584905662, 0.0763888888888889], \"name\": 300}, {\"type\": \"bar\", \"x\": [\"rf\", \"rbf\"], \"y\": [0.819672131147541, 0.06547619047619048], \"name\": 240}, {\"type\": \"bar\", \"x\": [\"rf\", \"rbf\"], \"y\": [0.8015075376884423, 0.08597285067873303], \"name\": 180}, {\"type\": \"bar\", \"x\": [\"rf\", \"rbf\"], \"y\": [0.8092209856915741, 0.12273361227336123], \"name\": 120}, {\"type\": \"bar\", \"x\": [\"rf\", \"rbf\"], \"y\": [0.8013830195927776, 0.2157894736842105], \"name\": 60}], {\"barmode\": \"group\", \"title\": \"sleep\"}, {\"showLink\": true, \"linkText\": \"Export to plot.ly\"})});</script>"
      ],
      "text/vnd.plotly.v1+html": [
       "<div id=\"cd5a1675-570f-4813-9513-72e1abc84372\" style=\"height: 525px; width: 100%;\" class=\"plotly-graph-div\"></div><script type=\"text/javascript\">require([\"plotly\"], function(Plotly) { window.PLOTLYENV=window.PLOTLYENV || {};window.PLOTLYENV.BASE_URL=\"https://plot.ly\";Plotly.newPlot(\"cd5a1675-570f-4813-9513-72e1abc84372\", [{\"type\": \"bar\", \"x\": [\"rf\", \"rbf\"], \"y\": [0.8603773584905662, 0.0763888888888889], \"name\": 300}, {\"type\": \"bar\", \"x\": [\"rf\", \"rbf\"], \"y\": [0.819672131147541, 0.06547619047619048], \"name\": 240}, {\"type\": \"bar\", \"x\": [\"rf\", \"rbf\"], \"y\": [0.8015075376884423, 0.08597285067873303], \"name\": 180}, {\"type\": \"bar\", \"x\": [\"rf\", \"rbf\"], \"y\": [0.8092209856915741, 0.12273361227336123], \"name\": 120}, {\"type\": \"bar\", \"x\": [\"rf\", \"rbf\"], \"y\": [0.8013830195927776, 0.2157894736842105], \"name\": 60}], {\"barmode\": \"group\", \"title\": \"sleep\"}, {\"showLink\": true, \"linkText\": \"Export to plot.ly\"})});</script>"
      ]
     },
     "metadata": {},
     "output_type": "display_data"
    },
    {
     "data": {
      "application/vnd.plotly.v1+json": {
       "data": [
        {
         "name": 300,
         "type": "bar",
         "x": [
          "rf",
          "rbf"
         ],
         "y": [
          0.8205128205128205,
          0
         ]
        },
        {
         "name": 240,
         "type": "bar",
         "x": [
          "rf",
          "rbf"
         ],
         "y": [
          0.7727272727272727,
          0
         ]
        },
        {
         "name": 180,
         "type": "bar",
         "x": [
          "rf",
          "rbf"
         ],
         "y": [
          0.7341772151898734,
          0.044444444444444446
         ]
        },
        {
         "name": 120,
         "type": "bar",
         "x": [
          "rf",
          "rbf"
         ],
         "y": [
          0.7526881720430108,
          0.037037037037037035
         ]
        },
        {
         "name": 60,
         "type": "bar",
         "x": [
          "rf",
          "rbf"
         ],
         "y": [
          0.7213114754098361,
          0.1481481481481481
         ]
        }
       ],
       "layout": {
        "barmode": "group",
        "title": "exercise"
       }
      },
      "text/html": [
       "<div id=\"3b305ee6-f87a-4752-9b0c-75677d1f2176\" style=\"height: 525px; width: 100%;\" class=\"plotly-graph-div\"></div><script type=\"text/javascript\">require([\"plotly\"], function(Plotly) { window.PLOTLYENV=window.PLOTLYENV || {};window.PLOTLYENV.BASE_URL=\"https://plot.ly\";Plotly.newPlot(\"3b305ee6-f87a-4752-9b0c-75677d1f2176\", [{\"type\": \"bar\", \"x\": [\"rf\", \"rbf\"], \"y\": [0.8205128205128205, 0.0], \"name\": 300}, {\"type\": \"bar\", \"x\": [\"rf\", \"rbf\"], \"y\": [0.7727272727272727, 0.0], \"name\": 240}, {\"type\": \"bar\", \"x\": [\"rf\", \"rbf\"], \"y\": [0.7341772151898734, 0.044444444444444446], \"name\": 180}, {\"type\": \"bar\", \"x\": [\"rf\", \"rbf\"], \"y\": [0.7526881720430108, 0.037037037037037035], \"name\": 120}, {\"type\": \"bar\", \"x\": [\"rf\", \"rbf\"], \"y\": [0.7213114754098361, 0.1481481481481481], \"name\": 60}], {\"barmode\": \"group\", \"title\": \"exercise\"}, {\"showLink\": true, \"linkText\": \"Export to plot.ly\"})});</script>"
      ],
      "text/vnd.plotly.v1+html": [
       "<div id=\"3b305ee6-f87a-4752-9b0c-75677d1f2176\" style=\"height: 525px; width: 100%;\" class=\"plotly-graph-div\"></div><script type=\"text/javascript\">require([\"plotly\"], function(Plotly) { window.PLOTLYENV=window.PLOTLYENV || {};window.PLOTLYENV.BASE_URL=\"https://plot.ly\";Plotly.newPlot(\"3b305ee6-f87a-4752-9b0c-75677d1f2176\", [{\"type\": \"bar\", \"x\": [\"rf\", \"rbf\"], \"y\": [0.8205128205128205, 0.0], \"name\": 300}, {\"type\": \"bar\", \"x\": [\"rf\", \"rbf\"], \"y\": [0.7727272727272727, 0.0], \"name\": 240}, {\"type\": \"bar\", \"x\": [\"rf\", \"rbf\"], \"y\": [0.7341772151898734, 0.044444444444444446], \"name\": 180}, {\"type\": \"bar\", \"x\": [\"rf\", \"rbf\"], \"y\": [0.7526881720430108, 0.037037037037037035], \"name\": 120}, {\"type\": \"bar\", \"x\": [\"rf\", \"rbf\"], \"y\": [0.7213114754098361, 0.1481481481481481], \"name\": 60}], {\"barmode\": \"group\", \"title\": \"exercise\"}, {\"showLink\": true, \"linkText\": \"Export to plot.ly\"})});</script>"
      ]
     },
     "metadata": {},
     "output_type": "display_data"
    },
    {
     "data": {
      "application/vnd.plotly.v1+json": {
       "data": [
        {
         "name": 300,
         "type": "bar",
         "x": [
          "rf",
          "rbf"
         ],
         "y": [
          0.6702702702702703,
          0
         ]
        },
        {
         "name": 240,
         "type": "bar",
         "x": [
          "rf",
          "rbf"
         ],
         "y": [
          0.6448598130841121,
          0
         ]
        },
        {
         "name": 180,
         "type": "bar",
         "x": [
          "rf",
          "rbf"
         ],
         "y": [
          0.6193548387096774,
          0
         ]
        },
        {
         "name": 120,
         "type": "bar",
         "x": [
          "rf",
          "rbf"
         ],
         "y": [
          0.5816554809843402,
          0.007604562737642585
         ]
        },
        {
         "name": 60,
         "type": "bar",
         "x": [
          "rf",
          "rbf"
         ],
         "y": [
          0.5583524027459954,
          0.06165703275529866
         ]
        }
       ],
       "layout": {
        "barmode": "group",
        "title": "move"
       }
      },
      "text/html": [
       "<div id=\"01c0371e-9d8b-492d-86f8-29d2d1f116bc\" style=\"height: 525px; width: 100%;\" class=\"plotly-graph-div\"></div><script type=\"text/javascript\">require([\"plotly\"], function(Plotly) { window.PLOTLYENV=window.PLOTLYENV || {};window.PLOTLYENV.BASE_URL=\"https://plot.ly\";Plotly.newPlot(\"01c0371e-9d8b-492d-86f8-29d2d1f116bc\", [{\"type\": \"bar\", \"x\": [\"rf\", \"rbf\"], \"y\": [0.6702702702702703, 0.0], \"name\": 300}, {\"type\": \"bar\", \"x\": [\"rf\", \"rbf\"], \"y\": [0.6448598130841121, 0.0], \"name\": 240}, {\"type\": \"bar\", \"x\": [\"rf\", \"rbf\"], \"y\": [0.6193548387096774, 0.0], \"name\": 180}, {\"type\": \"bar\", \"x\": [\"rf\", \"rbf\"], \"y\": [0.5816554809843402, 0.007604562737642585], \"name\": 120}, {\"type\": \"bar\", \"x\": [\"rf\", \"rbf\"], \"y\": [0.5583524027459954, 0.06165703275529866], \"name\": 60}], {\"barmode\": \"group\", \"title\": \"move\"}, {\"showLink\": true, \"linkText\": \"Export to plot.ly\"})});</script>"
      ],
      "text/vnd.plotly.v1+html": [
       "<div id=\"01c0371e-9d8b-492d-86f8-29d2d1f116bc\" style=\"height: 525px; width: 100%;\" class=\"plotly-graph-div\"></div><script type=\"text/javascript\">require([\"plotly\"], function(Plotly) { window.PLOTLYENV=window.PLOTLYENV || {};window.PLOTLYENV.BASE_URL=\"https://plot.ly\";Plotly.newPlot(\"01c0371e-9d8b-492d-86f8-29d2d1f116bc\", [{\"type\": \"bar\", \"x\": [\"rf\", \"rbf\"], \"y\": [0.6702702702702703, 0.0], \"name\": 300}, {\"type\": \"bar\", \"x\": [\"rf\", \"rbf\"], \"y\": [0.6448598130841121, 0.0], \"name\": 240}, {\"type\": \"bar\", \"x\": [\"rf\", \"rbf\"], \"y\": [0.6193548387096774, 0.0], \"name\": 180}, {\"type\": \"bar\", \"x\": [\"rf\", \"rbf\"], \"y\": [0.5816554809843402, 0.007604562737642585], \"name\": 120}, {\"type\": \"bar\", \"x\": [\"rf\", \"rbf\"], \"y\": [0.5583524027459954, 0.06165703275529866], \"name\": 60}], {\"barmode\": \"group\", \"title\": \"move\"}, {\"showLink\": true, \"linkText\": \"Export to plot.ly\"})});</script>"
      ]
     },
     "metadata": {},
     "output_type": "display_data"
    },
    {
     "data": {
      "application/vnd.plotly.v1+json": {
       "data": [
        {
         "name": 300,
         "type": "bar",
         "x": [
          "rf",
          "rbf"
         ],
         "y": [
          0.4957264957264958,
          0.014084507042253521
         ]
        },
        {
         "name": 240,
         "type": "bar",
         "x": [
          "rf",
          "rbf"
         ],
         "y": [
          0.544041450777202,
          0.008547008547008546
         ]
        },
        {
         "name": 180,
         "type": "bar",
         "x": [
          "rf",
          "rbf"
         ],
         "y": [
          0.49590163934426235,
          0.0136518771331058
         ]
        },
        {
         "name": 120,
         "type": "bar",
         "x": [
          "rf",
          "rbf"
         ],
         "y": [
          0.4697986577181208,
          0.0311804008908686
         ]
        },
        {
         "name": 60,
         "type": "bar",
         "x": [
          "rf",
          "rbf"
         ],
         "y": [
          0.4334705075445816,
          0.04597701149425288
         ]
        }
       ],
       "layout": {
        "barmode": "group",
        "title": "stress1"
       }
      },
      "text/html": [
       "<div id=\"eeef38a7-300f-4166-9565-e4a3cbd38aa0\" style=\"height: 525px; width: 100%;\" class=\"plotly-graph-div\"></div><script type=\"text/javascript\">require([\"plotly\"], function(Plotly) { window.PLOTLYENV=window.PLOTLYENV || {};window.PLOTLYENV.BASE_URL=\"https://plot.ly\";Plotly.newPlot(\"eeef38a7-300f-4166-9565-e4a3cbd38aa0\", [{\"type\": \"bar\", \"x\": [\"rf\", \"rbf\"], \"y\": [0.4957264957264958, 0.014084507042253521], \"name\": 300}, {\"type\": \"bar\", \"x\": [\"rf\", \"rbf\"], \"y\": [0.544041450777202, 0.008547008547008546], \"name\": 240}, {\"type\": \"bar\", \"x\": [\"rf\", \"rbf\"], \"y\": [0.49590163934426235, 0.0136518771331058], \"name\": 180}, {\"type\": \"bar\", \"x\": [\"rf\", \"rbf\"], \"y\": [0.4697986577181208, 0.0311804008908686], \"name\": 120}, {\"type\": \"bar\", \"x\": [\"rf\", \"rbf\"], \"y\": [0.4334705075445816, 0.04597701149425288], \"name\": 60}], {\"barmode\": \"group\", \"title\": \"stress1\"}, {\"showLink\": true, \"linkText\": \"Export to plot.ly\"})});</script>"
      ],
      "text/vnd.plotly.v1+html": [
       "<div id=\"eeef38a7-300f-4166-9565-e4a3cbd38aa0\" style=\"height: 525px; width: 100%;\" class=\"plotly-graph-div\"></div><script type=\"text/javascript\">require([\"plotly\"], function(Plotly) { window.PLOTLYENV=window.PLOTLYENV || {};window.PLOTLYENV.BASE_URL=\"https://plot.ly\";Plotly.newPlot(\"eeef38a7-300f-4166-9565-e4a3cbd38aa0\", [{\"type\": \"bar\", \"x\": [\"rf\", \"rbf\"], \"y\": [0.4957264957264958, 0.014084507042253521], \"name\": 300}, {\"type\": \"bar\", \"x\": [\"rf\", \"rbf\"], \"y\": [0.544041450777202, 0.008547008547008546], \"name\": 240}, {\"type\": \"bar\", \"x\": [\"rf\", \"rbf\"], \"y\": [0.49590163934426235, 0.0136518771331058], \"name\": 180}, {\"type\": \"bar\", \"x\": [\"rf\", \"rbf\"], \"y\": [0.4697986577181208, 0.0311804008908686], \"name\": 120}, {\"type\": \"bar\", \"x\": [\"rf\", \"rbf\"], \"y\": [0.4334705075445816, 0.04597701149425288], \"name\": 60}], {\"barmode\": \"group\", \"title\": \"stress1\"}, {\"showLink\": true, \"linkText\": \"Export to plot.ly\"})});</script>"
      ]
     },
     "metadata": {},
     "output_type": "display_data"
    },
    {
     "data": {
      "application/vnd.plotly.v1+json": {
       "data": [
        {
         "name": 300,
         "type": "bar",
         "x": [
          "rf",
          "rbf"
         ],
         "y": [
          0.570446735395189,
          0.012903225806451613
         ]
        },
        {
         "name": 240,
         "type": "bar",
         "x": [
          "rf",
          "rbf"
         ],
         "y": [
          0.5462555066079294,
          0.01556420233463035
         ]
        },
        {
         "name": 180,
         "type": "bar",
         "x": [
          "rf",
          "rbf"
         ],
         "y": [
          0.5510204081632653,
          0.012461059190031154
         ]
        },
        {
         "name": 120,
         "type": "bar",
         "x": [
          "rf",
          "rbf"
         ],
         "y": [
          0.5269058295964126,
          0.04280155642023346
         ]
        },
        {
         "name": 60,
         "type": "bar",
         "x": [
          "rf",
          "rbf"
         ],
         "y": [
          0.5138339920948617,
          0.05330882352941176
         ]
        }
       ],
       "layout": {
        "barmode": "group",
        "title": "stress2"
       }
      },
      "text/html": [
       "<div id=\"ab25335c-095a-45ce-8c17-63ed916fe56c\" style=\"height: 525px; width: 100%;\" class=\"plotly-graph-div\"></div><script type=\"text/javascript\">require([\"plotly\"], function(Plotly) { window.PLOTLYENV=window.PLOTLYENV || {};window.PLOTLYENV.BASE_URL=\"https://plot.ly\";Plotly.newPlot(\"ab25335c-095a-45ce-8c17-63ed916fe56c\", [{\"type\": \"bar\", \"x\": [\"rf\", \"rbf\"], \"y\": [0.570446735395189, 0.012903225806451613], \"name\": 300}, {\"type\": \"bar\", \"x\": [\"rf\", \"rbf\"], \"y\": [0.5462555066079294, 0.01556420233463035], \"name\": 240}, {\"type\": \"bar\", \"x\": [\"rf\", \"rbf\"], \"y\": [0.5510204081632653, 0.012461059190031154], \"name\": 180}, {\"type\": \"bar\", \"x\": [\"rf\", \"rbf\"], \"y\": [0.5269058295964126, 0.04280155642023346], \"name\": 120}, {\"type\": \"bar\", \"x\": [\"rf\", \"rbf\"], \"y\": [0.5138339920948617, 0.05330882352941176], \"name\": 60}], {\"barmode\": \"group\", \"title\": \"stress2\"}, {\"showLink\": true, \"linkText\": \"Export to plot.ly\"})});</script>"
      ],
      "text/vnd.plotly.v1+html": [
       "<div id=\"ab25335c-095a-45ce-8c17-63ed916fe56c\" style=\"height: 525px; width: 100%;\" class=\"plotly-graph-div\"></div><script type=\"text/javascript\">require([\"plotly\"], function(Plotly) { window.PLOTLYENV=window.PLOTLYENV || {};window.PLOTLYENV.BASE_URL=\"https://plot.ly\";Plotly.newPlot(\"ab25335c-095a-45ce-8c17-63ed916fe56c\", [{\"type\": \"bar\", \"x\": [\"rf\", \"rbf\"], \"y\": [0.570446735395189, 0.012903225806451613], \"name\": 300}, {\"type\": \"bar\", \"x\": [\"rf\", \"rbf\"], \"y\": [0.5462555066079294, 0.01556420233463035], \"name\": 240}, {\"type\": \"bar\", \"x\": [\"rf\", \"rbf\"], \"y\": [0.5510204081632653, 0.012461059190031154], \"name\": 180}, {\"type\": \"bar\", \"x\": [\"rf\", \"rbf\"], \"y\": [0.5269058295964126, 0.04280155642023346], \"name\": 120}, {\"type\": \"bar\", \"x\": [\"rf\", \"rbf\"], \"y\": [0.5138339920948617, 0.05330882352941176], \"name\": 60}], {\"barmode\": \"group\", \"title\": \"stress2\"}, {\"showLink\": true, \"linkText\": \"Export to plot.ly\"})});</script>"
      ]
     },
     "metadata": {},
     "output_type": "display_data"
    },
    {
     "data": {
      "application/vnd.plotly.v1+json": {
       "data": [
        {
         "name": 300,
         "type": "bar",
         "x": [
          "rf",
          "rbf"
         ],
         "y": [
          0.4403669724770642,
          0
         ]
        },
        {
         "name": 240,
         "type": "bar",
         "x": [
          "rf",
          "rbf"
         ],
         "y": [
          0.45161290322580644,
          0
         ]
        },
        {
         "name": 180,
         "type": "bar",
         "x": [
          "rf",
          "rbf"
         ],
         "y": [
          0.454320987654321,
          0.0078125
         ]
        },
        {
         "name": 120,
         "type": "bar",
         "x": [
          "rf",
          "rbf"
         ],
         "y": [
          0.41845140032948935,
          0.035087719298245605
         ]
        },
        {
         "name": 60,
         "type": "bar",
         "x": [
          "rf",
          "rbf"
         ],
         "y": [
          0.37692932575142163,
          0.030878859857482188
         ]
        }
       ],
       "layout": {
        "barmode": "group",
        "title": "stress3"
       }
      },
      "text/html": [
       "<div id=\"b9758e1d-197f-4aaa-b4f4-577b96709868\" style=\"height: 525px; width: 100%;\" class=\"plotly-graph-div\"></div><script type=\"text/javascript\">require([\"plotly\"], function(Plotly) { window.PLOTLYENV=window.PLOTLYENV || {};window.PLOTLYENV.BASE_URL=\"https://plot.ly\";Plotly.newPlot(\"b9758e1d-197f-4aaa-b4f4-577b96709868\", [{\"type\": \"bar\", \"x\": [\"rf\", \"rbf\"], \"y\": [0.4403669724770642, 0.0], \"name\": 300}, {\"type\": \"bar\", \"x\": [\"rf\", \"rbf\"], \"y\": [0.45161290322580644, 0.0], \"name\": 240}, {\"type\": \"bar\", \"x\": [\"rf\", \"rbf\"], \"y\": [0.454320987654321, 0.0078125], \"name\": 180}, {\"type\": \"bar\", \"x\": [\"rf\", \"rbf\"], \"y\": [0.41845140032948935, 0.035087719298245605], \"name\": 120}, {\"type\": \"bar\", \"x\": [\"rf\", \"rbf\"], \"y\": [0.37692932575142163, 0.030878859857482188], \"name\": 60}], {\"barmode\": \"group\", \"title\": \"stress3\"}, {\"showLink\": true, \"linkText\": \"Export to plot.ly\"})});</script>"
      ],
      "text/vnd.plotly.v1+html": [
       "<div id=\"b9758e1d-197f-4aaa-b4f4-577b96709868\" style=\"height: 525px; width: 100%;\" class=\"plotly-graph-div\"></div><script type=\"text/javascript\">require([\"plotly\"], function(Plotly) { window.PLOTLYENV=window.PLOTLYENV || {};window.PLOTLYENV.BASE_URL=\"https://plot.ly\";Plotly.newPlot(\"b9758e1d-197f-4aaa-b4f4-577b96709868\", [{\"type\": \"bar\", \"x\": [\"rf\", \"rbf\"], \"y\": [0.4403669724770642, 0.0], \"name\": 300}, {\"type\": \"bar\", \"x\": [\"rf\", \"rbf\"], \"y\": [0.45161290322580644, 0.0], \"name\": 240}, {\"type\": \"bar\", \"x\": [\"rf\", \"rbf\"], \"y\": [0.454320987654321, 0.0078125], \"name\": 180}, {\"type\": \"bar\", \"x\": [\"rf\", \"rbf\"], \"y\": [0.41845140032948935, 0.035087719298245605], \"name\": 120}, {\"type\": \"bar\", \"x\": [\"rf\", \"rbf\"], \"y\": [0.37692932575142163, 0.030878859857482188], \"name\": 60}], {\"barmode\": \"group\", \"title\": \"stress3\"}, {\"showLink\": true, \"linkText\": \"Export to plot.ly\"})});</script>"
      ]
     },
     "metadata": {},
     "output_type": "display_data"
    },
    {
     "data": {
      "application/vnd.plotly.v1+json": {
       "data": [
        {
         "name": 300,
         "type": "bar",
         "x": [
          "rf",
          "rbf"
         ],
         "y": [
          0.5234375,
          0.013793103448275864
         ]
        },
        {
         "name": 240,
         "type": "bar",
         "x": [
          "rf",
          "rbf"
         ],
         "y": [
          0.5037783375314862,
          0.00851063829787234
         ]
        },
        {
         "name": 180,
         "type": "bar",
         "x": [
          "rf",
          "rbf"
         ],
         "y": [
          0.5148514851485149,
          0.007017543859649123
         ]
        },
        {
         "name": 120,
         "type": "bar",
         "x": [
          "rf",
          "rbf"
         ],
         "y": [
          0.46736292428198434,
          0.030303030303030304
         ]
        },
        {
         "name": 60,
         "type": "bar",
         "x": [
          "rf",
          "rbf"
         ],
         "y": [
          0.4462046204620462,
          0.039054470709146964
         ]
        }
       ],
       "layout": {
        "barmode": "group",
        "title": "stress4"
       }
      },
      "text/html": [
       "<div id=\"f12fa923-90fa-4a96-bb3b-9a71f2a869b1\" style=\"height: 525px; width: 100%;\" class=\"plotly-graph-div\"></div><script type=\"text/javascript\">require([\"plotly\"], function(Plotly) { window.PLOTLYENV=window.PLOTLYENV || {};window.PLOTLYENV.BASE_URL=\"https://plot.ly\";Plotly.newPlot(\"f12fa923-90fa-4a96-bb3b-9a71f2a869b1\", [{\"type\": \"bar\", \"x\": [\"rf\", \"rbf\"], \"y\": [0.5234375, 0.013793103448275864], \"name\": 300}, {\"type\": \"bar\", \"x\": [\"rf\", \"rbf\"], \"y\": [0.5037783375314862, 0.00851063829787234], \"name\": 240}, {\"type\": \"bar\", \"x\": [\"rf\", \"rbf\"], \"y\": [0.5148514851485149, 0.007017543859649123], \"name\": 180}, {\"type\": \"bar\", \"x\": [\"rf\", \"rbf\"], \"y\": [0.46736292428198434, 0.030303030303030304], \"name\": 120}, {\"type\": \"bar\", \"x\": [\"rf\", \"rbf\"], \"y\": [0.4462046204620462, 0.039054470709146964], \"name\": 60}], {\"barmode\": \"group\", \"title\": \"stress4\"}, {\"showLink\": true, \"linkText\": \"Export to plot.ly\"})});</script>"
      ],
      "text/vnd.plotly.v1+html": [
       "<div id=\"f12fa923-90fa-4a96-bb3b-9a71f2a869b1\" style=\"height: 525px; width: 100%;\" class=\"plotly-graph-div\"></div><script type=\"text/javascript\">require([\"plotly\"], function(Plotly) { window.PLOTLYENV=window.PLOTLYENV || {};window.PLOTLYENV.BASE_URL=\"https://plot.ly\";Plotly.newPlot(\"f12fa923-90fa-4a96-bb3b-9a71f2a869b1\", [{\"type\": \"bar\", \"x\": [\"rf\", \"rbf\"], \"y\": [0.5234375, 0.013793103448275864], \"name\": 300}, {\"type\": \"bar\", \"x\": [\"rf\", \"rbf\"], \"y\": [0.5037783375314862, 0.00851063829787234], \"name\": 240}, {\"type\": \"bar\", \"x\": [\"rf\", \"rbf\"], \"y\": [0.5148514851485149, 0.007017543859649123], \"name\": 180}, {\"type\": \"bar\", \"x\": [\"rf\", \"rbf\"], \"y\": [0.46736292428198434, 0.030303030303030304], \"name\": 120}, {\"type\": \"bar\", \"x\": [\"rf\", \"rbf\"], \"y\": [0.4462046204620462, 0.039054470709146964], \"name\": 60}], {\"barmode\": \"group\", \"title\": \"stress4\"}, {\"showLink\": true, \"linkText\": \"Export to plot.ly\"})});</script>"
      ]
     },
     "metadata": {},
     "output_type": "display_data"
    },
    {
     "data": {
      "application/vnd.plotly.v1+json": {
       "data": [
        {
         "name": 300,
         "type": "bar",
         "x": [
          "rf",
          "rbf"
         ],
         "y": [
          0.44000000000000006,
          0
         ]
        },
        {
         "name": 240,
         "type": "bar",
         "x": [
          "rf",
          "rbf"
         ],
         "y": [
          0.4015748031496063,
          0
         ]
        },
        {
         "name": 180,
         "type": "bar",
         "x": [
          "rf",
          "rbf"
         ],
         "y": [
          0.37237237237237236,
          0.009009009009009009
         ]
        },
        {
         "name": 120,
         "type": "bar",
         "x": [
          "rf",
          "rbf"
         ],
         "y": [
          0.35714285714285715,
          0.023529411764705882
         ]
        },
        {
         "name": 60,
         "type": "bar",
         "x": [
          "rf",
          "rbf"
         ],
         "y": [
          0.3058823529411765,
          0.02247191011235955
         ]
        }
       ],
       "layout": {
        "barmode": "group",
        "title": "stress5"
       }
      },
      "text/html": [
       "<div id=\"893b7ebc-ecd0-4543-a83a-add2cadc1e9e\" style=\"height: 525px; width: 100%;\" class=\"plotly-graph-div\"></div><script type=\"text/javascript\">require([\"plotly\"], function(Plotly) { window.PLOTLYENV=window.PLOTLYENV || {};window.PLOTLYENV.BASE_URL=\"https://plot.ly\";Plotly.newPlot(\"893b7ebc-ecd0-4543-a83a-add2cadc1e9e\", [{\"type\": \"bar\", \"x\": [\"rf\", \"rbf\"], \"y\": [0.44000000000000006, 0.0], \"name\": 300}, {\"type\": \"bar\", \"x\": [\"rf\", \"rbf\"], \"y\": [0.4015748031496063, 0.0], \"name\": 240}, {\"type\": \"bar\", \"x\": [\"rf\", \"rbf\"], \"y\": [0.37237237237237236, 0.009009009009009009], \"name\": 180}, {\"type\": \"bar\", \"x\": [\"rf\", \"rbf\"], \"y\": [0.35714285714285715, 0.023529411764705882], \"name\": 120}, {\"type\": \"bar\", \"x\": [\"rf\", \"rbf\"], \"y\": [0.3058823529411765, 0.02247191011235955], \"name\": 60}], {\"barmode\": \"group\", \"title\": \"stress5\"}, {\"showLink\": true, \"linkText\": \"Export to plot.ly\"})});</script>"
      ],
      "text/vnd.plotly.v1+html": [
       "<div id=\"893b7ebc-ecd0-4543-a83a-add2cadc1e9e\" style=\"height: 525px; width: 100%;\" class=\"plotly-graph-div\"></div><script type=\"text/javascript\">require([\"plotly\"], function(Plotly) { window.PLOTLYENV=window.PLOTLYENV || {};window.PLOTLYENV.BASE_URL=\"https://plot.ly\";Plotly.newPlot(\"893b7ebc-ecd0-4543-a83a-add2cadc1e9e\", [{\"type\": \"bar\", \"x\": [\"rf\", \"rbf\"], \"y\": [0.44000000000000006, 0.0], \"name\": 300}, {\"type\": \"bar\", \"x\": [\"rf\", \"rbf\"], \"y\": [0.4015748031496063, 0.0], \"name\": 240}, {\"type\": \"bar\", \"x\": [\"rf\", \"rbf\"], \"y\": [0.37237237237237236, 0.009009009009009009], \"name\": 180}, {\"type\": \"bar\", \"x\": [\"rf\", \"rbf\"], \"y\": [0.35714285714285715, 0.023529411764705882], \"name\": 120}, {\"type\": \"bar\", \"x\": [\"rf\", \"rbf\"], \"y\": [0.3058823529411765, 0.02247191011235955], \"name\": 60}], {\"barmode\": \"group\", \"title\": \"stress5\"}, {\"showLink\": true, \"linkText\": \"Export to plot.ly\"})});</script>"
      ]
     },
     "metadata": {},
     "output_type": "display_data"
    },
    {
     "data": {
      "application/vnd.plotly.v1+json": {
       "data": [
        {
         "name": 300,
         "type": "bar",
         "x": [
          "rf",
          "rbf"
         ],
         "y": [
          0.21212121212121213,
          0
         ]
        },
        {
         "name": 240,
         "type": "bar",
         "x": [
          "rf",
          "rbf"
         ],
         "y": [
          0.27906976744186046,
          0.015384615384615385
         ]
        },
        {
         "name": 180,
         "type": "bar",
         "x": [
          "rf",
          "rbf"
         ],
         "y": [
          0.2549800796812749,
          0.0198019801980198
         ]
        },
        {
         "name": 120,
         "type": "bar",
         "x": [
          "rf",
          "rbf"
         ],
         "y": [
          0.19101123595505617,
          0.034482758620689655
         ]
        },
        {
         "name": 60,
         "type": "bar",
         "x": [
          "rf",
          "rbf"
         ],
         "y": [
          0.1659863945578231,
          0.03761755485893417
         ]
        }
       ],
       "layout": {
        "barmode": "group",
        "title": "relax1"
       }
      },
      "text/html": [
       "<div id=\"62f92ca1-3058-478b-a0ac-4244cfa3591f\" style=\"height: 525px; width: 100%;\" class=\"plotly-graph-div\"></div><script type=\"text/javascript\">require([\"plotly\"], function(Plotly) { window.PLOTLYENV=window.PLOTLYENV || {};window.PLOTLYENV.BASE_URL=\"https://plot.ly\";Plotly.newPlot(\"62f92ca1-3058-478b-a0ac-4244cfa3591f\", [{\"type\": \"bar\", \"x\": [\"rf\", \"rbf\"], \"y\": [0.21212121212121213, 0.0], \"name\": 300}, {\"type\": \"bar\", \"x\": [\"rf\", \"rbf\"], \"y\": [0.27906976744186046, 0.015384615384615385], \"name\": 240}, {\"type\": \"bar\", \"x\": [\"rf\", \"rbf\"], \"y\": [0.2549800796812749, 0.0198019801980198], \"name\": 180}, {\"type\": \"bar\", \"x\": [\"rf\", \"rbf\"], \"y\": [0.19101123595505617, 0.034482758620689655], \"name\": 120}, {\"type\": \"bar\", \"x\": [\"rf\", \"rbf\"], \"y\": [0.1659863945578231, 0.03761755485893417], \"name\": 60}], {\"barmode\": \"group\", \"title\": \"relax1\"}, {\"showLink\": true, \"linkText\": \"Export to plot.ly\"})});</script>"
      ],
      "text/vnd.plotly.v1+html": [
       "<div id=\"62f92ca1-3058-478b-a0ac-4244cfa3591f\" style=\"height: 525px; width: 100%;\" class=\"plotly-graph-div\"></div><script type=\"text/javascript\">require([\"plotly\"], function(Plotly) { window.PLOTLYENV=window.PLOTLYENV || {};window.PLOTLYENV.BASE_URL=\"https://plot.ly\";Plotly.newPlot(\"62f92ca1-3058-478b-a0ac-4244cfa3591f\", [{\"type\": \"bar\", \"x\": [\"rf\", \"rbf\"], \"y\": [0.21212121212121213, 0.0], \"name\": 300}, {\"type\": \"bar\", \"x\": [\"rf\", \"rbf\"], \"y\": [0.27906976744186046, 0.015384615384615385], \"name\": 240}, {\"type\": \"bar\", \"x\": [\"rf\", \"rbf\"], \"y\": [0.2549800796812749, 0.0198019801980198], \"name\": 180}, {\"type\": \"bar\", \"x\": [\"rf\", \"rbf\"], \"y\": [0.19101123595505617, 0.034482758620689655], \"name\": 120}, {\"type\": \"bar\", \"x\": [\"rf\", \"rbf\"], \"y\": [0.1659863945578231, 0.03761755485893417], \"name\": 60}], {\"barmode\": \"group\", \"title\": \"relax1\"}, {\"showLink\": true, \"linkText\": \"Export to plot.ly\"})});</script>"
      ]
     },
     "metadata": {},
     "output_type": "display_data"
    },
    {
     "data": {
      "application/vnd.plotly.v1+json": {
       "data": [
        {
         "name": 300,
         "type": "bar",
         "x": [
          "rf",
          "rbf"
         ],
         "y": [
          0.1142857142857143,
          0
         ]
        },
        {
         "name": 240,
         "type": "bar",
         "x": [
          "rf",
          "rbf"
         ],
         "y": [
          0.140625,
          0
         ]
        },
        {
         "name": 180,
         "type": "bar",
         "x": [
          "rf",
          "rbf"
         ],
         "y": [
          0.16666666666666666,
          0.011627906976744186
         ]
        },
        {
         "name": 120,
         "type": "bar",
         "x": [
          "rf",
          "rbf"
         ],
         "y": [
          0.07905138339920949,
          0.026315789473684213
         ]
        },
        {
         "name": 60,
         "type": "bar",
         "x": [
          "rf",
          "rbf"
         ],
         "y": [
          0.07380073800738009,
          0.035225048923679066
         ]
        }
       ],
       "layout": {
        "barmode": "group",
        "title": "relax2"
       }
      },
      "text/html": [
       "<div id=\"cd6f9aa5-9437-43c5-bc80-15973743a54e\" style=\"height: 525px; width: 100%;\" class=\"plotly-graph-div\"></div><script type=\"text/javascript\">require([\"plotly\"], function(Plotly) { window.PLOTLYENV=window.PLOTLYENV || {};window.PLOTLYENV.BASE_URL=\"https://plot.ly\";Plotly.newPlot(\"cd6f9aa5-9437-43c5-bc80-15973743a54e\", [{\"type\": \"bar\", \"x\": [\"rf\", \"rbf\"], \"y\": [0.1142857142857143, 0.0], \"name\": 300}, {\"type\": \"bar\", \"x\": [\"rf\", \"rbf\"], \"y\": [0.140625, 0.0], \"name\": 240}, {\"type\": \"bar\", \"x\": [\"rf\", \"rbf\"], \"y\": [0.16666666666666666, 0.011627906976744186], \"name\": 180}, {\"type\": \"bar\", \"x\": [\"rf\", \"rbf\"], \"y\": [0.07905138339920949, 0.026315789473684213], \"name\": 120}, {\"type\": \"bar\", \"x\": [\"rf\", \"rbf\"], \"y\": [0.07380073800738009, 0.035225048923679066], \"name\": 60}], {\"barmode\": \"group\", \"title\": \"relax2\"}, {\"showLink\": true, \"linkText\": \"Export to plot.ly\"})});</script>"
      ],
      "text/vnd.plotly.v1+html": [
       "<div id=\"cd6f9aa5-9437-43c5-bc80-15973743a54e\" style=\"height: 525px; width: 100%;\" class=\"plotly-graph-div\"></div><script type=\"text/javascript\">require([\"plotly\"], function(Plotly) { window.PLOTLYENV=window.PLOTLYENV || {};window.PLOTLYENV.BASE_URL=\"https://plot.ly\";Plotly.newPlot(\"cd6f9aa5-9437-43c5-bc80-15973743a54e\", [{\"type\": \"bar\", \"x\": [\"rf\", \"rbf\"], \"y\": [0.1142857142857143, 0.0], \"name\": 300}, {\"type\": \"bar\", \"x\": [\"rf\", \"rbf\"], \"y\": [0.140625, 0.0], \"name\": 240}, {\"type\": \"bar\", \"x\": [\"rf\", \"rbf\"], \"y\": [0.16666666666666666, 0.011627906976744186], \"name\": 180}, {\"type\": \"bar\", \"x\": [\"rf\", \"rbf\"], \"y\": [0.07905138339920949, 0.026315789473684213], \"name\": 120}, {\"type\": \"bar\", \"x\": [\"rf\", \"rbf\"], \"y\": [0.07380073800738009, 0.035225048923679066], \"name\": 60}], {\"barmode\": \"group\", \"title\": \"relax2\"}, {\"showLink\": true, \"linkText\": \"Export to plot.ly\"})});</script>"
      ]
     },
     "metadata": {},
     "output_type": "display_data"
    },
    {
     "data": {
      "application/vnd.plotly.v1+json": {
       "data": [
        {
         "name": 300,
         "type": "bar",
         "x": [
          "rf",
          "rbf"
         ],
         "y": [
          0.271604938271605,
          0
         ]
        },
        {
         "name": 240,
         "type": "bar",
         "x": [
          "rf",
          "rbf"
         ],
         "y": [
          0.3024390243902439,
          0.013245033112582781
         ]
        },
        {
         "name": 180,
         "type": "bar",
         "x": [
          "rf",
          "rbf"
         ],
         "y": [
          0.281150159744409,
          0.024999999999999998
         ]
        },
        {
         "name": 120,
         "type": "bar",
         "x": [
          "rf",
          "rbf"
         ],
         "y": [
          0.29321663019693656,
          0.029498525073746312
         ]
        },
        {
         "name": 60,
         "type": "bar",
         "x": [
          "rf",
          "rbf"
         ],
         "y": [
          0.23118865866957472,
          0.03480589022757698
         ]
        }
       ],
       "layout": {
        "barmode": "group",
        "title": "relax3"
       }
      },
      "text/html": [
       "<div id=\"03d01924-91a1-40d4-8a0b-70c51aca25da\" style=\"height: 525px; width: 100%;\" class=\"plotly-graph-div\"></div><script type=\"text/javascript\">require([\"plotly\"], function(Plotly) { window.PLOTLYENV=window.PLOTLYENV || {};window.PLOTLYENV.BASE_URL=\"https://plot.ly\";Plotly.newPlot(\"03d01924-91a1-40d4-8a0b-70c51aca25da\", [{\"type\": \"bar\", \"x\": [\"rf\", \"rbf\"], \"y\": [0.271604938271605, 0.0], \"name\": 300}, {\"type\": \"bar\", \"x\": [\"rf\", \"rbf\"], \"y\": [0.3024390243902439, 0.013245033112582781], \"name\": 240}, {\"type\": \"bar\", \"x\": [\"rf\", \"rbf\"], \"y\": [0.281150159744409, 0.024999999999999998], \"name\": 180}, {\"type\": \"bar\", \"x\": [\"rf\", \"rbf\"], \"y\": [0.29321663019693656, 0.029498525073746312], \"name\": 120}, {\"type\": \"bar\", \"x\": [\"rf\", \"rbf\"], \"y\": [0.23118865866957472, 0.03480589022757698], \"name\": 60}], {\"barmode\": \"group\", \"title\": \"relax3\"}, {\"showLink\": true, \"linkText\": \"Export to plot.ly\"})});</script>"
      ],
      "text/vnd.plotly.v1+html": [
       "<div id=\"03d01924-91a1-40d4-8a0b-70c51aca25da\" style=\"height: 525px; width: 100%;\" class=\"plotly-graph-div\"></div><script type=\"text/javascript\">require([\"plotly\"], function(Plotly) { window.PLOTLYENV=window.PLOTLYENV || {};window.PLOTLYENV.BASE_URL=\"https://plot.ly\";Plotly.newPlot(\"03d01924-91a1-40d4-8a0b-70c51aca25da\", [{\"type\": \"bar\", \"x\": [\"rf\", \"rbf\"], \"y\": [0.271604938271605, 0.0], \"name\": 300}, {\"type\": \"bar\", \"x\": [\"rf\", \"rbf\"], \"y\": [0.3024390243902439, 0.013245033112582781], \"name\": 240}, {\"type\": \"bar\", \"x\": [\"rf\", \"rbf\"], \"y\": [0.281150159744409, 0.024999999999999998], \"name\": 180}, {\"type\": \"bar\", \"x\": [\"rf\", \"rbf\"], \"y\": [0.29321663019693656, 0.029498525073746312], \"name\": 120}, {\"type\": \"bar\", \"x\": [\"rf\", \"rbf\"], \"y\": [0.23118865866957472, 0.03480589022757698], \"name\": 60}], {\"barmode\": \"group\", \"title\": \"relax3\"}, {\"showLink\": true, \"linkText\": \"Export to plot.ly\"})});</script>"
      ]
     },
     "metadata": {},
     "output_type": "display_data"
    },
    {
     "data": {
      "application/vnd.plotly.v1+json": {
       "data": [
        {
         "name": 300,
         "type": "bar",
         "x": [
          "rf",
          "rbf"
         ],
         "y": [
          0.1746031746031746,
          0
         ]
        },
        {
         "name": 240,
         "type": "bar",
         "x": [
          "rf",
          "rbf"
         ],
         "y": [
          0.16883116883116883,
          0.015503875968992248
         ]
        },
        {
         "name": 180,
         "type": "bar",
         "x": [
          "rf",
          "rbf"
         ],
         "y": [
          0.14166666666666666,
          0.019138755980861243
         ]
        },
        {
         "name": 120,
         "type": "bar",
         "x": [
          "rf",
          "rbf"
         ],
         "y": [
          0.11009174311926606,
          0.02877697841726619
         ]
        },
        {
         "name": 60,
         "type": "bar",
         "x": [
          "rf",
          "rbf"
         ],
         "y": [
          0.11714285714285715,
          0.029126213592233014
         ]
        }
       ],
       "layout": {
        "barmode": "group",
        "title": "relax4"
       }
      },
      "text/html": [
       "<div id=\"a4c8ea30-6174-4652-bc35-3783f51eef5e\" style=\"height: 525px; width: 100%;\" class=\"plotly-graph-div\"></div><script type=\"text/javascript\">require([\"plotly\"], function(Plotly) { window.PLOTLYENV=window.PLOTLYENV || {};window.PLOTLYENV.BASE_URL=\"https://plot.ly\";Plotly.newPlot(\"a4c8ea30-6174-4652-bc35-3783f51eef5e\", [{\"type\": \"bar\", \"x\": [\"rf\", \"rbf\"], \"y\": [0.1746031746031746, 0.0], \"name\": 300}, {\"type\": \"bar\", \"x\": [\"rf\", \"rbf\"], \"y\": [0.16883116883116883, 0.015503875968992248], \"name\": 240}, {\"type\": \"bar\", \"x\": [\"rf\", \"rbf\"], \"y\": [0.14166666666666666, 0.019138755980861243], \"name\": 180}, {\"type\": \"bar\", \"x\": [\"rf\", \"rbf\"], \"y\": [0.11009174311926606, 0.02877697841726619], \"name\": 120}, {\"type\": \"bar\", \"x\": [\"rf\", \"rbf\"], \"y\": [0.11714285714285715, 0.029126213592233014], \"name\": 60}], {\"barmode\": \"group\", \"title\": \"relax4\"}, {\"showLink\": true, \"linkText\": \"Export to plot.ly\"})});</script>"
      ],
      "text/vnd.plotly.v1+html": [
       "<div id=\"a4c8ea30-6174-4652-bc35-3783f51eef5e\" style=\"height: 525px; width: 100%;\" class=\"plotly-graph-div\"></div><script type=\"text/javascript\">require([\"plotly\"], function(Plotly) { window.PLOTLYENV=window.PLOTLYENV || {};window.PLOTLYENV.BASE_URL=\"https://plot.ly\";Plotly.newPlot(\"a4c8ea30-6174-4652-bc35-3783f51eef5e\", [{\"type\": \"bar\", \"x\": [\"rf\", \"rbf\"], \"y\": [0.1746031746031746, 0.0], \"name\": 300}, {\"type\": \"bar\", \"x\": [\"rf\", \"rbf\"], \"y\": [0.16883116883116883, 0.015503875968992248], \"name\": 240}, {\"type\": \"bar\", \"x\": [\"rf\", \"rbf\"], \"y\": [0.14166666666666666, 0.019138755980861243], \"name\": 180}, {\"type\": \"bar\", \"x\": [\"rf\", \"rbf\"], \"y\": [0.11009174311926606, 0.02877697841726619], \"name\": 120}, {\"type\": \"bar\", \"x\": [\"rf\", \"rbf\"], \"y\": [0.11714285714285715, 0.029126213592233014], \"name\": 60}], {\"barmode\": \"group\", \"title\": \"relax4\"}, {\"showLink\": true, \"linkText\": \"Export to plot.ly\"})});</script>"
      ]
     },
     "metadata": {},
     "output_type": "display_data"
    },
    {
     "data": {
      "application/vnd.plotly.v1+json": {
       "data": [
        {
         "name": 300,
         "type": "bar",
         "x": [
          "rf",
          "rbf"
         ],
         "y": [
          0.45614035087719296,
          0.013605442176870748
         ]
        },
        {
         "name": 240,
         "type": "bar",
         "x": [
          "rf",
          "rbf"
         ],
         "y": [
          0.45016077170418,
          0.030612244897959183
         ]
        },
        {
         "name": 180,
         "type": "bar",
         "x": [
          "rf",
          "rbf"
         ],
         "y": [
          0.39512195121951227,
          0.05797101449275362
         ]
        },
        {
         "name": 120,
         "type": "bar",
         "x": [
          "rf",
          "rbf"
         ],
         "y": [
          0.41571194762684127,
          0.06965174129353234
         ]
        },
        {
         "name": 60,
         "type": "bar",
         "x": [
          "rf",
          "rbf"
         ],
         "y": [
          0.33333333333333337,
          0.05675368898978433
         ]
        }
       ],
       "layout": {
        "barmode": "group",
        "title": "relax5"
       }
      },
      "text/html": [
       "<div id=\"7a185878-0cdf-4f76-8420-f093aad732a7\" style=\"height: 525px; width: 100%;\" class=\"plotly-graph-div\"></div><script type=\"text/javascript\">require([\"plotly\"], function(Plotly) { window.PLOTLYENV=window.PLOTLYENV || {};window.PLOTLYENV.BASE_URL=\"https://plot.ly\";Plotly.newPlot(\"7a185878-0cdf-4f76-8420-f093aad732a7\", [{\"type\": \"bar\", \"x\": [\"rf\", \"rbf\"], \"y\": [0.45614035087719296, 0.013605442176870748], \"name\": 300}, {\"type\": \"bar\", \"x\": [\"rf\", \"rbf\"], \"y\": [0.45016077170418, 0.030612244897959183], \"name\": 240}, {\"type\": \"bar\", \"x\": [\"rf\", \"rbf\"], \"y\": [0.39512195121951227, 0.05797101449275362], \"name\": 180}, {\"type\": \"bar\", \"x\": [\"rf\", \"rbf\"], \"y\": [0.41571194762684127, 0.06965174129353234], \"name\": 120}, {\"type\": \"bar\", \"x\": [\"rf\", \"rbf\"], \"y\": [0.33333333333333337, 0.05675368898978433], \"name\": 60}], {\"barmode\": \"group\", \"title\": \"relax5\"}, {\"showLink\": true, \"linkText\": \"Export to plot.ly\"})});</script>"
      ],
      "text/vnd.plotly.v1+html": [
       "<div id=\"7a185878-0cdf-4f76-8420-f093aad732a7\" style=\"height: 525px; width: 100%;\" class=\"plotly-graph-div\"></div><script type=\"text/javascript\">require([\"plotly\"], function(Plotly) { window.PLOTLYENV=window.PLOTLYENV || {};window.PLOTLYENV.BASE_URL=\"https://plot.ly\";Plotly.newPlot(\"7a185878-0cdf-4f76-8420-f093aad732a7\", [{\"type\": \"bar\", \"x\": [\"rf\", \"rbf\"], \"y\": [0.45614035087719296, 0.013605442176870748], \"name\": 300}, {\"type\": \"bar\", \"x\": [\"rf\", \"rbf\"], \"y\": [0.45016077170418, 0.030612244897959183], \"name\": 240}, {\"type\": \"bar\", \"x\": [\"rf\", \"rbf\"], \"y\": [0.39512195121951227, 0.05797101449275362], \"name\": 180}, {\"type\": \"bar\", \"x\": [\"rf\", \"rbf\"], \"y\": [0.41571194762684127, 0.06965174129353234], \"name\": 120}, {\"type\": \"bar\", \"x\": [\"rf\", \"rbf\"], \"y\": [0.33333333333333337, 0.05675368898978433], \"name\": 60}], {\"barmode\": \"group\", \"title\": \"relax5\"}, {\"showLink\": true, \"linkText\": \"Export to plot.ly\"})});</script>"
      ]
     },
     "metadata": {},
     "output_type": "display_data"
    },
    {
     "data": {
      "application/vnd.plotly.v1+json": {
       "data": [
        {
         "name": 300,
         "type": "bar",
         "x": [
          "rf",
          "rbf"
         ],
         "y": [
          0.4502617801047121,
          0.017699115044247787
         ]
        },
        {
         "name": 240,
         "type": "bar",
         "x": [
          "rf",
          "rbf"
         ],
         "y": [
          0.41025641025641024,
          0
         ]
        },
        {
         "name": 180,
         "type": "bar",
         "x": [
          "rf",
          "rbf"
         ],
         "y": [
          0.38308457711442784,
          0.008000000000000002
         ]
        },
        {
         "name": 120,
         "type": "bar",
         "x": [
          "rf",
          "rbf"
         ],
         "y": [
          0.42156862745098034,
          0.019950124688279298
         ]
        },
        {
         "name": 60,
         "type": "bar",
         "x": [
          "rf",
          "rbf"
         ],
         "y": [
          0.33391304347826084,
          0.02840236686390532
         ]
        }
       ],
       "layout": {
        "barmode": "group",
        "title": "active"
       }
      },
      "text/html": [
       "<div id=\"d869477e-03e7-46f5-a7c2-3d825c8aad5d\" style=\"height: 525px; width: 100%;\" class=\"plotly-graph-div\"></div><script type=\"text/javascript\">require([\"plotly\"], function(Plotly) { window.PLOTLYENV=window.PLOTLYENV || {};window.PLOTLYENV.BASE_URL=\"https://plot.ly\";Plotly.newPlot(\"d869477e-03e7-46f5-a7c2-3d825c8aad5d\", [{\"type\": \"bar\", \"x\": [\"rf\", \"rbf\"], \"y\": [0.4502617801047121, 0.017699115044247787], \"name\": 300}, {\"type\": \"bar\", \"x\": [\"rf\", \"rbf\"], \"y\": [0.41025641025641024, 0.0], \"name\": 240}, {\"type\": \"bar\", \"x\": [\"rf\", \"rbf\"], \"y\": [0.38308457711442784, 0.008000000000000002], \"name\": 180}, {\"type\": \"bar\", \"x\": [\"rf\", \"rbf\"], \"y\": [0.42156862745098034, 0.019950124688279298], \"name\": 120}, {\"type\": \"bar\", \"x\": [\"rf\", \"rbf\"], \"y\": [0.33391304347826084, 0.02840236686390532], \"name\": 60}], {\"barmode\": \"group\", \"title\": \"active\"}, {\"showLink\": true, \"linkText\": \"Export to plot.ly\"})});</script>"
      ],
      "text/vnd.plotly.v1+html": [
       "<div id=\"d869477e-03e7-46f5-a7c2-3d825c8aad5d\" style=\"height: 525px; width: 100%;\" class=\"plotly-graph-div\"></div><script type=\"text/javascript\">require([\"plotly\"], function(Plotly) { window.PLOTLYENV=window.PLOTLYENV || {};window.PLOTLYENV.BASE_URL=\"https://plot.ly\";Plotly.newPlot(\"d869477e-03e7-46f5-a7c2-3d825c8aad5d\", [{\"type\": \"bar\", \"x\": [\"rf\", \"rbf\"], \"y\": [0.4502617801047121, 0.017699115044247787], \"name\": 300}, {\"type\": \"bar\", \"x\": [\"rf\", \"rbf\"], \"y\": [0.41025641025641024, 0.0], \"name\": 240}, {\"type\": \"bar\", \"x\": [\"rf\", \"rbf\"], \"y\": [0.38308457711442784, 0.008000000000000002], \"name\": 180}, {\"type\": \"bar\", \"x\": [\"rf\", \"rbf\"], \"y\": [0.42156862745098034, 0.019950124688279298], \"name\": 120}, {\"type\": \"bar\", \"x\": [\"rf\", \"rbf\"], \"y\": [0.33391304347826084, 0.02840236686390532], \"name\": 60}], {\"barmode\": \"group\", \"title\": \"active\"}, {\"showLink\": true, \"linkText\": \"Export to plot.ly\"})});</script>"
      ]
     },
     "metadata": {},
     "output_type": "display_data"
    },
    {
     "data": {
      "application/vnd.plotly.v1+json": {
       "data": [
        {
         "name": 300,
         "type": "bar",
         "x": [
          "rf",
          "rbf"
         ],
         "y": [
          0.3459459459459459,
          0
         ]
        },
        {
         "name": 240,
         "type": "bar",
         "x": [
          "rf",
          "rbf"
         ],
         "y": [
          0.3346938775510204,
          0.023121387283236997
         ]
        },
        {
         "name": 180,
         "type": "bar",
         "x": [
          "rf",
          "rbf"
         ],
         "y": [
          0.3343465045592705,
          0.04081632653061225
         ]
        },
        {
         "name": 120,
         "type": "bar",
         "x": [
          "rf",
          "rbf"
         ],
         "y": [
          0.2765957446808511,
          0.06489675516224189
         ]
        },
        {
         "name": 60,
         "type": "bar",
         "x": [
          "rf",
          "rbf"
         ],
         "y": [
          0.22673796791443848,
          0.045454545454545456
         ]
        }
       ],
       "layout": {
        "barmode": "group",
        "title": "passive"
       }
      },
      "text/html": [
       "<div id=\"fb374f5e-7c00-4ba3-a7dd-b2727c50b1ed\" style=\"height: 525px; width: 100%;\" class=\"plotly-graph-div\"></div><script type=\"text/javascript\">require([\"plotly\"], function(Plotly) { window.PLOTLYENV=window.PLOTLYENV || {};window.PLOTLYENV.BASE_URL=\"https://plot.ly\";Plotly.newPlot(\"fb374f5e-7c00-4ba3-a7dd-b2727c50b1ed\", [{\"type\": \"bar\", \"x\": [\"rf\", \"rbf\"], \"y\": [0.3459459459459459, 0.0], \"name\": 300}, {\"type\": \"bar\", \"x\": [\"rf\", \"rbf\"], \"y\": [0.3346938775510204, 0.023121387283236997], \"name\": 240}, {\"type\": \"bar\", \"x\": [\"rf\", \"rbf\"], \"y\": [0.3343465045592705, 0.04081632653061225], \"name\": 180}, {\"type\": \"bar\", \"x\": [\"rf\", \"rbf\"], \"y\": [0.2765957446808511, 0.06489675516224189], \"name\": 120}, {\"type\": \"bar\", \"x\": [\"rf\", \"rbf\"], \"y\": [0.22673796791443848, 0.045454545454545456], \"name\": 60}], {\"barmode\": \"group\", \"title\": \"passive\"}, {\"showLink\": true, \"linkText\": \"Export to plot.ly\"})});</script>"
      ],
      "text/vnd.plotly.v1+html": [
       "<div id=\"fb374f5e-7c00-4ba3-a7dd-b2727c50b1ed\" style=\"height: 525px; width: 100%;\" class=\"plotly-graph-div\"></div><script type=\"text/javascript\">require([\"plotly\"], function(Plotly) { window.PLOTLYENV=window.PLOTLYENV || {};window.PLOTLYENV.BASE_URL=\"https://plot.ly\";Plotly.newPlot(\"fb374f5e-7c00-4ba3-a7dd-b2727c50b1ed\", [{\"type\": \"bar\", \"x\": [\"rf\", \"rbf\"], \"y\": [0.3459459459459459, 0.0], \"name\": 300}, {\"type\": \"bar\", \"x\": [\"rf\", \"rbf\"], \"y\": [0.3346938775510204, 0.023121387283236997], \"name\": 240}, {\"type\": \"bar\", \"x\": [\"rf\", \"rbf\"], \"y\": [0.3343465045592705, 0.04081632653061225], \"name\": 180}, {\"type\": \"bar\", \"x\": [\"rf\", \"rbf\"], \"y\": [0.2765957446808511, 0.06489675516224189], \"name\": 120}, {\"type\": \"bar\", \"x\": [\"rf\", \"rbf\"], \"y\": [0.22673796791443848, 0.045454545454545456], \"name\": 60}], {\"barmode\": \"group\", \"title\": \"passive\"}, {\"showLink\": true, \"linkText\": \"Export to plot.ly\"})});</script>"
      ]
     },
     "metadata": {},
     "output_type": "display_data"
    }
   ],
   "source": [
    "dv.bargroup(dfi, 'label', 'duration', 'classifier', 'f1')"
   ]
  },
  {
   "cell_type": "code",
   "execution_count": null,
   "metadata": {},
   "outputs": [],
   "source": [
    "dv.bargroup(dfi, 'label', 'duration', 'classifier', 'f1')"
   ]
  },
  {
   "cell_type": "code",
   "execution_count": null,
   "metadata": {},
   "outputs": [],
   "source": []
  }
 ],
 "metadata": {
  "kernelspec": {
   "display_name": "Python 3",
   "language": "python",
   "name": "python3"
  },
  "language_info": {
   "codemirror_mode": {
    "name": "ipython",
    "version": 3
   },
   "file_extension": ".py",
   "mimetype": "text/x-python",
   "name": "python",
   "nbconvert_exporter": "python",
   "pygments_lexer": "ipython3",
   "version": "3.6.3"
  }
 },
 "nbformat": 4,
 "nbformat_minor": 2
}
