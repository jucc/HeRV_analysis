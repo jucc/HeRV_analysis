{
 "cells": [
  {
   "cell_type": "code",
   "execution_count": 1,
   "metadata": {},
   "outputs": [
    {
     "data": {
      "text/html": [
       "<script>requirejs.config({paths: { 'plotly': ['https://cdn.plot.ly/plotly-latest.min']},});if(!window.Plotly) {{require(['plotly'],function(plotly) {window.Plotly=plotly;});}}</script>"
      ],
      "text/vnd.plotly.v1+html": [
       "<script>requirejs.config({paths: { 'plotly': ['https://cdn.plot.ly/plotly-latest.min']},});if(!window.Plotly) {{require(['plotly'],function(plotly) {window.Plotly=plotly;});}}</script>"
      ]
     },
     "metadata": {},
     "output_type": "display_data"
    }
   ],
   "source": [
    "%load_ext autoreload\n",
    "%autoreload 2\n",
    "%matplotlib inline\n",
    "\n",
    "import pandas as pd\n",
    "import numpy as np\n",
    "import plotly.offline as pl\n",
    "import plotly.graph_objs as go\n",
    "pl.init_notebook_mode(connected=True)\n",
    "\n",
    "from sklearn import svm\n",
    "from sklearn.ensemble import RandomForestClassifier\n",
    "from sklearn.preprocessing import scale\n",
    "from sklearn.model_selection import StratifiedShuffleSplit, GridSearchCV, train_test_split\n",
    "from sklearn.metrics import classification_report, precision_recall_fscore_support, confusion_matrix\n",
    "\n",
    "import hervpd as hp\n",
    "import classif\n",
    "import dataviz as dv\n",
    "import classif_multiclass as cmc"
   ]
  },
  {
   "cell_type": "code",
   "execution_count": 7,
   "metadata": {},
   "outputs": [],
   "source": [
    "path = \"C:\\\\Users\\\\ju\\\\GDrive\\\\Projects\\\\HeRV\\\\Data\\\\PreProcessed\" \n",
    "\n",
    "features = ['mrri', 'sdnn', 'rmssd', 'pnn50', 'hfnu', 'lfnu', 'lf_hf']\n",
    "crops = [30, 90] \n",
    "durations = [600, 300, 240, 180, 120, 60, 30]"
   ]
  },
  {
   "cell_type": "code",
   "execution_count": 4,
   "metadata": {},
   "outputs": [],
   "source": [
    "c1 = 10\n",
    "gamma = 0.1\n",
    "\n",
    "\n",
    "clf_rbf = svm.SVC(kernel='rbf', cache_size=1000, C=c1, gamma=gamma)\n",
    "clf_lin = svm.SVC(kernel='linear', cache_size=1000, C=10, gamma=gamma)\n",
    "clf_rf = RandomForestClassifier(n_estimators=100, n_jobs=-1)\n",
    "\n",
    "#classifiers = {'rf': clf_rf, 'rbf': clf_rbf, 'lin': clf_lin}\n",
    "classifiers = {'rf': clf_rf, 'rbf': clf_rbf}"
   ]
  },
  {
   "cell_type": "markdown",
   "metadata": {},
   "source": [
    "## Reports"
   ]
  },
  {
   "cell_type": "code",
   "execution_count": 18,
   "metadata": {},
   "outputs": [
    {
     "name": "stdout",
     "output_type": "stream",
     "text": [
      "1265 317\n",
      "1265 317\n"
     ]
    },
    {
     "name": "stderr",
     "output_type": "stream",
     "text": [
      "C:\\Users\\Ju\\Anaconda3\\lib\\site-packages\\sklearn\\metrics\\classification.py:1135: UndefinedMetricWarning:\n",
      "\n",
      "Precision and F-score are ill-defined and being set to 0.0 in labels with no predicted samples.\n",
      "\n"
     ]
    },
    {
     "name": "stdout",
     "output_type": "stream",
     "text": [
      "1233 309\n",
      "1233 309\n",
      "2655 664\n",
      "2655 664\n",
      "2584 646\n",
      "2584 646\n"
     ]
    },
    {
     "name": "stderr",
     "output_type": "stream",
     "text": [
      "C:\\Users\\Ju\\Anaconda3\\lib\\site-packages\\sklearn\\metrics\\classification.py:1135: UndefinedMetricWarning:\n",
      "\n",
      "Precision and F-score are ill-defined and being set to 0.0 in labels with no predicted samples.\n",
      "\n"
     ]
    },
    {
     "name": "stdout",
     "output_type": "stream",
     "text": [
      "3365 842\n",
      "3365 842\n",
      "3295 824\n",
      "3295 824\n",
      "4553 1139\n",
      "4553 1139\n",
      "4451 1113\n",
      "4451 1113\n",
      "6933 1734\n",
      "6933 1734\n",
      "6783 1696\n",
      "6783 1696\n",
      "14116 3529\n",
      "14116 3529\n",
      "13795 3449\n",
      "13795 3449\n",
      "29677 7420\n",
      "29677 7420\n",
      "29020 7255\n",
      "29020 7255\n"
     ]
    }
   ],
   "source": [
    "dminter = cmc.multiclass_classif_table(durations, crops, classifiers, features, 'gr_main3', path)"
   ]
  },
  {
   "cell_type": "code",
   "execution_count": 19,
   "metadata": {},
   "outputs": [
    {
     "data": {
      "text/html": [
       "<div>\n",
       "<style>\n",
       "    .dataframe thead tr:only-child th {\n",
       "        text-align: right;\n",
       "    }\n",
       "\n",
       "    .dataframe thead th {\n",
       "        text-align: left;\n",
       "    }\n",
       "\n",
       "    .dataframe tbody tr th {\n",
       "        vertical-align: top;\n",
       "    }\n",
       "</style>\n",
       "<table border=\"1\" class=\"dataframe\">\n",
       "  <thead>\n",
       "    <tr style=\"text-align: right;\">\n",
       "      <th></th>\n",
       "      <th>class</th>\n",
       "      <th>classifier</th>\n",
       "      <th>crop</th>\n",
       "      <th>duration</th>\n",
       "      <th>f1</th>\n",
       "      <th>label</th>\n",
       "      <th>precision</th>\n",
       "      <th>recall</th>\n",
       "      <th>support</th>\n",
       "      <th>user</th>\n",
       "    </tr>\n",
       "  </thead>\n",
       "  <tbody>\n",
       "    <tr>\n",
       "      <th>0</th>\n",
       "      <td>move</td>\n",
       "      <td>rf</td>\n",
       "      <td>30</td>\n",
       "      <td>600</td>\n",
       "      <td>0.715596</td>\n",
       "      <td>gr_main3</td>\n",
       "      <td>0.780000</td>\n",
       "      <td>0.661017</td>\n",
       "      <td>59</td>\n",
       "      <td>-1</td>\n",
       "    </tr>\n",
       "    <tr>\n",
       "      <th>1</th>\n",
       "      <td>sleep</td>\n",
       "      <td>rf</td>\n",
       "      <td>30</td>\n",
       "      <td>600</td>\n",
       "      <td>0.886275</td>\n",
       "      <td>gr_main3</td>\n",
       "      <td>0.904000</td>\n",
       "      <td>0.869231</td>\n",
       "      <td>130</td>\n",
       "      <td>-1</td>\n",
       "    </tr>\n",
       "    <tr>\n",
       "      <th>2</th>\n",
       "      <td>still</td>\n",
       "      <td>rf</td>\n",
       "      <td>30</td>\n",
       "      <td>600</td>\n",
       "      <td>0.792593</td>\n",
       "      <td>gr_main3</td>\n",
       "      <td>0.753521</td>\n",
       "      <td>0.835938</td>\n",
       "      <td>128</td>\n",
       "      <td>-1</td>\n",
       "    </tr>\n",
       "    <tr>\n",
       "      <th>3</th>\n",
       "      <td>move</td>\n",
       "      <td>rbf</td>\n",
       "      <td>30</td>\n",
       "      <td>600</td>\n",
       "      <td>0.000000</td>\n",
       "      <td>gr_main3</td>\n",
       "      <td>0.000000</td>\n",
       "      <td>0.000000</td>\n",
       "      <td>56</td>\n",
       "      <td>-1</td>\n",
       "    </tr>\n",
       "    <tr>\n",
       "      <th>4</th>\n",
       "      <td>sleep</td>\n",
       "      <td>rbf</td>\n",
       "      <td>30</td>\n",
       "      <td>600</td>\n",
       "      <td>0.162963</td>\n",
       "      <td>gr_main3</td>\n",
       "      <td>0.916667</td>\n",
       "      <td>0.089431</td>\n",
       "      <td>123</td>\n",
       "      <td>-1</td>\n",
       "    </tr>\n",
       "    <tr>\n",
       "      <th>5</th>\n",
       "      <td>still</td>\n",
       "      <td>rbf</td>\n",
       "      <td>30</td>\n",
       "      <td>600</td>\n",
       "      <td>0.618510</td>\n",
       "      <td>gr_main3</td>\n",
       "      <td>0.449180</td>\n",
       "      <td>0.992754</td>\n",
       "      <td>138</td>\n",
       "      <td>-1</td>\n",
       "    </tr>\n",
       "    <tr>\n",
       "      <th>6</th>\n",
       "      <td>move</td>\n",
       "      <td>rf</td>\n",
       "      <td>90</td>\n",
       "      <td>600</td>\n",
       "      <td>0.756303</td>\n",
       "      <td>gr_main3</td>\n",
       "      <td>0.775862</td>\n",
       "      <td>0.737705</td>\n",
       "      <td>61</td>\n",
       "      <td>-1</td>\n",
       "    </tr>\n",
       "    <tr>\n",
       "      <th>7</th>\n",
       "      <td>sleep</td>\n",
       "      <td>rf</td>\n",
       "      <td>90</td>\n",
       "      <td>600</td>\n",
       "      <td>0.860656</td>\n",
       "      <td>gr_main3</td>\n",
       "      <td>0.882353</td>\n",
       "      <td>0.840000</td>\n",
       "      <td>125</td>\n",
       "      <td>-1</td>\n",
       "    </tr>\n",
       "    <tr>\n",
       "      <th>8</th>\n",
       "      <td>still</td>\n",
       "      <td>rf</td>\n",
       "      <td>90</td>\n",
       "      <td>600</td>\n",
       "      <td>0.760784</td>\n",
       "      <td>gr_main3</td>\n",
       "      <td>0.734848</td>\n",
       "      <td>0.788618</td>\n",
       "      <td>123</td>\n",
       "      <td>-1</td>\n",
       "    </tr>\n",
       "    <tr>\n",
       "      <th>9</th>\n",
       "      <td>move</td>\n",
       "      <td>rbf</td>\n",
       "      <td>90</td>\n",
       "      <td>600</td>\n",
       "      <td>0.042553</td>\n",
       "      <td>gr_main3</td>\n",
       "      <td>1.000000</td>\n",
       "      <td>0.021739</td>\n",
       "      <td>46</td>\n",
       "      <td>-1</td>\n",
       "    </tr>\n",
       "    <tr>\n",
       "      <th>10</th>\n",
       "      <td>sleep</td>\n",
       "      <td>rbf</td>\n",
       "      <td>90</td>\n",
       "      <td>600</td>\n",
       "      <td>0.068493</td>\n",
       "      <td>gr_main3</td>\n",
       "      <td>0.833333</td>\n",
       "      <td>0.035714</td>\n",
       "      <td>140</td>\n",
       "      <td>-1</td>\n",
       "    </tr>\n",
       "    <tr>\n",
       "      <th>11</th>\n",
       "      <td>still</td>\n",
       "      <td>rbf</td>\n",
       "      <td>90</td>\n",
       "      <td>600</td>\n",
       "      <td>0.578824</td>\n",
       "      <td>gr_main3</td>\n",
       "      <td>0.407285</td>\n",
       "      <td>1.000000</td>\n",
       "      <td>123</td>\n",
       "      <td>-1</td>\n",
       "    </tr>\n",
       "    <tr>\n",
       "      <th>12</th>\n",
       "      <td>move</td>\n",
       "      <td>rf</td>\n",
       "      <td>30</td>\n",
       "      <td>300</td>\n",
       "      <td>0.724280</td>\n",
       "      <td>gr_main3</td>\n",
       "      <td>0.671756</td>\n",
       "      <td>0.785714</td>\n",
       "      <td>112</td>\n",
       "      <td>-1</td>\n",
       "    </tr>\n",
       "    <tr>\n",
       "      <th>13</th>\n",
       "      <td>sleep</td>\n",
       "      <td>rf</td>\n",
       "      <td>30</td>\n",
       "      <td>300</td>\n",
       "      <td>0.853432</td>\n",
       "      <td>gr_main3</td>\n",
       "      <td>0.877863</td>\n",
       "      <td>0.830325</td>\n",
       "      <td>277</td>\n",
       "      <td>-1</td>\n",
       "    </tr>\n",
       "    <tr>\n",
       "      <th>14</th>\n",
       "      <td>still</td>\n",
       "      <td>rf</td>\n",
       "      <td>30</td>\n",
       "      <td>300</td>\n",
       "      <td>0.750916</td>\n",
       "      <td>gr_main3</td>\n",
       "      <td>0.756458</td>\n",
       "      <td>0.745455</td>\n",
       "      <td>275</td>\n",
       "      <td>-1</td>\n",
       "    </tr>\n",
       "    <tr>\n",
       "      <th>15</th>\n",
       "      <td>move</td>\n",
       "      <td>rbf</td>\n",
       "      <td>30</td>\n",
       "      <td>300</td>\n",
       "      <td>0.032787</td>\n",
       "      <td>gr_main3</td>\n",
       "      <td>1.000000</td>\n",
       "      <td>0.016667</td>\n",
       "      <td>120</td>\n",
       "      <td>-1</td>\n",
       "    </tr>\n",
       "    <tr>\n",
       "      <th>16</th>\n",
       "      <td>sleep</td>\n",
       "      <td>rbf</td>\n",
       "      <td>30</td>\n",
       "      <td>300</td>\n",
       "      <td>0.125000</td>\n",
       "      <td>gr_main3</td>\n",
       "      <td>0.894737</td>\n",
       "      <td>0.067194</td>\n",
       "      <td>253</td>\n",
       "      <td>-1</td>\n",
       "    </tr>\n",
       "    <tr>\n",
       "      <th>17</th>\n",
       "      <td>still</td>\n",
       "      <td>rbf</td>\n",
       "      <td>30</td>\n",
       "      <td>300</td>\n",
       "      <td>0.618844</td>\n",
       "      <td>gr_main3</td>\n",
       "      <td>0.449456</td>\n",
       "      <td>0.993127</td>\n",
       "      <td>291</td>\n",
       "      <td>-1</td>\n",
       "    </tr>\n",
       "    <tr>\n",
       "      <th>18</th>\n",
       "      <td>move</td>\n",
       "      <td>rf</td>\n",
       "      <td>90</td>\n",
       "      <td>300</td>\n",
       "      <td>0.708738</td>\n",
       "      <td>gr_main3</td>\n",
       "      <td>0.730000</td>\n",
       "      <td>0.688679</td>\n",
       "      <td>106</td>\n",
       "      <td>-1</td>\n",
       "    </tr>\n",
       "    <tr>\n",
       "      <th>19</th>\n",
       "      <td>sleep</td>\n",
       "      <td>rf</td>\n",
       "      <td>90</td>\n",
       "      <td>300</td>\n",
       "      <td>0.822134</td>\n",
       "      <td>gr_main3</td>\n",
       "      <td>0.855967</td>\n",
       "      <td>0.790875</td>\n",
       "      <td>263</td>\n",
       "      <td>-1</td>\n",
       "    </tr>\n",
       "    <tr>\n",
       "      <th>20</th>\n",
       "      <td>still</td>\n",
       "      <td>rf</td>\n",
       "      <td>90</td>\n",
       "      <td>300</td>\n",
       "      <td>0.762069</td>\n",
       "      <td>gr_main3</td>\n",
       "      <td>0.729373</td>\n",
       "      <td>0.797834</td>\n",
       "      <td>277</td>\n",
       "      <td>-1</td>\n",
       "    </tr>\n",
       "    <tr>\n",
       "      <th>21</th>\n",
       "      <td>move</td>\n",
       "      <td>rbf</td>\n",
       "      <td>90</td>\n",
       "      <td>300</td>\n",
       "      <td>0.000000</td>\n",
       "      <td>gr_main3</td>\n",
       "      <td>0.000000</td>\n",
       "      <td>0.000000</td>\n",
       "      <td>130</td>\n",
       "      <td>-1</td>\n",
       "    </tr>\n",
       "    <tr>\n",
       "      <th>22</th>\n",
       "      <td>sleep</td>\n",
       "      <td>rbf</td>\n",
       "      <td>90</td>\n",
       "      <td>300</td>\n",
       "      <td>0.166667</td>\n",
       "      <td>gr_main3</td>\n",
       "      <td>1.000000</td>\n",
       "      <td>0.090909</td>\n",
       "      <td>253</td>\n",
       "      <td>-1</td>\n",
       "    </tr>\n",
       "    <tr>\n",
       "      <th>23</th>\n",
       "      <td>still</td>\n",
       "      <td>rbf</td>\n",
       "      <td>90</td>\n",
       "      <td>300</td>\n",
       "      <td>0.593679</td>\n",
       "      <td>gr_main3</td>\n",
       "      <td>0.422151</td>\n",
       "      <td>1.000000</td>\n",
       "      <td>263</td>\n",
       "      <td>-1</td>\n",
       "    </tr>\n",
       "    <tr>\n",
       "      <th>24</th>\n",
       "      <td>move</td>\n",
       "      <td>rf</td>\n",
       "      <td>30</td>\n",
       "      <td>240</td>\n",
       "      <td>0.749263</td>\n",
       "      <td>gr_main3</td>\n",
       "      <td>0.751479</td>\n",
       "      <td>0.747059</td>\n",
       "      <td>170</td>\n",
       "      <td>-1</td>\n",
       "    </tr>\n",
       "    <tr>\n",
       "      <th>25</th>\n",
       "      <td>sleep</td>\n",
       "      <td>rf</td>\n",
       "      <td>30</td>\n",
       "      <td>240</td>\n",
       "      <td>0.837580</td>\n",
       "      <td>gr_main3</td>\n",
       "      <td>0.856678</td>\n",
       "      <td>0.819315</td>\n",
       "      <td>321</td>\n",
       "      <td>-1</td>\n",
       "    </tr>\n",
       "    <tr>\n",
       "      <th>26</th>\n",
       "      <td>still</td>\n",
       "      <td>rf</td>\n",
       "      <td>30</td>\n",
       "      <td>240</td>\n",
       "      <td>0.750349</td>\n",
       "      <td>gr_main3</td>\n",
       "      <td>0.734973</td>\n",
       "      <td>0.766382</td>\n",
       "      <td>351</td>\n",
       "      <td>-1</td>\n",
       "    </tr>\n",
       "    <tr>\n",
       "      <th>27</th>\n",
       "      <td>move</td>\n",
       "      <td>rbf</td>\n",
       "      <td>30</td>\n",
       "      <td>240</td>\n",
       "      <td>0.023121</td>\n",
       "      <td>gr_main3</td>\n",
       "      <td>0.666667</td>\n",
       "      <td>0.011765</td>\n",
       "      <td>170</td>\n",
       "      <td>-1</td>\n",
       "    </tr>\n",
       "    <tr>\n",
       "      <th>28</th>\n",
       "      <td>sleep</td>\n",
       "      <td>rbf</td>\n",
       "      <td>30</td>\n",
       "      <td>240</td>\n",
       "      <td>0.188235</td>\n",
       "      <td>gr_main3</td>\n",
       "      <td>0.820513</td>\n",
       "      <td>0.106312</td>\n",
       "      <td>301</td>\n",
       "      <td>-1</td>\n",
       "    </tr>\n",
       "    <tr>\n",
       "      <th>29</th>\n",
       "      <td>still</td>\n",
       "      <td>rbf</td>\n",
       "      <td>30</td>\n",
       "      <td>240</td>\n",
       "      <td>0.621691</td>\n",
       "      <td>gr_main3</td>\n",
       "      <td>0.455000</td>\n",
       "      <td>0.981132</td>\n",
       "      <td>371</td>\n",
       "      <td>-1</td>\n",
       "    </tr>\n",
       "    <tr>\n",
       "      <th>...</th>\n",
       "      <td>...</td>\n",
       "      <td>...</td>\n",
       "      <td>...</td>\n",
       "      <td>...</td>\n",
       "      <td>...</td>\n",
       "      <td>...</td>\n",
       "      <td>...</td>\n",
       "      <td>...</td>\n",
       "      <td>...</td>\n",
       "      <td>...</td>\n",
       "    </tr>\n",
       "    <tr>\n",
       "      <th>54</th>\n",
       "      <td>move</td>\n",
       "      <td>rf</td>\n",
       "      <td>90</td>\n",
       "      <td>120</td>\n",
       "      <td>0.735099</td>\n",
       "      <td>gr_main3</td>\n",
       "      <td>0.704762</td>\n",
       "      <td>0.768166</td>\n",
       "      <td>289</td>\n",
       "      <td>-1</td>\n",
       "    </tr>\n",
       "    <tr>\n",
       "      <th>55</th>\n",
       "      <td>sleep</td>\n",
       "      <td>rf</td>\n",
       "      <td>90</td>\n",
       "      <td>120</td>\n",
       "      <td>0.818040</td>\n",
       "      <td>gr_main3</td>\n",
       "      <td>0.830964</td>\n",
       "      <td>0.805513</td>\n",
       "      <td>653</td>\n",
       "      <td>-1</td>\n",
       "    </tr>\n",
       "    <tr>\n",
       "      <th>56</th>\n",
       "      <td>still</td>\n",
       "      <td>rf</td>\n",
       "      <td>90</td>\n",
       "      <td>120</td>\n",
       "      <td>0.758988</td>\n",
       "      <td>gr_main3</td>\n",
       "      <td>0.762032</td>\n",
       "      <td>0.755968</td>\n",
       "      <td>754</td>\n",
       "      <td>-1</td>\n",
       "    </tr>\n",
       "    <tr>\n",
       "      <th>57</th>\n",
       "      <td>move</td>\n",
       "      <td>rbf</td>\n",
       "      <td>90</td>\n",
       "      <td>120</td>\n",
       "      <td>0.066667</td>\n",
       "      <td>gr_main3</td>\n",
       "      <td>0.687500</td>\n",
       "      <td>0.035032</td>\n",
       "      <td>314</td>\n",
       "      <td>-1</td>\n",
       "    </tr>\n",
       "    <tr>\n",
       "      <th>58</th>\n",
       "      <td>sleep</td>\n",
       "      <td>rbf</td>\n",
       "      <td>90</td>\n",
       "      <td>120</td>\n",
       "      <td>0.240621</td>\n",
       "      <td>gr_main3</td>\n",
       "      <td>0.788136</td>\n",
       "      <td>0.141985</td>\n",
       "      <td>655</td>\n",
       "      <td>-1</td>\n",
       "    </tr>\n",
       "    <tr>\n",
       "      <th>59</th>\n",
       "      <td>still</td>\n",
       "      <td>rbf</td>\n",
       "      <td>90</td>\n",
       "      <td>120</td>\n",
       "      <td>0.609873</td>\n",
       "      <td>gr_main3</td>\n",
       "      <td>0.446863</td>\n",
       "      <td>0.960110</td>\n",
       "      <td>727</td>\n",
       "      <td>-1</td>\n",
       "    </tr>\n",
       "    <tr>\n",
       "      <th>60</th>\n",
       "      <td>move</td>\n",
       "      <td>rf</td>\n",
       "      <td>30</td>\n",
       "      <td>60</td>\n",
       "      <td>0.706615</td>\n",
       "      <td>gr_main3</td>\n",
       "      <td>0.709375</td>\n",
       "      <td>0.703876</td>\n",
       "      <td>645</td>\n",
       "      <td>-1</td>\n",
       "    </tr>\n",
       "    <tr>\n",
       "      <th>61</th>\n",
       "      <td>sleep</td>\n",
       "      <td>rf</td>\n",
       "      <td>30</td>\n",
       "      <td>60</td>\n",
       "      <td>0.798934</td>\n",
       "      <td>gr_main3</td>\n",
       "      <td>0.813809</td>\n",
       "      <td>0.784592</td>\n",
       "      <td>1337</td>\n",
       "      <td>-1</td>\n",
       "    </tr>\n",
       "    <tr>\n",
       "      <th>62</th>\n",
       "      <td>still</td>\n",
       "      <td>rf</td>\n",
       "      <td>30</td>\n",
       "      <td>60</td>\n",
       "      <td>0.734668</td>\n",
       "      <td>gr_main3</td>\n",
       "      <td>0.722500</td>\n",
       "      <td>0.747253</td>\n",
       "      <td>1547</td>\n",
       "      <td>-1</td>\n",
       "    </tr>\n",
       "    <tr>\n",
       "      <th>63</th>\n",
       "      <td>move</td>\n",
       "      <td>rbf</td>\n",
       "      <td>30</td>\n",
       "      <td>60</td>\n",
       "      <td>0.109244</td>\n",
       "      <td>gr_main3</td>\n",
       "      <td>0.780000</td>\n",
       "      <td>0.058735</td>\n",
       "      <td>664</td>\n",
       "      <td>-1</td>\n",
       "    </tr>\n",
       "    <tr>\n",
       "      <th>64</th>\n",
       "      <td>sleep</td>\n",
       "      <td>rbf</td>\n",
       "      <td>30</td>\n",
       "      <td>60</td>\n",
       "      <td>0.288427</td>\n",
       "      <td>gr_main3</td>\n",
       "      <td>0.815436</td>\n",
       "      <td>0.175198</td>\n",
       "      <td>1387</td>\n",
       "      <td>-1</td>\n",
       "    </tr>\n",
       "    <tr>\n",
       "      <th>65</th>\n",
       "      <td>still</td>\n",
       "      <td>rbf</td>\n",
       "      <td>30</td>\n",
       "      <td>60</td>\n",
       "      <td>0.608285</td>\n",
       "      <td>gr_main3</td>\n",
       "      <td>0.445457</td>\n",
       "      <td>0.958728</td>\n",
       "      <td>1478</td>\n",
       "      <td>-1</td>\n",
       "    </tr>\n",
       "    <tr>\n",
       "      <th>66</th>\n",
       "      <td>move</td>\n",
       "      <td>rf</td>\n",
       "      <td>90</td>\n",
       "      <td>60</td>\n",
       "      <td>0.725506</td>\n",
       "      <td>gr_main3</td>\n",
       "      <td>0.728455</td>\n",
       "      <td>0.722581</td>\n",
       "      <td>620</td>\n",
       "      <td>-1</td>\n",
       "    </tr>\n",
       "    <tr>\n",
       "      <th>67</th>\n",
       "      <td>sleep</td>\n",
       "      <td>rf</td>\n",
       "      <td>90</td>\n",
       "      <td>60</td>\n",
       "      <td>0.792509</td>\n",
       "      <td>gr_main3</td>\n",
       "      <td>0.799094</td>\n",
       "      <td>0.786033</td>\n",
       "      <td>1346</td>\n",
       "      <td>-1</td>\n",
       "    </tr>\n",
       "    <tr>\n",
       "      <th>68</th>\n",
       "      <td>still</td>\n",
       "      <td>rf</td>\n",
       "      <td>90</td>\n",
       "      <td>60</td>\n",
       "      <td>0.725693</td>\n",
       "      <td>gr_main3</td>\n",
       "      <td>0.719205</td>\n",
       "      <td>0.732299</td>\n",
       "      <td>1483</td>\n",
       "      <td>-1</td>\n",
       "    </tr>\n",
       "    <tr>\n",
       "      <th>69</th>\n",
       "      <td>move</td>\n",
       "      <td>rbf</td>\n",
       "      <td>90</td>\n",
       "      <td>60</td>\n",
       "      <td>0.134585</td>\n",
       "      <td>gr_main3</td>\n",
       "      <td>0.682540</td>\n",
       "      <td>0.074653</td>\n",
       "      <td>576</td>\n",
       "      <td>-1</td>\n",
       "    </tr>\n",
       "    <tr>\n",
       "      <th>70</th>\n",
       "      <td>sleep</td>\n",
       "      <td>rbf</td>\n",
       "      <td>90</td>\n",
       "      <td>60</td>\n",
       "      <td>0.304269</td>\n",
       "      <td>gr_main3</td>\n",
       "      <td>0.783282</td>\n",
       "      <td>0.188806</td>\n",
       "      <td>1340</td>\n",
       "      <td>-1</td>\n",
       "    </tr>\n",
       "    <tr>\n",
       "      <th>71</th>\n",
       "      <td>still</td>\n",
       "      <td>rbf</td>\n",
       "      <td>90</td>\n",
       "      <td>60</td>\n",
       "      <td>0.630548</td>\n",
       "      <td>gr_main3</td>\n",
       "      <td>0.473066</td>\n",
       "      <td>0.945205</td>\n",
       "      <td>1533</td>\n",
       "      <td>-1</td>\n",
       "    </tr>\n",
       "    <tr>\n",
       "      <th>72</th>\n",
       "      <td>move</td>\n",
       "      <td>rf</td>\n",
       "      <td>30</td>\n",
       "      <td>30</td>\n",
       "      <td>0.694132</td>\n",
       "      <td>gr_main3</td>\n",
       "      <td>0.699664</td>\n",
       "      <td>0.688687</td>\n",
       "      <td>1211</td>\n",
       "      <td>-1</td>\n",
       "    </tr>\n",
       "    <tr>\n",
       "      <th>73</th>\n",
       "      <td>sleep</td>\n",
       "      <td>rf</td>\n",
       "      <td>30</td>\n",
       "      <td>30</td>\n",
       "      <td>0.782182</td>\n",
       "      <td>gr_main3</td>\n",
       "      <td>0.794017</td>\n",
       "      <td>0.770694</td>\n",
       "      <td>2996</td>\n",
       "      <td>-1</td>\n",
       "    </tr>\n",
       "    <tr>\n",
       "      <th>74</th>\n",
       "      <td>still</td>\n",
       "      <td>rf</td>\n",
       "      <td>30</td>\n",
       "      <td>30</td>\n",
       "      <td>0.709628</td>\n",
       "      <td>gr_main3</td>\n",
       "      <td>0.698193</td>\n",
       "      <td>0.721444</td>\n",
       "      <td>3213</td>\n",
       "      <td>-1</td>\n",
       "    </tr>\n",
       "    <tr>\n",
       "      <th>75</th>\n",
       "      <td>move</td>\n",
       "      <td>rbf</td>\n",
       "      <td>30</td>\n",
       "      <td>30</td>\n",
       "      <td>0.247902</td>\n",
       "      <td>gr_main3</td>\n",
       "      <td>0.780488</td>\n",
       "      <td>0.147352</td>\n",
       "      <td>1303</td>\n",
       "      <td>-1</td>\n",
       "    </tr>\n",
       "    <tr>\n",
       "      <th>76</th>\n",
       "      <td>sleep</td>\n",
       "      <td>rbf</td>\n",
       "      <td>30</td>\n",
       "      <td>30</td>\n",
       "      <td>0.430542</td>\n",
       "      <td>gr_main3</td>\n",
       "      <td>0.785971</td>\n",
       "      <td>0.296472</td>\n",
       "      <td>2948</td>\n",
       "      <td>-1</td>\n",
       "    </tr>\n",
       "    <tr>\n",
       "      <th>77</th>\n",
       "      <td>still</td>\n",
       "      <td>rbf</td>\n",
       "      <td>30</td>\n",
       "      <td>30</td>\n",
       "      <td>0.628968</td>\n",
       "      <td>gr_main3</td>\n",
       "      <td>0.478885</td>\n",
       "      <td>0.916062</td>\n",
       "      <td>3169</td>\n",
       "      <td>-1</td>\n",
       "    </tr>\n",
       "    <tr>\n",
       "      <th>78</th>\n",
       "      <td>move</td>\n",
       "      <td>rf</td>\n",
       "      <td>90</td>\n",
       "      <td>30</td>\n",
       "      <td>0.678038</td>\n",
       "      <td>gr_main3</td>\n",
       "      <td>0.709821</td>\n",
       "      <td>0.648980</td>\n",
       "      <td>1225</td>\n",
       "      <td>-1</td>\n",
       "    </tr>\n",
       "    <tr>\n",
       "      <th>79</th>\n",
       "      <td>sleep</td>\n",
       "      <td>rf</td>\n",
       "      <td>90</td>\n",
       "      <td>30</td>\n",
       "      <td>0.790232</td>\n",
       "      <td>gr_main3</td>\n",
       "      <td>0.798766</td>\n",
       "      <td>0.781879</td>\n",
       "      <td>2980</td>\n",
       "      <td>-1</td>\n",
       "    </tr>\n",
       "    <tr>\n",
       "      <th>80</th>\n",
       "      <td>still</td>\n",
       "      <td>rf</td>\n",
       "      <td>90</td>\n",
       "      <td>30</td>\n",
       "      <td>0.706765</td>\n",
       "      <td>gr_main3</td>\n",
       "      <td>0.688316</td>\n",
       "      <td>0.726230</td>\n",
       "      <td>3050</td>\n",
       "      <td>-1</td>\n",
       "    </tr>\n",
       "    <tr>\n",
       "      <th>81</th>\n",
       "      <td>move</td>\n",
       "      <td>rbf</td>\n",
       "      <td>90</td>\n",
       "      <td>30</td>\n",
       "      <td>0.244977</td>\n",
       "      <td>gr_main3</td>\n",
       "      <td>0.765182</td>\n",
       "      <td>0.145833</td>\n",
       "      <td>1296</td>\n",
       "      <td>-1</td>\n",
       "    </tr>\n",
       "    <tr>\n",
       "      <th>82</th>\n",
       "      <td>sleep</td>\n",
       "      <td>rbf</td>\n",
       "      <td>90</td>\n",
       "      <td>30</td>\n",
       "      <td>0.441953</td>\n",
       "      <td>gr_main3</td>\n",
       "      <td>0.766638</td>\n",
       "      <td>0.310466</td>\n",
       "      <td>2857</td>\n",
       "      <td>-1</td>\n",
       "    </tr>\n",
       "    <tr>\n",
       "      <th>83</th>\n",
       "      <td>still</td>\n",
       "      <td>rbf</td>\n",
       "      <td>90</td>\n",
       "      <td>30</td>\n",
       "      <td>0.626606</td>\n",
       "      <td>gr_main3</td>\n",
       "      <td>0.479405</td>\n",
       "      <td>0.904255</td>\n",
       "      <td>3102</td>\n",
       "      <td>-1</td>\n",
       "    </tr>\n",
       "  </tbody>\n",
       "</table>\n",
       "<p>84 rows × 10 columns</p>\n",
       "</div>"
      ],
      "text/plain": [
       "    class classifier  crop  duration        f1     label  precision    recall  \\\n",
       "0    move         rf    30       600  0.715596  gr_main3   0.780000  0.661017   \n",
       "1   sleep         rf    30       600  0.886275  gr_main3   0.904000  0.869231   \n",
       "2   still         rf    30       600  0.792593  gr_main3   0.753521  0.835938   \n",
       "3    move        rbf    30       600  0.000000  gr_main3   0.000000  0.000000   \n",
       "4   sleep        rbf    30       600  0.162963  gr_main3   0.916667  0.089431   \n",
       "5   still        rbf    30       600  0.618510  gr_main3   0.449180  0.992754   \n",
       "6    move         rf    90       600  0.756303  gr_main3   0.775862  0.737705   \n",
       "7   sleep         rf    90       600  0.860656  gr_main3   0.882353  0.840000   \n",
       "8   still         rf    90       600  0.760784  gr_main3   0.734848  0.788618   \n",
       "9    move        rbf    90       600  0.042553  gr_main3   1.000000  0.021739   \n",
       "10  sleep        rbf    90       600  0.068493  gr_main3   0.833333  0.035714   \n",
       "11  still        rbf    90       600  0.578824  gr_main3   0.407285  1.000000   \n",
       "12   move         rf    30       300  0.724280  gr_main3   0.671756  0.785714   \n",
       "13  sleep         rf    30       300  0.853432  gr_main3   0.877863  0.830325   \n",
       "14  still         rf    30       300  0.750916  gr_main3   0.756458  0.745455   \n",
       "15   move        rbf    30       300  0.032787  gr_main3   1.000000  0.016667   \n",
       "16  sleep        rbf    30       300  0.125000  gr_main3   0.894737  0.067194   \n",
       "17  still        rbf    30       300  0.618844  gr_main3   0.449456  0.993127   \n",
       "18   move         rf    90       300  0.708738  gr_main3   0.730000  0.688679   \n",
       "19  sleep         rf    90       300  0.822134  gr_main3   0.855967  0.790875   \n",
       "20  still         rf    90       300  0.762069  gr_main3   0.729373  0.797834   \n",
       "21   move        rbf    90       300  0.000000  gr_main3   0.000000  0.000000   \n",
       "22  sleep        rbf    90       300  0.166667  gr_main3   1.000000  0.090909   \n",
       "23  still        rbf    90       300  0.593679  gr_main3   0.422151  1.000000   \n",
       "24   move         rf    30       240  0.749263  gr_main3   0.751479  0.747059   \n",
       "25  sleep         rf    30       240  0.837580  gr_main3   0.856678  0.819315   \n",
       "26  still         rf    30       240  0.750349  gr_main3   0.734973  0.766382   \n",
       "27   move        rbf    30       240  0.023121  gr_main3   0.666667  0.011765   \n",
       "28  sleep        rbf    30       240  0.188235  gr_main3   0.820513  0.106312   \n",
       "29  still        rbf    30       240  0.621691  gr_main3   0.455000  0.981132   \n",
       "..    ...        ...   ...       ...       ...       ...        ...       ...   \n",
       "54   move         rf    90       120  0.735099  gr_main3   0.704762  0.768166   \n",
       "55  sleep         rf    90       120  0.818040  gr_main3   0.830964  0.805513   \n",
       "56  still         rf    90       120  0.758988  gr_main3   0.762032  0.755968   \n",
       "57   move        rbf    90       120  0.066667  gr_main3   0.687500  0.035032   \n",
       "58  sleep        rbf    90       120  0.240621  gr_main3   0.788136  0.141985   \n",
       "59  still        rbf    90       120  0.609873  gr_main3   0.446863  0.960110   \n",
       "60   move         rf    30        60  0.706615  gr_main3   0.709375  0.703876   \n",
       "61  sleep         rf    30        60  0.798934  gr_main3   0.813809  0.784592   \n",
       "62  still         rf    30        60  0.734668  gr_main3   0.722500  0.747253   \n",
       "63   move        rbf    30        60  0.109244  gr_main3   0.780000  0.058735   \n",
       "64  sleep        rbf    30        60  0.288427  gr_main3   0.815436  0.175198   \n",
       "65  still        rbf    30        60  0.608285  gr_main3   0.445457  0.958728   \n",
       "66   move         rf    90        60  0.725506  gr_main3   0.728455  0.722581   \n",
       "67  sleep         rf    90        60  0.792509  gr_main3   0.799094  0.786033   \n",
       "68  still         rf    90        60  0.725693  gr_main3   0.719205  0.732299   \n",
       "69   move        rbf    90        60  0.134585  gr_main3   0.682540  0.074653   \n",
       "70  sleep        rbf    90        60  0.304269  gr_main3   0.783282  0.188806   \n",
       "71  still        rbf    90        60  0.630548  gr_main3   0.473066  0.945205   \n",
       "72   move         rf    30        30  0.694132  gr_main3   0.699664  0.688687   \n",
       "73  sleep         rf    30        30  0.782182  gr_main3   0.794017  0.770694   \n",
       "74  still         rf    30        30  0.709628  gr_main3   0.698193  0.721444   \n",
       "75   move        rbf    30        30  0.247902  gr_main3   0.780488  0.147352   \n",
       "76  sleep        rbf    30        30  0.430542  gr_main3   0.785971  0.296472   \n",
       "77  still        rbf    30        30  0.628968  gr_main3   0.478885  0.916062   \n",
       "78   move         rf    90        30  0.678038  gr_main3   0.709821  0.648980   \n",
       "79  sleep         rf    90        30  0.790232  gr_main3   0.798766  0.781879   \n",
       "80  still         rf    90        30  0.706765  gr_main3   0.688316  0.726230   \n",
       "81   move        rbf    90        30  0.244977  gr_main3   0.765182  0.145833   \n",
       "82  sleep        rbf    90        30  0.441953  gr_main3   0.766638  0.310466   \n",
       "83  still        rbf    90        30  0.626606  gr_main3   0.479405  0.904255   \n",
       "\n",
       "    support  user  \n",
       "0        59    -1  \n",
       "1       130    -1  \n",
       "2       128    -1  \n",
       "3        56    -1  \n",
       "4       123    -1  \n",
       "5       138    -1  \n",
       "6        61    -1  \n",
       "7       125    -1  \n",
       "8       123    -1  \n",
       "9        46    -1  \n",
       "10      140    -1  \n",
       "11      123    -1  \n",
       "12      112    -1  \n",
       "13      277    -1  \n",
       "14      275    -1  \n",
       "15      120    -1  \n",
       "16      253    -1  \n",
       "17      291    -1  \n",
       "18      106    -1  \n",
       "19      263    -1  \n",
       "20      277    -1  \n",
       "21      130    -1  \n",
       "22      253    -1  \n",
       "23      263    -1  \n",
       "24      170    -1  \n",
       "25      321    -1  \n",
       "26      351    -1  \n",
       "27      170    -1  \n",
       "28      301    -1  \n",
       "29      371    -1  \n",
       "..      ...   ...  \n",
       "54      289    -1  \n",
       "55      653    -1  \n",
       "56      754    -1  \n",
       "57      314    -1  \n",
       "58      655    -1  \n",
       "59      727    -1  \n",
       "60      645    -1  \n",
       "61     1337    -1  \n",
       "62     1547    -1  \n",
       "63      664    -1  \n",
       "64     1387    -1  \n",
       "65     1478    -1  \n",
       "66      620    -1  \n",
       "67     1346    -1  \n",
       "68     1483    -1  \n",
       "69      576    -1  \n",
       "70     1340    -1  \n",
       "71     1533    -1  \n",
       "72     1211    -1  \n",
       "73     2996    -1  \n",
       "74     3213    -1  \n",
       "75     1303    -1  \n",
       "76     2948    -1  \n",
       "77     3169    -1  \n",
       "78     1225    -1  \n",
       "79     2980    -1  \n",
       "80     3050    -1  \n",
       "81     1296    -1  \n",
       "82     2857    -1  \n",
       "83     3102    -1  \n",
       "\n",
       "[84 rows x 10 columns]"
      ]
     },
     "execution_count": 19,
     "metadata": {},
     "output_type": "execute_result"
    }
   ],
   "source": [
    "dfinter = pd.DataFrame(dminter)\n",
    "dfinter"
   ]
  },
  {
   "cell_type": "code",
   "execution_count": 20,
   "metadata": {},
   "outputs": [],
   "source": [
    "dfinter.to_excel(path + '\\\\results_multiclass_3.xlsx')"
   ]
  },
  {
   "cell_type": "code",
   "execution_count": 21,
   "metadata": {},
   "outputs": [],
   "source": [
    "dfinter = pd.read_excel(path + '\\\\results_multiclass_3.xlsx')"
   ]
  },
  {
   "cell_type": "code",
   "execution_count": 22,
   "metadata": {},
   "outputs": [
    {
     "data": {
      "text/html": [
       "<div>\n",
       "<style>\n",
       "    .dataframe thead tr:only-child th {\n",
       "        text-align: right;\n",
       "    }\n",
       "\n",
       "    .dataframe thead th {\n",
       "        text-align: left;\n",
       "    }\n",
       "\n",
       "    .dataframe tbody tr th {\n",
       "        vertical-align: top;\n",
       "    }\n",
       "</style>\n",
       "<table border=\"1\" class=\"dataframe\">\n",
       "  <thead>\n",
       "    <tr style=\"text-align: right;\">\n",
       "      <th></th>\n",
       "      <th>class</th>\n",
       "      <th>classifier</th>\n",
       "      <th>crop</th>\n",
       "      <th>duration</th>\n",
       "      <th>f1</th>\n",
       "      <th>label</th>\n",
       "      <th>precision</th>\n",
       "      <th>recall</th>\n",
       "      <th>support</th>\n",
       "      <th>user</th>\n",
       "    </tr>\n",
       "  </thead>\n",
       "  <tbody>\n",
       "    <tr>\n",
       "      <th>72</th>\n",
       "      <td>move</td>\n",
       "      <td>rf</td>\n",
       "      <td>30</td>\n",
       "      <td>30</td>\n",
       "      <td>0.694132</td>\n",
       "      <td>gr_main3</td>\n",
       "      <td>0.699664</td>\n",
       "      <td>0.688687</td>\n",
       "      <td>1211</td>\n",
       "      <td>-1</td>\n",
       "    </tr>\n",
       "    <tr>\n",
       "      <th>73</th>\n",
       "      <td>sleep</td>\n",
       "      <td>rf</td>\n",
       "      <td>30</td>\n",
       "      <td>30</td>\n",
       "      <td>0.782182</td>\n",
       "      <td>gr_main3</td>\n",
       "      <td>0.794017</td>\n",
       "      <td>0.770694</td>\n",
       "      <td>2996</td>\n",
       "      <td>-1</td>\n",
       "    </tr>\n",
       "    <tr>\n",
       "      <th>74</th>\n",
       "      <td>still</td>\n",
       "      <td>rf</td>\n",
       "      <td>30</td>\n",
       "      <td>30</td>\n",
       "      <td>0.709628</td>\n",
       "      <td>gr_main3</td>\n",
       "      <td>0.698193</td>\n",
       "      <td>0.721444</td>\n",
       "      <td>3213</td>\n",
       "      <td>-1</td>\n",
       "    </tr>\n",
       "  </tbody>\n",
       "</table>\n",
       "</div>"
      ],
      "text/plain": [
       "    class classifier  crop  duration        f1     label  precision    recall  \\\n",
       "72   move         rf    30        30  0.694132  gr_main3   0.699664  0.688687   \n",
       "73  sleep         rf    30        30  0.782182  gr_main3   0.794017  0.770694   \n",
       "74  still         rf    30        30  0.709628  gr_main3   0.698193  0.721444   \n",
       "\n",
       "    support  user  \n",
       "72     1211    -1  \n",
       "73     2996    -1  \n",
       "74     3213    -1  "
      ]
     },
     "execution_count": 22,
     "metadata": {},
     "output_type": "execute_result"
    }
   ],
   "source": [
    "dfinter[(dfinter['duration'] == 30) & (dfinter['crop'] == 30) & (dfinter['classifier']=='rf')]"
   ]
  },
  {
   "cell_type": "markdown",
   "metadata": {},
   "source": [
    "## Comparing classifiers and fragment len"
   ]
  },
  {
   "cell_type": "code",
   "execution_count": 23,
   "metadata": {
    "scrolled": false
   },
   "outputs": [
    {
     "data": {
      "application/vnd.plotly.v1+json": {
       "data": [
        {
         "name": 600,
         "type": "bar",
         "x": [
          "rf",
          "rbf"
         ],
         "y": [
          0.7563025210084033,
          0.04255319148936169
         ]
        },
        {
         "name": 300,
         "type": "bar",
         "x": [
          "rf",
          "rbf"
         ],
         "y": [
          0.7087378640776699,
          0
         ]
        },
        {
         "name": 240,
         "type": "bar",
         "x": [
          "rf",
          "rbf"
         ],
         "y": [
          0.7656765676567656,
          0.0130718954248366
         ]
        },
        {
         "name": 180,
         "type": "bar",
         "x": [
          "rf",
          "rbf"
         ],
         "y": [
          0.7161125319693095,
          0.03669724770642201
         ]
        },
        {
         "name": 120,
         "type": "bar",
         "x": [
          "rf",
          "rbf"
         ],
         "y": [
          0.7350993377483444,
          0.06666666666666667
         ]
        },
        {
         "name": 60,
         "type": "bar",
         "x": [
          "rf",
          "rbf"
         ],
         "y": [
          0.7255060728744939,
          0.134585289514867
         ]
        },
        {
         "name": 30,
         "type": "bar",
         "x": [
          "rf",
          "rbf"
         ],
         "y": [
          0.6780383795309168,
          0.2449773169151004
         ]
        }
       ],
       "layout": {
        "barmode": "group",
        "title": "move"
       }
      },
      "text/html": [
       "<div id=\"86f8418b-2b13-4c53-9d62-c7888a1e71ed\" style=\"height: 525px; width: 100%;\" class=\"plotly-graph-div\"></div><script type=\"text/javascript\">require([\"plotly\"], function(Plotly) { window.PLOTLYENV=window.PLOTLYENV || {};window.PLOTLYENV.BASE_URL=\"https://plot.ly\";Plotly.newPlot(\"86f8418b-2b13-4c53-9d62-c7888a1e71ed\", [{\"type\": \"bar\", \"x\": [\"rf\", \"rbf\"], \"y\": [0.7563025210084033, 0.04255319148936169], \"name\": 600}, {\"type\": \"bar\", \"x\": [\"rf\", \"rbf\"], \"y\": [0.7087378640776699, 0.0], \"name\": 300}, {\"type\": \"bar\", \"x\": [\"rf\", \"rbf\"], \"y\": [0.7656765676567656, 0.0130718954248366], \"name\": 240}, {\"type\": \"bar\", \"x\": [\"rf\", \"rbf\"], \"y\": [0.7161125319693095, 0.03669724770642201], \"name\": 180}, {\"type\": \"bar\", \"x\": [\"rf\", \"rbf\"], \"y\": [0.7350993377483444, 0.06666666666666667], \"name\": 120}, {\"type\": \"bar\", \"x\": [\"rf\", \"rbf\"], \"y\": [0.7255060728744939, 0.134585289514867], \"name\": 60}, {\"type\": \"bar\", \"x\": [\"rf\", \"rbf\"], \"y\": [0.6780383795309168, 0.2449773169151004], \"name\": 30}], {\"barmode\": \"group\", \"title\": \"move\"}, {\"showLink\": true, \"linkText\": \"Export to plot.ly\"})});</script>"
      ],
      "text/vnd.plotly.v1+html": [
       "<div id=\"86f8418b-2b13-4c53-9d62-c7888a1e71ed\" style=\"height: 525px; width: 100%;\" class=\"plotly-graph-div\"></div><script type=\"text/javascript\">require([\"plotly\"], function(Plotly) { window.PLOTLYENV=window.PLOTLYENV || {};window.PLOTLYENV.BASE_URL=\"https://plot.ly\";Plotly.newPlot(\"86f8418b-2b13-4c53-9d62-c7888a1e71ed\", [{\"type\": \"bar\", \"x\": [\"rf\", \"rbf\"], \"y\": [0.7563025210084033, 0.04255319148936169], \"name\": 600}, {\"type\": \"bar\", \"x\": [\"rf\", \"rbf\"], \"y\": [0.7087378640776699, 0.0], \"name\": 300}, {\"type\": \"bar\", \"x\": [\"rf\", \"rbf\"], \"y\": [0.7656765676567656, 0.0130718954248366], \"name\": 240}, {\"type\": \"bar\", \"x\": [\"rf\", \"rbf\"], \"y\": [0.7161125319693095, 0.03669724770642201], \"name\": 180}, {\"type\": \"bar\", \"x\": [\"rf\", \"rbf\"], \"y\": [0.7350993377483444, 0.06666666666666667], \"name\": 120}, {\"type\": \"bar\", \"x\": [\"rf\", \"rbf\"], \"y\": [0.7255060728744939, 0.134585289514867], \"name\": 60}, {\"type\": \"bar\", \"x\": [\"rf\", \"rbf\"], \"y\": [0.6780383795309168, 0.2449773169151004], \"name\": 30}], {\"barmode\": \"group\", \"title\": \"move\"}, {\"showLink\": true, \"linkText\": \"Export to plot.ly\"})});</script>"
      ]
     },
     "metadata": {},
     "output_type": "display_data"
    },
    {
     "data": {
      "application/vnd.plotly.v1+json": {
       "data": [
        {
         "name": 600,
         "type": "bar",
         "x": [
          "rf",
          "rbf"
         ],
         "y": [
          0.860655737704918,
          0.0684931506849315
         ]
        },
        {
         "name": 300,
         "type": "bar",
         "x": [
          "rf",
          "rbf"
         ],
         "y": [
          0.8221343873517787,
          0.1666666666666667
         ]
        },
        {
         "name": 240,
         "type": "bar",
         "x": [
          "rf",
          "rbf"
         ],
         "y": [
          0.8299531981279251,
          0.2052785923753666
         ]
        },
        {
         "name": 180,
         "type": "bar",
         "x": [
          "rf",
          "rbf"
         ],
         "y": [
          0.8345153664302601,
          0.246520874751491
         ]
        },
        {
         "name": 120,
         "type": "bar",
         "x": [
          "rf",
          "rbf"
         ],
         "y": [
          0.818040435458787,
          0.240620957309185
         ]
        },
        {
         "name": 60,
         "type": "bar",
         "x": [
          "rf",
          "rbf"
         ],
         "y": [
          0.7925093632958801,
          0.3042693926638605
         ]
        },
        {
         "name": 30,
         "type": "bar",
         "x": [
          "rf",
          "rbf"
         ],
         "y": [
          0.7902323215194167,
          0.4419531639262581
         ]
        }
       ],
       "layout": {
        "barmode": "group",
        "title": "sleep"
       }
      },
      "text/html": [
       "<div id=\"0049ecc6-7ff2-4c7f-b5cd-a15cad825698\" style=\"height: 525px; width: 100%;\" class=\"plotly-graph-div\"></div><script type=\"text/javascript\">require([\"plotly\"], function(Plotly) { window.PLOTLYENV=window.PLOTLYENV || {};window.PLOTLYENV.BASE_URL=\"https://plot.ly\";Plotly.newPlot(\"0049ecc6-7ff2-4c7f-b5cd-a15cad825698\", [{\"type\": \"bar\", \"x\": [\"rf\", \"rbf\"], \"y\": [0.860655737704918, 0.0684931506849315], \"name\": 600}, {\"type\": \"bar\", \"x\": [\"rf\", \"rbf\"], \"y\": [0.8221343873517787, 0.1666666666666667], \"name\": 300}, {\"type\": \"bar\", \"x\": [\"rf\", \"rbf\"], \"y\": [0.8299531981279251, 0.2052785923753666], \"name\": 240}, {\"type\": \"bar\", \"x\": [\"rf\", \"rbf\"], \"y\": [0.8345153664302601, 0.246520874751491], \"name\": 180}, {\"type\": \"bar\", \"x\": [\"rf\", \"rbf\"], \"y\": [0.818040435458787, 0.240620957309185], \"name\": 120}, {\"type\": \"bar\", \"x\": [\"rf\", \"rbf\"], \"y\": [0.7925093632958801, 0.3042693926638605], \"name\": 60}, {\"type\": \"bar\", \"x\": [\"rf\", \"rbf\"], \"y\": [0.7902323215194167, 0.4419531639262581], \"name\": 30}], {\"barmode\": \"group\", \"title\": \"sleep\"}, {\"showLink\": true, \"linkText\": \"Export to plot.ly\"})});</script>"
      ],
      "text/vnd.plotly.v1+html": [
       "<div id=\"0049ecc6-7ff2-4c7f-b5cd-a15cad825698\" style=\"height: 525px; width: 100%;\" class=\"plotly-graph-div\"></div><script type=\"text/javascript\">require([\"plotly\"], function(Plotly) { window.PLOTLYENV=window.PLOTLYENV || {};window.PLOTLYENV.BASE_URL=\"https://plot.ly\";Plotly.newPlot(\"0049ecc6-7ff2-4c7f-b5cd-a15cad825698\", [{\"type\": \"bar\", \"x\": [\"rf\", \"rbf\"], \"y\": [0.860655737704918, 0.0684931506849315], \"name\": 600}, {\"type\": \"bar\", \"x\": [\"rf\", \"rbf\"], \"y\": [0.8221343873517787, 0.1666666666666667], \"name\": 300}, {\"type\": \"bar\", \"x\": [\"rf\", \"rbf\"], \"y\": [0.8299531981279251, 0.2052785923753666], \"name\": 240}, {\"type\": \"bar\", \"x\": [\"rf\", \"rbf\"], \"y\": [0.8345153664302601, 0.246520874751491], \"name\": 180}, {\"type\": \"bar\", \"x\": [\"rf\", \"rbf\"], \"y\": [0.818040435458787, 0.240620957309185], \"name\": 120}, {\"type\": \"bar\", \"x\": [\"rf\", \"rbf\"], \"y\": [0.7925093632958801, 0.3042693926638605], \"name\": 60}, {\"type\": \"bar\", \"x\": [\"rf\", \"rbf\"], \"y\": [0.7902323215194167, 0.4419531639262581], \"name\": 30}], {\"barmode\": \"group\", \"title\": \"sleep\"}, {\"showLink\": true, \"linkText\": \"Export to plot.ly\"})});</script>"
      ]
     },
     "metadata": {},
     "output_type": "display_data"
    },
    {
     "data": {
      "application/vnd.plotly.v1+json": {
       "data": [
        {
         "name": 600,
         "type": "bar",
         "x": [
          "rf",
          "rbf"
         ],
         "y": [
          0.7607843137254903,
          0.5788235294117647
         ]
        },
        {
         "name": 300,
         "type": "bar",
         "x": [
          "rf",
          "rbf"
         ],
         "y": [
          0.7620689655172415,
          0.5936794582392777
         ]
        },
        {
         "name": 240,
         "type": "bar",
         "x": [
          "rf",
          "rbf"
         ],
         "y": [
          0.7642045454545455,
          0.634315424610052
         ]
        },
        {
         "name": 180,
         "type": "bar",
         "x": [
          "rf",
          "rbf"
         ],
         "y": [
          0.7644084934277048,
          0.6086378737541528
         ]
        },
        {
         "name": 120,
         "type": "bar",
         "x": [
          "rf",
          "rbf"
         ],
         "y": [
          0.7589880159786951,
          0.6098733071210135
         ]
        },
        {
         "name": 60,
         "type": "bar",
         "x": [
          "rf",
          "rbf"
         ],
         "y": [
          0.7256932843301036,
          0.6305483028720626
         ]
        },
        {
         "name": 30,
         "type": "bar",
         "x": [
          "rf",
          "rbf"
         ],
         "y": [
          0.7067645181876197,
          0.6266056070590863
         ]
        }
       ],
       "layout": {
        "barmode": "group",
        "title": "still"
       }
      },
      "text/html": [
       "<div id=\"719b6870-6b56-45a4-8739-93c43629fd88\" style=\"height: 525px; width: 100%;\" class=\"plotly-graph-div\"></div><script type=\"text/javascript\">require([\"plotly\"], function(Plotly) { window.PLOTLYENV=window.PLOTLYENV || {};window.PLOTLYENV.BASE_URL=\"https://plot.ly\";Plotly.newPlot(\"719b6870-6b56-45a4-8739-93c43629fd88\", [{\"type\": \"bar\", \"x\": [\"rf\", \"rbf\"], \"y\": [0.7607843137254903, 0.5788235294117647], \"name\": 600}, {\"type\": \"bar\", \"x\": [\"rf\", \"rbf\"], \"y\": [0.7620689655172415, 0.5936794582392777], \"name\": 300}, {\"type\": \"bar\", \"x\": [\"rf\", \"rbf\"], \"y\": [0.7642045454545455, 0.634315424610052], \"name\": 240}, {\"type\": \"bar\", \"x\": [\"rf\", \"rbf\"], \"y\": [0.7644084934277048, 0.6086378737541528], \"name\": 180}, {\"type\": \"bar\", \"x\": [\"rf\", \"rbf\"], \"y\": [0.7589880159786951, 0.6098733071210135], \"name\": 120}, {\"type\": \"bar\", \"x\": [\"rf\", \"rbf\"], \"y\": [0.7256932843301036, 0.6305483028720626], \"name\": 60}, {\"type\": \"bar\", \"x\": [\"rf\", \"rbf\"], \"y\": [0.7067645181876197, 0.6266056070590863], \"name\": 30}], {\"barmode\": \"group\", \"title\": \"still\"}, {\"showLink\": true, \"linkText\": \"Export to plot.ly\"})});</script>"
      ],
      "text/vnd.plotly.v1+html": [
       "<div id=\"719b6870-6b56-45a4-8739-93c43629fd88\" style=\"height: 525px; width: 100%;\" class=\"plotly-graph-div\"></div><script type=\"text/javascript\">require([\"plotly\"], function(Plotly) { window.PLOTLYENV=window.PLOTLYENV || {};window.PLOTLYENV.BASE_URL=\"https://plot.ly\";Plotly.newPlot(\"719b6870-6b56-45a4-8739-93c43629fd88\", [{\"type\": \"bar\", \"x\": [\"rf\", \"rbf\"], \"y\": [0.7607843137254903, 0.5788235294117647], \"name\": 600}, {\"type\": \"bar\", \"x\": [\"rf\", \"rbf\"], \"y\": [0.7620689655172415, 0.5936794582392777], \"name\": 300}, {\"type\": \"bar\", \"x\": [\"rf\", \"rbf\"], \"y\": [0.7642045454545455, 0.634315424610052], \"name\": 240}, {\"type\": \"bar\", \"x\": [\"rf\", \"rbf\"], \"y\": [0.7644084934277048, 0.6086378737541528], \"name\": 180}, {\"type\": \"bar\", \"x\": [\"rf\", \"rbf\"], \"y\": [0.7589880159786951, 0.6098733071210135], \"name\": 120}, {\"type\": \"bar\", \"x\": [\"rf\", \"rbf\"], \"y\": [0.7256932843301036, 0.6305483028720626], \"name\": 60}, {\"type\": \"bar\", \"x\": [\"rf\", \"rbf\"], \"y\": [0.7067645181876197, 0.6266056070590863], \"name\": 30}], {\"barmode\": \"group\", \"title\": \"still\"}, {\"showLink\": true, \"linkText\": \"Export to plot.ly\"})});</script>"
      ]
     },
     "metadata": {},
     "output_type": "display_data"
    }
   ],
   "source": [
    "dv.bargroup(dfinter[dfinter['crop']==90], 'class', 'duration', 'classifier', 'f1')"
   ]
  },
  {
   "cell_type": "markdown",
   "metadata": {},
   "source": [
    "## Comparing crops and fragment len"
   ]
  },
  {
   "cell_type": "code",
   "execution_count": 24,
   "metadata": {
    "scrolled": false
   },
   "outputs": [
    {
     "data": {
      "application/vnd.plotly.v1+json": {
       "data": [
        {
         "name": 600,
         "type": "bar",
         "x": [
          30,
          90
         ],
         "y": [
          0.7155963302752293,
          0.7563025210084033
         ]
        },
        {
         "name": 300,
         "type": "bar",
         "x": [
          30,
          90
         ],
         "y": [
          0.7242798353909464,
          0.7087378640776699
         ]
        },
        {
         "name": 240,
         "type": "bar",
         "x": [
          30,
          90
         ],
         "y": [
          0.7492625368731564,
          0.7656765676567656
         ]
        },
        {
         "name": 180,
         "type": "bar",
         "x": [
          30,
          90
         ],
         "y": [
          0.7341176470588235,
          0.7161125319693095
         ]
        },
        {
         "name": 120,
         "type": "bar",
         "x": [
          30,
          90
         ],
         "y": [
          0.7285464098073555,
          0.7350993377483444
         ]
        },
        {
         "name": 60,
         "type": "bar",
         "x": [
          30,
          90
         ],
         "y": [
          0.7066147859922179,
          0.7255060728744939
         ]
        },
        {
         "name": 30,
         "type": "bar",
         "x": [
          30,
          90
         ],
         "y": [
          0.6941323345817728,
          0.6780383795309168
         ]
        }
       ],
       "layout": {
        "barmode": "group",
        "title": "move"
       }
      },
      "text/html": [
       "<div id=\"dd2f414e-e0dd-45c6-8afc-c1d224bc290e\" style=\"height: 525px; width: 100%;\" class=\"plotly-graph-div\"></div><script type=\"text/javascript\">require([\"plotly\"], function(Plotly) { window.PLOTLYENV=window.PLOTLYENV || {};window.PLOTLYENV.BASE_URL=\"https://plot.ly\";Plotly.newPlot(\"dd2f414e-e0dd-45c6-8afc-c1d224bc290e\", [{\"type\": \"bar\", \"x\": [30, 90], \"y\": [0.7155963302752293, 0.7563025210084033], \"name\": 600}, {\"type\": \"bar\", \"x\": [30, 90], \"y\": [0.7242798353909464, 0.7087378640776699], \"name\": 300}, {\"type\": \"bar\", \"x\": [30, 90], \"y\": [0.7492625368731564, 0.7656765676567656], \"name\": 240}, {\"type\": \"bar\", \"x\": [30, 90], \"y\": [0.7341176470588235, 0.7161125319693095], \"name\": 180}, {\"type\": \"bar\", \"x\": [30, 90], \"y\": [0.7285464098073555, 0.7350993377483444], \"name\": 120}, {\"type\": \"bar\", \"x\": [30, 90], \"y\": [0.7066147859922179, 0.7255060728744939], \"name\": 60}, {\"type\": \"bar\", \"x\": [30, 90], \"y\": [0.6941323345817728, 0.6780383795309168], \"name\": 30}], {\"barmode\": \"group\", \"title\": \"move\"}, {\"showLink\": true, \"linkText\": \"Export to plot.ly\"})});</script>"
      ],
      "text/vnd.plotly.v1+html": [
       "<div id=\"dd2f414e-e0dd-45c6-8afc-c1d224bc290e\" style=\"height: 525px; width: 100%;\" class=\"plotly-graph-div\"></div><script type=\"text/javascript\">require([\"plotly\"], function(Plotly) { window.PLOTLYENV=window.PLOTLYENV || {};window.PLOTLYENV.BASE_URL=\"https://plot.ly\";Plotly.newPlot(\"dd2f414e-e0dd-45c6-8afc-c1d224bc290e\", [{\"type\": \"bar\", \"x\": [30, 90], \"y\": [0.7155963302752293, 0.7563025210084033], \"name\": 600}, {\"type\": \"bar\", \"x\": [30, 90], \"y\": [0.7242798353909464, 0.7087378640776699], \"name\": 300}, {\"type\": \"bar\", \"x\": [30, 90], \"y\": [0.7492625368731564, 0.7656765676567656], \"name\": 240}, {\"type\": \"bar\", \"x\": [30, 90], \"y\": [0.7341176470588235, 0.7161125319693095], \"name\": 180}, {\"type\": \"bar\", \"x\": [30, 90], \"y\": [0.7285464098073555, 0.7350993377483444], \"name\": 120}, {\"type\": \"bar\", \"x\": [30, 90], \"y\": [0.7066147859922179, 0.7255060728744939], \"name\": 60}, {\"type\": \"bar\", \"x\": [30, 90], \"y\": [0.6941323345817728, 0.6780383795309168], \"name\": 30}], {\"barmode\": \"group\", \"title\": \"move\"}, {\"showLink\": true, \"linkText\": \"Export to plot.ly\"})});</script>"
      ]
     },
     "metadata": {},
     "output_type": "display_data"
    },
    {
     "data": {
      "application/vnd.plotly.v1+json": {
       "data": [
        {
         "name": 600,
         "type": "bar",
         "x": [
          30,
          90
         ],
         "y": [
          0.8862745098039216,
          0.860655737704918
         ]
        },
        {
         "name": 300,
         "type": "bar",
         "x": [
          30,
          90
         ],
         "y": [
          0.8534322820037106,
          0.8221343873517787
         ]
        },
        {
         "name": 240,
         "type": "bar",
         "x": [
          30,
          90
         ],
         "y": [
          0.8375796178343948,
          0.8299531981279251
         ]
        },
        {
         "name": 180,
         "type": "bar",
         "x": [
          30,
          90
         ],
         "y": [
          0.823943661971831,
          0.8345153664302601
         ]
        },
        {
         "name": 120,
         "type": "bar",
         "x": [
          30,
          90
         ],
         "y": [
          0.7949479940564637,
          0.818040435458787
         ]
        },
        {
         "name": 60,
         "type": "bar",
         "x": [
          30,
          90
         ],
         "y": [
          0.798933739527799,
          0.7925093632958801
         ]
        },
        {
         "name": 30,
         "type": "bar",
         "x": [
          30,
          90
         ],
         "y": [
          0.7821815718157182,
          0.7902323215194167
         ]
        }
       ],
       "layout": {
        "barmode": "group",
        "title": "sleep"
       }
      },
      "text/html": [
       "<div id=\"0c215af6-9784-4ee3-b7d2-a03cb93e8585\" style=\"height: 525px; width: 100%;\" class=\"plotly-graph-div\"></div><script type=\"text/javascript\">require([\"plotly\"], function(Plotly) { window.PLOTLYENV=window.PLOTLYENV || {};window.PLOTLYENV.BASE_URL=\"https://plot.ly\";Plotly.newPlot(\"0c215af6-9784-4ee3-b7d2-a03cb93e8585\", [{\"type\": \"bar\", \"x\": [30, 90], \"y\": [0.8862745098039216, 0.860655737704918], \"name\": 600}, {\"type\": \"bar\", \"x\": [30, 90], \"y\": [0.8534322820037106, 0.8221343873517787], \"name\": 300}, {\"type\": \"bar\", \"x\": [30, 90], \"y\": [0.8375796178343948, 0.8299531981279251], \"name\": 240}, {\"type\": \"bar\", \"x\": [30, 90], \"y\": [0.823943661971831, 0.8345153664302601], \"name\": 180}, {\"type\": \"bar\", \"x\": [30, 90], \"y\": [0.7949479940564637, 0.818040435458787], \"name\": 120}, {\"type\": \"bar\", \"x\": [30, 90], \"y\": [0.798933739527799, 0.7925093632958801], \"name\": 60}, {\"type\": \"bar\", \"x\": [30, 90], \"y\": [0.7821815718157182, 0.7902323215194167], \"name\": 30}], {\"barmode\": \"group\", \"title\": \"sleep\"}, {\"showLink\": true, \"linkText\": \"Export to plot.ly\"})});</script>"
      ],
      "text/vnd.plotly.v1+html": [
       "<div id=\"0c215af6-9784-4ee3-b7d2-a03cb93e8585\" style=\"height: 525px; width: 100%;\" class=\"plotly-graph-div\"></div><script type=\"text/javascript\">require([\"plotly\"], function(Plotly) { window.PLOTLYENV=window.PLOTLYENV || {};window.PLOTLYENV.BASE_URL=\"https://plot.ly\";Plotly.newPlot(\"0c215af6-9784-4ee3-b7d2-a03cb93e8585\", [{\"type\": \"bar\", \"x\": [30, 90], \"y\": [0.8862745098039216, 0.860655737704918], \"name\": 600}, {\"type\": \"bar\", \"x\": [30, 90], \"y\": [0.8534322820037106, 0.8221343873517787], \"name\": 300}, {\"type\": \"bar\", \"x\": [30, 90], \"y\": [0.8375796178343948, 0.8299531981279251], \"name\": 240}, {\"type\": \"bar\", \"x\": [30, 90], \"y\": [0.823943661971831, 0.8345153664302601], \"name\": 180}, {\"type\": \"bar\", \"x\": [30, 90], \"y\": [0.7949479940564637, 0.818040435458787], \"name\": 120}, {\"type\": \"bar\", \"x\": [30, 90], \"y\": [0.798933739527799, 0.7925093632958801], \"name\": 60}, {\"type\": \"bar\", \"x\": [30, 90], \"y\": [0.7821815718157182, 0.7902323215194167], \"name\": 30}], {\"barmode\": \"group\", \"title\": \"sleep\"}, {\"showLink\": true, \"linkText\": \"Export to plot.ly\"})});</script>"
      ]
     },
     "metadata": {},
     "output_type": "display_data"
    },
    {
     "data": {
      "application/vnd.plotly.v1+json": {
       "data": [
        {
         "name": 600,
         "type": "bar",
         "x": [
          30,
          90
         ],
         "y": [
          0.7925925925925926,
          0.7607843137254903
         ]
        },
        {
         "name": 300,
         "type": "bar",
         "x": [
          30,
          90
         ],
         "y": [
          0.750915750915751,
          0.7620689655172415
         ]
        },
        {
         "name": 240,
         "type": "bar",
         "x": [
          30,
          90
         ],
         "y": [
          0.7503486750348675,
          0.7642045454545455
         ]
        },
        {
         "name": 180,
         "type": "bar",
         "x": [
          30,
          90
         ],
         "y": [
          0.7612387612387612,
          0.7644084934277048
         ]
        },
        {
         "name": 120,
         "type": "bar",
         "x": [
          30,
          90
         ],
         "y": [
          0.7388781431334623,
          0.7589880159786951
         ]
        },
        {
         "name": 60,
         "type": "bar",
         "x": [
          30,
          90
         ],
         "y": [
          0.734667937718462,
          0.7256932843301036
         ]
        },
        {
         "name": 30,
         "type": "bar",
         "x": [
          30,
          90
         ],
         "y": [
          0.7096280422470533,
          0.7067645181876197
         ]
        }
       ],
       "layout": {
        "barmode": "group",
        "title": "still"
       }
      },
      "text/html": [
       "<div id=\"8484c9a3-ea31-4da4-a416-ec2b2ceea835\" style=\"height: 525px; width: 100%;\" class=\"plotly-graph-div\"></div><script type=\"text/javascript\">require([\"plotly\"], function(Plotly) { window.PLOTLYENV=window.PLOTLYENV || {};window.PLOTLYENV.BASE_URL=\"https://plot.ly\";Plotly.newPlot(\"8484c9a3-ea31-4da4-a416-ec2b2ceea835\", [{\"type\": \"bar\", \"x\": [30, 90], \"y\": [0.7925925925925926, 0.7607843137254903], \"name\": 600}, {\"type\": \"bar\", \"x\": [30, 90], \"y\": [0.750915750915751, 0.7620689655172415], \"name\": 300}, {\"type\": \"bar\", \"x\": [30, 90], \"y\": [0.7503486750348675, 0.7642045454545455], \"name\": 240}, {\"type\": \"bar\", \"x\": [30, 90], \"y\": [0.7612387612387612, 0.7644084934277048], \"name\": 180}, {\"type\": \"bar\", \"x\": [30, 90], \"y\": [0.7388781431334623, 0.7589880159786951], \"name\": 120}, {\"type\": \"bar\", \"x\": [30, 90], \"y\": [0.734667937718462, 0.7256932843301036], \"name\": 60}, {\"type\": \"bar\", \"x\": [30, 90], \"y\": [0.7096280422470533, 0.7067645181876197], \"name\": 30}], {\"barmode\": \"group\", \"title\": \"still\"}, {\"showLink\": true, \"linkText\": \"Export to plot.ly\"})});</script>"
      ],
      "text/vnd.plotly.v1+html": [
       "<div id=\"8484c9a3-ea31-4da4-a416-ec2b2ceea835\" style=\"height: 525px; width: 100%;\" class=\"plotly-graph-div\"></div><script type=\"text/javascript\">require([\"plotly\"], function(Plotly) { window.PLOTLYENV=window.PLOTLYENV || {};window.PLOTLYENV.BASE_URL=\"https://plot.ly\";Plotly.newPlot(\"8484c9a3-ea31-4da4-a416-ec2b2ceea835\", [{\"type\": \"bar\", \"x\": [30, 90], \"y\": [0.7925925925925926, 0.7607843137254903], \"name\": 600}, {\"type\": \"bar\", \"x\": [30, 90], \"y\": [0.750915750915751, 0.7620689655172415], \"name\": 300}, {\"type\": \"bar\", \"x\": [30, 90], \"y\": [0.7503486750348675, 0.7642045454545455], \"name\": 240}, {\"type\": \"bar\", \"x\": [30, 90], \"y\": [0.7612387612387612, 0.7644084934277048], \"name\": 180}, {\"type\": \"bar\", \"x\": [30, 90], \"y\": [0.7388781431334623, 0.7589880159786951], \"name\": 120}, {\"type\": \"bar\", \"x\": [30, 90], \"y\": [0.734667937718462, 0.7256932843301036], \"name\": 60}, {\"type\": \"bar\", \"x\": [30, 90], \"y\": [0.7096280422470533, 0.7067645181876197], \"name\": 30}], {\"barmode\": \"group\", \"title\": \"still\"}, {\"showLink\": true, \"linkText\": \"Export to plot.ly\"})});</script>"
      ]
     },
     "metadata": {},
     "output_type": "display_data"
    }
   ],
   "source": [
    "dv.bargroup(dfinter[dfinter['classifier']=='rf'], 'class', 'duration', 'crop', 'f1')"
   ]
  },
  {
   "cell_type": "code",
   "execution_count": null,
   "metadata": {},
   "outputs": [],
   "source": []
  },
  {
   "cell_type": "code",
   "execution_count": null,
   "metadata": {},
   "outputs": [],
   "source": []
  }
 ],
 "metadata": {
  "kernelspec": {
   "display_name": "Python 3",
   "language": "python",
   "name": "python3"
  },
  "language_info": {
   "codemirror_mode": {
    "name": "ipython",
    "version": 3
   },
   "file_extension": ".py",
   "mimetype": "text/x-python",
   "name": "python",
   "nbconvert_exporter": "python",
   "pygments_lexer": "ipython3",
   "version": "3.6.3"
  }
 },
 "nbformat": 4,
 "nbformat_minor": 2
}
