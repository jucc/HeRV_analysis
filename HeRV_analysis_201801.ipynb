{
 "cells": [
  {
   "cell_type": "code",
   "execution_count": 2,
   "metadata": {
    "collapsed": true
   },
   "outputs": [],
   "source": [
    "%load_ext autoreload\n",
    "%autoreload 2\n",
    "%matplotlib inline  \n",
    "\n",
    "import pandas as pd\n",
    "import numpy as np\n",
    "import matplotlib.pyplot as plt\n",
    "\n",
    "from sklearn import svm\n",
    "from sklearn.ensemble import RandomForestClassifier\n",
    "from sklearn.preprocessing import scale\n",
    "from sklearn.model_selection import StratifiedShuffleSplit, GridSearchCV, train_test_split\n",
    "\n",
    "import hervpd as hp\n",
    "import plotReport as pr"
   ]
  },
  {
   "cell_type": "markdown",
   "metadata": {},
   "source": [
    "## 1. Data description"
   ]
  },
  {
   "cell_type": "code",
   "execution_count": 3,
   "metadata": {},
   "outputs": [
    {
     "data": {
      "text/html": [
       "<div>\n",
       "<style>\n",
       "    .dataframe thead tr:only-child th {\n",
       "        text-align: right;\n",
       "    }\n",
       "\n",
       "    .dataframe thead th {\n",
       "        text-align: left;\n",
       "    }\n",
       "\n",
       "    .dataframe tbody tr th {\n",
       "        vertical-align: top;\n",
       "    }\n",
       "</style>\n",
       "<table border=\"1\" class=\"dataframe\">\n",
       "  <thead>\n",
       "    <tr style=\"text-align: right;\">\n",
       "      <th></th>\n",
       "      <th>hf</th>\n",
       "      <th>hfnu</th>\n",
       "      <th>lf</th>\n",
       "      <th>lf_hf</th>\n",
       "      <th>lfnu</th>\n",
       "      <th>mhr</th>\n",
       "      <th>mrri</th>\n",
       "      <th>nn50</th>\n",
       "      <th>order</th>\n",
       "      <th>pnn50</th>\n",
       "      <th>rmssd</th>\n",
       "      <th>sdnn</th>\n",
       "      <th>sess</th>\n",
       "      <th>total_power</th>\n",
       "      <th>user</th>\n",
       "      <th>vlf</th>\n",
       "    </tr>\n",
       "  </thead>\n",
       "  <tbody>\n",
       "    <tr>\n",
       "      <th>count</th>\n",
       "      <td>2.694000e+03</td>\n",
       "      <td>2694.000000</td>\n",
       "      <td>2.694000e+03</td>\n",
       "      <td>2694.000000</td>\n",
       "      <td>2694.000000</td>\n",
       "      <td>2694.000000</td>\n",
       "      <td>2694.000000</td>\n",
       "      <td>2694.000000</td>\n",
       "      <td>2694.000000</td>\n",
       "      <td>2694.000000</td>\n",
       "      <td>2694.000000</td>\n",
       "      <td>2694.000000</td>\n",
       "      <td>2694.000000</td>\n",
       "      <td>2.694000e+03</td>\n",
       "      <td>2694.000000</td>\n",
       "      <td>2.694000e+03</td>\n",
       "    </tr>\n",
       "    <tr>\n",
       "      <th>mean</th>\n",
       "      <td>2.387300e+04</td>\n",
       "      <td>45.815472</td>\n",
       "      <td>4.127698e+05</td>\n",
       "      <td>2.465940</td>\n",
       "      <td>54.184528</td>\n",
       "      <td>78.661621</td>\n",
       "      <td>819.019148</td>\n",
       "      <td>89.473645</td>\n",
       "      <td>18.990720</td>\n",
       "      <td>25.773847</td>\n",
       "      <td>112.382566</td>\n",
       "      <td>114.926574</td>\n",
       "      <td>162.705642</td>\n",
       "      <td>1.475527e+06</td>\n",
       "      <td>1.624722</td>\n",
       "      <td>1.038884e+06</td>\n",
       "    </tr>\n",
       "    <tr>\n",
       "      <th>std</th>\n",
       "      <td>1.821238e+05</td>\n",
       "      <td>23.079335</td>\n",
       "      <td>8.977828e+06</td>\n",
       "      <td>4.822733</td>\n",
       "      <td>23.079335</td>\n",
       "      <td>18.109035</td>\n",
       "      <td>173.770072</td>\n",
       "      <td>71.387172</td>\n",
       "      <td>24.864286</td>\n",
       "      <td>22.689257</td>\n",
       "      <td>169.919067</td>\n",
       "      <td>122.765916</td>\n",
       "      <td>117.628292</td>\n",
       "      <td>4.585638e+07</td>\n",
       "      <td>2.009594</td>\n",
       "      <td>3.707927e+07</td>\n",
       "    </tr>\n",
       "    <tr>\n",
       "      <th>min</th>\n",
       "      <td>5.751146e-01</td>\n",
       "      <td>1.419545</td>\n",
       "      <td>2.567078e+00</td>\n",
       "      <td>0.027289</td>\n",
       "      <td>2.656368</td>\n",
       "      <td>47.596407</td>\n",
       "      <td>334.157205</td>\n",
       "      <td>0.000000</td>\n",
       "      <td>0.000000</td>\n",
       "      <td>0.000000</td>\n",
       "      <td>3.369205</td>\n",
       "      <td>13.625541</td>\n",
       "      <td>0.000000</td>\n",
       "      <td>3.390064e+01</td>\n",
       "      <td>0.000000</td>\n",
       "      <td>2.559104e+01</td>\n",
       "    </tr>\n",
       "    <tr>\n",
       "      <th>25%</th>\n",
       "      <td>3.727382e+02</td>\n",
       "      <td>26.437869</td>\n",
       "      <td>5.863960e+02</td>\n",
       "      <td>0.563744</td>\n",
       "      <td>36.050930</td>\n",
       "      <td>66.002474</td>\n",
       "      <td>703.884813</td>\n",
       "      <td>30.000000</td>\n",
       "      <td>2.000000</td>\n",
       "      <td>7.290387</td>\n",
       "      <td>33.034351</td>\n",
       "      <td>53.887830</td>\n",
       "      <td>63.000000</td>\n",
       "      <td>1.761790e+03</td>\n",
       "      <td>0.000000</td>\n",
       "      <td>5.059374e+02</td>\n",
       "    </tr>\n",
       "    <tr>\n",
       "      <th>50%</th>\n",
       "      <td>9.172297e+02</td>\n",
       "      <td>43.726407</td>\n",
       "      <td>1.280138e+03</td>\n",
       "      <td>1.286951</td>\n",
       "      <td>56.273593</td>\n",
       "      <td>77.199486</td>\n",
       "      <td>793.543971</td>\n",
       "      <td>72.000000</td>\n",
       "      <td>7.000000</td>\n",
       "      <td>18.870437</td>\n",
       "      <td>53.744197</td>\n",
       "      <td>77.456919</td>\n",
       "      <td>135.000000</td>\n",
       "      <td>3.576149e+03</td>\n",
       "      <td>1.000000</td>\n",
       "      <td>1.088380e+03</td>\n",
       "    </tr>\n",
       "    <tr>\n",
       "      <th>75%</th>\n",
       "      <td>4.668043e+03</td>\n",
       "      <td>63.949070</td>\n",
       "      <td>3.023524e+03</td>\n",
       "      <td>2.782454</td>\n",
       "      <td>73.562131</td>\n",
       "      <td>87.023533</td>\n",
       "      <td>933.362043</td>\n",
       "      <td>136.000000</td>\n",
       "      <td>29.000000</td>\n",
       "      <td>39.789854</td>\n",
       "      <td>131.090808</td>\n",
       "      <td>138.225573</td>\n",
       "      <td>295.000000</td>\n",
       "      <td>1.190274e+04</td>\n",
       "      <td>2.000000</td>\n",
       "      <td>2.524048e+03</td>\n",
       "    </tr>\n",
       "    <tr>\n",
       "      <th>max</th>\n",
       "      <td>6.139868e+06</td>\n",
       "      <td>97.343632</td>\n",
       "      <td>4.263838e+08</td>\n",
       "      <td>69.445109</td>\n",
       "      <td>98.580455</td>\n",
       "      <td>180.176325</td>\n",
       "      <td>1269.037344</td>\n",
       "      <td>354.000000</td>\n",
       "      <td>113.000000</td>\n",
       "      <td>91.726619</td>\n",
       "      <td>2239.263240</td>\n",
       "      <td>1776.464653</td>\n",
       "      <td>350.000000</td>\n",
       "      <td>2.338062e+09</td>\n",
       "      <td>6.000000</td>\n",
       "      <td>1.905538e+09</td>\n",
       "    </tr>\n",
       "  </tbody>\n",
       "</table>\n",
       "</div>"
      ],
      "text/plain": [
       "                 hf         hfnu            lf        lf_hf         lfnu  \\\n",
       "count  2.694000e+03  2694.000000  2.694000e+03  2694.000000  2694.000000   \n",
       "mean   2.387300e+04    45.815472  4.127698e+05     2.465940    54.184528   \n",
       "std    1.821238e+05    23.079335  8.977828e+06     4.822733    23.079335   \n",
       "min    5.751146e-01     1.419545  2.567078e+00     0.027289     2.656368   \n",
       "25%    3.727382e+02    26.437869  5.863960e+02     0.563744    36.050930   \n",
       "50%    9.172297e+02    43.726407  1.280138e+03     1.286951    56.273593   \n",
       "75%    4.668043e+03    63.949070  3.023524e+03     2.782454    73.562131   \n",
       "max    6.139868e+06    97.343632  4.263838e+08    69.445109    98.580455   \n",
       "\n",
       "               mhr         mrri         nn50        order        pnn50  \\\n",
       "count  2694.000000  2694.000000  2694.000000  2694.000000  2694.000000   \n",
       "mean     78.661621   819.019148    89.473645    18.990720    25.773847   \n",
       "std      18.109035   173.770072    71.387172    24.864286    22.689257   \n",
       "min      47.596407   334.157205     0.000000     0.000000     0.000000   \n",
       "25%      66.002474   703.884813    30.000000     2.000000     7.290387   \n",
       "50%      77.199486   793.543971    72.000000     7.000000    18.870437   \n",
       "75%      87.023533   933.362043   136.000000    29.000000    39.789854   \n",
       "max     180.176325  1269.037344   354.000000   113.000000    91.726619   \n",
       "\n",
       "             rmssd         sdnn         sess   total_power         user  \\\n",
       "count  2694.000000  2694.000000  2694.000000  2.694000e+03  2694.000000   \n",
       "mean    112.382566   114.926574   162.705642  1.475527e+06     1.624722   \n",
       "std     169.919067   122.765916   117.628292  4.585638e+07     2.009594   \n",
       "min       3.369205    13.625541     0.000000  3.390064e+01     0.000000   \n",
       "25%      33.034351    53.887830    63.000000  1.761790e+03     0.000000   \n",
       "50%      53.744197    77.456919   135.000000  3.576149e+03     1.000000   \n",
       "75%     131.090808   138.225573   295.000000  1.190274e+04     2.000000   \n",
       "max    2239.263240  1776.464653   350.000000  2.338062e+09     6.000000   \n",
       "\n",
       "                vlf  \n",
       "count  2.694000e+03  \n",
       "mean   1.038884e+06  \n",
       "std    3.707927e+07  \n",
       "min    2.559104e+01  \n",
       "25%    5.059374e+02  \n",
       "50%    1.088380e+03  \n",
       "75%    2.524048e+03  \n",
       "max    1.905538e+09  "
      ]
     },
     "execution_count": 3,
     "metadata": {},
     "output_type": "execute_result"
    }
   ],
   "source": [
    "df = pd.read_excel('/home/ju/GDrive/Projects/HeRV/Data/PreProcessed/df_90_300.xlsx')\n",
    "df.describe()"
   ]
  },
  {
   "cell_type": "code",
   "execution_count": 4,
   "metadata": {},
   "outputs": [
    {
     "data": {
      "image/png": "[encoded data removed]",
      "text/plain": [
       "<matplotlib.figure.Figure at 0x7faed47f6630>"
      ]
     },
     "metadata": {},
     "output_type": "display_data"
    }
   ],
   "source": [
    "hp.plot_count(df, 'activity', exclude=['sleep'])"
   ]
  },
  {
   "cell_type": "markdown",
   "metadata": {},
   "source": [
    "## 2A. Data preparation - Inserting labels for aggregating categories:\n",
    "\n",
    "* 1: move vs still = exercise (high and low intensity), movement, household chores X *others*\n",
    "* 2: sleep vs awake =  sleep X *others*\n",
    "* 3: move vs sleep vs stand = Move (from 1) X Sleep (from 2) X *others*\n"
   ]
  },
  {
   "cell_type": "code",
   "execution_count": 5,
   "metadata": {
    "collapsed": true
   },
   "outputs": [],
   "source": [
    "movelist = ['exercise-high', 'exercise-low', 'movement', 'household-chores']\n",
    "df = hp.add_partition(df, movelist, pname='moving', labelIn=1, labelOut=0)\n",
    "    \n",
    "sleeplist = ['sleep']\n",
    "df = hp.add_partition(df, sleeplist, pname='sleeping', labelIn=1, labelOut=0)\n",
    "\n",
    "activelist = ['rest-active', 'focused-active', 'leisure-active', 'eat']\n",
    "df = hp.add_partition(df, activelist, pname='active', labelIn=1, labelOut=0)\n",
    "\n",
    "passivelist = ['rest-passive', 'leisure-passive', 'focused-passive', 'focused-passive ']\n",
    "df = hp.add_partition(df, passivelist, pname='passive', labelIn=1, labelOut=0)\n",
    "\n",
    "df['focused'] = np.where(df['activity'].isin(['focused-passive', 'focused-passive ','focused-active']), 1, 0)\n",
    "df['relaxed'] = np.where(df['activity'].isin(['rest-active', 'rest-passive', 'leisure-passive', 'leisure-active']), 1, 0)\n",
    "\n",
    "df['lyingdown'] = np.where(df['posture'].isin(['lie', 'lying down']), 1, 0)\n",
    "df['sitting'] = np.where(df['posture'].isin(['sit','sitting']), 1, 0)\n",
    "df['standing'] = np.where(df['posture'].isin(['stand','standing', 'standing ']), 1, 0)\n"
   ]
  },
  {
   "cell_type": "markdown",
   "metadata": {},
   "source": [
    "## 2B. Data preparation - scaling and splitting test and train datasets"
   ]
  },
  {
   "cell_type": "code",
   "execution_count": 6,
   "metadata": {},
   "outputs": [
    {
     "name": "stdout",
     "output_type": "stream",
     "text": [
      "activity\n",
      "eat                  103\n",
      "exercise-high         24\n",
      "exercise-low           4\n",
      "focused-active       413\n",
      "focused-passive      189\n",
      "focused-passive        4\n",
      "household-chores     150\n",
      "leisure-active        27\n",
      "leisure-passive      278\n",
      "movement             212\n",
      "not-recorded          25\n",
      "rest-active          106\n",
      "rest-passive          69\n",
      "sleep               1090\n",
      "Name: user, dtype: int64\n",
      "posture\n",
      "lie           682\n",
      "lying down    448\n",
      "posture        26\n",
      "sit           823\n",
      "sitting       325\n",
      "stand         198\n",
      "standing      184\n",
      "standing        8\n",
      "Name: user, dtype: int64\n",
      "moving\n",
      "0    2304\n",
      "1     390\n",
      "Name: user, dtype: int64\n",
      "sleeping\n",
      "0    1604\n",
      "1    1090\n",
      "Name: user, dtype: int64\n",
      "sitting\n",
      "0    1546\n",
      "1    1148\n",
      "Name: user, dtype: int64\n",
      "standing\n",
      "0    2304\n",
      "1     390\n",
      "Name: user, dtype: int64\n",
      "lyingdown\n",
      "0    1564\n",
      "1    1130\n",
      "Name: user, dtype: int64\n",
      "active\n",
      "0    2045\n",
      "1     649\n",
      "Name: user, dtype: int64\n",
      "passive\n",
      "0    2154\n",
      "1     540\n",
      "Name: user, dtype: int64\n",
      "focused\n",
      "0    2088\n",
      "1     606\n",
      "Name: user, dtype: int64\n",
      "relaxed\n",
      "0    2214\n",
      "1     480\n",
      "Name: user, dtype: int64\n"
     ]
    }
   ],
   "source": [
    "features_all = ['hf', 'hfnu', 'lf', 'lf_hf', 'lfnu', 'mhr', 'mrri', 'nn50', 'pnn50', 'rmssd', 'sdnn', 'total_power', 'vlf']\n",
    "features_red = ['hf', 'lf', 'vlf', 'lf_hf', 'mhr', 'mrri', 'pnn50', 'rmssd', 'sdnn']\n",
    "\n",
    "one_hot_labels = ['moving', 'sleeping', 'sitting', 'standing', 'lyingdown', 'active', 'passive', 'focused', 'relaxed']\n",
    "all_labels = ['activity', 'posture', 'moving', 'sleeping', 'sitting', 'standing', 'lyingdown', 'active', 'passive', 'focused', 'relaxed']\n",
    "\n",
    "for l in all_labels:\n",
    "    print(hp.count_by(df, l))"
   ]
  },
  {
   "cell_type": "code",
   "execution_count": 7,
   "metadata": {},
   "outputs": [
    {
     "name": "stdout",
     "output_type": "stream",
     "text": [
      "2155 539\n",
      "1028 258\n",
      "242 61\n",
      "352 89\n",
      "43 11\n",
      "161 41\n",
      "180 46\n",
      "145 37\n",
      "[(1028, 258), (242, 61), (352, 89), (43, 11), (161, 41), (180, 46), (145, 37)]\n"
     ]
    }
   ],
   "source": [
    "train, test = hp.preprocess(df, features_all)\n",
    "ttu = [hp.preprocess(hp.user_data(df, user), features_all) for user in range(7)]\n",
    "print ([(len(ttu[i][0]), len(ttu[i][1])) for i in range(7)])"
   ]
  },
  {
   "cell_type": "markdown",
   "metadata": {},
   "source": [
    "## 3. SVM classification - Moving vs still (including sleep in still activities)"
   ]
  },
  {
   "cell_type": "code",
   "execution_count": 8,
   "metadata": {
    "collapsed": true
   },
   "outputs": [],
   "source": [
    "label='activity'\n",
    "#c1, c2, gamma = hp.model_selection_svm(df, feature_list, labelName=label)\n",
    "c1, c2, gamma = (10, 10, 0.1)"
   ]
  },
  {
   "cell_type": "markdown",
   "metadata": {},
   "source": [
    "### 3A. For all users combined"
   ]
  },
  {
   "cell_type": "code",
   "execution_count": 9,
   "metadata": {
    "scrolled": true
   },
   "outputs": [
    {
     "name": "stderr",
     "output_type": "stream",
     "text": [
      "/home/ju/anaconda3/lib/python3.6/site-packages/sklearn/metrics/classification.py:1428: UserWarning: labels size, 13, does not match size of target_names, 2\n",
      "  .format(len(labels), len(target_names))\n",
      "/home/ju/anaconda3/lib/python3.6/site-packages/sklearn/metrics/classification.py:1135: UndefinedMetricWarning: Precision and F-score are ill-defined and being set to 0.0 in labels with no predicted samples.\n",
      "  'precision', 'predicted', average, warn_for)\n"
     ]
    },
    {
     "name": "stdout",
     "output_type": "stream",
     "text": [
      "activity :  0.384044526902\n"
     ]
    },
    {
     "name": "stderr",
     "output_type": "stream",
     "text": [
      "/home/ju/anaconda3/lib/python3.6/site-packages/sklearn/metrics/classification.py:1428: UserWarning: labels size, 7, does not match size of target_names, 2\n",
      "  .format(len(labels), len(target_names))\n"
     ]
    },
    {
     "name": "stdout",
     "output_type": "stream",
     "text": [
      "posture :  0.30426716141\n",
      "moving :  0.87012987013\n",
      "sleeping :  0.615955473098\n",
      "sitting :  0.541743970315\n",
      "standing :  0.866419294991\n",
      "lyingdown :  0.602968460111\n",
      "active :  0.727272727273\n",
      "passive :  0.786641929499\n",
      "focused :  0.764378478664\n",
      "relaxed :  0.797773654917\n"
     ]
    }
   ],
   "source": [
    "c1 = 10\n",
    "c2 = 10\n",
    "gamma = 0.1\n",
    "for label in all_labels:\n",
    "    clf_svm = hp.clf_svm_rbf(train, features_all, labelName=label, C=c2, gamma=gamma)\n",
    "    print(label, ': ', hp.report_test(clf_svm, test, features_all, labels=[label], print_report=False, plot_report=False))"
   ]
  },
  {
   "cell_type": "markdown",
   "metadata": {},
   "source": [
    "### 3B. For each user (SVM moving x still)"
   ]
  },
  {
   "cell_type": "code",
   "execution_count": 17,
   "metadata": {},
   "outputs": [
    {
     "name": "stdout",
     "output_type": "stream",
     "text": [
      "---------------- User:  0  ----------------------\n",
      "             precision    recall  f1-score   support\n",
      "\n",
      " not moving       0.82      1.00      0.90       211\n",
      "     moving       0.00      0.00      0.00        47\n",
      "\n",
      "avg / total       0.67      0.82      0.74       258\n",
      "\n",
      "0.817829457364 \n",
      "\n",
      "---------------- User:  1  ----------------------\n",
      "             precision    recall  f1-score   support\n",
      "\n",
      " not moving       0.90      1.00      0.95        55\n",
      "     moving       0.00      0.00      0.00         6\n",
      "\n",
      "avg / total       0.81      0.90      0.86        61\n",
      "\n",
      "0.901639344262 \n",
      "\n",
      "---------------- User:  2  ----------------------\n",
      "             precision    recall  f1-score   support\n",
      "\n",
      " not moving       0.83      1.00      0.91        74\n",
      "     moving       0.00      0.00      0.00        15\n",
      "\n",
      "avg / total       0.69      0.83      0.75        89\n",
      "\n",
      "0.831460674157 \n",
      "\n",
      "---------------- User:  3  ----------------------\n",
      "             precision    recall  f1-score   support\n",
      "\n",
      " not moving       0.45      1.00      0.62         5\n",
      "     moving       0.00      0.00      0.00         6\n",
      "\n",
      "avg / total       0.21      0.45      0.28        11\n",
      "\n",
      "0.454545454545 \n",
      "\n",
      "---------------- User:  5  ----------------------\n",
      "             precision    recall  f1-score   support\n",
      "\n",
      " not moving       0.83      1.00      0.90        38\n",
      "     moving       0.00      0.00      0.00         8\n",
      "\n",
      "avg / total       0.68      0.83      0.75        46\n",
      "\n",
      "0.826086956522 \n",
      "\n"
     ]
    },
    {
     "name": "stderr",
     "output_type": "stream",
     "text": [
      "/home/ju/anaconda3/lib/python3.6/site-packages/sklearn/metrics/classification.py:1135: UndefinedMetricWarning: Precision and F-score are ill-defined and being set to 0.0 in labels with no predicted samples.\n",
      "  'precision', 'predicted', average, warn_for)\n"
     ]
    }
   ],
   "source": [
    "label='moving'\n",
    "for user in [0,1,2,3,5]:\n",
    "    train_u, test_u = ttu[user]\n",
    "    print ('---------------- User: ', user, ' ----------------------')\n",
    "    clf_svm = hp.clf_svm_rbf(train_u, features_all, labelName=label, C=c2, gamma=gamma)\n",
    "    print(hp.report_test(clf_svm, test_u, features_all, labels=[label], print_report=True, plot_report=False), '\\n')"
   ]
  },
  {
   "cell_type": "markdown",
   "metadata": {},
   "source": [
    "### 3C. For each user (SVM awake  x sleep)"
   ]
  },
  {
   "cell_type": "code",
   "execution_count": 20,
   "metadata": {},
   "outputs": [
    {
     "name": "stdout",
     "output_type": "stream",
     "text": [
      "---------------- User:  0  ----------------------\n",
      "              precision    recall  f1-score   support\n",
      "\n",
      "not sleeping       0.53      1.00      0.69       137\n",
      "    sleeping       0.00      0.00      0.00       121\n",
      "\n",
      " avg / total       0.28      0.53      0.37       258\n",
      "\n",
      "0.531007751938 \n",
      "\n",
      "---------------- User:  1  ----------------------\n",
      "              precision    recall  f1-score   support\n",
      "\n",
      "not sleeping       0.92      1.00      0.96        56\n",
      "    sleeping       0.00      0.00      0.00         5\n",
      "\n",
      " avg / total       0.84      0.92      0.88        61\n",
      "\n",
      "0.918032786885 \n",
      "\n",
      "---------------- User:  2  ----------------------\n",
      "              precision    recall  f1-score   support\n",
      "\n",
      "not sleeping       0.81      1.00      0.89        72\n",
      "    sleeping       0.00      0.00      0.00        17\n",
      "\n",
      " avg / total       0.65      0.81      0.72        89\n",
      "\n",
      "0.808988764045 \n",
      "\n",
      "---------------- User:  4  ----------------------\n",
      "              precision    recall  f1-score   support\n",
      "\n",
      "not sleeping       0.00      0.00      0.00        16\n",
      "    sleeping       0.61      1.00      0.76        25\n",
      "\n",
      " avg / total       0.37      0.61      0.46        41\n",
      "\n",
      "0.609756097561 \n",
      "\n",
      "---------------- User:  5  ----------------------\n",
      "              precision    recall  f1-score   support\n",
      "\n",
      "not sleeping       0.00      0.00      0.00        20\n",
      "    sleeping       0.57      1.00      0.72        26\n",
      "\n",
      " avg / total       0.32      0.57      0.41        46\n",
      "\n",
      "0.565217391304 \n",
      "\n",
      "---------------- User:  6  ----------------------\n",
      "              precision    recall  f1-score   support\n",
      "\n",
      "not sleeping       0.43      1.00      0.60        16\n",
      "    sleeping       0.00      0.00      0.00        21\n",
      "\n",
      " avg / total       0.19      0.43      0.26        37\n",
      "\n",
      "0.432432432432 \n",
      "\n"
     ]
    },
    {
     "name": "stderr",
     "output_type": "stream",
     "text": [
      "/home/ju/anaconda3/lib/python3.6/site-packages/sklearn/metrics/classification.py:1135: UndefinedMetricWarning: Precision and F-score are ill-defined and being set to 0.0 in labels with no predicted samples.\n",
      "  'precision', 'predicted', average, warn_for)\n"
     ]
    }
   ],
   "source": [
    "label='sleeping'\n",
    "for user in df.loc[df[label]==1].user.unique(): #users that have sleep data\n",
    "    train_u, test_u = ttu[user]\n",
    "    print ('---------------- User: ', user, ' ----------------------')\n",
    "    clf_svm = hp.clf_svm_rbf(train_u, features_all, labelName=label, C=c2, gamma=gamma)\n",
    "    print(hp.report_test(clf_svm, test_u, features_all, labels=[label], print_report=True, plot_report=False), '\\n')"
   ]
  },
  {
   "cell_type": "markdown",
   "metadata": {
    "collapsed": true
   },
   "source": [
    "## 5. Random Forest classifier "
   ]
  },
  {
   "cell_type": "markdown",
   "metadata": {},
   "source": [
    "### 4A. For each label separately"
   ]
  },
  {
   "cell_type": "code",
   "execution_count": 67,
   "metadata": {},
   "outputs": [
    {
     "name": "stdout",
     "output_type": "stream",
     "text": [
      "activity :  0.556586270872\n",
      "posture :  0.65306122449\n",
      "moving :  0.897959183673\n",
      "sleeping :  0.881261595547\n",
      "still :  0.803339517625\n",
      "sitting :  0.779220779221\n",
      "standing :  0.894248608534\n",
      "lyingdown :  0.888682745826\n",
      "active :  0.807050092764\n",
      "passive :  0.807050092764\n",
      "focused :  0.78107606679\n",
      "relaxed :  0.807050092764\n"
     ]
    }
   ],
   "source": [
    "for label in all_labels:\n",
    "    clf = hp.clf_rf(train, features_all, labels=[label])\n",
    "    print(label, ': ', clf.score(X=test[features_all], y=test[label]))\n",
    "    "
   ]
  },
  {
   "cell_type": "code",
   "execution_count": 75,
   "metadata": {},
   "outputs": [
    {
     "name": "stdout",
     "output_type": "stream",
     "text": [
      "moving :  0.896103896104\n",
      "sleeping :  0.875695732839\n",
      "sitting :  0.779220779221\n",
      "standing :  0.894248608534\n",
      "lyingdown :  0.871985157699\n",
      "active :  0.797773654917\n",
      "passive :  0.805194805195\n",
      "focused :  0.773654916512\n",
      "relaxed :  0.812615955473\n"
     ]
    },
    {
     "data": {
      "text/plain": [
       "<Container object of 9 artists>"
      ]
     },
     "execution_count": 75,
     "metadata": {},
     "output_type": "execute_result"
    },
    {
     "data": {
      "image/png": "[encoded data removed]",
      "text/plain": [
       "<matplotlib.figure.Figure at 0x7f2790b83208>"
      ]
     },
     "metadata": {},
     "output_type": "display_data"
    }
   ],
   "source": [
    "scores = []\n",
    "for label in one_hot_labels:\n",
    "    clf = hp.clf_rf(train, features_red, labels=[label])\n",
    "    score = clf.score(X=test[features_red], y=test[label])\n",
    "    print(label, ': ', score)\n",
    "    scores.append(score)\n",
    "    #print(hp.report_test(clf, test, features_red, labels=[label], print_report=False, plot_report=False), '\\n')\n",
    "    \n",
    "plt.barh(one_hot_labels, scores, align='center', alpha=1, color='#eb5058')"
   ]
  },
  {
   "cell_type": "code",
   "execution_count": 78,
   "metadata": {},
   "outputs": [
    {
     "name": "stdout",
     "output_type": "stream",
     "text": [
      "\n",
      "-------------- USER:  0 --------------\n",
      "moving :  0.852713178295\n",
      "sleeping :  0.875968992248\n",
      "sitting :  0.755813953488\n",
      "standing :  0.841085271318\n",
      "lyingdown :  0.868217054264\n",
      "active :  0.856589147287\n",
      "passive :  0.860465116279\n",
      "focused :  0.837209302326\n",
      "relaxed :  0.903100775194\n",
      "\n",
      "-------------- USER:  1 --------------\n",
      "moving :  1.0\n",
      "sleeping :  0.967213114754\n",
      "sitting :  0.950819672131\n",
      "standing :  1.0\n",
      "lyingdown :  0.934426229508\n",
      "active :  0.754098360656\n",
      "passive :  0.737704918033\n",
      "focused :  0.83606557377\n",
      "relaxed :  0.819672131148\n",
      "\n",
      "-------------- USER:  2 --------------\n",
      "moving :  0.865168539326\n",
      "sleeping :  0.932584269663\n",
      "sitting :  0.797752808989\n",
      "standing :  0.865168539326\n",
      "lyingdown :  0.898876404494\n",
      "active :  0.719101123596\n",
      "passive :  0.696629213483\n",
      "focused :  0.685393258427\n",
      "relaxed :  0.808988764045\n",
      "\n",
      "-------------- USER:  4 --------------\n",
      "moving :  1.0\n",
      "sleeping :  0.878048780488\n",
      "sitting :  0.878048780488\n",
      "standing :  1.0\n",
      "lyingdown :  0.853658536585\n",
      "active :  1.0\n",
      "passive :  0.878048780488\n",
      "focused :  1.0\n",
      "relaxed :  0.853658536585\n",
      "\n",
      "-------------- USER:  5 --------------\n",
      "moving :  0.978260869565\n",
      "sleeping :  0.891304347826\n",
      "sitting :  0.869565217391\n",
      "standing :  0.978260869565\n",
      "lyingdown :  0.891304347826\n",
      "active :  0.934782608696\n",
      "passive :  0.913043478261\n",
      "focused :  1.0\n",
      "relaxed :  0.869565217391\n",
      "\n",
      "-------------- USER:  6 --------------\n",
      "moving :  1.0\n",
      "sleeping :  0.918918918919\n",
      "sitting :  0.891891891892\n",
      "standing :  0.972972972973\n",
      "lyingdown :  0.918918918919\n",
      "active :  0.837837837838\n",
      "passive :  0.918918918919\n",
      "focused :  0.891891891892\n",
      "relaxed :  0.918918918919\n"
     ]
    }
   ],
   "source": [
    "ul = [[] for i in range(len(one_hot_labels))]\n",
    "for user in [0,1,2,4,5,6]:\n",
    "    print('\\n-------------- USER: ', user, '--------------')\n",
    "    train_u, test_u = ttu[user]    \n",
    "    for i,label in enumerate(one_hot_labels):\n",
    "        clf = hp.clf_rf(train_u, features_red, labels=[label])        \n",
    "        score = clf.score(X=test_u[features_red], y=test_u[label])\n",
    "        print(label, ': ', score)\n",
    "        ul[i].append(score)\n",
    "        "
   ]
  },
  {
   "cell_type": "code",
   "execution_count": 80,
   "metadata": {},
   "outputs": [
    {
     "name": "stdout",
     "output_type": "stream",
     "text": [
      "[0.94935709786427225, 0.91067307064964886, 0.85731538739654756, 0.94291460886364387, 0.89423358193275282, 0.8504015130119259, 0.8341350709104326, 0.87509333773582199, 0.86231739054697876]\n"
     ]
    },
    {
     "data": {
      "text/plain": [
       "<Container object of 9 artists>"
      ]
     },
     "execution_count": 80,
     "metadata": {},
     "output_type": "execute_result"
    },
    {
     "data": {
      "image/png": "[encoded data removed]",
      "text/plain": [
       "<matplotlib.figure.Figure at 0x7f27947c3828>"
      ]
     },
     "metadata": {},
     "output_type": "display_data"
    }
   ],
   "source": [
    "print([np.mean(l) for l in ul])\n",
    "plt.barh(one_hot_labels, scores, align='center', alpha=1, color='#2d3a42')"
   ]
  },
  {
   "cell_type": "markdown",
   "metadata": {},
   "source": [
    "### 4B. For multi-1-hot encoded labels"
   ]
  },
  {
   "cell_type": "code",
   "execution_count": 30,
   "metadata": {},
   "outputs": [
    {
     "name": "stdout",
     "output_type": "stream",
     "text": [
      "             precision    recall  f1-score   support\n",
      "\n",
      "     moving       0.72      0.50      0.59        72\n",
      "   sleeping       0.89      0.79      0.83       227\n",
      "      still       0.75      0.83      0.79       240\n",
      "    sitting       0.73      0.80      0.76       226\n",
      "   standing       0.70      0.47      0.56        75\n",
      "  lyingdown       0.90      0.82      0.86       233\n",
      "\n",
      "avg / total       0.80      0.77      0.78      1073\n",
      "\n",
      "[0.72, 0.5, 0.59]\n",
      "[0.89, 0.79, 0.83]\n",
      "[0.75, 0.83, 0.79]\n",
      "[0.73, 0.8, 0.76]\n",
      "[0.7, 0.47, 0.56]\n",
      "[0.9, 0.82, 0.86]\n"
     ]
    },
    {
     "data": {
      "image/png": "[encoded data removed]",
      "text/plain": [
       "<matplotlib.figure.Figure at 0x7f2790c24518>"
      ]
     },
     "metadata": {},
     "output_type": "display_data"
    },
    {
     "name": "stdout",
     "output_type": "stream",
     "text": [
      "0.723562152134 \n",
      "\n"
     ]
    }
   ],
   "source": [
    "clf = hp.clf_rf(train, features_all, labels=one_hot_labels)\n",
    "print(hp.report_test(clf, test, features_all, labels=one_hot_labels, print_report=True, plot_report=True), '\\n')"
   ]
  },
  {
   "cell_type": "code",
   "execution_count": 32,
   "metadata": {},
   "outputs": [
    {
     "name": "stdout",
     "output_type": "stream",
     "text": [
      "-------------- USER:  0 --------------\n",
      "0.734693877551\n",
      "-------------- USER:  1 --------------\n",
      "0.719851576994\n",
      "-------------- USER:  2 --------------\n",
      "0.732838589981\n",
      "-------------- USER:  5 --------------\n",
      "0.723562152134\n",
      "-------------- USER:  6 --------------\n",
      "0.721706864564\n"
     ]
    }
   ],
   "source": [
    "for user in [0,1,2,5,6]: \n",
    "    print('-------------- USER: ', user, '--------------')\n",
    "    dfu = hp.user_data(df, user)\n",
    "    clf = hp.clf_rf(train, features_red, labels=one_hot_labels)\n",
    "    print(clf.score(X=test[features_red], y=test[one_hot_labels]))\n",
    "    \n",
    "    "
   ]
  },
  {
   "cell_type": "code",
   "execution_count": 57,
   "metadata": {},
   "outputs": [
    {
     "name": "stdout",
     "output_type": "stream",
     "text": [
      "1843 461\n",
      "activity :  0.63557483731\n",
      "posture :  0.748373101952\n",
      "moving :  1.0\n",
      "sleeping :  0.848156182213\n",
      "still :  0.845986984816\n",
      "sitting :  0.843817787419\n",
      "standing :  0.991323210412\n",
      "lyingdown :  0.8568329718\n"
     ]
    }
   ],
   "source": [
    "df_nm = hp.filter_out(df, 'moving', [1])\n",
    "df_nm.sample(20)\n",
    "train, test = hp.preprocess(df_nm, features_red)\n",
    "for label in all_labels:\n",
    "    clf = hp.clf_rf(train, features_red, labels=[label])\n",
    "    print(label, ': ', clf.score(X=test[features_red], y=test[label]))"
   ]
  },
  {
   "cell_type": "code",
   "execution_count": null,
   "metadata": {
    "collapsed": true
   },
   "outputs": [],
   "source": [
    "hp.run_rf(df_wake, feature_list, labels, print_report=True, plot_report=True)"
   ]
  },
  {
   "cell_type": "code",
   "execution_count": null,
   "metadata": {
    "collapsed": true
   },
   "outputs": [],
   "source": [
    "for user in [0,1,2,5,6]: \n",
    "    print('-------------- USER: ', user, '--------------')\n",
    "    dfu = hp.user_data(df_wake, user)\n",
    "    uscore = hp.run_rf(dfu, feature_list, labels, plot_report=True)\n",
    "    print(uscore, '\\n\\n')"
   ]
  },
  {
   "cell_type": "code",
   "execution_count": null,
   "metadata": {
    "collapsed": true
   },
   "outputs": [],
   "source": []
  }
 ],
 "metadata": {
  "kernelspec": {
   "display_name": "Python 3",
   "language": "python",
   "name": "python3"
  },
  "language_info": {
   "codemirror_mode": {
    "name": "ipython",
    "version": 3
   },
   "file_extension": ".py",
   "mimetype": "text/x-python",
   "name": "python",
   "nbconvert_exporter": "python",
   "pygments_lexer": "ipython3",
   "version": "3.6.3"
  }
 },
 "nbformat": 4,
 "nbformat_minor": 2
}
