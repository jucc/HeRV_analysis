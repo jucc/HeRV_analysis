{
 "cells": [
  {
   "cell_type": "code",
   "execution_count": 1,
   "metadata": {},
   "outputs": [],
   "source": [
    "%load_ext autoreload\n",
    "%autoreload 2\n",
    "%matplotlib inline  \n",
    "\n",
    "import pandas as pd\n",
    "import consolidateFiles as cf\n",
    "import datacleaning as cl\n",
    "import fragmentation as fr"
   ]
  },
  {
   "cell_type": "markdown",
   "metadata": {},
   "source": [
    "## ! Parse activity files and parse interval files are to be replaced with the corresponding database queries as soon as they are available "
   ]
  },
  {
   "cell_type": "markdown",
   "metadata": {},
   "source": [
    "## 0 - Pipeline configuration \n",
    "* set the input/output directories, user id and verbose level"
   ]
  },
  {
   "cell_type": "code",
   "execution_count": 2,
   "metadata": {},
   "outputs": [],
   "source": [
    "verbose = True\n",
    "\n",
    "PATH = \"C:\\\\Users\\\\ju\\\\GDrive\\\\Projects\\\\HeRV\\\\Data\\\\\"\n",
    "RAW_PATH = PATH + \"Raw\"\n",
    "PRE_PATH = PATH + \"PreProcessed\"\n",
    "\n",
    "sessfile = PRE_PATH + \"\\\\sessions.xlsx\"\n",
    "    \n",
    "# duration (in seconds) to be cropped from the beginning of each second to account for stabilization and user adjustment\n",
    "crop = 90\n",
    "    \n",
    "# duration (in seconds) of each fragment to be sent to analysis\n",
    "duration = 300\n",
    "    \n",
    "# if any fragment has more than 'threshold' consecutive seconds with no beats, it will be discarded\n",
    "threshold = 3    "
   ]
  },
  {
   "cell_type": "markdown",
   "metadata": {},
   "source": [
    "## 1 - Read sessions\n",
    "\n",
    "---"
   ]
  },
  {
   "cell_type": "code",
   "execution_count": 3,
   "metadata": {},
   "outputs": [
    {
     "data": {
      "text/html": [
       "<div>\n",
       "<style>\n",
       "    .dataframe thead tr:only-child th {\n",
       "        text-align: right;\n",
       "    }\n",
       "\n",
       "    .dataframe thead th {\n",
       "        text-align: left;\n",
       "    }\n",
       "\n",
       "    .dataframe tbody tr th {\n",
       "        vertical-align: top;\n",
       "    }\n",
       "</style>\n",
       "<table border=\"1\" class=\"dataframe\">\n",
       "  <thead>\n",
       "    <tr style=\"text-align: right;\">\n",
       "      <th></th>\n",
       "      <th>activity</th>\n",
       "      <th>beatscount</th>\n",
       "      <th>duration</th>\n",
       "      <th>hf</th>\n",
       "      <th>hfnu</th>\n",
       "      <th>lf</th>\n",
       "      <th>lf_hf</th>\n",
       "      <th>lfnu</th>\n",
       "      <th>mhr</th>\n",
       "      <th>mrri</th>\n",
       "      <th>...</th>\n",
       "      <th>posture</th>\n",
       "      <th>removed_artifacts</th>\n",
       "      <th>rmssd</th>\n",
       "      <th>sdnn</th>\n",
       "      <th>start</th>\n",
       "      <th>stop</th>\n",
       "      <th>total_power</th>\n",
       "      <th>user</th>\n",
       "      <th>vlf</th>\n",
       "      <th>sess_id</th>\n",
       "    </tr>\n",
       "  </thead>\n",
       "  <tbody>\n",
       "    <tr>\n",
       "      <th>54</th>\n",
       "      <td>rest-passive</td>\n",
       "      <td>2155</td>\n",
       "      <td>1430</td>\n",
       "      <td>1689.127782</td>\n",
       "      <td>55.982722</td>\n",
       "      <td>1328.102770</td>\n",
       "      <td>0.786265</td>\n",
       "      <td>44.017278</td>\n",
       "      <td>92.065717</td>\n",
       "      <td>671.328538</td>\n",
       "      <td>...</td>\n",
       "      <td>standing</td>\n",
       "      <td>55</td>\n",
       "      <td>89.739275</td>\n",
       "      <td>104.305190</td>\n",
       "      <td>2017-10-12 19:21:58</td>\n",
       "      <td>2017-10-12 19:45:48</td>\n",
       "      <td>3769.145476</td>\n",
       "      <td>0</td>\n",
       "      <td>751.914924</td>\n",
       "      <td>54</td>\n",
       "    </tr>\n",
       "    <tr>\n",
       "      <th>140</th>\n",
       "      <td>rest-active</td>\n",
       "      <td>1432</td>\n",
       "      <td>1309</td>\n",
       "      <td>670.118718</td>\n",
       "      <td>54.882421</td>\n",
       "      <td>550.889226</td>\n",
       "      <td>0.822077</td>\n",
       "      <td>45.117579</td>\n",
       "      <td>89.880226</td>\n",
       "      <td>676.745810</td>\n",
       "      <td>...</td>\n",
       "      <td>sit</td>\n",
       "      <td>4</td>\n",
       "      <td>65.972778</td>\n",
       "      <td>67.077057</td>\n",
       "      <td>2017-11-15 11:31:43</td>\n",
       "      <td>2017-11-15 11:53:32</td>\n",
       "      <td>1737.940659</td>\n",
       "      <td>0</td>\n",
       "      <td>516.932716</td>\n",
       "      <td>140</td>\n",
       "    </tr>\n",
       "    <tr>\n",
       "      <th>214</th>\n",
       "      <td>eat</td>\n",
       "      <td>1779</td>\n",
       "      <td>1257</td>\n",
       "      <td>1274.202930</td>\n",
       "      <td>31.422387</td>\n",
       "      <td>2780.877014</td>\n",
       "      <td>2.182444</td>\n",
       "      <td>68.577613</td>\n",
       "      <td>84.909073</td>\n",
       "      <td>715.817313</td>\n",
       "      <td>...</td>\n",
       "      <td>sit</td>\n",
       "      <td>5</td>\n",
       "      <td>72.328390</td>\n",
       "      <td>87.077767</td>\n",
       "      <td>2017-10-29 19:02:22</td>\n",
       "      <td>2017-10-29 19:23:19</td>\n",
       "      <td>5197.081527</td>\n",
       "      <td>1</td>\n",
       "      <td>1142.001583</td>\n",
       "      <td>214</td>\n",
       "    </tr>\n",
       "    <tr>\n",
       "      <th>318</th>\n",
       "      <td>movement</td>\n",
       "      <td>1227</td>\n",
       "      <td>720</td>\n",
       "      <td>41.935333</td>\n",
       "      <td>15.442253</td>\n",
       "      <td>229.626931</td>\n",
       "      <td>5.475739</td>\n",
       "      <td>84.557747</td>\n",
       "      <td>100.620470</td>\n",
       "      <td>599.827221</td>\n",
       "      <td>...</td>\n",
       "      <td>stand</td>\n",
       "      <td>1</td>\n",
       "      <td>18.800923</td>\n",
       "      <td>45.874815</td>\n",
       "      <td>2017-10-06 17:48:00</td>\n",
       "      <td>2017-10-06 18:00:00</td>\n",
       "      <td>850.658983</td>\n",
       "      <td>2</td>\n",
       "      <td>579.096719</td>\n",
       "      <td>318</td>\n",
       "    </tr>\n",
       "    <tr>\n",
       "      <th>38</th>\n",
       "      <td>rest-active</td>\n",
       "      <td>1451</td>\n",
       "      <td>1121</td>\n",
       "      <td>1493.242274</td>\n",
       "      <td>55.198024</td>\n",
       "      <td>1212.003592</td>\n",
       "      <td>0.811659</td>\n",
       "      <td>44.801976</td>\n",
       "      <td>76.764375</td>\n",
       "      <td>790.315644</td>\n",
       "      <td>...</td>\n",
       "      <td>sitting</td>\n",
       "      <td>0</td>\n",
       "      <td>61.357545</td>\n",
       "      <td>84.070051</td>\n",
       "      <td>2017-10-10 19:49:33</td>\n",
       "      <td>2017-10-10 20:08:14</td>\n",
       "      <td>3844.011782</td>\n",
       "      <td>0</td>\n",
       "      <td>1138.765916</td>\n",
       "      <td>38</td>\n",
       "    </tr>\n",
       "  </tbody>\n",
       "</table>\n",
       "<p>5 rows × 23 columns</p>\n",
       "</div>"
      ],
      "text/plain": [
       "         activity  beatscount  duration           hf       hfnu           lf  \\\n",
       "54   rest-passive        2155      1430  1689.127782  55.982722  1328.102770   \n",
       "140   rest-active        1432      1309   670.118718  54.882421   550.889226   \n",
       "214           eat        1779      1257  1274.202930  31.422387  2780.877014   \n",
       "318      movement        1227       720    41.935333  15.442253   229.626931   \n",
       "38    rest-active        1451      1121  1493.242274  55.198024  1212.003592   \n",
       "\n",
       "        lf_hf       lfnu         mhr        mrri   ...      posture  \\\n",
       "54   0.786265  44.017278   92.065717  671.328538   ...     standing   \n",
       "140  0.822077  45.117579   89.880226  676.745810   ...          sit   \n",
       "214  2.182444  68.577613   84.909073  715.817313   ...          sit   \n",
       "318  5.475739  84.557747  100.620470  599.827221   ...        stand   \n",
       "38   0.811659  44.801976   76.764375  790.315644   ...      sitting   \n",
       "\n",
       "    removed_artifacts      rmssd        sdnn               start  \\\n",
       "54                 55  89.739275  104.305190 2017-10-12 19:21:58   \n",
       "140                 4  65.972778   67.077057 2017-11-15 11:31:43   \n",
       "214                 5  72.328390   87.077767 2017-10-29 19:02:22   \n",
       "318                 1  18.800923   45.874815 2017-10-06 17:48:00   \n",
       "38                  0  61.357545   84.070051 2017-10-10 19:49:33   \n",
       "\n",
       "                   stop  total_power user          vlf  sess_id  \n",
       "54  2017-10-12 19:45:48  3769.145476    0   751.914924       54  \n",
       "140 2017-11-15 11:53:32  1737.940659    0   516.932716      140  \n",
       "214 2017-10-29 19:23:19  5197.081527    1  1142.001583      214  \n",
       "318 2017-10-06 18:00:00   850.658983    2   579.096719      318  \n",
       "38  2017-10-10 20:08:14  3844.011782    0  1138.765916       38  \n",
       "\n",
       "[5 rows x 23 columns]"
      ]
     },
     "execution_count": 3,
     "metadata": {},
     "output_type": "execute_result"
    }
   ],
   "source": [
    "df = pd.read_excel(sessfile)\n",
    "df.sample(5)"
   ]
  },
  {
   "cell_type": "code",
   "execution_count": 4,
   "metadata": {},
   "outputs": [
    {
     "name": "stdout",
     "output_type": "stream",
     "text": [
      "{'activity': 'focused-active', 'beatscount': 2862, 'duration': 2975, 'hf': 16632.76073930055, 'hfnu': 68.59709571934512, 'lf': 7614.272702685149, 'lf_hf': 0.457787665080388, 'lfnu': 31.40290428065488, 'mhr': 60.34981965901419, 'mrri': 1061.744933612858, 'nn50': 2234, 'notes': nan, 'pnn50': 78.08458580915763, 'posture': 'sitting', 'removed_artifacts': 25, 'rmssd': 239.3168704624504, 'sdnn': 233.7396537299742, 'start': Timestamp('2017-09-29 12:25:28'), 'stop': Timestamp('2017-09-29 13:15:03'), 'total_power': 29488.44338063871, 'user': 0, 'vlf': 5241.409938653003, 'sess_id': 0}\n"
     ]
    }
   ],
   "source": [
    "sessions = df.to_dict(orient='records')\n",
    "print(sessions[0])"
   ]
  },
  {
   "cell_type": "markdown",
   "metadata": {
    "collapsed": true
   },
   "source": [
    "## 2 - Generate fragments from sessions\n",
    "\n",
    "Breaks the sessions duration in fragments\n",
    "\n",
    "Configurations:\n",
    "* duration of each fragment in seconds;\n",
    "* number of seconds to be discarded at the beginning of the session, accounting for user's stabilization and adjustment to posture and activity \n",
    "\n",
    "---\n"
   ]
  },
  {
   "cell_type": "code",
   "execution_count": 5,
   "metadata": {},
   "outputs": [
    {
     "name": "stdout",
     "output_type": "stream",
     "text": [
      "410 valid sessions out of 447 total (at least one full fragment of 300 seconds after discarding first 90 seconds)\n",
      "Wall time: 15.6 ms\n"
     ]
    }
   ],
   "source": [
    "frags = cf.fragment_sessions(sessions, duration, crop)"
   ]
  },
  {
   "cell_type": "code",
   "execution_count": 6,
   "metadata": {},
   "outputs": [
    {
     "name": "stdout",
     "output_type": "stream",
     "text": [
      "4305\n",
      "{'start': Timestamp('2017-09-29 12:26:58'), 'stop': Timestamp('2017-09-29 12:31:58'), 'activity': 'focused-active', 'posture': 'sitting', 'user': 0, 'sess': 0, 'order': 0}\n"
     ]
    }
   ],
   "source": [
    "print(len(frags))\n",
    "print(frags[0])"
   ]
  },
  {
   "cell_type": "markdown",
   "metadata": {},
   "source": [
    "## 3 - Add and clean interval data to fragments\n",
    "---"
   ]
  },
  {
   "cell_type": "markdown",
   "metadata": {},
   "source": [
    "### 3.1 Extract beats in fragment\n",
    "\n",
    "Retrieves from the heartbeat files all the intervals contained in each session's duration and adds them to the fragments objects (in memory)"
   ]
  },
  {
   "cell_type": "code",
   "execution_count": 7,
   "metadata": {},
   "outputs": [],
   "source": [
    "def fragall(frags, path):\n",
    "    for f in frags:\n",
    "        f['rr'] = cf.beats_in_fragment(f, path)"
   ]
  },
  {
   "cell_type": "code",
   "execution_count": null,
   "metadata": {},
   "outputs": [],
   "source": [
    "%time fragall(frags, RAW_PATH)"
   ]
  },
  {
   "cell_type": "code",
   "execution_count": null,
   "metadata": {},
   "outputs": [],
   "source": [
    "df = pd.DataFrame(frags)\n",
    "df['beatcount'] = df['rr'].apply(len)\n",
    "df.describe()"
   ]
  },
  {
   "cell_type": "markdown",
   "metadata": {},
   "source": [
    "### 3.2 Remove outliers from RR series"
   ]
  },
  {
   "cell_type": "code",
   "execution_count": null,
   "metadata": {},
   "outputs": [],
   "source": [
    "df['rr'] = df['rr'].apply(cl.clean_rr_series)\n",
    "df['beatcount'] = df['rr'].apply(len)\n",
    "df.describe()"
   ]
  },
  {
   "cell_type": "markdown",
   "metadata": {},
   "source": [
    "### 3.3 Remove fragments with too few beats (due to hardware malfunction or software was not recording beats)"
   ]
  },
  {
   "cell_type": "code",
   "execution_count": null,
   "metadata": {},
   "outputs": [],
   "source": [
    "df = df[df['beatcount'] > 0.6 * duration]\n",
    "df.describe()"
   ]
  },
  {
   "cell_type": "code",
   "execution_count": null,
   "metadata": {},
   "outputs": [],
   "source": [
    "df.sample(4)"
   ]
  },
  {
   "cell_type": "markdown",
   "metadata": {},
   "source": [
    "## 4 - Extract time and frequency domain features\n",
    "---"
   ]
  },
  {
   "cell_type": "markdown",
   "metadata": {},
   "source": [
    "***TODO*** do it using apply: df[feature_list] = df.apply(lambda row: pd.Series(aggregate_function(row['rr']), axis=1)"
   ]
  },
  {
   "cell_type": "code",
   "execution_count": null,
   "metadata": {},
   "outputs": [],
   "source": [
    "dic = df.to_dict(orient='records')\n",
    "for i in dic:\n",
    "    i.update(cf.features_from_dic(i['rr']))\n",
    "print(dic[0]['rmssd'])"
   ]
  },
  {
   "cell_type": "code",
   "execution_count": null,
   "metadata": {},
   "outputs": [],
   "source": [
    "df = pd.DataFrame(dic)\n",
    "df.sample(3)"
   ]
  },
  {
   "cell_type": "markdown",
   "metadata": {},
   "source": [
    "### removing HF outliers caused by small gaps between the recorded intervals, to which HF is particularly sensitive\n",
    "\n",
    "***TODO*** it is best to actually remove the cause by separating continuous sequences in the interval "
   ]
  },
  {
   "cell_type": "code",
   "execution_count": null,
   "metadata": {},
   "outputs": [],
   "source": [
    "dfr = df[df['hf'] < 15000]\n",
    "print(len(df), 'original and', len(dfr), 'after pruning')"
   ]
  },
  {
   "cell_type": "markdown",
   "metadata": {},
   "source": [
    "## 5 - Save\n",
    "\n",
    "---"
   ]
  },
  {
   "cell_type": "code",
   "execution_count": null,
   "metadata": {},
   "outputs": [],
   "source": [
    "df_output = dfr.drop(['rr'], axis = 1)\n",
    "df_output.describe()"
   ]
  },
  {
   "cell_type": "code",
   "execution_count": null,
   "metadata": {},
   "outputs": [],
   "source": [
    "filename = PRE_PATH + '\\\\df_' + str(duration) + '_' + str(crop) + '.xlsx'\n",
    "print(filename)\n",
    "df_output.to_excel(filename)"
   ]
  },
  {
   "cell_type": "markdown",
   "metadata": {},
   "source": [
    "# Applying all steps above to generate different datasets"
   ]
  },
  {
   "cell_type": "code",
   "execution_count": null,
   "metadata": {},
   "outputs": [],
   "source": [
    "for cr in [30, 60, 90]:\n",
    "    for dr in [60, 90, 120, 150, 180, 240, 300]:        \n",
    "        fname = PRE_PATH + '\\\\df_' + str(dr) + '_' + str(cr) + '.xlsx'\n",
    "        print ('generating', fname, '...')\n",
    "        ds = fr.gen_fragments_dataset(sessions, dr, cr, RAW_PATH)\n",
    "        print('resulting dataset:', len(ds), 'records' )\n",
    "        ds.to_excel(fname)"
   ]
  },
  {
   "cell_type": "code",
   "execution_count": null,
   "metadata": {},
   "outputs": [],
   "source": []
  }
 ],
 "metadata": {
  "kernelspec": {
   "display_name": "Python 3",
   "language": "python",
   "name": "python3"
  },
  "language_info": {
   "codemirror_mode": {
    "name": "ipython",
    "version": 3
   },
   "file_extension": ".py",
   "mimetype": "text/x-python",
   "name": "python",
   "nbconvert_exporter": "python",
   "pygments_lexer": "ipython3",
   "version": "3.6.3"
  }
 },
 "nbformat": 4,
 "nbformat_minor": 2
}
