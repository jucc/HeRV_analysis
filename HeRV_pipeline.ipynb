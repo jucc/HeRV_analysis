{
 "cells": [
  {
   "cell_type": "code",
   "execution_count": null,
   "metadata": {},
   "outputs": [],
   "source": [
    "%load_ext autoreload\n",
    "%autoreload 2\n",
    "%matplotlib inline  \n",
    "\n",
    "import pandas as pd\n",
    "import numpy as np\n",
    "import matplotlib.pyplot as plt\n",
    "\n",
    "from datetime import datetime, timedelta\n",
    "import parseIntervalFiles as pif\n",
    "import parseActivityFiles as paf\n",
    "#pun intended :)\n",
    "import consolidateFiles as cf\n",
    "\n",
    "from hrv.classical import time_domain, frequency_domain"
   ]
  },
  {
   "cell_type": "markdown",
   "metadata": {},
   "source": [
    "## 0 - Pipeline configuration \n",
    "* set the input/output directories, user id and verbose level"
   ]
  },
  {
   "cell_type": "code",
   "execution_count": null,
   "metadata": {
    "collapsed": true
   },
   "outputs": [],
   "source": [
    "    verbose = True    \n",
    "    user = 0\n",
    "    \n",
    "    RAW_DATA_PATH = \"/home/ju/GDrive/Projects/HeRV/Data/Raw/%d\"%user\n",
    "    PRE_DATA_PATH = \"/home/ju/GDrive/Projects/HeRV/Data/PreProcessed/%d\"%user\n",
    "    \n",
    "    # duration (in seconds) to be cropped from the beginning of each second to account for stabilization and user adjustment\n",
    "    crop = 90\n",
    "    \n",
    "    # duration (in seconds) of each fragment to be sent to analysis\n",
    "    duration = 300\n",
    "    \n",
    "    # if any fragment has more than 'threshold' consecutive seconds with no beats, it will be discarded\n",
    "    threshold = 3"
   ]
  },
  {
   "cell_type": "markdown",
   "metadata": {},
   "source": [
    "## 1 - Extract sessions from raw data (intervals + annotations files)\n",
    "\n",
    "### 1.1 - List activities with session start/stop datetime\n",
    "Parses activities files and prints all errors found (activities without start or stop, invalid dates, etc)"
   ]
  },
  {
   "cell_type": "code",
   "execution_count": null,
   "metadata": {},
   "outputs": [],
   "source": [
    "sessions = paf.parseActivityFiles(dirname=RAW_DATA_PATH)"
   ]
  },
  {
   "cell_type": "markdown",
   "metadata": {
    "collapsed": true
   },
   "source": [
    "## 2 - Generate fragments from sessions\n",
    "\n",
    "### 2.1 - breaks the sessions duration in fragments\n",
    "Configurations:\n",
    "* duration of each fragment in seconds;\n",
    "* number of seconds to be discarded at the beginning of the session, accounting for user's stabilization and adjustment to posture and activity \n",
    "\n",
    "### 2.2 - extracts the intervals for each fragment\n",
    "Retrieves from the heartbeat files all the intervals contained in each session's duration and adds them to the fragments objects (in memory)\n"
   ]
  },
  {
   "cell_type": "code",
   "execution_count": null,
   "metadata": {},
   "outputs": [],
   "source": [
    "frags = cf.fragment_sessions(sessions, duration, crop)"
   ]
  },
  {
   "cell_type": "markdown",
   "metadata": {
    "collapsed": true
   },
   "source": [
    "## 3 - Quality assurance\n",
    "\n",
    "### To be implemented\n",
    "\n",
    "## 4 - Extract time-domain features"
   ]
  },
  {
   "cell_type": "code",
   "execution_count": null,
   "metadata": {},
   "outputs": [],
   "source": [
    "rr = cf.beatlist(cf.beats_in_fragment(frags[100], dirname=RAW_DATA_PATH))\n",
    "print(time_domain(rr))\n",
    "print(frequency_domain(rr))\n"
   ]
  },
  {
   "cell_type": "code",
   "execution_count": null,
   "metadata": {
    "collapsed": true
   },
   "outputs": [],
   "source": []
  }
 ],
 "metadata": {
  "kernelspec": {
   "display_name": "Python 3",
   "language": "python",
   "name": "python3"
  },
  "language_info": {
   "codemirror_mode": {
    "name": "ipython",
    "version": 3
   },
   "file_extension": ".py",
   "mimetype": "text/x-python",
   "name": "python",
   "nbconvert_exporter": "python",
   "pygments_lexer": "ipython3",
   "version": "3.6.3"
  }
 },
 "nbformat": 4,
 "nbformat_minor": 2
}
