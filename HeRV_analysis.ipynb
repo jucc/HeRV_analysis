{
 "cells": [
  {
   "cell_type": "code",
   "execution_count": 47,
   "metadata": {},
   "outputs": [
    {
     "name": "stdout",
     "output_type": "stream",
     "text": [
      "The autoreload extension is already loaded. To reload it, use:\n",
      "  %reload_ext autoreload\n"
     ]
    }
   ],
   "source": [
    "%load_ext autoreload\n",
    "%autoreload 2\n",
    "\n",
    "import numpy as np\n",
    "import matplotlib.pyplot as plt\n",
    "\n",
    "from sklearn import svm\n",
    "from sklearn.preprocessing import scale\n",
    "from sklearn.model_selection import StratifiedShuffleSplit, GridSearchCV\n",
    "\n",
    "import herv_preprocess as hpp"
   ]
  },
  {
   "cell_type": "markdown",
   "metadata": {},
   "source": [
    "### Parameter configuration"
   ]
  },
  {
   "cell_type": "code",
   "execution_count": 58,
   "metadata": {},
   "outputs": [],
   "source": [
    "# input data\n",
    "filename = 'data/12features/combined.csv'\n",
    "# k-fold cross validation (one in each k examples will be used for validation, the others for training)\n",
    "k = 5\n",
    "\n",
    "includelist  = ('eat','focused-active')\n",
    "grouplist  = ('household-chores','movement')"
   ]
  },
  {
   "cell_type": "markdown",
   "metadata": {},
   "source": [
    "### 1 - Extract data from the csv file and split it into labels and features"
   ]
  },
  {
   "cell_type": "code",
   "execution_count": 59,
   "metadata": {},
   "outputs": [
    {
     "name": "stdout",
     "output_type": "stream",
     "text": [
      "(1, 'eat', 'sit',  687.15997314,  74.40599823,  87.31600189,  68.35299683,  103.69999695,  40.04800034,  13.81700039,  312.,  1804.09997559,  3734.39990234,  771.40002441,  4.84110022)\n"
     ]
    }
   ],
   "source": [
    "data = hpp.getData(filename)\n",
    "#data = hpp.filterActivities(data, includelist)\n",
    "print(data[0])"
   ]
  },
  {
   "cell_type": "code",
   "execution_count": 60,
   "metadata": {},
   "outputs": [
    {
     "name": "stdout",
     "output_type": "stream",
     "text": [
      "2\n"
     ]
    }
   ],
   "source": [
    "hpp.groupActivities(data, grouplist)\n",
    "datagroups = hpp.getDataByActivity(np.array(data))\n",
    "print (len(datagroups))"
   ]
  },
  {
   "cell_type": "code",
   "execution_count": 61,
   "metadata": {},
   "outputs": [
    {
     "name": "stdout",
     "output_type": "stream",
     "text": [
      "in: 98 examples (79 for train and 19 for test)\n",
      "out: 329 examples (264 for train and 65 for test)\n",
      "\n",
      "Total: 343 train examples and 84 test examples \n"
     ]
    }
   ],
   "source": [
    "train, test = hpp.balanceTrainTestDatasets(datagroups)\n",
    "ltrain, ftrain = hpp.splitExamples(train)\n",
    "ltest, ftest = hpp.splitExamples(test)"
   ]
  },
  {
   "cell_type": "code",
   "execution_count": 62,
   "metadata": {},
   "outputs": [
    {
     "name": "stdout",
     "output_type": "stream",
     "text": [
      "min and max values before scaling:  0.0 29716.0\n",
      "min and max values after scaling:  -2.4363003381 10.5424862637\n",
      "(343, 12)\n",
      "(84, 12)\n"
     ]
    }
   ],
   "source": [
    "ftrain, ftest = hpp.scaleFeatures(ftrain, ftest)\n",
    "print(ftrain.shape)\n",
    "print(ftest.shape)"
   ]
  },
  {
   "cell_type": "markdown",
   "metadata": {},
   "source": [
    "### 2 - test classifiers with no cross validation and predefined parameters (C=1, $\\gamma$ = 0.01)"
   ]
  },
  {
   "cell_type": "code",
   "execution_count": 63,
   "metadata": {
    "scrolled": true
   },
   "outputs": [
    {
     "name": "stdout",
     "output_type": "stream",
     "text": [
      "expected\t\tresult\n",
      "------------------------------\n",
      "in\t\tin\n",
      "in\t\tin\n",
      "in\t\tin\n",
      "in\t\tin\n",
      "in\t\tout\n",
      "in\t\tout\n",
      "in\t\tout\n",
      "in\t\tin\n",
      "in\t\tin\n",
      "in\t\tin\n",
      "in\t\tin\n",
      "in\t\tout\n",
      "in\t\tin\n",
      "in\t\tin\n",
      "in\t\tin\n",
      "in\t\tin\n",
      "in\t\tout\n",
      "in\t\tin\n",
      "in\t\tin\n",
      "out\t\tout\n",
      "out\t\tout\n",
      "out\t\tout\n",
      "out\t\tout\n",
      "out\t\tout\n",
      "out\t\tout\n",
      "out\t\tout\n",
      "out\t\tout\n",
      "out\t\tout\n",
      "out\t\tout\n",
      "out\t\tout\n",
      "out\t\tout\n",
      "out\t\tout\n",
      "out\t\tout\n",
      "out\t\tout\n",
      "out\t\tout\n",
      "out\t\tout\n",
      "out\t\tout\n",
      "out\t\tout\n",
      "out\t\tout\n",
      "out\t\tout\n",
      "out\t\tout\n",
      "out\t\tout\n",
      "out\t\tout\n",
      "out\t\tout\n",
      "out\t\tout\n",
      "out\t\tout\n",
      "out\t\tout\n",
      "out\t\tout\n",
      "out\t\tout\n",
      "out\t\tout\n",
      "out\t\tout\n",
      "out\t\tout\n",
      "out\t\tout\n",
      "out\t\tout\n",
      "out\t\tout\n",
      "out\t\tout\n",
      "out\t\tout\n",
      "out\t\tout\n",
      "out\t\tout\n",
      "out\t\tout\n",
      "out\t\tout\n",
      "out\t\tout\n",
      "out\t\tout\n",
      "out\t\tout\n",
      "out\t\tout\n",
      "out\t\tout\n",
      "out\t\tout\n",
      "out\t\tout\n",
      "out\t\tout\n",
      "out\t\tout\n",
      "out\t\tout\n",
      "out\t\tout\n",
      "out\t\tout\n",
      "out\t\tout\n",
      "out\t\tout\n",
      "out\t\tout\n",
      "out\t\tout\n",
      "out\t\tout\n",
      "out\t\tout\n",
      "out\t\tout\n",
      "out\t\tout\n",
      "out\t\tout\n",
      "out\t\tout\n",
      "out\t\tout\n",
      "------\n",
      "Got 79 out of 84 right! :)\n"
     ]
    }
   ],
   "source": [
    "clf1 = svm.SVC(kernel='linear', cache_size=1000, C=10)\n",
    "clf1.fit(X=ftrain, y=ltrain)\n",
    "hpp.printResults(ltest, clf1.predict(ftest))"
   ]
  },
  {
   "cell_type": "code",
   "execution_count": 64,
   "metadata": {},
   "outputs": [
    {
     "name": "stdout",
     "output_type": "stream",
     "text": [
      "expected\t\tresult\n",
      "------------------------------\n",
      "in\t\tin\n",
      "in\t\tin\n",
      "in\t\tin\n",
      "in\t\tin\n",
      "in\t\tout\n",
      "in\t\tout\n",
      "in\t\tout\n",
      "in\t\tin\n",
      "in\t\tin\n",
      "in\t\tin\n",
      "in\t\tin\n",
      "in\t\tin\n",
      "in\t\tin\n",
      "in\t\tin\n",
      "in\t\tin\n",
      "in\t\tin\n",
      "in\t\tin\n",
      "in\t\tin\n",
      "in\t\tin\n",
      "out\t\tout\n",
      "out\t\tout\n",
      "out\t\tout\n",
      "out\t\tout\n",
      "out\t\tout\n",
      "out\t\tout\n",
      "out\t\tout\n",
      "out\t\tout\n",
      "out\t\tout\n",
      "out\t\tin\n",
      "out\t\tout\n",
      "out\t\tout\n",
      "out\t\tout\n",
      "out\t\tout\n",
      "out\t\tin\n",
      "out\t\tout\n",
      "out\t\tout\n",
      "out\t\tout\n",
      "out\t\tout\n",
      "out\t\tout\n",
      "out\t\tout\n",
      "out\t\tin\n",
      "out\t\tout\n",
      "out\t\tout\n",
      "out\t\tout\n",
      "out\t\tout\n",
      "out\t\tout\n",
      "out\t\tout\n",
      "out\t\tout\n",
      "out\t\tout\n",
      "out\t\tout\n",
      "out\t\tin\n",
      "out\t\tout\n",
      "out\t\tout\n",
      "out\t\tin\n",
      "out\t\tin\n",
      "out\t\tout\n",
      "out\t\tout\n",
      "out\t\tout\n",
      "out\t\tout\n",
      "out\t\tout\n",
      "out\t\tout\n",
      "out\t\tout\n",
      "out\t\tout\n",
      "out\t\tout\n",
      "out\t\tout\n",
      "out\t\tout\n",
      "out\t\tout\n",
      "out\t\tin\n",
      "out\t\tout\n",
      "out\t\tout\n",
      "out\t\tout\n",
      "out\t\tout\n",
      "out\t\tout\n",
      "out\t\tout\n",
      "out\t\tout\n",
      "out\t\tout\n",
      "out\t\tout\n",
      "out\t\tout\n",
      "out\t\tout\n",
      "out\t\tout\n",
      "out\t\tout\n",
      "out\t\tout\n",
      "out\t\tout\n",
      "out\t\tout\n",
      "------\n",
      "Got 74 out of 84 right! :)\n"
     ]
    }
   ],
   "source": [
    "clf2 = svm.SVC(kernel='rbf', cache_size=1000, C=10, gamma=0.1)\n",
    "clf2.fit(X=ftrain, y=ltrain)\n",
    "hpp.printResults(ltest, clf2.predict(ftest))"
   ]
  },
  {
   "cell_type": "markdown",
   "metadata": {},
   "source": [
    "### 3 - Model selection:  Perform an exhaustive search, with k-fold cross-validation,  in the space parameter consisting of:\n",
    "* $C = 10^{i}, com -1 \\leq i \\leq 6$, for both linear and RBF kernels\n",
    "* $\\gamma = 10^{i}, com -3 \\leq i \\leq 3$, for RBF kernel."
   ]
  },
  {
   "cell_type": "code",
   "execution_count": 65,
   "metadata": {},
   "outputs": [],
   "source": [
    "crossval = StratifiedShuffleSplit(n_splits=k-1, test_size=0.2)\n",
    "\n",
    "# C varies from 10^(-1) to 10^6, gamma from 10^(-3) to 10^3\n",
    "c_range = np.logspace(-1, 2, 4) \n",
    "gamma_range = np.logspace(-2, 1, 4)\n",
    "\n",
    "param_lin=dict(C=c_range)\n",
    "param_rbf=dict(C=c_range, gamma=gamma_range)\n"
   ]
  },
  {
   "cell_type": "code",
   "execution_count": 66,
   "metadata": {},
   "outputs": [
    {
     "name": "stdout",
     "output_type": "stream",
     "text": [
      "Kernel linear --- \n",
      "Best params: {'C': 1.0} with score 0.80072\n"
     ]
    }
   ],
   "source": [
    "grid_lin = GridSearchCV(svm.SVC(kernel='linear', cache_size=1000), param_grid=param_lin, cv=crossval)\n",
    "grid_lin.fit(X=ftrain, y=ltrain)\n",
    "\n",
    "print(\"Kernel linear --- \")\n",
    "print(\"Best params: %s with score %0.5f\" % (grid_lin.best_params_, grid_lin.best_score_))"
   ]
  },
  {
   "cell_type": "code",
   "execution_count": 67,
   "metadata": {},
   "outputs": [
    {
     "name": "stdout",
     "output_type": "stream",
     "text": [
      "Kernel RBF --- \n",
      "Best params: {'C': 1.0, 'gamma': 0.10000000000000001} with score 0.85507\n"
     ]
    }
   ],
   "source": [
    "grid_rbf = GridSearchCV(svm.SVC(kernel='rbf', cache_size=1000), param_grid=param_rbf, cv=crossval)\n",
    "grid_rbf.fit(X=ftrain, y=ltrain)\n",
    "\n",
    "print(\"Kernel RBF --- \")\n",
    "print(\"Best params: %s with score %0.5f\" % (grid_rbf.best_params_, grid_rbf.best_score_))"
   ]
  },
  {
   "cell_type": "code",
   "execution_count": null,
   "metadata": {},
   "outputs": [],
   "source": []
  },
  {
   "cell_type": "code",
   "execution_count": null,
   "metadata": {
    "collapsed": true
   },
   "outputs": [],
   "source": []
  },
  {
   "cell_type": "code",
   "execution_count": null,
   "metadata": {},
   "outputs": [],
   "source": [
    "ltrain, ltest, ftrain, ftest = hpp.trainAndTestDatasets(labels, examples, k )"
   ]
  }
 ],
 "metadata": {
  "kernelspec": {
   "display_name": "Python 3",
   "language": "python",
   "name": "python3"
  },
  "language_info": {
   "codemirror_mode": {
    "name": "ipython",
    "version": 3
   },
   "file_extension": ".py",
   "mimetype": "text/x-python",
   "name": "python",
   "nbconvert_exporter": "python",
   "pygments_lexer": "ipython3",
   "version": "3.6.2"
  }
 },
 "nbformat": 4,
 "nbformat_minor": 2
}
