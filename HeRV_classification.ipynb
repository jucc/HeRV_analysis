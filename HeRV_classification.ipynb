{
 "cells": [
  {
   "cell_type": "code",
   "execution_count": 2,
   "metadata": {
    "collapsed": true
   },
   "outputs": [],
   "source": [
    "%load_ext autoreload\n",
    "%autoreload 2\n",
    "\n",
    "import pandas as pd\n",
    "import numpy as np\n",
    "import matplotlib.pyplot as plt\n",
    "\n",
    "from sklearn import svm\n",
    "from sklearn.preprocessing import scale\n",
    "from sklearn.model_selection import StratifiedShuffleSplit, GridSearchCV, train_test_split\n",
    "\n",
    "import hervpd as hp"
   ]
  },
  {
   "cell_type": "code",
   "execution_count": 40,
   "metadata": {},
   "outputs": [
    {
     "name": "stdout",
     "output_type": "stream",
     "text": [
      "['eat' 'focused-active' 'focused-passive' 'household-chores'\n",
      " 'leisure-active' 'leisure-passive' 'movement' 'sleep' 'rest-active']\n"
     ]
    },
    {
     "data": {
      "text/html": [
       "<div>\n",
       "<style>\n",
       "    .dataframe thead tr:only-child th {\n",
       "        text-align: right;\n",
       "    }\n",
       "\n",
       "    .dataframe thead th {\n",
       "        text-align: left;\n",
       "    }\n",
       "\n",
       "    .dataframe tbody tr th {\n",
       "        vertical-align: top;\n",
       "    }\n",
       "</style>\n",
       "<table border=\"1\" class=\"dataframe\">\n",
       "  <thead>\n",
       "    <tr style=\"text-align: right;\">\n",
       "      <th></th>\n",
       "      <th>user</th>\n",
       "      <th>AVGNN</th>\n",
       "      <th>SDNN</th>\n",
       "      <th>MeanHR</th>\n",
       "      <th>MinHR</th>\n",
       "      <th>MaxHR</th>\n",
       "      <th>RMSSD</th>\n",
       "      <th>pNNxx</th>\n",
       "      <th>TINN</th>\n",
       "      <th>powerVLF</th>\n",
       "      <th>powerLF</th>\n",
       "      <th>powerHF</th>\n",
       "      <th>ratioHFLF</th>\n",
       "    </tr>\n",
       "  </thead>\n",
       "  <tbody>\n",
       "    <tr>\n",
       "      <th>count</th>\n",
       "      <td>544.000000</td>\n",
       "      <td>544.000000</td>\n",
       "      <td>544.000000</td>\n",
       "      <td>544.00000</td>\n",
       "      <td>544.000000</td>\n",
       "      <td>544.000000</td>\n",
       "      <td>544.000000</td>\n",
       "      <td>544.000000</td>\n",
       "      <td>544.000000</td>\n",
       "      <td>544.000000</td>\n",
       "      <td>544.000000</td>\n",
       "      <td>544.000000</td>\n",
       "      <td>544.000000</td>\n",
       "    </tr>\n",
       "    <tr>\n",
       "      <th>mean</th>\n",
       "      <td>1.187500</td>\n",
       "      <td>758.600000</td>\n",
       "      <td>72.865018</td>\n",
       "      <td>81.37714</td>\n",
       "      <td>67.362033</td>\n",
       "      <td>108.560417</td>\n",
       "      <td>46.409227</td>\n",
       "      <td>20.082227</td>\n",
       "      <td>358.020221</td>\n",
       "      <td>2877.387599</td>\n",
       "      <td>1423.919671</td>\n",
       "      <td>1000.824001</td>\n",
       "      <td>2.753764</td>\n",
       "    </tr>\n",
       "    <tr>\n",
       "      <th>std</th>\n",
       "      <td>0.913249</td>\n",
       "      <td>129.785003</td>\n",
       "      <td>32.960406</td>\n",
       "      <td>13.75457</td>\n",
       "      <td>10.849680</td>\n",
       "      <td>36.385572</td>\n",
       "      <td>32.537407</td>\n",
       "      <td>18.316263</td>\n",
       "      <td>146.885899</td>\n",
       "      <td>3619.576847</td>\n",
       "      <td>1443.217366</td>\n",
       "      <td>1841.656665</td>\n",
       "      <td>2.296974</td>\n",
       "    </tr>\n",
       "    <tr>\n",
       "      <th>min</th>\n",
       "      <td>0.000000</td>\n",
       "      <td>475.730000</td>\n",
       "      <td>17.833000</td>\n",
       "      <td>51.62800</td>\n",
       "      <td>41.437000</td>\n",
       "      <td>58.117000</td>\n",
       "      <td>4.882500</td>\n",
       "      <td>0.000000</td>\n",
       "      <td>83.000000</td>\n",
       "      <td>85.654000</td>\n",
       "      <td>57.852000</td>\n",
       "      <td>7.977700</td>\n",
       "      <td>0.154680</td>\n",
       "    </tr>\n",
       "    <tr>\n",
       "      <th>25%</th>\n",
       "      <td>0.000000</td>\n",
       "      <td>670.362500</td>\n",
       "      <td>51.871500</td>\n",
       "      <td>73.23225</td>\n",
       "      <td>60.292750</td>\n",
       "      <td>91.470250</td>\n",
       "      <td>27.438750</td>\n",
       "      <td>6.593075</td>\n",
       "      <td>258.000000</td>\n",
       "      <td>995.182500</td>\n",
       "      <td>591.307500</td>\n",
       "      <td>258.917500</td>\n",
       "      <td>1.257000</td>\n",
       "    </tr>\n",
       "    <tr>\n",
       "      <th>50%</th>\n",
       "      <td>2.000000</td>\n",
       "      <td>750.545000</td>\n",
       "      <td>67.057000</td>\n",
       "      <td>79.94200</td>\n",
       "      <td>66.181500</td>\n",
       "      <td>100.520000</td>\n",
       "      <td>37.994500</td>\n",
       "      <td>15.417500</td>\n",
       "      <td>339.000000</td>\n",
       "      <td>1807.950000</td>\n",
       "      <td>1040.350000</td>\n",
       "      <td>512.090000</td>\n",
       "      <td>2.037350</td>\n",
       "    </tr>\n",
       "    <tr>\n",
       "      <th>75%</th>\n",
       "      <td>2.000000</td>\n",
       "      <td>819.307500</td>\n",
       "      <td>85.820000</td>\n",
       "      <td>89.50400</td>\n",
       "      <td>74.285250</td>\n",
       "      <td>112.580000</td>\n",
       "      <td>54.762250</td>\n",
       "      <td>26.790500</td>\n",
       "      <td>426.250000</td>\n",
       "      <td>3304.250000</td>\n",
       "      <td>1697.950000</td>\n",
       "      <td>960.045000</td>\n",
       "      <td>3.579975</td>\n",
       "    </tr>\n",
       "    <tr>\n",
       "      <th>max</th>\n",
       "      <td>2.000000</td>\n",
       "      <td>1162.200000</td>\n",
       "      <td>264.250000</td>\n",
       "      <td>126.12000</td>\n",
       "      <td>104.900000</td>\n",
       "      <td>550.320000</td>\n",
       "      <td>240.470000</td>\n",
       "      <td>98.232000</td>\n",
       "      <td>1103.000000</td>\n",
       "      <td>29716.000000</td>\n",
       "      <td>12958.000000</td>\n",
       "      <td>16103.000000</td>\n",
       "      <td>18.228000</td>\n",
       "    </tr>\n",
       "  </tbody>\n",
       "</table>\n",
       "</div>"
      ],
      "text/plain": [
       "             user        AVGNN        SDNN     MeanHR       MinHR       MaxHR  \\\n",
       "count  544.000000   544.000000  544.000000  544.00000  544.000000  544.000000   \n",
       "mean     1.187500   758.600000   72.865018   81.37714   67.362033  108.560417   \n",
       "std      0.913249   129.785003   32.960406   13.75457   10.849680   36.385572   \n",
       "min      0.000000   475.730000   17.833000   51.62800   41.437000   58.117000   \n",
       "25%      0.000000   670.362500   51.871500   73.23225   60.292750   91.470250   \n",
       "50%      2.000000   750.545000   67.057000   79.94200   66.181500  100.520000   \n",
       "75%      2.000000   819.307500   85.820000   89.50400   74.285250  112.580000   \n",
       "max      2.000000  1162.200000  264.250000  126.12000  104.900000  550.320000   \n",
       "\n",
       "            RMSSD       pNNxx         TINN      powerVLF       powerLF  \\\n",
       "count  544.000000  544.000000   544.000000    544.000000    544.000000   \n",
       "mean    46.409227   20.082227   358.020221   2877.387599   1423.919671   \n",
       "std     32.537407   18.316263   146.885899   3619.576847   1443.217366   \n",
       "min      4.882500    0.000000    83.000000     85.654000     57.852000   \n",
       "25%     27.438750    6.593075   258.000000    995.182500    591.307500   \n",
       "50%     37.994500   15.417500   339.000000   1807.950000   1040.350000   \n",
       "75%     54.762250   26.790500   426.250000   3304.250000   1697.950000   \n",
       "max    240.470000   98.232000  1103.000000  29716.000000  12958.000000   \n",
       "\n",
       "            powerHF   ratioHFLF  \n",
       "count    544.000000  544.000000  \n",
       "mean    1000.824001    2.753764  \n",
       "std     1841.656665    2.296974  \n",
       "min        7.977700    0.154680  \n",
       "25%      258.917500    1.257000  \n",
       "50%      512.090000    2.037350  \n",
       "75%      960.045000    3.579975  \n",
       "max    16103.000000   18.228000  "
      ]
     },
     "execution_count": 40,
     "metadata": {},
     "output_type": "execute_result"
    }
   ],
   "source": [
    "df = pd.read_csv( 'data/12features/combined.csv')\n",
    "print(df.activity.unique())\n",
    "df.describe()"
   ]
  },
  {
   "cell_type": "code",
   "execution_count": 41,
   "metadata": {},
   "outputs": [
    {
     "data": {
      "text/plain": [
       "activity\n",
       "eat                 53\n",
       "focused-active      88\n",
       "focused-passive     73\n",
       "household-chores    68\n",
       "leisure-active      14\n",
       "leisure-passive     89\n",
       "movement            65\n",
       "rest-active         19\n",
       "sleep               75\n",
       "Name: user, dtype: int64"
      ]
     },
     "execution_count": 41,
     "metadata": {},
     "output_type": "execute_result"
    }
   ],
   "source": [
    "hp.countExamplesByActivity(df)"
   ]
  },
  {
   "cell_type": "markdown",
   "metadata": {},
   "source": [
    "### Apply scale to make all features go to mean = 0 and SD = 1. That will allow SVM kernels not to put too much weight on features with larger values."
   ]
  },
  {
   "cell_type": "code",
   "execution_count": 42,
   "metadata": {},
   "outputs": [
    {
     "name": "stderr",
     "output_type": "stream",
     "text": [
      "C:\\Users\\julia\\Anaconda3\\lib\\site-packages\\sklearn\\utils\\validation.py:444: DataConversionWarning: Data with input dtype int64 was converted to float64 by the scale function.\n",
      "  warnings.warn(msg, DataConversionWarning)\n",
      "C:\\Users\\julia\\Anaconda3\\lib\\site-packages\\pandas\\core\\indexing.py:517: SettingWithCopyWarning: \n",
      "A value is trying to be set on a copy of a slice from a DataFrame.\n",
      "Try using .loc[row_indexer,col_indexer] = value instead\n",
      "\n",
      "See the caveats in the documentation: http://pandas.pydata.org/pandas-docs/stable/indexing.html#indexing-view-versus-copy\n",
      "  self.obj[item] = s\n"
     ]
    },
    {
     "data": {
      "text/html": [
       "<div>\n",
       "<style>\n",
       "    .dataframe thead tr:only-child th {\n",
       "        text-align: right;\n",
       "    }\n",
       "\n",
       "    .dataframe thead th {\n",
       "        text-align: left;\n",
       "    }\n",
       "\n",
       "    .dataframe tbody tr th {\n",
       "        vertical-align: top;\n",
       "    }\n",
       "</style>\n",
       "<table border=\"1\" class=\"dataframe\">\n",
       "  <thead>\n",
       "    <tr style=\"text-align: right;\">\n",
       "      <th></th>\n",
       "      <th>user</th>\n",
       "      <th>AVGNN</th>\n",
       "      <th>SDNN</th>\n",
       "      <th>MeanHR</th>\n",
       "      <th>MinHR</th>\n",
       "      <th>MaxHR</th>\n",
       "      <th>RMSSD</th>\n",
       "      <th>pNNxx</th>\n",
       "      <th>TINN</th>\n",
       "      <th>powerVLF</th>\n",
       "      <th>powerLF</th>\n",
       "      <th>powerHF</th>\n",
       "      <th>ratioHFLF</th>\n",
       "    </tr>\n",
       "  </thead>\n",
       "  <tbody>\n",
       "    <tr>\n",
       "      <th>count</th>\n",
       "      <td>544.000000</td>\n",
       "      <td>5.440000e+02</td>\n",
       "      <td>5.440000e+02</td>\n",
       "      <td>5.440000e+02</td>\n",
       "      <td>5.440000e+02</td>\n",
       "      <td>5.440000e+02</td>\n",
       "      <td>5.440000e+02</td>\n",
       "      <td>5.440000e+02</td>\n",
       "      <td>5.440000e+02</td>\n",
       "      <td>5.440000e+02</td>\n",
       "      <td>5.440000e+02</td>\n",
       "      <td>5.440000e+02</td>\n",
       "      <td>5.440000e+02</td>\n",
       "    </tr>\n",
       "    <tr>\n",
       "      <th>mean</th>\n",
       "      <td>1.187500</td>\n",
       "      <td>-2.424531e-16</td>\n",
       "      <td>-6.612358e-17</td>\n",
       "      <td>1.183694e-17</td>\n",
       "      <td>5.698056e-16</td>\n",
       "      <td>-2.314325e-16</td>\n",
       "      <td>8.245039e-17</td>\n",
       "      <td>-1.857175e-17</td>\n",
       "      <td>1.714315e-17</td>\n",
       "      <td>3.183728e-17</td>\n",
       "      <td>7.836868e-17</td>\n",
       "      <td>-1.751050e-16</td>\n",
       "      <td>3.673532e-18</td>\n",
       "    </tr>\n",
       "    <tr>\n",
       "      <th>std</th>\n",
       "      <td>0.913249</td>\n",
       "      <td>1.000920e+00</td>\n",
       "      <td>1.000920e+00</td>\n",
       "      <td>1.000920e+00</td>\n",
       "      <td>1.000920e+00</td>\n",
       "      <td>1.000920e+00</td>\n",
       "      <td>1.000920e+00</td>\n",
       "      <td>1.000920e+00</td>\n",
       "      <td>1.000920e+00</td>\n",
       "      <td>1.000920e+00</td>\n",
       "      <td>1.000920e+00</td>\n",
       "      <td>1.000920e+00</td>\n",
       "      <td>1.000920e+00</td>\n",
       "    </tr>\n",
       "    <tr>\n",
       "      <th>min</th>\n",
       "      <td>0.000000</td>\n",
       "      <td>-2.843791e+00</td>\n",
       "      <td>-2.873066e+00</td>\n",
       "      <td>-2.460395e+00</td>\n",
       "      <td>-2.553288e+00</td>\n",
       "      <td>-2.698142e+00</td>\n",
       "      <td>-2.905886e+00</td>\n",
       "      <td>-2.207686e+00</td>\n",
       "      <td>-2.721551e+00</td>\n",
       "      <td>-1.275233e+00</td>\n",
       "      <td>-1.467678e+00</td>\n",
       "      <td>-1.552781e+00</td>\n",
       "      <td>-1.441435e+00</td>\n",
       "    </tr>\n",
       "    <tr>\n",
       "      <th>25%</th>\n",
       "      <td>0.000000</td>\n",
       "      <td>-6.640136e-01</td>\n",
       "      <td>-7.040336e-01</td>\n",
       "      <td>-6.410388e-01</td>\n",
       "      <td>-6.684354e-01</td>\n",
       "      <td>-5.597017e-01</td>\n",
       "      <td>-7.309028e-01</td>\n",
       "      <td>-7.525458e-01</td>\n",
       "      <td>-6.982344e-01</td>\n",
       "      <td>-5.539669e-01</td>\n",
       "      <td>-5.772820e-01</td>\n",
       "      <td>-5.662694e-01</td>\n",
       "      <td>-6.796624e-01</td>\n",
       "    </tr>\n",
       "    <tr>\n",
       "      <th>50%</th>\n",
       "      <td>2.000000</td>\n",
       "      <td>-6.551660e-02</td>\n",
       "      <td>-1.676111e-01</td>\n",
       "      <td>-9.715803e-02</td>\n",
       "      <td>-4.039264e-02</td>\n",
       "      <td>-1.973524e-01</td>\n",
       "      <td>-1.655967e-01</td>\n",
       "      <td>-2.414187e-01</td>\n",
       "      <td>-1.085526e-01</td>\n",
       "      <td>-3.065940e-01</td>\n",
       "      <td>-3.017131e-01</td>\n",
       "      <td>-3.295817e-01</td>\n",
       "      <td>-2.990694e-01</td>\n",
       "    </tr>\n",
       "    <tr>\n",
       "      <th>75%</th>\n",
       "      <td>2.000000</td>\n",
       "      <td>5.280744e-01</td>\n",
       "      <td>4.666745e-01</td>\n",
       "      <td>5.956143e-01</td>\n",
       "      <td>5.992392e-01</td>\n",
       "      <td>4.212228e-01</td>\n",
       "      <td>5.763606e-01</td>\n",
       "      <td>4.514282e-01</td>\n",
       "      <td>5.244985e-01</td>\n",
       "      <td>1.528431e-01</td>\n",
       "      <td>1.965599e-01</td>\n",
       "      <td>3.533213e-01</td>\n",
       "      <td>3.809616e-01</td>\n",
       "    </tr>\n",
       "    <tr>\n",
       "      <th>max</th>\n",
       "      <td>2.000000</td>\n",
       "      <td>3.751426e+00</td>\n",
       "      <td>4.527089e+00</td>\n",
       "      <td>3.880179e+00</td>\n",
       "      <td>5.022477e+00</td>\n",
       "      <td>8.017630e+00</td>\n",
       "      <td>4.081758e+00</td>\n",
       "      <td>4.119800e+00</td>\n",
       "      <td>3.771926e+00</td>\n",
       "      <td>6.268217e+00</td>\n",
       "      <td>5.816620e+00</td>\n",
       "      <td>6.204422e+00</td>\n",
       "      <td>5.978021e+00</td>\n",
       "    </tr>\n",
       "  </tbody>\n",
       "</table>\n",
       "</div>"
      ],
      "text/plain": [
       "             user         AVGNN          SDNN        MeanHR         MinHR  \\\n",
       "count  544.000000  5.440000e+02  5.440000e+02  5.440000e+02  5.440000e+02   \n",
       "mean     1.187500 -2.424531e-16 -6.612358e-17  1.183694e-17  5.698056e-16   \n",
       "std      0.913249  1.000920e+00  1.000920e+00  1.000920e+00  1.000920e+00   \n",
       "min      0.000000 -2.843791e+00 -2.873066e+00 -2.460395e+00 -2.553288e+00   \n",
       "25%      0.000000 -6.640136e-01 -7.040336e-01 -6.410388e-01 -6.684354e-01   \n",
       "50%      2.000000 -6.551660e-02 -1.676111e-01 -9.715803e-02 -4.039264e-02   \n",
       "75%      2.000000  5.280744e-01  4.666745e-01  5.956143e-01  5.992392e-01   \n",
       "max      2.000000  3.751426e+00  4.527089e+00  3.880179e+00  5.022477e+00   \n",
       "\n",
       "              MaxHR         RMSSD         pNNxx          TINN      powerVLF  \\\n",
       "count  5.440000e+02  5.440000e+02  5.440000e+02  5.440000e+02  5.440000e+02   \n",
       "mean  -2.314325e-16  8.245039e-17 -1.857175e-17  1.714315e-17  3.183728e-17   \n",
       "std    1.000920e+00  1.000920e+00  1.000920e+00  1.000920e+00  1.000920e+00   \n",
       "min   -2.698142e+00 -2.905886e+00 -2.207686e+00 -2.721551e+00 -1.275233e+00   \n",
       "25%   -5.597017e-01 -7.309028e-01 -7.525458e-01 -6.982344e-01 -5.539669e-01   \n",
       "50%   -1.973524e-01 -1.655967e-01 -2.414187e-01 -1.085526e-01 -3.065940e-01   \n",
       "75%    4.212228e-01  5.763606e-01  4.514282e-01  5.244985e-01  1.528431e-01   \n",
       "max    8.017630e+00  4.081758e+00  4.119800e+00  3.771926e+00  6.268217e+00   \n",
       "\n",
       "            powerLF       powerHF     ratioHFLF  \n",
       "count  5.440000e+02  5.440000e+02  5.440000e+02  \n",
       "mean   7.836868e-17 -1.751050e-16  3.673532e-18  \n",
       "std    1.000920e+00  1.000920e+00  1.000920e+00  \n",
       "min   -1.467678e+00 -1.552781e+00 -1.441435e+00  \n",
       "25%   -5.772820e-01 -5.662694e-01 -6.796624e-01  \n",
       "50%   -3.017131e-01 -3.295817e-01 -2.990694e-01  \n",
       "75%    1.965599e-01  3.533213e-01  3.809616e-01  \n",
       "max    5.816620e+00  6.204422e+00  5.978021e+00  "
      ]
     },
     "execution_count": 42,
     "metadata": {},
     "output_type": "execute_result"
    }
   ],
   "source": [
    "#df.iloc[:, 3:15] = df.iloc[:, 3:15].apply(lambda x: scale(x))\n",
    "df = hp.scaleWithinUser(df)\n",
    "df.describe()"
   ]
  },
  {
   "cell_type": "markdown",
   "metadata": {},
   "source": [
    "### Test dataset will have 20% of examples, the other 80% will be for training (with cross-validation)"
   ]
  },
  {
   "cell_type": "code",
   "execution_count": 43,
   "metadata": {},
   "outputs": [
    {
     "name": "stdout",
     "output_type": "stream",
     "text": [
      "435 109\n"
     ]
    }
   ],
   "source": [
    "train, test = train_test_split(df, test_size=0.2)\n",
    "print (len(train), len(test))"
   ]
  },
  {
   "cell_type": "markdown",
   "metadata": {},
   "source": [
    "### 3 - Model selection:  Perform an exhaustive search, with k-fold cross-validation,  in the space parameter consisting of:\n",
    "* $C = 10^{i}, com -1 \\leq i \\leq 6$, for both linear and RBF kernels\n",
    "* $\\gamma = 10^{i}, com -3 \\leq i \\leq 3$, for RBF kernel."
   ]
  },
  {
   "cell_type": "code",
   "execution_count": 44,
   "metadata": {
    "collapsed": true
   },
   "outputs": [],
   "source": [
    "crossval = StratifiedShuffleSplit(n_splits=4, test_size=0.2)\n",
    "\n",
    "c_range = np.logspace(-1, 2, 4) \n",
    "gamma_range = np.logspace(-2, 1, 4)\n",
    "\n",
    "param_lin=dict(C=c_range)\n",
    "param_rbf=dict(C=c_range, gamma=gamma_range)\n"
   ]
  },
  {
   "cell_type": "code",
   "execution_count": 45,
   "metadata": {},
   "outputs": [
    {
     "name": "stdout",
     "output_type": "stream",
     "text": [
      "Kernel linear --- \n",
      "Best params: {'C': 1.0} with score 0.39943\n",
      "                  precision    recall  f1-score   support\n",
      "\n",
      "             eat       0.44      0.36      0.40        11\n",
      "  focused-active       0.37      0.44      0.40        16\n",
      " focused-passive       0.33      0.22      0.27        18\n",
      "household-chores       0.20      0.21      0.21        14\n",
      "  leisure-active       0.00      0.00      0.00         3\n",
      " leisure-passive       0.29      0.69      0.41        13\n",
      "        movement       0.57      0.50      0.53        16\n",
      "     rest-active       0.00      0.00      0.00         6\n",
      "           sleep       0.67      0.50      0.57        12\n",
      "\n",
      "     avg / total       0.37      0.38      0.36       109\n",
      "\n"
     ]
    },
    {
     "name": "stderr",
     "output_type": "stream",
     "text": [
      "C:\\Users\\julia\\Anaconda3\\lib\\site-packages\\sklearn\\metrics\\classification.py:1135: UndefinedMetricWarning: Precision and F-score are ill-defined and being set to 0.0 in labels with no predicted samples.\n",
      "  'precision', 'predicted', average, warn_for)\n"
     ]
    }
   ],
   "source": [
    "grid_lin = GridSearchCV(svm.SVC(kernel='linear', cache_size=1000), param_grid=param_lin, cv=crossval)\n",
    "grid_lin.fit(X=train.iloc[:, 3:15], y=train['activity'])\n",
    "\n",
    "print(\"Kernel linear --- \")\n",
    "print(\"Best params: %s with score %0.5f\" % (grid_lin.best_params_, grid_lin.best_score_))\n",
    "\n",
    "clf1 = svm.SVC(kernel='linear', cache_size=1000, C=grid_lin.best_params_['C'])\n",
    "clf1.fit(X=train.iloc[:, 3:15], y=train['activity'])\n",
    "hp.report(test, clf1.predict(test.iloc[:, 3:15]))"
   ]
  },
  {
   "cell_type": "code",
   "execution_count": 46,
   "metadata": {},
   "outputs": [
    {
     "name": "stdout",
     "output_type": "stream",
     "text": [
      "Kernel RBF --- \n",
      "Best params: {'C': 10.0, 'gamma': 0.10000000000000001} with score 0.45402\n",
      "                  precision    recall  f1-score   support\n",
      "\n",
      "             eat       0.43      0.27      0.33        11\n",
      "  focused-active       0.38      0.50      0.43        16\n",
      " focused-passive       0.35      0.39      0.37        18\n",
      "household-chores       0.42      0.57      0.48        14\n",
      "  leisure-active       0.00      0.00      0.00         3\n",
      " leisure-passive       0.29      0.31      0.30        13\n",
      "        movement       0.73      0.69      0.71        16\n",
      "     rest-active       0.00      0.00      0.00         6\n",
      "           sleep       0.75      0.75      0.75        12\n",
      "\n",
      "     avg / total       0.44      0.46      0.44       109\n",
      "\n"
     ]
    },
    {
     "name": "stderr",
     "output_type": "stream",
     "text": [
      "C:\\Users\\julia\\Anaconda3\\lib\\site-packages\\sklearn\\metrics\\classification.py:1135: UndefinedMetricWarning: Precision and F-score are ill-defined and being set to 0.0 in labels with no predicted samples.\n",
      "  'precision', 'predicted', average, warn_for)\n"
     ]
    }
   ],
   "source": [
    "grid_rbf = GridSearchCV(svm.SVC(kernel='rbf', cache_size=1000), param_grid=param_rbf, cv=crossval)\n",
    "grid_rbf.fit(X=train.iloc[:, 3:15], y=train['activity'])\n",
    "\n",
    "print(\"Kernel RBF --- \")\n",
    "print(\"Best params: %s with score %0.5f\" % (grid_rbf.best_params_, grid_rbf.best_score_))\n",
    "\n",
    "clf2 = svm.SVC(kernel='rbf', cache_size=1000, C=grid_rbf.best_params_['C'], gamma=grid_rbf.best_params_['gamma'])\n",
    "clf2.fit(X=train.iloc[:, 3:15], y=train['activity'])\n",
    "hp.report(test, clf2.predict(test.iloc[:, 3:15]))"
   ]
  },
  {
   "cell_type": "code",
   "execution_count": 47,
   "metadata": {},
   "outputs": [
    {
     "name": "stdout",
     "output_type": "stream",
     "text": [
      "                  precision    recall  f1-score   support\n",
      "\n",
      "             eat       0.00      0.00      0.00        11\n",
      "  focused-active       0.25      0.06      0.10        16\n",
      " focused-passive       0.00      0.00      0.00        18\n",
      "household-chores       0.58      0.50      0.54        14\n",
      "  leisure-active       0.00      0.00      0.00         3\n",
      " leisure-passive       0.18      1.00      0.31        13\n",
      "        movement       0.80      0.50      0.62        16\n",
      "     rest-active       0.00      0.00      0.00         6\n",
      "           sleep       1.00      0.58      0.74        12\n",
      "\n",
      "     avg / total       0.36      0.33      0.29       109\n",
      "\n"
     ]
    },
    {
     "name": "stderr",
     "output_type": "stream",
     "text": [
      "C:\\Users\\julia\\Anaconda3\\lib\\site-packages\\sklearn\\metrics\\classification.py:1135: UndefinedMetricWarning: Precision and F-score are ill-defined and being set to 0.0 in labels with no predicted samples.\n",
      "  'precision', 'predicted', average, warn_for)\n"
     ]
    }
   ],
   "source": [
    "clf3 = svm.SVC(kernel='poly', cache_size=1000, C=grid_lin.best_params_['C'])\n",
    "clf3.fit(X=train.iloc[:, 3:15], y=train['activity'])\n",
    "hp.report(test, clf3.predict(test.iloc[:, 3:15]))"
   ]
  },
  {
   "cell_type": "markdown",
   "metadata": {},
   "source": [
    "\n",
    "## Now, we can run the same steps above with multiple experiments! Time to have fun!!"
   ]
  },
  {
   "cell_type": "code",
   "execution_count": 78,
   "metadata": {
    "scrolled": true
   },
   "outputs": [
    {
     "name": "stdout",
     "output_type": "stream",
     "text": [
      "activity\n",
      "eat                 53\n",
      "focused-active      88\n",
      "focused-passive     73\n",
      "household-chores    68\n",
      "leisure-passive     89\n",
      "movement            65\n",
      "sleep               75\n",
      "Name: user, dtype: int64\n"
     ]
    }
   ],
   "source": [
    "# exclude from df activities with too few examples\n",
    "\n",
    "df = pd.read_csv( 'data/12features/combined.csv')\n",
    "df = hp.excludeActivities(df, ['leisure-active',  'rest-active'])\n",
    "print(hp.countExamplesByActivity(df))"
   ]
  },
  {
   "cell_type": "code",
   "execution_count": 79,
   "metadata": {},
   "outputs": [
    {
     "name": "stderr",
     "output_type": "stream",
     "text": [
      "C:\\Users\\julia\\Anaconda3\\lib\\site-packages\\sklearn\\utils\\validation.py:444: DataConversionWarning: Data with input dtype int64 was converted to float64 by the scale function.\n",
      "  warnings.warn(msg, DataConversionWarning)\n",
      "C:\\Users\\julia\\Anaconda3\\lib\\site-packages\\pandas\\core\\indexing.py:517: SettingWithCopyWarning: \n",
      "A value is trying to be set on a copy of a slice from a DataFrame.\n",
      "Try using .loc[row_indexer,col_indexer] = value instead\n",
      "\n",
      "See the caveats in the documentation: http://pandas.pydata.org/pandas-docs/stable/indexing.html#indexing-view-versus-copy\n",
      "  self.obj[item] = s\n"
     ]
    },
    {
     "name": "stdout",
     "output_type": "stream",
     "text": [
      "408 train examples and 103 test examples\n",
      "Best params for linear kernel: {'C': 10.0} with score 0.40549\n",
      "--- test results for linear kernel:\n",
      "                  precision    recall  f1-score   support\n",
      "\n",
      "             eat       0.88      0.44      0.58        16\n",
      "  focused-active       0.34      0.56      0.43        18\n",
      " focused-passive       0.35      0.58      0.44        12\n",
      "household-chores       0.38      0.42      0.40        12\n",
      " leisure-passive       0.25      0.19      0.21        16\n",
      "        movement       0.67      0.33      0.44        12\n",
      "           sleep       0.67      0.59      0.62        17\n",
      "\n",
      "     avg / total       0.51      0.45      0.45       103\n",
      "\n",
      "Best params for RBF kernel: {'C': 10.0, 'gamma': 0.10000000000000001} with score 0.48171\n",
      "--- test results for RBF kernel:\n",
      "                  precision    recall  f1-score   support\n",
      "\n",
      "             eat       0.71      0.31      0.43        16\n",
      "  focused-active       0.39      0.50      0.44        18\n",
      " focused-passive       0.40      0.50      0.44        12\n",
      "household-chores       0.47      0.67      0.55        12\n",
      " leisure-passive       0.31      0.31      0.31        16\n",
      "        movement       0.67      0.50      0.57        12\n",
      "           sleep       0.88      0.82      0.85        17\n",
      "\n",
      "     avg / total       0.55      0.51      0.52       103\n",
      "\n"
     ]
    }
   ],
   "source": [
    "hp.runFlow(df)"
   ]
  },
  {
   "cell_type": "code",
   "execution_count": 25,
   "metadata": {},
   "outputs": [
    {
     "name": "stdout",
     "output_type": "stream",
     "text": [
      "CLASSFIER FOR USER 0\n",
      "136 train examples and 35 test examples\n",
      "Best params for linear kernel: {'C': 10.0} with score 0.53571\n",
      "--- test results for linear kernel:\n",
      "                  precision    recall  f1-score   support\n",
      "\n",
      "             eat       0.00      0.00      0.00         0\n",
      "  focused-active       0.40      0.50      0.44         4\n",
      " focused-passive       0.58      0.70      0.64        10\n",
      "household-chores       0.33      0.75      0.46         4\n",
      " leisure-passive       0.25      0.25      0.25         4\n",
      "        movement       1.00      0.14      0.25         7\n",
      "           sleep       1.00      0.50      0.67         6\n",
      "\n",
      "     avg / total       0.65      0.49      0.48        35\n",
      "\n"
     ]
    },
    {
     "name": "stderr",
     "output_type": "stream",
     "text": [
      "C:\\Users\\julia\\Anaconda3\\lib\\site-packages\\sklearn\\utils\\validation.py:444: DataConversionWarning: Data with input dtype int64 was converted to float64 by the scale function.\n",
      "  warnings.warn(msg, DataConversionWarning)\n",
      "C:\\Users\\julia\\Anaconda3\\lib\\site-packages\\sklearn\\metrics\\classification.py:1137: UndefinedMetricWarning: Recall and F-score are ill-defined and being set to 0.0 in labels with no true samples.\n",
      "  'recall', 'true', average, warn_for)\n"
     ]
    },
    {
     "name": "stdout",
     "output_type": "stream",
     "text": [
      "Best params for RBF kernel: {'C': 1.0, 'gamma': 0.10000000000000001} with score 0.60714\n",
      "--- test results for RBF kernel:\n",
      "                  precision    recall  f1-score   support\n",
      "\n",
      "  focused-active       1.00      0.50      0.67         4\n",
      " focused-passive       0.60      0.60      0.60        10\n",
      "household-chores       0.38      0.75      0.50         4\n",
      " leisure-passive       0.50      0.50      0.50         4\n",
      "        movement       0.75      0.43      0.55         7\n",
      "           sleep       0.43      0.50      0.46         6\n",
      "\n",
      "     avg / total       0.61      0.54      0.55        35\n",
      "\n",
      "CLASSFIER FOR USER 1\n",
      "57 train examples and 15 test examples\n",
      "Best params for linear kernel: {'C': 1.0} with score 0.64583\n",
      "--- test results for linear kernel:\n",
      "                 precision    recall  f1-score   support\n",
      "\n",
      "            eat       0.50      0.50      0.50         2\n",
      " focused-active       0.67      0.33      0.44         6\n",
      "leisure-passive       0.56      0.83      0.67         6\n",
      "       movement       1.00      1.00      1.00         1\n",
      "\n",
      "    avg / total       0.62      0.60      0.58        15\n",
      "\n",
      "Best params for RBF kernel: {'C': 100.0, 'gamma': 0.01} with score 0.75000\n",
      "--- test results for RBF kernel:\n",
      "                 precision    recall  f1-score   support\n",
      "\n",
      "            eat       0.50      1.00      0.67         2\n",
      " focused-active       1.00      0.50      0.67         6\n",
      "leisure-passive       0.71      0.83      0.77         6\n",
      "       movement       1.00      1.00      1.00         1\n",
      "\n",
      "    avg / total       0.82      0.73      0.73        15\n",
      "\n",
      "CLASSFIER FOR USER 2\n"
     ]
    },
    {
     "name": "stderr",
     "output_type": "stream",
     "text": [
      "C:\\Users\\julia\\Anaconda3\\lib\\site-packages\\sklearn\\utils\\validation.py:444: DataConversionWarning: Data with input dtype int64 was converted to float64 by the scale function.\n",
      "  warnings.warn(msg, DataConversionWarning)\n",
      "C:\\Users\\julia\\Anaconda3\\lib\\site-packages\\sklearn\\utils\\validation.py:444: DataConversionWarning: Data with input dtype int64 was converted to float64 by the scale function.\n",
      "  warnings.warn(msg, DataConversionWarning)\n"
     ]
    },
    {
     "name": "stdout",
     "output_type": "stream",
     "text": [
      "214 train examples and 54 test examples\n",
      "Best params for linear kernel: {'C': 0.10000000000000001} with score 0.45349\n",
      "--- test results for linear kernel:\n",
      "                  precision    recall  f1-score   support\n",
      "\n",
      "             eat       0.20      0.25      0.22         8\n",
      "  focused-active       0.30      0.43      0.35         7\n",
      " focused-passive       0.00      0.00      0.00         8\n",
      "household-chores       0.20      0.22      0.21         9\n",
      " leisure-passive       0.29      0.33      0.31         6\n",
      "        movement       0.40      0.29      0.33         7\n",
      "           sleep       1.00      0.89      0.94         9\n",
      "\n",
      "     avg / total       0.35      0.35      0.35        54\n",
      "\n",
      "Best params for RBF kernel: {'C': 10.0, 'gamma': 0.10000000000000001} with score 0.48256\n",
      "--- test results for RBF kernel:\n",
      "                  precision    recall  f1-score   support\n",
      "\n",
      "             eat       0.50      0.62      0.56         8\n",
      "  focused-active       0.86      0.86      0.86         7\n",
      " focused-passive       0.20      0.25      0.22         8\n",
      "household-chores       0.71      0.56      0.63         9\n",
      " leisure-passive       0.33      0.33      0.33         6\n",
      "        movement       0.50      0.57      0.53         7\n",
      "           sleep       1.00      0.67      0.80         9\n",
      "\n",
      "     avg / total       0.60      0.56      0.57        54\n",
      "\n"
     ]
    }
   ],
   "source": [
    "hp.runFlowByUser(df)"
   ]
  },
  {
   "cell_type": "markdown",
   "metadata": {},
   "source": [
    "### 2 - Keeping only work and leisure activities"
   ]
  },
  {
   "cell_type": "code",
   "execution_count": 26,
   "metadata": {},
   "outputs": [
    {
     "data": {
      "text/plain": [
       "activity\n",
       "focused-active     88\n",
       "focused-passive    73\n",
       "leisure-passive    89\n",
       "Name: user, dtype: int64"
      ]
     },
     "execution_count": 26,
     "metadata": {},
     "output_type": "execute_result"
    }
   ],
   "source": [
    "df_reduced = hp.filterActivities(df, ['focused-active', 'focused-passive', 'leisure-passive'])\n",
    "df_reduced.groupby('activity').count()['user']"
   ]
  },
  {
   "cell_type": "code",
   "execution_count": 27,
   "metadata": {},
   "outputs": [
    {
     "name": "stderr",
     "output_type": "stream",
     "text": [
      "C:\\Users\\julia\\Anaconda3\\lib\\site-packages\\sklearn\\utils\\validation.py:444: DataConversionWarning: Data with input dtype int64 was converted to float64 by the scale function.\n",
      "  warnings.warn(msg, DataConversionWarning)\n",
      "C:\\Users\\julia\\Anaconda3\\lib\\site-packages\\pandas\\core\\indexing.py:517: SettingWithCopyWarning: \n",
      "A value is trying to be set on a copy of a slice from a DataFrame.\n",
      "Try using .loc[row_indexer,col_indexer] = value instead\n",
      "\n",
      "See the caveats in the documentation: http://pandas.pydata.org/pandas-docs/stable/indexing.html#indexing-view-versus-copy\n",
      "  self.obj[item] = s\n"
     ]
    },
    {
     "name": "stdout",
     "output_type": "stream",
     "text": [
      "200 train examples and 50 test examples\n",
      "Best params for linear kernel: {'C': 10.0} with score 0.50625\n",
      "--- test results for linear kernel:\n",
      "                 precision    recall  f1-score   support\n",
      "\n",
      " focused-active       0.46      0.71      0.56        17\n",
      "focused-passive       0.62      0.42      0.50        19\n",
      "leisure-passive       0.36      0.29      0.32        14\n",
      "\n",
      "    avg / total       0.49      0.48      0.47        50\n",
      "\n",
      "Best params for RBF kernel: {'C': 100.0, 'gamma': 0.01} with score 0.55625\n",
      "--- test results for RBF kernel:\n",
      "                 precision    recall  f1-score   support\n",
      "\n",
      " focused-active       0.72      0.76      0.74        17\n",
      "focused-passive       0.65      0.58      0.61        19\n",
      "leisure-passive       0.33      0.36      0.34        14\n",
      "\n",
      "    avg / total       0.58      0.58      0.58        50\n",
      "\n"
     ]
    }
   ],
   "source": [
    "hp.runFlow(df_reduced)"
   ]
  },
  {
   "cell_type": "code",
   "execution_count": 29,
   "metadata": {},
   "outputs": [
    {
     "name": "stdout",
     "output_type": "stream",
     "text": [
      "CLASSFIER FOR USER 0\n",
      "61 train examples and 16 test examples\n",
      "Best params for linear kernel: {'C': 0.10000000000000001} with score 0.73077\n",
      "--- test results for linear kernel:\n",
      "                 precision    recall  f1-score   support\n",
      "\n",
      " focused-active       0.50      0.25      0.33         4\n",
      "focused-passive       0.45      0.83      0.59         6\n",
      "leisure-passive       0.67      0.33      0.44         6\n",
      "\n",
      "    avg / total       0.55      0.50      0.47        16\n",
      "\n"
     ]
    },
    {
     "name": "stderr",
     "output_type": "stream",
     "text": [
      "C:\\Users\\julia\\Anaconda3\\lib\\site-packages\\sklearn\\utils\\validation.py:444: DataConversionWarning: Data with input dtype int64 was converted to float64 by the scale function.\n",
      "  warnings.warn(msg, DataConversionWarning)\n"
     ]
    },
    {
     "name": "stdout",
     "output_type": "stream",
     "text": [
      "Best params for RBF kernel: {'C': 10.0, 'gamma': 0.01} with score 0.65385\n",
      "--- test results for RBF kernel:\n",
      "                 precision    recall  f1-score   support\n",
      "\n",
      " focused-active       0.50      0.25      0.33         4\n",
      "focused-passive       0.45      0.83      0.59         6\n",
      "leisure-passive       0.67      0.33      0.44         6\n",
      "\n",
      "    avg / total       0.55      0.50      0.47        16\n",
      "\n",
      "CLASSFIER FOR USER 1\n",
      "43 train examples and 11 test examples\n",
      "Best params for linear kernel: {'C': 10.0} with score 0.55556\n",
      "--- test results for linear kernel:\n",
      "                 precision    recall  f1-score   support\n",
      "\n",
      " focused-active       0.67      1.00      0.80         4\n",
      "leisure-passive       1.00      0.71      0.83         7\n",
      "\n",
      "    avg / total       0.88      0.82      0.82        11\n",
      "\n"
     ]
    },
    {
     "name": "stderr",
     "output_type": "stream",
     "text": [
      "C:\\Users\\julia\\Anaconda3\\lib\\site-packages\\sklearn\\utils\\validation.py:444: DataConversionWarning: Data with input dtype int64 was converted to float64 by the scale function.\n",
      "  warnings.warn(msg, DataConversionWarning)\n"
     ]
    },
    {
     "name": "stdout",
     "output_type": "stream",
     "text": [
      "Best params for RBF kernel: {'C': 1.0, 'gamma': 0.10000000000000001} with score 0.72222\n",
      "--- test results for RBF kernel:\n",
      "                 precision    recall  f1-score   support\n",
      "\n",
      " focused-active       1.00      0.75      0.86         4\n",
      "leisure-passive       0.88      1.00      0.93         7\n",
      "\n",
      "    avg / total       0.92      0.91      0.91        11\n",
      "\n",
      "CLASSFIER FOR USER 2\n",
      "95 train examples and 24 test examples\n",
      "Best params for linear kernel: {'C': 0.10000000000000001} with score 0.53947\n",
      "--- test results for linear kernel:\n",
      "                 precision    recall  f1-score   support\n",
      "\n",
      " focused-active       0.60      0.33      0.43         9\n",
      "focused-passive       0.83      0.42      0.56        12\n",
      "leisure-passive       0.08      0.33      0.12         3\n",
      "\n",
      "    avg / total       0.65      0.38      0.45        24\n",
      "\n"
     ]
    },
    {
     "name": "stderr",
     "output_type": "stream",
     "text": [
      "C:\\Users\\julia\\Anaconda3\\lib\\site-packages\\sklearn\\utils\\validation.py:444: DataConversionWarning: Data with input dtype int64 was converted to float64 by the scale function.\n",
      "  warnings.warn(msg, DataConversionWarning)\n"
     ]
    },
    {
     "name": "stdout",
     "output_type": "stream",
     "text": [
      "Best params for RBF kernel: {'C': 100.0, 'gamma': 0.10000000000000001} with score 0.53947\n",
      "--- test results for RBF kernel:\n",
      "                 precision    recall  f1-score   support\n",
      "\n",
      " focused-active       0.71      0.56      0.63         9\n",
      "focused-passive       0.89      0.67      0.76        12\n",
      "leisure-passive       0.12      0.33      0.18         3\n",
      "\n",
      "    avg / total       0.73      0.58      0.64        24\n",
      "\n"
     ]
    }
   ],
   "source": [
    "hp.runFlowByUser(df_reduced)"
   ]
  },
  {
   "cell_type": "markdown",
   "metadata": {},
   "source": [
    "### 2 - Splitting database into movement categories (movement, household chores and exercise) and all others"
   ]
  },
  {
   "cell_type": "code",
   "execution_count": 30,
   "metadata": {},
   "outputs": [
    {
     "data": {
      "text/plain": [
       "move\n",
       "move     133\n",
       "still    378\n",
       "Name: user, dtype: int64"
      ]
     },
     "execution_count": 30,
     "metadata": {},
     "output_type": "execute_result"
    }
   ],
   "source": [
    "includelist = ['movement', 'household-chores']\n",
    "\n",
    "df_move = hp.addPartition(df, includelist, pname='move', labelIn='move', labelOut='still')\n",
    "df_move.groupby('move').count()['user']"
   ]
  },
  {
   "cell_type": "code",
   "execution_count": 31,
   "metadata": {},
   "outputs": [
    {
     "name": "stderr",
     "output_type": "stream",
     "text": [
      "C:\\Users\\julia\\Anaconda3\\lib\\site-packages\\sklearn\\utils\\validation.py:444: DataConversionWarning: Data with input dtype int64 was converted to float64 by the scale function.\n",
      "  warnings.warn(msg, DataConversionWarning)\n",
      "C:\\Users\\julia\\Anaconda3\\lib\\site-packages\\pandas\\core\\indexing.py:517: SettingWithCopyWarning: \n",
      "A value is trying to be set on a copy of a slice from a DataFrame.\n",
      "Try using .loc[row_indexer,col_indexer] = value instead\n",
      "\n",
      "See the caveats in the documentation: http://pandas.pydata.org/pandas-docs/stable/indexing.html#indexing-view-versus-copy\n",
      "  self.obj[item] = s\n"
     ]
    },
    {
     "name": "stdout",
     "output_type": "stream",
     "text": [
      "408 train examples and 103 test examples\n",
      "Best params for linear kernel: {'C': 10.0} with score 0.89024\n",
      "--- test results for linear kernel:\n",
      "             precision    recall  f1-score   support\n",
      "\n",
      "       move       0.80      0.83      0.82        24\n",
      "      still       0.95      0.94      0.94        79\n",
      "\n",
      "avg / total       0.91      0.91      0.91       103\n",
      "\n",
      "Best params for RBF kernel: {'C': 100.0, 'gamma': 0.01} with score 0.88415\n",
      "--- test results for RBF kernel:\n",
      "             precision    recall  f1-score   support\n",
      "\n",
      "       move       0.83      0.83      0.83        24\n",
      "      still       0.95      0.95      0.95        79\n",
      "\n",
      "avg / total       0.92      0.92      0.92       103\n",
      "\n"
     ]
    }
   ],
   "source": [
    "hp.runFlow(df_move, labelName='move')"
   ]
  },
  {
   "cell_type": "code",
   "execution_count": 32,
   "metadata": {},
   "outputs": [
    {
     "name": "stdout",
     "output_type": "stream",
     "text": [
      "CLASSFIER FOR USER 0\n",
      "136 train examples and 35 test examples\n"
     ]
    },
    {
     "name": "stderr",
     "output_type": "stream",
     "text": [
      "C:\\Users\\julia\\Anaconda3\\lib\\site-packages\\sklearn\\utils\\validation.py:444: DataConversionWarning: Data with input dtype int64 was converted to float64 by the scale function.\n",
      "  warnings.warn(msg, DataConversionWarning)\n"
     ]
    },
    {
     "name": "stdout",
     "output_type": "stream",
     "text": [
      "Best params for linear kernel: {'C': 1.0} with score 0.86607\n",
      "--- test results for linear kernel:\n",
      "             precision    recall  f1-score   support\n",
      "\n",
      "       move       0.80      0.80      0.80        10\n",
      "      still       0.92      0.92      0.92        25\n",
      "\n",
      "avg / total       0.89      0.89      0.89        35\n",
      "\n",
      "Best params for RBF kernel: {'C': 1.0, 'gamma': 0.10000000000000001} with score 0.90179\n",
      "--- test results for RBF kernel:\n",
      "             precision    recall  f1-score   support\n",
      "\n",
      "       move       0.88      0.70      0.78        10\n",
      "      still       0.89      0.96      0.92        25\n",
      "\n",
      "avg / total       0.88      0.89      0.88        35\n",
      "\n",
      "CLASSFIER FOR USER 1\n",
      "57 train examples and 15 test examples\n",
      "Best params for linear kernel: {'C': 1.0} with score 0.95833\n",
      "--- test results for linear kernel:\n",
      "             precision    recall  f1-score   support\n",
      "\n",
      "       move       1.00      0.80      0.89         5\n",
      "      still       0.91      1.00      0.95        10\n",
      "\n",
      "avg / total       0.94      0.93      0.93        15\n",
      "\n"
     ]
    },
    {
     "name": "stderr",
     "output_type": "stream",
     "text": [
      "C:\\Users\\julia\\Anaconda3\\lib\\site-packages\\sklearn\\utils\\validation.py:444: DataConversionWarning: Data with input dtype int64 was converted to float64 by the scale function.\n",
      "  warnings.warn(msg, DataConversionWarning)\n"
     ]
    },
    {
     "name": "stdout",
     "output_type": "stream",
     "text": [
      "Best params for RBF kernel: {'C': 10.0, 'gamma': 0.01} with score 0.95833\n",
      "--- test results for RBF kernel:\n",
      "             precision    recall  f1-score   support\n",
      "\n",
      "       move       1.00      0.80      0.89         5\n",
      "      still       0.91      1.00      0.95        10\n",
      "\n",
      "avg / total       0.94      0.93      0.93        15\n",
      "\n",
      "CLASSFIER FOR USER 2\n",
      "214 train examples and 54 test examples\n"
     ]
    },
    {
     "name": "stderr",
     "output_type": "stream",
     "text": [
      "C:\\Users\\julia\\Anaconda3\\lib\\site-packages\\sklearn\\utils\\validation.py:444: DataConversionWarning: Data with input dtype int64 was converted to float64 by the scale function.\n",
      "  warnings.warn(msg, DataConversionWarning)\n"
     ]
    },
    {
     "name": "stdout",
     "output_type": "stream",
     "text": [
      "Best params for linear kernel: {'C': 1.0} with score 0.89535\n",
      "--- test results for linear kernel:\n",
      "             precision    recall  f1-score   support\n",
      "\n",
      "       move       0.91      0.62      0.74        16\n",
      "      still       0.86      0.97      0.91        38\n",
      "\n",
      "avg / total       0.87      0.87      0.86        54\n",
      "\n",
      "Best params for RBF kernel: {'C': 100.0, 'gamma': 0.01} with score 0.89535\n",
      "--- test results for RBF kernel:\n",
      "             precision    recall  f1-score   support\n",
      "\n",
      "       move       0.91      0.62      0.74        16\n",
      "      still       0.86      0.97      0.91        38\n",
      "\n",
      "avg / total       0.87      0.87      0.86        54\n",
      "\n"
     ]
    }
   ],
   "source": [
    "hp.runFlowByUser(df_move, labelName='move')"
   ]
  },
  {
   "cell_type": "markdown",
   "metadata": {},
   "source": [
    "## Hierarchy"
   ]
  },
  {
   "cell_type": "markdown",
   "metadata": {},
   "source": [
    "### 1 - Split data by movement intensity:\n",
    " * group 1 = movement, household chores, exercise\n",
    " "
   ]
  },
  {
   "cell_type": "code",
   "execution_count": 80,
   "metadata": {},
   "outputs": [
    {
     "data": {
      "text/plain": [
       "activity\n",
       "eat                53\n",
       "focused-active     88\n",
       "focused-passive    73\n",
       "leisure-passive    89\n",
       "sleep              75\n",
       "Name: user, dtype: int64"
      ]
     },
     "execution_count": 80,
     "metadata": {},
     "output_type": "execute_result"
    }
   ],
   "source": [
    "df_stillcls = hp.excludeActivities(df, includelist)\n",
    "hp.countExamplesByActivity(df_stillcls)"
   ]
  },
  {
   "cell_type": "code",
   "execution_count": 81,
   "metadata": {},
   "outputs": [
    {
     "name": "stderr",
     "output_type": "stream",
     "text": [
      "C:\\Users\\julia\\Anaconda3\\lib\\site-packages\\sklearn\\utils\\validation.py:444: DataConversionWarning: Data with input dtype int64 was converted to float64 by the scale function.\n",
      "  warnings.warn(msg, DataConversionWarning)\n",
      "C:\\Users\\julia\\Anaconda3\\lib\\site-packages\\pandas\\core\\indexing.py:517: SettingWithCopyWarning: \n",
      "A value is trying to be set on a copy of a slice from a DataFrame.\n",
      "Try using .loc[row_indexer,col_indexer] = value instead\n",
      "\n",
      "See the caveats in the documentation: http://pandas.pydata.org/pandas-docs/stable/indexing.html#indexing-view-versus-copy\n",
      "  self.obj[item] = s\n"
     ]
    },
    {
     "name": "stdout",
     "output_type": "stream",
     "text": [
      "302 train examples and 76 test examples\n",
      "Best params for linear kernel: {'C': 1.0} with score 0.40574\n",
      "--- test results for linear kernel:\n",
      "                 precision    recall  f1-score   support\n",
      "\n",
      "            eat       0.50      0.40      0.44        10\n",
      " focused-active       0.38      0.53      0.44        19\n",
      "focused-passive       0.33      0.46      0.39        13\n",
      "leisure-passive       0.50      0.33      0.40        21\n",
      "          sleep       0.80      0.62      0.70        13\n",
      "\n",
      "    avg / total       0.49      0.46      0.47        76\n",
      "\n",
      "Best params for RBF kernel: {'C': 1.0, 'gamma': 0.10000000000000001} with score 0.47951\n",
      "--- test results for RBF kernel:\n",
      "                 precision    recall  f1-score   support\n",
      "\n",
      "            eat       0.80      0.40      0.53        10\n",
      " focused-active       0.40      0.63      0.49        19\n",
      "focused-passive       0.27      0.31      0.29        13\n",
      "leisure-passive       0.38      0.24      0.29        21\n",
      "          sleep       0.62      0.62      0.62        13\n",
      "\n",
      "    avg / total       0.46      0.43      0.43        76\n",
      "\n"
     ]
    }
   ],
   "source": [
    "hp.runFlow(df_stillcls)"
   ]
  },
  {
   "cell_type": "code",
   "execution_count": 84,
   "metadata": {},
   "outputs": [
    {
     "name": "stderr",
     "output_type": "stream",
     "text": [
      "C:\\Users\\julia\\Anaconda3\\lib\\site-packages\\sklearn\\utils\\validation.py:444: DataConversionWarning: Data with input dtype int64 was converted to float64 by the scale function.\n",
      "  warnings.warn(msg, DataConversionWarning)\n"
     ]
    },
    {
     "name": "stdout",
     "output_type": "stream",
     "text": [
      "CLASSFIER FOR USER 0\n",
      "92 train examples and 24 test examples\n",
      "Best params for linear kernel: {'C': 10.0} with score 0.61842\n",
      "--- test results for linear kernel:\n",
      "                 precision    recall  f1-score   support\n",
      "\n",
      "            eat       0.00      0.00      0.00         2\n",
      " focused-active       0.25      0.25      0.25         4\n",
      "focused-passive       0.38      0.60      0.46         5\n",
      "leisure-passive       0.25      0.33      0.29         3\n",
      "          sleep       0.86      0.60      0.71        10\n",
      "\n",
      "    avg / total       0.51      0.46      0.47        24\n",
      "\n",
      "Best params for RBF kernel: {'C': 10.0, 'gamma': 1.0} with score 0.61842\n",
      "--- test results for RBF kernel:\n",
      "                 precision    recall  f1-score   support\n",
      "\n",
      "            eat       0.50      0.50      0.50         2\n",
      " focused-active       0.25      0.25      0.25         4\n",
      "focused-passive       0.33      0.60      0.43         5\n",
      "leisure-passive       0.50      0.67      0.57         3\n",
      "          sleep       0.80      0.40      0.53        10\n",
      "\n",
      "    avg / total       0.55      0.46      0.47        24\n",
      "\n",
      "CLASSFIER FOR USER 1\n",
      "51 train examples and 13 test examples\n",
      "Best params for linear kernel: {'C': 10.0} with score 0.90909\n",
      "--- test results for linear kernel:\n",
      "                 precision    recall  f1-score   support\n",
      "\n",
      "            eat       0.25      0.50      0.33         2\n",
      " focused-active       0.50      0.29      0.36         7\n",
      "leisure-passive       0.60      0.75      0.67         4\n",
      "\n",
      "    avg / total       0.49      0.46      0.45        13\n",
      "\n"
     ]
    },
    {
     "name": "stderr",
     "output_type": "stream",
     "text": [
      "C:\\Users\\julia\\Anaconda3\\lib\\site-packages\\sklearn\\utils\\validation.py:444: DataConversionWarning: Data with input dtype int64 was converted to float64 by the scale function.\n",
      "  warnings.warn(msg, DataConversionWarning)\n"
     ]
    },
    {
     "name": "stdout",
     "output_type": "stream",
     "text": [
      "Best params for RBF kernel: {'C': 10.0, 'gamma': 0.01} with score 0.86364\n",
      "--- test results for RBF kernel:\n",
      "                 precision    recall  f1-score   support\n",
      "\n",
      "            eat       1.00      0.50      0.67         2\n",
      " focused-active       0.60      0.43      0.50         7\n",
      "leisure-passive       0.43      0.75      0.55         4\n",
      "\n",
      "    avg / total       0.61      0.54      0.54        13\n",
      "\n",
      "CLASSFIER FOR USER 2\n",
      "158 train examples and 40 test examples\n"
     ]
    },
    {
     "name": "stderr",
     "output_type": "stream",
     "text": [
      "C:\\Users\\julia\\Anaconda3\\lib\\site-packages\\sklearn\\utils\\validation.py:444: DataConversionWarning: Data with input dtype int64 was converted to float64 by the scale function.\n",
      "  warnings.warn(msg, DataConversionWarning)\n"
     ]
    },
    {
     "name": "stdout",
     "output_type": "stream",
     "text": [
      "Best params for linear kernel: {'C': 0.01} with score 0.47656\n",
      "--- test results for linear kernel:\n",
      "                 precision    recall  f1-score   support\n",
      "\n",
      "            eat       0.00      0.00      0.00         9\n",
      " focused-active       0.33      0.71      0.45         7\n",
      "focused-passive       0.25      0.67      0.36         6\n",
      "leisure-passive       0.00      0.00      0.00         8\n",
      "          sleep       0.88      0.70      0.78        10\n",
      "\n",
      "    avg / total       0.31      0.40      0.33        40\n",
      "\n"
     ]
    },
    {
     "name": "stderr",
     "output_type": "stream",
     "text": [
      "C:\\Users\\julia\\Anaconda3\\lib\\site-packages\\sklearn\\metrics\\classification.py:1135: UndefinedMetricWarning: Precision and F-score are ill-defined and being set to 0.0 in labels with no predicted samples.\n",
      "  'precision', 'predicted', average, warn_for)\n"
     ]
    },
    {
     "name": "stdout",
     "output_type": "stream",
     "text": [
      "Best params for RBF kernel: {'C': 10.0, 'gamma': 0.01} with score 0.55469\n",
      "--- test results for RBF kernel:\n",
      "                 precision    recall  f1-score   support\n",
      "\n",
      "            eat       0.80      0.44      0.57         9\n",
      " focused-active       0.36      0.57      0.44         7\n",
      "focused-passive       0.33      0.50      0.40         6\n",
      "leisure-passive       0.38      0.38      0.38         8\n",
      "          sleep       1.00      0.70      0.82        10\n",
      "\n",
      "    avg / total       0.62      0.53      0.55        40\n",
      "\n"
     ]
    }
   ],
   "source": [
    "hp.runFlowByUser(df_stillcls)"
   ]
  },
  {
   "cell_type": "code",
   "execution_count": 85,
   "metadata": {},
   "outputs": [
    {
     "data": {
      "text/plain": [
       "activity\n",
       "household-chores    68\n",
       "movement            65\n",
       "Name: user, dtype: int64"
      ]
     },
     "execution_count": 85,
     "metadata": {},
     "output_type": "execute_result"
    }
   ],
   "source": [
    "df_movecls = hp.filterActivities(df, includelist)\n",
    "hp.countExamplesByActivity(df_movecls)"
   ]
  },
  {
   "cell_type": "code",
   "execution_count": 87,
   "metadata": {},
   "outputs": [
    {
     "name": "stderr",
     "output_type": "stream",
     "text": [
      "C:\\Users\\julia\\Anaconda3\\lib\\site-packages\\sklearn\\utils\\validation.py:444: DataConversionWarning: Data with input dtype int64 was converted to float64 by the scale function.\n",
      "  warnings.warn(msg, DataConversionWarning)\n",
      "C:\\Users\\julia\\Anaconda3\\lib\\site-packages\\pandas\\core\\indexing.py:517: SettingWithCopyWarning: \n",
      "A value is trying to be set on a copy of a slice from a DataFrame.\n",
      "Try using .loc[row_indexer,col_indexer] = value instead\n",
      "\n",
      "See the caveats in the documentation: http://pandas.pydata.org/pandas-docs/stable/indexing.html#indexing-view-versus-copy\n",
      "  self.obj[item] = s\n"
     ]
    },
    {
     "name": "stdout",
     "output_type": "stream",
     "text": [
      "106 train examples and 27 test examples\n",
      "Best params for linear kernel: {'C': 0.01} with score 0.60227\n",
      "--- test results for linear kernel:\n",
      "                  precision    recall  f1-score   support\n",
      "\n",
      "household-chores       0.40      0.46      0.43        13\n",
      "        movement       0.42      0.36      0.38        14\n",
      "\n",
      "     avg / total       0.41      0.41      0.41        27\n",
      "\n",
      "Best params for RBF kernel: {'C': 10.0, 'gamma': 0.10000000000000001} with score 0.61364\n",
      "--- test results for RBF kernel:\n",
      "                  precision    recall  f1-score   support\n",
      "\n",
      "household-chores       0.56      0.77      0.65        13\n",
      "        movement       0.67      0.43      0.52        14\n",
      "\n",
      "     avg / total       0.61      0.59      0.58        27\n",
      "\n"
     ]
    }
   ],
   "source": [
    "hp.runFlow(df_movecls)"
   ]
  },
  {
   "cell_type": "code",
   "execution_count": 88,
   "metadata": {},
   "outputs": [
    {
     "name": "stdout",
     "output_type": "stream",
     "text": [
      "activity\n",
      "household-chores    28\n",
      "movement            27\n",
      "Name: user, dtype: int64\n",
      "44 train examples and 11 test examples\n",
      "Best params for linear kernel: {'C': 0.10000000000000001} with score 0.75000\n",
      "--- test results for linear kernel:\n",
      "                  precision    recall  f1-score   support\n",
      "\n",
      "household-chores       0.71      0.83      0.77         6\n",
      "        movement       0.75      0.60      0.67         5\n",
      "\n",
      "     avg / total       0.73      0.73      0.72        11\n",
      "\n"
     ]
    },
    {
     "name": "stderr",
     "output_type": "stream",
     "text": [
      "C:\\Users\\julia\\Anaconda3\\lib\\site-packages\\sklearn\\utils\\validation.py:444: DataConversionWarning: Data with input dtype int64 was converted to float64 by the scale function.\n",
      "  warnings.warn(msg, DataConversionWarning)\n"
     ]
    },
    {
     "name": "stdout",
     "output_type": "stream",
     "text": [
      "Best params for RBF kernel: {'C': 1.0, 'gamma': 0.10000000000000001} with score 0.83333\n",
      "--- test results for RBF kernel:\n",
      "                  precision    recall  f1-score   support\n",
      "\n",
      "household-chores       0.67      1.00      0.80         6\n",
      "        movement       1.00      0.40      0.57         5\n",
      "\n",
      "     avg / total       0.82      0.73      0.70        11\n",
      "\n"
     ]
    }
   ],
   "source": [
    "ju_move = hp.userRows(df_movecls, 0)\n",
    "print(hp.countExamplesByActivity(ju_move))\n",
    "hp.runFlow(ju_move)"
   ]
  },
  {
   "cell_type": "code",
   "execution_count": 89,
   "metadata": {},
   "outputs": [
    {
     "name": "stdout",
     "output_type": "stream",
     "text": [
      "activity\n",
      "household-chores    40\n",
      "movement            30\n",
      "Name: user, dtype: int64\n",
      "56 train examples and 14 test examples\n",
      "Best params for linear kernel: {'C': 100.0} with score 0.70833\n",
      "--- test results for linear kernel:\n",
      "                  precision    recall  f1-score   support\n",
      "\n",
      "household-chores       0.67      0.40      0.50        10\n",
      "        movement       0.25      0.50      0.33         4\n",
      "\n",
      "     avg / total       0.55      0.43      0.45        14\n",
      "\n"
     ]
    },
    {
     "name": "stderr",
     "output_type": "stream",
     "text": [
      "C:\\Users\\julia\\Anaconda3\\lib\\site-packages\\sklearn\\utils\\validation.py:444: DataConversionWarning: Data with input dtype int64 was converted to float64 by the scale function.\n",
      "  warnings.warn(msg, DataConversionWarning)\n"
     ]
    },
    {
     "name": "stdout",
     "output_type": "stream",
     "text": [
      "Best params for RBF kernel: {'C': 1.0, 'gamma': 0.01} with score 0.68750\n",
      "--- test results for RBF kernel:\n",
      "                  precision    recall  f1-score   support\n",
      "\n",
      "household-chores       0.80      0.40      0.53        10\n",
      "        movement       0.33      0.75      0.46         4\n",
      "\n",
      "     avg / total       0.67      0.50      0.51        14\n",
      "\n"
     ]
    }
   ],
   "source": [
    "edu_move = hp.userRows(df_movecls, 2)\n",
    "print(hp.countExamplesByActivity(edu_move))\n",
    "hp.runFlow(edu_move)"
   ]
  },
  {
   "cell_type": "code",
   "execution_count": 97,
   "metadata": {},
   "outputs": [
    {
     "name": "stdout",
     "output_type": "stream",
     "text": [
      "----------------------------------------------------------------\n",
      "eat\n",
      "eat        53\n",
      "others    325\n",
      "Name: user, dtype: int64\n"
     ]
    },
    {
     "name": "stderr",
     "output_type": "stream",
     "text": [
      "C:\\Users\\julia\\Anaconda3\\lib\\site-packages\\sklearn\\utils\\validation.py:444: DataConversionWarning: Data with input dtype int64 was converted to float64 by the scale function.\n",
      "  warnings.warn(msg, DataConversionWarning)\n",
      "C:\\Users\\julia\\Anaconda3\\lib\\site-packages\\pandas\\core\\indexing.py:517: SettingWithCopyWarning: \n",
      "A value is trying to be set on a copy of a slice from a DataFrame.\n",
      "Try using .loc[row_indexer,col_indexer] = value instead\n",
      "\n",
      "See the caveats in the documentation: http://pandas.pydata.org/pandas-docs/stable/indexing.html#indexing-view-versus-copy\n",
      "  self.obj[item] = s\n"
     ]
    },
    {
     "name": "stdout",
     "output_type": "stream",
     "text": [
      "302 train examples and 76 test examples\n",
      "Best params for linear kernel: {'C': 0.01} with score 0.86885\n",
      "--- test results for linear kernel:\n",
      "             precision    recall  f1-score   support\n",
      "\n",
      "        eat       0.00      0.00      0.00        14\n",
      "     others       0.82      1.00      0.90        62\n",
      "\n",
      "avg / total       0.67      0.82      0.73        76\n",
      "\n"
     ]
    },
    {
     "name": "stderr",
     "output_type": "stream",
     "text": [
      "C:\\Users\\julia\\Anaconda3\\lib\\site-packages\\sklearn\\metrics\\classification.py:1135: UndefinedMetricWarning: Precision and F-score are ill-defined and being set to 0.0 in labels with no predicted samples.\n",
      "  'precision', 'predicted', average, warn_for)\n"
     ]
    },
    {
     "name": "stdout",
     "output_type": "stream",
     "text": [
      "Best params for RBF kernel: {'C': 100.0, 'gamma': 0.01} with score 0.89344\n",
      "--- test results for RBF kernel:\n",
      "             precision    recall  f1-score   support\n",
      "\n",
      "        eat       0.00      0.00      0.00        14\n",
      "     others       0.81      0.97      0.88        62\n",
      "\n",
      "avg / total       0.66      0.79      0.72        76\n",
      "\n",
      "----------------------------------------------------------------\n",
      "focused-active\n",
      "focused-active     88\n",
      "others            290\n",
      "Name: user, dtype: int64\n"
     ]
    },
    {
     "name": "stderr",
     "output_type": "stream",
     "text": [
      "C:\\Users\\julia\\Anaconda3\\lib\\site-packages\\sklearn\\utils\\validation.py:444: DataConversionWarning: Data with input dtype int64 was converted to float64 by the scale function.\n",
      "  warnings.warn(msg, DataConversionWarning)\n",
      "C:\\Users\\julia\\Anaconda3\\lib\\site-packages\\pandas\\core\\indexing.py:517: SettingWithCopyWarning: \n",
      "A value is trying to be set on a copy of a slice from a DataFrame.\n",
      "Try using .loc[row_indexer,col_indexer] = value instead\n",
      "\n",
      "See the caveats in the documentation: http://pandas.pydata.org/pandas-docs/stable/indexing.html#indexing-view-versus-copy\n",
      "  self.obj[item] = s\n"
     ]
    },
    {
     "name": "stdout",
     "output_type": "stream",
     "text": [
      "302 train examples and 76 test examples\n",
      "Best params for linear kernel: {'C': 0.01} with score 0.75410\n",
      "--- test results for linear kernel:\n",
      "                precision    recall  f1-score   support\n",
      "\n",
      "focused-active       0.00      0.00      0.00        15\n",
      "        others       0.80      1.00      0.89        61\n",
      "\n",
      "   avg / total       0.64      0.80      0.71        76\n",
      "\n"
     ]
    },
    {
     "name": "stderr",
     "output_type": "stream",
     "text": [
      "C:\\Users\\julia\\Anaconda3\\lib\\site-packages\\sklearn\\metrics\\classification.py:1135: UndefinedMetricWarning: Precision and F-score are ill-defined and being set to 0.0 in labels with no predicted samples.\n",
      "  'precision', 'predicted', average, warn_for)\n"
     ]
    },
    {
     "name": "stdout",
     "output_type": "stream",
     "text": [
      "Best params for RBF kernel: {'C': 100.0, 'gamma': 1.0} with score 0.79918\n",
      "--- test results for RBF kernel:\n",
      "                precision    recall  f1-score   support\n",
      "\n",
      "focused-active       0.33      0.20      0.25        15\n",
      "        others       0.82      0.90      0.86        61\n",
      "\n",
      "   avg / total       0.72      0.76      0.74        76\n",
      "\n",
      "----------------------------------------------------------------\n",
      "focused-passive\n",
      "focused-passive     73\n",
      "others             305\n",
      "Name: user, dtype: int64\n"
     ]
    },
    {
     "name": "stderr",
     "output_type": "stream",
     "text": [
      "C:\\Users\\julia\\Anaconda3\\lib\\site-packages\\sklearn\\utils\\validation.py:444: DataConversionWarning: Data with input dtype int64 was converted to float64 by the scale function.\n",
      "  warnings.warn(msg, DataConversionWarning)\n",
      "C:\\Users\\julia\\Anaconda3\\lib\\site-packages\\pandas\\core\\indexing.py:517: SettingWithCopyWarning: \n",
      "A value is trying to be set on a copy of a slice from a DataFrame.\n",
      "Try using .loc[row_indexer,col_indexer] = value instead\n",
      "\n",
      "See the caveats in the documentation: http://pandas.pydata.org/pandas-docs/stable/indexing.html#indexing-view-versus-copy\n",
      "  self.obj[item] = s\n"
     ]
    },
    {
     "name": "stdout",
     "output_type": "stream",
     "text": [
      "302 train examples and 76 test examples\n",
      "Best params for linear kernel: {'C': 0.01} with score 0.81967\n",
      "--- test results for linear kernel:\n",
      "                 precision    recall  f1-score   support\n",
      "\n",
      "focused-passive       0.00      0.00      0.00        21\n",
      "         others       0.72      1.00      0.84        55\n",
      "\n",
      "    avg / total       0.52      0.72      0.61        76\n",
      "\n"
     ]
    },
    {
     "name": "stderr",
     "output_type": "stream",
     "text": [
      "C:\\Users\\julia\\Anaconda3\\lib\\site-packages\\sklearn\\metrics\\classification.py:1135: UndefinedMetricWarning: Precision and F-score are ill-defined and being set to 0.0 in labels with no predicted samples.\n",
      "  'precision', 'predicted', average, warn_for)\n"
     ]
    },
    {
     "name": "stdout",
     "output_type": "stream",
     "text": [
      "Best params for RBF kernel: {'C': 10.0, 'gamma': 1.0} with score 0.84016\n",
      "--- test results for RBF kernel:\n",
      "                 precision    recall  f1-score   support\n",
      "\n",
      "focused-passive       0.64      0.33      0.44        21\n",
      "         others       0.78      0.93      0.85        55\n",
      "\n",
      "    avg / total       0.74      0.76      0.74        76\n",
      "\n",
      "----------------------------------------------------------------\n",
      "leisure-passive\n",
      "leisure-passive     89\n",
      "others             289\n",
      "Name: user, dtype: int64\n"
     ]
    },
    {
     "name": "stderr",
     "output_type": "stream",
     "text": [
      "C:\\Users\\julia\\Anaconda3\\lib\\site-packages\\sklearn\\utils\\validation.py:444: DataConversionWarning: Data with input dtype int64 was converted to float64 by the scale function.\n",
      "  warnings.warn(msg, DataConversionWarning)\n",
      "C:\\Users\\julia\\Anaconda3\\lib\\site-packages\\pandas\\core\\indexing.py:517: SettingWithCopyWarning: \n",
      "A value is trying to be set on a copy of a slice from a DataFrame.\n",
      "Try using .loc[row_indexer,col_indexer] = value instead\n",
      "\n",
      "See the caveats in the documentation: http://pandas.pydata.org/pandas-docs/stable/indexing.html#indexing-view-versus-copy\n",
      "  self.obj[item] = s\n"
     ]
    },
    {
     "name": "stdout",
     "output_type": "stream",
     "text": [
      "302 train examples and 76 test examples\n",
      "Best params for linear kernel: {'C': 0.01} with score 0.75410\n",
      "--- test results for linear kernel:\n",
      "                 precision    recall  f1-score   support\n",
      "\n",
      "leisure-passive       0.00      0.00      0.00        15\n",
      "         others       0.80      1.00      0.89        61\n",
      "\n",
      "    avg / total       0.64      0.80      0.71        76\n",
      "\n"
     ]
    },
    {
     "name": "stderr",
     "output_type": "stream",
     "text": [
      "C:\\Users\\julia\\Anaconda3\\lib\\site-packages\\sklearn\\metrics\\classification.py:1135: UndefinedMetricWarning: Precision and F-score are ill-defined and being set to 0.0 in labels with no predicted samples.\n",
      "  'precision', 'predicted', average, warn_for)\n"
     ]
    },
    {
     "name": "stdout",
     "output_type": "stream",
     "text": [
      "Best params for RBF kernel: {'C': 1.0, 'gamma': 1.0} with score 0.77869\n",
      "--- test results for RBF kernel:\n",
      "                 precision    recall  f1-score   support\n",
      "\n",
      "leisure-passive       0.60      0.20      0.30        15\n",
      "         others       0.83      0.97      0.89        61\n",
      "\n",
      "    avg / total       0.79      0.82      0.78        76\n",
      "\n",
      "----------------------------------------------------------------\n",
      "sleep\n",
      "others    303\n",
      "sleep      75\n",
      "Name: user, dtype: int64\n"
     ]
    },
    {
     "name": "stderr",
     "output_type": "stream",
     "text": [
      "C:\\Users\\julia\\Anaconda3\\lib\\site-packages\\sklearn\\utils\\validation.py:444: DataConversionWarning: Data with input dtype int64 was converted to float64 by the scale function.\n",
      "  warnings.warn(msg, DataConversionWarning)\n",
      "C:\\Users\\julia\\Anaconda3\\lib\\site-packages\\pandas\\core\\indexing.py:517: SettingWithCopyWarning: \n",
      "A value is trying to be set on a copy of a slice from a DataFrame.\n",
      "Try using .loc[row_indexer,col_indexer] = value instead\n",
      "\n",
      "See the caveats in the documentation: http://pandas.pydata.org/pandas-docs/stable/indexing.html#indexing-view-versus-copy\n",
      "  self.obj[item] = s\n"
     ]
    },
    {
     "name": "stdout",
     "output_type": "stream",
     "text": [
      "302 train examples and 76 test examples\n",
      "Best params for linear kernel: {'C': 1.0} with score 0.86066\n",
      "--- test results for linear kernel:\n",
      "             precision    recall  f1-score   support\n",
      "\n",
      "     others       0.87      0.97      0.92        64\n",
      "      sleep       0.60      0.25      0.35        12\n",
      "\n",
      "avg / total       0.83      0.86      0.83        76\n",
      "\n",
      "Best params for RBF kernel: {'C': 100.0, 'gamma': 0.01} with score 0.88934\n",
      "--- test results for RBF kernel:\n",
      "             precision    recall  f1-score   support\n",
      "\n",
      "     others       0.90      0.94      0.92        64\n",
      "      sleep       0.56      0.42      0.48        12\n",
      "\n",
      "avg / total       0.84      0.86      0.85        76\n",
      "\n"
     ]
    }
   ],
   "source": [
    "for activ in df_stillcls.activity.unique():\n",
    "    print ('----------------------------------------------------------------')\n",
    "    dfa = df_stillcls\n",
    "    df_onevsall = hp.addPartition(df=dfa, includelist=[activ], pname=activ, labelIn=activ, labelOut='others')\n",
    "    print(df_onevsall.groupby(activ).count()['user'])\n",
    "    hp.runFlow(df_onevsall, labelName=activ)"
   ]
  },
  {
   "cell_type": "markdown",
   "metadata": {},
   "source": [
    "### Split still activities by sleep vc others"
   ]
  },
  {
   "cell_type": "code",
   "execution_count": 105,
   "metadata": {},
   "outputs": [
    {
     "name": "stdout",
     "output_type": "stream",
     "text": [
      "sleep\n",
      "sleep     75\n",
      "wake     303\n",
      "Name: user, dtype: int64\n"
     ]
    }
   ],
   "source": [
    "hp.countExamplesByActivity(df_stillcls)\n",
    "df_partsleep = hp.addPartition(df=df_stillcls, includelist=['sleep'], pname='sleep', labelIn='sleep', labelOut='wake')\n",
    "print(df_partsleep.groupby('sleep').count()['user'])"
   ]
  },
  {
   "cell_type": "code",
   "execution_count": 106,
   "metadata": {},
   "outputs": [
    {
     "name": "stderr",
     "output_type": "stream",
     "text": [
      "C:\\Users\\julia\\Anaconda3\\lib\\site-packages\\sklearn\\utils\\validation.py:444: DataConversionWarning: Data with input dtype int64 was converted to float64 by the scale function.\n",
      "  warnings.warn(msg, DataConversionWarning)\n",
      "C:\\Users\\julia\\Anaconda3\\lib\\site-packages\\pandas\\core\\indexing.py:517: SettingWithCopyWarning: \n",
      "A value is trying to be set on a copy of a slice from a DataFrame.\n",
      "Try using .loc[row_indexer,col_indexer] = value instead\n",
      "\n",
      "See the caveats in the documentation: http://pandas.pydata.org/pandas-docs/stable/indexing.html#indexing-view-versus-copy\n",
      "  self.obj[item] = s\n"
     ]
    },
    {
     "name": "stdout",
     "output_type": "stream",
     "text": [
      "302 train examples and 76 test examples\n",
      "Best params for linear kernel: {'C': 1.0} with score 0.85656\n",
      "--- test results for linear kernel:\n",
      "             precision    recall  f1-score   support\n",
      "\n",
      "      sleep       0.73      0.38      0.50        21\n",
      "       wake       0.80      0.95      0.87        55\n",
      "\n",
      "avg / total       0.78      0.79      0.77        76\n",
      "\n",
      "Best params for RBF kernel: {'C': 1.0, 'gamma': 0.10000000000000001} with score 0.88525\n",
      "--- test results for RBF kernel:\n",
      "             precision    recall  f1-score   support\n",
      "\n",
      "      sleep       0.90      0.43      0.58        21\n",
      "       wake       0.82      0.98      0.89        55\n",
      "\n",
      "avg / total       0.84      0.83      0.81        76\n",
      "\n"
     ]
    }
   ],
   "source": [
    " hp.runFlow(df_partsleep, labelName='sleep')"
   ]
  },
  {
   "cell_type": "code",
   "execution_count": 109,
   "metadata": {},
   "outputs": [
    {
     "name": "stderr",
     "output_type": "stream",
     "text": [
      "C:\\Users\\julia\\Anaconda3\\lib\\site-packages\\sklearn\\utils\\validation.py:444: DataConversionWarning: Data with input dtype int64 was converted to float64 by the scale function.\n",
      "  warnings.warn(msg, DataConversionWarning)\n"
     ]
    },
    {
     "name": "stdout",
     "output_type": "stream",
     "text": [
      "92 train examples and 24 test examples\n",
      "Best params for linear kernel: {'C': 1.0} with score 0.78947\n",
      "--- test results for linear kernel:\n",
      "             precision    recall  f1-score   support\n",
      "\n",
      "      sleep       1.00      0.20      0.33         5\n",
      "       wake       0.83      1.00      0.90        19\n",
      "\n",
      "avg / total       0.86      0.83      0.79        24\n",
      "\n",
      "Best params for RBF kernel: {'C': 10.0, 'gamma': 1.0} with score 0.89474\n",
      "--- test results for RBF kernel:\n",
      "             precision    recall  f1-score   support\n",
      "\n",
      "      sleep       0.67      0.80      0.73         5\n",
      "       wake       0.94      0.89      0.92        19\n",
      "\n",
      "avg / total       0.89      0.88      0.88        24\n",
      "\n"
     ]
    }
   ],
   "source": [
    "ju_sleep = hp.userRows(df_partsleep, 0) \n",
    "hp.runFlow(ju_sleep, labelName='sleep')"
   ]
  },
  {
   "cell_type": "code",
   "execution_count": 108,
   "metadata": {},
   "outputs": [
    {
     "name": "stderr",
     "output_type": "stream",
     "text": [
      "C:\\Users\\julia\\Anaconda3\\lib\\site-packages\\sklearn\\utils\\validation.py:444: DataConversionWarning: Data with input dtype int64 was converted to float64 by the scale function.\n",
      "  warnings.warn(msg, DataConversionWarning)\n"
     ]
    },
    {
     "name": "stdout",
     "output_type": "stream",
     "text": [
      "158 train examples and 40 test examples\n",
      "Best params for linear kernel: {'C': 0.10000000000000001} with score 0.96875\n",
      "--- test results for linear kernel:\n",
      "             precision    recall  f1-score   support\n",
      "\n",
      "      sleep       1.00      0.75      0.86         8\n",
      "       wake       0.94      1.00      0.97        32\n",
      "\n",
      "avg / total       0.95      0.95      0.95        40\n",
      "\n",
      "Best params for RBF kernel: {'C': 1.0, 'gamma': 0.01} with score 0.98438\n",
      "--- test results for RBF kernel:\n",
      "             precision    recall  f1-score   support\n",
      "\n",
      "      sleep       1.00      0.75      0.86         8\n",
      "       wake       0.94      1.00      0.97        32\n",
      "\n",
      "avg / total       0.95      0.95      0.95        40\n",
      "\n"
     ]
    }
   ],
   "source": [
    "edu_sleep = hp.userRows(df_partsleep, 2) \n",
    "hp.runFlow(edu_sleep, labelName='sleep')"
   ]
  },
  {
   "cell_type": "code",
   "execution_count": 111,
   "metadata": {},
   "outputs": [
    {
     "data": {
      "text/plain": [
       "activity\n",
       "eat                53\n",
       "focused-active     88\n",
       "focused-passive    73\n",
       "leisure-passive    89\n",
       "Name: user, dtype: int64"
      ]
     },
     "execution_count": 111,
     "metadata": {},
     "output_type": "execute_result"
    }
   ],
   "source": [
    "df_wake = hp.excludeActivities(df_stillcls,['sleep'] )\n",
    "hp.countExamplesByActivity(df_wake)"
   ]
  },
  {
   "cell_type": "code",
   "execution_count": 112,
   "metadata": {},
   "outputs": [
    {
     "name": "stderr",
     "output_type": "stream",
     "text": [
      "C:\\Users\\julia\\Anaconda3\\lib\\site-packages\\sklearn\\utils\\validation.py:444: DataConversionWarning: Data with input dtype int64 was converted to float64 by the scale function.\n",
      "  warnings.warn(msg, DataConversionWarning)\n",
      "C:\\Users\\julia\\Anaconda3\\lib\\site-packages\\pandas\\core\\indexing.py:517: SettingWithCopyWarning: \n",
      "A value is trying to be set on a copy of a slice from a DataFrame.\n",
      "Try using .loc[row_indexer,col_indexer] = value instead\n",
      "\n",
      "See the caveats in the documentation: http://pandas.pydata.org/pandas-docs/stable/indexing.html#indexing-view-versus-copy\n",
      "  self.obj[item] = s\n"
     ]
    },
    {
     "name": "stdout",
     "output_type": "stream",
     "text": [
      "242 train examples and 61 test examples\n",
      "Best params for linear kernel: {'C': 100.0} with score 0.46939\n",
      "--- test results for linear kernel:\n",
      "                 precision    recall  f1-score   support\n",
      "\n",
      "            eat       0.67      0.38      0.48        16\n",
      " focused-active       0.39      0.64      0.49        14\n",
      "focused-passive       0.39      0.54      0.45        13\n",
      "leisure-passive       0.45      0.28      0.34        18\n",
      "\n",
      "    avg / total       0.48      0.44      0.44        61\n",
      "\n",
      "Best params for RBF kernel: {'C': 10.0, 'gamma': 0.01} with score 0.46939\n",
      "--- test results for RBF kernel:\n",
      "                 precision    recall  f1-score   support\n",
      "\n",
      "            eat       0.33      0.06      0.11        16\n",
      " focused-active       0.50      0.71      0.59        14\n",
      "focused-passive       0.38      0.62      0.47        13\n",
      "leisure-passive       0.47      0.44      0.46        18\n",
      "\n",
      "    avg / total       0.42      0.44      0.40        61\n",
      "\n"
     ]
    }
   ],
   "source": [
    "hp.runFlow(df_wake)"
   ]
  },
  {
   "cell_type": "code",
   "execution_count": 113,
   "metadata": {},
   "outputs": [
    {
     "name": "stderr",
     "output_type": "stream",
     "text": [
      "C:\\Users\\julia\\Anaconda3\\lib\\site-packages\\sklearn\\utils\\validation.py:444: DataConversionWarning: Data with input dtype int64 was converted to float64 by the scale function.\n",
      "  warnings.warn(msg, DataConversionWarning)\n",
      "C:\\Users\\julia\\Anaconda3\\lib\\site-packages\\sklearn\\metrics\\classification.py:1135: UndefinedMetricWarning: Precision and F-score are ill-defined and being set to 0.0 in labels with no predicted samples.\n",
      "  'precision', 'predicted', average, warn_for)\n"
     ]
    },
    {
     "name": "stdout",
     "output_type": "stream",
     "text": [
      "CLASSFIER FOR USER 0\n",
      "67 train examples and 17 test examples\n",
      "Best params for linear kernel: {'C': 1.0} with score 0.53571\n",
      "--- test results for linear kernel:\n",
      "                 precision    recall  f1-score   support\n",
      "\n",
      "            eat       0.00      0.00      0.00         2\n",
      " focused-active       0.33      0.50      0.40         2\n",
      "focused-passive       0.67      1.00      0.80         8\n",
      "leisure-passive       1.00      0.40      0.57         5\n",
      "\n",
      "    avg / total       0.65      0.65      0.59        17\n",
      "\n",
      "Best params for RBF kernel: {'C': 10.0, 'gamma': 0.10000000000000001} with score 0.53571\n",
      "--- test results for RBF kernel:\n",
      "                 precision    recall  f1-score   support\n",
      "\n",
      "            eat       1.00      1.00      1.00         2\n",
      " focused-active       0.00      0.00      0.00         2\n",
      "focused-passive       0.67      1.00      0.80         8\n",
      "leisure-passive       1.00      0.40      0.57         5\n",
      "\n",
      "    avg / total       0.73      0.71      0.66        17\n",
      "\n",
      "CLASSFIER FOR USER 1\n",
      "51 train examples and 13 test examples\n",
      "Best params for linear kernel: {'C': 0.10000000000000001} with score 0.65909\n",
      "--- test results for linear kernel:\n",
      "                 precision    recall  f1-score   support\n",
      "\n",
      "            eat       0.00      0.00      0.00         0\n",
      " focused-active       0.83      1.00      0.91         5\n",
      "leisure-passive       1.00      0.62      0.77         8\n",
      "\n",
      "    avg / total       0.94      0.77      0.82        13\n",
      "\n"
     ]
    },
    {
     "name": "stderr",
     "output_type": "stream",
     "text": [
      "C:\\Users\\julia\\Anaconda3\\lib\\site-packages\\sklearn\\utils\\validation.py:444: DataConversionWarning: Data with input dtype int64 was converted to float64 by the scale function.\n",
      "  warnings.warn(msg, DataConversionWarning)\n",
      "C:\\Users\\julia\\Anaconda3\\lib\\site-packages\\sklearn\\metrics\\classification.py:1137: UndefinedMetricWarning: Recall and F-score are ill-defined and being set to 0.0 in labels with no true samples.\n",
      "  'recall', 'true', average, warn_for)\n"
     ]
    },
    {
     "name": "stdout",
     "output_type": "stream",
     "text": [
      "Best params for RBF kernel: {'C': 1.0, 'gamma': 0.10000000000000001} with score 0.63636\n",
      "--- test results for RBF kernel:\n",
      "                 precision    recall  f1-score   support\n",
      "\n",
      "            eat       0.00      0.00      0.00         0\n",
      " focused-active       0.71      1.00      0.83         5\n",
      "leisure-passive       1.00      0.62      0.77         8\n",
      "\n",
      "    avg / total       0.89      0.77      0.79        13\n",
      "\n",
      "CLASSFIER FOR USER 2\n",
      "124 train examples and 31 test examples\n"
     ]
    },
    {
     "name": "stderr",
     "output_type": "stream",
     "text": [
      "C:\\Users\\julia\\Anaconda3\\lib\\site-packages\\sklearn\\metrics\\classification.py:1137: UndefinedMetricWarning: Recall and F-score are ill-defined and being set to 0.0 in labels with no true samples.\n",
      "  'recall', 'true', average, warn_for)\n",
      "C:\\Users\\julia\\Anaconda3\\lib\\site-packages\\sklearn\\utils\\validation.py:444: DataConversionWarning: Data with input dtype int64 was converted to float64 by the scale function.\n",
      "  warnings.warn(msg, DataConversionWarning)\n"
     ]
    },
    {
     "name": "stdout",
     "output_type": "stream",
     "text": [
      "Best params for linear kernel: {'C': 100.0} with score 0.53000\n",
      "--- test results for linear kernel:\n",
      "                 precision    recall  f1-score   support\n",
      "\n",
      "            eat       0.44      0.50      0.47         8\n",
      " focused-active       0.44      0.57      0.50         7\n",
      "focused-passive       0.80      0.40      0.53        10\n",
      "leisure-passive       0.38      0.50      0.43         6\n",
      "\n",
      "    avg / total       0.55      0.48      0.49        31\n",
      "\n",
      "Best params for RBF kernel: {'C': 10.0, 'gamma': 0.10000000000000001} with score 0.44000\n",
      "--- test results for RBF kernel:\n",
      "                 precision    recall  f1-score   support\n",
      "\n",
      "            eat       0.40      0.50      0.44         8\n",
      " focused-active       0.56      0.71      0.63         7\n",
      "focused-passive       0.67      0.40      0.50        10\n",
      "leisure-passive       0.17      0.17      0.17         6\n",
      "\n",
      "    avg / total       0.48      0.45      0.45        31\n",
      "\n"
     ]
    }
   ],
   "source": [
    "hp.runFlowByUser(df_wake)"
   ]
  },
  {
   "cell_type": "markdown",
   "metadata": {},
   "source": [
    "### Split by passive vs active sitting activities"
   ]
  },
  {
   "cell_type": "code",
   "execution_count": 124,
   "metadata": {},
   "outputs": [
    {
     "name": "stdout",
     "output_type": "stream",
     "text": [
      "actlvl\n",
      "active     141\n",
      "passive    162\n",
      "Name: user, dtype: int64\n"
     ]
    }
   ],
   "source": [
    "df_actlvl = hp.addPartition(df_wake, includelist=['focused-passive', 'leisure-passive'], pname='actlvl', labelIn='passive', labelOut='active')\n",
    "print(df_passive.groupby('actlvl').count()['user'])"
   ]
  },
  {
   "cell_type": "code",
   "execution_count": 125,
   "metadata": {},
   "outputs": [
    {
     "name": "stderr",
     "output_type": "stream",
     "text": [
      "C:\\Users\\julia\\Anaconda3\\lib\\site-packages\\sklearn\\utils\\validation.py:444: DataConversionWarning: Data with input dtype int64 was converted to float64 by the scale function.\n",
      "  warnings.warn(msg, DataConversionWarning)\n",
      "C:\\Users\\julia\\Anaconda3\\lib\\site-packages\\pandas\\core\\indexing.py:517: SettingWithCopyWarning: \n",
      "A value is trying to be set on a copy of a slice from a DataFrame.\n",
      "Try using .loc[row_indexer,col_indexer] = value instead\n",
      "\n",
      "See the caveats in the documentation: http://pandas.pydata.org/pandas-docs/stable/indexing.html#indexing-view-versus-copy\n",
      "  self.obj[item] = s\n"
     ]
    },
    {
     "name": "stdout",
     "output_type": "stream",
     "text": [
      "242 train examples and 61 test examples\n",
      "Best params for linear kernel: {'C': 10.0} with score 0.60714\n",
      "--- test results for linear kernel:\n",
      "             precision    recall  f1-score   support\n",
      "\n",
      "     active       0.52      0.44      0.48        25\n",
      "    passive       0.65      0.72      0.68        36\n",
      "\n",
      "avg / total       0.60      0.61      0.60        61\n",
      "\n",
      "Best params for RBF kernel: {'C': 10.0, 'gamma': 0.10000000000000001} with score 0.64286\n",
      "--- test results for RBF kernel:\n",
      "             precision    recall  f1-score   support\n",
      "\n",
      "     active       0.74      0.80      0.77        25\n",
      "    passive       0.85      0.81      0.83        36\n",
      "\n",
      "avg / total       0.81      0.80      0.80        61\n",
      "\n"
     ]
    }
   ],
   "source": [
    "hp.runFlow(df_actlvl, labelName='actlvl')"
   ]
  },
  {
   "cell_type": "code",
   "execution_count": 126,
   "metadata": {},
   "outputs": [
    {
     "name": "stderr",
     "output_type": "stream",
     "text": [
      "C:\\Users\\julia\\Anaconda3\\lib\\site-packages\\sklearn\\utils\\validation.py:444: DataConversionWarning: Data with input dtype int64 was converted to float64 by the scale function.\n",
      "  warnings.warn(msg, DataConversionWarning)\n",
      "C:\\Users\\julia\\Anaconda3\\lib\\site-packages\\sklearn\\metrics\\classification.py:1135: UndefinedMetricWarning: Precision and F-score are ill-defined and being set to 0.0 in labels with no predicted samples.\n",
      "  'precision', 'predicted', average, warn_for)\n"
     ]
    },
    {
     "name": "stdout",
     "output_type": "stream",
     "text": [
      "CLASSFIER FOR USER 0\n",
      "67 train examples and 17 test examples\n",
      "Best params for linear kernel: {'C': 0.10000000000000001} with score 0.66071\n",
      "--- test results for linear kernel:\n",
      "             precision    recall  f1-score   support\n",
      "\n",
      "     active       0.00      0.00      0.00         6\n",
      "    passive       0.65      1.00      0.79        11\n",
      "\n",
      "avg / total       0.42      0.65      0.51        17\n",
      "\n",
      "Best params for RBF kernel: {'C': 10.0, 'gamma': 0.01} with score 0.69643\n",
      "--- test results for RBF kernel:\n",
      "             precision    recall  f1-score   support\n",
      "\n",
      "     active       0.00      0.00      0.00         6\n",
      "    passive       0.65      1.00      0.79        11\n",
      "\n",
      "avg / total       0.42      0.65      0.51        17\n",
      "\n",
      "CLASSFIER FOR USER 1\n",
      "51 train examples and 13 test examples\n",
      "Best params for linear kernel: {'C': 0.10000000000000001} with score 0.72727\n",
      "--- test results for linear kernel:\n",
      "             precision    recall  f1-score   support\n",
      "\n",
      "     active       0.60      0.43      0.50         7\n",
      "    passive       0.50      0.67      0.57         6\n",
      "\n",
      "avg / total       0.55      0.54      0.53        13\n",
      "\n"
     ]
    },
    {
     "name": "stderr",
     "output_type": "stream",
     "text": [
      "C:\\Users\\julia\\Anaconda3\\lib\\site-packages\\sklearn\\metrics\\classification.py:1135: UndefinedMetricWarning: Precision and F-score are ill-defined and being set to 0.0 in labels with no predicted samples.\n",
      "  'precision', 'predicted', average, warn_for)\n",
      "C:\\Users\\julia\\Anaconda3\\lib\\site-packages\\sklearn\\utils\\validation.py:444: DataConversionWarning: Data with input dtype int64 was converted to float64 by the scale function.\n",
      "  warnings.warn(msg, DataConversionWarning)\n"
     ]
    },
    {
     "name": "stdout",
     "output_type": "stream",
     "text": [
      "Best params for RBF kernel: {'C': 10.0, 'gamma': 0.01} with score 0.75000\n",
      "--- test results for RBF kernel:\n",
      "             precision    recall  f1-score   support\n",
      "\n",
      "     active       0.71      0.71      0.71         7\n",
      "    passive       0.67      0.67      0.67         6\n",
      "\n",
      "avg / total       0.69      0.69      0.69        13\n",
      "\n",
      "CLASSFIER FOR USER 2\n",
      "124 train examples and 31 test examples\n"
     ]
    },
    {
     "name": "stderr",
     "output_type": "stream",
     "text": [
      "C:\\Users\\julia\\Anaconda3\\lib\\site-packages\\sklearn\\utils\\validation.py:444: DataConversionWarning: Data with input dtype int64 was converted to float64 by the scale function.\n",
      "  warnings.warn(msg, DataConversionWarning)\n"
     ]
    },
    {
     "name": "stdout",
     "output_type": "stream",
     "text": [
      "Best params for linear kernel: {'C': 0.10000000000000001} with score 0.70000\n",
      "--- test results for linear kernel:\n",
      "             precision    recall  f1-score   support\n",
      "\n",
      "     active       0.58      0.79      0.67        14\n",
      "    passive       0.75      0.53      0.62        17\n",
      "\n",
      "avg / total       0.67      0.65      0.64        31\n",
      "\n",
      "Best params for RBF kernel: {'C': 100.0, 'gamma': 0.10000000000000001} with score 0.73000\n",
      "--- test results for RBF kernel:\n",
      "             precision    recall  f1-score   support\n",
      "\n",
      "     active       0.60      0.64      0.62        14\n",
      "    passive       0.69      0.65      0.67        17\n",
      "\n",
      "avg / total       0.65      0.65      0.65        31\n",
      "\n"
     ]
    }
   ],
   "source": [
    "hp.runFlowByUser(df_actlvl, labelName='actlvl')"
   ]
  },
  {
   "cell_type": "code",
   "execution_count": 129,
   "metadata": {},
   "outputs": [
    {
     "data": {
      "text/plain": [
       "activity\n",
       "focused-passive    73\n",
       "leisure-passive    89\n",
       "Name: user, dtype: int64"
      ]
     },
     "execution_count": 129,
     "metadata": {},
     "output_type": "execute_result"
    }
   ],
   "source": [
    "df_passive = hp.filterActivities(df_actlvl, ['leisure-passive', 'focused-passive'])\n",
    "hp.countExamplesByActivity(df_passive)"
   ]
  },
  {
   "cell_type": "code",
   "execution_count": 132,
   "metadata": {},
   "outputs": [
    {
     "name": "stderr",
     "output_type": "stream",
     "text": [
      "C:\\Users\\julia\\Anaconda3\\lib\\site-packages\\sklearn\\utils\\validation.py:444: DataConversionWarning: Data with input dtype int64 was converted to float64 by the scale function.\n",
      "  warnings.warn(msg, DataConversionWarning)\n",
      "C:\\Users\\julia\\Anaconda3\\lib\\site-packages\\pandas\\core\\indexing.py:517: SettingWithCopyWarning: \n",
      "A value is trying to be set on a copy of a slice from a DataFrame.\n",
      "Try using .loc[row_indexer,col_indexer] = value instead\n",
      "\n",
      "See the caveats in the documentation: http://pandas.pydata.org/pandas-docs/stable/indexing.html#indexing-view-versus-copy\n",
      "  self.obj[item] = s\n"
     ]
    },
    {
     "name": "stdout",
     "output_type": "stream",
     "text": [
      "129 train examples and 33 test examples\n",
      "Best params for linear kernel: {'C': 10.0} with score 0.59615\n",
      "--- test results for linear kernel:\n",
      "                 precision    recall  f1-score   support\n",
      "\n",
      "focused-passive       0.73      0.50      0.59        16\n",
      "leisure-passive       0.64      0.82      0.72        17\n",
      "\n",
      "    avg / total       0.68      0.67      0.66        33\n",
      "\n",
      "Best params for RBF kernel: {'C': 10.0, 'gamma': 1.0} with score 0.66346\n",
      "--- test results for RBF kernel:\n",
      "                 precision    recall  f1-score   support\n",
      "\n",
      "focused-passive       0.78      0.44      0.56        16\n",
      "leisure-passive       0.62      0.88      0.73        17\n",
      "\n",
      "    avg / total       0.70      0.67      0.65        33\n",
      "\n"
     ]
    }
   ],
   "source": [
    "hp.runFlow(df_passive)"
   ]
  },
  {
   "cell_type": "code",
   "execution_count": 138,
   "metadata": {},
   "outputs": [
    {
     "name": "stderr",
     "output_type": "stream",
     "text": [
      "C:\\Users\\julia\\Anaconda3\\lib\\site-packages\\sklearn\\utils\\validation.py:444: DataConversionWarning: Data with input dtype int64 was converted to float64 by the scale function.\n",
      "  warnings.warn(msg, DataConversionWarning)\n"
     ]
    },
    {
     "name": "stdout",
     "output_type": "stream",
     "text": [
      "44 train examples and 12 test examples\n",
      "Best params for linear kernel: {'C': 0.10000000000000001} with score 0.94444\n",
      "--- test results for linear kernel:\n",
      "                 precision    recall  f1-score   support\n",
      "\n",
      "focused-passive       0.83      0.71      0.77         7\n",
      "leisure-passive       0.67      0.80      0.73         5\n",
      "\n",
      "    avg / total       0.76      0.75      0.75        12\n",
      "\n",
      "Best params for RBF kernel: {'C': 10.0, 'gamma': 0.01} with score 0.83333\n",
      "--- test results for RBF kernel:\n",
      "                 precision    recall  f1-score   support\n",
      "\n",
      "focused-passive       0.83      0.71      0.77         7\n",
      "leisure-passive       0.67      0.80      0.73         5\n",
      "\n",
      "    avg / total       0.76      0.75      0.75        12\n",
      "\n"
     ]
    }
   ],
   "source": [
    "hp.runFlow(hp.userRows(df_passive, 0))"
   ]
  },
  {
   "cell_type": "code",
   "execution_count": 144,
   "metadata": {},
   "outputs": [
    {
     "name": "stderr",
     "output_type": "stream",
     "text": [
      "C:\\Users\\julia\\Anaconda3\\lib\\site-packages\\sklearn\\utils\\validation.py:444: DataConversionWarning: Data with input dtype int64 was converted to float64 by the scale function.\n",
      "  warnings.warn(msg, DataConversionWarning)\n"
     ]
    },
    {
     "name": "stdout",
     "output_type": "stream",
     "text": [
      "63 train examples and 16 test examples\n",
      "Best params for linear kernel: {'C': 10.0} with score 0.55769\n",
      "--- test results for linear kernel:\n",
      "                 precision    recall  f1-score   support\n",
      "\n",
      "focused-passive       0.75      0.27      0.40        11\n",
      "leisure-passive       0.33      0.80      0.47         5\n",
      "\n",
      "    avg / total       0.62      0.44      0.42        16\n",
      "\n",
      "Best params for RBF kernel: {'C': 1.0, 'gamma': 0.01} with score 0.63462\n",
      "--- test results for RBF kernel:\n",
      "                 precision    recall  f1-score   support\n",
      "\n",
      "focused-passive       1.00      0.09      0.17        11\n",
      "leisure-passive       0.33      1.00      0.50         5\n",
      "\n",
      "    avg / total       0.79      0.38      0.27        16\n",
      "\n"
     ]
    }
   ],
   "source": [
    "hp.runFlow(hp.userRows(df_passive, 2))"
   ]
  },
  {
   "cell_type": "code",
   "execution_count": 131,
   "metadata": {},
   "outputs": [
    {
     "data": {
      "text/plain": [
       "activity\n",
       "eat               53\n",
       "focused-active    88\n",
       "Name: user, dtype: int64"
      ]
     },
     "execution_count": 131,
     "metadata": {},
     "output_type": "execute_result"
    }
   ],
   "source": [
    "df_active = hp.excludeActivities(df_actlvl, ['leisure-passive', 'focused-passive'])\n",
    "hp.countExamplesByActivity(df_active)"
   ]
  },
  {
   "cell_type": "code",
   "execution_count": 145,
   "metadata": {},
   "outputs": [
    {
     "name": "stderr",
     "output_type": "stream",
     "text": [
      "C:\\Users\\julia\\Anaconda3\\lib\\site-packages\\sklearn\\utils\\validation.py:444: DataConversionWarning: Data with input dtype int64 was converted to float64 by the scale function.\n",
      "  warnings.warn(msg, DataConversionWarning)\n",
      "C:\\Users\\julia\\Anaconda3\\lib\\site-packages\\pandas\\core\\indexing.py:517: SettingWithCopyWarning: \n",
      "A value is trying to be set on a copy of a slice from a DataFrame.\n",
      "Try using .loc[row_indexer,col_indexer] = value instead\n",
      "\n",
      "See the caveats in the documentation: http://pandas.pydata.org/pandas-docs/stable/indexing.html#indexing-view-versus-copy\n",
      "  self.obj[item] = s\n"
     ]
    },
    {
     "name": "stdout",
     "output_type": "stream",
     "text": [
      "112 train examples and 29 test examples\n",
      "Best params for linear kernel: {'C': 100.0} with score 0.89130\n",
      "--- test results for linear kernel:\n",
      "                precision    recall  f1-score   support\n",
      "\n",
      "           eat       0.78      0.64      0.70        11\n",
      "focused-active       0.80      0.89      0.84        18\n",
      "\n",
      "   avg / total       0.79      0.79      0.79        29\n",
      "\n",
      "Best params for RBF kernel: {'C': 10.0, 'gamma': 0.01} with score 0.83696\n",
      "--- test results for RBF kernel:\n",
      "                precision    recall  f1-score   support\n",
      "\n",
      "           eat       0.78      0.64      0.70        11\n",
      "focused-active       0.80      0.89      0.84        18\n",
      "\n",
      "   avg / total       0.79      0.79      0.79        29\n",
      "\n"
     ]
    }
   ],
   "source": [
    "hp.runFlow(df_active)"
   ]
  },
  {
   "cell_type": "code",
   "execution_count": 149,
   "metadata": {},
   "outputs": [
    {
     "name": "stderr",
     "output_type": "stream",
     "text": [
      "C:\\Users\\julia\\Anaconda3\\lib\\site-packages\\sklearn\\utils\\validation.py:444: DataConversionWarning: Data with input dtype int64 was converted to float64 by the scale function.\n",
      "  warnings.warn(msg, DataConversionWarning)\n",
      "C:\\Users\\julia\\Anaconda3\\lib\\site-packages\\sklearn\\metrics\\classification.py:1135: UndefinedMetricWarning: Precision and F-score are ill-defined and being set to 0.0 in labels with no predicted samples.\n",
      "  'precision', 'predicted', average, warn_for)\n"
     ]
    },
    {
     "name": "stdout",
     "output_type": "stream",
     "text": [
      "CLASSFIER FOR USER 0\n",
      "22 train examples and 6 test examples\n",
      "Best params for linear kernel: {'C': 0.10000000000000001} with score 0.85000\n",
      "--- test results for linear kernel:\n",
      "                precision    recall  f1-score   support\n",
      "\n",
      "           eat       0.00      0.00      0.00         1\n",
      "focused-active       0.83      1.00      0.91         5\n",
      "\n",
      "   avg / total       0.69      0.83      0.76         6\n",
      "\n",
      "Best params for RBF kernel: {'C': 1.0, 'gamma': 0.10000000000000001} with score 0.90000\n",
      "--- test results for RBF kernel:\n",
      "                precision    recall  f1-score   support\n",
      "\n",
      "           eat       0.00      0.00      0.00         1\n",
      "focused-active       0.83      1.00      0.91         5\n",
      "\n",
      "   avg / total       0.69      0.83      0.76         6\n",
      "\n",
      "CLASSFIER FOR USER 1\n",
      "29 train examples and 8 test examples\n",
      "Best params for linear kernel: {'C': 0.10000000000000001} with score 0.87500\n",
      "--- test results for linear kernel:\n",
      "                precision    recall  f1-score   support\n",
      "\n",
      "           eat       1.00      1.00      1.00         2\n",
      "focused-active       1.00      1.00      1.00         6\n",
      "\n",
      "   avg / total       1.00      1.00      1.00         8\n",
      "\n"
     ]
    },
    {
     "name": "stderr",
     "output_type": "stream",
     "text": [
      "C:\\Users\\julia\\Anaconda3\\lib\\site-packages\\sklearn\\metrics\\classification.py:1135: UndefinedMetricWarning: Precision and F-score are ill-defined and being set to 0.0 in labels with no predicted samples.\n",
      "  'precision', 'predicted', average, warn_for)\n",
      "C:\\Users\\julia\\Anaconda3\\lib\\site-packages\\sklearn\\utils\\validation.py:444: DataConversionWarning: Data with input dtype int64 was converted to float64 by the scale function.\n",
      "  warnings.warn(msg, DataConversionWarning)\n"
     ]
    },
    {
     "name": "stdout",
     "output_type": "stream",
     "text": [
      "Best params for RBF kernel: {'C': 1.0, 'gamma': 0.10000000000000001} with score 0.95833\n",
      "--- test results for RBF kernel:\n",
      "                precision    recall  f1-score   support\n",
      "\n",
      "           eat       1.00      0.50      0.67         2\n",
      "focused-active       0.86      1.00      0.92         6\n",
      "\n",
      "   avg / total       0.89      0.88      0.86         8\n",
      "\n",
      "CLASSFIER FOR USER 2\n",
      "60 train examples and 16 test examples\n",
      "Best params for linear kernel: {'C': 1.0} with score 0.72917\n",
      "--- test results for linear kernel:\n",
      "                precision    recall  f1-score   support\n",
      "\n",
      "           eat       1.00      0.83      0.91         6\n",
      "focused-active       0.91      1.00      0.95        10\n",
      "\n",
      "   avg / total       0.94      0.94      0.94        16\n",
      "\n"
     ]
    },
    {
     "name": "stderr",
     "output_type": "stream",
     "text": [
      "C:\\Users\\julia\\Anaconda3\\lib\\site-packages\\sklearn\\utils\\validation.py:444: DataConversionWarning: Data with input dtype int64 was converted to float64 by the scale function.\n",
      "  warnings.warn(msg, DataConversionWarning)\n"
     ]
    },
    {
     "name": "stdout",
     "output_type": "stream",
     "text": [
      "Best params for RBF kernel: {'C': 10.0, 'gamma': 0.01} with score 0.79167\n",
      "--- test results for RBF kernel:\n",
      "                precision    recall  f1-score   support\n",
      "\n",
      "           eat       0.75      0.50      0.60         6\n",
      "focused-active       0.75      0.90      0.82        10\n",
      "\n",
      "   avg / total       0.75      0.75      0.74        16\n",
      "\n"
     ]
    }
   ],
   "source": [
    "hp.runFlowByUser(df_active)"
   ]
  },
  {
   "cell_type": "code",
   "execution_count": null,
   "metadata": {
    "collapsed": true
   },
   "outputs": [],
   "source": []
  }
 ],
 "metadata": {
  "kernelspec": {
   "display_name": "Python 3",
   "language": "python",
   "name": "python3"
  },
  "language_info": {
   "codemirror_mode": {
    "name": "ipython",
    "version": 3
   },
   "file_extension": ".py",
   "mimetype": "text/x-python",
   "name": "python",
   "nbconvert_exporter": "python",
   "pygments_lexer": "ipython3",
   "version": "3.6.2"
  }
 },
 "nbformat": 4,
 "nbformat_minor": 2
}
