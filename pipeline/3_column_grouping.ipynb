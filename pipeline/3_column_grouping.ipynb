{
 "cells": [
  {
   "cell_type": "code",
   "execution_count": 1,
   "metadata": {},
   "outputs": [],
   "source": [
    "%load_ext autoreload\n",
    "%autoreload 2\n",
    "%matplotlib inline  \n",
    "\n",
    "import pandas as pd\n",
    "import numpy as np\n",
    "import matplotlib.pyplot as plt"
   ]
  },
  {
   "cell_type": "code",
   "execution_count": 5,
   "metadata": {},
   "outputs": [],
   "source": [
    "# DATA_PATH = '/home/ju/GDrive/Projects/HeRV/Data/PreProcessed/'\n",
    "DATA_PATH = \"C:\\\\Users\\\\ju\\\\GDrive\\\\Projects\\\\HeRV\\\\Data\\\\PreProcessed\\\\\"\n"
   ]
  },
  {
   "cell_type": "code",
   "execution_count": 6,
   "metadata": {},
   "outputs": [],
   "source": [
    "features_fd = ['hf', 'lf', 'lf_hf', 'vlf']\n",
    "features_td = ['mhr', 'mrri', 'pnn50', 'rmssd', 'sdnn']\n",
    "features_all = [elem for lst in [features_td, features_fd] for elem in lst]"
   ]
  },
  {
   "cell_type": "code",
   "execution_count": 17,
   "metadata": {},
   "outputs": [
    {
     "ename": "TypeError",
     "evalue": "'NoneType' object is not iterable",
     "output_type": "error",
     "traceback": [
      "\u001b[1;31m---------------------------------------------------------------------------\u001b[0m",
      "\u001b[1;31mTypeError\u001b[0m                                 Traceback (most recent call last)",
      "\u001b[1;32m<ipython-input-17-0995961833d8>\u001b[0m in \u001b[0;36m<module>\u001b[1;34m()\u001b[0m\n\u001b[0;32m     37\u001b[0m \u001b[1;33m\u001b[0m\u001b[0m\n\u001b[0;32m     38\u001b[0m \u001b[0mim1\u001b[0m \u001b[1;33m=\u001b[0m \u001b[0minv_map\u001b[0m\u001b[1;33m(\u001b[0m\u001b[0mgr_1\u001b[0m\u001b[1;33m)\u001b[0m\u001b[1;33m\u001b[0m\u001b[0m\n\u001b[1;32m---> 39\u001b[1;33m \u001b[0mim2\u001b[0m \u001b[1;33m=\u001b[0m \u001b[0minv_map\u001b[0m\u001b[1;33m(\u001b[0m\u001b[0mgr_2\u001b[0m\u001b[1;33m)\u001b[0m\u001b[1;33m\u001b[0m\u001b[0m\n\u001b[0m\u001b[0;32m     40\u001b[0m \u001b[0mim3\u001b[0m \u001b[1;33m=\u001b[0m \u001b[0minv_map\u001b[0m\u001b[1;33m(\u001b[0m\u001b[0mgr_3\u001b[0m\u001b[1;33m)\u001b[0m\u001b[1;33m\u001b[0m\u001b[0m\n\u001b[0;32m     41\u001b[0m \u001b[0mim4\u001b[0m \u001b[1;33m=\u001b[0m \u001b[0minv_map\u001b[0m\u001b[1;33m(\u001b[0m\u001b[0mgr_4\u001b[0m\u001b[1;33m)\u001b[0m\u001b[1;33m\u001b[0m\u001b[0m\n",
      "\u001b[1;32m<ipython-input-17-0995961833d8>\u001b[0m in \u001b[0;36minv_map\u001b[1;34m(dic)\u001b[0m\n\u001b[0;32m     34\u001b[0m \u001b[1;33m\u001b[0m\u001b[0m\n\u001b[0;32m     35\u001b[0m \u001b[1;32mdef\u001b[0m \u001b[0minv_map\u001b[0m\u001b[1;33m(\u001b[0m\u001b[0mdic\u001b[0m\u001b[1;33m)\u001b[0m\u001b[1;33m:\u001b[0m\u001b[1;33m\u001b[0m\u001b[0m\n\u001b[1;32m---> 36\u001b[1;33m     \u001b[1;32mreturn\u001b[0m \u001b[1;33m{\u001b[0m\u001b[0mx\u001b[0m\u001b[1;33m:\u001b[0m \u001b[0mk\u001b[0m \u001b[1;32mfor\u001b[0m \u001b[0mk\u001b[0m\u001b[1;33m,\u001b[0m \u001b[0mv\u001b[0m \u001b[1;32min\u001b[0m \u001b[0mdic\u001b[0m\u001b[1;33m.\u001b[0m\u001b[0mitems\u001b[0m\u001b[1;33m(\u001b[0m\u001b[1;33m)\u001b[0m \u001b[1;32mfor\u001b[0m \u001b[0mx\u001b[0m \u001b[1;32min\u001b[0m \u001b[0mv\u001b[0m\u001b[1;33m}\u001b[0m\u001b[1;33m\u001b[0m\u001b[0m\n\u001b[0m\u001b[0;32m     37\u001b[0m \u001b[1;33m\u001b[0m\u001b[0m\n\u001b[0;32m     38\u001b[0m \u001b[0mim1\u001b[0m \u001b[1;33m=\u001b[0m \u001b[0minv_map\u001b[0m\u001b[1;33m(\u001b[0m\u001b[0mgr_1\u001b[0m\u001b[1;33m)\u001b[0m\u001b[1;33m\u001b[0m\u001b[0m\n",
      "\u001b[1;32m<ipython-input-17-0995961833d8>\u001b[0m in \u001b[0;36m<dictcomp>\u001b[1;34m(.0)\u001b[0m\n\u001b[0;32m     34\u001b[0m \u001b[1;33m\u001b[0m\u001b[0m\n\u001b[0;32m     35\u001b[0m \u001b[1;32mdef\u001b[0m \u001b[0minv_map\u001b[0m\u001b[1;33m(\u001b[0m\u001b[0mdic\u001b[0m\u001b[1;33m)\u001b[0m\u001b[1;33m:\u001b[0m\u001b[1;33m\u001b[0m\u001b[0m\n\u001b[1;32m---> 36\u001b[1;33m     \u001b[1;32mreturn\u001b[0m \u001b[1;33m{\u001b[0m\u001b[0mx\u001b[0m\u001b[1;33m:\u001b[0m \u001b[0mk\u001b[0m \u001b[1;32mfor\u001b[0m \u001b[0mk\u001b[0m\u001b[1;33m,\u001b[0m \u001b[0mv\u001b[0m \u001b[1;32min\u001b[0m \u001b[0mdic\u001b[0m\u001b[1;33m.\u001b[0m\u001b[0mitems\u001b[0m\u001b[1;33m(\u001b[0m\u001b[1;33m)\u001b[0m \u001b[1;32mfor\u001b[0m \u001b[0mx\u001b[0m \u001b[1;32min\u001b[0m \u001b[0mv\u001b[0m\u001b[1;33m}\u001b[0m\u001b[1;33m\u001b[0m\u001b[0m\n\u001b[0m\u001b[0;32m     37\u001b[0m \u001b[1;33m\u001b[0m\u001b[0m\n\u001b[0;32m     38\u001b[0m \u001b[0mim1\u001b[0m \u001b[1;33m=\u001b[0m \u001b[0minv_map\u001b[0m\u001b[1;33m(\u001b[0m\u001b[0mgr_1\u001b[0m\u001b[1;33m)\u001b[0m\u001b[1;33m\u001b[0m\u001b[0m\n",
      "\u001b[1;31mTypeError\u001b[0m: 'NoneType' object is not iterable"
     ]
    }
   ],
   "source": [
    "sleeplist = ['sleep', 'sleeping']\n",
    "exerciselist = ['exercise', 'exercise-high', 'exercise-low']\n",
    "movelist = ['movement', 'household-chores']\n",
    "activelist = ['rest-active', 'focused-active', 'leisure-active', 'eat']\n",
    "stresslist1 =  ['focused-passive', 'focused-passive ','focused-active']\n",
    "stresslist2 = ['focused-passive', 'focused-passive ','focused-active','rest-active', 'eat']\n",
    "relaxlist1 = ['rest-active', 'rest-passive', 'leisure-passive', 'leisure-active']\n",
    "relaxlist2 = ['rest-passive', 'leisure-passive', 'leisure-active']\n",
    "\n",
    "\n",
    "gr_1 = {'sleep': sleeplist, \n",
    "        'exercise': exerciselist,\n",
    "        'move': movelist ,\n",
    "        'active_standing': activelist,\n",
    "        'passive_standing': ['rest-passive', 'leisure-passive', 'focused-passive', 'focused-passive ']}\n",
    "\n",
    "gr_2 = { 'sleep': sleeplist, \n",
    "         'exercise': exerciselist,\n",
    "         'move': movelist,\n",
    "         'focused': ['eat'].extend(stresslist1),\n",
    "         'rest': relaxlist1}\n",
    "\n",
    "gr_3 = { 'sleep': sleeplist, \n",
    "         'exercise': exerciselist,\n",
    "         'move': movelist,\n",
    "         'focused': stresslist1,\n",
    "         'rest': ['eat'].extend(relaxlist1)}\n",
    "\n",
    "gr_4 = { 'sleep': sleeplist, \n",
    "         'exercise': exerciselist,\n",
    "         'move': movelist,\n",
    "         'stress': stresslist2,\n",
    "         'relax' : relaxlist2}\n",
    "\n",
    "def inv_map(dic):\n",
    "    return {x: k for k, v in dic.items() for x in v}\n",
    "\n",
    "im1 = inv_map(gr_1)\n",
    "im2 = inv_map(gr_2)\n",
    "im3 = inv_map(gr_3)\n",
    "im4 = inv_map(gr_4)"
   ]
  },
  {
   "cell_type": "code",
   "execution_count": 13,
   "metadata": {},
   "outputs": [],
   "source": [
    "for crop in [90, 60]:\n",
    "    for duration in [300, 240, 180, 150, 120, 90, 60]:\n",
    "        bundle = 'df_' + str(duration) + '_' + str(crop)\n",
    "        filename = DATA_PATH + bundle + '.xlsx'\n",
    "        df = pd.read_excel(filename)\n",
    "        df['activity_gr1'] = df['activity'].map(im1)\n",
    "        df['activity_gr2'] = df['activity'].map(im2)\n",
    "        df['activity_gr3'] = df['activity'].map(im3)\n",
    "        df['activity_gr4'] = df['activity'].map(im4)\n",
    "        df.to_excel(DATA_PATH + bundle + '_grouped.xlsx'  )"
   ]
  },
  {
   "cell_type": "code",
   "execution_count": 19,
   "metadata": {},
   "outputs": [],
   "source": [
    "def add_partition(df, includelist, pname='partition', labelIn='in', labelOut='out'):\n",
    "    df[pname] = np.where(df['activity'].isin(includelist), labelIn, labelOut)\n",
    "    return df"
   ]
  },
  {
   "cell_type": "code",
   "execution_count": 20,
   "metadata": {},
   "outputs": [],
   "source": [
    "for crop in [90, 60]:\n",
    "    for duration in [300, 240, 180, 150, 120, 90, 60]:\n",
    "        bundle = 'df_' + str(duration) + '_' + str(crop)\n",
    "        filename = DATA_PATH + bundle + '.xlsx'\n",
    "        df = pd.read_excel(filename)\n",
    "        add_partition(df, sleeplist, pname='sleep', labelIn=1, labelOut=0)\n",
    "        add_partition(df, exerciselist, pname='exercise', labelIn=1, labelOut=0)\n",
    "        add_partition(df, movelist, pname='move', labelIn=1, labelOut=0)\n",
    "        add_partition(df, stresslist1, pname='stress1', labelIn=1, labelOut=0)\n",
    "        add_partition(df, stresslist2, pname='stress2', labelIn=1, labelOut=0)\n",
    "        add_partition(df, relaxlist1, pname='relax1', labelIn=1, labelOut=0)\n",
    "        add_partition(df, relaxlist2, pname='relax2', labelIn=1, labelOut=0)\n",
    "        df.to_excel(DATA_PATH + bundle + '_encoded.xlsx'  )"
   ]
  },
  {
   "cell_type": "code",
   "execution_count": null,
   "metadata": {},
   "outputs": [],
   "source": []
  }
 ],
 "metadata": {
  "kernelspec": {
   "display_name": "Python 3",
   "language": "python",
   "name": "python3"
  },
  "language_info": {
   "codemirror_mode": {
    "name": "ipython",
    "version": 3
   },
   "file_extension": ".py",
   "mimetype": "text/x-python",
   "name": "python",
   "nbconvert_exporter": "python",
   "pygments_lexer": "ipython3",
   "version": "3.6.3"
  }
 },
 "nbformat": 4,
 "nbformat_minor": 2
}
