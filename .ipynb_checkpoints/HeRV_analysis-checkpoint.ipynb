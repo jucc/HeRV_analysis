{
 "cells": [
  {
   "cell_type": "code",
   "execution_count": 1,
   "metadata": {
    "collapsed": true
   },
   "outputs": [],
   "source": [
    "import numpy as np\n",
    "import matplotlib.pyplot as plt\n",
    "\n",
    "from sklearn import svm\n",
    "from sklearn import preprocessing\n",
    "\n",
    "from sklearn.model_selection import StratifiedShuffleSplit\n",
    "from sklearn.model_selection import GridSearchCV"
   ]
  },
  {
   "cell_type": "code",
   "execution_count": null,
   "metadata": {
    "collapsed": true
   },
   "outputs": [],
   "source": [
    "filename = 'data/5m_sessions_r.csv'\n",
    "k = 5 # k-fold cross validation (one in each k examples will be used for validation, the others for training)\n",
    "dtype = \"i4,U20,U5,U20,i4,f4,f4,f4,f4,f4,f4,f4,f4,f4,f4,f4,f4,f4,f4,f4\"\n",
    "\n",
    "features=['AVGNN','SDNN'\",'MeanHR','SDHR','MinHR','MaxHR','RMSSD','NNxx','pNNxx', 'triangularindex', 'TINN', 'powerVLF', 'powerLF', 'powerHF', 'ratioHFLF', 'peakVLF', 'peakLF', 'peakHF']"
   ]
  },
  {
   "cell_type": "markdown",
   "metadata": {},
   "source": [
    "## 1 - Extract data from the csv file and split it into labels and features"
   ]
  },
  {
   "cell_type": "code",
   "execution_count": 2,
   "metadata": {},
   "outputs": [
    {
     "name": "stdout",
     "output_type": "stream",
     "text": [
      "(51,)\n",
      "(51, 15)\n",
      "[  687.15997314    74.40599823    87.31600189     8.82079983    68.35299683\n",
      "   103.69999695    40.04800034    59.            13.81700039    11.26299953\n",
      "   312.          1804.09997559  3734.39990234   771.40002441     4.84110022]\n",
      "[-1.70398962  0.23693743  1.87388173  1.07219059  1.28863555  1.16330654\n",
      "  0.14550287  0.04431825 -0.29998112 -1.62512662 -0.47367837 -0.34975513\n",
      "  1.65765672  0.8400598   0.55669211]\n",
      "['eat' 'focused-active' 'leisure-passive']\n"
     ]
    }
   ],
   "source": [
    "data = np.genfromtxt(filename, delimiter=',', dtype=dtype, names=True) \n",
    "\n",
    "labels = np.array([x[1] for x in data])\n",
    "features = np.array([x.tolist()[5:20] for x in data])\n",
    "\n",
    "print(labels.shape)\n",
    "print(features.shape)\n",
    "\n",
    "print (features[0])\n",
    "features = preprocessing.scale(features)\n",
    "print (features[0])\n",
    "\n",
    "print(np.unique(labels))"
   ]
  },
  {
   "cell_type": "markdown",
   "metadata": {},
   "source": [
    "## 2 - split into test and train datasets (balanced by label)"
   ]
  },
  {
   "cell_type": "code",
   "execution_count": 3,
   "metadata": {},
   "outputs": [
    {
     "name": "stdout",
     "output_type": "stream",
     "text": [
      "eat: 10 examples (8 for train and 2 for test)\n",
      "focused-active: 21 examples (17 for train and 4 for test)\n",
      "leisure-passive: 20 examples (16 for train and 4 for test)\n",
      "\n",
      "Total: 41 train examples and 10 test examples \n"
     ]
    }
   ],
   "source": [
    "dic = [{'label': label, 'features': features[labels==label]} for label in np.unique(labels)]\n",
    "\n",
    "def validateLen (a, b, c):\n",
    "    return a == len(b) and a == len(c)\n",
    "\n",
    "testlabels  = []\n",
    "trainlabels = []\n",
    "testfeatures  = []\n",
    "trainfeatures = []\n",
    "\n",
    "for activity in dic:\n",
    "    n = len(activity['features'])\n",
    "    n_test = int(n/k)\n",
    "    n_train = n - n_test    \n",
    "    ltest = [activity['label'] for i in range(n_test)]\n",
    "    ltrain = [activity['label'] for i in range(n_train)]\n",
    "    ftest = activity['features'][0:n_test]\n",
    "    ftrain = activity['features'][n_test:n]\n",
    "    if not validateLen(n_train, ltrain, ftrain) or not validateLen(n_test, ltest, ftest):\n",
    "        print (\"Error in len of train and test sets\")\n",
    "        break\n",
    "    print (\"%s: %d examples (%d for train and %d for test)\"%(activity['label'], n, n_train, n_test))\n",
    "    testlabels.extend(ltest)\n",
    "    trainlabels.extend(ltrain)\n",
    "    testfeatures.extend(ftest)\n",
    "    trainfeatures.extend(ftrain)\n",
    "   \n",
    " \n",
    "print(\"\\nTotal: %d train examples and %d test examples \"%(len(trainfeatures), len(testfeatures)))"
   ]
  },
  {
   "cell_type": "code",
   "execution_count": 4,
   "metadata": {
    "collapsed": true
   },
   "outputs": [],
   "source": [
    "def printResults(expected, result):\n",
    "    print(\"expected\\t\\tresult\")\n",
    "    print(\"------------------------------\")\n",
    "    correct = 0\n",
    "    for i in range(len(expected)):\n",
    "        print (\"%s\\t\\t%s\"%(expected[i], result[i]))\n",
    "        if expected[i] == result[i]:\n",
    "            correct += 1\n",
    "    print(\"Got %d out of %d right! :)\"%(correct,len(testlabels)))"
   ]
  },
  {
   "cell_type": "markdown",
   "metadata": {},
   "source": [
    "## 3 - apply classifier (raw)"
   ]
  },
  {
   "cell_type": "code",
   "execution_count": 10,
   "metadata": {},
   "outputs": [
    {
     "name": "stdout",
     "output_type": "stream",
     "text": [
      "Linear Kernel, C=1\n",
      "\n",
      "expected\t\tresult\n",
      "------------------------------\n",
      "eat\t\teat\n",
      "eat\t\teat\n",
      "focused-active\t\tfocused-active\n",
      "focused-active\t\teat\n",
      "focused-active\t\tleisure-passive\n",
      "focused-active\t\teat\n",
      "leisure-passive\t\teat\n",
      "leisure-passive\t\tleisure-passive\n",
      "leisure-passive\t\tleisure-passive\n",
      "leisure-passive\t\teat\n",
      "Got 5 out of 10 right! :)\n",
      "\n",
      "\n",
      "\n",
      "RBF Kernel, C=1, gamma=0.001\n",
      "\n",
      "expected\t\tresult\n",
      "------------------------------\n",
      "eat\t\teat\n",
      "eat\t\teat\n",
      "focused-active\t\tleisure-passive\n",
      "focused-active\t\tleisure-passive\n",
      "focused-active\t\tleisure-passive\n",
      "focused-active\t\tleisure-passive\n",
      "leisure-passive\t\tleisure-passive\n",
      "leisure-passive\t\tleisure-passive\n",
      "leisure-passive\t\tleisure-passive\n",
      "leisure-passive\t\tleisure-passive\n",
      "Got 6 out of 10 right! :)\n"
     ]
    }
   ],
   "source": [
    "clf1 = svm.SVC(kernel='linear', cache_size=1000, C=1)\n",
    "clf1.fit(X=trainfeatures, y=trainlabels)\n",
    "\n",
    "print (\"Linear Kernel, C=1\\n\")\n",
    "printResults(testlabels, clf1.predict(testfeatures))\n",
    "\n",
    "clf2 = svm.SVC(kernel='rbf', cache_size=1000, C=1, gamma=0.01)\n",
    "clf2.fit(X=trainfeatures, y=trainlabels)\n",
    "\n",
    "print (\"\\n\\n\\nRBF Kernel, C=1, gamma=0.001\\n\")\n",
    "printResults(testlabels, clf2.predict(testfeatures))"
   ]
  },
  {
   "cell_type": "code",
   "execution_count": null,
   "metadata": {
    "collapsed": true
   },
   "outputs": [],
   "source": []
  }
 ],
 "metadata": {
  "kernelspec": {
   "display_name": "Python 3",
   "language": "python",
   "name": "python3"
  },
  "language_info": {
   "codemirror_mode": {
    "name": "ipython",
    "version": 3
   },
   "file_extension": ".py",
   "mimetype": "text/x-python",
   "name": "python",
   "nbconvert_exporter": "python",
   "pygments_lexer": "ipython3",
   "version": "3.6.2"
  }
 },
 "nbformat": 4,
 "nbformat_minor": 2
}
