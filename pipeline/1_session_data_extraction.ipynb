{
 "cells": [
  {
   "cell_type": "code",
   "execution_count": 1,
   "metadata": {},
   "outputs": [],
   "source": [
    "%load_ext autoreload\n",
    "%autoreload 2\n",
    "%matplotlib inline  \n",
    "\n",
    "import pandas as pd\n",
    "import numpy as np\n",
    "\n",
    "from datetime import datetime, timedelta, date\n",
    "import parseIntervalFiles as pif\n",
    "import parseActivityFiles as paf\n",
    "#pun intended :)\n",
    "import consolidateFiles as cf\n",
    "import datacleaning as cl"
   ]
  },
  {
   "cell_type": "markdown",
   "metadata": {},
   "source": [
    "## ! Parse activity files and parse interval files are to be replaced with the corresponding database queries as soon as they are available "
   ]
  },
  {
   "cell_type": "markdown",
   "metadata": {},
   "source": [
    "## 0 - Pipeline configuration \n",
    "* set the input/output directories, user id and verbose level"
   ]
  },
  {
   "cell_type": "code",
   "execution_count": 2,
   "metadata": {},
   "outputs": [],
   "source": [
    "verbose = True\n",
    "    \n",
    "DATA_PATH = \"C:\\\\Users\\\\ju\\\\GDrive\\\\Projects\\\\HeRV\\\\Data\\\\\" \n",
    "# DATA_PATH = \"/home/ju/GDrive/Projects/HeRV/Data/\"\n",
    "    \n",
    "RAW_PATH = DATA_PATH + \"Raw\"\n",
    "PRE_PATH = DATA_PATH + \"PreProcessed\" \n",
    "\n",
    "dt1 = datetime(2017,9,28)\n",
    "dt2 = datetime.now()"
   ]
  },
  {
   "cell_type": "markdown",
   "metadata": {},
   "source": [
    "## 1 - Extract sessions from raw data (intervals + annotations files)"
   ]
  },
  {
   "cell_type": "markdown",
   "metadata": {},
   "source": [
    "### 1.1 - List activities with session start/stop datetime\n",
    "Parses activities files and prints all errors found (activities without start or stop, invalid dates, etc)"
   ]
  },
  {
   "cell_type": "code",
   "execution_count": 3,
   "metadata": {
    "scrolled": true
   },
   "outputs": [
    {
     "name": "stdout",
     "output_type": "stream",
     "text": [
      "------- parsing activity files for user  0  -------\n",
      "------- parsing interval files for user  0  -------\n",
      "------- parsing activity files for user  1  -------\n",
      "------- parsing interval files for user  1  -------\n",
      "------- parsing activity files for user  2  -------\n",
      "------- parsing interval files for user  2  -------\n",
      "------- parsing activity files for user  3  -------\n",
      "------- parsing interval files for user  3  -------\n",
      "------- parsing activity files for user  4  -------\n",
      "------- parsing interval files for user  4  -------\n",
      "------- parsing activity files for user  5  -------\n",
      "------- parsing interval files for user  5  -------\n",
      "------- parsing activity files for user  6  -------\n",
      "------- parsing interval files for user  6  -------\n"
     ]
    }
   ],
   "source": [
    "sessions = []\n",
    "for user in range(7):\n",
    "    print (\"------- parsing activity files for user \", user, \" -------\")\n",
    "    user_sess = cf.get_user_sessions(user, dt1, dt2, RAW_PATH, verbose=False)\n",
    "    print (\"------- parsing interval files for user \", user, \" -------\")\n",
    "    user_sess = cf.sessions_add_beats(user_sess, RAW_PATH, verbose=False)\n",
    "    sessions.extend(user_sess)"
   ]
  },
  {
   "cell_type": "code",
   "execution_count": 4,
   "metadata": {},
   "outputs": [],
   "source": [
    "df = pd.DataFrame(sessions)"
   ]
  },
  {
   "cell_type": "markdown",
   "metadata": {},
   "source": [
    "### Include column with beats count for ease of use "
   ]
  },
  {
   "cell_type": "code",
   "execution_count": 5,
   "metadata": {},
   "outputs": [],
   "source": [
    "df['beatscount'] = df['rr'].apply(len)"
   ]
  },
  {
   "cell_type": "code",
   "execution_count": 6,
   "metadata": {},
   "outputs": [
    {
     "data": {
      "text/html": [
       "<div>\n",
       "<style>\n",
       "    .dataframe thead tr:only-child th {\n",
       "        text-align: right;\n",
       "    }\n",
       "\n",
       "    .dataframe thead th {\n",
       "        text-align: left;\n",
       "    }\n",
       "\n",
       "    .dataframe tbody tr th {\n",
       "        vertical-align: top;\n",
       "    }\n",
       "</style>\n",
       "<table border=\"1\" class=\"dataframe\">\n",
       "  <thead>\n",
       "    <tr style=\"text-align: right;\">\n",
       "      <th></th>\n",
       "      <th>activity</th>\n",
       "      <th>duration</th>\n",
       "      <th>notes</th>\n",
       "      <th>posture</th>\n",
       "      <th>rr</th>\n",
       "      <th>start</th>\n",
       "      <th>stop</th>\n",
       "      <th>user</th>\n",
       "      <th>beatscount</th>\n",
       "    </tr>\n",
       "  </thead>\n",
       "  <tbody>\n",
       "    <tr>\n",
       "      <th>497</th>\n",
       "      <td>rest-passive</td>\n",
       "      <td>1080</td>\n",
       "      <td>taxi</td>\n",
       "      <td>sit</td>\n",
       "      <td>[{'date': 2017-12-27 12:52:01, 'interval': 943...</td>\n",
       "      <td>2017-12-27 12:52:00</td>\n",
       "      <td>2017-12-27 13:10:00</td>\n",
       "      <td>5</td>\n",
       "      <td>1174</td>\n",
       "    </tr>\n",
       "    <tr>\n",
       "      <th>410</th>\n",
       "      <td>leisure-passive</td>\n",
       "      <td>900</td>\n",
       "      <td>NaN</td>\n",
       "      <td>lie</td>\n",
       "      <td>[{'date': 2017-10-11 13:32:01, 'interval': 907...</td>\n",
       "      <td>2017-10-11 13:32:00</td>\n",
       "      <td>2017-10-11 13:47:00</td>\n",
       "      <td>2</td>\n",
       "      <td>1173</td>\n",
       "    </tr>\n",
       "  </tbody>\n",
       "</table>\n",
       "</div>"
      ],
      "text/plain": [
       "            activity  duration notes posture  \\\n",
       "497     rest-passive      1080  taxi     sit   \n",
       "410  leisure-passive       900   NaN     lie   \n",
       "\n",
       "                                                    rr               start  \\\n",
       "497  [{'date': 2017-12-27 12:52:01, 'interval': 943... 2017-12-27 12:52:00   \n",
       "410  [{'date': 2017-10-11 13:32:01, 'interval': 907... 2017-10-11 13:32:00   \n",
       "\n",
       "                   stop  user  beatscount  \n",
       "497 2017-12-27 13:10:00     5        1174  \n",
       "410 2017-10-11 13:47:00     2        1173  "
      ]
     },
     "execution_count": 6,
     "metadata": {},
     "output_type": "execute_result"
    }
   ],
   "source": [
    "df.sample(2)"
   ]
  },
  {
   "cell_type": "markdown",
   "metadata": {},
   "source": [
    "## 2 - Cleaning data"
   ]
  },
  {
   "cell_type": "markdown",
   "metadata": {},
   "source": [
    "### 2.1 Removing outliers and artifacts\n",
    "\n",
    "(Note: For now, beats won't be saved to the output file, so, when loading the sessions file and getting\n",
    "beats from DB again, for example for fragmentation, they will have to be removed again. But this is a reasonably low-cost op)"
   ]
  },
  {
   "cell_type": "code",
   "execution_count": 7,
   "metadata": {},
   "outputs": [],
   "source": [
    "df['rr'] = df['rr'].apply(cl.clean_rr_series)"
   ]
  },
  {
   "cell_type": "code",
   "execution_count": 8,
   "metadata": {},
   "outputs": [],
   "source": [
    "df['beatscount_clean'] = df['rr'].apply(len)"
   ]
  },
  {
   "cell_type": "code",
   "execution_count": 9,
   "metadata": {},
   "outputs": [],
   "source": [
    "df['removed_artifacts'] = df['beatscount'] - df['beatscount_clean']\n",
    "df['beatscount'] = df['beatscount_clean']\n",
    "df = df.drop(['beatscount_clean'], axis=1)"
   ]
  },
  {
   "cell_type": "code",
   "execution_count": 10,
   "metadata": {},
   "outputs": [
    {
     "data": {
      "text/html": [
       "<div>\n",
       "<style>\n",
       "    .dataframe thead tr:only-child th {\n",
       "        text-align: right;\n",
       "    }\n",
       "\n",
       "    .dataframe thead th {\n",
       "        text-align: left;\n",
       "    }\n",
       "\n",
       "    .dataframe tbody tr th {\n",
       "        vertical-align: top;\n",
       "    }\n",
       "</style>\n",
       "<table border=\"1\" class=\"dataframe\">\n",
       "  <thead>\n",
       "    <tr style=\"text-align: right;\">\n",
       "      <th></th>\n",
       "      <th>duration</th>\n",
       "      <th>user</th>\n",
       "      <th>beatscount</th>\n",
       "      <th>removed_artifacts</th>\n",
       "    </tr>\n",
       "  </thead>\n",
       "  <tbody>\n",
       "    <tr>\n",
       "      <th>count</th>\n",
       "      <td>532.000000</td>\n",
       "      <td>532.000000</td>\n",
       "      <td>532.000000</td>\n",
       "      <td>532.000000</td>\n",
       "    </tr>\n",
       "    <tr>\n",
       "      <th>mean</th>\n",
       "      <td>3043.436090</td>\n",
       "      <td>1.187970</td>\n",
       "      <td>3361.998120</td>\n",
       "      <td>19.199248</td>\n",
       "    </tr>\n",
       "    <tr>\n",
       "      <th>std</th>\n",
       "      <td>6849.224136</td>\n",
       "      <td>1.647462</td>\n",
       "      <td>6319.132273</td>\n",
       "      <td>57.303876</td>\n",
       "    </tr>\n",
       "    <tr>\n",
       "      <th>min</th>\n",
       "      <td>0.000000</td>\n",
       "      <td>0.000000</td>\n",
       "      <td>0.000000</td>\n",
       "      <td>0.000000</td>\n",
       "    </tr>\n",
       "    <tr>\n",
       "      <th>25%</th>\n",
       "      <td>625.250000</td>\n",
       "      <td>0.000000</td>\n",
       "      <td>670.000000</td>\n",
       "      <td>0.000000</td>\n",
       "    </tr>\n",
       "    <tr>\n",
       "      <th>50%</th>\n",
       "      <td>1195.500000</td>\n",
       "      <td>0.000000</td>\n",
       "      <td>1507.500000</td>\n",
       "      <td>0.000000</td>\n",
       "    </tr>\n",
       "    <tr>\n",
       "      <th>75%</th>\n",
       "      <td>2234.500000</td>\n",
       "      <td>2.000000</td>\n",
       "      <td>3205.000000</td>\n",
       "      <td>9.000000</td>\n",
       "    </tr>\n",
       "    <tr>\n",
       "      <th>max</th>\n",
       "      <td>80732.000000</td>\n",
       "      <td>6.000000</td>\n",
       "      <td>46856.000000</td>\n",
       "      <td>591.000000</td>\n",
       "    </tr>\n",
       "  </tbody>\n",
       "</table>\n",
       "</div>"
      ],
      "text/plain": [
       "           duration        user    beatscount  removed_artifacts\n",
       "count    532.000000  532.000000    532.000000         532.000000\n",
       "mean    3043.436090    1.187970   3361.998120          19.199248\n",
       "std     6849.224136    1.647462   6319.132273          57.303876\n",
       "min        0.000000    0.000000      0.000000           0.000000\n",
       "25%      625.250000    0.000000    670.000000           0.000000\n",
       "50%     1195.500000    0.000000   1507.500000           0.000000\n",
       "75%     2234.500000    2.000000   3205.000000           9.000000\n",
       "max    80732.000000    6.000000  46856.000000         591.000000"
      ]
     },
     "execution_count": 10,
     "metadata": {},
     "output_type": "execute_result"
    }
   ],
   "source": [
    "df.describe()"
   ]
  },
  {
   "cell_type": "markdown",
   "metadata": {},
   "source": [
    "### 2.2 Removing sessions without beats recorded or with too few of them"
   ]
  },
  {
   "cell_type": "code",
   "execution_count": 11,
   "metadata": {},
   "outputs": [
    {
     "name": "stdout",
     "output_type": "stream",
     "text": [
      "44  sessions out of 532 removed for lack of interval data\n"
     ]
    }
   ],
   "source": [
    "l = len(df)\n",
    "df = df[df['beatscount'] > 100]\n",
    "print(l - len(df), ' sessions out of', l, 'removed for lack of interval data')"
   ]
  },
  {
   "cell_type": "markdown",
   "metadata": {},
   "source": [
    "### 2.3 Removing wrong activities and grouping the ones with too few examples"
   ]
  },
  {
   "cell_type": "code",
   "execution_count": 12,
   "metadata": {},
   "outputs": [
    {
     "data": {
      "text/plain": [
       "activity\n",
       "commute               3\n",
       "eat                  47\n",
       "exercise-high        19\n",
       "exercise-low          5\n",
       "focused-active      105\n",
       "focused-passive      48\n",
       "household-chores     30\n",
       "leisure-active        4\n",
       "leisure-passive      46\n",
       "movement             54\n",
       "not-recorded          4\n",
       "rest-active          27\n",
       "rest-passive         18\n",
       "sleep                34\n",
       "train-baseline       12\n",
       "train-breathe        16\n",
       "train-focus          16\n",
       "Name: duration, dtype: int64"
      ]
     },
     "execution_count": 12,
     "metadata": {},
     "output_type": "execute_result"
    }
   ],
   "source": [
    "df.groupby('activity').count()['duration']"
   ]
  },
  {
   "cell_type": "code",
   "execution_count": 13,
   "metadata": {},
   "outputs": [],
   "source": [
    "# we have too few exercise sessions to classify intensity\n",
    "df.at[df['activity']=='exercise-low', 'activity'] = 'exercise'\n",
    "df.at[df['activity']=='exercise-high', 'activity'] = 'exercise'\n",
    "\n",
    "# also we have too few leisure active sessions\n",
    "df.at[df['activity']=='leisure-active', 'activity'] = 'leisure'\n",
    "df.at[df['activity']=='leisure-passive', 'activity'] = 'leisure'\n",
    "\n",
    "# these were just mispelled\n",
    "df.at[df['activity']=='focused-passive ', 'activity'] = 'focused-passive'\n",
    "df.at[df['activity']=='focused-active ', 'activity'] = 'focused-active'\n",
    "df.at[df['activity']=='moving', 'activity'] = 'movement'\n",
    "\n",
    "# and these are not categorized\n",
    "df = df[df['activity']!='not-recorded']"
   ]
  },
  {
   "cell_type": "code",
   "execution_count": 14,
   "metadata": {},
   "outputs": [
    {
     "data": {
      "text/plain": [
       "activity\n",
       "commute               3\n",
       "eat                  47\n",
       "exercise             24\n",
       "focused-active      105\n",
       "focused-passive      48\n",
       "household-chores     30\n",
       "leisure              50\n",
       "movement             54\n",
       "rest-active          27\n",
       "rest-passive         18\n",
       "sleep                34\n",
       "train-baseline       12\n",
       "train-breathe        16\n",
       "train-focus          16\n",
       "Name: duration, dtype: int64"
      ]
     },
     "execution_count": 14,
     "metadata": {},
     "output_type": "execute_result"
    }
   ],
   "source": [
    "df.groupby('activity').count()['duration']"
   ]
  },
  {
   "cell_type": "code",
   "execution_count": 15,
   "metadata": {},
   "outputs": [
    {
     "data": {
      "text/plain": [
       "posture\n",
       "lie            37\n",
       "lying down     14\n",
       "sit           273\n",
       "sitting        53\n",
       "stand          81\n",
       "standing       26\n",
       "Name: duration, dtype: int64"
      ]
     },
     "execution_count": 15,
     "metadata": {},
     "output_type": "execute_result"
    }
   ],
   "source": [
    "df.groupby('posture').count()['duration']"
   ]
  },
  {
   "cell_type": "code",
   "execution_count": 16,
   "metadata": {},
   "outputs": [],
   "source": [
    "# correcting diverse spellings in postures\n",
    "df.at[df.posture == 'lying down', 'posture'] = 'lie'\n",
    "df.at[df.posture == 'sitting', 'posture'] = 'sit'\n",
    "df.at[df.posture.isin(['standing', 'standing ']), 'posture'] = 'stand'"
   ]
  },
  {
   "cell_type": "code",
   "execution_count": 17,
   "metadata": {},
   "outputs": [
    {
     "data": {
      "text/plain": [
       "posture\n",
       "lie       51\n",
       "sit      326\n",
       "stand    107\n",
       "Name: duration, dtype: int64"
      ]
     },
     "execution_count": 17,
     "metadata": {},
     "output_type": "execute_result"
    }
   ],
   "source": [
    "df.groupby('posture').count()['duration']"
   ]
  },
  {
   "cell_type": "markdown",
   "metadata": {},
   "source": [
    "## 3 - Aggregating data"
   ]
  },
  {
   "cell_type": "code",
   "execution_count": 18,
   "metadata": {},
   "outputs": [
    {
     "name": "stdout",
     "output_type": "stream",
     "text": [
      "239.316870462\n"
     ]
    }
   ],
   "source": [
    "dic = df.to_dict(orient='records')\n",
    "for i in dic:\n",
    "    i.update(cf.features_from_dic(i['rr']))\n",
    "print(dic[0]['rmssd'])"
   ]
  },
  {
   "cell_type": "code",
   "execution_count": 20,
   "metadata": {
    "scrolled": false
   },
   "outputs": [
    {
     "data": {
      "text/html": [
       "<div>\n",
       "<style>\n",
       "    .dataframe thead tr:only-child th {\n",
       "        text-align: right;\n",
       "    }\n",
       "\n",
       "    .dataframe thead th {\n",
       "        text-align: left;\n",
       "    }\n",
       "\n",
       "    .dataframe tbody tr th {\n",
       "        vertical-align: top;\n",
       "    }\n",
       "</style>\n",
       "<table border=\"1\" class=\"dataframe\">\n",
       "  <thead>\n",
       "    <tr style=\"text-align: right;\">\n",
       "      <th></th>\n",
       "      <th>activity</th>\n",
       "      <th>beatscount</th>\n",
       "      <th>duration</th>\n",
       "      <th>hf</th>\n",
       "      <th>hfnu</th>\n",
       "      <th>lf</th>\n",
       "      <th>lf_hf</th>\n",
       "      <th>lfnu</th>\n",
       "      <th>mhr</th>\n",
       "      <th>mrri</th>\n",
       "      <th>...</th>\n",
       "      <th>posture</th>\n",
       "      <th>removed_artifacts</th>\n",
       "      <th>rmssd</th>\n",
       "      <th>rr</th>\n",
       "      <th>sdnn</th>\n",
       "      <th>start</th>\n",
       "      <th>stop</th>\n",
       "      <th>total_power</th>\n",
       "      <th>user</th>\n",
       "      <th>vlf</th>\n",
       "    </tr>\n",
       "  </thead>\n",
       "  <tbody>\n",
       "    <tr>\n",
       "      <th>402</th>\n",
       "      <td>focused-active</td>\n",
       "      <td>1713</td>\n",
       "      <td>1440</td>\n",
       "      <td>743.667299</td>\n",
       "      <td>30.097725</td>\n",
       "      <td>1727.174903</td>\n",
       "      <td>2.322510</td>\n",
       "      <td>69.902275</td>\n",
       "      <td>73.718710</td>\n",
       "      <td>824.269119</td>\n",
       "      <td>...</td>\n",
       "      <td>sit</td>\n",
       "      <td>0</td>\n",
       "      <td>42.193909</td>\n",
       "      <td>[{'date': 2017-10-30 14:08:00, 'interval': 821...</td>\n",
       "      <td>88.688059</td>\n",
       "      <td>2017-10-30 14:07:00</td>\n",
       "      <td>2017-10-30 14:31:00</td>\n",
       "      <td>3955.046988</td>\n",
       "      <td>2</td>\n",
       "      <td>1484.204786</td>\n",
       "    </tr>\n",
       "    <tr>\n",
       "      <th>75</th>\n",
       "      <td>rest-active</td>\n",
       "      <td>375</td>\n",
       "      <td>270</td>\n",
       "      <td>837.726244</td>\n",
       "      <td>36.232724</td>\n",
       "      <td>1474.344569</td>\n",
       "      <td>1.759936</td>\n",
       "      <td>63.767276</td>\n",
       "      <td>82.616601</td>\n",
       "      <td>732.248000</td>\n",
       "      <td>...</td>\n",
       "      <td>sit</td>\n",
       "      <td>1</td>\n",
       "      <td>47.052678</td>\n",
       "      <td>[{'date': 2017-10-14 18:41:31, 'interval': 707...</td>\n",
       "      <td>66.722907</td>\n",
       "      <td>2017-10-14 18:41:30</td>\n",
       "      <td>2017-10-14 18:46:00</td>\n",
       "      <td>3650.866471</td>\n",
       "      <td>0</td>\n",
       "      <td>1338.795658</td>\n",
       "    </tr>\n",
       "  </tbody>\n",
       "</table>\n",
       "<p>2 rows × 23 columns</p>\n",
       "</div>"
      ],
      "text/plain": [
       "           activity  beatscount  duration          hf       hfnu           lf  \\\n",
       "402  focused-active        1713      1440  743.667299  30.097725  1727.174903   \n",
       "75      rest-active         375       270  837.726244  36.232724  1474.344569   \n",
       "\n",
       "        lf_hf       lfnu        mhr        mrri     ...       posture  \\\n",
       "402  2.322510  69.902275  73.718710  824.269119     ...           sit   \n",
       "75   1.759936  63.767276  82.616601  732.248000     ...           sit   \n",
       "\n",
       "    removed_artifacts      rmssd  \\\n",
       "402                 0  42.193909   \n",
       "75                  1  47.052678   \n",
       "\n",
       "                                                    rr       sdnn  \\\n",
       "402  [{'date': 2017-10-30 14:08:00, 'interval': 821...  88.688059   \n",
       "75   [{'date': 2017-10-14 18:41:31, 'interval': 707...  66.722907   \n",
       "\n",
       "                  start                stop  total_power user          vlf  \n",
       "402 2017-10-30 14:07:00 2017-10-30 14:31:00  3955.046988    2  1484.204786  \n",
       "75  2017-10-14 18:41:30 2017-10-14 18:46:00  3650.866471    0  1338.795658  \n",
       "\n",
       "[2 rows x 23 columns]"
      ]
     },
     "execution_count": 20,
     "metadata": {},
     "output_type": "execute_result"
    }
   ],
   "source": [
    "df = pd.DataFrame(dic)\n",
    "df.sample(2)"
   ]
  },
  {
   "cell_type": "code",
   "execution_count": 21,
   "metadata": {},
   "outputs": [],
   "source": [
    "df['sess_id'] = df.index"
   ]
  },
  {
   "cell_type": "code",
   "execution_count": 22,
   "metadata": {},
   "outputs": [
    {
     "data": {
      "text/html": [
       "<div>\n",
       "<style>\n",
       "    .dataframe thead tr:only-child th {\n",
       "        text-align: right;\n",
       "    }\n",
       "\n",
       "    .dataframe thead th {\n",
       "        text-align: left;\n",
       "    }\n",
       "\n",
       "    .dataframe tbody tr th {\n",
       "        vertical-align: top;\n",
       "    }\n",
       "</style>\n",
       "<table border=\"1\" class=\"dataframe\">\n",
       "  <thead>\n",
       "    <tr style=\"text-align: right;\">\n",
       "      <th></th>\n",
       "      <th>beatscount</th>\n",
       "      <th>duration</th>\n",
       "      <th>hf</th>\n",
       "      <th>hfnu</th>\n",
       "      <th>lf</th>\n",
       "      <th>lf_hf</th>\n",
       "      <th>lfnu</th>\n",
       "      <th>mhr</th>\n",
       "      <th>mrri</th>\n",
       "      <th>nn50</th>\n",
       "      <th>pnn50</th>\n",
       "      <th>removed_artifacts</th>\n",
       "      <th>rmssd</th>\n",
       "      <th>sdnn</th>\n",
       "      <th>total_power</th>\n",
       "      <th>user</th>\n",
       "      <th>vlf</th>\n",
       "      <th>sess_id</th>\n",
       "    </tr>\n",
       "  </thead>\n",
       "  <tbody>\n",
       "    <tr>\n",
       "      <th>count</th>\n",
       "      <td>484.000000</td>\n",
       "      <td>484.000000</td>\n",
       "      <td>484.000000</td>\n",
       "      <td>484.000000</td>\n",
       "      <td>484.000000</td>\n",
       "      <td>484.000000</td>\n",
       "      <td>484.000000</td>\n",
       "      <td>484.000000</td>\n",
       "      <td>484.000000</td>\n",
       "      <td>484.000000</td>\n",
       "      <td>484.000000</td>\n",
       "      <td>484.000000</td>\n",
       "      <td>484.000000</td>\n",
       "      <td>484.000000</td>\n",
       "      <td>484.000000</td>\n",
       "      <td>484.000000</td>\n",
       "      <td>484.000000</td>\n",
       "      <td>484.000000</td>\n",
       "    </tr>\n",
       "    <tr>\n",
       "      <th>mean</th>\n",
       "      <td>3668.192149</td>\n",
       "      <td>2921.464876</td>\n",
       "      <td>1889.967914</td>\n",
       "      <td>40.707411</td>\n",
       "      <td>1639.958230</td>\n",
       "      <td>2.208712</td>\n",
       "      <td>59.292589</td>\n",
       "      <td>88.084332</td>\n",
       "      <td>719.915459</td>\n",
       "      <td>847.438017</td>\n",
       "      <td>15.929233</td>\n",
       "      <td>21.000000</td>\n",
       "      <td>61.686185</td>\n",
       "      <td>85.073740</td>\n",
       "      <td>4708.694617</td>\n",
       "      <td>1.235537</td>\n",
       "      <td>1178.768472</td>\n",
       "      <td>241.500000</td>\n",
       "    </tr>\n",
       "    <tr>\n",
       "      <th>std</th>\n",
       "      <td>6529.407654</td>\n",
       "      <td>5857.589297</td>\n",
       "      <td>3621.520731</td>\n",
       "      <td>17.859961</td>\n",
       "      <td>1728.754108</td>\n",
       "      <td>2.181079</td>\n",
       "      <td>17.859961</td>\n",
       "      <td>18.699766</td>\n",
       "      <td>131.361043</td>\n",
       "      <td>2568.624824</td>\n",
       "      <td>15.081087</td>\n",
       "      <td>59.750135</td>\n",
       "      <td>49.369763</td>\n",
       "      <td>41.864380</td>\n",
       "      <td>5878.129793</td>\n",
       "      <td>1.675020</td>\n",
       "      <td>1034.925166</td>\n",
       "      <td>139.863028</td>\n",
       "    </tr>\n",
       "    <tr>\n",
       "      <th>min</th>\n",
       "      <td>105.000000</td>\n",
       "      <td>88.000000</td>\n",
       "      <td>14.709334</td>\n",
       "      <td>5.716321</td>\n",
       "      <td>36.995074</td>\n",
       "      <td>0.172079</td>\n",
       "      <td>14.681505</td>\n",
       "      <td>54.190501</td>\n",
       "      <td>368.977202</td>\n",
       "      <td>0.000000</td>\n",
       "      <td>0.000000</td>\n",
       "      <td>0.000000</td>\n",
       "      <td>5.402758</td>\n",
       "      <td>21.083352</td>\n",
       "      <td>150.076646</td>\n",
       "      <td>0.000000</td>\n",
       "      <td>52.162541</td>\n",
       "      <td>0.000000</td>\n",
       "    </tr>\n",
       "    <tr>\n",
       "      <th>25%</th>\n",
       "      <td>951.500000</td>\n",
       "      <td>725.500000</td>\n",
       "      <td>331.464097</td>\n",
       "      <td>27.364273</td>\n",
       "      <td>593.771793</td>\n",
       "      <td>0.822263</td>\n",
       "      <td>45.123170</td>\n",
       "      <td>76.102740</td>\n",
       "      <td>646.987098</td>\n",
       "      <td>51.750000</td>\n",
       "      <td>5.111446</td>\n",
       "      <td>0.000000</td>\n",
       "      <td>31.104931</td>\n",
       "      <td>57.828650</td>\n",
       "      <td>1569.029033</td>\n",
       "      <td>0.000000</td>\n",
       "      <td>483.727786</td>\n",
       "      <td>120.750000</td>\n",
       "    </tr>\n",
       "    <tr>\n",
       "      <th>50%</th>\n",
       "      <td>1714.500000</td>\n",
       "      <td>1258.500000</td>\n",
       "      <td>609.345694</td>\n",
       "      <td>37.861523</td>\n",
       "      <td>1149.164425</td>\n",
       "      <td>1.641211</td>\n",
       "      <td>62.138477</td>\n",
       "      <td>83.622505</td>\n",
       "      <td>728.134056</td>\n",
       "      <td>188.500000</td>\n",
       "      <td>11.900859</td>\n",
       "      <td>1.000000</td>\n",
       "      <td>45.705088</td>\n",
       "      <td>74.351150</td>\n",
       "      <td>2977.145911</td>\n",
       "      <td>0.000000</td>\n",
       "      <td>916.468465</td>\n",
       "      <td>241.500000</td>\n",
       "    </tr>\n",
       "    <tr>\n",
       "      <th>75%</th>\n",
       "      <td>3536.750000</td>\n",
       "      <td>2270.250000</td>\n",
       "      <td>1304.282538</td>\n",
       "      <td>54.876830</td>\n",
       "      <td>1923.512912</td>\n",
       "      <td>2.654479</td>\n",
       "      <td>72.635727</td>\n",
       "      <td>94.271131</td>\n",
       "      <td>802.770606</td>\n",
       "      <td>428.500000</td>\n",
       "      <td>21.226555</td>\n",
       "      <td>11.000000</td>\n",
       "      <td>71.926649</td>\n",
       "      <td>97.353373</td>\n",
       "      <td>4719.366780</td>\n",
       "      <td>2.000000</td>\n",
       "      <td>1533.214681</td>\n",
       "      <td>362.250000</td>\n",
       "    </tr>\n",
       "    <tr>\n",
       "      <th>max</th>\n",
       "      <td>46856.000000</td>\n",
       "      <td>34980.000000</td>\n",
       "      <td>22414.537885</td>\n",
       "      <td>85.318495</td>\n",
       "      <td>10846.431290</td>\n",
       "      <td>16.493768</td>\n",
       "      <td>94.283679</td>\n",
       "      <td>164.397688</td>\n",
       "      <td>1144.581425</td>\n",
       "      <td>20895.000000</td>\n",
       "      <td>81.780538</td>\n",
       "      <td>591.000000</td>\n",
       "      <td>290.138931</td>\n",
       "      <td>253.787250</td>\n",
       "      <td>36726.950587</td>\n",
       "      <td>6.000000</td>\n",
       "      <td>6926.126266</td>\n",
       "      <td>483.000000</td>\n",
       "    </tr>\n",
       "  </tbody>\n",
       "</table>\n",
       "</div>"
      ],
      "text/plain": [
       "         beatscount      duration            hf        hfnu            lf  \\\n",
       "count    484.000000    484.000000    484.000000  484.000000    484.000000   \n",
       "mean    3668.192149   2921.464876   1889.967914   40.707411   1639.958230   \n",
       "std     6529.407654   5857.589297   3621.520731   17.859961   1728.754108   \n",
       "min      105.000000     88.000000     14.709334    5.716321     36.995074   \n",
       "25%      951.500000    725.500000    331.464097   27.364273    593.771793   \n",
       "50%     1714.500000   1258.500000    609.345694   37.861523   1149.164425   \n",
       "75%     3536.750000   2270.250000   1304.282538   54.876830   1923.512912   \n",
       "max    46856.000000  34980.000000  22414.537885   85.318495  10846.431290   \n",
       "\n",
       "            lf_hf        lfnu         mhr         mrri          nn50  \\\n",
       "count  484.000000  484.000000  484.000000   484.000000    484.000000   \n",
       "mean     2.208712   59.292589   88.084332   719.915459    847.438017   \n",
       "std      2.181079   17.859961   18.699766   131.361043   2568.624824   \n",
       "min      0.172079   14.681505   54.190501   368.977202      0.000000   \n",
       "25%      0.822263   45.123170   76.102740   646.987098     51.750000   \n",
       "50%      1.641211   62.138477   83.622505   728.134056    188.500000   \n",
       "75%      2.654479   72.635727   94.271131   802.770606    428.500000   \n",
       "max     16.493768   94.283679  164.397688  1144.581425  20895.000000   \n",
       "\n",
       "            pnn50  removed_artifacts       rmssd        sdnn   total_power  \\\n",
       "count  484.000000         484.000000  484.000000  484.000000    484.000000   \n",
       "mean    15.929233          21.000000   61.686185   85.073740   4708.694617   \n",
       "std     15.081087          59.750135   49.369763   41.864380   5878.129793   \n",
       "min      0.000000           0.000000    5.402758   21.083352    150.076646   \n",
       "25%      5.111446           0.000000   31.104931   57.828650   1569.029033   \n",
       "50%     11.900859           1.000000   45.705088   74.351150   2977.145911   \n",
       "75%     21.226555          11.000000   71.926649   97.353373   4719.366780   \n",
       "max     81.780538         591.000000  290.138931  253.787250  36726.950587   \n",
       "\n",
       "             user          vlf     sess_id  \n",
       "count  484.000000   484.000000  484.000000  \n",
       "mean     1.235537  1178.768472  241.500000  \n",
       "std      1.675020  1034.925166  139.863028  \n",
       "min      0.000000    52.162541    0.000000  \n",
       "25%      0.000000   483.727786  120.750000  \n",
       "50%      0.000000   916.468465  241.500000  \n",
       "75%      2.000000  1533.214681  362.250000  \n",
       "max      6.000000  6926.126266  483.000000  "
      ]
     },
     "execution_count": 22,
     "metadata": {},
     "output_type": "execute_result"
    }
   ],
   "source": [
    "df_export = df.drop(['rr'], axis = 1)\n",
    "df_export.sample(1)\n",
    "df_export.describe()"
   ]
  },
  {
   "cell_type": "code",
   "execution_count": 23,
   "metadata": {},
   "outputs": [],
   "source": [
    "df_export.to_excel(PRE_PATH + \"\\\\sessions.xlsx\")"
   ]
  },
  {
   "cell_type": "code",
   "execution_count": null,
   "metadata": {},
   "outputs": [],
   "source": []
  }
 ],
 "metadata": {
  "kernelspec": {
   "display_name": "Python 3",
   "language": "python",
   "name": "python3"
  },
  "language_info": {
   "codemirror_mode": {
    "name": "ipython",
    "version": 3
   },
   "file_extension": ".py",
   "mimetype": "text/x-python",
   "name": "python",
   "nbconvert_exporter": "python",
   "pygments_lexer": "ipython3",
   "version": "3.6.3"
  }
 },
 "nbformat": 4,
 "nbformat_minor": 2
}
