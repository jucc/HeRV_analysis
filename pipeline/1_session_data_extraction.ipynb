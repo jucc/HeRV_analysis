{
 "cells": [
  {
   "cell_type": "code",
   "execution_count": 1,
   "metadata": {},
   "outputs": [
    {
     "data": {
      "text/html": [
       "<script>requirejs.config({paths: { 'plotly': ['https://cdn.plot.ly/plotly-latest.min']},});if(!window.Plotly) {{require(['plotly'],function(plotly) {window.Plotly=plotly;});}}</script>"
      ],
      "text/vnd.plotly.v1+html": [
       "<script>requirejs.config({paths: { 'plotly': ['https://cdn.plot.ly/plotly-latest.min']},});if(!window.Plotly) {{require(['plotly'],function(plotly) {window.Plotly=plotly;});}}</script>"
      ]
     },
     "metadata": {},
     "output_type": "display_data"
    }
   ],
   "source": [
    "%load_ext autoreload\n",
    "%autoreload 2\n",
    "%matplotlib inline  \n",
    "\n",
    "import pandas as pd\n",
    "import numpy as np\n",
    "import matplotlib.pyplot as plt\n",
    "import plotly.offline as pl\n",
    "pl.init_notebook_mode(connected=True)\n",
    "import plotly.graph_objs as go\n",
    "\n",
    "from datetime import datetime, timedelta\n",
    "import parseIntervalFiles as pif\n",
    "import parseActivityFiles as paf\n",
    "#pun intended :)\n",
    "import consolidateFiles as cf\n",
    "import datacleaning as cl"
   ]
  },
  {
   "cell_type": "markdown",
   "metadata": {},
   "source": [
    "## ! Parse activity files and parse interval files are to be replaced with the corresponding database queries as soon as they are available "
   ]
  },
  {
   "cell_type": "markdown",
   "metadata": {},
   "source": [
    "## 0 - Pipeline configuration \n",
    "* set the input/output directories, user id and verbose level"
   ]
  },
  {
   "cell_type": "code",
   "execution_count": 2,
   "metadata": {},
   "outputs": [],
   "source": [
    "verbose = True\n",
    "    \n",
    "DATA_PATH = \"C:\\\\Users\\\\ju\\\\GDrive\\\\Projects\\\\HeRV\\\\Data\\\\\" \n",
    "# DATA_PATH = \"/home/ju/GDrive/Projects/HeRV/Data/\"\n",
    "    \n",
    "RAW_PATH = DATA_PATH + \"Raw\"\n",
    "PRE_PATH = DATA_PATH + \"PreProcessed\"     "
   ]
  },
  {
   "cell_type": "markdown",
   "metadata": {},
   "source": [
    "## 1 - Extract sessions from raw data (intervals + annotations files)"
   ]
  },
  {
   "cell_type": "markdown",
   "metadata": {},
   "source": [
    "### 1.1 - List activities with session start/stop datetime\n",
    "Parses activities files and prints all errors found (activities without start or stop, invalid dates, etc)"
   ]
  },
  {
   "cell_type": "code",
   "execution_count": 3,
   "metadata": {
    "scrolled": false
   },
   "outputs": [
    {
     "name": "stdout",
     "output_type": "stream",
     "text": [
      "------- parsing activity files for user  0  -------\n",
      "reading act170929.csv ... \n",
      "reading act170930.csv ... \n",
      "reading act171001.csv ... \n",
      "reading act171003.csv ... \n",
      "reading act171004.csv ... \n",
      "reading act171005.csv ... \n",
      "orphan start in: ['2017-10-05 11:08:11', 'start', 'focused-passive', 'sitting', '']\n",
      "orphan start in: ['2017-10-05 12:54:00', 'start', 'eat', 'sitting', '']\n",
      "orphan start in: ['2017-10-05 13:48:39', 'start', 'rest-active', 'sitting', '']\n",
      "orphan start in: ['2017-10-05 13:57:37', 'start', 'movement', 'standing', '']\n",
      "orphan start in: ['2017-10-05 17:55:44', 'start', 'focused-active', 'sitting', '']\n",
      "orphan start in: ['2017-10-05 21:53:45', 'start', 'rest-active', 'sitting', '']\n",
      "orphan start in: ['2017-10-05 23:47:45', 'start', 'focused-active', 'sitting', 'sitting on bed, installing and using pandas']\n",
      "reading act171006.csv ... \n",
      "reading act171010.csv ... \n",
      "orphan start in: ['2017-10-10 23:23:37', 'start', 'leisure-passive', 'sitting']\n",
      "reading act171011.csv ... \n",
      "orphan stop in: ['2017-10-11 0:04:41', 'stop', '', '', '']\n",
      "orphan start in: ['2017-10-11 12:30:10', 'start', 'moving', 'standing', '']\n",
      "orphan start in: ['2017-10-11 17:51:14', 'start', 'household-chores', 'standing']\n",
      "reading act171012.csv ... \n",
      "orphan start in: ['2017-10-12 12:17:07', 'start', 'household-chores', 'standing']\n",
      "orphan stop in: ['2017-10-12 14:09:16', 'stop', '', '']\n",
      "reading act171013.csv ... \n",
      "reading act171014.csv ... \n",
      "orphan stop in: ['2017-10-14 2:14:21', 'stop', '', '', '']\n",
      "orphan start in: ['2017-10-14 11:58:31', 'start', 'focused-active', 'lying down', '']\n",
      "reading act171015.csv ... \n",
      "orphan stop in: ['2017-10-15 1:41:24', 'stop', '', '', '']\n",
      "reading act171016.csv ... \n",
      "reading act171017.csv ... \n",
      "reading act171028.csv ... \n",
      "orphan start in: ['2017-10-28 11:48:07', 'start', 'sleep', 'posture']\n",
      "reading act171029.csv ... \n",
      "orphan stop in: ['2017-10-29 15:27:59', 'stop', '', '']\n",
      "reading act171031.csv ... \n",
      "reading act171101.csv ... \n",
      "reading act171102.csv ... \n",
      "reading act171103.csv ... \n",
      "reading act171104.csv ... \n",
      "reading act171105.csv ... \n",
      "orphan stop in: ['2017-11-05 6:40:42', 'stop', '', '']\n",
      "reading act171106.csv ... \n",
      "orphan stop in: ['2017-11-06 10:20:29', 'stop', '', '']\n",
      "reading act171107.csv ... \n",
      "reading act171108.csv ... \n",
      "orphan stop in: ['2017-11-08 9:30', 'stop', '', '', '']\n",
      "orphan stop in: ['2017-11-08 9:42', 'stop', '', '', '']\n",
      "orphan stop in: ['2017-11-08 15:46', 'stop', '', '', '']\n",
      "orphan stop in: ['2017-11-08 19:37', 'stop', '', '', '']\n",
      "orphan stop in: ['2017-11-08 21:27', 'stop', '', '', '']\n",
      "reading act171109.csv ... \n",
      "reading act180123.csv ... \n",
      "165 sessions extracted and 25 errors found\n",
      "------- parsing interval files for user  0  -------\n",
      "------- parsing activity files for user  1  -------\n",
      "reading act170926.csv ... \n",
      "reading act171029.csv ... \n",
      "reading act171030.csv ... \n",
      "reading act171031.csv ... \n",
      "reading act171101.csv ... \n",
      "reading act171102.csv ... \n",
      "reading act171103.csv ... \n",
      "reading act171104.csv ... \n",
      "reading act171130.csv ... \n",
      "reading act180121.csv ... \n",
      "reading act180123.csv ... \n",
      "53 sessions extracted and 0 errors found\n",
      "------- parsing interval files for user  1  -------\n",
      "------- parsing activity files for user  2  -------\n",
      "reading act170930.csv ... \n",
      "reading act171005.csv ... \n",
      "reading act171006.csv ... \n",
      "reading act171008.csv ... \n",
      "reading act171011.csv ... \n",
      "reading act171016.csv ... \n",
      "reading act171017.csv ... \n",
      "reading act171026.csv ... \n",
      "reading act171027.csv ... \n",
      "reading act171029.csv ... \n",
      "reading act171030.csv ... \n",
      "reading act171031.csv ... \n",
      "reading act171102.csv ... \n",
      "reading act171112.csv ... \n",
      "133 sessions extracted and 0 errors found\n",
      "------- parsing interval files for user  2  -------\n",
      "------- parsing activity files for user  3  -------\n",
      "reading act171031.csv ... \n",
      "reading act171101.csv ... \n",
      "orphan stop in: ['2017-11-01 06:44:22', 'stop', '', '']\n",
      "reading act171102.csv ... \n",
      "reading act171103.csv ... \n",
      "orphan stop in: ['2017-11-03 07:27:42', 'stop', '', '']\n",
      "reading act171104.csv ... \n",
      "reading act171105.csv ... \n",
      "orphan stop in: ['2017-11-05 19:38:18', 'stop', '', '']\n",
      "13 sessions extracted and 3 errors found\n",
      "------- parsing interval files for user  3  -------\n",
      "------- parsing activity files for user  4  -------\n",
      "reading act171220.csv ... \n",
      "reading act171221.csv ... \n",
      "reading act171222.csv ... \n",
      "15 sessions extracted and 0 errors found\n",
      "------- parsing interval files for user  4  -------\n",
      "------- parsing activity files for user  5  -------\n",
      "reading act171226.csv ... \n",
      "reading act171227.csv ... \n",
      "reading act171228.csv ... \n",
      "reading act171229.csv ... \n",
      "18 sessions extracted and 0 errors found\n",
      "------- parsing interval files for user  5  -------\n",
      "------- parsing activity files for user  6  -------\n",
      "reading act171230.csv ... \n",
      "reading act171231.csv ... \n",
      "reading act180101.csv ... \n",
      "13 sessions extracted and 0 errors found\n",
      "------- parsing interval files for user  6  -------\n"
     ]
    }
   ],
   "source": [
    "sessions = []\n",
    "for user in range(7):\n",
    "    print (\"------- parsing activity files for user \", user, \" -------\")\n",
    "    user_sess = paf.get_user_sessions(user, dirname=RAW_PATH)\n",
    "    print (\"------- parsing interval files for user \", user, \" -------\")\n",
    "    user_sess = cf.sessions_add_beats(sessions=user_sess, dirname=RAW_PATH+\"\\\\\"+str(user), verbose=False)\n",
    "    sessions.extend(user_sess)"
   ]
  },
  {
   "cell_type": "code",
   "execution_count": 37,
   "metadata": {},
   "outputs": [],
   "source": [
    "df = pd.DataFrame(sessions)"
   ]
  },
  {
   "cell_type": "markdown",
   "metadata": {},
   "source": [
    "### Include column with beats count for ease of use "
   ]
  },
  {
   "cell_type": "code",
   "execution_count": 38,
   "metadata": {},
   "outputs": [],
   "source": [
    "df['beatscount'] = df['rr'].apply(len)"
   ]
  },
  {
   "cell_type": "code",
   "execution_count": 39,
   "metadata": {},
   "outputs": [
    {
     "data": {
      "text/html": [
       "<div>\n",
       "<style>\n",
       "    .dataframe thead tr:only-child th {\n",
       "        text-align: right;\n",
       "    }\n",
       "\n",
       "    .dataframe thead th {\n",
       "        text-align: left;\n",
       "    }\n",
       "\n",
       "    .dataframe tbody tr th {\n",
       "        vertical-align: top;\n",
       "    }\n",
       "</style>\n",
       "<table border=\"1\" class=\"dataframe\">\n",
       "  <thead>\n",
       "    <tr style=\"text-align: right;\">\n",
       "      <th></th>\n",
       "      <th>activity</th>\n",
       "      <th>duration</th>\n",
       "      <th>notes</th>\n",
       "      <th>posture</th>\n",
       "      <th>rr</th>\n",
       "      <th>start</th>\n",
       "      <th>stop</th>\n",
       "      <th>user</th>\n",
       "      <th>beatscount</th>\n",
       "    </tr>\n",
       "  </thead>\n",
       "  <tbody>\n",
       "    <tr>\n",
       "      <th>248</th>\n",
       "      <td>focused-passive</td>\n",
       "      <td>840</td>\n",
       "      <td>NaN</td>\n",
       "      <td>sit</td>\n",
       "      <td>[{'date': 2017-10-06 09:23:04, 'interval': 812...</td>\n",
       "      <td>2017-10-06 09:23:00</td>\n",
       "      <td>2017-10-06 09:37:00</td>\n",
       "      <td>2</td>\n",
       "      <td>1094</td>\n",
       "    </tr>\n",
       "    <tr>\n",
       "      <th>386</th>\n",
       "      <td>rest-passive</td>\n",
       "      <td>1080</td>\n",
       "      <td>taxi</td>\n",
       "      <td>sit</td>\n",
       "      <td>[{'date': 2017-12-27 12:52:01, 'interval': 943...</td>\n",
       "      <td>2017-12-27 12:52:00</td>\n",
       "      <td>2017-12-27 13:10:00</td>\n",
       "      <td>5</td>\n",
       "      <td>1174</td>\n",
       "    </tr>\n",
       "    <tr>\n",
       "      <th>408</th>\n",
       "      <td>eat</td>\n",
       "      <td>4014</td>\n",
       "      <td>NaN</td>\n",
       "      <td>sit</td>\n",
       "      <td>[{'date': 2018-01-01 21:09:53, 'interval': 642...</td>\n",
       "      <td>2018-01-01 21:09:52</td>\n",
       "      <td>2018-01-01 22:16:46</td>\n",
       "      <td>6</td>\n",
       "      <td>5483</td>\n",
       "    </tr>\n",
       "    <tr>\n",
       "      <th>223</th>\n",
       "      <td>sleep</td>\n",
       "      <td>3120</td>\n",
       "      <td>NaN</td>\n",
       "      <td>lie</td>\n",
       "      <td>[{'date': 2017-09-30 02:07:29, 'interval': 801...</td>\n",
       "      <td>2017-09-30 02:07:00</td>\n",
       "      <td>2017-09-30 02:59:00</td>\n",
       "      <td>2</td>\n",
       "      <td>1735</td>\n",
       "    </tr>\n",
       "    <tr>\n",
       "      <th>224</th>\n",
       "      <td>sleep</td>\n",
       "      <td>900</td>\n",
       "      <td>NaN</td>\n",
       "      <td>lie</td>\n",
       "      <td>[{'date': 2017-09-30 03:00:01, 'interval': 806...</td>\n",
       "      <td>2017-09-30 03:00:00</td>\n",
       "      <td>2017-09-30 03:15:00</td>\n",
       "      <td>2</td>\n",
       "      <td>925</td>\n",
       "    </tr>\n",
       "  </tbody>\n",
       "</table>\n",
       "</div>"
      ],
      "text/plain": [
       "            activity  duration notes posture  \\\n",
       "248  focused-passive       840   NaN     sit   \n",
       "386     rest-passive      1080  taxi     sit   \n",
       "408              eat      4014   NaN     sit   \n",
       "223            sleep      3120   NaN     lie   \n",
       "224            sleep       900   NaN     lie   \n",
       "\n",
       "                                                    rr               start  \\\n",
       "248  [{'date': 2017-10-06 09:23:04, 'interval': 812... 2017-10-06 09:23:00   \n",
       "386  [{'date': 2017-12-27 12:52:01, 'interval': 943... 2017-12-27 12:52:00   \n",
       "408  [{'date': 2018-01-01 21:09:53, 'interval': 642... 2018-01-01 21:09:52   \n",
       "223  [{'date': 2017-09-30 02:07:29, 'interval': 801... 2017-09-30 02:07:00   \n",
       "224  [{'date': 2017-09-30 03:00:01, 'interval': 806... 2017-09-30 03:00:00   \n",
       "\n",
       "                   stop  user  beatscount  \n",
       "248 2017-10-06 09:37:00     2        1094  \n",
       "386 2017-12-27 13:10:00     5        1174  \n",
       "408 2018-01-01 22:16:46     6        5483  \n",
       "223 2017-09-30 02:59:00     2        1735  \n",
       "224 2017-09-30 03:15:00     2         925  "
      ]
     },
     "execution_count": 39,
     "metadata": {},
     "output_type": "execute_result"
    }
   ],
   "source": [
    "df.sample(5)"
   ]
  },
  {
   "cell_type": "markdown",
   "metadata": {},
   "source": [
    "## 2 - Cleaning data"
   ]
  },
  {
   "cell_type": "markdown",
   "metadata": {},
   "source": [
    "### 2.1 Removing outliers and artifacts\n",
    "\n",
    "(Note: For now, beats won't be saved to the output file, so, when loading the sessions file and getting\n",
    "beats from DB again, for example for fragmentation, they will have to be removed again. But this is a reasonably low-cost op)"
   ]
  },
  {
   "cell_type": "code",
   "execution_count": 40,
   "metadata": {},
   "outputs": [],
   "source": [
    "df['rr'] = df['rr'].apply(cl.clean_rr_series)"
   ]
  },
  {
   "cell_type": "code",
   "execution_count": 41,
   "metadata": {},
   "outputs": [],
   "source": [
    "df['beatscount_clean'] = df['rr'].apply(len)"
   ]
  },
  {
   "cell_type": "code",
   "execution_count": 42,
   "metadata": {},
   "outputs": [],
   "source": [
    "df['removed_artifacts'] = df['beatscount'] - df['beatscount_clean']\n",
    "df['beatscount'] = df['beatscount_clean']\n",
    "df = df.drop(['beatscount_clean'], axis=1)"
   ]
  },
  {
   "cell_type": "markdown",
   "metadata": {},
   "source": [
    "### 2.1 Removing sessions without beats recorded or with too few of them"
   ]
  },
  {
   "cell_type": "code",
   "execution_count": 46,
   "metadata": {},
   "outputs": [],
   "source": [
    "df = df[df['beatscount'] > 100]"
   ]
  },
  {
   "cell_type": "code",
   "execution_count": 47,
   "metadata": {},
   "outputs": [
    {
     "data": {
      "text/html": [
       "<div>\n",
       "<style>\n",
       "    .dataframe thead tr:only-child th {\n",
       "        text-align: right;\n",
       "    }\n",
       "\n",
       "    .dataframe thead th {\n",
       "        text-align: left;\n",
       "    }\n",
       "\n",
       "    .dataframe tbody tr th {\n",
       "        vertical-align: top;\n",
       "    }\n",
       "</style>\n",
       "<table border=\"1\" class=\"dataframe\">\n",
       "  <thead>\n",
       "    <tr style=\"text-align: right;\">\n",
       "      <th></th>\n",
       "      <th>duration</th>\n",
       "      <th>user</th>\n",
       "      <th>beatscount</th>\n",
       "      <th>removed_artifacts</th>\n",
       "    </tr>\n",
       "  </thead>\n",
       "  <tbody>\n",
       "    <tr>\n",
       "      <th>count</th>\n",
       "      <td>376.000000</td>\n",
       "      <td>376.000000</td>\n",
       "      <td>376.000000</td>\n",
       "      <td>376.000000</td>\n",
       "    </tr>\n",
       "    <tr>\n",
       "      <th>mean</th>\n",
       "      <td>2794.885638</td>\n",
       "      <td>1.500000</td>\n",
       "      <td>3471.965426</td>\n",
       "      <td>20.787234</td>\n",
       "    </tr>\n",
       "    <tr>\n",
       "      <th>std</th>\n",
       "      <td>5247.313682</td>\n",
       "      <td>1.596663</td>\n",
       "      <td>5966.710217</td>\n",
       "      <td>62.943720</td>\n",
       "    </tr>\n",
       "    <tr>\n",
       "      <th>min</th>\n",
       "      <td>88.000000</td>\n",
       "      <td>0.000000</td>\n",
       "      <td>105.000000</td>\n",
       "      <td>0.000000</td>\n",
       "    </tr>\n",
       "    <tr>\n",
       "      <th>25%</th>\n",
       "      <td>900.000000</td>\n",
       "      <td>0.000000</td>\n",
       "      <td>1084.750000</td>\n",
       "      <td>0.000000</td>\n",
       "    </tr>\n",
       "    <tr>\n",
       "      <th>50%</th>\n",
       "      <td>1299.000000</td>\n",
       "      <td>1.000000</td>\n",
       "      <td>1682.500000</td>\n",
       "      <td>1.000000</td>\n",
       "    </tr>\n",
       "    <tr>\n",
       "      <th>75%</th>\n",
       "      <td>2289.750000</td>\n",
       "      <td>2.000000</td>\n",
       "      <td>3201.500000</td>\n",
       "      <td>11.250000</td>\n",
       "    </tr>\n",
       "    <tr>\n",
       "      <th>max</th>\n",
       "      <td>34360.000000</td>\n",
       "      <td>6.000000</td>\n",
       "      <td>46856.000000</td>\n",
       "      <td>591.000000</td>\n",
       "    </tr>\n",
       "  </tbody>\n",
       "</table>\n",
       "</div>"
      ],
      "text/plain": [
       "           duration        user    beatscount  removed_artifacts\n",
       "count    376.000000  376.000000    376.000000         376.000000\n",
       "mean    2794.885638    1.500000   3471.965426          20.787234\n",
       "std     5247.313682    1.596663   5966.710217          62.943720\n",
       "min       88.000000    0.000000    105.000000           0.000000\n",
       "25%      900.000000    0.000000   1084.750000           0.000000\n",
       "50%     1299.000000    1.000000   1682.500000           1.000000\n",
       "75%     2289.750000    2.000000   3201.500000          11.250000\n",
       "max    34360.000000    6.000000  46856.000000         591.000000"
      ]
     },
     "execution_count": 47,
     "metadata": {},
     "output_type": "execute_result"
    }
   ],
   "source": [
    "df.describe()"
   ]
  },
  {
   "cell_type": "markdown",
   "metadata": {},
   "source": [
    "### 2.3 Removing wrong activities and grouping the ones with too few examples"
   ]
  },
  {
   "cell_type": "code",
   "execution_count": 48,
   "metadata": {},
   "outputs": [],
   "source": [
    "df.at[df['activity']=='exercise-low', 'activity'] = 'exercise'\n",
    "df.at[df['activity']=='exercise-high', 'activity'] = 'exercise'\n",
    "df.at[df['activity']=='focused-passive ', 'activity'] = 'focused-passive'\n",
    "df = df[df['activity']!='not-recorded']"
   ]
  },
  {
   "cell_type": "code",
   "execution_count": 49,
   "metadata": {},
   "outputs": [
    {
     "data": {
      "text/plain": [
       "activity\n",
       "eat                 43\n",
       "exercise             6\n",
       "focused-active      86\n",
       "focused-passive     37\n",
       "household-chores    26\n",
       "leisure-active       6\n",
       "leisure-passive     45\n",
       "movement            38\n",
       "rest-active         24\n",
       "rest-passive        17\n",
       "sleep               44\n",
       "Name: duration, dtype: int64"
      ]
     },
     "execution_count": 49,
     "metadata": {},
     "output_type": "execute_result"
    }
   ],
   "source": [
    "df.groupby('activity').count()['duration']"
   ]
  },
  {
   "cell_type": "markdown",
   "metadata": {},
   "source": [
    "## 3 - Aggregating data"
   ]
  },
  {
   "cell_type": "code",
   "execution_count": null,
   "metadata": {},
   "outputs": [],
   "source": []
  },
  {
   "cell_type": "code",
   "execution_count": null,
   "metadata": {
    "scrolled": false
   },
   "outputs": [],
   "source": []
  },
  {
   "cell_type": "code",
   "execution_count": 72,
   "metadata": {},
   "outputs": [
    {
     "data": {
      "text/html": [
       "<div>\n",
       "<style>\n",
       "    .dataframe thead tr:only-child th {\n",
       "        text-align: right;\n",
       "    }\n",
       "\n",
       "    .dataframe thead th {\n",
       "        text-align: left;\n",
       "    }\n",
       "\n",
       "    .dataframe tbody tr th {\n",
       "        vertical-align: top;\n",
       "    }\n",
       "</style>\n",
       "<table border=\"1\" class=\"dataframe\">\n",
       "  <thead>\n",
       "    <tr style=\"text-align: right;\">\n",
       "      <th></th>\n",
       "      <th>activity</th>\n",
       "      <th>duration</th>\n",
       "      <th>notes</th>\n",
       "      <th>posture</th>\n",
       "      <th>start</th>\n",
       "      <th>stop</th>\n",
       "      <th>user</th>\n",
       "      <th>beatscount</th>\n",
       "      <th>removed_artifacts</th>\n",
       "      <th>sess_id</th>\n",
       "    </tr>\n",
       "  </thead>\n",
       "  <tbody>\n",
       "    <tr>\n",
       "      <th>198</th>\n",
       "      <td>focused-passive</td>\n",
       "      <td>3491</td>\n",
       "      <td>NaN</td>\n",
       "      <td>sit</td>\n",
       "      <td>2017-11-03 00:00:01</td>\n",
       "      <td>2017-11-03 00:58:12</td>\n",
       "      <td>1</td>\n",
       "      <td>4485</td>\n",
       "      <td>11</td>\n",
       "      <td>198</td>\n",
       "    </tr>\n",
       "  </tbody>\n",
       "</table>\n",
       "</div>"
      ],
      "text/plain": [
       "            activity  duration notes posture               start  \\\n",
       "198  focused-passive      3491   NaN     sit 2017-11-03 00:00:01   \n",
       "\n",
       "                   stop  user  beatscount  removed_artifacts  sess_id  \n",
       "198 2017-11-03 00:58:12     1        4485                 11      198  "
      ]
     },
     "execution_count": 72,
     "metadata": {},
     "output_type": "execute_result"
    }
   ],
   "source": [
    "df['sess_id'] = df.index\n",
    "df_export = df.drop(['rr'], axis = 1)\n",
    "df_export.to_excel(PRE_PATH + \"\\\\sessions.xlsx\")\n",
    "df_export.sample(1)"
   ]
  }
 ],
 "metadata": {
  "kernelspec": {
   "display_name": "Python 3",
   "language": "python",
   "name": "python3"
  },
  "language_info": {
   "codemirror_mode": {
    "name": "ipython",
    "version": 3
   },
   "file_extension": ".py",
   "mimetype": "text/x-python",
   "name": "python",
   "nbconvert_exporter": "python",
   "pygments_lexer": "ipython3",
   "version": "3.6.3"
  }
 },
 "nbformat": 4,
 "nbformat_minor": 2
}
