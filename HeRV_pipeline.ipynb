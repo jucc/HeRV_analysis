{
 "cells": [
  {
   "cell_type": "code",
   "execution_count": 4,
   "metadata": {},
   "outputs": [
    {
     "name": "stdout",
     "output_type": "stream",
     "text": [
      "The autoreload extension is already loaded. To reload it, use:\n",
      "  %reload_ext autoreload\n"
     ]
    }
   ],
   "source": [
    "%load_ext autoreload\n",
    "%autoreload 2\n",
    "%matplotlib inline  \n",
    "\n",
    "import pandas as pd\n",
    "import numpy as np\n",
    "import matplotlib.pyplot as plt\n",
    "import re\n",
    "\n",
    "import hervpd as hp\n",
    "import csvUtils as csvu\n",
    "import parseActivityFiles as paf\n",
    "import parseIntervalFiles as pif\n",
    "\n",
    "from datetime import datetime, date, time, timedelta"
   ]
  },
  {
   "cell_type": "markdown",
   "metadata": {},
   "source": [
    "## 0 - Pipeline configuration \n",
    "* set the input/output directories, user id and verbose level"
   ]
  },
  {
   "cell_type": "code",
   "execution_count": 5,
   "metadata": {
    "collapsed": true
   },
   "outputs": [],
   "source": [
    "    verbose = True    \n",
    "    user = 0\n",
    "    \n",
    "    RAW_DATA_PATH = \"/home/ju/GDrive/Projects/HeRV/Data/Raw/%d\"%user\n",
    "    PRE_DATA_PATH = \"/home/ju/GDrive/Projects/HeRV/Data/PreProcessed/%d\"%user\n",
    "    \n",
    "    # duration (in seconds) to be cropped from the beginning of each second to account for stabilization and user adjustment\n",
    "    crop = 90\n",
    "    \n",
    "    # duration (in seconds) of each fragment to be sent to analysis\n",
    "    duration = 300\n",
    "    \n",
    "    # if any fragment has more than 'threshold' consecutive seconds with no beats, it will be discarded\n",
    "    threshold = 3"
   ]
  },
  {
   "cell_type": "markdown",
   "metadata": {},
   "source": [
    "## 1 - Extract sessions from raw data (intervals + annotations files)\n",
    "\n",
    "### 1.1 - List activities with session start/stop datetime\n",
    "Parses activities files and prints all errors found (activities without start or stop, invalid dates, etc)"
   ]
  },
  {
   "cell_type": "code",
   "execution_count": 6,
   "metadata": {},
   "outputs": [
    {
     "name": "stdout",
     "output_type": "stream",
     "text": [
      "reading /home/ju/GDrive/Projects/HeRV/Data/Raw/0/act171014.csv ... \n",
      "orphan stop in: ['2017-10-14 2:14:21', 'stop', '', '', '']\n",
      "orphan start in: ['2017-10-14 11:58:31', 'start', 'focused-active', 'lying down', '']\n",
      "reading /home/ju/GDrive/Projects/HeRV/Data/Raw/0/act171102.csv ... \n",
      "reading /home/ju/GDrive/Projects/HeRV/Data/Raw/0/act171016.csv ... \n",
      "reading /home/ju/GDrive/Projects/HeRV/Data/Raw/0/act171006.csv ... \n",
      "reading /home/ju/GDrive/Projects/HeRV/Data/Raw/0/act171104.csv ... \n",
      "reading /home/ju/GDrive/Projects/HeRV/Data/Raw/0/act171029.csv ... \n",
      "orphan stop in: ['2017-10-29 15:27:59', 'stop', '', '']\n",
      "reading /home/ju/GDrive/Projects/HeRV/Data/Raw/0/act171028.csv ... \n",
      "orphan start in: ['2017-10-28 11:48:07', 'start', 'sleep', 'posture']\n",
      "reading /home/ju/GDrive/Projects/HeRV/Data/Raw/0/act171013.csv ... \n",
      "reading /home/ju/GDrive/Projects/HeRV/Data/Raw/0/act171003.csv ... \n",
      "orphan start in: ['2017-10-03 22:56:19', 'start', 'eat', 'sitting']\n",
      "reading /home/ju/GDrive/Projects/HeRV/Data/Raw/0/act171017.csv ... \n",
      "reading /home/ju/GDrive/Projects/HeRV/Data/Raw/0/act171015.csv ... \n",
      "orphan stop in: ['2017-10-15 1:41:24', 'stop', '', '', '']\n",
      "reading /home/ju/GDrive/Projects/HeRV/Data/Raw/0/act171109.csv ... \n",
      "reading /home/ju/GDrive/Projects/HeRV/Data/Raw/0/act171107.csv ... \n",
      "reading /home/ju/GDrive/Projects/HeRV/Data/Raw/0/act171101.csv ... \n",
      "reading /home/ju/GDrive/Projects/HeRV/Data/Raw/0/act171011.csv ... \n",
      "orphan stop in: ['2017-10-11 0:04:41', 'stop', '', '', '']\n",
      "orphan start in: ['2017-10-11 12:30:10', 'start', 'moving', 'standing', '']\n",
      "orphan start in: ['2017-10-11 17:51:14', 'start', 'household-chores', 'standing']\n",
      "reading /home/ju/GDrive/Projects/HeRV/Data/Raw/0/act171103.csv ... \n",
      "reading /home/ju/GDrive/Projects/HeRV/Data/Raw/0/act171012.csv ... \n",
      "orphan start in: ['2017-10-12 12:17:07', 'start', 'household-chores', 'standing']\n",
      "orphan stop in: ['2017-10-12 14:09:16', 'stop', '', '']\n",
      "reading /home/ju/GDrive/Projects/HeRV/Data/Raw/0/act170930.csv ... \n",
      "reading /home/ju/GDrive/Projects/HeRV/Data/Raw/0/act171001.csv ... \n",
      "reading /home/ju/GDrive/Projects/HeRV/Data/Raw/0/act171106.csv ... \n",
      "orphan stop in: ['2017-11-06 10:20:29', 'stop', '', '']\n",
      "reading /home/ju/GDrive/Projects/HeRV/Data/Raw/0/act171108.csv ... \n",
      "orphan stop in: ['2017-11-08 9:30', 'stop', '', '', '']\n",
      "orphan stop in: ['2017-11-08 9:42', 'stop', '', '', '']\n",
      "orphan stop in: ['2017-11-08 15:46', 'stop', '', '', '']\n",
      "orphan stop in: ['2017-11-08 19:37', 'stop', '', '', '']\n",
      "orphan stop in: ['2017-11-08 21:27', 'stop', '', '', '']\n",
      "reading /home/ju/GDrive/Projects/HeRV/Data/Raw/0/act171105.csv ... \n",
      "orphan stop in: ['2017-11-05 6:40:42', 'stop', '', '']\n",
      "reading /home/ju/GDrive/Projects/HeRV/Data/Raw/0/act171010.csv ... \n",
      "orphan start in: ['2017-10-10 23:23:37', 'start', 'leisure-passive', 'sitting']\n",
      "reading /home/ju/GDrive/Projects/HeRV/Data/Raw/0/act171004.csv ... \n",
      "orphan start in: ['2017-10-04 13:31:16', 'start', 'movement', 'standing']\n",
      "orphan start in: ['2017-10-04 14:59:24', 'start', 'rest-passive', 'sitting']\n",
      "orphan start in: ['2017-10-04 15:14:23', 'start', 'movement', 'standing']\n",
      "orphan start in: ['2017-10-04 17:05:36', 'start', 'rest-passive', 'sitting']\n",
      "orphan start in: ['2017-10-04 23:30:33', 'start', 'sleep', 'lying down']\n",
      "reading /home/ju/GDrive/Projects/HeRV/Data/Raw/0/act171005.csv ... \n",
      "orphan start in: ['2017-10-05 11:08:11', 'start', 'focused-passive', 'sitting', '']\n",
      "orphan start in: ['2017-10-05 12:54:00', 'start', 'eat', 'sitting', '']\n",
      "orphan start in: ['2017-10-05 13:48:39', 'start', 'rest-active', 'sitting', '']\n",
      "orphan start in: ['2017-10-05 13:57:37', 'start', 'movement', 'standing', '']\n",
      "orphan start in: ['2017-10-05 17:55:44', 'start', 'focused-active', 'sitting', '']\n",
      "orphan start in: ['2017-10-05 21:53:45', 'start', 'rest-active', 'sitting', '']\n",
      "orphan start in: ['2017-10-05 23:47:45', 'start', 'focused-active', 'sitting', 'sitting on bed, installing and using pandas']\n",
      "reading /home/ju/GDrive/Projects/HeRV/Data/Raw/0/act170929.csv ... \n",
      "orphan stop in: ['2017-09-29 00:19:00', 'stop', '', '', '', '', '']\n",
      "reading /home/ju/GDrive/Projects/HeRV/Data/Raw/0/act171031.csv ... \n",
      "157 sessions extracted and 32 errors found in 27 files\n"
     ]
    }
   ],
   "source": [
    "sessions = paf.parseActivityFiles(dirname=RAW_DATA_PATH)"
   ]
  },
  {
   "cell_type": "markdown",
   "metadata": {},
   "source": [
    "### 1.2 Extract session intervals\n",
    "\n",
    "Retrieves from the heartbeat files all the intervals contained in each session's duration and adds them to the sessions objects (in memory)"
   ]
  },
  {
   "cell_type": "code",
   "execution_count": 7,
   "metadata": {
    "collapsed": true
   },
   "outputs": [],
   "source": [
    "for sess in sessions:            \n",
    "    sess['rr'] = pif.getIntervals(sess['start'], sess['stop'], RAW_DATA_PATH)\n",
    "    sess['countRR'] = len(sess['rr'])  \n",
    "    "
   ]
  },
  {
   "cell_type": "code",
   "execution_count": 8,
   "metadata": {},
   "outputs": [
    {
     "data": {
      "text/html": [
       "<div>\n",
       "<style>\n",
       "    .dataframe thead tr:only-child th {\n",
       "        text-align: right;\n",
       "    }\n",
       "\n",
       "    .dataframe thead th {\n",
       "        text-align: left;\n",
       "    }\n",
       "\n",
       "    .dataframe tbody tr th {\n",
       "        vertical-align: top;\n",
       "    }\n",
       "</style>\n",
       "<table border=\"1\" class=\"dataframe\">\n",
       "  <thead>\n",
       "    <tr style=\"text-align: right;\">\n",
       "      <th></th>\n",
       "      <th>activity</th>\n",
       "      <th>countRR</th>\n",
       "      <th>duration</th>\n",
       "      <th>notes</th>\n",
       "      <th>posture</th>\n",
       "      <th>rr</th>\n",
       "      <th>start</th>\n",
       "      <th>stop</th>\n",
       "    </tr>\n",
       "  </thead>\n",
       "  <tbody>\n",
       "    <tr>\n",
       "      <th>0</th>\n",
       "      <td>focused-active</td>\n",
       "      <td>2520</td>\n",
       "      <td>1969</td>\n",
       "      <td></td>\n",
       "      <td>sitting</td>\n",
       "      <td>[{'date': 2017-10-14 02:14:22, 'interval': 831...</td>\n",
       "      <td>2017-10-14 02:14:21</td>\n",
       "      <td>2017-10-14 02:47:10</td>\n",
       "    </tr>\n",
       "    <tr>\n",
       "      <th>1</th>\n",
       "      <td>focused-active</td>\n",
       "      <td>192</td>\n",
       "      <td>828</td>\n",
       "      <td></td>\n",
       "      <td>sitting</td>\n",
       "      <td>[{'date': 2017-10-14 02:57:33, 'interval': 819...</td>\n",
       "      <td>2017-10-14 02:57:32</td>\n",
       "      <td>2017-10-14 03:11:20</td>\n",
       "    </tr>\n",
       "    <tr>\n",
       "      <th>2</th>\n",
       "      <td>focused-active</td>\n",
       "      <td>1579</td>\n",
       "      <td>1236</td>\n",
       "      <td></td>\n",
       "      <td>sitting</td>\n",
       "      <td>[{'date': 2017-10-14 03:11:21, 'interval': 737...</td>\n",
       "      <td>2017-10-14 03:11:20</td>\n",
       "      <td>2017-10-14 03:31:56</td>\n",
       "    </tr>\n",
       "    <tr>\n",
       "      <th>3</th>\n",
       "      <td>focused-active</td>\n",
       "      <td>2064</td>\n",
       "      <td>1783</td>\n",
       "      <td></td>\n",
       "      <td>sitting</td>\n",
       "      <td>[{'date': 2017-10-14 03:31:58, 'interval': 920...</td>\n",
       "      <td>2017-10-14 03:31:57</td>\n",
       "      <td>2017-10-14 04:01:40</td>\n",
       "    </tr>\n",
       "    <tr>\n",
       "      <th>4</th>\n",
       "      <td>sleep</td>\n",
       "      <td>25409</td>\n",
       "      <td>23722</td>\n",
       "      <td></td>\n",
       "      <td>lying down</td>\n",
       "      <td>[{'date': 2017-10-14 04:05:26, 'interval': 739...</td>\n",
       "      <td>2017-10-14 04:05:25</td>\n",
       "      <td>2017-10-14 10:40:47</td>\n",
       "    </tr>\n",
       "  </tbody>\n",
       "</table>\n",
       "</div>"
      ],
      "text/plain": [
       "         activity  countRR  duration notes     posture  \\\n",
       "0  focused-active     2520      1969           sitting   \n",
       "1  focused-active      192       828           sitting   \n",
       "2  focused-active     1579      1236           sitting   \n",
       "3  focused-active     2064      1783           sitting   \n",
       "4           sleep    25409     23722        lying down   \n",
       "\n",
       "                                                  rr               start  \\\n",
       "0  [{'date': 2017-10-14 02:14:22, 'interval': 831... 2017-10-14 02:14:21   \n",
       "1  [{'date': 2017-10-14 02:57:33, 'interval': 819... 2017-10-14 02:57:32   \n",
       "2  [{'date': 2017-10-14 03:11:21, 'interval': 737... 2017-10-14 03:11:20   \n",
       "3  [{'date': 2017-10-14 03:31:58, 'interval': 920... 2017-10-14 03:31:57   \n",
       "4  [{'date': 2017-10-14 04:05:26, 'interval': 739... 2017-10-14 04:05:25   \n",
       "\n",
       "                 stop  \n",
       "0 2017-10-14 02:47:10  \n",
       "1 2017-10-14 03:11:20  \n",
       "2 2017-10-14 03:31:56  \n",
       "3 2017-10-14 04:01:40  \n",
       "4 2017-10-14 10:40:47  "
      ]
     },
     "execution_count": 8,
     "metadata": {},
     "output_type": "execute_result"
    }
   ],
   "source": [
    "df = pd.DataFrame(sessions)\n",
    "df.head()"
   ]
  },
  {
   "cell_type": "markdown",
   "metadata": {
    "collapsed": true
   },
   "source": [
    "## 2 - Generate fragments from sessions"
   ]
  },
  {
   "cell_type": "code",
   "execution_count": null,
   "metadata": {
    "collapsed": true
   },
   "outputs": [],
   "source": []
  }
 ],
 "metadata": {
  "kernelspec": {
   "display_name": "Python 3",
   "language": "python",
   "name": "python3"
  },
  "language_info": {
   "codemirror_mode": {
    "name": "ipython",
    "version": 3
   },
   "file_extension": ".py",
   "mimetype": "text/x-python",
   "name": "python",
   "nbconvert_exporter": "python",
   "pygments_lexer": "ipython3",
   "version": "3.6.3"
  }
 },
 "nbformat": 4,
 "nbformat_minor": 2
}
