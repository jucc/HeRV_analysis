{
 "cells": [
  {
   "cell_type": "code",
   "execution_count": 50,
   "metadata": {},
   "outputs": [
    {
     "name": "stdout",
     "output_type": "stream",
     "text": [
      "The autoreload extension is already loaded. To reload it, use:\n",
      "  %reload_ext autoreload\n"
     ]
    }
   ],
   "source": [
    "%load_ext autoreload\n",
    "%autoreload 2\n",
    "\n",
    "import numpy as np\n",
    "import matplotlib.pyplot as plt\n",
    "\n",
    "from sklearn import svm\n",
    "from sklearn.preprocessing import scale\n",
    "from sklearn.model_selection import StratifiedShuffleSplit, GridSearchCV\n",
    "\n",
    "import herv_preprocess as hpp"
   ]
  },
  {
   "cell_type": "markdown",
   "metadata": {},
   "source": [
    "### Parameter configuration"
   ]
  },
  {
   "cell_type": "code",
   "execution_count": 131,
   "metadata": {},
   "outputs": [],
   "source": [
    "# input data\n",
    "filename = 'data/304_sessions_e.csv'\n",
    "# k-fold cross validation (one in each k examples will be used for validation, the others for training)\n",
    "k = 5\n",
    "\n",
    "dtype = \"i4,U20,U5,f4,f4,f4,f4,f4,f4,f4,f4,f4,f4,f4,f4,f4,f4,f4,f4,f4,f4\"\n",
    "dtype = \"i4,U20,U5,f4,f4,f4,f4,f4,f4,f4,f4,f4,f4,f4,f4,f4,f4,f4\"\n",
    "dtype = \"i4,U20,U5,f4,f4,f4,f4,f4,f4,f4,f4,f4\"\n",
    "\n",
    "features=['AVGNN','SDNN','MeanHR','SDHR','MinHR','MaxHR','RMSSD','NNxx','pNNxx', 'triangularindex', 'TINN', 'powerVLF', 'powerLF', 'powerHF', 'ratioHFLF', 'peakVLF', 'peakLF', 'peakHF']"
   ]
  },
  {
   "cell_type": "markdown",
   "metadata": {},
   "source": [
    "### 1 - Extract data from the csv file and split it into labels and features"
   ]
  },
  {
   "cell_type": "code",
   "execution_count": 132,
   "metadata": {},
   "outputs": [
    {
     "name": "stdout",
     "output_type": "stream",
     "text": [
      "(#samples, #features) =  (300, 9)\n",
      "min and max values before scaling:  0.0 1135.40002441\n",
      "min and max values after scaling:  -2.67828367187 4.97289409218\n",
      "300\n"
     ]
    }
   ],
   "source": [
    "labels, examples = hpp.getData(filename, dtype)\n",
    "h1 = hpp.addHierarchy(labels, group1=('movement', 'household-chores'))#, name1='moving', name2='still')\n",
    "print(len(h1))"
   ]
  },
  {
   "cell_type": "code",
   "execution_count": 133,
   "metadata": {},
   "outputs": [
    {
     "name": "stdout",
     "output_type": "stream",
     "text": [
      "g1: 70 examples (56 for train and 14 for test)\n",
      "g2: 230 examples (184 for train and 46 for test)\n",
      "\n",
      "Total: 240 train examples and 60 test examples \n"
     ]
    }
   ],
   "source": [
    "ltrain, ltest, ftrain, ftest = hpp.trainAndTestDatasets(h1, examples, k )"
   ]
  },
  {
   "cell_type": "markdown",
   "metadata": {},
   "source": [
    "### 2 - test classifiers with no cross validation and predefined parameters (C=1, $\\gamma$ = 0.01)"
   ]
  },
  {
   "cell_type": "code",
   "execution_count": 134,
   "metadata": {
    "scrolled": true
   },
   "outputs": [
    {
     "name": "stdout",
     "output_type": "stream",
     "text": [
      "expected\t\tresult\n",
      "------------------------------\n",
      "g1\t\tg1\n",
      "g1\t\tg1\n",
      "g1\t\tg1\n",
      "g1\t\tg1\n",
      "g1\t\tg2\n",
      "g1\t\tg2\n",
      "g1\t\tg2\n",
      "g1\t\tg1\n",
      "g1\t\tg1\n",
      "g1\t\tg1\n",
      "g1\t\tg1\n",
      "g1\t\tg1\n",
      "g1\t\tg1\n",
      "g1\t\tg1\n",
      "g2\t\tg2\n",
      "g2\t\tg2\n",
      "g2\t\tg2\n",
      "g2\t\tg2\n",
      "g2\t\tg1\n",
      "g2\t\tg2\n",
      "g2\t\tg2\n",
      "g2\t\tg2\n",
      "g2\t\tg2\n",
      "g2\t\tg2\n",
      "g2\t\tg1\n",
      "g2\t\tg2\n",
      "g2\t\tg2\n",
      "g2\t\tg1\n",
      "g2\t\tg2\n",
      "g2\t\tg1\n",
      "g2\t\tg2\n",
      "g2\t\tg2\n",
      "g2\t\tg2\n",
      "g2\t\tg2\n",
      "g2\t\tg2\n",
      "g2\t\tg2\n",
      "g2\t\tg2\n",
      "g2\t\tg2\n",
      "g2\t\tg2\n",
      "g2\t\tg2\n",
      "g2\t\tg2\n",
      "g2\t\tg2\n",
      "g2\t\tg2\n",
      "g2\t\tg2\n",
      "g2\t\tg2\n",
      "g2\t\tg1\n",
      "g2\t\tg1\n",
      "g2\t\tg2\n",
      "g2\t\tg2\n",
      "g2\t\tg2\n",
      "g2\t\tg2\n",
      "g2\t\tg2\n",
      "g2\t\tg2\n",
      "g2\t\tg2\n",
      "g2\t\tg2\n",
      "g2\t\tg2\n",
      "g2\t\tg2\n",
      "g2\t\tg2\n",
      "g2\t\tg2\n",
      "g2\t\tg2\n",
      "------\n",
      "Got 51 out of 60 right! :)\n"
     ]
    }
   ],
   "source": [
    "clf1 = svm.SVC(kernel='linear', cache_size=1000, C=10)\n",
    "clf1.fit(X=ftrain, y=ltrain)\n",
    "hpp.printResults(ltest, clf1.predict(ftest))"
   ]
  },
  {
   "cell_type": "code",
   "execution_count": 135,
   "metadata": {},
   "outputs": [
    {
     "name": "stdout",
     "output_type": "stream",
     "text": [
      "expected\t\tresult\n",
      "------------------------------\n",
      "g1\t\tg1\n",
      "g1\t\tg1\n",
      "g1\t\tg2\n",
      "g1\t\tg1\n",
      "g1\t\tg2\n",
      "g1\t\tg2\n",
      "g1\t\tg2\n",
      "g1\t\tg1\n",
      "g1\t\tg1\n",
      "g1\t\tg1\n",
      "g1\t\tg1\n",
      "g1\t\tg1\n",
      "g1\t\tg1\n",
      "g1\t\tg1\n",
      "g2\t\tg2\n",
      "g2\t\tg2\n",
      "g2\t\tg2\n",
      "g2\t\tg2\n",
      "g2\t\tg2\n",
      "g2\t\tg2\n",
      "g2\t\tg2\n",
      "g2\t\tg2\n",
      "g2\t\tg2\n",
      "g2\t\tg2\n",
      "g2\t\tg2\n",
      "g2\t\tg2\n",
      "g2\t\tg2\n",
      "g2\t\tg2\n",
      "g2\t\tg2\n",
      "g2\t\tg2\n",
      "g2\t\tg2\n",
      "g2\t\tg2\n",
      "g2\t\tg2\n",
      "g2\t\tg2\n",
      "g2\t\tg2\n",
      "g2\t\tg2\n",
      "g2\t\tg2\n",
      "g2\t\tg2\n",
      "g2\t\tg2\n",
      "g2\t\tg2\n",
      "g2\t\tg2\n",
      "g2\t\tg2\n",
      "g2\t\tg2\n",
      "g2\t\tg2\n",
      "g2\t\tg2\n",
      "g2\t\tg1\n",
      "g2\t\tg2\n",
      "g2\t\tg2\n",
      "g2\t\tg2\n",
      "g2\t\tg2\n",
      "g2\t\tg2\n",
      "g2\t\tg2\n",
      "g2\t\tg2\n",
      "g2\t\tg2\n",
      "g2\t\tg2\n",
      "g2\t\tg2\n",
      "g2\t\tg2\n",
      "g2\t\tg2\n",
      "g2\t\tg2\n",
      "g2\t\tg2\n",
      "------\n",
      "Got 55 out of 60 right! :)\n"
     ]
    }
   ],
   "source": [
    "clf2 = svm.SVC(kernel='rbf', cache_size=1000, C=1, gamma=0.01)\n",
    "clf2.fit(X=ftrain, y=ltrain)\n",
    "hpp.printResults(ltest, clf2.predict(ftest))"
   ]
  },
  {
   "cell_type": "markdown",
   "metadata": {},
   "source": [
    "### 3 - Model selection:  Perform an exhaustive search, with k-fold cross-validation,  in the space parameter consisting of:\n",
    "* $C = 10^{i}, com -1 \\leq i \\leq 6$, for both linear and RBF kernels\n",
    "* $\\gamma = 10^{i}, com -3 \\leq i \\leq 3$, for RBF kernel."
   ]
  },
  {
   "cell_type": "code",
   "execution_count": 94,
   "metadata": {},
   "outputs": [],
   "source": [
    "crossval = StratifiedShuffleSplit(n_splits=k-1, test_size=0.2)\n",
    "\n",
    "# C varies from 10^(-1) to 10^6, gamma from 10^(-3) to 10^3\n",
    "c_range = np.logspace(-1, 2, 4) \n",
    "gamma_range = np.logspace(-2, 1, 4)\n",
    "\n",
    "param_lin=dict(C=c_range)\n",
    "param_rbf=dict(C=c_range, gamma=gamma_range)\n"
   ]
  },
  {
   "cell_type": "code",
   "execution_count": 99,
   "metadata": {},
   "outputs": [
    {
     "name": "stdout",
     "output_type": "stream",
     "text": [
      "Kernel linear --- \n",
      "Best params: {'C': 0.10000000000000001} with score 0.87245\n"
     ]
    }
   ],
   "source": [
    "grid_lin = GridSearchCV(svm.SVC(kernel='linear', cache_size=1000), param_grid=param_lin, cv=crossval)\n",
    "grid_lin.fit(X=ftrain, y=ltrain)\n",
    "\n",
    "print(\"Kernel linear --- \")\n",
    "print(\"Best params: %s with score %0.5f\" % (grid_lin.best_params_, grid_lin.best_score_))"
   ]
  },
  {
   "cell_type": "code",
   "execution_count": 100,
   "metadata": {},
   "outputs": [
    {
     "name": "stdout",
     "output_type": "stream",
     "text": [
      "Kernel RBF --- \n",
      "Best params: {'C': 1.0, 'gamma': 0.01} with score 0.88776\n"
     ]
    }
   ],
   "source": [
    "grid_rbf = GridSearchCV(svm.SVC(kernel='rbf', cache_size=1000), param_grid=param_rbf, cv=crossval)\n",
    "grid_rbf.fit(X=ftrain, y=ltrain)\n",
    "\n",
    "print(\"Kernel RBF --- \")\n",
    "print(\"Best params: %s with score %0.5f\" % (grid_rbf.best_params_, grid_rbf.best_score_))"
   ]
  },
  {
   "cell_type": "code",
   "execution_count": null,
   "metadata": {},
   "outputs": [],
   "source": []
  },
  {
   "cell_type": "code",
   "execution_count": null,
   "metadata": {
    "collapsed": true
   },
   "outputs": [],
   "source": []
  },
  {
   "cell_type": "code",
   "execution_count": null,
   "metadata": {},
   "outputs": [],
   "source": []
  },
  {
   "cell_type": "code",
   "execution_count": null,
   "metadata": {},
   "outputs": [],
   "source": []
  },
  {
   "cell_type": "code",
   "execution_count": null,
   "metadata": {
    "collapsed": true
   },
   "outputs": [],
   "source": []
  }
 ],
 "metadata": {
  "kernelspec": {
   "display_name": "Python 3",
   "language": "python",
   "name": "python3"
  },
  "language_info": {
   "codemirror_mode": {
    "name": "ipython",
    "version": 3
   },
   "file_extension": ".py",
   "mimetype": "text/x-python",
   "name": "python",
   "nbconvert_exporter": "python",
   "pygments_lexer": "ipython3",
   "version": "3.6.2"
  }
 },
 "nbformat": 4,
 "nbformat_minor": 2
}
