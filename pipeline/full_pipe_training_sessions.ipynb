{
 "cells": [
  {
   "cell_type": "code",
   "execution_count": 1,
   "metadata": {},
   "outputs": [
    {
     "data": {
      "text/html": [
       "<script>requirejs.config({paths: { 'plotly': ['https://cdn.plot.ly/plotly-latest.min']},});if(!window.Plotly) {{require(['plotly'],function(plotly) {window.Plotly=plotly;});}}</script>"
      ],
      "text/vnd.plotly.v1+html": [
       "<script>requirejs.config({paths: { 'plotly': ['https://cdn.plot.ly/plotly-latest.min']},});if(!window.Plotly) {{require(['plotly'],function(plotly) {window.Plotly=plotly;});}}</script>"
      ]
     },
     "metadata": {},
     "output_type": "display_data"
    }
   ],
   "source": [
    "%load_ext autoreload\n",
    "%autoreload 2\n",
    "%matplotlib inline  \n",
    "\n",
    "import pandas as pd\n",
    "import numpy as np\n",
    "\n",
    "from datetime import datetime, timedelta\n",
    "\n",
    "import plotly.offline as pl\n",
    "pl.init_notebook_mode(connected=True)\n",
    "import plotly.graph_objs as go\n",
    "\n",
    "from sklearn.ensemble import RandomForestClassifier\n",
    "\n",
    "\n",
    "import parseIntervalFiles as pif\n",
    "import consolidateFiles as cf\n",
    "import datacleaning as cl\n",
    "import dataviz as dv\n",
    "import fragmentation as fr\n",
    "import classif_multiclass as cmc\n",
    "import hervpd as hp"
   ]
  },
  {
   "cell_type": "markdown",
   "metadata": {},
   "source": [
    "## Pipeline configuration \n",
    "* set the input/output directories, users and date range"
   ]
  },
  {
   "cell_type": "code",
   "execution_count": 2,
   "metadata": {},
   "outputs": [],
   "source": [
    "verbose = True\n",
    "    \n",
    "DATA_PATH = \"C:\\\\Users\\\\ju\\\\GDrive\\\\Projects\\\\HeRV\\\\Data\\\\\" \n",
    "# DATA_PATH = \"/home/ju/GDrive/Projects/HeRV/Data/\"\n",
    "    \n",
    "RAW_PATH = DATA_PATH + \"Raw\"\n",
    "PRE_PATH = DATA_PATH + \"PreProcessed\"\n",
    "\n",
    "dt1 = datetime(2018, 6, 18)\n",
    "dt2 = datetime(2018, 6, 25)\n",
    "\n",
    "users = [0, 1]"
   ]
  },
  {
   "cell_type": "markdown",
   "metadata": {},
   "source": [
    "## Extracting sessions"
   ]
  },
  {
   "cell_type": "code",
   "execution_count": 3,
   "metadata": {},
   "outputs": [
    {
     "name": "stderr",
     "output_type": "stream",
     "text": [
      "C:\\Users\\Ju\\Anaconda3\\lib\\site-packages\\scipy\\signal\\spectral.py:1633: UserWarning:\n",
      "\n",
      "nperseg = 256 is greater than input length  = 97, using nperseg = 97\n",
      "\n"
     ]
    },
    {
     "name": "stdout",
     "output_type": "stream",
     "text": [
      "Wall time: 3.29 s\n"
     ]
    }
   ],
   "source": [
    "%time sess = cf.gen_sessions_dataset(users, dt1, dt2, dirname=RAW_PATH, verbose=False)"
   ]
  },
  {
   "cell_type": "code",
   "execution_count": 4,
   "metadata": {},
   "outputs": [],
   "source": [
    "dfs = pd.DataFrame(sess)"
   ]
  },
  {
   "cell_type": "code",
   "execution_count": 5,
   "metadata": {},
   "outputs": [],
   "source": [
    "dfs = dfs[dfs.activity.isin(['train-baseline', 'train-focus', 'train-breathe'])]"
   ]
  },
  {
   "cell_type": "code",
   "execution_count": 6,
   "metadata": {},
   "outputs": [
    {
     "data": {
      "text/plain": [
       "activity\n",
       "train-baseline    13\n",
       "train-breathe     18\n",
       "train-focus       18\n",
       "Name: duration, dtype: int64"
      ]
     },
     "execution_count": 6,
     "metadata": {},
     "output_type": "execute_result"
    }
   ],
   "source": [
    "dfs.groupby('activity').count()['duration']"
   ]
  },
  {
   "cell_type": "code",
   "execution_count": 66,
   "metadata": {
    "scrolled": true
   },
   "outputs": [
    {
     "data": {
      "text/html": [
       "<div>\n",
       "<style>\n",
       "    .dataframe thead tr:only-child th {\n",
       "        text-align: right;\n",
       "    }\n",
       "\n",
       "    .dataframe thead th {\n",
       "        text-align: left;\n",
       "    }\n",
       "\n",
       "    .dataframe tbody tr th {\n",
       "        vertical-align: top;\n",
       "    }\n",
       "</style>\n",
       "<table border=\"1\" class=\"dataframe\">\n",
       "  <thead>\n",
       "    <tr style=\"text-align: right;\">\n",
       "      <th></th>\n",
       "      <th>activity</th>\n",
       "      <th>user</th>\n",
       "      <th>start</th>\n",
       "      <th>duration</th>\n",
       "      <th>beatscount</th>\n",
       "    </tr>\n",
       "  </thead>\n",
       "  <tbody>\n",
       "    <tr>\n",
       "      <th>0</th>\n",
       "      <td>train-baseline</td>\n",
       "      <td>0</td>\n",
       "      <td>2018-06-18 11:02:20</td>\n",
       "      <td>128</td>\n",
       "      <td>154</td>\n",
       "    </tr>\n",
       "    <tr>\n",
       "      <th>1</th>\n",
       "      <td>train-focus</td>\n",
       "      <td>0</td>\n",
       "      <td>2018-06-18 11:04:32</td>\n",
       "      <td>128</td>\n",
       "      <td>165</td>\n",
       "    </tr>\n",
       "    <tr>\n",
       "      <th>2</th>\n",
       "      <td>train-breathe</td>\n",
       "      <td>0</td>\n",
       "      <td>2018-06-18 11:10:18</td>\n",
       "      <td>131</td>\n",
       "      <td>168</td>\n",
       "    </tr>\n",
       "    <tr>\n",
       "      <th>3</th>\n",
       "      <td>train-focus</td>\n",
       "      <td>0</td>\n",
       "      <td>2018-06-18 11:14:17</td>\n",
       "      <td>129</td>\n",
       "      <td>169</td>\n",
       "    </tr>\n",
       "    <tr>\n",
       "      <th>4</th>\n",
       "      <td>train-breathe</td>\n",
       "      <td>0</td>\n",
       "      <td>2018-06-18 11:24:58</td>\n",
       "      <td>128</td>\n",
       "      <td>165</td>\n",
       "    </tr>\n",
       "    <tr>\n",
       "      <th>5</th>\n",
       "      <td>train-focus</td>\n",
       "      <td>0</td>\n",
       "      <td>2018-06-18 12:35:13</td>\n",
       "      <td>134</td>\n",
       "      <td>191</td>\n",
       "    </tr>\n",
       "    <tr>\n",
       "      <th>6</th>\n",
       "      <td>train-breathe</td>\n",
       "      <td>0</td>\n",
       "      <td>2018-06-18 12:39:50</td>\n",
       "      <td>133</td>\n",
       "      <td>190</td>\n",
       "    </tr>\n",
       "    <tr>\n",
       "      <th>7</th>\n",
       "      <td>train-baseline</td>\n",
       "      <td>0</td>\n",
       "      <td>2018-06-18 17:22:39</td>\n",
       "      <td>153</td>\n",
       "      <td>204</td>\n",
       "    </tr>\n",
       "    <tr>\n",
       "      <th>8</th>\n",
       "      <td>train-focus</td>\n",
       "      <td>0</td>\n",
       "      <td>2018-06-18 17:25:34</td>\n",
       "      <td>135</td>\n",
       "      <td>179</td>\n",
       "    </tr>\n",
       "    <tr>\n",
       "      <th>9</th>\n",
       "      <td>train-breathe</td>\n",
       "      <td>0</td>\n",
       "      <td>2018-06-18 17:29:15</td>\n",
       "      <td>135</td>\n",
       "      <td>175</td>\n",
       "    </tr>\n",
       "    <tr>\n",
       "      <th>10</th>\n",
       "      <td>train-baseline</td>\n",
       "      <td>0</td>\n",
       "      <td>2018-06-18 17:40:25</td>\n",
       "      <td>132</td>\n",
       "      <td>163</td>\n",
       "    </tr>\n",
       "    <tr>\n",
       "      <th>11</th>\n",
       "      <td>train-breathe</td>\n",
       "      <td>0</td>\n",
       "      <td>2018-06-18 17:45:33</td>\n",
       "      <td>133</td>\n",
       "      <td>168</td>\n",
       "    </tr>\n",
       "    <tr>\n",
       "      <th>12</th>\n",
       "      <td>train-focus</td>\n",
       "      <td>0</td>\n",
       "      <td>2018-06-18 17:56:24</td>\n",
       "      <td>131</td>\n",
       "      <td>167</td>\n",
       "    </tr>\n",
       "    <tr>\n",
       "      <th>13</th>\n",
       "      <td>train-baseline</td>\n",
       "      <td>0</td>\n",
       "      <td>2018-06-18 18:05:55</td>\n",
       "      <td>140</td>\n",
       "      <td>185</td>\n",
       "    </tr>\n",
       "    <tr>\n",
       "      <th>14</th>\n",
       "      <td>train-breathe</td>\n",
       "      <td>0</td>\n",
       "      <td>2018-06-18 18:09:58</td>\n",
       "      <td>141</td>\n",
       "      <td>194</td>\n",
       "    </tr>\n",
       "    <tr>\n",
       "      <th>15</th>\n",
       "      <td>train-focus</td>\n",
       "      <td>0</td>\n",
       "      <td>2018-06-18 18:13:34</td>\n",
       "      <td>133</td>\n",
       "      <td>183</td>\n",
       "    </tr>\n",
       "    <tr>\n",
       "      <th>16</th>\n",
       "      <td>train-baseline</td>\n",
       "      <td>0</td>\n",
       "      <td>2018-06-18 19:13:05</td>\n",
       "      <td>171</td>\n",
       "      <td>208</td>\n",
       "    </tr>\n",
       "    <tr>\n",
       "      <th>17</th>\n",
       "      <td>train-breathe</td>\n",
       "      <td>0</td>\n",
       "      <td>2018-06-18 19:17:21</td>\n",
       "      <td>133</td>\n",
       "      <td>181</td>\n",
       "    </tr>\n",
       "    <tr>\n",
       "      <th>18</th>\n",
       "      <td>train-focus</td>\n",
       "      <td>0</td>\n",
       "      <td>2018-06-18 19:20:20</td>\n",
       "      <td>137</td>\n",
       "      <td>182</td>\n",
       "    </tr>\n",
       "    <tr>\n",
       "      <th>20</th>\n",
       "      <td>train-baseline</td>\n",
       "      <td>0</td>\n",
       "      <td>2018-06-19 13:52:08</td>\n",
       "      <td>125</td>\n",
       "      <td>189</td>\n",
       "    </tr>\n",
       "    <tr>\n",
       "      <th>21</th>\n",
       "      <td>train-breathe</td>\n",
       "      <td>0</td>\n",
       "      <td>2018-06-19 13:55:00</td>\n",
       "      <td>140</td>\n",
       "      <td>202</td>\n",
       "    </tr>\n",
       "    <tr>\n",
       "      <th>22</th>\n",
       "      <td>train-focus</td>\n",
       "      <td>0</td>\n",
       "      <td>2018-06-19 13:57:58</td>\n",
       "      <td>144</td>\n",
       "      <td>212</td>\n",
       "    </tr>\n",
       "    <tr>\n",
       "      <th>25</th>\n",
       "      <td>train-baseline</td>\n",
       "      <td>0</td>\n",
       "      <td>2018-06-20 01:54:18</td>\n",
       "      <td>136</td>\n",
       "      <td>190</td>\n",
       "    </tr>\n",
       "    <tr>\n",
       "      <th>26</th>\n",
       "      <td>train-focus</td>\n",
       "      <td>0</td>\n",
       "      <td>2018-06-20 01:57:44</td>\n",
       "      <td>131</td>\n",
       "      <td>191</td>\n",
       "    </tr>\n",
       "    <tr>\n",
       "      <th>27</th>\n",
       "      <td>train-breathe</td>\n",
       "      <td>0</td>\n",
       "      <td>2018-06-20 02:01:44</td>\n",
       "      <td>122</td>\n",
       "      <td>182</td>\n",
       "    </tr>\n",
       "    <tr>\n",
       "      <th>28</th>\n",
       "      <td>train-baseline</td>\n",
       "      <td>0</td>\n",
       "      <td>2018-06-20 22:39:33</td>\n",
       "      <td>137</td>\n",
       "      <td>187</td>\n",
       "    </tr>\n",
       "    <tr>\n",
       "      <th>29</th>\n",
       "      <td>train-breathe</td>\n",
       "      <td>0</td>\n",
       "      <td>2018-06-20 22:42:10</td>\n",
       "      <td>141</td>\n",
       "      <td>190</td>\n",
       "    </tr>\n",
       "    <tr>\n",
       "      <th>30</th>\n",
       "      <td>train-focus</td>\n",
       "      <td>0</td>\n",
       "      <td>2018-06-20 22:44:58</td>\n",
       "      <td>125</td>\n",
       "      <td>182</td>\n",
       "    </tr>\n",
       "    <tr>\n",
       "      <th>31</th>\n",
       "      <td>train-baseline</td>\n",
       "      <td>0</td>\n",
       "      <td>2018-06-21 00:44:11</td>\n",
       "      <td>115</td>\n",
       "      <td>160</td>\n",
       "    </tr>\n",
       "    <tr>\n",
       "      <th>32</th>\n",
       "      <td>train-breathe</td>\n",
       "      <td>0</td>\n",
       "      <td>2018-06-21 00:46:52</td>\n",
       "      <td>139</td>\n",
       "      <td>209</td>\n",
       "    </tr>\n",
       "    <tr>\n",
       "      <th>33</th>\n",
       "      <td>train-focus</td>\n",
       "      <td>0</td>\n",
       "      <td>2018-06-21 00:49:56</td>\n",
       "      <td>122</td>\n",
       "      <td>184</td>\n",
       "    </tr>\n",
       "    <tr>\n",
       "      <th>34</th>\n",
       "      <td>train-baseline</td>\n",
       "      <td>0</td>\n",
       "      <td>2018-06-21 11:06:45</td>\n",
       "      <td>130</td>\n",
       "      <td>162</td>\n",
       "    </tr>\n",
       "    <tr>\n",
       "      <th>35</th>\n",
       "      <td>train-focus</td>\n",
       "      <td>0</td>\n",
       "      <td>2018-06-21 11:11:44</td>\n",
       "      <td>131</td>\n",
       "      <td>189</td>\n",
       "    </tr>\n",
       "    <tr>\n",
       "      <th>36</th>\n",
       "      <td>train-breathe</td>\n",
       "      <td>0</td>\n",
       "      <td>2018-06-21 11:15:12</td>\n",
       "      <td>133</td>\n",
       "      <td>188</td>\n",
       "    </tr>\n",
       "  </tbody>\n",
       "</table>\n",
       "</div>"
      ],
      "text/plain": [
       "          activity  user               start  duration  beatscount\n",
       "0   train-baseline     0 2018-06-18 11:02:20       128         154\n",
       "1      train-focus     0 2018-06-18 11:04:32       128         165\n",
       "2    train-breathe     0 2018-06-18 11:10:18       131         168\n",
       "3      train-focus     0 2018-06-18 11:14:17       129         169\n",
       "4    train-breathe     0 2018-06-18 11:24:58       128         165\n",
       "5      train-focus     0 2018-06-18 12:35:13       134         191\n",
       "6    train-breathe     0 2018-06-18 12:39:50       133         190\n",
       "7   train-baseline     0 2018-06-18 17:22:39       153         204\n",
       "8      train-focus     0 2018-06-18 17:25:34       135         179\n",
       "9    train-breathe     0 2018-06-18 17:29:15       135         175\n",
       "10  train-baseline     0 2018-06-18 17:40:25       132         163\n",
       "11   train-breathe     0 2018-06-18 17:45:33       133         168\n",
       "12     train-focus     0 2018-06-18 17:56:24       131         167\n",
       "13  train-baseline     0 2018-06-18 18:05:55       140         185\n",
       "14   train-breathe     0 2018-06-18 18:09:58       141         194\n",
       "15     train-focus     0 2018-06-18 18:13:34       133         183\n",
       "16  train-baseline     0 2018-06-18 19:13:05       171         208\n",
       "17   train-breathe     0 2018-06-18 19:17:21       133         181\n",
       "18     train-focus     0 2018-06-18 19:20:20       137         182\n",
       "20  train-baseline     0 2018-06-19 13:52:08       125         189\n",
       "21   train-breathe     0 2018-06-19 13:55:00       140         202\n",
       "22     train-focus     0 2018-06-19 13:57:58       144         212\n",
       "25  train-baseline     0 2018-06-20 01:54:18       136         190\n",
       "26     train-focus     0 2018-06-20 01:57:44       131         191\n",
       "27   train-breathe     0 2018-06-20 02:01:44       122         182\n",
       "28  train-baseline     0 2018-06-20 22:39:33       137         187\n",
       "29   train-breathe     0 2018-06-20 22:42:10       141         190\n",
       "30     train-focus     0 2018-06-20 22:44:58       125         182\n",
       "31  train-baseline     0 2018-06-21 00:44:11       115         160\n",
       "32   train-breathe     0 2018-06-21 00:46:52       139         209\n",
       "33     train-focus     0 2018-06-21 00:49:56       122         184\n",
       "34  train-baseline     0 2018-06-21 11:06:45       130         162\n",
       "35     train-focus     0 2018-06-21 11:11:44       131         189\n",
       "36   train-breathe     0 2018-06-21 11:15:12       133         188"
      ]
     },
     "execution_count": 66,
     "metadata": {},
     "output_type": "execute_result"
    }
   ],
   "source": [
    "dfs[dfs.user==0][['activity', 'user', 'start', 'duration', 'beatscount']]"
   ]
  },
  {
   "cell_type": "code",
   "execution_count": 8,
   "metadata": {},
   "outputs": [
    {
     "data": {
      "text/html": [
       "<div>\n",
       "<style>\n",
       "    .dataframe thead tr:only-child th {\n",
       "        text-align: right;\n",
       "    }\n",
       "\n",
       "    .dataframe thead th {\n",
       "        text-align: left;\n",
       "    }\n",
       "\n",
       "    .dataframe tbody tr th {\n",
       "        vertical-align: top;\n",
       "    }\n",
       "</style>\n",
       "<table border=\"1\" class=\"dataframe\">\n",
       "  <thead>\n",
       "    <tr style=\"text-align: right;\">\n",
       "      <th></th>\n",
       "      <th>beatscount</th>\n",
       "      <th>duration</th>\n",
       "      <th>hf</th>\n",
       "      <th>hfnu</th>\n",
       "      <th>lf</th>\n",
       "      <th>lf_hf</th>\n",
       "      <th>lfnu</th>\n",
       "      <th>mhr</th>\n",
       "      <th>mrri</th>\n",
       "      <th>nn50</th>\n",
       "      <th>pnn50</th>\n",
       "      <th>removed_artifacts</th>\n",
       "      <th>rmssd</th>\n",
       "      <th>sdnn</th>\n",
       "      <th>sess_id</th>\n",
       "      <th>total_power</th>\n",
       "      <th>user</th>\n",
       "      <th>vlf</th>\n",
       "    </tr>\n",
       "  </thead>\n",
       "  <tbody>\n",
       "    <tr>\n",
       "      <th>count</th>\n",
       "      <td>49.000000</td>\n",
       "      <td>49.000000</td>\n",
       "      <td>49.000000</td>\n",
       "      <td>49.000000</td>\n",
       "      <td>49.000000</td>\n",
       "      <td>49.000000</td>\n",
       "      <td>49.000000</td>\n",
       "      <td>49.000000</td>\n",
       "      <td>49.000000</td>\n",
       "      <td>49.000000</td>\n",
       "      <td>49.000000</td>\n",
       "      <td>49.000000</td>\n",
       "      <td>49.000000</td>\n",
       "      <td>49.000000</td>\n",
       "      <td>49.000000</td>\n",
       "      <td>49.000000</td>\n",
       "      <td>49.000000</td>\n",
       "      <td>49.000000</td>\n",
       "    </tr>\n",
       "    <tr>\n",
       "      <th>mean</th>\n",
       "      <td>177.102041</td>\n",
       "      <td>133.020408</td>\n",
       "      <td>950.315925</td>\n",
       "      <td>32.865064</td>\n",
       "      <td>2299.550537</td>\n",
       "      <td>5.171729</td>\n",
       "      <td>67.134936</td>\n",
       "      <td>79.722853</td>\n",
       "      <td>768.742749</td>\n",
       "      <td>24.469388</td>\n",
       "      <td>14.391257</td>\n",
       "      <td>0.673469</td>\n",
       "      <td>53.536492</td>\n",
       "      <td>71.057760</td>\n",
       "      <td>25.816327</td>\n",
       "      <td>3987.728261</td>\n",
       "      <td>0.306122</td>\n",
       "      <td>737.861799</td>\n",
       "    </tr>\n",
       "    <tr>\n",
       "      <th>std</th>\n",
       "      <td>19.830789</td>\n",
       "      <td>9.512031</td>\n",
       "      <td>1358.916364</td>\n",
       "      <td>23.972474</td>\n",
       "      <td>2982.618442</td>\n",
       "      <td>5.436716</td>\n",
       "      <td>23.972474</td>\n",
       "      <td>7.699467</td>\n",
       "      <td>82.521754</td>\n",
       "      <td>18.203825</td>\n",
       "      <td>11.114657</td>\n",
       "      <td>1.712549</td>\n",
       "      <td>32.786063</td>\n",
       "      <td>29.019607</td>\n",
       "      <td>15.743614</td>\n",
       "      <td>3790.150844</td>\n",
       "      <td>0.465657</td>\n",
       "      <td>850.013169</td>\n",
       "    </tr>\n",
       "    <tr>\n",
       "      <th>min</th>\n",
       "      <td>132.000000</td>\n",
       "      <td>104.000000</td>\n",
       "      <td>36.467514</td>\n",
       "      <td>4.565933</td>\n",
       "      <td>130.060979</td>\n",
       "      <td>0.217607</td>\n",
       "      <td>17.871682</td>\n",
       "      <td>60.426939</td>\n",
       "      <td>664.222826</td>\n",
       "      <td>0.000000</td>\n",
       "      <td>0.000000</td>\n",
       "      <td>0.000000</td>\n",
       "      <td>12.977209</td>\n",
       "      <td>24.809968</td>\n",
       "      <td>0.000000</td>\n",
       "      <td>354.178357</td>\n",
       "      <td>0.000000</td>\n",
       "      <td>70.989653</td>\n",
       "    </tr>\n",
       "    <tr>\n",
       "      <th>25%</th>\n",
       "      <td>165.000000</td>\n",
       "      <td>128.000000</td>\n",
       "      <td>213.821800</td>\n",
       "      <td>11.179485</td>\n",
       "      <td>503.357147</td>\n",
       "      <td>0.772207</td>\n",
       "      <td>43.573176</td>\n",
       "      <td>76.333517</td>\n",
       "      <td>705.962766</td>\n",
       "      <td>10.000000</td>\n",
       "      <td>5.970149</td>\n",
       "      <td>0.000000</td>\n",
       "      <td>31.108347</td>\n",
       "      <td>51.481478</td>\n",
       "      <td>12.000000</td>\n",
       "      <td>1197.478684</td>\n",
       "      <td>0.000000</td>\n",
       "      <td>264.773195</td>\n",
       "    </tr>\n",
       "    <tr>\n",
       "      <th>50%</th>\n",
       "      <td>182.000000</td>\n",
       "      <td>133.000000</td>\n",
       "      <td>405.797394</td>\n",
       "      <td>26.423060</td>\n",
       "      <td>1309.118840</td>\n",
       "      <td>2.784573</td>\n",
       "      <td>73.576940</td>\n",
       "      <td>80.603377</td>\n",
       "      <td>749.734807</td>\n",
       "      <td>23.000000</td>\n",
       "      <td>12.234043</td>\n",
       "      <td>0.000000</td>\n",
       "      <td>52.527403</td>\n",
       "      <td>65.083679</td>\n",
       "      <td>27.000000</td>\n",
       "      <td>2260.807748</td>\n",
       "      <td>0.000000</td>\n",
       "      <td>466.142752</td>\n",
       "    </tr>\n",
       "    <tr>\n",
       "      <th>75%</th>\n",
       "      <td>190.000000</td>\n",
       "      <td>136.000000</td>\n",
       "      <td>932.902562</td>\n",
       "      <td>56.426824</td>\n",
       "      <td>2469.443406</td>\n",
       "      <td>7.944956</td>\n",
       "      <td>88.820515</td>\n",
       "      <td>85.371274</td>\n",
       "      <td>794.587879</td>\n",
       "      <td>37.000000</td>\n",
       "      <td>19.211823</td>\n",
       "      <td>1.000000</td>\n",
       "      <td>63.384904</td>\n",
       "      <td>92.249014</td>\n",
       "      <td>39.000000</td>\n",
       "      <td>5351.542867</td>\n",
       "      <td>1.000000</td>\n",
       "      <td>634.662141</td>\n",
       "    </tr>\n",
       "    <tr>\n",
       "      <th>max</th>\n",
       "      <td>212.000000</td>\n",
       "      <td>171.000000</td>\n",
       "      <td>6015.982540</td>\n",
       "      <td>82.128318</td>\n",
       "      <td>14893.856347</td>\n",
       "      <td>20.901331</td>\n",
       "      <td>95.434067</td>\n",
       "      <td>92.160516</td>\n",
       "      <td>1006.560606</td>\n",
       "      <td>68.000000</td>\n",
       "      <td>41.975309</td>\n",
       "      <td>10.000000</td>\n",
       "      <td>153.353970</td>\n",
       "      <td>141.658789</td>\n",
       "      <td>52.000000</td>\n",
       "      <td>16808.251518</td>\n",
       "      <td>1.000000</td>\n",
       "      <td>3940.988059</td>\n",
       "    </tr>\n",
       "  </tbody>\n",
       "</table>\n",
       "</div>"
      ],
      "text/plain": [
       "       beatscount    duration           hf       hfnu            lf  \\\n",
       "count   49.000000   49.000000    49.000000  49.000000     49.000000   \n",
       "mean   177.102041  133.020408   950.315925  32.865064   2299.550537   \n",
       "std     19.830789    9.512031  1358.916364  23.972474   2982.618442   \n",
       "min    132.000000  104.000000    36.467514   4.565933    130.060979   \n",
       "25%    165.000000  128.000000   213.821800  11.179485    503.357147   \n",
       "50%    182.000000  133.000000   405.797394  26.423060   1309.118840   \n",
       "75%    190.000000  136.000000   932.902562  56.426824   2469.443406   \n",
       "max    212.000000  171.000000  6015.982540  82.128318  14893.856347   \n",
       "\n",
       "           lf_hf       lfnu        mhr         mrri       nn50      pnn50  \\\n",
       "count  49.000000  49.000000  49.000000    49.000000  49.000000  49.000000   \n",
       "mean    5.171729  67.134936  79.722853   768.742749  24.469388  14.391257   \n",
       "std     5.436716  23.972474   7.699467    82.521754  18.203825  11.114657   \n",
       "min     0.217607  17.871682  60.426939   664.222826   0.000000   0.000000   \n",
       "25%     0.772207  43.573176  76.333517   705.962766  10.000000   5.970149   \n",
       "50%     2.784573  73.576940  80.603377   749.734807  23.000000  12.234043   \n",
       "75%     7.944956  88.820515  85.371274   794.587879  37.000000  19.211823   \n",
       "max    20.901331  95.434067  92.160516  1006.560606  68.000000  41.975309   \n",
       "\n",
       "       removed_artifacts       rmssd        sdnn    sess_id   total_power  \\\n",
       "count          49.000000   49.000000   49.000000  49.000000     49.000000   \n",
       "mean            0.673469   53.536492   71.057760  25.816327   3987.728261   \n",
       "std             1.712549   32.786063   29.019607  15.743614   3790.150844   \n",
       "min             0.000000   12.977209   24.809968   0.000000    354.178357   \n",
       "25%             0.000000   31.108347   51.481478  12.000000   1197.478684   \n",
       "50%             0.000000   52.527403   65.083679  27.000000   2260.807748   \n",
       "75%             1.000000   63.384904   92.249014  39.000000   5351.542867   \n",
       "max            10.000000  153.353970  141.658789  52.000000  16808.251518   \n",
       "\n",
       "            user          vlf  \n",
       "count  49.000000    49.000000  \n",
       "mean    0.306122   737.861799  \n",
       "std     0.465657   850.013169  \n",
       "min     0.000000    70.989653  \n",
       "25%     0.000000   264.773195  \n",
       "50%     0.000000   466.142752  \n",
       "75%     1.000000   634.662141  \n",
       "max     1.000000  3940.988059  "
      ]
     },
     "execution_count": 8,
     "metadata": {},
     "output_type": "execute_result"
    }
   ],
   "source": [
    "dfs.describe()"
   ]
  },
  {
   "cell_type": "code",
   "execution_count": 9,
   "metadata": {},
   "outputs": [],
   "source": [
    "dfs.drop(['rr'], axis =  1).to_excel(PRE_PATH + \"\\\\train_sessions.xlsx\")"
   ]
  },
  {
   "cell_type": "markdown",
   "metadata": {},
   "source": [
    "\n",
    "---\n",
    "\n",
    "\n",
    "# VISUALIZATION\n",
    "\n",
    "---\n",
    "\n"
   ]
  },
  {
   "cell_type": "code",
   "execution_count": 10,
   "metadata": {
    "scrolled": true
   },
   "outputs": [
    {
     "data": {
      "application/vnd.plotly.v1+json": {
       "data": [
        {
         "name": "train-baseline",
         "showlegend": false,
         "type": "box",
         "y": [
          72.14460476640866,
          80.24240882162032,
          76.12211383075527,
          78.56069109864058,
          72.95483948372892,
          89.06836816222825,
          84.84795628689037,
          81.43662394212642,
          88.51446589584319,
          76.88911862678634,
          80.60337700699858,
          83.31323774996211,
          61.92741596057547
         ]
        },
        {
         "name": "train-focus",
         "showlegend": false,
         "type": "box",
         "y": [
          76.4541572376653,
          77.71745403239049,
          84.73000514260889,
          80.17307924763895,
          75.16541057840516,
          81.40392148631943,
          78.4232813382317,
          87.21495380911794,
          86.44422357816748,
          92.16051622857628,
          90.51731836046258,
          86.56179476807077,
          85.37127386478745,
          87.60757664306064,
          83.93621782847185,
          85.31820633619049,
          63.483747940059175,
          63.14817231197246
         ]
        },
        {
         "name": "train-breathe",
         "showlegend": false,
         "type": "box",
         "y": [
          76.33351668250816,
          76.59084781743564,
          84.47006531597604,
          77.69162075765267,
          74.78591582401206,
          82.19036387962461,
          81.2354998769148,
          86.00105214478057,
          87.43998718940641,
          80.73579394767772,
          90.82721655203055,
          86.12944055237934,
          74.2800773964429,
          78.55913128236062,
          76.5403961097889,
          76.04461824493706,
          60.42693928417186,
          63.68078610115505
         ]
        }
       ],
       "layout": {
        "xaxis": {
         "title": "activity"
        },
        "yaxis": {
         "title": "mhr"
        }
       }
      },
      "text/html": [
       "<div id=\"a83b041f-d74d-44c4-baa1-762194ca11c9\" style=\"height: 525px; width: 100%;\" class=\"plotly-graph-div\"></div><script type=\"text/javascript\">require([\"plotly\"], function(Plotly) { window.PLOTLYENV=window.PLOTLYENV || {};window.PLOTLYENV.BASE_URL=\"https://plot.ly\";Plotly.newPlot(\"a83b041f-d74d-44c4-baa1-762194ca11c9\", [{\"type\": \"box\", \"y\": [72.14460476640866, 80.24240882162032, 76.12211383075527, 78.56069109864058, 72.95483948372892, 89.06836816222825, 84.84795628689037, 81.43662394212642, 88.51446589584319, 76.88911862678634, 80.60337700699858, 83.31323774996211, 61.92741596057547], \"name\": \"train-baseline\", \"showlegend\": false}, {\"type\": \"box\", \"y\": [76.4541572376653, 77.71745403239049, 84.73000514260889, 80.17307924763895, 75.16541057840516, 81.40392148631943, 78.4232813382317, 87.21495380911794, 86.44422357816748, 92.16051622857628, 90.51731836046258, 86.56179476807077, 85.37127386478745, 87.60757664306064, 83.93621782847185, 85.31820633619049, 63.483747940059175, 63.14817231197246], \"name\": \"train-focus\", \"showlegend\": false}, {\"type\": \"box\", \"y\": [76.33351668250816, 76.59084781743564, 84.47006531597604, 77.69162075765267, 74.78591582401206, 82.19036387962461, 81.2354998769148, 86.00105214478057, 87.43998718940641, 80.73579394767772, 90.82721655203055, 86.12944055237934, 74.2800773964429, 78.55913128236062, 76.5403961097889, 76.04461824493706, 60.42693928417186, 63.68078610115505], \"name\": \"train-breathe\", \"showlegend\": false}], {\"yaxis\": {\"title\": \"mhr\"}, \"xaxis\": {\"title\": \"activity\"}}, {\"showLink\": true, \"linkText\": \"Export to plot.ly\"})});</script>"
      ],
      "text/vnd.plotly.v1+html": [
       "<div id=\"a83b041f-d74d-44c4-baa1-762194ca11c9\" style=\"height: 525px; width: 100%;\" class=\"plotly-graph-div\"></div><script type=\"text/javascript\">require([\"plotly\"], function(Plotly) { window.PLOTLYENV=window.PLOTLYENV || {};window.PLOTLYENV.BASE_URL=\"https://plot.ly\";Plotly.newPlot(\"a83b041f-d74d-44c4-baa1-762194ca11c9\", [{\"type\": \"box\", \"y\": [72.14460476640866, 80.24240882162032, 76.12211383075527, 78.56069109864058, 72.95483948372892, 89.06836816222825, 84.84795628689037, 81.43662394212642, 88.51446589584319, 76.88911862678634, 80.60337700699858, 83.31323774996211, 61.92741596057547], \"name\": \"train-baseline\", \"showlegend\": false}, {\"type\": \"box\", \"y\": [76.4541572376653, 77.71745403239049, 84.73000514260889, 80.17307924763895, 75.16541057840516, 81.40392148631943, 78.4232813382317, 87.21495380911794, 86.44422357816748, 92.16051622857628, 90.51731836046258, 86.56179476807077, 85.37127386478745, 87.60757664306064, 83.93621782847185, 85.31820633619049, 63.483747940059175, 63.14817231197246], \"name\": \"train-focus\", \"showlegend\": false}, {\"type\": \"box\", \"y\": [76.33351668250816, 76.59084781743564, 84.47006531597604, 77.69162075765267, 74.78591582401206, 82.19036387962461, 81.2354998769148, 86.00105214478057, 87.43998718940641, 80.73579394767772, 90.82721655203055, 86.12944055237934, 74.2800773964429, 78.55913128236062, 76.5403961097889, 76.04461824493706, 60.42693928417186, 63.68078610115505], \"name\": \"train-breathe\", \"showlegend\": false}], {\"yaxis\": {\"title\": \"mhr\"}, \"xaxis\": {\"title\": \"activity\"}}, {\"showLink\": true, \"linkText\": \"Export to plot.ly\"})});</script>"
      ]
     },
     "metadata": {},
     "output_type": "display_data"
    },
    {
     "data": {
      "application/vnd.plotly.v1+json": {
       "data": [
        {
         "name": "train-baseline",
         "showlegend": false,
         "type": "box",
         "y": [
          841.8246753246754,
          763.2450980392157,
          816.6993865030674,
          771.6648648648649,
          838,
          678.0370370370371,
          712.1947368421053,
          748.2192513368984,
          715.7875,
          790.2962962962963,
          748.9751243781094,
          721.8287671232877,
          976.1304347826087
         ]
        },
        {
         "name": "train-focus",
         "showlegend": false,
         "type": "box",
         "y": [
          789.6666666666666,
          776.0591715976332,
          711.0890052356021,
          758.9497206703911,
          801.6407185628742,
          742.775956284153,
          767.2582417582418,
          690.2122641509434,
          697.1570680628272,
          681.6868131868132,
          664.2228260869565,
          703.7566137566138,
          704.7431693989071,
          686.8835978835979,
          715.6732673267327,
          705.8663101604278,
          947.9930555555555,
          954.8102189781022
         ]
        },
        {
         "name": "train-breathe",
         "showlegend": false,
         "type": "box",
         "y": [
          792.0833333333334,
          788.0424242424242,
          713.0368421052632,
          781.8228571428572,
          814.0178571428571,
          737.6288659793814,
          749.7348066298342,
          700.5,
          687.8516483516484,
          747.1105263157895,
          671.976076555024,
          705.9627659574468,
          820.879746835443,
          776.1477272727273,
          794.5878787878788,
          797.8830409356725,
          1006.560606060606,
          959.2198581560284
         ]
        }
       ],
       "layout": {
        "xaxis": {
         "title": "activity"
        },
        "yaxis": {
         "title": "mrri"
        }
       }
      },
      "text/html": [
       "<div id=\"46e369cf-428b-40b3-83c4-5e48d5b5c920\" style=\"height: 525px; width: 100%;\" class=\"plotly-graph-div\"></div><script type=\"text/javascript\">require([\"plotly\"], function(Plotly) { window.PLOTLYENV=window.PLOTLYENV || {};window.PLOTLYENV.BASE_URL=\"https://plot.ly\";Plotly.newPlot(\"46e369cf-428b-40b3-83c4-5e48d5b5c920\", [{\"type\": \"box\", \"y\": [841.8246753246754, 763.2450980392157, 816.6993865030674, 771.6648648648649, 838.0, 678.0370370370371, 712.1947368421053, 748.2192513368984, 715.7875, 790.2962962962963, 748.9751243781094, 721.8287671232877, 976.1304347826087], \"name\": \"train-baseline\", \"showlegend\": false}, {\"type\": \"box\", \"y\": [789.6666666666666, 776.0591715976332, 711.0890052356021, 758.9497206703911, 801.6407185628742, 742.775956284153, 767.2582417582418, 690.2122641509434, 697.1570680628272, 681.6868131868132, 664.2228260869565, 703.7566137566138, 704.7431693989071, 686.8835978835979, 715.6732673267327, 705.8663101604278, 947.9930555555555, 954.8102189781022], \"name\": \"train-focus\", \"showlegend\": false}, {\"type\": \"box\", \"y\": [792.0833333333334, 788.0424242424242, 713.0368421052632, 781.8228571428572, 814.0178571428571, 737.6288659793814, 749.7348066298342, 700.5, 687.8516483516484, 747.1105263157895, 671.976076555024, 705.9627659574468, 820.879746835443, 776.1477272727273, 794.5878787878788, 797.8830409356725, 1006.560606060606, 959.2198581560284], \"name\": \"train-breathe\", \"showlegend\": false}], {\"yaxis\": {\"title\": \"mrri\"}, \"xaxis\": {\"title\": \"activity\"}}, {\"showLink\": true, \"linkText\": \"Export to plot.ly\"})});</script>"
      ],
      "text/vnd.plotly.v1+html": [
       "<div id=\"46e369cf-428b-40b3-83c4-5e48d5b5c920\" style=\"height: 525px; width: 100%;\" class=\"plotly-graph-div\"></div><script type=\"text/javascript\">require([\"plotly\"], function(Plotly) { window.PLOTLYENV=window.PLOTLYENV || {};window.PLOTLYENV.BASE_URL=\"https://plot.ly\";Plotly.newPlot(\"46e369cf-428b-40b3-83c4-5e48d5b5c920\", [{\"type\": \"box\", \"y\": [841.8246753246754, 763.2450980392157, 816.6993865030674, 771.6648648648649, 838.0, 678.0370370370371, 712.1947368421053, 748.2192513368984, 715.7875, 790.2962962962963, 748.9751243781094, 721.8287671232877, 976.1304347826087], \"name\": \"train-baseline\", \"showlegend\": false}, {\"type\": \"box\", \"y\": [789.6666666666666, 776.0591715976332, 711.0890052356021, 758.9497206703911, 801.6407185628742, 742.775956284153, 767.2582417582418, 690.2122641509434, 697.1570680628272, 681.6868131868132, 664.2228260869565, 703.7566137566138, 704.7431693989071, 686.8835978835979, 715.6732673267327, 705.8663101604278, 947.9930555555555, 954.8102189781022], \"name\": \"train-focus\", \"showlegend\": false}, {\"type\": \"box\", \"y\": [792.0833333333334, 788.0424242424242, 713.0368421052632, 781.8228571428572, 814.0178571428571, 737.6288659793814, 749.7348066298342, 700.5, 687.8516483516484, 747.1105263157895, 671.976076555024, 705.9627659574468, 820.879746835443, 776.1477272727273, 794.5878787878788, 797.8830409356725, 1006.560606060606, 959.2198581560284], \"name\": \"train-breathe\", \"showlegend\": false}], {\"yaxis\": {\"title\": \"mrri\"}, \"xaxis\": {\"title\": \"activity\"}}, {\"showLink\": true, \"linkText\": \"Export to plot.ly\"})});</script>"
      ]
     },
     "metadata": {},
     "output_type": "display_data"
    },
    {
     "data": {
      "application/vnd.plotly.v1+json": {
       "data": [
        {
         "name": "train-baseline",
         "showlegend": false,
         "type": "box",
         "y": [
          98.30631952750659,
          92.24901364092915,
          132.6401022617834,
          60.998539791041296,
          105.12711422334172,
          53.734113968131176,
          68.58099890863389,
          86.7477498296743,
          141.65878871917425,
          92.50058847480352,
          59.26824088927773,
          34.95482001966916,
          85.31186464639383
         ]
        },
        {
         "name": "train-focus",
         "showlegend": false,
         "type": "box",
         "y": [
          62.67768239109276,
          57.979132549689176,
          41.004074695532566,
          71.72953834557875,
          52.70333218665535,
          52.949894115618605,
          41.644964983701406,
          38.462479292587695,
          56.03942634469692,
          121.85457205712298,
          30.40490542555267,
          75.16325509271094,
          36.473001377185255,
          37.52498735973246,
          24.809967869575626,
          46.336639730057854,
          51.48147830802947,
          64.58504799267708
         ]
        },
        {
         "name": "train-breathe",
         "showlegend": false,
         "type": "box",
         "y": [
          65.08367867246686,
          61.58648009646743,
          44.010986008561964,
          73.43890683940516,
          110.89766946327887,
          65.1774492276777,
          77.86345850690711,
          45.4127833932516,
          35.4510786178429,
          55.71444005291049,
          69.61697683308812,
          72.71130885281406,
          104.33729952070391,
          99.0361019049088,
          93.63199811865886,
          85.28139100574512,
          117.81329890170791,
          128.8622793194669
         ]
        }
       ],
       "layout": {
        "xaxis": {
         "title": "activity"
        },
        "yaxis": {
         "title": "sdnn"
        }
       }
      },
      "text/html": [
       "<div id=\"78d85d0a-0772-40e4-90f2-8b7e26f5e34f\" style=\"height: 525px; width: 100%;\" class=\"plotly-graph-div\"></div><script type=\"text/javascript\">require([\"plotly\"], function(Plotly) { window.PLOTLYENV=window.PLOTLYENV || {};window.PLOTLYENV.BASE_URL=\"https://plot.ly\";Plotly.newPlot(\"78d85d0a-0772-40e4-90f2-8b7e26f5e34f\", [{\"type\": \"box\", \"y\": [98.30631952750659, 92.24901364092915, 132.6401022617834, 60.998539791041296, 105.12711422334172, 53.734113968131176, 68.58099890863389, 86.7477498296743, 141.65878871917425, 92.50058847480352, 59.26824088927773, 34.95482001966916, 85.31186464639383], \"name\": \"train-baseline\", \"showlegend\": false}, {\"type\": \"box\", \"y\": [62.67768239109276, 57.979132549689176, 41.004074695532566, 71.72953834557875, 52.70333218665535, 52.949894115618605, 41.644964983701406, 38.462479292587695, 56.03942634469692, 121.85457205712298, 30.40490542555267, 75.16325509271094, 36.473001377185255, 37.52498735973246, 24.809967869575626, 46.336639730057854, 51.48147830802947, 64.58504799267708], \"name\": \"train-focus\", \"showlegend\": false}, {\"type\": \"box\", \"y\": [65.08367867246686, 61.58648009646743, 44.010986008561964, 73.43890683940516, 110.89766946327887, 65.1774492276777, 77.86345850690711, 45.4127833932516, 35.4510786178429, 55.71444005291049, 69.61697683308812, 72.71130885281406, 104.33729952070391, 99.0361019049088, 93.63199811865886, 85.28139100574512, 117.81329890170791, 128.8622793194669], \"name\": \"train-breathe\", \"showlegend\": false}], {\"yaxis\": {\"title\": \"sdnn\"}, \"xaxis\": {\"title\": \"activity\"}}, {\"showLink\": true, \"linkText\": \"Export to plot.ly\"})});</script>"
      ],
      "text/vnd.plotly.v1+html": [
       "<div id=\"78d85d0a-0772-40e4-90f2-8b7e26f5e34f\" style=\"height: 525px; width: 100%;\" class=\"plotly-graph-div\"></div><script type=\"text/javascript\">require([\"plotly\"], function(Plotly) { window.PLOTLYENV=window.PLOTLYENV || {};window.PLOTLYENV.BASE_URL=\"https://plot.ly\";Plotly.newPlot(\"78d85d0a-0772-40e4-90f2-8b7e26f5e34f\", [{\"type\": \"box\", \"y\": [98.30631952750659, 92.24901364092915, 132.6401022617834, 60.998539791041296, 105.12711422334172, 53.734113968131176, 68.58099890863389, 86.7477498296743, 141.65878871917425, 92.50058847480352, 59.26824088927773, 34.95482001966916, 85.31186464639383], \"name\": \"train-baseline\", \"showlegend\": false}, {\"type\": \"box\", \"y\": [62.67768239109276, 57.979132549689176, 41.004074695532566, 71.72953834557875, 52.70333218665535, 52.949894115618605, 41.644964983701406, 38.462479292587695, 56.03942634469692, 121.85457205712298, 30.40490542555267, 75.16325509271094, 36.473001377185255, 37.52498735973246, 24.809967869575626, 46.336639730057854, 51.48147830802947, 64.58504799267708], \"name\": \"train-focus\", \"showlegend\": false}, {\"type\": \"box\", \"y\": [65.08367867246686, 61.58648009646743, 44.010986008561964, 73.43890683940516, 110.89766946327887, 65.1774492276777, 77.86345850690711, 45.4127833932516, 35.4510786178429, 55.71444005291049, 69.61697683308812, 72.71130885281406, 104.33729952070391, 99.0361019049088, 93.63199811865886, 85.28139100574512, 117.81329890170791, 128.8622793194669], \"name\": \"train-breathe\", \"showlegend\": false}], {\"yaxis\": {\"title\": \"sdnn\"}, \"xaxis\": {\"title\": \"activity\"}}, {\"showLink\": true, \"linkText\": \"Export to plot.ly\"})});</script>"
      ]
     },
     "metadata": {},
     "output_type": "display_data"
    },
    {
     "data": {
      "application/vnd.plotly.v1+json": {
       "data": [
        {
         "name": "train-baseline",
         "showlegend": false,
         "type": "box",
         "y": [
          37.908496732026144,
          19.21182266009852,
          41.9753086419753,
          9.782608695652174,
          32.850241545893724,
          3.1914893617021276,
          13.756613756613756,
          19.892473118279568,
          41.509433962264154,
          26.70807453416149,
          2,
          0.6896551724137931,
          29.1970802919708
         ]
        },
        {
         "name": "train-focus",
         "showlegend": false,
         "type": "box",
         "y": [
          16.463414634146343,
          16.666666666666664,
          8.421052631578947,
          15.168539325842698,
          30.120481927710845,
          3.296703296703297,
          9.94475138121547,
          1.8957345971563981,
          7.368421052631578,
          29.2817679558011,
          0.546448087431694,
          12.23404255319149,
          1.098901098901099,
          1.0638297872340425,
          0,
          2.6881720430107525,
          8.391608391608392,
          7.352941176470589
         ]
        },
        {
         "name": "train-breathe",
         "showlegend": false,
         "type": "box",
         "y": [
          16.766467065868262,
          12.804878048780488,
          4.761904761904762,
          12.068965517241379,
          18.562874251497004,
          9.844559585492227,
          11.11111111111111,
          5.970149253731343,
          3.314917127071823,
          10.052910052910052,
          11.057692307692307,
          12.299465240641712,
          24.840764331210192,
          21.714285714285715,
          18.902439024390244,
          13.529411764705882,
          18.3206106870229,
          28.57142857142857
         ]
        }
       ],
       "layout": {
        "xaxis": {
         "title": "activity"
        },
        "yaxis": {
         "title": "pnn50"
        }
       }
      },
      "text/html": [
       "<div id=\"25dfeb9b-55eb-4508-a9bb-9302cc569bdc\" style=\"height: 525px; width: 100%;\" class=\"plotly-graph-div\"></div><script type=\"text/javascript\">require([\"plotly\"], function(Plotly) { window.PLOTLYENV=window.PLOTLYENV || {};window.PLOTLYENV.BASE_URL=\"https://plot.ly\";Plotly.newPlot(\"25dfeb9b-55eb-4508-a9bb-9302cc569bdc\", [{\"type\": \"box\", \"y\": [37.908496732026144, 19.21182266009852, 41.9753086419753, 9.782608695652174, 32.850241545893724, 3.1914893617021276, 13.756613756613756, 19.892473118279568, 41.509433962264154, 26.70807453416149, 2.0, 0.6896551724137931, 29.1970802919708], \"name\": \"train-baseline\", \"showlegend\": false}, {\"type\": \"box\", \"y\": [16.463414634146343, 16.666666666666664, 8.421052631578947, 15.168539325842698, 30.120481927710845, 3.296703296703297, 9.94475138121547, 1.8957345971563981, 7.368421052631578, 29.2817679558011, 0.546448087431694, 12.23404255319149, 1.098901098901099, 1.0638297872340425, 0.0, 2.6881720430107525, 8.391608391608392, 7.352941176470589], \"name\": \"train-focus\", \"showlegend\": false}, {\"type\": \"box\", \"y\": [16.766467065868262, 12.804878048780488, 4.761904761904762, 12.068965517241379, 18.562874251497004, 9.844559585492227, 11.11111111111111, 5.970149253731343, 3.314917127071823, 10.052910052910052, 11.057692307692307, 12.299465240641712, 24.840764331210192, 21.714285714285715, 18.902439024390244, 13.529411764705882, 18.3206106870229, 28.57142857142857], \"name\": \"train-breathe\", \"showlegend\": false}], {\"yaxis\": {\"title\": \"pnn50\"}, \"xaxis\": {\"title\": \"activity\"}}, {\"showLink\": true, \"linkText\": \"Export to plot.ly\"})});</script>"
      ],
      "text/vnd.plotly.v1+html": [
       "<div id=\"25dfeb9b-55eb-4508-a9bb-9302cc569bdc\" style=\"height: 525px; width: 100%;\" class=\"plotly-graph-div\"></div><script type=\"text/javascript\">require([\"plotly\"], function(Plotly) { window.PLOTLYENV=window.PLOTLYENV || {};window.PLOTLYENV.BASE_URL=\"https://plot.ly\";Plotly.newPlot(\"25dfeb9b-55eb-4508-a9bb-9302cc569bdc\", [{\"type\": \"box\", \"y\": [37.908496732026144, 19.21182266009852, 41.9753086419753, 9.782608695652174, 32.850241545893724, 3.1914893617021276, 13.756613756613756, 19.892473118279568, 41.509433962264154, 26.70807453416149, 2.0, 0.6896551724137931, 29.1970802919708], \"name\": \"train-baseline\", \"showlegend\": false}, {\"type\": \"box\", \"y\": [16.463414634146343, 16.666666666666664, 8.421052631578947, 15.168539325842698, 30.120481927710845, 3.296703296703297, 9.94475138121547, 1.8957345971563981, 7.368421052631578, 29.2817679558011, 0.546448087431694, 12.23404255319149, 1.098901098901099, 1.0638297872340425, 0.0, 2.6881720430107525, 8.391608391608392, 7.352941176470589], \"name\": \"train-focus\", \"showlegend\": false}, {\"type\": \"box\", \"y\": [16.766467065868262, 12.804878048780488, 4.761904761904762, 12.068965517241379, 18.562874251497004, 9.844559585492227, 11.11111111111111, 5.970149253731343, 3.314917127071823, 10.052910052910052, 11.057692307692307, 12.299465240641712, 24.840764331210192, 21.714285714285715, 18.902439024390244, 13.529411764705882, 18.3206106870229, 28.57142857142857], \"name\": \"train-breathe\", \"showlegend\": false}], {\"yaxis\": {\"title\": \"pnn50\"}, \"xaxis\": {\"title\": \"activity\"}}, {\"showLink\": true, \"linkText\": \"Export to plot.ly\"})});</script>"
      ]
     },
     "metadata": {},
     "output_type": "display_data"
    },
    {
     "data": {
      "application/vnd.plotly.v1+json": {
       "data": [
        {
         "name": "train-baseline",
         "showlegend": false,
         "type": "box",
         "y": [
          77.42974888937646,
          91.75994060322505,
          142.83528889278875,
          47.038201403798894,
          90.17781682510946,
          22.765221702169654,
          84.02459327561351,
          71.23012833622931,
          153.35397044606418,
          87.47475234681517,
          21.045783425665103,
          14.609161037064947,
          53.06957284587653
         ]
        },
        {
         "name": "train-focus",
         "showlegend": false,
         "type": "box",
         "y": [
          52.52740283680974,
          39.05818309479675,
          42.736462922870615,
          63.384904097235406,
          51.07500980426753,
          54.58922527828652,
          31.108347461219406,
          21.561331017835226,
          72.28579972653871,
          151.98213401835585,
          15.785100535223203,
          77.28219221814656,
          17.63316680090594,
          14.553094282367903,
          12.977209260815862,
          17.171024606047986,
          29.143603935506164,
          31.27487245471712
         ]
        },
        {
         "name": "train-breathe",
         "showlegend": false,
         "type": "box",
         "y": [
          45.490934807943866,
          35.06222691298373,
          24.51335884583673,
          61.944914349711574,
          61.10024157855747,
          53.265587370529026,
          56.86313978902912,
          25.634534386913113,
          33.28472514798335,
          38.31676660646881,
          67.50064102259725,
          55.97320787662612,
          56.267162986712314,
          54.932790103647825,
          47.335401592280164,
          34.979826118694724,
          56.26002879215986,
          61.61939629694533
         ]
        }
       ],
       "layout": {
        "xaxis": {
         "title": "activity"
        },
        "yaxis": {
         "title": "rmssd"
        }
       }
      },
      "text/html": [
       "<div id=\"5cd8922b-b94b-4c55-ac2b-7329e9f50eaf\" style=\"height: 525px; width: 100%;\" class=\"plotly-graph-div\"></div><script type=\"text/javascript\">require([\"plotly\"], function(Plotly) { window.PLOTLYENV=window.PLOTLYENV || {};window.PLOTLYENV.BASE_URL=\"https://plot.ly\";Plotly.newPlot(\"5cd8922b-b94b-4c55-ac2b-7329e9f50eaf\", [{\"type\": \"box\", \"y\": [77.42974888937646, 91.75994060322505, 142.83528889278875, 47.038201403798894, 90.17781682510946, 22.765221702169654, 84.02459327561351, 71.23012833622931, 153.35397044606418, 87.47475234681517, 21.045783425665103, 14.609161037064947, 53.06957284587653], \"name\": \"train-baseline\", \"showlegend\": false}, {\"type\": \"box\", \"y\": [52.52740283680974, 39.05818309479675, 42.736462922870615, 63.384904097235406, 51.07500980426753, 54.58922527828652, 31.108347461219406, 21.561331017835226, 72.28579972653871, 151.98213401835585, 15.785100535223203, 77.28219221814656, 17.63316680090594, 14.553094282367903, 12.977209260815862, 17.171024606047986, 29.143603935506164, 31.27487245471712], \"name\": \"train-focus\", \"showlegend\": false}, {\"type\": \"box\", \"y\": [45.490934807943866, 35.06222691298373, 24.51335884583673, 61.944914349711574, 61.10024157855747, 53.265587370529026, 56.86313978902912, 25.634534386913113, 33.28472514798335, 38.31676660646881, 67.50064102259725, 55.97320787662612, 56.267162986712314, 54.932790103647825, 47.335401592280164, 34.979826118694724, 56.26002879215986, 61.61939629694533], \"name\": \"train-breathe\", \"showlegend\": false}], {\"yaxis\": {\"title\": \"rmssd\"}, \"xaxis\": {\"title\": \"activity\"}}, {\"showLink\": true, \"linkText\": \"Export to plot.ly\"})});</script>"
      ],
      "text/vnd.plotly.v1+html": [
       "<div id=\"5cd8922b-b94b-4c55-ac2b-7329e9f50eaf\" style=\"height: 525px; width: 100%;\" class=\"plotly-graph-div\"></div><script type=\"text/javascript\">require([\"plotly\"], function(Plotly) { window.PLOTLYENV=window.PLOTLYENV || {};window.PLOTLYENV.BASE_URL=\"https://plot.ly\";Plotly.newPlot(\"5cd8922b-b94b-4c55-ac2b-7329e9f50eaf\", [{\"type\": \"box\", \"y\": [77.42974888937646, 91.75994060322505, 142.83528889278875, 47.038201403798894, 90.17781682510946, 22.765221702169654, 84.02459327561351, 71.23012833622931, 153.35397044606418, 87.47475234681517, 21.045783425665103, 14.609161037064947, 53.06957284587653], \"name\": \"train-baseline\", \"showlegend\": false}, {\"type\": \"box\", \"y\": [52.52740283680974, 39.05818309479675, 42.736462922870615, 63.384904097235406, 51.07500980426753, 54.58922527828652, 31.108347461219406, 21.561331017835226, 72.28579972653871, 151.98213401835585, 15.785100535223203, 77.28219221814656, 17.63316680090594, 14.553094282367903, 12.977209260815862, 17.171024606047986, 29.143603935506164, 31.27487245471712], \"name\": \"train-focus\", \"showlegend\": false}, {\"type\": \"box\", \"y\": [45.490934807943866, 35.06222691298373, 24.51335884583673, 61.944914349711574, 61.10024157855747, 53.265587370529026, 56.86313978902912, 25.634534386913113, 33.28472514798335, 38.31676660646881, 67.50064102259725, 55.97320787662612, 56.267162986712314, 54.932790103647825, 47.335401592280164, 34.979826118694724, 56.26002879215986, 61.61939629694533], \"name\": \"train-breathe\", \"showlegend\": false}], {\"yaxis\": {\"title\": \"rmssd\"}, \"xaxis\": {\"title\": \"activity\"}}, {\"showLink\": true, \"linkText\": \"Export to plot.ly\"})});</script>"
      ]
     },
     "metadata": {},
     "output_type": "display_data"
    },
    {
     "data": {
      "application/vnd.plotly.v1+json": {
       "data": [
        {
         "name": "train-baseline",
         "showlegend": false,
         "type": "box",
         "y": [
          2991.688562056658,
          1586.1873761739407,
          6015.982540075801,
          405.7973937526576,
          3389.3015939560482,
          230.2926870214918,
          298.48819583794284,
          1522.6919690359741,
          5318.558419033575,
          3197.904274117364,
          145.01518043275436,
          45.20713797100223,
          622.5075777607493
         ]
        },
        {
         "name": "train-focus",
         "showlegend": false,
         "type": "box",
         "y": [
          1154.0352986490059,
          547.6820587533671,
          401.9636153697884,
          530.0114798802406,
          932.9025617644513,
          671.6786237271664,
          365.6373222218533,
          202.9780128116162,
          217.42231913477116,
          4518.262209148662,
          129.87580256725968,
          1339.2318303876607,
          93.24921447062295,
          51.67576784386646,
          36.46751415552033,
          46.7076922627856,
          200.95415233366603,
          255.32986194523673
         ]
        },
        {
         "name": "train-breathe",
         "showlegend": false,
         "type": "box",
         "y": [
          421.95965244197856,
          213.82180030685666,
          299.9135000147035,
          1011.0939031283781,
          960.6636711797977,
          149.97439681027836,
          198.00612340110817,
          224.92844248821723,
          135.38729004885292,
          219.44333074073515,
          858.8003542109636,
          630.2725205785607,
          838.1725226052042,
          772.2810375884403,
          795.6701512126994,
          280.16740473828656,
          376.6566520937858,
          712.5793365050148
         ]
        }
       ],
       "layout": {
        "xaxis": {
         "title": "activity"
        },
        "yaxis": {
         "title": "hf"
        }
       }
      },
      "text/html": [
       "<div id=\"d7e38fd5-16d7-45d3-a1ff-16bbb33c6b80\" style=\"height: 525px; width: 100%;\" class=\"plotly-graph-div\"></div><script type=\"text/javascript\">require([\"plotly\"], function(Plotly) { window.PLOTLYENV=window.PLOTLYENV || {};window.PLOTLYENV.BASE_URL=\"https://plot.ly\";Plotly.newPlot(\"d7e38fd5-16d7-45d3-a1ff-16bbb33c6b80\", [{\"type\": \"box\", \"y\": [2991.688562056658, 1586.1873761739407, 6015.982540075801, 405.7973937526576, 3389.3015939560482, 230.2926870214918, 298.48819583794284, 1522.6919690359741, 5318.558419033575, 3197.904274117364, 145.01518043275436, 45.20713797100223, 622.5075777607493], \"name\": \"train-baseline\", \"showlegend\": false}, {\"type\": \"box\", \"y\": [1154.0352986490059, 547.6820587533671, 401.9636153697884, 530.0114798802406, 932.9025617644513, 671.6786237271664, 365.6373222218533, 202.9780128116162, 217.42231913477116, 4518.262209148662, 129.87580256725968, 1339.2318303876607, 93.24921447062295, 51.67576784386646, 36.46751415552033, 46.7076922627856, 200.95415233366603, 255.32986194523673], \"name\": \"train-focus\", \"showlegend\": false}, {\"type\": \"box\", \"y\": [421.95965244197856, 213.82180030685666, 299.9135000147035, 1011.0939031283781, 960.6636711797977, 149.97439681027836, 198.00612340110817, 224.92844248821723, 135.38729004885292, 219.44333074073515, 858.8003542109636, 630.2725205785607, 838.1725226052042, 772.2810375884403, 795.6701512126994, 280.16740473828656, 376.6566520937858, 712.5793365050148], \"name\": \"train-breathe\", \"showlegend\": false}], {\"yaxis\": {\"title\": \"hf\"}, \"xaxis\": {\"title\": \"activity\"}}, {\"showLink\": true, \"linkText\": \"Export to plot.ly\"})});</script>"
      ],
      "text/vnd.plotly.v1+html": [
       "<div id=\"d7e38fd5-16d7-45d3-a1ff-16bbb33c6b80\" style=\"height: 525px; width: 100%;\" class=\"plotly-graph-div\"></div><script type=\"text/javascript\">require([\"plotly\"], function(Plotly) { window.PLOTLYENV=window.PLOTLYENV || {};window.PLOTLYENV.BASE_URL=\"https://plot.ly\";Plotly.newPlot(\"d7e38fd5-16d7-45d3-a1ff-16bbb33c6b80\", [{\"type\": \"box\", \"y\": [2991.688562056658, 1586.1873761739407, 6015.982540075801, 405.7973937526576, 3389.3015939560482, 230.2926870214918, 298.48819583794284, 1522.6919690359741, 5318.558419033575, 3197.904274117364, 145.01518043275436, 45.20713797100223, 622.5075777607493], \"name\": \"train-baseline\", \"showlegend\": false}, {\"type\": \"box\", \"y\": [1154.0352986490059, 547.6820587533671, 401.9636153697884, 530.0114798802406, 932.9025617644513, 671.6786237271664, 365.6373222218533, 202.9780128116162, 217.42231913477116, 4518.262209148662, 129.87580256725968, 1339.2318303876607, 93.24921447062295, 51.67576784386646, 36.46751415552033, 46.7076922627856, 200.95415233366603, 255.32986194523673], \"name\": \"train-focus\", \"showlegend\": false}, {\"type\": \"box\", \"y\": [421.95965244197856, 213.82180030685666, 299.9135000147035, 1011.0939031283781, 960.6636711797977, 149.97439681027836, 198.00612340110817, 224.92844248821723, 135.38729004885292, 219.44333074073515, 858.8003542109636, 630.2725205785607, 838.1725226052042, 772.2810375884403, 795.6701512126994, 280.16740473828656, 376.6566520937858, 712.5793365050148], \"name\": \"train-breathe\", \"showlegend\": false}], {\"yaxis\": {\"title\": \"hf\"}, \"xaxis\": {\"title\": \"activity\"}}, {\"showLink\": true, \"linkText\": \"Export to plot.ly\"})});</script>"
      ]
     },
     "metadata": {},
     "output_type": "display_data"
    },
    {
     "data": {
      "application/vnd.plotly.v1+json": {
       "data": [
        {
         "name": "train-baseline",
         "showlegend": false,
         "type": "box",
         "y": [
          40.52910624622246,
          73.92869969271275,
          82.12831778993738,
          57.62321430046219,
          69.03102948805491,
          26.465330543600267,
          23.510758682682695,
          68.5007272505422,
          64.28487768072159,
          56.42682352747048,
          6.776602293045646,
          13.402415825541162,
          16.13703716872259
         ]
        },
        {
         "name": "train-focus",
         "showlegend": false,
         "type": "box",
         "y": [
          41.21429493839446,
          36.946056398329894,
          44.40013218962843,
          63.83544478865076,
          64.46968195848079,
          65.84514615382334,
          57.24889531771454,
          53.52665021799483,
          46.96139173166159,
          74.73405524617209,
          30.47956902006238,
          54.23065938519528,
          21.938356362319116,
          5.716321277279895,
          13.55730219272971,
          26.423060164557988,
          12.353036888017817,
          34.382582853062424
         ]
        },
        {
         "name": "train-breathe",
         "showlegend": false,
         "type": "box",
         "y": [
          12.189005036525911,
          9.322718822155254,
          23.857460880395113,
          34.44993799686472,
          9.79554177283474,
          6.953303799790317,
          8.709852512769336,
          11.179484741403076,
          19.106074910899668,
          12.789760017389447,
          57.040780569455386,
          15.876733250351968,
          8.471114890425001,
          9.190311009855861,
          8.868473365121716,
          5.901520629037785,
          5.112563717519014,
          4.565932612359059
         ]
        }
       ],
       "layout": {
        "xaxis": {
         "title": "activity"
        },
        "yaxis": {
         "title": "hfnu"
        }
       }
      },
      "text/html": [
       "<div id=\"4deca3c4-435b-462f-9267-bc32a406fad6\" style=\"height: 525px; width: 100%;\" class=\"plotly-graph-div\"></div><script type=\"text/javascript\">require([\"plotly\"], function(Plotly) { window.PLOTLYENV=window.PLOTLYENV || {};window.PLOTLYENV.BASE_URL=\"https://plot.ly\";Plotly.newPlot(\"4deca3c4-435b-462f-9267-bc32a406fad6\", [{\"type\": \"box\", \"y\": [40.52910624622246, 73.92869969271275, 82.12831778993738, 57.62321430046219, 69.03102948805491, 26.465330543600267, 23.510758682682695, 68.5007272505422, 64.28487768072159, 56.42682352747048, 6.776602293045646, 13.402415825541162, 16.13703716872259], \"name\": \"train-baseline\", \"showlegend\": false}, {\"type\": \"box\", \"y\": [41.21429493839446, 36.946056398329894, 44.40013218962843, 63.83544478865076, 64.46968195848079, 65.84514615382334, 57.24889531771454, 53.52665021799483, 46.96139173166159, 74.73405524617209, 30.47956902006238, 54.23065938519528, 21.938356362319116, 5.716321277279895, 13.55730219272971, 26.423060164557988, 12.353036888017817, 34.382582853062424], \"name\": \"train-focus\", \"showlegend\": false}, {\"type\": \"box\", \"y\": [12.189005036525911, 9.322718822155254, 23.857460880395113, 34.44993799686472, 9.79554177283474, 6.953303799790317, 8.709852512769336, 11.179484741403076, 19.106074910899668, 12.789760017389447, 57.040780569455386, 15.876733250351968, 8.471114890425001, 9.190311009855861, 8.868473365121716, 5.901520629037785, 5.112563717519014, 4.565932612359059], \"name\": \"train-breathe\", \"showlegend\": false}], {\"yaxis\": {\"title\": \"hfnu\"}, \"xaxis\": {\"title\": \"activity\"}}, {\"showLink\": true, \"linkText\": \"Export to plot.ly\"})});</script>"
      ],
      "text/vnd.plotly.v1+html": [
       "<div id=\"4deca3c4-435b-462f-9267-bc32a406fad6\" style=\"height: 525px; width: 100%;\" class=\"plotly-graph-div\"></div><script type=\"text/javascript\">require([\"plotly\"], function(Plotly) { window.PLOTLYENV=window.PLOTLYENV || {};window.PLOTLYENV.BASE_URL=\"https://plot.ly\";Plotly.newPlot(\"4deca3c4-435b-462f-9267-bc32a406fad6\", [{\"type\": \"box\", \"y\": [40.52910624622246, 73.92869969271275, 82.12831778993738, 57.62321430046219, 69.03102948805491, 26.465330543600267, 23.510758682682695, 68.5007272505422, 64.28487768072159, 56.42682352747048, 6.776602293045646, 13.402415825541162, 16.13703716872259], \"name\": \"train-baseline\", \"showlegend\": false}, {\"type\": \"box\", \"y\": [41.21429493839446, 36.946056398329894, 44.40013218962843, 63.83544478865076, 64.46968195848079, 65.84514615382334, 57.24889531771454, 53.52665021799483, 46.96139173166159, 74.73405524617209, 30.47956902006238, 54.23065938519528, 21.938356362319116, 5.716321277279895, 13.55730219272971, 26.423060164557988, 12.353036888017817, 34.382582853062424], \"name\": \"train-focus\", \"showlegend\": false}, {\"type\": \"box\", \"y\": [12.189005036525911, 9.322718822155254, 23.857460880395113, 34.44993799686472, 9.79554177283474, 6.953303799790317, 8.709852512769336, 11.179484741403076, 19.106074910899668, 12.789760017389447, 57.040780569455386, 15.876733250351968, 8.471114890425001, 9.190311009855861, 8.868473365121716, 5.901520629037785, 5.112563717519014, 4.565932612359059], \"name\": \"train-breathe\", \"showlegend\": false}], {\"yaxis\": {\"title\": \"hfnu\"}, \"xaxis\": {\"title\": \"activity\"}}, {\"showLink\": true, \"linkText\": \"Export to plot.ly\"})});</script>"
      ]
     },
     "metadata": {},
     "output_type": "display_data"
    },
    {
     "data": {
      "application/vnd.plotly.v1+json": {
       "data": [
        {
         "name": "train-baseline",
         "showlegend": false,
         "type": "box",
         "y": [
          4389.891835698843,
          559.3763666850365,
          1309.1188402582022,
          298.42814916260943,
          1520.521740697436,
          639.8747444492639,
          971.0931046489704,
          700.1924150475857,
          2954.8623463427266,
          2469.443405945676,
          1994.9241897966792,
          292.09875194811514,
          3235.1248441767602
         ]
        },
        {
         "name": "train-focus",
         "showlegend": false,
         "type": "box",
         "y": [
          1646.0497213034487,
          934.7009399856389,
          503.3571473095722,
          300.26624691406033,
          514.1381764933415,
          348.4096636585621,
          273.0428133382716,
          176.23124460494108,
          245.55867678018586,
          1527.5253428122483,
          296.2319369541631,
          1130.2786745007695,
          331.80183735195544,
          852.3281419653513,
          232.520472075815,
          130.06097863263167,
          1425.8049527782703,
          487.28410349306614
         ]
        },
        {
         "name": "train-breathe",
         "showlegend": false,
         "type": "box",
         "y": [
          3039.8458942578754,
          2079.73445067342,
          957.1921975206017,
          1923.8719108025425,
          8846.488331825652,
          2006.9052841091857,
          2075.3518136112057,
          1787.0465965330145,
          573.2213105152374,
          1496.3303072506858,
          646.7897615576139,
          3339.514655663053,
          9056.304573350611,
          7630.927915408164,
          8176.225218535408,
          4467.209116488354,
          6990.618807048403,
          14893.8563471099
         ]
        }
       ],
       "layout": {
        "xaxis": {
         "title": "activity"
        },
        "yaxis": {
         "title": "lf"
        }
       }
      },
      "text/html": [
       "<div id=\"02064bdc-5ef1-4900-bf65-3fa2e04e18a0\" style=\"height: 525px; width: 100%;\" class=\"plotly-graph-div\"></div><script type=\"text/javascript\">require([\"plotly\"], function(Plotly) { window.PLOTLYENV=window.PLOTLYENV || {};window.PLOTLYENV.BASE_URL=\"https://plot.ly\";Plotly.newPlot(\"02064bdc-5ef1-4900-bf65-3fa2e04e18a0\", [{\"type\": \"box\", \"y\": [4389.891835698843, 559.3763666850365, 1309.1188402582022, 298.42814916260943, 1520.521740697436, 639.8747444492639, 971.0931046489704, 700.1924150475857, 2954.8623463427266, 2469.443405945676, 1994.9241897966792, 292.09875194811514, 3235.1248441767602], \"name\": \"train-baseline\", \"showlegend\": false}, {\"type\": \"box\", \"y\": [1646.0497213034487, 934.7009399856389, 503.3571473095722, 300.26624691406033, 514.1381764933415, 348.4096636585621, 273.0428133382716, 176.23124460494108, 245.55867678018586, 1527.5253428122483, 296.2319369541631, 1130.2786745007695, 331.80183735195544, 852.3281419653513, 232.520472075815, 130.06097863263167, 1425.8049527782703, 487.28410349306614], \"name\": \"train-focus\", \"showlegend\": false}, {\"type\": \"box\", \"y\": [3039.8458942578754, 2079.73445067342, 957.1921975206017, 1923.8719108025425, 8846.488331825652, 2006.9052841091857, 2075.3518136112057, 1787.0465965330145, 573.2213105152374, 1496.3303072506858, 646.7897615576139, 3339.514655663053, 9056.304573350611, 7630.927915408164, 8176.225218535408, 4467.209116488354, 6990.618807048403, 14893.8563471099], \"name\": \"train-breathe\", \"showlegend\": false}], {\"yaxis\": {\"title\": \"lf\"}, \"xaxis\": {\"title\": \"activity\"}}, {\"showLink\": true, \"linkText\": \"Export to plot.ly\"})});</script>"
      ],
      "text/vnd.plotly.v1+html": [
       "<div id=\"02064bdc-5ef1-4900-bf65-3fa2e04e18a0\" style=\"height: 525px; width: 100%;\" class=\"plotly-graph-div\"></div><script type=\"text/javascript\">require([\"plotly\"], function(Plotly) { window.PLOTLYENV=window.PLOTLYENV || {};window.PLOTLYENV.BASE_URL=\"https://plot.ly\";Plotly.newPlot(\"02064bdc-5ef1-4900-bf65-3fa2e04e18a0\", [{\"type\": \"box\", \"y\": [4389.891835698843, 559.3763666850365, 1309.1188402582022, 298.42814916260943, 1520.521740697436, 639.8747444492639, 971.0931046489704, 700.1924150475857, 2954.8623463427266, 2469.443405945676, 1994.9241897966792, 292.09875194811514, 3235.1248441767602], \"name\": \"train-baseline\", \"showlegend\": false}, {\"type\": \"box\", \"y\": [1646.0497213034487, 934.7009399856389, 503.3571473095722, 300.26624691406033, 514.1381764933415, 348.4096636585621, 273.0428133382716, 176.23124460494108, 245.55867678018586, 1527.5253428122483, 296.2319369541631, 1130.2786745007695, 331.80183735195544, 852.3281419653513, 232.520472075815, 130.06097863263167, 1425.8049527782703, 487.28410349306614], \"name\": \"train-focus\", \"showlegend\": false}, {\"type\": \"box\", \"y\": [3039.8458942578754, 2079.73445067342, 957.1921975206017, 1923.8719108025425, 8846.488331825652, 2006.9052841091857, 2075.3518136112057, 1787.0465965330145, 573.2213105152374, 1496.3303072506858, 646.7897615576139, 3339.514655663053, 9056.304573350611, 7630.927915408164, 8176.225218535408, 4467.209116488354, 6990.618807048403, 14893.8563471099], \"name\": \"train-breathe\", \"showlegend\": false}], {\"yaxis\": {\"title\": \"lf\"}, \"xaxis\": {\"title\": \"activity\"}}, {\"showLink\": true, \"linkText\": \"Export to plot.ly\"})});</script>"
      ]
     },
     "metadata": {},
     "output_type": "display_data"
    },
    {
     "data": {
      "application/vnd.plotly.v1+json": {
       "data": [
        {
         "name": "train-baseline",
         "showlegend": false,
         "type": "box",
         "y": [
          59.47089375377752,
          26.07130030728726,
          17.871682210062602,
          42.37678569953782,
          30.968970511945077,
          73.53466945639975,
          76.48924131731731,
          31.499272749457802,
          35.71512231927842,
          43.573176472529525,
          93.22339770695434,
          86.59758417445885,
          83.86296283127741
         ]
        },
        {
         "name": "train-focus",
         "showlegend": false,
         "type": "box",
         "y": [
          58.785705061605555,
          63.05394360167011,
          55.59986781037157,
          36.16455521134924,
          35.53031804151922,
          34.15485384617666,
          42.751104682285444,
          46.473349782005194,
          53.038608268338386,
          25.265944753827906,
          69.52043097993761,
          45.769340614804726,
          78.06164363768089,
          94.28367872272011,
          86.44269780727026,
          73.57693983544203,
          87.64696311198217,
          65.61741714693761
         ]
        },
        {
         "name": "train-breathe",
         "showlegend": false,
         "type": "box",
         "y": [
          87.81099496347409,
          90.67728117784473,
          76.14253911960489,
          65.5500620031353,
          90.20445822716528,
          93.04669620020968,
          91.29014748723067,
          88.82051525859693,
          80.89392508910032,
          87.21023998261053,
          42.959219430544614,
          84.12326674964804,
          91.528885109575,
          90.80968899014415,
          91.13152663487828,
          94.09847937096222,
          94.887436282481,
          95.43406738764094
         ]
        }
       ],
       "layout": {
        "xaxis": {
         "title": "activity"
        },
        "yaxis": {
         "title": "lfnu"
        }
       }
      },
      "text/html": [
       "<div id=\"56544d98-ef2a-4dc4-8fd3-9bfb00907023\" style=\"height: 525px; width: 100%;\" class=\"plotly-graph-div\"></div><script type=\"text/javascript\">require([\"plotly\"], function(Plotly) { window.PLOTLYENV=window.PLOTLYENV || {};window.PLOTLYENV.BASE_URL=\"https://plot.ly\";Plotly.newPlot(\"56544d98-ef2a-4dc4-8fd3-9bfb00907023\", [{\"type\": \"box\", \"y\": [59.47089375377752, 26.07130030728726, 17.871682210062602, 42.37678569953782, 30.968970511945077, 73.53466945639975, 76.48924131731731, 31.499272749457802, 35.71512231927842, 43.573176472529525, 93.22339770695434, 86.59758417445885, 83.86296283127741], \"name\": \"train-baseline\", \"showlegend\": false}, {\"type\": \"box\", \"y\": [58.785705061605555, 63.05394360167011, 55.59986781037157, 36.16455521134924, 35.53031804151922, 34.15485384617666, 42.751104682285444, 46.473349782005194, 53.038608268338386, 25.265944753827906, 69.52043097993761, 45.769340614804726, 78.06164363768089, 94.28367872272011, 86.44269780727026, 73.57693983544203, 87.64696311198217, 65.61741714693761], \"name\": \"train-focus\", \"showlegend\": false}, {\"type\": \"box\", \"y\": [87.81099496347409, 90.67728117784473, 76.14253911960489, 65.5500620031353, 90.20445822716528, 93.04669620020968, 91.29014748723067, 88.82051525859693, 80.89392508910032, 87.21023998261053, 42.959219430544614, 84.12326674964804, 91.528885109575, 90.80968899014415, 91.13152663487828, 94.09847937096222, 94.887436282481, 95.43406738764094], \"name\": \"train-breathe\", \"showlegend\": false}], {\"yaxis\": {\"title\": \"lfnu\"}, \"xaxis\": {\"title\": \"activity\"}}, {\"showLink\": true, \"linkText\": \"Export to plot.ly\"})});</script>"
      ],
      "text/vnd.plotly.v1+html": [
       "<div id=\"56544d98-ef2a-4dc4-8fd3-9bfb00907023\" style=\"height: 525px; width: 100%;\" class=\"plotly-graph-div\"></div><script type=\"text/javascript\">require([\"plotly\"], function(Plotly) { window.PLOTLYENV=window.PLOTLYENV || {};window.PLOTLYENV.BASE_URL=\"https://plot.ly\";Plotly.newPlot(\"56544d98-ef2a-4dc4-8fd3-9bfb00907023\", [{\"type\": \"box\", \"y\": [59.47089375377752, 26.07130030728726, 17.871682210062602, 42.37678569953782, 30.968970511945077, 73.53466945639975, 76.48924131731731, 31.499272749457802, 35.71512231927842, 43.573176472529525, 93.22339770695434, 86.59758417445885, 83.86296283127741], \"name\": \"train-baseline\", \"showlegend\": false}, {\"type\": \"box\", \"y\": [58.785705061605555, 63.05394360167011, 55.59986781037157, 36.16455521134924, 35.53031804151922, 34.15485384617666, 42.751104682285444, 46.473349782005194, 53.038608268338386, 25.265944753827906, 69.52043097993761, 45.769340614804726, 78.06164363768089, 94.28367872272011, 86.44269780727026, 73.57693983544203, 87.64696311198217, 65.61741714693761], \"name\": \"train-focus\", \"showlegend\": false}, {\"type\": \"box\", \"y\": [87.81099496347409, 90.67728117784473, 76.14253911960489, 65.5500620031353, 90.20445822716528, 93.04669620020968, 91.29014748723067, 88.82051525859693, 80.89392508910032, 87.21023998261053, 42.959219430544614, 84.12326674964804, 91.528885109575, 90.80968899014415, 91.13152663487828, 94.09847937096222, 94.887436282481, 95.43406738764094], \"name\": \"train-breathe\", \"showlegend\": false}], {\"yaxis\": {\"title\": \"lfnu\"}, \"xaxis\": {\"title\": \"activity\"}}, {\"showLink\": true, \"linkText\": \"Export to plot.ly\"})});</script>"
      ]
     },
     "metadata": {},
     "output_type": "display_data"
    },
    {
     "data": {
      "application/vnd.plotly.v1+json": {
       "data": [
        {
         "name": "train-baseline",
         "showlegend": false,
         "type": "box",
         "y": [
          1.4673625762305218,
          0.3526546580104011,
          0.21760682175146528,
          0.7354116949910918,
          0.448623912197397,
          2.778528283833643,
          3.253371886023267,
          0.45983851579047985,
          0.5555757995941406,
          0.7722067936593423,
          13.756657639865189,
          6.461341395588449,
          5.196924438757801
         ]
        },
        {
         "name": "train-focus",
         "showlegend": false,
         "type": "box",
         "y": [
          1.426342611209925,
          1.706648821239833,
          1.2522455467679738,
          0.5665278174387984,
          0.5511166948892529,
          0.5187148307999228,
          0.7467585958651146,
          0.8682282487832867,
          1.1294087826741197,
          0.3380780645530678,
          2.2808862859634793,
          0.8439753662169106,
          3.5582266213779814,
          16.493768308205535,
          6.3760987679116825,
          2.784572997117605,
          7.095175373190853,
          1.908449328177599
         ]
        },
        {
         "name": "train-breathe",
         "showlegend": false,
         "type": "box",
         "y": [
          7.20411507750938,
          9.72648461330315,
          3.191560891636003,
          1.9027628441334488,
          9.208725797823934,
          13.38165264733803,
          10.481250670248668,
          7.944956079205626,
          4.233937397730593,
          6.818754993372522,
          0.7531316893224412,
          5.298524918391705,
          10.804821595918993,
          9.881024580425857,
          10.2758978781268,
          15.94478529956516,
          18.559658426815123,
          20.901330678713954
         ]
        }
       ],
       "layout": {
        "xaxis": {
         "title": "activity"
        },
        "yaxis": {
         "title": "lf_hf"
        }
       }
      },
      "text/html": [
       "<div id=\"2293dff1-9bc4-4b32-8691-ac55ea46109f\" style=\"height: 525px; width: 100%;\" class=\"plotly-graph-div\"></div><script type=\"text/javascript\">require([\"plotly\"], function(Plotly) { window.PLOTLYENV=window.PLOTLYENV || {};window.PLOTLYENV.BASE_URL=\"https://plot.ly\";Plotly.newPlot(\"2293dff1-9bc4-4b32-8691-ac55ea46109f\", [{\"type\": \"box\", \"y\": [1.4673625762305218, 0.3526546580104011, 0.21760682175146528, 0.7354116949910918, 0.448623912197397, 2.778528283833643, 3.253371886023267, 0.45983851579047985, 0.5555757995941406, 0.7722067936593423, 13.756657639865189, 6.461341395588449, 5.196924438757801], \"name\": \"train-baseline\", \"showlegend\": false}, {\"type\": \"box\", \"y\": [1.426342611209925, 1.706648821239833, 1.2522455467679738, 0.5665278174387984, 0.5511166948892529, 0.5187148307999228, 0.7467585958651146, 0.8682282487832867, 1.1294087826741197, 0.3380780645530678, 2.2808862859634793, 0.8439753662169106, 3.5582266213779814, 16.493768308205535, 6.3760987679116825, 2.784572997117605, 7.095175373190853, 1.908449328177599], \"name\": \"train-focus\", \"showlegend\": false}, {\"type\": \"box\", \"y\": [7.20411507750938, 9.72648461330315, 3.191560891636003, 1.9027628441334488, 9.208725797823934, 13.38165264733803, 10.481250670248668, 7.944956079205626, 4.233937397730593, 6.818754993372522, 0.7531316893224412, 5.298524918391705, 10.804821595918993, 9.881024580425857, 10.2758978781268, 15.94478529956516, 18.559658426815123, 20.901330678713954], \"name\": \"train-breathe\", \"showlegend\": false}], {\"yaxis\": {\"title\": \"lf_hf\"}, \"xaxis\": {\"title\": \"activity\"}}, {\"showLink\": true, \"linkText\": \"Export to plot.ly\"})});</script>"
      ],
      "text/vnd.plotly.v1+html": [
       "<div id=\"2293dff1-9bc4-4b32-8691-ac55ea46109f\" style=\"height: 525px; width: 100%;\" class=\"plotly-graph-div\"></div><script type=\"text/javascript\">require([\"plotly\"], function(Plotly) { window.PLOTLYENV=window.PLOTLYENV || {};window.PLOTLYENV.BASE_URL=\"https://plot.ly\";Plotly.newPlot(\"2293dff1-9bc4-4b32-8691-ac55ea46109f\", [{\"type\": \"box\", \"y\": [1.4673625762305218, 0.3526546580104011, 0.21760682175146528, 0.7354116949910918, 0.448623912197397, 2.778528283833643, 3.253371886023267, 0.45983851579047985, 0.5555757995941406, 0.7722067936593423, 13.756657639865189, 6.461341395588449, 5.196924438757801], \"name\": \"train-baseline\", \"showlegend\": false}, {\"type\": \"box\", \"y\": [1.426342611209925, 1.706648821239833, 1.2522455467679738, 0.5665278174387984, 0.5511166948892529, 0.5187148307999228, 0.7467585958651146, 0.8682282487832867, 1.1294087826741197, 0.3380780645530678, 2.2808862859634793, 0.8439753662169106, 3.5582266213779814, 16.493768308205535, 6.3760987679116825, 2.784572997117605, 7.095175373190853, 1.908449328177599], \"name\": \"train-focus\", \"showlegend\": false}, {\"type\": \"box\", \"y\": [7.20411507750938, 9.72648461330315, 3.191560891636003, 1.9027628441334488, 9.208725797823934, 13.38165264733803, 10.481250670248668, 7.944956079205626, 4.233937397730593, 6.818754993372522, 0.7531316893224412, 5.298524918391705, 10.804821595918993, 9.881024580425857, 10.2758978781268, 15.94478529956516, 18.559658426815123, 20.901330678713954], \"name\": \"train-breathe\", \"showlegend\": false}], {\"yaxis\": {\"title\": \"lf_hf\"}, \"xaxis\": {\"title\": \"activity\"}}, {\"showLink\": true, \"linkText\": \"Export to plot.ly\"})});</script>"
      ]
     },
     "metadata": {},
     "output_type": "display_data"
    },
    {
     "data": {
      "application/vnd.plotly.v1+json": {
       "data": [
        {
         "name": "train-baseline",
         "showlegend": false,
         "type": "box",
         "y": [
          2873.072820756743,
          1157.7393980446727,
          3940.9880590729035,
          493.2531409425002,
          3120.8475774734125,
          839.311233787315,
          466.1427515012532,
          1095.7681743885692,
          634.6621409521022,
          2607.4817537798876,
          1018.9212303048113,
          481.9523908035778,
          1493.9104455456536
         ]
        },
        {
         "name": "train-focus",
         "showlegend": false,
         "type": "box",
         "y": [
          419.78740289800527,
          487.83922829031616,
          133.47739775584947,
          304.56472813975125,
          529.7880696123054,
          367.7473238318894,
          403.7673497306281,
          484.6251896574332,
          340.4372352548188,
          452.5830990001109,
          233.9647094857037,
          492.4802227396549,
          147.88547568658208,
          287.4488050497223,
          85.19037043655513,
          520.3083534327868,
          238.35768304768584,
          610.2036102339013
         ]
        },
        {
         "name": "train-breathe",
         "showlegend": false,
         "type": "box",
         "y": [
          106.37845402759464,
          441.1834562395702,
          149.23111548500015,
          614.6545921857924,
          2344.560953217838,
          90.92990175302714,
          409.67319365006153,
          248.83270929936648,
          157.1842820597929,
          413.2351949010161,
          491.74887442338763,
          328.45229690159806,
          97.21802685484808,
          264.77319456851683,
          70.98965302030493,
          580.5452778316793,
          1379.3137585279837,
          1201.815834867675
         ]
        }
       ],
       "layout": {
        "xaxis": {
         "title": "activity"
        },
        "yaxis": {
         "title": "vlf"
        }
       }
      },
      "text/html": [
       "<div id=\"2bec8f63-d43f-4c25-9033-3de0a5eada14\" style=\"height: 525px; width: 100%;\" class=\"plotly-graph-div\"></div><script type=\"text/javascript\">require([\"plotly\"], function(Plotly) { window.PLOTLYENV=window.PLOTLYENV || {};window.PLOTLYENV.BASE_URL=\"https://plot.ly\";Plotly.newPlot(\"2bec8f63-d43f-4c25-9033-3de0a5eada14\", [{\"type\": \"box\", \"y\": [2873.072820756743, 1157.7393980446727, 3940.9880590729035, 493.2531409425002, 3120.8475774734125, 839.311233787315, 466.1427515012532, 1095.7681743885692, 634.6621409521022, 2607.4817537798876, 1018.9212303048113, 481.9523908035778, 1493.9104455456536], \"name\": \"train-baseline\", \"showlegend\": false}, {\"type\": \"box\", \"y\": [419.78740289800527, 487.83922829031616, 133.47739775584947, 304.56472813975125, 529.7880696123054, 367.7473238318894, 403.7673497306281, 484.6251896574332, 340.4372352548188, 452.5830990001109, 233.9647094857037, 492.4802227396549, 147.88547568658208, 287.4488050497223, 85.19037043655513, 520.3083534327868, 238.35768304768584, 610.2036102339013], \"name\": \"train-focus\", \"showlegend\": false}, {\"type\": \"box\", \"y\": [106.37845402759464, 441.1834562395702, 149.23111548500015, 614.6545921857924, 2344.560953217838, 90.92990175302714, 409.67319365006153, 248.83270929936648, 157.1842820597929, 413.2351949010161, 491.74887442338763, 328.45229690159806, 97.21802685484808, 264.77319456851683, 70.98965302030493, 580.5452778316793, 1379.3137585279837, 1201.815834867675], \"name\": \"train-breathe\", \"showlegend\": false}], {\"yaxis\": {\"title\": \"vlf\"}, \"xaxis\": {\"title\": \"activity\"}}, {\"showLink\": true, \"linkText\": \"Export to plot.ly\"})});</script>"
      ],
      "text/vnd.plotly.v1+html": [
       "<div id=\"2bec8f63-d43f-4c25-9033-3de0a5eada14\" style=\"height: 525px; width: 100%;\" class=\"plotly-graph-div\"></div><script type=\"text/javascript\">require([\"plotly\"], function(Plotly) { window.PLOTLYENV=window.PLOTLYENV || {};window.PLOTLYENV.BASE_URL=\"https://plot.ly\";Plotly.newPlot(\"2bec8f63-d43f-4c25-9033-3de0a5eada14\", [{\"type\": \"box\", \"y\": [2873.072820756743, 1157.7393980446727, 3940.9880590729035, 493.2531409425002, 3120.8475774734125, 839.311233787315, 466.1427515012532, 1095.7681743885692, 634.6621409521022, 2607.4817537798876, 1018.9212303048113, 481.9523908035778, 1493.9104455456536], \"name\": \"train-baseline\", \"showlegend\": false}, {\"type\": \"box\", \"y\": [419.78740289800527, 487.83922829031616, 133.47739775584947, 304.56472813975125, 529.7880696123054, 367.7473238318894, 403.7673497306281, 484.6251896574332, 340.4372352548188, 452.5830990001109, 233.9647094857037, 492.4802227396549, 147.88547568658208, 287.4488050497223, 85.19037043655513, 520.3083534327868, 238.35768304768584, 610.2036102339013], \"name\": \"train-focus\", \"showlegend\": false}, {\"type\": \"box\", \"y\": [106.37845402759464, 441.1834562395702, 149.23111548500015, 614.6545921857924, 2344.560953217838, 90.92990175302714, 409.67319365006153, 248.83270929936648, 157.1842820597929, 413.2351949010161, 491.74887442338763, 328.45229690159806, 97.21802685484808, 264.77319456851683, 70.98965302030493, 580.5452778316793, 1379.3137585279837, 1201.815834867675], \"name\": \"train-breathe\", \"showlegend\": false}], {\"yaxis\": {\"title\": \"vlf\"}, \"xaxis\": {\"title\": \"activity\"}}, {\"showLink\": true, \"linkText\": \"Export to plot.ly\"})});</script>"
      ]
     },
     "metadata": {},
     "output_type": "display_data"
    }
   ],
   "source": [
    "#d21 = df_export[df_export.start > '2018-06-21']\n",
    "for feat in cl.features_all:\n",
    "    dv.boxplot_compare(dfs, feat, groupby='activity', min_examples=1)"
   ]
  },
  {
   "cell_type": "markdown",
   "metadata": {},
   "source": [
    "\n",
    "---\n",
    "\n",
    "\n",
    "# FRAGMENTATION\n",
    "\n",
    "---\n",
    "\n"
   ]
  },
  {
   "cell_type": "code",
   "execution_count": 20,
   "metadata": {},
   "outputs": [
    {
     "name": "stdout",
     "output_type": "stream",
     "text": [
      "49 valid sessions out of 49 total (at least one full fragment of 60 seconds after discarding first 10 seconds)\n"
     ]
    },
    {
     "name": "stderr",
     "output_type": "stream",
     "text": [
      "C:\\Users\\Ju\\Anaconda3\\lib\\site-packages\\scipy\\signal\\spectral.py:1633: UserWarning:\n",
      "\n",
      "nperseg = 256 is greater than input length  = 237, using nperseg = 237\n",
      "\n",
      "C:\\Users\\Ju\\Anaconda3\\lib\\site-packages\\scipy\\signal\\spectral.py:1633: UserWarning:\n",
      "\n",
      "nperseg = 256 is greater than input length  = 239, using nperseg = 239\n",
      "\n",
      "C:\\Users\\Ju\\Anaconda3\\lib\\site-packages\\scipy\\signal\\spectral.py:1633: UserWarning:\n",
      "\n",
      "nperseg = 256 is greater than input length  = 241, using nperseg = 241\n",
      "\n",
      "C:\\Users\\Ju\\Anaconda3\\lib\\site-packages\\scipy\\signal\\spectral.py:1633: UserWarning:\n",
      "\n",
      "nperseg = 256 is greater than input length  = 240, using nperseg = 240\n",
      "\n",
      "C:\\Users\\Ju\\Anaconda3\\lib\\site-packages\\scipy\\signal\\spectral.py:1633: UserWarning:\n",
      "\n",
      "nperseg = 256 is greater than input length  = 238, using nperseg = 238\n",
      "\n",
      "C:\\Users\\Ju\\Anaconda3\\lib\\site-packages\\scipy\\signal\\spectral.py:1633: UserWarning:\n",
      "\n",
      "nperseg = 256 is greater than input length  = 245, using nperseg = 245\n",
      "\n",
      "C:\\Users\\Ju\\Anaconda3\\lib\\site-packages\\scipy\\signal\\spectral.py:1633: UserWarning:\n",
      "\n",
      "nperseg = 256 is greater than input length  = 242, using nperseg = 242\n",
      "\n",
      "C:\\Users\\Ju\\Anaconda3\\lib\\site-packages\\scipy\\signal\\spectral.py:1633: UserWarning:\n",
      "\n",
      "nperseg = 256 is greater than input length  = 236, using nperseg = 236\n",
      "\n",
      "C:\\Users\\Ju\\Anaconda3\\lib\\site-packages\\scipy\\signal\\spectral.py:1633: UserWarning:\n",
      "\n",
      "nperseg = 256 is greater than input length  = 243, using nperseg = 243\n",
      "\n",
      "C:\\Users\\Ju\\Anaconda3\\lib\\site-packages\\scipy\\signal\\spectral.py:1633: UserWarning:\n",
      "\n",
      "nperseg = 256 is greater than input length  = 232, using nperseg = 232\n",
      "\n",
      "C:\\Users\\Ju\\Anaconda3\\lib\\site-packages\\scipy\\signal\\spectral.py:1633: UserWarning:\n",
      "\n",
      "nperseg = 256 is greater than input length  = 231, using nperseg = 231\n",
      "\n",
      "C:\\Users\\Ju\\Anaconda3\\lib\\site-packages\\scipy\\signal\\spectral.py:1633: UserWarning:\n",
      "\n",
      "nperseg = 256 is greater than input length  = 226, using nperseg = 226\n",
      "\n",
      "C:\\Users\\Ju\\Anaconda3\\lib\\site-packages\\scipy\\signal\\spectral.py:1633: UserWarning:\n",
      "\n",
      "nperseg = 256 is greater than input length  = 230, using nperseg = 230\n",
      "\n",
      "C:\\Users\\Ju\\Anaconda3\\lib\\site-packages\\scipy\\signal\\spectral.py:1633: UserWarning:\n",
      "\n",
      "nperseg = 256 is greater than input length  = 234, using nperseg = 234\n",
      "\n",
      "C:\\Users\\Ju\\Anaconda3\\lib\\site-packages\\scipy\\signal\\spectral.py:1633: UserWarning:\n",
      "\n",
      "nperseg = 256 is greater than input length  = 233, using nperseg = 233\n",
      "\n",
      "C:\\Users\\Ju\\Anaconda3\\lib\\site-packages\\scipy\\signal\\spectral.py:1633: UserWarning:\n",
      "\n",
      "nperseg = 256 is greater than input length  = 235, using nperseg = 235\n",
      "\n"
     ]
    }
   ],
   "source": [
    "frags = fr.gen_fragments_dataset(sessions, 60, 10, RAW_PATH)"
   ]
  },
  {
   "cell_type": "code",
   "execution_count": 22,
   "metadata": {},
   "outputs": [],
   "source": [
    "dff = pd.DataFrame(frags)"
   ]
  },
  {
   "cell_type": "code",
   "execution_count": 23,
   "metadata": {},
   "outputs": [
    {
     "data": {
      "text/html": [
       "<div>\n",
       "<style>\n",
       "    .dataframe thead tr:only-child th {\n",
       "        text-align: right;\n",
       "    }\n",
       "\n",
       "    .dataframe thead th {\n",
       "        text-align: left;\n",
       "    }\n",
       "\n",
       "    .dataframe tbody tr th {\n",
       "        vertical-align: top;\n",
       "    }\n",
       "</style>\n",
       "<table border=\"1\" class=\"dataframe\">\n",
       "  <thead>\n",
       "    <tr style=\"text-align: right;\">\n",
       "      <th></th>\n",
       "      <th>activity</th>\n",
       "      <th>beatcount</th>\n",
       "      <th>f_id</th>\n",
       "      <th>hf</th>\n",
       "      <th>hfnu</th>\n",
       "      <th>lf</th>\n",
       "      <th>lf_hf</th>\n",
       "      <th>lfnu</th>\n",
       "      <th>mhr</th>\n",
       "      <th>mrri</th>\n",
       "      <th>...</th>\n",
       "      <th>posture</th>\n",
       "      <th>rmssd</th>\n",
       "      <th>rr</th>\n",
       "      <th>sdnn</th>\n",
       "      <th>sess_id</th>\n",
       "      <th>start</th>\n",
       "      <th>stop</th>\n",
       "      <th>total_power</th>\n",
       "      <th>user</th>\n",
       "      <th>vlf</th>\n",
       "    </tr>\n",
       "  </thead>\n",
       "  <tbody>\n",
       "    <tr>\n",
       "      <th>57</th>\n",
       "      <td>train-breathe</td>\n",
       "      <td>85</td>\n",
       "      <td>0</td>\n",
       "      <td>248.472642</td>\n",
       "      <td>8.341820</td>\n",
       "      <td>2730.165475</td>\n",
       "      <td>10.987791</td>\n",
       "      <td>91.658180</td>\n",
       "      <td>85.985055</td>\n",
       "      <td>712.529412</td>\n",
       "      <td>...</td>\n",
       "      <td>sit</td>\n",
       "      <td>66.321547</td>\n",
       "      <td>[{'date': 2018-06-21 11:15:23, 'interval': 720...</td>\n",
       "      <td>88.322675</td>\n",
       "      <td>36</td>\n",
       "      <td>2018-06-21 11:15:22</td>\n",
       "      <td>2018-06-21 11:16:22</td>\n",
       "      <td>3150.469791</td>\n",
       "      <td>0</td>\n",
       "      <td>171.831675</td>\n",
       "    </tr>\n",
       "    <tr>\n",
       "      <th>47</th>\n",
       "      <td>train-breathe</td>\n",
       "      <td>82</td>\n",
       "      <td>1</td>\n",
       "      <td>192.582796</td>\n",
       "      <td>8.870920</td>\n",
       "      <td>1978.362334</td>\n",
       "      <td>10.272789</td>\n",
       "      <td>91.129080</td>\n",
       "      <td>81.865729</td>\n",
       "      <td>736.121951</td>\n",
       "      <td>...</td>\n",
       "      <td>sit</td>\n",
       "      <td>25.683015</td>\n",
       "      <td>[{'date': 2018-06-20 22:43:21, 'interval': 750...</td>\n",
       "      <td>48.818229</td>\n",
       "      <td>29</td>\n",
       "      <td>2018-06-20 22:43:20</td>\n",
       "      <td>2018-06-20 22:44:20</td>\n",
       "      <td>2209.467946</td>\n",
       "      <td>0</td>\n",
       "      <td>38.522815</td>\n",
       "    </tr>\n",
       "    <tr>\n",
       "      <th>35</th>\n",
       "      <td>train-breathe</td>\n",
       "      <td>84</td>\n",
       "      <td>0</td>\n",
       "      <td>309.832069</td>\n",
       "      <td>10.385385</td>\n",
       "      <td>2673.514846</td>\n",
       "      <td>8.628916</td>\n",
       "      <td>89.614615</td>\n",
       "      <td>84.752596</td>\n",
       "      <td>711.488095</td>\n",
       "      <td>...</td>\n",
       "      <td>sit</td>\n",
       "      <td>29.065775</td>\n",
       "      <td>[{'date': 2018-06-19 13:55:11, 'interval': 696...</td>\n",
       "      <td>51.274009</td>\n",
       "      <td>21</td>\n",
       "      <td>2018-06-19 13:55:10</td>\n",
       "      <td>2018-06-19 13:56:10</td>\n",
       "      <td>3193.329136</td>\n",
       "      <td>0</td>\n",
       "      <td>209.982221</td>\n",
       "    </tr>\n",
       "    <tr>\n",
       "      <th>39</th>\n",
       "      <td>train-baseline</td>\n",
       "      <td>82</td>\n",
       "      <td>0</td>\n",
       "      <td>174.556629</td>\n",
       "      <td>36.682961</td>\n",
       "      <td>301.295435</td>\n",
       "      <td>1.726061</td>\n",
       "      <td>63.317039</td>\n",
       "      <td>83.777754</td>\n",
       "      <td>722.231707</td>\n",
       "      <td>...</td>\n",
       "      <td>sit</td>\n",
       "      <td>84.074188</td>\n",
       "      <td>[{'date': 2018-06-20 01:54:30, 'interval': 138...</td>\n",
       "      <td>84.028258</td>\n",
       "      <td>25</td>\n",
       "      <td>2018-06-20 01:54:28</td>\n",
       "      <td>2018-06-20 01:55:28</td>\n",
       "      <td>833.559864</td>\n",
       "      <td>0</td>\n",
       "      <td>357.707800</td>\n",
       "    </tr>\n",
       "    <tr>\n",
       "      <th>7</th>\n",
       "      <td>train-focus</td>\n",
       "      <td>87</td>\n",
       "      <td>1</td>\n",
       "      <td>229.887232</td>\n",
       "      <td>27.941240</td>\n",
       "      <td>592.865195</td>\n",
       "      <td>2.578939</td>\n",
       "      <td>72.058760</td>\n",
       "      <td>84.681671</td>\n",
       "      <td>710.034483</td>\n",
       "      <td>...</td>\n",
       "      <td>sit</td>\n",
       "      <td>27.462236</td>\n",
       "      <td>[{'date': 2018-06-18 12:36:24, 'interval': 700...</td>\n",
       "      <td>32.262170</td>\n",
       "      <td>5</td>\n",
       "      <td>2018-06-18 12:36:23</td>\n",
       "      <td>2018-06-18 12:37:23</td>\n",
       "      <td>1028.258437</td>\n",
       "      <td>0</td>\n",
       "      <td>205.506010</td>\n",
       "    </tr>\n",
       "  </tbody>\n",
       "</table>\n",
       "<p>5 rows × 22 columns</p>\n",
       "</div>"
      ],
      "text/plain": [
       "          activity  beatcount  f_id          hf       hfnu           lf  \\\n",
       "57   train-breathe         85     0  248.472642   8.341820  2730.165475   \n",
       "47   train-breathe         82     1  192.582796   8.870920  1978.362334   \n",
       "35   train-breathe         84     0  309.832069  10.385385  2673.514846   \n",
       "39  train-baseline         82     0  174.556629  36.682961   301.295435   \n",
       "7      train-focus         87     1  229.887232  27.941240   592.865195   \n",
       "\n",
       "        lf_hf       lfnu        mhr        mrri     ...      posture  \\\n",
       "57  10.987791  91.658180  85.985055  712.529412     ...          sit   \n",
       "47  10.272789  91.129080  81.865729  736.121951     ...          sit   \n",
       "35   8.628916  89.614615  84.752596  711.488095     ...          sit   \n",
       "39   1.726061  63.317039  83.777754  722.231707     ...          sit   \n",
       "7    2.578939  72.058760  84.681671  710.034483     ...          sit   \n",
       "\n",
       "        rmssd                                                 rr       sdnn  \\\n",
       "57  66.321547  [{'date': 2018-06-21 11:15:23, 'interval': 720...  88.322675   \n",
       "47  25.683015  [{'date': 2018-06-20 22:43:21, 'interval': 750...  48.818229   \n",
       "35  29.065775  [{'date': 2018-06-19 13:55:11, 'interval': 696...  51.274009   \n",
       "39  84.074188  [{'date': 2018-06-20 01:54:30, 'interval': 138...  84.028258   \n",
       "7   27.462236  [{'date': 2018-06-18 12:36:24, 'interval': 700...  32.262170   \n",
       "\n",
       "   sess_id               start                stop  total_power user  \\\n",
       "57      36 2018-06-21 11:15:22 2018-06-21 11:16:22  3150.469791    0   \n",
       "47      29 2018-06-20 22:43:20 2018-06-20 22:44:20  2209.467946    0   \n",
       "35      21 2018-06-19 13:55:10 2018-06-19 13:56:10  3193.329136    0   \n",
       "39      25 2018-06-20 01:54:28 2018-06-20 01:55:28   833.559864    0   \n",
       "7        5 2018-06-18 12:36:23 2018-06-18 12:37:23  1028.258437    0   \n",
       "\n",
       "           vlf  \n",
       "57  171.831675  \n",
       "47   38.522815  \n",
       "35  209.982221  \n",
       "39  357.707800  \n",
       "7   205.506010  \n",
       "\n",
       "[5 rows x 22 columns]"
      ]
     },
     "execution_count": 23,
     "metadata": {},
     "output_type": "execute_result"
    }
   ],
   "source": [
    "dff.sample(5)"
   ]
  },
  {
   "cell_type": "code",
   "execution_count": 27,
   "metadata": {},
   "outputs": [],
   "source": [
    "durations = [60, 30, 20, 10]\n",
    "crop = 10\n",
    "\n",
    "for dr in durations:\n",
    "    fname = PRE_PATH + '\\\\df_train_' + str(dr) + '.xlsx'\n",
    "    print ('generating', fname, '...')\n",
    "    ds = pd.DataFrame(fr.gen_fragments_dataset(sessions, dr, crop, RAW_PATH))\n",
    "    print('resulting dataset:', len(ds), 'records')\n",
    "    ds.drop('rr', axis=1).to_excel(fname)"
   ]
  },
  {
   "cell_type": "markdown",
   "metadata": {},
   "source": [
    "\n",
    "---\n",
    "\n",
    "\n",
    "# CLASSIFICATION\n",
    "\n",
    "---\n",
    "\n"
   ]
  },
  {
   "cell_type": "code",
   "execution_count": 54,
   "metadata": {},
   "outputs": [],
   "source": [
    "features = cl.features_fd\n",
    "clf1 = RandomForestClassifier(n_estimators=10, n_jobs=-1)\n",
    "clf2 = RandomForestClassifier(n_estimators=100, n_jobs=-1)\n",
    "clf3 = RandomForestClassifier(n_estimators=1000, n_jobs=-1)\n",
    "clf4 = RandomForestClassifier(n_estimators=10000, n_jobs=-1)\n",
    "clf5 = RandomForestClassifier(n_estimators=100000, n_jobs=-1)"
   ]
  },
  {
   "cell_type": "code",
   "execution_count": 57,
   "metadata": {},
   "outputs": [
    {
     "data": {
      "text/html": [
       "<div>\n",
       "<style>\n",
       "    .dataframe thead tr:only-child th {\n",
       "        text-align: right;\n",
       "    }\n",
       "\n",
       "    .dataframe thead th {\n",
       "        text-align: left;\n",
       "    }\n",
       "\n",
       "    .dataframe tbody tr th {\n",
       "        vertical-align: top;\n",
       "    }\n",
       "</style>\n",
       "<table border=\"1\" class=\"dataframe\">\n",
       "  <thead>\n",
       "    <tr style=\"text-align: right;\">\n",
       "      <th></th>\n",
       "      <th>beatcount</th>\n",
       "      <th>f_id</th>\n",
       "      <th>hf</th>\n",
       "      <th>hfnu</th>\n",
       "      <th>lf</th>\n",
       "      <th>lf_hf</th>\n",
       "      <th>lfnu</th>\n",
       "      <th>mhr</th>\n",
       "      <th>mrri</th>\n",
       "      <th>nn50</th>\n",
       "      <th>pnn50</th>\n",
       "      <th>rmssd</th>\n",
       "      <th>sdnn</th>\n",
       "      <th>sess_id</th>\n",
       "      <th>total_power</th>\n",
       "      <th>user</th>\n",
       "      <th>vlf</th>\n",
       "    </tr>\n",
       "  </thead>\n",
       "  <tbody>\n",
       "    <tr>\n",
       "      <th>count</th>\n",
       "      <td>84.000000</td>\n",
       "      <td>84.000000</td>\n",
       "      <td>84.000000</td>\n",
       "      <td>84.000000</td>\n",
       "      <td>84.000000</td>\n",
       "      <td>84.000000</td>\n",
       "      <td>84.000000</td>\n",
       "      <td>84.000000</td>\n",
       "      <td>84.000000</td>\n",
       "      <td>84.000000</td>\n",
       "      <td>84.000000</td>\n",
       "      <td>84.000000</td>\n",
       "      <td>84.000000</td>\n",
       "      <td>84.000000</td>\n",
       "      <td>84.000000</td>\n",
       "      <td>84.000000</td>\n",
       "      <td>84.000000</td>\n",
       "    </tr>\n",
       "    <tr>\n",
       "      <th>mean</th>\n",
       "      <td>78.547619</td>\n",
       "      <td>0.416667</td>\n",
       "      <td>760.255933</td>\n",
       "      <td>35.404996</td>\n",
       "      <td>1992.785213</td>\n",
       "      <td>4.891232</td>\n",
       "      <td>64.595004</td>\n",
       "      <td>78.859941</td>\n",
       "      <td>776.504373</td>\n",
       "      <td>10.369048</td>\n",
       "      <td>14.004936</td>\n",
       "      <td>46.698393</td>\n",
       "      <td>64.429426</td>\n",
       "      <td>25.928571</td>\n",
       "      <td>3522.883017</td>\n",
       "      <td>0.297619</td>\n",
       "      <td>769.841871</td>\n",
       "    </tr>\n",
       "    <tr>\n",
       "      <th>std</th>\n",
       "      <td>8.074062</td>\n",
       "      <td>0.495968</td>\n",
       "      <td>1320.252267</td>\n",
       "      <td>24.445693</td>\n",
       "      <td>3023.320605</td>\n",
       "      <td>6.588052</td>\n",
       "      <td>24.445693</td>\n",
       "      <td>7.914989</td>\n",
       "      <td>87.561033</td>\n",
       "      <td>8.682873</td>\n",
       "      <td>12.198991</td>\n",
       "      <td>32.756000</td>\n",
       "      <td>33.527025</td>\n",
       "      <td>15.626503</td>\n",
       "      <td>4061.127369</td>\n",
       "      <td>0.459957</td>\n",
       "      <td>1060.614932</td>\n",
       "    </tr>\n",
       "    <tr>\n",
       "      <th>min</th>\n",
       "      <td>60.000000</td>\n",
       "      <td>0.000000</td>\n",
       "      <td>5.133648</td>\n",
       "      <td>2.425866</td>\n",
       "      <td>34.110708</td>\n",
       "      <td>0.153289</td>\n",
       "      <td>13.291445</td>\n",
       "      <td>59.485874</td>\n",
       "      <td>653.336957</td>\n",
       "      <td>0.000000</td>\n",
       "      <td>0.000000</td>\n",
       "      <td>10.034424</td>\n",
       "      <td>14.327046</td>\n",
       "      <td>0.000000</td>\n",
       "      <td>62.899132</td>\n",
       "      <td>0.000000</td>\n",
       "      <td>22.317737</td>\n",
       "    </tr>\n",
       "    <tr>\n",
       "      <th>25%</th>\n",
       "      <td>75.000000</td>\n",
       "      <td>0.000000</td>\n",
       "      <td>202.761845</td>\n",
       "      <td>12.320195</td>\n",
       "      <td>387.518461</td>\n",
       "      <td>0.847233</td>\n",
       "      <td>45.860254</td>\n",
       "      <td>75.968714</td>\n",
       "      <td>708.491176</td>\n",
       "      <td>3.000000</td>\n",
       "      <td>4.425872</td>\n",
       "      <td>24.824779</td>\n",
       "      <td>42.101630</td>\n",
       "      <td>12.000000</td>\n",
       "      <td>1037.381298</td>\n",
       "      <td>0.000000</td>\n",
       "      <td>166.233359</td>\n",
       "    </tr>\n",
       "    <tr>\n",
       "      <th>50%</th>\n",
       "      <td>80.000000</td>\n",
       "      <td>0.000000</td>\n",
       "      <td>315.957325</td>\n",
       "      <td>31.871658</td>\n",
       "      <td>737.886536</td>\n",
       "      <td>2.143273</td>\n",
       "      <td>68.128342</td>\n",
       "      <td>79.430434</td>\n",
       "      <td>758.266526</td>\n",
       "      <td>9.000000</td>\n",
       "      <td>11.476608</td>\n",
       "      <td>37.114574</td>\n",
       "      <td>53.033829</td>\n",
       "      <td>26.000000</td>\n",
       "      <td>1931.934026</td>\n",
       "      <td>0.000000</td>\n",
       "      <td>336.117780</td>\n",
       "    </tr>\n",
       "    <tr>\n",
       "      <th>75%</th>\n",
       "      <td>85.000000</td>\n",
       "      <td>1.000000</td>\n",
       "      <td>879.140438</td>\n",
       "      <td>54.139746</td>\n",
       "      <td>2233.993247</td>\n",
       "      <td>7.120456</td>\n",
       "      <td>87.679805</td>\n",
       "      <td>85.271553</td>\n",
       "      <td>801.006053</td>\n",
       "      <td>15.250000</td>\n",
       "      <td>20.263158</td>\n",
       "      <td>57.326750</td>\n",
       "      <td>84.098196</td>\n",
       "      <td>39.250000</td>\n",
       "      <td>3981.717115</td>\n",
       "      <td>1.000000</td>\n",
       "      <td>774.382533</td>\n",
       "    </tr>\n",
       "    <tr>\n",
       "      <th>max</th>\n",
       "      <td>92.000000</td>\n",
       "      <td>1.000000</td>\n",
       "      <td>9555.447872</td>\n",
       "      <td>86.708555</td>\n",
       "      <td>14522.536141</td>\n",
       "      <td>40.222397</td>\n",
       "      <td>97.574134</td>\n",
       "      <td>91.999542</td>\n",
       "      <td>1019.600000</td>\n",
       "      <td>42.000000</td>\n",
       "      <td>59.154930</td>\n",
       "      <td>198.731328</td>\n",
       "      <td>182.668902</td>\n",
       "      <td>52.000000</td>\n",
       "      <td>18179.696118</td>\n",
       "      <td>1.000000</td>\n",
       "      <td>5548.117512</td>\n",
       "    </tr>\n",
       "  </tbody>\n",
       "</table>\n",
       "</div>"
      ],
      "text/plain": [
       "       beatcount       f_id           hf       hfnu            lf      lf_hf  \\\n",
       "count  84.000000  84.000000    84.000000  84.000000     84.000000  84.000000   \n",
       "mean   78.547619   0.416667   760.255933  35.404996   1992.785213   4.891232   \n",
       "std     8.074062   0.495968  1320.252267  24.445693   3023.320605   6.588052   \n",
       "min    60.000000   0.000000     5.133648   2.425866     34.110708   0.153289   \n",
       "25%    75.000000   0.000000   202.761845  12.320195    387.518461   0.847233   \n",
       "50%    80.000000   0.000000   315.957325  31.871658    737.886536   2.143273   \n",
       "75%    85.000000   1.000000   879.140438  54.139746   2233.993247   7.120456   \n",
       "max    92.000000   1.000000  9555.447872  86.708555  14522.536141  40.222397   \n",
       "\n",
       "            lfnu        mhr         mrri       nn50      pnn50       rmssd  \\\n",
       "count  84.000000  84.000000    84.000000  84.000000  84.000000   84.000000   \n",
       "mean   64.595004  78.859941   776.504373  10.369048  14.004936   46.698393   \n",
       "std    24.445693   7.914989    87.561033   8.682873  12.198991   32.756000   \n",
       "min    13.291445  59.485874   653.336957   0.000000   0.000000   10.034424   \n",
       "25%    45.860254  75.968714   708.491176   3.000000   4.425872   24.824779   \n",
       "50%    68.128342  79.430434   758.266526   9.000000  11.476608   37.114574   \n",
       "75%    87.679805  85.271553   801.006053  15.250000  20.263158   57.326750   \n",
       "max    97.574134  91.999542  1019.600000  42.000000  59.154930  198.731328   \n",
       "\n",
       "             sdnn    sess_id   total_power       user          vlf  \n",
       "count   84.000000  84.000000     84.000000  84.000000    84.000000  \n",
       "mean    64.429426  25.928571   3522.883017   0.297619   769.841871  \n",
       "std     33.527025  15.626503   4061.127369   0.459957  1060.614932  \n",
       "min     14.327046   0.000000     62.899132   0.000000    22.317737  \n",
       "25%     42.101630  12.000000   1037.381298   0.000000   166.233359  \n",
       "50%     53.033829  26.000000   1931.934026   0.000000   336.117780  \n",
       "75%     84.098196  39.250000   3981.717115   1.000000   774.382533  \n",
       "max    182.668902  52.000000  18179.696118   1.000000  5548.117512  "
      ]
     },
     "execution_count": 57,
     "metadata": {},
     "output_type": "execute_result"
    }
   ],
   "source": [
    "dff = pd.read_excel(PRE_PATH+'\\\\df_train_60.xlsx')\n",
    "dff.describe()"
   ]
  },
  {
   "cell_type": "code",
   "execution_count": 58,
   "metadata": {},
   "outputs": [],
   "source": [
    "dfr = dff[dff.activity.isin(['train-focus', 'train-breathe'])]"
   ]
  },
  {
   "cell_type": "code",
   "execution_count": 63,
   "metadata": {},
   "outputs": [
    {
     "name": "stdout",
     "output_type": "stream",
     "text": [
      "\n",
      "\n",
      "\n",
      "--------------------------------------------- activity ---------------------------------------------\n",
      "activity\n",
      "train-breathe    32\n",
      "train-focus      30\n",
      "Name: user, dtype: int64\n",
      "49 13\n"
     ]
    },
    {
     "data": {
      "application/vnd.plotly.v1+json": {
       "data": [
        {
         "colorscale": [
          [
           0,
           "rgb(165,0,38)"
          ],
          [
           0.1111111111111111,
           "rgb(215,48,39)"
          ],
          [
           0.2222222222222222,
           "rgb(244,109,67)"
          ],
          [
           0.3333333333333333,
           "rgb(253,174,97)"
          ],
          [
           0.4444444444444444,
           "rgb(254,224,144)"
          ],
          [
           0.5555555555555556,
           "rgb(224,243,248)"
          ],
          [
           0.6666666666666666,
           "rgb(171,217,233)"
          ],
          [
           0.7777777777777778,
           "rgb(116,173,209)"
          ],
          [
           0.8888888888888888,
           "rgb(69,117,180)"
          ],
          [
           1,
           "rgb(49,54,149)"
          ]
         ],
         "type": "heatmap",
         "x": [
          "precision",
          "recall",
          "f1"
         ],
         "y": [
          "train-breathe",
          "train-focus"
         ],
         "z": [
          [
           1,
           0.8333333333333334,
           0.9090909090909091
          ],
          [
           0.875,
           1,
           0.9333333333333333
          ]
         ],
         "zmax": 1,
         "zmin": 0.5
        }
       ],
       "layout": {
        "font": {
         "color": "#333333",
         "size": 16
        },
        "title": "Precision, Recall, F1-score",
        "yaxis": {
         "autorange": "reversed"
        }
       }
      },
      "text/html": [
       "<div id=\"fdaae7c3-7e03-4891-b8cc-8147ad9e7d3e\" style=\"height: 525px; width: 100%;\" class=\"plotly-graph-div\"></div><script type=\"text/javascript\">require([\"plotly\"], function(Plotly) { window.PLOTLYENV=window.PLOTLYENV || {};window.PLOTLYENV.BASE_URL=\"https://plot.ly\";Plotly.newPlot(\"fdaae7c3-7e03-4891-b8cc-8147ad9e7d3e\", [{\"type\": \"heatmap\", \"z\": [[1.0, 0.8333333333333334, 0.9090909090909091], [0.875, 1.0, 0.9333333333333333]], \"y\": [\"train-breathe\", \"train-focus\"], \"x\": [\"precision\", \"recall\", \"f1\"], \"colorscale\": [[0.0, \"rgb(165,0,38)\"], [0.1111111111111111, \"rgb(215,48,39)\"], [0.2222222222222222, \"rgb(244,109,67)\"], [0.3333333333333333, \"rgb(253,174,97)\"], [0.4444444444444444, \"rgb(254,224,144)\"], [0.5555555555555556, \"rgb(224,243,248)\"], [0.6666666666666666, \"rgb(171,217,233)\"], [0.7777777777777778, \"rgb(116,173,209)\"], [0.8888888888888888, \"rgb(69,117,180)\"], [1.0, \"rgb(49,54,149)\"]], \"zmin\": 0.5, \"zmax\": 1.0}], {\"title\": \"Precision, Recall, F1-score\", \"font\": {\"size\": 16, \"color\": \"#333333\"}, \"yaxis\": {\"autorange\": \"reversed\"}}, {\"showLink\": true, \"linkText\": \"Export to plot.ly\"})});</script>"
      ],
      "text/vnd.plotly.v1+html": [
       "<div id=\"fdaae7c3-7e03-4891-b8cc-8147ad9e7d3e\" style=\"height: 525px; width: 100%;\" class=\"plotly-graph-div\"></div><script type=\"text/javascript\">require([\"plotly\"], function(Plotly) { window.PLOTLYENV=window.PLOTLYENV || {};window.PLOTLYENV.BASE_URL=\"https://plot.ly\";Plotly.newPlot(\"fdaae7c3-7e03-4891-b8cc-8147ad9e7d3e\", [{\"type\": \"heatmap\", \"z\": [[1.0, 0.8333333333333334, 0.9090909090909091], [0.875, 1.0, 0.9333333333333333]], \"y\": [\"train-breathe\", \"train-focus\"], \"x\": [\"precision\", \"recall\", \"f1\"], \"colorscale\": [[0.0, \"rgb(165,0,38)\"], [0.1111111111111111, \"rgb(215,48,39)\"], [0.2222222222222222, \"rgb(244,109,67)\"], [0.3333333333333333, \"rgb(253,174,97)\"], [0.4444444444444444, \"rgb(254,224,144)\"], [0.5555555555555556, \"rgb(224,243,248)\"], [0.6666666666666666, \"rgb(171,217,233)\"], [0.7777777777777778, \"rgb(116,173,209)\"], [0.8888888888888888, \"rgb(69,117,180)\"], [1.0, \"rgb(49,54,149)\"]], \"zmin\": 0.5, \"zmax\": 1.0}], {\"title\": \"Precision, Recall, F1-score\", \"font\": {\"size\": 16, \"color\": \"#333333\"}, \"yaxis\": {\"autorange\": \"reversed\"}}, {\"showLink\": true, \"linkText\": \"Export to plot.ly\"})});</script>"
      ]
     },
     "metadata": {},
     "output_type": "display_data"
    },
    {
     "data": {
      "application/vnd.plotly.v1+json": {
       "data": [
        {
         "colorscale": "Reds",
         "type": "heatmap",
         "x": [
          "train-breathe",
          "train-focus"
         ],
         "y": [
          "train-breathe",
          "train-focus"
         ],
         "z": [
          [
           5,
           1
          ],
          [
           0,
           7
          ]
         ]
        }
       ],
       "layout": {
        "font": {
         "color": "#333333",
         "size": 16
        },
        "title": "Confusion Matrix",
        "xaxis": {
         "title": "predicted",
         "titlefont": {
          "color": "#333333",
          "size": 16
         }
        },
        "yaxis": {
         "autorange": "reversed",
         "title": "true label",
         "titlefont": {
          "color": "#333333",
          "size": 16
         }
        }
       }
      },
      "text/html": [
       "<div id=\"5c2882e9-056d-48e1-abca-03f466914490\" style=\"height: 525px; width: 100%;\" class=\"plotly-graph-div\"></div><script type=\"text/javascript\">require([\"plotly\"], function(Plotly) { window.PLOTLYENV=window.PLOTLYENV || {};window.PLOTLYENV.BASE_URL=\"https://plot.ly\";Plotly.newPlot(\"5c2882e9-056d-48e1-abca-03f466914490\", [{\"type\": \"heatmap\", \"z\": [[5, 1], [0, 7]], \"x\": [\"train-breathe\", \"train-focus\"], \"y\": [\"train-breathe\", \"train-focus\"], \"colorscale\": \"Reds\"}], {\"title\": \"Confusion Matrix\", \"font\": {\"size\": 16, \"color\": \"#333333\"}, \"xaxis\": {\"title\": \"predicted\", \"titlefont\": {\"size\": 16, \"color\": \"#333333\"}}, \"yaxis\": {\"title\": \"true label\", \"titlefont\": {\"size\": 16, \"color\": \"#333333\"}, \"autorange\": \"reversed\"}}, {\"showLink\": true, \"linkText\": \"Export to plot.ly\"})});</script>"
      ],
      "text/vnd.plotly.v1+html": [
       "<div id=\"5c2882e9-056d-48e1-abca-03f466914490\" style=\"height: 525px; width: 100%;\" class=\"plotly-graph-div\"></div><script type=\"text/javascript\">require([\"plotly\"], function(Plotly) { window.PLOTLYENV=window.PLOTLYENV || {};window.PLOTLYENV.BASE_URL=\"https://plot.ly\";Plotly.newPlot(\"5c2882e9-056d-48e1-abca-03f466914490\", [{\"type\": \"heatmap\", \"z\": [[5, 1], [0, 7]], \"x\": [\"train-breathe\", \"train-focus\"], \"y\": [\"train-breathe\", \"train-focus\"], \"colorscale\": \"Reds\"}], {\"title\": \"Confusion Matrix\", \"font\": {\"size\": 16, \"color\": \"#333333\"}, \"xaxis\": {\"title\": \"predicted\", \"titlefont\": {\"size\": 16, \"color\": \"#333333\"}}, \"yaxis\": {\"title\": \"true label\", \"titlefont\": {\"size\": 16, \"color\": \"#333333\"}, \"autorange\": \"reversed\"}}, {\"showLink\": true, \"linkText\": \"Export to plot.ly\"})});</script>"
      ]
     },
     "metadata": {},
     "output_type": "display_data"
    }
   ],
   "source": [
    "for label in ['activity']:\n",
    "    cmc.plot_matrices(dfr, clf4, features, label)"
   ]
  },
  {
   "cell_type": "code",
   "execution_count": null,
   "metadata": {},
   "outputs": [],
   "source": []
  },
  {
   "cell_type": "code",
   "execution_count": null,
   "metadata": {},
   "outputs": [],
   "source": []
  },
  {
   "cell_type": "code",
   "execution_count": null,
   "metadata": {},
   "outputs": [],
   "source": []
  }
 ],
 "metadata": {
  "kernelspec": {
   "display_name": "Python 3",
   "language": "python",
   "name": "python3"
  },
  "language_info": {
   "codemirror_mode": {
    "name": "ipython",
    "version": 3
   },
   "file_extension": ".py",
   "mimetype": "text/x-python",
   "name": "python",
   "nbconvert_exporter": "python",
   "pygments_lexer": "ipython3",
   "version": "3.6.3"
  }
 },
 "nbformat": 4,
 "nbformat_minor": 2
}
