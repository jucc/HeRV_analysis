{
 "cells": [
  {
   "cell_type": "code",
   "execution_count": 1,
   "metadata": {},
   "outputs": [
    {
     "data": {
      "text/html": [
       "<script>requirejs.config({paths: { 'plotly': ['https://cdn.plot.ly/plotly-latest.min']},});if(!window.Plotly) {{require(['plotly'],function(plotly) {window.Plotly=plotly;});}}</script>"
      ],
      "text/vnd.plotly.v1+html": [
       "<script>requirejs.config({paths: { 'plotly': ['https://cdn.plot.ly/plotly-latest.min']},});if(!window.Plotly) {{require(['plotly'],function(plotly) {window.Plotly=plotly;});}}</script>"
      ]
     },
     "metadata": {},
     "output_type": "display_data"
    }
   ],
   "source": [
    "%load_ext autoreload\n",
    "%autoreload 2\n",
    "%matplotlib inline  \n",
    "\n",
    "import pandas as pd\n",
    "import numpy as np\n",
    "import matplotlib.pyplot as plt\n",
    "import plotly.offline as pl\n",
    "import plotly.graph_objs as go\n",
    "pl.init_notebook_mode(connected=True)\n",
    "\n",
    "from sklearn import svm\n",
    "from sklearn.ensemble import RandomForestClassifier\n",
    "from sklearn.preprocessing import scale\n",
    "from sklearn.model_selection import StratifiedShuffleSplit, GridSearchCV, train_test_split\n",
    "from sklearn.metrics import classification_report, precision_recall_fscore_support\n",
    "\n",
    "import hervpd as hp\n",
    "import classif\n",
    "import dataviz as dv"
   ]
  },
  {
   "cell_type": "code",
   "execution_count": 2,
   "metadata": {},
   "outputs": [],
   "source": [
    "path = \"C:\\\\Users\\\\ju\\\\GDrive\\\\Projects\\\\HeRV\\\\Data\\\\PreProcessed\" \n",
    "\n",
    "features = ['mrri', 'sdnn', 'rmssd', 'pnn50', 'hfnu', 'lfnu', 'lf_hf']\n",
    "onehotlabels = [ 'sleep', 'exercise', 'move', 'stress1', 'stress2', 'relax1', 'relax2', 'active', 'passive']\n",
    "crops = [90, 60] \n",
    "durations = [300, 240, 180, 150, 120, 90, 60]"
   ]
  },
  {
   "cell_type": "code",
   "execution_count": 3,
   "metadata": {},
   "outputs": [],
   "source": [
    "c1 = 10\n",
    "c2 = 10\n",
    "gamma = 0.1\n",
    "\n",
    "\n",
    "clf_rbf = svm.SVC(kernel='rbf', cache_size=1000, C=c1, gamma=gamma)\n",
    "clf_lin = svm.SVC(kernel='linear', cache_size=1000, C=10, gamma=gamma)\n",
    "clf_rf = RandomForestClassifier(n_estimators=100, n_jobs=-1)\n",
    "\n",
    "#classifiers = {'rf': clf_rf, 'rbf': clf_rbf, 'lin': clf_lin}\n",
    "classifiers = {'rf': clf_rf, 'rbf': clf_rbf}"
   ]
  },
  {
   "cell_type": "code",
   "execution_count": null,
   "metadata": {
    "scrolled": true
   },
   "outputs": [],
   "source": [
    "results = []\n",
    "\n",
    "for dur in durations:\n",
    "    for crop in crops:\n",
    "        filename = classif.build_filename(path, dur, crop)   \n",
    "        print(filename)\n",
    "        df = pd.read_excel(filename)\n",
    "        print(len(df), 'frags')\n",
    "\n",
    "        train, test = hp.preprocess(df, onehotlabels)\n",
    "\n",
    "        r = classif.multiclassifier(classifiers, train, test, features, onehotlabels)\n",
    "        for f in r:\n",
    "            f.update({'duration': dur, 'crop': crop})\n",
    "\n",
    "        results.extend(r)"
   ]
  },
  {
   "cell_type": "code",
   "execution_count": null,
   "metadata": {},
   "outputs": [
    {
     "name": "stdout",
     "output_type": "stream",
     "text": [
      "C:\\Users\\ju\\GDrive\\Projects\\HeRV\\Data\\PreProcessed\\df_300_90_encoded.xlsx\n",
      "3589 frags\n",
      "2871 718\n"
     ]
    },
    {
     "name": "stderr",
     "output_type": "stream",
     "text": [
      "C:\\Users\\Ju\\Anaconda3\\lib\\site-packages\\sklearn\\utils\\validation.py:475: DataConversionWarning:\n",
      "\n",
      "Data with input dtype int64 was converted to float64 by StandardScaler.\n",
      "\n",
      "C:\\Users\\Ju\\Anaconda3\\lib\\site-packages\\sklearn\\metrics\\classification.py:1135: UndefinedMetricWarning:\n",
      "\n",
      "Precision and F-score are ill-defined and being set to 0.0 in labels with no predicted samples.\n",
      "\n"
     ]
    },
    {
     "name": "stdout",
     "output_type": "stream",
     "text": [
      "C:\\Users\\ju\\GDrive\\Projects\\HeRV\\Data\\PreProcessed\\df_300_60_encoded.xlsx\n",
      "3654 frags\n",
      "2923 731\n"
     ]
    },
    {
     "name": "stderr",
     "output_type": "stream",
     "text": [
      "C:\\Users\\Ju\\Anaconda3\\lib\\site-packages\\sklearn\\utils\\validation.py:475: DataConversionWarning:\n",
      "\n",
      "Data with input dtype int64 was converted to float64 by StandardScaler.\n",
      "\n",
      "C:\\Users\\Ju\\Anaconda3\\lib\\site-packages\\sklearn\\metrics\\classification.py:1135: UndefinedMetricWarning:\n",
      "\n",
      "Precision and F-score are ill-defined and being set to 0.0 in labels with no predicted samples.\n",
      "\n"
     ]
    },
    {
     "name": "stdout",
     "output_type": "stream",
     "text": [
      "C:\\Users\\ju\\GDrive\\Projects\\HeRV\\Data\\PreProcessed\\df_240_90_encoded.xlsx\n",
      "4569 frags\n",
      "3655 914\n"
     ]
    },
    {
     "name": "stderr",
     "output_type": "stream",
     "text": [
      "C:\\Users\\Ju\\Anaconda3\\lib\\site-packages\\sklearn\\utils\\validation.py:475: DataConversionWarning:\n",
      "\n",
      "Data with input dtype int64 was converted to float64 by StandardScaler.\n",
      "\n",
      "C:\\Users\\Ju\\Anaconda3\\lib\\site-packages\\sklearn\\metrics\\classification.py:1135: UndefinedMetricWarning:\n",
      "\n",
      "Precision and F-score are ill-defined and being set to 0.0 in labels with no predicted samples.\n",
      "\n"
     ]
    },
    {
     "name": "stdout",
     "output_type": "stream",
     "text": [
      "C:\\Users\\ju\\GDrive\\Projects\\HeRV\\Data\\PreProcessed\\df_240_60_encoded.xlsx\n",
      "4629 frags\n",
      "3703 926\n"
     ]
    },
    {
     "name": "stderr",
     "output_type": "stream",
     "text": [
      "C:\\Users\\Ju\\Anaconda3\\lib\\site-packages\\sklearn\\utils\\validation.py:475: DataConversionWarning:\n",
      "\n",
      "Data with input dtype int64 was converted to float64 by StandardScaler.\n",
      "\n",
      "C:\\Users\\Ju\\Anaconda3\\lib\\site-packages\\sklearn\\metrics\\classification.py:1135: UndefinedMetricWarning:\n",
      "\n",
      "Precision and F-score are ill-defined and being set to 0.0 in labels with no predicted samples.\n",
      "\n"
     ]
    },
    {
     "name": "stdout",
     "output_type": "stream",
     "text": [
      "C:\\Users\\ju\\GDrive\\Projects\\HeRV\\Data\\PreProcessed\\df_180_90_encoded.xlsx\n",
      "6150 frags\n",
      "4920 1230\n"
     ]
    },
    {
     "name": "stderr",
     "output_type": "stream",
     "text": [
      "C:\\Users\\Ju\\Anaconda3\\lib\\site-packages\\sklearn\\utils\\validation.py:475: DataConversionWarning:\n",
      "\n",
      "Data with input dtype int64 was converted to float64 by StandardScaler.\n",
      "\n"
     ]
    },
    {
     "name": "stdout",
     "output_type": "stream",
     "text": [
      "C:\\Users\\ju\\GDrive\\Projects\\HeRV\\Data\\PreProcessed\\df_180_60_encoded.xlsx\n",
      "6223 frags\n",
      "4978 1245\n"
     ]
    },
    {
     "name": "stderr",
     "output_type": "stream",
     "text": [
      "C:\\Users\\Ju\\Anaconda3\\lib\\site-packages\\sklearn\\utils\\validation.py:475: DataConversionWarning:\n",
      "\n",
      "Data with input dtype int64 was converted to float64 by StandardScaler.\n",
      "\n",
      "C:\\Users\\Ju\\Anaconda3\\lib\\site-packages\\sklearn\\metrics\\classification.py:1135: UndefinedMetricWarning:\n",
      "\n",
      "Precision and F-score are ill-defined and being set to 0.0 in labels with no predicted samples.\n",
      "\n"
     ]
    },
    {
     "name": "stdout",
     "output_type": "stream",
     "text": [
      "C:\\Users\\ju\\GDrive\\Projects\\HeRV\\Data\\PreProcessed\\df_150_90_encoded.xlsx\n",
      "7403 frags\n",
      "5922 1481\n"
     ]
    },
    {
     "name": "stderr",
     "output_type": "stream",
     "text": [
      "C:\\Users\\Ju\\Anaconda3\\lib\\site-packages\\sklearn\\utils\\validation.py:475: DataConversionWarning:\n",
      "\n",
      "Data with input dtype int64 was converted to float64 by StandardScaler.\n",
      "\n",
      "C:\\Users\\Ju\\Anaconda3\\lib\\site-packages\\sklearn\\metrics\\classification.py:1135: UndefinedMetricWarning:\n",
      "\n",
      "Precision and F-score are ill-defined and being set to 0.0 in labels with no predicted samples.\n",
      "\n"
     ]
    },
    {
     "name": "stdout",
     "output_type": "stream",
     "text": [
      "C:\\Users\\ju\\GDrive\\Projects\\HeRV\\Data\\PreProcessed\\df_150_60_encoded.xlsx\n",
      "7500 frags\n",
      "6000 1500\n"
     ]
    },
    {
     "name": "stderr",
     "output_type": "stream",
     "text": [
      "C:\\Users\\Ju\\Anaconda3\\lib\\site-packages\\sklearn\\utils\\validation.py:475: DataConversionWarning:\n",
      "\n",
      "Data with input dtype int64 was converted to float64 by StandardScaler.\n",
      "\n",
      "C:\\Users\\Ju\\Anaconda3\\lib\\site-packages\\sklearn\\metrics\\classification.py:1135: UndefinedMetricWarning:\n",
      "\n",
      "Precision and F-score are ill-defined and being set to 0.0 in labels with no predicted samples.\n",
      "\n"
     ]
    },
    {
     "name": "stdout",
     "output_type": "stream",
     "text": [
      "C:\\Users\\ju\\GDrive\\Projects\\HeRV\\Data\\PreProcessed\\df_120_90_encoded.xlsx\n",
      "9293 frags\n",
      "7434 1859\n"
     ]
    },
    {
     "name": "stderr",
     "output_type": "stream",
     "text": [
      "C:\\Users\\Ju\\Anaconda3\\lib\\site-packages\\sklearn\\utils\\validation.py:475: DataConversionWarning:\n",
      "\n",
      "Data with input dtype int64 was converted to float64 by StandardScaler.\n",
      "\n",
      "C:\\Users\\Ju\\Anaconda3\\lib\\site-packages\\sklearn\\metrics\\classification.py:1135: UndefinedMetricWarning:\n",
      "\n",
      "Precision and F-score are ill-defined and being set to 0.0 in labels with no predicted samples.\n",
      "\n"
     ]
    },
    {
     "name": "stdout",
     "output_type": "stream",
     "text": [
      "C:\\Users\\ju\\GDrive\\Projects\\HeRV\\Data\\PreProcessed\\df_120_60_encoded.xlsx\n",
      "9468 frags\n",
      "7574 1894\n"
     ]
    },
    {
     "name": "stderr",
     "output_type": "stream",
     "text": [
      "C:\\Users\\Ju\\Anaconda3\\lib\\site-packages\\sklearn\\utils\\validation.py:475: DataConversionWarning:\n",
      "\n",
      "Data with input dtype int64 was converted to float64 by StandardScaler.\n",
      "\n"
     ]
    },
    {
     "name": "stdout",
     "output_type": "stream",
     "text": [
      "C:\\Users\\ju\\GDrive\\Projects\\HeRV\\Data\\PreProcessed\\df_90_90_encoded.xlsx\n",
      "12516 frags\n",
      "10012 2504\n"
     ]
    },
    {
     "name": "stderr",
     "output_type": "stream",
     "text": [
      "C:\\Users\\Ju\\Anaconda3\\lib\\site-packages\\sklearn\\utils\\validation.py:475: DataConversionWarning:\n",
      "\n",
      "Data with input dtype int64 was converted to float64 by StandardScaler.\n",
      "\n"
     ]
    },
    {
     "name": "stdout",
     "output_type": "stream",
     "text": [
      "C:\\Users\\ju\\GDrive\\Projects\\HeRV\\Data\\PreProcessed\\df_90_60_encoded.xlsx\n",
      "12679 frags\n",
      "10143 2536\n"
     ]
    },
    {
     "name": "stderr",
     "output_type": "stream",
     "text": [
      "C:\\Users\\Ju\\Anaconda3\\lib\\site-packages\\sklearn\\utils\\validation.py:475: DataConversionWarning:\n",
      "\n",
      "Data with input dtype int64 was converted to float64 by StandardScaler.\n",
      "\n"
     ]
    },
    {
     "name": "stdout",
     "output_type": "stream",
     "text": [
      "C:\\Users\\ju\\GDrive\\Projects\\HeRV\\Data\\PreProcessed\\df_60_90_encoded.xlsx\n",
      "18817 frags\n",
      "15053 3764\n"
     ]
    },
    {
     "name": "stderr",
     "output_type": "stream",
     "text": [
      "C:\\Users\\Ju\\Anaconda3\\lib\\site-packages\\sklearn\\utils\\validation.py:475: DataConversionWarning:\n",
      "\n",
      "Data with input dtype int64 was converted to float64 by StandardScaler.\n",
      "\n"
     ]
    },
    {
     "name": "stdout",
     "output_type": "stream",
     "text": [
      "C:\\Users\\ju\\GDrive\\Projects\\HeRV\\Data\\PreProcessed\\df_60_60_encoded.xlsx\n",
      "19046 frags\n",
      "15236 3810\n"
     ]
    },
    {
     "name": "stderr",
     "output_type": "stream",
     "text": [
      "C:\\Users\\Ju\\Anaconda3\\lib\\site-packages\\sklearn\\utils\\validation.py:475: DataConversionWarning:\n",
      "\n",
      "Data with input dtype int64 was converted to float64 by StandardScaler.\n",
      "\n"
     ]
    }
   ],
   "source": [
    "%time fullresult = classif.full_classification(classifiers, durations, crops, features, onehotlabels, path=path)"
   ]
  },
  {
   "cell_type": "code",
   "execution_count": null,
   "metadata": {},
   "outputs": [],
   "source": [
    "for user in range(7):\n",
    "    fullresult.extend(classif.full_classification(classifiers, durations, crops, features, onehotlabels, user=user, path=path))\n",
    "    "
   ]
  },
  {
   "cell_type": "code",
   "execution_count": 3,
   "metadata": {},
   "outputs": [
    {
     "ename": "NameError",
     "evalue": "name 'results' is not defined",
     "output_type": "error",
     "traceback": [
      "\u001b[1;31m---------------------------------------------------------------------------\u001b[0m",
      "\u001b[1;31mNameError\u001b[0m                                 Traceback (most recent call last)",
      "\u001b[1;32m<ipython-input-3-09e8ddc5d001>\u001b[0m in \u001b[0;36m<module>\u001b[1;34m()\u001b[0m\n\u001b[1;32m----> 1\u001b[1;33m \u001b[0mdf\u001b[0m \u001b[1;33m=\u001b[0m \u001b[0mpd\u001b[0m\u001b[1;33m.\u001b[0m\u001b[0mDataFrame\u001b[0m\u001b[1;33m(\u001b[0m\u001b[0mresults\u001b[0m\u001b[1;33m)\u001b[0m\u001b[1;33m\u001b[0m\u001b[0m\n\u001b[0m",
      "\u001b[1;31mNameError\u001b[0m: name 'results' is not defined"
     ]
    }
   ],
   "source": [
    "df = pd.DataFrame(results)"
   ]
  },
  {
   "cell_type": "code",
   "execution_count": null,
   "metadata": {},
   "outputs": [],
   "source": [
    "df.to_excel(path + '\\\\results.xlsx')"
   ]
  },
  {
   "cell_type": "code",
   "execution_count": 4,
   "metadata": {},
   "outputs": [],
   "source": [
    "df = pd.read_excel(path + '\\\\results.xlsx')"
   ]
  },
  {
   "cell_type": "code",
   "execution_count": 5,
   "metadata": {},
   "outputs": [
    {
     "data": {
      "text/html": [
       "<div>\n",
       "<style>\n",
       "    .dataframe thead tr:only-child th {\n",
       "        text-align: right;\n",
       "    }\n",
       "\n",
       "    .dataframe thead th {\n",
       "        text-align: left;\n",
       "    }\n",
       "\n",
       "    .dataframe tbody tr th {\n",
       "        vertical-align: top;\n",
       "    }\n",
       "</style>\n",
       "<table border=\"1\" class=\"dataframe\">\n",
       "  <thead>\n",
       "    <tr style=\"text-align: right;\">\n",
       "      <th></th>\n",
       "      <th>classifier</th>\n",
       "      <th>crop</th>\n",
       "      <th>duration</th>\n",
       "      <th>f1_neg</th>\n",
       "      <th>f1_pos</th>\n",
       "      <th>label</th>\n",
       "      <th>prec_neg</th>\n",
       "      <th>prec_pos</th>\n",
       "      <th>rec_neg</th>\n",
       "      <th>rec_pos</th>\n",
       "      <th>score</th>\n",
       "      <th>sup_neg</th>\n",
       "      <th>sup_pos</th>\n",
       "    </tr>\n",
       "  </thead>\n",
       "  <tbody>\n",
       "    <tr>\n",
       "      <th>54</th>\n",
       "      <td>rf</td>\n",
       "      <td>120</td>\n",
       "      <td>240</td>\n",
       "      <td>0.807245</td>\n",
       "      <td>0.856593</td>\n",
       "      <td>sleep</td>\n",
       "      <td>0.832000</td>\n",
       "      <td>0.838041</td>\n",
       "      <td>0.783920</td>\n",
       "      <td>0.875984</td>\n",
       "      <td>0.835541</td>\n",
       "      <td>398</td>\n",
       "      <td>508</td>\n",
       "    </tr>\n",
       "    <tr>\n",
       "      <th>55</th>\n",
       "      <td>rf</td>\n",
       "      <td>120</td>\n",
       "      <td>240</td>\n",
       "      <td>0.588235</td>\n",
       "      <td>0.992126</td>\n",
       "      <td>exercise</td>\n",
       "      <td>0.555556</td>\n",
       "      <td>0.993243</td>\n",
       "      <td>0.625000</td>\n",
       "      <td>0.991011</td>\n",
       "      <td>0.984547</td>\n",
       "      <td>16</td>\n",
       "      <td>890</td>\n",
       "    </tr>\n",
       "    <tr>\n",
       "      <th>56</th>\n",
       "      <td>rf</td>\n",
       "      <td>120</td>\n",
       "      <td>240</td>\n",
       "      <td>0.592593</td>\n",
       "      <td>0.944862</td>\n",
       "      <td>move</td>\n",
       "      <td>0.719101</td>\n",
       "      <td>0.922889</td>\n",
       "      <td>0.503937</td>\n",
       "      <td>0.967908</td>\n",
       "      <td>0.902870</td>\n",
       "      <td>127</td>\n",
       "      <td>779</td>\n",
       "    </tr>\n",
       "    <tr>\n",
       "      <th>57</th>\n",
       "      <td>rf</td>\n",
       "      <td>120</td>\n",
       "      <td>240</td>\n",
       "      <td>0.417219</td>\n",
       "      <td>0.883444</td>\n",
       "      <td>stress1</td>\n",
       "      <td>0.594340</td>\n",
       "      <td>0.833750</td>\n",
       "      <td>0.321429</td>\n",
       "      <td>0.939437</td>\n",
       "      <td>0.805740</td>\n",
       "      <td>196</td>\n",
       "      <td>710</td>\n",
       "    </tr>\n",
       "    <tr>\n",
       "      <th>58</th>\n",
       "      <td>rf</td>\n",
       "      <td>120</td>\n",
       "      <td>240</td>\n",
       "      <td>0.432787</td>\n",
       "      <td>0.885202</td>\n",
       "      <td>stress2</td>\n",
       "      <td>0.605505</td>\n",
       "      <td>0.836888</td>\n",
       "      <td>0.336735</td>\n",
       "      <td>0.939437</td>\n",
       "      <td>0.809051</td>\n",
       "      <td>196</td>\n",
       "      <td>710</td>\n",
       "    </tr>\n",
       "    <tr>\n",
       "      <th>59</th>\n",
       "      <td>rf</td>\n",
       "      <td>120</td>\n",
       "      <td>240</td>\n",
       "      <td>0.186528</td>\n",
       "      <td>0.903027</td>\n",
       "      <td>relax1</td>\n",
       "      <td>0.461538</td>\n",
       "      <td>0.843137</td>\n",
       "      <td>0.116883</td>\n",
       "      <td>0.972074</td>\n",
       "      <td>0.826711</td>\n",
       "      <td>154</td>\n",
       "      <td>752</td>\n",
       "    </tr>\n",
       "    <tr>\n",
       "      <th>60</th>\n",
       "      <td>rf</td>\n",
       "      <td>120</td>\n",
       "      <td>240</td>\n",
       "      <td>0.106667</td>\n",
       "      <td>0.919374</td>\n",
       "      <td>relax2</td>\n",
       "      <td>0.400000</td>\n",
       "      <td>0.862302</td>\n",
       "      <td>0.061538</td>\n",
       "      <td>0.984536</td>\n",
       "      <td>0.852097</td>\n",
       "      <td>130</td>\n",
       "      <td>776</td>\n",
       "    </tr>\n",
       "    <tr>\n",
       "      <th>61</th>\n",
       "      <td>rf</td>\n",
       "      <td>120</td>\n",
       "      <td>240</td>\n",
       "      <td>0.474359</td>\n",
       "      <td>0.890667</td>\n",
       "      <td>active</td>\n",
       "      <td>0.611570</td>\n",
       "      <td>0.850955</td>\n",
       "      <td>0.387435</td>\n",
       "      <td>0.934266</td>\n",
       "      <td>0.818985</td>\n",
       "      <td>191</td>\n",
       "      <td>715</td>\n",
       "    </tr>\n",
       "    <tr>\n",
       "      <th>62</th>\n",
       "      <td>rf</td>\n",
       "      <td>120</td>\n",
       "      <td>240</td>\n",
       "      <td>0.260504</td>\n",
       "      <td>0.888183</td>\n",
       "      <td>passive</td>\n",
       "      <td>0.484375</td>\n",
       "      <td>0.830166</td>\n",
       "      <td>0.178161</td>\n",
       "      <td>0.954918</td>\n",
       "      <td>0.805740</td>\n",
       "      <td>174</td>\n",
       "      <td>732</td>\n",
       "    </tr>\n",
       "  </tbody>\n",
       "</table>\n",
       "</div>"
      ],
      "text/plain": [
       "   classifier  crop  duration    f1_neg    f1_pos     label  prec_neg  \\\n",
       "54         rf   120       240  0.807245  0.856593     sleep  0.832000   \n",
       "55         rf   120       240  0.588235  0.992126  exercise  0.555556   \n",
       "56         rf   120       240  0.592593  0.944862      move  0.719101   \n",
       "57         rf   120       240  0.417219  0.883444   stress1  0.594340   \n",
       "58         rf   120       240  0.432787  0.885202   stress2  0.605505   \n",
       "59         rf   120       240  0.186528  0.903027    relax1  0.461538   \n",
       "60         rf   120       240  0.106667  0.919374    relax2  0.400000   \n",
       "61         rf   120       240  0.474359  0.890667    active  0.611570   \n",
       "62         rf   120       240  0.260504  0.888183   passive  0.484375   \n",
       "\n",
       "    prec_pos   rec_neg   rec_pos     score  sup_neg  sup_pos  \n",
       "54  0.838041  0.783920  0.875984  0.835541      398      508  \n",
       "55  0.993243  0.625000  0.991011  0.984547       16      890  \n",
       "56  0.922889  0.503937  0.967908  0.902870      127      779  \n",
       "57  0.833750  0.321429  0.939437  0.805740      196      710  \n",
       "58  0.836888  0.336735  0.939437  0.809051      196      710  \n",
       "59  0.843137  0.116883  0.972074  0.826711      154      752  \n",
       "60  0.862302  0.061538  0.984536  0.852097      130      776  \n",
       "61  0.850955  0.387435  0.934266  0.818985      191      715  \n",
       "62  0.830166  0.178161  0.954918  0.805740      174      732  "
      ]
     },
     "execution_count": 5,
     "metadata": {},
     "output_type": "execute_result"
    }
   ],
   "source": [
    "ddf = df.loc[(df['classifier'] == 'rf') & (df['crop'] == 120) & (df['duration'] == 240)]\n",
    "ddf"
   ]
  },
  {
   "cell_type": "code",
   "execution_count": 6,
   "metadata": {},
   "outputs": [
    {
     "data": {
      "text/html": [
       "<div>\n",
       "<style>\n",
       "    .dataframe thead tr:only-child th {\n",
       "        text-align: right;\n",
       "    }\n",
       "\n",
       "    .dataframe thead th {\n",
       "        text-align: left;\n",
       "    }\n",
       "\n",
       "    .dataframe tbody tr th {\n",
       "        vertical-align: top;\n",
       "    }\n",
       "</style>\n",
       "<table border=\"1\" class=\"dataframe\">\n",
       "  <thead>\n",
       "    <tr style=\"text-align: right;\">\n",
       "      <th></th>\n",
       "      <th>classifier</th>\n",
       "      <th>crop</th>\n",
       "      <th>duration</th>\n",
       "      <th>f1_neg</th>\n",
       "      <th>f1_pos</th>\n",
       "      <th>label</th>\n",
       "      <th>prec_neg</th>\n",
       "      <th>prec_pos</th>\n",
       "      <th>rec_neg</th>\n",
       "      <th>rec_pos</th>\n",
       "      <th>score</th>\n",
       "      <th>sup_neg</th>\n",
       "      <th>sup_pos</th>\n",
       "    </tr>\n",
       "  </thead>\n",
       "  <tbody>\n",
       "    <tr>\n",
       "      <th>11</th>\n",
       "      <td>rbf</td>\n",
       "      <td>120</td>\n",
       "      <td>300</td>\n",
       "      <td>0.017544</td>\n",
       "      <td>0.914634</td>\n",
       "      <td>move</td>\n",
       "      <td>1.000000</td>\n",
       "      <td>0.842697</td>\n",
       "      <td>0.008850</td>\n",
       "      <td>1.000000</td>\n",
       "      <td>0.842917</td>\n",
       "      <td>113</td>\n",
       "      <td>600</td>\n",
       "    </tr>\n",
       "    <tr>\n",
       "      <th>65</th>\n",
       "      <td>rbf</td>\n",
       "      <td>120</td>\n",
       "      <td>240</td>\n",
       "      <td>0.015504</td>\n",
       "      <td>0.924540</td>\n",
       "      <td>move</td>\n",
       "      <td>0.500000</td>\n",
       "      <td>0.860619</td>\n",
       "      <td>0.007874</td>\n",
       "      <td>0.998716</td>\n",
       "      <td>0.859823</td>\n",
       "      <td>127</td>\n",
       "      <td>779</td>\n",
       "    </tr>\n",
       "    <tr>\n",
       "      <th>119</th>\n",
       "      <td>rbf</td>\n",
       "      <td>120</td>\n",
       "      <td>180</td>\n",
       "      <td>0.013889</td>\n",
       "      <td>0.938045</td>\n",
       "      <td>move</td>\n",
       "      <td>0.500000</td>\n",
       "      <td>0.884046</td>\n",
       "      <td>0.007042</td>\n",
       "      <td>0.999071</td>\n",
       "      <td>0.883415</td>\n",
       "      <td>142</td>\n",
       "      <td>1076</td>\n",
       "    </tr>\n",
       "    <tr>\n",
       "      <th>173</th>\n",
       "      <td>rbf</td>\n",
       "      <td>120</td>\n",
       "      <td>150</td>\n",
       "      <td>0.021622</td>\n",
       "      <td>0.934349</td>\n",
       "      <td>move</td>\n",
       "      <td>1.000000</td>\n",
       "      <td>0.876787</td>\n",
       "      <td>0.010929</td>\n",
       "      <td>1.000000</td>\n",
       "      <td>0.876954</td>\n",
       "      <td>183</td>\n",
       "      <td>1288</td>\n",
       "    </tr>\n",
       "    <tr>\n",
       "      <th>227</th>\n",
       "      <td>rbf</td>\n",
       "      <td>120</td>\n",
       "      <td>120</td>\n",
       "      <td>0.024194</td>\n",
       "      <td>0.929528</td>\n",
       "      <td>move</td>\n",
       "      <td>0.750000</td>\n",
       "      <td>0.868808</td>\n",
       "      <td>0.012295</td>\n",
       "      <td>0.999374</td>\n",
       "      <td>0.868550</td>\n",
       "      <td>244</td>\n",
       "      <td>1597</td>\n",
       "    </tr>\n",
       "    <tr>\n",
       "      <th>281</th>\n",
       "      <td>rbf</td>\n",
       "      <td>120</td>\n",
       "      <td>90</td>\n",
       "      <td>0.034582</td>\n",
       "      <td>0.927158</td>\n",
       "      <td>move</td>\n",
       "      <td>0.600000</td>\n",
       "      <td>0.865611</td>\n",
       "      <td>0.017804</td>\n",
       "      <td>0.998127</td>\n",
       "      <td>0.864537</td>\n",
       "      <td>337</td>\n",
       "      <td>2136</td>\n",
       "    </tr>\n",
       "    <tr>\n",
       "      <th>335</th>\n",
       "      <td>rbf</td>\n",
       "      <td>120</td>\n",
       "      <td>60</td>\n",
       "      <td>0.098765</td>\n",
       "      <td>0.925802</td>\n",
       "      <td>move</td>\n",
       "      <td>0.777778</td>\n",
       "      <td>0.863723</td>\n",
       "      <td>0.052731</td>\n",
       "      <td>0.997497</td>\n",
       "      <td>0.862892</td>\n",
       "      <td>531</td>\n",
       "      <td>3196</td>\n",
       "    </tr>\n",
       "  </tbody>\n",
       "</table>\n",
       "</div>"
      ],
      "text/plain": [
       "    classifier  crop  duration    f1_neg    f1_pos label  prec_neg  prec_pos  \\\n",
       "11         rbf   120       300  0.017544  0.914634  move  1.000000  0.842697   \n",
       "65         rbf   120       240  0.015504  0.924540  move  0.500000  0.860619   \n",
       "119        rbf   120       180  0.013889  0.938045  move  0.500000  0.884046   \n",
       "173        rbf   120       150  0.021622  0.934349  move  1.000000  0.876787   \n",
       "227        rbf   120       120  0.024194  0.929528  move  0.750000  0.868808   \n",
       "281        rbf   120        90  0.034582  0.927158  move  0.600000  0.865611   \n",
       "335        rbf   120        60  0.098765  0.925802  move  0.777778  0.863723   \n",
       "\n",
       "      rec_neg   rec_pos     score  sup_neg  sup_pos  \n",
       "11   0.008850  1.000000  0.842917      113      600  \n",
       "65   0.007874  0.998716  0.859823      127      779  \n",
       "119  0.007042  0.999071  0.883415      142     1076  \n",
       "173  0.010929  1.000000  0.876954      183     1288  \n",
       "227  0.012295  0.999374  0.868550      244     1597  \n",
       "281  0.017804  0.998127  0.864537      337     2136  \n",
       "335  0.052731  0.997497  0.862892      531     3196  "
      ]
     },
     "execution_count": 6,
     "metadata": {},
     "output_type": "execute_result"
    }
   ],
   "source": [
    "df.loc[(df['classifier'] == 'rbf') & (df['crop'] == 120) & (df['label']=='move')]"
   ]
  },
  {
   "cell_type": "code",
   "execution_count": 40,
   "metadata": {
    "scrolled": false
   },
   "outputs": [
    {
     "data": {
      "application/vnd.plotly.v1+json": {
       "data": [
        {
         "name": 300,
         "type": "bar",
         "x": [
          "rf",
          "rbf",
          "rf",
          "rbf",
          "rf",
          "rbf"
         ],
         "y": [
          0.8863955119214586,
          0.5666199158485273,
          0.8662952646239555,
          0.5557103064066853,
          0.8590971272229823,
          0.6292749658002736
         ]
        },
        {
         "name": 240,
         "type": "bar",
         "x": [
          "rf",
          "rbf",
          "rf",
          "rbf",
          "rf",
          "rbf"
         ],
         "y": [
          0.8355408388520972,
          0.5728476821192053,
          0.8741794310722101,
          0.5765864332603938,
          0.8628509719222462,
          0.5993520518358532
         ]
        },
        {
         "name": 180,
         "type": "bar",
         "x": [
          "rf",
          "rbf",
          "rf",
          "rbf",
          "rf",
          "rbf"
         ],
         "y": [
          0.854679802955665,
          0.5796387520525451,
          0.8682926829268293,
          0.5959349593495935,
          0.8602409638554217,
          0.6273092369477912
         ]
        },
        {
         "name": 150,
         "type": "bar",
         "x": [
          "rf",
          "rbf",
          "rf",
          "rbf",
          "rf",
          "rbf"
         ],
         "y": [
          0.8606390210740993,
          0.5778382053025153,
          0.861580013504389,
          0.5867656988521269,
          0.8586666666666667,
          0.604
         ]
        },
        {
         "name": 120,
         "type": "bar",
         "x": [
          "rf",
          "rbf",
          "rf",
          "rbf",
          "rf",
          "rbf"
         ],
         "y": [
          0.8517110266159695,
          0.6137968495382944,
          0.8596019365250135,
          0.6083916083916084,
          0.8690601900739177,
          0.6135163674762407
         ]
        },
        {
         "name": 90,
         "type": "bar",
         "x": [
          "rf",
          "rbf",
          "rf",
          "rbf",
          "rf",
          "rbf"
         ],
         "y": [
          0.8604933279417711,
          0.6085725839061868,
          0.8374600638977636,
          0.6150159744408946,
          0.8568611987381703,
          0.6273659305993691
         ]
        },
        {
         "name": 60,
         "type": "bar",
         "x": [
          "rf",
          "rbf",
          "rf",
          "rbf",
          "rf",
          "rbf"
         ],
         "y": [
          0.8478669170914945,
          0.6359001878186209,
          0.8403294367693943,
          0.6198193411264612,
          0.8433070866141732,
          0.6322834645669292
         ]
        }
       ],
       "layout": {
        "barmode": "group",
        "title": "sleep"
       }
      },
      "text/html": [
       "<div id=\"84b00bf5-8d1d-4a41-9e78-7e3c7e8f4983\" style=\"height: 525px; width: 100%;\" class=\"plotly-graph-div\"></div><script type=\"text/javascript\">require([\"plotly\"], function(Plotly) { window.PLOTLYENV=window.PLOTLYENV || {};window.PLOTLYENV.BASE_URL=\"https://plot.ly\";Plotly.newPlot(\"84b00bf5-8d1d-4a41-9e78-7e3c7e8f4983\", [{\"type\": \"bar\", \"x\": [\"rf\", \"rbf\", \"rf\", \"rbf\", \"rf\", \"rbf\"], \"y\": [0.8863955119214586, 0.5666199158485273, 0.8662952646239555, 0.5557103064066853, 0.8590971272229823, 0.6292749658002736], \"name\": 300}, {\"type\": \"bar\", \"x\": [\"rf\", \"rbf\", \"rf\", \"rbf\", \"rf\", \"rbf\"], \"y\": [0.8355408388520972, 0.5728476821192053, 0.8741794310722101, 0.5765864332603938, 0.8628509719222462, 0.5993520518358532], \"name\": 240}, {\"type\": \"bar\", \"x\": [\"rf\", \"rbf\", \"rf\", \"rbf\", \"rf\", \"rbf\"], \"y\": [0.854679802955665, 0.5796387520525451, 0.8682926829268293, 0.5959349593495935, 0.8602409638554217, 0.6273092369477912], \"name\": 180}, {\"type\": \"bar\", \"x\": [\"rf\", \"rbf\", \"rf\", \"rbf\", \"rf\", \"rbf\"], \"y\": [0.8606390210740993, 0.5778382053025153, 0.861580013504389, 0.5867656988521269, 0.8586666666666667, 0.604], \"name\": 150}, {\"type\": \"bar\", \"x\": [\"rf\", \"rbf\", \"rf\", \"rbf\", \"rf\", \"rbf\"], \"y\": [0.8517110266159695, 0.6137968495382944, 0.8596019365250135, 0.6083916083916084, 0.8690601900739177, 0.6135163674762407], \"name\": 120}, {\"type\": \"bar\", \"x\": [\"rf\", \"rbf\", \"rf\", \"rbf\", \"rf\", \"rbf\"], \"y\": [0.8604933279417711, 0.6085725839061868, 0.8374600638977636, 0.6150159744408946, 0.8568611987381703, 0.6273659305993691], \"name\": 90}, {\"type\": \"bar\", \"x\": [\"rf\", \"rbf\", \"rf\", \"rbf\", \"rf\", \"rbf\"], \"y\": [0.8478669170914945, 0.6359001878186209, 0.8403294367693943, 0.6198193411264612, 0.8433070866141732, 0.6322834645669292], \"name\": 60}], {\"barmode\": \"group\", \"title\": \"sleep\"}, {\"showLink\": true, \"linkText\": \"Export to plot.ly\"})});</script>"
      ],
      "text/vnd.plotly.v1+html": [
       "<div id=\"84b00bf5-8d1d-4a41-9e78-7e3c7e8f4983\" style=\"height: 525px; width: 100%;\" class=\"plotly-graph-div\"></div><script type=\"text/javascript\">require([\"plotly\"], function(Plotly) { window.PLOTLYENV=window.PLOTLYENV || {};window.PLOTLYENV.BASE_URL=\"https://plot.ly\";Plotly.newPlot(\"84b00bf5-8d1d-4a41-9e78-7e3c7e8f4983\", [{\"type\": \"bar\", \"x\": [\"rf\", \"rbf\", \"rf\", \"rbf\", \"rf\", \"rbf\"], \"y\": [0.8863955119214586, 0.5666199158485273, 0.8662952646239555, 0.5557103064066853, 0.8590971272229823, 0.6292749658002736], \"name\": 300}, {\"type\": \"bar\", \"x\": [\"rf\", \"rbf\", \"rf\", \"rbf\", \"rf\", \"rbf\"], \"y\": [0.8355408388520972, 0.5728476821192053, 0.8741794310722101, 0.5765864332603938, 0.8628509719222462, 0.5993520518358532], \"name\": 240}, {\"type\": \"bar\", \"x\": [\"rf\", \"rbf\", \"rf\", \"rbf\", \"rf\", \"rbf\"], \"y\": [0.854679802955665, 0.5796387520525451, 0.8682926829268293, 0.5959349593495935, 0.8602409638554217, 0.6273092369477912], \"name\": 180}, {\"type\": \"bar\", \"x\": [\"rf\", \"rbf\", \"rf\", \"rbf\", \"rf\", \"rbf\"], \"y\": [0.8606390210740993, 0.5778382053025153, 0.861580013504389, 0.5867656988521269, 0.8586666666666667, 0.604], \"name\": 150}, {\"type\": \"bar\", \"x\": [\"rf\", \"rbf\", \"rf\", \"rbf\", \"rf\", \"rbf\"], \"y\": [0.8517110266159695, 0.6137968495382944, 0.8596019365250135, 0.6083916083916084, 0.8690601900739177, 0.6135163674762407], \"name\": 120}, {\"type\": \"bar\", \"x\": [\"rf\", \"rbf\", \"rf\", \"rbf\", \"rf\", \"rbf\"], \"y\": [0.8604933279417711, 0.6085725839061868, 0.8374600638977636, 0.6150159744408946, 0.8568611987381703, 0.6273659305993691], \"name\": 90}, {\"type\": \"bar\", \"x\": [\"rf\", \"rbf\", \"rf\", \"rbf\", \"rf\", \"rbf\"], \"y\": [0.8478669170914945, 0.6359001878186209, 0.8403294367693943, 0.6198193411264612, 0.8433070866141732, 0.6322834645669292], \"name\": 60}], {\"barmode\": \"group\", \"title\": \"sleep\"}, {\"showLink\": true, \"linkText\": \"Export to plot.ly\"})});</script>"
      ]
     },
     "metadata": {},
     "output_type": "display_data"
    },
    {
     "data": {
      "application/vnd.plotly.v1+json": {
       "data": [
        {
         "name": 300,
         "type": "bar",
         "x": [
          "rf",
          "rbf",
          "rf",
          "rbf",
          "rf",
          "rbf"
         ],
         "y": [
          0.9901823281907434,
          0.9733520336605891,
          0.9874651810584958,
          0.9777158774373259,
          0.9863201094391245,
          0.9726402188782489
         ]
        },
        {
         "name": 240,
         "type": "bar",
         "x": [
          "rf",
          "rbf",
          "rf",
          "rbf",
          "rf",
          "rbf"
         ],
         "y": [
          0.9845474613686535,
          0.9823399558498896,
          0.9792122538293216,
          0.973741794310722,
          0.9859611231101512,
          0.9740820734341252
         ]
        },
        {
         "name": 180,
         "type": "bar",
         "x": [
          "rf",
          "rbf",
          "rf",
          "rbf",
          "rf",
          "rbf"
         ],
         "y": [
          0.9876847290640394,
          0.9745484400656814,
          0.9886178861788618,
          0.9723577235772358,
          0.9847389558232932,
          0.980722891566265
         ]
        },
        {
         "name": 150,
         "type": "bar",
         "x": [
          "rf",
          "rbf",
          "rf",
          "rbf",
          "rf",
          "rbf"
         ],
         "y": [
          0.9898028552005439,
          0.9700883752549286,
          0.986495611073599,
          0.9736664415935179,
          0.988,
          0.9726666666666667
         ]
        },
        {
         "name": 120,
         "type": "bar",
         "x": [
          "rf",
          "rbf",
          "rf",
          "rbf",
          "rf",
          "rbf"
         ],
         "y": [
          0.9858772406300923,
          0.9728408473655622,
          0.9822485207100592,
          0.972027972027972,
          0.9841605068637803,
          0.9704329461457233
         ]
        },
        {
         "name": 90,
         "type": "bar",
         "x": [
          "rf",
          "rbf",
          "rf",
          "rbf",
          "rf",
          "rbf"
         ],
         "y": [
          0.9882733522038011,
          0.9757379700768297,
          0.9868210862619808,
          0.9720447284345048,
          0.9822555205047319,
          0.9688485804416404
         ]
        },
        {
         "name": 60,
         "type": "bar",
         "x": [
          "rf",
          "rbf",
          "rf",
          "rbf",
          "rf",
          "rbf"
         ],
         "y": [
          0.9863160719077005,
          0.9771934531795009,
          0.987778958554729,
          0.9752922422954304,
          0.9858267716535433,
          0.9732283464566929
         ]
        }
       ],
       "layout": {
        "barmode": "group",
        "title": "exercise"
       }
      },
      "text/html": [
       "<div id=\"6765b896-dd05-4380-a9a1-d1c229cd2c9d\" style=\"height: 525px; width: 100%;\" class=\"plotly-graph-div\"></div><script type=\"text/javascript\">require([\"plotly\"], function(Plotly) { window.PLOTLYENV=window.PLOTLYENV || {};window.PLOTLYENV.BASE_URL=\"https://plot.ly\";Plotly.newPlot(\"6765b896-dd05-4380-a9a1-d1c229cd2c9d\", [{\"type\": \"bar\", \"x\": [\"rf\", \"rbf\", \"rf\", \"rbf\", \"rf\", \"rbf\"], \"y\": [0.9901823281907434, 0.9733520336605891, 0.9874651810584958, 0.9777158774373259, 0.9863201094391245, 0.9726402188782489], \"name\": 300}, {\"type\": \"bar\", \"x\": [\"rf\", \"rbf\", \"rf\", \"rbf\", \"rf\", \"rbf\"], \"y\": [0.9845474613686535, 0.9823399558498896, 0.9792122538293216, 0.973741794310722, 0.9859611231101512, 0.9740820734341252], \"name\": 240}, {\"type\": \"bar\", \"x\": [\"rf\", \"rbf\", \"rf\", \"rbf\", \"rf\", \"rbf\"], \"y\": [0.9876847290640394, 0.9745484400656814, 0.9886178861788618, 0.9723577235772358, 0.9847389558232932, 0.980722891566265], \"name\": 180}, {\"type\": \"bar\", \"x\": [\"rf\", \"rbf\", \"rf\", \"rbf\", \"rf\", \"rbf\"], \"y\": [0.9898028552005439, 0.9700883752549286, 0.986495611073599, 0.9736664415935179, 0.988, 0.9726666666666667], \"name\": 150}, {\"type\": \"bar\", \"x\": [\"rf\", \"rbf\", \"rf\", \"rbf\", \"rf\", \"rbf\"], \"y\": [0.9858772406300923, 0.9728408473655622, 0.9822485207100592, 0.972027972027972, 0.9841605068637803, 0.9704329461457233], \"name\": 120}, {\"type\": \"bar\", \"x\": [\"rf\", \"rbf\", \"rf\", \"rbf\", \"rf\", \"rbf\"], \"y\": [0.9882733522038011, 0.9757379700768297, 0.9868210862619808, 0.9720447284345048, 0.9822555205047319, 0.9688485804416404], \"name\": 90}, {\"type\": \"bar\", \"x\": [\"rf\", \"rbf\", \"rf\", \"rbf\", \"rf\", \"rbf\"], \"y\": [0.9863160719077005, 0.9771934531795009, 0.987778958554729, 0.9752922422954304, 0.9858267716535433, 0.9732283464566929], \"name\": 60}], {\"barmode\": \"group\", \"title\": \"exercise\"}, {\"showLink\": true, \"linkText\": \"Export to plot.ly\"})});</script>"
      ],
      "text/vnd.plotly.v1+html": [
       "<div id=\"6765b896-dd05-4380-a9a1-d1c229cd2c9d\" style=\"height: 525px; width: 100%;\" class=\"plotly-graph-div\"></div><script type=\"text/javascript\">require([\"plotly\"], function(Plotly) { window.PLOTLYENV=window.PLOTLYENV || {};window.PLOTLYENV.BASE_URL=\"https://plot.ly\";Plotly.newPlot(\"6765b896-dd05-4380-a9a1-d1c229cd2c9d\", [{\"type\": \"bar\", \"x\": [\"rf\", \"rbf\", \"rf\", \"rbf\", \"rf\", \"rbf\"], \"y\": [0.9901823281907434, 0.9733520336605891, 0.9874651810584958, 0.9777158774373259, 0.9863201094391245, 0.9726402188782489], \"name\": 300}, {\"type\": \"bar\", \"x\": [\"rf\", \"rbf\", \"rf\", \"rbf\", \"rf\", \"rbf\"], \"y\": [0.9845474613686535, 0.9823399558498896, 0.9792122538293216, 0.973741794310722, 0.9859611231101512, 0.9740820734341252], \"name\": 240}, {\"type\": \"bar\", \"x\": [\"rf\", \"rbf\", \"rf\", \"rbf\", \"rf\", \"rbf\"], \"y\": [0.9876847290640394, 0.9745484400656814, 0.9886178861788618, 0.9723577235772358, 0.9847389558232932, 0.980722891566265], \"name\": 180}, {\"type\": \"bar\", \"x\": [\"rf\", \"rbf\", \"rf\", \"rbf\", \"rf\", \"rbf\"], \"y\": [0.9898028552005439, 0.9700883752549286, 0.986495611073599, 0.9736664415935179, 0.988, 0.9726666666666667], \"name\": 150}, {\"type\": \"bar\", \"x\": [\"rf\", \"rbf\", \"rf\", \"rbf\", \"rf\", \"rbf\"], \"y\": [0.9858772406300923, 0.9728408473655622, 0.9822485207100592, 0.972027972027972, 0.9841605068637803, 0.9704329461457233], \"name\": 120}, {\"type\": \"bar\", \"x\": [\"rf\", \"rbf\", \"rf\", \"rbf\", \"rf\", \"rbf\"], \"y\": [0.9882733522038011, 0.9757379700768297, 0.9868210862619808, 0.9720447284345048, 0.9822555205047319, 0.9688485804416404], \"name\": 90}, {\"type\": \"bar\", \"x\": [\"rf\", \"rbf\", \"rf\", \"rbf\", \"rf\", \"rbf\"], \"y\": [0.9863160719077005, 0.9771934531795009, 0.987778958554729, 0.9752922422954304, 0.9858267716535433, 0.9732283464566929], \"name\": 60}], {\"barmode\": \"group\", \"title\": \"exercise\"}, {\"showLink\": true, \"linkText\": \"Export to plot.ly\"})});</script>"
      ]
     },
     "metadata": {},
     "output_type": "display_data"
    },
    {
     "data": {
      "application/vnd.plotly.v1+json": {
       "data": [
        {
         "name": 300,
         "type": "bar",
         "x": [
          "rf",
          "rbf",
          "rf",
          "rbf",
          "rf",
          "rbf"
         ],
         "y": [
          0.8976157082748948,
          0.8429172510518934,
          0.903899721448468,
          0.8593314763231198,
          0.8809849521203831,
          0.8358413132694938
         ]
        },
        {
         "name": 240,
         "type": "bar",
         "x": [
          "rf",
          "rbf",
          "rf",
          "rbf",
          "rf",
          "rbf"
         ],
         "y": [
          0.9028697571743929,
          0.8598233995584988,
          0.8938730853391685,
          0.8632385120350109,
          0.8844492440604752,
          0.8509719222462203
         ]
        },
        {
         "name": 180,
         "type": "bar",
         "x": [
          "rf",
          "rbf",
          "rf",
          "rbf",
          "rf",
          "rbf"
         ],
         "y": [
          0.9187192118226601,
          0.8834154351395731,
          0.9056910569105691,
          0.8552845528455284,
          0.8859437751004016,
          0.8345381526104417
         ]
        },
        {
         "name": 150,
         "type": "bar",
         "x": [
          "rf",
          "rbf",
          "rf",
          "rbf",
          "rf",
          "rbf"
         ],
         "y": [
          0.920462270564242,
          0.8769544527532291,
          0.9115462525320729,
          0.8649561107359892,
          0.9033333333333333,
          0.86
         ]
        },
        {
         "name": 120,
         "type": "bar",
         "x": [
          "rf",
          "rbf",
          "rf",
          "rbf",
          "rf",
          "rbf"
         ],
         "y": [
          0.9000543183052688,
          0.8685497012493211,
          0.884884346422808,
          0.8536847767616998,
          0.8896515311510031,
          0.8658922914466737
         ]
        },
        {
         "name": 90,
         "type": "bar",
         "x": [
          "rf",
          "rbf",
          "rf",
          "rbf",
          "rf",
          "rbf"
         ],
         "y": [
          0.9017387788111605,
          0.8645369995956328,
          0.9005591054313099,
          0.8702076677316294,
          0.8876182965299685,
          0.8584384858044164
         ]
        },
        {
         "name": 60,
         "type": "bar",
         "x": [
          "rf",
          "rbf",
          "rf",
          "rbf",
          "rf",
          "rbf"
         ],
         "y": [
          0.8924067614703515,
          0.8628924067614704,
          0.8910733262486716,
          0.8687566418703507,
          0.8860892388451443,
          0.8606299212598425
         ]
        }
       ],
       "layout": {
        "barmode": "group",
        "title": "move"
       }
      },
      "text/html": [
       "<div id=\"3f7628d8-e888-42e3-a616-43ee10c38f09\" style=\"height: 525px; width: 100%;\" class=\"plotly-graph-div\"></div><script type=\"text/javascript\">require([\"plotly\"], function(Plotly) { window.PLOTLYENV=window.PLOTLYENV || {};window.PLOTLYENV.BASE_URL=\"https://plot.ly\";Plotly.newPlot(\"3f7628d8-e888-42e3-a616-43ee10c38f09\", [{\"type\": \"bar\", \"x\": [\"rf\", \"rbf\", \"rf\", \"rbf\", \"rf\", \"rbf\"], \"y\": [0.8976157082748948, 0.8429172510518934, 0.903899721448468, 0.8593314763231198, 0.8809849521203831, 0.8358413132694938], \"name\": 300}, {\"type\": \"bar\", \"x\": [\"rf\", \"rbf\", \"rf\", \"rbf\", \"rf\", \"rbf\"], \"y\": [0.9028697571743929, 0.8598233995584988, 0.8938730853391685, 0.8632385120350109, 0.8844492440604752, 0.8509719222462203], \"name\": 240}, {\"type\": \"bar\", \"x\": [\"rf\", \"rbf\", \"rf\", \"rbf\", \"rf\", \"rbf\"], \"y\": [0.9187192118226601, 0.8834154351395731, 0.9056910569105691, 0.8552845528455284, 0.8859437751004016, 0.8345381526104417], \"name\": 180}, {\"type\": \"bar\", \"x\": [\"rf\", \"rbf\", \"rf\", \"rbf\", \"rf\", \"rbf\"], \"y\": [0.920462270564242, 0.8769544527532291, 0.9115462525320729, 0.8649561107359892, 0.9033333333333333, 0.86], \"name\": 150}, {\"type\": \"bar\", \"x\": [\"rf\", \"rbf\", \"rf\", \"rbf\", \"rf\", \"rbf\"], \"y\": [0.9000543183052688, 0.8685497012493211, 0.884884346422808, 0.8536847767616998, 0.8896515311510031, 0.8658922914466737], \"name\": 120}, {\"type\": \"bar\", \"x\": [\"rf\", \"rbf\", \"rf\", \"rbf\", \"rf\", \"rbf\"], \"y\": [0.9017387788111605, 0.8645369995956328, 0.9005591054313099, 0.8702076677316294, 0.8876182965299685, 0.8584384858044164], \"name\": 90}, {\"type\": \"bar\", \"x\": [\"rf\", \"rbf\", \"rf\", \"rbf\", \"rf\", \"rbf\"], \"y\": [0.8924067614703515, 0.8628924067614704, 0.8910733262486716, 0.8687566418703507, 0.8860892388451443, 0.8606299212598425], \"name\": 60}], {\"barmode\": \"group\", \"title\": \"move\"}, {\"showLink\": true, \"linkText\": \"Export to plot.ly\"})});</script>"
      ],
      "text/vnd.plotly.v1+html": [
       "<div id=\"3f7628d8-e888-42e3-a616-43ee10c38f09\" style=\"height: 525px; width: 100%;\" class=\"plotly-graph-div\"></div><script type=\"text/javascript\">require([\"plotly\"], function(Plotly) { window.PLOTLYENV=window.PLOTLYENV || {};window.PLOTLYENV.BASE_URL=\"https://plot.ly\";Plotly.newPlot(\"3f7628d8-e888-42e3-a616-43ee10c38f09\", [{\"type\": \"bar\", \"x\": [\"rf\", \"rbf\", \"rf\", \"rbf\", \"rf\", \"rbf\"], \"y\": [0.8976157082748948, 0.8429172510518934, 0.903899721448468, 0.8593314763231198, 0.8809849521203831, 0.8358413132694938], \"name\": 300}, {\"type\": \"bar\", \"x\": [\"rf\", \"rbf\", \"rf\", \"rbf\", \"rf\", \"rbf\"], \"y\": [0.9028697571743929, 0.8598233995584988, 0.8938730853391685, 0.8632385120350109, 0.8844492440604752, 0.8509719222462203], \"name\": 240}, {\"type\": \"bar\", \"x\": [\"rf\", \"rbf\", \"rf\", \"rbf\", \"rf\", \"rbf\"], \"y\": [0.9187192118226601, 0.8834154351395731, 0.9056910569105691, 0.8552845528455284, 0.8859437751004016, 0.8345381526104417], \"name\": 180}, {\"type\": \"bar\", \"x\": [\"rf\", \"rbf\", \"rf\", \"rbf\", \"rf\", \"rbf\"], \"y\": [0.920462270564242, 0.8769544527532291, 0.9115462525320729, 0.8649561107359892, 0.9033333333333333, 0.86], \"name\": 150}, {\"type\": \"bar\", \"x\": [\"rf\", \"rbf\", \"rf\", \"rbf\", \"rf\", \"rbf\"], \"y\": [0.9000543183052688, 0.8685497012493211, 0.884884346422808, 0.8536847767616998, 0.8896515311510031, 0.8658922914466737], \"name\": 120}, {\"type\": \"bar\", \"x\": [\"rf\", \"rbf\", \"rf\", \"rbf\", \"rf\", \"rbf\"], \"y\": [0.9017387788111605, 0.8645369995956328, 0.9005591054313099, 0.8702076677316294, 0.8876182965299685, 0.8584384858044164], \"name\": 90}, {\"type\": \"bar\", \"x\": [\"rf\", \"rbf\", \"rf\", \"rbf\", \"rf\", \"rbf\"], \"y\": [0.8924067614703515, 0.8628924067614704, 0.8910733262486716, 0.8687566418703507, 0.8860892388451443, 0.8606299212598425], \"name\": 60}], {\"barmode\": \"group\", \"title\": \"move\"}, {\"showLink\": true, \"linkText\": \"Export to plot.ly\"})});</script>"
      ]
     },
     "metadata": {},
     "output_type": "display_data"
    },
    {
     "data": {
      "application/vnd.plotly.v1+json": {
       "data": [
        {
         "name": 300,
         "type": "bar",
         "x": [
          "rf",
          "rbf",
          "rf",
          "rbf",
          "rf",
          "rbf"
         ],
         "y": [
          0.8274894810659187,
          0.8050490883590463,
          0.8133704735376045,
          0.7938718662952646,
          0.7975376196990424,
          0.7824897400820794
         ]
        },
        {
         "name": 240,
         "type": "bar",
         "x": [
          "rf",
          "rbf",
          "rf",
          "rbf",
          "rf",
          "rbf"
         ],
         "y": [
          0.8057395143487859,
          0.7803532008830022,
          0.8271334792122538,
          0.8074398249452954,
          0.7894168466522679,
          0.7829373650107991
         ]
        },
        {
         "name": 180,
         "type": "bar",
         "x": [
          "rf",
          "rbf",
          "rf",
          "rbf",
          "rf",
          "rbf"
         ],
         "y": [
          0.8054187192118226,
          0.7922824302134647,
          0.7975609756097561,
          0.7764227642276422,
          0.793574297188755,
          0.7823293172690763
         ]
        },
        {
         "name": 150,
         "type": "bar",
         "x": [
          "rf",
          "rbf",
          "rf",
          "rbf",
          "rf",
          "rbf"
         ],
         "y": [
          0.796736913664174,
          0.7763426240652618,
          0.8021607022282242,
          0.7879810938555031,
          0.81,
          0.7926666666666666
         ]
        },
        {
         "name": 120,
         "type": "bar",
         "x": [
          "rf",
          "rbf",
          "rf",
          "rbf",
          "rf",
          "rbf"
         ],
         "y": [
          0.775122216186855,
          0.7838131450298751,
          0.7961269499731038,
          0.7907477138246369,
          0.7819429778247096,
          0.7729672650475184
         ]
        },
        {
         "name": 90,
         "type": "bar",
         "x": [
          "rf",
          "rbf",
          "rf",
          "rbf",
          "rf",
          "rbf"
         ],
         "y": [
          0.7877072381722604,
          0.7695107157298827,
          0.7723642172523961,
          0.7767571884984026,
          0.7898264984227129,
          0.7744479495268138
         ]
        },
        {
         "name": 60,
         "type": "bar",
         "x": [
          "rf",
          "rbf",
          "rf",
          "rbf",
          "rf",
          "rbf"
         ],
         "y": [
          0.7794472766299974,
          0.7805205258921385,
          0.7877258235919234,
          0.7781615302869288,
          0.7779527559055118,
          0.7721784776902887
         ]
        }
       ],
       "layout": {
        "barmode": "group",
        "title": "stress1"
       }
      },
      "text/html": [
       "<div id=\"d3723f10-8981-44d0-ab5c-ffcef71185a2\" style=\"height: 525px; width: 100%;\" class=\"plotly-graph-div\"></div><script type=\"text/javascript\">require([\"plotly\"], function(Plotly) { window.PLOTLYENV=window.PLOTLYENV || {};window.PLOTLYENV.BASE_URL=\"https://plot.ly\";Plotly.newPlot(\"d3723f10-8981-44d0-ab5c-ffcef71185a2\", [{\"type\": \"bar\", \"x\": [\"rf\", \"rbf\", \"rf\", \"rbf\", \"rf\", \"rbf\"], \"y\": [0.8274894810659187, 0.8050490883590463, 0.8133704735376045, 0.7938718662952646, 0.7975376196990424, 0.7824897400820794], \"name\": 300}, {\"type\": \"bar\", \"x\": [\"rf\", \"rbf\", \"rf\", \"rbf\", \"rf\", \"rbf\"], \"y\": [0.8057395143487859, 0.7803532008830022, 0.8271334792122538, 0.8074398249452954, 0.7894168466522679, 0.7829373650107991], \"name\": 240}, {\"type\": \"bar\", \"x\": [\"rf\", \"rbf\", \"rf\", \"rbf\", \"rf\", \"rbf\"], \"y\": [0.8054187192118226, 0.7922824302134647, 0.7975609756097561, 0.7764227642276422, 0.793574297188755, 0.7823293172690763], \"name\": 180}, {\"type\": \"bar\", \"x\": [\"rf\", \"rbf\", \"rf\", \"rbf\", \"rf\", \"rbf\"], \"y\": [0.796736913664174, 0.7763426240652618, 0.8021607022282242, 0.7879810938555031, 0.81, 0.7926666666666666], \"name\": 150}, {\"type\": \"bar\", \"x\": [\"rf\", \"rbf\", \"rf\", \"rbf\", \"rf\", \"rbf\"], \"y\": [0.775122216186855, 0.7838131450298751, 0.7961269499731038, 0.7907477138246369, 0.7819429778247096, 0.7729672650475184], \"name\": 120}, {\"type\": \"bar\", \"x\": [\"rf\", \"rbf\", \"rf\", \"rbf\", \"rf\", \"rbf\"], \"y\": [0.7877072381722604, 0.7695107157298827, 0.7723642172523961, 0.7767571884984026, 0.7898264984227129, 0.7744479495268138], \"name\": 90}, {\"type\": \"bar\", \"x\": [\"rf\", \"rbf\", \"rf\", \"rbf\", \"rf\", \"rbf\"], \"y\": [0.7794472766299974, 0.7805205258921385, 0.7877258235919234, 0.7781615302869288, 0.7779527559055118, 0.7721784776902887], \"name\": 60}], {\"barmode\": \"group\", \"title\": \"stress1\"}, {\"showLink\": true, \"linkText\": \"Export to plot.ly\"})});</script>"
      ],
      "text/vnd.plotly.v1+html": [
       "<div id=\"d3723f10-8981-44d0-ab5c-ffcef71185a2\" style=\"height: 525px; width: 100%;\" class=\"plotly-graph-div\"></div><script type=\"text/javascript\">require([\"plotly\"], function(Plotly) { window.PLOTLYENV=window.PLOTLYENV || {};window.PLOTLYENV.BASE_URL=\"https://plot.ly\";Plotly.newPlot(\"d3723f10-8981-44d0-ab5c-ffcef71185a2\", [{\"type\": \"bar\", \"x\": [\"rf\", \"rbf\", \"rf\", \"rbf\", \"rf\", \"rbf\"], \"y\": [0.8274894810659187, 0.8050490883590463, 0.8133704735376045, 0.7938718662952646, 0.7975376196990424, 0.7824897400820794], \"name\": 300}, {\"type\": \"bar\", \"x\": [\"rf\", \"rbf\", \"rf\", \"rbf\", \"rf\", \"rbf\"], \"y\": [0.8057395143487859, 0.7803532008830022, 0.8271334792122538, 0.8074398249452954, 0.7894168466522679, 0.7829373650107991], \"name\": 240}, {\"type\": \"bar\", \"x\": [\"rf\", \"rbf\", \"rf\", \"rbf\", \"rf\", \"rbf\"], \"y\": [0.8054187192118226, 0.7922824302134647, 0.7975609756097561, 0.7764227642276422, 0.793574297188755, 0.7823293172690763], \"name\": 180}, {\"type\": \"bar\", \"x\": [\"rf\", \"rbf\", \"rf\", \"rbf\", \"rf\", \"rbf\"], \"y\": [0.796736913664174, 0.7763426240652618, 0.8021607022282242, 0.7879810938555031, 0.81, 0.7926666666666666], \"name\": 150}, {\"type\": \"bar\", \"x\": [\"rf\", \"rbf\", \"rf\", \"rbf\", \"rf\", \"rbf\"], \"y\": [0.775122216186855, 0.7838131450298751, 0.7961269499731038, 0.7907477138246369, 0.7819429778247096, 0.7729672650475184], \"name\": 120}, {\"type\": \"bar\", \"x\": [\"rf\", \"rbf\", \"rf\", \"rbf\", \"rf\", \"rbf\"], \"y\": [0.7877072381722604, 0.7695107157298827, 0.7723642172523961, 0.7767571884984026, 0.7898264984227129, 0.7744479495268138], \"name\": 90}, {\"type\": \"bar\", \"x\": [\"rf\", \"rbf\", \"rf\", \"rbf\", \"rf\", \"rbf\"], \"y\": [0.7794472766299974, 0.7805205258921385, 0.7877258235919234, 0.7781615302869288, 0.7779527559055118, 0.7721784776902887], \"name\": 60}], {\"barmode\": \"group\", \"title\": \"stress1\"}, {\"showLink\": true, \"linkText\": \"Export to plot.ly\"})});</script>"
      ]
     },
     "metadata": {},
     "output_type": "display_data"
    },
    {
     "data": {
      "application/vnd.plotly.v1+json": {
       "data": [
        {
         "name": 300,
         "type": "bar",
         "x": [
          "rf",
          "rbf",
          "rf",
          "rbf",
          "rf",
          "rbf"
         ],
         "y": [
          0.8316970546984572,
          0.8050490883590463,
          0.7980501392757661,
          0.7938718662952646,
          0.7920656634746922,
          0.7824897400820794
         ]
        },
        {
         "name": 240,
         "type": "bar",
         "x": [
          "rf",
          "rbf",
          "rf",
          "rbf",
          "rf",
          "rbf"
         ],
         "y": [
          0.8090507726269316,
          0.7803532008830022,
          0.8238512035010941,
          0.8074398249452954,
          0.787257019438445,
          0.7829373650107991
         ]
        },
        {
         "name": 180,
         "type": "bar",
         "x": [
          "rf",
          "rbf",
          "rf",
          "rbf",
          "rf",
          "rbf"
         ],
         "y": [
          0.8045977011494253,
          0.7922824302134647,
          0.8048780487804879,
          0.7764227642276422,
          0.8048192771084337,
          0.7823293172690763
         ]
        },
        {
         "name": 150,
         "type": "bar",
         "x": [
          "rf",
          "rbf",
          "rf",
          "rbf",
          "rf",
          "rbf"
         ],
         "y": [
          0.8001359619306594,
          0.7763426240652618,
          0.8095881161377447,
          0.7879810938555031,
          0.8153333333333334,
          0.7926666666666666
         ]
        },
        {
         "name": 120,
         "type": "bar",
         "x": [
          "rf",
          "rbf",
          "rf",
          "rbf",
          "rf",
          "rbf"
         ],
         "y": [
          0.7887017925040739,
          0.7838131450298751,
          0.8004303388918773,
          0.7907477138246369,
          0.7866948257655755,
          0.7729672650475184
         ]
        },
        {
         "name": 90,
         "type": "bar",
         "x": [
          "rf",
          "rbf",
          "rf",
          "rbf",
          "rf",
          "rbf"
         ],
         "y": [
          0.7905378083299636,
          0.7695107157298827,
          0.7755591054313099,
          0.7767571884984026,
          0.7894321766561514,
          0.7744479495268138
         ]
        },
        {
         "name": 60,
         "type": "bar",
         "x": [
          "rf",
          "rbf",
          "rf",
          "rbf",
          "rf",
          "rbf"
         ],
         "y": [
          0.7802522135766031,
          0.7805205258921385,
          0.786663124335813,
          0.7781615302869288,
          0.7721784776902887,
          0.7721784776902887
         ]
        }
       ],
       "layout": {
        "barmode": "group",
        "title": "stress2"
       }
      },
      "text/html": [
       "<div id=\"06826fee-02b0-4ec3-9d1d-3cc4f08c8a81\" style=\"height: 525px; width: 100%;\" class=\"plotly-graph-div\"></div><script type=\"text/javascript\">require([\"plotly\"], function(Plotly) { window.PLOTLYENV=window.PLOTLYENV || {};window.PLOTLYENV.BASE_URL=\"https://plot.ly\";Plotly.newPlot(\"06826fee-02b0-4ec3-9d1d-3cc4f08c8a81\", [{\"type\": \"bar\", \"x\": [\"rf\", \"rbf\", \"rf\", \"rbf\", \"rf\", \"rbf\"], \"y\": [0.8316970546984572, 0.8050490883590463, 0.7980501392757661, 0.7938718662952646, 0.7920656634746922, 0.7824897400820794], \"name\": 300}, {\"type\": \"bar\", \"x\": [\"rf\", \"rbf\", \"rf\", \"rbf\", \"rf\", \"rbf\"], \"y\": [0.8090507726269316, 0.7803532008830022, 0.8238512035010941, 0.8074398249452954, 0.787257019438445, 0.7829373650107991], \"name\": 240}, {\"type\": \"bar\", \"x\": [\"rf\", \"rbf\", \"rf\", \"rbf\", \"rf\", \"rbf\"], \"y\": [0.8045977011494253, 0.7922824302134647, 0.8048780487804879, 0.7764227642276422, 0.8048192771084337, 0.7823293172690763], \"name\": 180}, {\"type\": \"bar\", \"x\": [\"rf\", \"rbf\", \"rf\", \"rbf\", \"rf\", \"rbf\"], \"y\": [0.8001359619306594, 0.7763426240652618, 0.8095881161377447, 0.7879810938555031, 0.8153333333333334, 0.7926666666666666], \"name\": 150}, {\"type\": \"bar\", \"x\": [\"rf\", \"rbf\", \"rf\", \"rbf\", \"rf\", \"rbf\"], \"y\": [0.7887017925040739, 0.7838131450298751, 0.8004303388918773, 0.7907477138246369, 0.7866948257655755, 0.7729672650475184], \"name\": 120}, {\"type\": \"bar\", \"x\": [\"rf\", \"rbf\", \"rf\", \"rbf\", \"rf\", \"rbf\"], \"y\": [0.7905378083299636, 0.7695107157298827, 0.7755591054313099, 0.7767571884984026, 0.7894321766561514, 0.7744479495268138], \"name\": 90}, {\"type\": \"bar\", \"x\": [\"rf\", \"rbf\", \"rf\", \"rbf\", \"rf\", \"rbf\"], \"y\": [0.7802522135766031, 0.7805205258921385, 0.786663124335813, 0.7781615302869288, 0.7721784776902887, 0.7721784776902887], \"name\": 60}], {\"barmode\": \"group\", \"title\": \"stress2\"}, {\"showLink\": true, \"linkText\": \"Export to plot.ly\"})});</script>"
      ],
      "text/vnd.plotly.v1+html": [
       "<div id=\"06826fee-02b0-4ec3-9d1d-3cc4f08c8a81\" style=\"height: 525px; width: 100%;\" class=\"plotly-graph-div\"></div><script type=\"text/javascript\">require([\"plotly\"], function(Plotly) { window.PLOTLYENV=window.PLOTLYENV || {};window.PLOTLYENV.BASE_URL=\"https://plot.ly\";Plotly.newPlot(\"06826fee-02b0-4ec3-9d1d-3cc4f08c8a81\", [{\"type\": \"bar\", \"x\": [\"rf\", \"rbf\", \"rf\", \"rbf\", \"rf\", \"rbf\"], \"y\": [0.8316970546984572, 0.8050490883590463, 0.7980501392757661, 0.7938718662952646, 0.7920656634746922, 0.7824897400820794], \"name\": 300}, {\"type\": \"bar\", \"x\": [\"rf\", \"rbf\", \"rf\", \"rbf\", \"rf\", \"rbf\"], \"y\": [0.8090507726269316, 0.7803532008830022, 0.8238512035010941, 0.8074398249452954, 0.787257019438445, 0.7829373650107991], \"name\": 240}, {\"type\": \"bar\", \"x\": [\"rf\", \"rbf\", \"rf\", \"rbf\", \"rf\", \"rbf\"], \"y\": [0.8045977011494253, 0.7922824302134647, 0.8048780487804879, 0.7764227642276422, 0.8048192771084337, 0.7823293172690763], \"name\": 180}, {\"type\": \"bar\", \"x\": [\"rf\", \"rbf\", \"rf\", \"rbf\", \"rf\", \"rbf\"], \"y\": [0.8001359619306594, 0.7763426240652618, 0.8095881161377447, 0.7879810938555031, 0.8153333333333334, 0.7926666666666666], \"name\": 150}, {\"type\": \"bar\", \"x\": [\"rf\", \"rbf\", \"rf\", \"rbf\", \"rf\", \"rbf\"], \"y\": [0.7887017925040739, 0.7838131450298751, 0.8004303388918773, 0.7907477138246369, 0.7866948257655755, 0.7729672650475184], \"name\": 120}, {\"type\": \"bar\", \"x\": [\"rf\", \"rbf\", \"rf\", \"rbf\", \"rf\", \"rbf\"], \"y\": [0.7905378083299636, 0.7695107157298827, 0.7755591054313099, 0.7767571884984026, 0.7894321766561514, 0.7744479495268138], \"name\": 90}, {\"type\": \"bar\", \"x\": [\"rf\", \"rbf\", \"rf\", \"rbf\", \"rf\", \"rbf\"], \"y\": [0.7802522135766031, 0.7805205258921385, 0.786663124335813, 0.7781615302869288, 0.7721784776902887, 0.7721784776902887], \"name\": 60}], {\"barmode\": \"group\", \"title\": \"stress2\"}, {\"showLink\": true, \"linkText\": \"Export to plot.ly\"})});</script>"
      ]
     },
     "metadata": {},
     "output_type": "display_data"
    },
    {
     "data": {
      "application/vnd.plotly.v1+json": {
       "data": [
        {
         "name": 300,
         "type": "bar",
         "x": [
          "rf",
          "rbf",
          "rf",
          "rbf",
          "rf",
          "rbf"
         ],
         "y": [
          0.8373071528751753,
          0.8429172510518934,
          0.841225626740947,
          0.8467966573816156,
          0.8344733242134063,
          0.8180574555403557
         ]
        },
        {
         "name": 240,
         "type": "bar",
         "x": [
          "rf",
          "rbf",
          "rf",
          "rbf",
          "rf",
          "rbf"
         ],
         "y": [
          0.826710816777042,
          0.8278145695364238,
          0.8336980306345733,
          0.8315098468271335,
          0.8423326133909287,
          0.8455723542116631
         ]
        },
        {
         "name": 180,
         "type": "bar",
         "x": [
          "rf",
          "rbf",
          "rf",
          "rbf",
          "rf",
          "rbf"
         ],
         "y": [
          0.8218390804597702,
          0.8152709359605911,
          0.8398373983739837,
          0.8373983739837398,
          0.8313253012048193,
          0.8337349397590361
         ]
        },
        {
         "name": 150,
         "type": "bar",
         "x": [
          "rf",
          "rbf",
          "rf",
          "rbf",
          "rf",
          "rbf"
         ],
         "y": [
          0.8416043507817811,
          0.8429639700883752,
          0.8419986495611074,
          0.8399729912221472,
          0.8313333333333334,
          0.8326666666666667
         ]
        },
        {
         "name": 120,
         "type": "bar",
         "x": [
          "rf",
          "rbf",
          "rf",
          "rbf",
          "rf",
          "rbf"
         ],
         "y": [
          0.824008690928843,
          0.8234655078761542,
          0.8251748251748252,
          0.8305540613232921,
          0.8262935586061246,
          0.8305174234424498
         ]
        },
        {
         "name": 90,
         "type": "bar",
         "x": [
          "rf",
          "rbf",
          "rf",
          "rbf",
          "rf",
          "rbf"
         ],
         "y": [
          0.8374443995147594,
          0.8362312980186009,
          0.8158945686900958,
          0.8282747603833865,
          0.8288643533123028,
          0.8339905362776026
         ]
        },
        {
         "name": 60,
         "type": "bar",
         "x": [
          "rf",
          "rbf",
          "rf",
          "rbf",
          "rf",
          "rbf"
         ],
         "y": [
          0.8204990609068956,
          0.8215723101690368,
          0.8310308182784272,
          0.8307651434643996,
          0.8396325459317585,
          0.8380577427821523
         ]
        }
       ],
       "layout": {
        "barmode": "group",
        "title": "relax1"
       }
      },
      "text/html": [
       "<div id=\"ad06a1d9-09b6-4472-ae80-12853276e907\" style=\"height: 525px; width: 100%;\" class=\"plotly-graph-div\"></div><script type=\"text/javascript\">require([\"plotly\"], function(Plotly) { window.PLOTLYENV=window.PLOTLYENV || {};window.PLOTLYENV.BASE_URL=\"https://plot.ly\";Plotly.newPlot(\"ad06a1d9-09b6-4472-ae80-12853276e907\", [{\"type\": \"bar\", \"x\": [\"rf\", \"rbf\", \"rf\", \"rbf\", \"rf\", \"rbf\"], \"y\": [0.8373071528751753, 0.8429172510518934, 0.841225626740947, 0.8467966573816156, 0.8344733242134063, 0.8180574555403557], \"name\": 300}, {\"type\": \"bar\", \"x\": [\"rf\", \"rbf\", \"rf\", \"rbf\", \"rf\", \"rbf\"], \"y\": [0.826710816777042, 0.8278145695364238, 0.8336980306345733, 0.8315098468271335, 0.8423326133909287, 0.8455723542116631], \"name\": 240}, {\"type\": \"bar\", \"x\": [\"rf\", \"rbf\", \"rf\", \"rbf\", \"rf\", \"rbf\"], \"y\": [0.8218390804597702, 0.8152709359605911, 0.8398373983739837, 0.8373983739837398, 0.8313253012048193, 0.8337349397590361], \"name\": 180}, {\"type\": \"bar\", \"x\": [\"rf\", \"rbf\", \"rf\", \"rbf\", \"rf\", \"rbf\"], \"y\": [0.8416043507817811, 0.8429639700883752, 0.8419986495611074, 0.8399729912221472, 0.8313333333333334, 0.8326666666666667], \"name\": 150}, {\"type\": \"bar\", \"x\": [\"rf\", \"rbf\", \"rf\", \"rbf\", \"rf\", \"rbf\"], \"y\": [0.824008690928843, 0.8234655078761542, 0.8251748251748252, 0.8305540613232921, 0.8262935586061246, 0.8305174234424498], \"name\": 120}, {\"type\": \"bar\", \"x\": [\"rf\", \"rbf\", \"rf\", \"rbf\", \"rf\", \"rbf\"], \"y\": [0.8374443995147594, 0.8362312980186009, 0.8158945686900958, 0.8282747603833865, 0.8288643533123028, 0.8339905362776026], \"name\": 90}, {\"type\": \"bar\", \"x\": [\"rf\", \"rbf\", \"rf\", \"rbf\", \"rf\", \"rbf\"], \"y\": [0.8204990609068956, 0.8215723101690368, 0.8310308182784272, 0.8307651434643996, 0.8396325459317585, 0.8380577427821523], \"name\": 60}], {\"barmode\": \"group\", \"title\": \"relax1\"}, {\"showLink\": true, \"linkText\": \"Export to plot.ly\"})});</script>"
      ],
      "text/vnd.plotly.v1+html": [
       "<div id=\"ad06a1d9-09b6-4472-ae80-12853276e907\" style=\"height: 525px; width: 100%;\" class=\"plotly-graph-div\"></div><script type=\"text/javascript\">require([\"plotly\"], function(Plotly) { window.PLOTLYENV=window.PLOTLYENV || {};window.PLOTLYENV.BASE_URL=\"https://plot.ly\";Plotly.newPlot(\"ad06a1d9-09b6-4472-ae80-12853276e907\", [{\"type\": \"bar\", \"x\": [\"rf\", \"rbf\", \"rf\", \"rbf\", \"rf\", \"rbf\"], \"y\": [0.8373071528751753, 0.8429172510518934, 0.841225626740947, 0.8467966573816156, 0.8344733242134063, 0.8180574555403557], \"name\": 300}, {\"type\": \"bar\", \"x\": [\"rf\", \"rbf\", \"rf\", \"rbf\", \"rf\", \"rbf\"], \"y\": [0.826710816777042, 0.8278145695364238, 0.8336980306345733, 0.8315098468271335, 0.8423326133909287, 0.8455723542116631], \"name\": 240}, {\"type\": \"bar\", \"x\": [\"rf\", \"rbf\", \"rf\", \"rbf\", \"rf\", \"rbf\"], \"y\": [0.8218390804597702, 0.8152709359605911, 0.8398373983739837, 0.8373983739837398, 0.8313253012048193, 0.8337349397590361], \"name\": 180}, {\"type\": \"bar\", \"x\": [\"rf\", \"rbf\", \"rf\", \"rbf\", \"rf\", \"rbf\"], \"y\": [0.8416043507817811, 0.8429639700883752, 0.8419986495611074, 0.8399729912221472, 0.8313333333333334, 0.8326666666666667], \"name\": 150}, {\"type\": \"bar\", \"x\": [\"rf\", \"rbf\", \"rf\", \"rbf\", \"rf\", \"rbf\"], \"y\": [0.824008690928843, 0.8234655078761542, 0.8251748251748252, 0.8305540613232921, 0.8262935586061246, 0.8305174234424498], \"name\": 120}, {\"type\": \"bar\", \"x\": [\"rf\", \"rbf\", \"rf\", \"rbf\", \"rf\", \"rbf\"], \"y\": [0.8374443995147594, 0.8362312980186009, 0.8158945686900958, 0.8282747603833865, 0.8288643533123028, 0.8339905362776026], \"name\": 90}, {\"type\": \"bar\", \"x\": [\"rf\", \"rbf\", \"rf\", \"rbf\", \"rf\", \"rbf\"], \"y\": [0.8204990609068956, 0.8215723101690368, 0.8310308182784272, 0.8307651434643996, 0.8396325459317585, 0.8380577427821523], \"name\": 60}], {\"barmode\": \"group\", \"title\": \"relax1\"}, {\"showLink\": true, \"linkText\": \"Export to plot.ly\"})});</script>"
      ]
     },
     "metadata": {},
     "output_type": "display_data"
    },
    {
     "data": {
      "application/vnd.plotly.v1+json": {
       "data": [
        {
         "name": 300,
         "type": "bar",
         "x": [
          "rf",
          "rbf",
          "rf",
          "rbf",
          "rf",
          "rbf"
         ],
         "y": [
          0.8709677419354839,
          0.8779803646563815,
          0.8607242339832869,
          0.8732590529247911,
          0.8481532147742818,
          0.8467852257181943
         ]
        },
        {
         "name": 240,
         "type": "bar",
         "x": [
          "rf",
          "rbf",
          "rf",
          "rbf",
          "rf",
          "rbf"
         ],
         "y": [
          0.8520971302428256,
          0.8543046357615894,
          0.850109409190372,
          0.862144420131291,
          0.8747300215982722,
          0.8801295896328294
         ]
        },
        {
         "name": 180,
         "type": "bar",
         "x": [
          "rf",
          "rbf",
          "rf",
          "rbf",
          "rf",
          "rbf"
         ],
         "y": [
          0.8415435139573071,
          0.8407224958949097,
          0.8829268292682927,
          0.8796747967479674,
          0.8578313253012049,
          0.8650602409638555
         ]
        },
        {
         "name": 150,
         "type": "bar",
         "x": [
          "rf",
          "rbf",
          "rf",
          "rbf",
          "rf",
          "rbf"
         ],
         "y": [
          0.8653976886471788,
          0.868116927260367,
          0.8717083051991897,
          0.8676569885212694,
          0.8653333333333333,
          0.8653333333333333
         ]
        },
        {
         "name": 120,
         "type": "bar",
         "x": [
          "rf",
          "rbf",
          "rf",
          "rbf",
          "rf",
          "rbf"
         ],
         "y": [
          0.8571428571428571,
          0.8571428571428571,
          0.8547606239913932,
          0.8596019365250135,
          0.8637803590285111,
          0.8653643083421331
         ]
        },
        {
         "name": 90,
         "type": "bar",
         "x": [
          "rf",
          "rbf",
          "rf",
          "rbf",
          "rf",
          "rbf"
         ],
         "y": [
          0.8673675697533361,
          0.8693894055802669,
          0.8510383386581469,
          0.8606230031948882,
          0.8651419558359621,
          0.8643533123028391
         ]
        },
        {
         "name": 60,
         "type": "bar",
         "x": [
          "rf",
          "rbf",
          "rf",
          "rbf",
          "rf",
          "rbf"
         ],
         "y": [
          0.8545747249798765,
          0.8553796619264824,
          0.8605207226354942,
          0.8629117959617428,
          0.8708661417322835,
          0.8682414698162729
         ]
        }
       ],
       "layout": {
        "barmode": "group",
        "title": "relax2"
       }
      },
      "text/html": [
       "<div id=\"2449c871-7c35-4e7d-82f1-4c925c96b3fb\" style=\"height: 525px; width: 100%;\" class=\"plotly-graph-div\"></div><script type=\"text/javascript\">require([\"plotly\"], function(Plotly) { window.PLOTLYENV=window.PLOTLYENV || {};window.PLOTLYENV.BASE_URL=\"https://plot.ly\";Plotly.newPlot(\"2449c871-7c35-4e7d-82f1-4c925c96b3fb\", [{\"type\": \"bar\", \"x\": [\"rf\", \"rbf\", \"rf\", \"rbf\", \"rf\", \"rbf\"], \"y\": [0.8709677419354839, 0.8779803646563815, 0.8607242339832869, 0.8732590529247911, 0.8481532147742818, 0.8467852257181943], \"name\": 300}, {\"type\": \"bar\", \"x\": [\"rf\", \"rbf\", \"rf\", \"rbf\", \"rf\", \"rbf\"], \"y\": [0.8520971302428256, 0.8543046357615894, 0.850109409190372, 0.862144420131291, 0.8747300215982722, 0.8801295896328294], \"name\": 240}, {\"type\": \"bar\", \"x\": [\"rf\", \"rbf\", \"rf\", \"rbf\", \"rf\", \"rbf\"], \"y\": [0.8415435139573071, 0.8407224958949097, 0.8829268292682927, 0.8796747967479674, 0.8578313253012049, 0.8650602409638555], \"name\": 180}, {\"type\": \"bar\", \"x\": [\"rf\", \"rbf\", \"rf\", \"rbf\", \"rf\", \"rbf\"], \"y\": [0.8653976886471788, 0.868116927260367, 0.8717083051991897, 0.8676569885212694, 0.8653333333333333, 0.8653333333333333], \"name\": 150}, {\"type\": \"bar\", \"x\": [\"rf\", \"rbf\", \"rf\", \"rbf\", \"rf\", \"rbf\"], \"y\": [0.8571428571428571, 0.8571428571428571, 0.8547606239913932, 0.8596019365250135, 0.8637803590285111, 0.8653643083421331], \"name\": 120}, {\"type\": \"bar\", \"x\": [\"rf\", \"rbf\", \"rf\", \"rbf\", \"rf\", \"rbf\"], \"y\": [0.8673675697533361, 0.8693894055802669, 0.8510383386581469, 0.8606230031948882, 0.8651419558359621, 0.8643533123028391], \"name\": 90}, {\"type\": \"bar\", \"x\": [\"rf\", \"rbf\", \"rf\", \"rbf\", \"rf\", \"rbf\"], \"y\": [0.8545747249798765, 0.8553796619264824, 0.8605207226354942, 0.8629117959617428, 0.8708661417322835, 0.8682414698162729], \"name\": 60}], {\"barmode\": \"group\", \"title\": \"relax2\"}, {\"showLink\": true, \"linkText\": \"Export to plot.ly\"})});</script>"
      ],
      "text/vnd.plotly.v1+html": [
       "<div id=\"2449c871-7c35-4e7d-82f1-4c925c96b3fb\" style=\"height: 525px; width: 100%;\" class=\"plotly-graph-div\"></div><script type=\"text/javascript\">require([\"plotly\"], function(Plotly) { window.PLOTLYENV=window.PLOTLYENV || {};window.PLOTLYENV.BASE_URL=\"https://plot.ly\";Plotly.newPlot(\"2449c871-7c35-4e7d-82f1-4c925c96b3fb\", [{\"type\": \"bar\", \"x\": [\"rf\", \"rbf\", \"rf\", \"rbf\", \"rf\", \"rbf\"], \"y\": [0.8709677419354839, 0.8779803646563815, 0.8607242339832869, 0.8732590529247911, 0.8481532147742818, 0.8467852257181943], \"name\": 300}, {\"type\": \"bar\", \"x\": [\"rf\", \"rbf\", \"rf\", \"rbf\", \"rf\", \"rbf\"], \"y\": [0.8520971302428256, 0.8543046357615894, 0.850109409190372, 0.862144420131291, 0.8747300215982722, 0.8801295896328294], \"name\": 240}, {\"type\": \"bar\", \"x\": [\"rf\", \"rbf\", \"rf\", \"rbf\", \"rf\", \"rbf\"], \"y\": [0.8415435139573071, 0.8407224958949097, 0.8829268292682927, 0.8796747967479674, 0.8578313253012049, 0.8650602409638555], \"name\": 180}, {\"type\": \"bar\", \"x\": [\"rf\", \"rbf\", \"rf\", \"rbf\", \"rf\", \"rbf\"], \"y\": [0.8653976886471788, 0.868116927260367, 0.8717083051991897, 0.8676569885212694, 0.8653333333333333, 0.8653333333333333], \"name\": 150}, {\"type\": \"bar\", \"x\": [\"rf\", \"rbf\", \"rf\", \"rbf\", \"rf\", \"rbf\"], \"y\": [0.8571428571428571, 0.8571428571428571, 0.8547606239913932, 0.8596019365250135, 0.8637803590285111, 0.8653643083421331], \"name\": 120}, {\"type\": \"bar\", \"x\": [\"rf\", \"rbf\", \"rf\", \"rbf\", \"rf\", \"rbf\"], \"y\": [0.8673675697533361, 0.8693894055802669, 0.8510383386581469, 0.8606230031948882, 0.8651419558359621, 0.8643533123028391], \"name\": 90}, {\"type\": \"bar\", \"x\": [\"rf\", \"rbf\", \"rf\", \"rbf\", \"rf\", \"rbf\"], \"y\": [0.8545747249798765, 0.8553796619264824, 0.8605207226354942, 0.8629117959617428, 0.8708661417322835, 0.8682414698162729], \"name\": 60}], {\"barmode\": \"group\", \"title\": \"relax2\"}, {\"showLink\": true, \"linkText\": \"Export to plot.ly\"})});</script>"
      ]
     },
     "metadata": {},
     "output_type": "display_data"
    },
    {
     "data": {
      "application/vnd.plotly.v1+json": {
       "data": [
        {
         "name": 300,
         "type": "bar",
         "x": [
          "rf",
          "rbf",
          "rf",
          "rbf",
          "rf",
          "rbf"
         ],
         "y": [
          0.8316970546984572,
          0.8078541374474053,
          0.8119777158774373,
          0.7883008356545961,
          0.7770177838577291,
          0.7674418604651163
         ]
        },
        {
         "name": 240,
         "type": "bar",
         "x": [
          "rf",
          "rbf",
          "rf",
          "rbf",
          "rf",
          "rbf"
         ],
         "y": [
          0.8189845474613686,
          0.7880794701986755,
          0.8172866520787746,
          0.7943107221006565,
          0.7926565874730022,
          0.7591792656587473
         ]
        },
        {
         "name": 180,
         "type": "bar",
         "x": [
          "rf",
          "rbf",
          "rf",
          "rbf",
          "rf",
          "rbf"
         ],
         "y": [
          0.8070607553366174,
          0.784072249589491,
          0.8056910569105691,
          0.7764227642276422,
          0.8112449799196787,
          0.7670682730923695
         ]
        },
        {
         "name": 150,
         "type": "bar",
         "x": [
          "rf",
          "rbf",
          "rf",
          "rbf",
          "rf",
          "rbf"
         ],
         "y": [
          0.8130523453433038,
          0.7824609109449354,
          0.8075624577987845,
          0.7792032410533424,
          0.8086666666666666,
          0.78
         ]
        },
        {
         "name": 120,
         "type": "bar",
         "x": [
          "rf",
          "rbf",
          "rf",
          "rbf",
          "rf",
          "rbf"
         ],
         "y": [
          0.795219989136339,
          0.77729494839761,
          0.8058095750403442,
          0.7810650887573964,
          0.7882787750791974,
          0.776663146779303
         ]
        },
        {
         "name": 90,
         "type": "bar",
         "x": [
          "rf",
          "rbf",
          "rf",
          "rbf",
          "rf",
          "rbf"
         ],
         "y": [
          0.7929640113222807,
          0.7751718560452892,
          0.7835463258785943,
          0.768370607028754,
          0.7839116719242902,
          0.7685331230283912
         ]
        },
        {
         "name": 60,
         "type": "bar",
         "x": [
          "rf",
          "rbf",
          "rf",
          "rbf",
          "rf",
          "rbf"
         ],
         "y": [
          0.7880332707271264,
          0.7775690904212503,
          0.7895855472901169,
          0.769394261424017,
          0.7850393700787401,
          0.7750656167979003
         ]
        }
       ],
       "layout": {
        "barmode": "group",
        "title": "active"
       }
      },
      "text/html": [
       "<div id=\"3ce9a6eb-75be-40fa-8846-a6917e3b077f\" style=\"height: 525px; width: 100%;\" class=\"plotly-graph-div\"></div><script type=\"text/javascript\">require([\"plotly\"], function(Plotly) { window.PLOTLYENV=window.PLOTLYENV || {};window.PLOTLYENV.BASE_URL=\"https://plot.ly\";Plotly.newPlot(\"3ce9a6eb-75be-40fa-8846-a6917e3b077f\", [{\"type\": \"bar\", \"x\": [\"rf\", \"rbf\", \"rf\", \"rbf\", \"rf\", \"rbf\"], \"y\": [0.8316970546984572, 0.8078541374474053, 0.8119777158774373, 0.7883008356545961, 0.7770177838577291, 0.7674418604651163], \"name\": 300}, {\"type\": \"bar\", \"x\": [\"rf\", \"rbf\", \"rf\", \"rbf\", \"rf\", \"rbf\"], \"y\": [0.8189845474613686, 0.7880794701986755, 0.8172866520787746, 0.7943107221006565, 0.7926565874730022, 0.7591792656587473], \"name\": 240}, {\"type\": \"bar\", \"x\": [\"rf\", \"rbf\", \"rf\", \"rbf\", \"rf\", \"rbf\"], \"y\": [0.8070607553366174, 0.784072249589491, 0.8056910569105691, 0.7764227642276422, 0.8112449799196787, 0.7670682730923695], \"name\": 180}, {\"type\": \"bar\", \"x\": [\"rf\", \"rbf\", \"rf\", \"rbf\", \"rf\", \"rbf\"], \"y\": [0.8130523453433038, 0.7824609109449354, 0.8075624577987845, 0.7792032410533424, 0.8086666666666666, 0.78], \"name\": 150}, {\"type\": \"bar\", \"x\": [\"rf\", \"rbf\", \"rf\", \"rbf\", \"rf\", \"rbf\"], \"y\": [0.795219989136339, 0.77729494839761, 0.8058095750403442, 0.7810650887573964, 0.7882787750791974, 0.776663146779303], \"name\": 120}, {\"type\": \"bar\", \"x\": [\"rf\", \"rbf\", \"rf\", \"rbf\", \"rf\", \"rbf\"], \"y\": [0.7929640113222807, 0.7751718560452892, 0.7835463258785943, 0.768370607028754, 0.7839116719242902, 0.7685331230283912], \"name\": 90}, {\"type\": \"bar\", \"x\": [\"rf\", \"rbf\", \"rf\", \"rbf\", \"rf\", \"rbf\"], \"y\": [0.7880332707271264, 0.7775690904212503, 0.7895855472901169, 0.769394261424017, 0.7850393700787401, 0.7750656167979003], \"name\": 60}], {\"barmode\": \"group\", \"title\": \"active\"}, {\"showLink\": true, \"linkText\": \"Export to plot.ly\"})});</script>"
      ],
      "text/vnd.plotly.v1+html": [
       "<div id=\"3ce9a6eb-75be-40fa-8846-a6917e3b077f\" style=\"height: 525px; width: 100%;\" class=\"plotly-graph-div\"></div><script type=\"text/javascript\">require([\"plotly\"], function(Plotly) { window.PLOTLYENV=window.PLOTLYENV || {};window.PLOTLYENV.BASE_URL=\"https://plot.ly\";Plotly.newPlot(\"3ce9a6eb-75be-40fa-8846-a6917e3b077f\", [{\"type\": \"bar\", \"x\": [\"rf\", \"rbf\", \"rf\", \"rbf\", \"rf\", \"rbf\"], \"y\": [0.8316970546984572, 0.8078541374474053, 0.8119777158774373, 0.7883008356545961, 0.7770177838577291, 0.7674418604651163], \"name\": 300}, {\"type\": \"bar\", \"x\": [\"rf\", \"rbf\", \"rf\", \"rbf\", \"rf\", \"rbf\"], \"y\": [0.8189845474613686, 0.7880794701986755, 0.8172866520787746, 0.7943107221006565, 0.7926565874730022, 0.7591792656587473], \"name\": 240}, {\"type\": \"bar\", \"x\": [\"rf\", \"rbf\", \"rf\", \"rbf\", \"rf\", \"rbf\"], \"y\": [0.8070607553366174, 0.784072249589491, 0.8056910569105691, 0.7764227642276422, 0.8112449799196787, 0.7670682730923695], \"name\": 180}, {\"type\": \"bar\", \"x\": [\"rf\", \"rbf\", \"rf\", \"rbf\", \"rf\", \"rbf\"], \"y\": [0.8130523453433038, 0.7824609109449354, 0.8075624577987845, 0.7792032410533424, 0.8086666666666666, 0.78], \"name\": 150}, {\"type\": \"bar\", \"x\": [\"rf\", \"rbf\", \"rf\", \"rbf\", \"rf\", \"rbf\"], \"y\": [0.795219989136339, 0.77729494839761, 0.8058095750403442, 0.7810650887573964, 0.7882787750791974, 0.776663146779303], \"name\": 120}, {\"type\": \"bar\", \"x\": [\"rf\", \"rbf\", \"rf\", \"rbf\", \"rf\", \"rbf\"], \"y\": [0.7929640113222807, 0.7751718560452892, 0.7835463258785943, 0.768370607028754, 0.7839116719242902, 0.7685331230283912], \"name\": 90}, {\"type\": \"bar\", \"x\": [\"rf\", \"rbf\", \"rf\", \"rbf\", \"rf\", \"rbf\"], \"y\": [0.7880332707271264, 0.7775690904212503, 0.7895855472901169, 0.769394261424017, 0.7850393700787401, 0.7750656167979003], \"name\": 60}], {\"barmode\": \"group\", \"title\": \"active\"}, {\"showLink\": true, \"linkText\": \"Export to plot.ly\"})});</script>"
      ]
     },
     "metadata": {},
     "output_type": "display_data"
    },
    {
     "data": {
      "application/vnd.plotly.v1+json": {
       "data": [
        {
         "name": 300,
         "type": "bar",
         "x": [
          "rf",
          "rbf",
          "rf",
          "rbf",
          "rf",
          "rbf"
         ],
         "y": [
          0.8316970546984572,
          0.8162692847124825,
          0.8217270194986073,
          0.83008356545961,
          0.8084815321477428,
          0.8098495212038304
         ]
        },
        {
         "name": 240,
         "type": "bar",
         "x": [
          "rf",
          "rbf",
          "rf",
          "rbf",
          "rf",
          "rbf"
         ],
         "y": [
          0.8057395143487859,
          0.8079470198675497,
          0.8008752735229759,
          0.8183807439824945,
          0.8196544276457883,
          0.8315334773218143
         ]
        },
        {
         "name": 180,
         "type": "bar",
         "x": [
          "rf",
          "rbf",
          "rf",
          "rbf",
          "rf",
          "rbf"
         ],
         "y": [
          0.7963875205254516,
          0.7947454844006568,
          0.8317073170731707,
          0.8170731707317073,
          0.8048192771084337,
          0.8168674698795181
         ]
        },
        {
         "name": 150,
         "type": "bar",
         "x": [
          "rf",
          "rbf",
          "rf",
          "rbf",
          "rf",
          "rbf"
         ],
         "y": [
          0.8021753908905507,
          0.8116927260367097,
          0.8116137744767049,
          0.8210668467251857,
          0.8,
          0.8153333333333334
         ]
        },
        {
         "name": 120,
         "type": "bar",
         "x": [
          "rf",
          "rbf",
          "rf",
          "rbf",
          "rf",
          "rbf"
         ],
         "y": [
          0.7968495382944052,
          0.7984790874524715,
          0.8095750403442711,
          0.8084991931145777,
          0.7961985216473073,
          0.8025343189017952
         ]
        },
        {
         "name": 90,
         "type": "bar",
         "x": [
          "rf",
          "rbf",
          "rf",
          "rbf",
          "rf",
          "rbf"
         ],
         "y": [
          0.8014557217953903,
          0.8034775576223211,
          0.8075079872204473,
          0.8067092651757188,
          0.8040220820189274,
          0.8071766561514195
         ]
        },
        {
         "name": 60,
         "type": "bar",
         "x": [
          "rf",
          "rbf",
          "rf",
          "rbf",
          "rf",
          "rbf"
         ],
         "y": [
          0.7944727662999732,
          0.8009122618728199,
          0.8063230605738576,
          0.8084484590860787,
          0.8,
          0.8036745406824147
         ]
        }
       ],
       "layout": {
        "barmode": "group",
        "title": "passive"
       }
      },
      "text/html": [
       "<div id=\"517898d3-d4ae-45e3-9d64-662b6e1f0824\" style=\"height: 525px; width: 100%;\" class=\"plotly-graph-div\"></div><script type=\"text/javascript\">require([\"plotly\"], function(Plotly) { window.PLOTLYENV=window.PLOTLYENV || {};window.PLOTLYENV.BASE_URL=\"https://plot.ly\";Plotly.newPlot(\"517898d3-d4ae-45e3-9d64-662b6e1f0824\", [{\"type\": \"bar\", \"x\": [\"rf\", \"rbf\", \"rf\", \"rbf\", \"rf\", \"rbf\"], \"y\": [0.8316970546984572, 0.8162692847124825, 0.8217270194986073, 0.83008356545961, 0.8084815321477428, 0.8098495212038304], \"name\": 300}, {\"type\": \"bar\", \"x\": [\"rf\", \"rbf\", \"rf\", \"rbf\", \"rf\", \"rbf\"], \"y\": [0.8057395143487859, 0.8079470198675497, 0.8008752735229759, 0.8183807439824945, 0.8196544276457883, 0.8315334773218143], \"name\": 240}, {\"type\": \"bar\", \"x\": [\"rf\", \"rbf\", \"rf\", \"rbf\", \"rf\", \"rbf\"], \"y\": [0.7963875205254516, 0.7947454844006568, 0.8317073170731707, 0.8170731707317073, 0.8048192771084337, 0.8168674698795181], \"name\": 180}, {\"type\": \"bar\", \"x\": [\"rf\", \"rbf\", \"rf\", \"rbf\", \"rf\", \"rbf\"], \"y\": [0.8021753908905507, 0.8116927260367097, 0.8116137744767049, 0.8210668467251857, 0.8, 0.8153333333333334], \"name\": 150}, {\"type\": \"bar\", \"x\": [\"rf\", \"rbf\", \"rf\", \"rbf\", \"rf\", \"rbf\"], \"y\": [0.7968495382944052, 0.7984790874524715, 0.8095750403442711, 0.8084991931145777, 0.7961985216473073, 0.8025343189017952], \"name\": 120}, {\"type\": \"bar\", \"x\": [\"rf\", \"rbf\", \"rf\", \"rbf\", \"rf\", \"rbf\"], \"y\": [0.8014557217953903, 0.8034775576223211, 0.8075079872204473, 0.8067092651757188, 0.8040220820189274, 0.8071766561514195], \"name\": 90}, {\"type\": \"bar\", \"x\": [\"rf\", \"rbf\", \"rf\", \"rbf\", \"rf\", \"rbf\"], \"y\": [0.7944727662999732, 0.8009122618728199, 0.8063230605738576, 0.8084484590860787, 0.8, 0.8036745406824147], \"name\": 60}], {\"barmode\": \"group\", \"title\": \"passive\"}, {\"showLink\": true, \"linkText\": \"Export to plot.ly\"})});</script>"
      ],
      "text/vnd.plotly.v1+html": [
       "<div id=\"517898d3-d4ae-45e3-9d64-662b6e1f0824\" style=\"height: 525px; width: 100%;\" class=\"plotly-graph-div\"></div><script type=\"text/javascript\">require([\"plotly\"], function(Plotly) { window.PLOTLYENV=window.PLOTLYENV || {};window.PLOTLYENV.BASE_URL=\"https://plot.ly\";Plotly.newPlot(\"517898d3-d4ae-45e3-9d64-662b6e1f0824\", [{\"type\": \"bar\", \"x\": [\"rf\", \"rbf\", \"rf\", \"rbf\", \"rf\", \"rbf\"], \"y\": [0.8316970546984572, 0.8162692847124825, 0.8217270194986073, 0.83008356545961, 0.8084815321477428, 0.8098495212038304], \"name\": 300}, {\"type\": \"bar\", \"x\": [\"rf\", \"rbf\", \"rf\", \"rbf\", \"rf\", \"rbf\"], \"y\": [0.8057395143487859, 0.8079470198675497, 0.8008752735229759, 0.8183807439824945, 0.8196544276457883, 0.8315334773218143], \"name\": 240}, {\"type\": \"bar\", \"x\": [\"rf\", \"rbf\", \"rf\", \"rbf\", \"rf\", \"rbf\"], \"y\": [0.7963875205254516, 0.7947454844006568, 0.8317073170731707, 0.8170731707317073, 0.8048192771084337, 0.8168674698795181], \"name\": 180}, {\"type\": \"bar\", \"x\": [\"rf\", \"rbf\", \"rf\", \"rbf\", \"rf\", \"rbf\"], \"y\": [0.8021753908905507, 0.8116927260367097, 0.8116137744767049, 0.8210668467251857, 0.8, 0.8153333333333334], \"name\": 150}, {\"type\": \"bar\", \"x\": [\"rf\", \"rbf\", \"rf\", \"rbf\", \"rf\", \"rbf\"], \"y\": [0.7968495382944052, 0.7984790874524715, 0.8095750403442711, 0.8084991931145777, 0.7961985216473073, 0.8025343189017952], \"name\": 120}, {\"type\": \"bar\", \"x\": [\"rf\", \"rbf\", \"rf\", \"rbf\", \"rf\", \"rbf\"], \"y\": [0.8014557217953903, 0.8034775576223211, 0.8075079872204473, 0.8067092651757188, 0.8040220820189274, 0.8071766561514195], \"name\": 90}, {\"type\": \"bar\", \"x\": [\"rf\", \"rbf\", \"rf\", \"rbf\", \"rf\", \"rbf\"], \"y\": [0.7944727662999732, 0.8009122618728199, 0.8063230605738576, 0.8084484590860787, 0.8, 0.8036745406824147], \"name\": 60}], {\"barmode\": \"group\", \"title\": \"passive\"}, {\"showLink\": true, \"linkText\": \"Export to plot.ly\"})});</script>"
      ]
     },
     "metadata": {},
     "output_type": "display_data"
    }
   ],
   "source": [
    "dv.bargroup(df, 'label', 'duration', 'classifier', 'score')"
   ]
  },
  {
   "cell_type": "code",
   "execution_count": 15,
   "metadata": {},
   "outputs": [
    {
     "data": {
      "text/plain": [
       "(0.22222222222222221, 0.33333333333333331, 0.26666666666666666, None)"
      ]
     },
     "execution_count": 15,
     "metadata": {},
     "output_type": "execute_result"
    }
   ],
   "source": []
  }
 ],
 "metadata": {
  "kernelspec": {
   "display_name": "Python 3",
   "language": "python",
   "name": "python3"
  },
  "language_info": {
   "codemirror_mode": {
    "name": "ipython",
    "version": 3
   },
   "file_extension": ".py",
   "mimetype": "text/x-python",
   "name": "python",
   "nbconvert_exporter": "python",
   "pygments_lexer": "ipython3",
   "version": "3.6.3"
  }
 },
 "nbformat": 4,
 "nbformat_minor": 2
}
