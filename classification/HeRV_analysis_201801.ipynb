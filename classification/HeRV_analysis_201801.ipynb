{
 "cells": [
  {
   "cell_type": "code",
   "execution_count": 1,
   "metadata": {
    "collapsed": true
   },
   "outputs": [],
   "source": [
    "%load_ext autoreload\n",
    "%autoreload 2\n",
    "%matplotlib inline  \n",
    "\n",
    "import pandas as pd\n",
    "import numpy as np\n",
    "import matplotlib.pyplot as plt\n",
    "\n",
    "from sklearn import svm\n",
    "from sklearn.ensemble import RandomForestClassifier\n",
    "from sklearn.preprocessing import scale\n",
    "from sklearn.model_selection import StratifiedShuffleSplit, GridSearchCV, train_test_split\n",
    "\n",
    "import hervpd as hp\n",
    "import plotReport as pr"
   ]
  },
  {
   "cell_type": "markdown",
   "metadata": {},
   "source": [
    "## 1. Data description"
   ]
  },
  {
   "cell_type": "code",
   "execution_count": 2,
   "metadata": {},
   "outputs": [
    {
     "data": {
      "text/html": [
       "<div>\n",
       "<style>\n",
       "    .dataframe thead tr:only-child th {\n",
       "        text-align: right;\n",
       "    }\n",
       "\n",
       "    .dataframe thead th {\n",
       "        text-align: left;\n",
       "    }\n",
       "\n",
       "    .dataframe tbody tr th {\n",
       "        vertical-align: top;\n",
       "    }\n",
       "</style>\n",
       "<table border=\"1\" class=\"dataframe\">\n",
       "  <thead>\n",
       "    <tr style=\"text-align: right;\">\n",
       "      <th></th>\n",
       "      <th>hf</th>\n",
       "      <th>hfnu</th>\n",
       "      <th>lf</th>\n",
       "      <th>lf_hf</th>\n",
       "      <th>lfnu</th>\n",
       "      <th>mhr</th>\n",
       "      <th>mrri</th>\n",
       "      <th>nn50</th>\n",
       "      <th>order</th>\n",
       "      <th>pnn50</th>\n",
       "      <th>rmssd</th>\n",
       "      <th>sdnn</th>\n",
       "      <th>sess</th>\n",
       "      <th>total_power</th>\n",
       "      <th>user</th>\n",
       "      <th>vlf</th>\n",
       "    </tr>\n",
       "  </thead>\n",
       "  <tbody>\n",
       "    <tr>\n",
       "      <th>count</th>\n",
       "      <td>2.694000e+03</td>\n",
       "      <td>2694.000000</td>\n",
       "      <td>2.694000e+03</td>\n",
       "      <td>2694.000000</td>\n",
       "      <td>2694.000000</td>\n",
       "      <td>2694.000000</td>\n",
       "      <td>2694.000000</td>\n",
       "      <td>2694.000000</td>\n",
       "      <td>2694.000000</td>\n",
       "      <td>2694.000000</td>\n",
       "      <td>2694.000000</td>\n",
       "      <td>2694.000000</td>\n",
       "      <td>2694.000000</td>\n",
       "      <td>2.694000e+03</td>\n",
       "      <td>2694.000000</td>\n",
       "      <td>2.694000e+03</td>\n",
       "    </tr>\n",
       "    <tr>\n",
       "      <th>mean</th>\n",
       "      <td>2.387300e+04</td>\n",
       "      <td>45.815472</td>\n",
       "      <td>4.127698e+05</td>\n",
       "      <td>2.465940</td>\n",
       "      <td>54.184528</td>\n",
       "      <td>78.661621</td>\n",
       "      <td>819.019148</td>\n",
       "      <td>89.473645</td>\n",
       "      <td>18.990720</td>\n",
       "      <td>25.773847</td>\n",
       "      <td>112.382566</td>\n",
       "      <td>114.926574</td>\n",
       "      <td>162.705642</td>\n",
       "      <td>1.475527e+06</td>\n",
       "      <td>1.624722</td>\n",
       "      <td>1.038884e+06</td>\n",
       "    </tr>\n",
       "    <tr>\n",
       "      <th>std</th>\n",
       "      <td>1.821238e+05</td>\n",
       "      <td>23.079335</td>\n",
       "      <td>8.977828e+06</td>\n",
       "      <td>4.822733</td>\n",
       "      <td>23.079335</td>\n",
       "      <td>18.109035</td>\n",
       "      <td>173.770072</td>\n",
       "      <td>71.387172</td>\n",
       "      <td>24.864286</td>\n",
       "      <td>22.689257</td>\n",
       "      <td>169.919067</td>\n",
       "      <td>122.765916</td>\n",
       "      <td>117.628292</td>\n",
       "      <td>4.585638e+07</td>\n",
       "      <td>2.009594</td>\n",
       "      <td>3.707927e+07</td>\n",
       "    </tr>\n",
       "    <tr>\n",
       "      <th>min</th>\n",
       "      <td>5.751146e-01</td>\n",
       "      <td>1.419545</td>\n",
       "      <td>2.567078e+00</td>\n",
       "      <td>0.027289</td>\n",
       "      <td>2.656368</td>\n",
       "      <td>47.596407</td>\n",
       "      <td>334.157205</td>\n",
       "      <td>0.000000</td>\n",
       "      <td>0.000000</td>\n",
       "      <td>0.000000</td>\n",
       "      <td>3.369205</td>\n",
       "      <td>13.625541</td>\n",
       "      <td>0.000000</td>\n",
       "      <td>3.390064e+01</td>\n",
       "      <td>0.000000</td>\n",
       "      <td>2.559104e+01</td>\n",
       "    </tr>\n",
       "    <tr>\n",
       "      <th>25%</th>\n",
       "      <td>3.727382e+02</td>\n",
       "      <td>26.437869</td>\n",
       "      <td>5.863960e+02</td>\n",
       "      <td>0.563744</td>\n",
       "      <td>36.050930</td>\n",
       "      <td>66.002474</td>\n",
       "      <td>703.884813</td>\n",
       "      <td>30.000000</td>\n",
       "      <td>2.000000</td>\n",
       "      <td>7.290387</td>\n",
       "      <td>33.034351</td>\n",
       "      <td>53.887830</td>\n",
       "      <td>63.000000</td>\n",
       "      <td>1.761790e+03</td>\n",
       "      <td>0.000000</td>\n",
       "      <td>5.059374e+02</td>\n",
       "    </tr>\n",
       "    <tr>\n",
       "      <th>50%</th>\n",
       "      <td>9.172297e+02</td>\n",
       "      <td>43.726407</td>\n",
       "      <td>1.280138e+03</td>\n",
       "      <td>1.286951</td>\n",
       "      <td>56.273593</td>\n",
       "      <td>77.199486</td>\n",
       "      <td>793.543971</td>\n",
       "      <td>72.000000</td>\n",
       "      <td>7.000000</td>\n",
       "      <td>18.870437</td>\n",
       "      <td>53.744197</td>\n",
       "      <td>77.456919</td>\n",
       "      <td>135.000000</td>\n",
       "      <td>3.576149e+03</td>\n",
       "      <td>1.000000</td>\n",
       "      <td>1.088380e+03</td>\n",
       "    </tr>\n",
       "    <tr>\n",
       "      <th>75%</th>\n",
       "      <td>4.668043e+03</td>\n",
       "      <td>63.949070</td>\n",
       "      <td>3.023524e+03</td>\n",
       "      <td>2.782454</td>\n",
       "      <td>73.562131</td>\n",
       "      <td>87.023533</td>\n",
       "      <td>933.362043</td>\n",
       "      <td>136.000000</td>\n",
       "      <td>29.000000</td>\n",
       "      <td>39.789854</td>\n",
       "      <td>131.090808</td>\n",
       "      <td>138.225573</td>\n",
       "      <td>295.000000</td>\n",
       "      <td>1.190274e+04</td>\n",
       "      <td>2.000000</td>\n",
       "      <td>2.524048e+03</td>\n",
       "    </tr>\n",
       "    <tr>\n",
       "      <th>max</th>\n",
       "      <td>6.139868e+06</td>\n",
       "      <td>97.343632</td>\n",
       "      <td>4.263838e+08</td>\n",
       "      <td>69.445109</td>\n",
       "      <td>98.580455</td>\n",
       "      <td>180.176325</td>\n",
       "      <td>1269.037344</td>\n",
       "      <td>354.000000</td>\n",
       "      <td>113.000000</td>\n",
       "      <td>91.726619</td>\n",
       "      <td>2239.263240</td>\n",
       "      <td>1776.464653</td>\n",
       "      <td>350.000000</td>\n",
       "      <td>2.338062e+09</td>\n",
       "      <td>6.000000</td>\n",
       "      <td>1.905538e+09</td>\n",
       "    </tr>\n",
       "  </tbody>\n",
       "</table>\n",
       "</div>"
      ],
      "text/plain": [
       "                 hf         hfnu            lf        lf_hf         lfnu  \\\n",
       "count  2.694000e+03  2694.000000  2.694000e+03  2694.000000  2694.000000   \n",
       "mean   2.387300e+04    45.815472  4.127698e+05     2.465940    54.184528   \n",
       "std    1.821238e+05    23.079335  8.977828e+06     4.822733    23.079335   \n",
       "min    5.751146e-01     1.419545  2.567078e+00     0.027289     2.656368   \n",
       "25%    3.727382e+02    26.437869  5.863960e+02     0.563744    36.050930   \n",
       "50%    9.172297e+02    43.726407  1.280138e+03     1.286951    56.273593   \n",
       "75%    4.668043e+03    63.949070  3.023524e+03     2.782454    73.562131   \n",
       "max    6.139868e+06    97.343632  4.263838e+08    69.445109    98.580455   \n",
       "\n",
       "               mhr         mrri         nn50        order        pnn50  \\\n",
       "count  2694.000000  2694.000000  2694.000000  2694.000000  2694.000000   \n",
       "mean     78.661621   819.019148    89.473645    18.990720    25.773847   \n",
       "std      18.109035   173.770072    71.387172    24.864286    22.689257   \n",
       "min      47.596407   334.157205     0.000000     0.000000     0.000000   \n",
       "25%      66.002474   703.884813    30.000000     2.000000     7.290387   \n",
       "50%      77.199486   793.543971    72.000000     7.000000    18.870437   \n",
       "75%      87.023533   933.362043   136.000000    29.000000    39.789854   \n",
       "max     180.176325  1269.037344   354.000000   113.000000    91.726619   \n",
       "\n",
       "             rmssd         sdnn         sess   total_power         user  \\\n",
       "count  2694.000000  2694.000000  2694.000000  2.694000e+03  2694.000000   \n",
       "mean    112.382566   114.926574   162.705642  1.475527e+06     1.624722   \n",
       "std     169.919067   122.765916   117.628292  4.585638e+07     2.009594   \n",
       "min       3.369205    13.625541     0.000000  3.390064e+01     0.000000   \n",
       "25%      33.034351    53.887830    63.000000  1.761790e+03     0.000000   \n",
       "50%      53.744197    77.456919   135.000000  3.576149e+03     1.000000   \n",
       "75%     131.090808   138.225573   295.000000  1.190274e+04     2.000000   \n",
       "max    2239.263240  1776.464653   350.000000  2.338062e+09     6.000000   \n",
       "\n",
       "                vlf  \n",
       "count  2.694000e+03  \n",
       "mean   1.038884e+06  \n",
       "std    3.707927e+07  \n",
       "min    2.559104e+01  \n",
       "25%    5.059374e+02  \n",
       "50%    1.088380e+03  \n",
       "75%    2.524048e+03  \n",
       "max    1.905538e+09  "
      ]
     },
     "execution_count": 2,
     "metadata": {},
     "output_type": "execute_result"
    }
   ],
   "source": [
    "# DATA_PATH = '/home/ju/GDrive/Projects/HeRV/Data/PreProcessed/'\n",
    "DATA_PATH = \"C:\\\\Users\\\\ju\\\\GDrive\\\\Projects\\\\HeRV\\\\Data\\\\PreProcessed\\\\\" \n",
    "filename = DATA_PATH + 'df_90_300.xlsx'\n",
    "df = pd.read_excel(filename)\n",
    "df.describe()"
   ]
  },
  {
   "cell_type": "code",
   "execution_count": 4,
   "metadata": {},
   "outputs": [
    {
     "data": {
      "image/png": "[encoded data removed]",
      "text/plain": [
       "<matplotlib.figure.Figure at 0x168b237b780>"
      ]
     },
     "metadata": {},
     "output_type": "display_data"
    }
   ],
   "source": [
    "hp.plot_count(df, 'activity', exclude=['sleep'])"
   ]
  },
  {
   "cell_type": "markdown",
   "metadata": {},
   "source": [
    "## 2A. Data preparation - Inserting labels for aggregating categories:\n",
    "\n",
    "* 1: move vs still = exercise (high and low intensity), movement, household chores X *others*\n",
    "* 2: sleep vs awake =  sleep X *others*\n",
    "* 3: move vs sleep vs stand = Move (from 1) X Sleep (from 2) X *others*\n"
   ]
  },
  {
   "cell_type": "code",
   "execution_count": 5,
   "metadata": {
    "collapsed": true
   },
   "outputs": [],
   "source": [
    "movelist = ['exercise-high', 'exercise-low', 'movement', 'household-chores']\n",
    "df = hp.add_partition(df, movelist, pname='moving', labelIn=1, labelOut=0)\n",
    "    \n",
    "sleeplist = ['sleep']\n",
    "df = hp.add_partition(df, sleeplist, pname='sleeping', labelIn=1, labelOut=0)\n",
    "\n",
    "activelist = ['rest-active', 'focused-active', 'leisure-active', 'eat']\n",
    "df = hp.add_partition(df, activelist, pname='active', labelIn=1, labelOut=0)\n",
    "\n",
    "passivelist = ['rest-passive', 'leisure-passive', 'focused-passive', 'focused-passive ']\n",
    "df = hp.add_partition(df, passivelist, pname='passive', labelIn=1, labelOut=0)\n",
    "\n",
    "df['focused'] = np.where(df['activity'].isin(['focused-passive', 'focused-passive ','focused-active']), 1, 0)\n",
    "df['relaxed'] = np.where(df['activity'].isin(['rest-active', 'rest-passive', 'leisure-passive', 'leisure-active']), 1, 0)\n",
    "\n",
    "df['lyingdown'] = np.where(df['posture'].isin(['lie', 'lying down']), 1, 0)\n",
    "df['sitting'] = np.where(df['posture'].isin(['sit','sitting']), 1, 0)\n",
    "df['standing'] = np.where(df['posture'].isin(['stand','standing', 'standing ']), 1, 0)\n"
   ]
  },
  {
   "cell_type": "markdown",
   "metadata": {},
   "source": [
    "## 2B. Data preparation - scaling and splitting test and train datasets"
   ]
  },
  {
   "cell_type": "code",
   "execution_count": 6,
   "metadata": {},
   "outputs": [
    {
     "name": "stdout",
     "output_type": "stream",
     "text": [
      "activity\n",
      "eat                  103\n",
      "exercise-high         24\n",
      "exercise-low           4\n",
      "focused-active       413\n",
      "focused-passive      189\n",
      "focused-passive        4\n",
      "household-chores     150\n",
      "leisure-active        27\n",
      "leisure-passive      278\n",
      "movement             212\n",
      "not-recorded          25\n",
      "rest-active          106\n",
      "rest-passive          69\n",
      "sleep               1090\n",
      "Name: user, dtype: int64\n",
      "posture\n",
      "lie           682\n",
      "lying down    448\n",
      "posture        26\n",
      "sit           823\n",
      "sitting       325\n",
      "stand         198\n",
      "standing      184\n",
      "standing        8\n",
      "Name: user, dtype: int64\n",
      "moving\n",
      "0    2304\n",
      "1     390\n",
      "Name: user, dtype: int64\n",
      "sleeping\n",
      "0    1604\n",
      "1    1090\n",
      "Name: user, dtype: int64\n",
      "sitting\n",
      "0    1546\n",
      "1    1148\n",
      "Name: user, dtype: int64\n",
      "standing\n",
      "0    2304\n",
      "1     390\n",
      "Name: user, dtype: int64\n",
      "lyingdown\n",
      "0    1564\n",
      "1    1130\n",
      "Name: user, dtype: int64\n",
      "active\n",
      "0    2045\n",
      "1     649\n",
      "Name: user, dtype: int64\n",
      "passive\n",
      "0    2154\n",
      "1     540\n",
      "Name: user, dtype: int64\n",
      "focused\n",
      "0    2088\n",
      "1     606\n",
      "Name: user, dtype: int64\n",
      "relaxed\n",
      "0    2214\n",
      "1     480\n",
      "Name: user, dtype: int64\n"
     ]
    }
   ],
   "source": [
    "features_all = ['hf', 'hfnu', 'lf', 'lf_hf', 'lfnu', 'mhr', 'mrri', 'nn50', 'pnn50', 'rmssd', 'sdnn', 'total_power', 'vlf']\n",
    "features_red = ['hf', 'lf', 'vlf', 'lf_hf', 'mhr', 'mrri', 'pnn50', 'rmssd', 'sdnn']\n",
    "\n",
    "one_hot_labels = ['moving', 'sleeping', 'sitting', 'standing', 'lyingdown', 'active', 'passive', 'focused', 'relaxed']\n",
    "all_labels = ['activity', 'posture', 'moving', 'sleeping', 'sitting', 'standing', 'lyingdown', 'active', 'passive', 'focused', 'relaxed']\n",
    "\n",
    "for l in all_labels:\n",
    "    print(hp.count_by(df, l))"
   ]
  },
  {
   "cell_type": "code",
   "execution_count": 7,
   "metadata": {},
   "outputs": [
    {
     "name": "stdout",
     "output_type": "stream",
     "text": [
      "2155 539\n",
      "1028 258\n",
      "242 61\n",
      "352 89\n",
      "43 11\n",
      "161 41\n",
      "180 46\n",
      "145 37\n",
      "[(1028, 258), (242, 61), (352, 89), (43, 11), (161, 41), (180, 46), (145, 37)]\n"
     ]
    }
   ],
   "source": [
    "train, test = hp.preprocess(df, features_all)\n",
    "ttu = [hp.preprocess(hp.user_data(df, user), features_all) for user in range(7)]\n",
    "print ([(len(ttu[i][0]), len(ttu[i][1])) for i in range(7)])"
   ]
  },
  {
   "cell_type": "markdown",
   "metadata": {},
   "source": [
    "## 3. SVM classification - Moving vs still (including sleep in still activities)"
   ]
  },
  {
   "cell_type": "code",
   "execution_count": 8,
   "metadata": {
    "collapsed": true
   },
   "outputs": [],
   "source": [
    "label='activity'\n",
    "#c1, c2, gamma = hp.model_selection_svm(df, feature_list, labelName=label)\n",
    "c1, c2, gamma = (10, 10, 0.1)"
   ]
  },
  {
   "cell_type": "markdown",
   "metadata": {},
   "source": [
    "### 3A. For all users combined"
   ]
  },
  {
   "cell_type": "code",
   "execution_count": 9,
   "metadata": {
    "scrolled": true
   },
   "outputs": [
    {
     "name": "stderr",
     "output_type": "stream",
     "text": [
      "C:\\Users\\Ju\\Anaconda3\\lib\\site-packages\\sklearn\\metrics\\classification.py:1428: UserWarning: labels size, 13, does not match size of target_names, 2\n",
      "  .format(len(labels), len(target_names))\n",
      "C:\\Users\\Ju\\Anaconda3\\lib\\site-packages\\sklearn\\metrics\\classification.py:1135: UndefinedMetricWarning: Precision and F-score are ill-defined and being set to 0.0 in labels with no predicted samples.\n",
      "  'precision', 'predicted', average, warn_for)\n"
     ]
    },
    {
     "name": "stdout",
     "output_type": "stream",
     "text": [
      "activity :  0.400742115028\n"
     ]
    },
    {
     "name": "stderr",
     "output_type": "stream",
     "text": [
      "C:\\Users\\Ju\\Anaconda3\\lib\\site-packages\\sklearn\\metrics\\classification.py:1428: UserWarning: labels size, 8, does not match size of target_names, 2\n",
      "  .format(len(labels), len(target_names))\n"
     ]
    },
    {
     "name": "stdout",
     "output_type": "stream",
     "text": [
      "posture :  0.285714285714\n",
      "moving :  0.860853432282\n",
      "sleeping :  0.599257884972\n",
      "sitting :  0.578849721707\n",
      "standing :  0.846011131725\n",
      "lyingdown :  0.580705009276\n",
      "active :  0.786641929499\n",
      "passive :  0.760667903525\n",
      "focused :  0.786641929499\n",
      "relaxed :  0.805194805195\n"
     ]
    }
   ],
   "source": [
    "c1 = 10\n",
    "c2 = 10\n",
    "gamma = 0.1\n",
    "for label in all_labels:\n",
    "    clf_svm = hp.clf_svm_rbf(train, features_all, labelName=label, C=c2, gamma=gamma)\n",
    "    print(label, ': ', hp.report_test(clf_svm, test, features_all, labels=[label], print_report=False, plot_report=False))"
   ]
  },
  {
   "cell_type": "markdown",
   "metadata": {},
   "source": [
    "### 3B. For each user (SVM moving x still)"
   ]
  },
  {
   "cell_type": "code",
   "execution_count": 10,
   "metadata": {},
   "outputs": [
    {
     "name": "stdout",
     "output_type": "stream",
     "text": [
      "---------------- User:  0  ----------------------\n",
      "             precision    recall  f1-score   support\n",
      "\n",
      " not moving       0.79      1.00      0.89       205\n",
      "     moving       0.00      0.00      0.00        53\n",
      "\n",
      "avg / total       0.63      0.79      0.70       258\n",
      "\n",
      "0.794573643411 \n",
      "\n",
      "---------------- User:  1  ----------------------\n",
      "             precision    recall  f1-score   support\n",
      "\n",
      " not moving       0.95      1.00      0.97        58\n",
      "     moving       0.00      0.00      0.00         3\n",
      "\n",
      "avg / total       0.90      0.95      0.93        61\n",
      "\n",
      "0.950819672131 \n",
      "\n",
      "---------------- User:  2  ----------------------\n",
      "             precision    recall  f1-score   support\n",
      "\n",
      " not moving       0.75      1.00      0.86        67\n",
      "     moving       0.00      0.00      0.00        22\n",
      "\n",
      "avg / total       0.57      0.75      0.65        89\n",
      "\n",
      "0.752808988764 \n",
      "\n",
      "---------------- User:  3  ----------------------\n",
      "             precision    recall  f1-score   support\n",
      "\n",
      " not moving       0.64      1.00      0.78         7\n",
      "     moving       0.00      0.00      0.00         4\n",
      "\n",
      "avg / total       0.40      0.64      0.49        11\n",
      "\n",
      "0.636363636364 \n",
      "\n",
      "---------------- User:  5  ----------------------\n",
      "             precision    recall  f1-score   support\n",
      "\n",
      " not moving       0.87      1.00      0.93        40\n",
      "     moving       0.00      0.00      0.00         6\n",
      "\n",
      "avg / total       0.76      0.87      0.81        46\n",
      "\n",
      "0.869565217391 \n",
      "\n"
     ]
    },
    {
     "name": "stderr",
     "output_type": "stream",
     "text": [
      "C:\\Users\\Ju\\Anaconda3\\lib\\site-packages\\sklearn\\metrics\\classification.py:1135: UndefinedMetricWarning: Precision and F-score are ill-defined and being set to 0.0 in labels with no predicted samples.\n",
      "  'precision', 'predicted', average, warn_for)\n"
     ]
    }
   ],
   "source": [
    "label='moving'\n",
    "for user in [0,1,2,3,5]:\n",
    "    train_u, test_u = ttu[user]\n",
    "    print ('---------------- User: ', user, ' ----------------------')\n",
    "    clf_svm = hp.clf_svm_rbf(train_u, features_all, labelName=label, C=c2, gamma=gamma)\n",
    "    print(hp.report_test(clf_svm, test_u, features_all, labels=[label], print_report=True, plot_report=False), '\\n')"
   ]
  },
  {
   "cell_type": "markdown",
   "metadata": {},
   "source": [
    "### 3C. For each user (SVM awake  x sleep)"
   ]
  },
  {
   "cell_type": "code",
   "execution_count": 11,
   "metadata": {},
   "outputs": [
    {
     "name": "stdout",
     "output_type": "stream",
     "text": [
      "---------------- User:  0  ----------------------\n",
      "              precision    recall  f1-score   support\n",
      "\n",
      "not sleeping       0.54      1.00      0.70       139\n",
      "    sleeping       0.00      0.00      0.00       119\n",
      "\n",
      " avg / total       0.29      0.54      0.38       258\n",
      "\n",
      "0.538759689922 \n",
      "\n",
      "---------------- User:  1  ----------------------\n",
      "              precision    recall  f1-score   support\n",
      "\n",
      "not sleeping       0.82      1.00      0.90        50\n",
      "    sleeping       0.00      0.00      0.00        11\n",
      "\n",
      " avg / total       0.67      0.82      0.74        61\n",
      "\n",
      "0.819672131148 \n",
      "\n",
      "---------------- User:  2  ----------------------\n",
      "              precision    recall  f1-score   support\n",
      "\n",
      "not sleeping       0.87      1.00      0.93        77\n",
      "    sleeping       0.00      0.00      0.00        12\n",
      "\n",
      " avg / total       0.75      0.87      0.80        89\n",
      "\n",
      "0.865168539326 \n",
      "\n",
      "---------------- User:  4  ----------------------\n",
      "              precision    recall  f1-score   support\n",
      "\n",
      "not sleeping       0.00      0.00      0.00        14\n",
      "    sleeping       0.66      1.00      0.79        27\n",
      "\n",
      " avg / total       0.43      0.66      0.52        41\n",
      "\n",
      "0.658536585366 \n",
      "\n",
      "---------------- User:  5  ----------------------\n",
      "              precision    recall  f1-score   support\n",
      "\n",
      "not sleeping       0.00      0.00      0.00        11\n",
      "    sleeping       0.76      1.00      0.86        35\n",
      "\n",
      " avg / total       0.58      0.76      0.66        46\n",
      "\n",
      "0.760869565217 \n",
      "\n",
      "---------------- User:  6  ----------------------\n",
      "              precision    recall  f1-score   support\n",
      "\n",
      "not sleeping       0.62      1.00      0.77        23\n",
      "    sleeping       0.00      0.00      0.00        14\n",
      "\n",
      " avg / total       0.39      0.62      0.48        37\n",
      "\n",
      "0.621621621622 \n",
      "\n"
     ]
    },
    {
     "name": "stderr",
     "output_type": "stream",
     "text": [
      "C:\\Users\\Ju\\Anaconda3\\lib\\site-packages\\sklearn\\metrics\\classification.py:1135: UndefinedMetricWarning: Precision and F-score are ill-defined and being set to 0.0 in labels with no predicted samples.\n",
      "  'precision', 'predicted', average, warn_for)\n"
     ]
    }
   ],
   "source": [
    "label='sleeping'\n",
    "for user in df.loc[df[label]==1].user.unique(): #users that have sleep data\n",
    "    train_u, test_u = ttu[user]\n",
    "    print ('---------------- User: ', user, ' ----------------------')\n",
    "    clf_svm = hp.clf_svm_rbf(train_u, features_all, labelName=label, C=c2, gamma=gamma)\n",
    "    print(hp.report_test(clf_svm, test_u, features_all, labels=[label], print_report=True, plot_report=False), '\\n')"
   ]
  },
  {
   "cell_type": "markdown",
   "metadata": {
    "collapsed": true
   },
   "source": [
    "## 5. Random Forest classifier "
   ]
  },
  {
   "cell_type": "markdown",
   "metadata": {},
   "source": [
    "### 4A. For each label separately"
   ]
  },
  {
   "cell_type": "code",
   "execution_count": 12,
   "metadata": {},
   "outputs": [
    {
     "name": "stdout",
     "output_type": "stream",
     "text": [
      "activity :  0.589981447124\n",
      "posture :  0.673469387755\n",
      "moving :  0.909090909091\n",
      "sleeping :  0.873840445269\n",
      "sitting :  0.795918367347\n",
      "standing :  0.901669758813\n",
      "lyingdown :  0.897959183673\n",
      "active :  0.820037105751\n",
      "passive :  0.766233766234\n",
      "focused :  0.810760667904\n",
      "relaxed :  0.814471243043\n"
     ]
    }
   ],
   "source": [
    "for label in all_labels:\n",
    "    clf = hp.clf_rf(train, features_all, labels=[label])\n",
    "    print(label, ': ', clf.score(X=test[features_all], y=test[label]))\n",
    "    "
   ]
  },
  {
   "cell_type": "code",
   "execution_count": 13,
   "metadata": {},
   "outputs": [
    {
     "name": "stdout",
     "output_type": "stream",
     "text": [
      "moving :  0.909090909091\n",
      "sleeping :  0.871985157699\n",
      "sitting :  0.792207792208\n",
      "standing :  0.894248608534\n",
      "lyingdown :  0.879406307978\n",
      "active :  0.807050092764\n",
      "passive :  0.775510204082\n",
      "focused :  0.805194805195\n",
      "relaxed :  0.810760667904\n"
     ]
    },
    {
     "data": {
      "text/plain": [
       "<Container object of 9 artists>"
      ]
     },
     "execution_count": 13,
     "metadata": {},
     "output_type": "execute_result"
    },
    {
     "data": {
      "image/png": "[encoded data removed]",
      "text/plain": [
       "<matplotlib.figure.Figure at 0x168b2bf3898>"
      ]
     },
     "metadata": {},
     "output_type": "display_data"
    }
   ],
   "source": [
    "scores = []\n",
    "for label in one_hot_labels:\n",
    "    clf = hp.clf_rf(train, features_red, labels=[label])\n",
    "    score = clf.score(X=test[features_red], y=test[label])\n",
    "    print(label, ': ', score)\n",
    "    scores.append(score)\n",
    "    #print(hp.report_test(clf, test, features_red, labels=[label], print_report=False, plot_report=False), '\\n')\n",
    "    \n",
    "plt.barh(one_hot_labels, scores, align='center', alpha=1, color='#eb5058')"
   ]
  },
  {
   "cell_type": "code",
   "execution_count": 17,
   "metadata": {},
   "outputs": [
    {
     "name": "stdout",
     "output_type": "stream",
     "text": [
      "\n",
      "-------------- USER:  0 --------------\n",
      "moving :  0.87984496124\n",
      "sleeping :  0.887596899225\n",
      "sitting :  0.763565891473\n",
      "standing :  0.868217054264\n",
      "lyingdown :  0.891472868217\n",
      "active :  0.821705426357\n",
      "passive :  0.817829457364\n",
      "focused :  0.779069767442\n",
      "relaxed :  0.899224806202\n",
      "\n",
      "-------------- USER:  1 --------------\n",
      "moving :  0.983606557377\n",
      "sleeping :  0.983606557377\n",
      "sitting :  0.934426229508\n",
      "standing :  0.983606557377\n",
      "lyingdown :  0.934426229508\n",
      "active :  0.770491803279\n",
      "passive :  0.770491803279\n",
      "focused :  0.72131147541\n",
      "relaxed :  0.770491803279\n",
      "\n",
      "-------------- USER:  2 --------------\n",
      "moving :  0.820224719101\n",
      "sleeping :  0.966292134831\n",
      "sitting :  0.786516853933\n",
      "standing :  0.797752808989\n",
      "lyingdown :  0.943820224719\n",
      "active :  0.651685393258\n",
      "passive :  0.797752808989\n",
      "focused :  0.685393258427\n",
      "relaxed :  0.842696629213\n",
      "\n",
      "-------------- USER:  4 --------------\n",
      "moving :  1.0\n",
      "sleeping :  0.780487804878\n",
      "sitting :  0.878048780488\n",
      "standing :  1.0\n",
      "lyingdown :  0.853658536585\n",
      "active :  1.0\n",
      "passive :  0.80487804878\n",
      "focused :  1.0\n",
      "relaxed :  0.80487804878\n",
      "\n",
      "-------------- USER:  5 --------------\n",
      "moving :  0.978260869565\n",
      "sleeping :  0.913043478261\n",
      "sitting :  0.913043478261\n",
      "standing :  0.978260869565\n",
      "lyingdown :  0.913043478261\n",
      "active :  0.95652173913\n",
      "passive :  0.95652173913\n",
      "focused :  1.0\n",
      "relaxed :  0.95652173913\n",
      "\n",
      "-------------- USER:  6 --------------\n",
      "moving :  1.0\n",
      "sleeping :  0.972972972973\n",
      "sitting :  0.945945945946\n",
      "standing :  0.972972972973\n",
      "lyingdown :  0.972972972973\n",
      "active :  0.891891891892\n",
      "passive :  0.891891891892\n",
      "focused :  0.918918918919\n",
      "relaxed :  0.864864864865\n"
     ]
    }
   ],
   "source": [
    "ul = [[] for i in range(len(one_hot_labels))]\n",
    "for user in [0,1,2,4,5,6]:\n",
    "    print('\\n-------------- USER: ', user, '--------------')\n",
    "    train_u, test_u = ttu[user]    \n",
    "    for i,label in enumerate(one_hot_labels):\n",
    "        clf = hp.clf_rf(train_u, features_red, labels=[label])        \n",
    "        score = clf.score(X=test_u[features_red], y=test_u[label])\n",
    "        print(label, ': ', score)\n",
    "        ul[i].append(score)\n",
    "        "
   ]
  },
  {
   "cell_type": "code",
   "execution_count": 18,
   "metadata": {},
   "outputs": [
    {
     "name": "stdout",
     "output_type": "stream",
     "text": [
      "[0.94365618454728339, 0.91733330792420109, 0.87025786326804477, 0.93346837719459497, 0.91823238504392668, 0.84871604231933861, 0.83989429157243467, 0.85078223669959707, 0.85644631524491821]\n"
     ]
    },
    {
     "data": {
      "text/plain": [
       "<Container object of 9 artists>"
      ]
     },
     "execution_count": 18,
     "metadata": {},
     "output_type": "execute_result"
    },
    {
     "data": {
      "image/png": "[encoded data removed]",
      "text/plain": [
       "<matplotlib.figure.Figure at 0x168b4fde080>"
      ]
     },
     "metadata": {},
     "output_type": "display_data"
    }
   ],
   "source": [
    "print([np.mean(l) for l in ul])\n",
    "plt.barh(one_hot_labels, scores, align='center', alpha=1, color='#2d3a42')"
   ]
  },
  {
   "cell_type": "markdown",
   "metadata": {},
   "source": [
    "### 4B. For multi-1-hot encoded labels"
   ]
  },
  {
   "cell_type": "code",
   "execution_count": 33,
   "metadata": {},
   "outputs": [
    {
     "name": "stdout",
     "output_type": "stream",
     "text": [
      "['moving', 'sleeping', 'sitting', 'standing', 'lyingdown', 'active', 'passive', 'focused', 'relaxed']\n",
      "['hf', 'hfnu', 'lf', 'lf_hf', 'lfnu', 'mhr', 'mrri', 'nn50', 'pnn50', 'rmssd', 'sdnn', 'total_power', 'vlf']\n"
     ]
    },
    {
     "name": "stderr",
     "output_type": "stream",
     "text": [
      "C:\\Users\\Ju\\Anaconda3\\lib\\site-packages\\sklearn\\metrics\\classification.py:1135: UndefinedMetricWarning: Precision and F-score are ill-defined and being set to 0.0 in labels with no predicted samples.\n",
      "  'precision', 'predicted', average, warn_for)\n",
      "C:\\Users\\Ju\\Anaconda3\\lib\\site-packages\\sklearn\\metrics\\classification.py:1137: UndefinedMetricWarning: Recall and F-score are ill-defined and being set to 0.0 in labels with no true samples.\n",
      "  'recall', 'true', average, warn_for)\n"
     ]
    },
    {
     "name": "stdout",
     "output_type": "stream",
     "text": [
      "             precision    recall  f1-score   support\n",
      "\n",
      "     moving       0.00      0.00      0.00         0\n",
      "   sleeping       0.89      0.80      0.84       220\n",
      "    sitting       0.83      0.91      0.87       221\n",
      "   standing       1.00      0.20      0.33         5\n",
      "  lyingdown       0.91      0.80      0.85       233\n",
      "     active       0.55      0.45      0.49       121\n",
      "    passive       0.49      0.30      0.37       111\n",
      "    focused       0.58      0.46      0.52       108\n",
      "    relaxed       0.50      0.28      0.36       101\n",
      "\n",
      "avg / total       0.74      0.65      0.69      1120\n",
      "\n",
      "[0.0, 0.0, 0.0]\n",
      "[0.89, 0.8, 0.84]\n",
      "[0.83, 0.91, 0.87]\n",
      "[1.0, 0.2, 0.33]\n",
      "[0.91, 0.8, 0.85]\n",
      "[0.55, 0.45, 0.49]\n",
      "[0.49, 0.3, 0.37]\n",
      "[0.58, 0.46, 0.52]\n",
      "[0.5, 0.28, 0.36]\n"
     ]
    },
    {
     "data": {
      "image/png": "[encoded data removed]",
      "text/plain": [
       "<matplotlib.figure.Figure at 0x168b24ecef0>"
      ]
     },
     "metadata": {},
     "output_type": "display_data"
    },
    {
     "name": "stdout",
     "output_type": "stream",
     "text": [
      "0.48590021692 \n",
      "\n"
     ]
    }
   ],
   "source": [
    "clf = hp.clf_rf(train, features_all, labels=one_hot_labels)\n",
    "print(hp.report_test(clf, test, features_all, labels=one_hot_labels, print_report=True, plot_report=True), '\\n')"
   ]
  },
  {
   "cell_type": "code",
   "execution_count": 31,
   "metadata": {},
   "outputs": [
    {
     "name": "stdout",
     "output_type": "stream",
     "text": [
      "-------------- USER:  0 --------------\n",
      "['moving', 'sleeping', 'sitting', 'standing', 'lyingdown', 'active', 'passive', 'focused', 'relaxed']\n",
      "['hf', 'lf', 'vlf', 'lf_hf', 'mhr', 'mrri', 'pnn50', 'rmssd', 'sdnn']\n",
      "0.520607375271\n",
      "-------------- USER:  1 --------------\n",
      "['moving', 'sleeping', 'sitting', 'standing', 'lyingdown', 'active', 'passive', 'focused', 'relaxed']\n",
      "['hf', 'lf', 'vlf', 'lf_hf', 'mhr', 'mrri', 'pnn50', 'rmssd', 'sdnn']\n",
      "0.51409978308\n",
      "-------------- USER:  2 --------------\n",
      "['moving', 'sleeping', 'sitting', 'standing', 'lyingdown', 'active', 'passive', 'focused', 'relaxed']\n",
      "['hf', 'lf', 'vlf', 'lf_hf', 'mhr', 'mrri', 'pnn50', 'rmssd', 'sdnn']\n",
      "0.505422993492\n",
      "-------------- USER:  5 --------------\n",
      "['moving', 'sleeping', 'sitting', 'standing', 'lyingdown', 'active', 'passive', 'focused', 'relaxed']\n",
      "['hf', 'lf', 'vlf', 'lf_hf', 'mhr', 'mrri', 'pnn50', 'rmssd', 'sdnn']\n",
      "0.507592190889\n",
      "-------------- USER:  6 --------------\n",
      "['moving', 'sleeping', 'sitting', 'standing', 'lyingdown', 'active', 'passive', 'focused', 'relaxed']\n",
      "['hf', 'lf', 'vlf', 'lf_hf', 'mhr', 'mrri', 'pnn50', 'rmssd', 'sdnn']\n",
      "0.503253796095\n"
     ]
    }
   ],
   "source": [
    "for user in [0,1,2,5,6]: \n",
    "    print('-------------- USER: ', user, '--------------')\n",
    "    dfu = hp.user_data(df, user)\n",
    "    clf = hp.clf_rf(train, features_red, labels=one_hot_labels)\n",
    "    print(clf.score(X=test[features_red], y=test[one_hot_labels]))\n",
    "    \n",
    "    "
   ]
  },
  {
   "cell_type": "code",
   "execution_count": 21,
   "metadata": {},
   "outputs": [
    {
     "name": "stdout",
     "output_type": "stream",
     "text": [
      "1843 461\n",
      "activity :  0.60737527115\n",
      "posture :  0.770065075922\n",
      "moving :  1.0\n",
      "sleeping :  0.872017353579\n",
      "sitting :  0.8568329718\n",
      "standing :  0.991323210412\n",
      "lyingdown :  0.863340563991\n",
      "active :  0.770065075922\n",
      "passive :  0.770065075922\n",
      "focused :  0.793926247289\n",
      "relaxed :  0.789587852495\n"
     ]
    }
   ],
   "source": [
    "df_nm = hp.filter_out(df, 'moving', [1])\n",
    "df_nm.sample(20)\n",
    "train, test = hp.preprocess(df_nm, features_red)\n",
    "for label in all_labels:\n",
    "    clf = hp.clf_rf(train, features_red, labels=[label])\n",
    "    print(label, ': ', clf.score(X=test[features_red], y=test[label]))"
   ]
  },
  {
   "cell_type": "code",
   "execution_count": 35,
   "metadata": {},
   "outputs": [],
   "source": [
    "#hp.run_rf(df_wake, feature_list, labels, print_report=True, plot_report=True)"
   ]
  },
  {
   "cell_type": "code",
   "execution_count": 36,
   "metadata": {},
   "outputs": [
    {
     "name": "stdout",
     "output_type": "stream",
     "text": [
      "-------------- USER:  0 --------------\n"
     ]
    },
    {
     "ename": "NameError",
     "evalue": "name 'df_wake' is not defined",
     "output_type": "error",
     "traceback": [
      "\u001b[1;31m---------------------------------------------------------------------------\u001b[0m",
      "\u001b[1;31mNameError\u001b[0m                                 Traceback (most recent call last)",
      "\u001b[1;32m<ipython-input-36-81dc7eaa04a5>\u001b[0m in \u001b[0;36m<module>\u001b[1;34m()\u001b[0m\n\u001b[0;32m      1\u001b[0m \u001b[1;32mfor\u001b[0m \u001b[0muser\u001b[0m \u001b[1;32min\u001b[0m \u001b[1;33m[\u001b[0m\u001b[1;36m0\u001b[0m\u001b[1;33m,\u001b[0m\u001b[1;36m1\u001b[0m\u001b[1;33m,\u001b[0m\u001b[1;36m2\u001b[0m\u001b[1;33m,\u001b[0m\u001b[1;36m5\u001b[0m\u001b[1;33m,\u001b[0m\u001b[1;36m6\u001b[0m\u001b[1;33m]\u001b[0m\u001b[1;33m:\u001b[0m\u001b[1;33m\u001b[0m\u001b[0m\n\u001b[0;32m      2\u001b[0m     \u001b[0mprint\u001b[0m\u001b[1;33m(\u001b[0m\u001b[1;34m'-------------- USER: '\u001b[0m\u001b[1;33m,\u001b[0m \u001b[0muser\u001b[0m\u001b[1;33m,\u001b[0m \u001b[1;34m'--------------'\u001b[0m\u001b[1;33m)\u001b[0m\u001b[1;33m\u001b[0m\u001b[0m\n\u001b[1;32m----> 3\u001b[1;33m     \u001b[0mdfu\u001b[0m \u001b[1;33m=\u001b[0m \u001b[0mhp\u001b[0m\u001b[1;33m.\u001b[0m\u001b[0muser_data\u001b[0m\u001b[1;33m(\u001b[0m\u001b[0mdf_wake\u001b[0m\u001b[1;33m,\u001b[0m \u001b[0muser\u001b[0m\u001b[1;33m)\u001b[0m\u001b[1;33m\u001b[0m\u001b[0m\n\u001b[0m\u001b[0;32m      4\u001b[0m     \u001b[0muscore\u001b[0m \u001b[1;33m=\u001b[0m \u001b[0mhp\u001b[0m\u001b[1;33m.\u001b[0m\u001b[0mrun_rf\u001b[0m\u001b[1;33m(\u001b[0m\u001b[0mdfu\u001b[0m\u001b[1;33m,\u001b[0m \u001b[0mfeature_list\u001b[0m\u001b[1;33m,\u001b[0m \u001b[0mlabels\u001b[0m\u001b[1;33m,\u001b[0m \u001b[0mplot_report\u001b[0m\u001b[1;33m=\u001b[0m\u001b[1;32mTrue\u001b[0m\u001b[1;33m)\u001b[0m\u001b[1;33m\u001b[0m\u001b[0m\n\u001b[0;32m      5\u001b[0m     \u001b[0mprint\u001b[0m\u001b[1;33m(\u001b[0m\u001b[0muscore\u001b[0m\u001b[1;33m,\u001b[0m \u001b[1;34m'\\n\\n'\u001b[0m\u001b[1;33m)\u001b[0m\u001b[1;33m\u001b[0m\u001b[0m\n",
      "\u001b[1;31mNameError\u001b[0m: name 'df_wake' is not defined"
     ]
    }
   ],
   "source": [
    "for user in [0,1,2,5,6]: \n",
    "    print('-------------- USER: ', user, '--------------')\n",
    "    dfu = hp.user_data(df_wake, user)\n",
    "    uscore = hp.run_rf(dfu, feature_list, labels, plot_report=True)\n",
    "    print(uscore, '\\n\\n')"
   ]
  },
  {
   "cell_type": "code",
   "execution_count": null,
   "metadata": {
    "collapsed": true
   },
   "outputs": [],
   "source": []
  }
 ],
 "metadata": {
  "kernelspec": {
   "display_name": "Python 3",
   "language": "python",
   "name": "python3"
  },
  "language_info": {
   "codemirror_mode": {
    "name": "ipython",
    "version": 3
   },
   "file_extension": ".py",
   "mimetype": "text/x-python",
   "name": "python",
   "nbconvert_exporter": "python",
   "pygments_lexer": "ipython3",
   "version": "3.6.3"
  }
 },
 "nbformat": 4,
 "nbformat_minor": 2
}
