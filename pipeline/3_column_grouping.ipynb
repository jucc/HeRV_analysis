{
 "cells": [
  {
   "cell_type": "code",
   "execution_count": 1,
   "metadata": {},
   "outputs": [],
   "source": [
    "%load_ext autoreload\n",
    "%autoreload 2\n",
    "%matplotlib inline  \n",
    "\n",
    "import pandas as pd\n",
    "import numpy as np\n",
    "import matplotlib.pyplot as plt"
   ]
  },
  {
   "cell_type": "code",
   "execution_count": 2,
   "metadata": {},
   "outputs": [],
   "source": [
    "# DATA_PATH = '/home/ju/GDrive/Projects/HeRV/Data/PreProcessed/'\n",
    "DATA_PATH = \"C:\\\\Users\\\\ju\\\\GDrive\\\\Projects\\\\HeRV\\\\Data\\\\PreProcessed\\\\\"\n"
   ]
  },
  {
   "cell_type": "code",
   "execution_count": 3,
   "metadata": {},
   "outputs": [],
   "source": [
    "sleeplist = ['sleep', 'sleeping']\n",
    "exerciselist = ['exercise', 'exercise-high', 'exercise-low']\n",
    "movelist = ['movement', 'household-chores']\n",
    "\n",
    "activelist  = ['eat', 'focused-active', 'rest-active']\n",
    "passivelist = ['leisure', 'focused-passive', 'rest-passive']\n",
    "\n",
    "stresslist1 = ['focused-passive', 'focused-active', 'eat']\n",
    "relaxlist1  = ['rest-passive', 'rest-active', 'leisure']\n",
    "\n",
    "stresslist2 = ['focused-passive','focused-active', 'rest-active', 'eat']\n",
    "relaxlist2  = ['rest-passive', 'leisure']\n",
    "\n",
    "stresslist3 = ['focused-passive', 'focused-active']\n",
    "relaxlist3  = ['rest-passive', 'rest-active', 'leisure', 'eat']\n",
    "\n",
    "stresslist4 = ['focused-passive','focused-active', 'rest-active']\n",
    "relaxlist4  = ['rest-passive', 'leisure', 'eat']\n",
    "\n",
    "stresslist5 = ['focused-active', 'eat']\n",
    "relaxlist5  = ['focused-passive', 'rest-passive', 'rest-active', 'leisure']"
   ]
  },
  {
   "cell_type": "markdown",
   "metadata": {},
   "source": [
    "## Multiclass"
   ]
  },
  {
   "cell_type": "code",
   "execution_count": 4,
   "metadata": {},
   "outputs": [],
   "source": [
    "gr_0 =  { 'sleep': sleeplist, 'exercise': exerciselist, 'move': movelist, \n",
    "          'leisure': ['leisure'], 'focused-passive': ['focused-passive'], 'focused-active': ['focused-active'], \n",
    "          'eat': ['eat'],         'rest-passive': ['rest-passive'],       'rest-active': ['rest-active'] }\n",
    "        \n",
    "gr_1 = {'sleep': sleeplist, 'exercise': exerciselist, 'move': movelist,\n",
    "         'stress': stresslist1,\n",
    "         'relax': relaxlist1}\n",
    "\n",
    "gr_2 = {'sleep': sleeplist, 'exercise': exerciselist, 'move': movelist,\n",
    "         'stress': stresslist2,\n",
    "         'relax': relaxlist2}\n",
    "\n",
    "gr_3 = {'sleep': sleeplist, 'exercise': exerciselist, 'move': movelist,\n",
    "         'stress': stresslist3,\n",
    "         'relax': relaxlist3}\n",
    "\n",
    "gr_4 = {'sleep': sleeplist, 'exercise': exerciselist, 'move': movelist,\n",
    "         'stress': stresslist4,\n",
    "         'relax': relaxlist4}\n",
    "\n",
    "gr_5 = {'sleep': sleeplist, 'exercise': exerciselist, 'move': movelist,\n",
    "         'stress': stresslist5,\n",
    "         'relax': relaxlist5}\n",
    "\n",
    "gr_6 = {'sleep': sleeplist, 'exercise': exerciselist, 'move': movelist,\n",
    "        'active_standing': activelist,\n",
    "        'passive_standing': passivelist }\n",
    "\n",
    "def inv_map(dic):\n",
    "    return {x: k for k, v in dic.items() for x in v}\n",
    "\n",
    "im0 = inv_map(gr_0)\n",
    "im1 = inv_map(gr_1)\n",
    "im2 = inv_map(gr_2)\n",
    "im3 = inv_map(gr_3)\n",
    "im4 = inv_map(gr_4)\n",
    "im5 = inv_map(gr_5)\n",
    "im6 = inv_map(gr_6)"
   ]
  },
  {
   "cell_type": "code",
   "execution_count": 8,
   "metadata": {},
   "outputs": [],
   "source": [
    "for crop in [30]:\n",
    "    for duration in [600, 450, 300, 240, 180, 120, 60]:\n",
    "        bundle = 'df_' + str(duration) + '_' + str(crop)\n",
    "        filename = DATA_PATH + bundle + '.xlsx'\n",
    "        df = pd.read_excel(filename)\n",
    "        df['activity_gr0'] = df['activity'].map(im0)\n",
    "        df['activity_gr1'] = df['activity'].map(im1)\n",
    "        df['activity_gr2'] = df['activity'].map(im2)\n",
    "        df['activity_gr3'] = df['activity'].map(im3)\n",
    "        df['activity_gr4'] = df['activity'].map(im4)\n",
    "        df['activity_gr5'] = df['activity'].map(im5)\n",
    "        df['activity_gr6'] = df['activity'].map(im6)\n",
    "        df.to_excel(DATA_PATH + bundle + '_grouped.xlsx')"
   ]
  },
  {
   "cell_type": "markdown",
   "metadata": {},
   "source": [
    "## Binary partitions"
   ]
  },
  {
   "cell_type": "code",
   "execution_count": 6,
   "metadata": {},
   "outputs": [],
   "source": [
    "def add_partition(df, includelist, pname='partition', labelIn='in', labelOut='out'):\n",
    "    df[pname] = np.where(df['activity'].isin(includelist), labelIn, labelOut)\n",
    "    return df"
   ]
  },
  {
   "cell_type": "code",
   "execution_count": 9,
   "metadata": {},
   "outputs": [],
   "source": [
    "for crop in [30]:\n",
    "    for duration in [600, 450, 300, 240, 180, 120, 60]:\n",
    "        bundle = 'df_' + str(duration) + '_' + str(crop)\n",
    "        filename = DATA_PATH + bundle + '.xlsx'\n",
    "        df = pd.read_excel(filename)\n",
    "        add_partition(df, sleeplist, pname='sleep', labelIn=1, labelOut=0)\n",
    "        add_partition(df, exerciselist, pname='exercise', labelIn=1, labelOut=0)\n",
    "        add_partition(df, movelist, pname='move', labelIn=1, labelOut=0)\n",
    "        add_partition(df, activelist, pname='active', labelIn=1, labelOut=0)\n",
    "        add_partition(df, passivelist, pname='passive', labelIn=1, labelOut=0)\n",
    "        add_partition(df, stresslist1, pname='stress1', labelIn=1, labelOut=0)        \n",
    "        add_partition(df, relaxlist1, pname='relax1', labelIn=1, labelOut=0)\n",
    "        add_partition(df, stresslist2, pname='stress2', labelIn=1, labelOut=0) \n",
    "        add_partition(df, relaxlist2, pname='relax2', labelIn=1, labelOut=0)\n",
    "        add_partition(df, stresslist3, pname='stress3', labelIn=1, labelOut=0) \n",
    "        add_partition(df, relaxlist3, pname='relax3', labelIn=1, labelOut=0)\n",
    "        add_partition(df, stresslist4, pname='stress4', labelIn=1, labelOut=0) \n",
    "        add_partition(df, relaxlist4, pname='relax4', labelIn=1, labelOut=0)\n",
    "        add_partition(df, stresslist5, pname='stress5', labelIn=1, labelOut=0) \n",
    "        add_partition(df, relaxlist5, pname='relax5', labelIn=1, labelOut=0)\n",
    "\n",
    "        df.to_excel(DATA_PATH + bundle + '_encoded.xlsx'  )"
   ]
  },
  {
   "cell_type": "code",
   "execution_count": null,
   "metadata": {},
   "outputs": [],
   "source": []
  }
 ],
 "metadata": {
  "kernelspec": {
   "display_name": "Python 3",
   "language": "python",
   "name": "python3"
  },
  "language_info": {
   "codemirror_mode": {
    "name": "ipython",
    "version": 3
   },
   "file_extension": ".py",
   "mimetype": "text/x-python",
   "name": "python",
   "nbconvert_exporter": "python",
   "pygments_lexer": "ipython3",
   "version": "3.6.3"
  }
 },
 "nbformat": 4,
 "nbformat_minor": 2
}
