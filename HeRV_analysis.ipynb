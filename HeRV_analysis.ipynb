{
 "cells": [
  {
   "cell_type": "code",
   "execution_count": 50,
   "metadata": {},
   "outputs": [
    {
     "name": "stdout",
     "output_type": "stream",
     "text": [
      "The autoreload extension is already loaded. To reload it, use:\n",
      "  %reload_ext autoreload\n"
     ]
    }
   ],
   "source": [
    "%load_ext autoreload\n",
    "%autoreload 2\n",
    "\n",
    "import numpy as np\n",
    "import matplotlib.pyplot as plt\n",
    "\n",
    "from sklearn import svm\n",
    "from sklearn.preprocessing import scale\n",
    "from sklearn.model_selection import StratifiedShuffleSplit, GridSearchCV\n",
    "\n",
    "import herv_preprocess as hpp"
   ]
  },
  {
   "cell_type": "markdown",
   "metadata": {},
   "source": [
    "### Parameter configuration"
   ]
  },
  {
   "cell_type": "code",
   "execution_count": 228,
   "metadata": {},
   "outputs": [],
   "source": [
    "# input data\n",
    "filename = 'data/304_sessions_e.csv'\n",
    "# k-fold cross validation (one in each k examples will be used for validation, the others for training)\n",
    "k = 5\n",
    "\n",
    "includelist  = ('movement', 'household-chores')\n",
    "grouplist = ('movement')"
   ]
  },
  {
   "cell_type": "markdown",
   "metadata": {},
   "source": [
    "### 1 - Extract data from the csv file and split it into labels and features"
   ]
  },
  {
   "cell_type": "code",
   "execution_count": 229,
   "metadata": {},
   "outputs": [
    {
     "name": "stdout",
     "output_type": "stream",
     "text": [
      "2\n"
     ]
    }
   ],
   "source": [
    "data = hpp.getData(filename, dtype)\n",
    "data = hpp.filterActivities(data, includelist)\n",
    "hpp.groupActivities(data, grouplist)\n",
    "datagroups = hpp.getDataByActivity(np.array(data))\n",
    "print (len(datagroups))"
   ]
  },
  {
   "cell_type": "code",
   "execution_count": 230,
   "metadata": {},
   "outputs": [
    {
     "name": "stdout",
     "output_type": "stream",
     "text": [
      "in: 30 examples (24 for train and 6 for test)\n",
      "out: 40 examples (32 for train and 8 for test)\n",
      "\n",
      "Total: 56 train examples and 14 test examples \n",
      "min and max values before scaling:  0.0 866.729980469\n",
      "min and max values after scaling:  -2.29007073971 4.2907637833\n",
      "(56, 8)\n",
      "(14, 8)\n"
     ]
    }
   ],
   "source": [
    "train, test = hpp.balanceTrainTestDatasets(datagroups)\n",
    "ltrain, ftrain = hpp.splitExamples(train)\n",
    "ltest, ftest = hpp.splitExamples(test)\n",
    "ftrain, ftest = hpp.scaleFeatures(ftrain, ftest)\n",
    "print(ftrain.shape)\n",
    "print(ftest.shape)"
   ]
  },
  {
   "cell_type": "markdown",
   "metadata": {},
   "source": [
    "### 2 - test classifiers with no cross validation and predefined parameters (C=1, $\\gamma$ = 0.01)"
   ]
  },
  {
   "cell_type": "code",
   "execution_count": 231,
   "metadata": {
    "scrolled": true
   },
   "outputs": [
    {
     "name": "stdout",
     "output_type": "stream",
     "text": [
      "expected\t\tresult\n",
      "------------------------------\n",
      "in\t\tout\n",
      "in\t\tout\n",
      "in\t\tout\n",
      "in\t\tout\n",
      "in\t\tout\n",
      "in\t\tin\n",
      "out\t\tin\n",
      "out\t\tin\n",
      "out\t\tin\n",
      "out\t\tin\n",
      "out\t\tout\n",
      "out\t\tout\n",
      "out\t\tout\n",
      "out\t\tout\n",
      "------\n",
      "Got 5 out of 14 right! :)\n"
     ]
    }
   ],
   "source": [
    "clf1 = svm.SVC(kernel='linear', cache_size=1000, C=1)\n",
    "clf1.fit(X=ftrain, y=ltrain)\n",
    "hpp.printResults(ltest, clf1.predict(ftest))"
   ]
  },
  {
   "cell_type": "code",
   "execution_count": 232,
   "metadata": {},
   "outputs": [
    {
     "name": "stdout",
     "output_type": "stream",
     "text": [
      "expected\t\tresult\n",
      "------------------------------\n",
      "in\t\tout\n",
      "in\t\tout\n",
      "in\t\tout\n",
      "in\t\tout\n",
      "in\t\tout\n",
      "in\t\tin\n",
      "out\t\tin\n",
      "out\t\tout\n",
      "out\t\tin\n",
      "out\t\tin\n",
      "out\t\tout\n",
      "out\t\tout\n",
      "out\t\tout\n",
      "out\t\tin\n",
      "------\n",
      "Got 5 out of 14 right! :)\n"
     ]
    }
   ],
   "source": [
    "clf2 = svm.SVC(kernel='rbf', cache_size=1000, C=1, gamma=0.1)\n",
    "clf2.fit(X=ftrain, y=ltrain)\n",
    "hpp.printResults(ltest, clf2.predict(ftest))"
   ]
  },
  {
   "cell_type": "markdown",
   "metadata": {},
   "source": [
    "### 3 - Model selection:  Perform an exhaustive search, with k-fold cross-validation,  in the space parameter consisting of:\n",
    "* $C = 10^{i}, com -1 \\leq i \\leq 6$, for both linear and RBF kernels\n",
    "* $\\gamma = 10^{i}, com -3 \\leq i \\leq 3$, for RBF kernel."
   ]
  },
  {
   "cell_type": "code",
   "execution_count": 187,
   "metadata": {},
   "outputs": [],
   "source": [
    "crossval = StratifiedShuffleSplit(n_splits=k-1, test_size=0.2)\n",
    "\n",
    "# C varies from 10^(-1) to 10^6, gamma from 10^(-3) to 10^3\n",
    "c_range = np.logspace(-1, 2, 4) \n",
    "gamma_range = np.logspace(-2, 1, 4)\n",
    "\n",
    "param_lin=dict(C=c_range)\n",
    "param_rbf=dict(C=c_range, gamma=gamma_range)\n"
   ]
  },
  {
   "cell_type": "code",
   "execution_count": 193,
   "metadata": {},
   "outputs": [
    {
     "name": "stdout",
     "output_type": "stream",
     "text": [
      "Kernel linear --- \n",
      "Best params: {'C': 10.0} with score 0.77551\n"
     ]
    }
   ],
   "source": [
    "grid_lin = GridSearchCV(svm.SVC(kernel='linear', cache_size=1000), param_grid=param_lin, cv=crossval)\n",
    "grid_lin.fit(X=ftrain, y=ltrain)\n",
    "\n",
    "print(\"Kernel linear --- \")\n",
    "print(\"Best params: %s with score %0.5f\" % (grid_lin.best_params_, grid_lin.best_score_))"
   ]
  },
  {
   "cell_type": "code",
   "execution_count": 201,
   "metadata": {},
   "outputs": [
    {
     "name": "stdout",
     "output_type": "stream",
     "text": [
      "Kernel RBF --- \n",
      "Best params: {'C': 1.0, 'gamma': 0.10000000000000001} with score 0.79082\n"
     ]
    }
   ],
   "source": [
    "grid_rbf = GridSearchCV(svm.SVC(kernel='rbf', cache_size=1000), param_grid=param_rbf, cv=crossval)\n",
    "grid_rbf.fit(X=ftrain, y=ltrain)\n",
    "\n",
    "print(\"Kernel RBF --- \")\n",
    "print(\"Best params: %s with score %0.5f\" % (grid_rbf.best_params_, grid_rbf.best_score_))"
   ]
  },
  {
   "cell_type": "code",
   "execution_count": null,
   "metadata": {
    "collapsed": true
   },
   "outputs": [],
   "source": []
  },
  {
   "cell_type": "code",
   "execution_count": null,
   "metadata": {},
   "outputs": [],
   "source": []
  },
  {
   "cell_type": "code",
   "execution_count": null,
   "metadata": {},
   "outputs": [],
   "source": []
  },
  {
   "cell_type": "code",
   "execution_count": null,
   "metadata": {
    "collapsed": true
   },
   "outputs": [],
   "source": []
  },
  {
   "cell_type": "code",
   "execution_count": 140,
   "metadata": {},
   "outputs": [
    {
     "name": "stdout",
     "output_type": "stream",
     "text": [
      "eat: 36 examples (29 for train and 7 for test)\n",
      "focused-active: 43 examples (35 for train and 8 for test)\n",
      "focused-passive: 40 examples (32 for train and 8 for test)\n",
      "household-chores: 40 examples (32 for train and 8 for test)\n",
      "leisure-passive: 49 examples (40 for train and 9 for test)\n",
      "movement: 30 examples (24 for train and 6 for test)\n",
      "rest-active: 19 examples (16 for train and 3 for test)\n",
      "sleep: 43 examples (35 for train and 8 for test)\n",
      "\n",
      "Total: 243 train examples and 57 test examples \n"
     ]
    }
   ],
   "source": [
    "ltrain, ltest, ftrain, ftest = hpp.trainAndTestDatasets(labels, examples, k )"
   ]
  }
 ],
 "metadata": {
  "kernelspec": {
   "display_name": "Python 3",
   "language": "python",
   "name": "python3"
  },
  "language_info": {
   "codemirror_mode": {
    "name": "ipython",
    "version": 3
   },
   "file_extension": ".py",
   "mimetype": "text/x-python",
   "name": "python",
   "nbconvert_exporter": "python",
   "pygments_lexer": "ipython3",
   "version": "3.6.2"
  }
 },
 "nbformat": 4,
 "nbformat_minor": 2
}
