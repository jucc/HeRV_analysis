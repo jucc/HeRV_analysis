{
 "cells": [
  {
   "cell_type": "code",
   "execution_count": 7,
   "metadata": {},
   "outputs": [
    {
     "name": "stdout",
     "output_type": "stream",
     "text": [
      "The autoreload extension is already loaded. To reload it, use:\n",
      "  %reload_ext autoreload\n"
     ]
    }
   ],
   "source": [
    "%load_ext autoreload\n",
    "%autoreload 2\n",
    "%matplotlib inline  \n",
    "\n",
    "import pandas as pd\n",
    "import numpy as np\n",
    "import matplotlib.pyplot as plt\n",
    "import re\n",
    "\n",
    "import hervpd as hp\n",
    "import csvUtils as csvu\n",
    "import parseActivityFiles as paf\n",
    "import parseIntervalFiles as pif"
   ]
  },
  {
   "cell_type": "code",
   "execution_count": 2,
   "metadata": {
    "collapsed": true
   },
   "outputs": [],
   "source": [
    "    user = 0\n",
    "    RAW_DATA_PATH = \"C:\\\\Users\\\\Ju\\\\Google Drive\\\\Projects\\\\HeRV\\\\Data\\\\Raw\\\\%d\"%user\n",
    "    PRE_DATA_PATH = \"C:\\\\Users\\\\Ju\\\\Google Drive\\\\Projects\\\\HeRV\\\\Data\\\\PreProcessed\\\\%d\"%user\n",
    "    verbose = True"
   ]
  },
  {
   "cell_type": "code",
   "execution_count": 3,
   "metadata": {},
   "outputs": [
    {
     "name": "stdout",
     "output_type": "stream",
     "text": [
      "reading act170929.csv ... \n",
      "orphan stop in: ['2017-09-29 00:19:00', 'stop', '', '', '', '', '']\n",
      "reading act170930.csv ... \n",
      "reading act171001.csv ... \n",
      "reading act171003.csv ... \n",
      "orphan start in: ['2017-10-03 22:56:19', 'start', 'eat', 'sitting']\n",
      "reading act171004.csv ... \n",
      "orphan start in: ['2017-10-04 13:31:16', 'start', 'movement', 'standing']\n",
      "orphan start in: ['2017-10-04 14:59:24', 'start', 'rest-passive', 'sitting']\n",
      "orphan start in: ['2017-10-04 15:14:23', 'start', 'movement', 'standing']\n",
      "orphan start in: ['2017-10-04 17:05:36', 'start', 'rest-passive', 'sitting']\n",
      "orphan start in: ['2017-10-04 23:30:33', 'start', 'sleep', 'lying down']\n",
      "reading act171005.csv ... \n",
      "orphan start in: ['2017-10-05 11:08:11', 'start', 'focused-passive', 'sitting', '']\n",
      "orphan start in: ['2017-10-05 12:54:00', 'start', 'eat', 'sitting', '']\n",
      "orphan start in: ['2017-10-05 13:48:39', 'start', 'rest-active', 'sitting', '']\n",
      "orphan start in: ['2017-10-05 13:57:37', 'start', 'movement', 'standing', '']\n",
      "orphan start in: ['2017-10-05 17:55:44', 'start', 'focused-active', 'sitting', '']\n",
      "orphan start in: ['2017-10-05 21:53:45', 'start', 'rest-active', 'sitting', '']\n",
      "orphan start in: ['2017-10-05 23:47:45', 'start', 'focused-active', 'sitting', 'sitting on bed, installing and using pandas']\n",
      "reading act171006.csv ... \n",
      "reading act171010.csv ... \n",
      "orphan start in: ['2017-10-10 23:23:37', 'start', 'leisure-passive', 'sitting']\n",
      "reading act171011.csv ... \n",
      "orphan stop in: ['2017-10-11 0:04:41', 'stop', '', '', '']\n",
      "orphan start in: ['2017-10-11 12:30:10', 'start', 'moving', 'standing', '']\n",
      "orphan start in: ['2017-10-11 17:51:14', 'start', 'household-chores', 'standing']\n",
      "reading act171012.csv ... \n",
      "orphan start in: ['2017-10-12 12:17:07', 'start', 'household-chores', 'standing']\n",
      "orphan stop in: ['2017-10-12 14:09:16', 'stop', '', '']\n",
      "reading act171013.csv ... \n",
      "reading act171014.csv ... \n",
      "orphan stop in: ['2017-10-14 2:14:21', 'stop', '', '', '']\n",
      "orphan start in: ['2017-10-14 11:58:31', 'start', 'focused-active', 'lying down', '']\n",
      "reading act171015.csv ... \n",
      "orphan stop in: ['2017-10-15 1:41:24', 'stop', '', '', '']\n",
      "reading act171016.csv ... \n",
      "reading act171017.csv ... \n",
      "reading act171028.csv ... \n",
      "orphan start in: ['2017-10-28 11:48:07', 'start', 'sleep', 'posture']\n",
      "reading act171029.csv ... \n",
      "orphan stop in: ['2017-10-29 15:27:59', 'stop', '', '']\n",
      "reading act171031.csv ... \n",
      "reading act171101.csv ... \n",
      "reading act171102.csv ... \n",
      "reading act171103.csv ... \n",
      "reading act171104.csv ... \n",
      "reading act171105.csv ... \n",
      "orphan stop in: ['2017-11-05 6:40:42', 'stop', '', '']\n",
      "reading act171106.csv ... \n",
      "orphan stop in: ['2017-11-06 10:20:29', 'stop', '', '']\n",
      "reading act171107.csv ... \n",
      "reading act171108.csv ... \n",
      "orphan stop in: ['2017-11-08 9:30', 'stop', '', '', '']\n",
      "orphan stop in: ['2017-11-08 9:42', 'stop', '', '', '']\n",
      "orphan stop in: ['2017-11-08 15:46', 'stop', '', '', '']\n",
      "orphan stop in: ['2017-11-08 19:37', 'stop', '', '', '']\n",
      "orphan stop in: ['2017-11-08 21:27', 'stop', '', '', '']\n",
      "reading act171109.csv ... \n",
      "157 sessions extracted and 32 errors found in 27 files\n"
     ]
    }
   ],
   "source": [
    "sessions = paf.parseActivityFiles(dirname=RAW_DATA_PATH)"
   ]
  },
  {
   "cell_type": "code",
   "execution_count": 9,
   "metadata": {},
   "outputs": [],
   "source": [
    "for sess in sessions:        \n",
    "    sess['duration'] = int((sess['stop']-sess['start']).seconds)        \n",
    "    sess['rr'] = pif.getIntervals(sess['start'], sess['stop'], RAW_DATA_PATH)    "
   ]
  },
  {
   "cell_type": "code",
   "execution_count": 10,
   "metadata": {},
   "outputs": [
    {
     "data": {
      "text/html": [
       "<div>\n",
       "<style>\n",
       "    .dataframe thead tr:only-child th {\n",
       "        text-align: right;\n",
       "    }\n",
       "\n",
       "    .dataframe thead th {\n",
       "        text-align: left;\n",
       "    }\n",
       "\n",
       "    .dataframe tbody tr th {\n",
       "        vertical-align: top;\n",
       "    }\n",
       "</style>\n",
       "<table border=\"1\" class=\"dataframe\">\n",
       "  <thead>\n",
       "    <tr style=\"text-align: right;\">\n",
       "      <th></th>\n",
       "      <th>activity</th>\n",
       "      <th>duration</th>\n",
       "      <th>notes</th>\n",
       "      <th>posture</th>\n",
       "      <th>rr</th>\n",
       "      <th>start</th>\n",
       "      <th>stop</th>\n",
       "    </tr>\n",
       "  </thead>\n",
       "  <tbody>\n",
       "    <tr>\n",
       "      <th>0</th>\n",
       "      <td>rest-active</td>\n",
       "      <td>360</td>\n",
       "      <td>break</td>\n",
       "      <td>standing</td>\n",
       "      <td>[]</td>\n",
       "      <td>2017-09-29 00:19:00</td>\n",
       "      <td>2017-09-29 00:25:00</td>\n",
       "    </tr>\n",
       "    <tr>\n",
       "      <th>1</th>\n",
       "      <td>focused-active</td>\n",
       "      <td>240</td>\n",
       "      <td>despair over lost file</td>\n",
       "      <td>sitting</td>\n",
       "      <td>[]</td>\n",
       "      <td>2017-09-29 00:26:00</td>\n",
       "      <td>2017-09-29 00:30:00</td>\n",
       "    </tr>\n",
       "    <tr>\n",
       "      <th>2</th>\n",
       "      <td>leisure-active</td>\n",
       "      <td>2040</td>\n",
       "      <td>playing</td>\n",
       "      <td>lying down</td>\n",
       "      <td>[]</td>\n",
       "      <td>2017-09-29 00:32:00</td>\n",
       "      <td>2017-09-29 01:06:00</td>\n",
       "    </tr>\n",
       "    <tr>\n",
       "      <th>3</th>\n",
       "      <td>sleep</td>\n",
       "      <td>18600</td>\n",
       "      <td></td>\n",
       "      <td>lying down</td>\n",
       "      <td>[]</td>\n",
       "      <td>2017-09-29 01:06:00</td>\n",
       "      <td>2017-09-29 06:16:00</td>\n",
       "    </tr>\n",
       "    <tr>\n",
       "      <th>4</th>\n",
       "      <td>movement</td>\n",
       "      <td>2880</td>\n",
       "      <td>walking</td>\n",
       "      <td>standing</td>\n",
       "      <td>[]</td>\n",
       "      <td>2017-09-29 06:21:00</td>\n",
       "      <td>2017-09-29 07:09:00</td>\n",
       "    </tr>\n",
       "  </tbody>\n",
       "</table>\n",
       "</div>"
      ],
      "text/plain": [
       "         activity  duration                   notes     posture  rr  \\\n",
       "0     rest-active       360                   break    standing  []   \n",
       "1  focused-active       240  despair over lost file     sitting  []   \n",
       "2  leisure-active      2040                 playing  lying down  []   \n",
       "3           sleep     18600                          lying down  []   \n",
       "4        movement      2880                 walking    standing  []   \n",
       "\n",
       "                start                stop  \n",
       "0 2017-09-29 00:19:00 2017-09-29 00:25:00  \n",
       "1 2017-09-29 00:26:00 2017-09-29 00:30:00  \n",
       "2 2017-09-29 00:32:00 2017-09-29 01:06:00  \n",
       "3 2017-09-29 01:06:00 2017-09-29 06:16:00  \n",
       "4 2017-09-29 06:21:00 2017-09-29 07:09:00  "
      ]
     },
     "execution_count": 10,
     "metadata": {},
     "output_type": "execute_result"
    }
   ],
   "source": [
    "df = pd.DataFrame(sessions)\n",
    "df.head()"
   ]
  },
  {
   "cell_type": "code",
   "execution_count": null,
   "metadata": {
    "collapsed": true
   },
   "outputs": [],
   "source": []
  }
 ],
 "metadata": {
  "kernelspec": {
   "display_name": "Python 3",
   "language": "python",
   "name": "python3"
  },
  "language_info": {
   "codemirror_mode": {
    "name": "ipython",
    "version": 3
   },
   "file_extension": ".py",
   "mimetype": "text/x-python",
   "name": "python",
   "nbconvert_exporter": "python",
   "pygments_lexer": "ipython3",
   "version": "3.6.3"
  }
 },
 "nbformat": 4,
 "nbformat_minor": 2
}
