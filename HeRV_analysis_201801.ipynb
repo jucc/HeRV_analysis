{
 "cells": [
  {
   "cell_type": "code",
   "execution_count": 23,
   "metadata": {},
   "outputs": [
    {
     "name": "stdout",
     "output_type": "stream",
     "text": [
      "The autoreload extension is already loaded. To reload it, use:\n",
      "  %reload_ext autoreload\n"
     ]
    }
   ],
   "source": [
    "%load_ext autoreload\n",
    "%autoreload 2\n",
    "%matplotlib inline  \n",
    "\n",
    "import pandas as pd\n",
    "import numpy as np\n",
    "import matplotlib.pyplot as plt\n",
    "\n",
    "from sklearn import svm\n",
    "from sklearn.ensemble import RandomForestClassifier\n",
    "from sklearn.preprocessing import scale\n",
    "from sklearn.model_selection import StratifiedShuffleSplit, GridSearchCV, train_test_split\n",
    "\n",
    "import hervpd as hp\n",
    "import plotReport as pr"
   ]
  },
  {
   "cell_type": "markdown",
   "metadata": {},
   "source": [
    "## 1. Data description"
   ]
  },
  {
   "cell_type": "code",
   "execution_count": 24,
   "metadata": {},
   "outputs": [
    {
     "data": {
      "text/html": [
       "<div>\n",
       "<style>\n",
       "    .dataframe thead tr:only-child th {\n",
       "        text-align: right;\n",
       "    }\n",
       "\n",
       "    .dataframe thead th {\n",
       "        text-align: left;\n",
       "    }\n",
       "\n",
       "    .dataframe tbody tr th {\n",
       "        vertical-align: top;\n",
       "    }\n",
       "</style>\n",
       "<table border=\"1\" class=\"dataframe\">\n",
       "  <thead>\n",
       "    <tr style=\"text-align: right;\">\n",
       "      <th></th>\n",
       "      <th>hf</th>\n",
       "      <th>hfnu</th>\n",
       "      <th>lf</th>\n",
       "      <th>lf_hf</th>\n",
       "      <th>lfnu</th>\n",
       "      <th>mhr</th>\n",
       "      <th>mrri</th>\n",
       "      <th>nn50</th>\n",
       "      <th>order</th>\n",
       "      <th>pnn50</th>\n",
       "      <th>rmssd</th>\n",
       "      <th>sdnn</th>\n",
       "      <th>sess</th>\n",
       "      <th>total_power</th>\n",
       "      <th>user</th>\n",
       "      <th>vlf</th>\n",
       "    </tr>\n",
       "  </thead>\n",
       "  <tbody>\n",
       "    <tr>\n",
       "      <th>count</th>\n",
       "      <td>2.694000e+03</td>\n",
       "      <td>2694.000000</td>\n",
       "      <td>2.694000e+03</td>\n",
       "      <td>2694.000000</td>\n",
       "      <td>2694.000000</td>\n",
       "      <td>2694.000000</td>\n",
       "      <td>2694.000000</td>\n",
       "      <td>2694.000000</td>\n",
       "      <td>2694.000000</td>\n",
       "      <td>2694.000000</td>\n",
       "      <td>2694.000000</td>\n",
       "      <td>2694.000000</td>\n",
       "      <td>2694.000000</td>\n",
       "      <td>2.694000e+03</td>\n",
       "      <td>2694.000000</td>\n",
       "      <td>2.694000e+03</td>\n",
       "    </tr>\n",
       "    <tr>\n",
       "      <th>mean</th>\n",
       "      <td>2.387300e+04</td>\n",
       "      <td>45.815472</td>\n",
       "      <td>4.127698e+05</td>\n",
       "      <td>2.465940</td>\n",
       "      <td>54.184528</td>\n",
       "      <td>78.661621</td>\n",
       "      <td>819.019148</td>\n",
       "      <td>89.473645</td>\n",
       "      <td>18.990720</td>\n",
       "      <td>25.773847</td>\n",
       "      <td>112.382566</td>\n",
       "      <td>114.926574</td>\n",
       "      <td>162.705642</td>\n",
       "      <td>1.475527e+06</td>\n",
       "      <td>1.624722</td>\n",
       "      <td>1.038884e+06</td>\n",
       "    </tr>\n",
       "    <tr>\n",
       "      <th>std</th>\n",
       "      <td>1.821238e+05</td>\n",
       "      <td>23.079335</td>\n",
       "      <td>8.977828e+06</td>\n",
       "      <td>4.822733</td>\n",
       "      <td>23.079335</td>\n",
       "      <td>18.109035</td>\n",
       "      <td>173.770072</td>\n",
       "      <td>71.387172</td>\n",
       "      <td>24.864286</td>\n",
       "      <td>22.689257</td>\n",
       "      <td>169.919067</td>\n",
       "      <td>122.765916</td>\n",
       "      <td>117.628292</td>\n",
       "      <td>4.585638e+07</td>\n",
       "      <td>2.009594</td>\n",
       "      <td>3.707927e+07</td>\n",
       "    </tr>\n",
       "    <tr>\n",
       "      <th>min</th>\n",
       "      <td>5.751146e-01</td>\n",
       "      <td>1.419545</td>\n",
       "      <td>2.567078e+00</td>\n",
       "      <td>0.027289</td>\n",
       "      <td>2.656368</td>\n",
       "      <td>47.596407</td>\n",
       "      <td>334.157205</td>\n",
       "      <td>0.000000</td>\n",
       "      <td>0.000000</td>\n",
       "      <td>0.000000</td>\n",
       "      <td>3.369205</td>\n",
       "      <td>13.625541</td>\n",
       "      <td>0.000000</td>\n",
       "      <td>3.390064e+01</td>\n",
       "      <td>0.000000</td>\n",
       "      <td>2.559104e+01</td>\n",
       "    </tr>\n",
       "    <tr>\n",
       "      <th>25%</th>\n",
       "      <td>3.727382e+02</td>\n",
       "      <td>26.437869</td>\n",
       "      <td>5.863960e+02</td>\n",
       "      <td>0.563744</td>\n",
       "      <td>36.050930</td>\n",
       "      <td>66.002474</td>\n",
       "      <td>703.884813</td>\n",
       "      <td>30.000000</td>\n",
       "      <td>2.000000</td>\n",
       "      <td>7.290387</td>\n",
       "      <td>33.034351</td>\n",
       "      <td>53.887830</td>\n",
       "      <td>63.000000</td>\n",
       "      <td>1.761790e+03</td>\n",
       "      <td>0.000000</td>\n",
       "      <td>5.059374e+02</td>\n",
       "    </tr>\n",
       "    <tr>\n",
       "      <th>50%</th>\n",
       "      <td>9.172297e+02</td>\n",
       "      <td>43.726407</td>\n",
       "      <td>1.280138e+03</td>\n",
       "      <td>1.286951</td>\n",
       "      <td>56.273593</td>\n",
       "      <td>77.199486</td>\n",
       "      <td>793.543971</td>\n",
       "      <td>72.000000</td>\n",
       "      <td>7.000000</td>\n",
       "      <td>18.870437</td>\n",
       "      <td>53.744197</td>\n",
       "      <td>77.456919</td>\n",
       "      <td>135.000000</td>\n",
       "      <td>3.576149e+03</td>\n",
       "      <td>1.000000</td>\n",
       "      <td>1.088380e+03</td>\n",
       "    </tr>\n",
       "    <tr>\n",
       "      <th>75%</th>\n",
       "      <td>4.668043e+03</td>\n",
       "      <td>63.949070</td>\n",
       "      <td>3.023524e+03</td>\n",
       "      <td>2.782454</td>\n",
       "      <td>73.562131</td>\n",
       "      <td>87.023533</td>\n",
       "      <td>933.362043</td>\n",
       "      <td>136.000000</td>\n",
       "      <td>29.000000</td>\n",
       "      <td>39.789854</td>\n",
       "      <td>131.090808</td>\n",
       "      <td>138.225573</td>\n",
       "      <td>295.000000</td>\n",
       "      <td>1.190274e+04</td>\n",
       "      <td>2.000000</td>\n",
       "      <td>2.524048e+03</td>\n",
       "    </tr>\n",
       "    <tr>\n",
       "      <th>max</th>\n",
       "      <td>6.139868e+06</td>\n",
       "      <td>97.343632</td>\n",
       "      <td>4.263838e+08</td>\n",
       "      <td>69.445109</td>\n",
       "      <td>98.580455</td>\n",
       "      <td>180.176325</td>\n",
       "      <td>1269.037344</td>\n",
       "      <td>354.000000</td>\n",
       "      <td>113.000000</td>\n",
       "      <td>91.726619</td>\n",
       "      <td>2239.263240</td>\n",
       "      <td>1776.464653</td>\n",
       "      <td>350.000000</td>\n",
       "      <td>2.338062e+09</td>\n",
       "      <td>6.000000</td>\n",
       "      <td>1.905538e+09</td>\n",
       "    </tr>\n",
       "  </tbody>\n",
       "</table>\n",
       "</div>"
      ],
      "text/plain": [
       "                 hf         hfnu            lf        lf_hf         lfnu  \\\n",
       "count  2.694000e+03  2694.000000  2.694000e+03  2694.000000  2694.000000   \n",
       "mean   2.387300e+04    45.815472  4.127698e+05     2.465940    54.184528   \n",
       "std    1.821238e+05    23.079335  8.977828e+06     4.822733    23.079335   \n",
       "min    5.751146e-01     1.419545  2.567078e+00     0.027289     2.656368   \n",
       "25%    3.727382e+02    26.437869  5.863960e+02     0.563744    36.050930   \n",
       "50%    9.172297e+02    43.726407  1.280138e+03     1.286951    56.273593   \n",
       "75%    4.668043e+03    63.949070  3.023524e+03     2.782454    73.562131   \n",
       "max    6.139868e+06    97.343632  4.263838e+08    69.445109    98.580455   \n",
       "\n",
       "               mhr         mrri         nn50        order        pnn50  \\\n",
       "count  2694.000000  2694.000000  2694.000000  2694.000000  2694.000000   \n",
       "mean     78.661621   819.019148    89.473645    18.990720    25.773847   \n",
       "std      18.109035   173.770072    71.387172    24.864286    22.689257   \n",
       "min      47.596407   334.157205     0.000000     0.000000     0.000000   \n",
       "25%      66.002474   703.884813    30.000000     2.000000     7.290387   \n",
       "50%      77.199486   793.543971    72.000000     7.000000    18.870437   \n",
       "75%      87.023533   933.362043   136.000000    29.000000    39.789854   \n",
       "max     180.176325  1269.037344   354.000000   113.000000    91.726619   \n",
       "\n",
       "             rmssd         sdnn         sess   total_power         user  \\\n",
       "count  2694.000000  2694.000000  2694.000000  2.694000e+03  2694.000000   \n",
       "mean    112.382566   114.926574   162.705642  1.475527e+06     1.624722   \n",
       "std     169.919067   122.765916   117.628292  4.585638e+07     2.009594   \n",
       "min       3.369205    13.625541     0.000000  3.390064e+01     0.000000   \n",
       "25%      33.034351    53.887830    63.000000  1.761790e+03     0.000000   \n",
       "50%      53.744197    77.456919   135.000000  3.576149e+03     1.000000   \n",
       "75%     131.090808   138.225573   295.000000  1.190274e+04     2.000000   \n",
       "max    2239.263240  1776.464653   350.000000  2.338062e+09     6.000000   \n",
       "\n",
       "                vlf  \n",
       "count  2.694000e+03  \n",
       "mean   1.038884e+06  \n",
       "std    3.707927e+07  \n",
       "min    2.559104e+01  \n",
       "25%    5.059374e+02  \n",
       "50%    1.088380e+03  \n",
       "75%    2.524048e+03  \n",
       "max    1.905538e+09  "
      ]
     },
     "execution_count": 24,
     "metadata": {},
     "output_type": "execute_result"
    }
   ],
   "source": [
    "df = pd.read_excel('/home/ju/GDrive/Projects/HeRV/Data/PreProcessed/df_90_300.xlsx')\n",
    "df.describe()"
   ]
  },
  {
   "cell_type": "code",
   "execution_count": 25,
   "metadata": {},
   "outputs": [
    {
     "data": {
      "image/png": "[encoded data removed]",
      "text/plain": [
       "<matplotlib.figure.Figure at 0x7f05190a3b38>"
      ]
     },
     "metadata": {},
     "output_type": "display_data"
    }
   ],
   "source": [
    "hp.plot_count(df, 'activity', exclude=['sleep'])"
   ]
  },
  {
   "cell_type": "markdown",
   "metadata": {},
   "source": [
    "## 2A. Data preparation - Inserting labels for aggregating categories:\n",
    "\n",
    "* 1: move vs still = exercise (high and low intensity), movement, household chores X *others*\n",
    "* 2: sleep vs awake =  sleep X *others*\n",
    "* 3: move vs sleep vs stand = Move (from 1) X Sleep (from 2) X *others*\n"
   ]
  },
  {
   "cell_type": "code",
   "execution_count": 26,
   "metadata": {
    "collapsed": true
   },
   "outputs": [],
   "source": [
    "movelist = ['exercise-high', 'exercise-low', 'movement', 'household-chores']\n",
    "#df = hp.add_partition(df, movelist, pname='move', labelIn='move', labelOut='still')\n",
    "    \n",
    "sleeplist = ['sleep']\n",
    "#df = hp.add_partition(df, sleeplist, pname='sleep', labelIn='sleep', labelOut='wake')\n",
    "\n",
    "df['sleeping'] = np.where(df['activity'].isin(sleeplist), 1, 0)\n",
    "df['moving'] = np.where(df['activity'].isin(movelist), 1, 0)\n",
    "df['still'] = np.where(~df['activity'].isin(movelist) & ~df['activity'].isin(sleeplist), 1, 0)\n",
    "df['lyingdown'] = np.where(df['posture'].isin(['lie', 'lying down']), 1, 0)\n",
    "df['sitting'] = np.where(df['posture'].isin(['sit','sitting']), 1, 0)\n",
    "df['standing'] = np.where(df['posture'].isin(['stand','standing', 'standing ']), 1, 0)\n"
   ]
  },
  {
   "cell_type": "code",
   "execution_count": 27,
   "metadata": {},
   "outputs": [
    {
     "data": {
      "text/html": [
       "<div>\n",
       "<style>\n",
       "    .dataframe thead tr:only-child th {\n",
       "        text-align: right;\n",
       "    }\n",
       "\n",
       "    .dataframe thead th {\n",
       "        text-align: left;\n",
       "    }\n",
       "\n",
       "    .dataframe tbody tr th {\n",
       "        vertical-align: top;\n",
       "    }\n",
       "</style>\n",
       "<table border=\"1\" class=\"dataframe\">\n",
       "  <thead>\n",
       "    <tr style=\"text-align: right;\">\n",
       "      <th></th>\n",
       "      <th>activity</th>\n",
       "      <th>hf</th>\n",
       "      <th>hfnu</th>\n",
       "      <th>lf</th>\n",
       "      <th>lf_hf</th>\n",
       "      <th>lfnu</th>\n",
       "      <th>mhr</th>\n",
       "      <th>mrri</th>\n",
       "      <th>nn50</th>\n",
       "      <th>order</th>\n",
       "      <th>...</th>\n",
       "      <th>stop</th>\n",
       "      <th>total_power</th>\n",
       "      <th>user</th>\n",
       "      <th>vlf</th>\n",
       "      <th>sleeping</th>\n",
       "      <th>moving</th>\n",
       "      <th>still</th>\n",
       "      <th>lyingdown</th>\n",
       "      <th>sitting</th>\n",
       "      <th>standing</th>\n",
       "    </tr>\n",
       "  </thead>\n",
       "  <tbody>\n",
       "    <tr>\n",
       "      <th>479</th>\n",
       "      <td>focused-active</td>\n",
       "      <td>2695.170693</td>\n",
       "      <td>66.343597</td>\n",
       "      <td>1.367272e+03</td>\n",
       "      <td>0.507304</td>\n",
       "      <td>33.656403</td>\n",
       "      <td>73.785314</td>\n",
       "      <td>822.959677</td>\n",
       "      <td>132</td>\n",
       "      <td>6</td>\n",
       "      <td>...</td>\n",
       "      <td>2017-10-15 21:56:22</td>\n",
       "      <td>4.847181e+03</td>\n",
       "      <td>0</td>\n",
       "      <td>7.847383e+02</td>\n",
       "      <td>0</td>\n",
       "      <td>0</td>\n",
       "      <td>1</td>\n",
       "      <td>0</td>\n",
       "      <td>1</td>\n",
       "      <td>0</td>\n",
       "    </tr>\n",
       "    <tr>\n",
       "      <th>1072</th>\n",
       "      <td>sleep</td>\n",
       "      <td>9820.313400</td>\n",
       "      <td>71.997101</td>\n",
       "      <td>3.819560e+03</td>\n",
       "      <td>0.388945</td>\n",
       "      <td>28.002899</td>\n",
       "      <td>92.334969</td>\n",
       "      <td>747.578049</td>\n",
       "      <td>235</td>\n",
       "      <td>4</td>\n",
       "      <td>...</td>\n",
       "      <td>2017-10-04 11:50:30</td>\n",
       "      <td>1.778475e+04</td>\n",
       "      <td>0</td>\n",
       "      <td>4.144878e+03</td>\n",
       "      <td>1</td>\n",
       "      <td>0</td>\n",
       "      <td>0</td>\n",
       "      <td>1</td>\n",
       "      <td>0</td>\n",
       "      <td>0</td>\n",
       "    </tr>\n",
       "    <tr>\n",
       "      <th>125</th>\n",
       "      <td>focused-active</td>\n",
       "      <td>194.365678</td>\n",
       "      <td>31.947794</td>\n",
       "      <td>4.140196e+02</td>\n",
       "      <td>2.130107</td>\n",
       "      <td>68.052206</td>\n",
       "      <td>92.709087</td>\n",
       "      <td>649.624204</td>\n",
       "      <td>15</td>\n",
       "      <td>0</td>\n",
       "      <td>...</td>\n",
       "      <td>2017-10-14 18:10:30</td>\n",
       "      <td>9.890172e+02</td>\n",
       "      <td>0</td>\n",
       "      <td>3.806319e+02</td>\n",
       "      <td>0</td>\n",
       "      <td>0</td>\n",
       "      <td>1</td>\n",
       "      <td>0</td>\n",
       "      <td>1</td>\n",
       "      <td>0</td>\n",
       "    </tr>\n",
       "    <tr>\n",
       "      <th>587</th>\n",
       "      <td>focused-active</td>\n",
       "      <td>281.301581</td>\n",
       "      <td>46.528693</td>\n",
       "      <td>3.232750e+02</td>\n",
       "      <td>1.149211</td>\n",
       "      <td>53.471307</td>\n",
       "      <td>84.649691</td>\n",
       "      <td>710.993039</td>\n",
       "      <td>26</td>\n",
       "      <td>1</td>\n",
       "      <td>...</td>\n",
       "      <td>2017-11-09 13:52:11</td>\n",
       "      <td>1.004016e+03</td>\n",
       "      <td>0</td>\n",
       "      <td>3.994398e+02</td>\n",
       "      <td>0</td>\n",
       "      <td>0</td>\n",
       "      <td>1</td>\n",
       "      <td>0</td>\n",
       "      <td>1</td>\n",
       "      <td>0</td>\n",
       "    </tr>\n",
       "    <tr>\n",
       "      <th>1377</th>\n",
       "      <td>leisure-passive</td>\n",
       "      <td>35178.388459</td>\n",
       "      <td>29.734945</td>\n",
       "      <td>8.312817e+04</td>\n",
       "      <td>2.363046</td>\n",
       "      <td>70.265055</td>\n",
       "      <td>70.378932</td>\n",
       "      <td>871.212465</td>\n",
       "      <td>62</td>\n",
       "      <td>12</td>\n",
       "      <td>...</td>\n",
       "      <td>2017-10-30 01:42:10</td>\n",
       "      <td>1.493199e+05</td>\n",
       "      <td>1</td>\n",
       "      <td>3.101330e+04</td>\n",
       "      <td>0</td>\n",
       "      <td>0</td>\n",
       "      <td>1</td>\n",
       "      <td>0</td>\n",
       "      <td>1</td>\n",
       "      <td>0</td>\n",
       "    </tr>\n",
       "    <tr>\n",
       "      <th>828</th>\n",
       "      <td>movement</td>\n",
       "      <td>386.291038</td>\n",
       "      <td>37.653973</td>\n",
       "      <td>6.396061e+02</td>\n",
       "      <td>1.655762</td>\n",
       "      <td>62.346027</td>\n",
       "      <td>90.095691</td>\n",
       "      <td>670.947230</td>\n",
       "      <td>21</td>\n",
       "      <td>19</td>\n",
       "      <td>...</td>\n",
       "      <td>2017-10-12 12:05:52</td>\n",
       "      <td>1.955152e+03</td>\n",
       "      <td>0</td>\n",
       "      <td>9.292545e+02</td>\n",
       "      <td>0</td>\n",
       "      <td>1</td>\n",
       "      <td>0</td>\n",
       "      <td>0</td>\n",
       "      <td>0</td>\n",
       "      <td>1</td>\n",
       "    </tr>\n",
       "    <tr>\n",
       "      <th>1144</th>\n",
       "      <td>focused-passive</td>\n",
       "      <td>20630.623176</td>\n",
       "      <td>48.097589</td>\n",
       "      <td>2.226264e+04</td>\n",
       "      <td>1.079106</td>\n",
       "      <td>51.902411</td>\n",
       "      <td>71.469826</td>\n",
       "      <td>870.321937</td>\n",
       "      <td>193</td>\n",
       "      <td>33</td>\n",
       "      <td>...</td>\n",
       "      <td>2017-10-05 12:26:13</td>\n",
       "      <td>4.512889e+04</td>\n",
       "      <td>0</td>\n",
       "      <td>2.235629e+03</td>\n",
       "      <td>0</td>\n",
       "      <td>0</td>\n",
       "      <td>1</td>\n",
       "      <td>0</td>\n",
       "      <td>1</td>\n",
       "      <td>0</td>\n",
       "    </tr>\n",
       "    <tr>\n",
       "      <th>847</th>\n",
       "      <td>rest-active</td>\n",
       "      <td>815.058350</td>\n",
       "      <td>39.943069</td>\n",
       "      <td>1.225492e+03</td>\n",
       "      <td>1.503563</td>\n",
       "      <td>60.056931</td>\n",
       "      <td>95.463464</td>\n",
       "      <td>636.221992</td>\n",
       "      <td>38</td>\n",
       "      <td>2</td>\n",
       "      <td>...</td>\n",
       "      <td>2017-10-12 14:25:47</td>\n",
       "      <td>3.141356e+03</td>\n",
       "      <td>0</td>\n",
       "      <td>1.100806e+03</td>\n",
       "      <td>0</td>\n",
       "      <td>0</td>\n",
       "      <td>1</td>\n",
       "      <td>0</td>\n",
       "      <td>1</td>\n",
       "      <td>0</td>\n",
       "    </tr>\n",
       "    <tr>\n",
       "      <th>737</th>\n",
       "      <td>sleep</td>\n",
       "      <td>10196.371570</td>\n",
       "      <td>83.353656</td>\n",
       "      <td>2.036291e+03</td>\n",
       "      <td>0.199707</td>\n",
       "      <td>16.646344</td>\n",
       "      <td>57.652157</td>\n",
       "      <td>1057.234483</td>\n",
       "      <td>205</td>\n",
       "      <td>81</td>\n",
       "      <td>...</td>\n",
       "      <td>2017-10-11 08:28:40</td>\n",
       "      <td>1.327269e+04</td>\n",
       "      <td>0</td>\n",
       "      <td>1.040027e+03</td>\n",
       "      <td>1</td>\n",
       "      <td>0</td>\n",
       "      <td>0</td>\n",
       "      <td>1</td>\n",
       "      <td>0</td>\n",
       "      <td>0</td>\n",
       "    </tr>\n",
       "    <tr>\n",
       "      <th>1766</th>\n",
       "      <td>not-recorded</td>\n",
       "      <td>3321.407477</td>\n",
       "      <td>62.506090</td>\n",
       "      <td>1.992327e+03</td>\n",
       "      <td>0.599844</td>\n",
       "      <td>37.493910</td>\n",
       "      <td>82.763434</td>\n",
       "      <td>736.711538</td>\n",
       "      <td>54</td>\n",
       "      <td>2</td>\n",
       "      <td>...</td>\n",
       "      <td>2017-10-17 18:27:30</td>\n",
       "      <td>6.035122e+03</td>\n",
       "      <td>2</td>\n",
       "      <td>7.213881e+02</td>\n",
       "      <td>0</td>\n",
       "      <td>0</td>\n",
       "      <td>1</td>\n",
       "      <td>0</td>\n",
       "      <td>1</td>\n",
       "      <td>0</td>\n",
       "    </tr>\n",
       "    <tr>\n",
       "      <th>640</th>\n",
       "      <td>exercise-low</td>\n",
       "      <td>168.797360</td>\n",
       "      <td>57.236879</td>\n",
       "      <td>1.261128e+02</td>\n",
       "      <td>0.747125</td>\n",
       "      <td>42.763121</td>\n",
       "      <td>169.796600</td>\n",
       "      <td>354.596065</td>\n",
       "      <td>12</td>\n",
       "      <td>3</td>\n",
       "      <td>...</td>\n",
       "      <td>2017-11-01 07:36:09</td>\n",
       "      <td>3.395057e+02</td>\n",
       "      <td>0</td>\n",
       "      <td>4.459556e+01</td>\n",
       "      <td>0</td>\n",
       "      <td>1</td>\n",
       "      <td>0</td>\n",
       "      <td>0</td>\n",
       "      <td>0</td>\n",
       "      <td>1</td>\n",
       "    </tr>\n",
       "    <tr>\n",
       "      <th>2565</th>\n",
       "      <td>leisure-active</td>\n",
       "      <td>1405.609129</td>\n",
       "      <td>30.322218</td>\n",
       "      <td>3.229966e+03</td>\n",
       "      <td>2.297912</td>\n",
       "      <td>69.677782</td>\n",
       "      <td>74.325835</td>\n",
       "      <td>816.432000</td>\n",
       "      <td>139</td>\n",
       "      <td>6</td>\n",
       "      <td>...</td>\n",
       "      <td>2017-12-30 22:15:45</td>\n",
       "      <td>5.634369e+03</td>\n",
       "      <td>6</td>\n",
       "      <td>9.987940e+02</td>\n",
       "      <td>0</td>\n",
       "      <td>0</td>\n",
       "      <td>1</td>\n",
       "      <td>0</td>\n",
       "      <td>1</td>\n",
       "      <td>0</td>\n",
       "    </tr>\n",
       "    <tr>\n",
       "      <th>302</th>\n",
       "      <td>sleep</td>\n",
       "      <td>31287.995344</td>\n",
       "      <td>82.232354</td>\n",
       "      <td>6.760283e+03</td>\n",
       "      <td>0.216066</td>\n",
       "      <td>17.767646</td>\n",
       "      <td>61.667382</td>\n",
       "      <td>1009.295082</td>\n",
       "      <td>206</td>\n",
       "      <td>51</td>\n",
       "      <td>...</td>\n",
       "      <td>2017-10-13 05:37:31</td>\n",
       "      <td>4.102765e+04</td>\n",
       "      <td>0</td>\n",
       "      <td>2.979373e+03</td>\n",
       "      <td>1</td>\n",
       "      <td>0</td>\n",
       "      <td>0</td>\n",
       "      <td>1</td>\n",
       "      <td>0</td>\n",
       "      <td>0</td>\n",
       "    </tr>\n",
       "    <tr>\n",
       "      <th>1470</th>\n",
       "      <td>sleep</td>\n",
       "      <td>41709.049358</td>\n",
       "      <td>21.686094</td>\n",
       "      <td>1.506218e+05</td>\n",
       "      <td>3.611250</td>\n",
       "      <td>78.313906</td>\n",
       "      <td>49.688617</td>\n",
       "      <td>1230.649194</td>\n",
       "      <td>108</td>\n",
       "      <td>31</td>\n",
       "      <td>...</td>\n",
       "      <td>2018-01-23 06:46:56</td>\n",
       "      <td>2.428692e+05</td>\n",
       "      <td>1</td>\n",
       "      <td>5.053839e+04</td>\n",
       "      <td>1</td>\n",
       "      <td>0</td>\n",
       "      <td>0</td>\n",
       "      <td>1</td>\n",
       "      <td>0</td>\n",
       "      <td>0</td>\n",
       "    </tr>\n",
       "    <tr>\n",
       "      <th>1571</th>\n",
       "      <td>rest-passive</td>\n",
       "      <td>662.427900</td>\n",
       "      <td>15.170748</td>\n",
       "      <td>3.704053e+03</td>\n",
       "      <td>5.591633</td>\n",
       "      <td>84.829252</td>\n",
       "      <td>75.982521</td>\n",
       "      <td>796.746114</td>\n",
       "      <td>56</td>\n",
       "      <td>5</td>\n",
       "      <td>...</td>\n",
       "      <td>2017-11-30 15:49:22</td>\n",
       "      <td>5.100604e+03</td>\n",
       "      <td>1</td>\n",
       "      <td>7.341230e+02</td>\n",
       "      <td>0</td>\n",
       "      <td>0</td>\n",
       "      <td>1</td>\n",
       "      <td>0</td>\n",
       "      <td>1</td>\n",
       "      <td>0</td>\n",
       "    </tr>\n",
       "    <tr>\n",
       "      <th>2559</th>\n",
       "      <td>leisure-active</td>\n",
       "      <td>1084.840715</td>\n",
       "      <td>35.968008</td>\n",
       "      <td>1.931286e+03</td>\n",
       "      <td>1.780248</td>\n",
       "      <td>64.031992</td>\n",
       "      <td>82.694855</td>\n",
       "      <td>748.624390</td>\n",
       "      <td>111</td>\n",
       "      <td>0</td>\n",
       "      <td>...</td>\n",
       "      <td>2017-12-30 21:45:45</td>\n",
       "      <td>5.420304e+03</td>\n",
       "      <td>6</td>\n",
       "      <td>2.404178e+03</td>\n",
       "      <td>0</td>\n",
       "      <td>0</td>\n",
       "      <td>1</td>\n",
       "      <td>0</td>\n",
       "      <td>1</td>\n",
       "      <td>0</td>\n",
       "    </tr>\n",
       "    <tr>\n",
       "      <th>1221</th>\n",
       "      <td>sleep</td>\n",
       "      <td>528.922840</td>\n",
       "      <td>87.470676</td>\n",
       "      <td>7.576306e+01</td>\n",
       "      <td>0.143240</td>\n",
       "      <td>12.529324</td>\n",
       "      <td>82.962422</td>\n",
       "      <td>724.399527</td>\n",
       "      <td>64</td>\n",
       "      <td>0</td>\n",
       "      <td>...</td>\n",
       "      <td>2017-10-31 17:09:49</td>\n",
       "      <td>6.780775e+02</td>\n",
       "      <td>0</td>\n",
       "      <td>7.339161e+01</td>\n",
       "      <td>1</td>\n",
       "      <td>0</td>\n",
       "      <td>0</td>\n",
       "      <td>1</td>\n",
       "      <td>0</td>\n",
       "      <td>0</td>\n",
       "    </tr>\n",
       "    <tr>\n",
       "      <th>2495</th>\n",
       "      <td>rest-passive</td>\n",
       "      <td>746.795670</td>\n",
       "      <td>58.259387</td>\n",
       "      <td>5.350504e+02</td>\n",
       "      <td>0.716462</td>\n",
       "      <td>41.740613</td>\n",
       "      <td>73.050056</td>\n",
       "      <td>824.843666</td>\n",
       "      <td>102</td>\n",
       "      <td>0</td>\n",
       "      <td>...</td>\n",
       "      <td>2017-12-27 16:42:16</td>\n",
       "      <td>1.907786e+03</td>\n",
       "      <td>5</td>\n",
       "      <td>6.259394e+02</td>\n",
       "      <td>0</td>\n",
       "      <td>0</td>\n",
       "      <td>1</td>\n",
       "      <td>0</td>\n",
       "      <td>1</td>\n",
       "      <td>0</td>\n",
       "    </tr>\n",
       "    <tr>\n",
       "      <th>274</th>\n",
       "      <td>sleep</td>\n",
       "      <td>865.660459</td>\n",
       "      <td>87.365900</td>\n",
       "      <td>1.251843e+02</td>\n",
       "      <td>0.144611</td>\n",
       "      <td>12.634100</td>\n",
       "      <td>75.363803</td>\n",
       "      <td>797.746736</td>\n",
       "      <td>67</td>\n",
       "      <td>21</td>\n",
       "      <td>...</td>\n",
       "      <td>2017-10-13 03:07:31</td>\n",
       "      <td>1.161690e+03</td>\n",
       "      <td>0</td>\n",
       "      <td>1.708455e+02</td>\n",
       "      <td>1</td>\n",
       "      <td>0</td>\n",
       "      <td>0</td>\n",
       "      <td>1</td>\n",
       "      <td>0</td>\n",
       "      <td>0</td>\n",
       "    </tr>\n",
       "    <tr>\n",
       "      <th>2090</th>\n",
       "      <td>leisure-passive</td>\n",
       "      <td>229116.706869</td>\n",
       "      <td>7.191486</td>\n",
       "      <td>2.956827e+06</td>\n",
       "      <td>12.905332</td>\n",
       "      <td>92.808514</td>\n",
       "      <td>89.259471</td>\n",
       "      <td>717.247664</td>\n",
       "      <td>24</td>\n",
       "      <td>1</td>\n",
       "      <td>...</td>\n",
       "      <td>2017-12-20 20:40:59</td>\n",
       "      <td>5.326039e+06</td>\n",
       "      <td>4</td>\n",
       "      <td>2.140095e+06</td>\n",
       "      <td>0</td>\n",
       "      <td>0</td>\n",
       "      <td>1</td>\n",
       "      <td>1</td>\n",
       "      <td>0</td>\n",
       "      <td>0</td>\n",
       "    </tr>\n",
       "  </tbody>\n",
       "</table>\n",
       "<p>20 rows × 26 columns</p>\n",
       "</div>"
      ],
      "text/plain": [
       "             activity             hf       hfnu            lf      lf_hf  \\\n",
       "479    focused-active    2695.170693  66.343597  1.367272e+03   0.507304   \n",
       "1072            sleep    9820.313400  71.997101  3.819560e+03   0.388945   \n",
       "125    focused-active     194.365678  31.947794  4.140196e+02   2.130107   \n",
       "587    focused-active     281.301581  46.528693  3.232750e+02   1.149211   \n",
       "1377  leisure-passive   35178.388459  29.734945  8.312817e+04   2.363046   \n",
       "828          movement     386.291038  37.653973  6.396061e+02   1.655762   \n",
       "1144  focused-passive   20630.623176  48.097589  2.226264e+04   1.079106   \n",
       "847       rest-active     815.058350  39.943069  1.225492e+03   1.503563   \n",
       "737             sleep   10196.371570  83.353656  2.036291e+03   0.199707   \n",
       "1766     not-recorded    3321.407477  62.506090  1.992327e+03   0.599844   \n",
       "640      exercise-low     168.797360  57.236879  1.261128e+02   0.747125   \n",
       "2565   leisure-active    1405.609129  30.322218  3.229966e+03   2.297912   \n",
       "302             sleep   31287.995344  82.232354  6.760283e+03   0.216066   \n",
       "1470            sleep   41709.049358  21.686094  1.506218e+05   3.611250   \n",
       "1571     rest-passive     662.427900  15.170748  3.704053e+03   5.591633   \n",
       "2559   leisure-active    1084.840715  35.968008  1.931286e+03   1.780248   \n",
       "1221            sleep     528.922840  87.470676  7.576306e+01   0.143240   \n",
       "2495     rest-passive     746.795670  58.259387  5.350504e+02   0.716462   \n",
       "274             sleep     865.660459  87.365900  1.251843e+02   0.144611   \n",
       "2090  leisure-passive  229116.706869   7.191486  2.956827e+06  12.905332   \n",
       "\n",
       "           lfnu         mhr         mrri  nn50  order    ...     \\\n",
       "479   33.656403   73.785314   822.959677   132      6    ...      \n",
       "1072  28.002899   92.334969   747.578049   235      4    ...      \n",
       "125   68.052206   92.709087   649.624204    15      0    ...      \n",
       "587   53.471307   84.649691   710.993039    26      1    ...      \n",
       "1377  70.265055   70.378932   871.212465    62     12    ...      \n",
       "828   62.346027   90.095691   670.947230    21     19    ...      \n",
       "1144  51.902411   71.469826   870.321937   193     33    ...      \n",
       "847   60.056931   95.463464   636.221992    38      2    ...      \n",
       "737   16.646344   57.652157  1057.234483   205     81    ...      \n",
       "1766  37.493910   82.763434   736.711538    54      2    ...      \n",
       "640   42.763121  169.796600   354.596065    12      3    ...      \n",
       "2565  69.677782   74.325835   816.432000   139      6    ...      \n",
       "302   17.767646   61.667382  1009.295082   206     51    ...      \n",
       "1470  78.313906   49.688617  1230.649194   108     31    ...      \n",
       "1571  84.829252   75.982521   796.746114    56      5    ...      \n",
       "2559  64.031992   82.694855   748.624390   111      0    ...      \n",
       "1221  12.529324   82.962422   724.399527    64      0    ...      \n",
       "2495  41.740613   73.050056   824.843666   102      0    ...      \n",
       "274   12.634100   75.363803   797.746736    67     21    ...      \n",
       "2090  92.808514   89.259471   717.247664    24      1    ...      \n",
       "\n",
       "                    stop   total_power  user           vlf  sleeping moving  \\\n",
       "479  2017-10-15 21:56:22  4.847181e+03     0  7.847383e+02         0      0   \n",
       "1072 2017-10-04 11:50:30  1.778475e+04     0  4.144878e+03         1      0   \n",
       "125  2017-10-14 18:10:30  9.890172e+02     0  3.806319e+02         0      0   \n",
       "587  2017-11-09 13:52:11  1.004016e+03     0  3.994398e+02         0      0   \n",
       "1377 2017-10-30 01:42:10  1.493199e+05     1  3.101330e+04         0      0   \n",
       "828  2017-10-12 12:05:52  1.955152e+03     0  9.292545e+02         0      1   \n",
       "1144 2017-10-05 12:26:13  4.512889e+04     0  2.235629e+03         0      0   \n",
       "847  2017-10-12 14:25:47  3.141356e+03     0  1.100806e+03         0      0   \n",
       "737  2017-10-11 08:28:40  1.327269e+04     0  1.040027e+03         1      0   \n",
       "1766 2017-10-17 18:27:30  6.035122e+03     2  7.213881e+02         0      0   \n",
       "640  2017-11-01 07:36:09  3.395057e+02     0  4.459556e+01         0      1   \n",
       "2565 2017-12-30 22:15:45  5.634369e+03     6  9.987940e+02         0      0   \n",
       "302  2017-10-13 05:37:31  4.102765e+04     0  2.979373e+03         1      0   \n",
       "1470 2018-01-23 06:46:56  2.428692e+05     1  5.053839e+04         1      0   \n",
       "1571 2017-11-30 15:49:22  5.100604e+03     1  7.341230e+02         0      0   \n",
       "2559 2017-12-30 21:45:45  5.420304e+03     6  2.404178e+03         0      0   \n",
       "1221 2017-10-31 17:09:49  6.780775e+02     0  7.339161e+01         1      0   \n",
       "2495 2017-12-27 16:42:16  1.907786e+03     5  6.259394e+02         0      0   \n",
       "274  2017-10-13 03:07:31  1.161690e+03     0  1.708455e+02         1      0   \n",
       "2090 2017-12-20 20:40:59  5.326039e+06     4  2.140095e+06         0      0   \n",
       "\n",
       "     still  lyingdown  sitting  standing  \n",
       "479      1          0        1         0  \n",
       "1072     0          1        0         0  \n",
       "125      1          0        1         0  \n",
       "587      1          0        1         0  \n",
       "1377     1          0        1         0  \n",
       "828      0          0        0         1  \n",
       "1144     1          0        1         0  \n",
       "847      1          0        1         0  \n",
       "737      0          1        0         0  \n",
       "1766     1          0        1         0  \n",
       "640      0          0        0         1  \n",
       "2565     1          0        1         0  \n",
       "302      0          1        0         0  \n",
       "1470     0          1        0         0  \n",
       "1571     1          0        1         0  \n",
       "2559     1          0        1         0  \n",
       "1221     0          1        0         0  \n",
       "2495     1          0        1         0  \n",
       "274      0          1        0         0  \n",
       "2090     1          1        0         0  \n",
       "\n",
       "[20 rows x 26 columns]"
      ]
     },
     "execution_count": 27,
     "metadata": {},
     "output_type": "execute_result"
    }
   ],
   "source": [
    "df.sample(20)"
   ]
  },
  {
   "cell_type": "code",
   "execution_count": 28,
   "metadata": {},
   "outputs": [
    {
     "data": {
      "text/plain": [
       "sleeping\n",
       "0    1604\n",
       "1    1090\n",
       "Name: user, dtype: int64"
      ]
     },
     "execution_count": 28,
     "metadata": {},
     "output_type": "execute_result"
    }
   ],
   "source": [
    "hp.count_by(df, 'sleeping')"
   ]
  },
  {
   "cell_type": "code",
   "execution_count": 29,
   "metadata": {},
   "outputs": [
    {
     "data": {
      "text/plain": [
       "moving\n",
       "0    2304\n",
       "1     390\n",
       "Name: user, dtype: int64"
      ]
     },
     "execution_count": 29,
     "metadata": {},
     "output_type": "execute_result"
    }
   ],
   "source": [
    "hp.count_by(df, 'moving')"
   ]
  },
  {
   "cell_type": "code",
   "execution_count": 30,
   "metadata": {},
   "outputs": [
    {
     "data": {
      "text/plain": [
       "still\n",
       "0    1480\n",
       "1    1214\n",
       "Name: user, dtype: int64"
      ]
     },
     "execution_count": 30,
     "metadata": {},
     "output_type": "execute_result"
    }
   ],
   "source": [
    "hp.count_by(df, 'still')"
   ]
  },
  {
   "cell_type": "code",
   "execution_count": 31,
   "metadata": {},
   "outputs": [
    {
     "data": {
      "text/plain": [
       "lyingdown\n",
       "0    1564\n",
       "1    1130\n",
       "Name: user, dtype: int64"
      ]
     },
     "execution_count": 31,
     "metadata": {},
     "output_type": "execute_result"
    }
   ],
   "source": [
    "hp.count_by(df, 'lyingdown')"
   ]
  },
  {
   "cell_type": "code",
   "execution_count": 32,
   "metadata": {},
   "outputs": [
    {
     "data": {
      "text/plain": [
       "standing\n",
       "0    2304\n",
       "1     390\n",
       "Name: user, dtype: int64"
      ]
     },
     "execution_count": 32,
     "metadata": {},
     "output_type": "execute_result"
    }
   ],
   "source": [
    "hp.count_by(df, 'standing')"
   ]
  },
  {
   "cell_type": "code",
   "execution_count": 33,
   "metadata": {},
   "outputs": [
    {
     "data": {
      "text/plain": [
       "sitting\n",
       "0    1546\n",
       "1    1148\n",
       "Name: user, dtype: int64"
      ]
     },
     "execution_count": 33,
     "metadata": {},
     "output_type": "execute_result"
    }
   ],
   "source": [
    "hp.count_by(df, 'sitting')"
   ]
  },
  {
   "cell_type": "markdown",
   "metadata": {},
   "source": [
    "## 2B. Data preparation - scaling and splitting test and train datasets"
   ]
  },
  {
   "cell_type": "code",
   "execution_count": 83,
   "metadata": {},
   "outputs": [
    {
     "name": "stdout",
     "output_type": "stream",
     "text": [
      "2155 539\n",
      "1028 258\n",
      "242 61\n",
      "352 89\n",
      "43 11\n",
      "161 41\n",
      "180 46\n",
      "145 37\n"
     ]
    }
   ],
   "source": [
    "feature_list = ['hf', 'hfnu', 'lf', 'lf_hf', 'lfnu', 'mhr', 'mrri', 'nn50', 'hf', 'pnn50', 'rmssd', 'sdnn', 'total_power', 'vlf']\n",
    "one_hot_labels = ['moving', 'sleeping', 'still', 'sitting', 'standing', 'lyingdown']\n",
    "all_labels = ['activity', 'posture', 'moving', 'sleeping', 'still', 'sitting', 'standing', 'lyingdown']\n",
    "train, test = hp.preprocess(df, feature_list)\n",
    "ttu = [hp.preprocess(hp.user_data(df, user), feature_list) for user in range(7)]"
   ]
  },
  {
   "cell_type": "code",
   "execution_count": 84,
   "metadata": {},
   "outputs": [
    {
     "name": "stdout",
     "output_type": "stream",
     "text": [
      "[(1028, 258), (242, 61), (352, 89), (43, 11), (161, 41), (180, 46), (145, 37)]\n"
     ]
    }
   ],
   "source": [
    "print ([(len(ttu[i][0]), len(ttu[i][1])) for i in range(7)])"
   ]
  },
  {
   "cell_type": "markdown",
   "metadata": {},
   "source": [
    "## 3. SVM classification - Moving vs still (including sleep in still activities)"
   ]
  },
  {
   "cell_type": "code",
   "execution_count": 65,
   "metadata": {},
   "outputs": [
    {
     "name": "stdout",
     "output_type": "stream",
     "text": [
      "2155 539\n",
      "Best params for linear kernel: {'C': 100.0} with score 0.90603\n",
      "Best params for RBF kernel: {'C': 10.0, 'gamma': 0.10000000000000001} with score 0.90371\n"
     ]
    }
   ],
   "source": [
    "label='activity'\n",
    "C1, C2, gamma = hp.model_selection_svm(df, feature_list, labelName=label)"
   ]
  },
  {
   "cell_type": "markdown",
   "metadata": {},
   "source": [
    "### 3A. For all users combined"
   ]
  },
  {
   "cell_type": "code",
   "execution_count": 85,
   "metadata": {},
   "outputs": [
    {
     "name": "stderr",
     "output_type": "stream",
     "text": [
      "/home/ju/anaconda3/lib/python3.6/site-packages/sklearn/metrics/classification.py:1428: UserWarning: labels size, 14, does not match size of target_names, 2\n",
      "  .format(len(labels), len(target_names))\n",
      "/home/ju/anaconda3/lib/python3.6/site-packages/sklearn/metrics/classification.py:1135: UndefinedMetricWarning: Precision and F-score are ill-defined and being set to 0.0 in labels with no predicted samples.\n",
      "  'precision', 'predicted', average, warn_for)\n",
      "/home/ju/anaconda3/lib/python3.6/site-packages/sklearn/metrics/classification.py:1137: UndefinedMetricWarning: Recall and F-score are ill-defined and being set to 0.0 in labels with no true samples.\n",
      "  'recall', 'true', average, warn_for)\n"
     ]
    },
    {
     "name": "stdout",
     "output_type": "stream",
     "text": [
      "activity :  0.552875695733\n"
     ]
    },
    {
     "name": "stderr",
     "output_type": "stream",
     "text": [
      "/home/ju/anaconda3/lib/python3.6/site-packages/sklearn/metrics/classification.py:1428: UserWarning: labels size, 8, does not match size of target_names, 2\n",
      "  .format(len(labels), len(target_names))\n"
     ]
    },
    {
     "name": "stdout",
     "output_type": "stream",
     "text": [
      "posture :  0.701298701299\n",
      "moving :  0.907235621521\n",
      "sleeping :  0.890538033395\n",
      "still :  0.807050092764\n",
      "sitting :  0.808905380334\n",
      "standing :  0.909090909091\n",
      "lyingdown :  0.894248608534\n"
     ]
    }
   ],
   "source": [
    "for label in all_labels:\n",
    "    clf_svm = hp.clf_svm_rbf(train, feature_list, labelName=label, C=C2, gamma=gamma)\n",
    "    print(label, ': ', hp.report_test(clf_svm, test, feature_list, labels=[label], print_report=False, plot_report=False))"
   ]
  },
  {
   "cell_type": "markdown",
   "metadata": {},
   "source": [
    "### 3B. For each user (SVM moving x still)"
   ]
  },
  {
   "cell_type": "code",
   "execution_count": 66,
   "metadata": {},
   "outputs": [
    {
     "name": "stdout",
     "output_type": "stream",
     "text": [
      "---------------- User:  0  ----------------------\n",
      "             precision    recall  f1-score   support\n",
      "\n",
      " not moving       0.93      0.94      0.94       208\n",
      "     moving       0.73      0.72      0.73        50\n",
      "\n",
      "avg / total       0.89      0.90      0.89       258\n",
      "\n",
      "0.895348837209 \n",
      "\n",
      "---------------- User:  1  ----------------------\n",
      "             precision    recall  f1-score   support\n",
      "\n",
      " not moving       1.00      0.96      0.98        56\n",
      "     moving       0.71      1.00      0.83         5\n",
      "\n",
      "avg / total       0.98      0.97      0.97        61\n",
      "\n",
      "0.967213114754 \n",
      "\n",
      "---------------- User:  2  ----------------------\n",
      "             precision    recall  f1-score   support\n",
      "\n",
      " not moving       0.92      0.99      0.95        79\n",
      "     moving       0.75      0.30      0.43        10\n",
      "\n",
      "avg / total       0.90      0.91      0.89        89\n",
      "\n",
      "0.910112359551 \n",
      "\n",
      "---------------- User:  3  ----------------------\n",
      "             precision    recall  f1-score   support\n",
      "\n",
      " not moving       1.00      0.86      0.92         7\n",
      "     moving       0.80      1.00      0.89         4\n",
      "\n",
      "avg / total       0.93      0.91      0.91        11\n",
      "\n",
      "0.909090909091 \n",
      "\n",
      "---------------- User:  5  ----------------------\n",
      "             precision    recall  f1-score   support\n",
      "\n",
      " not moving       0.89      0.94      0.92        36\n",
      "     moving       0.75      0.60      0.67        10\n",
      "\n",
      "avg / total       0.86      0.87      0.86        46\n",
      "\n",
      "0.869565217391 \n",
      "\n"
     ]
    }
   ],
   "source": [
    "label='moving'\n",
    "for user in [0,1,2,3,5]:\n",
    "    train_u, test_u = ttu[user]\n",
    "    print ('---------------- User: ', user, ' ----------------------')\n",
    "    clf_svm = hp.clf_svm_rbf(train_u, feature_list, labelName=label, C=C2, gamma=gamma)\n",
    "    print(hp.report_test(clf_svm, test_u, feature_list, labels=[label], print_report=True, plot_report=False), '\\n')"
   ]
  },
  {
   "cell_type": "markdown",
   "metadata": {},
   "source": [
    "### 3C. For each user (SVM awake  x sleep)"
   ]
  },
  {
   "cell_type": "code",
   "execution_count": 74,
   "metadata": {},
   "outputs": [
    {
     "name": "stdout",
     "output_type": "stream",
     "text": [
      "---------------- User:  0  ----------------------\n",
      "              precision    recall  f1-score   support\n",
      "\n",
      "not sleeping       0.88      0.98      0.92       137\n",
      "    sleeping       0.97      0.84      0.90       121\n",
      "\n",
      " avg / total       0.92      0.91      0.91       258\n",
      "\n",
      "0.914728682171 \n",
      "\n",
      "---------------- User:  1  ----------------------\n",
      "              precision    recall  f1-score   support\n",
      "\n",
      "not sleeping       0.94      0.98      0.96        52\n",
      "    sleeping       0.86      0.67      0.75         9\n",
      "\n",
      " avg / total       0.93      0.93      0.93        61\n",
      "\n",
      "0.934426229508 \n",
      "\n",
      "---------------- User:  2  ----------------------\n",
      "              precision    recall  f1-score   support\n",
      "\n",
      "not sleeping       0.92      0.97      0.95        71\n",
      "    sleeping       0.86      0.67      0.75        18\n",
      "\n",
      " avg / total       0.91      0.91      0.91        89\n",
      "\n",
      "0.910112359551 \n",
      "\n",
      "---------------- User:  4  ----------------------\n",
      "              precision    recall  f1-score   support\n",
      "\n",
      "not sleeping       0.88      0.70      0.78        20\n",
      "    sleeping       0.76      0.90      0.83        21\n",
      "\n",
      " avg / total       0.82      0.80      0.80        41\n",
      "\n",
      "0.80487804878 \n",
      "\n",
      "---------------- User:  5  ----------------------\n",
      "              precision    recall  f1-score   support\n",
      "\n",
      "not sleeping       0.92      0.60      0.73        20\n",
      "    sleeping       0.76      0.96      0.85        26\n",
      "\n",
      " avg / total       0.83      0.80      0.80        46\n",
      "\n",
      "0.804347826087 \n",
      "\n",
      "---------------- User:  6  ----------------------\n",
      "              precision    recall  f1-score   support\n",
      "\n",
      "not sleeping       1.00      1.00      1.00        24\n",
      "    sleeping       1.00      1.00      1.00        13\n",
      "\n",
      " avg / total       1.00      1.00      1.00        37\n",
      "\n",
      "1.0 \n",
      "\n"
     ]
    }
   ],
   "source": [
    "label='sleeping'\n",
    "for user in df.loc[df[label]==1].user.unique(): #users that have sleep data\n",
    "    train_u, test_u = ttu[user]\n",
    "    print ('---------------- User: ', user, ' ----------------------')\n",
    "    clf_svm = hp.clf_svm_rbf(train_u, feature_list, labelName=label, C=C2, gamma=gamma)\n",
    "    print(hp.report_test(clf_svm, test_u, feature_list, labels=[label], print_report=True, plot_report=False), '\\n')"
   ]
  },
  {
   "cell_type": "markdown",
   "metadata": {
    "collapsed": true
   },
   "source": [
    "## 5. Random Forest classifier "
   ]
  },
  {
   "cell_type": "markdown",
   "metadata": {},
   "source": [
    "### 4A. For each label separately"
   ]
  },
  {
   "cell_type": "code",
   "execution_count": 86,
   "metadata": {},
   "outputs": [
    {
     "name": "stderr",
     "output_type": "stream",
     "text": [
      "/home/ju/workspace/HeRV_analysis/hervpd.py:106: DataConversionWarning: A column-vector y was passed when a 1d array was expected. Please change the shape of y to (n_samples,), for example using ravel().\n",
      "  clf.fit(X=df_train[features], y=df_train[labels])\n"
     ]
    },
    {
     "name": "stdout",
     "output_type": "stream",
     "text": [
      "activity :  0.582560296846\n"
     ]
    },
    {
     "name": "stderr",
     "output_type": "stream",
     "text": [
      "/home/ju/workspace/HeRV_analysis/hervpd.py:106: DataConversionWarning: A column-vector y was passed when a 1d array was expected. Please change the shape of y to (n_samples,), for example using ravel().\n",
      "  clf.fit(X=df_train[features], y=df_train[labels])\n"
     ]
    },
    {
     "name": "stdout",
     "output_type": "stream",
     "text": [
      "posture :  0.699443413729\n"
     ]
    },
    {
     "name": "stderr",
     "output_type": "stream",
     "text": [
      "/home/ju/workspace/HeRV_analysis/hervpd.py:106: DataConversionWarning: A column-vector y was passed when a 1d array was expected. Please change the shape of y to (n_samples,), for example using ravel().\n",
      "  clf.fit(X=df_train[features], y=df_train[labels])\n"
     ]
    },
    {
     "name": "stdout",
     "output_type": "stream",
     "text": [
      "moving :  0.91280148423\n"
     ]
    },
    {
     "name": "stderr",
     "output_type": "stream",
     "text": [
      "/home/ju/workspace/HeRV_analysis/hervpd.py:106: DataConversionWarning: A column-vector y was passed when a 1d array was expected. Please change the shape of y to (n_samples,), for example using ravel().\n",
      "  clf.fit(X=df_train[features], y=df_train[labels])\n"
     ]
    },
    {
     "name": "stdout",
     "output_type": "stream",
     "text": [
      "sleeping :  0.881261595547\n"
     ]
    },
    {
     "name": "stderr",
     "output_type": "stream",
     "text": [
      "/home/ju/workspace/HeRV_analysis/hervpd.py:106: DataConversionWarning: A column-vector y was passed when a 1d array was expected. Please change the shape of y to (n_samples,), for example using ravel().\n",
      "  clf.fit(X=df_train[features], y=df_train[labels])\n"
     ]
    },
    {
     "name": "stdout",
     "output_type": "stream",
     "text": [
      "still :  0.799628942486\n"
     ]
    },
    {
     "name": "stderr",
     "output_type": "stream",
     "text": [
      "/home/ju/workspace/HeRV_analysis/hervpd.py:106: DataConversionWarning: A column-vector y was passed when a 1d array was expected. Please change the shape of y to (n_samples,), for example using ravel().\n",
      "  clf.fit(X=df_train[features], y=df_train[labels])\n"
     ]
    },
    {
     "name": "stdout",
     "output_type": "stream",
     "text": [
      "sitting :  0.807050092764\n"
     ]
    },
    {
     "name": "stderr",
     "output_type": "stream",
     "text": [
      "/home/ju/workspace/HeRV_analysis/hervpd.py:106: DataConversionWarning: A column-vector y was passed when a 1d array was expected. Please change the shape of y to (n_samples,), for example using ravel().\n",
      "  clf.fit(X=df_train[features], y=df_train[labels])\n"
     ]
    },
    {
     "name": "stdout",
     "output_type": "stream",
     "text": [
      "standing :  0.899814471243\n"
     ]
    },
    {
     "name": "stderr",
     "output_type": "stream",
     "text": [
      "/home/ju/workspace/HeRV_analysis/hervpd.py:106: DataConversionWarning: A column-vector y was passed when a 1d array was expected. Please change the shape of y to (n_samples,), for example using ravel().\n",
      "  clf.fit(X=df_train[features], y=df_train[labels])\n"
     ]
    },
    {
     "name": "stdout",
     "output_type": "stream",
     "text": [
      "lyingdown :  0.894248608534\n"
     ]
    }
   ],
   "source": [
    "for label in all_labels:\n",
    "    clf = hp.clf_rf(train, feature_list, labels=[label])\n",
    "    print(label, ': ', clf.score(X=test[feature_list], y=test[label]))"
   ]
  },
  {
   "cell_type": "markdown",
   "metadata": {},
   "source": [
    "### 4B. For multi-1-hot encoded labels"
   ]
  },
  {
   "cell_type": "code",
   "execution_count": 91,
   "metadata": {},
   "outputs": [
    {
     "name": "stdout",
     "output_type": "stream",
     "text": [
      "             precision    recall  f1-score   support\n",
      "\n",
      "     moving       0.63      0.71      0.67        65\n",
      "   sleeping       0.88      0.79      0.83       211\n",
      "      still       0.80      0.77      0.78       263\n",
      "    sitting       0.81      0.76      0.78       247\n",
      "   standing       0.60      0.68      0.64        65\n",
      "  lyingdown       0.90      0.82      0.86       221\n",
      "\n",
      "avg / total       0.82      0.77      0.79      1072\n",
      "\n",
      "[0.63, 0.71, 0.67]\n",
      "[0.88, 0.79, 0.83]\n",
      "[0.8, 0.77, 0.78]\n",
      "[0.81, 0.76, 0.78]\n",
      "[0.6, 0.68, 0.64]\n",
      "[0.9, 0.82, 0.86]\n"
     ]
    },
    {
     "data": {
      "image/png": "[encoded data removed]",
      "text/plain": [
       "<matplotlib.figure.Figure at 0x7f0519028438>"
      ]
     },
     "metadata": {},
     "output_type": "display_data"
    },
    {
     "name": "stdout",
     "output_type": "stream",
     "text": [
      "0.725417439703 \n",
      "\n"
     ]
    }
   ],
   "source": [
    "clf = hp.clf_rf(train, feature_list, labels=one_hot_labels)\n",
    "print(hp.report_test(clf, test, feature_list, labels=one_hot_labels, print_report=True, plot_report=True), '\\n')"
   ]
  },
  {
   "cell_type": "code",
   "execution_count": null,
   "metadata": {},
   "outputs": [],
   "source": [
    "for user in [0,1,2,5,6]: \n",
    "    print('-------------- USER: ', user, '--------------')\n",
    "    dfu = hp.user_data(df, user)\n",
    "    clf = hp.clf_rf(train, feature_list, labels=one_hot_labels)\n",
    "    print(clf.score(X=test[feature_list], y=test[one_hot_labels]))\n",
    "    \n",
    "    "
   ]
  },
  {
   "cell_type": "code",
   "execution_count": null,
   "metadata": {},
   "outputs": [],
   "source": [
    "df_wake = hp.filter_out(df, 'is_asleep', [1])\n",
    "labels.remove('is_asleep')\n",
    "labels.remove('is_lyingdown')\n",
    "print(labels)"
   ]
  },
  {
   "cell_type": "code",
   "execution_count": null,
   "metadata": {},
   "outputs": [],
   "source": [
    "hp.run_rf(df_wake, feature_list, labels, print_report=True, plot_report=True)"
   ]
  },
  {
   "cell_type": "code",
   "execution_count": null,
   "metadata": {},
   "outputs": [],
   "source": [
    "for user in [0,1,2,5,6]: \n",
    "    print('-------------- USER: ', user, '--------------')\n",
    "    dfu = hp.user_data(df_wake, user)\n",
    "    uscore = hp.run_rf(dfu, feature_list, labels, plot_report=True)\n",
    "    print(uscore, '\\n\\n')"
   ]
  },
  {
   "cell_type": "code",
   "execution_count": null,
   "metadata": {
    "collapsed": true
   },
   "outputs": [],
   "source": []
  }
 ],
 "metadata": {
  "kernelspec": {
   "display_name": "Python 3",
   "language": "python",
   "name": "python3"
  },
  "language_info": {
   "codemirror_mode": {
    "name": "ipython",
    "version": 3
   },
   "file_extension": ".py",
   "mimetype": "text/x-python",
   "name": "python",
   "nbconvert_exporter": "python",
   "pygments_lexer": "ipython3",
   "version": "3.6.3"
  }
 },
 "nbformat": 4,
 "nbformat_minor": 2
}
