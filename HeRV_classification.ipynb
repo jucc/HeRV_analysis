{
 "cells": [
  {
   "cell_type": "code",
   "execution_count": 39,
   "metadata": {},
   "outputs": [
    {
     "name": "stdout",
     "output_type": "stream",
     "text": [
      "The autoreload extension is already loaded. To reload it, use:\n",
      "  %reload_ext autoreload\n"
     ]
    }
   ],
   "source": [
    "%load_ext autoreload\n",
    "%autoreload 2\n",
    "%matplotlib inline  \n",
    "\n",
    "import pandas as pd\n",
    "import numpy as np\n",
    "import matplotlib.pyplot as plt\n",
    "\n",
    "from sklearn import svm\n",
    "from sklearn.preprocessing import scale\n",
    "from sklearn.model_selection import StratifiedShuffleSplit, GridSearchCV, train_test_split\n",
    "\n",
    "import hervpd as hp\n",
    "import plotReport as pr"
   ]
  },
  {
   "cell_type": "code",
   "execution_count": 40,
   "metadata": {},
   "outputs": [
    {
     "data": {
      "text/html": [
       "<div>\n",
       "<style>\n",
       "    .dataframe thead tr:only-child th {\n",
       "        text-align: right;\n",
       "    }\n",
       "\n",
       "    .dataframe thead th {\n",
       "        text-align: left;\n",
       "    }\n",
       "\n",
       "    .dataframe tbody tr th {\n",
       "        vertical-align: top;\n",
       "    }\n",
       "</style>\n",
       "<table border=\"1\" class=\"dataframe\">\n",
       "  <thead>\n",
       "    <tr style=\"text-align: right;\">\n",
       "      <th></th>\n",
       "      <th>user</th>\n",
       "      <th>AVGNN</th>\n",
       "      <th>SDNN</th>\n",
       "      <th>MeanHR</th>\n",
       "      <th>MinHR</th>\n",
       "      <th>MaxHR</th>\n",
       "      <th>RMSSD</th>\n",
       "      <th>pNNxx</th>\n",
       "      <th>TINN</th>\n",
       "      <th>powerVLF</th>\n",
       "      <th>powerLF</th>\n",
       "      <th>powerHF</th>\n",
       "      <th>ratioHFLF</th>\n",
       "    </tr>\n",
       "  </thead>\n",
       "  <tbody>\n",
       "    <tr>\n",
       "      <th>count</th>\n",
       "      <td>544.000000</td>\n",
       "      <td>544.000000</td>\n",
       "      <td>544.000000</td>\n",
       "      <td>544.00000</td>\n",
       "      <td>544.000000</td>\n",
       "      <td>544.000000</td>\n",
       "      <td>544.000000</td>\n",
       "      <td>544.000000</td>\n",
       "      <td>544.000000</td>\n",
       "      <td>544.000000</td>\n",
       "      <td>544.000000</td>\n",
       "      <td>544.000000</td>\n",
       "      <td>544.000000</td>\n",
       "    </tr>\n",
       "    <tr>\n",
       "      <th>mean</th>\n",
       "      <td>1.187500</td>\n",
       "      <td>758.600000</td>\n",
       "      <td>72.865018</td>\n",
       "      <td>81.37714</td>\n",
       "      <td>67.362033</td>\n",
       "      <td>108.560417</td>\n",
       "      <td>46.409227</td>\n",
       "      <td>20.082227</td>\n",
       "      <td>358.020221</td>\n",
       "      <td>2877.387599</td>\n",
       "      <td>1423.919671</td>\n",
       "      <td>1000.824001</td>\n",
       "      <td>2.753764</td>\n",
       "    </tr>\n",
       "    <tr>\n",
       "      <th>std</th>\n",
       "      <td>0.913249</td>\n",
       "      <td>129.785003</td>\n",
       "      <td>32.960406</td>\n",
       "      <td>13.75457</td>\n",
       "      <td>10.849680</td>\n",
       "      <td>36.385572</td>\n",
       "      <td>32.537407</td>\n",
       "      <td>18.316263</td>\n",
       "      <td>146.885899</td>\n",
       "      <td>3619.576847</td>\n",
       "      <td>1443.217366</td>\n",
       "      <td>1841.656665</td>\n",
       "      <td>2.296974</td>\n",
       "    </tr>\n",
       "    <tr>\n",
       "      <th>min</th>\n",
       "      <td>0.000000</td>\n",
       "      <td>475.730000</td>\n",
       "      <td>17.833000</td>\n",
       "      <td>51.62800</td>\n",
       "      <td>41.437000</td>\n",
       "      <td>58.117000</td>\n",
       "      <td>4.882500</td>\n",
       "      <td>0.000000</td>\n",
       "      <td>83.000000</td>\n",
       "      <td>85.654000</td>\n",
       "      <td>57.852000</td>\n",
       "      <td>7.977700</td>\n",
       "      <td>0.154680</td>\n",
       "    </tr>\n",
       "    <tr>\n",
       "      <th>25%</th>\n",
       "      <td>0.000000</td>\n",
       "      <td>670.362500</td>\n",
       "      <td>51.871500</td>\n",
       "      <td>73.23225</td>\n",
       "      <td>60.292750</td>\n",
       "      <td>91.470250</td>\n",
       "      <td>27.438750</td>\n",
       "      <td>6.593075</td>\n",
       "      <td>258.000000</td>\n",
       "      <td>995.182500</td>\n",
       "      <td>591.307500</td>\n",
       "      <td>258.917500</td>\n",
       "      <td>1.257000</td>\n",
       "    </tr>\n",
       "    <tr>\n",
       "      <th>50%</th>\n",
       "      <td>2.000000</td>\n",
       "      <td>750.545000</td>\n",
       "      <td>67.057000</td>\n",
       "      <td>79.94200</td>\n",
       "      <td>66.181500</td>\n",
       "      <td>100.520000</td>\n",
       "      <td>37.994500</td>\n",
       "      <td>15.417500</td>\n",
       "      <td>339.000000</td>\n",
       "      <td>1807.950000</td>\n",
       "      <td>1040.350000</td>\n",
       "      <td>512.090000</td>\n",
       "      <td>2.037350</td>\n",
       "    </tr>\n",
       "    <tr>\n",
       "      <th>75%</th>\n",
       "      <td>2.000000</td>\n",
       "      <td>819.307500</td>\n",
       "      <td>85.820000</td>\n",
       "      <td>89.50400</td>\n",
       "      <td>74.285250</td>\n",
       "      <td>112.580000</td>\n",
       "      <td>54.762250</td>\n",
       "      <td>26.790500</td>\n",
       "      <td>426.250000</td>\n",
       "      <td>3304.250000</td>\n",
       "      <td>1697.950000</td>\n",
       "      <td>960.045000</td>\n",
       "      <td>3.579975</td>\n",
       "    </tr>\n",
       "    <tr>\n",
       "      <th>max</th>\n",
       "      <td>2.000000</td>\n",
       "      <td>1162.200000</td>\n",
       "      <td>264.250000</td>\n",
       "      <td>126.12000</td>\n",
       "      <td>104.900000</td>\n",
       "      <td>550.320000</td>\n",
       "      <td>240.470000</td>\n",
       "      <td>98.232000</td>\n",
       "      <td>1103.000000</td>\n",
       "      <td>29716.000000</td>\n",
       "      <td>12958.000000</td>\n",
       "      <td>16103.000000</td>\n",
       "      <td>18.228000</td>\n",
       "    </tr>\n",
       "  </tbody>\n",
       "</table>\n",
       "</div>"
      ],
      "text/plain": [
       "             user        AVGNN        SDNN     MeanHR       MinHR       MaxHR  \\\n",
       "count  544.000000   544.000000  544.000000  544.00000  544.000000  544.000000   \n",
       "mean     1.187500   758.600000   72.865018   81.37714   67.362033  108.560417   \n",
       "std      0.913249   129.785003   32.960406   13.75457   10.849680   36.385572   \n",
       "min      0.000000   475.730000   17.833000   51.62800   41.437000   58.117000   \n",
       "25%      0.000000   670.362500   51.871500   73.23225   60.292750   91.470250   \n",
       "50%      2.000000   750.545000   67.057000   79.94200   66.181500  100.520000   \n",
       "75%      2.000000   819.307500   85.820000   89.50400   74.285250  112.580000   \n",
       "max      2.000000  1162.200000  264.250000  126.12000  104.900000  550.320000   \n",
       "\n",
       "            RMSSD       pNNxx         TINN      powerVLF       powerLF  \\\n",
       "count  544.000000  544.000000   544.000000    544.000000    544.000000   \n",
       "mean    46.409227   20.082227   358.020221   2877.387599   1423.919671   \n",
       "std     32.537407   18.316263   146.885899   3619.576847   1443.217366   \n",
       "min      4.882500    0.000000    83.000000     85.654000     57.852000   \n",
       "25%     27.438750    6.593075   258.000000    995.182500    591.307500   \n",
       "50%     37.994500   15.417500   339.000000   1807.950000   1040.350000   \n",
       "75%     54.762250   26.790500   426.250000   3304.250000   1697.950000   \n",
       "max    240.470000   98.232000  1103.000000  29716.000000  12958.000000   \n",
       "\n",
       "            powerHF   ratioHFLF  \n",
       "count    544.000000  544.000000  \n",
       "mean    1000.824001    2.753764  \n",
       "std     1841.656665    2.296974  \n",
       "min        7.977700    0.154680  \n",
       "25%      258.917500    1.257000  \n",
       "50%      512.090000    2.037350  \n",
       "75%      960.045000    3.579975  \n",
       "max    16103.000000   18.228000  "
      ]
     },
     "execution_count": 40,
     "metadata": {},
     "output_type": "execute_result"
    }
   ],
   "source": [
    "df = pd.read_csv( 'data/12features/combined.csv')\n",
    "df.describe()"
   ]
  },
  {
   "cell_type": "code",
   "execution_count": 41,
   "metadata": {},
   "outputs": [
    {
     "data": {
      "text/plain": [
       "Text(0,0.5,'fragments')"
      ]
     },
     "execution_count": 41,
     "metadata": {},
     "output_type": "execute_result"
    },
    {
     "data": {
      "image/png": "[encoded data removed]",
      "text/plain": [
       "<matplotlib.figure.Figure at 0x7fcd0eba94a8>"
      ]
     },
     "metadata": {},
     "output_type": "display_data"
    }
   ],
   "source": [
    "ac = hp.countExamplesByActivity(df)\n",
    "ax = ac.plot(kind='bar')\n",
    "ax.set_ylabel(\"fragments\")"
   ]
  },
  {
   "cell_type": "code",
   "execution_count": 42,
   "metadata": {},
   "outputs": [
    {
     "name": "stdout",
     "output_type": "stream",
     "text": [
      "['eat' 'focused-active' 'focused-passive' 'household-chores'\n",
      " 'leisure-passive' 'movement' 'sleep']\n"
     ]
    }
   ],
   "source": [
    "# exclude activities with too little representation\n",
    "df = hp.excludeActivities(df, ['rest-active', 'leisure-active'])\n",
    "print(df.activity.unique())"
   ]
  },
  {
   "cell_type": "code",
   "execution_count": 43,
   "metadata": {},
   "outputs": [
    {
     "data": {
      "text/html": [
       "<div>\n",
       "<style>\n",
       "    .dataframe thead tr:only-child th {\n",
       "        text-align: right;\n",
       "    }\n",
       "\n",
       "    .dataframe thead th {\n",
       "        text-align: left;\n",
       "    }\n",
       "\n",
       "    .dataframe tbody tr th {\n",
       "        vertical-align: top;\n",
       "    }\n",
       "</style>\n",
       "<table border=\"1\" class=\"dataframe\">\n",
       "  <thead>\n",
       "    <tr style=\"text-align: right;\">\n",
       "      <th></th>\n",
       "      <th>user</th>\n",
       "      <th>activity</th>\n",
       "      <th>posture</th>\n",
       "      <th>AVGNN</th>\n",
       "      <th>SDNN</th>\n",
       "      <th>MeanHR</th>\n",
       "      <th>MinHR</th>\n",
       "      <th>MaxHR</th>\n",
       "      <th>RMSSD</th>\n",
       "      <th>pNNxx</th>\n",
       "      <th>TINN</th>\n",
       "      <th>powerVLF</th>\n",
       "      <th>powerLF</th>\n",
       "      <th>powerHF</th>\n",
       "      <th>ratioHFLF</th>\n",
       "      <th>move</th>\n",
       "      <th>sleep</th>\n",
       "    </tr>\n",
       "  </thead>\n",
       "  <tbody>\n",
       "    <tr>\n",
       "      <th>0</th>\n",
       "      <td>0</td>\n",
       "      <td>eat</td>\n",
       "      <td>sit</td>\n",
       "      <td>682.30</td>\n",
       "      <td>102.570</td>\n",
       "      <td>87.938</td>\n",
       "      <td>70.755</td>\n",
       "      <td>137.30</td>\n",
       "      <td>88.265</td>\n",
       "      <td>28.9690</td>\n",
       "      <td>501</td>\n",
       "      <td>3648.90</td>\n",
       "      <td>1150.80</td>\n",
       "      <td>1373.60</td>\n",
       "      <td>0.83781</td>\n",
       "      <td>still</td>\n",
       "      <td>wake</td>\n",
       "    </tr>\n",
       "    <tr>\n",
       "      <th>1</th>\n",
       "      <td>0</td>\n",
       "      <td>eat</td>\n",
       "      <td>sit</td>\n",
       "      <td>647.96</td>\n",
       "      <td>105.860</td>\n",
       "      <td>92.598</td>\n",
       "      <td>73.565</td>\n",
       "      <td>151.84</td>\n",
       "      <td>102.920</td>\n",
       "      <td>32.7270</td>\n",
       "      <td>530</td>\n",
       "      <td>1674.90</td>\n",
       "      <td>1701.70</td>\n",
       "      <td>2549.60</td>\n",
       "      <td>0.66744</td>\n",
       "      <td>still</td>\n",
       "      <td>wake</td>\n",
       "    </tr>\n",
       "    <tr>\n",
       "      <th>2</th>\n",
       "      <td>0</td>\n",
       "      <td>eat</td>\n",
       "      <td>sit</td>\n",
       "      <td>668.30</td>\n",
       "      <td>70.965</td>\n",
       "      <td>89.780</td>\n",
       "      <td>75.453</td>\n",
       "      <td>128.96</td>\n",
       "      <td>56.976</td>\n",
       "      <td>15.8330</td>\n",
       "      <td>467</td>\n",
       "      <td>315.94</td>\n",
       "      <td>1891.50</td>\n",
       "      <td>488.53</td>\n",
       "      <td>3.87180</td>\n",
       "      <td>still</td>\n",
       "      <td>wake</td>\n",
       "    </tr>\n",
       "    <tr>\n",
       "      <th>3</th>\n",
       "      <td>0</td>\n",
       "      <td>eat</td>\n",
       "      <td>sit</td>\n",
       "      <td>680.34</td>\n",
       "      <td>57.515</td>\n",
       "      <td>88.191</td>\n",
       "      <td>72.957</td>\n",
       "      <td>101.01</td>\n",
       "      <td>42.669</td>\n",
       "      <td>9.4017</td>\n",
       "      <td>334</td>\n",
       "      <td>386.03</td>\n",
       "      <td>1274.70</td>\n",
       "      <td>444.48</td>\n",
       "      <td>2.86800</td>\n",
       "      <td>still</td>\n",
       "      <td>wake</td>\n",
       "    </tr>\n",
       "    <tr>\n",
       "      <th>4</th>\n",
       "      <td>0</td>\n",
       "      <td>eat</td>\n",
       "      <td>sit</td>\n",
       "      <td>612.12</td>\n",
       "      <td>51.331</td>\n",
       "      <td>98.020</td>\n",
       "      <td>82.781</td>\n",
       "      <td>115.52</td>\n",
       "      <td>21.759</td>\n",
       "      <td>3.0612</td>\n",
       "      <td>284</td>\n",
       "      <td>1953.00</td>\n",
       "      <td>631.79</td>\n",
       "      <td>222.46</td>\n",
       "      <td>2.84000</td>\n",
       "      <td>still</td>\n",
       "      <td>wake</td>\n",
       "    </tr>\n",
       "  </tbody>\n",
       "</table>\n",
       "</div>"
      ],
      "text/plain": [
       "   user activity posture   AVGNN     SDNN  MeanHR   MinHR   MaxHR    RMSSD  \\\n",
       "0     0      eat     sit  682.30  102.570  87.938  70.755  137.30   88.265   \n",
       "1     0      eat     sit  647.96  105.860  92.598  73.565  151.84  102.920   \n",
       "2     0      eat     sit  668.30   70.965  89.780  75.453  128.96   56.976   \n",
       "3     0      eat     sit  680.34   57.515  88.191  72.957  101.01   42.669   \n",
       "4     0      eat     sit  612.12   51.331  98.020  82.781  115.52   21.759   \n",
       "\n",
       "     pNNxx  TINN  powerVLF  powerLF  powerHF  ratioHFLF   move sleep  \n",
       "0  28.9690   501   3648.90  1150.80  1373.60    0.83781  still  wake  \n",
       "1  32.7270   530   1674.90  1701.70  2549.60    0.66744  still  wake  \n",
       "2  15.8330   467    315.94  1891.50   488.53    3.87180  still  wake  \n",
       "3   9.4017   334    386.03  1274.70   444.48    2.86800  still  wake  \n",
       "4   3.0612   284   1953.00   631.79   222.46    2.84000  still  wake  "
      ]
     },
     "execution_count": 43,
     "metadata": {},
     "output_type": "execute_result"
    }
   ],
   "source": [
    "movelist = ['exercise-high', 'exercise-low', 'movement', 'household-chores']\n",
    "df = hp.addPartition(df, movelist, pname='move', labelIn='move', labelOut='still')\n",
    "    \n",
    "sleeplist = ['sleep']\n",
    "df = hp.addPartition(df, sleeplist, pname='sleep', labelIn='sleep', labelOut='wake')\n",
    "\n",
    "df.head()"
   ]
  },
  {
   "cell_type": "markdown",
   "metadata": {},
   "source": [
    "### Apply scale to make all features turn to gaussians with mean = 0 and SD = 1. That will allow SVM kernels not to put too much weight on features with larger values."
   ]
  },
  {
   "cell_type": "code",
   "execution_count": 44,
   "metadata": {},
   "outputs": [
    {
     "data": {
      "text/html": [
       "<div>\n",
       "<style>\n",
       "    .dataframe thead tr:only-child th {\n",
       "        text-align: right;\n",
       "    }\n",
       "\n",
       "    .dataframe thead th {\n",
       "        text-align: left;\n",
       "    }\n",
       "\n",
       "    .dataframe tbody tr th {\n",
       "        vertical-align: top;\n",
       "    }\n",
       "</style>\n",
       "<table border=\"1\" class=\"dataframe\">\n",
       "  <thead>\n",
       "    <tr style=\"text-align: right;\">\n",
       "      <th></th>\n",
       "      <th>user</th>\n",
       "      <th>AVGNN</th>\n",
       "      <th>SDNN</th>\n",
       "      <th>MeanHR</th>\n",
       "      <th>MinHR</th>\n",
       "      <th>MaxHR</th>\n",
       "      <th>RMSSD</th>\n",
       "      <th>pNNxx</th>\n",
       "      <th>TINN</th>\n",
       "      <th>powerVLF</th>\n",
       "      <th>powerLF</th>\n",
       "      <th>powerHF</th>\n",
       "      <th>ratioHFLF</th>\n",
       "    </tr>\n",
       "  </thead>\n",
       "  <tbody>\n",
       "    <tr>\n",
       "      <th>count</th>\n",
       "      <td>511.000000</td>\n",
       "      <td>5.110000e+02</td>\n",
       "      <td>5.110000e+02</td>\n",
       "      <td>5.110000e+02</td>\n",
       "      <td>5.110000e+02</td>\n",
       "      <td>5.110000e+02</td>\n",
       "      <td>5.110000e+02</td>\n",
       "      <td>5.110000e+02</td>\n",
       "      <td>5.110000e+02</td>\n",
       "      <td>5.110000e+02</td>\n",
       "      <td>5.110000e+02</td>\n",
       "      <td>5.110000e+02</td>\n",
       "      <td>5.110000e+02</td>\n",
       "    </tr>\n",
       "    <tr>\n",
       "      <th>mean</th>\n",
       "      <td>1.189824</td>\n",
       "      <td>-1.929311e-16</td>\n",
       "      <td>-3.006945e-16</td>\n",
       "      <td>-9.942036e-16</td>\n",
       "      <td>9.194645e-16</td>\n",
       "      <td>9.059941e-17</td>\n",
       "      <td>1.342696e-16</td>\n",
       "      <td>1.040698e-16</td>\n",
       "      <td>1.042871e-17</td>\n",
       "      <td>1.142813e-16</td>\n",
       "      <td>-5.170902e-17</td>\n",
       "      <td>4.160621e-17</td>\n",
       "      <td>8.549369e-17</td>\n",
       "    </tr>\n",
       "    <tr>\n",
       "      <th>std</th>\n",
       "      <td>0.908119</td>\n",
       "      <td>1.000980e+00</td>\n",
       "      <td>1.000980e+00</td>\n",
       "      <td>1.000980e+00</td>\n",
       "      <td>1.000980e+00</td>\n",
       "      <td>1.000980e+00</td>\n",
       "      <td>1.000980e+00</td>\n",
       "      <td>1.000980e+00</td>\n",
       "      <td>1.000980e+00</td>\n",
       "      <td>1.000980e+00</td>\n",
       "      <td>1.000980e+00</td>\n",
       "      <td>1.000980e+00</td>\n",
       "      <td>1.000980e+00</td>\n",
       "    </tr>\n",
       "    <tr>\n",
       "      <th>min</th>\n",
       "      <td>0.000000</td>\n",
       "      <td>-2.137055e+00</td>\n",
       "      <td>-1.676670e+00</td>\n",
       "      <td>-2.137750e+00</td>\n",
       "      <td>-2.362415e+00</td>\n",
       "      <td>-1.373772e+00</td>\n",
       "      <td>-1.313777e+00</td>\n",
       "      <td>-1.109950e+00</td>\n",
       "      <td>-1.888086e+00</td>\n",
       "      <td>-7.717804e-01</td>\n",
       "      <td>-9.417885e-01</td>\n",
       "      <td>-5.493034e-01</td>\n",
       "      <td>-1.136800e+00</td>\n",
       "    </tr>\n",
       "    <tr>\n",
       "      <th>25%</th>\n",
       "      <td>0.000000</td>\n",
       "      <td>-6.838934e-01</td>\n",
       "      <td>-6.304033e-01</td>\n",
       "      <td>-6.195035e-01</td>\n",
       "      <td>-6.799283e-01</td>\n",
       "      <td>-4.801817e-01</td>\n",
       "      <td>-6.038868e-01</td>\n",
       "      <td>-7.468693e-01</td>\n",
       "      <td>-6.732240e-01</td>\n",
       "      <td>-5.177532e-01</td>\n",
       "      <td>-5.741279e-01</td>\n",
       "      <td>-4.118293e-01</td>\n",
       "      <td>-6.640603e-01</td>\n",
       "    </tr>\n",
       "    <tr>\n",
       "      <th>50%</th>\n",
       "      <td>2.000000</td>\n",
       "      <td>-7.328069e-02</td>\n",
       "      <td>-1.541356e-01</td>\n",
       "      <td>-9.631318e-02</td>\n",
       "      <td>-1.142624e-01</td>\n",
       "      <td>-2.201270e-01</td>\n",
       "      <td>-2.565619e-01</td>\n",
       "      <td>-2.462851e-01</td>\n",
       "      <td>-1.135686e-01</td>\n",
       "      <td>-2.944213e-01</td>\n",
       "      <td>-2.761460e-01</td>\n",
       "      <td>-2.664865e-01</td>\n",
       "      <td>-3.093413e-01</td>\n",
       "    </tr>\n",
       "    <tr>\n",
       "      <th>75%</th>\n",
       "      <td>2.000000</td>\n",
       "      <td>4.979229e-01</td>\n",
       "      <td>3.897935e-01</td>\n",
       "      <td>5.933614e-01</td>\n",
       "      <td>6.604105e-01</td>\n",
       "      <td>1.002332e-01</td>\n",
       "      <td>2.880550e-01</td>\n",
       "      <td>3.975070e-01</td>\n",
       "      <td>4.631495e-01</td>\n",
       "      <td>1.211459e-01</td>\n",
       "      <td>1.844318e-01</td>\n",
       "      <td>-1.089094e-02</td>\n",
       "      <td>3.844003e-01</td>\n",
       "    </tr>\n",
       "    <tr>\n",
       "      <th>max</th>\n",
       "      <td>2.000000</td>\n",
       "      <td>3.075496e+00</td>\n",
       "      <td>5.793283e+00</td>\n",
       "      <td>3.172352e+00</td>\n",
       "      <td>3.393374e+00</td>\n",
       "      <td>1.182139e+01</td>\n",
       "      <td>6.151021e+00</td>\n",
       "      <td>4.306605e+00</td>\n",
       "      <td>5.073482e+00</td>\n",
       "      <td>7.403906e+00</td>\n",
       "      <td>7.882036e+00</td>\n",
       "      <td>8.543813e+00</td>\n",
       "      <td>6.582587e+00</td>\n",
       "    </tr>\n",
       "  </tbody>\n",
       "</table>\n",
       "</div>"
      ],
      "text/plain": [
       "             user         AVGNN          SDNN        MeanHR         MinHR  \\\n",
       "count  511.000000  5.110000e+02  5.110000e+02  5.110000e+02  5.110000e+02   \n",
       "mean     1.189824 -1.929311e-16 -3.006945e-16 -9.942036e-16  9.194645e-16   \n",
       "std      0.908119  1.000980e+00  1.000980e+00  1.000980e+00  1.000980e+00   \n",
       "min      0.000000 -2.137055e+00 -1.676670e+00 -2.137750e+00 -2.362415e+00   \n",
       "25%      0.000000 -6.838934e-01 -6.304033e-01 -6.195035e-01 -6.799283e-01   \n",
       "50%      2.000000 -7.328069e-02 -1.541356e-01 -9.631318e-02 -1.142624e-01   \n",
       "75%      2.000000  4.979229e-01  3.897935e-01  5.933614e-01  6.604105e-01   \n",
       "max      2.000000  3.075496e+00  5.793283e+00  3.172352e+00  3.393374e+00   \n",
       "\n",
       "              MaxHR         RMSSD         pNNxx          TINN      powerVLF  \\\n",
       "count  5.110000e+02  5.110000e+02  5.110000e+02  5.110000e+02  5.110000e+02   \n",
       "mean   9.059941e-17  1.342696e-16  1.040698e-16  1.042871e-17  1.142813e-16   \n",
       "std    1.000980e+00  1.000980e+00  1.000980e+00  1.000980e+00  1.000980e+00   \n",
       "min   -1.373772e+00 -1.313777e+00 -1.109950e+00 -1.888086e+00 -7.717804e-01   \n",
       "25%   -4.801817e-01 -6.038868e-01 -7.468693e-01 -6.732240e-01 -5.177532e-01   \n",
       "50%   -2.201270e-01 -2.565619e-01 -2.462851e-01 -1.135686e-01 -2.944213e-01   \n",
       "75%    1.002332e-01  2.880550e-01  3.975070e-01  4.631495e-01  1.211459e-01   \n",
       "max    1.182139e+01  6.151021e+00  4.306605e+00  5.073482e+00  7.403906e+00   \n",
       "\n",
       "            powerLF       powerHF     ratioHFLF  \n",
       "count  5.110000e+02  5.110000e+02  5.110000e+02  \n",
       "mean  -5.170902e-17  4.160621e-17  8.549369e-17  \n",
       "std    1.000980e+00  1.000980e+00  1.000980e+00  \n",
       "min   -9.417885e-01 -5.493034e-01 -1.136800e+00  \n",
       "25%   -5.741279e-01 -4.118293e-01 -6.640603e-01  \n",
       "50%   -2.761460e-01 -2.664865e-01 -3.093413e-01  \n",
       "75%    1.844318e-01 -1.089094e-02  3.844003e-01  \n",
       "max    7.882036e+00  8.543813e+00  6.582587e+00  "
      ]
     },
     "execution_count": 44,
     "metadata": {},
     "output_type": "execute_result"
    }
   ],
   "source": [
    "feature_list = ['AVGNN', 'SDNN', 'MeanHR', 'MinHR', 'MaxHR', 'RMSSD', 'pNNxx', 'TINN', 'powerVLF', 'powerLF', 'powerHF', 'ratioHFLF']\n",
    "df[feature_list] = hp.scaled_features(df, feature_list)\n",
    "df.describe()"
   ]
  },
  {
   "cell_type": "code",
   "execution_count": null,
   "metadata": {
    "collapsed": true
   },
   "outputs": [],
   "source": []
  },
  {
   "cell_type": "markdown",
   "metadata": {},
   "source": [
    "### Test dataset will have 20% of examples, the other 80% will be for training (with cross-validation)"
   ]
  },
  {
   "cell_type": "code",
   "execution_count": 45,
   "metadata": {},
   "outputs": [
    {
     "name": "stdout",
     "output_type": "stream",
     "text": [
      "408 103\n"
     ]
    }
   ],
   "source": [
    "train, test = train_test_split(df, test_size=0.2)\n",
    "print (len(train), len(test))"
   ]
  },
  {
   "cell_type": "markdown",
   "metadata": {},
   "source": [
    "### 3 - Model selection:  Perform an exhaustive search, with k-fold cross-validation,  in the space parameter consisting of:\n",
    "* $C = 10^{i}, com -1 \\leq i \\leq 6$, for both linear and RBF kernels\n",
    "* $\\gamma = 10^{i}, com -3 \\leq i \\leq 3$, for RBF kernel."
   ]
  },
  {
   "cell_type": "code",
   "execution_count": 46,
   "metadata": {
    "collapsed": true
   },
   "outputs": [],
   "source": [
    "crossval = StratifiedShuffleSplit(n_splits=4, test_size=0.2)\n",
    "\n",
    "c_range = np.logspace(-1, 2, 4) \n",
    "gamma_range = np.logspace(-2, 1, 4)\n",
    "\n",
    "param_lin=dict(C=c_range)\n",
    "param_rbf=dict(C=c_range, gamma=gamma_range)\n"
   ]
  },
  {
   "cell_type": "code",
   "execution_count": 61,
   "metadata": {},
   "outputs": [
    {
     "name": "stdout",
     "output_type": "stream",
     "text": [
      "Kernel linear --- \n",
      "Best params: {'C': 100.0} with score 0.43598\n",
      "                  precision    recall  f1-score   support\n",
      "\n",
      "             eat       0.27      0.33      0.30         9\n",
      "  focused-active       0.42      0.44      0.43        18\n",
      " focused-passive       0.50      0.50      0.50        18\n",
      "household-chores       0.36      0.33      0.35        12\n",
      " leisure-passive       0.22      0.33      0.26        15\n",
      "        movement       0.62      0.45      0.53        11\n",
      "           sleep       0.77      0.50      0.61        20\n",
      "\n",
      "     avg / total       0.47      0.43      0.44       103\n",
      "\n"
     ]
    }
   ],
   "source": [
    "grid_lin = GridSearchCV(svm.SVC(kernel='linear', cache_size=1000), param_grid=param_lin, cv=crossval)\n",
    "grid_lin.fit(X=train.iloc[:, 3:15], y=train['activity'])\n",
    "\n",
    "print(\"Kernel linear --- \")\n",
    "print(\"Best params: %s with score %0.5f\" % (grid_lin.best_params_, grid_lin.best_score_))\n",
    "\n",
    "clf1 = svm.SVC(kernel='linear', cache_size=1000, C=grid_lin.best_params_['C'])\n",
    "clf1.fit(X=train[feature_list], y=train['activity'])\n",
    "print(hp.report(test, clf1.predict(test[feature_list])))"
   ]
  },
  {
   "cell_type": "code",
   "execution_count": 62,
   "metadata": {},
   "outputs": [
    {
     "name": "stdout",
     "output_type": "stream",
     "text": [
      "Kernel RBF --- \n",
      "Best params: {'C': 100.0, 'gamma': 0.10000000000000001} with score 0.53049\n",
      "                  precision    recall  f1-score   support\n",
      "\n",
      "             eat       0.25      0.33      0.29         9\n",
      "  focused-active       0.25      0.11      0.15        18\n",
      " focused-passive       0.37      0.39      0.38        18\n",
      "household-chores       0.29      0.42      0.34        12\n",
      " leisure-passive       0.30      0.40      0.34        15\n",
      "        movement       0.36      0.36      0.36        11\n",
      "           sleep       0.75      0.60      0.67        20\n",
      "\n",
      "     avg / total       0.39      0.38      0.38       103\n",
      "\n"
     ]
    }
   ],
   "source": [
    "grid_rbf = GridSearchCV(svm.SVC(kernel='rbf', cache_size=1000), param_grid=param_rbf, cv=crossval)\n",
    "grid_rbf.fit(X=train[feature_list], y=train['activity'])\n",
    "\n",
    "print(\"Kernel RBF --- \")\n",
    "print(\"Best params: %s with score %0.5f\" % (grid_rbf.best_params_, grid_rbf.best_score_))\n",
    "\n",
    "clf2 = svm.SVC(kernel='rbf', cache_size=1000, C=grid_rbf.best_params_['C'], gamma=grid_rbf.best_params_['gamma'])\n",
    "clf2.fit(X=train[feature_list], y=train['activity'])\n",
    "r_fulldf = hp.report(test, clf2.predict(test[feature_list]))\n",
    "print(r_fulldf)"
   ]
  },
  {
   "cell_type": "code",
   "execution_count": 63,
   "metadata": {},
   "outputs": [
    {
     "name": "stdout",
     "output_type": "stream",
     "text": [
      "[0.25, 0.33, 0.29]\n",
      "[0.25, 0.11, 0.15]\n",
      "[0.37, 0.39, 0.38]\n",
      "[0.29, 0.42, 0.34]\n",
      "[0.3, 0.4, 0.34]\n",
      "[0.36, 0.36, 0.36]\n",
      "[0.75, 0.6, 0.67]\n"
     ]
    },
    {
     "data": {
      "image/png": "[encoded data removed]",
      "text/plain": [
       "<matplotlib.figure.Figure at 0x7fcd0e890be0>"
      ]
     },
     "metadata": {},
     "output_type": "display_data"
    }
   ],
   "source": [
    "pr.plot_classification_report(r_fulldf, title='', with_avg_total=False, cmap=plt.cm.coolwarm_r)"
   ]
  },
  {
   "cell_type": "code",
   "execution_count": 64,
   "metadata": {},
   "outputs": [
    {
     "name": "stdout",
     "output_type": "stream",
     "text": [
      "                  precision    recall  f1-score   support\n",
      "\n",
      "             eat       0.08      0.11      0.09         9\n",
      "  focused-active       0.33      0.28      0.30        18\n",
      " focused-passive       0.42      0.28      0.33        18\n",
      "household-chores       0.40      0.33      0.36        12\n",
      " leisure-passive       0.29      0.67      0.40        15\n",
      "        movement       0.43      0.27      0.33        11\n",
      "           sleep       0.82      0.45      0.58        20\n",
      "\n",
      "     avg / total       0.43      0.36      0.37       103\n",
      "\n"
     ]
    }
   ],
   "source": [
    "clf3 = svm.SVC(kernel='poly', cache_size=1000, C=grid_lin.best_params_['C'])\n",
    "clf3.fit(X=train[feature_list], y=train['activity'])\n",
    "print(hp.report(test, clf3.predict(test.iloc[:, 3:15])))"
   ]
  },
  {
   "cell_type": "markdown",
   "metadata": {},
   "source": [
    "\n",
    "## Now, we can run the same steps above with multiple experiments! Time to have fun!!"
   ]
  },
  {
   "cell_type": "code",
   "execution_count": 65,
   "metadata": {},
   "outputs": [
    {
     "name": "stdout",
     "output_type": "stream",
     "text": [
      "408 train examples and 103 test examples\n",
      "Best params for linear kernel: {'C': 0.10000000000000001} with score 0.43902\n",
      "--- test results for linear kernel:\n",
      "                  precision    recall  f1-score   support\n",
      "\n",
      "             eat       0.00      0.00      0.00        13\n",
      "  focused-active       0.57      0.62      0.59        21\n",
      " focused-passive       0.35      0.54      0.42        13\n",
      "household-chores       0.17      0.15      0.16        13\n",
      " leisure-passive       0.12      0.25      0.17        12\n",
      "        movement       0.36      0.36      0.36        14\n",
      "           sleep       0.67      0.35      0.46        17\n",
      "\n",
      "     avg / total       0.35      0.35      0.34       103\n",
      "\n",
      "Best params for RBF kernel: {'C': 1.0, 'gamma': 1.0} with score 0.48476\n",
      "--- test results for RBF kernel:\n",
      "                  precision    recall  f1-score   support\n",
      "\n",
      "             eat       0.00      0.00      0.00        13\n",
      "  focused-active       0.72      0.62      0.67        21\n",
      " focused-passive       0.29      0.38      0.33        13\n",
      "household-chores       0.36      0.38      0.37        13\n",
      " leisure-passive       0.35      0.58      0.44        12\n",
      "        movement       0.32      0.43      0.36        14\n",
      "           sleep       0.85      0.65      0.73        17\n",
      "\n",
      "     avg / total       0.45      0.46      0.45       103\n",
      "\n"
     ]
    }
   ],
   "source": [
    "r = hp.run_flow(df, feature_list)"
   ]
  },
  {
   "cell_type": "code",
   "execution_count": 67,
   "metadata": {},
   "outputs": [
    {
     "name": "stdout",
     "output_type": "stream",
     "text": [
      "[0.0, 0.0, 0.0]\n",
      "[0.72, 0.62, 0.67]\n",
      "[0.29, 0.38, 0.33]\n",
      "[0.36, 0.38, 0.37]\n",
      "[0.35, 0.58, 0.44]\n",
      "[0.32, 0.43, 0.36]\n",
      "[0.85, 0.65, 0.73]\n"
     ]
    },
    {
     "data": {
      "image/png": "[encoded data removed]",
      "text/plain": [
       "<matplotlib.figure.Figure at 0x7fcd0e7f0fd0>"
      ]
     },
     "metadata": {},
     "output_type": "display_data"
    }
   ],
   "source": [
    "pr.plot_classification_report(r[1], cmap=plt.cm.coolwarm_r)"
   ]
  },
  {
   "cell_type": "code",
   "execution_count": 70,
   "metadata": {},
   "outputs": [
    {
     "name": "stdout",
     "output_type": "stream",
     "text": [
      "136 train examples and 35 test examples\n",
      "Best params for linear kernel: {'C': 100.0} with score 0.51786\n",
      "--- test results for linear kernel:\n",
      "                  precision    recall  f1-score   support\n",
      "\n",
      "             eat       0.00      0.00      0.00         0\n",
      "  focused-active       0.29      0.29      0.29         7\n",
      " focused-passive       0.50      0.29      0.36         7\n",
      "household-chores       0.45      0.62      0.53         8\n",
      " leisure-passive       0.00      0.00      0.00         4\n",
      "        movement       1.00      0.50      0.67         6\n",
      "           sleep       0.50      0.33      0.40         3\n",
      "\n",
      "     avg / total       0.48      0.37      0.40        35\n"
     ]
    },
    {
     "name": "stderr",
     "output_type": "stream",
     "text": [
      "/home/ju/anaconda3/lib/python3.6/site-packages/sklearn/metrics/classification.py:1137: UndefinedMetricWarning: Recall and F-score are ill-defined and being set to 0.0 in labels with no true samples.\n",
      "  'recall', 'true', average, warn_for)\n"
     ]
    },
    {
     "name": "stdout",
     "output_type": "stream",
     "text": [
      "\n",
      "Best params for RBF kernel: {'C': 10.0, 'gamma': 0.01} with score 0.62500\n",
      "--- test results for RBF kernel:\n",
      "                  precision    recall  f1-score   support\n",
      "\n",
      "  focused-active       0.00      0.00      0.00         7\n",
      " focused-passive       0.50      0.29      0.36         7\n",
      "household-chores       0.73      1.00      0.84         8\n",
      " leisure-passive       0.60      0.75      0.67         4\n",
      "        movement       0.50      0.33      0.40         6\n",
      "           sleep       0.30      1.00      0.46         3\n",
      "\n",
      "     avg / total       0.45      0.51      0.45        35\n",
      "\n",
      "                  precision    recall  f1-score   support\n",
      "\n",
      "             eat       0.00      0.00      0.00         0\n",
      "  focused-active       0.29      0.29      0.29         7\n",
      " focused-passive       0.50      0.29      0.36         7\n",
      "household-chores       0.45      0.62      0.53         8\n",
      " leisure-passive       0.00      0.00      0.00         4\n",
      "        movement       1.00      0.50      0.67         6\n",
      "           sleep       0.50      0.33      0.40         3\n",
      "\n",
      "     avg / total       0.48      0.37      0.40        35\n",
      "\n",
      "                  precision    recall  f1-score   support\n",
      "\n",
      "  focused-active       0.00      0.00      0.00         7\n",
      " focused-passive       0.50      0.29      0.36         7\n",
      "household-chores       0.73      1.00      0.84         8\n",
      " leisure-passive       0.60      0.75      0.67         4\n",
      "        movement       0.50      0.33      0.40         6\n",
      "           sleep       0.30      1.00      0.46         3\n",
      "\n",
      "     avg / total       0.45      0.51      0.45        35\n",
      "\n",
      "[0.0, 0.0, 0.0]\n",
      "[0.5, 0.29, 0.36]\n",
      "[0.73, 1.0, 0.84]\n",
      "[0.6, 0.75, 0.67]\n",
      "[0.5, 0.33, 0.4]\n",
      "[0.3, 1.0, 0.46]\n"
     ]
    },
    {
     "data": {
      "image/png": "[encoded data removed]",
      "text/plain": [
       "<matplotlib.figure.Figure at 0x7fcd0e842828>"
      ]
     },
     "metadata": {},
     "output_type": "display_data"
    }
   ],
   "source": [
    "u0 = hp.userRows(df, 0)\n",
    "r0 = hp.run_flow(u0, feature_list)\n",
    "print (r0[0])\n",
    "print (r0[1])\n",
    "pr.plot_classification_report(r0[1], title ='')\n"
   ]
  },
  {
   "cell_type": "code",
   "execution_count": 72,
   "metadata": {},
   "outputs": [
    {
     "name": "stdout",
     "output_type": "stream",
     "text": [
      "57 train examples and 15 test examples\n",
      "Best params for linear kernel: {'C': 1.0} with score 0.66667\n",
      "--- test results for linear kernel:\n",
      "                 precision    recall  f1-score   support\n",
      "\n",
      "            eat       0.83      1.00      0.91         5\n",
      " focused-active       0.50      0.33      0.40         3\n",
      "leisure-passive       0.60      0.60      0.60         5\n",
      "       movement       1.00      1.00      1.00         2\n",
      "\n",
      "    avg / total       0.71      0.73      0.72        15\n",
      "\n",
      "Best params for RBF kernel: {'C': 10.0, 'gamma': 0.10000000000000001} with score 0.79167\n",
      "--- test results for RBF kernel:\n",
      "                 precision    recall  f1-score   support\n",
      "\n",
      "            eat       0.75      0.60      0.67         5\n",
      " focused-active       0.50      0.67      0.57         3\n",
      "leisure-passive       0.80      0.80      0.80         5\n",
      "       movement       1.00      1.00      1.00         2\n",
      "\n",
      "    avg / total       0.75      0.73      0.74        15\n",
      "\n",
      "                 precision    recall  f1-score   support\n",
      "\n",
      "            eat       0.83      1.00      0.91         5\n",
      " focused-active       0.50      0.33      0.40         3\n",
      "leisure-passive       0.60      0.60      0.60         5\n",
      "       movement       1.00      1.00      1.00         2\n",
      "\n",
      "    avg / total       0.71      0.73      0.72        15\n",
      "\n",
      "                 precision    recall  f1-score   support\n",
      "\n",
      "            eat       0.75      0.60      0.67         5\n",
      " focused-active       0.50      0.67      0.57         3\n",
      "leisure-passive       0.80      0.80      0.80         5\n",
      "       movement       1.00      1.00      1.00         2\n",
      "\n",
      "    avg / total       0.75      0.73      0.74        15\n",
      "\n",
      "[0.75, 0.6, 0.67]\n",
      "[0.5, 0.67, 0.57]\n",
      "[0.8, 0.8, 0.8]\n",
      "[1.0, 1.0, 1.0]\n"
     ]
    },
    {
     "data": {
      "image/png": "[encoded data removed]",
      "text/plain": [
       "<matplotlib.figure.Figure at 0x7fcd0e63ccf8>"
      ]
     },
     "metadata": {},
     "output_type": "display_data"
    }
   ],
   "source": [
    "r1 = hp.run_flow(hp.userRows(df, 1), feature_list)\n",
    "print (r1[0])\n",
    "print (r1[1])\n",
    "pr.plot_classification_report(r1[1], title ='')"
   ]
  },
  {
   "cell_type": "code",
   "execution_count": 77,
   "metadata": {},
   "outputs": [
    {
     "name": "stdout",
     "output_type": "stream",
     "text": [
      "214 train examples and 54 test examples\n",
      "Best params for linear kernel: {'C': 100.0} with score 0.41860\n",
      "--- test results for linear kernel:\n",
      "                  precision    recall  f1-score   support\n",
      "\n",
      "             eat       0.40      0.80      0.53         5\n",
      "  focused-active       0.42      0.50      0.45        10\n",
      " focused-passive       0.31      0.44      0.36         9\n",
      "household-chores       0.67      0.29      0.40         7\n",
      " leisure-passive       0.43      0.38      0.40         8\n",
      "        movement       0.50      0.20      0.29         5\n",
      "           sleep       1.00      0.70      0.82        10\n",
      "\n",
      "     avg / total       0.55      0.48      0.48        54\n",
      "\n",
      "Best params for RBF kernel: {'C': 100.0, 'gamma': 0.10000000000000001} with score 0.48256\n",
      "--- test results for RBF kernel:\n",
      "                  precision    recall  f1-score   support\n",
      "\n",
      "             eat       0.38      0.60      0.46         5\n",
      "  focused-active       0.64      0.70      0.67        10\n",
      " focused-passive       0.46      0.67      0.55         9\n",
      "household-chores       0.75      0.43      0.55         7\n",
      " leisure-passive       0.33      0.12      0.18         8\n",
      "        movement       0.25      0.20      0.22         5\n",
      "           sleep       0.73      0.80      0.76        10\n",
      "\n",
      "     avg / total       0.53      0.54      0.52        54\n",
      "\n",
      "                  precision    recall  f1-score   support\n",
      "\n",
      "             eat       0.40      0.80      0.53         5\n",
      "  focused-active       0.42      0.50      0.45        10\n",
      " focused-passive       0.31      0.44      0.36         9\n",
      "household-chores       0.67      0.29      0.40         7\n",
      " leisure-passive       0.43      0.38      0.40         8\n",
      "        movement       0.50      0.20      0.29         5\n",
      "           sleep       1.00      0.70      0.82        10\n",
      "\n",
      "     avg / total       0.55      0.48      0.48        54\n",
      "\n",
      "                  precision    recall  f1-score   support\n",
      "\n",
      "             eat       0.38      0.60      0.46         5\n",
      "  focused-active       0.64      0.70      0.67        10\n",
      " focused-passive       0.46      0.67      0.55         9\n",
      "household-chores       0.75      0.43      0.55         7\n",
      " leisure-passive       0.33      0.12      0.18         8\n",
      "        movement       0.25      0.20      0.22         5\n",
      "           sleep       0.73      0.80      0.76        10\n",
      "\n",
      "     avg / total       0.53      0.54      0.52        54\n",
      "\n",
      "[0.38, 0.6, 0.46]\n",
      "[0.64, 0.7, 0.67]\n",
      "[0.46, 0.67, 0.55]\n",
      "[0.75, 0.43, 0.55]\n",
      "[0.33, 0.12, 0.18]\n",
      "[0.25, 0.2, 0.22]\n",
      "[0.73, 0.8, 0.76]\n"
     ]
    },
    {
     "data": {
      "image/png": "[encoded data removed]",
      "text/plain": [
       "<matplotlib.figure.Figure at 0x7fcd0eba93c8>"
      ]
     },
     "metadata": {},
     "output_type": "display_data"
    }
   ],
   "source": [
    "r2 = hp.run_flow(hp.userRows(df, 2), feature_list)\n",
    "print (r2[0])\n",
    "print (r2[1])\n",
    "pr.plot_classification_report(r2[1], title ='')"
   ]
  },
  {
   "cell_type": "code",
   "execution_count": 79,
   "metadata": {},
   "outputs": [
    {
     "data": {
      "text/plain": [
       "activity\n",
       "eat                 53\n",
       "focused-active      88\n",
       "focused-passive     73\n",
       "household-chores    68\n",
       "leisure-passive     89\n",
       "movement            65\n",
       "sleep               75\n",
       "Name: user, dtype: int64"
      ]
     },
     "execution_count": 79,
     "metadata": {},
     "output_type": "execute_result"
    }
   ],
   "source": [
    "hp.countExamplesByActivity(df)"
   ]
  },
  {
   "cell_type": "markdown",
   "metadata": {},
   "source": [
    "### 2 - Is eating the problem??"
   ]
  },
  {
   "cell_type": "code",
   "execution_count": 80,
   "metadata": {},
   "outputs": [
    {
     "data": {
      "text/plain": [
       "activity\n",
       "focused-active      88\n",
       "focused-passive     73\n",
       "household-chores    68\n",
       "leisure-passive     89\n",
       "movement            65\n",
       "sleep               75\n",
       "Name: user, dtype: int64"
      ]
     },
     "execution_count": 80,
     "metadata": {},
     "output_type": "execute_result"
    }
   ],
   "source": [
    "df_reduced = hp.excludeActivities(df, ['eat'])\n",
    "df_reduced.groupby('activity').count()['user']"
   ]
  },
  {
   "cell_type": "code",
   "execution_count": 82,
   "metadata": {},
   "outputs": [
    {
     "name": "stdout",
     "output_type": "stream",
     "text": [
      "366 train examples and 92 test examples\n",
      "Best params for linear kernel: {'C': 0.10000000000000001} with score 0.49662\n",
      "--- test results for linear kernel:\n",
      "                  precision    recall  f1-score   support\n",
      "\n",
      "  focused-active       0.44      0.67      0.53        18\n",
      " focused-passive       0.43      0.38      0.40        16\n",
      "household-chores       0.00      0.00      0.00        12\n",
      " leisure-passive       0.39      0.35      0.37        20\n",
      "        movement       0.53      0.67      0.59        15\n",
      "           sleep       0.78      0.64      0.70        11\n",
      "\n",
      "     avg / total       0.42      0.46      0.43        92\n",
      "\n",
      "Best params for RBF kernel: {'C': 1.0, 'gamma': 1.0} with score 0.55068\n",
      "--- test results for RBF kernel:\n",
      "                  precision    recall  f1-score   support\n",
      "\n",
      "  focused-active       0.65      0.61      0.63        18\n",
      " focused-passive       0.35      0.38      0.36        16\n",
      "household-chores       0.54      0.58      0.56        12\n",
      " leisure-passive       0.50      0.50      0.50        20\n",
      "        movement       0.75      0.40      0.52        15\n",
      "           sleep       0.53      0.82      0.64        11\n",
      "\n",
      "     avg / total       0.55      0.53      0.53        92\n",
      "\n"
     ]
    }
   ],
   "source": [
    "reduced = hp.run_flow(df_reduced, feature_list)"
   ]
  },
  {
   "cell_type": "code",
   "execution_count": 84,
   "metadata": {},
   "outputs": [
    {
     "ename": "AttributeError",
     "evalue": "module 'hervpd' has no attribute 'runFlowByUser'",
     "output_type": "error",
     "traceback": [
      "\u001b[0;31m--------------------------------------------------------------------------\u001b[0m",
      "\u001b[0;31mAttributeError\u001b[0m                           Traceback (most recent call last)",
      "\u001b[0;32m<ipython-input-84-b4d22b9256c7>\u001b[0m in \u001b[0;36m<module>\u001b[0;34m()\u001b[0m\n\u001b[0;32m----> 1\u001b[0;31m \u001b[0mreduced\u001b[0m \u001b[0;34m=\u001b[0m \u001b[0mhp\u001b[0m\u001b[0;34m.\u001b[0m\u001b[0mrunFlowByUser\u001b[0m\u001b[0;34m(\u001b[0m\u001b[0mdf_reduced\u001b[0m\u001b[0;34m)\u001b[0m\u001b[0;34m\u001b[0m\u001b[0m\n\u001b[0m",
      "\u001b[0;31mAttributeError\u001b[0m: module 'hervpd' has no attribute 'runFlowByUser'"
     ]
    }
   ],
   "source": [
    "reduced = hp.runFlowForEveryUser(df_reduced, feature_list)"
   ]
  },
  {
   "cell_type": "markdown",
   "metadata": {},
   "source": [
    "# Defining hierarchy"
   ]
  },
  {
   "cell_type": "markdown",
   "metadata": {},
   "source": [
    "### 1 - Splitting database into movement categories (movement, household chores and exercise) and all others"
   ]
  },
  {
   "cell_type": "code",
   "execution_count": 7,
   "metadata": {},
   "outputs": [
    {
     "data": {
      "text/plain": [
       "move\n",
       "move     133\n",
       "still    378\n",
       "Name: user, dtype: int64"
      ]
     },
     "execution_count": 7,
     "metadata": {},
     "output_type": "execute_result"
    }
   ],
   "source": [
    "df.groupby('move').count()['user']"
   ]
  },
  {
   "cell_type": "code",
   "execution_count": 9,
   "metadata": {},
   "outputs": [
    {
     "name": "stderr",
     "output_type": "stream",
     "text": [
      "C:\\Users\\Ju\\Anaconda3\\lib\\site-packages\\sklearn\\utils\\validation.py:475: DataConversionWarning: Data with input dtype int64 was converted to float64 by the scale function.\n",
      "  warnings.warn(msg, DataConversionWarning)\n",
      "C:\\Users\\Ju\\Anaconda3\\lib\\site-packages\\pandas\\core\\indexing.py:517: SettingWithCopyWarning: \n",
      "A value is trying to be set on a copy of a slice from a DataFrame.\n",
      "Try using .loc[row_indexer,col_indexer] = value instead\n",
      "\n",
      "See the caveats in the documentation: http://pandas.pydata.org/pandas-docs/stable/indexing.html#indexing-view-versus-copy\n",
      "  self.obj[item] = s\n"
     ]
    },
    {
     "name": "stdout",
     "output_type": "stream",
     "text": [
      "408 train examples and 103 test examples\n",
      "Best params for linear kernel: {'C': 1.0} with score 0.85366\n",
      "--- test results for linear kernel:\n",
      "             precision    recall  f1-score   support\n",
      "\n",
      "       move       0.95      0.67      0.78        30\n",
      "      still       0.88      0.99      0.93        73\n",
      "\n",
      "avg / total       0.90      0.89      0.89       103\n",
      "\n",
      "Best params for RBF kernel: {'C': 1.0, 'gamma': 0.01} with score 0.90244\n",
      "--- test results for RBF kernel:\n",
      "             precision    recall  f1-score   support\n",
      "\n",
      "       move       0.95      0.63      0.76        30\n",
      "      still       0.87      0.99      0.92        73\n",
      "\n",
      "avg / total       0.89      0.88      0.88       103\n",
      "\n"
     ]
    }
   ],
   "source": [
    "mvres = hp.runFlow(df, labelName='move')"
   ]
  },
  {
   "cell_type": "code",
   "execution_count": null,
   "metadata": {
    "collapsed": true
   },
   "outputs": [],
   "source": [
    "pr.plot_classification_report(mvres[0])"
   ]
  },
  {
   "cell_type": "code",
   "execution_count": null,
   "metadata": {
    "collapsed": true
   },
   "outputs": [],
   "source": [
    "mvresu = hp.runFlowByUser(df_move, labelName='move')"
   ]
  },
  {
   "cell_type": "code",
   "execution_count": null,
   "metadata": {
    "collapsed": true
   },
   "outputs": [],
   "source": [
    "scores = []\n",
    "for i in mvresu:\n",
    "    scores.append(pr.fscore_from_report(i)) \n",
    "print(scores)"
   ]
  },
  {
   "cell_type": "markdown",
   "metadata": {},
   "source": [
    "### 1 - Split data by movement intensity:\n",
    " * group 1 = movement, household chores, exercise\n",
    " "
   ]
  },
  {
   "cell_type": "code",
   "execution_count": null,
   "metadata": {
    "collapsed": true
   },
   "outputs": [],
   "source": [
    "df_stillcls = hp.excludeActivities(df, movelist)\n",
    "hp.countExamplesByActivity(df_stillcls)"
   ]
  },
  {
   "cell_type": "code",
   "execution_count": null,
   "metadata": {
    "collapsed": true
   },
   "outputs": [],
   "source": [
    "hp.runFlow(df_stillcls)"
   ]
  },
  {
   "cell_type": "code",
   "execution_count": null,
   "metadata": {
    "collapsed": true
   },
   "outputs": [],
   "source": [
    "hp.runFlowByUser(df_stillcls)"
   ]
  },
  {
   "cell_type": "code",
   "execution_count": null,
   "metadata": {
    "collapsed": true
   },
   "outputs": [],
   "source": [
    "df_movecls = hp.filterActivities(df, includelist)\n",
    "hp.countExamplesByActivity(df_movecls)"
   ]
  },
  {
   "cell_type": "code",
   "execution_count": null,
   "metadata": {
    "collapsed": true
   },
   "outputs": [],
   "source": [
    "hp.runFlow(df_movecls)"
   ]
  },
  {
   "cell_type": "code",
   "execution_count": null,
   "metadata": {
    "collapsed": true
   },
   "outputs": [],
   "source": [
    "ju_move = hp.userRows(df_movecls, 0)\n",
    "print(hp.countExamplesByActivity(ju_move))\n",
    "hp.runFlow(ju_move)"
   ]
  },
  {
   "cell_type": "code",
   "execution_count": null,
   "metadata": {
    "collapsed": true
   },
   "outputs": [],
   "source": [
    "edu_move = hp.userRows(df_movecls, 2)\n",
    "print(hp.countExamplesByActivity(edu_move))\n",
    "hp.runFlow(edu_move)"
   ]
  },
  {
   "cell_type": "code",
   "execution_count": null,
   "metadata": {
    "collapsed": true
   },
   "outputs": [],
   "source": [
    "for activ in df_stillcls.activity.unique():\n",
    "    print ('----------------------------------------------------------------')\n",
    "    dfa = df_stillcls\n",
    "    df_onevsall = hp.addPartition(df=dfa, includelist=[activ], pname=activ, labelIn=activ, labelOut='others')\n",
    "    print(df_onevsall.groupby(activ).count()['user'])\n",
    "    hp.runFlow(df_onevsall, labelName=activ)"
   ]
  },
  {
   "cell_type": "markdown",
   "metadata": {},
   "source": [
    "### Split still activities by sleep vc others"
   ]
  },
  {
   "cell_type": "code",
   "execution_count": null,
   "metadata": {
    "collapsed": true
   },
   "outputs": [],
   "source": [
    "hp.countExamplesByActivity(df_stillcls)\n",
    "df_partsleep = hp.addPartition(df=df_stillcls, includelist=['sleep'], pname='sleep', labelIn='sleep', labelOut='wake')\n",
    "print(df_partsleep.groupby('sleep').count()['user'])"
   ]
  },
  {
   "cell_type": "code",
   "execution_count": null,
   "metadata": {
    "collapsed": true
   },
   "outputs": [],
   "source": [
    " hp.runFlow(df_partsleep, labelName='sleep')"
   ]
  },
  {
   "cell_type": "code",
   "execution_count": null,
   "metadata": {
    "collapsed": true
   },
   "outputs": [],
   "source": [
    "ju_sleep = hp.userRows(df_partsleep, 0) \n",
    "hp.runFlow(ju_sleep, labelName='sleep')"
   ]
  },
  {
   "cell_type": "code",
   "execution_count": null,
   "metadata": {
    "collapsed": true
   },
   "outputs": [],
   "source": [
    "edu_sleep = hp.userRows(df_partsleep, 2) \n",
    "hp.runFlow(edu_sleep, labelName='sleep')"
   ]
  },
  {
   "cell_type": "code",
   "execution_count": null,
   "metadata": {
    "collapsed": true
   },
   "outputs": [],
   "source": [
    "df_wake = hp.excludeActivities(df_stillcls,['sleep'] )\n",
    "hp.countExamplesByActivity(df_wake)"
   ]
  },
  {
   "cell_type": "code",
   "execution_count": null,
   "metadata": {
    "collapsed": true
   },
   "outputs": [],
   "source": [
    "hp.runFlow(df_wake)"
   ]
  },
  {
   "cell_type": "code",
   "execution_count": null,
   "metadata": {
    "collapsed": true
   },
   "outputs": [],
   "source": [
    "hp.runFlowByUser(df_wake)"
   ]
  },
  {
   "cell_type": "markdown",
   "metadata": {},
   "source": [
    "### Split by passive vs active sitting activities"
   ]
  },
  {
   "cell_type": "code",
   "execution_count": null,
   "metadata": {
    "collapsed": true
   },
   "outputs": [],
   "source": [
    "df_actlvl = hp.addPartition(df_wake, includelist=['focused-passive', 'leisure-passive'], pname='actlvl', labelIn='passive', labelOut='active')\n",
    "print(df_passive.groupby('actlvl').count()['user'])"
   ]
  },
  {
   "cell_type": "code",
   "execution_count": null,
   "metadata": {
    "collapsed": true
   },
   "outputs": [],
   "source": [
    "hp.runFlow(df_actlvl, labelName='actlvl')"
   ]
  },
  {
   "cell_type": "code",
   "execution_count": null,
   "metadata": {
    "collapsed": true
   },
   "outputs": [],
   "source": [
    "hp.runFlowByUser(df_actlvl, labelName='actlvl')"
   ]
  },
  {
   "cell_type": "code",
   "execution_count": null,
   "metadata": {
    "collapsed": true
   },
   "outputs": [],
   "source": [
    "df_passive = hp.filterActivities(df_actlvl, ['leisure-passive', 'focused-passive'])\n",
    "hp.countExamplesByActivity(df_passive)"
   ]
  },
  {
   "cell_type": "code",
   "execution_count": null,
   "metadata": {
    "collapsed": true
   },
   "outputs": [],
   "source": [
    "hp.runFlow(df_passive)"
   ]
  },
  {
   "cell_type": "code",
   "execution_count": null,
   "metadata": {
    "collapsed": true
   },
   "outputs": [],
   "source": [
    "hp.runFlow(hp.userRows(df_passive, 0))"
   ]
  },
  {
   "cell_type": "code",
   "execution_count": null,
   "metadata": {
    "collapsed": true
   },
   "outputs": [],
   "source": [
    "hp.runFlow(hp.userRows(df_passive, 2))"
   ]
  },
  {
   "cell_type": "code",
   "execution_count": null,
   "metadata": {
    "collapsed": true
   },
   "outputs": [],
   "source": [
    "df_active = hp.excludeActivities(df_actlvl, ['leisure-passive', 'focused-passive'])\n",
    "hp.countExamplesByActivity(df_active)"
   ]
  },
  {
   "cell_type": "code",
   "execution_count": null,
   "metadata": {
    "collapsed": true
   },
   "outputs": [],
   "source": [
    "hp.runFlow(df_active)"
   ]
  },
  {
   "cell_type": "code",
   "execution_count": null,
   "metadata": {
    "collapsed": true
   },
   "outputs": [],
   "source": [
    "hp.runFlowByUser(df_active)"
   ]
  },
  {
   "cell_type": "code",
   "execution_count": null,
   "metadata": {
    "collapsed": true
   },
   "outputs": [],
   "source": []
  }
 ],
 "metadata": {
  "kernelspec": {
   "display_name": "Python 3",
   "language": "python",
   "name": "python3"
  },
  "language_info": {
   "codemirror_mode": {
    "name": "ipython",
    "version": 3
   },
   "file_extension": ".py",
   "mimetype": "text/x-python",
   "name": "python",
   "nbconvert_exporter": "python",
   "pygments_lexer": "ipython3",
   "version": "3.6.3"
  }
 },
 "nbformat": 4,
 "nbformat_minor": 2
}
