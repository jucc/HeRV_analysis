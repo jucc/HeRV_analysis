{
 "cells": [
  {
   "cell_type": "code",
   "execution_count": 1,
   "metadata": {},
   "outputs": [
    {
     "data": {
      "text/html": [
       "<script>requirejs.config({paths: { 'plotly': ['https://cdn.plot.ly/plotly-latest.min']},});if(!window.Plotly) {{require(['plotly'],function(plotly) {window.Plotly=plotly;});}}</script>"
      ],
      "text/vnd.plotly.v1+html": [
       "<script>requirejs.config({paths: { 'plotly': ['https://cdn.plot.ly/plotly-latest.min']},});if(!window.Plotly) {{require(['plotly'],function(plotly) {window.Plotly=plotly;});}}</script>"
      ]
     },
     "metadata": {},
     "output_type": "display_data"
    }
   ],
   "source": [
    "%load_ext autoreload\n",
    "%autoreload 2\n",
    "%matplotlib inline\n",
    "\n",
    "import pandas as pd\n",
    "from sklearn.ensemble import RandomForestClassifier\n",
    "import plotly.offline as pl\n",
    "import plotly.graph_objs as go\n",
    "pl.init_notebook_mode(connected=True)\n",
    "\n",
    "\n",
    "import classif_multiclass as cmc\n",
    "import hervpd as hp"
   ]
  },
  {
   "cell_type": "code",
   "execution_count": 2,
   "metadata": {},
   "outputs": [],
   "source": [
    "path = \"C:\\\\Users\\\\ju\\\\GDrive\\\\Projects\\\\HeRV\\\\Data\\\\PreProcessed\" \n",
    "features = ['mrri', 'sdnn', 'rmssd', 'pnn50', 'hfnu', 'lfnu', 'lf_hf']"
   ]
  },
  {
   "cell_type": "markdown",
   "metadata": {},
   "source": [
    "## Example (fragment len = 300, crop len = 30, classifier = RF)"
   ]
  },
  {
   "cell_type": "code",
   "execution_count": 3,
   "metadata": {},
   "outputs": [
    {
     "data": {
      "text/html": [
       "<div>\n",
       "<style>\n",
       "    .dataframe thead tr:only-child th {\n",
       "        text-align: right;\n",
       "    }\n",
       "\n",
       "    .dataframe thead th {\n",
       "        text-align: left;\n",
       "    }\n",
       "\n",
       "    .dataframe tbody tr th {\n",
       "        vertical-align: top;\n",
       "    }\n",
       "</style>\n",
       "<table border=\"1\" class=\"dataframe\">\n",
       "  <thead>\n",
       "    <tr style=\"text-align: right;\">\n",
       "      <th></th>\n",
       "      <th>activity</th>\n",
       "      <th>beatcount</th>\n",
       "      <th>hf</th>\n",
       "      <th>hfnu</th>\n",
       "      <th>lf</th>\n",
       "      <th>lf_hf</th>\n",
       "      <th>lfnu</th>\n",
       "      <th>mhr</th>\n",
       "      <th>mrri</th>\n",
       "      <th>nn50</th>\n",
       "      <th>...</th>\n",
       "      <th>user</th>\n",
       "      <th>vlf</th>\n",
       "      <th>gr_main3</th>\n",
       "      <th>gr_main4</th>\n",
       "      <th>gr_active</th>\n",
       "      <th>gr_focus1</th>\n",
       "      <th>gr_focus2</th>\n",
       "      <th>gr_stress1</th>\n",
       "      <th>gr_stress2</th>\n",
       "      <th>gr_stress3</th>\n",
       "    </tr>\n",
       "  </thead>\n",
       "  <tbody>\n",
       "    <tr>\n",
       "      <th>2742</th>\n",
       "      <td>focused-passive</td>\n",
       "      <td>426</td>\n",
       "      <td>519.317107</td>\n",
       "      <td>19.909373</td>\n",
       "      <td>2089.087961</td>\n",
       "      <td>4.022760</td>\n",
       "      <td>80.090627</td>\n",
       "      <td>84.503605</td>\n",
       "      <td>718.500000</td>\n",
       "      <td>69</td>\n",
       "      <td>...</td>\n",
       "      <td>1</td>\n",
       "      <td>1134.694517</td>\n",
       "      <td>still</td>\n",
       "      <td>still</td>\n",
       "      <td>passive</td>\n",
       "      <td>focused</td>\n",
       "      <td>focused</td>\n",
       "      <td>stressed</td>\n",
       "      <td>stressed</td>\n",
       "      <td>relaxed</td>\n",
       "    </tr>\n",
       "    <tr>\n",
       "      <th>1144</th>\n",
       "      <td>focused-active</td>\n",
       "      <td>358</td>\n",
       "      <td>5783.055117</td>\n",
       "      <td>51.442125</td>\n",
       "      <td>5458.811669</td>\n",
       "      <td>0.943932</td>\n",
       "      <td>48.557875</td>\n",
       "      <td>72.294808</td>\n",
       "      <td>854.016760</td>\n",
       "      <td>200</td>\n",
       "      <td>...</td>\n",
       "      <td>0</td>\n",
       "      <td>2642.712695</td>\n",
       "      <td>still</td>\n",
       "      <td>still</td>\n",
       "      <td>active</td>\n",
       "      <td>focused</td>\n",
       "      <td>focused</td>\n",
       "      <td>stressed</td>\n",
       "      <td>stressed</td>\n",
       "      <td>stressed</td>\n",
       "    </tr>\n",
       "    <tr>\n",
       "      <th>3157</th>\n",
       "      <td>leisure</td>\n",
       "      <td>391</td>\n",
       "      <td>1300.231632</td>\n",
       "      <td>48.302885</td>\n",
       "      <td>1391.598539</td>\n",
       "      <td>1.070270</td>\n",
       "      <td>51.697115</td>\n",
       "      <td>78.969788</td>\n",
       "      <td>782.647059</td>\n",
       "      <td>73</td>\n",
       "      <td>...</td>\n",
       "      <td>2</td>\n",
       "      <td>5173.424290</td>\n",
       "      <td>still</td>\n",
       "      <td>still</td>\n",
       "      <td>passive</td>\n",
       "      <td>rest</td>\n",
       "      <td>rest</td>\n",
       "      <td>relaxed</td>\n",
       "      <td>relaxed</td>\n",
       "      <td>relaxed</td>\n",
       "    </tr>\n",
       "    <tr>\n",
       "      <th>3373</th>\n",
       "      <td>movement</td>\n",
       "      <td>445</td>\n",
       "      <td>144.257349</td>\n",
       "      <td>15.581568</td>\n",
       "      <td>781.563139</td>\n",
       "      <td>5.417839</td>\n",
       "      <td>84.418432</td>\n",
       "      <td>88.338273</td>\n",
       "      <td>684.449438</td>\n",
       "      <td>12</td>\n",
       "      <td>...</td>\n",
       "      <td>2</td>\n",
       "      <td>1089.575875</td>\n",
       "      <td>move</td>\n",
       "      <td>move</td>\n",
       "      <td>move</td>\n",
       "      <td>move</td>\n",
       "      <td>move</td>\n",
       "      <td>move</td>\n",
       "      <td>move</td>\n",
       "      <td>move</td>\n",
       "    </tr>\n",
       "    <tr>\n",
       "      <th>1354</th>\n",
       "      <td>movement</td>\n",
       "      <td>581</td>\n",
       "      <td>108.988268</td>\n",
       "      <td>22.282820</td>\n",
       "      <td>380.125169</td>\n",
       "      <td>3.487762</td>\n",
       "      <td>77.717180</td>\n",
       "      <td>114.222388</td>\n",
       "      <td>528.237522</td>\n",
       "      <td>7</td>\n",
       "      <td>...</td>\n",
       "      <td>0</td>\n",
       "      <td>239.452057</td>\n",
       "      <td>move</td>\n",
       "      <td>move</td>\n",
       "      <td>move</td>\n",
       "      <td>move</td>\n",
       "      <td>move</td>\n",
       "      <td>move</td>\n",
       "      <td>move</td>\n",
       "      <td>move</td>\n",
       "    </tr>\n",
       "    <tr>\n",
       "      <th>1988</th>\n",
       "      <td>movement</td>\n",
       "      <td>501</td>\n",
       "      <td>264.869293</td>\n",
       "      <td>23.358898</td>\n",
       "      <td>869.042456</td>\n",
       "      <td>3.281024</td>\n",
       "      <td>76.641102</td>\n",
       "      <td>98.764399</td>\n",
       "      <td>614.081836</td>\n",
       "      <td>28</td>\n",
       "      <td>...</td>\n",
       "      <td>0</td>\n",
       "      <td>710.715504</td>\n",
       "      <td>move</td>\n",
       "      <td>move</td>\n",
       "      <td>move</td>\n",
       "      <td>move</td>\n",
       "      <td>move</td>\n",
       "      <td>move</td>\n",
       "      <td>move</td>\n",
       "      <td>move</td>\n",
       "    </tr>\n",
       "    <tr>\n",
       "      <th>1539</th>\n",
       "      <td>leisure</td>\n",
       "      <td>428</td>\n",
       "      <td>188.563786</td>\n",
       "      <td>21.224019</td>\n",
       "      <td>699.881447</td>\n",
       "      <td>3.711643</td>\n",
       "      <td>78.775981</td>\n",
       "      <td>84.217984</td>\n",
       "      <td>715.404206</td>\n",
       "      <td>21</td>\n",
       "      <td>...</td>\n",
       "      <td>0</td>\n",
       "      <td>353.477545</td>\n",
       "      <td>still</td>\n",
       "      <td>still</td>\n",
       "      <td>passive</td>\n",
       "      <td>rest</td>\n",
       "      <td>rest</td>\n",
       "      <td>relaxed</td>\n",
       "      <td>relaxed</td>\n",
       "      <td>relaxed</td>\n",
       "    </tr>\n",
       "  </tbody>\n",
       "</table>\n",
       "<p>7 rows × 29 columns</p>\n",
       "</div>"
      ],
      "text/plain": [
       "             activity  beatcount           hf       hfnu           lf  \\\n",
       "2742  focused-passive        426   519.317107  19.909373  2089.087961   \n",
       "1144   focused-active        358  5783.055117  51.442125  5458.811669   \n",
       "3157          leisure        391  1300.231632  48.302885  1391.598539   \n",
       "3373         movement        445   144.257349  15.581568   781.563139   \n",
       "1354         movement        581   108.988268  22.282820   380.125169   \n",
       "1988         movement        501   264.869293  23.358898   869.042456   \n",
       "1539          leisure        428   188.563786  21.224019   699.881447   \n",
       "\n",
       "         lf_hf       lfnu         mhr        mrri  nn50     ...      user  \\\n",
       "2742  4.022760  80.090627   84.503605  718.500000    69     ...         1   \n",
       "1144  0.943932  48.557875   72.294808  854.016760   200     ...         0   \n",
       "3157  1.070270  51.697115   78.969788  782.647059    73     ...         2   \n",
       "3373  5.417839  84.418432   88.338273  684.449438    12     ...         2   \n",
       "1354  3.487762  77.717180  114.222388  528.237522     7     ...         0   \n",
       "1988  3.281024  76.641102   98.764399  614.081836    28     ...         0   \n",
       "1539  3.711643  78.775981   84.217984  715.404206    21     ...         0   \n",
       "\n",
       "              vlf gr_main3  gr_main4  gr_active  gr_focus1 gr_focus2  \\\n",
       "2742  1134.694517    still     still    passive    focused   focused   \n",
       "1144  2642.712695    still     still     active    focused   focused   \n",
       "3157  5173.424290    still     still    passive       rest      rest   \n",
       "3373  1089.575875     move      move       move       move      move   \n",
       "1354   239.452057     move      move       move       move      move   \n",
       "1988   710.715504     move      move       move       move      move   \n",
       "1539   353.477545    still     still    passive       rest      rest   \n",
       "\n",
       "     gr_stress1  gr_stress2  gr_stress3  \n",
       "2742   stressed    stressed     relaxed  \n",
       "1144   stressed    stressed    stressed  \n",
       "3157    relaxed     relaxed     relaxed  \n",
       "3373       move        move        move  \n",
       "1354       move        move        move  \n",
       "1988       move        move        move  \n",
       "1539    relaxed     relaxed     relaxed  \n",
       "\n",
       "[7 rows x 29 columns]"
      ]
     },
     "execution_count": 3,
     "metadata": {},
     "output_type": "execute_result"
    }
   ],
   "source": [
    "df = pd.read_excel(path+'\\\\df_300_30_grouped.xlsx')\n",
    "df.loc[df['activity'] == 'household-chores', 'activity'] = 'movement'\n",
    "df = df[(df['activity'] !='sleep') | (df['order'] > 30)]\n",
    "df.sample(7)"
   ]
  },
  {
   "cell_type": "code",
   "execution_count": 4,
   "metadata": {},
   "outputs": [],
   "source": [
    "clf_rf = RandomForestClassifier(n_estimators=100, n_jobs=-1)"
   ]
  },
  {
   "cell_type": "markdown",
   "metadata": {},
   "source": [
    "## Plotting results with category groups"
   ]
  },
  {
   "cell_type": "code",
   "execution_count": 7,
   "metadata": {
    "scrolled": false
   },
   "outputs": [
    {
     "name": "stdout",
     "output_type": "stream",
     "text": [
      "\n",
      "\n",
      "\n",
      "--------------------------------------------- activity ---------------------------------------------\n",
      "activity\n",
      "eat                 92\n",
      "exercise           106\n",
      "focused-active     549\n",
      "focused-passive    206\n",
      "leisure            335\n",
      "movement           495\n",
      "rest-active        101\n",
      "rest-passive       145\n",
      "sleep              568\n",
      "Name: user, dtype: int64\n",
      "2077 520\n"
     ]
    },
    {
     "data": {
      "application/vnd.plotly.v1+json": {
       "data": [
        {
         "colorscale": [
          [
           0,
           "rgb(165,0,38)"
          ],
          [
           0.1111111111111111,
           "rgb(215,48,39)"
          ],
          [
           0.2222222222222222,
           "rgb(244,109,67)"
          ],
          [
           0.3333333333333333,
           "rgb(253,174,97)"
          ],
          [
           0.4444444444444444,
           "rgb(254,224,144)"
          ],
          [
           0.5555555555555556,
           "rgb(224,243,248)"
          ],
          [
           0.6666666666666666,
           "rgb(171,217,233)"
          ],
          [
           0.7777777777777778,
           "rgb(116,173,209)"
          ],
          [
           0.8888888888888888,
           "rgb(69,117,180)"
          ],
          [
           1,
           "rgb(49,54,149)"
          ]
         ],
         "type": "heatmap",
         "x": [
          "precision",
          "recall",
          "f1"
         ],
         "y": [
          "eat",
          "exercise",
          "focused-active",
          "focused-passive",
          "leisure",
          "movement",
          "rest-active",
          "rest-passive",
          "sleep"
         ],
         "z": [
          [
           0.25,
           0.05555555555555555,
           0.0909090909090909
          ],
          [
           0.7368421052631579,
           0.6666666666666666,
           0.7
          ],
          [
           0.4251968503937008,
           0.5510204081632653,
           0.48
          ],
          [
           0.3448275862068966,
           0.2222222222222222,
           0.27027027027027023
          ],
          [
           0.3220338983050847,
           0.34545454545454546,
           0.33333333333333326
          ],
          [
           0.5703703703703704,
           0.7549019607843137,
           0.6497890295358649
          ],
          [
           0.16666666666666666,
           0.08333333333333333,
           0.1111111111111111
          ],
          [
           0.2222222222222222,
           0.05405405405405406,
           0.08695652173913043
          ],
          [
           0.8650793650793651,
           0.9083333333333333,
           0.8861788617886179
          ]
         ],
         "zmax": 1,
         "zmin": 0.5
        }
       ],
       "layout": {
        "font": {
         "color": "#333333",
         "size": 16
        },
        "title": "Precision, Recall, F1-score",
        "yaxis": {
         "autorange": "reversed"
        }
       }
      },
      "text/html": [
       "<div id=\"2f07ec60-2b0d-44ad-a3f0-cfd3607bd592\" style=\"height: 525px; width: 100%;\" class=\"plotly-graph-div\"></div><script type=\"text/javascript\">require([\"plotly\"], function(Plotly) { window.PLOTLYENV=window.PLOTLYENV || {};window.PLOTLYENV.BASE_URL=\"https://plot.ly\";Plotly.newPlot(\"2f07ec60-2b0d-44ad-a3f0-cfd3607bd592\", [{\"type\": \"heatmap\", \"z\": [[0.25, 0.05555555555555555, 0.0909090909090909], [0.7368421052631579, 0.6666666666666666, 0.7], [0.4251968503937008, 0.5510204081632653, 0.48], [0.3448275862068966, 0.2222222222222222, 0.27027027027027023], [0.3220338983050847, 0.34545454545454546, 0.33333333333333326], [0.5703703703703704, 0.7549019607843137, 0.6497890295358649], [0.16666666666666666, 0.08333333333333333, 0.1111111111111111], [0.2222222222222222, 0.05405405405405406, 0.08695652173913043], [0.8650793650793651, 0.9083333333333333, 0.8861788617886179]], \"y\": [\"eat\", \"exercise\", \"focused-active\", \"focused-passive\", \"leisure\", \"movement\", \"rest-active\", \"rest-passive\", \"sleep\"], \"x\": [\"precision\", \"recall\", \"f1\"], \"colorscale\": [[0.0, \"rgb(165,0,38)\"], [0.1111111111111111, \"rgb(215,48,39)\"], [0.2222222222222222, \"rgb(244,109,67)\"], [0.3333333333333333, \"rgb(253,174,97)\"], [0.4444444444444444, \"rgb(254,224,144)\"], [0.5555555555555556, \"rgb(224,243,248)\"], [0.6666666666666666, \"rgb(171,217,233)\"], [0.7777777777777778, \"rgb(116,173,209)\"], [0.8888888888888888, \"rgb(69,117,180)\"], [1.0, \"rgb(49,54,149)\"]], \"zmin\": 0.5, \"zmax\": 1.0}], {\"title\": \"Precision, Recall, F1-score\", \"font\": {\"size\": 16, \"color\": \"#333333\"}, \"yaxis\": {\"autorange\": \"reversed\"}}, {\"showLink\": true, \"linkText\": \"Export to plot.ly\"})});</script>"
      ],
      "text/vnd.plotly.v1+html": [
       "<div id=\"2f07ec60-2b0d-44ad-a3f0-cfd3607bd592\" style=\"height: 525px; width: 100%;\" class=\"plotly-graph-div\"></div><script type=\"text/javascript\">require([\"plotly\"], function(Plotly) { window.PLOTLYENV=window.PLOTLYENV || {};window.PLOTLYENV.BASE_URL=\"https://plot.ly\";Plotly.newPlot(\"2f07ec60-2b0d-44ad-a3f0-cfd3607bd592\", [{\"type\": \"heatmap\", \"z\": [[0.25, 0.05555555555555555, 0.0909090909090909], [0.7368421052631579, 0.6666666666666666, 0.7], [0.4251968503937008, 0.5510204081632653, 0.48], [0.3448275862068966, 0.2222222222222222, 0.27027027027027023], [0.3220338983050847, 0.34545454545454546, 0.33333333333333326], [0.5703703703703704, 0.7549019607843137, 0.6497890295358649], [0.16666666666666666, 0.08333333333333333, 0.1111111111111111], [0.2222222222222222, 0.05405405405405406, 0.08695652173913043], [0.8650793650793651, 0.9083333333333333, 0.8861788617886179]], \"y\": [\"eat\", \"exercise\", \"focused-active\", \"focused-passive\", \"leisure\", \"movement\", \"rest-active\", \"rest-passive\", \"sleep\"], \"x\": [\"precision\", \"recall\", \"f1\"], \"colorscale\": [[0.0, \"rgb(165,0,38)\"], [0.1111111111111111, \"rgb(215,48,39)\"], [0.2222222222222222, \"rgb(244,109,67)\"], [0.3333333333333333, \"rgb(253,174,97)\"], [0.4444444444444444, \"rgb(254,224,144)\"], [0.5555555555555556, \"rgb(224,243,248)\"], [0.6666666666666666, \"rgb(171,217,233)\"], [0.7777777777777778, \"rgb(116,173,209)\"], [0.8888888888888888, \"rgb(69,117,180)\"], [1.0, \"rgb(49,54,149)\"]], \"zmin\": 0.5, \"zmax\": 1.0}], {\"title\": \"Precision, Recall, F1-score\", \"font\": {\"size\": 16, \"color\": \"#333333\"}, \"yaxis\": {\"autorange\": \"reversed\"}}, {\"showLink\": true, \"linkText\": \"Export to plot.ly\"})});</script>"
      ]
     },
     "metadata": {},
     "output_type": "display_data"
    },
    {
     "data": {
      "application/vnd.plotly.v1+json": {
       "data": [
        {
         "colorscale": "Reds",
         "type": "heatmap",
         "x": [
          "eat",
          "exercise",
          "focused-active",
          "focused-passive",
          "leisure",
          "movement",
          "rest-active",
          "rest-passive",
          "sleep"
         ],
         "y": [
          "eat",
          "exercise",
          "focused-active",
          "focused-passive",
          "leisure",
          "movement",
          "rest-active",
          "rest-passive",
          "sleep"
         ],
         "z": [
          [
           1,
           0,
           7,
           2,
           0,
           6,
           2,
           0,
           0
          ],
          [
           0,
           14,
           0,
           0,
           1,
           6,
           0,
           0,
           0
          ],
          [
           1,
           0,
           54,
           7,
           12,
           8,
           3,
           4,
           9
          ],
          [
           1,
           0,
           13,
           10,
           10,
           8,
           0,
           1,
           2
          ],
          [
           0,
           0,
           21,
           4,
           19,
           6,
           2,
           0,
           3
          ],
          [
           1,
           3,
           9,
           3,
           4,
           77,
           3,
           1,
           1
          ],
          [
           0,
           0,
           7,
           1,
           7,
           6,
           2,
           0,
           1
          ],
          [
           0,
           2,
           11,
           2,
           2,
           17,
           0,
           2,
           1
          ],
          [
           0,
           0,
           5,
           0,
           4,
           1,
           0,
           1,
           109
          ]
         ]
        }
       ],
       "layout": {
        "font": {
         "color": "#333333",
         "size": 16
        },
        "title": "Confusion Matrix",
        "xaxis": {
         "title": "predicted",
         "titlefont": {
          "color": "#333333",
          "size": 16
         }
        },
        "yaxis": {
         "autorange": "reversed",
         "title": "true label",
         "titlefont": {
          "color": "#333333",
          "size": 16
         }
        }
       }
      },
      "text/html": [
       "<div id=\"f0468df9-f4f9-4947-8ece-f0fcae7b96e0\" style=\"height: 525px; width: 100%;\" class=\"plotly-graph-div\"></div><script type=\"text/javascript\">require([\"plotly\"], function(Plotly) { window.PLOTLYENV=window.PLOTLYENV || {};window.PLOTLYENV.BASE_URL=\"https://plot.ly\";Plotly.newPlot(\"f0468df9-f4f9-4947-8ece-f0fcae7b96e0\", [{\"type\": \"heatmap\", \"z\": [[1, 0, 7, 2, 0, 6, 2, 0, 0], [0, 14, 0, 0, 1, 6, 0, 0, 0], [1, 0, 54, 7, 12, 8, 3, 4, 9], [1, 0, 13, 10, 10, 8, 0, 1, 2], [0, 0, 21, 4, 19, 6, 2, 0, 3], [1, 3, 9, 3, 4, 77, 3, 1, 1], [0, 0, 7, 1, 7, 6, 2, 0, 1], [0, 2, 11, 2, 2, 17, 0, 2, 1], [0, 0, 5, 0, 4, 1, 0, 1, 109]], \"x\": [\"eat\", \"exercise\", \"focused-active\", \"focused-passive\", \"leisure\", \"movement\", \"rest-active\", \"rest-passive\", \"sleep\"], \"y\": [\"eat\", \"exercise\", \"focused-active\", \"focused-passive\", \"leisure\", \"movement\", \"rest-active\", \"rest-passive\", \"sleep\"], \"colorscale\": \"Reds\"}], {\"title\": \"Confusion Matrix\", \"font\": {\"size\": 16, \"color\": \"#333333\"}, \"xaxis\": {\"title\": \"predicted\", \"titlefont\": {\"size\": 16, \"color\": \"#333333\"}}, \"yaxis\": {\"title\": \"true label\", \"titlefont\": {\"size\": 16, \"color\": \"#333333\"}, \"autorange\": \"reversed\"}}, {\"showLink\": true, \"linkText\": \"Export to plot.ly\"})});</script>"
      ],
      "text/vnd.plotly.v1+html": [
       "<div id=\"f0468df9-f4f9-4947-8ece-f0fcae7b96e0\" style=\"height: 525px; width: 100%;\" class=\"plotly-graph-div\"></div><script type=\"text/javascript\">require([\"plotly\"], function(Plotly) { window.PLOTLYENV=window.PLOTLYENV || {};window.PLOTLYENV.BASE_URL=\"https://plot.ly\";Plotly.newPlot(\"f0468df9-f4f9-4947-8ece-f0fcae7b96e0\", [{\"type\": \"heatmap\", \"z\": [[1, 0, 7, 2, 0, 6, 2, 0, 0], [0, 14, 0, 0, 1, 6, 0, 0, 0], [1, 0, 54, 7, 12, 8, 3, 4, 9], [1, 0, 13, 10, 10, 8, 0, 1, 2], [0, 0, 21, 4, 19, 6, 2, 0, 3], [1, 3, 9, 3, 4, 77, 3, 1, 1], [0, 0, 7, 1, 7, 6, 2, 0, 1], [0, 2, 11, 2, 2, 17, 0, 2, 1], [0, 0, 5, 0, 4, 1, 0, 1, 109]], \"x\": [\"eat\", \"exercise\", \"focused-active\", \"focused-passive\", \"leisure\", \"movement\", \"rest-active\", \"rest-passive\", \"sleep\"], \"y\": [\"eat\", \"exercise\", \"focused-active\", \"focused-passive\", \"leisure\", \"movement\", \"rest-active\", \"rest-passive\", \"sleep\"], \"colorscale\": \"Reds\"}], {\"title\": \"Confusion Matrix\", \"font\": {\"size\": 16, \"color\": \"#333333\"}, \"xaxis\": {\"title\": \"predicted\", \"titlefont\": {\"size\": 16, \"color\": \"#333333\"}}, \"yaxis\": {\"title\": \"true label\", \"titlefont\": {\"size\": 16, \"color\": \"#333333\"}, \"autorange\": \"reversed\"}}, {\"showLink\": true, \"linkText\": \"Export to plot.ly\"})});</script>"
      ]
     },
     "metadata": {},
     "output_type": "display_data"
    },
    {
     "name": "stdout",
     "output_type": "stream",
     "text": [
      "\n",
      "\n",
      "\n",
      "--------------------------------------------- gr_main3 ---------------------------------------------\n",
      "gr_main3\n",
      "move      601\n",
      "sleep     568\n",
      "still    1428\n",
      "Name: user, dtype: int64\n",
      "2077 520\n"
     ]
    },
    {
     "data": {
      "application/vnd.plotly.v1+json": {
       "data": [
        {
         "colorscale": [
          [
           0,
           "rgb(165,0,38)"
          ],
          [
           0.1111111111111111,
           "rgb(215,48,39)"
          ],
          [
           0.2222222222222222,
           "rgb(244,109,67)"
          ],
          [
           0.3333333333333333,
           "rgb(253,174,97)"
          ],
          [
           0.4444444444444444,
           "rgb(254,224,144)"
          ],
          [
           0.5555555555555556,
           "rgb(224,243,248)"
          ],
          [
           0.6666666666666666,
           "rgb(171,217,233)"
          ],
          [
           0.7777777777777778,
           "rgb(116,173,209)"
          ],
          [
           0.8888888888888888,
           "rgb(69,117,180)"
          ],
          [
           1,
           "rgb(49,54,149)"
          ]
         ],
         "type": "heatmap",
         "x": [
          "precision",
          "recall",
          "f1"
         ],
         "y": [
          "move",
          "sleep",
          "still"
         ],
         "z": [
          [
           0.75,
           0.7009345794392523,
           0.7246376811594203
          ],
          [
           0.8272727272727273,
           0.8348623853211009,
           0.8310502283105023
          ],
          [
           0.8387096774193549,
           0.8552631578947368,
           0.8469055374592834
          ]
         ],
         "zmax": 1,
         "zmin": 0.5
        }
       ],
       "layout": {
        "font": {
         "color": "#333333",
         "size": 16
        },
        "title": "Precision, Recall, F1-score",
        "yaxis": {
         "autorange": "reversed"
        }
       }
      },
      "text/html": [
       "<div id=\"7ab8ba21-f907-48ff-b0b3-225d450c0975\" style=\"height: 525px; width: 100%;\" class=\"plotly-graph-div\"></div><script type=\"text/javascript\">require([\"plotly\"], function(Plotly) { window.PLOTLYENV=window.PLOTLYENV || {};window.PLOTLYENV.BASE_URL=\"https://plot.ly\";Plotly.newPlot(\"7ab8ba21-f907-48ff-b0b3-225d450c0975\", [{\"type\": \"heatmap\", \"z\": [[0.75, 0.7009345794392523, 0.7246376811594203], [0.8272727272727273, 0.8348623853211009, 0.8310502283105023], [0.8387096774193549, 0.8552631578947368, 0.8469055374592834]], \"y\": [\"move\", \"sleep\", \"still\"], \"x\": [\"precision\", \"recall\", \"f1\"], \"colorscale\": [[0.0, \"rgb(165,0,38)\"], [0.1111111111111111, \"rgb(215,48,39)\"], [0.2222222222222222, \"rgb(244,109,67)\"], [0.3333333333333333, \"rgb(253,174,97)\"], [0.4444444444444444, \"rgb(254,224,144)\"], [0.5555555555555556, \"rgb(224,243,248)\"], [0.6666666666666666, \"rgb(171,217,233)\"], [0.7777777777777778, \"rgb(116,173,209)\"], [0.8888888888888888, \"rgb(69,117,180)\"], [1.0, \"rgb(49,54,149)\"]], \"zmin\": 0.5, \"zmax\": 1.0}], {\"title\": \"Precision, Recall, F1-score\", \"font\": {\"size\": 16, \"color\": \"#333333\"}, \"yaxis\": {\"autorange\": \"reversed\"}}, {\"showLink\": true, \"linkText\": \"Export to plot.ly\"})});</script>"
      ],
      "text/vnd.plotly.v1+html": [
       "<div id=\"7ab8ba21-f907-48ff-b0b3-225d450c0975\" style=\"height: 525px; width: 100%;\" class=\"plotly-graph-div\"></div><script type=\"text/javascript\">require([\"plotly\"], function(Plotly) { window.PLOTLYENV=window.PLOTLYENV || {};window.PLOTLYENV.BASE_URL=\"https://plot.ly\";Plotly.newPlot(\"7ab8ba21-f907-48ff-b0b3-225d450c0975\", [{\"type\": \"heatmap\", \"z\": [[0.75, 0.7009345794392523, 0.7246376811594203], [0.8272727272727273, 0.8348623853211009, 0.8310502283105023], [0.8387096774193549, 0.8552631578947368, 0.8469055374592834]], \"y\": [\"move\", \"sleep\", \"still\"], \"x\": [\"precision\", \"recall\", \"f1\"], \"colorscale\": [[0.0, \"rgb(165,0,38)\"], [0.1111111111111111, \"rgb(215,48,39)\"], [0.2222222222222222, \"rgb(244,109,67)\"], [0.3333333333333333, \"rgb(253,174,97)\"], [0.4444444444444444, \"rgb(254,224,144)\"], [0.5555555555555556, \"rgb(224,243,248)\"], [0.6666666666666666, \"rgb(171,217,233)\"], [0.7777777777777778, \"rgb(116,173,209)\"], [0.8888888888888888, \"rgb(69,117,180)\"], [1.0, \"rgb(49,54,149)\"]], \"zmin\": 0.5, \"zmax\": 1.0}], {\"title\": \"Precision, Recall, F1-score\", \"font\": {\"size\": 16, \"color\": \"#333333\"}, \"yaxis\": {\"autorange\": \"reversed\"}}, {\"showLink\": true, \"linkText\": \"Export to plot.ly\"})});</script>"
      ]
     },
     "metadata": {},
     "output_type": "display_data"
    },
    {
     "data": {
      "application/vnd.plotly.v1+json": {
       "data": [
        {
         "colorscale": "Reds",
         "type": "heatmap",
         "x": [
          "move",
          "sleep",
          "still"
         ],
         "y": [
          "move",
          "sleep",
          "still"
         ],
         "z": [
          [
           75,
           0,
           32
          ],
          [
           0,
           91,
           18
          ],
          [
           25,
           19,
           260
          ]
         ]
        }
       ],
       "layout": {
        "font": {
         "color": "#333333",
         "size": 16
        },
        "title": "Confusion Matrix",
        "xaxis": {
         "title": "predicted",
         "titlefont": {
          "color": "#333333",
          "size": 16
         }
        },
        "yaxis": {
         "autorange": "reversed",
         "title": "true label",
         "titlefont": {
          "color": "#333333",
          "size": 16
         }
        }
       }
      },
      "text/html": [
       "<div id=\"6a4c3bc8-13ca-4c65-abb9-d020829e3dde\" style=\"height: 525px; width: 100%;\" class=\"plotly-graph-div\"></div><script type=\"text/javascript\">require([\"plotly\"], function(Plotly) { window.PLOTLYENV=window.PLOTLYENV || {};window.PLOTLYENV.BASE_URL=\"https://plot.ly\";Plotly.newPlot(\"6a4c3bc8-13ca-4c65-abb9-d020829e3dde\", [{\"type\": \"heatmap\", \"z\": [[75, 0, 32], [0, 91, 18], [25, 19, 260]], \"x\": [\"move\", \"sleep\", \"still\"], \"y\": [\"move\", \"sleep\", \"still\"], \"colorscale\": \"Reds\"}], {\"title\": \"Confusion Matrix\", \"font\": {\"size\": 16, \"color\": \"#333333\"}, \"xaxis\": {\"title\": \"predicted\", \"titlefont\": {\"size\": 16, \"color\": \"#333333\"}}, \"yaxis\": {\"title\": \"true label\", \"titlefont\": {\"size\": 16, \"color\": \"#333333\"}, \"autorange\": \"reversed\"}}, {\"showLink\": true, \"linkText\": \"Export to plot.ly\"})});</script>"
      ],
      "text/vnd.plotly.v1+html": [
       "<div id=\"6a4c3bc8-13ca-4c65-abb9-d020829e3dde\" style=\"height: 525px; width: 100%;\" class=\"plotly-graph-div\"></div><script type=\"text/javascript\">require([\"plotly\"], function(Plotly) { window.PLOTLYENV=window.PLOTLYENV || {};window.PLOTLYENV.BASE_URL=\"https://plot.ly\";Plotly.newPlot(\"6a4c3bc8-13ca-4c65-abb9-d020829e3dde\", [{\"type\": \"heatmap\", \"z\": [[75, 0, 32], [0, 91, 18], [25, 19, 260]], \"x\": [\"move\", \"sleep\", \"still\"], \"y\": [\"move\", \"sleep\", \"still\"], \"colorscale\": \"Reds\"}], {\"title\": \"Confusion Matrix\", \"font\": {\"size\": 16, \"color\": \"#333333\"}, \"xaxis\": {\"title\": \"predicted\", \"titlefont\": {\"size\": 16, \"color\": \"#333333\"}}, \"yaxis\": {\"title\": \"true label\", \"titlefont\": {\"size\": 16, \"color\": \"#333333\"}, \"autorange\": \"reversed\"}}, {\"showLink\": true, \"linkText\": \"Export to plot.ly\"})});</script>"
      ]
     },
     "metadata": {},
     "output_type": "display_data"
    },
    {
     "name": "stdout",
     "output_type": "stream",
     "text": [
      "\n",
      "\n",
      "\n",
      "--------------------------------------------- gr_main4 ---------------------------------------------\n",
      "gr_main4\n",
      "exercise     106\n",
      "move         495\n",
      "sleep        568\n",
      "still       1428\n",
      "Name: user, dtype: int64\n",
      "2077 520\n"
     ]
    },
    {
     "data": {
      "application/vnd.plotly.v1+json": {
       "data": [
        {
         "colorscale": [
          [
           0,
           "rgb(165,0,38)"
          ],
          [
           0.1111111111111111,
           "rgb(215,48,39)"
          ],
          [
           0.2222222222222222,
           "rgb(244,109,67)"
          ],
          [
           0.3333333333333333,
           "rgb(253,174,97)"
          ],
          [
           0.4444444444444444,
           "rgb(254,224,144)"
          ],
          [
           0.5555555555555556,
           "rgb(224,243,248)"
          ],
          [
           0.6666666666666666,
           "rgb(171,217,233)"
          ],
          [
           0.7777777777777778,
           "rgb(116,173,209)"
          ],
          [
           0.8888888888888888,
           "rgb(69,117,180)"
          ],
          [
           1,
           "rgb(49,54,149)"
          ]
         ],
         "type": "heatmap",
         "x": [
          "precision",
          "recall",
          "f1"
         ],
         "y": [
          "exercise",
          "move",
          "sleep",
          "still"
         ],
         "z": [
          [
           0.7727272727272727,
           0.6538461538461539,
           0.7083333333333333
          ],
          [
           0.6363636363636364,
           0.5894736842105263,
           0.6120218579234973
          ],
          [
           0.8349514563106796,
           0.7962962962962963,
           0.815165876777251
          ],
          [
           0.8208469055374593,
           0.865979381443299,
           0.8428093645484951
          ]
         ],
         "zmax": 1,
         "zmin": 0.5
        }
       ],
       "layout": {
        "font": {
         "color": "#333333",
         "size": 16
        },
        "title": "Precision, Recall, F1-score",
        "yaxis": {
         "autorange": "reversed"
        }
       }
      },
      "text/html": [
       "<div id=\"0652aff1-4e97-47e0-894f-5ad19dc0fd7c\" style=\"height: 525px; width: 100%;\" class=\"plotly-graph-div\"></div><script type=\"text/javascript\">require([\"plotly\"], function(Plotly) { window.PLOTLYENV=window.PLOTLYENV || {};window.PLOTLYENV.BASE_URL=\"https://plot.ly\";Plotly.newPlot(\"0652aff1-4e97-47e0-894f-5ad19dc0fd7c\", [{\"type\": \"heatmap\", \"z\": [[0.7727272727272727, 0.6538461538461539, 0.7083333333333333], [0.6363636363636364, 0.5894736842105263, 0.6120218579234973], [0.8349514563106796, 0.7962962962962963, 0.815165876777251], [0.8208469055374593, 0.865979381443299, 0.8428093645484951]], \"y\": [\"exercise\", \"move\", \"sleep\", \"still\"], \"x\": [\"precision\", \"recall\", \"f1\"], \"colorscale\": [[0.0, \"rgb(165,0,38)\"], [0.1111111111111111, \"rgb(215,48,39)\"], [0.2222222222222222, \"rgb(244,109,67)\"], [0.3333333333333333, \"rgb(253,174,97)\"], [0.4444444444444444, \"rgb(254,224,144)\"], [0.5555555555555556, \"rgb(224,243,248)\"], [0.6666666666666666, \"rgb(171,217,233)\"], [0.7777777777777778, \"rgb(116,173,209)\"], [0.8888888888888888, \"rgb(69,117,180)\"], [1.0, \"rgb(49,54,149)\"]], \"zmin\": 0.5, \"zmax\": 1.0}], {\"title\": \"Precision, Recall, F1-score\", \"font\": {\"size\": 16, \"color\": \"#333333\"}, \"yaxis\": {\"autorange\": \"reversed\"}}, {\"showLink\": true, \"linkText\": \"Export to plot.ly\"})});</script>"
      ],
      "text/vnd.plotly.v1+html": [
       "<div id=\"0652aff1-4e97-47e0-894f-5ad19dc0fd7c\" style=\"height: 525px; width: 100%;\" class=\"plotly-graph-div\"></div><script type=\"text/javascript\">require([\"plotly\"], function(Plotly) { window.PLOTLYENV=window.PLOTLYENV || {};window.PLOTLYENV.BASE_URL=\"https://plot.ly\";Plotly.newPlot(\"0652aff1-4e97-47e0-894f-5ad19dc0fd7c\", [{\"type\": \"heatmap\", \"z\": [[0.7727272727272727, 0.6538461538461539, 0.7083333333333333], [0.6363636363636364, 0.5894736842105263, 0.6120218579234973], [0.8349514563106796, 0.7962962962962963, 0.815165876777251], [0.8208469055374593, 0.865979381443299, 0.8428093645484951]], \"y\": [\"exercise\", \"move\", \"sleep\", \"still\"], \"x\": [\"precision\", \"recall\", \"f1\"], \"colorscale\": [[0.0, \"rgb(165,0,38)\"], [0.1111111111111111, \"rgb(215,48,39)\"], [0.2222222222222222, \"rgb(244,109,67)\"], [0.3333333333333333, \"rgb(253,174,97)\"], [0.4444444444444444, \"rgb(254,224,144)\"], [0.5555555555555556, \"rgb(224,243,248)\"], [0.6666666666666666, \"rgb(171,217,233)\"], [0.7777777777777778, \"rgb(116,173,209)\"], [0.8888888888888888, \"rgb(69,117,180)\"], [1.0, \"rgb(49,54,149)\"]], \"zmin\": 0.5, \"zmax\": 1.0}], {\"title\": \"Precision, Recall, F1-score\", \"font\": {\"size\": 16, \"color\": \"#333333\"}, \"yaxis\": {\"autorange\": \"reversed\"}}, {\"showLink\": true, \"linkText\": \"Export to plot.ly\"})});</script>"
      ]
     },
     "metadata": {},
     "output_type": "display_data"
    },
    {
     "data": {
      "application/vnd.plotly.v1+json": {
       "data": [
        {
         "colorscale": "Reds",
         "type": "heatmap",
         "x": [
          "exercise",
          "move",
          "sleep",
          "still"
         ],
         "y": [
          "exercise",
          "move",
          "sleep",
          "still"
         ],
         "z": [
          [
           17,
           7,
           0,
           2
          ],
          [
           5,
           56,
           1,
           33
          ],
          [
           0,
           2,
           86,
           20
          ],
          [
           0,
           23,
           16,
           252
          ]
         ]
        }
       ],
       "layout": {
        "font": {
         "color": "#333333",
         "size": 16
        },
        "title": "Confusion Matrix",
        "xaxis": {
         "title": "predicted",
         "titlefont": {
          "color": "#333333",
          "size": 16
         }
        },
        "yaxis": {
         "autorange": "reversed",
         "title": "true label",
         "titlefont": {
          "color": "#333333",
          "size": 16
         }
        }
       }
      },
      "text/html": [
       "<div id=\"cc55cec5-55ce-4acb-afc2-6e642bfa7d9c\" style=\"height: 525px; width: 100%;\" class=\"plotly-graph-div\"></div><script type=\"text/javascript\">require([\"plotly\"], function(Plotly) { window.PLOTLYENV=window.PLOTLYENV || {};window.PLOTLYENV.BASE_URL=\"https://plot.ly\";Plotly.newPlot(\"cc55cec5-55ce-4acb-afc2-6e642bfa7d9c\", [{\"type\": \"heatmap\", \"z\": [[17, 7, 0, 2], [5, 56, 1, 33], [0, 2, 86, 20], [0, 23, 16, 252]], \"x\": [\"exercise\", \"move\", \"sleep\", \"still\"], \"y\": [\"exercise\", \"move\", \"sleep\", \"still\"], \"colorscale\": \"Reds\"}], {\"title\": \"Confusion Matrix\", \"font\": {\"size\": 16, \"color\": \"#333333\"}, \"xaxis\": {\"title\": \"predicted\", \"titlefont\": {\"size\": 16, \"color\": \"#333333\"}}, \"yaxis\": {\"title\": \"true label\", \"titlefont\": {\"size\": 16, \"color\": \"#333333\"}, \"autorange\": \"reversed\"}}, {\"showLink\": true, \"linkText\": \"Export to plot.ly\"})});</script>"
      ],
      "text/vnd.plotly.v1+html": [
       "<div id=\"cc55cec5-55ce-4acb-afc2-6e642bfa7d9c\" style=\"height: 525px; width: 100%;\" class=\"plotly-graph-div\"></div><script type=\"text/javascript\">require([\"plotly\"], function(Plotly) { window.PLOTLYENV=window.PLOTLYENV || {};window.PLOTLYENV.BASE_URL=\"https://plot.ly\";Plotly.newPlot(\"cc55cec5-55ce-4acb-afc2-6e642bfa7d9c\", [{\"type\": \"heatmap\", \"z\": [[17, 7, 0, 2], [5, 56, 1, 33], [0, 2, 86, 20], [0, 23, 16, 252]], \"x\": [\"exercise\", \"move\", \"sleep\", \"still\"], \"y\": [\"exercise\", \"move\", \"sleep\", \"still\"], \"colorscale\": \"Reds\"}], {\"title\": \"Confusion Matrix\", \"font\": {\"size\": 16, \"color\": \"#333333\"}, \"xaxis\": {\"title\": \"predicted\", \"titlefont\": {\"size\": 16, \"color\": \"#333333\"}}, \"yaxis\": {\"title\": \"true label\", \"titlefont\": {\"size\": 16, \"color\": \"#333333\"}, \"autorange\": \"reversed\"}}, {\"showLink\": true, \"linkText\": \"Export to plot.ly\"})});</script>"
      ]
     },
     "metadata": {},
     "output_type": "display_data"
    },
    {
     "name": "stdout",
     "output_type": "stream",
     "text": [
      "\n",
      "\n",
      "\n",
      "--------------------------------------------- gr_stress1 ---------------------------------------------\n",
      "gr_stress1\n",
      "exercise    106\n",
      "move        495\n",
      "relaxed     480\n",
      "sleep       568\n",
      "stressed    948\n",
      "Name: user, dtype: int64\n",
      "2077 520\n"
     ]
    },
    {
     "data": {
      "application/vnd.plotly.v1+json": {
       "data": [
        {
         "colorscale": [
          [
           0,
           "rgb(165,0,38)"
          ],
          [
           0.1111111111111111,
           "rgb(215,48,39)"
          ],
          [
           0.2222222222222222,
           "rgb(244,109,67)"
          ],
          [
           0.3333333333333333,
           "rgb(253,174,97)"
          ],
          [
           0.4444444444444444,
           "rgb(254,224,144)"
          ],
          [
           0.5555555555555556,
           "rgb(224,243,248)"
          ],
          [
           0.6666666666666666,
           "rgb(171,217,233)"
          ],
          [
           0.7777777777777778,
           "rgb(116,173,209)"
          ],
          [
           0.8888888888888888,
           "rgb(69,117,180)"
          ],
          [
           1,
           "rgb(49,54,149)"
          ]
         ],
         "type": "heatmap",
         "x": [
          "precision",
          "recall",
          "f1"
         ],
         "y": [
          "exercise",
          "move",
          "relaxed",
          "sleep",
          "stressed"
         ],
         "z": [
          [
           0.8181818181818182,
           0.8181818181818182,
           0.8181818181818182
          ],
          [
           0.580952380952381,
           0.6354166666666666,
           0.6069651741293532
          ],
          [
           0.36,
           0.1875,
           0.24657534246575344
          ],
          [
           0.8135593220338984,
           0.8067226890756303,
           0.8101265822784811
          ],
          [
           0.5911111111111111,
           0.7112299465240641,
           0.6456310679611651
          ]
         ],
         "zmax": 1,
         "zmin": 0.5
        }
       ],
       "layout": {
        "font": {
         "color": "#333333",
         "size": 16
        },
        "title": "Precision, Recall, F1-score",
        "yaxis": {
         "autorange": "reversed"
        }
       }
      },
      "text/html": [
       "<div id=\"c41d331d-98a0-4be3-b260-c0f06214a66f\" style=\"height: 525px; width: 100%;\" class=\"plotly-graph-div\"></div><script type=\"text/javascript\">require([\"plotly\"], function(Plotly) { window.PLOTLYENV=window.PLOTLYENV || {};window.PLOTLYENV.BASE_URL=\"https://plot.ly\";Plotly.newPlot(\"c41d331d-98a0-4be3-b260-c0f06214a66f\", [{\"type\": \"heatmap\", \"z\": [[0.8181818181818182, 0.8181818181818182, 0.8181818181818182], [0.580952380952381, 0.6354166666666666, 0.6069651741293532], [0.36, 0.1875, 0.24657534246575344], [0.8135593220338984, 0.8067226890756303, 0.8101265822784811], [0.5911111111111111, 0.7112299465240641, 0.6456310679611651]], \"y\": [\"exercise\", \"move\", \"relaxed\", \"sleep\", \"stressed\"], \"x\": [\"precision\", \"recall\", \"f1\"], \"colorscale\": [[0.0, \"rgb(165,0,38)\"], [0.1111111111111111, \"rgb(215,48,39)\"], [0.2222222222222222, \"rgb(244,109,67)\"], [0.3333333333333333, \"rgb(253,174,97)\"], [0.4444444444444444, \"rgb(254,224,144)\"], [0.5555555555555556, \"rgb(224,243,248)\"], [0.6666666666666666, \"rgb(171,217,233)\"], [0.7777777777777778, \"rgb(116,173,209)\"], [0.8888888888888888, \"rgb(69,117,180)\"], [1.0, \"rgb(49,54,149)\"]], \"zmin\": 0.5, \"zmax\": 1.0}], {\"title\": \"Precision, Recall, F1-score\", \"font\": {\"size\": 16, \"color\": \"#333333\"}, \"yaxis\": {\"autorange\": \"reversed\"}}, {\"showLink\": true, \"linkText\": \"Export to plot.ly\"})});</script>"
      ],
      "text/vnd.plotly.v1+html": [
       "<div id=\"c41d331d-98a0-4be3-b260-c0f06214a66f\" style=\"height: 525px; width: 100%;\" class=\"plotly-graph-div\"></div><script type=\"text/javascript\">require([\"plotly\"], function(Plotly) { window.PLOTLYENV=window.PLOTLYENV || {};window.PLOTLYENV.BASE_URL=\"https://plot.ly\";Plotly.newPlot(\"c41d331d-98a0-4be3-b260-c0f06214a66f\", [{\"type\": \"heatmap\", \"z\": [[0.8181818181818182, 0.8181818181818182, 0.8181818181818182], [0.580952380952381, 0.6354166666666666, 0.6069651741293532], [0.36, 0.1875, 0.24657534246575344], [0.8135593220338984, 0.8067226890756303, 0.8101265822784811], [0.5911111111111111, 0.7112299465240641, 0.6456310679611651]], \"y\": [\"exercise\", \"move\", \"relaxed\", \"sleep\", \"stressed\"], \"x\": [\"precision\", \"recall\", \"f1\"], \"colorscale\": [[0.0, \"rgb(165,0,38)\"], [0.1111111111111111, \"rgb(215,48,39)\"], [0.2222222222222222, \"rgb(244,109,67)\"], [0.3333333333333333, \"rgb(253,174,97)\"], [0.4444444444444444, \"rgb(254,224,144)\"], [0.5555555555555556, \"rgb(224,243,248)\"], [0.6666666666666666, \"rgb(171,217,233)\"], [0.7777777777777778, \"rgb(116,173,209)\"], [0.8888888888888888, \"rgb(69,117,180)\"], [1.0, \"rgb(49,54,149)\"]], \"zmin\": 0.5, \"zmax\": 1.0}], {\"title\": \"Precision, Recall, F1-score\", \"font\": {\"size\": 16, \"color\": \"#333333\"}, \"yaxis\": {\"autorange\": \"reversed\"}}, {\"showLink\": true, \"linkText\": \"Export to plot.ly\"})});</script>"
      ]
     },
     "metadata": {},
     "output_type": "display_data"
    },
    {
     "data": {
      "application/vnd.plotly.v1+json": {
       "data": [
        {
         "colorscale": "Reds",
         "type": "heatmap",
         "x": [
          "exercise",
          "move",
          "relaxed",
          "sleep",
          "stressed"
         ],
         "y": [
          "exercise",
          "move",
          "relaxed",
          "sleep",
          "stressed"
         ],
         "z": [
          [
           18,
           3,
           1,
           0,
           0
          ],
          [
           4,
           61,
           9,
           1,
           21
          ],
          [
           0,
           12,
           18,
           9,
           57
          ],
          [
           0,
           3,
           6,
           96,
           14
          ],
          [
           0,
           26,
           16,
           12,
           133
          ]
         ]
        }
       ],
       "layout": {
        "font": {
         "color": "#333333",
         "size": 16
        },
        "title": "Confusion Matrix",
        "xaxis": {
         "title": "predicted",
         "titlefont": {
          "color": "#333333",
          "size": 16
         }
        },
        "yaxis": {
         "autorange": "reversed",
         "title": "true label",
         "titlefont": {
          "color": "#333333",
          "size": 16
         }
        }
       }
      },
      "text/html": [
       "<div id=\"36ae1445-0fb4-4aba-82e9-1b7fec4a886b\" style=\"height: 525px; width: 100%;\" class=\"plotly-graph-div\"></div><script type=\"text/javascript\">require([\"plotly\"], function(Plotly) { window.PLOTLYENV=window.PLOTLYENV || {};window.PLOTLYENV.BASE_URL=\"https://plot.ly\";Plotly.newPlot(\"36ae1445-0fb4-4aba-82e9-1b7fec4a886b\", [{\"type\": \"heatmap\", \"z\": [[18, 3, 1, 0, 0], [4, 61, 9, 1, 21], [0, 12, 18, 9, 57], [0, 3, 6, 96, 14], [0, 26, 16, 12, 133]], \"x\": [\"exercise\", \"move\", \"relaxed\", \"sleep\", \"stressed\"], \"y\": [\"exercise\", \"move\", \"relaxed\", \"sleep\", \"stressed\"], \"colorscale\": \"Reds\"}], {\"title\": \"Confusion Matrix\", \"font\": {\"size\": 16, \"color\": \"#333333\"}, \"xaxis\": {\"title\": \"predicted\", \"titlefont\": {\"size\": 16, \"color\": \"#333333\"}}, \"yaxis\": {\"title\": \"true label\", \"titlefont\": {\"size\": 16, \"color\": \"#333333\"}, \"autorange\": \"reversed\"}}, {\"showLink\": true, \"linkText\": \"Export to plot.ly\"})});</script>"
      ],
      "text/vnd.plotly.v1+html": [
       "<div id=\"36ae1445-0fb4-4aba-82e9-1b7fec4a886b\" style=\"height: 525px; width: 100%;\" class=\"plotly-graph-div\"></div><script type=\"text/javascript\">require([\"plotly\"], function(Plotly) { window.PLOTLYENV=window.PLOTLYENV || {};window.PLOTLYENV.BASE_URL=\"https://plot.ly\";Plotly.newPlot(\"36ae1445-0fb4-4aba-82e9-1b7fec4a886b\", [{\"type\": \"heatmap\", \"z\": [[18, 3, 1, 0, 0], [4, 61, 9, 1, 21], [0, 12, 18, 9, 57], [0, 3, 6, 96, 14], [0, 26, 16, 12, 133]], \"x\": [\"exercise\", \"move\", \"relaxed\", \"sleep\", \"stressed\"], \"y\": [\"exercise\", \"move\", \"relaxed\", \"sleep\", \"stressed\"], \"colorscale\": \"Reds\"}], {\"title\": \"Confusion Matrix\", \"font\": {\"size\": 16, \"color\": \"#333333\"}, \"xaxis\": {\"title\": \"predicted\", \"titlefont\": {\"size\": 16, \"color\": \"#333333\"}}, \"yaxis\": {\"title\": \"true label\", \"titlefont\": {\"size\": 16, \"color\": \"#333333\"}, \"autorange\": \"reversed\"}}, {\"showLink\": true, \"linkText\": \"Export to plot.ly\"})});</script>"
      ]
     },
     "metadata": {},
     "output_type": "display_data"
    },
    {
     "name": "stdout",
     "output_type": "stream",
     "text": [
      "\n",
      "\n",
      "\n",
      "--------------------------------------------- gr_stress2 ---------------------------------------------\n",
      "gr_stress2\n",
      "exercise    106\n",
      "move        495\n",
      "relaxed     572\n",
      "sleep       568\n",
      "stressed    856\n",
      "Name: user, dtype: int64\n",
      "2077 520\n"
     ]
    },
    {
     "data": {
      "application/vnd.plotly.v1+json": {
       "data": [
        {
         "colorscale": [
          [
           0,
           "rgb(165,0,38)"
          ],
          [
           0.1111111111111111,
           "rgb(215,48,39)"
          ],
          [
           0.2222222222222222,
           "rgb(244,109,67)"
          ],
          [
           0.3333333333333333,
           "rgb(253,174,97)"
          ],
          [
           0.4444444444444444,
           "rgb(254,224,144)"
          ],
          [
           0.5555555555555556,
           "rgb(224,243,248)"
          ],
          [
           0.6666666666666666,
           "rgb(171,217,233)"
          ],
          [
           0.7777777777777778,
           "rgb(116,173,209)"
          ],
          [
           0.8888888888888888,
           "rgb(69,117,180)"
          ],
          [
           1,
           "rgb(49,54,149)"
          ]
         ],
         "type": "heatmap",
         "x": [
          "precision",
          "recall",
          "f1"
         ],
         "y": [
          "exercise",
          "move",
          "relaxed",
          "sleep",
          "stressed"
         ],
         "z": [
          [
           0.7647058823529411,
           0.7222222222222222,
           0.7428571428571428
          ],
          [
           0.6831683168316832,
           0.6764705882352942,
           0.6798029556650248
          ],
          [
           0.3194444444444444,
           0.20353982300884957,
           0.24864864864864866
          ],
          [
           0.8442622950819673,
           0.8583333333333333,
           0.8512396694214877
          ],
          [
           0.5721153846153846,
           0.7125748502994012,
           0.6346666666666667
          ]
         ],
         "zmax": 1,
         "zmin": 0.5
        }
       ],
       "layout": {
        "font": {
         "color": "#333333",
         "size": 16
        },
        "title": "Precision, Recall, F1-score",
        "yaxis": {
         "autorange": "reversed"
        }
       }
      },
      "text/html": [
       "<div id=\"a1158c5c-659f-40b3-9ae3-481dd87b0137\" style=\"height: 525px; width: 100%;\" class=\"plotly-graph-div\"></div><script type=\"text/javascript\">require([\"plotly\"], function(Plotly) { window.PLOTLYENV=window.PLOTLYENV || {};window.PLOTLYENV.BASE_URL=\"https://plot.ly\";Plotly.newPlot(\"a1158c5c-659f-40b3-9ae3-481dd87b0137\", [{\"type\": \"heatmap\", \"z\": [[0.7647058823529411, 0.7222222222222222, 0.7428571428571428], [0.6831683168316832, 0.6764705882352942, 0.6798029556650248], [0.3194444444444444, 0.20353982300884957, 0.24864864864864866], [0.8442622950819673, 0.8583333333333333, 0.8512396694214877], [0.5721153846153846, 0.7125748502994012, 0.6346666666666667]], \"y\": [\"exercise\", \"move\", \"relaxed\", \"sleep\", \"stressed\"], \"x\": [\"precision\", \"recall\", \"f1\"], \"colorscale\": [[0.0, \"rgb(165,0,38)\"], [0.1111111111111111, \"rgb(215,48,39)\"], [0.2222222222222222, \"rgb(244,109,67)\"], [0.3333333333333333, \"rgb(253,174,97)\"], [0.4444444444444444, \"rgb(254,224,144)\"], [0.5555555555555556, \"rgb(224,243,248)\"], [0.6666666666666666, \"rgb(171,217,233)\"], [0.7777777777777778, \"rgb(116,173,209)\"], [0.8888888888888888, \"rgb(69,117,180)\"], [1.0, \"rgb(49,54,149)\"]], \"zmin\": 0.5, \"zmax\": 1.0}], {\"title\": \"Precision, Recall, F1-score\", \"font\": {\"size\": 16, \"color\": \"#333333\"}, \"yaxis\": {\"autorange\": \"reversed\"}}, {\"showLink\": true, \"linkText\": \"Export to plot.ly\"})});</script>"
      ],
      "text/vnd.plotly.v1+html": [
       "<div id=\"a1158c5c-659f-40b3-9ae3-481dd87b0137\" style=\"height: 525px; width: 100%;\" class=\"plotly-graph-div\"></div><script type=\"text/javascript\">require([\"plotly\"], function(Plotly) { window.PLOTLYENV=window.PLOTLYENV || {};window.PLOTLYENV.BASE_URL=\"https://plot.ly\";Plotly.newPlot(\"a1158c5c-659f-40b3-9ae3-481dd87b0137\", [{\"type\": \"heatmap\", \"z\": [[0.7647058823529411, 0.7222222222222222, 0.7428571428571428], [0.6831683168316832, 0.6764705882352942, 0.6798029556650248], [0.3194444444444444, 0.20353982300884957, 0.24864864864864866], [0.8442622950819673, 0.8583333333333333, 0.8512396694214877], [0.5721153846153846, 0.7125748502994012, 0.6346666666666667]], \"y\": [\"exercise\", \"move\", \"relaxed\", \"sleep\", \"stressed\"], \"x\": [\"precision\", \"recall\", \"f1\"], \"colorscale\": [[0.0, \"rgb(165,0,38)\"], [0.1111111111111111, \"rgb(215,48,39)\"], [0.2222222222222222, \"rgb(244,109,67)\"], [0.3333333333333333, \"rgb(253,174,97)\"], [0.4444444444444444, \"rgb(254,224,144)\"], [0.5555555555555556, \"rgb(224,243,248)\"], [0.6666666666666666, \"rgb(171,217,233)\"], [0.7777777777777778, \"rgb(116,173,209)\"], [0.8888888888888888, \"rgb(69,117,180)\"], [1.0, \"rgb(49,54,149)\"]], \"zmin\": 0.5, \"zmax\": 1.0}], {\"title\": \"Precision, Recall, F1-score\", \"font\": {\"size\": 16, \"color\": \"#333333\"}, \"yaxis\": {\"autorange\": \"reversed\"}}, {\"showLink\": true, \"linkText\": \"Export to plot.ly\"})});</script>"
      ]
     },
     "metadata": {},
     "output_type": "display_data"
    },
    {
     "data": {
      "application/vnd.plotly.v1+json": {
       "data": [
        {
         "colorscale": "Reds",
         "type": "heatmap",
         "x": [
          "exercise",
          "move",
          "relaxed",
          "sleep",
          "stressed"
         ],
         "y": [
          "exercise",
          "move",
          "relaxed",
          "sleep",
          "stressed"
         ],
         "z": [
          [
           13,
           4,
           1,
           0,
           0
          ],
          [
           3,
           69,
           12,
           3,
           15
          ],
          [
           1,
           16,
           23,
           11,
           62
          ],
          [
           0,
           0,
           5,
           103,
           12
          ],
          [
           0,
           12,
           31,
           5,
           119
          ]
         ]
        }
       ],
       "layout": {
        "font": {
         "color": "#333333",
         "size": 16
        },
        "title": "Confusion Matrix",
        "xaxis": {
         "title": "predicted",
         "titlefont": {
          "color": "#333333",
          "size": 16
         }
        },
        "yaxis": {
         "autorange": "reversed",
         "title": "true label",
         "titlefont": {
          "color": "#333333",
          "size": 16
         }
        }
       }
      },
      "text/html": [
       "<div id=\"b0a877aa-20b3-4a83-a960-6ec961c3cec5\" style=\"height: 525px; width: 100%;\" class=\"plotly-graph-div\"></div><script type=\"text/javascript\">require([\"plotly\"], function(Plotly) { window.PLOTLYENV=window.PLOTLYENV || {};window.PLOTLYENV.BASE_URL=\"https://plot.ly\";Plotly.newPlot(\"b0a877aa-20b3-4a83-a960-6ec961c3cec5\", [{\"type\": \"heatmap\", \"z\": [[13, 4, 1, 0, 0], [3, 69, 12, 3, 15], [1, 16, 23, 11, 62], [0, 0, 5, 103, 12], [0, 12, 31, 5, 119]], \"x\": [\"exercise\", \"move\", \"relaxed\", \"sleep\", \"stressed\"], \"y\": [\"exercise\", \"move\", \"relaxed\", \"sleep\", \"stressed\"], \"colorscale\": \"Reds\"}], {\"title\": \"Confusion Matrix\", \"font\": {\"size\": 16, \"color\": \"#333333\"}, \"xaxis\": {\"title\": \"predicted\", \"titlefont\": {\"size\": 16, \"color\": \"#333333\"}}, \"yaxis\": {\"title\": \"true label\", \"titlefont\": {\"size\": 16, \"color\": \"#333333\"}, \"autorange\": \"reversed\"}}, {\"showLink\": true, \"linkText\": \"Export to plot.ly\"})});</script>"
      ],
      "text/vnd.plotly.v1+html": [
       "<div id=\"b0a877aa-20b3-4a83-a960-6ec961c3cec5\" style=\"height: 525px; width: 100%;\" class=\"plotly-graph-div\"></div><script type=\"text/javascript\">require([\"plotly\"], function(Plotly) { window.PLOTLYENV=window.PLOTLYENV || {};window.PLOTLYENV.BASE_URL=\"https://plot.ly\";Plotly.newPlot(\"b0a877aa-20b3-4a83-a960-6ec961c3cec5\", [{\"type\": \"heatmap\", \"z\": [[13, 4, 1, 0, 0], [3, 69, 12, 3, 15], [1, 16, 23, 11, 62], [0, 0, 5, 103, 12], [0, 12, 31, 5, 119]], \"x\": [\"exercise\", \"move\", \"relaxed\", \"sleep\", \"stressed\"], \"y\": [\"exercise\", \"move\", \"relaxed\", \"sleep\", \"stressed\"], \"colorscale\": \"Reds\"}], {\"title\": \"Confusion Matrix\", \"font\": {\"size\": 16, \"color\": \"#333333\"}, \"xaxis\": {\"title\": \"predicted\", \"titlefont\": {\"size\": 16, \"color\": \"#333333\"}}, \"yaxis\": {\"title\": \"true label\", \"titlefont\": {\"size\": 16, \"color\": \"#333333\"}, \"autorange\": \"reversed\"}}, {\"showLink\": true, \"linkText\": \"Export to plot.ly\"})});</script>"
      ]
     },
     "metadata": {},
     "output_type": "display_data"
    },
    {
     "name": "stdout",
     "output_type": "stream",
     "text": [
      "\n",
      "\n",
      "\n",
      "--------------------------------------------- gr_stress3 ---------------------------------------------\n",
      "gr_stress3\n",
      "exercise    106\n",
      "move        495\n",
      "relaxed     787\n",
      "sleep       568\n",
      "stressed    641\n",
      "Name: user, dtype: int64\n",
      "2077 520\n"
     ]
    },
    {
     "data": {
      "application/vnd.plotly.v1+json": {
       "data": [
        {
         "colorscale": [
          [
           0,
           "rgb(165,0,38)"
          ],
          [
           0.1111111111111111,
           "rgb(215,48,39)"
          ],
          [
           0.2222222222222222,
           "rgb(244,109,67)"
          ],
          [
           0.3333333333333333,
           "rgb(253,174,97)"
          ],
          [
           0.4444444444444444,
           "rgb(254,224,144)"
          ],
          [
           0.5555555555555556,
           "rgb(224,243,248)"
          ],
          [
           0.6666666666666666,
           "rgb(171,217,233)"
          ],
          [
           0.7777777777777778,
           "rgb(116,173,209)"
          ],
          [
           0.8888888888888888,
           "rgb(69,117,180)"
          ],
          [
           1,
           "rgb(49,54,149)"
          ]
         ],
         "type": "heatmap",
         "x": [
          "precision",
          "recall",
          "f1"
         ],
         "y": [
          "exercise",
          "move",
          "relaxed",
          "sleep",
          "stressed"
         ],
         "z": [
          [
           0.8695652173913043,
           0.7692307692307693,
           0.8163265306122449
          ],
          [
           0.6697247706422018,
           0.6886792452830188,
           0.6790697674418604
          ],
          [
           0.5384615384615384,
           0.5099337748344371,
           0.5238095238095238
          ],
          [
           0.9008264462809917,
           0.9008264462809917,
           0.9008264462809917
          ],
          [
           0.5080645161290323,
           0.5431034482758621,
           0.525
          ]
         ],
         "zmax": 1,
         "zmin": 0.5
        }
       ],
       "layout": {
        "font": {
         "color": "#333333",
         "size": 16
        },
        "title": "Precision, Recall, F1-score",
        "yaxis": {
         "autorange": "reversed"
        }
       }
      },
      "text/html": [
       "<div id=\"0e5b23a9-281b-4a7d-aaf5-4df9b7cff1e5\" style=\"height: 525px; width: 100%;\" class=\"plotly-graph-div\"></div><script type=\"text/javascript\">require([\"plotly\"], function(Plotly) { window.PLOTLYENV=window.PLOTLYENV || {};window.PLOTLYENV.BASE_URL=\"https://plot.ly\";Plotly.newPlot(\"0e5b23a9-281b-4a7d-aaf5-4df9b7cff1e5\", [{\"type\": \"heatmap\", \"z\": [[0.8695652173913043, 0.7692307692307693, 0.8163265306122449], [0.6697247706422018, 0.6886792452830188, 0.6790697674418604], [0.5384615384615384, 0.5099337748344371, 0.5238095238095238], [0.9008264462809917, 0.9008264462809917, 0.9008264462809917], [0.5080645161290323, 0.5431034482758621, 0.525]], \"y\": [\"exercise\", \"move\", \"relaxed\", \"sleep\", \"stressed\"], \"x\": [\"precision\", \"recall\", \"f1\"], \"colorscale\": [[0.0, \"rgb(165,0,38)\"], [0.1111111111111111, \"rgb(215,48,39)\"], [0.2222222222222222, \"rgb(244,109,67)\"], [0.3333333333333333, \"rgb(253,174,97)\"], [0.4444444444444444, \"rgb(254,224,144)\"], [0.5555555555555556, \"rgb(224,243,248)\"], [0.6666666666666666, \"rgb(171,217,233)\"], [0.7777777777777778, \"rgb(116,173,209)\"], [0.8888888888888888, \"rgb(69,117,180)\"], [1.0, \"rgb(49,54,149)\"]], \"zmin\": 0.5, \"zmax\": 1.0}], {\"title\": \"Precision, Recall, F1-score\", \"font\": {\"size\": 16, \"color\": \"#333333\"}, \"yaxis\": {\"autorange\": \"reversed\"}}, {\"showLink\": true, \"linkText\": \"Export to plot.ly\"})});</script>"
      ],
      "text/vnd.plotly.v1+html": [
       "<div id=\"0e5b23a9-281b-4a7d-aaf5-4df9b7cff1e5\" style=\"height: 525px; width: 100%;\" class=\"plotly-graph-div\"></div><script type=\"text/javascript\">require([\"plotly\"], function(Plotly) { window.PLOTLYENV=window.PLOTLYENV || {};window.PLOTLYENV.BASE_URL=\"https://plot.ly\";Plotly.newPlot(\"0e5b23a9-281b-4a7d-aaf5-4df9b7cff1e5\", [{\"type\": \"heatmap\", \"z\": [[0.8695652173913043, 0.7692307692307693, 0.8163265306122449], [0.6697247706422018, 0.6886792452830188, 0.6790697674418604], [0.5384615384615384, 0.5099337748344371, 0.5238095238095238], [0.9008264462809917, 0.9008264462809917, 0.9008264462809917], [0.5080645161290323, 0.5431034482758621, 0.525]], \"y\": [\"exercise\", \"move\", \"relaxed\", \"sleep\", \"stressed\"], \"x\": [\"precision\", \"recall\", \"f1\"], \"colorscale\": [[0.0, \"rgb(165,0,38)\"], [0.1111111111111111, \"rgb(215,48,39)\"], [0.2222222222222222, \"rgb(244,109,67)\"], [0.3333333333333333, \"rgb(253,174,97)\"], [0.4444444444444444, \"rgb(254,224,144)\"], [0.5555555555555556, \"rgb(224,243,248)\"], [0.6666666666666666, \"rgb(171,217,233)\"], [0.7777777777777778, \"rgb(116,173,209)\"], [0.8888888888888888, \"rgb(69,117,180)\"], [1.0, \"rgb(49,54,149)\"]], \"zmin\": 0.5, \"zmax\": 1.0}], {\"title\": \"Precision, Recall, F1-score\", \"font\": {\"size\": 16, \"color\": \"#333333\"}, \"yaxis\": {\"autorange\": \"reversed\"}}, {\"showLink\": true, \"linkText\": \"Export to plot.ly\"})});</script>"
      ]
     },
     "metadata": {},
     "output_type": "display_data"
    },
    {
     "data": {
      "application/vnd.plotly.v1+json": {
       "data": [
        {
         "colorscale": "Reds",
         "type": "heatmap",
         "x": [
          "exercise",
          "move",
          "relaxed",
          "sleep",
          "stressed"
         ],
         "y": [
          "exercise",
          "move",
          "relaxed",
          "sleep",
          "stressed"
         ],
         "z": [
          [
           20,
           5,
           1,
           0,
           0
          ],
          [
           3,
           73,
           19,
           2,
           9
          ],
          [
           0,
           23,
           77,
           7,
           44
          ],
          [
           0,
           0,
           4,
           109,
           8
          ],
          [
           0,
           8,
           42,
           3,
           63
          ]
         ]
        }
       ],
       "layout": {
        "font": {
         "color": "#333333",
         "size": 16
        },
        "title": "Confusion Matrix",
        "xaxis": {
         "title": "predicted",
         "titlefont": {
          "color": "#333333",
          "size": 16
         }
        },
        "yaxis": {
         "autorange": "reversed",
         "title": "true label",
         "titlefont": {
          "color": "#333333",
          "size": 16
         }
        }
       }
      },
      "text/html": [
       "<div id=\"8be10090-78f9-4a21-82a9-7408df2e592f\" style=\"height: 525px; width: 100%;\" class=\"plotly-graph-div\"></div><script type=\"text/javascript\">require([\"plotly\"], function(Plotly) { window.PLOTLYENV=window.PLOTLYENV || {};window.PLOTLYENV.BASE_URL=\"https://plot.ly\";Plotly.newPlot(\"8be10090-78f9-4a21-82a9-7408df2e592f\", [{\"type\": \"heatmap\", \"z\": [[20, 5, 1, 0, 0], [3, 73, 19, 2, 9], [0, 23, 77, 7, 44], [0, 0, 4, 109, 8], [0, 8, 42, 3, 63]], \"x\": [\"exercise\", \"move\", \"relaxed\", \"sleep\", \"stressed\"], \"y\": [\"exercise\", \"move\", \"relaxed\", \"sleep\", \"stressed\"], \"colorscale\": \"Reds\"}], {\"title\": \"Confusion Matrix\", \"font\": {\"size\": 16, \"color\": \"#333333\"}, \"xaxis\": {\"title\": \"predicted\", \"titlefont\": {\"size\": 16, \"color\": \"#333333\"}}, \"yaxis\": {\"title\": \"true label\", \"titlefont\": {\"size\": 16, \"color\": \"#333333\"}, \"autorange\": \"reversed\"}}, {\"showLink\": true, \"linkText\": \"Export to plot.ly\"})});</script>"
      ],
      "text/vnd.plotly.v1+html": [
       "<div id=\"8be10090-78f9-4a21-82a9-7408df2e592f\" style=\"height: 525px; width: 100%;\" class=\"plotly-graph-div\"></div><script type=\"text/javascript\">require([\"plotly\"], function(Plotly) { window.PLOTLYENV=window.PLOTLYENV || {};window.PLOTLYENV.BASE_URL=\"https://plot.ly\";Plotly.newPlot(\"8be10090-78f9-4a21-82a9-7408df2e592f\", [{\"type\": \"heatmap\", \"z\": [[20, 5, 1, 0, 0], [3, 73, 19, 2, 9], [0, 23, 77, 7, 44], [0, 0, 4, 109, 8], [0, 8, 42, 3, 63]], \"x\": [\"exercise\", \"move\", \"relaxed\", \"sleep\", \"stressed\"], \"y\": [\"exercise\", \"move\", \"relaxed\", \"sleep\", \"stressed\"], \"colorscale\": \"Reds\"}], {\"title\": \"Confusion Matrix\", \"font\": {\"size\": 16, \"color\": \"#333333\"}, \"xaxis\": {\"title\": \"predicted\", \"titlefont\": {\"size\": 16, \"color\": \"#333333\"}}, \"yaxis\": {\"title\": \"true label\", \"titlefont\": {\"size\": 16, \"color\": \"#333333\"}, \"autorange\": \"reversed\"}}, {\"showLink\": true, \"linkText\": \"Export to plot.ly\"})});</script>"
      ]
     },
     "metadata": {},
     "output_type": "display_data"
    }
   ],
   "source": [
    "#for label in ['gr_active', 'gr_focus1', 'gr_focus2', 'gr_stress1', 'gr_stress2', 'gr_stress3']:\n",
    "for label in ['activity', 'gr_main3', 'gr_main4', 'gr_stress1', 'gr_stress2', 'gr_stress3']:\n",
    "    print (\"\\n\\n\\n---------------------------------------------\", label, \"---------------------------------------------\")\n",
    "    print (hp.count_by(df=df, column=label))\n",
    "    ytrue, ypred = cmc.fit_test(clf_rf, df, features, label)\n",
    "    pl.iplot(cmc.prfs_heatmap(ytrue, ypred))\n",
    "    pl.iplot(cmc.cmatrix_heatmap(ytrue, ypred, cs='Reds'))"
   ]
  },
  {
   "cell_type": "code",
   "execution_count": null,
   "metadata": {},
   "outputs": [],
   "source": []
  }
 ],
 "metadata": {
  "kernelspec": {
   "display_name": "Python 3",
   "language": "python",
   "name": "python3"
  },
  "language_info": {
   "codemirror_mode": {
    "name": "ipython",
    "version": 3
   },
   "file_extension": ".py",
   "mimetype": "text/x-python",
   "name": "python",
   "nbconvert_exporter": "python",
   "pygments_lexer": "ipython3",
   "version": "3.6.3"
  }
 },
 "nbformat": 4,
 "nbformat_minor": 2
}
