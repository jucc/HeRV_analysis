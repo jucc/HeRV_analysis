{
 "cells": [
  {
   "cell_type": "code",
   "execution_count": 1,
   "metadata": {},
   "outputs": [
    {
     "data": {
      "text/html": [
       "<script>requirejs.config({paths: { 'plotly': ['https://cdn.plot.ly/plotly-latest.min']},});if(!window.Plotly) {{require(['plotly'],function(plotly) {window.Plotly=plotly;});}}</script>"
      ],
      "text/vnd.plotly.v1+html": [
       "<script>requirejs.config({paths: { 'plotly': ['https://cdn.plot.ly/plotly-latest.min']},});if(!window.Plotly) {{require(['plotly'],function(plotly) {window.Plotly=plotly;});}}</script>"
      ]
     },
     "metadata": {},
     "output_type": "display_data"
    }
   ],
   "source": [
    "%load_ext autoreload\n",
    "%autoreload 2\n",
    "%matplotlib inline\n",
    "\n",
    "import pandas as pd\n",
    "from sklearn.ensemble import RandomForestClassifier\n",
    "import plotly.offline as pl\n",
    "import plotly.graph_objs as go\n",
    "pl.init_notebook_mode(connected=True)\n",
    "\n",
    "\n",
    "import classif_multiclass as cmc\n",
    "import hervpd as hp"
   ]
  },
  {
   "cell_type": "code",
   "execution_count": 2,
   "metadata": {},
   "outputs": [],
   "source": [
    "path = \"C:\\\\Users\\\\ju\\\\GDrive\\\\Projects\\\\HeRV\\\\Data\\\\PreProcessed\" \n",
    "features = ['mrri', 'sdnn', 'rmssd', 'pnn50', 'hfnu', 'lfnu', 'lf_hf']"
   ]
  },
  {
   "cell_type": "markdown",
   "metadata": {},
   "source": [
    "## Example (fragment len = 300, crop len = 30, classifier = RF)"
   ]
  },
  {
   "cell_type": "code",
   "execution_count": 3,
   "metadata": {},
   "outputs": [
    {
     "data": {
      "text/html": [
       "<div>\n",
       "<style>\n",
       "    .dataframe thead tr:only-child th {\n",
       "        text-align: right;\n",
       "    }\n",
       "\n",
       "    .dataframe thead th {\n",
       "        text-align: left;\n",
       "    }\n",
       "\n",
       "    .dataframe tbody tr th {\n",
       "        vertical-align: top;\n",
       "    }\n",
       "</style>\n",
       "<table border=\"1\" class=\"dataframe\">\n",
       "  <thead>\n",
       "    <tr style=\"text-align: right;\">\n",
       "      <th></th>\n",
       "      <th>activity</th>\n",
       "      <th>beatcount</th>\n",
       "      <th>hf</th>\n",
       "      <th>hfnu</th>\n",
       "      <th>lf</th>\n",
       "      <th>lf_hf</th>\n",
       "      <th>lfnu</th>\n",
       "      <th>mhr</th>\n",
       "      <th>mrri</th>\n",
       "      <th>nn50</th>\n",
       "      <th>...</th>\n",
       "      <th>vlf</th>\n",
       "      <th>gr_main3</th>\n",
       "      <th>gr_main4</th>\n",
       "      <th>gr_main5</th>\n",
       "      <th>gr_active</th>\n",
       "      <th>gr_focus1</th>\n",
       "      <th>gr_focus2</th>\n",
       "      <th>gr_stress1</th>\n",
       "      <th>gr_stress2</th>\n",
       "      <th>gr_stress3</th>\n",
       "    </tr>\n",
       "  </thead>\n",
       "  <tbody>\n",
       "    <tr>\n",
       "      <th>21225</th>\n",
       "      <td>focused-active</td>\n",
       "      <td>71</td>\n",
       "      <td>1035.410779</td>\n",
       "      <td>22.288530</td>\n",
       "      <td>3610.076314</td>\n",
       "      <td>3.486613</td>\n",
       "      <td>77.711470</td>\n",
       "      <td>72.996272</td>\n",
       "      <td>829.732394</td>\n",
       "      <td>21</td>\n",
       "      <td>...</td>\n",
       "      <td>403.491820</td>\n",
       "      <td>still</td>\n",
       "      <td>still</td>\n",
       "      <td>still</td>\n",
       "      <td>active</td>\n",
       "      <td>focused</td>\n",
       "      <td>focused</td>\n",
       "      <td>stressed</td>\n",
       "      <td>stressed</td>\n",
       "      <td>stressed</td>\n",
       "    </tr>\n",
       "    <tr>\n",
       "      <th>7749</th>\n",
       "      <td>sleep</td>\n",
       "      <td>77</td>\n",
       "      <td>251.662967</td>\n",
       "      <td>78.101867</td>\n",
       "      <td>70.561040</td>\n",
       "      <td>0.280379</td>\n",
       "      <td>21.898133</td>\n",
       "      <td>76.538881</td>\n",
       "      <td>784.935065</td>\n",
       "      <td>1</td>\n",
       "      <td>...</td>\n",
       "      <td>160.888841</td>\n",
       "      <td>sleep</td>\n",
       "      <td>sleep</td>\n",
       "      <td>sleep</td>\n",
       "      <td>sleep</td>\n",
       "      <td>sleep</td>\n",
       "      <td>sleep</td>\n",
       "      <td>sleep</td>\n",
       "      <td>sleep</td>\n",
       "      <td>sleep</td>\n",
       "    </tr>\n",
       "    <tr>\n",
       "      <th>9055</th>\n",
       "      <td>focused-active</td>\n",
       "      <td>75</td>\n",
       "      <td>883.784312</td>\n",
       "      <td>79.482666</td>\n",
       "      <td>228.136512</td>\n",
       "      <td>0.258136</td>\n",
       "      <td>20.517334</td>\n",
       "      <td>75.243603</td>\n",
       "      <td>801.520000</td>\n",
       "      <td>21</td>\n",
       "      <td>...</td>\n",
       "      <td>1504.693057</td>\n",
       "      <td>still</td>\n",
       "      <td>still</td>\n",
       "      <td>still</td>\n",
       "      <td>active</td>\n",
       "      <td>focused</td>\n",
       "      <td>focused</td>\n",
       "      <td>stressed</td>\n",
       "      <td>stressed</td>\n",
       "      <td>stressed</td>\n",
       "    </tr>\n",
       "    <tr>\n",
       "      <th>5098</th>\n",
       "      <td>household-chores</td>\n",
       "      <td>101</td>\n",
       "      <td>160.718044</td>\n",
       "      <td>55.474406</td>\n",
       "      <td>128.997619</td>\n",
       "      <td>0.802633</td>\n",
       "      <td>44.525594</td>\n",
       "      <td>102.116391</td>\n",
       "      <td>588.990099</td>\n",
       "      <td>5</td>\n",
       "      <td>...</td>\n",
       "      <td>147.263389</td>\n",
       "      <td>move</td>\n",
       "      <td>move</td>\n",
       "      <td>move</td>\n",
       "      <td>move</td>\n",
       "      <td>move</td>\n",
       "      <td>move</td>\n",
       "      <td>move</td>\n",
       "      <td>move</td>\n",
       "      <td>move</td>\n",
       "    </tr>\n",
       "    <tr>\n",
       "      <th>6477</th>\n",
       "      <td>movement</td>\n",
       "      <td>102</td>\n",
       "      <td>350.396942</td>\n",
       "      <td>60.826682</td>\n",
       "      <td>225.661013</td>\n",
       "      <td>0.644015</td>\n",
       "      <td>39.173318</td>\n",
       "      <td>104.140500</td>\n",
       "      <td>585.529412</td>\n",
       "      <td>11</td>\n",
       "      <td>...</td>\n",
       "      <td>302.994606</td>\n",
       "      <td>move</td>\n",
       "      <td>move</td>\n",
       "      <td>move</td>\n",
       "      <td>move</td>\n",
       "      <td>move</td>\n",
       "      <td>move</td>\n",
       "      <td>move</td>\n",
       "      <td>move</td>\n",
       "      <td>move</td>\n",
       "    </tr>\n",
       "    <tr>\n",
       "      <th>5571</th>\n",
       "      <td>focused-active</td>\n",
       "      <td>77</td>\n",
       "      <td>471.283918</td>\n",
       "      <td>40.526507</td>\n",
       "      <td>691.618978</td>\n",
       "      <td>1.467521</td>\n",
       "      <td>59.473493</td>\n",
       "      <td>76.942105</td>\n",
       "      <td>784.753247</td>\n",
       "      <td>20</td>\n",
       "      <td>...</td>\n",
       "      <td>342.855138</td>\n",
       "      <td>still</td>\n",
       "      <td>still</td>\n",
       "      <td>still</td>\n",
       "      <td>active</td>\n",
       "      <td>focused</td>\n",
       "      <td>focused</td>\n",
       "      <td>stressed</td>\n",
       "      <td>stressed</td>\n",
       "      <td>stressed</td>\n",
       "    </tr>\n",
       "    <tr>\n",
       "      <th>21015</th>\n",
       "      <td>focused-active</td>\n",
       "      <td>74</td>\n",
       "      <td>1255.777239</td>\n",
       "      <td>24.948912</td>\n",
       "      <td>3777.617505</td>\n",
       "      <td>3.008191</td>\n",
       "      <td>75.051088</td>\n",
       "      <td>74.026428</td>\n",
       "      <td>819.500000</td>\n",
       "      <td>21</td>\n",
       "      <td>...</td>\n",
       "      <td>1599.284070</td>\n",
       "      <td>still</td>\n",
       "      <td>still</td>\n",
       "      <td>still</td>\n",
       "      <td>active</td>\n",
       "      <td>focused</td>\n",
       "      <td>focused</td>\n",
       "      <td>stressed</td>\n",
       "      <td>stressed</td>\n",
       "      <td>stressed</td>\n",
       "    </tr>\n",
       "  </tbody>\n",
       "</table>\n",
       "<p>7 rows × 30 columns</p>\n",
       "</div>"
      ],
      "text/plain": [
       "               activity  beatcount           hf       hfnu           lf  \\\n",
       "21225    focused-active         71  1035.410779  22.288530  3610.076314   \n",
       "7749              sleep         77   251.662967  78.101867    70.561040   \n",
       "9055     focused-active         75   883.784312  79.482666   228.136512   \n",
       "5098   household-chores        101   160.718044  55.474406   128.997619   \n",
       "6477           movement        102   350.396942  60.826682   225.661013   \n",
       "5571     focused-active         77   471.283918  40.526507   691.618978   \n",
       "21015    focused-active         74  1255.777239  24.948912  3777.617505   \n",
       "\n",
       "          lf_hf       lfnu         mhr        mrri  nn50     ...      \\\n",
       "21225  3.486613  77.711470   72.996272  829.732394    21     ...       \n",
       "7749   0.280379  21.898133   76.538881  784.935065     1     ...       \n",
       "9055   0.258136  20.517334   75.243603  801.520000    21     ...       \n",
       "5098   0.802633  44.525594  102.116391  588.990099     5     ...       \n",
       "6477   0.644015  39.173318  104.140500  585.529412    11     ...       \n",
       "5571   1.467521  59.473493   76.942105  784.753247    20     ...       \n",
       "21015  3.008191  75.051088   74.026428  819.500000    21     ...       \n",
       "\n",
       "               vlf  gr_main3 gr_main4  gr_main5  gr_active  gr_focus1  \\\n",
       "21225   403.491820     still    still     still     active    focused   \n",
       "7749    160.888841     sleep    sleep     sleep      sleep      sleep   \n",
       "9055   1504.693057     still    still     still     active    focused   \n",
       "5098    147.263389      move     move      move       move       move   \n",
       "6477    302.994606      move     move      move       move       move   \n",
       "5571    342.855138     still    still     still     active    focused   \n",
       "21015  1599.284070     still    still     still     active    focused   \n",
       "\n",
       "      gr_focus2 gr_stress1  gr_stress2  gr_stress3  \n",
       "21225   focused   stressed    stressed    stressed  \n",
       "7749      sleep      sleep       sleep       sleep  \n",
       "9055    focused   stressed    stressed    stressed  \n",
       "5098       move       move        move        move  \n",
       "6477       move       move        move        move  \n",
       "5571    focused   stressed    stressed    stressed  \n",
       "21015   focused   stressed    stressed    stressed  \n",
       "\n",
       "[7 rows x 30 columns]"
      ]
     },
     "execution_count": 3,
     "metadata": {},
     "output_type": "execute_result"
    }
   ],
   "source": [
    "df = pd.read_excel(path+'\\\\df_60_0_grouped.xlsx')\n",
    "df.sample(7)"
   ]
  },
  {
   "cell_type": "markdown",
   "metadata": {},
   "source": [
    "### Cleaning posture data (remove when dealt with in pipeline)"
   ]
  },
  {
   "cell_type": "code",
   "execution_count": 4,
   "metadata": {},
   "outputs": [
    {
     "name": "stderr",
     "output_type": "stream",
     "text": [
      "C:\\Users\\Ju\\Anaconda3\\lib\\site-packages\\pandas\\core\\indexing.py:179: SettingWithCopyWarning:\n",
      "\n",
      "\n",
      "A value is trying to be set on a copy of a slice from a DataFrame\n",
      "\n",
      "See the caveats in the documentation: http://pandas.pydata.org/pandas-docs/stable/indexing.html#indexing-view-versus-copy\n",
      "\n"
     ]
    }
   ],
   "source": [
    "df.posture.loc[df.posture == 'lying down'] =  'lie'\n",
    "df.posture.loc[df.posture == 'sitting'] =  'sit'\n",
    "df.posture.loc[df.posture == 'standing'] =  'stand'\n",
    "df.posture.loc[df.posture == 'standing '] =  'stand'\n",
    "df = df.loc[df.posture != 'posture']\n"
   ]
  },
  {
   "cell_type": "markdown",
   "metadata": {},
   "source": [
    "### Cleaning up a little. Removing examples where:\n",
    "\n",
    " * sleeping for over 90 minutes (to make example count even with other activities)\n",
    " * still but not sitting (to avoid confusons caused by posture)"
   ]
  },
  {
   "cell_type": "code",
   "execution_count": 5,
   "metadata": {},
   "outputs": [
    {
     "data": {
      "text/plain": [
       "13178"
      ]
     },
     "execution_count": 5,
     "metadata": {},
     "output_type": "execute_result"
    }
   ],
   "source": [
    "dfr = df[((df['activity'] !='sleep') | (df['order'] > 60)) & (df['user'].isin([0,1,2,5,6]))]\n",
    "dfr = dfr[~dfr.activity.isin(['commute', 'eat'])]\n",
    "dfr = dfr[(dfr.posture == 'sit') | ~(dfr.gr_main3 == 'still')]\n",
    "dfr.activity.count()"
   ]
  },
  {
   "cell_type": "code",
   "execution_count": 6,
   "metadata": {},
   "outputs": [
    {
     "data": {
      "text/plain": [
       "posture\n",
       "lie      4768\n",
       "sit      5759\n",
       "stand    2651\n",
       "Name: user, dtype: int64"
      ]
     },
     "execution_count": 6,
     "metadata": {},
     "output_type": "execute_result"
    }
   ],
   "source": [
    "hp.count_by(dfr, 'posture')"
   ]
  },
  {
   "cell_type": "code",
   "execution_count": 7,
   "metadata": {},
   "outputs": [
    {
     "data": {
      "text/plain": [
       "activity\n",
       "exercise             432\n",
       "focused-active      2664\n",
       "focused-passive     1145\n",
       "household-chores    1102\n",
       "leisure             1019\n",
       "movement            1329\n",
       "rest-active          511\n",
       "rest-passive         243\n",
       "sleep               4733\n",
       "Name: user, dtype: int64"
      ]
     },
     "execution_count": 7,
     "metadata": {},
     "output_type": "execute_result"
    }
   ],
   "source": [
    "hp.count_by(dfr, 'activity')"
   ]
  },
  {
   "cell_type": "code",
   "execution_count": 21,
   "metadata": {},
   "outputs": [],
   "source": [
    "dfr.to_excel(path + '\\\\df_60_0_grouped.xlsx')"
   ]
  },
  {
   "cell_type": "markdown",
   "metadata": {},
   "source": [
    "## Interuser classification"
   ]
  },
  {
   "cell_type": "code",
   "execution_count": 9,
   "metadata": {},
   "outputs": [],
   "source": [
    "clf = RandomForestClassifier(n_estimators=100, n_jobs=-1)"
   ]
  },
  {
   "cell_type": "code",
   "execution_count": 14,
   "metadata": {
    "scrolled": false
   },
   "outputs": [
    {
     "name": "stdout",
     "output_type": "stream",
     "text": [
      "\n",
      "\n",
      "\n",
      "--------------------------------------------- activity ---------------------------------------------\n",
      "activity\n",
      "exercise             432\n",
      "focused-active      2664\n",
      "focused-passive     1145\n",
      "household-chores    1102\n",
      "leisure             1019\n",
      "movement            1329\n",
      "rest-active          511\n",
      "rest-passive         243\n",
      "sleep               4733\n",
      "Name: user, dtype: int64\n",
      "10542 2636\n"
     ]
    },
    {
     "data": {
      "application/vnd.plotly.v1+json": {
       "data": [
        {
         "colorscale": [
          [
           0,
           "rgb(165,0,38)"
          ],
          [
           0.1111111111111111,
           "rgb(215,48,39)"
          ],
          [
           0.2222222222222222,
           "rgb(244,109,67)"
          ],
          [
           0.3333333333333333,
           "rgb(253,174,97)"
          ],
          [
           0.4444444444444444,
           "rgb(254,224,144)"
          ],
          [
           0.5555555555555556,
           "rgb(224,243,248)"
          ],
          [
           0.6666666666666666,
           "rgb(171,217,233)"
          ],
          [
           0.7777777777777778,
           "rgb(116,173,209)"
          ],
          [
           0.8888888888888888,
           "rgb(69,117,180)"
          ],
          [
           1,
           "rgb(49,54,149)"
          ]
         ],
         "type": "heatmap",
         "x": [
          "precision",
          "recall",
          "f1"
         ],
         "y": [
          "exercise",
          "focused-active",
          "focused-passive",
          "household-chores",
          "leisure",
          "movement",
          "rest-active",
          "rest-passive",
          "sleep"
         ],
         "z": [
          [
           0.7195121951219512,
           0.6555555555555556,
           0.6860465116279069
          ],
          [
           0.45555555555555555,
           0.6074074074074074,
           0.5206349206349207
          ],
          [
           0.2967032967032967,
           0.2151394422310757,
           0.2494226327944573
          ],
          [
           0.3568281938325991,
           0.3894230769230769,
           0.37241379310344824
          ],
          [
           0.21052631578947367,
           0.07960199004975124,
           0.11552346570397112
          ],
          [
           0.5,
           0.5215827338129496,
           0.5105633802816902
          ],
          [
           0.14285714285714285,
           0.039603960396039604,
           0.062015503875968984
          ],
          [
           0,
           0,
           0
          ],
          [
           0.7807017543859649,
           0.8706521739130435,
           0.8232271325796505
          ]
         ],
         "zmax": 1,
         "zmin": 0.5
        }
       ],
       "layout": {
        "font": {
         "color": "#333333",
         "size": 16
        },
        "title": "Precision, Recall, F1-score",
        "yaxis": {
         "autorange": "reversed"
        }
       }
      },
      "text/html": [
       "<div id=\"2bc99daf-65f7-428c-a502-bf66b201b4db\" style=\"height: 525px; width: 100%;\" class=\"plotly-graph-div\"></div><script type=\"text/javascript\">require([\"plotly\"], function(Plotly) { window.PLOTLYENV=window.PLOTLYENV || {};window.PLOTLYENV.BASE_URL=\"https://plot.ly\";Plotly.newPlot(\"2bc99daf-65f7-428c-a502-bf66b201b4db\", [{\"type\": \"heatmap\", \"z\": [[0.7195121951219512, 0.6555555555555556, 0.6860465116279069], [0.45555555555555555, 0.6074074074074074, 0.5206349206349207], [0.2967032967032967, 0.2151394422310757, 0.2494226327944573], [0.3568281938325991, 0.3894230769230769, 0.37241379310344824], [0.21052631578947367, 0.07960199004975124, 0.11552346570397112], [0.5, 0.5215827338129496, 0.5105633802816902], [0.14285714285714285, 0.039603960396039604, 0.062015503875968984], [0.0, 0.0, 0.0], [0.7807017543859649, 0.8706521739130435, 0.8232271325796505]], \"y\": [\"exercise\", \"focused-active\", \"focused-passive\", \"household-chores\", \"leisure\", \"movement\", \"rest-active\", \"rest-passive\", \"sleep\"], \"x\": [\"precision\", \"recall\", \"f1\"], \"colorscale\": [[0.0, \"rgb(165,0,38)\"], [0.1111111111111111, \"rgb(215,48,39)\"], [0.2222222222222222, \"rgb(244,109,67)\"], [0.3333333333333333, \"rgb(253,174,97)\"], [0.4444444444444444, \"rgb(254,224,144)\"], [0.5555555555555556, \"rgb(224,243,248)\"], [0.6666666666666666, \"rgb(171,217,233)\"], [0.7777777777777778, \"rgb(116,173,209)\"], [0.8888888888888888, \"rgb(69,117,180)\"], [1.0, \"rgb(49,54,149)\"]], \"zmin\": 0.5, \"zmax\": 1.0}], {\"title\": \"Precision, Recall, F1-score\", \"font\": {\"size\": 16, \"color\": \"#333333\"}, \"yaxis\": {\"autorange\": \"reversed\"}}, {\"showLink\": true, \"linkText\": \"Export to plot.ly\"})});</script>"
      ],
      "text/vnd.plotly.v1+html": [
       "<div id=\"2bc99daf-65f7-428c-a502-bf66b201b4db\" style=\"height: 525px; width: 100%;\" class=\"plotly-graph-div\"></div><script type=\"text/javascript\">require([\"plotly\"], function(Plotly) { window.PLOTLYENV=window.PLOTLYENV || {};window.PLOTLYENV.BASE_URL=\"https://plot.ly\";Plotly.newPlot(\"2bc99daf-65f7-428c-a502-bf66b201b4db\", [{\"type\": \"heatmap\", \"z\": [[0.7195121951219512, 0.6555555555555556, 0.6860465116279069], [0.45555555555555555, 0.6074074074074074, 0.5206349206349207], [0.2967032967032967, 0.2151394422310757, 0.2494226327944573], [0.3568281938325991, 0.3894230769230769, 0.37241379310344824], [0.21052631578947367, 0.07960199004975124, 0.11552346570397112], [0.5, 0.5215827338129496, 0.5105633802816902], [0.14285714285714285, 0.039603960396039604, 0.062015503875968984], [0.0, 0.0, 0.0], [0.7807017543859649, 0.8706521739130435, 0.8232271325796505]], \"y\": [\"exercise\", \"focused-active\", \"focused-passive\", \"household-chores\", \"leisure\", \"movement\", \"rest-active\", \"rest-passive\", \"sleep\"], \"x\": [\"precision\", \"recall\", \"f1\"], \"colorscale\": [[0.0, \"rgb(165,0,38)\"], [0.1111111111111111, \"rgb(215,48,39)\"], [0.2222222222222222, \"rgb(244,109,67)\"], [0.3333333333333333, \"rgb(253,174,97)\"], [0.4444444444444444, \"rgb(254,224,144)\"], [0.5555555555555556, \"rgb(224,243,248)\"], [0.6666666666666666, \"rgb(171,217,233)\"], [0.7777777777777778, \"rgb(116,173,209)\"], [0.8888888888888888, \"rgb(69,117,180)\"], [1.0, \"rgb(49,54,149)\"]], \"zmin\": 0.5, \"zmax\": 1.0}], {\"title\": \"Precision, Recall, F1-score\", \"font\": {\"size\": 16, \"color\": \"#333333\"}, \"yaxis\": {\"autorange\": \"reversed\"}}, {\"showLink\": true, \"linkText\": \"Export to plot.ly\"})});</script>"
      ]
     },
     "metadata": {},
     "output_type": "display_data"
    },
    {
     "data": {
      "application/vnd.plotly.v1+json": {
       "data": [
        {
         "colorscale": "Reds",
         "type": "heatmap",
         "x": [
          "exercise",
          "focused-active",
          "focused-passive",
          "household-chores",
          "leisure",
          "movement",
          "rest-active",
          "rest-passive",
          "sleep"
         ],
         "y": [
          "exercise",
          "focused-active",
          "focused-passive",
          "household-chores",
          "leisure",
          "movement",
          "rest-active",
          "rest-passive",
          "sleep"
         ],
         "z": [
          [
           59,
           0,
           1,
           1,
           0,
           29,
           0,
           0,
           0
          ],
          [
           2,
           328,
           41,
           24,
           21,
           13,
           4,
           2,
           105
          ],
          [
           0,
           97,
           54,
           29,
           5,
           14,
           4,
           0,
           48
          ],
          [
           0,
           36,
           16,
           81,
           9,
           56,
           4,
           0,
           6
          ],
          [
           1,
           100,
           23,
           12,
           16,
           9,
           5,
           0,
           35
          ],
          [
           19,
           19,
           22,
           56,
           4,
           145,
           4,
           0,
           9
          ],
          [
           0,
           43,
           13,
           10,
           8,
           9,
           4,
           0,
           14
          ],
          [
           0,
           23,
           2,
           3,
           1,
           10,
           0,
           0,
           8
          ],
          [
           1,
           74,
           10,
           11,
           12,
           5,
           3,
           3,
           801
          ]
         ]
        }
       ],
       "layout": {
        "font": {
         "color": "#333333",
         "size": 16
        },
        "title": "Confusion Matrix",
        "xaxis": {
         "title": "predicted",
         "titlefont": {
          "color": "#333333",
          "size": 16
         }
        },
        "yaxis": {
         "autorange": "reversed",
         "title": "true label",
         "titlefont": {
          "color": "#333333",
          "size": 16
         }
        }
       }
      },
      "text/html": [
       "<div id=\"51386a7b-8565-4462-962a-e8d4261f85e8\" style=\"height: 525px; width: 100%;\" class=\"plotly-graph-div\"></div><script type=\"text/javascript\">require([\"plotly\"], function(Plotly) { window.PLOTLYENV=window.PLOTLYENV || {};window.PLOTLYENV.BASE_URL=\"https://plot.ly\";Plotly.newPlot(\"51386a7b-8565-4462-962a-e8d4261f85e8\", [{\"type\": \"heatmap\", \"z\": [[59, 0, 1, 1, 0, 29, 0, 0, 0], [2, 328, 41, 24, 21, 13, 4, 2, 105], [0, 97, 54, 29, 5, 14, 4, 0, 48], [0, 36, 16, 81, 9, 56, 4, 0, 6], [1, 100, 23, 12, 16, 9, 5, 0, 35], [19, 19, 22, 56, 4, 145, 4, 0, 9], [0, 43, 13, 10, 8, 9, 4, 0, 14], [0, 23, 2, 3, 1, 10, 0, 0, 8], [1, 74, 10, 11, 12, 5, 3, 3, 801]], \"x\": [\"exercise\", \"focused-active\", \"focused-passive\", \"household-chores\", \"leisure\", \"movement\", \"rest-active\", \"rest-passive\", \"sleep\"], \"y\": [\"exercise\", \"focused-active\", \"focused-passive\", \"household-chores\", \"leisure\", \"movement\", \"rest-active\", \"rest-passive\", \"sleep\"], \"colorscale\": \"Reds\"}], {\"title\": \"Confusion Matrix\", \"font\": {\"size\": 16, \"color\": \"#333333\"}, \"xaxis\": {\"title\": \"predicted\", \"titlefont\": {\"size\": 16, \"color\": \"#333333\"}}, \"yaxis\": {\"title\": \"true label\", \"titlefont\": {\"size\": 16, \"color\": \"#333333\"}, \"autorange\": \"reversed\"}}, {\"showLink\": true, \"linkText\": \"Export to plot.ly\"})});</script>"
      ],
      "text/vnd.plotly.v1+html": [
       "<div id=\"51386a7b-8565-4462-962a-e8d4261f85e8\" style=\"height: 525px; width: 100%;\" class=\"plotly-graph-div\"></div><script type=\"text/javascript\">require([\"plotly\"], function(Plotly) { window.PLOTLYENV=window.PLOTLYENV || {};window.PLOTLYENV.BASE_URL=\"https://plot.ly\";Plotly.newPlot(\"51386a7b-8565-4462-962a-e8d4261f85e8\", [{\"type\": \"heatmap\", \"z\": [[59, 0, 1, 1, 0, 29, 0, 0, 0], [2, 328, 41, 24, 21, 13, 4, 2, 105], [0, 97, 54, 29, 5, 14, 4, 0, 48], [0, 36, 16, 81, 9, 56, 4, 0, 6], [1, 100, 23, 12, 16, 9, 5, 0, 35], [19, 19, 22, 56, 4, 145, 4, 0, 9], [0, 43, 13, 10, 8, 9, 4, 0, 14], [0, 23, 2, 3, 1, 10, 0, 0, 8], [1, 74, 10, 11, 12, 5, 3, 3, 801]], \"x\": [\"exercise\", \"focused-active\", \"focused-passive\", \"household-chores\", \"leisure\", \"movement\", \"rest-active\", \"rest-passive\", \"sleep\"], \"y\": [\"exercise\", \"focused-active\", \"focused-passive\", \"household-chores\", \"leisure\", \"movement\", \"rest-active\", \"rest-passive\", \"sleep\"], \"colorscale\": \"Reds\"}], {\"title\": \"Confusion Matrix\", \"font\": {\"size\": 16, \"color\": \"#333333\"}, \"xaxis\": {\"title\": \"predicted\", \"titlefont\": {\"size\": 16, \"color\": \"#333333\"}}, \"yaxis\": {\"title\": \"true label\", \"titlefont\": {\"size\": 16, \"color\": \"#333333\"}, \"autorange\": \"reversed\"}}, {\"showLink\": true, \"linkText\": \"Export to plot.ly\"})});</script>"
      ]
     },
     "metadata": {},
     "output_type": "display_data"
    },
    {
     "name": "stdout",
     "output_type": "stream",
     "text": [
      "\n",
      "\n",
      "\n",
      "--------------------------------------------- gr_main3 ---------------------------------------------\n",
      "gr_main3\n",
      "move     2863\n",
      "sleep    4733\n",
      "still    5582\n",
      "Name: user, dtype: int64\n",
      "10542 2636\n"
     ]
    },
    {
     "data": {
      "application/vnd.plotly.v1+json": {
       "data": [
        {
         "colorscale": [
          [
           0,
           "rgb(165,0,38)"
          ],
          [
           0.1111111111111111,
           "rgb(215,48,39)"
          ],
          [
           0.2222222222222222,
           "rgb(244,109,67)"
          ],
          [
           0.3333333333333333,
           "rgb(253,174,97)"
          ],
          [
           0.4444444444444444,
           "rgb(254,224,144)"
          ],
          [
           0.5555555555555556,
           "rgb(224,243,248)"
          ],
          [
           0.6666666666666666,
           "rgb(171,217,233)"
          ],
          [
           0.7777777777777778,
           "rgb(116,173,209)"
          ],
          [
           0.8888888888888888,
           "rgb(69,117,180)"
          ],
          [
           1,
           "rgb(49,54,149)"
          ]
         ],
         "type": "heatmap",
         "x": [
          "precision",
          "recall",
          "f1"
         ],
         "y": [
          "move",
          "sleep",
          "still"
         ],
         "z": [
          [
           0.783427495291902,
           0.7577413479052824,
           0.7703703703703703
          ],
          [
           0.8357894736842105,
           0.8340336134453782,
           0.8349106203995794
          ],
          [
           0.7636363636363637,
           0.7770925110132159,
           0.7703056768558952
          ]
         ],
         "zmax": 1,
         "zmin": 0.5
        }
       ],
       "layout": {
        "font": {
         "color": "#333333",
         "size": 16
        },
        "title": "Precision, Recall, F1-score",
        "yaxis": {
         "autorange": "reversed"
        }
       }
      },
      "text/html": [
       "<div id=\"835780af-1f7d-4a10-a8fa-50e47ac8e0b3\" style=\"height: 525px; width: 100%;\" class=\"plotly-graph-div\"></div><script type=\"text/javascript\">require([\"plotly\"], function(Plotly) { window.PLOTLYENV=window.PLOTLYENV || {};window.PLOTLYENV.BASE_URL=\"https://plot.ly\";Plotly.newPlot(\"835780af-1f7d-4a10-a8fa-50e47ac8e0b3\", [{\"type\": \"heatmap\", \"z\": [[0.783427495291902, 0.7577413479052824, 0.7703703703703703], [0.8357894736842105, 0.8340336134453782, 0.8349106203995794], [0.7636363636363637, 0.7770925110132159, 0.7703056768558952]], \"y\": [\"move\", \"sleep\", \"still\"], \"x\": [\"precision\", \"recall\", \"f1\"], \"colorscale\": [[0.0, \"rgb(165,0,38)\"], [0.1111111111111111, \"rgb(215,48,39)\"], [0.2222222222222222, \"rgb(244,109,67)\"], [0.3333333333333333, \"rgb(253,174,97)\"], [0.4444444444444444, \"rgb(254,224,144)\"], [0.5555555555555556, \"rgb(224,243,248)\"], [0.6666666666666666, \"rgb(171,217,233)\"], [0.7777777777777778, \"rgb(116,173,209)\"], [0.8888888888888888, \"rgb(69,117,180)\"], [1.0, \"rgb(49,54,149)\"]], \"zmin\": 0.5, \"zmax\": 1.0}], {\"title\": \"Precision, Recall, F1-score\", \"font\": {\"size\": 16, \"color\": \"#333333\"}, \"yaxis\": {\"autorange\": \"reversed\"}}, {\"showLink\": true, \"linkText\": \"Export to plot.ly\"})});</script>"
      ],
      "text/vnd.plotly.v1+html": [
       "<div id=\"835780af-1f7d-4a10-a8fa-50e47ac8e0b3\" style=\"height: 525px; width: 100%;\" class=\"plotly-graph-div\"></div><script type=\"text/javascript\">require([\"plotly\"], function(Plotly) { window.PLOTLYENV=window.PLOTLYENV || {};window.PLOTLYENV.BASE_URL=\"https://plot.ly\";Plotly.newPlot(\"835780af-1f7d-4a10-a8fa-50e47ac8e0b3\", [{\"type\": \"heatmap\", \"z\": [[0.783427495291902, 0.7577413479052824, 0.7703703703703703], [0.8357894736842105, 0.8340336134453782, 0.8349106203995794], [0.7636363636363637, 0.7770925110132159, 0.7703056768558952]], \"y\": [\"move\", \"sleep\", \"still\"], \"x\": [\"precision\", \"recall\", \"f1\"], \"colorscale\": [[0.0, \"rgb(165,0,38)\"], [0.1111111111111111, \"rgb(215,48,39)\"], [0.2222222222222222, \"rgb(244,109,67)\"], [0.3333333333333333, \"rgb(253,174,97)\"], [0.4444444444444444, \"rgb(254,224,144)\"], [0.5555555555555556, \"rgb(224,243,248)\"], [0.6666666666666666, \"rgb(171,217,233)\"], [0.7777777777777778, \"rgb(116,173,209)\"], [0.8888888888888888, \"rgb(69,117,180)\"], [1.0, \"rgb(49,54,149)\"]], \"zmin\": 0.5, \"zmax\": 1.0}], {\"title\": \"Precision, Recall, F1-score\", \"font\": {\"size\": 16, \"color\": \"#333333\"}, \"yaxis\": {\"autorange\": \"reversed\"}}, {\"showLink\": true, \"linkText\": \"Export to plot.ly\"})});</script>"
      ]
     },
     "metadata": {},
     "output_type": "display_data"
    },
    {
     "data": {
      "application/vnd.plotly.v1+json": {
       "data": [
        {
         "colorscale": "Reds",
         "type": "heatmap",
         "x": [
          "move",
          "sleep",
          "still"
         ],
         "y": [
          "move",
          "sleep",
          "still"
         ],
         "z": [
          [
           416,
           5,
           128
          ],
          [
           13,
           794,
           145
          ],
          [
           102,
           151,
           882
          ]
         ]
        }
       ],
       "layout": {
        "font": {
         "color": "#333333",
         "size": 16
        },
        "title": "Confusion Matrix",
        "xaxis": {
         "title": "predicted",
         "titlefont": {
          "color": "#333333",
          "size": 16
         }
        },
        "yaxis": {
         "autorange": "reversed",
         "title": "true label",
         "titlefont": {
          "color": "#333333",
          "size": 16
         }
        }
       }
      },
      "text/html": [
       "<div id=\"b662206f-a764-445e-86ba-fb991090c475\" style=\"height: 525px; width: 100%;\" class=\"plotly-graph-div\"></div><script type=\"text/javascript\">require([\"plotly\"], function(Plotly) { window.PLOTLYENV=window.PLOTLYENV || {};window.PLOTLYENV.BASE_URL=\"https://plot.ly\";Plotly.newPlot(\"b662206f-a764-445e-86ba-fb991090c475\", [{\"type\": \"heatmap\", \"z\": [[416, 5, 128], [13, 794, 145], [102, 151, 882]], \"x\": [\"move\", \"sleep\", \"still\"], \"y\": [\"move\", \"sleep\", \"still\"], \"colorscale\": \"Reds\"}], {\"title\": \"Confusion Matrix\", \"font\": {\"size\": 16, \"color\": \"#333333\"}, \"xaxis\": {\"title\": \"predicted\", \"titlefont\": {\"size\": 16, \"color\": \"#333333\"}}, \"yaxis\": {\"title\": \"true label\", \"titlefont\": {\"size\": 16, \"color\": \"#333333\"}, \"autorange\": \"reversed\"}}, {\"showLink\": true, \"linkText\": \"Export to plot.ly\"})});</script>"
      ],
      "text/vnd.plotly.v1+html": [
       "<div id=\"b662206f-a764-445e-86ba-fb991090c475\" style=\"height: 525px; width: 100%;\" class=\"plotly-graph-div\"></div><script type=\"text/javascript\">require([\"plotly\"], function(Plotly) { window.PLOTLYENV=window.PLOTLYENV || {};window.PLOTLYENV.BASE_URL=\"https://plot.ly\";Plotly.newPlot(\"b662206f-a764-445e-86ba-fb991090c475\", [{\"type\": \"heatmap\", \"z\": [[416, 5, 128], [13, 794, 145], [102, 151, 882]], \"x\": [\"move\", \"sleep\", \"still\"], \"y\": [\"move\", \"sleep\", \"still\"], \"colorscale\": \"Reds\"}], {\"title\": \"Confusion Matrix\", \"font\": {\"size\": 16, \"color\": \"#333333\"}, \"xaxis\": {\"title\": \"predicted\", \"titlefont\": {\"size\": 16, \"color\": \"#333333\"}}, \"yaxis\": {\"title\": \"true label\", \"titlefont\": {\"size\": 16, \"color\": \"#333333\"}, \"autorange\": \"reversed\"}}, {\"showLink\": true, \"linkText\": \"Export to plot.ly\"})});</script>"
      ]
     },
     "metadata": {},
     "output_type": "display_data"
    },
    {
     "name": "stdout",
     "output_type": "stream",
     "text": [
      "\n",
      "\n",
      "\n",
      "--------------------------------------------- gr_main4 ---------------------------------------------\n",
      "gr_main4\n",
      "exercise     432\n",
      "move        2431\n",
      "sleep       4733\n",
      "still       5582\n",
      "Name: user, dtype: int64\n",
      "10542 2636\n"
     ]
    },
    {
     "data": {
      "application/vnd.plotly.v1+json": {
       "data": [
        {
         "colorscale": [
          [
           0,
           "rgb(165,0,38)"
          ],
          [
           0.1111111111111111,
           "rgb(215,48,39)"
          ],
          [
           0.2222222222222222,
           "rgb(244,109,67)"
          ],
          [
           0.3333333333333333,
           "rgb(253,174,97)"
          ],
          [
           0.4444444444444444,
           "rgb(254,224,144)"
          ],
          [
           0.5555555555555556,
           "rgb(224,243,248)"
          ],
          [
           0.6666666666666666,
           "rgb(171,217,233)"
          ],
          [
           0.7777777777777778,
           "rgb(116,173,209)"
          ],
          [
           0.8888888888888888,
           "rgb(69,117,180)"
          ],
          [
           1,
           "rgb(49,54,149)"
          ]
         ],
         "type": "heatmap",
         "x": [
          "precision",
          "recall",
          "f1"
         ],
         "y": [
          "exercise",
          "move",
          "sleep",
          "still"
         ],
         "z": [
          [
           0.7532467532467533,
           0.7160493827160493,
           0.7341772151898733
          ],
          [
           0.7015250544662309,
           0.6778947368421052,
           0.6895074946466809
          ],
          [
           0.8591549295774648,
           0.8050761421319796,
           0.831236897274633
          ],
          [
           0.7417162276975361,
           0.7972602739726027,
           0.7684859154929577
          ]
         ],
         "zmax": 1,
         "zmin": 0.5
        }
       ],
       "layout": {
        "font": {
         "color": "#333333",
         "size": 16
        },
        "title": "Precision, Recall, F1-score",
        "yaxis": {
         "autorange": "reversed"
        }
       }
      },
      "text/html": [
       "<div id=\"4b9d3b2c-b90b-482a-9e11-51dc3d077a0a\" style=\"height: 525px; width: 100%;\" class=\"plotly-graph-div\"></div><script type=\"text/javascript\">require([\"plotly\"], function(Plotly) { window.PLOTLYENV=window.PLOTLYENV || {};window.PLOTLYENV.BASE_URL=\"https://plot.ly\";Plotly.newPlot(\"4b9d3b2c-b90b-482a-9e11-51dc3d077a0a\", [{\"type\": \"heatmap\", \"z\": [[0.7532467532467533, 0.7160493827160493, 0.7341772151898733], [0.7015250544662309, 0.6778947368421052, 0.6895074946466809], [0.8591549295774648, 0.8050761421319796, 0.831236897274633], [0.7417162276975361, 0.7972602739726027, 0.7684859154929577]], \"y\": [\"exercise\", \"move\", \"sleep\", \"still\"], \"x\": [\"precision\", \"recall\", \"f1\"], \"colorscale\": [[0.0, \"rgb(165,0,38)\"], [0.1111111111111111, \"rgb(215,48,39)\"], [0.2222222222222222, \"rgb(244,109,67)\"], [0.3333333333333333, \"rgb(253,174,97)\"], [0.4444444444444444, \"rgb(254,224,144)\"], [0.5555555555555556, \"rgb(224,243,248)\"], [0.6666666666666666, \"rgb(171,217,233)\"], [0.7777777777777778, \"rgb(116,173,209)\"], [0.8888888888888888, \"rgb(69,117,180)\"], [1.0, \"rgb(49,54,149)\"]], \"zmin\": 0.5, \"zmax\": 1.0}], {\"title\": \"Precision, Recall, F1-score\", \"font\": {\"size\": 16, \"color\": \"#333333\"}, \"yaxis\": {\"autorange\": \"reversed\"}}, {\"showLink\": true, \"linkText\": \"Export to plot.ly\"})});</script>"
      ],
      "text/vnd.plotly.v1+html": [
       "<div id=\"4b9d3b2c-b90b-482a-9e11-51dc3d077a0a\" style=\"height: 525px; width: 100%;\" class=\"plotly-graph-div\"></div><script type=\"text/javascript\">require([\"plotly\"], function(Plotly) { window.PLOTLYENV=window.PLOTLYENV || {};window.PLOTLYENV.BASE_URL=\"https://plot.ly\";Plotly.newPlot(\"4b9d3b2c-b90b-482a-9e11-51dc3d077a0a\", [{\"type\": \"heatmap\", \"z\": [[0.7532467532467533, 0.7160493827160493, 0.7341772151898733], [0.7015250544662309, 0.6778947368421052, 0.6895074946466809], [0.8591549295774648, 0.8050761421319796, 0.831236897274633], [0.7417162276975361, 0.7972602739726027, 0.7684859154929577]], \"y\": [\"exercise\", \"move\", \"sleep\", \"still\"], \"x\": [\"precision\", \"recall\", \"f1\"], \"colorscale\": [[0.0, \"rgb(165,0,38)\"], [0.1111111111111111, \"rgb(215,48,39)\"], [0.2222222222222222, \"rgb(244,109,67)\"], [0.3333333333333333, \"rgb(253,174,97)\"], [0.4444444444444444, \"rgb(254,224,144)\"], [0.5555555555555556, \"rgb(224,243,248)\"], [0.6666666666666666, \"rgb(171,217,233)\"], [0.7777777777777778, \"rgb(116,173,209)\"], [0.8888888888888888, \"rgb(69,117,180)\"], [1.0, \"rgb(49,54,149)\"]], \"zmin\": 0.5, \"zmax\": 1.0}], {\"title\": \"Precision, Recall, F1-score\", \"font\": {\"size\": 16, \"color\": \"#333333\"}, \"yaxis\": {\"autorange\": \"reversed\"}}, {\"showLink\": true, \"linkText\": \"Export to plot.ly\"})});</script>"
      ]
     },
     "metadata": {},
     "output_type": "display_data"
    },
    {
     "data": {
      "application/vnd.plotly.v1+json": {
       "data": [
        {
         "colorscale": "Reds",
         "type": "heatmap",
         "x": [
          "exercise",
          "move",
          "sleep",
          "still"
         ],
         "y": [
          "exercise",
          "move",
          "sleep",
          "still"
         ],
         "z": [
          [
           58,
           23,
           0,
           0
          ],
          [
           17,
           322,
           9,
           127
          ],
          [
           1,
           14,
           793,
           177
          ],
          [
           1,
           100,
           121,
           873
          ]
         ]
        }
       ],
       "layout": {
        "font": {
         "color": "#333333",
         "size": 16
        },
        "title": "Confusion Matrix",
        "xaxis": {
         "title": "predicted",
         "titlefont": {
          "color": "#333333",
          "size": 16
         }
        },
        "yaxis": {
         "autorange": "reversed",
         "title": "true label",
         "titlefont": {
          "color": "#333333",
          "size": 16
         }
        }
       }
      },
      "text/html": [
       "<div id=\"1e883ea9-0ba9-48b2-bc81-27f14deb509c\" style=\"height: 525px; width: 100%;\" class=\"plotly-graph-div\"></div><script type=\"text/javascript\">require([\"plotly\"], function(Plotly) { window.PLOTLYENV=window.PLOTLYENV || {};window.PLOTLYENV.BASE_URL=\"https://plot.ly\";Plotly.newPlot(\"1e883ea9-0ba9-48b2-bc81-27f14deb509c\", [{\"type\": \"heatmap\", \"z\": [[58, 23, 0, 0], [17, 322, 9, 127], [1, 14, 793, 177], [1, 100, 121, 873]], \"x\": [\"exercise\", \"move\", \"sleep\", \"still\"], \"y\": [\"exercise\", \"move\", \"sleep\", \"still\"], \"colorscale\": \"Reds\"}], {\"title\": \"Confusion Matrix\", \"font\": {\"size\": 16, \"color\": \"#333333\"}, \"xaxis\": {\"title\": \"predicted\", \"titlefont\": {\"size\": 16, \"color\": \"#333333\"}}, \"yaxis\": {\"title\": \"true label\", \"titlefont\": {\"size\": 16, \"color\": \"#333333\"}, \"autorange\": \"reversed\"}}, {\"showLink\": true, \"linkText\": \"Export to plot.ly\"})});</script>"
      ],
      "text/vnd.plotly.v1+html": [
       "<div id=\"1e883ea9-0ba9-48b2-bc81-27f14deb509c\" style=\"height: 525px; width: 100%;\" class=\"plotly-graph-div\"></div><script type=\"text/javascript\">require([\"plotly\"], function(Plotly) { window.PLOTLYENV=window.PLOTLYENV || {};window.PLOTLYENV.BASE_URL=\"https://plot.ly\";Plotly.newPlot(\"1e883ea9-0ba9-48b2-bc81-27f14deb509c\", [{\"type\": \"heatmap\", \"z\": [[58, 23, 0, 0], [17, 322, 9, 127], [1, 14, 793, 177], [1, 100, 121, 873]], \"x\": [\"exercise\", \"move\", \"sleep\", \"still\"], \"y\": [\"exercise\", \"move\", \"sleep\", \"still\"], \"colorscale\": \"Reds\"}], {\"title\": \"Confusion Matrix\", \"font\": {\"size\": 16, \"color\": \"#333333\"}, \"xaxis\": {\"title\": \"predicted\", \"titlefont\": {\"size\": 16, \"color\": \"#333333\"}}, \"yaxis\": {\"title\": \"true label\", \"titlefont\": {\"size\": 16, \"color\": \"#333333\"}, \"autorange\": \"reversed\"}}, {\"showLink\": true, \"linkText\": \"Export to plot.ly\"})});</script>"
      ]
     },
     "metadata": {},
     "output_type": "display_data"
    },
    {
     "name": "stdout",
     "output_type": "stream",
     "text": [
      "\n",
      "\n",
      "\n",
      "--------------------------------------------- gr_stress1 ---------------------------------------------\n",
      "gr_stress1\n",
      "exercise     432\n",
      "move        2431\n",
      "relaxed     1262\n",
      "sleep       4733\n",
      "stressed    4320\n",
      "Name: user, dtype: int64\n",
      "10542 2636\n"
     ]
    },
    {
     "data": {
      "application/vnd.plotly.v1+json": {
       "data": [
        {
         "colorscale": [
          [
           0,
           "rgb(165,0,38)"
          ],
          [
           0.1111111111111111,
           "rgb(215,48,39)"
          ],
          [
           0.2222222222222222,
           "rgb(244,109,67)"
          ],
          [
           0.3333333333333333,
           "rgb(253,174,97)"
          ],
          [
           0.4444444444444444,
           "rgb(254,224,144)"
          ],
          [
           0.5555555555555556,
           "rgb(224,243,248)"
          ],
          [
           0.6666666666666666,
           "rgb(171,217,233)"
          ],
          [
           0.7777777777777778,
           "rgb(116,173,209)"
          ],
          [
           0.8888888888888888,
           "rgb(69,117,180)"
          ],
          [
           1,
           "rgb(49,54,149)"
          ]
         ],
         "type": "heatmap",
         "x": [
          "precision",
          "recall",
          "f1"
         ],
         "y": [
          "exercise",
          "move",
          "relaxed",
          "sleep",
          "stressed"
         ],
         "z": [
          [
           0.75,
           0.75,
           0.75
          ],
          [
           0.6964618249534451,
           0.7248062015503876,
           0.7103513770180436
          ],
          [
           0.35,
           0.05907172995780591,
           0.10108303249097472
          ],
          [
           0.7993762993762994,
           0.8422782037239869,
           0.8202666666666666
          ],
          [
           0.6159921026653504,
           0.7042889390519187,
           0.6571879936808845
          ]
         ],
         "zmax": 1,
         "zmin": 0.5
        }
       ],
       "layout": {
        "font": {
         "color": "#333333",
         "size": 16
        },
        "title": "Precision, Recall, F1-score",
        "yaxis": {
         "autorange": "reversed"
        }
       }
      },
      "text/html": [
       "<div id=\"8559ec76-2ead-41f3-88a6-009b9b41e767\" style=\"height: 525px; width: 100%;\" class=\"plotly-graph-div\"></div><script type=\"text/javascript\">require([\"plotly\"], function(Plotly) { window.PLOTLYENV=window.PLOTLYENV || {};window.PLOTLYENV.BASE_URL=\"https://plot.ly\";Plotly.newPlot(\"8559ec76-2ead-41f3-88a6-009b9b41e767\", [{\"type\": \"heatmap\", \"z\": [[0.75, 0.75, 0.75], [0.6964618249534451, 0.7248062015503876, 0.7103513770180436], [0.35, 0.05907172995780591, 0.10108303249097472], [0.7993762993762994, 0.8422782037239869, 0.8202666666666666], [0.6159921026653504, 0.7042889390519187, 0.6571879936808845]], \"y\": [\"exercise\", \"move\", \"relaxed\", \"sleep\", \"stressed\"], \"x\": [\"precision\", \"recall\", \"f1\"], \"colorscale\": [[0.0, \"rgb(165,0,38)\"], [0.1111111111111111, \"rgb(215,48,39)\"], [0.2222222222222222, \"rgb(244,109,67)\"], [0.3333333333333333, \"rgb(253,174,97)\"], [0.4444444444444444, \"rgb(254,224,144)\"], [0.5555555555555556, \"rgb(224,243,248)\"], [0.6666666666666666, \"rgb(171,217,233)\"], [0.7777777777777778, \"rgb(116,173,209)\"], [0.8888888888888888, \"rgb(69,117,180)\"], [1.0, \"rgb(49,54,149)\"]], \"zmin\": 0.5, \"zmax\": 1.0}], {\"title\": \"Precision, Recall, F1-score\", \"font\": {\"size\": 16, \"color\": \"#333333\"}, \"yaxis\": {\"autorange\": \"reversed\"}}, {\"showLink\": true, \"linkText\": \"Export to plot.ly\"})});</script>"
      ],
      "text/vnd.plotly.v1+html": [
       "<div id=\"8559ec76-2ead-41f3-88a6-009b9b41e767\" style=\"height: 525px; width: 100%;\" class=\"plotly-graph-div\"></div><script type=\"text/javascript\">require([\"plotly\"], function(Plotly) { window.PLOTLYENV=window.PLOTLYENV || {};window.PLOTLYENV.BASE_URL=\"https://plot.ly\";Plotly.newPlot(\"8559ec76-2ead-41f3-88a6-009b9b41e767\", [{\"type\": \"heatmap\", \"z\": [[0.75, 0.75, 0.75], [0.6964618249534451, 0.7248062015503876, 0.7103513770180436], [0.35, 0.05907172995780591, 0.10108303249097472], [0.7993762993762994, 0.8422782037239869, 0.8202666666666666], [0.6159921026653504, 0.7042889390519187, 0.6571879936808845]], \"y\": [\"exercise\", \"move\", \"relaxed\", \"sleep\", \"stressed\"], \"x\": [\"precision\", \"recall\", \"f1\"], \"colorscale\": [[0.0, \"rgb(165,0,38)\"], [0.1111111111111111, \"rgb(215,48,39)\"], [0.2222222222222222, \"rgb(244,109,67)\"], [0.3333333333333333, \"rgb(253,174,97)\"], [0.4444444444444444, \"rgb(254,224,144)\"], [0.5555555555555556, \"rgb(224,243,248)\"], [0.6666666666666666, \"rgb(171,217,233)\"], [0.7777777777777778, \"rgb(116,173,209)\"], [0.8888888888888888, \"rgb(69,117,180)\"], [1.0, \"rgb(49,54,149)\"]], \"zmin\": 0.5, \"zmax\": 1.0}], {\"title\": \"Precision, Recall, F1-score\", \"font\": {\"size\": 16, \"color\": \"#333333\"}, \"yaxis\": {\"autorange\": \"reversed\"}}, {\"showLink\": true, \"linkText\": \"Export to plot.ly\"})});</script>"
      ]
     },
     "metadata": {},
     "output_type": "display_data"
    },
    {
     "data": {
      "application/vnd.plotly.v1+json": {
       "data": [
        {
         "colorscale": "Reds",
         "type": "heatmap",
         "x": [
          "exercise",
          "move",
          "relaxed",
          "sleep",
          "stressed"
         ],
         "y": [
          "exercise",
          "move",
          "relaxed",
          "sleep",
          "stressed"
         ],
         "z": [
          [
           63,
           21,
           0,
           0,
           0
          ],
          [
           19,
           374,
           1,
           8,
           114
          ],
          [
           1,
           28,
           14,
           41,
           153
          ],
          [
           1,
           14,
           7,
           769,
           122
          ],
          [
           0,
           100,
           18,
           144,
           624
          ]
         ]
        }
       ],
       "layout": {
        "font": {
         "color": "#333333",
         "size": 16
        },
        "title": "Confusion Matrix",
        "xaxis": {
         "title": "predicted",
         "titlefont": {
          "color": "#333333",
          "size": 16
         }
        },
        "yaxis": {
         "autorange": "reversed",
         "title": "true label",
         "titlefont": {
          "color": "#333333",
          "size": 16
         }
        }
       }
      },
      "text/html": [
       "<div id=\"7a3bd89a-ce72-4651-b368-9725d4143701\" style=\"height: 525px; width: 100%;\" class=\"plotly-graph-div\"></div><script type=\"text/javascript\">require([\"plotly\"], function(Plotly) { window.PLOTLYENV=window.PLOTLYENV || {};window.PLOTLYENV.BASE_URL=\"https://plot.ly\";Plotly.newPlot(\"7a3bd89a-ce72-4651-b368-9725d4143701\", [{\"type\": \"heatmap\", \"z\": [[63, 21, 0, 0, 0], [19, 374, 1, 8, 114], [1, 28, 14, 41, 153], [1, 14, 7, 769, 122], [0, 100, 18, 144, 624]], \"x\": [\"exercise\", \"move\", \"relaxed\", \"sleep\", \"stressed\"], \"y\": [\"exercise\", \"move\", \"relaxed\", \"sleep\", \"stressed\"], \"colorscale\": \"Reds\"}], {\"title\": \"Confusion Matrix\", \"font\": {\"size\": 16, \"color\": \"#333333\"}, \"xaxis\": {\"title\": \"predicted\", \"titlefont\": {\"size\": 16, \"color\": \"#333333\"}}, \"yaxis\": {\"title\": \"true label\", \"titlefont\": {\"size\": 16, \"color\": \"#333333\"}, \"autorange\": \"reversed\"}}, {\"showLink\": true, \"linkText\": \"Export to plot.ly\"})});</script>"
      ],
      "text/vnd.plotly.v1+html": [
       "<div id=\"7a3bd89a-ce72-4651-b368-9725d4143701\" style=\"height: 525px; width: 100%;\" class=\"plotly-graph-div\"></div><script type=\"text/javascript\">require([\"plotly\"], function(Plotly) { window.PLOTLYENV=window.PLOTLYENV || {};window.PLOTLYENV.BASE_URL=\"https://plot.ly\";Plotly.newPlot(\"7a3bd89a-ce72-4651-b368-9725d4143701\", [{\"type\": \"heatmap\", \"z\": [[63, 21, 0, 0, 0], [19, 374, 1, 8, 114], [1, 28, 14, 41, 153], [1, 14, 7, 769, 122], [0, 100, 18, 144, 624]], \"x\": [\"exercise\", \"move\", \"relaxed\", \"sleep\", \"stressed\"], \"y\": [\"exercise\", \"move\", \"relaxed\", \"sleep\", \"stressed\"], \"colorscale\": \"Reds\"}], {\"title\": \"Confusion Matrix\", \"font\": {\"size\": 16, \"color\": \"#333333\"}, \"xaxis\": {\"title\": \"predicted\", \"titlefont\": {\"size\": 16, \"color\": \"#333333\"}}, \"yaxis\": {\"title\": \"true label\", \"titlefont\": {\"size\": 16, \"color\": \"#333333\"}, \"autorange\": \"reversed\"}}, {\"showLink\": true, \"linkText\": \"Export to plot.ly\"})});</script>"
      ]
     },
     "metadata": {},
     "output_type": "display_data"
    },
    {
     "name": "stdout",
     "output_type": "stream",
     "text": [
      "\n",
      "\n",
      "\n",
      "--------------------------------------------- gr_stress2 ---------------------------------------------\n",
      "gr_stress2\n",
      "exercise     432\n",
      "move        2431\n",
      "relaxed     1262\n",
      "sleep       4733\n",
      "stressed    4320\n",
      "Name: user, dtype: int64\n",
      "10542 2636\n"
     ]
    },
    {
     "data": {
      "application/vnd.plotly.v1+json": {
       "data": [
        {
         "colorscale": [
          [
           0,
           "rgb(165,0,38)"
          ],
          [
           0.1111111111111111,
           "rgb(215,48,39)"
          ],
          [
           0.2222222222222222,
           "rgb(244,109,67)"
          ],
          [
           0.3333333333333333,
           "rgb(253,174,97)"
          ],
          [
           0.4444444444444444,
           "rgb(254,224,144)"
          ],
          [
           0.5555555555555556,
           "rgb(224,243,248)"
          ],
          [
           0.6666666666666666,
           "rgb(171,217,233)"
          ],
          [
           0.7777777777777778,
           "rgb(116,173,209)"
          ],
          [
           0.8888888888888888,
           "rgb(69,117,180)"
          ],
          [
           1,
           "rgb(49,54,149)"
          ]
         ],
         "type": "heatmap",
         "x": [
          "precision",
          "recall",
          "f1"
         ],
         "y": [
          "exercise",
          "move",
          "relaxed",
          "sleep",
          "stressed"
         ],
         "z": [
          [
           0.7530864197530864,
           0.782051282051282,
           0.7672955974842767
          ],
          [
           0.6910569105691057,
           0.7068607068607069,
           0.698869475847893
          ],
          [
           0.22448979591836735,
           0.04700854700854701,
           0.07773851590106008
          ],
          [
           0.8235294117647058,
           0.8326612903225806,
           0.8280701754385964
          ],
          [
           0.6023738872403561,
           0.7156286721504113,
           0.6541353383458647
          ]
         ],
         "zmax": 1,
         "zmin": 0.5
        }
       ],
       "layout": {
        "font": {
         "color": "#333333",
         "size": 16
        },
        "title": "Precision, Recall, F1-score",
        "yaxis": {
         "autorange": "reversed"
        }
       }
      },
      "text/html": [
       "<div id=\"093252ff-e665-4098-9b1b-a153b2a573c6\" style=\"height: 525px; width: 100%;\" class=\"plotly-graph-div\"></div><script type=\"text/javascript\">require([\"plotly\"], function(Plotly) { window.PLOTLYENV=window.PLOTLYENV || {};window.PLOTLYENV.BASE_URL=\"https://plot.ly\";Plotly.newPlot(\"093252ff-e665-4098-9b1b-a153b2a573c6\", [{\"type\": \"heatmap\", \"z\": [[0.7530864197530864, 0.782051282051282, 0.7672955974842767], [0.6910569105691057, 0.7068607068607069, 0.698869475847893], [0.22448979591836735, 0.04700854700854701, 0.07773851590106008], [0.8235294117647058, 0.8326612903225806, 0.8280701754385964], [0.6023738872403561, 0.7156286721504113, 0.6541353383458647]], \"y\": [\"exercise\", \"move\", \"relaxed\", \"sleep\", \"stressed\"], \"x\": [\"precision\", \"recall\", \"f1\"], \"colorscale\": [[0.0, \"rgb(165,0,38)\"], [0.1111111111111111, \"rgb(215,48,39)\"], [0.2222222222222222, \"rgb(244,109,67)\"], [0.3333333333333333, \"rgb(253,174,97)\"], [0.4444444444444444, \"rgb(254,224,144)\"], [0.5555555555555556, \"rgb(224,243,248)\"], [0.6666666666666666, \"rgb(171,217,233)\"], [0.7777777777777778, \"rgb(116,173,209)\"], [0.8888888888888888, \"rgb(69,117,180)\"], [1.0, \"rgb(49,54,149)\"]], \"zmin\": 0.5, \"zmax\": 1.0}], {\"title\": \"Precision, Recall, F1-score\", \"font\": {\"size\": 16, \"color\": \"#333333\"}, \"yaxis\": {\"autorange\": \"reversed\"}}, {\"showLink\": true, \"linkText\": \"Export to plot.ly\"})});</script>"
      ],
      "text/vnd.plotly.v1+html": [
       "<div id=\"093252ff-e665-4098-9b1b-a153b2a573c6\" style=\"height: 525px; width: 100%;\" class=\"plotly-graph-div\"></div><script type=\"text/javascript\">require([\"plotly\"], function(Plotly) { window.PLOTLYENV=window.PLOTLYENV || {};window.PLOTLYENV.BASE_URL=\"https://plot.ly\";Plotly.newPlot(\"093252ff-e665-4098-9b1b-a153b2a573c6\", [{\"type\": \"heatmap\", \"z\": [[0.7530864197530864, 0.782051282051282, 0.7672955974842767], [0.6910569105691057, 0.7068607068607069, 0.698869475847893], [0.22448979591836735, 0.04700854700854701, 0.07773851590106008], [0.8235294117647058, 0.8326612903225806, 0.8280701754385964], [0.6023738872403561, 0.7156286721504113, 0.6541353383458647]], \"y\": [\"exercise\", \"move\", \"relaxed\", \"sleep\", \"stressed\"], \"x\": [\"precision\", \"recall\", \"f1\"], \"colorscale\": [[0.0, \"rgb(165,0,38)\"], [0.1111111111111111, \"rgb(215,48,39)\"], [0.2222222222222222, \"rgb(244,109,67)\"], [0.3333333333333333, \"rgb(253,174,97)\"], [0.4444444444444444, \"rgb(254,224,144)\"], [0.5555555555555556, \"rgb(224,243,248)\"], [0.6666666666666666, \"rgb(171,217,233)\"], [0.7777777777777778, \"rgb(116,173,209)\"], [0.8888888888888888, \"rgb(69,117,180)\"], [1.0, \"rgb(49,54,149)\"]], \"zmin\": 0.5, \"zmax\": 1.0}], {\"title\": \"Precision, Recall, F1-score\", \"font\": {\"size\": 16, \"color\": \"#333333\"}, \"yaxis\": {\"autorange\": \"reversed\"}}, {\"showLink\": true, \"linkText\": \"Export to plot.ly\"})});</script>"
      ]
     },
     "metadata": {},
     "output_type": "display_data"
    },
    {
     "data": {
      "application/vnd.plotly.v1+json": {
       "data": [
        {
         "colorscale": "Reds",
         "type": "heatmap",
         "x": [
          "exercise",
          "move",
          "relaxed",
          "sleep",
          "stressed"
         ],
         "y": [
          "exercise",
          "move",
          "relaxed",
          "sleep",
          "stressed"
         ],
         "z": [
          [
           61,
           17,
           0,
           0,
           0
          ],
          [
           17,
           340,
           6,
           10,
           108
          ],
          [
           2,
           22,
           11,
           43,
           156
          ],
          [
           0,
           21,
           7,
           826,
           138
          ],
          [
           1,
           92,
           25,
           124,
           609
          ]
         ]
        }
       ],
       "layout": {
        "font": {
         "color": "#333333",
         "size": 16
        },
        "title": "Confusion Matrix",
        "xaxis": {
         "title": "predicted",
         "titlefont": {
          "color": "#333333",
          "size": 16
         }
        },
        "yaxis": {
         "autorange": "reversed",
         "title": "true label",
         "titlefont": {
          "color": "#333333",
          "size": 16
         }
        }
       }
      },
      "text/html": [
       "<div id=\"cf19c18f-f07f-46de-8745-a5599e4ebfc7\" style=\"height: 525px; width: 100%;\" class=\"plotly-graph-div\"></div><script type=\"text/javascript\">require([\"plotly\"], function(Plotly) { window.PLOTLYENV=window.PLOTLYENV || {};window.PLOTLYENV.BASE_URL=\"https://plot.ly\";Plotly.newPlot(\"cf19c18f-f07f-46de-8745-a5599e4ebfc7\", [{\"type\": \"heatmap\", \"z\": [[61, 17, 0, 0, 0], [17, 340, 6, 10, 108], [2, 22, 11, 43, 156], [0, 21, 7, 826, 138], [1, 92, 25, 124, 609]], \"x\": [\"exercise\", \"move\", \"relaxed\", \"sleep\", \"stressed\"], \"y\": [\"exercise\", \"move\", \"relaxed\", \"sleep\", \"stressed\"], \"colorscale\": \"Reds\"}], {\"title\": \"Confusion Matrix\", \"font\": {\"size\": 16, \"color\": \"#333333\"}, \"xaxis\": {\"title\": \"predicted\", \"titlefont\": {\"size\": 16, \"color\": \"#333333\"}}, \"yaxis\": {\"title\": \"true label\", \"titlefont\": {\"size\": 16, \"color\": \"#333333\"}, \"autorange\": \"reversed\"}}, {\"showLink\": true, \"linkText\": \"Export to plot.ly\"})});</script>"
      ],
      "text/vnd.plotly.v1+html": [
       "<div id=\"cf19c18f-f07f-46de-8745-a5599e4ebfc7\" style=\"height: 525px; width: 100%;\" class=\"plotly-graph-div\"></div><script type=\"text/javascript\">require([\"plotly\"], function(Plotly) { window.PLOTLYENV=window.PLOTLYENV || {};window.PLOTLYENV.BASE_URL=\"https://plot.ly\";Plotly.newPlot(\"cf19c18f-f07f-46de-8745-a5599e4ebfc7\", [{\"type\": \"heatmap\", \"z\": [[61, 17, 0, 0, 0], [17, 340, 6, 10, 108], [2, 22, 11, 43, 156], [0, 21, 7, 826, 138], [1, 92, 25, 124, 609]], \"x\": [\"exercise\", \"move\", \"relaxed\", \"sleep\", \"stressed\"], \"y\": [\"exercise\", \"move\", \"relaxed\", \"sleep\", \"stressed\"], \"colorscale\": \"Reds\"}], {\"title\": \"Confusion Matrix\", \"font\": {\"size\": 16, \"color\": \"#333333\"}, \"xaxis\": {\"title\": \"predicted\", \"titlefont\": {\"size\": 16, \"color\": \"#333333\"}}, \"yaxis\": {\"title\": \"true label\", \"titlefont\": {\"size\": 16, \"color\": \"#333333\"}, \"autorange\": \"reversed\"}}, {\"showLink\": true, \"linkText\": \"Export to plot.ly\"})});</script>"
      ]
     },
     "metadata": {},
     "output_type": "display_data"
    },
    {
     "name": "stdout",
     "output_type": "stream",
     "text": [
      "\n",
      "\n",
      "\n",
      "--------------------------------------------- gr_stress3 ---------------------------------------------\n",
      "gr_stress3\n",
      "exercise     432\n",
      "move        2431\n",
      "relaxed     2918\n",
      "sleep       4733\n",
      "stressed    2664\n",
      "Name: user, dtype: int64\n",
      "10542 2636\n"
     ]
    },
    {
     "data": {
      "application/vnd.plotly.v1+json": {
       "data": [
        {
         "colorscale": [
          [
           0,
           "rgb(165,0,38)"
          ],
          [
           0.1111111111111111,
           "rgb(215,48,39)"
          ],
          [
           0.2222222222222222,
           "rgb(244,109,67)"
          ],
          [
           0.3333333333333333,
           "rgb(253,174,97)"
          ],
          [
           0.4444444444444444,
           "rgb(254,224,144)"
          ],
          [
           0.5555555555555556,
           "rgb(224,243,248)"
          ],
          [
           0.6666666666666666,
           "rgb(171,217,233)"
          ],
          [
           0.7777777777777778,
           "rgb(116,173,209)"
          ],
          [
           0.8888888888888888,
           "rgb(69,117,180)"
          ],
          [
           1,
           "rgb(49,54,149)"
          ]
         ],
         "type": "heatmap",
         "x": [
          "precision",
          "recall",
          "f1"
         ],
         "y": [
          "exercise",
          "move",
          "relaxed",
          "sleep",
          "stressed"
         ],
         "z": [
          [
           0.7340425531914894,
           0.75,
           0.7419354838709676
          ],
          [
           0.7100371747211895,
           0.7579365079365079,
           0.7332053742802304
          ],
          [
           0.501953125,
           0.4240924092409241,
           0.4597495527728086
          ],
          [
           0.8045267489711934,
           0.8602860286028603,
           0.8314726209463051
          ],
          [
           0.5115384615384615,
           0.5066666666666667,
           0.509090909090909
          ]
         ],
         "zmax": 1,
         "zmin": 0.5
        }
       ],
       "layout": {
        "font": {
         "color": "#333333",
         "size": 16
        },
        "title": "Precision, Recall, F1-score",
        "yaxis": {
         "autorange": "reversed"
        }
       }
      },
      "text/html": [
       "<div id=\"1158c2cf-e2f0-4264-9ee8-726e6dd6c501\" style=\"height: 525px; width: 100%;\" class=\"plotly-graph-div\"></div><script type=\"text/javascript\">require([\"plotly\"], function(Plotly) { window.PLOTLYENV=window.PLOTLYENV || {};window.PLOTLYENV.BASE_URL=\"https://plot.ly\";Plotly.newPlot(\"1158c2cf-e2f0-4264-9ee8-726e6dd6c501\", [{\"type\": \"heatmap\", \"z\": [[0.7340425531914894, 0.75, 0.7419354838709676], [0.7100371747211895, 0.7579365079365079, 0.7332053742802304], [0.501953125, 0.4240924092409241, 0.4597495527728086], [0.8045267489711934, 0.8602860286028603, 0.8314726209463051], [0.5115384615384615, 0.5066666666666667, 0.509090909090909]], \"y\": [\"exercise\", \"move\", \"relaxed\", \"sleep\", \"stressed\"], \"x\": [\"precision\", \"recall\", \"f1\"], \"colorscale\": [[0.0, \"rgb(165,0,38)\"], [0.1111111111111111, \"rgb(215,48,39)\"], [0.2222222222222222, \"rgb(244,109,67)\"], [0.3333333333333333, \"rgb(253,174,97)\"], [0.4444444444444444, \"rgb(254,224,144)\"], [0.5555555555555556, \"rgb(224,243,248)\"], [0.6666666666666666, \"rgb(171,217,233)\"], [0.7777777777777778, \"rgb(116,173,209)\"], [0.8888888888888888, \"rgb(69,117,180)\"], [1.0, \"rgb(49,54,149)\"]], \"zmin\": 0.5, \"zmax\": 1.0}], {\"title\": \"Precision, Recall, F1-score\", \"font\": {\"size\": 16, \"color\": \"#333333\"}, \"yaxis\": {\"autorange\": \"reversed\"}}, {\"showLink\": true, \"linkText\": \"Export to plot.ly\"})});</script>"
      ],
      "text/vnd.plotly.v1+html": [
       "<div id=\"1158c2cf-e2f0-4264-9ee8-726e6dd6c501\" style=\"height: 525px; width: 100%;\" class=\"plotly-graph-div\"></div><script type=\"text/javascript\">require([\"plotly\"], function(Plotly) { window.PLOTLYENV=window.PLOTLYENV || {};window.PLOTLYENV.BASE_URL=\"https://plot.ly\";Plotly.newPlot(\"1158c2cf-e2f0-4264-9ee8-726e6dd6c501\", [{\"type\": \"heatmap\", \"z\": [[0.7340425531914894, 0.75, 0.7419354838709676], [0.7100371747211895, 0.7579365079365079, 0.7332053742802304], [0.501953125, 0.4240924092409241, 0.4597495527728086], [0.8045267489711934, 0.8602860286028603, 0.8314726209463051], [0.5115384615384615, 0.5066666666666667, 0.509090909090909]], \"y\": [\"exercise\", \"move\", \"relaxed\", \"sleep\", \"stressed\"], \"x\": [\"precision\", \"recall\", \"f1\"], \"colorscale\": [[0.0, \"rgb(165,0,38)\"], [0.1111111111111111, \"rgb(215,48,39)\"], [0.2222222222222222, \"rgb(244,109,67)\"], [0.3333333333333333, \"rgb(253,174,97)\"], [0.4444444444444444, \"rgb(254,224,144)\"], [0.5555555555555556, \"rgb(224,243,248)\"], [0.6666666666666666, \"rgb(171,217,233)\"], [0.7777777777777778, \"rgb(116,173,209)\"], [0.8888888888888888, \"rgb(69,117,180)\"], [1.0, \"rgb(49,54,149)\"]], \"zmin\": 0.5, \"zmax\": 1.0}], {\"title\": \"Precision, Recall, F1-score\", \"font\": {\"size\": 16, \"color\": \"#333333\"}, \"yaxis\": {\"autorange\": \"reversed\"}}, {\"showLink\": true, \"linkText\": \"Export to plot.ly\"})});</script>"
      ]
     },
     "metadata": {},
     "output_type": "display_data"
    },
    {
     "data": {
      "application/vnd.plotly.v1+json": {
       "data": [
        {
         "colorscale": "Reds",
         "type": "heatmap",
         "x": [
          "exercise",
          "move",
          "relaxed",
          "sleep",
          "stressed"
         ],
         "y": [
          "exercise",
          "move",
          "relaxed",
          "sleep",
          "stressed"
         ],
         "z": [
          [
           69,
           23,
           0,
           0,
           0
          ],
          [
           22,
           382,
           62,
           13,
           25
          ],
          [
           0,
           89,
           257,
           94,
           166
          ],
          [
           1,
           10,
           53,
           782,
           63
          ],
          [
           2,
           34,
           140,
           83,
           266
          ]
         ]
        }
       ],
       "layout": {
        "font": {
         "color": "#333333",
         "size": 16
        },
        "title": "Confusion Matrix",
        "xaxis": {
         "title": "predicted",
         "titlefont": {
          "color": "#333333",
          "size": 16
         }
        },
        "yaxis": {
         "autorange": "reversed",
         "title": "true label",
         "titlefont": {
          "color": "#333333",
          "size": 16
         }
        }
       }
      },
      "text/html": [
       "<div id=\"a65c3d1d-3c97-42e8-a622-390c9b515efd\" style=\"height: 525px; width: 100%;\" class=\"plotly-graph-div\"></div><script type=\"text/javascript\">require([\"plotly\"], function(Plotly) { window.PLOTLYENV=window.PLOTLYENV || {};window.PLOTLYENV.BASE_URL=\"https://plot.ly\";Plotly.newPlot(\"a65c3d1d-3c97-42e8-a622-390c9b515efd\", [{\"type\": \"heatmap\", \"z\": [[69, 23, 0, 0, 0], [22, 382, 62, 13, 25], [0, 89, 257, 94, 166], [1, 10, 53, 782, 63], [2, 34, 140, 83, 266]], \"x\": [\"exercise\", \"move\", \"relaxed\", \"sleep\", \"stressed\"], \"y\": [\"exercise\", \"move\", \"relaxed\", \"sleep\", \"stressed\"], \"colorscale\": \"Reds\"}], {\"title\": \"Confusion Matrix\", \"font\": {\"size\": 16, \"color\": \"#333333\"}, \"xaxis\": {\"title\": \"predicted\", \"titlefont\": {\"size\": 16, \"color\": \"#333333\"}}, \"yaxis\": {\"title\": \"true label\", \"titlefont\": {\"size\": 16, \"color\": \"#333333\"}, \"autorange\": \"reversed\"}}, {\"showLink\": true, \"linkText\": \"Export to plot.ly\"})});</script>"
      ],
      "text/vnd.plotly.v1+html": [
       "<div id=\"a65c3d1d-3c97-42e8-a622-390c9b515efd\" style=\"height: 525px; width: 100%;\" class=\"plotly-graph-div\"></div><script type=\"text/javascript\">require([\"plotly\"], function(Plotly) { window.PLOTLYENV=window.PLOTLYENV || {};window.PLOTLYENV.BASE_URL=\"https://plot.ly\";Plotly.newPlot(\"a65c3d1d-3c97-42e8-a622-390c9b515efd\", [{\"type\": \"heatmap\", \"z\": [[69, 23, 0, 0, 0], [22, 382, 62, 13, 25], [0, 89, 257, 94, 166], [1, 10, 53, 782, 63], [2, 34, 140, 83, 266]], \"x\": [\"exercise\", \"move\", \"relaxed\", \"sleep\", \"stressed\"], \"y\": [\"exercise\", \"move\", \"relaxed\", \"sleep\", \"stressed\"], \"colorscale\": \"Reds\"}], {\"title\": \"Confusion Matrix\", \"font\": {\"size\": 16, \"color\": \"#333333\"}, \"xaxis\": {\"title\": \"predicted\", \"titlefont\": {\"size\": 16, \"color\": \"#333333\"}}, \"yaxis\": {\"title\": \"true label\", \"titlefont\": {\"size\": 16, \"color\": \"#333333\"}, \"autorange\": \"reversed\"}}, {\"showLink\": true, \"linkText\": \"Export to plot.ly\"})});</script>"
      ]
     },
     "metadata": {},
     "output_type": "display_data"
    }
   ],
   "source": [
    "#for label in ['gr_active', 'gr_focus1', 'gr_focus2', 'gr_stress1', 'gr_stress2', 'gr_stress3']:\n",
    "for label in ['activity', 'gr_main3', 'gr_main4', 'gr_stress1', 'gr_stress2', 'gr_stress3']:\n",
    "    cmc.plot_matrices(dfr, clf, features, label)"
   ]
  },
  {
   "cell_type": "markdown",
   "metadata": {},
   "source": [
    "## Intrauser classification for user 0"
   ]
  },
  {
   "cell_type": "code",
   "execution_count": 10,
   "metadata": {
    "scrolled": false
   },
   "outputs": [
    {
     "name": "stdout",
     "output_type": "stream",
     "text": [
      "\n",
      "\n",
      "\n",
      "--------------------------------------------- activity ---------------------------------------------\n",
      "activity\n",
      "exercise             333\n",
      "focused-active      1185\n",
      "focused-passive      551\n",
      "household-chores     819\n",
      "leisure              216\n",
      "movement             826\n",
      "rest-active          160\n",
      "rest-passive         131\n",
      "sleep               3312\n",
      "Name: user, dtype: int64\n",
      "6026 1507\n"
     ]
    },
    {
     "data": {
      "application/vnd.plotly.v1+json": {
       "data": [
        {
         "colorscale": [
          [
           0,
           "rgb(165,0,38)"
          ],
          [
           0.1111111111111111,
           "rgb(215,48,39)"
          ],
          [
           0.2222222222222222,
           "rgb(244,109,67)"
          ],
          [
           0.3333333333333333,
           "rgb(253,174,97)"
          ],
          [
           0.4444444444444444,
           "rgb(254,224,144)"
          ],
          [
           0.5555555555555556,
           "rgb(224,243,248)"
          ],
          [
           0.6666666666666666,
           "rgb(171,217,233)"
          ],
          [
           0.7777777777777778,
           "rgb(116,173,209)"
          ],
          [
           0.8888888888888888,
           "rgb(69,117,180)"
          ],
          [
           1,
           "rgb(49,54,149)"
          ]
         ],
         "type": "heatmap",
         "x": [
          "precision",
          "recall",
          "f1"
         ],
         "y": [
          "exercise",
          "focused-active",
          "focused-passive",
          "household-chores",
          "leisure",
          "movement",
          "rest-active",
          "rest-passive",
          "sleep"
         ],
         "z": [
          [
           0.7464788732394366,
           0.6463414634146342,
           0.69281045751634
          ],
          [
           0.4898785425101215,
           0.5,
           0.49488752556237214
          ],
          [
           0.3548387096774194,
           0.22448979591836735,
           0.27499999999999997
          ],
          [
           0.35294117647058826,
           0.47560975609756095,
           0.4051948051948052
          ],
          [
           0,
           0,
           0
          ],
          [
           0.4900990099009901,
           0.5238095238095238,
           0.5063938618925832
          ],
          [
           0,
           0,
           0
          ],
          [
           0,
           0,
           0
          ],
          [
           0.8408104196816208,
           0.9078125,
           0.8730277986476335
          ]
         ],
         "zmax": 1,
         "zmin": 0.5
        }
       ],
       "layout": {
        "font": {
         "color": "#333333",
         "size": 16
        },
        "title": "Precision, Recall, F1-score",
        "yaxis": {
         "autorange": "reversed"
        }
       }
      },
      "text/html": [
       "<div id=\"55891732-9ca7-46af-ae1f-a9afc77d4219\" style=\"height: 525px; width: 100%;\" class=\"plotly-graph-div\"></div><script type=\"text/javascript\">require([\"plotly\"], function(Plotly) { window.PLOTLYENV=window.PLOTLYENV || {};window.PLOTLYENV.BASE_URL=\"https://plot.ly\";Plotly.newPlot(\"55891732-9ca7-46af-ae1f-a9afc77d4219\", [{\"type\": \"heatmap\", \"z\": [[0.7464788732394366, 0.6463414634146342, 0.69281045751634], [0.4898785425101215, 0.5, 0.49488752556237214], [0.3548387096774194, 0.22448979591836735, 0.27499999999999997], [0.35294117647058826, 0.47560975609756095, 0.4051948051948052], [0.0, 0.0, 0.0], [0.4900990099009901, 0.5238095238095238, 0.5063938618925832], [0.0, 0.0, 0.0], [0.0, 0.0, 0.0], [0.8408104196816208, 0.9078125, 0.8730277986476335]], \"y\": [\"exercise\", \"focused-active\", \"focused-passive\", \"household-chores\", \"leisure\", \"movement\", \"rest-active\", \"rest-passive\", \"sleep\"], \"x\": [\"precision\", \"recall\", \"f1\"], \"colorscale\": [[0.0, \"rgb(165,0,38)\"], [0.1111111111111111, \"rgb(215,48,39)\"], [0.2222222222222222, \"rgb(244,109,67)\"], [0.3333333333333333, \"rgb(253,174,97)\"], [0.4444444444444444, \"rgb(254,224,144)\"], [0.5555555555555556, \"rgb(224,243,248)\"], [0.6666666666666666, \"rgb(171,217,233)\"], [0.7777777777777778, \"rgb(116,173,209)\"], [0.8888888888888888, \"rgb(69,117,180)\"], [1.0, \"rgb(49,54,149)\"]], \"zmin\": 0.5, \"zmax\": 1.0}], {\"title\": \"Precision, Recall, F1-score\", \"font\": {\"size\": 16, \"color\": \"#333333\"}, \"yaxis\": {\"autorange\": \"reversed\"}}, {\"showLink\": true, \"linkText\": \"Export to plot.ly\"})});</script>"
      ],
      "text/vnd.plotly.v1+html": [
       "<div id=\"55891732-9ca7-46af-ae1f-a9afc77d4219\" style=\"height: 525px; width: 100%;\" class=\"plotly-graph-div\"></div><script type=\"text/javascript\">require([\"plotly\"], function(Plotly) { window.PLOTLYENV=window.PLOTLYENV || {};window.PLOTLYENV.BASE_URL=\"https://plot.ly\";Plotly.newPlot(\"55891732-9ca7-46af-ae1f-a9afc77d4219\", [{\"type\": \"heatmap\", \"z\": [[0.7464788732394366, 0.6463414634146342, 0.69281045751634], [0.4898785425101215, 0.5, 0.49488752556237214], [0.3548387096774194, 0.22448979591836735, 0.27499999999999997], [0.35294117647058826, 0.47560975609756095, 0.4051948051948052], [0.0, 0.0, 0.0], [0.4900990099009901, 0.5238095238095238, 0.5063938618925832], [0.0, 0.0, 0.0], [0.0, 0.0, 0.0], [0.8408104196816208, 0.9078125, 0.8730277986476335]], \"y\": [\"exercise\", \"focused-active\", \"focused-passive\", \"household-chores\", \"leisure\", \"movement\", \"rest-active\", \"rest-passive\", \"sleep\"], \"x\": [\"precision\", \"recall\", \"f1\"], \"colorscale\": [[0.0, \"rgb(165,0,38)\"], [0.1111111111111111, \"rgb(215,48,39)\"], [0.2222222222222222, \"rgb(244,109,67)\"], [0.3333333333333333, \"rgb(253,174,97)\"], [0.4444444444444444, \"rgb(254,224,144)\"], [0.5555555555555556, \"rgb(224,243,248)\"], [0.6666666666666666, \"rgb(171,217,233)\"], [0.7777777777777778, \"rgb(116,173,209)\"], [0.8888888888888888, \"rgb(69,117,180)\"], [1.0, \"rgb(49,54,149)\"]], \"zmin\": 0.5, \"zmax\": 1.0}], {\"title\": \"Precision, Recall, F1-score\", \"font\": {\"size\": 16, \"color\": \"#333333\"}, \"yaxis\": {\"autorange\": \"reversed\"}}, {\"showLink\": true, \"linkText\": \"Export to plot.ly\"})});</script>"
      ]
     },
     "metadata": {},
     "output_type": "display_data"
    },
    {
     "data": {
      "application/vnd.plotly.v1+json": {
       "data": [
        {
         "colorscale": "Reds",
         "type": "heatmap",
         "x": [
          "exercise",
          "focused-active",
          "focused-passive",
          "household-chores",
          "leisure",
          "movement",
          "rest-active",
          "rest-passive",
          "sleep"
         ],
         "y": [
          "exercise",
          "focused-active",
          "focused-passive",
          "household-chores",
          "leisure",
          "movement",
          "rest-active",
          "rest-passive",
          "sleep"
         ],
         "z": [
          [
           53,
           0,
           0,
           1,
           0,
           26,
           0,
           0,
           2
          ],
          [
           1,
           121,
           18,
           21,
           2,
           12,
           0,
           0,
           67
          ],
          [
           1,
           26,
           22,
           20,
           4,
           4,
           0,
           0,
           21
          ],
          [
           0,
           20,
           10,
           78,
           0,
           47,
           1,
           0,
           8
          ],
          [
           0,
           27,
           3,
           6,
           0,
           0,
           0,
           1,
           3
          ],
          [
           16,
           3,
           0,
           70,
           0,
           99,
           0,
           0,
           1
          ],
          [
           0,
           9,
           1,
           16,
           0,
           2,
           0,
           0,
           5
          ],
          [
           0,
           6,
           1,
           3,
           0,
           6,
           0,
           0,
           3
          ],
          [
           0,
           35,
           7,
           6,
           1,
           6,
           3,
           1,
           581
          ]
         ]
        }
       ],
       "layout": {
        "font": {
         "color": "#333333",
         "size": 16
        },
        "title": "Confusion Matrix",
        "xaxis": {
         "title": "predicted",
         "titlefont": {
          "color": "#333333",
          "size": 16
         }
        },
        "yaxis": {
         "autorange": "reversed",
         "title": "true label",
         "titlefont": {
          "color": "#333333",
          "size": 16
         }
        }
       }
      },
      "text/html": [
       "<div id=\"8ce0c77c-d8e0-4d83-8ddc-aea8ae655351\" style=\"height: 525px; width: 100%;\" class=\"plotly-graph-div\"></div><script type=\"text/javascript\">require([\"plotly\"], function(Plotly) { window.PLOTLYENV=window.PLOTLYENV || {};window.PLOTLYENV.BASE_URL=\"https://plot.ly\";Plotly.newPlot(\"8ce0c77c-d8e0-4d83-8ddc-aea8ae655351\", [{\"type\": \"heatmap\", \"z\": [[53, 0, 0, 1, 0, 26, 0, 0, 2], [1, 121, 18, 21, 2, 12, 0, 0, 67], [1, 26, 22, 20, 4, 4, 0, 0, 21], [0, 20, 10, 78, 0, 47, 1, 0, 8], [0, 27, 3, 6, 0, 0, 0, 1, 3], [16, 3, 0, 70, 0, 99, 0, 0, 1], [0, 9, 1, 16, 0, 2, 0, 0, 5], [0, 6, 1, 3, 0, 6, 0, 0, 3], [0, 35, 7, 6, 1, 6, 3, 1, 581]], \"x\": [\"exercise\", \"focused-active\", \"focused-passive\", \"household-chores\", \"leisure\", \"movement\", \"rest-active\", \"rest-passive\", \"sleep\"], \"y\": [\"exercise\", \"focused-active\", \"focused-passive\", \"household-chores\", \"leisure\", \"movement\", \"rest-active\", \"rest-passive\", \"sleep\"], \"colorscale\": \"Reds\"}], {\"title\": \"Confusion Matrix\", \"font\": {\"size\": 16, \"color\": \"#333333\"}, \"xaxis\": {\"title\": \"predicted\", \"titlefont\": {\"size\": 16, \"color\": \"#333333\"}}, \"yaxis\": {\"title\": \"true label\", \"titlefont\": {\"size\": 16, \"color\": \"#333333\"}, \"autorange\": \"reversed\"}}, {\"showLink\": true, \"linkText\": \"Export to plot.ly\"})});</script>"
      ],
      "text/vnd.plotly.v1+html": [
       "<div id=\"8ce0c77c-d8e0-4d83-8ddc-aea8ae655351\" style=\"height: 525px; width: 100%;\" class=\"plotly-graph-div\"></div><script type=\"text/javascript\">require([\"plotly\"], function(Plotly) { window.PLOTLYENV=window.PLOTLYENV || {};window.PLOTLYENV.BASE_URL=\"https://plot.ly\";Plotly.newPlot(\"8ce0c77c-d8e0-4d83-8ddc-aea8ae655351\", [{\"type\": \"heatmap\", \"z\": [[53, 0, 0, 1, 0, 26, 0, 0, 2], [1, 121, 18, 21, 2, 12, 0, 0, 67], [1, 26, 22, 20, 4, 4, 0, 0, 21], [0, 20, 10, 78, 0, 47, 1, 0, 8], [0, 27, 3, 6, 0, 0, 0, 1, 3], [16, 3, 0, 70, 0, 99, 0, 0, 1], [0, 9, 1, 16, 0, 2, 0, 0, 5], [0, 6, 1, 3, 0, 6, 0, 0, 3], [0, 35, 7, 6, 1, 6, 3, 1, 581]], \"x\": [\"exercise\", \"focused-active\", \"focused-passive\", \"household-chores\", \"leisure\", \"movement\", \"rest-active\", \"rest-passive\", \"sleep\"], \"y\": [\"exercise\", \"focused-active\", \"focused-passive\", \"household-chores\", \"leisure\", \"movement\", \"rest-active\", \"rest-passive\", \"sleep\"], \"colorscale\": \"Reds\"}], {\"title\": \"Confusion Matrix\", \"font\": {\"size\": 16, \"color\": \"#333333\"}, \"xaxis\": {\"title\": \"predicted\", \"titlefont\": {\"size\": 16, \"color\": \"#333333\"}}, \"yaxis\": {\"title\": \"true label\", \"titlefont\": {\"size\": 16, \"color\": \"#333333\"}, \"autorange\": \"reversed\"}}, {\"showLink\": true, \"linkText\": \"Export to plot.ly\"})});</script>"
      ]
     },
     "metadata": {},
     "output_type": "display_data"
    },
    {
     "name": "stdout",
     "output_type": "stream",
     "text": [
      "\n",
      "\n",
      "\n",
      "--------------------------------------------- gr_main3 ---------------------------------------------\n",
      "gr_main3\n",
      "move     1978\n",
      "sleep    3312\n",
      "still    2243\n",
      "Name: user, dtype: int64\n",
      "6026 1507\n"
     ]
    },
    {
     "data": {
      "application/vnd.plotly.v1+json": {
       "data": [
        {
         "colorscale": [
          [
           0,
           "rgb(165,0,38)"
          ],
          [
           0.1111111111111111,
           "rgb(215,48,39)"
          ],
          [
           0.2222222222222222,
           "rgb(244,109,67)"
          ],
          [
           0.3333333333333333,
           "rgb(253,174,97)"
          ],
          [
           0.4444444444444444,
           "rgb(254,224,144)"
          ],
          [
           0.5555555555555556,
           "rgb(224,243,248)"
          ],
          [
           0.6666666666666666,
           "rgb(171,217,233)"
          ],
          [
           0.7777777777777778,
           "rgb(116,173,209)"
          ],
          [
           0.8888888888888888,
           "rgb(69,117,180)"
          ],
          [
           1,
           "rgb(49,54,149)"
          ]
         ],
         "type": "heatmap",
         "x": [
          "precision",
          "recall",
          "f1"
         ],
         "y": [
          "move",
          "sleep",
          "still"
         ],
         "z": [
          [
           0.8149038461538461,
           0.8475,
           0.8308823529411764
          ],
          [
           0.8718330849478391,
           0.8810240963855421,
           0.8764044943820224
          ],
          [
           0.7047619047619048,
           0.6681715575620768,
           0.685979142526072
          ]
         ],
         "zmax": 1,
         "zmin": 0.5
        }
       ],
       "layout": {
        "font": {
         "color": "#333333",
         "size": 16
        },
        "title": "Precision, Recall, F1-score",
        "yaxis": {
         "autorange": "reversed"
        }
       }
      },
      "text/html": [
       "<div id=\"6bb00d31-6b8d-4840-9ee2-b2458620c519\" style=\"height: 525px; width: 100%;\" class=\"plotly-graph-div\"></div><script type=\"text/javascript\">require([\"plotly\"], function(Plotly) { window.PLOTLYENV=window.PLOTLYENV || {};window.PLOTLYENV.BASE_URL=\"https://plot.ly\";Plotly.newPlot(\"6bb00d31-6b8d-4840-9ee2-b2458620c519\", [{\"type\": \"heatmap\", \"z\": [[0.8149038461538461, 0.8475, 0.8308823529411764], [0.8718330849478391, 0.8810240963855421, 0.8764044943820224], [0.7047619047619048, 0.6681715575620768, 0.685979142526072]], \"y\": [\"move\", \"sleep\", \"still\"], \"x\": [\"precision\", \"recall\", \"f1\"], \"colorscale\": [[0.0, \"rgb(165,0,38)\"], [0.1111111111111111, \"rgb(215,48,39)\"], [0.2222222222222222, \"rgb(244,109,67)\"], [0.3333333333333333, \"rgb(253,174,97)\"], [0.4444444444444444, \"rgb(254,224,144)\"], [0.5555555555555556, \"rgb(224,243,248)\"], [0.6666666666666666, \"rgb(171,217,233)\"], [0.7777777777777778, \"rgb(116,173,209)\"], [0.8888888888888888, \"rgb(69,117,180)\"], [1.0, \"rgb(49,54,149)\"]], \"zmin\": 0.5, \"zmax\": 1.0}], {\"title\": \"Precision, Recall, F1-score\", \"font\": {\"size\": 16, \"color\": \"#333333\"}, \"yaxis\": {\"autorange\": \"reversed\"}}, {\"showLink\": true, \"linkText\": \"Export to plot.ly\"})});</script>"
      ],
      "text/vnd.plotly.v1+html": [
       "<div id=\"6bb00d31-6b8d-4840-9ee2-b2458620c519\" style=\"height: 525px; width: 100%;\" class=\"plotly-graph-div\"></div><script type=\"text/javascript\">require([\"plotly\"], function(Plotly) { window.PLOTLYENV=window.PLOTLYENV || {};window.PLOTLYENV.BASE_URL=\"https://plot.ly\";Plotly.newPlot(\"6bb00d31-6b8d-4840-9ee2-b2458620c519\", [{\"type\": \"heatmap\", \"z\": [[0.8149038461538461, 0.8475, 0.8308823529411764], [0.8718330849478391, 0.8810240963855421, 0.8764044943820224], [0.7047619047619048, 0.6681715575620768, 0.685979142526072]], \"y\": [\"move\", \"sleep\", \"still\"], \"x\": [\"precision\", \"recall\", \"f1\"], \"colorscale\": [[0.0, \"rgb(165,0,38)\"], [0.1111111111111111, \"rgb(215,48,39)\"], [0.2222222222222222, \"rgb(244,109,67)\"], [0.3333333333333333, \"rgb(253,174,97)\"], [0.4444444444444444, \"rgb(254,224,144)\"], [0.5555555555555556, \"rgb(224,243,248)\"], [0.6666666666666666, \"rgb(171,217,233)\"], [0.7777777777777778, \"rgb(116,173,209)\"], [0.8888888888888888, \"rgb(69,117,180)\"], [1.0, \"rgb(49,54,149)\"]], \"zmin\": 0.5, \"zmax\": 1.0}], {\"title\": \"Precision, Recall, F1-score\", \"font\": {\"size\": 16, \"color\": \"#333333\"}, \"yaxis\": {\"autorange\": \"reversed\"}}, {\"showLink\": true, \"linkText\": \"Export to plot.ly\"})});</script>"
      ]
     },
     "metadata": {},
     "output_type": "display_data"
    },
    {
     "data": {
      "application/vnd.plotly.v1+json": {
       "data": [
        {
         "colorscale": "Reds",
         "type": "heatmap",
         "x": [
          "move",
          "sleep",
          "still"
         ],
         "y": [
          "move",
          "sleep",
          "still"
         ],
         "z": [
          [
           339,
           5,
           56
          ],
          [
           11,
           585,
           68
          ],
          [
           66,
           81,
           296
          ]
         ]
        }
       ],
       "layout": {
        "font": {
         "color": "#333333",
         "size": 16
        },
        "title": "Confusion Matrix",
        "xaxis": {
         "title": "predicted",
         "titlefont": {
          "color": "#333333",
          "size": 16
         }
        },
        "yaxis": {
         "autorange": "reversed",
         "title": "true label",
         "titlefont": {
          "color": "#333333",
          "size": 16
         }
        }
       }
      },
      "text/html": [
       "<div id=\"aeb02fc5-09a6-4eda-b293-fb5e592cba77\" style=\"height: 525px; width: 100%;\" class=\"plotly-graph-div\"></div><script type=\"text/javascript\">require([\"plotly\"], function(Plotly) { window.PLOTLYENV=window.PLOTLYENV || {};window.PLOTLYENV.BASE_URL=\"https://plot.ly\";Plotly.newPlot(\"aeb02fc5-09a6-4eda-b293-fb5e592cba77\", [{\"type\": \"heatmap\", \"z\": [[339, 5, 56], [11, 585, 68], [66, 81, 296]], \"x\": [\"move\", \"sleep\", \"still\"], \"y\": [\"move\", \"sleep\", \"still\"], \"colorscale\": \"Reds\"}], {\"title\": \"Confusion Matrix\", \"font\": {\"size\": 16, \"color\": \"#333333\"}, \"xaxis\": {\"title\": \"predicted\", \"titlefont\": {\"size\": 16, \"color\": \"#333333\"}}, \"yaxis\": {\"title\": \"true label\", \"titlefont\": {\"size\": 16, \"color\": \"#333333\"}, \"autorange\": \"reversed\"}}, {\"showLink\": true, \"linkText\": \"Export to plot.ly\"})});</script>"
      ],
      "text/vnd.plotly.v1+html": [
       "<div id=\"aeb02fc5-09a6-4eda-b293-fb5e592cba77\" style=\"height: 525px; width: 100%;\" class=\"plotly-graph-div\"></div><script type=\"text/javascript\">require([\"plotly\"], function(Plotly) { window.PLOTLYENV=window.PLOTLYENV || {};window.PLOTLYENV.BASE_URL=\"https://plot.ly\";Plotly.newPlot(\"aeb02fc5-09a6-4eda-b293-fb5e592cba77\", [{\"type\": \"heatmap\", \"z\": [[339, 5, 56], [11, 585, 68], [66, 81, 296]], \"x\": [\"move\", \"sleep\", \"still\"], \"y\": [\"move\", \"sleep\", \"still\"], \"colorscale\": \"Reds\"}], {\"title\": \"Confusion Matrix\", \"font\": {\"size\": 16, \"color\": \"#333333\"}, \"xaxis\": {\"title\": \"predicted\", \"titlefont\": {\"size\": 16, \"color\": \"#333333\"}}, \"yaxis\": {\"title\": \"true label\", \"titlefont\": {\"size\": 16, \"color\": \"#333333\"}, \"autorange\": \"reversed\"}}, {\"showLink\": true, \"linkText\": \"Export to plot.ly\"})});</script>"
      ]
     },
     "metadata": {},
     "output_type": "display_data"
    },
    {
     "name": "stdout",
     "output_type": "stream",
     "text": [
      "\n",
      "\n",
      "\n",
      "--------------------------------------------- gr_main4 ---------------------------------------------\n",
      "gr_main4\n",
      "exercise     333\n",
      "move        1645\n",
      "sleep       3312\n",
      "still       2243\n",
      "Name: user, dtype: int64\n",
      "6026 1507\n"
     ]
    },
    {
     "data": {
      "application/vnd.plotly.v1+json": {
       "data": [
        {
         "colorscale": [
          [
           0,
           "rgb(165,0,38)"
          ],
          [
           0.1111111111111111,
           "rgb(215,48,39)"
          ],
          [
           0.2222222222222222,
           "rgb(244,109,67)"
          ],
          [
           0.3333333333333333,
           "rgb(253,174,97)"
          ],
          [
           0.4444444444444444,
           "rgb(254,224,144)"
          ],
          [
           0.5555555555555556,
           "rgb(224,243,248)"
          ],
          [
           0.6666666666666666,
           "rgb(171,217,233)"
          ],
          [
           0.7777777777777778,
           "rgb(116,173,209)"
          ],
          [
           0.8888888888888888,
           "rgb(69,117,180)"
          ],
          [
           1,
           "rgb(49,54,149)"
          ]
         ],
         "type": "heatmap",
         "x": [
          "precision",
          "recall",
          "f1"
         ],
         "y": [
          "exercise",
          "move",
          "sleep",
          "still"
         ],
         "z": [
          [
           0.7068965517241379,
           0.7192982456140351,
           0.7130434782608696
          ],
          [
           0.7217391304347827,
           0.7879746835443038,
           0.7534039334341907
          ],
          [
           0.8676470588235294,
           0.8912386706948641,
           0.8792846497764532
          ],
          [
           0.7405660377358491,
           0.6652542372881356,
           0.7008928571428571
          ]
         ],
         "zmax": 1,
         "zmin": 0.5
        }
       ],
       "layout": {
        "font": {
         "color": "#333333",
         "size": 16
        },
        "title": "Precision, Recall, F1-score",
        "yaxis": {
         "autorange": "reversed"
        }
       }
      },
      "text/html": [
       "<div id=\"2e4ab20c-c075-4bd0-b9f8-223b740d3ff3\" style=\"height: 525px; width: 100%;\" class=\"plotly-graph-div\"></div><script type=\"text/javascript\">require([\"plotly\"], function(Plotly) { window.PLOTLYENV=window.PLOTLYENV || {};window.PLOTLYENV.BASE_URL=\"https://plot.ly\";Plotly.newPlot(\"2e4ab20c-c075-4bd0-b9f8-223b740d3ff3\", [{\"type\": \"heatmap\", \"z\": [[0.7068965517241379, 0.7192982456140351, 0.7130434782608696], [0.7217391304347827, 0.7879746835443038, 0.7534039334341907], [0.8676470588235294, 0.8912386706948641, 0.8792846497764532], [0.7405660377358491, 0.6652542372881356, 0.7008928571428571]], \"y\": [\"exercise\", \"move\", \"sleep\", \"still\"], \"x\": [\"precision\", \"recall\", \"f1\"], \"colorscale\": [[0.0, \"rgb(165,0,38)\"], [0.1111111111111111, \"rgb(215,48,39)\"], [0.2222222222222222, \"rgb(244,109,67)\"], [0.3333333333333333, \"rgb(253,174,97)\"], [0.4444444444444444, \"rgb(254,224,144)\"], [0.5555555555555556, \"rgb(224,243,248)\"], [0.6666666666666666, \"rgb(171,217,233)\"], [0.7777777777777778, \"rgb(116,173,209)\"], [0.8888888888888888, \"rgb(69,117,180)\"], [1.0, \"rgb(49,54,149)\"]], \"zmin\": 0.5, \"zmax\": 1.0}], {\"title\": \"Precision, Recall, F1-score\", \"font\": {\"size\": 16, \"color\": \"#333333\"}, \"yaxis\": {\"autorange\": \"reversed\"}}, {\"showLink\": true, \"linkText\": \"Export to plot.ly\"})});</script>"
      ],
      "text/vnd.plotly.v1+html": [
       "<div id=\"2e4ab20c-c075-4bd0-b9f8-223b740d3ff3\" style=\"height: 525px; width: 100%;\" class=\"plotly-graph-div\"></div><script type=\"text/javascript\">require([\"plotly\"], function(Plotly) { window.PLOTLYENV=window.PLOTLYENV || {};window.PLOTLYENV.BASE_URL=\"https://plot.ly\";Plotly.newPlot(\"2e4ab20c-c075-4bd0-b9f8-223b740d3ff3\", [{\"type\": \"heatmap\", \"z\": [[0.7068965517241379, 0.7192982456140351, 0.7130434782608696], [0.7217391304347827, 0.7879746835443038, 0.7534039334341907], [0.8676470588235294, 0.8912386706948641, 0.8792846497764532], [0.7405660377358491, 0.6652542372881356, 0.7008928571428571]], \"y\": [\"exercise\", \"move\", \"sleep\", \"still\"], \"x\": [\"precision\", \"recall\", \"f1\"], \"colorscale\": [[0.0, \"rgb(165,0,38)\"], [0.1111111111111111, \"rgb(215,48,39)\"], [0.2222222222222222, \"rgb(244,109,67)\"], [0.3333333333333333, \"rgb(253,174,97)\"], [0.4444444444444444, \"rgb(254,224,144)\"], [0.5555555555555556, \"rgb(224,243,248)\"], [0.6666666666666666, \"rgb(171,217,233)\"], [0.7777777777777778, \"rgb(116,173,209)\"], [0.8888888888888888, \"rgb(69,117,180)\"], [1.0, \"rgb(49,54,149)\"]], \"zmin\": 0.5, \"zmax\": 1.0}], {\"title\": \"Precision, Recall, F1-score\", \"font\": {\"size\": 16, \"color\": \"#333333\"}, \"yaxis\": {\"autorange\": \"reversed\"}}, {\"showLink\": true, \"linkText\": \"Export to plot.ly\"})});</script>"
      ]
     },
     "metadata": {},
     "output_type": "display_data"
    },
    {
     "data": {
      "application/vnd.plotly.v1+json": {
       "data": [
        {
         "colorscale": "Reds",
         "type": "heatmap",
         "x": [
          "exercise",
          "move",
          "sleep",
          "still"
         ],
         "y": [
          "exercise",
          "move",
          "sleep",
          "still"
         ],
         "z": [
          [
           41,
           16,
           0,
           0
          ],
          [
           17,
           249,
           3,
           47
          ],
          [
           0,
           9,
           590,
           63
          ],
          [
           0,
           71,
           87,
           314
          ]
         ]
        }
       ],
       "layout": {
        "font": {
         "color": "#333333",
         "size": 16
        },
        "title": "Confusion Matrix",
        "xaxis": {
         "title": "predicted",
         "titlefont": {
          "color": "#333333",
          "size": 16
         }
        },
        "yaxis": {
         "autorange": "reversed",
         "title": "true label",
         "titlefont": {
          "color": "#333333",
          "size": 16
         }
        }
       }
      },
      "text/html": [
       "<div id=\"87074e2d-4bc3-42a7-b70d-6e00e779eafd\" style=\"height: 525px; width: 100%;\" class=\"plotly-graph-div\"></div><script type=\"text/javascript\">require([\"plotly\"], function(Plotly) { window.PLOTLYENV=window.PLOTLYENV || {};window.PLOTLYENV.BASE_URL=\"https://plot.ly\";Plotly.newPlot(\"87074e2d-4bc3-42a7-b70d-6e00e779eafd\", [{\"type\": \"heatmap\", \"z\": [[41, 16, 0, 0], [17, 249, 3, 47], [0, 9, 590, 63], [0, 71, 87, 314]], \"x\": [\"exercise\", \"move\", \"sleep\", \"still\"], \"y\": [\"exercise\", \"move\", \"sleep\", \"still\"], \"colorscale\": \"Reds\"}], {\"title\": \"Confusion Matrix\", \"font\": {\"size\": 16, \"color\": \"#333333\"}, \"xaxis\": {\"title\": \"predicted\", \"titlefont\": {\"size\": 16, \"color\": \"#333333\"}}, \"yaxis\": {\"title\": \"true label\", \"titlefont\": {\"size\": 16, \"color\": \"#333333\"}, \"autorange\": \"reversed\"}}, {\"showLink\": true, \"linkText\": \"Export to plot.ly\"})});</script>"
      ],
      "text/vnd.plotly.v1+html": [
       "<div id=\"87074e2d-4bc3-42a7-b70d-6e00e779eafd\" style=\"height: 525px; width: 100%;\" class=\"plotly-graph-div\"></div><script type=\"text/javascript\">require([\"plotly\"], function(Plotly) { window.PLOTLYENV=window.PLOTLYENV || {};window.PLOTLYENV.BASE_URL=\"https://plot.ly\";Plotly.newPlot(\"87074e2d-4bc3-42a7-b70d-6e00e779eafd\", [{\"type\": \"heatmap\", \"z\": [[41, 16, 0, 0], [17, 249, 3, 47], [0, 9, 590, 63], [0, 71, 87, 314]], \"x\": [\"exercise\", \"move\", \"sleep\", \"still\"], \"y\": [\"exercise\", \"move\", \"sleep\", \"still\"], \"colorscale\": \"Reds\"}], {\"title\": \"Confusion Matrix\", \"font\": {\"size\": 16, \"color\": \"#333333\"}, \"xaxis\": {\"title\": \"predicted\", \"titlefont\": {\"size\": 16, \"color\": \"#333333\"}}, \"yaxis\": {\"title\": \"true label\", \"titlefont\": {\"size\": 16, \"color\": \"#333333\"}, \"autorange\": \"reversed\"}}, {\"showLink\": true, \"linkText\": \"Export to plot.ly\"})});</script>"
      ]
     },
     "metadata": {},
     "output_type": "display_data"
    },
    {
     "name": "stdout",
     "output_type": "stream",
     "text": [
      "\n",
      "\n",
      "\n",
      "--------------------------------------------- gr_stress1 ---------------------------------------------\n",
      "gr_stress1\n",
      "exercise     333\n",
      "move        1645\n",
      "relaxed      347\n",
      "sleep       3312\n",
      "stressed    1896\n",
      "Name: user, dtype: int64\n",
      "6026 1507\n"
     ]
    },
    {
     "data": {
      "application/vnd.plotly.v1+json": {
       "data": [
        {
         "colorscale": [
          [
           0,
           "rgb(165,0,38)"
          ],
          [
           0.1111111111111111,
           "rgb(215,48,39)"
          ],
          [
           0.2222222222222222,
           "rgb(244,109,67)"
          ],
          [
           0.3333333333333333,
           "rgb(253,174,97)"
          ],
          [
           0.4444444444444444,
           "rgb(254,224,144)"
          ],
          [
           0.5555555555555556,
           "rgb(224,243,248)"
          ],
          [
           0.6666666666666666,
           "rgb(171,217,233)"
          ],
          [
           0.7777777777777778,
           "rgb(116,173,209)"
          ],
          [
           0.8888888888888888,
           "rgb(69,117,180)"
          ],
          [
           1,
           "rgb(49,54,149)"
          ]
         ],
         "type": "heatmap",
         "x": [
          "precision",
          "recall",
          "f1"
         ],
         "y": [
          "exercise",
          "move",
          "relaxed",
          "sleep",
          "stressed"
         ],
         "z": [
          [
           0.74,
           0.6851851851851852,
           0.7115384615384615
          ],
          [
           0.7368421052631579,
           0.8187134502923976,
           0.7756232686980609
          ],
          [
           0.16666666666666666,
           0.03225806451612903,
           0.05405405405405405
          ],
          [
           0.8827785817655571,
           0.8997050147492626,
           0.8911614317019723
          ],
          [
           0.6283422459893048,
           0.633423180592992,
           0.6308724832214766
          ]
         ],
         "zmax": 1,
         "zmin": 0.5
        }
       ],
       "layout": {
        "font": {
         "color": "#333333",
         "size": 16
        },
        "title": "Precision, Recall, F1-score",
        "yaxis": {
         "autorange": "reversed"
        }
       }
      },
      "text/html": [
       "<div id=\"3916b700-8871-44f0-87ec-2b3a8afb2e9d\" style=\"height: 525px; width: 100%;\" class=\"plotly-graph-div\"></div><script type=\"text/javascript\">require([\"plotly\"], function(Plotly) { window.PLOTLYENV=window.PLOTLYENV || {};window.PLOTLYENV.BASE_URL=\"https://plot.ly\";Plotly.newPlot(\"3916b700-8871-44f0-87ec-2b3a8afb2e9d\", [{\"type\": \"heatmap\", \"z\": [[0.74, 0.6851851851851852, 0.7115384615384615], [0.7368421052631579, 0.8187134502923976, 0.7756232686980609], [0.16666666666666666, 0.03225806451612903, 0.05405405405405405], [0.8827785817655571, 0.8997050147492626, 0.8911614317019723], [0.6283422459893048, 0.633423180592992, 0.6308724832214766]], \"y\": [\"exercise\", \"move\", \"relaxed\", \"sleep\", \"stressed\"], \"x\": [\"precision\", \"recall\", \"f1\"], \"colorscale\": [[0.0, \"rgb(165,0,38)\"], [0.1111111111111111, \"rgb(215,48,39)\"], [0.2222222222222222, \"rgb(244,109,67)\"], [0.3333333333333333, \"rgb(253,174,97)\"], [0.4444444444444444, \"rgb(254,224,144)\"], [0.5555555555555556, \"rgb(224,243,248)\"], [0.6666666666666666, \"rgb(171,217,233)\"], [0.7777777777777778, \"rgb(116,173,209)\"], [0.8888888888888888, \"rgb(69,117,180)\"], [1.0, \"rgb(49,54,149)\"]], \"zmin\": 0.5, \"zmax\": 1.0}], {\"title\": \"Precision, Recall, F1-score\", \"font\": {\"size\": 16, \"color\": \"#333333\"}, \"yaxis\": {\"autorange\": \"reversed\"}}, {\"showLink\": true, \"linkText\": \"Export to plot.ly\"})});</script>"
      ],
      "text/vnd.plotly.v1+html": [
       "<div id=\"3916b700-8871-44f0-87ec-2b3a8afb2e9d\" style=\"height: 525px; width: 100%;\" class=\"plotly-graph-div\"></div><script type=\"text/javascript\">require([\"plotly\"], function(Plotly) { window.PLOTLYENV=window.PLOTLYENV || {};window.PLOTLYENV.BASE_URL=\"https://plot.ly\";Plotly.newPlot(\"3916b700-8871-44f0-87ec-2b3a8afb2e9d\", [{\"type\": \"heatmap\", \"z\": [[0.74, 0.6851851851851852, 0.7115384615384615], [0.7368421052631579, 0.8187134502923976, 0.7756232686980609], [0.16666666666666666, 0.03225806451612903, 0.05405405405405405], [0.8827785817655571, 0.8997050147492626, 0.8911614317019723], [0.6283422459893048, 0.633423180592992, 0.6308724832214766]], \"y\": [\"exercise\", \"move\", \"relaxed\", \"sleep\", \"stressed\"], \"x\": [\"precision\", \"recall\", \"f1\"], \"colorscale\": [[0.0, \"rgb(165,0,38)\"], [0.1111111111111111, \"rgb(215,48,39)\"], [0.2222222222222222, \"rgb(244,109,67)\"], [0.3333333333333333, \"rgb(253,174,97)\"], [0.4444444444444444, \"rgb(254,224,144)\"], [0.5555555555555556, \"rgb(224,243,248)\"], [0.6666666666666666, \"rgb(171,217,233)\"], [0.7777777777777778, \"rgb(116,173,209)\"], [0.8888888888888888, \"rgb(69,117,180)\"], [1.0, \"rgb(49,54,149)\"]], \"zmin\": 0.5, \"zmax\": 1.0}], {\"title\": \"Precision, Recall, F1-score\", \"font\": {\"size\": 16, \"color\": \"#333333\"}, \"yaxis\": {\"autorange\": \"reversed\"}}, {\"showLink\": true, \"linkText\": \"Export to plot.ly\"})});</script>"
      ]
     },
     "metadata": {},
     "output_type": "display_data"
    },
    {
     "data": {
      "application/vnd.plotly.v1+json": {
       "data": [
        {
         "colorscale": "Reds",
         "type": "heatmap",
         "x": [
          "exercise",
          "move",
          "relaxed",
          "sleep",
          "stressed"
         ],
         "y": [
          "exercise",
          "move",
          "relaxed",
          "sleep",
          "stressed"
         ],
         "z": [
          [
           37,
           17,
           0,
           0,
           0
          ],
          [
           13,
           280,
           1,
           4,
           44
          ],
          [
           0,
           14,
           2,
           8,
           38
          ],
          [
           0,
           10,
           1,
           610,
           57
          ],
          [
           0,
           59,
           8,
           69,
           235
          ]
         ]
        }
       ],
       "layout": {
        "font": {
         "color": "#333333",
         "size": 16
        },
        "title": "Confusion Matrix",
        "xaxis": {
         "title": "predicted",
         "titlefont": {
          "color": "#333333",
          "size": 16
         }
        },
        "yaxis": {
         "autorange": "reversed",
         "title": "true label",
         "titlefont": {
          "color": "#333333",
          "size": 16
         }
        }
       }
      },
      "text/html": [
       "<div id=\"1a0bcbcc-1d07-472e-93b2-ae349447353c\" style=\"height: 525px; width: 100%;\" class=\"plotly-graph-div\"></div><script type=\"text/javascript\">require([\"plotly\"], function(Plotly) { window.PLOTLYENV=window.PLOTLYENV || {};window.PLOTLYENV.BASE_URL=\"https://plot.ly\";Plotly.newPlot(\"1a0bcbcc-1d07-472e-93b2-ae349447353c\", [{\"type\": \"heatmap\", \"z\": [[37, 17, 0, 0, 0], [13, 280, 1, 4, 44], [0, 14, 2, 8, 38], [0, 10, 1, 610, 57], [0, 59, 8, 69, 235]], \"x\": [\"exercise\", \"move\", \"relaxed\", \"sleep\", \"stressed\"], \"y\": [\"exercise\", \"move\", \"relaxed\", \"sleep\", \"stressed\"], \"colorscale\": \"Reds\"}], {\"title\": \"Confusion Matrix\", \"font\": {\"size\": 16, \"color\": \"#333333\"}, \"xaxis\": {\"title\": \"predicted\", \"titlefont\": {\"size\": 16, \"color\": \"#333333\"}}, \"yaxis\": {\"title\": \"true label\", \"titlefont\": {\"size\": 16, \"color\": \"#333333\"}, \"autorange\": \"reversed\"}}, {\"showLink\": true, \"linkText\": \"Export to plot.ly\"})});</script>"
      ],
      "text/vnd.plotly.v1+html": [
       "<div id=\"1a0bcbcc-1d07-472e-93b2-ae349447353c\" style=\"height: 525px; width: 100%;\" class=\"plotly-graph-div\"></div><script type=\"text/javascript\">require([\"plotly\"], function(Plotly) { window.PLOTLYENV=window.PLOTLYENV || {};window.PLOTLYENV.BASE_URL=\"https://plot.ly\";Plotly.newPlot(\"1a0bcbcc-1d07-472e-93b2-ae349447353c\", [{\"type\": \"heatmap\", \"z\": [[37, 17, 0, 0, 0], [13, 280, 1, 4, 44], [0, 14, 2, 8, 38], [0, 10, 1, 610, 57], [0, 59, 8, 69, 235]], \"x\": [\"exercise\", \"move\", \"relaxed\", \"sleep\", \"stressed\"], \"y\": [\"exercise\", \"move\", \"relaxed\", \"sleep\", \"stressed\"], \"colorscale\": \"Reds\"}], {\"title\": \"Confusion Matrix\", \"font\": {\"size\": 16, \"color\": \"#333333\"}, \"xaxis\": {\"title\": \"predicted\", \"titlefont\": {\"size\": 16, \"color\": \"#333333\"}}, \"yaxis\": {\"title\": \"true label\", \"titlefont\": {\"size\": 16, \"color\": \"#333333\"}, \"autorange\": \"reversed\"}}, {\"showLink\": true, \"linkText\": \"Export to plot.ly\"})});</script>"
      ]
     },
     "metadata": {},
     "output_type": "display_data"
    },
    {
     "name": "stdout",
     "output_type": "stream",
     "text": [
      "\n",
      "\n",
      "\n",
      "--------------------------------------------- posture ---------------------------------------------\n",
      "posture\n",
      "lie      3347\n",
      "sit      2375\n",
      "stand    1811\n",
      "Name: user, dtype: int64\n",
      "6026 1507\n"
     ]
    },
    {
     "data": {
      "application/vnd.plotly.v1+json": {
       "data": [
        {
         "colorscale": [
          [
           0,
           "rgb(165,0,38)"
          ],
          [
           0.1111111111111111,
           "rgb(215,48,39)"
          ],
          [
           0.2222222222222222,
           "rgb(244,109,67)"
          ],
          [
           0.3333333333333333,
           "rgb(253,174,97)"
          ],
          [
           0.4444444444444444,
           "rgb(254,224,144)"
          ],
          [
           0.5555555555555556,
           "rgb(224,243,248)"
          ],
          [
           0.6666666666666666,
           "rgb(171,217,233)"
          ],
          [
           0.7777777777777778,
           "rgb(116,173,209)"
          ],
          [
           0.8888888888888888,
           "rgb(69,117,180)"
          ],
          [
           1,
           "rgb(49,54,149)"
          ]
         ],
         "type": "heatmap",
         "x": [
          "precision",
          "recall",
          "f1"
         ],
         "y": [
          "lie",
          "sit",
          "stand"
         ],
         "z": [
          [
           0.9227202472952086,
           0.868995633187773,
           0.8950524737631185
          ],
          [
           0.6843267108167771,
           0.6935123042505593,
           0.6888888888888889
          ],
          [
           0.742014742014742,
           0.8096514745308311,
           0.7743589743589744
          ]
         ],
         "zmax": 1,
         "zmin": 0.5
        }
       ],
       "layout": {
        "font": {
         "color": "#333333",
         "size": 16
        },
        "title": "Precision, Recall, F1-score",
        "yaxis": {
         "autorange": "reversed"
        }
       }
      },
      "text/html": [
       "<div id=\"e4031561-3e9d-4d69-844a-3d9273bc6b5f\" style=\"height: 525px; width: 100%;\" class=\"plotly-graph-div\"></div><script type=\"text/javascript\">require([\"plotly\"], function(Plotly) { window.PLOTLYENV=window.PLOTLYENV || {};window.PLOTLYENV.BASE_URL=\"https://plot.ly\";Plotly.newPlot(\"e4031561-3e9d-4d69-844a-3d9273bc6b5f\", [{\"type\": \"heatmap\", \"z\": [[0.9227202472952086, 0.868995633187773, 0.8950524737631185], [0.6843267108167771, 0.6935123042505593, 0.6888888888888889], [0.742014742014742, 0.8096514745308311, 0.7743589743589744]], \"y\": [\"lie\", \"sit\", \"stand\"], \"x\": [\"precision\", \"recall\", \"f1\"], \"colorscale\": [[0.0, \"rgb(165,0,38)\"], [0.1111111111111111, \"rgb(215,48,39)\"], [0.2222222222222222, \"rgb(244,109,67)\"], [0.3333333333333333, \"rgb(253,174,97)\"], [0.4444444444444444, \"rgb(254,224,144)\"], [0.5555555555555556, \"rgb(224,243,248)\"], [0.6666666666666666, \"rgb(171,217,233)\"], [0.7777777777777778, \"rgb(116,173,209)\"], [0.8888888888888888, \"rgb(69,117,180)\"], [1.0, \"rgb(49,54,149)\"]], \"zmin\": 0.5, \"zmax\": 1.0}], {\"title\": \"Precision, Recall, F1-score\", \"font\": {\"size\": 16, \"color\": \"#333333\"}, \"yaxis\": {\"autorange\": \"reversed\"}}, {\"showLink\": true, \"linkText\": \"Export to plot.ly\"})});</script>"
      ],
      "text/vnd.plotly.v1+html": [
       "<div id=\"e4031561-3e9d-4d69-844a-3d9273bc6b5f\" style=\"height: 525px; width: 100%;\" class=\"plotly-graph-div\"></div><script type=\"text/javascript\">require([\"plotly\"], function(Plotly) { window.PLOTLYENV=window.PLOTLYENV || {};window.PLOTLYENV.BASE_URL=\"https://plot.ly\";Plotly.newPlot(\"e4031561-3e9d-4d69-844a-3d9273bc6b5f\", [{\"type\": \"heatmap\", \"z\": [[0.9227202472952086, 0.868995633187773, 0.8950524737631185], [0.6843267108167771, 0.6935123042505593, 0.6888888888888889], [0.742014742014742, 0.8096514745308311, 0.7743589743589744]], \"y\": [\"lie\", \"sit\", \"stand\"], \"x\": [\"precision\", \"recall\", \"f1\"], \"colorscale\": [[0.0, \"rgb(165,0,38)\"], [0.1111111111111111, \"rgb(215,48,39)\"], [0.2222222222222222, \"rgb(244,109,67)\"], [0.3333333333333333, \"rgb(253,174,97)\"], [0.4444444444444444, \"rgb(254,224,144)\"], [0.5555555555555556, \"rgb(224,243,248)\"], [0.6666666666666666, \"rgb(171,217,233)\"], [0.7777777777777778, \"rgb(116,173,209)\"], [0.8888888888888888, \"rgb(69,117,180)\"], [1.0, \"rgb(49,54,149)\"]], \"zmin\": 0.5, \"zmax\": 1.0}], {\"title\": \"Precision, Recall, F1-score\", \"font\": {\"size\": 16, \"color\": \"#333333\"}, \"yaxis\": {\"autorange\": \"reversed\"}}, {\"showLink\": true, \"linkText\": \"Export to plot.ly\"})});</script>"
      ]
     },
     "metadata": {},
     "output_type": "display_data"
    },
    {
     "data": {
      "application/vnd.plotly.v1+json": {
       "data": [
        {
         "colorscale": "Reds",
         "type": "heatmap",
         "x": [
          "lie",
          "sit",
          "stand"
         ],
         "y": [
          "lie",
          "sit",
          "stand"
         ],
         "z": [
          [
           597,
           74,
           16
          ],
          [
           48,
           310,
           89
          ],
          [
           2,
           69,
           302
          ]
         ]
        }
       ],
       "layout": {
        "font": {
         "color": "#333333",
         "size": 16
        },
        "title": "Confusion Matrix",
        "xaxis": {
         "title": "predicted",
         "titlefont": {
          "color": "#333333",
          "size": 16
         }
        },
        "yaxis": {
         "autorange": "reversed",
         "title": "true label",
         "titlefont": {
          "color": "#333333",
          "size": 16
         }
        }
       }
      },
      "text/html": [
       "<div id=\"bfe44e8a-fb57-4126-8895-8aa3343665fe\" style=\"height: 525px; width: 100%;\" class=\"plotly-graph-div\"></div><script type=\"text/javascript\">require([\"plotly\"], function(Plotly) { window.PLOTLYENV=window.PLOTLYENV || {};window.PLOTLYENV.BASE_URL=\"https://plot.ly\";Plotly.newPlot(\"bfe44e8a-fb57-4126-8895-8aa3343665fe\", [{\"type\": \"heatmap\", \"z\": [[597, 74, 16], [48, 310, 89], [2, 69, 302]], \"x\": [\"lie\", \"sit\", \"stand\"], \"y\": [\"lie\", \"sit\", \"stand\"], \"colorscale\": \"Reds\"}], {\"title\": \"Confusion Matrix\", \"font\": {\"size\": 16, \"color\": \"#333333\"}, \"xaxis\": {\"title\": \"predicted\", \"titlefont\": {\"size\": 16, \"color\": \"#333333\"}}, \"yaxis\": {\"title\": \"true label\", \"titlefont\": {\"size\": 16, \"color\": \"#333333\"}, \"autorange\": \"reversed\"}}, {\"showLink\": true, \"linkText\": \"Export to plot.ly\"})});</script>"
      ],
      "text/vnd.plotly.v1+html": [
       "<div id=\"bfe44e8a-fb57-4126-8895-8aa3343665fe\" style=\"height: 525px; width: 100%;\" class=\"plotly-graph-div\"></div><script type=\"text/javascript\">require([\"plotly\"], function(Plotly) { window.PLOTLYENV=window.PLOTLYENV || {};window.PLOTLYENV.BASE_URL=\"https://plot.ly\";Plotly.newPlot(\"bfe44e8a-fb57-4126-8895-8aa3343665fe\", [{\"type\": \"heatmap\", \"z\": [[597, 74, 16], [48, 310, 89], [2, 69, 302]], \"x\": [\"lie\", \"sit\", \"stand\"], \"y\": [\"lie\", \"sit\", \"stand\"], \"colorscale\": \"Reds\"}], {\"title\": \"Confusion Matrix\", \"font\": {\"size\": 16, \"color\": \"#333333\"}, \"xaxis\": {\"title\": \"predicted\", \"titlefont\": {\"size\": 16, \"color\": \"#333333\"}}, \"yaxis\": {\"title\": \"true label\", \"titlefont\": {\"size\": 16, \"color\": \"#333333\"}, \"autorange\": \"reversed\"}}, {\"showLink\": true, \"linkText\": \"Export to plot.ly\"})});</script>"
      ]
     },
     "metadata": {},
     "output_type": "display_data"
    }
   ],
   "source": [
    "dfu = dfr[dfr['user']==0]\n",
    "for label in ['activity', 'gr_main3', 'gr_main4', 'gr_stress1', 'posture']:\n",
    "    cmc.plot_matrices(dfu, clf, features, label)\n",
    "    "
   ]
  },
  {
   "cell_type": "markdown",
   "metadata": {},
   "source": [
    "## Intrauser classification for user 1"
   ]
  },
  {
   "cell_type": "code",
   "execution_count": 11,
   "metadata": {
    "scrolled": false
   },
   "outputs": [
    {
     "name": "stdout",
     "output_type": "stream",
     "text": [
      "\n",
      "\n",
      "\n",
      "--------------------------------------------- activity ---------------------------------------------\n",
      "activity\n",
      "eat                  46\n",
      "exercise             99\n",
      "focused-active      710\n",
      "focused-passive     156\n",
      "household-chores     15\n",
      "leisure             374\n",
      "movement             71\n",
      "rest-active          25\n",
      "rest-passive         43\n",
      "sleep               279\n",
      "Name: user, dtype: int64\n",
      "1454 364\n"
     ]
    },
    {
     "name": "stderr",
     "output_type": "stream",
     "text": [
      "C:\\Users\\Ju\\Anaconda3\\lib\\site-packages\\sklearn\\metrics\\classification.py:1135: UndefinedMetricWarning:\n",
      "\n",
      "Precision and F-score are ill-defined and being set to 0.0 in labels with no predicted samples.\n",
      "\n"
     ]
    },
    {
     "data": {
      "application/vnd.plotly.v1+json": {
       "data": [
        {
         "colorscale": [
          [
           0,
           "rgb(165,0,38)"
          ],
          [
           0.1111111111111111,
           "rgb(215,48,39)"
          ],
          [
           0.2222222222222222,
           "rgb(244,109,67)"
          ],
          [
           0.3333333333333333,
           "rgb(253,174,97)"
          ],
          [
           0.4444444444444444,
           "rgb(254,224,144)"
          ],
          [
           0.5555555555555556,
           "rgb(224,243,248)"
          ],
          [
           0.6666666666666666,
           "rgb(171,217,233)"
          ],
          [
           0.7777777777777778,
           "rgb(116,173,209)"
          ],
          [
           0.8888888888888888,
           "rgb(69,117,180)"
          ],
          [
           1,
           "rgb(49,54,149)"
          ]
         ],
         "type": "heatmap",
         "x": [
          "precision",
          "recall",
          "f1"
         ],
         "y": [
          "eat",
          "exercise",
          "focused-active",
          "focused-passive",
          "household-chores",
          "leisure",
          "movement",
          "rest-active",
          "rest-passive",
          "sleep"
         ],
         "z": [
          [
           0.6666666666666666,
           0.18181818181818182,
           0.28571428571428575
          ],
          [
           1,
           0.9090909090909091,
           0.9523809523809523
          ],
          [
           0.6934673366834171,
           0.8679245283018868,
           0.7709497206703911
          ],
          [
           0.30434782608695654,
           0.22580645161290322,
           0.25925925925925924
          ],
          [
           1,
           0.6666666666666666,
           0.8
          ],
          [
           0.42592592592592593,
           0.36507936507936506,
           0.39316239316239315
          ],
          [
           0.8333333333333334,
           0.6666666666666666,
           0.7407407407407408
          ],
          [
           0,
           0,
           0
          ],
          [
           0,
           0,
           0
          ],
          [
           0.9215686274509803,
           0.9591836734693877,
           0.9400000000000001
          ]
         ],
         "zmax": 1,
         "zmin": 0.5
        }
       ],
       "layout": {
        "font": {
         "color": "#333333",
         "size": 16
        },
        "title": "Precision, Recall, F1-score",
        "yaxis": {
         "autorange": "reversed"
        }
       }
      },
      "text/html": [
       "<div id=\"4bed02c0-94b4-438d-a6dd-12c5247fba2b\" style=\"height: 525px; width: 100%;\" class=\"plotly-graph-div\"></div><script type=\"text/javascript\">require([\"plotly\"], function(Plotly) { window.PLOTLYENV=window.PLOTLYENV || {};window.PLOTLYENV.BASE_URL=\"https://plot.ly\";Plotly.newPlot(\"4bed02c0-94b4-438d-a6dd-12c5247fba2b\", [{\"type\": \"heatmap\", \"z\": [[0.6666666666666666, 0.18181818181818182, 0.28571428571428575], [1.0, 0.9090909090909091, 0.9523809523809523], [0.6934673366834171, 0.8679245283018868, 0.7709497206703911], [0.30434782608695654, 0.22580645161290322, 0.25925925925925924], [1.0, 0.6666666666666666, 0.8], [0.42592592592592593, 0.36507936507936506, 0.39316239316239315], [0.8333333333333334, 0.6666666666666666, 0.7407407407407408], [0.0, 0.0, 0.0], [0.0, 0.0, 0.0], [0.9215686274509803, 0.9591836734693877, 0.9400000000000001]], \"y\": [\"eat\", \"exercise\", \"focused-active\", \"focused-passive\", \"household-chores\", \"leisure\", \"movement\", \"rest-active\", \"rest-passive\", \"sleep\"], \"x\": [\"precision\", \"recall\", \"f1\"], \"colorscale\": [[0.0, \"rgb(165,0,38)\"], [0.1111111111111111, \"rgb(215,48,39)\"], [0.2222222222222222, \"rgb(244,109,67)\"], [0.3333333333333333, \"rgb(253,174,97)\"], [0.4444444444444444, \"rgb(254,224,144)\"], [0.5555555555555556, \"rgb(224,243,248)\"], [0.6666666666666666, \"rgb(171,217,233)\"], [0.7777777777777778, \"rgb(116,173,209)\"], [0.8888888888888888, \"rgb(69,117,180)\"], [1.0, \"rgb(49,54,149)\"]], \"zmin\": 0.5, \"zmax\": 1.0}], {\"title\": \"Precision, Recall, F1-score\", \"font\": {\"size\": 16, \"color\": \"#333333\"}, \"yaxis\": {\"autorange\": \"reversed\"}}, {\"showLink\": true, \"linkText\": \"Export to plot.ly\"})});</script>"
      ],
      "text/vnd.plotly.v1+html": [
       "<div id=\"4bed02c0-94b4-438d-a6dd-12c5247fba2b\" style=\"height: 525px; width: 100%;\" class=\"plotly-graph-div\"></div><script type=\"text/javascript\">require([\"plotly\"], function(Plotly) { window.PLOTLYENV=window.PLOTLYENV || {};window.PLOTLYENV.BASE_URL=\"https://plot.ly\";Plotly.newPlot(\"4bed02c0-94b4-438d-a6dd-12c5247fba2b\", [{\"type\": \"heatmap\", \"z\": [[0.6666666666666666, 0.18181818181818182, 0.28571428571428575], [1.0, 0.9090909090909091, 0.9523809523809523], [0.6934673366834171, 0.8679245283018868, 0.7709497206703911], [0.30434782608695654, 0.22580645161290322, 0.25925925925925924], [1.0, 0.6666666666666666, 0.8], [0.42592592592592593, 0.36507936507936506, 0.39316239316239315], [0.8333333333333334, 0.6666666666666666, 0.7407407407407408], [0.0, 0.0, 0.0], [0.0, 0.0, 0.0], [0.9215686274509803, 0.9591836734693877, 0.9400000000000001]], \"y\": [\"eat\", \"exercise\", \"focused-active\", \"focused-passive\", \"household-chores\", \"leisure\", \"movement\", \"rest-active\", \"rest-passive\", \"sleep\"], \"x\": [\"precision\", \"recall\", \"f1\"], \"colorscale\": [[0.0, \"rgb(165,0,38)\"], [0.1111111111111111, \"rgb(215,48,39)\"], [0.2222222222222222, \"rgb(244,109,67)\"], [0.3333333333333333, \"rgb(253,174,97)\"], [0.4444444444444444, \"rgb(254,224,144)\"], [0.5555555555555556, \"rgb(224,243,248)\"], [0.6666666666666666, \"rgb(171,217,233)\"], [0.7777777777777778, \"rgb(116,173,209)\"], [0.8888888888888888, \"rgb(69,117,180)\"], [1.0, \"rgb(49,54,149)\"]], \"zmin\": 0.5, \"zmax\": 1.0}], {\"title\": \"Precision, Recall, F1-score\", \"font\": {\"size\": 16, \"color\": \"#333333\"}, \"yaxis\": {\"autorange\": \"reversed\"}}, {\"showLink\": true, \"linkText\": \"Export to plot.ly\"})});</script>"
      ]
     },
     "metadata": {},
     "output_type": "display_data"
    },
    {
     "data": {
      "application/vnd.plotly.v1+json": {
       "data": [
        {
         "colorscale": "Reds",
         "type": "heatmap",
         "x": [
          "eat",
          "exercise",
          "focused-active",
          "focused-passive",
          "household-chores",
          "leisure",
          "movement",
          "rest-active",
          "rest-passive",
          "sleep"
         ],
         "y": [
          "eat",
          "exercise",
          "focused-active",
          "focused-passive",
          "household-chores",
          "leisure",
          "movement",
          "rest-active",
          "rest-passive",
          "sleep"
         ],
         "z": [
          [
           2,
           0,
           1,
           1,
           0,
           7,
           0,
           0,
           0,
           0
          ],
          [
           0,
           20,
           0,
           1,
           0,
           0,
           1,
           0,
           0,
           0
          ],
          [
           0,
           0,
           138,
           9,
           0,
           11,
           0,
           0,
           0,
           1
          ],
          [
           1,
           0,
           18,
           7,
           0,
           5,
           0,
           0,
           0,
           0
          ],
          [
           0,
           0,
           0,
           0,
           2,
           0,
           1,
           0,
           0,
           0
          ],
          [
           0,
           0,
           35,
           4,
           0,
           23,
           0,
           0,
           0,
           1
          ],
          [
           0,
           0,
           0,
           1,
           0,
           4,
           10,
           0,
           0,
           0
          ],
          [
           0,
           0,
           2,
           0,
           0,
           2,
           0,
           0,
           0,
           2
          ],
          [
           0,
           0,
           4,
           0,
           0,
           1,
           0,
           0,
           0,
           0
          ],
          [
           0,
           0,
           1,
           0,
           0,
           1,
           0,
           0,
           0,
           47
          ]
         ]
        }
       ],
       "layout": {
        "font": {
         "color": "#333333",
         "size": 16
        },
        "title": "Confusion Matrix",
        "xaxis": {
         "title": "predicted",
         "titlefont": {
          "color": "#333333",
          "size": 16
         }
        },
        "yaxis": {
         "autorange": "reversed",
         "title": "true label",
         "titlefont": {
          "color": "#333333",
          "size": 16
         }
        }
       }
      },
      "text/html": [
       "<div id=\"1f89d627-79e1-4166-a689-cd6ee8c868cb\" style=\"height: 525px; width: 100%;\" class=\"plotly-graph-div\"></div><script type=\"text/javascript\">require([\"plotly\"], function(Plotly) { window.PLOTLYENV=window.PLOTLYENV || {};window.PLOTLYENV.BASE_URL=\"https://plot.ly\";Plotly.newPlot(\"1f89d627-79e1-4166-a689-cd6ee8c868cb\", [{\"type\": \"heatmap\", \"z\": [[2, 0, 1, 1, 0, 7, 0, 0, 0, 0], [0, 20, 0, 1, 0, 0, 1, 0, 0, 0], [0, 0, 138, 9, 0, 11, 0, 0, 0, 1], [1, 0, 18, 7, 0, 5, 0, 0, 0, 0], [0, 0, 0, 0, 2, 0, 1, 0, 0, 0], [0, 0, 35, 4, 0, 23, 0, 0, 0, 1], [0, 0, 0, 1, 0, 4, 10, 0, 0, 0], [0, 0, 2, 0, 0, 2, 0, 0, 0, 2], [0, 0, 4, 0, 0, 1, 0, 0, 0, 0], [0, 0, 1, 0, 0, 1, 0, 0, 0, 47]], \"x\": [\"eat\", \"exercise\", \"focused-active\", \"focused-passive\", \"household-chores\", \"leisure\", \"movement\", \"rest-active\", \"rest-passive\", \"sleep\"], \"y\": [\"eat\", \"exercise\", \"focused-active\", \"focused-passive\", \"household-chores\", \"leisure\", \"movement\", \"rest-active\", \"rest-passive\", \"sleep\"], \"colorscale\": \"Reds\"}], {\"title\": \"Confusion Matrix\", \"font\": {\"size\": 16, \"color\": \"#333333\"}, \"xaxis\": {\"title\": \"predicted\", \"titlefont\": {\"size\": 16, \"color\": \"#333333\"}}, \"yaxis\": {\"title\": \"true label\", \"titlefont\": {\"size\": 16, \"color\": \"#333333\"}, \"autorange\": \"reversed\"}}, {\"showLink\": true, \"linkText\": \"Export to plot.ly\"})});</script>"
      ],
      "text/vnd.plotly.v1+html": [
       "<div id=\"1f89d627-79e1-4166-a689-cd6ee8c868cb\" style=\"height: 525px; width: 100%;\" class=\"plotly-graph-div\"></div><script type=\"text/javascript\">require([\"plotly\"], function(Plotly) { window.PLOTLYENV=window.PLOTLYENV || {};window.PLOTLYENV.BASE_URL=\"https://plot.ly\";Plotly.newPlot(\"1f89d627-79e1-4166-a689-cd6ee8c868cb\", [{\"type\": \"heatmap\", \"z\": [[2, 0, 1, 1, 0, 7, 0, 0, 0, 0], [0, 20, 0, 1, 0, 0, 1, 0, 0, 0], [0, 0, 138, 9, 0, 11, 0, 0, 0, 1], [1, 0, 18, 7, 0, 5, 0, 0, 0, 0], [0, 0, 0, 0, 2, 0, 1, 0, 0, 0], [0, 0, 35, 4, 0, 23, 0, 0, 0, 1], [0, 0, 0, 1, 0, 4, 10, 0, 0, 0], [0, 0, 2, 0, 0, 2, 0, 0, 0, 2], [0, 0, 4, 0, 0, 1, 0, 0, 0, 0], [0, 0, 1, 0, 0, 1, 0, 0, 0, 47]], \"x\": [\"eat\", \"exercise\", \"focused-active\", \"focused-passive\", \"household-chores\", \"leisure\", \"movement\", \"rest-active\", \"rest-passive\", \"sleep\"], \"y\": [\"eat\", \"exercise\", \"focused-active\", \"focused-passive\", \"household-chores\", \"leisure\", \"movement\", \"rest-active\", \"rest-passive\", \"sleep\"], \"colorscale\": \"Reds\"}], {\"title\": \"Confusion Matrix\", \"font\": {\"size\": 16, \"color\": \"#333333\"}, \"xaxis\": {\"title\": \"predicted\", \"titlefont\": {\"size\": 16, \"color\": \"#333333\"}}, \"yaxis\": {\"title\": \"true label\", \"titlefont\": {\"size\": 16, \"color\": \"#333333\"}, \"autorange\": \"reversed\"}}, {\"showLink\": true, \"linkText\": \"Export to plot.ly\"})});</script>"
      ]
     },
     "metadata": {},
     "output_type": "display_data"
    },
    {
     "name": "stdout",
     "output_type": "stream",
     "text": [
      "\n",
      "\n",
      "\n",
      "--------------------------------------------- gr_main3 ---------------------------------------------\n",
      "gr_main3\n",
      "move      185\n",
      "sleep     279\n",
      "still    1354\n",
      "Name: user, dtype: int64\n",
      "1454 364\n"
     ]
    },
    {
     "data": {
      "application/vnd.plotly.v1+json": {
       "data": [
        {
         "colorscale": [
          [
           0,
           "rgb(165,0,38)"
          ],
          [
           0.1111111111111111,
           "rgb(215,48,39)"
          ],
          [
           0.2222222222222222,
           "rgb(244,109,67)"
          ],
          [
           0.3333333333333333,
           "rgb(253,174,97)"
          ],
          [
           0.4444444444444444,
           "rgb(254,224,144)"
          ],
          [
           0.5555555555555556,
           "rgb(224,243,248)"
          ],
          [
           0.6666666666666666,
           "rgb(171,217,233)"
          ],
          [
           0.7777777777777778,
           "rgb(116,173,209)"
          ],
          [
           0.8888888888888888,
           "rgb(69,117,180)"
          ],
          [
           1,
           "rgb(49,54,149)"
          ]
         ],
         "type": "heatmap",
         "x": [
          "precision",
          "recall",
          "f1"
         ],
         "y": [
          "move",
          "sleep",
          "still"
         ],
         "z": [
          [
           0.9655172413793104,
           0.875,
           0.9180327868852458
          ],
          [
           0.9193548387096774,
           0.9193548387096774,
           0.9193548387096774
          ],
          [
           0.967032967032967,
           0.9777777777777777,
           0.9723756906077348
          ]
         ],
         "zmax": 1,
         "zmin": 0.5
        }
       ],
       "layout": {
        "font": {
         "color": "#333333",
         "size": 16
        },
        "title": "Precision, Recall, F1-score",
        "yaxis": {
         "autorange": "reversed"
        }
       }
      },
      "text/html": [
       "<div id=\"00f49c28-7f0e-46b0-8947-3d612ffe2c52\" style=\"height: 525px; width: 100%;\" class=\"plotly-graph-div\"></div><script type=\"text/javascript\">require([\"plotly\"], function(Plotly) { window.PLOTLYENV=window.PLOTLYENV || {};window.PLOTLYENV.BASE_URL=\"https://plot.ly\";Plotly.newPlot(\"00f49c28-7f0e-46b0-8947-3d612ffe2c52\", [{\"type\": \"heatmap\", \"z\": [[0.9655172413793104, 0.875, 0.9180327868852458], [0.9193548387096774, 0.9193548387096774, 0.9193548387096774], [0.967032967032967, 0.9777777777777777, 0.9723756906077348]], \"y\": [\"move\", \"sleep\", \"still\"], \"x\": [\"precision\", \"recall\", \"f1\"], \"colorscale\": [[0.0, \"rgb(165,0,38)\"], [0.1111111111111111, \"rgb(215,48,39)\"], [0.2222222222222222, \"rgb(244,109,67)\"], [0.3333333333333333, \"rgb(253,174,97)\"], [0.4444444444444444, \"rgb(254,224,144)\"], [0.5555555555555556, \"rgb(224,243,248)\"], [0.6666666666666666, \"rgb(171,217,233)\"], [0.7777777777777778, \"rgb(116,173,209)\"], [0.8888888888888888, \"rgb(69,117,180)\"], [1.0, \"rgb(49,54,149)\"]], \"zmin\": 0.5, \"zmax\": 1.0}], {\"title\": \"Precision, Recall, F1-score\", \"font\": {\"size\": 16, \"color\": \"#333333\"}, \"yaxis\": {\"autorange\": \"reversed\"}}, {\"showLink\": true, \"linkText\": \"Export to plot.ly\"})});</script>"
      ],
      "text/vnd.plotly.v1+html": [
       "<div id=\"00f49c28-7f0e-46b0-8947-3d612ffe2c52\" style=\"height: 525px; width: 100%;\" class=\"plotly-graph-div\"></div><script type=\"text/javascript\">require([\"plotly\"], function(Plotly) { window.PLOTLYENV=window.PLOTLYENV || {};window.PLOTLYENV.BASE_URL=\"https://plot.ly\";Plotly.newPlot(\"00f49c28-7f0e-46b0-8947-3d612ffe2c52\", [{\"type\": \"heatmap\", \"z\": [[0.9655172413793104, 0.875, 0.9180327868852458], [0.9193548387096774, 0.9193548387096774, 0.9193548387096774], [0.967032967032967, 0.9777777777777777, 0.9723756906077348]], \"y\": [\"move\", \"sleep\", \"still\"], \"x\": [\"precision\", \"recall\", \"f1\"], \"colorscale\": [[0.0, \"rgb(165,0,38)\"], [0.1111111111111111, \"rgb(215,48,39)\"], [0.2222222222222222, \"rgb(244,109,67)\"], [0.3333333333333333, \"rgb(253,174,97)\"], [0.4444444444444444, \"rgb(254,224,144)\"], [0.5555555555555556, \"rgb(224,243,248)\"], [0.6666666666666666, \"rgb(171,217,233)\"], [0.7777777777777778, \"rgb(116,173,209)\"], [0.8888888888888888, \"rgb(69,117,180)\"], [1.0, \"rgb(49,54,149)\"]], \"zmin\": 0.5, \"zmax\": 1.0}], {\"title\": \"Precision, Recall, F1-score\", \"font\": {\"size\": 16, \"color\": \"#333333\"}, \"yaxis\": {\"autorange\": \"reversed\"}}, {\"showLink\": true, \"linkText\": \"Export to plot.ly\"})});</script>"
      ]
     },
     "metadata": {},
     "output_type": "display_data"
    },
    {
     "data": {
      "application/vnd.plotly.v1+json": {
       "data": [
        {
         "colorscale": "Reds",
         "type": "heatmap",
         "x": [
          "move",
          "sleep",
          "still"
         ],
         "y": [
          "move",
          "sleep",
          "still"
         ],
         "z": [
          [
           28,
           0,
           4
          ],
          [
           0,
           57,
           5
          ],
          [
           1,
           5,
           264
          ]
         ]
        }
       ],
       "layout": {
        "font": {
         "color": "#333333",
         "size": 16
        },
        "title": "Confusion Matrix",
        "xaxis": {
         "title": "predicted",
         "titlefont": {
          "color": "#333333",
          "size": 16
         }
        },
        "yaxis": {
         "autorange": "reversed",
         "title": "true label",
         "titlefont": {
          "color": "#333333",
          "size": 16
         }
        }
       }
      },
      "text/html": [
       "<div id=\"36c814cc-26f2-4fe5-b502-6c9203d0d723\" style=\"height: 525px; width: 100%;\" class=\"plotly-graph-div\"></div><script type=\"text/javascript\">require([\"plotly\"], function(Plotly) { window.PLOTLYENV=window.PLOTLYENV || {};window.PLOTLYENV.BASE_URL=\"https://plot.ly\";Plotly.newPlot(\"36c814cc-26f2-4fe5-b502-6c9203d0d723\", [{\"type\": \"heatmap\", \"z\": [[28, 0, 4], [0, 57, 5], [1, 5, 264]], \"x\": [\"move\", \"sleep\", \"still\"], \"y\": [\"move\", \"sleep\", \"still\"], \"colorscale\": \"Reds\"}], {\"title\": \"Confusion Matrix\", \"font\": {\"size\": 16, \"color\": \"#333333\"}, \"xaxis\": {\"title\": \"predicted\", \"titlefont\": {\"size\": 16, \"color\": \"#333333\"}}, \"yaxis\": {\"title\": \"true label\", \"titlefont\": {\"size\": 16, \"color\": \"#333333\"}, \"autorange\": \"reversed\"}}, {\"showLink\": true, \"linkText\": \"Export to plot.ly\"})});</script>"
      ],
      "text/vnd.plotly.v1+html": [
       "<div id=\"36c814cc-26f2-4fe5-b502-6c9203d0d723\" style=\"height: 525px; width: 100%;\" class=\"plotly-graph-div\"></div><script type=\"text/javascript\">require([\"plotly\"], function(Plotly) { window.PLOTLYENV=window.PLOTLYENV || {};window.PLOTLYENV.BASE_URL=\"https://plot.ly\";Plotly.newPlot(\"36c814cc-26f2-4fe5-b502-6c9203d0d723\", [{\"type\": \"heatmap\", \"z\": [[28, 0, 4], [0, 57, 5], [1, 5, 264]], \"x\": [\"move\", \"sleep\", \"still\"], \"y\": [\"move\", \"sleep\", \"still\"], \"colorscale\": \"Reds\"}], {\"title\": \"Confusion Matrix\", \"font\": {\"size\": 16, \"color\": \"#333333\"}, \"xaxis\": {\"title\": \"predicted\", \"titlefont\": {\"size\": 16, \"color\": \"#333333\"}}, \"yaxis\": {\"title\": \"true label\", \"titlefont\": {\"size\": 16, \"color\": \"#333333\"}, \"autorange\": \"reversed\"}}, {\"showLink\": true, \"linkText\": \"Export to plot.ly\"})});</script>"
      ]
     },
     "metadata": {},
     "output_type": "display_data"
    },
    {
     "name": "stdout",
     "output_type": "stream",
     "text": [
      "\n",
      "\n",
      "\n",
      "--------------------------------------------- gr_main4 ---------------------------------------------\n",
      "gr_main4\n",
      "exercise      99\n",
      "move          86\n",
      "sleep        279\n",
      "still       1354\n",
      "Name: user, dtype: int64\n",
      "1454 364\n"
     ]
    },
    {
     "data": {
      "application/vnd.plotly.v1+json": {
       "data": [
        {
         "colorscale": [
          [
           0,
           "rgb(165,0,38)"
          ],
          [
           0.1111111111111111,
           "rgb(215,48,39)"
          ],
          [
           0.2222222222222222,
           "rgb(244,109,67)"
          ],
          [
           0.3333333333333333,
           "rgb(253,174,97)"
          ],
          [
           0.4444444444444444,
           "rgb(254,224,144)"
          ],
          [
           0.5555555555555556,
           "rgb(224,243,248)"
          ],
          [
           0.6666666666666666,
           "rgb(171,217,233)"
          ],
          [
           0.7777777777777778,
           "rgb(116,173,209)"
          ],
          [
           0.8888888888888888,
           "rgb(69,117,180)"
          ],
          [
           1,
           "rgb(49,54,149)"
          ]
         ],
         "type": "heatmap",
         "x": [
          "precision",
          "recall",
          "f1"
         ],
         "y": [
          "exercise",
          "move",
          "sleep",
          "still"
         ],
         "z": [
          [
           0.875,
           1,
           0.9333333333333333
          ],
          [
           1,
           0.43478260869565216,
           0.6060606060606061
          ],
          [
           1,
           0.9571428571428572,
           0.9781021897810218
          ],
          [
           0.9505703422053232,
           1,
           0.9746588693957116
          ]
         ],
         "zmax": 1,
         "zmin": 0.5
        }
       ],
       "layout": {
        "font": {
         "color": "#333333",
         "size": 16
        },
        "title": "Precision, Recall, F1-score",
        "yaxis": {
         "autorange": "reversed"
        }
       }
      },
      "text/html": [
       "<div id=\"4cc5892d-cce6-42a9-b815-2fc123520776\" style=\"height: 525px; width: 100%;\" class=\"plotly-graph-div\"></div><script type=\"text/javascript\">require([\"plotly\"], function(Plotly) { window.PLOTLYENV=window.PLOTLYENV || {};window.PLOTLYENV.BASE_URL=\"https://plot.ly\";Plotly.newPlot(\"4cc5892d-cce6-42a9-b815-2fc123520776\", [{\"type\": \"heatmap\", \"z\": [[0.875, 1.0, 0.9333333333333333], [1.0, 0.43478260869565216, 0.6060606060606061], [1.0, 0.9571428571428572, 0.9781021897810218], [0.9505703422053232, 1.0, 0.9746588693957116]], \"y\": [\"exercise\", \"move\", \"sleep\", \"still\"], \"x\": [\"precision\", \"recall\", \"f1\"], \"colorscale\": [[0.0, \"rgb(165,0,38)\"], [0.1111111111111111, \"rgb(215,48,39)\"], [0.2222222222222222, \"rgb(244,109,67)\"], [0.3333333333333333, \"rgb(253,174,97)\"], [0.4444444444444444, \"rgb(254,224,144)\"], [0.5555555555555556, \"rgb(224,243,248)\"], [0.6666666666666666, \"rgb(171,217,233)\"], [0.7777777777777778, \"rgb(116,173,209)\"], [0.8888888888888888, \"rgb(69,117,180)\"], [1.0, \"rgb(49,54,149)\"]], \"zmin\": 0.5, \"zmax\": 1.0}], {\"title\": \"Precision, Recall, F1-score\", \"font\": {\"size\": 16, \"color\": \"#333333\"}, \"yaxis\": {\"autorange\": \"reversed\"}}, {\"showLink\": true, \"linkText\": \"Export to plot.ly\"})});</script>"
      ],
      "text/vnd.plotly.v1+html": [
       "<div id=\"4cc5892d-cce6-42a9-b815-2fc123520776\" style=\"height: 525px; width: 100%;\" class=\"plotly-graph-div\"></div><script type=\"text/javascript\">require([\"plotly\"], function(Plotly) { window.PLOTLYENV=window.PLOTLYENV || {};window.PLOTLYENV.BASE_URL=\"https://plot.ly\";Plotly.newPlot(\"4cc5892d-cce6-42a9-b815-2fc123520776\", [{\"type\": \"heatmap\", \"z\": [[0.875, 1.0, 0.9333333333333333], [1.0, 0.43478260869565216, 0.6060606060606061], [1.0, 0.9571428571428572, 0.9781021897810218], [0.9505703422053232, 1.0, 0.9746588693957116]], \"y\": [\"exercise\", \"move\", \"sleep\", \"still\"], \"x\": [\"precision\", \"recall\", \"f1\"], \"colorscale\": [[0.0, \"rgb(165,0,38)\"], [0.1111111111111111, \"rgb(215,48,39)\"], [0.2222222222222222, \"rgb(244,109,67)\"], [0.3333333333333333, \"rgb(253,174,97)\"], [0.4444444444444444, \"rgb(254,224,144)\"], [0.5555555555555556, \"rgb(224,243,248)\"], [0.6666666666666666, \"rgb(171,217,233)\"], [0.7777777777777778, \"rgb(116,173,209)\"], [0.8888888888888888, \"rgb(69,117,180)\"], [1.0, \"rgb(49,54,149)\"]], \"zmin\": 0.5, \"zmax\": 1.0}], {\"title\": \"Precision, Recall, F1-score\", \"font\": {\"size\": 16, \"color\": \"#333333\"}, \"yaxis\": {\"autorange\": \"reversed\"}}, {\"showLink\": true, \"linkText\": \"Export to plot.ly\"})});</script>"
      ]
     },
     "metadata": {},
     "output_type": "display_data"
    },
    {
     "data": {
      "application/vnd.plotly.v1+json": {
       "data": [
        {
         "colorscale": "Reds",
         "type": "heatmap",
         "x": [
          "exercise",
          "move",
          "sleep",
          "still"
         ],
         "y": [
          "exercise",
          "move",
          "sleep",
          "still"
         ],
         "z": [
          [
           21,
           0,
           0,
           0
          ],
          [
           3,
           10,
           0,
           10
          ],
          [
           0,
           0,
           67,
           3
          ],
          [
           0,
           0,
           0,
           250
          ]
         ]
        }
       ],
       "layout": {
        "font": {
         "color": "#333333",
         "size": 16
        },
        "title": "Confusion Matrix",
        "xaxis": {
         "title": "predicted",
         "titlefont": {
          "color": "#333333",
          "size": 16
         }
        },
        "yaxis": {
         "autorange": "reversed",
         "title": "true label",
         "titlefont": {
          "color": "#333333",
          "size": 16
         }
        }
       }
      },
      "text/html": [
       "<div id=\"b992851d-2c11-4a40-a895-ab6946af1cae\" style=\"height: 525px; width: 100%;\" class=\"plotly-graph-div\"></div><script type=\"text/javascript\">require([\"plotly\"], function(Plotly) { window.PLOTLYENV=window.PLOTLYENV || {};window.PLOTLYENV.BASE_URL=\"https://plot.ly\";Plotly.newPlot(\"b992851d-2c11-4a40-a895-ab6946af1cae\", [{\"type\": \"heatmap\", \"z\": [[21, 0, 0, 0], [3, 10, 0, 10], [0, 0, 67, 3], [0, 0, 0, 250]], \"x\": [\"exercise\", \"move\", \"sleep\", \"still\"], \"y\": [\"exercise\", \"move\", \"sleep\", \"still\"], \"colorscale\": \"Reds\"}], {\"title\": \"Confusion Matrix\", \"font\": {\"size\": 16, \"color\": \"#333333\"}, \"xaxis\": {\"title\": \"predicted\", \"titlefont\": {\"size\": 16, \"color\": \"#333333\"}}, \"yaxis\": {\"title\": \"true label\", \"titlefont\": {\"size\": 16, \"color\": \"#333333\"}, \"autorange\": \"reversed\"}}, {\"showLink\": true, \"linkText\": \"Export to plot.ly\"})});</script>"
      ],
      "text/vnd.plotly.v1+html": [
       "<div id=\"b992851d-2c11-4a40-a895-ab6946af1cae\" style=\"height: 525px; width: 100%;\" class=\"plotly-graph-div\"></div><script type=\"text/javascript\">require([\"plotly\"], function(Plotly) { window.PLOTLYENV=window.PLOTLYENV || {};window.PLOTLYENV.BASE_URL=\"https://plot.ly\";Plotly.newPlot(\"b992851d-2c11-4a40-a895-ab6946af1cae\", [{\"type\": \"heatmap\", \"z\": [[21, 0, 0, 0], [3, 10, 0, 10], [0, 0, 67, 3], [0, 0, 0, 250]], \"x\": [\"exercise\", \"move\", \"sleep\", \"still\"], \"y\": [\"exercise\", \"move\", \"sleep\", \"still\"], \"colorscale\": \"Reds\"}], {\"title\": \"Confusion Matrix\", \"font\": {\"size\": 16, \"color\": \"#333333\"}, \"xaxis\": {\"title\": \"predicted\", \"titlefont\": {\"size\": 16, \"color\": \"#333333\"}}, \"yaxis\": {\"title\": \"true label\", \"titlefont\": {\"size\": 16, \"color\": \"#333333\"}, \"autorange\": \"reversed\"}}, {\"showLink\": true, \"linkText\": \"Export to plot.ly\"})});</script>"
      ]
     },
     "metadata": {},
     "output_type": "display_data"
    },
    {
     "name": "stdout",
     "output_type": "stream",
     "text": [
      "\n",
      "\n",
      "\n",
      "--------------------------------------------- gr_stress3 ---------------------------------------------\n",
      "gr_stress3\n",
      "exercise     99\n",
      "move         86\n",
      "relaxed     598\n",
      "sleep       279\n",
      "stressed    756\n",
      "Name: user, dtype: int64\n",
      "1454 364\n"
     ]
    },
    {
     "data": {
      "application/vnd.plotly.v1+json": {
       "data": [
        {
         "colorscale": [
          [
           0,
           "rgb(165,0,38)"
          ],
          [
           0.1111111111111111,
           "rgb(215,48,39)"
          ],
          [
           0.2222222222222222,
           "rgb(244,109,67)"
          ],
          [
           0.3333333333333333,
           "rgb(253,174,97)"
          ],
          [
           0.4444444444444444,
           "rgb(254,224,144)"
          ],
          [
           0.5555555555555556,
           "rgb(224,243,248)"
          ],
          [
           0.6666666666666666,
           "rgb(171,217,233)"
          ],
          [
           0.7777777777777778,
           "rgb(116,173,209)"
          ],
          [
           0.8888888888888888,
           "rgb(69,117,180)"
          ],
          [
           1,
           "rgb(49,54,149)"
          ]
         ],
         "type": "heatmap",
         "x": [
          "precision",
          "recall",
          "f1"
         ],
         "y": [
          "exercise",
          "move",
          "relaxed",
          "sleep",
          "stressed"
         ],
         "z": [
          [
           1,
           0.8095238095238095,
           0.8947368421052632
          ],
          [
           0.6,
           0.8,
           0.6857142857142857
          ],
          [
           0.5126050420168067,
           0.5213675213675214,
           0.516949152542373
          ],
          [
           0.9433962264150944,
           0.9615384615384616,
           0.9523809523809524
          ],
          [
           0.6645161290322581,
           0.6477987421383647,
           0.6560509554140127
          ]
         ],
         "zmax": 1,
         "zmin": 0.5
        }
       ],
       "layout": {
        "font": {
         "color": "#333333",
         "size": 16
        },
        "title": "Precision, Recall, F1-score",
        "yaxis": {
         "autorange": "reversed"
        }
       }
      },
      "text/html": [
       "<div id=\"2916765d-526e-42a9-866f-5884066689bc\" style=\"height: 525px; width: 100%;\" class=\"plotly-graph-div\"></div><script type=\"text/javascript\">require([\"plotly\"], function(Plotly) { window.PLOTLYENV=window.PLOTLYENV || {};window.PLOTLYENV.BASE_URL=\"https://plot.ly\";Plotly.newPlot(\"2916765d-526e-42a9-866f-5884066689bc\", [{\"type\": \"heatmap\", \"z\": [[1.0, 0.8095238095238095, 0.8947368421052632], [0.6, 0.8, 0.6857142857142857], [0.5126050420168067, 0.5213675213675214, 0.516949152542373], [0.9433962264150944, 0.9615384615384616, 0.9523809523809524], [0.6645161290322581, 0.6477987421383647, 0.6560509554140127]], \"y\": [\"exercise\", \"move\", \"relaxed\", \"sleep\", \"stressed\"], \"x\": [\"precision\", \"recall\", \"f1\"], \"colorscale\": [[0.0, \"rgb(165,0,38)\"], [0.1111111111111111, \"rgb(215,48,39)\"], [0.2222222222222222, \"rgb(244,109,67)\"], [0.3333333333333333, \"rgb(253,174,97)\"], [0.4444444444444444, \"rgb(254,224,144)\"], [0.5555555555555556, \"rgb(224,243,248)\"], [0.6666666666666666, \"rgb(171,217,233)\"], [0.7777777777777778, \"rgb(116,173,209)\"], [0.8888888888888888, \"rgb(69,117,180)\"], [1.0, \"rgb(49,54,149)\"]], \"zmin\": 0.5, \"zmax\": 1.0}], {\"title\": \"Precision, Recall, F1-score\", \"font\": {\"size\": 16, \"color\": \"#333333\"}, \"yaxis\": {\"autorange\": \"reversed\"}}, {\"showLink\": true, \"linkText\": \"Export to plot.ly\"})});</script>"
      ],
      "text/vnd.plotly.v1+html": [
       "<div id=\"2916765d-526e-42a9-866f-5884066689bc\" style=\"height: 525px; width: 100%;\" class=\"plotly-graph-div\"></div><script type=\"text/javascript\">require([\"plotly\"], function(Plotly) { window.PLOTLYENV=window.PLOTLYENV || {};window.PLOTLYENV.BASE_URL=\"https://plot.ly\";Plotly.newPlot(\"2916765d-526e-42a9-866f-5884066689bc\", [{\"type\": \"heatmap\", \"z\": [[1.0, 0.8095238095238095, 0.8947368421052632], [0.6, 0.8, 0.6857142857142857], [0.5126050420168067, 0.5213675213675214, 0.516949152542373], [0.9433962264150944, 0.9615384615384616, 0.9523809523809524], [0.6645161290322581, 0.6477987421383647, 0.6560509554140127]], \"y\": [\"exercise\", \"move\", \"relaxed\", \"sleep\", \"stressed\"], \"x\": [\"precision\", \"recall\", \"f1\"], \"colorscale\": [[0.0, \"rgb(165,0,38)\"], [0.1111111111111111, \"rgb(215,48,39)\"], [0.2222222222222222, \"rgb(244,109,67)\"], [0.3333333333333333, \"rgb(253,174,97)\"], [0.4444444444444444, \"rgb(254,224,144)\"], [0.5555555555555556, \"rgb(224,243,248)\"], [0.6666666666666666, \"rgb(171,217,233)\"], [0.7777777777777778, \"rgb(116,173,209)\"], [0.8888888888888888, \"rgb(69,117,180)\"], [1.0, \"rgb(49,54,149)\"]], \"zmin\": 0.5, \"zmax\": 1.0}], {\"title\": \"Precision, Recall, F1-score\", \"font\": {\"size\": 16, \"color\": \"#333333\"}, \"yaxis\": {\"autorange\": \"reversed\"}}, {\"showLink\": true, \"linkText\": \"Export to plot.ly\"})});</script>"
      ]
     },
     "metadata": {},
     "output_type": "display_data"
    },
    {
     "data": {
      "application/vnd.plotly.v1+json": {
       "data": [
        {
         "colorscale": "Reds",
         "type": "heatmap",
         "x": [
          "exercise",
          "move",
          "relaxed",
          "sleep",
          "stressed"
         ],
         "y": [
          "exercise",
          "move",
          "relaxed",
          "sleep",
          "stressed"
         ],
         "z": [
          [
           17,
           3,
           1,
           0,
           0
          ],
          [
           0,
           12,
           3,
           0,
           0
          ],
          [
           0,
           2,
           61,
           3,
           51
          ],
          [
           0,
           0,
           1,
           50,
           1
          ],
          [
           0,
           3,
           53,
           0,
           103
          ]
         ]
        }
       ],
       "layout": {
        "font": {
         "color": "#333333",
         "size": 16
        },
        "title": "Confusion Matrix",
        "xaxis": {
         "title": "predicted",
         "titlefont": {
          "color": "#333333",
          "size": 16
         }
        },
        "yaxis": {
         "autorange": "reversed",
         "title": "true label",
         "titlefont": {
          "color": "#333333",
          "size": 16
         }
        }
       }
      },
      "text/html": [
       "<div id=\"8b30165e-1f52-4492-9e4f-c4b5745f3117\" style=\"height: 525px; width: 100%;\" class=\"plotly-graph-div\"></div><script type=\"text/javascript\">require([\"plotly\"], function(Plotly) { window.PLOTLYENV=window.PLOTLYENV || {};window.PLOTLYENV.BASE_URL=\"https://plot.ly\";Plotly.newPlot(\"8b30165e-1f52-4492-9e4f-c4b5745f3117\", [{\"type\": \"heatmap\", \"z\": [[17, 3, 1, 0, 0], [0, 12, 3, 0, 0], [0, 2, 61, 3, 51], [0, 0, 1, 50, 1], [0, 3, 53, 0, 103]], \"x\": [\"exercise\", \"move\", \"relaxed\", \"sleep\", \"stressed\"], \"y\": [\"exercise\", \"move\", \"relaxed\", \"sleep\", \"stressed\"], \"colorscale\": \"Reds\"}], {\"title\": \"Confusion Matrix\", \"font\": {\"size\": 16, \"color\": \"#333333\"}, \"xaxis\": {\"title\": \"predicted\", \"titlefont\": {\"size\": 16, \"color\": \"#333333\"}}, \"yaxis\": {\"title\": \"true label\", \"titlefont\": {\"size\": 16, \"color\": \"#333333\"}, \"autorange\": \"reversed\"}}, {\"showLink\": true, \"linkText\": \"Export to plot.ly\"})});</script>"
      ],
      "text/vnd.plotly.v1+html": [
       "<div id=\"8b30165e-1f52-4492-9e4f-c4b5745f3117\" style=\"height: 525px; width: 100%;\" class=\"plotly-graph-div\"></div><script type=\"text/javascript\">require([\"plotly\"], function(Plotly) { window.PLOTLYENV=window.PLOTLYENV || {};window.PLOTLYENV.BASE_URL=\"https://plot.ly\";Plotly.newPlot(\"8b30165e-1f52-4492-9e4f-c4b5745f3117\", [{\"type\": \"heatmap\", \"z\": [[17, 3, 1, 0, 0], [0, 12, 3, 0, 0], [0, 2, 61, 3, 51], [0, 0, 1, 50, 1], [0, 3, 53, 0, 103]], \"x\": [\"exercise\", \"move\", \"relaxed\", \"sleep\", \"stressed\"], \"y\": [\"exercise\", \"move\", \"relaxed\", \"sleep\", \"stressed\"], \"colorscale\": \"Reds\"}], {\"title\": \"Confusion Matrix\", \"font\": {\"size\": 16, \"color\": \"#333333\"}, \"xaxis\": {\"title\": \"predicted\", \"titlefont\": {\"size\": 16, \"color\": \"#333333\"}}, \"yaxis\": {\"title\": \"true label\", \"titlefont\": {\"size\": 16, \"color\": \"#333333\"}, \"autorange\": \"reversed\"}}, {\"showLink\": true, \"linkText\": \"Export to plot.ly\"})});</script>"
      ]
     },
     "metadata": {},
     "output_type": "display_data"
    },
    {
     "name": "stdout",
     "output_type": "stream",
     "text": [
      "\n",
      "\n",
      "\n",
      "--------------------------------------------- posture ---------------------------------------------\n",
      "posture\n",
      "lie       394\n",
      "sit      1239\n",
      "stand     185\n",
      "Name: user, dtype: int64\n",
      "1454 364\n"
     ]
    },
    {
     "data": {
      "application/vnd.plotly.v1+json": {
       "data": [
        {
         "colorscale": [
          [
           0,
           "rgb(165,0,38)"
          ],
          [
           0.1111111111111111,
           "rgb(215,48,39)"
          ],
          [
           0.2222222222222222,
           "rgb(244,109,67)"
          ],
          [
           0.3333333333333333,
           "rgb(253,174,97)"
          ],
          [
           0.4444444444444444,
           "rgb(254,224,144)"
          ],
          [
           0.5555555555555556,
           "rgb(224,243,248)"
          ],
          [
           0.6666666666666666,
           "rgb(171,217,233)"
          ],
          [
           0.7777777777777778,
           "rgb(116,173,209)"
          ],
          [
           0.8888888888888888,
           "rgb(69,117,180)"
          ],
          [
           1,
           "rgb(49,54,149)"
          ]
         ],
         "type": "heatmap",
         "x": [
          "precision",
          "recall",
          "f1"
         ],
         "y": [
          "lie",
          "sit",
          "stand"
         ],
         "z": [
          [
           0.9090909090909091,
           0.7792207792207793,
           0.8391608391608392
          ],
          [
           0.9213483146067416,
           0.9761904761904762,
           0.9479768786127167
          ],
          [
           1,
           0.8857142857142857,
           0.9393939393939393
          ]
         ],
         "zmax": 1,
         "zmin": 0.5
        }
       ],
       "layout": {
        "font": {
         "color": "#333333",
         "size": 16
        },
        "title": "Precision, Recall, F1-score",
        "yaxis": {
         "autorange": "reversed"
        }
       }
      },
      "text/html": [
       "<div id=\"822daf5a-ebf7-4a83-8791-ff8bc627ec37\" style=\"height: 525px; width: 100%;\" class=\"plotly-graph-div\"></div><script type=\"text/javascript\">require([\"plotly\"], function(Plotly) { window.PLOTLYENV=window.PLOTLYENV || {};window.PLOTLYENV.BASE_URL=\"https://plot.ly\";Plotly.newPlot(\"822daf5a-ebf7-4a83-8791-ff8bc627ec37\", [{\"type\": \"heatmap\", \"z\": [[0.9090909090909091, 0.7792207792207793, 0.8391608391608392], [0.9213483146067416, 0.9761904761904762, 0.9479768786127167], [1.0, 0.8857142857142857, 0.9393939393939393]], \"y\": [\"lie\", \"sit\", \"stand\"], \"x\": [\"precision\", \"recall\", \"f1\"], \"colorscale\": [[0.0, \"rgb(165,0,38)\"], [0.1111111111111111, \"rgb(215,48,39)\"], [0.2222222222222222, \"rgb(244,109,67)\"], [0.3333333333333333, \"rgb(253,174,97)\"], [0.4444444444444444, \"rgb(254,224,144)\"], [0.5555555555555556, \"rgb(224,243,248)\"], [0.6666666666666666, \"rgb(171,217,233)\"], [0.7777777777777778, \"rgb(116,173,209)\"], [0.8888888888888888, \"rgb(69,117,180)\"], [1.0, \"rgb(49,54,149)\"]], \"zmin\": 0.5, \"zmax\": 1.0}], {\"title\": \"Precision, Recall, F1-score\", \"font\": {\"size\": 16, \"color\": \"#333333\"}, \"yaxis\": {\"autorange\": \"reversed\"}}, {\"showLink\": true, \"linkText\": \"Export to plot.ly\"})});</script>"
      ],
      "text/vnd.plotly.v1+html": [
       "<div id=\"822daf5a-ebf7-4a83-8791-ff8bc627ec37\" style=\"height: 525px; width: 100%;\" class=\"plotly-graph-div\"></div><script type=\"text/javascript\">require([\"plotly\"], function(Plotly) { window.PLOTLYENV=window.PLOTLYENV || {};window.PLOTLYENV.BASE_URL=\"https://plot.ly\";Plotly.newPlot(\"822daf5a-ebf7-4a83-8791-ff8bc627ec37\", [{\"type\": \"heatmap\", \"z\": [[0.9090909090909091, 0.7792207792207793, 0.8391608391608392], [0.9213483146067416, 0.9761904761904762, 0.9479768786127167], [1.0, 0.8857142857142857, 0.9393939393939393]], \"y\": [\"lie\", \"sit\", \"stand\"], \"x\": [\"precision\", \"recall\", \"f1\"], \"colorscale\": [[0.0, \"rgb(165,0,38)\"], [0.1111111111111111, \"rgb(215,48,39)\"], [0.2222222222222222, \"rgb(244,109,67)\"], [0.3333333333333333, \"rgb(253,174,97)\"], [0.4444444444444444, \"rgb(254,224,144)\"], [0.5555555555555556, \"rgb(224,243,248)\"], [0.6666666666666666, \"rgb(171,217,233)\"], [0.7777777777777778, \"rgb(116,173,209)\"], [0.8888888888888888, \"rgb(69,117,180)\"], [1.0, \"rgb(49,54,149)\"]], \"zmin\": 0.5, \"zmax\": 1.0}], {\"title\": \"Precision, Recall, F1-score\", \"font\": {\"size\": 16, \"color\": \"#333333\"}, \"yaxis\": {\"autorange\": \"reversed\"}}, {\"showLink\": true, \"linkText\": \"Export to plot.ly\"})});</script>"
      ]
     },
     "metadata": {},
     "output_type": "display_data"
    },
    {
     "data": {
      "application/vnd.plotly.v1+json": {
       "data": [
        {
         "colorscale": "Reds",
         "type": "heatmap",
         "x": [
          "lie",
          "sit",
          "stand"
         ],
         "y": [
          "lie",
          "sit",
          "stand"
         ],
         "z": [
          [
           60,
           17,
           0
          ],
          [
           6,
           246,
           0
          ],
          [
           0,
           4,
           31
          ]
         ]
        }
       ],
       "layout": {
        "font": {
         "color": "#333333",
         "size": 16
        },
        "title": "Confusion Matrix",
        "xaxis": {
         "title": "predicted",
         "titlefont": {
          "color": "#333333",
          "size": 16
         }
        },
        "yaxis": {
         "autorange": "reversed",
         "title": "true label",
         "titlefont": {
          "color": "#333333",
          "size": 16
         }
        }
       }
      },
      "text/html": [
       "<div id=\"349f0fc9-5936-49d9-988f-8c6e6a27ae58\" style=\"height: 525px; width: 100%;\" class=\"plotly-graph-div\"></div><script type=\"text/javascript\">require([\"plotly\"], function(Plotly) { window.PLOTLYENV=window.PLOTLYENV || {};window.PLOTLYENV.BASE_URL=\"https://plot.ly\";Plotly.newPlot(\"349f0fc9-5936-49d9-988f-8c6e6a27ae58\", [{\"type\": \"heatmap\", \"z\": [[60, 17, 0], [6, 246, 0], [0, 4, 31]], \"x\": [\"lie\", \"sit\", \"stand\"], \"y\": [\"lie\", \"sit\", \"stand\"], \"colorscale\": \"Reds\"}], {\"title\": \"Confusion Matrix\", \"font\": {\"size\": 16, \"color\": \"#333333\"}, \"xaxis\": {\"title\": \"predicted\", \"titlefont\": {\"size\": 16, \"color\": \"#333333\"}}, \"yaxis\": {\"title\": \"true label\", \"titlefont\": {\"size\": 16, \"color\": \"#333333\"}, \"autorange\": \"reversed\"}}, {\"showLink\": true, \"linkText\": \"Export to plot.ly\"})});</script>"
      ],
      "text/vnd.plotly.v1+html": [
       "<div id=\"349f0fc9-5936-49d9-988f-8c6e6a27ae58\" style=\"height: 525px; width: 100%;\" class=\"plotly-graph-div\"></div><script type=\"text/javascript\">require([\"plotly\"], function(Plotly) { window.PLOTLYENV=window.PLOTLYENV || {};window.PLOTLYENV.BASE_URL=\"https://plot.ly\";Plotly.newPlot(\"349f0fc9-5936-49d9-988f-8c6e6a27ae58\", [{\"type\": \"heatmap\", \"z\": [[60, 17, 0], [6, 246, 0], [0, 4, 31]], \"x\": [\"lie\", \"sit\", \"stand\"], \"y\": [\"lie\", \"sit\", \"stand\"], \"colorscale\": \"Reds\"}], {\"title\": \"Confusion Matrix\", \"font\": {\"size\": 16, \"color\": \"#333333\"}, \"xaxis\": {\"title\": \"predicted\", \"titlefont\": {\"size\": 16, \"color\": \"#333333\"}}, \"yaxis\": {\"title\": \"true label\", \"titlefont\": {\"size\": 16, \"color\": \"#333333\"}, \"autorange\": \"reversed\"}}, {\"showLink\": true, \"linkText\": \"Export to plot.ly\"})});</script>"
      ]
     },
     "metadata": {},
     "output_type": "display_data"
    }
   ],
   "source": [
    "dfu = df[df['user']==1]\n",
    "for label in ['activity', 'gr_main3', 'gr_main4', 'gr_stress3', 'posture']:\n",
    "    cmc.plot_matrices(dfu, clf, features, label)          "
   ]
  },
  {
   "cell_type": "markdown",
   "metadata": {},
   "source": [
    "## Intrauser classification for user 2"
   ]
  },
  {
   "cell_type": "code",
   "execution_count": 13,
   "metadata": {
    "scrolled": false
   },
   "outputs": [
    {
     "name": "stdout",
     "output_type": "stream",
     "text": [
      "\n",
      "\n",
      "\n",
      "--------------------------------------------- activity ---------------------------------------------\n",
      "activity\n",
      "focused-active      404\n",
      "focused-passive     438\n",
      "household-chores    268\n",
      "leisure             268\n",
      "movement            199\n",
      "rest-active         160\n",
      "rest-passive         23\n",
      "sleep               396\n",
      "Name: user, dtype: int64\n",
      "1724 432\n"
     ]
    },
    {
     "data": {
      "application/vnd.plotly.v1+json": {
       "data": [
        {
         "colorscale": [
          [
           0,
           "rgb(165,0,38)"
          ],
          [
           0.1111111111111111,
           "rgb(215,48,39)"
          ],
          [
           0.2222222222222222,
           "rgb(244,109,67)"
          ],
          [
           0.3333333333333333,
           "rgb(253,174,97)"
          ],
          [
           0.4444444444444444,
           "rgb(254,224,144)"
          ],
          [
           0.5555555555555556,
           "rgb(224,243,248)"
          ],
          [
           0.6666666666666666,
           "rgb(171,217,233)"
          ],
          [
           0.7777777777777778,
           "rgb(116,173,209)"
          ],
          [
           0.8888888888888888,
           "rgb(69,117,180)"
          ],
          [
           1,
           "rgb(49,54,149)"
          ]
         ],
         "type": "heatmap",
         "x": [
          "precision",
          "recall",
          "f1"
         ],
         "y": [
          "focused-active",
          "focused-passive",
          "household-chores",
          "leisure",
          "movement",
          "rest-active",
          "rest-passive",
          "sleep"
         ],
         "z": [
          [
           0.3870967741935484,
           0.4675324675324675,
           0.4235294117647058
          ],
          [
           0.3050847457627119,
           0.42857142857142855,
           0.3564356435643565
          ],
          [
           0.43478260869565216,
           0.3333333333333333,
           0.3773584905660377
          ],
          [
           0.21951219512195122,
           0.17307692307692307,
           0.19354838709677416
          ],
          [
           0.45,
           0.4864864864864865,
           0.4675324675324675
          ],
          [
           0.07692307692307693,
           0.027777777777777776,
           0.04081632653061225
          ],
          [
           0.3333333333333333,
           0.5,
           0.4
          ],
          [
           0.9487179487179487,
           0.8809523809523809,
           0.9135802469135802
          ]
         ],
         "zmax": 1,
         "zmin": 0.5
        }
       ],
       "layout": {
        "font": {
         "color": "#333333",
         "size": 16
        },
        "title": "Precision, Recall, F1-score",
        "yaxis": {
         "autorange": "reversed"
        }
       }
      },
      "text/html": [
       "<div id=\"860e77f5-031d-4038-9e66-d35ceb2fe0b7\" style=\"height: 525px; width: 100%;\" class=\"plotly-graph-div\"></div><script type=\"text/javascript\">require([\"plotly\"], function(Plotly) { window.PLOTLYENV=window.PLOTLYENV || {};window.PLOTLYENV.BASE_URL=\"https://plot.ly\";Plotly.newPlot(\"860e77f5-031d-4038-9e66-d35ceb2fe0b7\", [{\"type\": \"heatmap\", \"z\": [[0.3870967741935484, 0.4675324675324675, 0.4235294117647058], [0.3050847457627119, 0.42857142857142855, 0.3564356435643565], [0.43478260869565216, 0.3333333333333333, 0.3773584905660377], [0.21951219512195122, 0.17307692307692307, 0.19354838709677416], [0.45, 0.4864864864864865, 0.4675324675324675], [0.07692307692307693, 0.027777777777777776, 0.04081632653061225], [0.3333333333333333, 0.5, 0.4], [0.9487179487179487, 0.8809523809523809, 0.9135802469135802]], \"y\": [\"focused-active\", \"focused-passive\", \"household-chores\", \"leisure\", \"movement\", \"rest-active\", \"rest-passive\", \"sleep\"], \"x\": [\"precision\", \"recall\", \"f1\"], \"colorscale\": [[0.0, \"rgb(165,0,38)\"], [0.1111111111111111, \"rgb(215,48,39)\"], [0.2222222222222222, \"rgb(244,109,67)\"], [0.3333333333333333, \"rgb(253,174,97)\"], [0.4444444444444444, \"rgb(254,224,144)\"], [0.5555555555555556, \"rgb(224,243,248)\"], [0.6666666666666666, \"rgb(171,217,233)\"], [0.7777777777777778, \"rgb(116,173,209)\"], [0.8888888888888888, \"rgb(69,117,180)\"], [1.0, \"rgb(49,54,149)\"]], \"zmin\": 0.5, \"zmax\": 1.0}], {\"title\": \"Precision, Recall, F1-score\", \"font\": {\"size\": 16, \"color\": \"#333333\"}, \"yaxis\": {\"autorange\": \"reversed\"}}, {\"showLink\": true, \"linkText\": \"Export to plot.ly\"})});</script>"
      ],
      "text/vnd.plotly.v1+html": [
       "<div id=\"860e77f5-031d-4038-9e66-d35ceb2fe0b7\" style=\"height: 525px; width: 100%;\" class=\"plotly-graph-div\"></div><script type=\"text/javascript\">require([\"plotly\"], function(Plotly) { window.PLOTLYENV=window.PLOTLYENV || {};window.PLOTLYENV.BASE_URL=\"https://plot.ly\";Plotly.newPlot(\"860e77f5-031d-4038-9e66-d35ceb2fe0b7\", [{\"type\": \"heatmap\", \"z\": [[0.3870967741935484, 0.4675324675324675, 0.4235294117647058], [0.3050847457627119, 0.42857142857142855, 0.3564356435643565], [0.43478260869565216, 0.3333333333333333, 0.3773584905660377], [0.21951219512195122, 0.17307692307692307, 0.19354838709677416], [0.45, 0.4864864864864865, 0.4675324675324675], [0.07692307692307693, 0.027777777777777776, 0.04081632653061225], [0.3333333333333333, 0.5, 0.4], [0.9487179487179487, 0.8809523809523809, 0.9135802469135802]], \"y\": [\"focused-active\", \"focused-passive\", \"household-chores\", \"leisure\", \"movement\", \"rest-active\", \"rest-passive\", \"sleep\"], \"x\": [\"precision\", \"recall\", \"f1\"], \"colorscale\": [[0.0, \"rgb(165,0,38)\"], [0.1111111111111111, \"rgb(215,48,39)\"], [0.2222222222222222, \"rgb(244,109,67)\"], [0.3333333333333333, \"rgb(253,174,97)\"], [0.4444444444444444, \"rgb(254,224,144)\"], [0.5555555555555556, \"rgb(224,243,248)\"], [0.6666666666666666, \"rgb(171,217,233)\"], [0.7777777777777778, \"rgb(116,173,209)\"], [0.8888888888888888, \"rgb(69,117,180)\"], [1.0, \"rgb(49,54,149)\"]], \"zmin\": 0.5, \"zmax\": 1.0}], {\"title\": \"Precision, Recall, F1-score\", \"font\": {\"size\": 16, \"color\": \"#333333\"}, \"yaxis\": {\"autorange\": \"reversed\"}}, {\"showLink\": true, \"linkText\": \"Export to plot.ly\"})});</script>"
      ]
     },
     "metadata": {},
     "output_type": "display_data"
    },
    {
     "data": {
      "application/vnd.plotly.v1+json": {
       "data": [
        {
         "colorscale": "Reds",
         "type": "heatmap",
         "x": [
          "focused-active",
          "focused-passive",
          "household-chores",
          "leisure",
          "movement",
          "rest-active",
          "rest-passive",
          "sleep"
         ],
         "y": [
          "focused-active",
          "focused-passive",
          "household-chores",
          "leisure",
          "movement",
          "rest-active",
          "rest-passive",
          "sleep"
         ],
         "z": [
          [
           36,
           11,
           8,
           14,
           0,
           3,
           2,
           3
          ],
          [
           18,
           36,
           8,
           11,
           6,
           4,
           0,
           1
          ],
          [
           6,
           23,
           20,
           3,
           6,
           2,
           0,
           0
          ],
          [
           21,
           17,
           1,
           9,
           3,
           1,
           0,
           0
          ],
          [
           1,
           11,
           3,
           2,
           18,
           2,
           0,
           0
          ],
          [
           6,
           18,
           5,
           1,
           5,
           1,
           0,
           0
          ],
          [
           0,
           0,
           0,
           1,
           0,
           0,
           1,
           0
          ],
          [
           5,
           2,
           1,
           0,
           2,
           0,
           0,
           74
          ]
         ]
        }
       ],
       "layout": {
        "font": {
         "color": "#333333",
         "size": 16
        },
        "title": "Confusion Matrix",
        "xaxis": {
         "title": "predicted",
         "titlefont": {
          "color": "#333333",
          "size": 16
         }
        },
        "yaxis": {
         "autorange": "reversed",
         "title": "true label",
         "titlefont": {
          "color": "#333333",
          "size": 16
         }
        }
       }
      },
      "text/html": [
       "<div id=\"651b1c62-3b33-4419-8ea8-e8279322aafb\" style=\"height: 525px; width: 100%;\" class=\"plotly-graph-div\"></div><script type=\"text/javascript\">require([\"plotly\"], function(Plotly) { window.PLOTLYENV=window.PLOTLYENV || {};window.PLOTLYENV.BASE_URL=\"https://plot.ly\";Plotly.newPlot(\"651b1c62-3b33-4419-8ea8-e8279322aafb\", [{\"type\": \"heatmap\", \"z\": [[36, 11, 8, 14, 0, 3, 2, 3], [18, 36, 8, 11, 6, 4, 0, 1], [6, 23, 20, 3, 6, 2, 0, 0], [21, 17, 1, 9, 3, 1, 0, 0], [1, 11, 3, 2, 18, 2, 0, 0], [6, 18, 5, 1, 5, 1, 0, 0], [0, 0, 0, 1, 0, 0, 1, 0], [5, 2, 1, 0, 2, 0, 0, 74]], \"x\": [\"focused-active\", \"focused-passive\", \"household-chores\", \"leisure\", \"movement\", \"rest-active\", \"rest-passive\", \"sleep\"], \"y\": [\"focused-active\", \"focused-passive\", \"household-chores\", \"leisure\", \"movement\", \"rest-active\", \"rest-passive\", \"sleep\"], \"colorscale\": \"Reds\"}], {\"title\": \"Confusion Matrix\", \"font\": {\"size\": 16, \"color\": \"#333333\"}, \"xaxis\": {\"title\": \"predicted\", \"titlefont\": {\"size\": 16, \"color\": \"#333333\"}}, \"yaxis\": {\"title\": \"true label\", \"titlefont\": {\"size\": 16, \"color\": \"#333333\"}, \"autorange\": \"reversed\"}}, {\"showLink\": true, \"linkText\": \"Export to plot.ly\"})});</script>"
      ],
      "text/vnd.plotly.v1+html": [
       "<div id=\"651b1c62-3b33-4419-8ea8-e8279322aafb\" style=\"height: 525px; width: 100%;\" class=\"plotly-graph-div\"></div><script type=\"text/javascript\">require([\"plotly\"], function(Plotly) { window.PLOTLYENV=window.PLOTLYENV || {};window.PLOTLYENV.BASE_URL=\"https://plot.ly\";Plotly.newPlot(\"651b1c62-3b33-4419-8ea8-e8279322aafb\", [{\"type\": \"heatmap\", \"z\": [[36, 11, 8, 14, 0, 3, 2, 3], [18, 36, 8, 11, 6, 4, 0, 1], [6, 23, 20, 3, 6, 2, 0, 0], [21, 17, 1, 9, 3, 1, 0, 0], [1, 11, 3, 2, 18, 2, 0, 0], [6, 18, 5, 1, 5, 1, 0, 0], [0, 0, 0, 1, 0, 0, 1, 0], [5, 2, 1, 0, 2, 0, 0, 74]], \"x\": [\"focused-active\", \"focused-passive\", \"household-chores\", \"leisure\", \"movement\", \"rest-active\", \"rest-passive\", \"sleep\"], \"y\": [\"focused-active\", \"focused-passive\", \"household-chores\", \"leisure\", \"movement\", \"rest-active\", \"rest-passive\", \"sleep\"], \"colorscale\": \"Reds\"}], {\"title\": \"Confusion Matrix\", \"font\": {\"size\": 16, \"color\": \"#333333\"}, \"xaxis\": {\"title\": \"predicted\", \"titlefont\": {\"size\": 16, \"color\": \"#333333\"}}, \"yaxis\": {\"title\": \"true label\", \"titlefont\": {\"size\": 16, \"color\": \"#333333\"}, \"autorange\": \"reversed\"}}, {\"showLink\": true, \"linkText\": \"Export to plot.ly\"})});</script>"
      ]
     },
     "metadata": {},
     "output_type": "display_data"
    },
    {
     "name": "stdout",
     "output_type": "stream",
     "text": [
      "\n",
      "\n",
      "\n",
      "--------------------------------------------- gr_main3 ---------------------------------------------\n",
      "gr_main3\n",
      "move      467\n",
      "sleep     396\n",
      "still    1293\n",
      "Name: user, dtype: int64\n",
      "1724 432\n"
     ]
    },
    {
     "data": {
      "application/vnd.plotly.v1+json": {
       "data": [
        {
         "colorscale": [
          [
           0,
           "rgb(165,0,38)"
          ],
          [
           0.1111111111111111,
           "rgb(215,48,39)"
          ],
          [
           0.2222222222222222,
           "rgb(244,109,67)"
          ],
          [
           0.3333333333333333,
           "rgb(253,174,97)"
          ],
          [
           0.4444444444444444,
           "rgb(254,224,144)"
          ],
          [
           0.5555555555555556,
           "rgb(224,243,248)"
          ],
          [
           0.6666666666666666,
           "rgb(171,217,233)"
          ],
          [
           0.7777777777777778,
           "rgb(116,173,209)"
          ],
          [
           0.8888888888888888,
           "rgb(69,117,180)"
          ],
          [
           1,
           "rgb(49,54,149)"
          ]
         ],
         "type": "heatmap",
         "x": [
          "precision",
          "recall",
          "f1"
         ],
         "y": [
          "move",
          "sleep",
          "still"
         ],
         "z": [
          [
           0.7857142857142857,
           0.4536082474226804,
           0.5751633986928104
          ],
          [
           0.9436619718309859,
           0.8170731707317073,
           0.8758169934640523
          ],
          [
           0.7770491803278688,
           0.9367588932806324,
           0.8494623655913979
          ]
         ],
         "zmax": 1,
         "zmin": 0.5
        }
       ],
       "layout": {
        "font": {
         "color": "#333333",
         "size": 16
        },
        "title": "Precision, Recall, F1-score",
        "yaxis": {
         "autorange": "reversed"
        }
       }
      },
      "text/html": [
       "<div id=\"1f51d53b-a812-4d19-86ad-64d950ca44e3\" style=\"height: 525px; width: 100%;\" class=\"plotly-graph-div\"></div><script type=\"text/javascript\">require([\"plotly\"], function(Plotly) { window.PLOTLYENV=window.PLOTLYENV || {};window.PLOTLYENV.BASE_URL=\"https://plot.ly\";Plotly.newPlot(\"1f51d53b-a812-4d19-86ad-64d950ca44e3\", [{\"type\": \"heatmap\", \"z\": [[0.7857142857142857, 0.4536082474226804, 0.5751633986928104], [0.9436619718309859, 0.8170731707317073, 0.8758169934640523], [0.7770491803278688, 0.9367588932806324, 0.8494623655913979]], \"y\": [\"move\", \"sleep\", \"still\"], \"x\": [\"precision\", \"recall\", \"f1\"], \"colorscale\": [[0.0, \"rgb(165,0,38)\"], [0.1111111111111111, \"rgb(215,48,39)\"], [0.2222222222222222, \"rgb(244,109,67)\"], [0.3333333333333333, \"rgb(253,174,97)\"], [0.4444444444444444, \"rgb(254,224,144)\"], [0.5555555555555556, \"rgb(224,243,248)\"], [0.6666666666666666, \"rgb(171,217,233)\"], [0.7777777777777778, \"rgb(116,173,209)\"], [0.8888888888888888, \"rgb(69,117,180)\"], [1.0, \"rgb(49,54,149)\"]], \"zmin\": 0.5, \"zmax\": 1.0}], {\"title\": \"Precision, Recall, F1-score\", \"font\": {\"size\": 16, \"color\": \"#333333\"}, \"yaxis\": {\"autorange\": \"reversed\"}}, {\"showLink\": true, \"linkText\": \"Export to plot.ly\"})});</script>"
      ],
      "text/vnd.plotly.v1+html": [
       "<div id=\"1f51d53b-a812-4d19-86ad-64d950ca44e3\" style=\"height: 525px; width: 100%;\" class=\"plotly-graph-div\"></div><script type=\"text/javascript\">require([\"plotly\"], function(Plotly) { window.PLOTLYENV=window.PLOTLYENV || {};window.PLOTLYENV.BASE_URL=\"https://plot.ly\";Plotly.newPlot(\"1f51d53b-a812-4d19-86ad-64d950ca44e3\", [{\"type\": \"heatmap\", \"z\": [[0.7857142857142857, 0.4536082474226804, 0.5751633986928104], [0.9436619718309859, 0.8170731707317073, 0.8758169934640523], [0.7770491803278688, 0.9367588932806324, 0.8494623655913979]], \"y\": [\"move\", \"sleep\", \"still\"], \"x\": [\"precision\", \"recall\", \"f1\"], \"colorscale\": [[0.0, \"rgb(165,0,38)\"], [0.1111111111111111, \"rgb(215,48,39)\"], [0.2222222222222222, \"rgb(244,109,67)\"], [0.3333333333333333, \"rgb(253,174,97)\"], [0.4444444444444444, \"rgb(254,224,144)\"], [0.5555555555555556, \"rgb(224,243,248)\"], [0.6666666666666666, \"rgb(171,217,233)\"], [0.7777777777777778, \"rgb(116,173,209)\"], [0.8888888888888888, \"rgb(69,117,180)\"], [1.0, \"rgb(49,54,149)\"]], \"zmin\": 0.5, \"zmax\": 1.0}], {\"title\": \"Precision, Recall, F1-score\", \"font\": {\"size\": 16, \"color\": \"#333333\"}, \"yaxis\": {\"autorange\": \"reversed\"}}, {\"showLink\": true, \"linkText\": \"Export to plot.ly\"})});</script>"
      ]
     },
     "metadata": {},
     "output_type": "display_data"
    },
    {
     "data": {
      "application/vnd.plotly.v1+json": {
       "data": [
        {
         "colorscale": "Reds",
         "type": "heatmap",
         "x": [
          "move",
          "sleep",
          "still"
         ],
         "y": [
          "move",
          "sleep",
          "still"
         ],
         "z": [
          [
           44,
           0,
           53
          ],
          [
           0,
           67,
           15
          ],
          [
           12,
           4,
           237
          ]
         ]
        }
       ],
       "layout": {
        "font": {
         "color": "#333333",
         "size": 16
        },
        "title": "Confusion Matrix",
        "xaxis": {
         "title": "predicted",
         "titlefont": {
          "color": "#333333",
          "size": 16
         }
        },
        "yaxis": {
         "autorange": "reversed",
         "title": "true label",
         "titlefont": {
          "color": "#333333",
          "size": 16
         }
        }
       }
      },
      "text/html": [
       "<div id=\"fa7d537f-d0be-4270-a3c4-6656bef6c205\" style=\"height: 525px; width: 100%;\" class=\"plotly-graph-div\"></div><script type=\"text/javascript\">require([\"plotly\"], function(Plotly) { window.PLOTLYENV=window.PLOTLYENV || {};window.PLOTLYENV.BASE_URL=\"https://plot.ly\";Plotly.newPlot(\"fa7d537f-d0be-4270-a3c4-6656bef6c205\", [{\"type\": \"heatmap\", \"z\": [[44, 0, 53], [0, 67, 15], [12, 4, 237]], \"x\": [\"move\", \"sleep\", \"still\"], \"y\": [\"move\", \"sleep\", \"still\"], \"colorscale\": \"Reds\"}], {\"title\": \"Confusion Matrix\", \"font\": {\"size\": 16, \"color\": \"#333333\"}, \"xaxis\": {\"title\": \"predicted\", \"titlefont\": {\"size\": 16, \"color\": \"#333333\"}}, \"yaxis\": {\"title\": \"true label\", \"titlefont\": {\"size\": 16, \"color\": \"#333333\"}, \"autorange\": \"reversed\"}}, {\"showLink\": true, \"linkText\": \"Export to plot.ly\"})});</script>"
      ],
      "text/vnd.plotly.v1+html": [
       "<div id=\"fa7d537f-d0be-4270-a3c4-6656bef6c205\" style=\"height: 525px; width: 100%;\" class=\"plotly-graph-div\"></div><script type=\"text/javascript\">require([\"plotly\"], function(Plotly) { window.PLOTLYENV=window.PLOTLYENV || {};window.PLOTLYENV.BASE_URL=\"https://plot.ly\";Plotly.newPlot(\"fa7d537f-d0be-4270-a3c4-6656bef6c205\", [{\"type\": \"heatmap\", \"z\": [[44, 0, 53], [0, 67, 15], [12, 4, 237]], \"x\": [\"move\", \"sleep\", \"still\"], \"y\": [\"move\", \"sleep\", \"still\"], \"colorscale\": \"Reds\"}], {\"title\": \"Confusion Matrix\", \"font\": {\"size\": 16, \"color\": \"#333333\"}, \"xaxis\": {\"title\": \"predicted\", \"titlefont\": {\"size\": 16, \"color\": \"#333333\"}}, \"yaxis\": {\"title\": \"true label\", \"titlefont\": {\"size\": 16, \"color\": \"#333333\"}, \"autorange\": \"reversed\"}}, {\"showLink\": true, \"linkText\": \"Export to plot.ly\"})});</script>"
      ]
     },
     "metadata": {},
     "output_type": "display_data"
    },
    {
     "name": "stdout",
     "output_type": "stream",
     "text": [
      "\n",
      "\n",
      "\n",
      "--------------------------------------------- gr_main4 ---------------------------------------------\n",
      "gr_main4\n",
      "move      467\n",
      "sleep     396\n",
      "still    1293\n",
      "Name: user, dtype: int64\n",
      "1724 432\n"
     ]
    },
    {
     "data": {
      "application/vnd.plotly.v1+json": {
       "data": [
        {
         "colorscale": [
          [
           0,
           "rgb(165,0,38)"
          ],
          [
           0.1111111111111111,
           "rgb(215,48,39)"
          ],
          [
           0.2222222222222222,
           "rgb(244,109,67)"
          ],
          [
           0.3333333333333333,
           "rgb(253,174,97)"
          ],
          [
           0.4444444444444444,
           "rgb(254,224,144)"
          ],
          [
           0.5555555555555556,
           "rgb(224,243,248)"
          ],
          [
           0.6666666666666666,
           "rgb(171,217,233)"
          ],
          [
           0.7777777777777778,
           "rgb(116,173,209)"
          ],
          [
           0.8888888888888888,
           "rgb(69,117,180)"
          ],
          [
           1,
           "rgb(49,54,149)"
          ]
         ],
         "type": "heatmap",
         "x": [
          "precision",
          "recall",
          "f1"
         ],
         "y": [
          "move",
          "sleep",
          "still"
         ],
         "z": [
          [
           0.7058823529411765,
           0.5333333333333333,
           0.6075949367088608
          ],
          [
           0.927710843373494,
           0.8850574712643678,
           0.9058823529411766
          ],
          [
           0.8185053380782918,
           0.9019607843137255,
           0.8582089552238805
          ]
         ],
         "zmax": 1,
         "zmin": 0.5
        }
       ],
       "layout": {
        "font": {
         "color": "#333333",
         "size": 16
        },
        "title": "Precision, Recall, F1-score",
        "yaxis": {
         "autorange": "reversed"
        }
       }
      },
      "text/html": [
       "<div id=\"8239d810-905b-47e9-bfab-6d658334c491\" style=\"height: 525px; width: 100%;\" class=\"plotly-graph-div\"></div><script type=\"text/javascript\">require([\"plotly\"], function(Plotly) { window.PLOTLYENV=window.PLOTLYENV || {};window.PLOTLYENV.BASE_URL=\"https://plot.ly\";Plotly.newPlot(\"8239d810-905b-47e9-bfab-6d658334c491\", [{\"type\": \"heatmap\", \"z\": [[0.7058823529411765, 0.5333333333333333, 0.6075949367088608], [0.927710843373494, 0.8850574712643678, 0.9058823529411766], [0.8185053380782918, 0.9019607843137255, 0.8582089552238805]], \"y\": [\"move\", \"sleep\", \"still\"], \"x\": [\"precision\", \"recall\", \"f1\"], \"colorscale\": [[0.0, \"rgb(165,0,38)\"], [0.1111111111111111, \"rgb(215,48,39)\"], [0.2222222222222222, \"rgb(244,109,67)\"], [0.3333333333333333, \"rgb(253,174,97)\"], [0.4444444444444444, \"rgb(254,224,144)\"], [0.5555555555555556, \"rgb(224,243,248)\"], [0.6666666666666666, \"rgb(171,217,233)\"], [0.7777777777777778, \"rgb(116,173,209)\"], [0.8888888888888888, \"rgb(69,117,180)\"], [1.0, \"rgb(49,54,149)\"]], \"zmin\": 0.5, \"zmax\": 1.0}], {\"title\": \"Precision, Recall, F1-score\", \"font\": {\"size\": 16, \"color\": \"#333333\"}, \"yaxis\": {\"autorange\": \"reversed\"}}, {\"showLink\": true, \"linkText\": \"Export to plot.ly\"})});</script>"
      ],
      "text/vnd.plotly.v1+html": [
       "<div id=\"8239d810-905b-47e9-bfab-6d658334c491\" style=\"height: 525px; width: 100%;\" class=\"plotly-graph-div\"></div><script type=\"text/javascript\">require([\"plotly\"], function(Plotly) { window.PLOTLYENV=window.PLOTLYENV || {};window.PLOTLYENV.BASE_URL=\"https://plot.ly\";Plotly.newPlot(\"8239d810-905b-47e9-bfab-6d658334c491\", [{\"type\": \"heatmap\", \"z\": [[0.7058823529411765, 0.5333333333333333, 0.6075949367088608], [0.927710843373494, 0.8850574712643678, 0.9058823529411766], [0.8185053380782918, 0.9019607843137255, 0.8582089552238805]], \"y\": [\"move\", \"sleep\", \"still\"], \"x\": [\"precision\", \"recall\", \"f1\"], \"colorscale\": [[0.0, \"rgb(165,0,38)\"], [0.1111111111111111, \"rgb(215,48,39)\"], [0.2222222222222222, \"rgb(244,109,67)\"], [0.3333333333333333, \"rgb(253,174,97)\"], [0.4444444444444444, \"rgb(254,224,144)\"], [0.5555555555555556, \"rgb(224,243,248)\"], [0.6666666666666666, \"rgb(171,217,233)\"], [0.7777777777777778, \"rgb(116,173,209)\"], [0.8888888888888888, \"rgb(69,117,180)\"], [1.0, \"rgb(49,54,149)\"]], \"zmin\": 0.5, \"zmax\": 1.0}], {\"title\": \"Precision, Recall, F1-score\", \"font\": {\"size\": 16, \"color\": \"#333333\"}, \"yaxis\": {\"autorange\": \"reversed\"}}, {\"showLink\": true, \"linkText\": \"Export to plot.ly\"})});</script>"
      ]
     },
     "metadata": {},
     "output_type": "display_data"
    },
    {
     "data": {
      "application/vnd.plotly.v1+json": {
       "data": [
        {
         "colorscale": "Reds",
         "type": "heatmap",
         "x": [
          "move",
          "sleep",
          "still"
         ],
         "y": [
          "move",
          "sleep",
          "still"
         ],
         "z": [
          [
           48,
           0,
           42
          ],
          [
           1,
           77,
           9
          ],
          [
           19,
           6,
           230
          ]
         ]
        }
       ],
       "layout": {
        "font": {
         "color": "#333333",
         "size": 16
        },
        "title": "Confusion Matrix",
        "xaxis": {
         "title": "predicted",
         "titlefont": {
          "color": "#333333",
          "size": 16
         }
        },
        "yaxis": {
         "autorange": "reversed",
         "title": "true label",
         "titlefont": {
          "color": "#333333",
          "size": 16
         }
        }
       }
      },
      "text/html": [
       "<div id=\"26ffbf2a-2cc4-4820-ae5d-eb2f9273a256\" style=\"height: 525px; width: 100%;\" class=\"plotly-graph-div\"></div><script type=\"text/javascript\">require([\"plotly\"], function(Plotly) { window.PLOTLYENV=window.PLOTLYENV || {};window.PLOTLYENV.BASE_URL=\"https://plot.ly\";Plotly.newPlot(\"26ffbf2a-2cc4-4820-ae5d-eb2f9273a256\", [{\"type\": \"heatmap\", \"z\": [[48, 0, 42], [1, 77, 9], [19, 6, 230]], \"x\": [\"move\", \"sleep\", \"still\"], \"y\": [\"move\", \"sleep\", \"still\"], \"colorscale\": \"Reds\"}], {\"title\": \"Confusion Matrix\", \"font\": {\"size\": 16, \"color\": \"#333333\"}, \"xaxis\": {\"title\": \"predicted\", \"titlefont\": {\"size\": 16, \"color\": \"#333333\"}}, \"yaxis\": {\"title\": \"true label\", \"titlefont\": {\"size\": 16, \"color\": \"#333333\"}, \"autorange\": \"reversed\"}}, {\"showLink\": true, \"linkText\": \"Export to plot.ly\"})});</script>"
      ],
      "text/vnd.plotly.v1+html": [
       "<div id=\"26ffbf2a-2cc4-4820-ae5d-eb2f9273a256\" style=\"height: 525px; width: 100%;\" class=\"plotly-graph-div\"></div><script type=\"text/javascript\">require([\"plotly\"], function(Plotly) { window.PLOTLYENV=window.PLOTLYENV || {};window.PLOTLYENV.BASE_URL=\"https://plot.ly\";Plotly.newPlot(\"26ffbf2a-2cc4-4820-ae5d-eb2f9273a256\", [{\"type\": \"heatmap\", \"z\": [[48, 0, 42], [1, 77, 9], [19, 6, 230]], \"x\": [\"move\", \"sleep\", \"still\"], \"y\": [\"move\", \"sleep\", \"still\"], \"colorscale\": \"Reds\"}], {\"title\": \"Confusion Matrix\", \"font\": {\"size\": 16, \"color\": \"#333333\"}, \"xaxis\": {\"title\": \"predicted\", \"titlefont\": {\"size\": 16, \"color\": \"#333333\"}}, \"yaxis\": {\"title\": \"true label\", \"titlefont\": {\"size\": 16, \"color\": \"#333333\"}, \"autorange\": \"reversed\"}}, {\"showLink\": true, \"linkText\": \"Export to plot.ly\"})});</script>"
      ]
     },
     "metadata": {},
     "output_type": "display_data"
    },
    {
     "name": "stdout",
     "output_type": "stream",
     "text": [
      "\n",
      "\n",
      "\n",
      "--------------------------------------------- gr_stress2 ---------------------------------------------\n",
      "gr_stress2\n",
      "move         467\n",
      "relaxed      291\n",
      "sleep        396\n",
      "stressed    1002\n",
      "Name: user, dtype: int64\n",
      "1724 432\n"
     ]
    },
    {
     "data": {
      "application/vnd.plotly.v1+json": {
       "data": [
        {
         "colorscale": [
          [
           0,
           "rgb(165,0,38)"
          ],
          [
           0.1111111111111111,
           "rgb(215,48,39)"
          ],
          [
           0.2222222222222222,
           "rgb(244,109,67)"
          ],
          [
           0.3333333333333333,
           "rgb(253,174,97)"
          ],
          [
           0.4444444444444444,
           "rgb(254,224,144)"
          ],
          [
           0.5555555555555556,
           "rgb(224,243,248)"
          ],
          [
           0.6666666666666666,
           "rgb(171,217,233)"
          ],
          [
           0.7777777777777778,
           "rgb(116,173,209)"
          ],
          [
           0.8888888888888888,
           "rgb(69,117,180)"
          ],
          [
           1,
           "rgb(49,54,149)"
          ]
         ],
         "type": "heatmap",
         "x": [
          "precision",
          "recall",
          "f1"
         ],
         "y": [
          "move",
          "relaxed",
          "sleep",
          "stressed"
         ],
         "z": [
          [
           0.6582278481012658,
           0.5360824742268041,
           0.5909090909090909
          ],
          [
           0.3333333333333333,
           0.1320754716981132,
           0.18918918918918917
          ],
          [
           0.8840579710144928,
           0.8591549295774648,
           0.8714285714285713
          ],
          [
           0.6768060836501901,
           0.8436018957345972,
           0.7510548523206751
          ]
         ],
         "zmax": 1,
         "zmin": 0.5
        }
       ],
       "layout": {
        "font": {
         "color": "#333333",
         "size": 16
        },
        "title": "Precision, Recall, F1-score",
        "yaxis": {
         "autorange": "reversed"
        }
       }
      },
      "text/html": [
       "<div id=\"0864a044-472a-4e4f-9912-31e96c40a568\" style=\"height: 525px; width: 100%;\" class=\"plotly-graph-div\"></div><script type=\"text/javascript\">require([\"plotly\"], function(Plotly) { window.PLOTLYENV=window.PLOTLYENV || {};window.PLOTLYENV.BASE_URL=\"https://plot.ly\";Plotly.newPlot(\"0864a044-472a-4e4f-9912-31e96c40a568\", [{\"type\": \"heatmap\", \"z\": [[0.6582278481012658, 0.5360824742268041, 0.5909090909090909], [0.3333333333333333, 0.1320754716981132, 0.18918918918918917], [0.8840579710144928, 0.8591549295774648, 0.8714285714285713], [0.6768060836501901, 0.8436018957345972, 0.7510548523206751]], \"y\": [\"move\", \"relaxed\", \"sleep\", \"stressed\"], \"x\": [\"precision\", \"recall\", \"f1\"], \"colorscale\": [[0.0, \"rgb(165,0,38)\"], [0.1111111111111111, \"rgb(215,48,39)\"], [0.2222222222222222, \"rgb(244,109,67)\"], [0.3333333333333333, \"rgb(253,174,97)\"], [0.4444444444444444, \"rgb(254,224,144)\"], [0.5555555555555556, \"rgb(224,243,248)\"], [0.6666666666666666, \"rgb(171,217,233)\"], [0.7777777777777778, \"rgb(116,173,209)\"], [0.8888888888888888, \"rgb(69,117,180)\"], [1.0, \"rgb(49,54,149)\"]], \"zmin\": 0.5, \"zmax\": 1.0}], {\"title\": \"Precision, Recall, F1-score\", \"font\": {\"size\": 16, \"color\": \"#333333\"}, \"yaxis\": {\"autorange\": \"reversed\"}}, {\"showLink\": true, \"linkText\": \"Export to plot.ly\"})});</script>"
      ],
      "text/vnd.plotly.v1+html": [
       "<div id=\"0864a044-472a-4e4f-9912-31e96c40a568\" style=\"height: 525px; width: 100%;\" class=\"plotly-graph-div\"></div><script type=\"text/javascript\">require([\"plotly\"], function(Plotly) { window.PLOTLYENV=window.PLOTLYENV || {};window.PLOTLYENV.BASE_URL=\"https://plot.ly\";Plotly.newPlot(\"0864a044-472a-4e4f-9912-31e96c40a568\", [{\"type\": \"heatmap\", \"z\": [[0.6582278481012658, 0.5360824742268041, 0.5909090909090909], [0.3333333333333333, 0.1320754716981132, 0.18918918918918917], [0.8840579710144928, 0.8591549295774648, 0.8714285714285713], [0.6768060836501901, 0.8436018957345972, 0.7510548523206751]], \"y\": [\"move\", \"relaxed\", \"sleep\", \"stressed\"], \"x\": [\"precision\", \"recall\", \"f1\"], \"colorscale\": [[0.0, \"rgb(165,0,38)\"], [0.1111111111111111, \"rgb(215,48,39)\"], [0.2222222222222222, \"rgb(244,109,67)\"], [0.3333333333333333, \"rgb(253,174,97)\"], [0.4444444444444444, \"rgb(254,224,144)\"], [0.5555555555555556, \"rgb(224,243,248)\"], [0.6666666666666666, \"rgb(171,217,233)\"], [0.7777777777777778, \"rgb(116,173,209)\"], [0.8888888888888888, \"rgb(69,117,180)\"], [1.0, \"rgb(49,54,149)\"]], \"zmin\": 0.5, \"zmax\": 1.0}], {\"title\": \"Precision, Recall, F1-score\", \"font\": {\"size\": 16, \"color\": \"#333333\"}, \"yaxis\": {\"autorange\": \"reversed\"}}, {\"showLink\": true, \"linkText\": \"Export to plot.ly\"})});</script>"
      ]
     },
     "metadata": {},
     "output_type": "display_data"
    },
    {
     "data": {
      "application/vnd.plotly.v1+json": {
       "data": [
        {
         "colorscale": "Reds",
         "type": "heatmap",
         "x": [
          "move",
          "relaxed",
          "sleep",
          "stressed"
         ],
         "y": [
          "move",
          "relaxed",
          "sleep",
          "stressed"
         ],
         "z": [
          [
           52,
           3,
           0,
           42
          ],
          [
           6,
           7,
           2,
           38
          ],
          [
           3,
           2,
           61,
           5
          ],
          [
           18,
           9,
           6,
           178
          ]
         ]
        }
       ],
       "layout": {
        "font": {
         "color": "#333333",
         "size": 16
        },
        "title": "Confusion Matrix",
        "xaxis": {
         "title": "predicted",
         "titlefont": {
          "color": "#333333",
          "size": 16
         }
        },
        "yaxis": {
         "autorange": "reversed",
         "title": "true label",
         "titlefont": {
          "color": "#333333",
          "size": 16
         }
        }
       }
      },
      "text/html": [
       "<div id=\"244606fb-c223-4df1-8469-dae544b9dabf\" style=\"height: 525px; width: 100%;\" class=\"plotly-graph-div\"></div><script type=\"text/javascript\">require([\"plotly\"], function(Plotly) { window.PLOTLYENV=window.PLOTLYENV || {};window.PLOTLYENV.BASE_URL=\"https://plot.ly\";Plotly.newPlot(\"244606fb-c223-4df1-8469-dae544b9dabf\", [{\"type\": \"heatmap\", \"z\": [[52, 3, 0, 42], [6, 7, 2, 38], [3, 2, 61, 5], [18, 9, 6, 178]], \"x\": [\"move\", \"relaxed\", \"sleep\", \"stressed\"], \"y\": [\"move\", \"relaxed\", \"sleep\", \"stressed\"], \"colorscale\": \"Reds\"}], {\"title\": \"Confusion Matrix\", \"font\": {\"size\": 16, \"color\": \"#333333\"}, \"xaxis\": {\"title\": \"predicted\", \"titlefont\": {\"size\": 16, \"color\": \"#333333\"}}, \"yaxis\": {\"title\": \"true label\", \"titlefont\": {\"size\": 16, \"color\": \"#333333\"}, \"autorange\": \"reversed\"}}, {\"showLink\": true, \"linkText\": \"Export to plot.ly\"})});</script>"
      ],
      "text/vnd.plotly.v1+html": [
       "<div id=\"244606fb-c223-4df1-8469-dae544b9dabf\" style=\"height: 525px; width: 100%;\" class=\"plotly-graph-div\"></div><script type=\"text/javascript\">require([\"plotly\"], function(Plotly) { window.PLOTLYENV=window.PLOTLYENV || {};window.PLOTLYENV.BASE_URL=\"https://plot.ly\";Plotly.newPlot(\"244606fb-c223-4df1-8469-dae544b9dabf\", [{\"type\": \"heatmap\", \"z\": [[52, 3, 0, 42], [6, 7, 2, 38], [3, 2, 61, 5], [18, 9, 6, 178]], \"x\": [\"move\", \"relaxed\", \"sleep\", \"stressed\"], \"y\": [\"move\", \"relaxed\", \"sleep\", \"stressed\"], \"colorscale\": \"Reds\"}], {\"title\": \"Confusion Matrix\", \"font\": {\"size\": 16, \"color\": \"#333333\"}, \"xaxis\": {\"title\": \"predicted\", \"titlefont\": {\"size\": 16, \"color\": \"#333333\"}}, \"yaxis\": {\"title\": \"true label\", \"titlefont\": {\"size\": 16, \"color\": \"#333333\"}, \"autorange\": \"reversed\"}}, {\"showLink\": true, \"linkText\": \"Export to plot.ly\"})});</script>"
      ]
     },
     "metadata": {},
     "output_type": "display_data"
    },
    {
     "name": "stdout",
     "output_type": "stream",
     "text": [
      "\n",
      "\n",
      "\n",
      "--------------------------------------------- posture ---------------------------------------------\n",
      "posture\n",
      "lie       396\n",
      "sit      1338\n",
      "stand     422\n",
      "Name: user, dtype: int64\n",
      "1724 432\n"
     ]
    },
    {
     "data": {
      "application/vnd.plotly.v1+json": {
       "data": [
        {
         "colorscale": [
          [
           0,
           "rgb(165,0,38)"
          ],
          [
           0.1111111111111111,
           "rgb(215,48,39)"
          ],
          [
           0.2222222222222222,
           "rgb(244,109,67)"
          ],
          [
           0.3333333333333333,
           "rgb(253,174,97)"
          ],
          [
           0.4444444444444444,
           "rgb(254,224,144)"
          ],
          [
           0.5555555555555556,
           "rgb(224,243,248)"
          ],
          [
           0.6666666666666666,
           "rgb(171,217,233)"
          ],
          [
           0.7777777777777778,
           "rgb(116,173,209)"
          ],
          [
           0.8888888888888888,
           "rgb(69,117,180)"
          ],
          [
           1,
           "rgb(49,54,149)"
          ]
         ],
         "type": "heatmap",
         "x": [
          "precision",
          "recall",
          "f1"
         ],
         "y": [
          "lie",
          "sit",
          "stand"
         ],
         "z": [
          [
           0.9156626506024096,
           0.9156626506024096,
           0.9156626506024096
          ],
          [
           0.8426573426573427,
           0.9163498098859315,
           0.8779599271402551
          ],
          [
           0.7142857142857143,
           0.5232558139534884,
           0.6040268456375839
          ]
         ],
         "zmax": 1,
         "zmin": 0.5
        }
       ],
       "layout": {
        "font": {
         "color": "#333333",
         "size": 16
        },
        "title": "Precision, Recall, F1-score",
        "yaxis": {
         "autorange": "reversed"
        }
       }
      },
      "text/html": [
       "<div id=\"1310a260-b4e1-447d-97b0-9a4b99f1682c\" style=\"height: 525px; width: 100%;\" class=\"plotly-graph-div\"></div><script type=\"text/javascript\">require([\"plotly\"], function(Plotly) { window.PLOTLYENV=window.PLOTLYENV || {};window.PLOTLYENV.BASE_URL=\"https://plot.ly\";Plotly.newPlot(\"1310a260-b4e1-447d-97b0-9a4b99f1682c\", [{\"type\": \"heatmap\", \"z\": [[0.9156626506024096, 0.9156626506024096, 0.9156626506024096], [0.8426573426573427, 0.9163498098859315, 0.8779599271402551], [0.7142857142857143, 0.5232558139534884, 0.6040268456375839]], \"y\": [\"lie\", \"sit\", \"stand\"], \"x\": [\"precision\", \"recall\", \"f1\"], \"colorscale\": [[0.0, \"rgb(165,0,38)\"], [0.1111111111111111, \"rgb(215,48,39)\"], [0.2222222222222222, \"rgb(244,109,67)\"], [0.3333333333333333, \"rgb(253,174,97)\"], [0.4444444444444444, \"rgb(254,224,144)\"], [0.5555555555555556, \"rgb(224,243,248)\"], [0.6666666666666666, \"rgb(171,217,233)\"], [0.7777777777777778, \"rgb(116,173,209)\"], [0.8888888888888888, \"rgb(69,117,180)\"], [1.0, \"rgb(49,54,149)\"]], \"zmin\": 0.5, \"zmax\": 1.0}], {\"title\": \"Precision, Recall, F1-score\", \"font\": {\"size\": 16, \"color\": \"#333333\"}, \"yaxis\": {\"autorange\": \"reversed\"}}, {\"showLink\": true, \"linkText\": \"Export to plot.ly\"})});</script>"
      ],
      "text/vnd.plotly.v1+html": [
       "<div id=\"1310a260-b4e1-447d-97b0-9a4b99f1682c\" style=\"height: 525px; width: 100%;\" class=\"plotly-graph-div\"></div><script type=\"text/javascript\">require([\"plotly\"], function(Plotly) { window.PLOTLYENV=window.PLOTLYENV || {};window.PLOTLYENV.BASE_URL=\"https://plot.ly\";Plotly.newPlot(\"1310a260-b4e1-447d-97b0-9a4b99f1682c\", [{\"type\": \"heatmap\", \"z\": [[0.9156626506024096, 0.9156626506024096, 0.9156626506024096], [0.8426573426573427, 0.9163498098859315, 0.8779599271402551], [0.7142857142857143, 0.5232558139534884, 0.6040268456375839]], \"y\": [\"lie\", \"sit\", \"stand\"], \"x\": [\"precision\", \"recall\", \"f1\"], \"colorscale\": [[0.0, \"rgb(165,0,38)\"], [0.1111111111111111, \"rgb(215,48,39)\"], [0.2222222222222222, \"rgb(244,109,67)\"], [0.3333333333333333, \"rgb(253,174,97)\"], [0.4444444444444444, \"rgb(254,224,144)\"], [0.5555555555555556, \"rgb(224,243,248)\"], [0.6666666666666666, \"rgb(171,217,233)\"], [0.7777777777777778, \"rgb(116,173,209)\"], [0.8888888888888888, \"rgb(69,117,180)\"], [1.0, \"rgb(49,54,149)\"]], \"zmin\": 0.5, \"zmax\": 1.0}], {\"title\": \"Precision, Recall, F1-score\", \"font\": {\"size\": 16, \"color\": \"#333333\"}, \"yaxis\": {\"autorange\": \"reversed\"}}, {\"showLink\": true, \"linkText\": \"Export to plot.ly\"})});</script>"
      ]
     },
     "metadata": {},
     "output_type": "display_data"
    },
    {
     "data": {
      "application/vnd.plotly.v1+json": {
       "data": [
        {
         "colorscale": "Reds",
         "type": "heatmap",
         "x": [
          "lie",
          "sit",
          "stand"
         ],
         "y": [
          "lie",
          "sit",
          "stand"
         ],
         "z": [
          [
           76,
           4,
           3
          ],
          [
           7,
           241,
           15
          ],
          [
           0,
           41,
           45
          ]
         ]
        }
       ],
       "layout": {
        "font": {
         "color": "#333333",
         "size": 16
        },
        "title": "Confusion Matrix",
        "xaxis": {
         "title": "predicted",
         "titlefont": {
          "color": "#333333",
          "size": 16
         }
        },
        "yaxis": {
         "autorange": "reversed",
         "title": "true label",
         "titlefont": {
          "color": "#333333",
          "size": 16
         }
        }
       }
      },
      "text/html": [
       "<div id=\"f71ab9df-3033-4be8-ab5f-ebc330775144\" style=\"height: 525px; width: 100%;\" class=\"plotly-graph-div\"></div><script type=\"text/javascript\">require([\"plotly\"], function(Plotly) { window.PLOTLYENV=window.PLOTLYENV || {};window.PLOTLYENV.BASE_URL=\"https://plot.ly\";Plotly.newPlot(\"f71ab9df-3033-4be8-ab5f-ebc330775144\", [{\"type\": \"heatmap\", \"z\": [[76, 4, 3], [7, 241, 15], [0, 41, 45]], \"x\": [\"lie\", \"sit\", \"stand\"], \"y\": [\"lie\", \"sit\", \"stand\"], \"colorscale\": \"Reds\"}], {\"title\": \"Confusion Matrix\", \"font\": {\"size\": 16, \"color\": \"#333333\"}, \"xaxis\": {\"title\": \"predicted\", \"titlefont\": {\"size\": 16, \"color\": \"#333333\"}}, \"yaxis\": {\"title\": \"true label\", \"titlefont\": {\"size\": 16, \"color\": \"#333333\"}, \"autorange\": \"reversed\"}}, {\"showLink\": true, \"linkText\": \"Export to plot.ly\"})});</script>"
      ],
      "text/vnd.plotly.v1+html": [
       "<div id=\"f71ab9df-3033-4be8-ab5f-ebc330775144\" style=\"height: 525px; width: 100%;\" class=\"plotly-graph-div\"></div><script type=\"text/javascript\">require([\"plotly\"], function(Plotly) { window.PLOTLYENV=window.PLOTLYENV || {};window.PLOTLYENV.BASE_URL=\"https://plot.ly\";Plotly.newPlot(\"f71ab9df-3033-4be8-ab5f-ebc330775144\", [{\"type\": \"heatmap\", \"z\": [[76, 4, 3], [7, 241, 15], [0, 41, 45]], \"x\": [\"lie\", \"sit\", \"stand\"], \"y\": [\"lie\", \"sit\", \"stand\"], \"colorscale\": \"Reds\"}], {\"title\": \"Confusion Matrix\", \"font\": {\"size\": 16, \"color\": \"#333333\"}, \"xaxis\": {\"title\": \"predicted\", \"titlefont\": {\"size\": 16, \"color\": \"#333333\"}}, \"yaxis\": {\"title\": \"true label\", \"titlefont\": {\"size\": 16, \"color\": \"#333333\"}, \"autorange\": \"reversed\"}}, {\"showLink\": true, \"linkText\": \"Export to plot.ly\"})});</script>"
      ]
     },
     "metadata": {},
     "output_type": "display_data"
    }
   ],
   "source": [
    "dfu = dfr[dfr['user']==2]\n",
    "for label in ['activity', 'gr_main3', 'gr_main4', 'gr_stress2', 'posture']:\n",
    "    cmc.plot_matrices(dfu, clf, features, label)          "
   ]
  },
  {
   "cell_type": "markdown",
   "metadata": {},
   "source": [
    "## Intrauser classification for user 6"
   ]
  },
  {
   "cell_type": "code",
   "execution_count": 15,
   "metadata": {
    "scrolled": false
   },
   "outputs": [
    {
     "name": "stdout",
     "output_type": "stream",
     "text": [
      "\n",
      "\n",
      "\n",
      "--------------------------------------------- activity ---------------------------------------------\n",
      "activity\n",
      "eat                60\n",
      "focused-active    365\n",
      "leisure           159\n",
      "rest-active       185\n",
      "sleep             282\n",
      "Name: user, dtype: int64\n",
      "840 211\n"
     ]
    },
    {
     "data": {
      "application/vnd.plotly.v1+json": {
       "data": [
        {
         "colorscale": [
          [
           0,
           "rgb(165,0,38)"
          ],
          [
           0.1111111111111111,
           "rgb(215,48,39)"
          ],
          [
           0.2222222222222222,
           "rgb(244,109,67)"
          ],
          [
           0.3333333333333333,
           "rgb(253,174,97)"
          ],
          [
           0.4444444444444444,
           "rgb(254,224,144)"
          ],
          [
           0.5555555555555556,
           "rgb(224,243,248)"
          ],
          [
           0.6666666666666666,
           "rgb(171,217,233)"
          ],
          [
           0.7777777777777778,
           "rgb(116,173,209)"
          ],
          [
           0.8888888888888888,
           "rgb(69,117,180)"
          ],
          [
           1,
           "rgb(49,54,149)"
          ]
         ],
         "type": "heatmap",
         "x": [
          "precision",
          "recall",
          "f1"
         ],
         "y": [
          "eat",
          "focused-active",
          "leisure",
          "rest-active",
          "sleep"
         ],
         "z": [
          [
           0.7272727272727273,
           0.5,
           0.5925925925925926
          ],
          [
           0.6666666666666666,
           0.8354430379746836,
           0.7415730337078652
          ],
          [
           0.38461538461538464,
           0.16129032258064516,
           0.22727272727272727
          ],
          [
           0.5625,
           0.5625,
           0.5625
          ],
          [
           0.875,
           0.9245283018867925,
           0.8990825688073395
          ]
         ],
         "zmax": 1,
         "zmin": 0.5
        }
       ],
       "layout": {
        "font": {
         "color": "#333333",
         "size": 16
        },
        "title": "Precision, Recall, F1-score",
        "yaxis": {
         "autorange": "reversed"
        }
       }
      },
      "text/html": [
       "<div id=\"4fdcfe65-580e-42eb-bbf8-0c46b1b7a6d4\" style=\"height: 525px; width: 100%;\" class=\"plotly-graph-div\"></div><script type=\"text/javascript\">require([\"plotly\"], function(Plotly) { window.PLOTLYENV=window.PLOTLYENV || {};window.PLOTLYENV.BASE_URL=\"https://plot.ly\";Plotly.newPlot(\"4fdcfe65-580e-42eb-bbf8-0c46b1b7a6d4\", [{\"type\": \"heatmap\", \"z\": [[0.7272727272727273, 0.5, 0.5925925925925926], [0.6666666666666666, 0.8354430379746836, 0.7415730337078652], [0.38461538461538464, 0.16129032258064516, 0.22727272727272727], [0.5625, 0.5625, 0.5625], [0.875, 0.9245283018867925, 0.8990825688073395]], \"y\": [\"eat\", \"focused-active\", \"leisure\", \"rest-active\", \"sleep\"], \"x\": [\"precision\", \"recall\", \"f1\"], \"colorscale\": [[0.0, \"rgb(165,0,38)\"], [0.1111111111111111, \"rgb(215,48,39)\"], [0.2222222222222222, \"rgb(244,109,67)\"], [0.3333333333333333, \"rgb(253,174,97)\"], [0.4444444444444444, \"rgb(254,224,144)\"], [0.5555555555555556, \"rgb(224,243,248)\"], [0.6666666666666666, \"rgb(171,217,233)\"], [0.7777777777777778, \"rgb(116,173,209)\"], [0.8888888888888888, \"rgb(69,117,180)\"], [1.0, \"rgb(49,54,149)\"]], \"zmin\": 0.5, \"zmax\": 1.0}], {\"title\": \"Precision, Recall, F1-score\", \"font\": {\"size\": 16, \"color\": \"#333333\"}, \"yaxis\": {\"autorange\": \"reversed\"}}, {\"showLink\": true, \"linkText\": \"Export to plot.ly\"})});</script>"
      ],
      "text/vnd.plotly.v1+html": [
       "<div id=\"4fdcfe65-580e-42eb-bbf8-0c46b1b7a6d4\" style=\"height: 525px; width: 100%;\" class=\"plotly-graph-div\"></div><script type=\"text/javascript\">require([\"plotly\"], function(Plotly) { window.PLOTLYENV=window.PLOTLYENV || {};window.PLOTLYENV.BASE_URL=\"https://plot.ly\";Plotly.newPlot(\"4fdcfe65-580e-42eb-bbf8-0c46b1b7a6d4\", [{\"type\": \"heatmap\", \"z\": [[0.7272727272727273, 0.5, 0.5925925925925926], [0.6666666666666666, 0.8354430379746836, 0.7415730337078652], [0.38461538461538464, 0.16129032258064516, 0.22727272727272727], [0.5625, 0.5625, 0.5625], [0.875, 0.9245283018867925, 0.8990825688073395]], \"y\": [\"eat\", \"focused-active\", \"leisure\", \"rest-active\", \"sleep\"], \"x\": [\"precision\", \"recall\", \"f1\"], \"colorscale\": [[0.0, \"rgb(165,0,38)\"], [0.1111111111111111, \"rgb(215,48,39)\"], [0.2222222222222222, \"rgb(244,109,67)\"], [0.3333333333333333, \"rgb(253,174,97)\"], [0.4444444444444444, \"rgb(254,224,144)\"], [0.5555555555555556, \"rgb(224,243,248)\"], [0.6666666666666666, \"rgb(171,217,233)\"], [0.7777777777777778, \"rgb(116,173,209)\"], [0.8888888888888888, \"rgb(69,117,180)\"], [1.0, \"rgb(49,54,149)\"]], \"zmin\": 0.5, \"zmax\": 1.0}], {\"title\": \"Precision, Recall, F1-score\", \"font\": {\"size\": 16, \"color\": \"#333333\"}, \"yaxis\": {\"autorange\": \"reversed\"}}, {\"showLink\": true, \"linkText\": \"Export to plot.ly\"})});</script>"
      ]
     },
     "metadata": {},
     "output_type": "display_data"
    },
    {
     "data": {
      "application/vnd.plotly.v1+json": {
       "data": [
        {
         "colorscale": "Reds",
         "type": "heatmap",
         "x": [
          "eat",
          "focused-active",
          "leisure",
          "rest-active",
          "sleep"
         ],
         "y": [
          "eat",
          "focused-active",
          "leisure",
          "rest-active",
          "sleep"
         ],
         "z": [
          [
           8,
           2,
           3,
           3,
           0
          ],
          [
           1,
           66,
           4,
           1,
           7
          ],
          [
           2,
           14,
           5,
           10,
           0
          ],
          [
           0,
           13,
           1,
           18,
           0
          ],
          [
           0,
           4,
           0,
           0,
           49
          ]
         ]
        }
       ],
       "layout": {
        "font": {
         "color": "#333333",
         "size": 16
        },
        "title": "Confusion Matrix",
        "xaxis": {
         "title": "predicted",
         "titlefont": {
          "color": "#333333",
          "size": 16
         }
        },
        "yaxis": {
         "autorange": "reversed",
         "title": "true label",
         "titlefont": {
          "color": "#333333",
          "size": 16
         }
        }
       }
      },
      "text/html": [
       "<div id=\"d38dec00-4506-42c7-86fe-a360c6a4499b\" style=\"height: 525px; width: 100%;\" class=\"plotly-graph-div\"></div><script type=\"text/javascript\">require([\"plotly\"], function(Plotly) { window.PLOTLYENV=window.PLOTLYENV || {};window.PLOTLYENV.BASE_URL=\"https://plot.ly\";Plotly.newPlot(\"d38dec00-4506-42c7-86fe-a360c6a4499b\", [{\"type\": \"heatmap\", \"z\": [[8, 2, 3, 3, 0], [1, 66, 4, 1, 7], [2, 14, 5, 10, 0], [0, 13, 1, 18, 0], [0, 4, 0, 0, 49]], \"x\": [\"eat\", \"focused-active\", \"leisure\", \"rest-active\", \"sleep\"], \"y\": [\"eat\", \"focused-active\", \"leisure\", \"rest-active\", \"sleep\"], \"colorscale\": \"Reds\"}], {\"title\": \"Confusion Matrix\", \"font\": {\"size\": 16, \"color\": \"#333333\"}, \"xaxis\": {\"title\": \"predicted\", \"titlefont\": {\"size\": 16, \"color\": \"#333333\"}}, \"yaxis\": {\"title\": \"true label\", \"titlefont\": {\"size\": 16, \"color\": \"#333333\"}, \"autorange\": \"reversed\"}}, {\"showLink\": true, \"linkText\": \"Export to plot.ly\"})});</script>"
      ],
      "text/vnd.plotly.v1+html": [
       "<div id=\"d38dec00-4506-42c7-86fe-a360c6a4499b\" style=\"height: 525px; width: 100%;\" class=\"plotly-graph-div\"></div><script type=\"text/javascript\">require([\"plotly\"], function(Plotly) { window.PLOTLYENV=window.PLOTLYENV || {};window.PLOTLYENV.BASE_URL=\"https://plot.ly\";Plotly.newPlot(\"d38dec00-4506-42c7-86fe-a360c6a4499b\", [{\"type\": \"heatmap\", \"z\": [[8, 2, 3, 3, 0], [1, 66, 4, 1, 7], [2, 14, 5, 10, 0], [0, 13, 1, 18, 0], [0, 4, 0, 0, 49]], \"x\": [\"eat\", \"focused-active\", \"leisure\", \"rest-active\", \"sleep\"], \"y\": [\"eat\", \"focused-active\", \"leisure\", \"rest-active\", \"sleep\"], \"colorscale\": \"Reds\"}], {\"title\": \"Confusion Matrix\", \"font\": {\"size\": 16, \"color\": \"#333333\"}, \"xaxis\": {\"title\": \"predicted\", \"titlefont\": {\"size\": 16, \"color\": \"#333333\"}}, \"yaxis\": {\"title\": \"true label\", \"titlefont\": {\"size\": 16, \"color\": \"#333333\"}, \"autorange\": \"reversed\"}}, {\"showLink\": true, \"linkText\": \"Export to plot.ly\"})});</script>"
      ]
     },
     "metadata": {},
     "output_type": "display_data"
    },
    {
     "name": "stdout",
     "output_type": "stream",
     "text": [
      "\n",
      "\n",
      "\n",
      "--------------------------------------------- gr_main4 ---------------------------------------------\n",
      "gr_main4\n",
      "sleep    282\n",
      "still    769\n",
      "Name: user, dtype: int64\n",
      "840 211\n"
     ]
    },
    {
     "data": {
      "application/vnd.plotly.v1+json": {
       "data": [
        {
         "colorscale": [
          [
           0,
           "rgb(165,0,38)"
          ],
          [
           0.1111111111111111,
           "rgb(215,48,39)"
          ],
          [
           0.2222222222222222,
           "rgb(244,109,67)"
          ],
          [
           0.3333333333333333,
           "rgb(253,174,97)"
          ],
          [
           0.4444444444444444,
           "rgb(254,224,144)"
          ],
          [
           0.5555555555555556,
           "rgb(224,243,248)"
          ],
          [
           0.6666666666666666,
           "rgb(171,217,233)"
          ],
          [
           0.7777777777777778,
           "rgb(116,173,209)"
          ],
          [
           0.8888888888888888,
           "rgb(69,117,180)"
          ],
          [
           1,
           "rgb(49,54,149)"
          ]
         ],
         "type": "heatmap",
         "x": [
          "precision",
          "recall",
          "f1"
         ],
         "y": [
          "sleep",
          "still"
         ],
         "z": [
          [
           0.95,
           0.9193548387096774,
           0.9344262295081968
          ],
          [
           0.9668874172185431,
           0.9798657718120806,
           0.9733333333333333
          ]
         ],
         "zmax": 1,
         "zmin": 0.5
        }
       ],
       "layout": {
        "font": {
         "color": "#333333",
         "size": 16
        },
        "title": "Precision, Recall, F1-score",
        "yaxis": {
         "autorange": "reversed"
        }
       }
      },
      "text/html": [
       "<div id=\"2803215b-ace1-43f0-97cd-c089015eee89\" style=\"height: 525px; width: 100%;\" class=\"plotly-graph-div\"></div><script type=\"text/javascript\">require([\"plotly\"], function(Plotly) { window.PLOTLYENV=window.PLOTLYENV || {};window.PLOTLYENV.BASE_URL=\"https://plot.ly\";Plotly.newPlot(\"2803215b-ace1-43f0-97cd-c089015eee89\", [{\"type\": \"heatmap\", \"z\": [[0.95, 0.9193548387096774, 0.9344262295081968], [0.9668874172185431, 0.9798657718120806, 0.9733333333333333]], \"y\": [\"sleep\", \"still\"], \"x\": [\"precision\", \"recall\", \"f1\"], \"colorscale\": [[0.0, \"rgb(165,0,38)\"], [0.1111111111111111, \"rgb(215,48,39)\"], [0.2222222222222222, \"rgb(244,109,67)\"], [0.3333333333333333, \"rgb(253,174,97)\"], [0.4444444444444444, \"rgb(254,224,144)\"], [0.5555555555555556, \"rgb(224,243,248)\"], [0.6666666666666666, \"rgb(171,217,233)\"], [0.7777777777777778, \"rgb(116,173,209)\"], [0.8888888888888888, \"rgb(69,117,180)\"], [1.0, \"rgb(49,54,149)\"]], \"zmin\": 0.5, \"zmax\": 1.0}], {\"title\": \"Precision, Recall, F1-score\", \"font\": {\"size\": 16, \"color\": \"#333333\"}, \"yaxis\": {\"autorange\": \"reversed\"}}, {\"showLink\": true, \"linkText\": \"Export to plot.ly\"})});</script>"
      ],
      "text/vnd.plotly.v1+html": [
       "<div id=\"2803215b-ace1-43f0-97cd-c089015eee89\" style=\"height: 525px; width: 100%;\" class=\"plotly-graph-div\"></div><script type=\"text/javascript\">require([\"plotly\"], function(Plotly) { window.PLOTLYENV=window.PLOTLYENV || {};window.PLOTLYENV.BASE_URL=\"https://plot.ly\";Plotly.newPlot(\"2803215b-ace1-43f0-97cd-c089015eee89\", [{\"type\": \"heatmap\", \"z\": [[0.95, 0.9193548387096774, 0.9344262295081968], [0.9668874172185431, 0.9798657718120806, 0.9733333333333333]], \"y\": [\"sleep\", \"still\"], \"x\": [\"precision\", \"recall\", \"f1\"], \"colorscale\": [[0.0, \"rgb(165,0,38)\"], [0.1111111111111111, \"rgb(215,48,39)\"], [0.2222222222222222, \"rgb(244,109,67)\"], [0.3333333333333333, \"rgb(253,174,97)\"], [0.4444444444444444, \"rgb(254,224,144)\"], [0.5555555555555556, \"rgb(224,243,248)\"], [0.6666666666666666, \"rgb(171,217,233)\"], [0.7777777777777778, \"rgb(116,173,209)\"], [0.8888888888888888, \"rgb(69,117,180)\"], [1.0, \"rgb(49,54,149)\"]], \"zmin\": 0.5, \"zmax\": 1.0}], {\"title\": \"Precision, Recall, F1-score\", \"font\": {\"size\": 16, \"color\": \"#333333\"}, \"yaxis\": {\"autorange\": \"reversed\"}}, {\"showLink\": true, \"linkText\": \"Export to plot.ly\"})});</script>"
      ]
     },
     "metadata": {},
     "output_type": "display_data"
    },
    {
     "data": {
      "application/vnd.plotly.v1+json": {
       "data": [
        {
         "colorscale": "Reds",
         "type": "heatmap",
         "x": [
          "sleep",
          "still"
         ],
         "y": [
          "sleep",
          "still"
         ],
         "z": [
          [
           57,
           5
          ],
          [
           3,
           146
          ]
         ]
        }
       ],
       "layout": {
        "font": {
         "color": "#333333",
         "size": 16
        },
        "title": "Confusion Matrix",
        "xaxis": {
         "title": "predicted",
         "titlefont": {
          "color": "#333333",
          "size": 16
         }
        },
        "yaxis": {
         "autorange": "reversed",
         "title": "true label",
         "titlefont": {
          "color": "#333333",
          "size": 16
         }
        }
       }
      },
      "text/html": [
       "<div id=\"55ba8d64-0f82-408b-b402-7359adadc4f4\" style=\"height: 525px; width: 100%;\" class=\"plotly-graph-div\"></div><script type=\"text/javascript\">require([\"plotly\"], function(Plotly) { window.PLOTLYENV=window.PLOTLYENV || {};window.PLOTLYENV.BASE_URL=\"https://plot.ly\";Plotly.newPlot(\"55ba8d64-0f82-408b-b402-7359adadc4f4\", [{\"type\": \"heatmap\", \"z\": [[57, 5], [3, 146]], \"x\": [\"sleep\", \"still\"], \"y\": [\"sleep\", \"still\"], \"colorscale\": \"Reds\"}], {\"title\": \"Confusion Matrix\", \"font\": {\"size\": 16, \"color\": \"#333333\"}, \"xaxis\": {\"title\": \"predicted\", \"titlefont\": {\"size\": 16, \"color\": \"#333333\"}}, \"yaxis\": {\"title\": \"true label\", \"titlefont\": {\"size\": 16, \"color\": \"#333333\"}, \"autorange\": \"reversed\"}}, {\"showLink\": true, \"linkText\": \"Export to plot.ly\"})});</script>"
      ],
      "text/vnd.plotly.v1+html": [
       "<div id=\"55ba8d64-0f82-408b-b402-7359adadc4f4\" style=\"height: 525px; width: 100%;\" class=\"plotly-graph-div\"></div><script type=\"text/javascript\">require([\"plotly\"], function(Plotly) { window.PLOTLYENV=window.PLOTLYENV || {};window.PLOTLYENV.BASE_URL=\"https://plot.ly\";Plotly.newPlot(\"55ba8d64-0f82-408b-b402-7359adadc4f4\", [{\"type\": \"heatmap\", \"z\": [[57, 5], [3, 146]], \"x\": [\"sleep\", \"still\"], \"y\": [\"sleep\", \"still\"], \"colorscale\": \"Reds\"}], {\"title\": \"Confusion Matrix\", \"font\": {\"size\": 16, \"color\": \"#333333\"}, \"xaxis\": {\"title\": \"predicted\", \"titlefont\": {\"size\": 16, \"color\": \"#333333\"}}, \"yaxis\": {\"title\": \"true label\", \"titlefont\": {\"size\": 16, \"color\": \"#333333\"}, \"autorange\": \"reversed\"}}, {\"showLink\": true, \"linkText\": \"Export to plot.ly\"})});</script>"
      ]
     },
     "metadata": {},
     "output_type": "display_data"
    },
    {
     "name": "stdout",
     "output_type": "stream",
     "text": [
      "\n",
      "\n",
      "\n",
      "--------------------------------------------- gr_stress2 ---------------------------------------------\n",
      "gr_stress2\n",
      "relaxed     219\n",
      "sleep       282\n",
      "stressed    550\n",
      "Name: user, dtype: int64\n",
      "840 211\n"
     ]
    },
    {
     "data": {
      "application/vnd.plotly.v1+json": {
       "data": [
        {
         "colorscale": [
          [
           0,
           "rgb(165,0,38)"
          ],
          [
           0.1111111111111111,
           "rgb(215,48,39)"
          ],
          [
           0.2222222222222222,
           "rgb(244,109,67)"
          ],
          [
           0.3333333333333333,
           "rgb(253,174,97)"
          ],
          [
           0.4444444444444444,
           "rgb(254,224,144)"
          ],
          [
           0.5555555555555556,
           "rgb(224,243,248)"
          ],
          [
           0.6666666666666666,
           "rgb(171,217,233)"
          ],
          [
           0.7777777777777778,
           "rgb(116,173,209)"
          ],
          [
           0.8888888888888888,
           "rgb(69,117,180)"
          ],
          [
           1,
           "rgb(49,54,149)"
          ]
         ],
         "type": "heatmap",
         "x": [
          "precision",
          "recall",
          "f1"
         ],
         "y": [
          "relaxed",
          "sleep",
          "stressed"
         ],
         "z": [
          [
           0.7368421052631579,
           0.3684210526315789,
           0.49122807017543857
          ],
          [
           0.9672131147540983,
           0.855072463768116,
           0.9076923076923077
          ],
          [
           0.7404580152671756,
           0.9326923076923077,
           0.8255319148936171
          ]
         ],
         "zmax": 1,
         "zmin": 0.5
        }
       ],
       "layout": {
        "font": {
         "color": "#333333",
         "size": 16
        },
        "title": "Precision, Recall, F1-score",
        "yaxis": {
         "autorange": "reversed"
        }
       }
      },
      "text/html": [
       "<div id=\"8023f847-a551-4e3f-955b-6fecef84a693\" style=\"height: 525px; width: 100%;\" class=\"plotly-graph-div\"></div><script type=\"text/javascript\">require([\"plotly\"], function(Plotly) { window.PLOTLYENV=window.PLOTLYENV || {};window.PLOTLYENV.BASE_URL=\"https://plot.ly\";Plotly.newPlot(\"8023f847-a551-4e3f-955b-6fecef84a693\", [{\"type\": \"heatmap\", \"z\": [[0.7368421052631579, 0.3684210526315789, 0.49122807017543857], [0.9672131147540983, 0.855072463768116, 0.9076923076923077], [0.7404580152671756, 0.9326923076923077, 0.8255319148936171]], \"y\": [\"relaxed\", \"sleep\", \"stressed\"], \"x\": [\"precision\", \"recall\", \"f1\"], \"colorscale\": [[0.0, \"rgb(165,0,38)\"], [0.1111111111111111, \"rgb(215,48,39)\"], [0.2222222222222222, \"rgb(244,109,67)\"], [0.3333333333333333, \"rgb(253,174,97)\"], [0.4444444444444444, \"rgb(254,224,144)\"], [0.5555555555555556, \"rgb(224,243,248)\"], [0.6666666666666666, \"rgb(171,217,233)\"], [0.7777777777777778, \"rgb(116,173,209)\"], [0.8888888888888888, \"rgb(69,117,180)\"], [1.0, \"rgb(49,54,149)\"]], \"zmin\": 0.5, \"zmax\": 1.0}], {\"title\": \"Precision, Recall, F1-score\", \"font\": {\"size\": 16, \"color\": \"#333333\"}, \"yaxis\": {\"autorange\": \"reversed\"}}, {\"showLink\": true, \"linkText\": \"Export to plot.ly\"})});</script>"
      ],
      "text/vnd.plotly.v1+html": [
       "<div id=\"8023f847-a551-4e3f-955b-6fecef84a693\" style=\"height: 525px; width: 100%;\" class=\"plotly-graph-div\"></div><script type=\"text/javascript\">require([\"plotly\"], function(Plotly) { window.PLOTLYENV=window.PLOTLYENV || {};window.PLOTLYENV.BASE_URL=\"https://plot.ly\";Plotly.newPlot(\"8023f847-a551-4e3f-955b-6fecef84a693\", [{\"type\": \"heatmap\", \"z\": [[0.7368421052631579, 0.3684210526315789, 0.49122807017543857], [0.9672131147540983, 0.855072463768116, 0.9076923076923077], [0.7404580152671756, 0.9326923076923077, 0.8255319148936171]], \"y\": [\"relaxed\", \"sleep\", \"stressed\"], \"x\": [\"precision\", \"recall\", \"f1\"], \"colorscale\": [[0.0, \"rgb(165,0,38)\"], [0.1111111111111111, \"rgb(215,48,39)\"], [0.2222222222222222, \"rgb(244,109,67)\"], [0.3333333333333333, \"rgb(253,174,97)\"], [0.4444444444444444, \"rgb(254,224,144)\"], [0.5555555555555556, \"rgb(224,243,248)\"], [0.6666666666666666, \"rgb(171,217,233)\"], [0.7777777777777778, \"rgb(116,173,209)\"], [0.8888888888888888, \"rgb(69,117,180)\"], [1.0, \"rgb(49,54,149)\"]], \"zmin\": 0.5, \"zmax\": 1.0}], {\"title\": \"Precision, Recall, F1-score\", \"font\": {\"size\": 16, \"color\": \"#333333\"}, \"yaxis\": {\"autorange\": \"reversed\"}}, {\"showLink\": true, \"linkText\": \"Export to plot.ly\"})});</script>"
      ]
     },
     "metadata": {},
     "output_type": "display_data"
    },
    {
     "data": {
      "application/vnd.plotly.v1+json": {
       "data": [
        {
         "colorscale": "Reds",
         "type": "heatmap",
         "x": [
          "relaxed",
          "sleep",
          "stressed"
         ],
         "y": [
          "relaxed",
          "sleep",
          "stressed"
         ],
         "z": [
          [
           14,
           0,
           24
          ],
          [
           0,
           59,
           10
          ],
          [
           5,
           2,
           97
          ]
         ]
        }
       ],
       "layout": {
        "font": {
         "color": "#333333",
         "size": 16
        },
        "title": "Confusion Matrix",
        "xaxis": {
         "title": "predicted",
         "titlefont": {
          "color": "#333333",
          "size": 16
         }
        },
        "yaxis": {
         "autorange": "reversed",
         "title": "true label",
         "titlefont": {
          "color": "#333333",
          "size": 16
         }
        }
       }
      },
      "text/html": [
       "<div id=\"7dc22e48-87d4-4277-a743-f54971423a4d\" style=\"height: 525px; width: 100%;\" class=\"plotly-graph-div\"></div><script type=\"text/javascript\">require([\"plotly\"], function(Plotly) { window.PLOTLYENV=window.PLOTLYENV || {};window.PLOTLYENV.BASE_URL=\"https://plot.ly\";Plotly.newPlot(\"7dc22e48-87d4-4277-a743-f54971423a4d\", [{\"type\": \"heatmap\", \"z\": [[14, 0, 24], [0, 59, 10], [5, 2, 97]], \"x\": [\"relaxed\", \"sleep\", \"stressed\"], \"y\": [\"relaxed\", \"sleep\", \"stressed\"], \"colorscale\": \"Reds\"}], {\"title\": \"Confusion Matrix\", \"font\": {\"size\": 16, \"color\": \"#333333\"}, \"xaxis\": {\"title\": \"predicted\", \"titlefont\": {\"size\": 16, \"color\": \"#333333\"}}, \"yaxis\": {\"title\": \"true label\", \"titlefont\": {\"size\": 16, \"color\": \"#333333\"}, \"autorange\": \"reversed\"}}, {\"showLink\": true, \"linkText\": \"Export to plot.ly\"})});</script>"
      ],
      "text/vnd.plotly.v1+html": [
       "<div id=\"7dc22e48-87d4-4277-a743-f54971423a4d\" style=\"height: 525px; width: 100%;\" class=\"plotly-graph-div\"></div><script type=\"text/javascript\">require([\"plotly\"], function(Plotly) { window.PLOTLYENV=window.PLOTLYENV || {};window.PLOTLYENV.BASE_URL=\"https://plot.ly\";Plotly.newPlot(\"7dc22e48-87d4-4277-a743-f54971423a4d\", [{\"type\": \"heatmap\", \"z\": [[14, 0, 24], [0, 59, 10], [5, 2, 97]], \"x\": [\"relaxed\", \"sleep\", \"stressed\"], \"y\": [\"relaxed\", \"sleep\", \"stressed\"], \"colorscale\": \"Reds\"}], {\"title\": \"Confusion Matrix\", \"font\": {\"size\": 16, \"color\": \"#333333\"}, \"xaxis\": {\"title\": \"predicted\", \"titlefont\": {\"size\": 16, \"color\": \"#333333\"}}, \"yaxis\": {\"title\": \"true label\", \"titlefont\": {\"size\": 16, \"color\": \"#333333\"}, \"autorange\": \"reversed\"}}, {\"showLink\": true, \"linkText\": \"Export to plot.ly\"})});</script>"
      ]
     },
     "metadata": {},
     "output_type": "display_data"
    },
    {
     "name": "stdout",
     "output_type": "stream",
     "text": [
      "\n",
      "\n",
      "\n",
      "--------------------------------------------- posture ---------------------------------------------\n",
      "posture\n",
      "lie      282\n",
      "sit      751\n",
      "stand     18\n",
      "Name: user, dtype: int64\n",
      "840 211\n"
     ]
    },
    {
     "name": "stderr",
     "output_type": "stream",
     "text": [
      "C:\\Users\\Ju\\Anaconda3\\lib\\site-packages\\sklearn\\metrics\\classification.py:1135: UndefinedMetricWarning:\n",
      "\n",
      "Precision and F-score are ill-defined and being set to 0.0 in labels with no predicted samples.\n",
      "\n"
     ]
    },
    {
     "data": {
      "application/vnd.plotly.v1+json": {
       "data": [
        {
         "colorscale": [
          [
           0,
           "rgb(165,0,38)"
          ],
          [
           0.1111111111111111,
           "rgb(215,48,39)"
          ],
          [
           0.2222222222222222,
           "rgb(244,109,67)"
          ],
          [
           0.3333333333333333,
           "rgb(253,174,97)"
          ],
          [
           0.4444444444444444,
           "rgb(254,224,144)"
          ],
          [
           0.5555555555555556,
           "rgb(224,243,248)"
          ],
          [
           0.6666666666666666,
           "rgb(171,217,233)"
          ],
          [
           0.7777777777777778,
           "rgb(116,173,209)"
          ],
          [
           0.8888888888888888,
           "rgb(69,117,180)"
          ],
          [
           1,
           "rgb(49,54,149)"
          ]
         ],
         "type": "heatmap",
         "x": [
          "precision",
          "recall",
          "f1"
         ],
         "y": [
          "lie",
          "sit",
          "stand"
         ],
         "z": [
          [
           0.896551724137931,
           0.9122807017543859,
           0.9043478260869565
          ],
          [
           0.9477124183006536,
           0.9602649006622517,
           0.9539473684210527
          ],
          [
           0,
           0,
           0
          ]
         ],
         "zmax": 1,
         "zmin": 0.5
        }
       ],
       "layout": {
        "font": {
         "color": "#333333",
         "size": 16
        },
        "title": "Precision, Recall, F1-score",
        "yaxis": {
         "autorange": "reversed"
        }
       }
      },
      "text/html": [
       "<div id=\"171f2821-f07b-4142-924c-340c7d60404f\" style=\"height: 525px; width: 100%;\" class=\"plotly-graph-div\"></div><script type=\"text/javascript\">require([\"plotly\"], function(Plotly) { window.PLOTLYENV=window.PLOTLYENV || {};window.PLOTLYENV.BASE_URL=\"https://plot.ly\";Plotly.newPlot(\"171f2821-f07b-4142-924c-340c7d60404f\", [{\"type\": \"heatmap\", \"z\": [[0.896551724137931, 0.9122807017543859, 0.9043478260869565], [0.9477124183006536, 0.9602649006622517, 0.9539473684210527], [0.0, 0.0, 0.0]], \"y\": [\"lie\", \"sit\", \"stand\"], \"x\": [\"precision\", \"recall\", \"f1\"], \"colorscale\": [[0.0, \"rgb(165,0,38)\"], [0.1111111111111111, \"rgb(215,48,39)\"], [0.2222222222222222, \"rgb(244,109,67)\"], [0.3333333333333333, \"rgb(253,174,97)\"], [0.4444444444444444, \"rgb(254,224,144)\"], [0.5555555555555556, \"rgb(224,243,248)\"], [0.6666666666666666, \"rgb(171,217,233)\"], [0.7777777777777778, \"rgb(116,173,209)\"], [0.8888888888888888, \"rgb(69,117,180)\"], [1.0, \"rgb(49,54,149)\"]], \"zmin\": 0.5, \"zmax\": 1.0}], {\"title\": \"Precision, Recall, F1-score\", \"font\": {\"size\": 16, \"color\": \"#333333\"}, \"yaxis\": {\"autorange\": \"reversed\"}}, {\"showLink\": true, \"linkText\": \"Export to plot.ly\"})});</script>"
      ],
      "text/vnd.plotly.v1+html": [
       "<div id=\"171f2821-f07b-4142-924c-340c7d60404f\" style=\"height: 525px; width: 100%;\" class=\"plotly-graph-div\"></div><script type=\"text/javascript\">require([\"plotly\"], function(Plotly) { window.PLOTLYENV=window.PLOTLYENV || {};window.PLOTLYENV.BASE_URL=\"https://plot.ly\";Plotly.newPlot(\"171f2821-f07b-4142-924c-340c7d60404f\", [{\"type\": \"heatmap\", \"z\": [[0.896551724137931, 0.9122807017543859, 0.9043478260869565], [0.9477124183006536, 0.9602649006622517, 0.9539473684210527], [0.0, 0.0, 0.0]], \"y\": [\"lie\", \"sit\", \"stand\"], \"x\": [\"precision\", \"recall\", \"f1\"], \"colorscale\": [[0.0, \"rgb(165,0,38)\"], [0.1111111111111111, \"rgb(215,48,39)\"], [0.2222222222222222, \"rgb(244,109,67)\"], [0.3333333333333333, \"rgb(253,174,97)\"], [0.4444444444444444, \"rgb(254,224,144)\"], [0.5555555555555556, \"rgb(224,243,248)\"], [0.6666666666666666, \"rgb(171,217,233)\"], [0.7777777777777778, \"rgb(116,173,209)\"], [0.8888888888888888, \"rgb(69,117,180)\"], [1.0, \"rgb(49,54,149)\"]], \"zmin\": 0.5, \"zmax\": 1.0}], {\"title\": \"Precision, Recall, F1-score\", \"font\": {\"size\": 16, \"color\": \"#333333\"}, \"yaxis\": {\"autorange\": \"reversed\"}}, {\"showLink\": true, \"linkText\": \"Export to plot.ly\"})});</script>"
      ]
     },
     "metadata": {},
     "output_type": "display_data"
    },
    {
     "data": {
      "application/vnd.plotly.v1+json": {
       "data": [
        {
         "colorscale": "Reds",
         "type": "heatmap",
         "x": [
          "lie",
          "sit",
          "stand"
         ],
         "y": [
          "lie",
          "sit",
          "stand"
         ],
         "z": [
          [
           52,
           5,
           0
          ],
          [
           6,
           145,
           0
          ],
          [
           0,
           3,
           0
          ]
         ]
        }
       ],
       "layout": {
        "font": {
         "color": "#333333",
         "size": 16
        },
        "title": "Confusion Matrix",
        "xaxis": {
         "title": "predicted",
         "titlefont": {
          "color": "#333333",
          "size": 16
         }
        },
        "yaxis": {
         "autorange": "reversed",
         "title": "true label",
         "titlefont": {
          "color": "#333333",
          "size": 16
         }
        }
       }
      },
      "text/html": [
       "<div id=\"1a5a43c1-76aa-455a-b06e-8b6590697903\" style=\"height: 525px; width: 100%;\" class=\"plotly-graph-div\"></div><script type=\"text/javascript\">require([\"plotly\"], function(Plotly) { window.PLOTLYENV=window.PLOTLYENV || {};window.PLOTLYENV.BASE_URL=\"https://plot.ly\";Plotly.newPlot(\"1a5a43c1-76aa-455a-b06e-8b6590697903\", [{\"type\": \"heatmap\", \"z\": [[52, 5, 0], [6, 145, 0], [0, 3, 0]], \"x\": [\"lie\", \"sit\", \"stand\"], \"y\": [\"lie\", \"sit\", \"stand\"], \"colorscale\": \"Reds\"}], {\"title\": \"Confusion Matrix\", \"font\": {\"size\": 16, \"color\": \"#333333\"}, \"xaxis\": {\"title\": \"predicted\", \"titlefont\": {\"size\": 16, \"color\": \"#333333\"}}, \"yaxis\": {\"title\": \"true label\", \"titlefont\": {\"size\": 16, \"color\": \"#333333\"}, \"autorange\": \"reversed\"}}, {\"showLink\": true, \"linkText\": \"Export to plot.ly\"})});</script>"
      ],
      "text/vnd.plotly.v1+html": [
       "<div id=\"1a5a43c1-76aa-455a-b06e-8b6590697903\" style=\"height: 525px; width: 100%;\" class=\"plotly-graph-div\"></div><script type=\"text/javascript\">require([\"plotly\"], function(Plotly) { window.PLOTLYENV=window.PLOTLYENV || {};window.PLOTLYENV.BASE_URL=\"https://plot.ly\";Plotly.newPlot(\"1a5a43c1-76aa-455a-b06e-8b6590697903\", [{\"type\": \"heatmap\", \"z\": [[52, 5, 0], [6, 145, 0], [0, 3, 0]], \"x\": [\"lie\", \"sit\", \"stand\"], \"y\": [\"lie\", \"sit\", \"stand\"], \"colorscale\": \"Reds\"}], {\"title\": \"Confusion Matrix\", \"font\": {\"size\": 16, \"color\": \"#333333\"}, \"xaxis\": {\"title\": \"predicted\", \"titlefont\": {\"size\": 16, \"color\": \"#333333\"}}, \"yaxis\": {\"title\": \"true label\", \"titlefont\": {\"size\": 16, \"color\": \"#333333\"}, \"autorange\": \"reversed\"}}, {\"showLink\": true, \"linkText\": \"Export to plot.ly\"})});</script>"
      ]
     },
     "metadata": {},
     "output_type": "display_data"
    }
   ],
   "source": [
    "dfu = df[df['user']==6]\n",
    "for label in ['activity', 'gr_main4',  'gr_stress2', 'posture']:\n",
    "    cmc.plot_matrices(dfu, clf, features, label)"
   ]
  },
  {
   "cell_type": "code",
   "execution_count": 16,
   "metadata": {},
   "outputs": [
    {
     "name": "stdout",
     "output_type": "stream",
     "text": [
      "\n",
      "\n",
      "\n",
      "--------------------------------------------- posture ---------------------------------------------\n",
      "posture\n",
      "lie      7898\n",
      "sit      6885\n",
      "stand    2883\n",
      "Name: user, dtype: int64\n",
      "14132 3534\n"
     ]
    },
    {
     "data": {
      "application/vnd.plotly.v1+json": {
       "data": [
        {
         "colorscale": [
          [
           0,
           "rgb(165,0,38)"
          ],
          [
           0.1111111111111111,
           "rgb(215,48,39)"
          ],
          [
           0.2222222222222222,
           "rgb(244,109,67)"
          ],
          [
           0.3333333333333333,
           "rgb(253,174,97)"
          ],
          [
           0.4444444444444444,
           "rgb(254,224,144)"
          ],
          [
           0.5555555555555556,
           "rgb(224,243,248)"
          ],
          [
           0.6666666666666666,
           "rgb(171,217,233)"
          ],
          [
           0.7777777777777778,
           "rgb(116,173,209)"
          ],
          [
           0.8888888888888888,
           "rgb(69,117,180)"
          ],
          [
           1,
           "rgb(49,54,149)"
          ]
         ],
         "type": "heatmap",
         "x": [
          "precision",
          "recall",
          "f1"
         ],
         "y": [
          "lie",
          "sit",
          "stand"
         ],
         "z": [
          [
           0.812133072407045,
           0.7909783989834815,
           0.8014161570646927
          ],
          [
           0.6594516594516594,
           0.6720588235294118,
           0.6656955571740713
          ],
          [
           0.6617886178861788,
           0.6783333333333333,
           0.6699588477366255
          ]
         ],
         "zmax": 1,
         "zmin": 0.5
        }
       ],
       "layout": {
        "font": {
         "color": "#333333",
         "size": 16
        },
        "title": "Precision, Recall, F1-score",
        "yaxis": {
         "autorange": "reversed"
        }
       }
      },
      "text/html": [
       "<div id=\"77024e72-ec97-4a08-8f67-f7a4dc5edeab\" style=\"height: 525px; width: 100%;\" class=\"plotly-graph-div\"></div><script type=\"text/javascript\">require([\"plotly\"], function(Plotly) { window.PLOTLYENV=window.PLOTLYENV || {};window.PLOTLYENV.BASE_URL=\"https://plot.ly\";Plotly.newPlot(\"77024e72-ec97-4a08-8f67-f7a4dc5edeab\", [{\"type\": \"heatmap\", \"z\": [[0.812133072407045, 0.7909783989834815, 0.8014161570646927], [0.6594516594516594, 0.6720588235294118, 0.6656955571740713], [0.6617886178861788, 0.6783333333333333, 0.6699588477366255]], \"y\": [\"lie\", \"sit\", \"stand\"], \"x\": [\"precision\", \"recall\", \"f1\"], \"colorscale\": [[0.0, \"rgb(165,0,38)\"], [0.1111111111111111, \"rgb(215,48,39)\"], [0.2222222222222222, \"rgb(244,109,67)\"], [0.3333333333333333, \"rgb(253,174,97)\"], [0.4444444444444444, \"rgb(254,224,144)\"], [0.5555555555555556, \"rgb(224,243,248)\"], [0.6666666666666666, \"rgb(171,217,233)\"], [0.7777777777777778, \"rgb(116,173,209)\"], [0.8888888888888888, \"rgb(69,117,180)\"], [1.0, \"rgb(49,54,149)\"]], \"zmin\": 0.5, \"zmax\": 1.0}], {\"title\": \"Precision, Recall, F1-score\", \"font\": {\"size\": 16, \"color\": \"#333333\"}, \"yaxis\": {\"autorange\": \"reversed\"}}, {\"showLink\": true, \"linkText\": \"Export to plot.ly\"})});</script>"
      ],
      "text/vnd.plotly.v1+html": [
       "<div id=\"77024e72-ec97-4a08-8f67-f7a4dc5edeab\" style=\"height: 525px; width: 100%;\" class=\"plotly-graph-div\"></div><script type=\"text/javascript\">require([\"plotly\"], function(Plotly) { window.PLOTLYENV=window.PLOTLYENV || {};window.PLOTLYENV.BASE_URL=\"https://plot.ly\";Plotly.newPlot(\"77024e72-ec97-4a08-8f67-f7a4dc5edeab\", [{\"type\": \"heatmap\", \"z\": [[0.812133072407045, 0.7909783989834815, 0.8014161570646927], [0.6594516594516594, 0.6720588235294118, 0.6656955571740713], [0.6617886178861788, 0.6783333333333333, 0.6699588477366255]], \"y\": [\"lie\", \"sit\", \"stand\"], \"x\": [\"precision\", \"recall\", \"f1\"], \"colorscale\": [[0.0, \"rgb(165,0,38)\"], [0.1111111111111111, \"rgb(215,48,39)\"], [0.2222222222222222, \"rgb(244,109,67)\"], [0.3333333333333333, \"rgb(253,174,97)\"], [0.4444444444444444, \"rgb(254,224,144)\"], [0.5555555555555556, \"rgb(224,243,248)\"], [0.6666666666666666, \"rgb(171,217,233)\"], [0.7777777777777778, \"rgb(116,173,209)\"], [0.8888888888888888, \"rgb(69,117,180)\"], [1.0, \"rgb(49,54,149)\"]], \"zmin\": 0.5, \"zmax\": 1.0}], {\"title\": \"Precision, Recall, F1-score\", \"font\": {\"size\": 16, \"color\": \"#333333\"}, \"yaxis\": {\"autorange\": \"reversed\"}}, {\"showLink\": true, \"linkText\": \"Export to plot.ly\"})});</script>"
      ]
     },
     "metadata": {},
     "output_type": "display_data"
    },
    {
     "data": {
      "application/vnd.plotly.v1+json": {
       "data": [
        {
         "colorscale": "Reds",
         "type": "heatmap",
         "x": [
          "lie",
          "sit",
          "stand"
         ],
         "y": [
          "lie",
          "sit",
          "stand"
         ],
         "z": [
          [
           1245,
           295,
           34
          ],
          [
           272,
           914,
           174
          ],
          [
           16,
           177,
           407
          ]
         ]
        }
       ],
       "layout": {
        "font": {
         "color": "#333333",
         "size": 16
        },
        "title": "Confusion Matrix",
        "xaxis": {
         "title": "predicted",
         "titlefont": {
          "color": "#333333",
          "size": 16
         }
        },
        "yaxis": {
         "autorange": "reversed",
         "title": "true label",
         "titlefont": {
          "color": "#333333",
          "size": 16
         }
        }
       }
      },
      "text/html": [
       "<div id=\"b3cdef7f-6474-4900-a5f2-e319a66577cd\" style=\"height: 525px; width: 100%;\" class=\"plotly-graph-div\"></div><script type=\"text/javascript\">require([\"plotly\"], function(Plotly) { window.PLOTLYENV=window.PLOTLYENV || {};window.PLOTLYENV.BASE_URL=\"https://plot.ly\";Plotly.newPlot(\"b3cdef7f-6474-4900-a5f2-e319a66577cd\", [{\"type\": \"heatmap\", \"z\": [[1245, 295, 34], [272, 914, 174], [16, 177, 407]], \"x\": [\"lie\", \"sit\", \"stand\"], \"y\": [\"lie\", \"sit\", \"stand\"], \"colorscale\": \"Reds\"}], {\"title\": \"Confusion Matrix\", \"font\": {\"size\": 16, \"color\": \"#333333\"}, \"xaxis\": {\"title\": \"predicted\", \"titlefont\": {\"size\": 16, \"color\": \"#333333\"}}, \"yaxis\": {\"title\": \"true label\", \"titlefont\": {\"size\": 16, \"color\": \"#333333\"}, \"autorange\": \"reversed\"}}, {\"showLink\": true, \"linkText\": \"Export to plot.ly\"})});</script>"
      ],
      "text/vnd.plotly.v1+html": [
       "<div id=\"b3cdef7f-6474-4900-a5f2-e319a66577cd\" style=\"height: 525px; width: 100%;\" class=\"plotly-graph-div\"></div><script type=\"text/javascript\">require([\"plotly\"], function(Plotly) { window.PLOTLYENV=window.PLOTLYENV || {};window.PLOTLYENV.BASE_URL=\"https://plot.ly\";Plotly.newPlot(\"b3cdef7f-6474-4900-a5f2-e319a66577cd\", [{\"type\": \"heatmap\", \"z\": [[1245, 295, 34], [272, 914, 174], [16, 177, 407]], \"x\": [\"lie\", \"sit\", \"stand\"], \"y\": [\"lie\", \"sit\", \"stand\"], \"colorscale\": \"Reds\"}], {\"title\": \"Confusion Matrix\", \"font\": {\"size\": 16, \"color\": \"#333333\"}, \"xaxis\": {\"title\": \"predicted\", \"titlefont\": {\"size\": 16, \"color\": \"#333333\"}}, \"yaxis\": {\"title\": \"true label\", \"titlefont\": {\"size\": 16, \"color\": \"#333333\"}, \"autorange\": \"reversed\"}}, {\"showLink\": true, \"linkText\": \"Export to plot.ly\"})});</script>"
      ]
     },
     "metadata": {},
     "output_type": "display_data"
    }
   ],
   "source": [
    "cmc.plot_matrices(df, clf, features, 'posture')"
   ]
  },
  {
   "cell_type": "markdown",
   "metadata": {},
   "source": [
    "## Comparing users and classes"
   ]
  },
  {
   "cell_type": "code",
   "execution_count": 19,
   "metadata": {},
   "outputs": [
    {
     "data": {
      "text/plain": [
       "array(['still', 'sleep', 'move'], dtype=object)"
      ]
     },
     "execution_count": 19,
     "metadata": {},
     "output_type": "execute_result"
    }
   ],
   "source": [
    "dfr.gr_main3.unique()"
   ]
  },
  {
   "cell_type": "code",
   "execution_count": null,
   "metadata": {},
   "outputs": [],
   "source": []
  }
 ],
 "metadata": {
  "kernelspec": {
   "display_name": "Python 3",
   "language": "python",
   "name": "python3"
  },
  "language_info": {
   "codemirror_mode": {
    "name": "ipython",
    "version": 3
   },
   "file_extension": ".py",
   "mimetype": "text/x-python",
   "name": "python",
   "nbconvert_exporter": "python",
   "pygments_lexer": "ipython3",
   "version": "3.6.3"
  }
 },
 "nbformat": 4,
 "nbformat_minor": 2
}
