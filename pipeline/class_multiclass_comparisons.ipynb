{
 "cells": [
  {
   "cell_type": "code",
   "execution_count": 1,
   "metadata": {},
   "outputs": [
    {
     "data": {
      "text/html": [
       "<script>requirejs.config({paths: { 'plotly': ['https://cdn.plot.ly/plotly-latest.min']},});if(!window.Plotly) {{require(['plotly'],function(plotly) {window.Plotly=plotly;});}}</script>"
      ],
      "text/vnd.plotly.v1+html": [
       "<script>requirejs.config({paths: { 'plotly': ['https://cdn.plot.ly/plotly-latest.min']},});if(!window.Plotly) {{require(['plotly'],function(plotly) {window.Plotly=plotly;});}}</script>"
      ]
     },
     "metadata": {},
     "output_type": "display_data"
    }
   ],
   "source": [
    "%load_ext autoreload\n",
    "%autoreload 2\n",
    "%matplotlib inline\n",
    "\n",
    "import pandas as pd\n",
    "import numpy as np\n",
    "import plotly.offline as pl\n",
    "import plotly.graph_objs as go\n",
    "pl.init_notebook_mode(connected=True)\n",
    "\n",
    "from sklearn import svm\n",
    "from sklearn.ensemble import RandomForestClassifier\n",
    "from sklearn.preprocessing import scale\n",
    "from sklearn.model_selection import StratifiedShuffleSplit, GridSearchCV, train_test_split\n",
    "from sklearn.metrics import classification_report, precision_recall_fscore_support, confusion_matrix\n",
    "\n",
    "import hervpd as hp\n",
    "import classif\n",
    "import dataviz as dv\n",
    "import classif_multiclass as cmc"
   ]
  },
  {
   "cell_type": "code",
   "execution_count": 2,
   "metadata": {},
   "outputs": [],
   "source": [
    "path = \"C:\\\\Users\\\\ju\\\\GDrive\\\\Projects\\\\HeRV\\\\Data\\\\PreProcessed\" \n",
    "\n",
    "features = ['mrri', 'sdnn', 'rmssd', 'pnn50', 'hfnu', 'lfnu', 'lf_hf']\n",
    "crops = [0] \n",
    "durations = [60]"
   ]
  },
  {
   "cell_type": "code",
   "execution_count": 3,
   "metadata": {},
   "outputs": [],
   "source": [
    "c1 = 10\n",
    "gamma = 0.1\n",
    "\n",
    "\n",
    "clf_rbf = svm.SVC(kernel='rbf', cache_size=1000, C=c1, gamma=gamma)\n",
    "clf_lin = svm.SVC(kernel='linear', cache_size=1000, C=10, gamma=gamma)\n",
    "clf_rf = RandomForestClassifier(n_estimators=100, n_jobs=-1)\n",
    "\n",
    "#classifiers = {'rf': clf_rf, 'rbf': clf_rbf, 'lin': clf_lin}\n",
    "#classifiers = {'rf': clf_rf, 'rbf': clf_rbf}\n",
    "classifiers = {'rf': clf_rf}"
   ]
  },
  {
   "cell_type": "markdown",
   "metadata": {},
   "source": [
    "## Reports"
   ]
  },
  {
   "cell_type": "code",
   "execution_count": null,
   "metadata": {
    "scrolled": false
   },
   "outputs": [],
   "source": [
    "dminter = cmc.multiclass_classif_table(durations, crops, classifiers, features, 'activity', path)"
   ]
  },
  {
   "cell_type": "code",
   "execution_count": null,
   "metadata": {},
   "outputs": [],
   "source": [
    "dfinter = pd.DataFrame(dminter)\n",
    "dfinter"
   ]
  },
  {
   "cell_type": "code",
   "execution_count": null,
   "metadata": {},
   "outputs": [],
   "source": [
    "dfinter.to_excel(path + '\\\\results_multiclass_3.xlsx')"
   ]
  },
  {
   "cell_type": "code",
   "execution_count": null,
   "metadata": {},
   "outputs": [],
   "source": [
    "dfinter = pd.read_excel(path + '\\\\results_multiclass_3.xlsx')"
   ]
  },
  {
   "cell_type": "code",
   "execution_count": null,
   "metadata": {},
   "outputs": [],
   "source": [
    "dfinter[(dfinter['duration'] == 30) & (dfinter['crop'] == 30) & (dfinter['classifier']=='rf')]"
   ]
  },
  {
   "cell_type": "markdown",
   "metadata": {},
   "source": [
    "## Comparing classifiers and fragment len"
   ]
  },
  {
   "cell_type": "code",
   "execution_count": null,
   "metadata": {
    "scrolled": false
   },
   "outputs": [],
   "source": [
    "dv.bargroup(dfinter[dfinter['crop']==90], 'class', 'duration', 'classifier', 'f1')"
   ]
  },
  {
   "cell_type": "markdown",
   "metadata": {},
   "source": [
    "## Comparing crops and fragment len"
   ]
  },
  {
   "cell_type": "code",
   "execution_count": null,
   "metadata": {
    "scrolled": false
   },
   "outputs": [],
   "source": [
    "dv.bargroup(dfinter[dfinter['classifier']=='rf'], 'class', 'duration', 'crop', 'f1')"
   ]
  },
  {
   "cell_type": "markdown",
   "metadata": {},
   "source": [
    "## Comparisons of main3 and posture results by user"
   ]
  },
  {
   "cell_type": "code",
   "execution_count": 4,
   "metadata": {},
   "outputs": [
    {
     "name": "stdout",
     "output_type": "stream",
     "text": [
      "10542 2636\n",
      "6026 1507\n",
      "1244 312\n",
      "1724 432\n",
      "814 204\n",
      "732 183\n"
     ]
    }
   ],
   "source": [
    "dmall = []\n",
    "\n",
    "for user in [-1, 0, 1, 2, 5, 6]:\n",
    "    dmall.extend(cmc.multiclass_classif_table(durations, crops, classifiers, features, 'gr_main3', path, user))"
   ]
  },
  {
   "cell_type": "code",
   "execution_count": 5,
   "metadata": {},
   "outputs": [
    {
     "data": {
      "text/html": [
       "<div>\n",
       "<style>\n",
       "    .dataframe thead tr:only-child th {\n",
       "        text-align: right;\n",
       "    }\n",
       "\n",
       "    .dataframe thead th {\n",
       "        text-align: left;\n",
       "    }\n",
       "\n",
       "    .dataframe tbody tr th {\n",
       "        vertical-align: top;\n",
       "    }\n",
       "</style>\n",
       "<table border=\"1\" class=\"dataframe\">\n",
       "  <thead>\n",
       "    <tr style=\"text-align: right;\">\n",
       "      <th></th>\n",
       "      <th>class</th>\n",
       "      <th>classifier</th>\n",
       "      <th>crop</th>\n",
       "      <th>duration</th>\n",
       "      <th>f1</th>\n",
       "      <th>label</th>\n",
       "      <th>precision</th>\n",
       "      <th>recall</th>\n",
       "      <th>support</th>\n",
       "      <th>user</th>\n",
       "    </tr>\n",
       "  </thead>\n",
       "  <tbody>\n",
       "    <tr>\n",
       "      <th>0</th>\n",
       "      <td>move</td>\n",
       "      <td>rf</td>\n",
       "      <td>0</td>\n",
       "      <td>60</td>\n",
       "      <td>0.765027</td>\n",
       "      <td>gr_main3</td>\n",
       "      <td>0.755396</td>\n",
       "      <td>0.774908</td>\n",
       "      <td>542</td>\n",
       "      <td>-1</td>\n",
       "    </tr>\n",
       "    <tr>\n",
       "      <th>1</th>\n",
       "      <td>sleep</td>\n",
       "      <td>rf</td>\n",
       "      <td>0</td>\n",
       "      <td>60</td>\n",
       "      <td>0.805810</td>\n",
       "      <td>gr_main3</td>\n",
       "      <td>0.817686</td>\n",
       "      <td>0.794274</td>\n",
       "      <td>943</td>\n",
       "      <td>-1</td>\n",
       "    </tr>\n",
       "    <tr>\n",
       "      <th>2</th>\n",
       "      <td>still</td>\n",
       "      <td>rf</td>\n",
       "      <td>0</td>\n",
       "      <td>60</td>\n",
       "      <td>0.756803</td>\n",
       "      <td>gr_main3</td>\n",
       "      <td>0.752577</td>\n",
       "      <td>0.761077</td>\n",
       "      <td>1151</td>\n",
       "      <td>-1</td>\n",
       "    </tr>\n",
       "    <tr>\n",
       "      <th>3</th>\n",
       "      <td>move</td>\n",
       "      <td>rf</td>\n",
       "      <td>0</td>\n",
       "      <td>60</td>\n",
       "      <td>0.822194</td>\n",
       "      <td>gr_main3</td>\n",
       "      <td>0.791262</td>\n",
       "      <td>0.855643</td>\n",
       "      <td>381</td>\n",
       "      <td>0</td>\n",
       "    </tr>\n",
       "    <tr>\n",
       "      <th>4</th>\n",
       "      <td>sleep</td>\n",
       "      <td>rf</td>\n",
       "      <td>0</td>\n",
       "      <td>60</td>\n",
       "      <td>0.892647</td>\n",
       "      <td>gr_main3</td>\n",
       "      <td>0.905970</td>\n",
       "      <td>0.879710</td>\n",
       "      <td>690</td>\n",
       "      <td>0</td>\n",
       "    </tr>\n",
       "    <tr>\n",
       "      <th>5</th>\n",
       "      <td>still</td>\n",
       "      <td>rf</td>\n",
       "      <td>0</td>\n",
       "      <td>60</td>\n",
       "      <td>0.689895</td>\n",
       "      <td>gr_main3</td>\n",
       "      <td>0.698824</td>\n",
       "      <td>0.681193</td>\n",
       "      <td>436</td>\n",
       "      <td>0</td>\n",
       "    </tr>\n",
       "    <tr>\n",
       "      <th>6</th>\n",
       "      <td>move</td>\n",
       "      <td>rf</td>\n",
       "      <td>0</td>\n",
       "      <td>60</td>\n",
       "      <td>0.911392</td>\n",
       "      <td>gr_main3</td>\n",
       "      <td>0.923077</td>\n",
       "      <td>0.900000</td>\n",
       "      <td>40</td>\n",
       "      <td>1</td>\n",
       "    </tr>\n",
       "    <tr>\n",
       "      <th>7</th>\n",
       "      <td>sleep</td>\n",
       "      <td>rf</td>\n",
       "      <td>0</td>\n",
       "      <td>60</td>\n",
       "      <td>0.956522</td>\n",
       "      <td>gr_main3</td>\n",
       "      <td>1.000000</td>\n",
       "      <td>0.916667</td>\n",
       "      <td>36</td>\n",
       "      <td>1</td>\n",
       "    </tr>\n",
       "    <tr>\n",
       "      <th>8</th>\n",
       "      <td>still</td>\n",
       "      <td>rf</td>\n",
       "      <td>0</td>\n",
       "      <td>60</td>\n",
       "      <td>0.978992</td>\n",
       "      <td>gr_main3</td>\n",
       "      <td>0.970833</td>\n",
       "      <td>0.987288</td>\n",
       "      <td>236</td>\n",
       "      <td>1</td>\n",
       "    </tr>\n",
       "    <tr>\n",
       "      <th>9</th>\n",
       "      <td>move</td>\n",
       "      <td>rf</td>\n",
       "      <td>0</td>\n",
       "      <td>60</td>\n",
       "      <td>0.529032</td>\n",
       "      <td>gr_main3</td>\n",
       "      <td>0.719298</td>\n",
       "      <td>0.418367</td>\n",
       "      <td>98</td>\n",
       "      <td>2</td>\n",
       "    </tr>\n",
       "    <tr>\n",
       "      <th>10</th>\n",
       "      <td>sleep</td>\n",
       "      <td>rf</td>\n",
       "      <td>0</td>\n",
       "      <td>60</td>\n",
       "      <td>0.942029</td>\n",
       "      <td>gr_main3</td>\n",
       "      <td>0.984848</td>\n",
       "      <td>0.902778</td>\n",
       "      <td>72</td>\n",
       "      <td>2</td>\n",
       "    </tr>\n",
       "    <tr>\n",
       "      <th>11</th>\n",
       "      <td>still</td>\n",
       "      <td>rf</td>\n",
       "      <td>0</td>\n",
       "      <td>60</td>\n",
       "      <td>0.861646</td>\n",
       "      <td>gr_main3</td>\n",
       "      <td>0.796117</td>\n",
       "      <td>0.938931</td>\n",
       "      <td>262</td>\n",
       "      <td>2</td>\n",
       "    </tr>\n",
       "    <tr>\n",
       "      <th>12</th>\n",
       "      <td>move</td>\n",
       "      <td>rf</td>\n",
       "      <td>0</td>\n",
       "      <td>60</td>\n",
       "      <td>0.912621</td>\n",
       "      <td>gr_main3</td>\n",
       "      <td>0.886792</td>\n",
       "      <td>0.940000</td>\n",
       "      <td>50</td>\n",
       "      <td>5</td>\n",
       "    </tr>\n",
       "    <tr>\n",
       "      <th>13</th>\n",
       "      <td>sleep</td>\n",
       "      <td>rf</td>\n",
       "      <td>0</td>\n",
       "      <td>60</td>\n",
       "      <td>0.939759</td>\n",
       "      <td>gr_main3</td>\n",
       "      <td>0.928571</td>\n",
       "      <td>0.951220</td>\n",
       "      <td>123</td>\n",
       "      <td>5</td>\n",
       "    </tr>\n",
       "    <tr>\n",
       "      <th>14</th>\n",
       "      <td>still</td>\n",
       "      <td>rf</td>\n",
       "      <td>0</td>\n",
       "      <td>60</td>\n",
       "      <td>0.607143</td>\n",
       "      <td>gr_main3</td>\n",
       "      <td>0.680000</td>\n",
       "      <td>0.548387</td>\n",
       "      <td>31</td>\n",
       "      <td>5</td>\n",
       "    </tr>\n",
       "    <tr>\n",
       "      <th>15</th>\n",
       "      <td>sleep</td>\n",
       "      <td>rf</td>\n",
       "      <td>0</td>\n",
       "      <td>60</td>\n",
       "      <td>0.977778</td>\n",
       "      <td>gr_main3</td>\n",
       "      <td>0.977778</td>\n",
       "      <td>0.977778</td>\n",
       "      <td>45</td>\n",
       "      <td>6</td>\n",
       "    </tr>\n",
       "    <tr>\n",
       "      <th>16</th>\n",
       "      <td>still</td>\n",
       "      <td>rf</td>\n",
       "      <td>0</td>\n",
       "      <td>60</td>\n",
       "      <td>0.992754</td>\n",
       "      <td>gr_main3</td>\n",
       "      <td>0.992754</td>\n",
       "      <td>0.992754</td>\n",
       "      <td>138</td>\n",
       "      <td>6</td>\n",
       "    </tr>\n",
       "  </tbody>\n",
       "</table>\n",
       "</div>"
      ],
      "text/plain": [
       "    class classifier  crop  duration        f1     label  precision    recall  \\\n",
       "0    move         rf     0        60  0.765027  gr_main3   0.755396  0.774908   \n",
       "1   sleep         rf     0        60  0.805810  gr_main3   0.817686  0.794274   \n",
       "2   still         rf     0        60  0.756803  gr_main3   0.752577  0.761077   \n",
       "3    move         rf     0        60  0.822194  gr_main3   0.791262  0.855643   \n",
       "4   sleep         rf     0        60  0.892647  gr_main3   0.905970  0.879710   \n",
       "5   still         rf     0        60  0.689895  gr_main3   0.698824  0.681193   \n",
       "6    move         rf     0        60  0.911392  gr_main3   0.923077  0.900000   \n",
       "7   sleep         rf     0        60  0.956522  gr_main3   1.000000  0.916667   \n",
       "8   still         rf     0        60  0.978992  gr_main3   0.970833  0.987288   \n",
       "9    move         rf     0        60  0.529032  gr_main3   0.719298  0.418367   \n",
       "10  sleep         rf     0        60  0.942029  gr_main3   0.984848  0.902778   \n",
       "11  still         rf     0        60  0.861646  gr_main3   0.796117  0.938931   \n",
       "12   move         rf     0        60  0.912621  gr_main3   0.886792  0.940000   \n",
       "13  sleep         rf     0        60  0.939759  gr_main3   0.928571  0.951220   \n",
       "14  still         rf     0        60  0.607143  gr_main3   0.680000  0.548387   \n",
       "15  sleep         rf     0        60  0.977778  gr_main3   0.977778  0.977778   \n",
       "16  still         rf     0        60  0.992754  gr_main3   0.992754  0.992754   \n",
       "\n",
       "    support  user  \n",
       "0       542    -1  \n",
       "1       943    -1  \n",
       "2      1151    -1  \n",
       "3       381     0  \n",
       "4       690     0  \n",
       "5       436     0  \n",
       "6        40     1  \n",
       "7        36     1  \n",
       "8       236     1  \n",
       "9        98     2  \n",
       "10       72     2  \n",
       "11      262     2  \n",
       "12       50     5  \n",
       "13      123     5  \n",
       "14       31     5  \n",
       "15       45     6  \n",
       "16      138     6  "
      ]
     },
     "execution_count": 5,
     "metadata": {},
     "output_type": "execute_result"
    }
   ],
   "source": [
    "pdf = pd.DataFrame(dmall)\n",
    "pdf"
   ]
  },
  {
   "cell_type": "code",
   "execution_count": 6,
   "metadata": {},
   "outputs": [
    {
     "data": {
      "application/vnd.plotly.v1+json": {
       "data": [
        {
         "name": -1,
         "type": "bar",
         "x": [
          "move",
          "sleep",
          "still"
         ],
         "y": [
          0.7650273224043717,
          0.8058095750403442,
          0.756803455723542
         ]
        },
        {
         "name": 0,
         "type": "bar",
         "x": [
          "move",
          "sleep",
          "still"
         ],
         "y": [
          0.8221941992433797,
          0.8926470588235293,
          0.6898954703832753
         ]
        },
        {
         "name": 1,
         "type": "bar",
         "x": [
          "move",
          "sleep",
          "still"
         ],
         "y": [
          0.9113924050632911,
          0.9565217391304348,
          0.9789915966386554
         ]
        },
        {
         "name": 2,
         "type": "bar",
         "x": [
          "move",
          "sleep",
          "still"
         ],
         "y": [
          0.5290322580645161,
          0.9420289855072465,
          0.861646234676007
         ]
        },
        {
         "name": 5,
         "type": "bar",
         "x": [
          "move",
          "sleep",
          "still"
         ],
         "y": [
          0.912621359223301,
          0.9397590361445782,
          0.6071428571428571
         ]
        },
        {
         "name": 6,
         "type": "bar",
         "x": [
          "sleep",
          "still"
         ],
         "y": [
          0.9777777777777777,
          0.9927536231884058
         ]
        }
       ],
       "layout": {
        "barmode": "group",
        "title": "rf"
       }
      },
      "text/html": [
       "<div id=\"cc0082b0-2184-46ed-b50c-0b87fcb5f231\" style=\"height: 525px; width: 100%;\" class=\"plotly-graph-div\"></div><script type=\"text/javascript\">require([\"plotly\"], function(Plotly) { window.PLOTLYENV=window.PLOTLYENV || {};window.PLOTLYENV.BASE_URL=\"https://plot.ly\";Plotly.newPlot(\"cc0082b0-2184-46ed-b50c-0b87fcb5f231\", [{\"type\": \"bar\", \"x\": [\"move\", \"sleep\", \"still\"], \"y\": [0.7650273224043717, 0.8058095750403442, 0.756803455723542], \"name\": -1}, {\"type\": \"bar\", \"x\": [\"move\", \"sleep\", \"still\"], \"y\": [0.8221941992433797, 0.8926470588235293, 0.6898954703832753], \"name\": 0}, {\"type\": \"bar\", \"x\": [\"move\", \"sleep\", \"still\"], \"y\": [0.9113924050632911, 0.9565217391304348, 0.9789915966386554], \"name\": 1}, {\"type\": \"bar\", \"x\": [\"move\", \"sleep\", \"still\"], \"y\": [0.5290322580645161, 0.9420289855072465, 0.861646234676007], \"name\": 2}, {\"type\": \"bar\", \"x\": [\"move\", \"sleep\", \"still\"], \"y\": [0.912621359223301, 0.9397590361445782, 0.6071428571428571], \"name\": 5}, {\"type\": \"bar\", \"x\": [\"sleep\", \"still\"], \"y\": [0.9777777777777777, 0.9927536231884058], \"name\": 6}], {\"barmode\": \"group\", \"title\": \"rf\"}, {\"showLink\": true, \"linkText\": \"Export to plot.ly\"})});</script>"
      ],
      "text/vnd.plotly.v1+html": [
       "<div id=\"cc0082b0-2184-46ed-b50c-0b87fcb5f231\" style=\"height: 525px; width: 100%;\" class=\"plotly-graph-div\"></div><script type=\"text/javascript\">require([\"plotly\"], function(Plotly) { window.PLOTLYENV=window.PLOTLYENV || {};window.PLOTLYENV.BASE_URL=\"https://plot.ly\";Plotly.newPlot(\"cc0082b0-2184-46ed-b50c-0b87fcb5f231\", [{\"type\": \"bar\", \"x\": [\"move\", \"sleep\", \"still\"], \"y\": [0.7650273224043717, 0.8058095750403442, 0.756803455723542], \"name\": -1}, {\"type\": \"bar\", \"x\": [\"move\", \"sleep\", \"still\"], \"y\": [0.8221941992433797, 0.8926470588235293, 0.6898954703832753], \"name\": 0}, {\"type\": \"bar\", \"x\": [\"move\", \"sleep\", \"still\"], \"y\": [0.9113924050632911, 0.9565217391304348, 0.9789915966386554], \"name\": 1}, {\"type\": \"bar\", \"x\": [\"move\", \"sleep\", \"still\"], \"y\": [0.5290322580645161, 0.9420289855072465, 0.861646234676007], \"name\": 2}, {\"type\": \"bar\", \"x\": [\"move\", \"sleep\", \"still\"], \"y\": [0.912621359223301, 0.9397590361445782, 0.6071428571428571], \"name\": 5}, {\"type\": \"bar\", \"x\": [\"sleep\", \"still\"], \"y\": [0.9777777777777777, 0.9927536231884058], \"name\": 6}], {\"barmode\": \"group\", \"title\": \"rf\"}, {\"showLink\": true, \"linkText\": \"Export to plot.ly\"})});</script>"
      ]
     },
     "metadata": {},
     "output_type": "display_data"
    }
   ],
   "source": [
    "dv.bargroup(pdf, 'classifier', 'user', 'class', 'f1')"
   ]
  },
  {
   "cell_type": "code",
   "execution_count": 7,
   "metadata": {},
   "outputs": [
    {
     "name": "stdout",
     "output_type": "stream",
     "text": [
      "10542 2636\n",
      "6026 1507\n",
      "1244 312\n",
      "1724 432\n",
      "814 204\n",
      "732 183\n"
     ]
    }
   ],
   "source": [
    "dmpost = []\n",
    "\n",
    "for user in [-1, 0, 1, 2, 5, 6]:\n",
    "    dmpost.extend(cmc.multiclass_classif_table(durations, crops, classifiers, features, 'posture', path, user))"
   ]
  },
  {
   "cell_type": "code",
   "execution_count": 8,
   "metadata": {},
   "outputs": [
    {
     "data": {
      "text/html": [
       "<div>\n",
       "<style>\n",
       "    .dataframe thead tr:only-child th {\n",
       "        text-align: right;\n",
       "    }\n",
       "\n",
       "    .dataframe thead th {\n",
       "        text-align: left;\n",
       "    }\n",
       "\n",
       "    .dataframe tbody tr th {\n",
       "        vertical-align: top;\n",
       "    }\n",
       "</style>\n",
       "<table border=\"1\" class=\"dataframe\">\n",
       "  <thead>\n",
       "    <tr style=\"text-align: right;\">\n",
       "      <th></th>\n",
       "      <th>class</th>\n",
       "      <th>classifier</th>\n",
       "      <th>crop</th>\n",
       "      <th>duration</th>\n",
       "      <th>f1</th>\n",
       "      <th>label</th>\n",
       "      <th>precision</th>\n",
       "      <th>recall</th>\n",
       "      <th>support</th>\n",
       "      <th>user</th>\n",
       "    </tr>\n",
       "  </thead>\n",
       "  <tbody>\n",
       "    <tr>\n",
       "      <th>0</th>\n",
       "      <td>lie</td>\n",
       "      <td>rf</td>\n",
       "      <td>0</td>\n",
       "      <td>60</td>\n",
       "      <td>0.834149</td>\n",
       "      <td>posture</td>\n",
       "      <td>0.861798</td>\n",
       "      <td>0.808219</td>\n",
       "      <td>949</td>\n",
       "      <td>-1</td>\n",
       "    </tr>\n",
       "    <tr>\n",
       "      <th>1</th>\n",
       "      <td>sit</td>\n",
       "      <td>rf</td>\n",
       "      <td>0</td>\n",
       "      <td>60</td>\n",
       "      <td>0.756920</td>\n",
       "      <td>posture</td>\n",
       "      <td>0.737152</td>\n",
       "      <td>0.777778</td>\n",
       "      <td>1125</td>\n",
       "      <td>-1</td>\n",
       "    </tr>\n",
       "    <tr>\n",
       "      <th>2</th>\n",
       "      <td>stand</td>\n",
       "      <td>rf</td>\n",
       "      <td>0</td>\n",
       "      <td>60</td>\n",
       "      <td>0.738626</td>\n",
       "      <td>posture</td>\n",
       "      <td>0.740608</td>\n",
       "      <td>0.736655</td>\n",
       "      <td>562</td>\n",
       "      <td>-1</td>\n",
       "    </tr>\n",
       "    <tr>\n",
       "      <th>3</th>\n",
       "      <td>lie</td>\n",
       "      <td>rf</td>\n",
       "      <td>0</td>\n",
       "      <td>60</td>\n",
       "      <td>0.886918</td>\n",
       "      <td>posture</td>\n",
       "      <td>0.888889</td>\n",
       "      <td>0.884956</td>\n",
       "      <td>678</td>\n",
       "      <td>0</td>\n",
       "    </tr>\n",
       "    <tr>\n",
       "      <th>4</th>\n",
       "      <td>sit</td>\n",
       "      <td>rf</td>\n",
       "      <td>0</td>\n",
       "      <td>60</td>\n",
       "      <td>0.666667</td>\n",
       "      <td>posture</td>\n",
       "      <td>0.709220</td>\n",
       "      <td>0.628931</td>\n",
       "      <td>477</td>\n",
       "      <td>0</td>\n",
       "    </tr>\n",
       "    <tr>\n",
       "      <th>5</th>\n",
       "      <td>stand</td>\n",
       "      <td>rf</td>\n",
       "      <td>0</td>\n",
       "      <td>60</td>\n",
       "      <td>0.759527</td>\n",
       "      <td>posture</td>\n",
       "      <td>0.706601</td>\n",
       "      <td>0.821023</td>\n",
       "      <td>352</td>\n",
       "      <td>0</td>\n",
       "    </tr>\n",
       "    <tr>\n",
       "      <th>6</th>\n",
       "      <td>lie</td>\n",
       "      <td>rf</td>\n",
       "      <td>0</td>\n",
       "      <td>60</td>\n",
       "      <td>0.972222</td>\n",
       "      <td>posture</td>\n",
       "      <td>0.972222</td>\n",
       "      <td>0.972222</td>\n",
       "      <td>36</td>\n",
       "      <td>1</td>\n",
       "    </tr>\n",
       "    <tr>\n",
       "      <th>7</th>\n",
       "      <td>sit</td>\n",
       "      <td>rf</td>\n",
       "      <td>0</td>\n",
       "      <td>60</td>\n",
       "      <td>0.977688</td>\n",
       "      <td>posture</td>\n",
       "      <td>0.967871</td>\n",
       "      <td>0.987705</td>\n",
       "      <td>244</td>\n",
       "      <td>1</td>\n",
       "    </tr>\n",
       "    <tr>\n",
       "      <th>8</th>\n",
       "      <td>stand</td>\n",
       "      <td>rf</td>\n",
       "      <td>0</td>\n",
       "      <td>60</td>\n",
       "      <td>0.847458</td>\n",
       "      <td>posture</td>\n",
       "      <td>0.925926</td>\n",
       "      <td>0.781250</td>\n",
       "      <td>32</td>\n",
       "      <td>1</td>\n",
       "    </tr>\n",
       "    <tr>\n",
       "      <th>9</th>\n",
       "      <td>lie</td>\n",
       "      <td>rf</td>\n",
       "      <td>0</td>\n",
       "      <td>60</td>\n",
       "      <td>0.891566</td>\n",
       "      <td>posture</td>\n",
       "      <td>0.913580</td>\n",
       "      <td>0.870588</td>\n",
       "      <td>85</td>\n",
       "      <td>2</td>\n",
       "    </tr>\n",
       "    <tr>\n",
       "      <th>10</th>\n",
       "      <td>sit</td>\n",
       "      <td>rf</td>\n",
       "      <td>0</td>\n",
       "      <td>60</td>\n",
       "      <td>0.863799</td>\n",
       "      <td>posture</td>\n",
       "      <td>0.806020</td>\n",
       "      <td>0.930502</td>\n",
       "      <td>259</td>\n",
       "      <td>2</td>\n",
       "    </tr>\n",
       "    <tr>\n",
       "      <th>11</th>\n",
       "      <td>stand</td>\n",
       "      <td>rf</td>\n",
       "      <td>0</td>\n",
       "      <td>60</td>\n",
       "      <td>0.557143</td>\n",
       "      <td>posture</td>\n",
       "      <td>0.750000</td>\n",
       "      <td>0.443182</td>\n",
       "      <td>88</td>\n",
       "      <td>2</td>\n",
       "    </tr>\n",
       "    <tr>\n",
       "      <th>12</th>\n",
       "      <td>lie</td>\n",
       "      <td>rf</td>\n",
       "      <td>0</td>\n",
       "      <td>60</td>\n",
       "      <td>0.943548</td>\n",
       "      <td>posture</td>\n",
       "      <td>0.921260</td>\n",
       "      <td>0.966942</td>\n",
       "      <td>121</td>\n",
       "      <td>5</td>\n",
       "    </tr>\n",
       "    <tr>\n",
       "      <th>13</th>\n",
       "      <td>sit</td>\n",
       "      <td>rf</td>\n",
       "      <td>0</td>\n",
       "      <td>60</td>\n",
       "      <td>0.695652</td>\n",
       "      <td>posture</td>\n",
       "      <td>0.750000</td>\n",
       "      <td>0.648649</td>\n",
       "      <td>37</td>\n",
       "      <td>5</td>\n",
       "    </tr>\n",
       "    <tr>\n",
       "      <th>14</th>\n",
       "      <td>stand</td>\n",
       "      <td>rf</td>\n",
       "      <td>0</td>\n",
       "      <td>60</td>\n",
       "      <td>0.923077</td>\n",
       "      <td>posture</td>\n",
       "      <td>0.933333</td>\n",
       "      <td>0.913043</td>\n",
       "      <td>46</td>\n",
       "      <td>5</td>\n",
       "    </tr>\n",
       "    <tr>\n",
       "      <th>15</th>\n",
       "      <td>lie</td>\n",
       "      <td>rf</td>\n",
       "      <td>0</td>\n",
       "      <td>60</td>\n",
       "      <td>0.916667</td>\n",
       "      <td>posture</td>\n",
       "      <td>0.897959</td>\n",
       "      <td>0.936170</td>\n",
       "      <td>47</td>\n",
       "      <td>6</td>\n",
       "    </tr>\n",
       "    <tr>\n",
       "      <th>16</th>\n",
       "      <td>sit</td>\n",
       "      <td>rf</td>\n",
       "      <td>0</td>\n",
       "      <td>60</td>\n",
       "      <td>0.970370</td>\n",
       "      <td>posture</td>\n",
       "      <td>0.977612</td>\n",
       "      <td>0.963235</td>\n",
       "      <td>136</td>\n",
       "      <td>6</td>\n",
       "    </tr>\n",
       "  </tbody>\n",
       "</table>\n",
       "</div>"
      ],
      "text/plain": [
       "    class classifier  crop  duration        f1    label  precision    recall  \\\n",
       "0     lie         rf     0        60  0.834149  posture   0.861798  0.808219   \n",
       "1     sit         rf     0        60  0.756920  posture   0.737152  0.777778   \n",
       "2   stand         rf     0        60  0.738626  posture   0.740608  0.736655   \n",
       "3     lie         rf     0        60  0.886918  posture   0.888889  0.884956   \n",
       "4     sit         rf     0        60  0.666667  posture   0.709220  0.628931   \n",
       "5   stand         rf     0        60  0.759527  posture   0.706601  0.821023   \n",
       "6     lie         rf     0        60  0.972222  posture   0.972222  0.972222   \n",
       "7     sit         rf     0        60  0.977688  posture   0.967871  0.987705   \n",
       "8   stand         rf     0        60  0.847458  posture   0.925926  0.781250   \n",
       "9     lie         rf     0        60  0.891566  posture   0.913580  0.870588   \n",
       "10    sit         rf     0        60  0.863799  posture   0.806020  0.930502   \n",
       "11  stand         rf     0        60  0.557143  posture   0.750000  0.443182   \n",
       "12    lie         rf     0        60  0.943548  posture   0.921260  0.966942   \n",
       "13    sit         rf     0        60  0.695652  posture   0.750000  0.648649   \n",
       "14  stand         rf     0        60  0.923077  posture   0.933333  0.913043   \n",
       "15    lie         rf     0        60  0.916667  posture   0.897959  0.936170   \n",
       "16    sit         rf     0        60  0.970370  posture   0.977612  0.963235   \n",
       "\n",
       "    support  user  \n",
       "0       949    -1  \n",
       "1      1125    -1  \n",
       "2       562    -1  \n",
       "3       678     0  \n",
       "4       477     0  \n",
       "5       352     0  \n",
       "6        36     1  \n",
       "7       244     1  \n",
       "8        32     1  \n",
       "9        85     2  \n",
       "10      259     2  \n",
       "11       88     2  \n",
       "12      121     5  \n",
       "13       37     5  \n",
       "14       46     5  \n",
       "15       47     6  \n",
       "16      136     6  "
      ]
     },
     "execution_count": 8,
     "metadata": {},
     "output_type": "execute_result"
    }
   ],
   "source": [
    "pdfp = pd.DataFrame(dmpost)\n",
    "pdfp"
   ]
  },
  {
   "cell_type": "code",
   "execution_count": 9,
   "metadata": {},
   "outputs": [
    {
     "data": {
      "application/vnd.plotly.v1+json": {
       "data": [
        {
         "name": -1,
         "type": "bar",
         "x": [
          "lie",
          "sit",
          "stand"
         ],
         "y": [
          0.8341489940184883,
          0.7569204152249135,
          0.7386262265834076
         ]
        },
        {
         "name": 0,
         "type": "bar",
         "x": [
          "lie",
          "sit",
          "stand"
         ],
         "y": [
          0.8869179600886918,
          0.6666666666666666,
          0.759526938239159
         ]
        },
        {
         "name": 1,
         "type": "bar",
         "x": [
          "lie",
          "sit",
          "stand"
         ],
         "y": [
          0.9722222222222222,
          0.9776876267748479,
          0.847457627118644
         ]
        },
        {
         "name": 2,
         "type": "bar",
         "x": [
          "lie",
          "sit",
          "stand"
         ],
         "y": [
          0.8915662650602408,
          0.8637992831541218,
          0.5571428571428572
         ]
        },
        {
         "name": 5,
         "type": "bar",
         "x": [
          "lie",
          "sit",
          "stand"
         ],
         "y": [
          0.9435483870967741,
          0.6956521739130435,
          0.9230769230769231
         ]
        },
        {
         "name": 6,
         "type": "bar",
         "x": [
          "lie",
          "sit"
         ],
         "y": [
          0.9166666666666666,
          0.9703703703703703
         ]
        }
       ],
       "layout": {
        "barmode": "group",
        "title": "rf"
       }
      },
      "text/html": [
       "<div id=\"f45bfe79-8c02-4151-a9d5-c307a97fc884\" style=\"height: 525px; width: 100%;\" class=\"plotly-graph-div\"></div><script type=\"text/javascript\">require([\"plotly\"], function(Plotly) { window.PLOTLYENV=window.PLOTLYENV || {};window.PLOTLYENV.BASE_URL=\"https://plot.ly\";Plotly.newPlot(\"f45bfe79-8c02-4151-a9d5-c307a97fc884\", [{\"type\": \"bar\", \"x\": [\"lie\", \"sit\", \"stand\"], \"y\": [0.8341489940184883, 0.7569204152249135, 0.7386262265834076], \"name\": -1}, {\"type\": \"bar\", \"x\": [\"lie\", \"sit\", \"stand\"], \"y\": [0.8869179600886918, 0.6666666666666666, 0.759526938239159], \"name\": 0}, {\"type\": \"bar\", \"x\": [\"lie\", \"sit\", \"stand\"], \"y\": [0.9722222222222222, 0.9776876267748479, 0.847457627118644], \"name\": 1}, {\"type\": \"bar\", \"x\": [\"lie\", \"sit\", \"stand\"], \"y\": [0.8915662650602408, 0.8637992831541218, 0.5571428571428572], \"name\": 2}, {\"type\": \"bar\", \"x\": [\"lie\", \"sit\", \"stand\"], \"y\": [0.9435483870967741, 0.6956521739130435, 0.9230769230769231], \"name\": 5}, {\"type\": \"bar\", \"x\": [\"lie\", \"sit\"], \"y\": [0.9166666666666666, 0.9703703703703703], \"name\": 6}], {\"barmode\": \"group\", \"title\": \"rf\"}, {\"showLink\": true, \"linkText\": \"Export to plot.ly\"})});</script>"
      ],
      "text/vnd.plotly.v1+html": [
       "<div id=\"f45bfe79-8c02-4151-a9d5-c307a97fc884\" style=\"height: 525px; width: 100%;\" class=\"plotly-graph-div\"></div><script type=\"text/javascript\">require([\"plotly\"], function(Plotly) { window.PLOTLYENV=window.PLOTLYENV || {};window.PLOTLYENV.BASE_URL=\"https://plot.ly\";Plotly.newPlot(\"f45bfe79-8c02-4151-a9d5-c307a97fc884\", [{\"type\": \"bar\", \"x\": [\"lie\", \"sit\", \"stand\"], \"y\": [0.8341489940184883, 0.7569204152249135, 0.7386262265834076], \"name\": -1}, {\"type\": \"bar\", \"x\": [\"lie\", \"sit\", \"stand\"], \"y\": [0.8869179600886918, 0.6666666666666666, 0.759526938239159], \"name\": 0}, {\"type\": \"bar\", \"x\": [\"lie\", \"sit\", \"stand\"], \"y\": [0.9722222222222222, 0.9776876267748479, 0.847457627118644], \"name\": 1}, {\"type\": \"bar\", \"x\": [\"lie\", \"sit\", \"stand\"], \"y\": [0.8915662650602408, 0.8637992831541218, 0.5571428571428572], \"name\": 2}, {\"type\": \"bar\", \"x\": [\"lie\", \"sit\", \"stand\"], \"y\": [0.9435483870967741, 0.6956521739130435, 0.9230769230769231], \"name\": 5}, {\"type\": \"bar\", \"x\": [\"lie\", \"sit\"], \"y\": [0.9166666666666666, 0.9703703703703703], \"name\": 6}], {\"barmode\": \"group\", \"title\": \"rf\"}, {\"showLink\": true, \"linkText\": \"Export to plot.ly\"})});</script>"
      ]
     },
     "metadata": {},
     "output_type": "display_data"
    }
   ],
   "source": [
    "dv.bargroup(pdfp, 'classifier', 'user', 'class', 'f1')"
   ]
  },
  {
   "cell_type": "code",
   "execution_count": null,
   "metadata": {},
   "outputs": [],
   "source": []
  }
 ],
 "metadata": {
  "kernelspec": {
   "display_name": "Python 3",
   "language": "python",
   "name": "python3"
  },
  "language_info": {
   "codemirror_mode": {
    "name": "ipython",
    "version": 3
   },
   "file_extension": ".py",
   "mimetype": "text/x-python",
   "name": "python",
   "nbconvert_exporter": "python",
   "pygments_lexer": "ipython3",
   "version": "3.6.3"
  }
 },
 "nbformat": 4,
 "nbformat_minor": 2
}
