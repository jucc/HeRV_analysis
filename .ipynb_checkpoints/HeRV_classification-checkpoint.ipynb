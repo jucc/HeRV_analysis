{
 "cells": [
  {
   "cell_type": "code",
   "execution_count": 34,
   "metadata": {},
   "outputs": [
    {
     "name": "stdout",
     "output_type": "stream",
     "text": [
      "The autoreload extension is already loaded. To reload it, use:\n",
      "  %reload_ext autoreload\n"
     ]
    }
   ],
   "source": [
    "%load_ext autoreload\n",
    "%autoreload 2\n",
    "%matplotlib inline  \n",
    "\n",
    "import pandas as pd\n",
    "import numpy as np\n",
    "import matplotlib.pyplot as plt\n",
    "\n",
    "from sklearn import svm\n",
    "from sklearn.preprocessing import scale\n",
    "from sklearn.model_selection import StratifiedShuffleSplit, GridSearchCV, train_test_split\n",
    "\n",
    "import hervpd as hp\n",
    "import plotReport as pr"
   ]
  },
  {
   "cell_type": "code",
   "execution_count": 47,
   "metadata": {},
   "outputs": [
    {
     "data": {
      "text/html": [
       "<div>\n",
       "<style>\n",
       "    .dataframe thead tr:only-child th {\n",
       "        text-align: right;\n",
       "    }\n",
       "\n",
       "    .dataframe thead th {\n",
       "        text-align: left;\n",
       "    }\n",
       "\n",
       "    .dataframe tbody tr th {\n",
       "        vertical-align: top;\n",
       "    }\n",
       "</style>\n",
       "<table border=\"1\" class=\"dataframe\">\n",
       "  <thead>\n",
       "    <tr style=\"text-align: right;\">\n",
       "      <th></th>\n",
       "      <th>user</th>\n",
       "      <th>AVGNN</th>\n",
       "      <th>SDNN</th>\n",
       "      <th>MeanHR</th>\n",
       "      <th>MinHR</th>\n",
       "      <th>MaxHR</th>\n",
       "      <th>RMSSD</th>\n",
       "      <th>pNNxx</th>\n",
       "      <th>TINN</th>\n",
       "      <th>powerVLF</th>\n",
       "      <th>powerLF</th>\n",
       "      <th>powerHF</th>\n",
       "      <th>ratioHFLF</th>\n",
       "    </tr>\n",
       "  </thead>\n",
       "  <tbody>\n",
       "    <tr>\n",
       "      <th>count</th>\n",
       "      <td>544.000000</td>\n",
       "      <td>544.000000</td>\n",
       "      <td>544.000000</td>\n",
       "      <td>544.00000</td>\n",
       "      <td>544.000000</td>\n",
       "      <td>544.000000</td>\n",
       "      <td>544.000000</td>\n",
       "      <td>544.000000</td>\n",
       "      <td>544.000000</td>\n",
       "      <td>544.000000</td>\n",
       "      <td>544.000000</td>\n",
       "      <td>544.000000</td>\n",
       "      <td>544.000000</td>\n",
       "    </tr>\n",
       "    <tr>\n",
       "      <th>mean</th>\n",
       "      <td>1.187500</td>\n",
       "      <td>758.600000</td>\n",
       "      <td>72.865018</td>\n",
       "      <td>81.37714</td>\n",
       "      <td>67.362033</td>\n",
       "      <td>108.560417</td>\n",
       "      <td>46.409227</td>\n",
       "      <td>20.082227</td>\n",
       "      <td>358.020221</td>\n",
       "      <td>2877.387599</td>\n",
       "      <td>1423.919671</td>\n",
       "      <td>1000.824001</td>\n",
       "      <td>2.753764</td>\n",
       "    </tr>\n",
       "    <tr>\n",
       "      <th>std</th>\n",
       "      <td>0.913249</td>\n",
       "      <td>129.785003</td>\n",
       "      <td>32.960406</td>\n",
       "      <td>13.75457</td>\n",
       "      <td>10.849680</td>\n",
       "      <td>36.385572</td>\n",
       "      <td>32.537407</td>\n",
       "      <td>18.316263</td>\n",
       "      <td>146.885899</td>\n",
       "      <td>3619.576847</td>\n",
       "      <td>1443.217366</td>\n",
       "      <td>1841.656665</td>\n",
       "      <td>2.296974</td>\n",
       "    </tr>\n",
       "    <tr>\n",
       "      <th>min</th>\n",
       "      <td>0.000000</td>\n",
       "      <td>475.730000</td>\n",
       "      <td>17.833000</td>\n",
       "      <td>51.62800</td>\n",
       "      <td>41.437000</td>\n",
       "      <td>58.117000</td>\n",
       "      <td>4.882500</td>\n",
       "      <td>0.000000</td>\n",
       "      <td>83.000000</td>\n",
       "      <td>85.654000</td>\n",
       "      <td>57.852000</td>\n",
       "      <td>7.977700</td>\n",
       "      <td>0.154680</td>\n",
       "    </tr>\n",
       "    <tr>\n",
       "      <th>25%</th>\n",
       "      <td>0.000000</td>\n",
       "      <td>670.362500</td>\n",
       "      <td>51.871500</td>\n",
       "      <td>73.23225</td>\n",
       "      <td>60.292750</td>\n",
       "      <td>91.470250</td>\n",
       "      <td>27.438750</td>\n",
       "      <td>6.593075</td>\n",
       "      <td>258.000000</td>\n",
       "      <td>995.182500</td>\n",
       "      <td>591.307500</td>\n",
       "      <td>258.917500</td>\n",
       "      <td>1.257000</td>\n",
       "    </tr>\n",
       "    <tr>\n",
       "      <th>50%</th>\n",
       "      <td>2.000000</td>\n",
       "      <td>750.545000</td>\n",
       "      <td>67.057000</td>\n",
       "      <td>79.94200</td>\n",
       "      <td>66.181500</td>\n",
       "      <td>100.520000</td>\n",
       "      <td>37.994500</td>\n",
       "      <td>15.417500</td>\n",
       "      <td>339.000000</td>\n",
       "      <td>1807.950000</td>\n",
       "      <td>1040.350000</td>\n",
       "      <td>512.090000</td>\n",
       "      <td>2.037350</td>\n",
       "    </tr>\n",
       "    <tr>\n",
       "      <th>75%</th>\n",
       "      <td>2.000000</td>\n",
       "      <td>819.307500</td>\n",
       "      <td>85.820000</td>\n",
       "      <td>89.50400</td>\n",
       "      <td>74.285250</td>\n",
       "      <td>112.580000</td>\n",
       "      <td>54.762250</td>\n",
       "      <td>26.790500</td>\n",
       "      <td>426.250000</td>\n",
       "      <td>3304.250000</td>\n",
       "      <td>1697.950000</td>\n",
       "      <td>960.045000</td>\n",
       "      <td>3.579975</td>\n",
       "    </tr>\n",
       "    <tr>\n",
       "      <th>max</th>\n",
       "      <td>2.000000</td>\n",
       "      <td>1162.200000</td>\n",
       "      <td>264.250000</td>\n",
       "      <td>126.12000</td>\n",
       "      <td>104.900000</td>\n",
       "      <td>550.320000</td>\n",
       "      <td>240.470000</td>\n",
       "      <td>98.232000</td>\n",
       "      <td>1103.000000</td>\n",
       "      <td>29716.000000</td>\n",
       "      <td>12958.000000</td>\n",
       "      <td>16103.000000</td>\n",
       "      <td>18.228000</td>\n",
       "    </tr>\n",
       "  </tbody>\n",
       "</table>\n",
       "</div>"
      ],
      "text/plain": [
       "             user        AVGNN        SDNN     MeanHR       MinHR       MaxHR  \\\n",
       "count  544.000000   544.000000  544.000000  544.00000  544.000000  544.000000   \n",
       "mean     1.187500   758.600000   72.865018   81.37714   67.362033  108.560417   \n",
       "std      0.913249   129.785003   32.960406   13.75457   10.849680   36.385572   \n",
       "min      0.000000   475.730000   17.833000   51.62800   41.437000   58.117000   \n",
       "25%      0.000000   670.362500   51.871500   73.23225   60.292750   91.470250   \n",
       "50%      2.000000   750.545000   67.057000   79.94200   66.181500  100.520000   \n",
       "75%      2.000000   819.307500   85.820000   89.50400   74.285250  112.580000   \n",
       "max      2.000000  1162.200000  264.250000  126.12000  104.900000  550.320000   \n",
       "\n",
       "            RMSSD       pNNxx         TINN      powerVLF       powerLF  \\\n",
       "count  544.000000  544.000000   544.000000    544.000000    544.000000   \n",
       "mean    46.409227   20.082227   358.020221   2877.387599   1423.919671   \n",
       "std     32.537407   18.316263   146.885899   3619.576847   1443.217366   \n",
       "min      4.882500    0.000000    83.000000     85.654000     57.852000   \n",
       "25%     27.438750    6.593075   258.000000    995.182500    591.307500   \n",
       "50%     37.994500   15.417500   339.000000   1807.950000   1040.350000   \n",
       "75%     54.762250   26.790500   426.250000   3304.250000   1697.950000   \n",
       "max    240.470000   98.232000  1103.000000  29716.000000  12958.000000   \n",
       "\n",
       "            powerHF   ratioHFLF  \n",
       "count    544.000000  544.000000  \n",
       "mean    1000.824001    2.753764  \n",
       "std     1841.656665    2.296974  \n",
       "min        7.977700    0.154680  \n",
       "25%      258.917500    1.257000  \n",
       "50%      512.090000    2.037350  \n",
       "75%      960.045000    3.579975  \n",
       "max    16103.000000   18.228000  "
      ]
     },
     "execution_count": 47,
     "metadata": {},
     "output_type": "execute_result"
    }
   ],
   "source": [
    "df = pd.read_csv( 'data/12features/combined.csv')\n",
    "df.describe()"
   ]
  },
  {
   "cell_type": "code",
   "execution_count": 36,
   "metadata": {},
   "outputs": [
    {
     "data": {
      "text/plain": [
       "Text(0,0.5,'fragments')"
      ]
     },
     "execution_count": 36,
     "metadata": {},
     "output_type": "execute_result"
    },
    {
     "data": {
      "image/png": "[encoded data removed]",
      "text/plain": [
       "<matplotlib.figure.Figure at 0x1d2b2b0c1d0>"
      ]
     },
     "metadata": {},
     "output_type": "display_data"
    }
   ],
   "source": [
    "ac = hp.countExamplesByActivity(df)\n",
    "ax = ac.plot(kind='bar')\n",
    "ax.set_ylabel(\"fragments\")"
   ]
  },
  {
   "cell_type": "code",
   "execution_count": 52,
   "metadata": {},
   "outputs": [
    {
     "name": "stdout",
     "output_type": "stream",
     "text": [
      "['eat' 'focused-active' 'focused-passive' 'household-chores'\n",
      " 'leisure-passive' 'movement' 'sleep']\n"
     ]
    }
   ],
   "source": [
    "# exclude activities with too little representation\n",
    "df = hp.excludeActivities(df, ['rest-active', 'leisure-active'])\n",
    "print(df.activity.unique())"
   ]
  },
  {
   "cell_type": "code",
   "execution_count": 53,
   "metadata": {},
   "outputs": [
    {
     "data": {
      "text/html": [
       "<div>\n",
       "<style>\n",
       "    .dataframe thead tr:only-child th {\n",
       "        text-align: right;\n",
       "    }\n",
       "\n",
       "    .dataframe thead th {\n",
       "        text-align: left;\n",
       "    }\n",
       "\n",
       "    .dataframe tbody tr th {\n",
       "        vertical-align: top;\n",
       "    }\n",
       "</style>\n",
       "<table border=\"1\" class=\"dataframe\">\n",
       "  <thead>\n",
       "    <tr style=\"text-align: right;\">\n",
       "      <th></th>\n",
       "      <th>user</th>\n",
       "      <th>activity</th>\n",
       "      <th>posture</th>\n",
       "      <th>AVGNN</th>\n",
       "      <th>SDNN</th>\n",
       "      <th>MeanHR</th>\n",
       "      <th>MinHR</th>\n",
       "      <th>MaxHR</th>\n",
       "      <th>RMSSD</th>\n",
       "      <th>pNNxx</th>\n",
       "      <th>TINN</th>\n",
       "      <th>powerVLF</th>\n",
       "      <th>powerLF</th>\n",
       "      <th>powerHF</th>\n",
       "      <th>ratioHFLF</th>\n",
       "      <th>move</th>\n",
       "      <th>sleep</th>\n",
       "    </tr>\n",
       "  </thead>\n",
       "  <tbody>\n",
       "    <tr>\n",
       "      <th>0</th>\n",
       "      <td>0</td>\n",
       "      <td>eat</td>\n",
       "      <td>sit</td>\n",
       "      <td>-0.588436</td>\n",
       "      <td>0.902062</td>\n",
       "      <td>0.477434</td>\n",
       "      <td>0.313013</td>\n",
       "      <td>0.790589</td>\n",
       "      <td>1.287573</td>\n",
       "      <td>0.485631</td>\n",
       "      <td>0.974303</td>\n",
       "      <td>0.213346</td>\n",
       "      <td>-0.189418</td>\n",
       "      <td>0.202600</td>\n",
       "      <td>-0.834889</td>\n",
       "      <td>still</td>\n",
       "      <td>wake</td>\n",
       "    </tr>\n",
       "    <tr>\n",
       "      <th>1</th>\n",
       "      <td>0</td>\n",
       "      <td>eat</td>\n",
       "      <td>sit</td>\n",
       "      <td>-0.853271</td>\n",
       "      <td>1.001970</td>\n",
       "      <td>0.816542</td>\n",
       "      <td>0.572245</td>\n",
       "      <td>1.190566</td>\n",
       "      <td>1.738393</td>\n",
       "      <td>0.690993</td>\n",
       "      <td>1.171917</td>\n",
       "      <td>-0.332523</td>\n",
       "      <td>0.192650</td>\n",
       "      <td>0.841743</td>\n",
       "      <td>-0.909128</td>\n",
       "      <td>still</td>\n",
       "      <td>wake</td>\n",
       "    </tr>\n",
       "    <tr>\n",
       "      <th>2</th>\n",
       "      <td>0</td>\n",
       "      <td>eat</td>\n",
       "      <td>sit</td>\n",
       "      <td>-0.696406</td>\n",
       "      <td>-0.057699</td>\n",
       "      <td>0.611476</td>\n",
       "      <td>0.746420</td>\n",
       "      <td>0.561166</td>\n",
       "      <td>0.325057</td>\n",
       "      <td>-0.232206</td>\n",
       "      <td>0.742618</td>\n",
       "      <td>-0.708316</td>\n",
       "      <td>0.324283</td>\n",
       "      <td>-0.278426</td>\n",
       "      <td>0.487191</td>\n",
       "      <td>still</td>\n",
       "      <td>wake</td>\n",
       "    </tr>\n",
       "    <tr>\n",
       "      <th>3</th>\n",
       "      <td>0</td>\n",
       "      <td>eat</td>\n",
       "      <td>sit</td>\n",
       "      <td>-0.603552</td>\n",
       "      <td>-0.466139</td>\n",
       "      <td>0.495845</td>\n",
       "      <td>0.516155</td>\n",
       "      <td>-0.207702</td>\n",
       "      <td>-0.115057</td>\n",
       "      <td>-0.583654</td>\n",
       "      <td>-0.163680</td>\n",
       "      <td>-0.688934</td>\n",
       "      <td>-0.103489</td>\n",
       "      <td>-0.302367</td>\n",
       "      <td>0.049779</td>\n",
       "      <td>still</td>\n",
       "      <td>wake</td>\n",
       "    </tr>\n",
       "    <tr>\n",
       "      <th>4</th>\n",
       "      <td>0</td>\n",
       "      <td>eat</td>\n",
       "      <td>sit</td>\n",
       "      <td>-1.129675</td>\n",
       "      <td>-0.653931</td>\n",
       "      <td>1.211101</td>\n",
       "      <td>1.422453</td>\n",
       "      <td>0.191449</td>\n",
       "      <td>-0.758294</td>\n",
       "      <td>-0.930140</td>\n",
       "      <td>-0.504394</td>\n",
       "      <td>-0.255621</td>\n",
       "      <td>-0.549369</td>\n",
       "      <td>-0.423032</td>\n",
       "      <td>0.037578</td>\n",
       "      <td>still</td>\n",
       "      <td>wake</td>\n",
       "    </tr>\n",
       "  </tbody>\n",
       "</table>\n",
       "</div>"
      ],
      "text/plain": [
       "   user activity posture     AVGNN      SDNN    MeanHR     MinHR     MaxHR  \\\n",
       "0     0      eat     sit -0.588436  0.902062  0.477434  0.313013  0.790589   \n",
       "1     0      eat     sit -0.853271  1.001970  0.816542  0.572245  1.190566   \n",
       "2     0      eat     sit -0.696406 -0.057699  0.611476  0.746420  0.561166   \n",
       "3     0      eat     sit -0.603552 -0.466139  0.495845  0.516155 -0.207702   \n",
       "4     0      eat     sit -1.129675 -0.653931  1.211101  1.422453  0.191449   \n",
       "\n",
       "      RMSSD     pNNxx      TINN  powerVLF   powerLF   powerHF  ratioHFLF  \\\n",
       "0  1.287573  0.485631  0.974303  0.213346 -0.189418  0.202600  -0.834889   \n",
       "1  1.738393  0.690993  1.171917 -0.332523  0.192650  0.841743  -0.909128   \n",
       "2  0.325057 -0.232206  0.742618 -0.708316  0.324283 -0.278426   0.487191   \n",
       "3 -0.115057 -0.583654 -0.163680 -0.688934 -0.103489 -0.302367   0.049779   \n",
       "4 -0.758294 -0.930140 -0.504394 -0.255621 -0.549369 -0.423032   0.037578   \n",
       "\n",
       "    move sleep  \n",
       "0  still  wake  \n",
       "1  still  wake  \n",
       "2  still  wake  \n",
       "3  still  wake  \n",
       "4  still  wake  "
      ]
     },
     "execution_count": 53,
     "metadata": {},
     "output_type": "execute_result"
    }
   ],
   "source": [
    "movelist = ['exercise-high', 'exercise-low', 'movement', 'household-chores']\n",
    "df = hp.addPartition(df, movelist, pname='move', labelIn='move', labelOut='still')\n",
    "\n",
    "sleeplist = ['sleep']\n",
    "df = hp.addPartition(df, sleeplist, pname='sleep', labelIn='sleep', labelOut='wake')\n",
    "\n",
    "df.head()"
   ]
  },
  {
   "cell_type": "markdown",
   "metadata": {},
   "source": [
    "### Apply scale to make all features go to mean = 0 and SD = 1. That will allow SVM kernels not to put too much weight on features with larger values."
   ]
  },
  {
   "cell_type": "code",
   "execution_count": 54,
   "metadata": {},
   "outputs": [
    {
     "data": {
      "text/html": [
       "<div>\n",
       "<style>\n",
       "    .dataframe thead tr:only-child th {\n",
       "        text-align: right;\n",
       "    }\n",
       "\n",
       "    .dataframe thead th {\n",
       "        text-align: left;\n",
       "    }\n",
       "\n",
       "    .dataframe tbody tr th {\n",
       "        vertical-align: top;\n",
       "    }\n",
       "</style>\n",
       "<table border=\"1\" class=\"dataframe\">\n",
       "  <thead>\n",
       "    <tr style=\"text-align: right;\">\n",
       "      <th></th>\n",
       "      <th>user</th>\n",
       "      <th>AVGNN</th>\n",
       "      <th>SDNN</th>\n",
       "      <th>MeanHR</th>\n",
       "      <th>MinHR</th>\n",
       "      <th>MaxHR</th>\n",
       "      <th>RMSSD</th>\n",
       "      <th>pNNxx</th>\n",
       "      <th>TINN</th>\n",
       "      <th>powerVLF</th>\n",
       "      <th>powerLF</th>\n",
       "      <th>powerHF</th>\n",
       "      <th>ratioHFLF</th>\n",
       "    </tr>\n",
       "  </thead>\n",
       "  <tbody>\n",
       "    <tr>\n",
       "      <th>count</th>\n",
       "      <td>511.000000</td>\n",
       "      <td>5.110000e+02</td>\n",
       "      <td>5.110000e+02</td>\n",
       "      <td>5.110000e+02</td>\n",
       "      <td>5.110000e+02</td>\n",
       "      <td>5.110000e+02</td>\n",
       "      <td>5.110000e+02</td>\n",
       "      <td>5.110000e+02</td>\n",
       "      <td>5.110000e+02</td>\n",
       "      <td>5.110000e+02</td>\n",
       "      <td>5.110000e+02</td>\n",
       "      <td>5.110000e+02</td>\n",
       "      <td>5.110000e+02</td>\n",
       "    </tr>\n",
       "    <tr>\n",
       "      <th>mean</th>\n",
       "      <td>1.189824</td>\n",
       "      <td>-9.907274e-17</td>\n",
       "      <td>4.345296e-17</td>\n",
       "      <td>-3.910766e-18</td>\n",
       "      <td>-6.431037e-17</td>\n",
       "      <td>-2.563724e-17</td>\n",
       "      <td>3.823860e-17</td>\n",
       "      <td>-5.431619e-18</td>\n",
       "      <td>7.995344e-17</td>\n",
       "      <td>4.345296e-19</td>\n",
       "      <td>1.260136e-17</td>\n",
       "      <td>5.442483e-17</td>\n",
       "      <td>3.574006e-17</td>\n",
       "    </tr>\n",
       "    <tr>\n",
       "      <th>std</th>\n",
       "      <td>0.908119</td>\n",
       "      <td>1.000980e+00</td>\n",
       "      <td>1.000980e+00</td>\n",
       "      <td>1.000980e+00</td>\n",
       "      <td>1.000980e+00</td>\n",
       "      <td>1.000980e+00</td>\n",
       "      <td>1.000980e+00</td>\n",
       "      <td>1.000980e+00</td>\n",
       "      <td>1.000980e+00</td>\n",
       "      <td>1.000980e+00</td>\n",
       "      <td>1.000980e+00</td>\n",
       "      <td>1.000980e+00</td>\n",
       "      <td>1.000980e+00</td>\n",
       "    </tr>\n",
       "    <tr>\n",
       "      <th>min</th>\n",
       "      <td>0.000000</td>\n",
       "      <td>-2.137055e+00</td>\n",
       "      <td>-1.676670e+00</td>\n",
       "      <td>-2.137750e+00</td>\n",
       "      <td>-2.362415e+00</td>\n",
       "      <td>-1.373772e+00</td>\n",
       "      <td>-1.313777e+00</td>\n",
       "      <td>-1.109950e+00</td>\n",
       "      <td>-1.888086e+00</td>\n",
       "      <td>-7.717804e-01</td>\n",
       "      <td>-9.417885e-01</td>\n",
       "      <td>-5.493034e-01</td>\n",
       "      <td>-1.136800e+00</td>\n",
       "    </tr>\n",
       "    <tr>\n",
       "      <th>25%</th>\n",
       "      <td>0.000000</td>\n",
       "      <td>-6.838934e-01</td>\n",
       "      <td>-6.304033e-01</td>\n",
       "      <td>-6.195035e-01</td>\n",
       "      <td>-6.799283e-01</td>\n",
       "      <td>-4.801817e-01</td>\n",
       "      <td>-6.038868e-01</td>\n",
       "      <td>-7.468693e-01</td>\n",
       "      <td>-6.732240e-01</td>\n",
       "      <td>-5.177532e-01</td>\n",
       "      <td>-5.741279e-01</td>\n",
       "      <td>-4.118293e-01</td>\n",
       "      <td>-6.640603e-01</td>\n",
       "    </tr>\n",
       "    <tr>\n",
       "      <th>50%</th>\n",
       "      <td>2.000000</td>\n",
       "      <td>-7.328069e-02</td>\n",
       "      <td>-1.541356e-01</td>\n",
       "      <td>-9.631318e-02</td>\n",
       "      <td>-1.142624e-01</td>\n",
       "      <td>-2.201270e-01</td>\n",
       "      <td>-2.565619e-01</td>\n",
       "      <td>-2.462851e-01</td>\n",
       "      <td>-1.135686e-01</td>\n",
       "      <td>-2.944213e-01</td>\n",
       "      <td>-2.761460e-01</td>\n",
       "      <td>-2.664865e-01</td>\n",
       "      <td>-3.093413e-01</td>\n",
       "    </tr>\n",
       "    <tr>\n",
       "      <th>75%</th>\n",
       "      <td>2.000000</td>\n",
       "      <td>4.979229e-01</td>\n",
       "      <td>3.897935e-01</td>\n",
       "      <td>5.933614e-01</td>\n",
       "      <td>6.604105e-01</td>\n",
       "      <td>1.002332e-01</td>\n",
       "      <td>2.880550e-01</td>\n",
       "      <td>3.975070e-01</td>\n",
       "      <td>4.631495e-01</td>\n",
       "      <td>1.211459e-01</td>\n",
       "      <td>1.844318e-01</td>\n",
       "      <td>-1.089094e-02</td>\n",
       "      <td>3.844003e-01</td>\n",
       "    </tr>\n",
       "    <tr>\n",
       "      <th>max</th>\n",
       "      <td>2.000000</td>\n",
       "      <td>3.075496e+00</td>\n",
       "      <td>5.793283e+00</td>\n",
       "      <td>3.172352e+00</td>\n",
       "      <td>3.393374e+00</td>\n",
       "      <td>1.182139e+01</td>\n",
       "      <td>6.151021e+00</td>\n",
       "      <td>4.306605e+00</td>\n",
       "      <td>5.073482e+00</td>\n",
       "      <td>7.403906e+00</td>\n",
       "      <td>7.882036e+00</td>\n",
       "      <td>8.543813e+00</td>\n",
       "      <td>6.582587e+00</td>\n",
       "    </tr>\n",
       "  </tbody>\n",
       "</table>\n",
       "</div>"
      ],
      "text/plain": [
       "             user         AVGNN          SDNN        MeanHR         MinHR  \\\n",
       "count  511.000000  5.110000e+02  5.110000e+02  5.110000e+02  5.110000e+02   \n",
       "mean     1.189824 -9.907274e-17  4.345296e-17 -3.910766e-18 -6.431037e-17   \n",
       "std      0.908119  1.000980e+00  1.000980e+00  1.000980e+00  1.000980e+00   \n",
       "min      0.000000 -2.137055e+00 -1.676670e+00 -2.137750e+00 -2.362415e+00   \n",
       "25%      0.000000 -6.838934e-01 -6.304033e-01 -6.195035e-01 -6.799283e-01   \n",
       "50%      2.000000 -7.328069e-02 -1.541356e-01 -9.631318e-02 -1.142624e-01   \n",
       "75%      2.000000  4.979229e-01  3.897935e-01  5.933614e-01  6.604105e-01   \n",
       "max      2.000000  3.075496e+00  5.793283e+00  3.172352e+00  3.393374e+00   \n",
       "\n",
       "              MaxHR         RMSSD         pNNxx          TINN      powerVLF  \\\n",
       "count  5.110000e+02  5.110000e+02  5.110000e+02  5.110000e+02  5.110000e+02   \n",
       "mean  -2.563724e-17  3.823860e-17 -5.431619e-18  7.995344e-17  4.345296e-19   \n",
       "std    1.000980e+00  1.000980e+00  1.000980e+00  1.000980e+00  1.000980e+00   \n",
       "min   -1.373772e+00 -1.313777e+00 -1.109950e+00 -1.888086e+00 -7.717804e-01   \n",
       "25%   -4.801817e-01 -6.038868e-01 -7.468693e-01 -6.732240e-01 -5.177532e-01   \n",
       "50%   -2.201270e-01 -2.565619e-01 -2.462851e-01 -1.135686e-01 -2.944213e-01   \n",
       "75%    1.002332e-01  2.880550e-01  3.975070e-01  4.631495e-01  1.211459e-01   \n",
       "max    1.182139e+01  6.151021e+00  4.306605e+00  5.073482e+00  7.403906e+00   \n",
       "\n",
       "            powerLF       powerHF     ratioHFLF  \n",
       "count  5.110000e+02  5.110000e+02  5.110000e+02  \n",
       "mean   1.260136e-17  5.442483e-17  3.574006e-17  \n",
       "std    1.000980e+00  1.000980e+00  1.000980e+00  \n",
       "min   -9.417885e-01 -5.493034e-01 -1.136800e+00  \n",
       "25%   -5.741279e-01 -4.118293e-01 -6.640603e-01  \n",
       "50%   -2.761460e-01 -2.664865e-01 -3.093413e-01  \n",
       "75%    1.844318e-01 -1.089094e-02  3.844003e-01  \n",
       "max    7.882036e+00  8.543813e+00  6.582587e+00  "
      ]
     },
     "execution_count": 54,
     "metadata": {},
     "output_type": "execute_result"
    }
   ],
   "source": [
    "hp.scaleFeatures(df)\n",
    "df.describe()"
   ]
  },
  {
   "cell_type": "markdown",
   "metadata": {},
   "source": [
    "### Test dataset will have 20% of examples, the other 80% will be for training (with cross-validation)"
   ]
  },
  {
   "cell_type": "code",
   "execution_count": 55,
   "metadata": {},
   "outputs": [
    {
     "name": "stdout",
     "output_type": "stream",
     "text": [
      "408 103\n"
     ]
    }
   ],
   "source": [
    "train, test = train_test_split(df, test_size=0.2)\n",
    "print (len(train), len(test))"
   ]
  },
  {
   "cell_type": "markdown",
   "metadata": {},
   "source": [
    "### 3 - Model selection:  Perform an exhaustive search, with k-fold cross-validation,  in the space parameter consisting of:\n",
    "* $C = 10^{i}, com -1 \\leq i \\leq 6$, for both linear and RBF kernels\n",
    "* $\\gamma = 10^{i}, com -3 \\leq i \\leq 3$, for RBF kernel."
   ]
  },
  {
   "cell_type": "code",
   "execution_count": 56,
   "metadata": {
    "collapsed": true
   },
   "outputs": [],
   "source": [
    "crossval = StratifiedShuffleSplit(n_splits=4, test_size=0.2)\n",
    "\n",
    "c_range = np.logspace(-1, 2, 4) \n",
    "gamma_range = np.logspace(-2, 1, 4)\n",
    "\n",
    "param_lin=dict(C=c_range)\n",
    "param_rbf=dict(C=c_range, gamma=gamma_range)\n"
   ]
  },
  {
   "cell_type": "code",
   "execution_count": 57,
   "metadata": {},
   "outputs": [
    {
     "name": "stdout",
     "output_type": "stream",
     "text": [
      "Kernel linear --- \n",
      "Best params: {'C': 100.0} with score 0.43598\n",
      "                  precision    recall  f1-score   support\n",
      "\n",
      "             eat       0.50      0.33      0.40        15\n",
      "  focused-active       0.54      0.74      0.62        19\n",
      " focused-passive       0.38      0.29      0.33        17\n",
      "household-chores       0.38      0.38      0.38        16\n",
      " leisure-passive       0.28      0.42      0.33        12\n",
      "        movement       0.57      0.57      0.57        14\n",
      "           sleep       0.67      0.40      0.50        10\n",
      "\n",
      "     avg / total       0.47      0.46      0.45       103\n",
      "\n"
     ]
    }
   ],
   "source": [
    "grid_lin = GridSearchCV(svm.SVC(kernel='linear', cache_size=1000), param_grid=param_lin, cv=crossval)\n",
    "grid_lin.fit(X=train.iloc[:, 3:15], y=train['activity'])\n",
    "\n",
    "print(\"Kernel linear --- \")\n",
    "print(\"Best params: %s with score %0.5f\" % (grid_lin.best_params_, grid_lin.best_score_))\n",
    "\n",
    "clf1 = svm.SVC(kernel='linear', cache_size=1000, C=grid_lin.best_params_['C'])\n",
    "clf1.fit(X=train.iloc[:, 3:15], y=train['activity'])\n",
    "print(hp.report(test, clf1.predict(test.iloc[:, 3:15])))"
   ]
  },
  {
   "cell_type": "code",
   "execution_count": 58,
   "metadata": {},
   "outputs": [
    {
     "name": "stdout",
     "output_type": "stream",
     "text": [
      "Kernel RBF --- \n",
      "Best params: {'C': 10.0, 'gamma': 0.10000000000000001} with score 0.50305\n",
      "                  precision    recall  f1-score   support\n",
      "\n",
      "             eat       0.33      0.20      0.25        15\n",
      "  focused-active       0.62      0.68      0.65        19\n",
      " focused-passive       0.42      0.29      0.34        17\n",
      "household-chores       0.35      0.44      0.39        16\n",
      " leisure-passive       0.30      0.58      0.40        12\n",
      "        movement       0.44      0.29      0.35        14\n",
      "           sleep       0.78      0.70      0.74        10\n",
      "\n",
      "     avg / total       0.46      0.45      0.44       103\n",
      "\n"
     ]
    }
   ],
   "source": [
    "grid_rbf = GridSearchCV(svm.SVC(kernel='rbf', cache_size=1000), param_grid=param_rbf, cv=crossval)\n",
    "grid_rbf.fit(X=train.iloc[:, 3:15], y=train['activity'])\n",
    "\n",
    "print(\"Kernel RBF --- \")\n",
    "print(\"Best params: %s with score %0.5f\" % (grid_rbf.best_params_, grid_rbf.best_score_))\n",
    "\n",
    "clf2 = svm.SVC(kernel='rbf', cache_size=1000, C=grid_rbf.best_params_['C'], gamma=grid_rbf.best_params_['gamma'])\n",
    "clf2.fit(X=train.iloc[:, 3:15], y=train['activity'])\n",
    "r_fulldf = hp.report(test, clf2.predict(test.iloc[:, 3:15]))\n",
    "print(r_fulldf)"
   ]
  },
  {
   "cell_type": "code",
   "execution_count": 59,
   "metadata": {},
   "outputs": [
    {
     "name": "stdout",
     "output_type": "stream",
     "text": [
      "[0.33, 0.2, 0.25]\n",
      "[0.62, 0.68, 0.65]\n",
      "[0.42, 0.29, 0.34]\n",
      "[0.35, 0.44, 0.39]\n",
      "[0.3, 0.58, 0.4]\n",
      "[0.44, 0.29, 0.35]\n",
      "[0.78, 0.7, 0.74]\n"
     ]
    },
    {
     "data": {
      "image/png": "[encoded data removed]",
      "text/plain": [
       "<matplotlib.figure.Figure at 0x1d2b2b594e0>"
      ]
     },
     "metadata": {},
     "output_type": "display_data"
    }
   ],
   "source": [
    "pr.plot_classification_report(r_fulldf, title='', with_avg_total=False, cmap=plt.cm.coolwarm_r)"
   ]
  },
  {
   "cell_type": "code",
   "execution_count": 60,
   "metadata": {},
   "outputs": [
    {
     "name": "stdout",
     "output_type": "stream",
     "text": [
      "                  precision    recall  f1-score   support\n",
      "\n",
      "             eat       0.33      0.13      0.19        15\n",
      "  focused-active       0.46      0.58      0.51        19\n",
      " focused-passive       0.33      0.18      0.23        17\n",
      "household-chores       0.40      0.38      0.39        16\n",
      " leisure-passive       0.27      0.67      0.38        12\n",
      "        movement       0.55      0.43      0.48        14\n",
      "           sleep       0.88      0.70      0.78        10\n",
      "\n",
      "     avg / total       0.44      0.42      0.41       103\n",
      "\n"
     ]
    }
   ],
   "source": [
    "clf3 = svm.SVC(kernel='poly', cache_size=1000, C=grid_lin.best_params_['C'])\n",
    "clf3.fit(X=train.iloc[:, 3:15], y=train['activity'])\n",
    "print(hp.report(test, clf3.predict(test.iloc[:, 3:15])))"
   ]
  },
  {
   "cell_type": "markdown",
   "metadata": {},
   "source": [
    "\n",
    "## Now, we can run the same steps above with multiple experiments! Time to have fun!!"
   ]
  },
  {
   "cell_type": "code",
   "execution_count": 63,
   "metadata": {},
   "outputs": [
    {
     "name": "stdout",
     "output_type": "stream",
     "text": [
      "408 train examples and 103 test examples\n",
      "Best params for linear kernel: {'C': 100.0} with score 0.42683\n",
      "--- test results for linear kernel:\n",
      "                  precision    recall  f1-score   support\n",
      "\n",
      "             eat       0.29      0.13      0.18        15\n",
      "  focused-active       0.61      0.61      0.61        18\n",
      " focused-passive       0.24      0.36      0.29        14\n",
      "household-chores       0.55      0.35      0.43        17\n",
      " leisure-passive       0.20      0.42      0.27        12\n",
      "        movement       0.67      0.43      0.52        14\n",
      "           sleep       0.58      0.54      0.56        13\n",
      "\n",
      "     avg / total       0.46      0.41      0.42       103\n",
      "\n",
      "Best params for RBF kernel: {'C': 10.0, 'gamma': 0.10000000000000001} with score 0.50000\n",
      "--- test results for RBF kernel:\n",
      "                  precision    recall  f1-score   support\n",
      "\n",
      "             eat       0.50      0.20      0.29        15\n",
      "  focused-active       0.43      0.50      0.46        18\n",
      " focused-passive       0.20      0.21      0.21        14\n",
      "household-chores       0.50      0.41      0.45        17\n",
      " leisure-passive       0.33      0.75      0.46        12\n",
      "        movement       0.43      0.21      0.29        14\n",
      "           sleep       0.77      0.77      0.77        13\n",
      "\n",
      "     avg / total       0.45      0.43      0.41       103\n",
      "\n"
     ]
    }
   ],
   "source": [
    "r = hp.runFlow(df)"
   ]
  },
  {
   "cell_type": "code",
   "execution_count": 64,
   "metadata": {},
   "outputs": [
    {
     "name": "stdout",
     "output_type": "stream",
     "text": [
      "[0.5, 0.2, 0.29]\n",
      "[0.43, 0.5, 0.46]\n",
      "[0.2, 0.21, 0.21]\n",
      "[0.5, 0.41, 0.45]\n",
      "[0.33, 0.75, 0.46]\n",
      "[0.43, 0.21, 0.29]\n",
      "[0.77, 0.77, 0.77]\n"
     ]
    },
    {
     "data": {
      "image/png": "[encoded data removed]",
      "text/plain": [
       "<matplotlib.figure.Figure at 0x1d2b2bbf668>"
      ]
     },
     "metadata": {},
     "output_type": "display_data"
    }
   ],
   "source": [
    "pr.plot_classification_report(r[1], cmap=plt.cm.coolwarm_r)"
   ]
  },
  {
   "cell_type": "code",
   "execution_count": 67,
   "metadata": {},
   "outputs": [
    {
     "name": "stderr",
     "output_type": "stream",
     "text": [
      "C:\\Users\\Ju\\Anaconda3\\lib\\site-packages\\pandas\\core\\indexing.py:517: SettingWithCopyWarning: \n",
      "A value is trying to be set on a copy of a slice from a DataFrame.\n",
      "Try using .loc[row_indexer,col_indexer] = value instead\n",
      "\n",
      "See the caveats in the documentation: http://pandas.pydata.org/pandas-docs/stable/indexing.html#indexing-view-versus-copy\n",
      "  self.obj[item] = s\n"
     ]
    },
    {
     "name": "stdout",
     "output_type": "stream",
     "text": [
      "136 train examples and 35 test examples\n",
      "Best params for linear kernel: {'C': 1.0} with score 0.53571\n",
      "--- test results for linear kernel:\n",
      "                  precision    recall  f1-score   support\n",
      "\n",
      "             eat       0.00      0.00      0.00         1\n",
      "  focused-active       0.00      0.00      0.00         7\n",
      " focused-passive       0.56      0.56      0.56         9\n",
      "household-chores       0.50      0.40      0.44         5\n",
      " leisure-passive       0.29      0.67      0.40         3\n",
      "        movement       0.67      0.67      0.67         6\n",
      "           sleep       0.43      0.75      0.55         4\n",
      "\n",
      "     avg / total       0.40      0.46      0.42        35\n",
      "\n",
      "Best params for RBF kernel: {'C': 10.0, 'gamma': 0.10000000000000001} with score 0.57143\n",
      "--- test results for RBF kernel:\n",
      "                  precision    recall  f1-score   support\n",
      "\n",
      "             eat       0.00      0.00      0.00         1\n",
      "  focused-active       0.50      0.43      0.46         7\n",
      " focused-passive       0.50      0.44      0.47         9\n",
      "household-chores       0.33      0.20      0.25         5\n",
      " leisure-passive       0.40      0.67      0.50         3\n",
      "        movement       0.57      0.67      0.62         6\n",
      "           sleep       0.67      1.00      0.80         4\n",
      "\n",
      "     avg / total       0.48      0.51      0.49        35\n",
      "\n",
      "                  precision    recall  f1-score   support\n",
      "\n",
      "             eat       0.00      0.00      0.00         1\n",
      "  focused-active       0.00      0.00      0.00         7\n",
      " focused-passive       0.56      0.56      0.56         9\n",
      "household-chores       0.50      0.40      0.44         5\n",
      " leisure-passive       0.29      0.67      0.40         3\n",
      "        movement       0.67      0.67      0.67         6\n",
      "           sleep       0.43      0.75      0.55         4\n",
      "\n",
      "     avg / total       0.40      0.46      0.42        35\n",
      "\n",
      "                  precision    recall  f1-score   support\n",
      "\n",
      "             eat       0.00      0.00      0.00         1\n",
      "  focused-active       0.50      0.43      0.46         7\n",
      " focused-passive       0.50      0.44      0.47         9\n",
      "household-chores       0.33      0.20      0.25         5\n",
      " leisure-passive       0.40      0.67      0.50         3\n",
      "        movement       0.57      0.67      0.62         6\n",
      "           sleep       0.67      1.00      0.80         4\n",
      "\n",
      "     avg / total       0.48      0.51      0.49        35\n",
      "\n",
      "[0.0, 0.0, 0.0]\n",
      "[0.5, 0.43, 0.46]\n",
      "[0.5, 0.44, 0.47]\n",
      "[0.33, 0.2, 0.25]\n",
      "[0.4, 0.67, 0.5]\n",
      "[0.57, 0.67, 0.62]\n",
      "[0.67, 1.0, 0.8]\n"
     ]
    },
    {
     "name": "stderr",
     "output_type": "stream",
     "text": [
      "C:\\Users\\Ju\\Anaconda3\\lib\\site-packages\\sklearn\\metrics\\classification.py:1135: UndefinedMetricWarning: Precision and F-score are ill-defined and being set to 0.0 in labels with no predicted samples.\n",
      "  'precision', 'predicted', average, warn_for)\n"
     ]
    },
    {
     "data": {
      "image/png": "[encoded data removed]",
      "text/plain": [
       "<matplotlib.figure.Figure at 0x1d2b2231a58>"
      ]
     },
     "metadata": {},
     "output_type": "display_data"
    }
   ],
   "source": [
    "u0 = hp.userRows(df, 0)\n",
    "r0 = hp.runFlow(u0)\n",
    "print (r0[0])\n",
    "print (r0[1])\n",
    "pr.plot_classification_report(r0[1], title ='')\n"
   ]
  },
  {
   "cell_type": "code",
   "execution_count": null,
   "metadata": {},
   "outputs": [],
   "source": [
    "r1 = hp.runFlow(hp.userRows(df, 1))\n",
    "print (r1[0])\n",
    "print (r1[1])\n",
    "pr.plot_classification_report(r1[1], title ='')"
   ]
  },
  {
   "cell_type": "code",
   "execution_count": null,
   "metadata": {},
   "outputs": [],
   "source": [
    "r2 = hp.runFlow(hp.userRows(df, 2))\n",
    "print (r2[0])\n",
    "print (r2[1])\n",
    "pr.plot_classification_report(r2[1], title ='')"
   ]
  },
  {
   "cell_type": "code",
   "execution_count": null,
   "metadata": {},
   "outputs": [],
   "source": [
    "pr.plot_classification_report(reports[2][1], title='', cmap=plt.cm.coolwarm_r)"
   ]
  },
  {
   "cell_type": "code",
   "execution_count": null,
   "metadata": {},
   "outputs": [],
   "source": [
    "hp.countExamplesByActivity(df)"
   ]
  },
  {
   "cell_type": "markdown",
   "metadata": {},
   "source": [
    "### 2 - Is eating the problem??"
   ]
  },
  {
   "cell_type": "code",
   "execution_count": null,
   "metadata": {},
   "outputs": [],
   "source": [
    "df_reduced = hp.excludeActivities(df, ['eat'])\n",
    "df_reduced.groupby('activity').count()['user']"
   ]
  },
  {
   "cell_type": "code",
   "execution_count": null,
   "metadata": {},
   "outputs": [],
   "source": [
    "reduced = hp.runFlow(df_reduced)"
   ]
  },
  {
   "cell_type": "code",
   "execution_count": null,
   "metadata": {},
   "outputs": [],
   "source": [
    "reduced = hp.runFlowByUser(df_reduced)"
   ]
  },
  {
   "cell_type": "markdown",
   "metadata": {},
   "source": [
    "# Defining hierarchy"
   ]
  },
  {
   "cell_type": "markdown",
   "metadata": {},
   "source": [
    "### 1 - Splitting database into movement categories (movement, household chores and exercise) and all others"
   ]
  },
  {
   "cell_type": "code",
   "execution_count": 7,
   "metadata": {},
   "outputs": [
    {
     "data": {
      "text/plain": [
       "move\n",
       "move     133\n",
       "still    378\n",
       "Name: user, dtype: int64"
      ]
     },
     "execution_count": 7,
     "metadata": {},
     "output_type": "execute_result"
    }
   ],
   "source": [
    "df.groupby('move').count()['user']"
   ]
  },
  {
   "cell_type": "code",
   "execution_count": 9,
   "metadata": {},
   "outputs": [
    {
     "name": "stderr",
     "output_type": "stream",
     "text": [
      "C:\\Users\\Ju\\Anaconda3\\lib\\site-packages\\sklearn\\utils\\validation.py:475: DataConversionWarning: Data with input dtype int64 was converted to float64 by the scale function.\n",
      "  warnings.warn(msg, DataConversionWarning)\n",
      "C:\\Users\\Ju\\Anaconda3\\lib\\site-packages\\pandas\\core\\indexing.py:517: SettingWithCopyWarning: \n",
      "A value is trying to be set on a copy of a slice from a DataFrame.\n",
      "Try using .loc[row_indexer,col_indexer] = value instead\n",
      "\n",
      "See the caveats in the documentation: http://pandas.pydata.org/pandas-docs/stable/indexing.html#indexing-view-versus-copy\n",
      "  self.obj[item] = s\n"
     ]
    },
    {
     "name": "stdout",
     "output_type": "stream",
     "text": [
      "408 train examples and 103 test examples\n",
      "Best params for linear kernel: {'C': 1.0} with score 0.85366\n",
      "--- test results for linear kernel:\n",
      "             precision    recall  f1-score   support\n",
      "\n",
      "       move       0.95      0.67      0.78        30\n",
      "      still       0.88      0.99      0.93        73\n",
      "\n",
      "avg / total       0.90      0.89      0.89       103\n",
      "\n",
      "Best params for RBF kernel: {'C': 1.0, 'gamma': 0.01} with score 0.90244\n",
      "--- test results for RBF kernel:\n",
      "             precision    recall  f1-score   support\n",
      "\n",
      "       move       0.95      0.63      0.76        30\n",
      "      still       0.87      0.99      0.92        73\n",
      "\n",
      "avg / total       0.89      0.88      0.88       103\n",
      "\n"
     ]
    }
   ],
   "source": [
    "mvres = hp.runFlow(df, labelName='move')"
   ]
  },
  {
   "cell_type": "code",
   "execution_count": null,
   "metadata": {},
   "outputs": [],
   "source": [
    "pr.plot_classification_report(mvres[0])"
   ]
  },
  {
   "cell_type": "code",
   "execution_count": null,
   "metadata": {},
   "outputs": [],
   "source": [
    "mvresu = hp.runFlowByUser(df_move, labelName='move')"
   ]
  },
  {
   "cell_type": "code",
   "execution_count": null,
   "metadata": {},
   "outputs": [],
   "source": [
    "scores = []\n",
    "for i in mvresu:\n",
    "    scores.append(pr.fscore_from_report(i)) \n",
    "print(scores)"
   ]
  },
  {
   "cell_type": "markdown",
   "metadata": {},
   "source": [
    "### 1 - Split data by movement intensity:\n",
    " * group 1 = movement, household chores, exercise\n",
    " "
   ]
  },
  {
   "cell_type": "code",
   "execution_count": null,
   "metadata": {},
   "outputs": [],
   "source": [
    "df_stillcls = hp.excludeActivities(df, movelist)\n",
    "hp.countExamplesByActivity(df_stillcls)"
   ]
  },
  {
   "cell_type": "code",
   "execution_count": null,
   "metadata": {},
   "outputs": [],
   "source": [
    "hp.runFlow(df_stillcls)"
   ]
  },
  {
   "cell_type": "code",
   "execution_count": null,
   "metadata": {},
   "outputs": [],
   "source": [
    "hp.runFlowByUser(df_stillcls)"
   ]
  },
  {
   "cell_type": "code",
   "execution_count": null,
   "metadata": {},
   "outputs": [],
   "source": [
    "df_movecls = hp.filterActivities(df, includelist)\n",
    "hp.countExamplesByActivity(df_movecls)"
   ]
  },
  {
   "cell_type": "code",
   "execution_count": null,
   "metadata": {},
   "outputs": [],
   "source": [
    "hp.runFlow(df_movecls)"
   ]
  },
  {
   "cell_type": "code",
   "execution_count": null,
   "metadata": {},
   "outputs": [],
   "source": [
    "ju_move = hp.userRows(df_movecls, 0)\n",
    "print(hp.countExamplesByActivity(ju_move))\n",
    "hp.runFlow(ju_move)"
   ]
  },
  {
   "cell_type": "code",
   "execution_count": null,
   "metadata": {},
   "outputs": [],
   "source": [
    "edu_move = hp.userRows(df_movecls, 2)\n",
    "print(hp.countExamplesByActivity(edu_move))\n",
    "hp.runFlow(edu_move)"
   ]
  },
  {
   "cell_type": "code",
   "execution_count": null,
   "metadata": {},
   "outputs": [],
   "source": [
    "for activ in df_stillcls.activity.unique():\n",
    "    print ('----------------------------------------------------------------')\n",
    "    dfa = df_stillcls\n",
    "    df_onevsall = hp.addPartition(df=dfa, includelist=[activ], pname=activ, labelIn=activ, labelOut='others')\n",
    "    print(df_onevsall.groupby(activ).count()['user'])\n",
    "    hp.runFlow(df_onevsall, labelName=activ)"
   ]
  },
  {
   "cell_type": "markdown",
   "metadata": {},
   "source": [
    "### Split still activities by sleep vc others"
   ]
  },
  {
   "cell_type": "code",
   "execution_count": null,
   "metadata": {},
   "outputs": [],
   "source": [
    "hp.countExamplesByActivity(df_stillcls)\n",
    "df_partsleep = hp.addPartition(df=df_stillcls, includelist=['sleep'], pname='sleep', labelIn='sleep', labelOut='wake')\n",
    "print(df_partsleep.groupby('sleep').count()['user'])"
   ]
  },
  {
   "cell_type": "code",
   "execution_count": null,
   "metadata": {},
   "outputs": [],
   "source": [
    " hp.runFlow(df_partsleep, labelName='sleep')"
   ]
  },
  {
   "cell_type": "code",
   "execution_count": null,
   "metadata": {},
   "outputs": [],
   "source": [
    "ju_sleep = hp.userRows(df_partsleep, 0) \n",
    "hp.runFlow(ju_sleep, labelName='sleep')"
   ]
  },
  {
   "cell_type": "code",
   "execution_count": null,
   "metadata": {},
   "outputs": [],
   "source": [
    "edu_sleep = hp.userRows(df_partsleep, 2) \n",
    "hp.runFlow(edu_sleep, labelName='sleep')"
   ]
  },
  {
   "cell_type": "code",
   "execution_count": null,
   "metadata": {},
   "outputs": [],
   "source": [
    "df_wake = hp.excludeActivities(df_stillcls,['sleep'] )\n",
    "hp.countExamplesByActivity(df_wake)"
   ]
  },
  {
   "cell_type": "code",
   "execution_count": null,
   "metadata": {},
   "outputs": [],
   "source": [
    "hp.runFlow(df_wake)"
   ]
  },
  {
   "cell_type": "code",
   "execution_count": null,
   "metadata": {},
   "outputs": [],
   "source": [
    "hp.runFlowByUser(df_wake)"
   ]
  },
  {
   "cell_type": "markdown",
   "metadata": {},
   "source": [
    "### Split by passive vs active sitting activities"
   ]
  },
  {
   "cell_type": "code",
   "execution_count": null,
   "metadata": {},
   "outputs": [],
   "source": [
    "df_actlvl = hp.addPartition(df_wake, includelist=['focused-passive', 'leisure-passive'], pname='actlvl', labelIn='passive', labelOut='active')\n",
    "print(df_passive.groupby('actlvl').count()['user'])"
   ]
  },
  {
   "cell_type": "code",
   "execution_count": null,
   "metadata": {},
   "outputs": [],
   "source": [
    "hp.runFlow(df_actlvl, labelName='actlvl')"
   ]
  },
  {
   "cell_type": "code",
   "execution_count": null,
   "metadata": {},
   "outputs": [],
   "source": [
    "hp.runFlowByUser(df_actlvl, labelName='actlvl')"
   ]
  },
  {
   "cell_type": "code",
   "execution_count": null,
   "metadata": {},
   "outputs": [],
   "source": [
    "df_passive = hp.filterActivities(df_actlvl, ['leisure-passive', 'focused-passive'])\n",
    "hp.countExamplesByActivity(df_passive)"
   ]
  },
  {
   "cell_type": "code",
   "execution_count": null,
   "metadata": {},
   "outputs": [],
   "source": [
    "hp.runFlow(df_passive)"
   ]
  },
  {
   "cell_type": "code",
   "execution_count": null,
   "metadata": {},
   "outputs": [],
   "source": [
    "hp.runFlow(hp.userRows(df_passive, 0))"
   ]
  },
  {
   "cell_type": "code",
   "execution_count": null,
   "metadata": {},
   "outputs": [],
   "source": [
    "hp.runFlow(hp.userRows(df_passive, 2))"
   ]
  },
  {
   "cell_type": "code",
   "execution_count": null,
   "metadata": {},
   "outputs": [],
   "source": [
    "df_active = hp.excludeActivities(df_actlvl, ['leisure-passive', 'focused-passive'])\n",
    "hp.countExamplesByActivity(df_active)"
   ]
  },
  {
   "cell_type": "code",
   "execution_count": null,
   "metadata": {},
   "outputs": [],
   "source": [
    "hp.runFlow(df_active)"
   ]
  },
  {
   "cell_type": "code",
   "execution_count": null,
   "metadata": {},
   "outputs": [],
   "source": [
    "hp.runFlowByUser(df_active)"
   ]
  },
  {
   "cell_type": "code",
   "execution_count": null,
   "metadata": {
    "collapsed": true
   },
   "outputs": [],
   "source": []
  }
 ],
 "metadata": {
  "kernelspec": {
   "display_name": "Python 3",
   "language": "python",
   "name": "python3"
  },
  "language_info": {
   "codemirror_mode": {
    "name": "ipython",
    "version": 3
   },
   "file_extension": ".py",
   "mimetype": "text/x-python",
   "name": "python",
   "nbconvert_exporter": "python",
   "pygments_lexer": "ipython3",
   "version": "3.6.3"
  }
 },
 "nbformat": 4,
 "nbformat_minor": 2
}
