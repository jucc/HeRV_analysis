{
 "cells": [
  {
   "cell_type": "code",
   "execution_count": 1,
   "metadata": {},
   "outputs": [
    {
     "data": {
      "text/html": [
       "<script>requirejs.config({paths: { 'plotly': ['https://cdn.plot.ly/plotly-latest.min']},});if(!window.Plotly) {{require(['plotly'],function(plotly) {window.Plotly=plotly;});}}</script>"
      ],
      "text/vnd.plotly.v1+html": [
       "<script>requirejs.config({paths: { 'plotly': ['https://cdn.plot.ly/plotly-latest.min']},});if(!window.Plotly) {{require(['plotly'],function(plotly) {window.Plotly=plotly;});}}</script>"
      ]
     },
     "metadata": {},
     "output_type": "display_data"
    }
   ],
   "source": [
    "%load_ext autoreload\n",
    "%autoreload 2\n",
    "%matplotlib inline  \n",
    "\n",
    "import pandas as pd\n",
    "import numpy as np\n",
    "\n",
    "from datetime import datetime, timedelta\n",
    "\n",
    "import plotly.offline as pl\n",
    "pl.init_notebook_mode(connected=True)\n",
    "import plotly.graph_objs as go\n",
    "\n",
    "from sklearn.ensemble import RandomForestClassifier\n",
    "\n",
    "\n",
    "import parseIntervalFiles as pif\n",
    "import consolidateFiles as cf\n",
    "import datacleaning as cl\n",
    "import dataviz as dv\n",
    "import fragmentation as fr\n",
    "import classif_multiclass as cmc\n",
    "import hervpd as hp"
   ]
  },
  {
   "cell_type": "markdown",
   "metadata": {},
   "source": [
    "## Pipeline configuration \n",
    "* set the input/output directories, users and date range"
   ]
  },
  {
   "cell_type": "code",
   "execution_count": 2,
   "metadata": {},
   "outputs": [],
   "source": [
    "verbose = True\n",
    "    \n",
    "DATA_PATH = \"C:\\\\Users\\\\ju\\\\GDrive\\\\Projects\\\\HeRV\\\\Data\\\\\" \n",
    "# DATA_PATH = \"/home/ju/GDrive/Projects/HeRV/Data/\"\n",
    "    \n",
    "RAW_PATH = DATA_PATH + \"Raw\"\n",
    "PRE_PATH = DATA_PATH + \"PreProcessed\"\n",
    "\n",
    "dt1 = datetime(2018, 6, 18)\n",
    "dt2 = datetime(2018, 6, 27)\n",
    "\n",
    "users = [0, 1, 3, 8, 9, 10]"
   ]
  },
  {
   "cell_type": "markdown",
   "metadata": {},
   "source": [
    "## Extracting sessions"
   ]
  },
  {
   "cell_type": "code",
   "execution_count": 3,
   "metadata": {
    "scrolled": true
   },
   "outputs": [
    {
     "name": "stdout",
     "output_type": "stream",
     "text": [
      "parsing C:\\Users\\ju\\GDrive\\Projects\\HeRV\\Data\\Raw\\0\\act180618.csv\n",
      "0 sessions excluded\n",
      "parsing C:\\Users\\ju\\GDrive\\Projects\\HeRV\\Data\\Raw\\0\\act180619.csv\n",
      "0 sessions excluded\n",
      "parsing C:\\Users\\ju\\GDrive\\Projects\\HeRV\\Data\\Raw\\0\\act180620.csv\n",
      "0 sessions excluded\n",
      "parsing C:\\Users\\ju\\GDrive\\Projects\\HeRV\\Data\\Raw\\0\\act180621.csv\n",
      "0 sessions excluded\n",
      "parsing C:\\Users\\ju\\GDrive\\Projects\\HeRV\\Data\\Raw\\0\\act180624.csv\n",
      "0 sessions excluded\n",
      "parsing C:\\Users\\ju\\GDrive\\Projects\\HeRV\\Data\\Raw\\0\\act180625.csv\n",
      "0 sessions excluded\n",
      "parsing C:\\Users\\ju\\GDrive\\Projects\\HeRV\\Data\\Raw\\0\\act180626.csv\n",
      "0 sessions excluded\n",
      "[ 0 ] train-baseline 2018-06-18 11:02:20\n",
      "[ 0 ] train-focus 2018-06-18 11:04:32\n",
      "[ 0 ] train-breathe 2018-06-18 11:10:18\n",
      "[ 0 ] train-focus 2018-06-18 11:14:17\n",
      "[ 0 ] train-breathe 2018-06-18 11:24:58\n",
      "[ 0 ] train-focus 2018-06-18 12:35:13\n",
      "[ 0 ] train-breathe 2018-06-18 12:39:50\n",
      "[ 0 ] train-baseline 2018-06-18 17:22:39\n",
      "[ 0 ] train-focus 2018-06-18 17:25:34\n",
      "[ 0 ] train-breathe 2018-06-18 17:29:15\n",
      "[ 0 ] train-baseline 2018-06-18 17:40:25\n",
      "[ 0 ] train-breathe 2018-06-18 17:45:33\n",
      "[ 0 ] train-focus 2018-06-18 17:56:24\n",
      "[ 0 ] train-baseline 2018-06-18 18:05:55\n",
      "[ 0 ] train-breathe 2018-06-18 18:09:58\n",
      "[ 0 ] train-focus 2018-06-18 18:13:34\n",
      "[ 0 ] train-baseline 2018-06-18 19:13:05\n",
      "[ 0 ] train-breathe 2018-06-18 19:17:21\n",
      "[ 0 ] train-focus 2018-06-18 19:20:20\n",
      "[ 0 ] focused-passive 2018-06-19 13:26:55\n",
      "[ 0 ] train-baseline 2018-06-19 13:52:08\n",
      "[ 0 ] train-breathe 2018-06-19 13:55:00\n",
      "[ 0 ] train-focus 2018-06-19 13:57:58\n",
      "[ 0 ] focused-passive 2018-06-19 14:00:28\n",
      "[ 0 ] focused-passive 2018-06-19 14:10:31\n",
      "[ 0 ] train-baseline 2018-06-20 01:54:18\n",
      "[ 0 ] train-focus 2018-06-20 01:57:44\n",
      "[ 0 ] train-breathe 2018-06-20 02:01:44\n",
      "[ 0 ] train-baseline 2018-06-20 22:39:33\n",
      "[ 0 ] train-breathe 2018-06-20 22:42:10\n",
      "[ 0 ] train-focus 2018-06-20 22:44:58\n",
      "[ 0 ] train-baseline 2018-06-21 00:44:11\n",
      "[ 0 ] train-breathe 2018-06-21 00:46:52\n",
      "[ 0 ] train-focus 2018-06-21 00:49:56\n",
      "[ 0 ] train-baseline 2018-06-21 11:06:45\n",
      "[ 0 ] train-focus 2018-06-21 11:11:44\n",
      "[ 0 ] train-breathe 2018-06-21 11:15:12\n",
      "[ 0 ] movement 2018-06-21 12:18:45\n",
      "[ 0 ] eat 2018-06-21 16:13:39\n",
      "[ 0 ] eat 2018-06-21 16:17:33\n",
      "[ 0 ] leisure-passive 2018-06-21 22:39:00\n",
      "[ 0 ] exercise-high 2018-06-24 15:06:57\n",
      "[ 0 ] train-baseline 2018-06-24 15:59:54\n",
      "[ 0 ] train-focus 2018-06-24 16:03:38\n",
      "[ 0 ] train-breathe 2018-06-24 16:07:27\n",
      "[ 0 ] train-focus 2018-06-24 16:12:33\n",
      "[ 0 ] train-breathe 2018-06-24 16:16:23\n",
      "[ 0 ] movement 2018-06-25 20:32:19\n",
      "[ 0 ] train-baseline 2018-06-26 13:05:07\n",
      "[ 0 ] train-focus 2018-06-26 13:06:30\n",
      "[ 0 ] train-breathe 2018-06-26 13:08:03\n",
      "[ 0 ] train-focus 2018-06-26 13:09:24\n",
      "[ 0 ] train-breathe 2018-06-26 13:10:48\n",
      "[ 0 ] train-focus 2018-06-26 13:12:12\n",
      "[ 0 ] train-breathe 2018-06-26 13:13:40\n",
      "parsing C:\\Users\\ju\\GDrive\\Projects\\HeRV\\Data\\Raw\\1\\act180621.csv\n",
      "0 sessions excluded\n",
      "parsing C:\\Users\\ju\\GDrive\\Projects\\HeRV\\Data\\Raw\\1\\act180623.csv\n",
      "0 sessions excluded\n",
      "parsing C:\\Users\\ju\\GDrive\\Projects\\HeRV\\Data\\Raw\\1\\act180624.csv\n",
      "0 sessions excluded\n",
      "[ 1 ] train-baseline 2018-06-21 17:01:07\n",
      "[ 1 ] train-focus 2018-06-21 17:04:23\n",
      "[ 1 ] train-breathe 2018-06-21 17:08:04\n",
      "[ 1 ] train-focus 2018-06-21 17:10:43\n",
      "[ 1 ] train-breathe 2018-06-21 17:13:39\n",
      "[ 1 ] train-baseline 2018-06-21 22:22:37\n",
      "[ 1 ] train-focus 2018-06-21 22:24:49\n",
      "[ 1 ] train-breathe 2018-06-21 22:28:19\n",
      "[ 1 ] train-focus 2018-06-21 22:32:17\n",
      "[ 1 ] train-breathe 2018-06-21 22:35:42\n",
      "[ 1 ] leisure-passive 2018-06-21 22:41:08\n",
      "[ 1 ] train-baseline 2018-06-23 23:37:06\n",
      "[ 1 ] train-focus 2018-06-23 23:40:35\n",
      "[ 1 ] train-breathe 2018-06-23 23:43:22\n",
      "[ 1 ] train-focus 2018-06-23 23:47:30\n",
      "[ 1 ] train-breathe 2018-06-23 23:50:59\n",
      "[ 1 ] leisure-passive 2018-06-23 23:56:00\n",
      "[ 1 ] leisure-passive 2018-06-24 00:00:00\n",
      "parsing C:\\Users\\ju\\GDrive\\Projects\\HeRV\\Data\\Raw\\3\\act180626.csv\n",
      "0 sessions excluded\n",
      "[ 3 ] train-baseline 2018-06-26 14:19:16\n",
      "[ 3 ] train-focus 2018-06-26 14:20:51\n",
      "[ 3 ] train-breathe 2018-06-26 14:22:59\n",
      "[ 3 ] train-focus 2018-06-26 14:24:33\n",
      "[ 3 ] train-breathe 2018-06-26 14:26:04\n",
      "[ 3 ] train-focus 2018-06-26 14:27:41\n",
      "[ 3 ] train-breathe 2018-06-26 14:29:07\n",
      "[ 3 ] movie-engaging 2018-06-26 14:35:29\n",
      "[ 3 ] movie-disengaging 2018-06-26 14:39:41\n",
      "parsing C:\\Users\\ju\\GDrive\\Projects\\HeRV\\Data\\Raw\\8\\act180626.csv\n",
      "0 sessions excluded\n",
      "[ 8 ] train-baseline 2018-06-26 13:37:57\n",
      "[ 8 ] train-focus 2018-06-26 13:39:25\n",
      "[ 8 ] train-breathe 2018-06-26 13:40:54\n",
      "[ 8 ] train-focus 2018-06-26 13:42:18\n",
      "[ 8 ] train-breathe 2018-06-26 13:43:47\n",
      "[ 8 ] train-focus 2018-06-26 13:45:13\n",
      "[ 8 ] train-breathe 2018-06-26 13:46:41\n",
      "[ 8 ] movie-engaging 2018-06-26 13:51:26\n",
      "[ 8 ] movie-disengaging 2018-06-26 13:56:56\n",
      "parsing C:\\Users\\ju\\GDrive\\Projects\\HeRV\\Data\\Raw\\9\\act180626.csv\n",
      "0 sessions excluded\n",
      "[ 9 ] train-baseline 2018-06-26 15:34:14\n",
      "[ 9 ] train-focus 2018-06-26 15:35:38\n",
      "[ 9 ] train-breathe 2018-06-26 15:37:03\n",
      "[ 9 ] train-focus 2018-06-26 15:38:30\n",
      "[ 9 ] train-breathe 2018-06-26 15:39:52\n",
      "[ 9 ] train-focus 2018-06-26 15:41:16\n",
      "[ 9 ] train-breathe 2018-06-26 15:42:38\n",
      "parsing C:\\Users\\ju\\GDrive\\Projects\\HeRV\\Data\\Raw\\10\\act180626.csv\n",
      "0 sessions excluded\n",
      "[ 10 ] train-baseline 2018-06-26 15:49:04\n",
      "[ 10 ] train-focus 2018-06-26 15:50:34\n",
      "[ 10 ] train-breathe 2018-06-26 15:52:02\n",
      "[ 10 ] train-focus 2018-06-26 15:53:25\n",
      "[ 10 ] train-breathe 2018-06-26 15:54:56\n",
      "[ 10 ] train-focus 2018-06-26 15:56:21\n",
      "[ 10 ] train-breathe 2018-06-26 15:58:00\n",
      "96 sessions completed and 9 discarded for lack of RR data\n",
      "Wall time: 11.5 s\n"
     ]
    }
   ],
   "source": [
    "%time sess = cf.gen_sessions_dataset(users, dt1, dt2, dirname=RAW_PATH, verbose=True)"
   ]
  },
  {
   "cell_type": "code",
   "execution_count": 4,
   "metadata": {},
   "outputs": [],
   "source": [
    "dfs = pd.DataFrame(sess)"
   ]
  },
  {
   "cell_type": "code",
   "execution_count": 5,
   "metadata": {},
   "outputs": [],
   "source": [
    "dfs = dfs[dfs.activity.isin(['train-baseline', 'train-focus', 'train-breathe'])]"
   ]
  },
  {
   "cell_type": "code",
   "execution_count": 6,
   "metadata": {},
   "outputs": [
    {
     "data": {
      "text/plain": [
       "activity\n",
       "train-baseline    18\n",
       "train-breathe     32\n",
       "train-focus       32\n",
       "Name: duration, dtype: int64"
      ]
     },
     "execution_count": 6,
     "metadata": {},
     "output_type": "execute_result"
    }
   ],
   "source": [
    "dfs.groupby('activity').count()['duration']"
   ]
  },
  {
   "cell_type": "code",
   "execution_count": 9,
   "metadata": {
    "scrolled": true
   },
   "outputs": [
    {
     "data": {
      "text/html": [
       "<div>\n",
       "<style>\n",
       "    .dataframe thead tr:only-child th {\n",
       "        text-align: right;\n",
       "    }\n",
       "\n",
       "    .dataframe thead th {\n",
       "        text-align: left;\n",
       "    }\n",
       "\n",
       "    .dataframe tbody tr th {\n",
       "        vertical-align: top;\n",
       "    }\n",
       "</style>\n",
       "<table border=\"1\" class=\"dataframe\">\n",
       "  <thead>\n",
       "    <tr style=\"text-align: right;\">\n",
       "      <th></th>\n",
       "      <th>activity</th>\n",
       "      <th>user</th>\n",
       "      <th>start</th>\n",
       "      <th>duration</th>\n",
       "      <th>beatscount</th>\n",
       "    </tr>\n",
       "  </thead>\n",
       "  <tbody>\n",
       "    <tr>\n",
       "      <th>89</th>\n",
       "      <td>train-baseline</td>\n",
       "      <td>10</td>\n",
       "      <td>2018-06-26 15:49:04</td>\n",
       "      <td>80</td>\n",
       "      <td>89</td>\n",
       "    </tr>\n",
       "    <tr>\n",
       "      <th>90</th>\n",
       "      <td>train-focus</td>\n",
       "      <td>10</td>\n",
       "      <td>2018-06-26 15:50:34</td>\n",
       "      <td>80</td>\n",
       "      <td>90</td>\n",
       "    </tr>\n",
       "    <tr>\n",
       "      <th>91</th>\n",
       "      <td>train-breathe</td>\n",
       "      <td>10</td>\n",
       "      <td>2018-06-26 15:52:02</td>\n",
       "      <td>80</td>\n",
       "      <td>91</td>\n",
       "    </tr>\n",
       "    <tr>\n",
       "      <th>92</th>\n",
       "      <td>train-focus</td>\n",
       "      <td>10</td>\n",
       "      <td>2018-06-26 15:53:25</td>\n",
       "      <td>80</td>\n",
       "      <td>95</td>\n",
       "    </tr>\n",
       "    <tr>\n",
       "      <th>93</th>\n",
       "      <td>train-breathe</td>\n",
       "      <td>10</td>\n",
       "      <td>2018-06-26 15:54:56</td>\n",
       "      <td>80</td>\n",
       "      <td>96</td>\n",
       "    </tr>\n",
       "    <tr>\n",
       "      <th>94</th>\n",
       "      <td>train-focus</td>\n",
       "      <td>10</td>\n",
       "      <td>2018-06-26 15:56:21</td>\n",
       "      <td>80</td>\n",
       "      <td>96</td>\n",
       "    </tr>\n",
       "    <tr>\n",
       "      <th>95</th>\n",
       "      <td>train-breathe</td>\n",
       "      <td>10</td>\n",
       "      <td>2018-06-26 15:58:00</td>\n",
       "      <td>80</td>\n",
       "      <td>96</td>\n",
       "    </tr>\n",
       "  </tbody>\n",
       "</table>\n",
       "</div>"
      ],
      "text/plain": [
       "          activity  user               start  duration  beatscount\n",
       "89  train-baseline    10 2018-06-26 15:49:04        80          89\n",
       "90     train-focus    10 2018-06-26 15:50:34        80          90\n",
       "91   train-breathe    10 2018-06-26 15:52:02        80          91\n",
       "92     train-focus    10 2018-06-26 15:53:25        80          95\n",
       "93   train-breathe    10 2018-06-26 15:54:56        80          96\n",
       "94     train-focus    10 2018-06-26 15:56:21        80          96\n",
       "95   train-breathe    10 2018-06-26 15:58:00        80          96"
      ]
     },
     "execution_count": 9,
     "metadata": {},
     "output_type": "execute_result"
    }
   ],
   "source": [
    "dfs[dfs.user==10][['activity', 'user', 'start', 'duration', 'beatscount']]"
   ]
  },
  {
   "cell_type": "code",
   "execution_count": 10,
   "metadata": {},
   "outputs": [
    {
     "data": {
      "text/html": [
       "<div>\n",
       "<style>\n",
       "    .dataframe thead tr:only-child th {\n",
       "        text-align: right;\n",
       "    }\n",
       "\n",
       "    .dataframe thead th {\n",
       "        text-align: left;\n",
       "    }\n",
       "\n",
       "    .dataframe tbody tr th {\n",
       "        vertical-align: top;\n",
       "    }\n",
       "</style>\n",
       "<table border=\"1\" class=\"dataframe\">\n",
       "  <thead>\n",
       "    <tr style=\"text-align: right;\">\n",
       "      <th></th>\n",
       "      <th>beatscount</th>\n",
       "      <th>duration</th>\n",
       "      <th>hf</th>\n",
       "      <th>hfnu</th>\n",
       "      <th>lf</th>\n",
       "      <th>lf_hf</th>\n",
       "      <th>lfnu</th>\n",
       "      <th>mhr</th>\n",
       "      <th>mrri</th>\n",
       "      <th>nn50</th>\n",
       "      <th>pnn50</th>\n",
       "      <th>removed_artifacts</th>\n",
       "      <th>rmssd</th>\n",
       "      <th>sdnn</th>\n",
       "      <th>sess_id</th>\n",
       "      <th>total_power</th>\n",
       "      <th>user</th>\n",
       "      <th>vlf</th>\n",
       "    </tr>\n",
       "  </thead>\n",
       "  <tbody>\n",
       "    <tr>\n",
       "      <th>count</th>\n",
       "      <td>82.000000</td>\n",
       "      <td>82.000000</td>\n",
       "      <td>82.000000</td>\n",
       "      <td>82.000000</td>\n",
       "      <td>82.000000</td>\n",
       "      <td>82.000000</td>\n",
       "      <td>82.000000</td>\n",
       "      <td>82.000000</td>\n",
       "      <td>82.000000</td>\n",
       "      <td>82.000000</td>\n",
       "      <td>82.000000</td>\n",
       "      <td>82.000000</td>\n",
       "      <td>82.000000</td>\n",
       "      <td>82.000000</td>\n",
       "      <td>82.00000</td>\n",
       "      <td>82.000000</td>\n",
       "      <td>82.000000</td>\n",
       "      <td>82.000000</td>\n",
       "    </tr>\n",
       "    <tr>\n",
       "      <th>mean</th>\n",
       "      <td>156.719512</td>\n",
       "      <td>115.682927</td>\n",
       "      <td>1055.037499</td>\n",
       "      <td>32.546377</td>\n",
       "      <td>2231.326394</td>\n",
       "      <td>4.644085</td>\n",
       "      <td>67.453623</td>\n",
       "      <td>80.736224</td>\n",
       "      <td>765.661458</td>\n",
       "      <td>22.353659</td>\n",
       "      <td>16.436727</td>\n",
       "      <td>0.573171</td>\n",
       "      <td>53.171403</td>\n",
       "      <td>69.605656</td>\n",
       "      <td>46.95122</td>\n",
       "      <td>3893.068672</td>\n",
       "      <td>2.743902</td>\n",
       "      <td>606.704779</td>\n",
       "    </tr>\n",
       "    <tr>\n",
       "      <th>std</th>\n",
       "      <td>44.521676</td>\n",
       "      <td>27.172462</td>\n",
       "      <td>1670.818867</td>\n",
       "      <td>21.837329</td>\n",
       "      <td>2740.077125</td>\n",
       "      <td>4.882769</td>\n",
       "      <td>21.837329</td>\n",
       "      <td>10.884444</td>\n",
       "      <td>109.595533</td>\n",
       "      <td>17.464866</td>\n",
       "      <td>14.629428</td>\n",
       "      <td>1.515602</td>\n",
       "      <td>34.344753</td>\n",
       "      <td>30.530054</td>\n",
       "      <td>28.88842</td>\n",
       "      <td>3757.292247</td>\n",
       "      <td>3.809705</td>\n",
       "      <td>743.671626</td>\n",
       "    </tr>\n",
       "    <tr>\n",
       "      <th>min</th>\n",
       "      <td>79.000000</td>\n",
       "      <td>80.000000</td>\n",
       "      <td>11.699168</td>\n",
       "      <td>4.565933</td>\n",
       "      <td>103.445366</td>\n",
       "      <td>0.217607</td>\n",
       "      <td>17.871682</td>\n",
       "      <td>58.616372</td>\n",
       "      <td>587.802469</td>\n",
       "      <td>0.000000</td>\n",
       "      <td>0.000000</td>\n",
       "      <td>0.000000</td>\n",
       "      <td>6.774447</td>\n",
       "      <td>18.383460</td>\n",
       "      <td>0.00000</td>\n",
       "      <td>229.731041</td>\n",
       "      <td>0.000000</td>\n",
       "      <td>13.689722</td>\n",
       "    </tr>\n",
       "    <tr>\n",
       "      <th>25%</th>\n",
       "      <td>121.000000</td>\n",
       "      <td>80.000000</td>\n",
       "      <td>201.460117</td>\n",
       "      <td>12.334949</td>\n",
       "      <td>523.311119</td>\n",
       "      <td>1.099540</td>\n",
       "      <td>52.367346</td>\n",
       "      <td>73.286149</td>\n",
       "      <td>686.891331</td>\n",
       "      <td>8.000000</td>\n",
       "      <td>5.163043</td>\n",
       "      <td>0.000000</td>\n",
       "      <td>27.326873</td>\n",
       "      <td>45.643747</td>\n",
       "      <td>21.25000</td>\n",
       "      <td>1203.431146</td>\n",
       "      <td>0.000000</td>\n",
       "      <td>212.423329</td>\n",
       "    </tr>\n",
       "    <tr>\n",
       "      <th>50%</th>\n",
       "      <td>165.000000</td>\n",
       "      <td>128.500000</td>\n",
       "      <td>436.668598</td>\n",
       "      <td>30.966444</td>\n",
       "      <td>1248.789980</td>\n",
       "      <td>2.230101</td>\n",
       "      <td>69.033556</td>\n",
       "      <td>81.319711</td>\n",
       "      <td>747.664889</td>\n",
       "      <td>20.500000</td>\n",
       "      <td>12.266754</td>\n",
       "      <td>0.000000</td>\n",
       "      <td>51.801206</td>\n",
       "      <td>62.217281</td>\n",
       "      <td>47.50000</td>\n",
       "      <td>2254.308665</td>\n",
       "      <td>1.000000</td>\n",
       "      <td>416.511299</td>\n",
       "    </tr>\n",
       "    <tr>\n",
       "      <th>75%</th>\n",
       "      <td>188.750000</td>\n",
       "      <td>134.750000</td>\n",
       "      <td>998.486345</td>\n",
       "      <td>47.632654</td>\n",
       "      <td>2686.648190</td>\n",
       "      <td>7.107052</td>\n",
       "      <td>87.665051</td>\n",
       "      <td>88.781364</td>\n",
       "      <td>833.719937</td>\n",
       "      <td>31.000000</td>\n",
       "      <td>24.017217</td>\n",
       "      <td>0.000000</td>\n",
       "      <td>64.796946</td>\n",
       "      <td>89.708790</td>\n",
       "      <td>72.25000</td>\n",
       "      <td>5345.637600</td>\n",
       "      <td>6.750000</td>\n",
       "      <td>613.541847</td>\n",
       "    </tr>\n",
       "    <tr>\n",
       "      <th>max</th>\n",
       "      <td>277.000000</td>\n",
       "      <td>171.000000</td>\n",
       "      <td>9310.089652</td>\n",
       "      <td>82.128318</td>\n",
       "      <td>14893.856347</td>\n",
       "      <td>20.901331</td>\n",
       "      <td>95.434067</td>\n",
       "      <td>102.240602</td>\n",
       "      <td>1030.265823</td>\n",
       "      <td>68.000000</td>\n",
       "      <td>65.909091</td>\n",
       "      <td>10.000000</td>\n",
       "      <td>162.705689</td>\n",
       "      <td>161.716777</td>\n",
       "      <td>95.00000</td>\n",
       "      <td>16808.251518</td>\n",
       "      <td>10.000000</td>\n",
       "      <td>3940.988059</td>\n",
       "    </tr>\n",
       "  </tbody>\n",
       "</table>\n",
       "</div>"
      ],
      "text/plain": [
       "       beatscount    duration           hf       hfnu            lf  \\\n",
       "count   82.000000   82.000000    82.000000  82.000000     82.000000   \n",
       "mean   156.719512  115.682927  1055.037499  32.546377   2231.326394   \n",
       "std     44.521676   27.172462  1670.818867  21.837329   2740.077125   \n",
       "min     79.000000   80.000000    11.699168   4.565933    103.445366   \n",
       "25%    121.000000   80.000000   201.460117  12.334949    523.311119   \n",
       "50%    165.000000  128.500000   436.668598  30.966444   1248.789980   \n",
       "75%    188.750000  134.750000   998.486345  47.632654   2686.648190   \n",
       "max    277.000000  171.000000  9310.089652  82.128318  14893.856347   \n",
       "\n",
       "           lf_hf       lfnu         mhr         mrri       nn50      pnn50  \\\n",
       "count  82.000000  82.000000   82.000000    82.000000  82.000000  82.000000   \n",
       "mean    4.644085  67.453623   80.736224   765.661458  22.353659  16.436727   \n",
       "std     4.882769  21.837329   10.884444   109.595533  17.464866  14.629428   \n",
       "min     0.217607  17.871682   58.616372   587.802469   0.000000   0.000000   \n",
       "25%     1.099540  52.367346   73.286149   686.891331   8.000000   5.163043   \n",
       "50%     2.230101  69.033556   81.319711   747.664889  20.500000  12.266754   \n",
       "75%     7.107052  87.665051   88.781364   833.719937  31.000000  24.017217   \n",
       "max    20.901331  95.434067  102.240602  1030.265823  68.000000  65.909091   \n",
       "\n",
       "       removed_artifacts       rmssd        sdnn   sess_id   total_power  \\\n",
       "count          82.000000   82.000000   82.000000  82.00000     82.000000   \n",
       "mean            0.573171   53.171403   69.605656  46.95122   3893.068672   \n",
       "std             1.515602   34.344753   30.530054  28.88842   3757.292247   \n",
       "min             0.000000    6.774447   18.383460   0.00000    229.731041   \n",
       "25%             0.000000   27.326873   45.643747  21.25000   1203.431146   \n",
       "50%             0.000000   51.801206   62.217281  47.50000   2254.308665   \n",
       "75%             0.000000   64.796946   89.708790  72.25000   5345.637600   \n",
       "max            10.000000  162.705689  161.716777  95.00000  16808.251518   \n",
       "\n",
       "            user          vlf  \n",
       "count  82.000000    82.000000  \n",
       "mean    2.743902   606.704779  \n",
       "std     3.809705   743.671626  \n",
       "min     0.000000    13.689722  \n",
       "25%     0.000000   212.423329  \n",
       "50%     1.000000   416.511299  \n",
       "75%     6.750000   613.541847  \n",
       "max    10.000000  3940.988059  "
      ]
     },
     "execution_count": 10,
     "metadata": {},
     "output_type": "execute_result"
    }
   ],
   "source": [
    "dfs.describe()"
   ]
  },
  {
   "cell_type": "code",
   "execution_count": 11,
   "metadata": {},
   "outputs": [],
   "source": [
    "dfs.drop(['rr'], axis =  1).to_excel(PRE_PATH + \"\\\\train_sessions.xlsx\")"
   ]
  },
  {
   "cell_type": "markdown",
   "metadata": {},
   "source": [
    "\n",
    "---\n",
    "\n",
    "\n",
    "# VISUALIZATION\n",
    "\n",
    "---\n",
    "\n"
   ]
  },
  {
   "cell_type": "code",
   "execution_count": 13,
   "metadata": {
    "scrolled": false
   },
   "outputs": [
    {
     "data": {
      "application/vnd.plotly.v1+json": {
       "data": [
        {
         "name": "train-baseline",
         "showlegend": false,
         "type": "box",
         "y": [
          65.51265309422908
         ]
        },
        {
         "name": "train-focus",
         "showlegend": false,
         "type": "box",
         "y": [
          66.56682126451946,
          70.81308569603603,
          70.49055250495223
         ]
        },
        {
         "name": "train-breathe",
         "showlegend": false,
         "type": "box",
         "y": [
          68.77399307126848,
          72.12984339348183,
          72.22050702563433
         ]
        }
       ],
       "layout": {
        "xaxis": {
         "title": "activity"
        },
        "yaxis": {
         "title": "mhr"
        }
       }
      },
      "text/html": [
       "<div id=\"551d588c-cc7a-4285-9258-5824527ad903\" style=\"height: 525px; width: 100%;\" class=\"plotly-graph-div\"></div><script type=\"text/javascript\">require([\"plotly\"], function(Plotly) { window.PLOTLYENV=window.PLOTLYENV || {};window.PLOTLYENV.BASE_URL=\"https://plot.ly\";Plotly.newPlot(\"551d588c-cc7a-4285-9258-5824527ad903\", [{\"type\": \"box\", \"y\": [65.51265309422908], \"name\": \"train-baseline\", \"showlegend\": false}, {\"type\": \"box\", \"y\": [66.56682126451946, 70.81308569603603, 70.49055250495223], \"name\": \"train-focus\", \"showlegend\": false}, {\"type\": \"box\", \"y\": [68.77399307126848, 72.12984339348183, 72.22050702563433], \"name\": \"train-breathe\", \"showlegend\": false}], {\"yaxis\": {\"title\": \"mhr\"}, \"xaxis\": {\"title\": \"activity\"}}, {\"showLink\": true, \"linkText\": \"Export to plot.ly\"})});</script>"
      ],
      "text/vnd.plotly.v1+html": [
       "<div id=\"551d588c-cc7a-4285-9258-5824527ad903\" style=\"height: 525px; width: 100%;\" class=\"plotly-graph-div\"></div><script type=\"text/javascript\">require([\"plotly\"], function(Plotly) { window.PLOTLYENV=window.PLOTLYENV || {};window.PLOTLYENV.BASE_URL=\"https://plot.ly\";Plotly.newPlot(\"551d588c-cc7a-4285-9258-5824527ad903\", [{\"type\": \"box\", \"y\": [65.51265309422908], \"name\": \"train-baseline\", \"showlegend\": false}, {\"type\": \"box\", \"y\": [66.56682126451946, 70.81308569603603, 70.49055250495223], \"name\": \"train-focus\", \"showlegend\": false}, {\"type\": \"box\", \"y\": [68.77399307126848, 72.12984339348183, 72.22050702563433], \"name\": \"train-breathe\", \"showlegend\": false}], {\"yaxis\": {\"title\": \"mhr\"}, \"xaxis\": {\"title\": \"activity\"}}, {\"showLink\": true, \"linkText\": \"Export to plot.ly\"})});</script>"
      ]
     },
     "metadata": {},
     "output_type": "display_data"
    },
    {
     "data": {
      "application/vnd.plotly.v1+json": {
       "data": [
        {
         "name": "train-baseline",
         "showlegend": false,
         "type": "box",
         "y": [
          921.3932584269663
         ]
        },
        {
         "name": "train-focus",
         "showlegend": false,
         "type": "box",
         "y": [
          903.2111111111111,
          849.2210526315789,
          855.125
         ]
        },
        {
         "name": "train-breathe",
         "showlegend": false,
         "type": "box",
         "y": [
          880.8021978021978,
          842.625,
          842.5520833333334
         ]
        }
       ],
       "layout": {
        "xaxis": {
         "title": "activity"
        },
        "yaxis": {
         "title": "mrri"
        }
       }
      },
      "text/html": [
       "<div id=\"267fa3d6-d1de-496c-bbe0-a0d9dcec981c\" style=\"height: 525px; width: 100%;\" class=\"plotly-graph-div\"></div><script type=\"text/javascript\">require([\"plotly\"], function(Plotly) { window.PLOTLYENV=window.PLOTLYENV || {};window.PLOTLYENV.BASE_URL=\"https://plot.ly\";Plotly.newPlot(\"267fa3d6-d1de-496c-bbe0-a0d9dcec981c\", [{\"type\": \"box\", \"y\": [921.3932584269663], \"name\": \"train-baseline\", \"showlegend\": false}, {\"type\": \"box\", \"y\": [903.2111111111111, 849.2210526315789, 855.125], \"name\": \"train-focus\", \"showlegend\": false}, {\"type\": \"box\", \"y\": [880.8021978021978, 842.625, 842.5520833333334], \"name\": \"train-breathe\", \"showlegend\": false}], {\"yaxis\": {\"title\": \"mrri\"}, \"xaxis\": {\"title\": \"activity\"}}, {\"showLink\": true, \"linkText\": \"Export to plot.ly\"})});</script>"
      ],
      "text/vnd.plotly.v1+html": [
       "<div id=\"267fa3d6-d1de-496c-bbe0-a0d9dcec981c\" style=\"height: 525px; width: 100%;\" class=\"plotly-graph-div\"></div><script type=\"text/javascript\">require([\"plotly\"], function(Plotly) { window.PLOTLYENV=window.PLOTLYENV || {};window.PLOTLYENV.BASE_URL=\"https://plot.ly\";Plotly.newPlot(\"267fa3d6-d1de-496c-bbe0-a0d9dcec981c\", [{\"type\": \"box\", \"y\": [921.3932584269663], \"name\": \"train-baseline\", \"showlegend\": false}, {\"type\": \"box\", \"y\": [903.2111111111111, 849.2210526315789, 855.125], \"name\": \"train-focus\", \"showlegend\": false}, {\"type\": \"box\", \"y\": [880.8021978021978, 842.625, 842.5520833333334], \"name\": \"train-breathe\", \"showlegend\": false}], {\"yaxis\": {\"title\": \"mrri\"}, \"xaxis\": {\"title\": \"activity\"}}, {\"showLink\": true, \"linkText\": \"Export to plot.ly\"})});</script>"
      ]
     },
     "metadata": {},
     "output_type": "display_data"
    },
    {
     "data": {
      "application/vnd.plotly.v1+json": {
       "data": [
        {
         "name": "train-baseline",
         "showlegend": false,
         "type": "box",
         "y": [
          69.6934224719443
         ]
        },
        {
         "name": "train-focus",
         "showlegend": false,
         "type": "box",
         "y": [
          41.23200852300853,
          39.82332764112128,
          59.21437414397925
         ]
        },
        {
         "name": "train-breathe",
         "showlegend": false,
         "type": "box",
         "y": [
          84.17352708412936,
          96.14421733165126,
          99.00556813598831
         ]
        }
       ],
       "layout": {
        "xaxis": {
         "title": "activity"
        },
        "yaxis": {
         "title": "sdnn"
        }
       }
      },
      "text/html": [
       "<div id=\"df060ccf-ed97-4a80-b010-96375fee6c9d\" style=\"height: 525px; width: 100%;\" class=\"plotly-graph-div\"></div><script type=\"text/javascript\">require([\"plotly\"], function(Plotly) { window.PLOTLYENV=window.PLOTLYENV || {};window.PLOTLYENV.BASE_URL=\"https://plot.ly\";Plotly.newPlot(\"df060ccf-ed97-4a80-b010-96375fee6c9d\", [{\"type\": \"box\", \"y\": [69.6934224719443], \"name\": \"train-baseline\", \"showlegend\": false}, {\"type\": \"box\", \"y\": [41.23200852300853, 39.82332764112128, 59.21437414397925], \"name\": \"train-focus\", \"showlegend\": false}, {\"type\": \"box\", \"y\": [84.17352708412936, 96.14421733165126, 99.00556813598831], \"name\": \"train-breathe\", \"showlegend\": false}], {\"yaxis\": {\"title\": \"sdnn\"}, \"xaxis\": {\"title\": \"activity\"}}, {\"showLink\": true, \"linkText\": \"Export to plot.ly\"})});</script>"
      ],
      "text/vnd.plotly.v1+html": [
       "<div id=\"df060ccf-ed97-4a80-b010-96375fee6c9d\" style=\"height: 525px; width: 100%;\" class=\"plotly-graph-div\"></div><script type=\"text/javascript\">require([\"plotly\"], function(Plotly) { window.PLOTLYENV=window.PLOTLYENV || {};window.PLOTLYENV.BASE_URL=\"https://plot.ly\";Plotly.newPlot(\"df060ccf-ed97-4a80-b010-96375fee6c9d\", [{\"type\": \"box\", \"y\": [69.6934224719443], \"name\": \"train-baseline\", \"showlegend\": false}, {\"type\": \"box\", \"y\": [41.23200852300853, 39.82332764112128, 59.21437414397925], \"name\": \"train-focus\", \"showlegend\": false}, {\"type\": \"box\", \"y\": [84.17352708412936, 96.14421733165126, 99.00556813598831], \"name\": \"train-breathe\", \"showlegend\": false}], {\"yaxis\": {\"title\": \"sdnn\"}, \"xaxis\": {\"title\": \"activity\"}}, {\"showLink\": true, \"linkText\": \"Export to plot.ly\"})});</script>"
      ]
     },
     "metadata": {},
     "output_type": "display_data"
    },
    {
     "data": {
      "application/vnd.plotly.v1+json": {
       "data": [
        {
         "name": "train-baseline",
         "showlegend": false,
         "type": "box",
         "y": [
          35.22727272727273
         ]
        },
        {
         "name": "train-focus",
         "showlegend": false,
         "type": "box",
         "y": [
          20.224719101123593,
          6.382978723404255,
          11.578947368421053
         ]
        },
        {
         "name": "train-breathe",
         "showlegend": false,
         "type": "box",
         "y": [
          45.55555555555556,
          47.368421052631575,
          48.421052631578945
         ]
        }
       ],
       "layout": {
        "xaxis": {
         "title": "activity"
        },
        "yaxis": {
         "title": "pnn50"
        }
       }
      },
      "text/html": [
       "<div id=\"a295d7c0-5b41-4715-bd94-2b6f54667414\" style=\"height: 525px; width: 100%;\" class=\"plotly-graph-div\"></div><script type=\"text/javascript\">require([\"plotly\"], function(Plotly) { window.PLOTLYENV=window.PLOTLYENV || {};window.PLOTLYENV.BASE_URL=\"https://plot.ly\";Plotly.newPlot(\"a295d7c0-5b41-4715-bd94-2b6f54667414\", [{\"type\": \"box\", \"y\": [35.22727272727273], \"name\": \"train-baseline\", \"showlegend\": false}, {\"type\": \"box\", \"y\": [20.224719101123593, 6.382978723404255, 11.578947368421053], \"name\": \"train-focus\", \"showlegend\": false}, {\"type\": \"box\", \"y\": [45.55555555555556, 47.368421052631575, 48.421052631578945], \"name\": \"train-breathe\", \"showlegend\": false}], {\"yaxis\": {\"title\": \"pnn50\"}, \"xaxis\": {\"title\": \"activity\"}}, {\"showLink\": true, \"linkText\": \"Export to plot.ly\"})});</script>"
      ],
      "text/vnd.plotly.v1+html": [
       "<div id=\"a295d7c0-5b41-4715-bd94-2b6f54667414\" style=\"height: 525px; width: 100%;\" class=\"plotly-graph-div\"></div><script type=\"text/javascript\">require([\"plotly\"], function(Plotly) { window.PLOTLYENV=window.PLOTLYENV || {};window.PLOTLYENV.BASE_URL=\"https://plot.ly\";Plotly.newPlot(\"a295d7c0-5b41-4715-bd94-2b6f54667414\", [{\"type\": \"box\", \"y\": [35.22727272727273], \"name\": \"train-baseline\", \"showlegend\": false}, {\"type\": \"box\", \"y\": [20.224719101123593, 6.382978723404255, 11.578947368421053], \"name\": \"train-focus\", \"showlegend\": false}, {\"type\": \"box\", \"y\": [45.55555555555556, 47.368421052631575, 48.421052631578945], \"name\": \"train-breathe\", \"showlegend\": false}], {\"yaxis\": {\"title\": \"pnn50\"}, \"xaxis\": {\"title\": \"activity\"}}, {\"showLink\": true, \"linkText\": \"Export to plot.ly\"})});</script>"
      ]
     },
     "metadata": {},
     "output_type": "display_data"
    },
    {
     "data": {
      "application/vnd.plotly.v1+json": {
       "data": [
        {
         "name": "train-baseline",
         "showlegend": false,
         "type": "box",
         "y": [
          62.10218851362501
         ]
        },
        {
         "name": "train-focus",
         "showlegend": false,
         "type": "box",
         "y": [
          39.78721493030283,
          28.2505883953034,
          35.90660399601048
         ]
        },
        {
         "name": "train-breathe",
         "showlegend": false,
         "type": "box",
         "y": [
          61.46236427458858,
          69.67140922328107,
          65.26762718143458
         ]
        }
       ],
       "layout": {
        "xaxis": {
         "title": "activity"
        },
        "yaxis": {
         "title": "rmssd"
        }
       }
      },
      "text/html": [
       "<div id=\"4d0d0508-e966-4448-a5f6-f394033660e8\" style=\"height: 525px; width: 100%;\" class=\"plotly-graph-div\"></div><script type=\"text/javascript\">require([\"plotly\"], function(Plotly) { window.PLOTLYENV=window.PLOTLYENV || {};window.PLOTLYENV.BASE_URL=\"https://plot.ly\";Plotly.newPlot(\"4d0d0508-e966-4448-a5f6-f394033660e8\", [{\"type\": \"box\", \"y\": [62.10218851362501], \"name\": \"train-baseline\", \"showlegend\": false}, {\"type\": \"box\", \"y\": [39.78721493030283, 28.2505883953034, 35.90660399601048], \"name\": \"train-focus\", \"showlegend\": false}, {\"type\": \"box\", \"y\": [61.46236427458858, 69.67140922328107, 65.26762718143458], \"name\": \"train-breathe\", \"showlegend\": false}], {\"yaxis\": {\"title\": \"rmssd\"}, \"xaxis\": {\"title\": \"activity\"}}, {\"showLink\": true, \"linkText\": \"Export to plot.ly\"})});</script>"
      ],
      "text/vnd.plotly.v1+html": [
       "<div id=\"4d0d0508-e966-4448-a5f6-f394033660e8\" style=\"height: 525px; width: 100%;\" class=\"plotly-graph-div\"></div><script type=\"text/javascript\">require([\"plotly\"], function(Plotly) { window.PLOTLYENV=window.PLOTLYENV || {};window.PLOTLYENV.BASE_URL=\"https://plot.ly\";Plotly.newPlot(\"4d0d0508-e966-4448-a5f6-f394033660e8\", [{\"type\": \"box\", \"y\": [62.10218851362501], \"name\": \"train-baseline\", \"showlegend\": false}, {\"type\": \"box\", \"y\": [39.78721493030283, 28.2505883953034, 35.90660399601048], \"name\": \"train-focus\", \"showlegend\": false}, {\"type\": \"box\", \"y\": [61.46236427458858, 69.67140922328107, 65.26762718143458], \"name\": \"train-breathe\", \"showlegend\": false}], {\"yaxis\": {\"title\": \"rmssd\"}, \"xaxis\": {\"title\": \"activity\"}}, {\"showLink\": true, \"linkText\": \"Export to plot.ly\"})});</script>"
      ]
     },
     "metadata": {},
     "output_type": "display_data"
    },
    {
     "data": {
      "application/vnd.plotly.v1+json": {
       "data": [
        {
         "name": "train-baseline",
         "showlegend": false,
         "type": "box",
         "y": [
          1590.3338506177693
         ]
        },
        {
         "name": "train-focus",
         "showlegend": false,
         "type": "box",
         "y": [
          585.1542282872099,
          181.4239678741925,
          218.1955374426413
         ]
        },
        {
         "name": "train-breathe",
         "showlegend": false,
         "type": "box",
         "y": [
          1900.2256072809896,
          2123.2983984684492,
          886.1762329069041
         ]
        }
       ],
       "layout": {
        "xaxis": {
         "title": "activity"
        },
        "yaxis": {
         "title": "hf"
        }
       }
      },
      "text/html": [
       "<div id=\"f1d8ecf4-1c75-4324-910c-4d460763cf56\" style=\"height: 525px; width: 100%;\" class=\"plotly-graph-div\"></div><script type=\"text/javascript\">require([\"plotly\"], function(Plotly) { window.PLOTLYENV=window.PLOTLYENV || {};window.PLOTLYENV.BASE_URL=\"https://plot.ly\";Plotly.newPlot(\"f1d8ecf4-1c75-4324-910c-4d460763cf56\", [{\"type\": \"box\", \"y\": [1590.3338506177693], \"name\": \"train-baseline\", \"showlegend\": false}, {\"type\": \"box\", \"y\": [585.1542282872099, 181.4239678741925, 218.1955374426413], \"name\": \"train-focus\", \"showlegend\": false}, {\"type\": \"box\", \"y\": [1900.2256072809896, 2123.2983984684492, 886.1762329069041], \"name\": \"train-breathe\", \"showlegend\": false}], {\"yaxis\": {\"title\": \"hf\"}, \"xaxis\": {\"title\": \"activity\"}}, {\"showLink\": true, \"linkText\": \"Export to plot.ly\"})});</script>"
      ],
      "text/vnd.plotly.v1+html": [
       "<div id=\"f1d8ecf4-1c75-4324-910c-4d460763cf56\" style=\"height: 525px; width: 100%;\" class=\"plotly-graph-div\"></div><script type=\"text/javascript\">require([\"plotly\"], function(Plotly) { window.PLOTLYENV=window.PLOTLYENV || {};window.PLOTLYENV.BASE_URL=\"https://plot.ly\";Plotly.newPlot(\"f1d8ecf4-1c75-4324-910c-4d460763cf56\", [{\"type\": \"box\", \"y\": [1590.3338506177693], \"name\": \"train-baseline\", \"showlegend\": false}, {\"type\": \"box\", \"y\": [585.1542282872099, 181.4239678741925, 218.1955374426413], \"name\": \"train-focus\", \"showlegend\": false}, {\"type\": \"box\", \"y\": [1900.2256072809896, 2123.2983984684492, 886.1762329069041], \"name\": \"train-breathe\", \"showlegend\": false}], {\"yaxis\": {\"title\": \"hf\"}, \"xaxis\": {\"title\": \"activity\"}}, {\"showLink\": true, \"linkText\": \"Export to plot.ly\"})});</script>"
      ]
     },
     "metadata": {},
     "output_type": "display_data"
    },
    {
     "data": {
      "application/vnd.plotly.v1+json": {
       "data": [
        {
         "name": "train-baseline",
         "showlegend": false,
         "type": "box",
         "y": [
          39.918043273861294
         ]
        },
        {
         "name": "train-focus",
         "showlegend": false,
         "type": "box",
         "y": [
          37.13379000957702,
          18.17952327091742,
          13.109055240595637
         ]
        },
        {
         "name": "train-breathe",
         "showlegend": false,
         "type": "box",
         "y": [
          65.17400087264544,
          40.91071099724938,
          12.236554423214857
         ]
        }
       ],
       "layout": {
        "xaxis": {
         "title": "activity"
        },
        "yaxis": {
         "title": "hfnu"
        }
       }
      },
      "text/html": [
       "<div id=\"1bab1a61-de57-4675-81e4-b4eb28f2341b\" style=\"height: 525px; width: 100%;\" class=\"plotly-graph-div\"></div><script type=\"text/javascript\">require([\"plotly\"], function(Plotly) { window.PLOTLYENV=window.PLOTLYENV || {};window.PLOTLYENV.BASE_URL=\"https://plot.ly\";Plotly.newPlot(\"1bab1a61-de57-4675-81e4-b4eb28f2341b\", [{\"type\": \"box\", \"y\": [39.918043273861294], \"name\": \"train-baseline\", \"showlegend\": false}, {\"type\": \"box\", \"y\": [37.13379000957702, 18.17952327091742, 13.109055240595637], \"name\": \"train-focus\", \"showlegend\": false}, {\"type\": \"box\", \"y\": [65.17400087264544, 40.91071099724938, 12.236554423214857], \"name\": \"train-breathe\", \"showlegend\": false}], {\"yaxis\": {\"title\": \"hfnu\"}, \"xaxis\": {\"title\": \"activity\"}}, {\"showLink\": true, \"linkText\": \"Export to plot.ly\"})});</script>"
      ],
      "text/vnd.plotly.v1+html": [
       "<div id=\"1bab1a61-de57-4675-81e4-b4eb28f2341b\" style=\"height: 525px; width: 100%;\" class=\"plotly-graph-div\"></div><script type=\"text/javascript\">require([\"plotly\"], function(Plotly) { window.PLOTLYENV=window.PLOTLYENV || {};window.PLOTLYENV.BASE_URL=\"https://plot.ly\";Plotly.newPlot(\"1bab1a61-de57-4675-81e4-b4eb28f2341b\", [{\"type\": \"box\", \"y\": [39.918043273861294], \"name\": \"train-baseline\", \"showlegend\": false}, {\"type\": \"box\", \"y\": [37.13379000957702, 18.17952327091742, 13.109055240595637], \"name\": \"train-focus\", \"showlegend\": false}, {\"type\": \"box\", \"y\": [65.17400087264544, 40.91071099724938, 12.236554423214857], \"name\": \"train-breathe\", \"showlegend\": false}], {\"yaxis\": {\"title\": \"hfnu\"}, \"xaxis\": {\"title\": \"activity\"}}, {\"showLink\": true, \"linkText\": \"Export to plot.ly\"})});</script>"
      ]
     },
     "metadata": {},
     "output_type": "display_data"
    },
    {
     "data": {
      "application/vnd.plotly.v1+json": {
       "data": [
        {
         "name": "train-baseline",
         "showlegend": false,
         "type": "box",
         "y": [
          2393.663660751068
         ]
        },
        {
         "name": "train-focus",
         "showlegend": false,
         "type": "box",
         "y": [
          990.645678310784,
          816.5338177649081,
          1446.2687083631236
         ]
        },
        {
         "name": "train-breathe",
         "showlegend": false,
         "type": "box",
         "y": [
          1015.3934767678222,
          3066.78103723534,
          6355.864314272576
         ]
        }
       ],
       "layout": {
        "xaxis": {
         "title": "activity"
        },
        "yaxis": {
         "title": "lf"
        }
       }
      },
      "text/html": [
       "<div id=\"76048a54-0eaf-4a65-8265-71cce6647df5\" style=\"height: 525px; width: 100%;\" class=\"plotly-graph-div\"></div><script type=\"text/javascript\">require([\"plotly\"], function(Plotly) { window.PLOTLYENV=window.PLOTLYENV || {};window.PLOTLYENV.BASE_URL=\"https://plot.ly\";Plotly.newPlot(\"76048a54-0eaf-4a65-8265-71cce6647df5\", [{\"type\": \"box\", \"y\": [2393.663660751068], \"name\": \"train-baseline\", \"showlegend\": false}, {\"type\": \"box\", \"y\": [990.645678310784, 816.5338177649081, 1446.2687083631236], \"name\": \"train-focus\", \"showlegend\": false}, {\"type\": \"box\", \"y\": [1015.3934767678222, 3066.78103723534, 6355.864314272576], \"name\": \"train-breathe\", \"showlegend\": false}], {\"yaxis\": {\"title\": \"lf\"}, \"xaxis\": {\"title\": \"activity\"}}, {\"showLink\": true, \"linkText\": \"Export to plot.ly\"})});</script>"
      ],
      "text/vnd.plotly.v1+html": [
       "<div id=\"76048a54-0eaf-4a65-8265-71cce6647df5\" style=\"height: 525px; width: 100%;\" class=\"plotly-graph-div\"></div><script type=\"text/javascript\">require([\"plotly\"], function(Plotly) { window.PLOTLYENV=window.PLOTLYENV || {};window.PLOTLYENV.BASE_URL=\"https://plot.ly\";Plotly.newPlot(\"76048a54-0eaf-4a65-8265-71cce6647df5\", [{\"type\": \"box\", \"y\": [2393.663660751068], \"name\": \"train-baseline\", \"showlegend\": false}, {\"type\": \"box\", \"y\": [990.645678310784, 816.5338177649081, 1446.2687083631236], \"name\": \"train-focus\", \"showlegend\": false}, {\"type\": \"box\", \"y\": [1015.3934767678222, 3066.78103723534, 6355.864314272576], \"name\": \"train-breathe\", \"showlegend\": false}], {\"yaxis\": {\"title\": \"lf\"}, \"xaxis\": {\"title\": \"activity\"}}, {\"showLink\": true, \"linkText\": \"Export to plot.ly\"})});</script>"
      ]
     },
     "metadata": {},
     "output_type": "display_data"
    },
    {
     "data": {
      "application/vnd.plotly.v1+json": {
       "data": [
        {
         "name": "train-baseline",
         "showlegend": false,
         "type": "box",
         "y": [
          60.08195672613872
         ]
        },
        {
         "name": "train-focus",
         "showlegend": false,
         "type": "box",
         "y": [
          62.86620999042298,
          81.82047672908259,
          86.89094475940435
         ]
        },
        {
         "name": "train-breathe",
         "showlegend": false,
         "type": "box",
         "y": [
          34.82599912735456,
          59.0892890027506,
          87.76344557678513
         ]
        }
       ],
       "layout": {
        "xaxis": {
         "title": "activity"
        },
        "yaxis": {
         "title": "lfnu"
        }
       }
      },
      "text/html": [
       "<div id=\"5c74f4c4-5398-462f-a82a-e6ed0adb09fd\" style=\"height: 525px; width: 100%;\" class=\"plotly-graph-div\"></div><script type=\"text/javascript\">require([\"plotly\"], function(Plotly) { window.PLOTLYENV=window.PLOTLYENV || {};window.PLOTLYENV.BASE_URL=\"https://plot.ly\";Plotly.newPlot(\"5c74f4c4-5398-462f-a82a-e6ed0adb09fd\", [{\"type\": \"box\", \"y\": [60.08195672613872], \"name\": \"train-baseline\", \"showlegend\": false}, {\"type\": \"box\", \"y\": [62.86620999042298, 81.82047672908259, 86.89094475940435], \"name\": \"train-focus\", \"showlegend\": false}, {\"type\": \"box\", \"y\": [34.82599912735456, 59.0892890027506, 87.76344557678513], \"name\": \"train-breathe\", \"showlegend\": false}], {\"yaxis\": {\"title\": \"lfnu\"}, \"xaxis\": {\"title\": \"activity\"}}, {\"showLink\": true, \"linkText\": \"Export to plot.ly\"})});</script>"
      ],
      "text/vnd.plotly.v1+html": [
       "<div id=\"5c74f4c4-5398-462f-a82a-e6ed0adb09fd\" style=\"height: 525px; width: 100%;\" class=\"plotly-graph-div\"></div><script type=\"text/javascript\">require([\"plotly\"], function(Plotly) { window.PLOTLYENV=window.PLOTLYENV || {};window.PLOTLYENV.BASE_URL=\"https://plot.ly\";Plotly.newPlot(\"5c74f4c4-5398-462f-a82a-e6ed0adb09fd\", [{\"type\": \"box\", \"y\": [60.08195672613872], \"name\": \"train-baseline\", \"showlegend\": false}, {\"type\": \"box\", \"y\": [62.86620999042298, 81.82047672908259, 86.89094475940435], \"name\": \"train-focus\", \"showlegend\": false}, {\"type\": \"box\", \"y\": [34.82599912735456, 59.0892890027506, 87.76344557678513], \"name\": \"train-breathe\", \"showlegend\": false}], {\"yaxis\": {\"title\": \"lfnu\"}, \"xaxis\": {\"title\": \"activity\"}}, {\"showLink\": true, \"linkText\": \"Export to plot.ly\"})});</script>"
      ]
     },
     "metadata": {},
     "output_type": "display_data"
    },
    {
     "data": {
      "application/vnd.plotly.v1+json": {
       "data": [
        {
         "name": "train-baseline",
         "showlegend": false,
         "type": "box",
         "y": [
          1.5051328120955505
         ]
        },
        {
         "name": "train-focus",
         "showlegend": false,
         "type": "box",
         "y": [
          1.6929650858210115,
          4.500694298181865,
          6.628314791925179
         ]
        },
        {
         "name": "train-breathe",
         "showlegend": false,
         "type": "box",
         "y": [
          0.5343541697771018,
          1.4443476430102484,
          7.172235135920511
         ]
        }
       ],
       "layout": {
        "xaxis": {
         "title": "activity"
        },
        "yaxis": {
         "title": "lf_hf"
        }
       }
      },
      "text/html": [
       "<div id=\"4abcf1ac-e916-41ad-97a4-6b36b3554412\" style=\"height: 525px; width: 100%;\" class=\"plotly-graph-div\"></div><script type=\"text/javascript\">require([\"plotly\"], function(Plotly) { window.PLOTLYENV=window.PLOTLYENV || {};window.PLOTLYENV.BASE_URL=\"https://plot.ly\";Plotly.newPlot(\"4abcf1ac-e916-41ad-97a4-6b36b3554412\", [{\"type\": \"box\", \"y\": [1.5051328120955505], \"name\": \"train-baseline\", \"showlegend\": false}, {\"type\": \"box\", \"y\": [1.6929650858210115, 4.500694298181865, 6.628314791925179], \"name\": \"train-focus\", \"showlegend\": false}, {\"type\": \"box\", \"y\": [0.5343541697771018, 1.4443476430102484, 7.172235135920511], \"name\": \"train-breathe\", \"showlegend\": false}], {\"yaxis\": {\"title\": \"lf_hf\"}, \"xaxis\": {\"title\": \"activity\"}}, {\"showLink\": true, \"linkText\": \"Export to plot.ly\"})});</script>"
      ],
      "text/vnd.plotly.v1+html": [
       "<div id=\"4abcf1ac-e916-41ad-97a4-6b36b3554412\" style=\"height: 525px; width: 100%;\" class=\"plotly-graph-div\"></div><script type=\"text/javascript\">require([\"plotly\"], function(Plotly) { window.PLOTLYENV=window.PLOTLYENV || {};window.PLOTLYENV.BASE_URL=\"https://plot.ly\";Plotly.newPlot(\"4abcf1ac-e916-41ad-97a4-6b36b3554412\", [{\"type\": \"box\", \"y\": [1.5051328120955505], \"name\": \"train-baseline\", \"showlegend\": false}, {\"type\": \"box\", \"y\": [1.6929650858210115, 4.500694298181865, 6.628314791925179], \"name\": \"train-focus\", \"showlegend\": false}, {\"type\": \"box\", \"y\": [0.5343541697771018, 1.4443476430102484, 7.172235135920511], \"name\": \"train-breathe\", \"showlegend\": false}], {\"yaxis\": {\"title\": \"lf_hf\"}, \"xaxis\": {\"title\": \"activity\"}}, {\"showLink\": true, \"linkText\": \"Export to plot.ly\"})});</script>"
      ]
     },
     "metadata": {},
     "output_type": "display_data"
    },
    {
     "data": {
      "application/vnd.plotly.v1+json": {
       "data": [
        {
         "name": "train-baseline",
         "showlegend": false,
         "type": "box",
         "y": [
          284.1160756415785
         ]
        },
        {
         "name": "train-focus",
         "showlegend": false,
         "type": "box",
         "y": [
          13.689721577506823,
          223.33074564864359,
          79.09384439042952
         ]
        },
        {
         "name": "train-breathe",
         "showlegend": false,
         "type": "box",
         "y": [
          208.78752299299646,
          743.8006324261155,
          462.97298312544035
         ]
        }
       ],
       "layout": {
        "xaxis": {
         "title": "activity"
        },
        "yaxis": {
         "title": "vlf"
        }
       }
      },
      "text/html": [
       "<div id=\"da575a83-883c-4d31-8843-93fd50c4cfa8\" style=\"height: 525px; width: 100%;\" class=\"plotly-graph-div\"></div><script type=\"text/javascript\">require([\"plotly\"], function(Plotly) { window.PLOTLYENV=window.PLOTLYENV || {};window.PLOTLYENV.BASE_URL=\"https://plot.ly\";Plotly.newPlot(\"da575a83-883c-4d31-8843-93fd50c4cfa8\", [{\"type\": \"box\", \"y\": [284.1160756415785], \"name\": \"train-baseline\", \"showlegend\": false}, {\"type\": \"box\", \"y\": [13.689721577506823, 223.33074564864359, 79.09384439042952], \"name\": \"train-focus\", \"showlegend\": false}, {\"type\": \"box\", \"y\": [208.78752299299646, 743.8006324261155, 462.97298312544035], \"name\": \"train-breathe\", \"showlegend\": false}], {\"yaxis\": {\"title\": \"vlf\"}, \"xaxis\": {\"title\": \"activity\"}}, {\"showLink\": true, \"linkText\": \"Export to plot.ly\"})});</script>"
      ],
      "text/vnd.plotly.v1+html": [
       "<div id=\"da575a83-883c-4d31-8843-93fd50c4cfa8\" style=\"height: 525px; width: 100%;\" class=\"plotly-graph-div\"></div><script type=\"text/javascript\">require([\"plotly\"], function(Plotly) { window.PLOTLYENV=window.PLOTLYENV || {};window.PLOTLYENV.BASE_URL=\"https://plot.ly\";Plotly.newPlot(\"da575a83-883c-4d31-8843-93fd50c4cfa8\", [{\"type\": \"box\", \"y\": [284.1160756415785], \"name\": \"train-baseline\", \"showlegend\": false}, {\"type\": \"box\", \"y\": [13.689721577506823, 223.33074564864359, 79.09384439042952], \"name\": \"train-focus\", \"showlegend\": false}, {\"type\": \"box\", \"y\": [208.78752299299646, 743.8006324261155, 462.97298312544035], \"name\": \"train-breathe\", \"showlegend\": false}], {\"yaxis\": {\"title\": \"vlf\"}, \"xaxis\": {\"title\": \"activity\"}}, {\"showLink\": true, \"linkText\": \"Export to plot.ly\"})});</script>"
      ]
     },
     "metadata": {},
     "output_type": "display_data"
    }
   ],
   "source": [
    "#d21 = df_export[df_export.start > '2018-06-21']\n",
    "for feat in cl.features_all:\n",
    "    dv.boxplot_compare(dfs[dfs.user==10], feat, groupby='activity', min_examples=1)"
   ]
  },
  {
   "cell_type": "markdown",
   "metadata": {},
   "source": [
    "\n",
    "---\n",
    "\n",
    "\n",
    "# FRAGMENTATION\n",
    "\n",
    "---\n",
    "\n"
   ]
  },
  {
   "cell_type": "code",
   "execution_count": 14,
   "metadata": {},
   "outputs": [],
   "source": [
    "sessions = dfs.to_dict(orient='records')"
   ]
  },
  {
   "cell_type": "markdown",
   "metadata": {},
   "source": [
    "### Example dataset for 60 sec frags"
   ]
  },
  {
   "cell_type": "code",
   "execution_count": 15,
   "metadata": {
    "scrolled": true
   },
   "outputs": [
    {
     "name": "stdout",
     "output_type": "stream",
     "text": [
      "82 valid sessions out of 82 total (at least one full fragment of 60 seconds after discarding first 5 seconds)\n"
     ]
    },
    {
     "name": "stderr",
     "output_type": "stream",
     "text": [
      "C:\\Users\\Ju\\Anaconda3\\lib\\site-packages\\scipy\\signal\\spectral.py:1633: UserWarning:\n",
      "\n",
      "nperseg = 256 is greater than input length  = 238, using nperseg = 238\n",
      "\n",
      "C:\\Users\\Ju\\Anaconda3\\lib\\site-packages\\scipy\\signal\\spectral.py:1633: UserWarning:\n",
      "\n",
      "nperseg = 256 is greater than input length  = 241, using nperseg = 241\n",
      "\n",
      "C:\\Users\\Ju\\Anaconda3\\lib\\site-packages\\scipy\\signal\\spectral.py:1633: UserWarning:\n",
      "\n",
      "nperseg = 256 is greater than input length  = 234, using nperseg = 234\n",
      "\n",
      "C:\\Users\\Ju\\Anaconda3\\lib\\site-packages\\scipy\\signal\\spectral.py:1633: UserWarning:\n",
      "\n",
      "nperseg = 256 is greater than input length  = 243, using nperseg = 243\n",
      "\n",
      "C:\\Users\\Ju\\Anaconda3\\lib\\site-packages\\scipy\\signal\\spectral.py:1633: UserWarning:\n",
      "\n",
      "nperseg = 256 is greater than input length  = 235, using nperseg = 235\n",
      "\n",
      "C:\\Users\\Ju\\Anaconda3\\lib\\site-packages\\scipy\\signal\\spectral.py:1633: UserWarning:\n",
      "\n",
      "nperseg = 256 is greater than input length  = 246, using nperseg = 246\n",
      "\n",
      "C:\\Users\\Ju\\Anaconda3\\lib\\site-packages\\scipy\\signal\\spectral.py:1633: UserWarning:\n",
      "\n",
      "nperseg = 256 is greater than input length  = 240, using nperseg = 240\n",
      "\n",
      "C:\\Users\\Ju\\Anaconda3\\lib\\site-packages\\scipy\\signal\\spectral.py:1633: UserWarning:\n",
      "\n",
      "nperseg = 256 is greater than input length  = 239, using nperseg = 239\n",
      "\n",
      "C:\\Users\\Ju\\Anaconda3\\lib\\site-packages\\scipy\\signal\\spectral.py:1633: UserWarning:\n",
      "\n",
      "nperseg = 256 is greater than input length  = 232, using nperseg = 232\n",
      "\n",
      "C:\\Users\\Ju\\Anaconda3\\lib\\site-packages\\scipy\\signal\\spectral.py:1633: UserWarning:\n",
      "\n",
      "nperseg = 256 is greater than input length  = 242, using nperseg = 242\n",
      "\n",
      "C:\\Users\\Ju\\Anaconda3\\lib\\site-packages\\scipy\\signal\\spectral.py:1633: UserWarning:\n",
      "\n",
      "nperseg = 256 is greater than input length  = 245, using nperseg = 245\n",
      "\n",
      "C:\\Users\\Ju\\Anaconda3\\lib\\site-packages\\scipy\\signal\\spectral.py:1633: UserWarning:\n",
      "\n",
      "nperseg = 256 is greater than input length  = 233, using nperseg = 233\n",
      "\n",
      "C:\\Users\\Ju\\Anaconda3\\lib\\site-packages\\scipy\\signal\\spectral.py:1633: UserWarning:\n",
      "\n",
      "nperseg = 256 is greater than input length  = 237, using nperseg = 237\n",
      "\n",
      "C:\\Users\\Ju\\Anaconda3\\lib\\site-packages\\scipy\\signal\\spectral.py:1633: UserWarning:\n",
      "\n",
      "nperseg = 256 is greater than input length  = 226, using nperseg = 226\n",
      "\n",
      "C:\\Users\\Ju\\Anaconda3\\lib\\site-packages\\scipy\\signal\\spectral.py:1633: UserWarning:\n",
      "\n",
      "nperseg = 256 is greater than input length  = 244, using nperseg = 244\n",
      "\n",
      "C:\\Users\\Ju\\Anaconda3\\lib\\site-packages\\scipy\\signal\\spectral.py:1633: UserWarning:\n",
      "\n",
      "nperseg = 256 is greater than input length  = 236, using nperseg = 236\n",
      "\n",
      "C:\\Users\\Ju\\Anaconda3\\lib\\site-packages\\scipy\\signal\\spectral.py:1633: UserWarning:\n",
      "\n",
      "nperseg = 256 is greater than input length  = 224, using nperseg = 224\n",
      "\n",
      "C:\\Users\\Ju\\Anaconda3\\lib\\site-packages\\scipy\\signal\\spectral.py:1633: UserWarning:\n",
      "\n",
      "nperseg = 256 is greater than input length  = 230, using nperseg = 230\n",
      "\n",
      "C:\\Users\\Ju\\Anaconda3\\lib\\site-packages\\scipy\\signal\\spectral.py:1633: UserWarning:\n",
      "\n",
      "nperseg = 256 is greater than input length  = 229, using nperseg = 229\n",
      "\n"
     ]
    },
    {
     "data": {
      "text/html": [
       "<div>\n",
       "<style>\n",
       "    .dataframe thead tr:only-child th {\n",
       "        text-align: right;\n",
       "    }\n",
       "\n",
       "    .dataframe thead th {\n",
       "        text-align: left;\n",
       "    }\n",
       "\n",
       "    .dataframe tbody tr th {\n",
       "        vertical-align: top;\n",
       "    }\n",
       "</style>\n",
       "<table border=\"1\" class=\"dataframe\">\n",
       "  <thead>\n",
       "    <tr style=\"text-align: right;\">\n",
       "      <th></th>\n",
       "      <th>activity</th>\n",
       "      <th>beatcount</th>\n",
       "      <th>f_id</th>\n",
       "      <th>hf</th>\n",
       "      <th>hfnu</th>\n",
       "      <th>lf</th>\n",
       "      <th>lf_hf</th>\n",
       "      <th>lfnu</th>\n",
       "      <th>mhr</th>\n",
       "      <th>mrri</th>\n",
       "      <th>...</th>\n",
       "      <th>posture</th>\n",
       "      <th>rmssd</th>\n",
       "      <th>rr</th>\n",
       "      <th>sdnn</th>\n",
       "      <th>sess_id</th>\n",
       "      <th>start</th>\n",
       "      <th>stop</th>\n",
       "      <th>total_power</th>\n",
       "      <th>user</th>\n",
       "      <th>vlf</th>\n",
       "    </tr>\n",
       "  </thead>\n",
       "  <tbody>\n",
       "    <tr>\n",
       "      <th>121</th>\n",
       "      <td>train-focus</td>\n",
       "      <td>95</td>\n",
       "      <td>0</td>\n",
       "      <td>73.697111</td>\n",
       "      <td>14.262449</td>\n",
       "      <td>443.024183</td>\n",
       "      <td>6.011419</td>\n",
       "      <td>85.737551</td>\n",
       "      <td>94.796957</td>\n",
       "      <td>634.568421</td>\n",
       "      <td>...</td>\n",
       "      <td>sit</td>\n",
       "      <td>10.812227</td>\n",
       "      <td>[{'date': 2018-06-26 15:38:36, 'interval': 564...</td>\n",
       "      <td>32.052036</td>\n",
       "      <td>85</td>\n",
       "      <td>2018-06-26 15:38:35</td>\n",
       "      <td>2018-06-26 15:39:35</td>\n",
       "      <td>647.224535</td>\n",
       "      <td>9</td>\n",
       "      <td>130.503241</td>\n",
       "    </tr>\n",
       "    <tr>\n",
       "      <th>95</th>\n",
       "      <td>train-baseline</td>\n",
       "      <td>61</td>\n",
       "      <td>1</td>\n",
       "      <td>402.606548</td>\n",
       "      <td>11.154406</td>\n",
       "      <td>3206.788252</td>\n",
       "      <td>7.965067</td>\n",
       "      <td>88.845594</td>\n",
       "      <td>61.718704</td>\n",
       "      <td>980.459016</td>\n",
       "      <td>...</td>\n",
       "      <td>sit</td>\n",
       "      <td>51.675913</td>\n",
       "      <td>[{'date': 2018-06-23 23:38:12, 'interval': 101...</td>\n",
       "      <td>91.946465</td>\n",
       "      <td>57</td>\n",
       "      <td>2018-06-23 23:38:11</td>\n",
       "      <td>2018-06-23 23:39:11</td>\n",
       "      <td>6193.431271</td>\n",
       "      <td>1</td>\n",
       "      <td>2584.036471</td>\n",
       "    </tr>\n",
       "  </tbody>\n",
       "</table>\n",
       "<p>2 rows × 22 columns</p>\n",
       "</div>"
      ],
      "text/plain": [
       "           activity  beatcount  f_id          hf       hfnu           lf  \\\n",
       "121     train-focus         95     0   73.697111  14.262449   443.024183   \n",
       "95   train-baseline         61     1  402.606548  11.154406  3206.788252   \n",
       "\n",
       "        lf_hf       lfnu        mhr        mrri     ...       posture  \\\n",
       "121  6.011419  85.737551  94.796957  634.568421     ...           sit   \n",
       "95   7.965067  88.845594  61.718704  980.459016     ...           sit   \n",
       "\n",
       "         rmssd                                                 rr       sdnn  \\\n",
       "121  10.812227  [{'date': 2018-06-26 15:38:36, 'interval': 564...  32.052036   \n",
       "95   51.675913  [{'date': 2018-06-23 23:38:12, 'interval': 101...  91.946465   \n",
       "\n",
       "    sess_id               start                stop  total_power user  \\\n",
       "121      85 2018-06-26 15:38:35 2018-06-26 15:39:35   647.224535    9   \n",
       "95       57 2018-06-23 23:38:11 2018-06-23 23:39:11  6193.431271    1   \n",
       "\n",
       "             vlf  \n",
       "121   130.503241  \n",
       "95   2584.036471  \n",
       "\n",
       "[2 rows x 22 columns]"
      ]
     },
     "execution_count": 15,
     "metadata": {},
     "output_type": "execute_result"
    }
   ],
   "source": [
    "frags = fr.gen_fragments_dataset(sessions, 60, 5, RAW_PATH)\n",
    "dff = pd.DataFrame(frags)\n",
    "dff.sample(2)"
   ]
  },
  {
   "cell_type": "code",
   "execution_count": 18,
   "metadata": {},
   "outputs": [
    {
     "name": "stdout",
     "output_type": "stream",
     "text": [
      "SESSION ID:  94\n",
      "ACTIVITY:  train-focus\n",
      "USER:  10\n",
      "TIME:  2018-06-26 15:56:21\n"
     ]
    },
    {
     "data": {
      "application/vnd.plotly.v1+json": {
       "data": [
        {
         "type": "scatter",
         "x": [
          "2018-06-26 18:56:22",
          "2018-06-26 18:56:22",
          "2018-06-26 18:56:23",
          "2018-06-26 18:56:24",
          "2018-06-26 18:56:25",
          "2018-06-26 18:56:26",
          "2018-06-26 18:56:26",
          "2018-06-26 18:56:27",
          "2018-06-26 18:56:28",
          "2018-06-26 18:56:29",
          "2018-06-26 18:56:29",
          "2018-06-26 18:56:30",
          "2018-06-26 18:56:31",
          "2018-06-26 18:56:32",
          "2018-06-26 18:56:33",
          "2018-06-26 18:56:34",
          "2018-06-26 18:56:35",
          "2018-06-26 18:56:36",
          "2018-06-26 18:56:37",
          "2018-06-26 18:56:38",
          "2018-06-26 18:56:39",
          "2018-06-26 18:56:39",
          "2018-06-26 18:56:40",
          "2018-06-26 18:56:41",
          "2018-06-26 18:56:42",
          "2018-06-26 18:56:43",
          "2018-06-26 18:56:43",
          "2018-06-26 18:56:44",
          "2018-06-26 18:56:45",
          "2018-06-26 18:56:46",
          "2018-06-26 18:56:47",
          "2018-06-26 18:56:47",
          "2018-06-26 18:56:48",
          "2018-06-26 18:56:49",
          "2018-06-26 18:56:49",
          "2018-06-26 18:56:50",
          "2018-06-26 18:56:51",
          "2018-06-26 18:56:52",
          "2018-06-26 18:56:53",
          "2018-06-26 18:56:54",
          "2018-06-26 18:56:54",
          "2018-06-26 18:56:55",
          "2018-06-26 18:56:56",
          "2018-06-26 18:56:57",
          "2018-06-26 18:56:58",
          "2018-06-26 18:56:59",
          "2018-06-26 18:57:00",
          "2018-06-26 18:57:00",
          "2018-06-26 18:57:01",
          "2018-06-26 18:57:02",
          "2018-06-26 18:57:03",
          "2018-06-26 18:57:04",
          "2018-06-26 18:57:05",
          "2018-06-26 18:57:06",
          "2018-06-26 18:57:06",
          "2018-06-26 18:57:07",
          "2018-06-26 18:57:09",
          "2018-06-26 18:57:09",
          "2018-06-26 18:57:10",
          "2018-06-26 18:57:10",
          "2018-06-26 18:57:12",
          "2018-06-26 18:57:13",
          "2018-06-26 18:57:14",
          "2018-06-26 18:57:15",
          "2018-06-26 18:57:15",
          "2018-06-26 18:57:16",
          "2018-06-26 18:57:17",
          "2018-06-26 18:57:18",
          "2018-06-26 18:57:19",
          "2018-06-26 18:57:20",
          "2018-06-26 18:57:21",
          "2018-06-26 18:57:21",
          "2018-06-26 18:57:22",
          "2018-06-26 18:57:23",
          "2018-06-26 18:57:24",
          "2018-06-26 18:57:25",
          "2018-06-26 18:57:25",
          "2018-06-26 18:57:26",
          "2018-06-26 18:57:27",
          "2018-06-26 18:57:27",
          "2018-06-26 18:57:28",
          "2018-06-26 18:57:29",
          "2018-06-26 18:57:30",
          "2018-06-26 18:57:30",
          "2018-06-26 18:57:31",
          "2018-06-26 18:57:32",
          "2018-06-26 18:57:33",
          "2018-06-26 18:57:33",
          "2018-06-26 18:57:34",
          "2018-06-26 18:57:35",
          "2018-06-26 18:57:36",
          "2018-06-26 18:57:37",
          "2018-06-26 18:57:38",
          "2018-06-26 18:57:38",
          "2018-06-26 18:57:40",
          "2018-06-26 18:57:40"
         ],
         "y": [
          834,
          826,
          823,
          799,
          785,
          776,
          779,
          756,
          707,
          786,
          838,
          1008,
          1007,
          1010,
          1005,
          986,
          966,
          924,
          875,
          847,
          838,
          834,
          835,
          850,
          879,
          862,
          763,
          838,
          828,
          889,
          914,
          927,
          892,
          875,
          857,
          863,
          852,
          863,
          880,
          902,
          911,
          919,
          903,
          866,
          860,
          798,
          797,
          806,
          812,
          866,
          928,
          950,
          913,
          910,
          887,
          866,
          867,
          857,
          804,
          785,
          787,
          805,
          845,
          797,
          834,
          882,
          931,
          922,
          889,
          881,
          858,
          805,
          807,
          805,
          811,
          787,
          815,
          860,
          839,
          884,
          904,
          879,
          843,
          829,
          782,
          761,
          786,
          813,
          804,
          830,
          862,
          892,
          854,
          839,
          851,
          836
         ]
        }
       ],
       "layout": {}
      },
      "text/html": [
       "<div id=\"20d2bc62-5df3-487d-9fa1-9e0ed7018d4f\" style=\"height: 525px; width: 100%;\" class=\"plotly-graph-div\"></div><script type=\"text/javascript\">require([\"plotly\"], function(Plotly) { window.PLOTLYENV=window.PLOTLYENV || {};window.PLOTLYENV.BASE_URL=\"https://plot.ly\";Plotly.newPlot(\"20d2bc62-5df3-487d-9fa1-9e0ed7018d4f\", [{\"type\": \"scatter\", \"x\": [\"2018-06-26 18:56:22\", \"2018-06-26 18:56:22\", \"2018-06-26 18:56:23\", \"2018-06-26 18:56:24\", \"2018-06-26 18:56:25\", \"2018-06-26 18:56:26\", \"2018-06-26 18:56:26\", \"2018-06-26 18:56:27\", \"2018-06-26 18:56:28\", \"2018-06-26 18:56:29\", \"2018-06-26 18:56:29\", \"2018-06-26 18:56:30\", \"2018-06-26 18:56:31\", \"2018-06-26 18:56:32\", \"2018-06-26 18:56:33\", \"2018-06-26 18:56:34\", \"2018-06-26 18:56:35\", \"2018-06-26 18:56:36\", \"2018-06-26 18:56:37\", \"2018-06-26 18:56:38\", \"2018-06-26 18:56:39\", \"2018-06-26 18:56:39\", \"2018-06-26 18:56:40\", \"2018-06-26 18:56:41\", \"2018-06-26 18:56:42\", \"2018-06-26 18:56:43\", \"2018-06-26 18:56:43\", \"2018-06-26 18:56:44\", \"2018-06-26 18:56:45\", \"2018-06-26 18:56:46\", \"2018-06-26 18:56:47\", \"2018-06-26 18:56:47\", \"2018-06-26 18:56:48\", \"2018-06-26 18:56:49\", \"2018-06-26 18:56:49\", \"2018-06-26 18:56:50\", \"2018-06-26 18:56:51\", \"2018-06-26 18:56:52\", \"2018-06-26 18:56:53\", \"2018-06-26 18:56:54\", \"2018-06-26 18:56:54\", \"2018-06-26 18:56:55\", \"2018-06-26 18:56:56\", \"2018-06-26 18:56:57\", \"2018-06-26 18:56:58\", \"2018-06-26 18:56:59\", \"2018-06-26 18:57:00\", \"2018-06-26 18:57:00\", \"2018-06-26 18:57:01\", \"2018-06-26 18:57:02\", \"2018-06-26 18:57:03\", \"2018-06-26 18:57:04\", \"2018-06-26 18:57:05\", \"2018-06-26 18:57:06\", \"2018-06-26 18:57:06\", \"2018-06-26 18:57:07\", \"2018-06-26 18:57:09\", \"2018-06-26 18:57:09\", \"2018-06-26 18:57:10\", \"2018-06-26 18:57:10\", \"2018-06-26 18:57:12\", \"2018-06-26 18:57:13\", \"2018-06-26 18:57:14\", \"2018-06-26 18:57:15\", \"2018-06-26 18:57:15\", \"2018-06-26 18:57:16\", \"2018-06-26 18:57:17\", \"2018-06-26 18:57:18\", \"2018-06-26 18:57:19\", \"2018-06-26 18:57:20\", \"2018-06-26 18:57:21\", \"2018-06-26 18:57:21\", \"2018-06-26 18:57:22\", \"2018-06-26 18:57:23\", \"2018-06-26 18:57:24\", \"2018-06-26 18:57:25\", \"2018-06-26 18:57:25\", \"2018-06-26 18:57:26\", \"2018-06-26 18:57:27\", \"2018-06-26 18:57:27\", \"2018-06-26 18:57:28\", \"2018-06-26 18:57:29\", \"2018-06-26 18:57:30\", \"2018-06-26 18:57:30\", \"2018-06-26 18:57:31\", \"2018-06-26 18:57:32\", \"2018-06-26 18:57:33\", \"2018-06-26 18:57:33\", \"2018-06-26 18:57:34\", \"2018-06-26 18:57:35\", \"2018-06-26 18:57:36\", \"2018-06-26 18:57:37\", \"2018-06-26 18:57:38\", \"2018-06-26 18:57:38\", \"2018-06-26 18:57:40\", \"2018-06-26 18:57:40\"], \"y\": [834, 826, 823, 799, 785, 776, 779, 756, 707, 786, 838, 1008, 1007, 1010, 1005, 986, 966, 924, 875, 847, 838, 834, 835, 850, 879, 862, 763, 838, 828, 889, 914, 927, 892, 875, 857, 863, 852, 863, 880, 902, 911, 919, 903, 866, 860, 798, 797, 806, 812, 866, 928, 950, 913, 910, 887, 866, 867, 857, 804, 785, 787, 805, 845, 797, 834, 882, 931, 922, 889, 881, 858, 805, 807, 805, 811, 787, 815, 860, 839, 884, 904, 879, 843, 829, 782, 761, 786, 813, 804, 830, 862, 892, 854, 839, 851, 836]}], {}, {\"showLink\": true, \"linkText\": \"Export to plot.ly\"})});</script>"
      ],
      "text/vnd.plotly.v1+html": [
       "<div id=\"20d2bc62-5df3-487d-9fa1-9e0ed7018d4f\" style=\"height: 525px; width: 100%;\" class=\"plotly-graph-div\"></div><script type=\"text/javascript\">require([\"plotly\"], function(Plotly) { window.PLOTLYENV=window.PLOTLYENV || {};window.PLOTLYENV.BASE_URL=\"https://plot.ly\";Plotly.newPlot(\"20d2bc62-5df3-487d-9fa1-9e0ed7018d4f\", [{\"type\": \"scatter\", \"x\": [\"2018-06-26 18:56:22\", \"2018-06-26 18:56:22\", \"2018-06-26 18:56:23\", \"2018-06-26 18:56:24\", \"2018-06-26 18:56:25\", \"2018-06-26 18:56:26\", \"2018-06-26 18:56:26\", \"2018-06-26 18:56:27\", \"2018-06-26 18:56:28\", \"2018-06-26 18:56:29\", \"2018-06-26 18:56:29\", \"2018-06-26 18:56:30\", \"2018-06-26 18:56:31\", \"2018-06-26 18:56:32\", \"2018-06-26 18:56:33\", \"2018-06-26 18:56:34\", \"2018-06-26 18:56:35\", \"2018-06-26 18:56:36\", \"2018-06-26 18:56:37\", \"2018-06-26 18:56:38\", \"2018-06-26 18:56:39\", \"2018-06-26 18:56:39\", \"2018-06-26 18:56:40\", \"2018-06-26 18:56:41\", \"2018-06-26 18:56:42\", \"2018-06-26 18:56:43\", \"2018-06-26 18:56:43\", \"2018-06-26 18:56:44\", \"2018-06-26 18:56:45\", \"2018-06-26 18:56:46\", \"2018-06-26 18:56:47\", \"2018-06-26 18:56:47\", \"2018-06-26 18:56:48\", \"2018-06-26 18:56:49\", \"2018-06-26 18:56:49\", \"2018-06-26 18:56:50\", \"2018-06-26 18:56:51\", \"2018-06-26 18:56:52\", \"2018-06-26 18:56:53\", \"2018-06-26 18:56:54\", \"2018-06-26 18:56:54\", \"2018-06-26 18:56:55\", \"2018-06-26 18:56:56\", \"2018-06-26 18:56:57\", \"2018-06-26 18:56:58\", \"2018-06-26 18:56:59\", \"2018-06-26 18:57:00\", \"2018-06-26 18:57:00\", \"2018-06-26 18:57:01\", \"2018-06-26 18:57:02\", \"2018-06-26 18:57:03\", \"2018-06-26 18:57:04\", \"2018-06-26 18:57:05\", \"2018-06-26 18:57:06\", \"2018-06-26 18:57:06\", \"2018-06-26 18:57:07\", \"2018-06-26 18:57:09\", \"2018-06-26 18:57:09\", \"2018-06-26 18:57:10\", \"2018-06-26 18:57:10\", \"2018-06-26 18:57:12\", \"2018-06-26 18:57:13\", \"2018-06-26 18:57:14\", \"2018-06-26 18:57:15\", \"2018-06-26 18:57:15\", \"2018-06-26 18:57:16\", \"2018-06-26 18:57:17\", \"2018-06-26 18:57:18\", \"2018-06-26 18:57:19\", \"2018-06-26 18:57:20\", \"2018-06-26 18:57:21\", \"2018-06-26 18:57:21\", \"2018-06-26 18:57:22\", \"2018-06-26 18:57:23\", \"2018-06-26 18:57:24\", \"2018-06-26 18:57:25\", \"2018-06-26 18:57:25\", \"2018-06-26 18:57:26\", \"2018-06-26 18:57:27\", \"2018-06-26 18:57:27\", \"2018-06-26 18:57:28\", \"2018-06-26 18:57:29\", \"2018-06-26 18:57:30\", \"2018-06-26 18:57:30\", \"2018-06-26 18:57:31\", \"2018-06-26 18:57:32\", \"2018-06-26 18:57:33\", \"2018-06-26 18:57:33\", \"2018-06-26 18:57:34\", \"2018-06-26 18:57:35\", \"2018-06-26 18:57:36\", \"2018-06-26 18:57:37\", \"2018-06-26 18:57:38\", \"2018-06-26 18:57:38\", \"2018-06-26 18:57:40\", \"2018-06-26 18:57:40\"], \"y\": [834, 826, 823, 799, 785, 776, 779, 756, 707, 786, 838, 1008, 1007, 1010, 1005, 986, 966, 924, 875, 847, 838, 834, 835, 850, 879, 862, 763, 838, 828, 889, 914, 927, 892, 875, 857, 863, 852, 863, 880, 902, 911, 919, 903, 866, 860, 798, 797, 806, 812, 866, 928, 950, 913, 910, 887, 866, 867, 857, 804, 785, 787, 805, 845, 797, 834, 882, 931, 922, 889, 881, 858, 805, 807, 805, 811, 787, 815, 860, 839, 884, 904, 879, 843, 829, 782, 761, 786, 813, 804, 830, 862, 892, 854, 839, 851, 836]}], {}, {\"showLink\": true, \"linkText\": \"Export to plot.ly\"})});</script>"
      ]
     },
     "metadata": {},
     "output_type": "display_data"
    },
    {
     "data": {
      "application/vnd.plotly.v1+json": {
       "data": [
        {
         "name": "rmssd",
         "type": "scatter",
         "x": [
          0
         ],
         "y": [
          39.06275144846607
         ]
        },
        {
         "name": "mhr",
         "type": "scatter",
         "x": [
          0
         ],
         "y": [
          69.75518595045462
         ]
        },
        {
         "name": "sdnn",
         "type": "scatter",
         "x": [
          0
         ],
         "y": [
          62.9477353945664
         ]
        },
        {
         "name": "pnn50",
         "type": "scatter",
         "x": [
          0
         ],
         "y": [
          15.942028985507244
         ]
        }
       ],
       "layout": {}
      },
      "text/html": [
       "<div id=\"88714c2d-4439-4775-b8ab-49afb8559769\" style=\"height: 525px; width: 100%;\" class=\"plotly-graph-div\"></div><script type=\"text/javascript\">require([\"plotly\"], function(Plotly) { window.PLOTLYENV=window.PLOTLYENV || {};window.PLOTLYENV.BASE_URL=\"https://plot.ly\";Plotly.newPlot(\"88714c2d-4439-4775-b8ab-49afb8559769\", [{\"type\": \"scatter\", \"x\": [0], \"y\": [39.06275144846607], \"name\": \"rmssd\"}, {\"type\": \"scatter\", \"x\": [0], \"y\": [69.75518595045462], \"name\": \"mhr\"}, {\"type\": \"scatter\", \"x\": [0], \"y\": [62.9477353945664], \"name\": \"sdnn\"}, {\"type\": \"scatter\", \"x\": [0], \"y\": [15.942028985507244], \"name\": \"pnn50\"}], {}, {\"showLink\": true, \"linkText\": \"Export to plot.ly\"})});</script>"
      ],
      "text/vnd.plotly.v1+html": [
       "<div id=\"88714c2d-4439-4775-b8ab-49afb8559769\" style=\"height: 525px; width: 100%;\" class=\"plotly-graph-div\"></div><script type=\"text/javascript\">require([\"plotly\"], function(Plotly) { window.PLOTLYENV=window.PLOTLYENV || {};window.PLOTLYENV.BASE_URL=\"https://plot.ly\";Plotly.newPlot(\"88714c2d-4439-4775-b8ab-49afb8559769\", [{\"type\": \"scatter\", \"x\": [0], \"y\": [39.06275144846607], \"name\": \"rmssd\"}, {\"type\": \"scatter\", \"x\": [0], \"y\": [69.75518595045462], \"name\": \"mhr\"}, {\"type\": \"scatter\", \"x\": [0], \"y\": [62.9477353945664], \"name\": \"sdnn\"}, {\"type\": \"scatter\", \"x\": [0], \"y\": [15.942028985507244], \"name\": \"pnn50\"}], {}, {\"showLink\": true, \"linkText\": \"Export to plot.ly\"})});</script>"
      ]
     },
     "metadata": {},
     "output_type": "display_data"
    }
   ],
   "source": [
    "dv.full_plot_sess(dfs.iloc[-2], dff, RAW_PATH)"
   ]
  },
  {
   "cell_type": "markdown",
   "metadata": {},
   "source": [
    "### Generate datasets for multiple fragment sizes"
   ]
  },
  {
   "cell_type": "code",
   "execution_count": 19,
   "metadata": {},
   "outputs": [
    {
     "name": "stdout",
     "output_type": "stream",
     "text": [
      "generating C:\\Users\\ju\\GDrive\\Projects\\HeRV\\Data\\PreProcessed\\df_train_60.xlsx ...\n",
      "82 valid sessions out of 82 total (at least one full fragment of 60 seconds after discarding first 10 seconds)\n"
     ]
    },
    {
     "name": "stderr",
     "output_type": "stream",
     "text": [
      "C:\\Users\\Ju\\Anaconda3\\lib\\site-packages\\scipy\\signal\\spectral.py:1633: UserWarning:\n",
      "\n",
      "nperseg = 256 is greater than input length  = 237, using nperseg = 237\n",
      "\n",
      "C:\\Users\\Ju\\Anaconda3\\lib\\site-packages\\scipy\\signal\\spectral.py:1633: UserWarning:\n",
      "\n",
      "nperseg = 256 is greater than input length  = 239, using nperseg = 239\n",
      "\n",
      "C:\\Users\\Ju\\Anaconda3\\lib\\site-packages\\scipy\\signal\\spectral.py:1633: UserWarning:\n",
      "\n",
      "nperseg = 256 is greater than input length  = 241, using nperseg = 241\n",
      "\n",
      "C:\\Users\\Ju\\Anaconda3\\lib\\site-packages\\scipy\\signal\\spectral.py:1633: UserWarning:\n",
      "\n",
      "nperseg = 256 is greater than input length  = 240, using nperseg = 240\n",
      "\n",
      "C:\\Users\\Ju\\Anaconda3\\lib\\site-packages\\scipy\\signal\\spectral.py:1633: UserWarning:\n",
      "\n",
      "nperseg = 256 is greater than input length  = 238, using nperseg = 238\n",
      "\n",
      "C:\\Users\\Ju\\Anaconda3\\lib\\site-packages\\scipy\\signal\\spectral.py:1633: UserWarning:\n",
      "\n",
      "nperseg = 256 is greater than input length  = 245, using nperseg = 245\n",
      "\n",
      "C:\\Users\\Ju\\Anaconda3\\lib\\site-packages\\scipy\\signal\\spectral.py:1633: UserWarning:\n",
      "\n",
      "nperseg = 256 is greater than input length  = 242, using nperseg = 242\n",
      "\n",
      "C:\\Users\\Ju\\Anaconda3\\lib\\site-packages\\scipy\\signal\\spectral.py:1633: UserWarning:\n",
      "\n",
      "nperseg = 256 is greater than input length  = 236, using nperseg = 236\n",
      "\n",
      "C:\\Users\\Ju\\Anaconda3\\lib\\site-packages\\scipy\\signal\\spectral.py:1633: UserWarning:\n",
      "\n",
      "nperseg = 256 is greater than input length  = 243, using nperseg = 243\n",
      "\n",
      "C:\\Users\\Ju\\Anaconda3\\lib\\site-packages\\scipy\\signal\\spectral.py:1633: UserWarning:\n",
      "\n",
      "nperseg = 256 is greater than input length  = 232, using nperseg = 232\n",
      "\n",
      "C:\\Users\\Ju\\Anaconda3\\lib\\site-packages\\scipy\\signal\\spectral.py:1633: UserWarning:\n",
      "\n",
      "nperseg = 256 is greater than input length  = 231, using nperseg = 231\n",
      "\n",
      "C:\\Users\\Ju\\Anaconda3\\lib\\site-packages\\scipy\\signal\\spectral.py:1633: UserWarning:\n",
      "\n",
      "nperseg = 256 is greater than input length  = 226, using nperseg = 226\n",
      "\n",
      "C:\\Users\\Ju\\Anaconda3\\lib\\site-packages\\scipy\\signal\\spectral.py:1633: UserWarning:\n",
      "\n",
      "nperseg = 256 is greater than input length  = 230, using nperseg = 230\n",
      "\n",
      "C:\\Users\\Ju\\Anaconda3\\lib\\site-packages\\scipy\\signal\\spectral.py:1633: UserWarning:\n",
      "\n",
      "nperseg = 256 is greater than input length  = 234, using nperseg = 234\n",
      "\n",
      "C:\\Users\\Ju\\Anaconda3\\lib\\site-packages\\scipy\\signal\\spectral.py:1633: UserWarning:\n",
      "\n",
      "nperseg = 256 is greater than input length  = 233, using nperseg = 233\n",
      "\n",
      "C:\\Users\\Ju\\Anaconda3\\lib\\site-packages\\scipy\\signal\\spectral.py:1633: UserWarning:\n",
      "\n",
      "nperseg = 256 is greater than input length  = 235, using nperseg = 235\n",
      "\n"
     ]
    },
    {
     "name": "stdout",
     "output_type": "stream",
     "text": [
      "resulting dataset: 122 records\n",
      "generating C:\\Users\\ju\\GDrive\\Projects\\HeRV\\Data\\PreProcessed\\df_train_30.xlsx ...\n",
      "82 valid sessions out of 82 total (at least one full fragment of 30 seconds after discarding first 10 seconds)\n"
     ]
    },
    {
     "name": "stderr",
     "output_type": "stream",
     "text": [
      "C:\\Users\\Ju\\Anaconda3\\lib\\site-packages\\scipy\\signal\\spectral.py:1633: UserWarning:\n",
      "\n",
      "nperseg = 256 is greater than input length  = 116, using nperseg = 116\n",
      "\n",
      "C:\\Users\\Ju\\Anaconda3\\lib\\site-packages\\scipy\\signal\\spectral.py:1633: UserWarning:\n",
      "\n",
      "nperseg = 256 is greater than input length  = 115, using nperseg = 115\n",
      "\n",
      "C:\\Users\\Ju\\Anaconda3\\lib\\site-packages\\scipy\\signal\\spectral.py:1633: UserWarning:\n",
      "\n",
      "nperseg = 256 is greater than input length  = 117, using nperseg = 117\n",
      "\n",
      "C:\\Users\\Ju\\Anaconda3\\lib\\site-packages\\scipy\\signal\\spectral.py:1633: UserWarning:\n",
      "\n",
      "nperseg = 256 is greater than input length  = 118, using nperseg = 118\n",
      "\n",
      "C:\\Users\\Ju\\Anaconda3\\lib\\site-packages\\scipy\\signal\\spectral.py:1633: UserWarning:\n",
      "\n",
      "nperseg = 256 is greater than input length  = 119, using nperseg = 119\n",
      "\n",
      "C:\\Users\\Ju\\Anaconda3\\lib\\site-packages\\scipy\\signal\\spectral.py:1633: UserWarning:\n",
      "\n",
      "nperseg = 256 is greater than input length  = 114, using nperseg = 114\n",
      "\n",
      "C:\\Users\\Ju\\Anaconda3\\lib\\site-packages\\scipy\\signal\\spectral.py:1633: UserWarning:\n",
      "\n",
      "nperseg = 256 is greater than input length  = 120, using nperseg = 120\n",
      "\n",
      "C:\\Users\\Ju\\Anaconda3\\lib\\site-packages\\scipy\\signal\\spectral.py:1633: UserWarning:\n",
      "\n",
      "nperseg = 256 is greater than input length  = 123, using nperseg = 123\n",
      "\n",
      "C:\\Users\\Ju\\Anaconda3\\lib\\site-packages\\scipy\\signal\\spectral.py:1633: UserWarning:\n",
      "\n",
      "nperseg = 256 is greater than input length  = 113, using nperseg = 113\n",
      "\n",
      "C:\\Users\\Ju\\Anaconda3\\lib\\site-packages\\scipy\\signal\\spectral.py:1633: UserWarning:\n",
      "\n",
      "nperseg = 256 is greater than input length  = 111, using nperseg = 111\n",
      "\n",
      "C:\\Users\\Ju\\Anaconda3\\lib\\site-packages\\scipy\\signal\\spectral.py:1633: UserWarning:\n",
      "\n",
      "nperseg = 256 is greater than input length  = 122, using nperseg = 122\n",
      "\n",
      "C:\\Users\\Ju\\Anaconda3\\lib\\site-packages\\scipy\\signal\\spectral.py:1633: UserWarning:\n",
      "\n",
      "nperseg = 256 is greater than input length  = 121, using nperseg = 121\n",
      "\n",
      "C:\\Users\\Ju\\Anaconda3\\lib\\site-packages\\scipy\\signal\\spectral.py:1633: UserWarning:\n",
      "\n",
      "nperseg = 256 is greater than input length  = 112, using nperseg = 112\n",
      "\n",
      "C:\\Users\\Ju\\Anaconda3\\lib\\site-packages\\scipy\\signal\\spectral.py:1633: UserWarning:\n",
      "\n",
      "nperseg = 256 is greater than input length  = 110, using nperseg = 110\n",
      "\n",
      "C:\\Users\\Ju\\Anaconda3\\lib\\site-packages\\scipy\\signal\\spectral.py:1633: UserWarning:\n",
      "\n",
      "nperseg = 256 is greater than input length  = 105, using nperseg = 105\n",
      "\n",
      "C:\\Users\\Ju\\Anaconda3\\lib\\site-packages\\scipy\\signal\\spectral.py:1633: UserWarning:\n",
      "\n",
      "nperseg = 256 is greater than input length  = 106, using nperseg = 106\n",
      "\n",
      "C:\\Users\\Ju\\Anaconda3\\lib\\site-packages\\scipy\\signal\\spectral.py:1633: UserWarning:\n",
      "\n",
      "nperseg = 256 is greater than input length  = 109, using nperseg = 109\n",
      "\n",
      "C:\\Users\\Ju\\Anaconda3\\lib\\site-packages\\scipy\\signal\\spectral.py:1633: UserWarning:\n",
      "\n",
      "nperseg = 256 is greater than input length  = 108, using nperseg = 108\n",
      "\n",
      "C:\\Users\\Ju\\Anaconda3\\lib\\site-packages\\scipy\\signal\\spectral.py:1633: UserWarning:\n",
      "\n",
      "nperseg = 256 is greater than input length  = 107, using nperseg = 107\n",
      "\n"
     ]
    },
    {
     "name": "stdout",
     "output_type": "stream",
     "text": [
      "resulting dataset: 260 records\n",
      "generating C:\\Users\\ju\\GDrive\\Projects\\HeRV\\Data\\PreProcessed\\df_train_20.xlsx ...\n",
      "82 valid sessions out of 82 total (at least one full fragment of 20 seconds after discarding first 10 seconds)\n"
     ]
    },
    {
     "name": "stderr",
     "output_type": "stream",
     "text": [
      "C:\\Users\\Ju\\Anaconda3\\lib\\site-packages\\scipy\\signal\\spectral.py:1633: UserWarning:\n",
      "\n",
      "nperseg = 256 is greater than input length  = 75, using nperseg = 75\n",
      "\n",
      "C:\\Users\\Ju\\Anaconda3\\lib\\site-packages\\scipy\\signal\\spectral.py:1633: UserWarning:\n",
      "\n",
      "nperseg = 256 is greater than input length  = 73, using nperseg = 73\n",
      "\n",
      "C:\\Users\\Ju\\Anaconda3\\lib\\site-packages\\scipy\\signal\\spectral.py:1633: UserWarning:\n",
      "\n",
      "nperseg = 256 is greater than input length  = 78, using nperseg = 78\n",
      "\n",
      "C:\\Users\\Ju\\Anaconda3\\lib\\site-packages\\scipy\\signal\\spectral.py:1633: UserWarning:\n",
      "\n",
      "nperseg = 256 is greater than input length  = 74, using nperseg = 74\n",
      "\n",
      "C:\\Users\\Ju\\Anaconda3\\lib\\site-packages\\scipy\\signal\\spectral.py:1633: UserWarning:\n",
      "\n",
      "nperseg = 256 is greater than input length  = 76, using nperseg = 76\n",
      "\n",
      "C:\\Users\\Ju\\Anaconda3\\lib\\site-packages\\scipy\\signal\\spectral.py:1633: UserWarning:\n",
      "\n",
      "nperseg = 256 is greater than input length  = 77, using nperseg = 77\n",
      "\n",
      "C:\\Users\\Ju\\Anaconda3\\lib\\site-packages\\scipy\\signal\\spectral.py:1633: UserWarning:\n",
      "\n",
      "nperseg = 256 is greater than input length  = 79, using nperseg = 79\n",
      "\n",
      "C:\\Users\\Ju\\Anaconda3\\lib\\site-packages\\scipy\\signal\\spectral.py:1633: UserWarning:\n",
      "\n",
      "nperseg = 256 is greater than input length  = 71, using nperseg = 71\n",
      "\n",
      "C:\\Users\\Ju\\Anaconda3\\lib\\site-packages\\scipy\\signal\\spectral.py:1633: UserWarning:\n",
      "\n",
      "nperseg = 256 is greater than input length  = 80, using nperseg = 80\n",
      "\n",
      "C:\\Users\\Ju\\Anaconda3\\lib\\site-packages\\scipy\\signal\\spectral.py:1633: UserWarning:\n",
      "\n",
      "nperseg = 256 is greater than input length  = 72, using nperseg = 72\n",
      "\n",
      "C:\\Users\\Ju\\Anaconda3\\lib\\site-packages\\scipy\\signal\\spectral.py:1633: UserWarning:\n",
      "\n",
      "nperseg = 256 is greater than input length  = 81, using nperseg = 81\n",
      "\n",
      "C:\\Users\\Ju\\Anaconda3\\lib\\site-packages\\scipy\\signal\\spectral.py:1633: UserWarning:\n",
      "\n",
      "nperseg = 256 is greater than input length  = 69, using nperseg = 69\n",
      "\n",
      "C:\\Users\\Ju\\Anaconda3\\lib\\site-packages\\scipy\\signal\\spectral.py:1633: UserWarning:\n",
      "\n",
      "nperseg = 256 is greater than input length  = 70, using nperseg = 70\n",
      "\n",
      "C:\\Users\\Ju\\Anaconda3\\lib\\site-packages\\scipy\\signal\\spectral.py:1633: UserWarning:\n",
      "\n",
      "nperseg = 256 is greater than input length  = 82, using nperseg = 82\n",
      "\n",
      "C:\\Users\\Ju\\Anaconda3\\lib\\site-packages\\scipy\\signal\\spectral.py:1633: UserWarning:\n",
      "\n",
      "nperseg = 256 is greater than input length  = 67, using nperseg = 67\n",
      "\n",
      "C:\\Users\\Ju\\Anaconda3\\lib\\site-packages\\scipy\\signal\\spectral.py:1633: UserWarning:\n",
      "\n",
      "nperseg = 256 is greater than input length  = 63, using nperseg = 63\n",
      "\n",
      "C:\\Users\\Ju\\Anaconda3\\lib\\site-packages\\scipy\\signal\\spectral.py:1633: UserWarning:\n",
      "\n",
      "nperseg = 256 is greater than input length  = 68, using nperseg = 68\n",
      "\n"
     ]
    },
    {
     "name": "stdout",
     "output_type": "stream",
     "text": [
      "resulting dataset: 397 records\n",
      "generating C:\\Users\\ju\\GDrive\\Projects\\HeRV\\Data\\PreProcessed\\df_train_15.xlsx ...\n",
      "82 valid sessions out of 82 total (at least one full fragment of 15 seconds after discarding first 10 seconds)\n"
     ]
    },
    {
     "name": "stderr",
     "output_type": "stream",
     "text": [
      "C:\\Users\\Ju\\Anaconda3\\lib\\site-packages\\scipy\\signal\\spectral.py:1633: UserWarning:\n",
      "\n",
      "nperseg = 256 is greater than input length  = 55, using nperseg = 55\n",
      "\n",
      "C:\\Users\\Ju\\Anaconda3\\lib\\site-packages\\scipy\\signal\\spectral.py:1633: UserWarning:\n",
      "\n",
      "nperseg = 256 is greater than input length  = 56, using nperseg = 56\n",
      "\n",
      "C:\\Users\\Ju\\Anaconda3\\lib\\site-packages\\scipy\\signal\\spectral.py:1633: UserWarning:\n",
      "\n",
      "nperseg = 256 is greater than input length  = 54, using nperseg = 54\n",
      "\n",
      "C:\\Users\\Ju\\Anaconda3\\lib\\site-packages\\scipy\\signal\\spectral.py:1633: UserWarning:\n",
      "\n",
      "nperseg = 256 is greater than input length  = 52, using nperseg = 52\n",
      "\n",
      "C:\\Users\\Ju\\Anaconda3\\lib\\site-packages\\scipy\\signal\\spectral.py:1633: UserWarning:\n",
      "\n",
      "nperseg = 256 is greater than input length  = 51, using nperseg = 51\n",
      "\n",
      "C:\\Users\\Ju\\Anaconda3\\lib\\site-packages\\scipy\\signal\\spectral.py:1633: UserWarning:\n",
      "\n",
      "nperseg = 256 is greater than input length  = 53, using nperseg = 53\n",
      "\n",
      "C:\\Users\\Ju\\Anaconda3\\lib\\site-packages\\scipy\\signal\\spectral.py:1633: UserWarning:\n",
      "\n",
      "nperseg = 256 is greater than input length  = 57, using nperseg = 57\n",
      "\n",
      "C:\\Users\\Ju\\Anaconda3\\lib\\site-packages\\scipy\\signal\\spectral.py:1633: UserWarning:\n",
      "\n",
      "nperseg = 256 is greater than input length  = 59, using nperseg = 59\n",
      "\n",
      "C:\\Users\\Ju\\Anaconda3\\lib\\site-packages\\scipy\\signal\\spectral.py:1633: UserWarning:\n",
      "\n",
      "nperseg = 256 is greater than input length  = 49, using nperseg = 49\n",
      "\n",
      "C:\\Users\\Ju\\Anaconda3\\lib\\site-packages\\scipy\\signal\\spectral.py:1633: UserWarning:\n",
      "\n",
      "nperseg = 256 is greater than input length  = 50, using nperseg = 50\n",
      "\n",
      "C:\\Users\\Ju\\Anaconda3\\lib\\site-packages\\scipy\\signal\\spectral.py:1633: UserWarning:\n",
      "\n",
      "nperseg = 256 is greater than input length  = 60, using nperseg = 60\n",
      "\n",
      "C:\\Users\\Ju\\Anaconda3\\lib\\site-packages\\scipy\\signal\\spectral.py:1633: UserWarning:\n",
      "\n",
      "nperseg = 256 is greater than input length  = 58, using nperseg = 58\n",
      "\n",
      "C:\\Users\\Ju\\Anaconda3\\lib\\site-packages\\scipy\\signal\\spectral.py:1633: UserWarning:\n",
      "\n",
      "nperseg = 256 is greater than input length  = 48, using nperseg = 48\n",
      "\n",
      "C:\\Users\\Ju\\Anaconda3\\lib\\site-packages\\scipy\\signal\\spectral.py:1633: UserWarning:\n",
      "\n",
      "nperseg = 256 is greater than input length  = 43, using nperseg = 43\n",
      "\n",
      "C:\\Users\\Ju\\Anaconda3\\lib\\site-packages\\scipy\\signal\\spectral.py:1633: UserWarning:\n",
      "\n",
      "nperseg = 256 is greater than input length  = 61, using nperseg = 61\n",
      "\n",
      "C:\\Users\\Ju\\Anaconda3\\lib\\site-packages\\scipy\\signal\\spectral.py:1633: UserWarning:\n",
      "\n",
      "nperseg = 256 is greater than input length  = 45, using nperseg = 45\n",
      "\n",
      "C:\\Users\\Ju\\Anaconda3\\lib\\site-packages\\scipy\\signal\\spectral.py:1633: UserWarning:\n",
      "\n",
      "nperseg = 256 is greater than input length  = 47, using nperseg = 47\n",
      "\n",
      "C:\\Users\\Ju\\Anaconda3\\lib\\site-packages\\scipy\\signal\\spectral.py:1633: UserWarning:\n",
      "\n",
      "nperseg = 256 is greater than input length  = 62, using nperseg = 62\n",
      "\n"
     ]
    },
    {
     "name": "stdout",
     "output_type": "stream",
     "text": [
      "resulting dataset: 535 records\n",
      "generating C:\\Users\\ju\\GDrive\\Projects\\HeRV\\Data\\PreProcessed\\df_train_10.xlsx ...\n",
      "82 valid sessions out of 82 total (at least one full fragment of 10 seconds after discarding first 10 seconds)\n"
     ]
    },
    {
     "name": "stderr",
     "output_type": "stream",
     "text": [
      "C:\\Users\\Ju\\Anaconda3\\lib\\site-packages\\scipy\\signal\\spectral.py:1633: UserWarning:\n",
      "\n",
      "nperseg = 256 is greater than input length  = 33, using nperseg = 33\n",
      "\n",
      "C:\\Users\\Ju\\Anaconda3\\lib\\site-packages\\scipy\\signal\\spectral.py:1633: UserWarning:\n",
      "\n",
      "nperseg = 256 is greater than input length  = 35, using nperseg = 35\n",
      "\n",
      "C:\\Users\\Ju\\Anaconda3\\lib\\site-packages\\scipy\\signal\\spectral.py:1633: UserWarning:\n",
      "\n",
      "nperseg = 256 is greater than input length  = 32, using nperseg = 32\n",
      "\n",
      "C:\\Users\\Ju\\Anaconda3\\lib\\site-packages\\scipy\\signal\\spectral.py:1633: UserWarning:\n",
      "\n",
      "nperseg = 256 is greater than input length  = 38, using nperseg = 38\n",
      "\n",
      "C:\\Users\\Ju\\Anaconda3\\lib\\site-packages\\scipy\\signal\\spectral.py:1633: UserWarning:\n",
      "\n",
      "nperseg = 256 is greater than input length  = 34, using nperseg = 34\n",
      "\n",
      "C:\\Users\\Ju\\Anaconda3\\lib\\site-packages\\scipy\\signal\\spectral.py:1633: UserWarning:\n",
      "\n",
      "nperseg = 256 is greater than input length  = 36, using nperseg = 36\n",
      "\n",
      "C:\\Users\\Ju\\Anaconda3\\lib\\site-packages\\scipy\\signal\\spectral.py:1633: UserWarning:\n",
      "\n",
      "nperseg = 256 is greater than input length  = 37, using nperseg = 37\n",
      "\n",
      "C:\\Users\\Ju\\Anaconda3\\lib\\site-packages\\scipy\\signal\\spectral.py:1633: UserWarning:\n",
      "\n",
      "nperseg = 256 is greater than input length  = 30, using nperseg = 30\n",
      "\n",
      "C:\\Users\\Ju\\Anaconda3\\lib\\site-packages\\hrv\\classical.py:44: RuntimeWarning:\n",
      "\n",
      "invalid value encountered in double_scalars\n",
      "\n",
      "C:\\Users\\Ju\\Anaconda3\\lib\\site-packages\\hrv\\classical.py:45: RuntimeWarning:\n",
      "\n",
      "invalid value encountered in double_scalars\n",
      "\n",
      "C:\\Users\\Ju\\Anaconda3\\lib\\site-packages\\hrv\\classical.py:46: RuntimeWarning:\n",
      "\n",
      "invalid value encountered in double_scalars\n",
      "\n",
      "C:\\Users\\Ju\\Anaconda3\\lib\\site-packages\\scipy\\signal\\spectral.py:1633: UserWarning:\n",
      "\n",
      "nperseg = 256 is greater than input length  = 39, using nperseg = 39\n",
      "\n",
      "C:\\Users\\Ju\\Anaconda3\\lib\\site-packages\\scipy\\signal\\spectral.py:1633: UserWarning:\n",
      "\n",
      "nperseg = 256 is greater than input length  = 40, using nperseg = 40\n",
      "\n",
      "C:\\Users\\Ju\\Anaconda3\\lib\\site-packages\\scipy\\signal\\spectral.py:1633: UserWarning:\n",
      "\n",
      "nperseg = 256 is greater than input length  = 31, using nperseg = 31\n",
      "\n",
      "C:\\Users\\Ju\\Anaconda3\\lib\\site-packages\\scipy\\signal\\spectral.py:1633: UserWarning:\n",
      "\n",
      "nperseg = 256 is greater than input length  = 41, using nperseg = 41\n",
      "\n",
      "C:\\Users\\Ju\\Anaconda3\\lib\\site-packages\\scipy\\signal\\spectral.py:1633: UserWarning:\n",
      "\n",
      "nperseg = 256 is greater than input length  = 28, using nperseg = 28\n",
      "\n",
      "C:\\Users\\Ju\\Anaconda3\\lib\\site-packages\\scipy\\signal\\spectral.py:1633: UserWarning:\n",
      "\n",
      "nperseg = 256 is greater than input length  = 29, using nperseg = 29\n",
      "\n",
      "C:\\Users\\Ju\\Anaconda3\\lib\\site-packages\\scipy\\signal\\spectral.py:1633: UserWarning:\n",
      "\n",
      "nperseg = 256 is greater than input length  = 27, using nperseg = 27\n",
      "\n"
     ]
    },
    {
     "name": "stdout",
     "output_type": "stream",
     "text": [
      "resulting dataset: 846 records\n"
     ]
    }
   ],
   "source": [
    "durations = [60, 30, 20, 15, 10]\n",
    "crop = 10\n",
    "\n",
    "for dr in durations:\n",
    "    fname = PRE_PATH + '\\\\df_train_' + str(dr) + '.xlsx'\n",
    "    print ('generating', fname, '...')\n",
    "    ds = pd.DataFrame(fr.gen_fragments_dataset(sessions, dr, crop, RAW_PATH))\n",
    "    print('resulting dataset:', len(ds), 'records')\n",
    "    ds.drop('rr', axis=1).to_excel(fname)"
   ]
  },
  {
   "cell_type": "markdown",
   "metadata": {},
   "source": [
    "\n",
    "---\n",
    "\n",
    "\n",
    "# CLASSIFICATION\n",
    "\n",
    "---\n",
    "\n"
   ]
  },
  {
   "cell_type": "code",
   "execution_count": 20,
   "metadata": {},
   "outputs": [],
   "source": [
    "dff = pd.read_excel(PRE_PATH+'\\\\df_train_15.xlsx')"
   ]
  },
  {
   "cell_type": "code",
   "execution_count": 21,
   "metadata": {},
   "outputs": [
    {
     "data": {
      "text/plain": [
       "activity\n",
       "train-baseline     88\n",
       "train-breathe     110\n",
       "train-focus       110\n",
       "Name: start, dtype: int64"
      ]
     },
     "execution_count": 21,
     "metadata": {},
     "output_type": "execute_result"
    }
   ],
   "source": [
    "dff[dff.user==0].groupby('activity').count()['start']"
   ]
  },
  {
   "cell_type": "code",
   "execution_count": 23,
   "metadata": {},
   "outputs": [],
   "source": [
    "dfr = dff[dff.activity.isin(['train-focus', 'train-breathe'])]"
   ]
  },
  {
   "cell_type": "code",
   "execution_count": 24,
   "metadata": {},
   "outputs": [],
   "source": [
    "features = cl.features_all\n",
    "clf1 = RandomForestClassifier(n_estimators=10, n_jobs=-1)\n",
    "clf2 = RandomForestClassifier(n_estimators=100, n_jobs=-1)\n",
    "clf3 = RandomForestClassifier(n_estimators=1000, n_jobs=-1)\n",
    "clf4 = RandomForestClassifier(n_estimators=10000, n_jobs=-1)\n",
    "clf5 = RandomForestClassifier(n_estimators=100000, n_jobs=-1)"
   ]
  },
  {
   "cell_type": "code",
   "execution_count": 28,
   "metadata": {},
   "outputs": [
    {
     "name": "stdout",
     "output_type": "stream",
     "text": [
      "\n",
      "\n",
      "\n",
      "--------------------------------------------- activity ---------------------------------------------\n",
      "activity\n",
      "train-breathe    24\n",
      "train-focus      24\n",
      "Name: user, dtype: int64\n",
      "38 10\n"
     ]
    },
    {
     "data": {
      "application/vnd.plotly.v1+json": {
       "data": [
        {
         "colorscale": [
          [
           0,
           "rgb(165,0,38)"
          ],
          [
           0.1111111111111111,
           "rgb(215,48,39)"
          ],
          [
           0.2222222222222222,
           "rgb(244,109,67)"
          ],
          [
           0.3333333333333333,
           "rgb(253,174,97)"
          ],
          [
           0.4444444444444444,
           "rgb(254,224,144)"
          ],
          [
           0.5555555555555556,
           "rgb(224,243,248)"
          ],
          [
           0.6666666666666666,
           "rgb(171,217,233)"
          ],
          [
           0.7777777777777778,
           "rgb(116,173,209)"
          ],
          [
           0.8888888888888888,
           "rgb(69,117,180)"
          ],
          [
           1,
           "rgb(49,54,149)"
          ]
         ],
         "type": "heatmap",
         "x": [
          "precision",
          "recall",
          "f1"
         ],
         "y": [
          "train-breathe",
          "train-focus"
         ],
         "z": [
          [
           0.5,
           0.75,
           0.6
          ],
          [
           0.75,
           0.5,
           0.6
          ]
         ],
         "zmax": 1,
         "zmin": 0.5
        }
       ],
       "layout": {
        "font": {
         "color": "#333333",
         "size": 16
        },
        "title": "Precision, Recall, F1-score",
        "yaxis": {
         "autorange": "reversed"
        }
       }
      },
      "text/html": [
       "<div id=\"dc5df75f-be04-4083-bb11-bd393a35b4d6\" style=\"height: 525px; width: 100%;\" class=\"plotly-graph-div\"></div><script type=\"text/javascript\">require([\"plotly\"], function(Plotly) { window.PLOTLYENV=window.PLOTLYENV || {};window.PLOTLYENV.BASE_URL=\"https://plot.ly\";Plotly.newPlot(\"dc5df75f-be04-4083-bb11-bd393a35b4d6\", [{\"type\": \"heatmap\", \"z\": [[0.5, 0.75, 0.6], [0.75, 0.5, 0.6]], \"y\": [\"train-breathe\", \"train-focus\"], \"x\": [\"precision\", \"recall\", \"f1\"], \"colorscale\": [[0.0, \"rgb(165,0,38)\"], [0.1111111111111111, \"rgb(215,48,39)\"], [0.2222222222222222, \"rgb(244,109,67)\"], [0.3333333333333333, \"rgb(253,174,97)\"], [0.4444444444444444, \"rgb(254,224,144)\"], [0.5555555555555556, \"rgb(224,243,248)\"], [0.6666666666666666, \"rgb(171,217,233)\"], [0.7777777777777778, \"rgb(116,173,209)\"], [0.8888888888888888, \"rgb(69,117,180)\"], [1.0, \"rgb(49,54,149)\"]], \"zmin\": 0.5, \"zmax\": 1.0}], {\"title\": \"Precision, Recall, F1-score\", \"font\": {\"size\": 16, \"color\": \"#333333\"}, \"yaxis\": {\"autorange\": \"reversed\"}}, {\"showLink\": true, \"linkText\": \"Export to plot.ly\"})});</script>"
      ],
      "text/vnd.plotly.v1+html": [
       "<div id=\"dc5df75f-be04-4083-bb11-bd393a35b4d6\" style=\"height: 525px; width: 100%;\" class=\"plotly-graph-div\"></div><script type=\"text/javascript\">require([\"plotly\"], function(Plotly) { window.PLOTLYENV=window.PLOTLYENV || {};window.PLOTLYENV.BASE_URL=\"https://plot.ly\";Plotly.newPlot(\"dc5df75f-be04-4083-bb11-bd393a35b4d6\", [{\"type\": \"heatmap\", \"z\": [[0.5, 0.75, 0.6], [0.75, 0.5, 0.6]], \"y\": [\"train-breathe\", \"train-focus\"], \"x\": [\"precision\", \"recall\", \"f1\"], \"colorscale\": [[0.0, \"rgb(165,0,38)\"], [0.1111111111111111, \"rgb(215,48,39)\"], [0.2222222222222222, \"rgb(244,109,67)\"], [0.3333333333333333, \"rgb(253,174,97)\"], [0.4444444444444444, \"rgb(254,224,144)\"], [0.5555555555555556, \"rgb(224,243,248)\"], [0.6666666666666666, \"rgb(171,217,233)\"], [0.7777777777777778, \"rgb(116,173,209)\"], [0.8888888888888888, \"rgb(69,117,180)\"], [1.0, \"rgb(49,54,149)\"]], \"zmin\": 0.5, \"zmax\": 1.0}], {\"title\": \"Precision, Recall, F1-score\", \"font\": {\"size\": 16, \"color\": \"#333333\"}, \"yaxis\": {\"autorange\": \"reversed\"}}, {\"showLink\": true, \"linkText\": \"Export to plot.ly\"})});</script>"
      ]
     },
     "metadata": {},
     "output_type": "display_data"
    },
    {
     "data": {
      "application/vnd.plotly.v1+json": {
       "data": [
        {
         "colorscale": [
          [
           0,
           "rgb(255,255,255)"
          ],
          [
           0.1,
           "rgb(190,245,235)"
          ],
          [
           0.2,
           "rgb(170,225,215)"
          ],
          [
           0.3,
           "rgb(150,205,195)"
          ],
          [
           0.4,
           "rgb(130,185,175)"
          ],
          [
           0.5,
           "rgb(110,165,155)"
          ],
          [
           0.6,
           "rgb(90,145,135)"
          ],
          [
           0.7,
           "rgb(70,125,115)"
          ],
          [
           0.8,
           "rgb(50,105,95)"
          ],
          [
           0.9,
           "rgb(30,85,75)"
          ],
          [
           1,
           "rgb(10,65,55)"
          ]
         ],
         "type": "heatmap",
         "x": [
          "train-breathe",
          "train-focus"
         ],
         "y": [
          "train-breathe",
          "train-focus"
         ],
         "z": [
          [
           3,
           1
          ],
          [
           3,
           3
          ]
         ]
        }
       ],
       "layout": {
        "font": {
         "color": "#333333",
         "size": 16
        },
        "title": "Confusion Matrix",
        "xaxis": {
         "title": "predicted",
         "titlefont": {
          "color": "#333333",
          "size": 16
         }
        },
        "yaxis": {
         "autorange": "reversed",
         "title": "true label",
         "titlefont": {
          "color": "#333333",
          "size": 16
         }
        }
       }
      },
      "text/html": [
       "<div id=\"c82decec-d0bd-43f9-a0cf-f068818e5a6d\" style=\"height: 525px; width: 100%;\" class=\"plotly-graph-div\"></div><script type=\"text/javascript\">require([\"plotly\"], function(Plotly) { window.PLOTLYENV=window.PLOTLYENV || {};window.PLOTLYENV.BASE_URL=\"https://plot.ly\";Plotly.newPlot(\"c82decec-d0bd-43f9-a0cf-f068818e5a6d\", [{\"type\": \"heatmap\", \"z\": [[3, 1], [3, 3]], \"x\": [\"train-breathe\", \"train-focus\"], \"y\": [\"train-breathe\", \"train-focus\"], \"colorscale\": [[0.0, \"rgb(255,255,255)\"], [0.1, \"rgb(190,245,235)\"], [0.2, \"rgb(170,225,215)\"], [0.3, \"rgb(150,205,195)\"], [0.4, \"rgb(130,185,175)\"], [0.5, \"rgb(110,165,155)\"], [0.6, \"rgb(90,145,135)\"], [0.7, \"rgb(70,125,115)\"], [0.8, \"rgb(50,105,95)\"], [0.9, \"rgb(30,85,75)\"], [1.0, \"rgb(10,65,55)\"]]}], {\"title\": \"Confusion Matrix\", \"font\": {\"size\": 16, \"color\": \"#333333\"}, \"xaxis\": {\"title\": \"predicted\", \"titlefont\": {\"size\": 16, \"color\": \"#333333\"}}, \"yaxis\": {\"title\": \"true label\", \"titlefont\": {\"size\": 16, \"color\": \"#333333\"}, \"autorange\": \"reversed\"}}, {\"showLink\": true, \"linkText\": \"Export to plot.ly\"})});</script>"
      ],
      "text/vnd.plotly.v1+html": [
       "<div id=\"c82decec-d0bd-43f9-a0cf-f068818e5a6d\" style=\"height: 525px; width: 100%;\" class=\"plotly-graph-div\"></div><script type=\"text/javascript\">require([\"plotly\"], function(Plotly) { window.PLOTLYENV=window.PLOTLYENV || {};window.PLOTLYENV.BASE_URL=\"https://plot.ly\";Plotly.newPlot(\"c82decec-d0bd-43f9-a0cf-f068818e5a6d\", [{\"type\": \"heatmap\", \"z\": [[3, 1], [3, 3]], \"x\": [\"train-breathe\", \"train-focus\"], \"y\": [\"train-breathe\", \"train-focus\"], \"colorscale\": [[0.0, \"rgb(255,255,255)\"], [0.1, \"rgb(190,245,235)\"], [0.2, \"rgb(170,225,215)\"], [0.3, \"rgb(150,205,195)\"], [0.4, \"rgb(130,185,175)\"], [0.5, \"rgb(110,165,155)\"], [0.6, \"rgb(90,145,135)\"], [0.7, \"rgb(70,125,115)\"], [0.8, \"rgb(50,105,95)\"], [0.9, \"rgb(30,85,75)\"], [1.0, \"rgb(10,65,55)\"]]}], {\"title\": \"Confusion Matrix\", \"font\": {\"size\": 16, \"color\": \"#333333\"}, \"xaxis\": {\"title\": \"predicted\", \"titlefont\": {\"size\": 16, \"color\": \"#333333\"}}, \"yaxis\": {\"title\": \"true label\", \"titlefont\": {\"size\": 16, \"color\": \"#333333\"}, \"autorange\": \"reversed\"}}, {\"showLink\": true, \"linkText\": \"Export to plot.ly\"})});</script>"
      ]
     },
     "metadata": {},
     "output_type": "display_data"
    }
   ],
   "source": [
    "for label in ['activity']:\n",
    "    cmc.plot_matrices(dfr[dfr.user.isin([9,10])], clf3, features, label)"
   ]
  },
  {
   "cell_type": "code",
   "execution_count": null,
   "metadata": {},
   "outputs": [],
   "source": []
  },
  {
   "cell_type": "code",
   "execution_count": null,
   "metadata": {},
   "outputs": [],
   "source": []
  },
  {
   "cell_type": "code",
   "execution_count": null,
   "metadata": {},
   "outputs": [],
   "source": []
  }
 ],
 "metadata": {
  "kernelspec": {
   "display_name": "Python 3",
   "language": "python",
   "name": "python3"
  },
  "language_info": {
   "codemirror_mode": {
    "name": "ipython",
    "version": 3
   },
   "file_extension": ".py",
   "mimetype": "text/x-python",
   "name": "python",
   "nbconvert_exporter": "python",
   "pygments_lexer": "ipython3",
   "version": "3.6.3"
  }
 },
 "nbformat": 4,
 "nbformat_minor": 2
}
