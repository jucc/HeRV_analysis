{
 "cells": [
  {
   "cell_type": "code",
   "execution_count": 2,
   "metadata": {
    "collapsed": true
   },
   "outputs": [],
   "source": [
    "%load_ext autoreload\n",
    "%autoreload 2\n",
    "\n",
    "import pandas as pd\n",
    "import numpy as np\n",
    "import matplotlib.pyplot as plt\n",
    "\n",
    "from sklearn import svm\n",
    "from sklearn.preprocessing import scale\n",
    "from sklearn.model_selection import StratifiedShuffleSplit, GridSearchCV, train_test_split\n",
    "\n",
    "import hervpd as hp"
   ]
  },
  {
   "cell_type": "code",
   "execution_count": 3,
   "metadata": {},
   "outputs": [
    {
     "name": "stdout",
     "output_type": "stream",
     "text": [
      "['eat' 'focused-active' 'focused-passive' 'household-chores'\n",
      " 'leisure-active' 'leisure-passive' 'movement' 'sleep' 'rest-active']\n"
     ]
    },
    {
     "data": {
      "text/html": [
       "<div>\n",
       "<style>\n",
       "    .dataframe thead tr:only-child th {\n",
       "        text-align: right;\n",
       "    }\n",
       "\n",
       "    .dataframe thead th {\n",
       "        text-align: left;\n",
       "    }\n",
       "\n",
       "    .dataframe tbody tr th {\n",
       "        vertical-align: top;\n",
       "    }\n",
       "</style>\n",
       "<table border=\"1\" class=\"dataframe\">\n",
       "  <thead>\n",
       "    <tr style=\"text-align: right;\">\n",
       "      <th></th>\n",
       "      <th>user</th>\n",
       "      <th>AVGNN</th>\n",
       "      <th>SDNN</th>\n",
       "      <th>MeanHR</th>\n",
       "      <th>MinHR</th>\n",
       "      <th>MaxHR</th>\n",
       "      <th>RMSSD</th>\n",
       "      <th>pNNxx</th>\n",
       "      <th>TINN</th>\n",
       "      <th>powerVLF</th>\n",
       "      <th>powerLF</th>\n",
       "      <th>powerHF</th>\n",
       "      <th>ratioHFLF</th>\n",
       "    </tr>\n",
       "  </thead>\n",
       "  <tbody>\n",
       "    <tr>\n",
       "      <th>count</th>\n",
       "      <td>544.000000</td>\n",
       "      <td>544.000000</td>\n",
       "      <td>544.000000</td>\n",
       "      <td>544.00000</td>\n",
       "      <td>544.000000</td>\n",
       "      <td>544.000000</td>\n",
       "      <td>544.000000</td>\n",
       "      <td>544.000000</td>\n",
       "      <td>544.000000</td>\n",
       "      <td>544.000000</td>\n",
       "      <td>544.000000</td>\n",
       "      <td>544.000000</td>\n",
       "      <td>544.000000</td>\n",
       "    </tr>\n",
       "    <tr>\n",
       "      <th>mean</th>\n",
       "      <td>1.187500</td>\n",
       "      <td>758.600000</td>\n",
       "      <td>72.865018</td>\n",
       "      <td>81.37714</td>\n",
       "      <td>67.362033</td>\n",
       "      <td>108.560417</td>\n",
       "      <td>46.409227</td>\n",
       "      <td>20.082227</td>\n",
       "      <td>358.020221</td>\n",
       "      <td>2877.387599</td>\n",
       "      <td>1423.919671</td>\n",
       "      <td>1000.824001</td>\n",
       "      <td>2.753764</td>\n",
       "    </tr>\n",
       "    <tr>\n",
       "      <th>std</th>\n",
       "      <td>0.913249</td>\n",
       "      <td>129.785003</td>\n",
       "      <td>32.960406</td>\n",
       "      <td>13.75457</td>\n",
       "      <td>10.849680</td>\n",
       "      <td>36.385572</td>\n",
       "      <td>32.537407</td>\n",
       "      <td>18.316263</td>\n",
       "      <td>146.885899</td>\n",
       "      <td>3619.576847</td>\n",
       "      <td>1443.217366</td>\n",
       "      <td>1841.656665</td>\n",
       "      <td>2.296974</td>\n",
       "    </tr>\n",
       "    <tr>\n",
       "      <th>min</th>\n",
       "      <td>0.000000</td>\n",
       "      <td>475.730000</td>\n",
       "      <td>17.833000</td>\n",
       "      <td>51.62800</td>\n",
       "      <td>41.437000</td>\n",
       "      <td>58.117000</td>\n",
       "      <td>4.882500</td>\n",
       "      <td>0.000000</td>\n",
       "      <td>83.000000</td>\n",
       "      <td>85.654000</td>\n",
       "      <td>57.852000</td>\n",
       "      <td>7.977700</td>\n",
       "      <td>0.154680</td>\n",
       "    </tr>\n",
       "    <tr>\n",
       "      <th>25%</th>\n",
       "      <td>0.000000</td>\n",
       "      <td>670.362500</td>\n",
       "      <td>51.871500</td>\n",
       "      <td>73.23225</td>\n",
       "      <td>60.292750</td>\n",
       "      <td>91.470250</td>\n",
       "      <td>27.438750</td>\n",
       "      <td>6.593075</td>\n",
       "      <td>258.000000</td>\n",
       "      <td>995.182500</td>\n",
       "      <td>591.307500</td>\n",
       "      <td>258.917500</td>\n",
       "      <td>1.257000</td>\n",
       "    </tr>\n",
       "    <tr>\n",
       "      <th>50%</th>\n",
       "      <td>2.000000</td>\n",
       "      <td>750.545000</td>\n",
       "      <td>67.057000</td>\n",
       "      <td>79.94200</td>\n",
       "      <td>66.181500</td>\n",
       "      <td>100.520000</td>\n",
       "      <td>37.994500</td>\n",
       "      <td>15.417500</td>\n",
       "      <td>339.000000</td>\n",
       "      <td>1807.950000</td>\n",
       "      <td>1040.350000</td>\n",
       "      <td>512.090000</td>\n",
       "      <td>2.037350</td>\n",
       "    </tr>\n",
       "    <tr>\n",
       "      <th>75%</th>\n",
       "      <td>2.000000</td>\n",
       "      <td>819.307500</td>\n",
       "      <td>85.820000</td>\n",
       "      <td>89.50400</td>\n",
       "      <td>74.285250</td>\n",
       "      <td>112.580000</td>\n",
       "      <td>54.762250</td>\n",
       "      <td>26.790500</td>\n",
       "      <td>426.250000</td>\n",
       "      <td>3304.250000</td>\n",
       "      <td>1697.950000</td>\n",
       "      <td>960.045000</td>\n",
       "      <td>3.579975</td>\n",
       "    </tr>\n",
       "    <tr>\n",
       "      <th>max</th>\n",
       "      <td>2.000000</td>\n",
       "      <td>1162.200000</td>\n",
       "      <td>264.250000</td>\n",
       "      <td>126.12000</td>\n",
       "      <td>104.900000</td>\n",
       "      <td>550.320000</td>\n",
       "      <td>240.470000</td>\n",
       "      <td>98.232000</td>\n",
       "      <td>1103.000000</td>\n",
       "      <td>29716.000000</td>\n",
       "      <td>12958.000000</td>\n",
       "      <td>16103.000000</td>\n",
       "      <td>18.228000</td>\n",
       "    </tr>\n",
       "  </tbody>\n",
       "</table>\n",
       "</div>"
      ],
      "text/plain": [
       "             user        AVGNN        SDNN     MeanHR       MinHR       MaxHR  \\\n",
       "count  544.000000   544.000000  544.000000  544.00000  544.000000  544.000000   \n",
       "mean     1.187500   758.600000   72.865018   81.37714   67.362033  108.560417   \n",
       "std      0.913249   129.785003   32.960406   13.75457   10.849680   36.385572   \n",
       "min      0.000000   475.730000   17.833000   51.62800   41.437000   58.117000   \n",
       "25%      0.000000   670.362500   51.871500   73.23225   60.292750   91.470250   \n",
       "50%      2.000000   750.545000   67.057000   79.94200   66.181500  100.520000   \n",
       "75%      2.000000   819.307500   85.820000   89.50400   74.285250  112.580000   \n",
       "max      2.000000  1162.200000  264.250000  126.12000  104.900000  550.320000   \n",
       "\n",
       "            RMSSD       pNNxx         TINN      powerVLF       powerLF  \\\n",
       "count  544.000000  544.000000   544.000000    544.000000    544.000000   \n",
       "mean    46.409227   20.082227   358.020221   2877.387599   1423.919671   \n",
       "std     32.537407   18.316263   146.885899   3619.576847   1443.217366   \n",
       "min      4.882500    0.000000    83.000000     85.654000     57.852000   \n",
       "25%     27.438750    6.593075   258.000000    995.182500    591.307500   \n",
       "50%     37.994500   15.417500   339.000000   1807.950000   1040.350000   \n",
       "75%     54.762250   26.790500   426.250000   3304.250000   1697.950000   \n",
       "max    240.470000   98.232000  1103.000000  29716.000000  12958.000000   \n",
       "\n",
       "            powerHF   ratioHFLF  \n",
       "count    544.000000  544.000000  \n",
       "mean    1000.824001    2.753764  \n",
       "std     1841.656665    2.296974  \n",
       "min        7.977700    0.154680  \n",
       "25%      258.917500    1.257000  \n",
       "50%      512.090000    2.037350  \n",
       "75%      960.045000    3.579975  \n",
       "max    16103.000000   18.228000  "
      ]
     },
     "execution_count": 3,
     "metadata": {},
     "output_type": "execute_result"
    }
   ],
   "source": [
    "df = pd.read_csv( 'data/12features/combined.csv')\n",
    "print(df.activity.unique())\n",
    "df.describe()"
   ]
  },
  {
   "cell_type": "code",
   "execution_count": 8,
   "metadata": {},
   "outputs": [
    {
     "data": {
      "text/plain": [
       "activity\n",
       "eat                 53\n",
       "focused-active      88\n",
       "focused-passive     73\n",
       "household-chores    68\n",
       "leisure-active      14\n",
       "leisure-passive     89\n",
       "movement            65\n",
       "rest-active         19\n",
       "sleep               75\n",
       "Name: AVGNN, dtype: int64"
      ]
     },
     "execution_count": 8,
     "metadata": {},
     "output_type": "execute_result"
    }
   ],
   "source": [
    "df.groupby('activity').count()['AVGNN']"
   ]
  },
  {
   "cell_type": "markdown",
   "metadata": {},
   "source": [
    "### Apply scale to make all features go to mean = 0 and SD = 1. That will allow SVM kernels not to put too much weight on features with larger values."
   ]
  },
  {
   "cell_type": "code",
   "execution_count": 13,
   "metadata": {},
   "outputs": [
    {
     "name": "stderr",
     "output_type": "stream",
     "text": [
      "C:\\Users\\julia\\Anaconda3\\lib\\site-packages\\sklearn\\utils\\validation.py:444: DataConversionWarning: Data with input dtype int64 was converted to float64 by the scale function.\n",
      "  warnings.warn(msg, DataConversionWarning)\n",
      "C:\\Users\\julia\\Anaconda3\\lib\\site-packages\\pandas\\core\\indexing.py:517: SettingWithCopyWarning: \n",
      "A value is trying to be set on a copy of a slice from a DataFrame.\n",
      "Try using .loc[row_indexer,col_indexer] = value instead\n",
      "\n",
      "See the caveats in the documentation: http://pandas.pydata.org/pandas-docs/stable/indexing.html#indexing-view-versus-copy\n",
      "  self.obj[item] = s\n"
     ]
    },
    {
     "data": {
      "text/html": [
       "<div>\n",
       "<style>\n",
       "    .dataframe thead tr:only-child th {\n",
       "        text-align: right;\n",
       "    }\n",
       "\n",
       "    .dataframe thead th {\n",
       "        text-align: left;\n",
       "    }\n",
       "\n",
       "    .dataframe tbody tr th {\n",
       "        vertical-align: top;\n",
       "    }\n",
       "</style>\n",
       "<table border=\"1\" class=\"dataframe\">\n",
       "  <thead>\n",
       "    <tr style=\"text-align: right;\">\n",
       "      <th></th>\n",
       "      <th>user</th>\n",
       "      <th>AVGNN</th>\n",
       "      <th>SDNN</th>\n",
       "      <th>MeanHR</th>\n",
       "      <th>MinHR</th>\n",
       "      <th>MaxHR</th>\n",
       "      <th>RMSSD</th>\n",
       "      <th>pNNxx</th>\n",
       "      <th>TINN</th>\n",
       "      <th>powerVLF</th>\n",
       "      <th>powerLF</th>\n",
       "      <th>powerHF</th>\n",
       "      <th>ratioHFLF</th>\n",
       "    </tr>\n",
       "  </thead>\n",
       "  <tbody>\n",
       "    <tr>\n",
       "      <th>count</th>\n",
       "      <td>544.000000</td>\n",
       "      <td>5.440000e+02</td>\n",
       "      <td>5.440000e+02</td>\n",
       "      <td>5.440000e+02</td>\n",
       "      <td>5.440000e+02</td>\n",
       "      <td>5.440000e+02</td>\n",
       "      <td>5.440000e+02</td>\n",
       "      <td>5.440000e+02</td>\n",
       "      <td>5.440000e+02</td>\n",
       "      <td>5.440000e+02</td>\n",
       "      <td>5.440000e+02</td>\n",
       "      <td>5.440000e+02</td>\n",
       "      <td>5.440000e+02</td>\n",
       "    </tr>\n",
       "    <tr>\n",
       "      <th>mean</th>\n",
       "      <td>1.187500</td>\n",
       "      <td>-2.424531e-16</td>\n",
       "      <td>-6.612358e-17</td>\n",
       "      <td>1.183694e-17</td>\n",
       "      <td>5.698056e-16</td>\n",
       "      <td>-2.314325e-16</td>\n",
       "      <td>8.245039e-17</td>\n",
       "      <td>-1.857175e-17</td>\n",
       "      <td>1.714315e-17</td>\n",
       "      <td>3.183728e-17</td>\n",
       "      <td>7.836868e-17</td>\n",
       "      <td>-1.751050e-16</td>\n",
       "      <td>3.673532e-18</td>\n",
       "    </tr>\n",
       "    <tr>\n",
       "      <th>std</th>\n",
       "      <td>0.913249</td>\n",
       "      <td>1.000920e+00</td>\n",
       "      <td>1.000920e+00</td>\n",
       "      <td>1.000920e+00</td>\n",
       "      <td>1.000920e+00</td>\n",
       "      <td>1.000920e+00</td>\n",
       "      <td>1.000920e+00</td>\n",
       "      <td>1.000920e+00</td>\n",
       "      <td>1.000920e+00</td>\n",
       "      <td>1.000920e+00</td>\n",
       "      <td>1.000920e+00</td>\n",
       "      <td>1.000920e+00</td>\n",
       "      <td>1.000920e+00</td>\n",
       "    </tr>\n",
       "    <tr>\n",
       "      <th>min</th>\n",
       "      <td>0.000000</td>\n",
       "      <td>-2.843791e+00</td>\n",
       "      <td>-2.873066e+00</td>\n",
       "      <td>-2.460395e+00</td>\n",
       "      <td>-2.553288e+00</td>\n",
       "      <td>-2.698142e+00</td>\n",
       "      <td>-2.905886e+00</td>\n",
       "      <td>-2.207686e+00</td>\n",
       "      <td>-2.721551e+00</td>\n",
       "      <td>-1.275233e+00</td>\n",
       "      <td>-1.467678e+00</td>\n",
       "      <td>-1.552781e+00</td>\n",
       "      <td>-1.441435e+00</td>\n",
       "    </tr>\n",
       "    <tr>\n",
       "      <th>25%</th>\n",
       "      <td>0.000000</td>\n",
       "      <td>-6.640136e-01</td>\n",
       "      <td>-7.040336e-01</td>\n",
       "      <td>-6.410388e-01</td>\n",
       "      <td>-6.684354e-01</td>\n",
       "      <td>-5.597017e-01</td>\n",
       "      <td>-7.309028e-01</td>\n",
       "      <td>-7.525458e-01</td>\n",
       "      <td>-6.982344e-01</td>\n",
       "      <td>-5.539669e-01</td>\n",
       "      <td>-5.772820e-01</td>\n",
       "      <td>-5.662694e-01</td>\n",
       "      <td>-6.796624e-01</td>\n",
       "    </tr>\n",
       "    <tr>\n",
       "      <th>50%</th>\n",
       "      <td>2.000000</td>\n",
       "      <td>-6.551660e-02</td>\n",
       "      <td>-1.676111e-01</td>\n",
       "      <td>-9.715803e-02</td>\n",
       "      <td>-4.039264e-02</td>\n",
       "      <td>-1.973524e-01</td>\n",
       "      <td>-1.655967e-01</td>\n",
       "      <td>-2.414187e-01</td>\n",
       "      <td>-1.085526e-01</td>\n",
       "      <td>-3.065940e-01</td>\n",
       "      <td>-3.017131e-01</td>\n",
       "      <td>-3.295817e-01</td>\n",
       "      <td>-2.990694e-01</td>\n",
       "    </tr>\n",
       "    <tr>\n",
       "      <th>75%</th>\n",
       "      <td>2.000000</td>\n",
       "      <td>5.280744e-01</td>\n",
       "      <td>4.666745e-01</td>\n",
       "      <td>5.956143e-01</td>\n",
       "      <td>5.992392e-01</td>\n",
       "      <td>4.212228e-01</td>\n",
       "      <td>5.763606e-01</td>\n",
       "      <td>4.514282e-01</td>\n",
       "      <td>5.244985e-01</td>\n",
       "      <td>1.528431e-01</td>\n",
       "      <td>1.965599e-01</td>\n",
       "      <td>3.533213e-01</td>\n",
       "      <td>3.809616e-01</td>\n",
       "    </tr>\n",
       "    <tr>\n",
       "      <th>max</th>\n",
       "      <td>2.000000</td>\n",
       "      <td>3.751426e+00</td>\n",
       "      <td>4.527089e+00</td>\n",
       "      <td>3.880179e+00</td>\n",
       "      <td>5.022477e+00</td>\n",
       "      <td>8.017630e+00</td>\n",
       "      <td>4.081758e+00</td>\n",
       "      <td>4.119800e+00</td>\n",
       "      <td>3.771926e+00</td>\n",
       "      <td>6.268217e+00</td>\n",
       "      <td>5.816620e+00</td>\n",
       "      <td>6.204422e+00</td>\n",
       "      <td>5.978021e+00</td>\n",
       "    </tr>\n",
       "  </tbody>\n",
       "</table>\n",
       "</div>"
      ],
      "text/plain": [
       "             user         AVGNN          SDNN        MeanHR         MinHR  \\\n",
       "count  544.000000  5.440000e+02  5.440000e+02  5.440000e+02  5.440000e+02   \n",
       "mean     1.187500 -2.424531e-16 -6.612358e-17  1.183694e-17  5.698056e-16   \n",
       "std      0.913249  1.000920e+00  1.000920e+00  1.000920e+00  1.000920e+00   \n",
       "min      0.000000 -2.843791e+00 -2.873066e+00 -2.460395e+00 -2.553288e+00   \n",
       "25%      0.000000 -6.640136e-01 -7.040336e-01 -6.410388e-01 -6.684354e-01   \n",
       "50%      2.000000 -6.551660e-02 -1.676111e-01 -9.715803e-02 -4.039264e-02   \n",
       "75%      2.000000  5.280744e-01  4.666745e-01  5.956143e-01  5.992392e-01   \n",
       "max      2.000000  3.751426e+00  4.527089e+00  3.880179e+00  5.022477e+00   \n",
       "\n",
       "              MaxHR         RMSSD         pNNxx          TINN      powerVLF  \\\n",
       "count  5.440000e+02  5.440000e+02  5.440000e+02  5.440000e+02  5.440000e+02   \n",
       "mean  -2.314325e-16  8.245039e-17 -1.857175e-17  1.714315e-17  3.183728e-17   \n",
       "std    1.000920e+00  1.000920e+00  1.000920e+00  1.000920e+00  1.000920e+00   \n",
       "min   -2.698142e+00 -2.905886e+00 -2.207686e+00 -2.721551e+00 -1.275233e+00   \n",
       "25%   -5.597017e-01 -7.309028e-01 -7.525458e-01 -6.982344e-01 -5.539669e-01   \n",
       "50%   -1.973524e-01 -1.655967e-01 -2.414187e-01 -1.085526e-01 -3.065940e-01   \n",
       "75%    4.212228e-01  5.763606e-01  4.514282e-01  5.244985e-01  1.528431e-01   \n",
       "max    8.017630e+00  4.081758e+00  4.119800e+00  3.771926e+00  6.268217e+00   \n",
       "\n",
       "            powerLF       powerHF     ratioHFLF  \n",
       "count  5.440000e+02  5.440000e+02  5.440000e+02  \n",
       "mean   7.836868e-17 -1.751050e-16  3.673532e-18  \n",
       "std    1.000920e+00  1.000920e+00  1.000920e+00  \n",
       "min   -1.467678e+00 -1.552781e+00 -1.441435e+00  \n",
       "25%   -5.772820e-01 -5.662694e-01 -6.796624e-01  \n",
       "50%   -3.017131e-01 -3.295817e-01 -2.990694e-01  \n",
       "75%    1.965599e-01  3.533213e-01  3.809616e-01  \n",
       "max    5.816620e+00  6.204422e+00  5.978021e+00  "
      ]
     },
     "execution_count": 13,
     "metadata": {},
     "output_type": "execute_result"
    }
   ],
   "source": [
    "#df.iloc[:, 3:15] = df.iloc[:, 3:15].apply(lambda x: scale(x))\n",
    "df = hp.scaleWithinUser(df)\n",
    "df.describe()"
   ]
  },
  {
   "cell_type": "markdown",
   "metadata": {},
   "source": [
    "### Test dataset will have 20% of examples, the other 80% will be for training (with cross-validation)"
   ]
  },
  {
   "cell_type": "code",
   "execution_count": 14,
   "metadata": {},
   "outputs": [
    {
     "name": "stdout",
     "output_type": "stream",
     "text": [
      "435 109\n"
     ]
    }
   ],
   "source": [
    "train, test = train_test_split(df, test_size=0.2)\n",
    "print (len(train), len(test))"
   ]
  },
  {
   "cell_type": "markdown",
   "metadata": {},
   "source": [
    "### 3 - Model selection:  Perform an exhaustive search, with k-fold cross-validation,  in the space parameter consisting of:\n",
    "* $C = 10^{i}, com -1 \\leq i \\leq 6$, for both linear and RBF kernels\n",
    "* $\\gamma = 10^{i}, com -3 \\leq i \\leq 3$, for RBF kernel."
   ]
  },
  {
   "cell_type": "code",
   "execution_count": 15,
   "metadata": {
    "collapsed": true
   },
   "outputs": [],
   "source": [
    "crossval = StratifiedShuffleSplit(n_splits=4, test_size=0.2)\n",
    "\n",
    "c_range = np.logspace(-1, 2, 4) \n",
    "gamma_range = np.logspace(-2, 1, 4)\n",
    "\n",
    "param_lin=dict(C=c_range)\n",
    "param_rbf=dict(C=c_range, gamma=gamma_range)\n"
   ]
  },
  {
   "cell_type": "code",
   "execution_count": 20,
   "metadata": {},
   "outputs": [
    {
     "name": "stdout",
     "output_type": "stream",
     "text": [
      "Kernel linear --- \n",
      "Best params: {'C': 10.0} with score 0.43391\n"
     ]
    },
    {
     "ename": "TypeError",
     "evalue": "report() missing 1 required positional argument: 'labelName'",
     "output_type": "error",
     "traceback": [
      "\u001b[1;31m---------------------------------------------------------------------------\u001b[0m",
      "\u001b[1;31mTypeError\u001b[0m                                 Traceback (most recent call last)",
      "\u001b[1;32m<ipython-input-20-a1eeb4881a71>\u001b[0m in \u001b[0;36m<module>\u001b[1;34m()\u001b[0m\n\u001b[0;32m      7\u001b[0m \u001b[0mclf1\u001b[0m \u001b[1;33m=\u001b[0m \u001b[0msvm\u001b[0m\u001b[1;33m.\u001b[0m\u001b[0mSVC\u001b[0m\u001b[1;33m(\u001b[0m\u001b[0mkernel\u001b[0m\u001b[1;33m=\u001b[0m\u001b[1;34m'linear'\u001b[0m\u001b[1;33m,\u001b[0m \u001b[0mcache_size\u001b[0m\u001b[1;33m=\u001b[0m\u001b[1;36m1000\u001b[0m\u001b[1;33m,\u001b[0m \u001b[0mC\u001b[0m\u001b[1;33m=\u001b[0m\u001b[0mgrid_lin\u001b[0m\u001b[1;33m.\u001b[0m\u001b[0mbest_params_\u001b[0m\u001b[1;33m[\u001b[0m\u001b[1;34m'C'\u001b[0m\u001b[1;33m]\u001b[0m\u001b[1;33m)\u001b[0m\u001b[1;33m\u001b[0m\u001b[0m\n\u001b[0;32m      8\u001b[0m \u001b[0mclf1\u001b[0m\u001b[1;33m.\u001b[0m\u001b[0mfit\u001b[0m\u001b[1;33m(\u001b[0m\u001b[0mX\u001b[0m\u001b[1;33m=\u001b[0m\u001b[0mtrain\u001b[0m\u001b[1;33m.\u001b[0m\u001b[0miloc\u001b[0m\u001b[1;33m[\u001b[0m\u001b[1;33m:\u001b[0m\u001b[1;33m,\u001b[0m \u001b[1;36m3\u001b[0m\u001b[1;33m:\u001b[0m\u001b[1;36m15\u001b[0m\u001b[1;33m]\u001b[0m\u001b[1;33m,\u001b[0m \u001b[0my\u001b[0m\u001b[1;33m=\u001b[0m\u001b[0mtrain\u001b[0m\u001b[1;33m[\u001b[0m\u001b[1;34m'activity'\u001b[0m\u001b[1;33m]\u001b[0m\u001b[1;33m)\u001b[0m\u001b[1;33m\u001b[0m\u001b[0m\n\u001b[1;32m----> 9\u001b[1;33m \u001b[0mhp\u001b[0m\u001b[1;33m.\u001b[0m\u001b[0mreport\u001b[0m\u001b[1;33m(\u001b[0m\u001b[0mtest\u001b[0m\u001b[1;33m[\u001b[0m\u001b[1;34m'activity'\u001b[0m\u001b[1;33m]\u001b[0m\u001b[1;33m.\u001b[0m\u001b[0mvalues\u001b[0m\u001b[1;33m,\u001b[0m \u001b[0mclf1\u001b[0m\u001b[1;33m.\u001b[0m\u001b[0mpredict\u001b[0m\u001b[1;33m(\u001b[0m\u001b[0mtest\u001b[0m\u001b[1;33m.\u001b[0m\u001b[0miloc\u001b[0m\u001b[1;33m[\u001b[0m\u001b[1;33m:\u001b[0m\u001b[1;33m,\u001b[0m \u001b[1;36m3\u001b[0m\u001b[1;33m:\u001b[0m\u001b[1;36m15\u001b[0m\u001b[1;33m]\u001b[0m\u001b[1;33m)\u001b[0m\u001b[1;33m)\u001b[0m\u001b[1;33m\u001b[0m\u001b[0m\n\u001b[0m",
      "\u001b[1;31mTypeError\u001b[0m: report() missing 1 required positional argument: 'labelName'"
     ]
    }
   ],
   "source": [
    "grid_lin = GridSearchCV(svm.SVC(kernel='linear', cache_size=1000), param_grid=param_lin, cv=crossval)\n",
    "grid_lin.fit(X=train.iloc[:, 3:15], y=train['activity'])\n",
    "\n",
    "print(\"Kernel linear --- \")\n",
    "print(\"Best params: %s with score %0.5f\" % (grid_lin.best_params_, grid_lin.best_score_))\n",
    "\n",
    "clf1 = svm.SVC(kernel='linear', cache_size=1000, C=grid_lin.best_params_['C'])\n",
    "clf1.fit(X=train.iloc[:, 3:15], y=train['activity'])\n",
    "hp.report(test, clf1.predict(test.iloc[:, 3:15]))"
   ]
  },
  {
   "cell_type": "code",
   "execution_count": 17,
   "metadata": {},
   "outputs": [
    {
     "name": "stdout",
     "output_type": "stream",
     "text": [
      "Kernel RBF --- \n",
      "Best params: {'C': 100.0, 'gamma': 0.01} with score 0.42529\n"
     ]
    }
   ],
   "source": [
    "grid_rbf = GridSearchCV(svm.SVC(kernel='rbf', cache_size=1000), param_grid=param_rbf, cv=crossval)\n",
    "grid_rbf.fit(X=train.iloc[:, 3:15], y=train['activity'])\n",
    "\n",
    "print(\"Kernel RBF --- \")\n",
    "print(\"Best params: %s with score %0.5f\" % (grid_rbf.best_params_, grid_rbf.best_score_))"
   ]
  },
  {
   "cell_type": "code",
   "execution_count": 18,
   "metadata": {},
   "outputs": [
    {
     "ename": "AttributeError",
     "evalue": "module 'hervpd' has no attribute 'printResults'",
     "output_type": "error",
     "traceback": [
      "\u001b[1;31m---------------------------------------------------------------------------\u001b[0m",
      "\u001b[1;31mAttributeError\u001b[0m                            Traceback (most recent call last)",
      "\u001b[1;32m<ipython-input-18-1304d387c27e>\u001b[0m in \u001b[0;36m<module>\u001b[1;34m()\u001b[0m\n\u001b[0;32m      1\u001b[0m \u001b[0mclf1\u001b[0m \u001b[1;33m=\u001b[0m \u001b[0msvm\u001b[0m\u001b[1;33m.\u001b[0m\u001b[0mSVC\u001b[0m\u001b[1;33m(\u001b[0m\u001b[0mkernel\u001b[0m\u001b[1;33m=\u001b[0m\u001b[1;34m'linear'\u001b[0m\u001b[1;33m,\u001b[0m \u001b[0mcache_size\u001b[0m\u001b[1;33m=\u001b[0m\u001b[1;36m1000\u001b[0m\u001b[1;33m,\u001b[0m \u001b[0mC\u001b[0m\u001b[1;33m=\u001b[0m\u001b[0mgrid_lin\u001b[0m\u001b[1;33m.\u001b[0m\u001b[0mbest_params_\u001b[0m\u001b[1;33m[\u001b[0m\u001b[1;34m'C'\u001b[0m\u001b[1;33m]\u001b[0m\u001b[1;33m)\u001b[0m\u001b[1;33m\u001b[0m\u001b[0m\n\u001b[0;32m      2\u001b[0m \u001b[0mclf1\u001b[0m\u001b[1;33m.\u001b[0m\u001b[0mfit\u001b[0m\u001b[1;33m(\u001b[0m\u001b[0mX\u001b[0m\u001b[1;33m=\u001b[0m\u001b[0mtrain\u001b[0m\u001b[1;33m.\u001b[0m\u001b[0miloc\u001b[0m\u001b[1;33m[\u001b[0m\u001b[1;33m:\u001b[0m\u001b[1;33m,\u001b[0m \u001b[1;36m3\u001b[0m\u001b[1;33m:\u001b[0m\u001b[1;36m15\u001b[0m\u001b[1;33m]\u001b[0m\u001b[1;33m,\u001b[0m \u001b[0my\u001b[0m\u001b[1;33m=\u001b[0m\u001b[0mtrain\u001b[0m\u001b[1;33m[\u001b[0m\u001b[1;34m'activity'\u001b[0m\u001b[1;33m]\u001b[0m\u001b[1;33m)\u001b[0m\u001b[1;33m\u001b[0m\u001b[0m\n\u001b[1;32m----> 3\u001b[1;33m \u001b[0mhp\u001b[0m\u001b[1;33m.\u001b[0m\u001b[0mprintResults\u001b[0m\u001b[1;33m(\u001b[0m\u001b[0mtest\u001b[0m\u001b[1;33m[\u001b[0m\u001b[1;34m'activity'\u001b[0m\u001b[1;33m]\u001b[0m\u001b[1;33m.\u001b[0m\u001b[0mvalues\u001b[0m\u001b[1;33m,\u001b[0m \u001b[0mclf1\u001b[0m\u001b[1;33m.\u001b[0m\u001b[0mpredict\u001b[0m\u001b[1;33m(\u001b[0m\u001b[0mtest\u001b[0m\u001b[1;33m.\u001b[0m\u001b[0miloc\u001b[0m\u001b[1;33m[\u001b[0m\u001b[1;33m:\u001b[0m\u001b[1;33m,\u001b[0m \u001b[1;36m3\u001b[0m\u001b[1;33m:\u001b[0m\u001b[1;36m15\u001b[0m\u001b[1;33m]\u001b[0m\u001b[1;33m)\u001b[0m\u001b[1;33m)\u001b[0m\u001b[1;33m\u001b[0m\u001b[0m\n\u001b[0m\u001b[0;32m      4\u001b[0m \u001b[1;33m\u001b[0m\u001b[0m\n\u001b[0;32m      5\u001b[0m \u001b[0mclf2\u001b[0m \u001b[1;33m=\u001b[0m \u001b[0msvm\u001b[0m\u001b[1;33m.\u001b[0m\u001b[0mSVC\u001b[0m\u001b[1;33m(\u001b[0m\u001b[0mkernel\u001b[0m\u001b[1;33m=\u001b[0m\u001b[1;34m'rbf'\u001b[0m\u001b[1;33m,\u001b[0m \u001b[0mcache_size\u001b[0m\u001b[1;33m=\u001b[0m\u001b[1;36m1000\u001b[0m\u001b[1;33m,\u001b[0m \u001b[0mC\u001b[0m\u001b[1;33m=\u001b[0m\u001b[0mgrid_rbf\u001b[0m\u001b[1;33m.\u001b[0m\u001b[0mbest_params_\u001b[0m\u001b[1;33m[\u001b[0m\u001b[1;34m'C'\u001b[0m\u001b[1;33m]\u001b[0m\u001b[1;33m,\u001b[0m \u001b[0mgamma\u001b[0m\u001b[1;33m=\u001b[0m\u001b[0mgrid_rbf\u001b[0m\u001b[1;33m.\u001b[0m\u001b[0mbest_params_\u001b[0m\u001b[1;33m[\u001b[0m\u001b[1;34m'gamma'\u001b[0m\u001b[1;33m]\u001b[0m\u001b[1;33m)\u001b[0m\u001b[1;33m\u001b[0m\u001b[0m\n",
      "\u001b[1;31mAttributeError\u001b[0m: module 'hervpd' has no attribute 'printResults'"
     ]
    }
   ],
   "source": [
    "\n",
    "\n",
    "clf2 = svm.SVC(kernel='rbf', cache_size=1000, C=grid_rbf.best_params_['C'], gamma=grid_rbf.best_params_['gamma'])\n",
    "clf2.fit(X=train.iloc[:, 3:15], y=train['activity'])\n",
    "hp.printResults(test['activity'].values, clf1.predict(test.iloc[:, 3:15]))"
   ]
  },
  {
   "cell_type": "markdown",
   "metadata": {},
   "source": [
    "\n",
    "## Now, we can run the same steps above with multiple experiments! Time to have fun!!"
   ]
  },
  {
   "cell_type": "code",
   "execution_count": null,
   "metadata": {
    "scrolled": true
   },
   "outputs": [],
   "source": [
    "# exclude from df activities with too few examples\n",
    "\n",
    "df = pd.read_csv( 'data/12features/combined.csv')\n",
    "df = hp.excludeActivities(df, ['leisure-active',  'rest-active'])\n",
    "hp.runFlow(df)"
   ]
  },
  {
   "cell_type": "code",
   "execution_count": null,
   "metadata": {},
   "outputs": [],
   "source": [
    "hp.runFlowByUser(df)"
   ]
  },
  {
   "cell_type": "markdown",
   "metadata": {},
   "source": [
    "### 2 - Removing activities from the list"
   ]
  },
  {
   "cell_type": "code",
   "execution_count": null,
   "metadata": {},
   "outputs": [],
   "source": [
    "df_reduced = hp.filterActivities(df, ['focused-active', 'focused-passive', 'leisure-passive'])\n",
    "df_reduced.groupby('activity').count()['user']"
   ]
  },
  {
   "cell_type": "code",
   "execution_count": null,
   "metadata": {},
   "outputs": [],
   "source": [
    "hp.runFlow(df_reduced)"
   ]
  },
  {
   "cell_type": "code",
   "execution_count": null,
   "metadata": {},
   "outputs": [],
   "source": [
    "hp.runFlowByUser(df_reduced)"
   ]
  },
  {
   "cell_type": "markdown",
   "metadata": {},
   "source": [
    "### 1 - All activities per user"
   ]
  },
  {
   "cell_type": "code",
   "execution_count": null,
   "metadata": {},
   "outputs": [],
   "source": [
    "hp.runFlow(ju)"
   ]
  },
  {
   "cell_type": "code",
   "execution_count": null,
   "metadata": {},
   "outputs": [],
   "source": [
    "hp.runFlow(ron)"
   ]
  },
  {
   "cell_type": "code",
   "execution_count": null,
   "metadata": {},
   "outputs": [],
   "source": [
    "hp.runFlow(edu)"
   ]
  },
  {
   "cell_type": "markdown",
   "metadata": {},
   "source": [
    "### 2 - Splitting database into movement categories (movement, household chores and exercise) and all others"
   ]
  },
  {
   "cell_type": "code",
   "execution_count": null,
   "metadata": {},
   "outputs": [],
   "source": [
    "includelist = ['movement', 'household-chores']\n",
    "\n",
    "df_move = hp.addPartition(df, includelist, pname='move', labelIn='move', labelOut='still')\n",
    "df_move.groupby('move').count()['user']"
   ]
  },
  {
   "cell_type": "code",
   "execution_count": null,
   "metadata": {},
   "outputs": [],
   "source": [
    "hp.runFlow(df_move, labelName='move')"
   ]
  },
  {
   "cell_type": "code",
   "execution_count": null,
   "metadata": {
    "collapsed": true
   },
   "outputs": [],
   "source": [
    "jumove = hp.addPartition(ju, includelist, pname='move', labelIn='move', labelOut='still')\n",
    "hp.runFlow(jumove, labelName='move')"
   ]
  },
  {
   "cell_type": "code",
   "execution_count": null,
   "metadata": {
    "collapsed": true
   },
   "outputs": [],
   "source": [
    "edumove = hp.addPartition(edu, includelist, pname='move', labelIn='move', labelOut='still')\n",
    "hp.runFlow(edumove, labelName='move')"
   ]
  },
  {
   "cell_type": "code",
   "execution_count": null,
   "metadata": {
    "collapsed": true
   },
   "outputs": [],
   "source": [
    "ronmove = hp.addPartition(ron, includelist, pname='move', labelIn='move', labelOut='still')\n",
    "hp.runFlow(ronmove, labelName='move')"
   ]
  },
  {
   "cell_type": "code",
   "execution_count": null,
   "metadata": {
    "collapsed": true
   },
   "outputs": [],
   "source": [
    "includelist\n",
    "dfnomove = hp.excludeActivities(df, includelist)\n",
    "dfnomove.describe()\n",
    "hp.runFlow(dfnomove)"
   ]
  },
  {
   "cell_type": "code",
   "execution_count": null,
   "metadata": {
    "collapsed": true
   },
   "outputs": [],
   "source": [
    "[x for x in df['activity']]"
   ]
  },
  {
   "cell_type": "code",
   "execution_count": null,
   "metadata": {
    "collapsed": true
   },
   "outputs": [],
   "source": []
  }
 ],
 "metadata": {
  "kernelspec": {
   "display_name": "Python 3",
   "language": "python",
   "name": "python3"
  },
  "language_info": {
   "codemirror_mode": {
    "name": "ipython",
    "version": 3
   },
   "file_extension": ".py",
   "mimetype": "text/x-python",
   "name": "python",
   "nbconvert_exporter": "python",
   "pygments_lexer": "ipython3",
   "version": "3.6.2"
  }
 },
 "nbformat": 4,
 "nbformat_minor": 2
}
