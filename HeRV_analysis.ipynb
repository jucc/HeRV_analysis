{
 "cells": [
  {
   "cell_type": "code",
   "execution_count": 1,
   "metadata": {
    "collapsed": true
   },
   "outputs": [],
   "source": [
    "import numpy as np\n",
    "import matplotlib.pyplot as plt\n",
    "\n",
    "from sklearn import svm\n",
    "from sklearn import preprocessing\n",
    "\n",
    "from sklearn.model_selection import StratifiedShuffleSplit\n",
    "from sklearn.model_selection import GridSearchCV"
   ]
  },
  {
   "cell_type": "code",
   "execution_count": 17,
   "metadata": {},
   "outputs": [],
   "source": [
    "filename = 'data/5m_sessions_e.csv'\n",
    "k = 5 # k-fold cross validation (one in each k examples will be used for validation, the others for training)\n",
    "dtype = \"i4,U20,U5,U20,i4,f4,f4,f4,f4,f4,f4,f4,f4,f4,f4,f4,f4,f4,f4,f4,f4,f4,f4\"\n",
    "\n",
    "ufeatures=['AVGNN','SDNN','MeanHR','SDHR','MinHR','MaxHR','RMSSD','NNxx','pNNxx', 'triangularindex', 'TINN', 'powerVLF', 'powerLF', 'powerHF', 'ratioHFLF', 'peakVLF', 'peakLF', 'peakHF']"
   ]
  },
  {
   "cell_type": "markdown",
   "metadata": {},
   "source": [
    "## 1 - Extract data from the csv file and split it into labels and features"
   ]
  },
  {
   "cell_type": "code",
   "execution_count": 26,
   "metadata": {},
   "outputs": [
    {
     "name": "stdout",
     "output_type": "stream",
     "text": [
      "(80, 18)\n",
      "[  8.14640015e+02   1.08330002e+02   7.36529999e+01   1.00660000e+01\n",
      "   5.97610016e+01   9.63389969e+01   6.15859985e+01   7.00000000e+01\n",
      "   1.90739994e+01   2.16469994e+01   5.64000000e+02   3.33330002e+01\n",
      "   7.33330002e+01   1.66669998e+01   7.05139990e+03   2.93100000e+03\n",
      "   1.40080005e+03   2.09249997e+00]\n",
      "[ 0.42806569  1.56054117 -0.51048175  1.14879498 -0.73261908 -0.36383086\n",
      "  1.50011515  0.49961835  0.00411719  1.74606166  2.02311773  0.12547196\n",
      "  0.92162999 -0.91052734  1.19628021  2.37367284  1.62506163 -0.46223849]\n",
      "['eat' 'focused-active' 'focused-passive' 'household-chores'\n",
      " 'leisure-passive' 'movement' 'rest-active' 'sleep']\n",
      "['lie' 'sit' 'stand']\n"
     ]
    }
   ],
   "source": [
    "data = np.genfromtxt(filename, delimiter=',', dtype=dtype, names=True) \n",
    "\n",
    "activities = np.array([x[1] for x in data])\n",
    "postures = np.array([x[2] for x in data])\n",
    "features = np.array([x.tolist()[5:25] for x in data])\n",
    "\n",
    "print(features.shape)\n",
    "\n",
    "print (features[0])\n",
    "features = preprocessing.scale(features)\n",
    "print (features[0])\n",
    "\n",
    "print(np.unique(activities))\n",
    "print(np.unique(postures))"
   ]
  },
  {
   "cell_type": "code",
   "execution_count": null,
   "metadata": {
    "collapsed": true
   },
   "outputs": [],
   "source": [
    "map(lambda x: 'stand' if )"
   ]
  },
  {
   "cell_type": "markdown",
   "metadata": {},
   "source": [
    "## 2 - split into test and train datasets (balanced by label)"
   ]
  },
  {
   "cell_type": "code",
   "execution_count": 23,
   "metadata": {},
   "outputs": [
    {
     "name": "stdout",
     "output_type": "stream",
     "text": [
      "lie: 10 examples (8 for train and 2 for test)\n",
      "sit: 53 examples (43 for train and 10 for test)\n",
      "stand: 17 examples (14 for train and 3 for test)\n",
      "\n",
      "Total: 65 train examples and 15 test examples \n"
     ]
    }
   ],
   "source": [
    "dic = [{'label': label, 'features': features[labels==label]} for label in np.unique(labels)]\n",
    "\n",
    "def validateLen (a, b, c):\n",
    "    return a == len(b) and a == len(c)\n",
    "\n",
    "testlabels  = []\n",
    "trainlabels = []\n",
    "testfeatures  = []\n",
    "trainfeatures = []\n",
    "\n",
    "for activity in dic:\n",
    "    n = len(activity['features'])\n",
    "    n_test = int(n/k)\n",
    "    n_train = n - n_test    \n",
    "    ltest = [activity['label'] for i in range(n_test)]\n",
    "    ltrain = [activity['label'] for i in range(n_train)]\n",
    "    ftest = activity['features'][0:n_test]\n",
    "    ftrain = activity['features'][n_test:n]\n",
    "    if not validateLen(n_train, ltrain, ftrain) or not validateLen(n_test, ltest, ftest):\n",
    "        print (\"Error in len of train and test sets\")\n",
    "        break\n",
    "    print (\"%s: %d examples (%d for train and %d for test)\"%(activity['label'], n, n_train, n_test))\n",
    "    testlabels.extend(ltest)\n",
    "    trainlabels.extend(ltrain)\n",
    "    testfeatures.extend(ftest)\n",
    "    trainfeatures.extend(ftrain)\n",
    "   \n",
    " \n",
    "print(\"\\nTotal: %d train examples and %d test examples \"%(len(trainfeatures), len(testfeatures)))"
   ]
  },
  {
   "cell_type": "code",
   "execution_count": 24,
   "metadata": {
    "collapsed": true
   },
   "outputs": [],
   "source": [
    "def printResults(expected, result):\n",
    "    print(\"expected\\t\\tresult\")\n",
    "    print(\"------------------------------\")\n",
    "    correct = 0\n",
    "    for i in range(len(expected)):\n",
    "        print (\"%s\\t\\t%s\"%(expected[i], result[i]))\n",
    "        if expected[i] == result[i]:\n",
    "            correct += 1\n",
    "    print(\"Got %d out of %d right! :)\"%(correct,len(testlabels)))"
   ]
  },
  {
   "cell_type": "markdown",
   "metadata": {},
   "source": [
    "## 3 - apply classifier (raw)"
   ]
  },
  {
   "cell_type": "code",
   "execution_count": 25,
   "metadata": {},
   "outputs": [
    {
     "name": "stdout",
     "output_type": "stream",
     "text": [
      "Linear Kernel, C=1\n",
      "\n",
      "expected\t\tresult\n",
      "------------------------------\n",
      "lie\t\tsit\n",
      "lie\t\tsit\n",
      "sit\t\tsit\n",
      "sit\t\tsit\n",
      "sit\t\tsit\n",
      "sit\t\tsit\n",
      "sit\t\tsit\n",
      "sit\t\tsit\n",
      "sit\t\tstand\n",
      "sit\t\tlie\n",
      "sit\t\tlie\n",
      "sit\t\tsit\n",
      "stand\t\tsit\n",
      "stand\t\tsit\n",
      "stand\t\tsit\n",
      "Got 7 out of 15 right! :)\n",
      "\n",
      "\n",
      "\n",
      "RBF Kernel, C=1, gamma=0.001\n",
      "\n",
      "expected\t\tresult\n",
      "------------------------------\n",
      "lie\t\tsit\n",
      "lie\t\tsit\n",
      "sit\t\tsit\n",
      "sit\t\tsit\n",
      "sit\t\tsit\n",
      "sit\t\tsit\n",
      "sit\t\tsit\n",
      "sit\t\tsit\n",
      "sit\t\tsit\n",
      "sit\t\tsit\n",
      "sit\t\tsit\n",
      "sit\t\tsit\n",
      "stand\t\tsit\n",
      "stand\t\tstand\n",
      "stand\t\tsit\n",
      "Got 11 out of 15 right! :)\n"
     ]
    }
   ],
   "source": [
    "clf1 = svm.SVC(kernel='linear', cache_size=1000, C=1)\n",
    "clf1.fit(X=trainfeatures, y=trainlabels)\n",
    "\n",
    "print (\"Linear Kernel, C=1\\n\")\n",
    "printResults(testlabels, clf1.predict(testfeatures))\n",
    "\n",
    "clf2 = svm.SVC(kernel='rbf', cache_size=1000, C=1, gamma=0.01)\n",
    "clf2.fit(X=trainfeatures, y=trainlabels)\n",
    "\n",
    "print (\"\\n\\n\\nRBF Kernel, C=1, gamma=0.001\\n\")\n",
    "printResults(testlabels, clf2.predict(testfeatures))"
   ]
  },
  {
   "cell_type": "code",
   "execution_count": null,
   "metadata": {
    "collapsed": true
   },
   "outputs": [],
   "source": []
  }
 ],
 "metadata": {
  "kernelspec": {
   "display_name": "Python 3",
   "language": "python",
   "name": "python3"
  },
  "language_info": {
   "codemirror_mode": {
    "name": "ipython",
    "version": 3
   },
   "file_extension": ".py",
   "mimetype": "text/x-python",
   "name": "python",
   "nbconvert_exporter": "python",
   "pygments_lexer": "ipython3",
   "version": "3.6.2"
  }
 },
 "nbformat": 4,
 "nbformat_minor": 2
}
