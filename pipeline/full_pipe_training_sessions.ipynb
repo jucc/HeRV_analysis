{
 "cells": [
  {
   "cell_type": "code",
   "execution_count": 35,
   "metadata": {},
   "outputs": [
    {
     "name": "stdout",
     "output_type": "stream",
     "text": [
      "The autoreload extension is already loaded. To reload it, use:\n",
      "  %reload_ext autoreload\n"
     ]
    },
    {
     "data": {
      "text/html": [
       "<script>requirejs.config({paths: { 'plotly': ['https://cdn.plot.ly/plotly-latest.min']},});if(!window.Plotly) {{require(['plotly'],function(plotly) {window.Plotly=plotly;});}}</script>"
      ],
      "text/vnd.plotly.v1+html": [
       "<script>requirejs.config({paths: { 'plotly': ['https://cdn.plot.ly/plotly-latest.min']},});if(!window.Plotly) {{require(['plotly'],function(plotly) {window.Plotly=plotly;});}}</script>"
      ]
     },
     "metadata": {},
     "output_type": "display_data"
    }
   ],
   "source": [
    "%load_ext autoreload\n",
    "%autoreload 2\n",
    "%matplotlib inline  \n",
    "\n",
    "import pandas as pd\n",
    "import numpy as np\n",
    "\n",
    "from datetime import datetime, timedelta\n",
    "\n",
    "import plotly.offline as pl\n",
    "pl.init_notebook_mode(connected=True)\n",
    "import plotly.graph_objs as go\n",
    "\n",
    "from sklearn.ensemble import RandomForestClassifier\n",
    "\n",
    "\n",
    "import parseIntervalFiles as pif\n",
    "import parseActivityFiles as paf\n",
    "#pun intended :)\n",
    "import consolidateFiles as cf\n",
    "import datacleaning as cl\n",
    "import dataviz as dv\n",
    "import fragmentation as fr\n",
    "import classif_multiclass as cmc\n",
    "import hervpd as hp"
   ]
  },
  {
   "cell_type": "markdown",
   "metadata": {},
   "source": [
    "## ! Parse activity files and parse interval files are to be replaced with the corresponding database queries as soon as they are available "
   ]
  },
  {
   "cell_type": "markdown",
   "metadata": {},
   "source": [
    "## 0 - Pipeline configuration \n",
    "* set the input/output directories, user id and verbose level"
   ]
  },
  {
   "cell_type": "code",
   "execution_count": 2,
   "metadata": {},
   "outputs": [],
   "source": [
    "verbose = True\n",
    "    \n",
    "DATA_PATH = \"C:\\\\Users\\\\ju\\\\GDrive\\\\Projects\\\\HeRV\\\\Data\\\\\" \n",
    "# DATA_PATH = \"/home/ju/GDrive/Projects/HeRV/Data/\"\n",
    "    \n",
    "RAW_PATH = DATA_PATH + \"Raw\"\n",
    "PRE_PATH = DATA_PATH + \"PreProcessed\"     "
   ]
  },
  {
   "cell_type": "markdown",
   "metadata": {},
   "source": [
    "## Extracting sessions"
   ]
  },
  {
   "cell_type": "code",
   "execution_count": 3,
   "metadata": {},
   "outputs": [],
   "source": [
    "sess = [x for x in paf.get_user_sessions(0, dirname=RAW_PATH, verbose=False) if x['start'] > datetime(2018, 6, 1)]"
   ]
  },
  {
   "cell_type": "code",
   "execution_count": 4,
   "metadata": {},
   "outputs": [],
   "source": [
    "sess = cf.sessions_add_beats(sessions=sess, dirname=RAW_PATH+\"\\\\0\", verbose=False)"
   ]
  },
  {
   "cell_type": "code",
   "execution_count": 5,
   "metadata": {},
   "outputs": [],
   "source": [
    "df = pd.DataFrame(sess)"
   ]
  },
  {
   "cell_type": "code",
   "execution_count": 6,
   "metadata": {},
   "outputs": [],
   "source": [
    "df = df[df.activity.isin(['train-baseline', 'train-focus', 'train-breathe'])]"
   ]
  },
  {
   "cell_type": "markdown",
   "metadata": {},
   "source": [
    "### Include column with beats count for ease of use "
   ]
  },
  {
   "cell_type": "code",
   "execution_count": 7,
   "metadata": {},
   "outputs": [],
   "source": [
    "df['beatscount'] = df['rr'].apply(len)"
   ]
  },
  {
   "cell_type": "markdown",
   "metadata": {},
   "source": [
    "### Removing outliers"
   ]
  },
  {
   "cell_type": "code",
   "execution_count": 8,
   "metadata": {},
   "outputs": [],
   "source": [
    "df['rr'] = df['rr'].apply(cl.clean_rr_series)"
   ]
  },
  {
   "cell_type": "code",
   "execution_count": 9,
   "metadata": {},
   "outputs": [],
   "source": [
    "df['beatscount_clean'] = df['rr'].apply(len)"
   ]
  },
  {
   "cell_type": "code",
   "execution_count": 10,
   "metadata": {},
   "outputs": [],
   "source": [
    "df['removed_artifacts'] = df['beatscount'] - df['beatscount_clean']\n",
    "df['beatscount'] = df['beatscount_clean']\n",
    "df = df.drop(['beatscount_clean'], axis=1)"
   ]
  },
  {
   "cell_type": "code",
   "execution_count": 11,
   "metadata": {},
   "outputs": [
    {
     "data": {
      "text/html": [
       "<div>\n",
       "<style>\n",
       "    .dataframe thead tr:only-child th {\n",
       "        text-align: right;\n",
       "    }\n",
       "\n",
       "    .dataframe thead th {\n",
       "        text-align: left;\n",
       "    }\n",
       "\n",
       "    .dataframe tbody tr th {\n",
       "        vertical-align: top;\n",
       "    }\n",
       "</style>\n",
       "<table border=\"1\" class=\"dataframe\">\n",
       "  <thead>\n",
       "    <tr style=\"text-align: right;\">\n",
       "      <th></th>\n",
       "      <th>duration</th>\n",
       "      <th>user</th>\n",
       "      <th>beatscount</th>\n",
       "      <th>removed_artifacts</th>\n",
       "    </tr>\n",
       "  </thead>\n",
       "  <tbody>\n",
       "    <tr>\n",
       "      <th>count</th>\n",
       "      <td>34.000000</td>\n",
       "      <td>34.0</td>\n",
       "      <td>34.000000</td>\n",
       "      <td>34.000000</td>\n",
       "    </tr>\n",
       "    <tr>\n",
       "      <th>mean</th>\n",
       "      <td>134.000000</td>\n",
       "      <td>0.0</td>\n",
       "      <td>182.588235</td>\n",
       "      <td>0.970588</td>\n",
       "    </tr>\n",
       "    <tr>\n",
       "      <th>std</th>\n",
       "      <td>9.620055</td>\n",
       "      <td>0.0</td>\n",
       "      <td>14.873441</td>\n",
       "      <td>1.992186</td>\n",
       "    </tr>\n",
       "    <tr>\n",
       "      <th>min</th>\n",
       "      <td>115.000000</td>\n",
       "      <td>0.0</td>\n",
       "      <td>154.000000</td>\n",
       "      <td>0.000000</td>\n",
       "    </tr>\n",
       "    <tr>\n",
       "      <th>25%</th>\n",
       "      <td>129.250000</td>\n",
       "      <td>0.0</td>\n",
       "      <td>168.250000</td>\n",
       "      <td>0.000000</td>\n",
       "    </tr>\n",
       "    <tr>\n",
       "      <th>50%</th>\n",
       "      <td>133.000000</td>\n",
       "      <td>0.0</td>\n",
       "      <td>183.500000</td>\n",
       "      <td>0.000000</td>\n",
       "    </tr>\n",
       "    <tr>\n",
       "      <th>75%</th>\n",
       "      <td>137.000000</td>\n",
       "      <td>0.0</td>\n",
       "      <td>190.000000</td>\n",
       "      <td>1.000000</td>\n",
       "    </tr>\n",
       "    <tr>\n",
       "      <th>max</th>\n",
       "      <td>171.000000</td>\n",
       "      <td>0.0</td>\n",
       "      <td>212.000000</td>\n",
       "      <td>10.000000</td>\n",
       "    </tr>\n",
       "  </tbody>\n",
       "</table>\n",
       "</div>"
      ],
      "text/plain": [
       "         duration  user  beatscount  removed_artifacts\n",
       "count   34.000000  34.0   34.000000          34.000000\n",
       "mean   134.000000   0.0  182.588235           0.970588\n",
       "std      9.620055   0.0   14.873441           1.992186\n",
       "min    115.000000   0.0  154.000000           0.000000\n",
       "25%    129.250000   0.0  168.250000           0.000000\n",
       "50%    133.000000   0.0  183.500000           0.000000\n",
       "75%    137.000000   0.0  190.000000           1.000000\n",
       "max    171.000000   0.0  212.000000          10.000000"
      ]
     },
     "execution_count": 11,
     "metadata": {},
     "output_type": "execute_result"
    }
   ],
   "source": [
    "df.describe()"
   ]
  },
  {
   "cell_type": "markdown",
   "metadata": {},
   "source": [
    "### Removing sessions without beats recorded or with too few of them"
   ]
  },
  {
   "cell_type": "code",
   "execution_count": 12,
   "metadata": {},
   "outputs": [
    {
     "name": "stdout",
     "output_type": "stream",
     "text": [
      "0  sessions out of 34 removed for lack of interval data\n"
     ]
    }
   ],
   "source": [
    "l = len(df)\n",
    "df = df[df['beatscount'] > 100]\n",
    "print(l - len(df), ' sessions out of', l, 'removed for lack of interval data')"
   ]
  },
  {
   "cell_type": "code",
   "execution_count": 13,
   "metadata": {},
   "outputs": [
    {
     "data": {
      "text/plain": [
       "activity\n",
       "train-baseline    10\n",
       "train-breathe     12\n",
       "train-focus       12\n",
       "Name: duration, dtype: int64"
      ]
     },
     "execution_count": 13,
     "metadata": {},
     "output_type": "execute_result"
    }
   ],
   "source": [
    "df.groupby('activity').count()['duration']"
   ]
  },
  {
   "cell_type": "markdown",
   "metadata": {},
   "source": [
    "## 3 - Aggregating data"
   ]
  },
  {
   "cell_type": "code",
   "execution_count": 14,
   "metadata": {},
   "outputs": [
    {
     "name": "stdout",
     "output_type": "stream",
     "text": [
      "77.4297488894\n"
     ]
    }
   ],
   "source": [
    "dic = df.to_dict(orient='records')\n",
    "for i in dic:\n",
    "    i.update(cf.features_from_dic(i['rr']))\n",
    "print(dic[0]['rmssd'])\n",
    "df = pd.DataFrame(dic)"
   ]
  },
  {
   "cell_type": "code",
   "execution_count": 15,
   "metadata": {},
   "outputs": [
    {
     "data": {
      "text/html": [
       "<div>\n",
       "<style>\n",
       "    .dataframe thead tr:only-child th {\n",
       "        text-align: right;\n",
       "    }\n",
       "\n",
       "    .dataframe thead th {\n",
       "        text-align: left;\n",
       "    }\n",
       "\n",
       "    .dataframe tbody tr th {\n",
       "        vertical-align: top;\n",
       "    }\n",
       "</style>\n",
       "<table border=\"1\" class=\"dataframe\">\n",
       "  <thead>\n",
       "    <tr style=\"text-align: right;\">\n",
       "      <th></th>\n",
       "      <th>activity</th>\n",
       "      <th>beatscount</th>\n",
       "      <th>duration</th>\n",
       "      <th>hf</th>\n",
       "      <th>hfnu</th>\n",
       "      <th>lf</th>\n",
       "      <th>lf_hf</th>\n",
       "      <th>lfnu</th>\n",
       "      <th>mhr</th>\n",
       "      <th>mrri</th>\n",
       "      <th>...</th>\n",
       "      <th>posture</th>\n",
       "      <th>removed_artifacts</th>\n",
       "      <th>rmssd</th>\n",
       "      <th>sdnn</th>\n",
       "      <th>start</th>\n",
       "      <th>stop</th>\n",
       "      <th>total_power</th>\n",
       "      <th>user</th>\n",
       "      <th>vlf</th>\n",
       "      <th>sess_id</th>\n",
       "    </tr>\n",
       "  </thead>\n",
       "  <tbody>\n",
       "    <tr>\n",
       "      <th>25</th>\n",
       "      <td>train-baseline</td>\n",
       "      <td>187</td>\n",
       "      <td>137</td>\n",
       "      <td>1522.691969</td>\n",
       "      <td>68.500727</td>\n",
       "      <td>700.192415</td>\n",
       "      <td>0.459839</td>\n",
       "      <td>31.499273</td>\n",
       "      <td>81.436624</td>\n",
       "      <td>748.219251</td>\n",
       "      <td>...</td>\n",
       "      <td>sit</td>\n",
       "      <td>1</td>\n",
       "      <td>71.230128</td>\n",
       "      <td>86.747750</td>\n",
       "      <td>2018-06-20 22:39:33</td>\n",
       "      <td>2018-06-20 22:41:50</td>\n",
       "      <td>3318.652558</td>\n",
       "      <td>0</td>\n",
       "      <td>1095.768174</td>\n",
       "      <td>25</td>\n",
       "    </tr>\n",
       "    <tr>\n",
       "      <th>12</th>\n",
       "      <td>train-focus</td>\n",
       "      <td>167</td>\n",
       "      <td>131</td>\n",
       "      <td>932.902562</td>\n",
       "      <td>64.469682</td>\n",
       "      <td>514.138176</td>\n",
       "      <td>0.551117</td>\n",
       "      <td>35.530318</td>\n",
       "      <td>75.165411</td>\n",
       "      <td>801.640719</td>\n",
       "      <td>...</td>\n",
       "      <td>sit</td>\n",
       "      <td>0</td>\n",
       "      <td>51.075010</td>\n",
       "      <td>52.703332</td>\n",
       "      <td>2018-06-18 17:56:24</td>\n",
       "      <td>2018-06-18 17:58:35</td>\n",
       "      <td>1976.828808</td>\n",
       "      <td>0</td>\n",
       "      <td>529.788070</td>\n",
       "      <td>12</td>\n",
       "    </tr>\n",
       "  </tbody>\n",
       "</table>\n",
       "<p>2 rows × 23 columns</p>\n",
       "</div>"
      ],
      "text/plain": [
       "          activity  beatscount  duration           hf       hfnu          lf  \\\n",
       "25  train-baseline         187       137  1522.691969  68.500727  700.192415   \n",
       "12     train-focus         167       131   932.902562  64.469682  514.138176   \n",
       "\n",
       "       lf_hf       lfnu        mhr        mrri   ...     posture  \\\n",
       "25  0.459839  31.499273  81.436624  748.219251   ...         sit   \n",
       "12  0.551117  35.530318  75.165411  801.640719   ...         sit   \n",
       "\n",
       "   removed_artifacts      rmssd       sdnn               start  \\\n",
       "25                 1  71.230128  86.747750 2018-06-20 22:39:33   \n",
       "12                 0  51.075010  52.703332 2018-06-18 17:56:24   \n",
       "\n",
       "                  stop  total_power user          vlf  sess_id  \n",
       "25 2018-06-20 22:41:50  3318.652558    0  1095.768174       25  \n",
       "12 2018-06-18 17:58:35  1976.828808    0   529.788070       12  \n",
       "\n",
       "[2 rows x 23 columns]"
      ]
     },
     "execution_count": 15,
     "metadata": {},
     "output_type": "execute_result"
    }
   ],
   "source": [
    "df['sess_id'] = df.index\n",
    "df = df.drop(['rr'], axis = 1)\n",
    "df.sample(2)"
   ]
  },
  {
   "cell_type": "code",
   "execution_count": 16,
   "metadata": {},
   "outputs": [
    {
     "data": {
      "text/html": [
       "<div>\n",
       "<style>\n",
       "    .dataframe thead tr:only-child th {\n",
       "        text-align: right;\n",
       "    }\n",
       "\n",
       "    .dataframe thead th {\n",
       "        text-align: left;\n",
       "    }\n",
       "\n",
       "    .dataframe tbody tr th {\n",
       "        vertical-align: top;\n",
       "    }\n",
       "</style>\n",
       "<table border=\"1\" class=\"dataframe\">\n",
       "  <thead>\n",
       "    <tr style=\"text-align: right;\">\n",
       "      <th></th>\n",
       "      <th>beatscount</th>\n",
       "      <th>duration</th>\n",
       "      <th>hf</th>\n",
       "      <th>hfnu</th>\n",
       "      <th>lf</th>\n",
       "      <th>lf_hf</th>\n",
       "      <th>lfnu</th>\n",
       "      <th>mhr</th>\n",
       "      <th>mrri</th>\n",
       "      <th>nn50</th>\n",
       "      <th>pnn50</th>\n",
       "      <th>removed_artifacts</th>\n",
       "      <th>rmssd</th>\n",
       "      <th>sdnn</th>\n",
       "      <th>total_power</th>\n",
       "      <th>user</th>\n",
       "      <th>vlf</th>\n",
       "      <th>sess_id</th>\n",
       "    </tr>\n",
       "  </thead>\n",
       "  <tbody>\n",
       "    <tr>\n",
       "      <th>count</th>\n",
       "      <td>34.000000</td>\n",
       "      <td>34.000000</td>\n",
       "      <td>34.000000</td>\n",
       "      <td>34.000000</td>\n",
       "      <td>34.000000</td>\n",
       "      <td>34.000000</td>\n",
       "      <td>34.000000</td>\n",
       "      <td>34.000000</td>\n",
       "      <td>34.000000</td>\n",
       "      <td>34.000000</td>\n",
       "      <td>34.000000</td>\n",
       "      <td>34.000000</td>\n",
       "      <td>34.000000</td>\n",
       "      <td>34.000000</td>\n",
       "      <td>34.000000</td>\n",
       "      <td>34.0</td>\n",
       "      <td>34.000000</td>\n",
       "      <td>34.000000</td>\n",
       "    </tr>\n",
       "    <tr>\n",
       "      <th>mean</th>\n",
       "      <td>182.588235</td>\n",
       "      <td>134.000000</td>\n",
       "      <td>1214.495269</td>\n",
       "      <td>41.693868</td>\n",
       "      <td>1543.555472</td>\n",
       "      <td>3.041646</td>\n",
       "      <td>58.306132</td>\n",
       "      <td>81.828783</td>\n",
       "      <td>745.594468</td>\n",
       "      <td>27.294118</td>\n",
       "      <td>15.494426</td>\n",
       "      <td>0.970588</td>\n",
       "      <td>61.776942</td>\n",
       "      <td>70.944759</td>\n",
       "      <td>3572.062330</td>\n",
       "      <td>0.0</td>\n",
       "      <td>814.011589</td>\n",
       "      <td>16.500000</td>\n",
       "    </tr>\n",
       "    <tr>\n",
       "      <th>std</th>\n",
       "      <td>14.873441</td>\n",
       "      <td>9.620055</td>\n",
       "      <td>1552.613819</td>\n",
       "      <td>23.271721</td>\n",
       "      <td>1648.241830</td>\n",
       "      <td>3.542726</td>\n",
       "      <td>23.271721</td>\n",
       "      <td>5.500732</td>\n",
       "      <td>49.727980</td>\n",
       "      <td>18.579117</td>\n",
       "      <td>11.205384</td>\n",
       "      <td>1.992186</td>\n",
       "      <td>34.546702</td>\n",
       "      <td>27.607223</td>\n",
       "      <td>3227.702304</td>\n",
       "      <td>0.0</td>\n",
       "      <td>965.265696</td>\n",
       "      <td>9.958246</td>\n",
       "    </tr>\n",
       "    <tr>\n",
       "      <th>min</th>\n",
       "      <td>154.000000</td>\n",
       "      <td>115.000000</td>\n",
       "      <td>129.875803</td>\n",
       "      <td>6.953304</td>\n",
       "      <td>176.231245</td>\n",
       "      <td>0.217607</td>\n",
       "      <td>17.871682</td>\n",
       "      <td>72.144605</td>\n",
       "      <td>664.222826</td>\n",
       "      <td>1.000000</td>\n",
       "      <td>0.546448</td>\n",
       "      <td>0.000000</td>\n",
       "      <td>15.785101</td>\n",
       "      <td>30.404905</td>\n",
       "      <td>660.072449</td>\n",
       "      <td>0.0</td>\n",
       "      <td>90.929902</td>\n",
       "      <td>0.000000</td>\n",
       "    </tr>\n",
       "    <tr>\n",
       "      <th>25%</th>\n",
       "      <td>168.250000</td>\n",
       "      <td>129.250000</td>\n",
       "      <td>226.269504</td>\n",
       "      <td>20.207246</td>\n",
       "      <td>525.447724</td>\n",
       "      <td>0.608749</td>\n",
       "      <td>37.717613</td>\n",
       "      <td>77.089744</td>\n",
       "      <td>704.308152</td>\n",
       "      <td>16.500000</td>\n",
       "      <td>8.761442</td>\n",
       "      <td>0.000000</td>\n",
       "      <td>38.502121</td>\n",
       "      <td>53.145949</td>\n",
       "      <td>1392.460912</td>\n",
       "      <td>0.0</td>\n",
       "      <td>331.448531</td>\n",
       "      <td>8.250000</td>\n",
       "    </tr>\n",
       "    <tr>\n",
       "      <th>50%</th>\n",
       "      <td>183.500000</td>\n",
       "      <td>133.000000</td>\n",
       "      <td>538.846769</td>\n",
       "      <td>42.807214</td>\n",
       "      <td>1050.685890</td>\n",
       "      <td>1.339294</td>\n",
       "      <td>57.192786</td>\n",
       "      <td>81.319711</td>\n",
       "      <td>747.664889</td>\n",
       "      <td>23.000000</td>\n",
       "      <td>12.266754</td>\n",
       "      <td>0.000000</td>\n",
       "      <td>55.281217</td>\n",
       "      <td>65.130564</td>\n",
       "      <td>2254.308665</td>\n",
       "      <td>0.0</td>\n",
       "      <td>459.362925</td>\n",
       "      <td>16.500000</td>\n",
       "    </tr>\n",
       "    <tr>\n",
       "      <th>75%</th>\n",
       "      <td>190.000000</td>\n",
       "      <td>137.000000</td>\n",
       "      <td>1292.932697</td>\n",
       "      <td>62.282387</td>\n",
       "      <td>1986.146941</td>\n",
       "      <td>3.988796</td>\n",
       "      <td>79.792754</td>\n",
       "      <td>86.365528</td>\n",
       "      <td>786.487532</td>\n",
       "      <td>35.500000</td>\n",
       "      <td>19.049586</td>\n",
       "      <td>1.000000</td>\n",
       "      <td>76.033094</td>\n",
       "      <td>84.526677</td>\n",
       "      <td>3563.543102</td>\n",
       "      <td>0.0</td>\n",
       "      <td>629.660254</td>\n",
       "      <td>24.750000</td>\n",
       "    </tr>\n",
       "    <tr>\n",
       "      <th>max</th>\n",
       "      <td>212.000000</td>\n",
       "      <td>171.000000</td>\n",
       "      <td>6015.982540</td>\n",
       "      <td>82.128318</td>\n",
       "      <td>8846.488332</td>\n",
       "      <td>13.381653</td>\n",
       "      <td>93.046696</td>\n",
       "      <td>92.160516</td>\n",
       "      <td>841.824675</td>\n",
       "      <td>68.000000</td>\n",
       "      <td>41.975309</td>\n",
       "      <td>10.000000</td>\n",
       "      <td>153.353970</td>\n",
       "      <td>141.658789</td>\n",
       "      <td>12151.712956</td>\n",
       "      <td>0.0</td>\n",
       "      <td>3940.988059</td>\n",
       "      <td>33.000000</td>\n",
       "    </tr>\n",
       "  </tbody>\n",
       "</table>\n",
       "</div>"
      ],
      "text/plain": [
       "       beatscount    duration           hf       hfnu           lf      lf_hf  \\\n",
       "count   34.000000   34.000000    34.000000  34.000000    34.000000  34.000000   \n",
       "mean   182.588235  134.000000  1214.495269  41.693868  1543.555472   3.041646   \n",
       "std     14.873441    9.620055  1552.613819  23.271721  1648.241830   3.542726   \n",
       "min    154.000000  115.000000   129.875803   6.953304   176.231245   0.217607   \n",
       "25%    168.250000  129.250000   226.269504  20.207246   525.447724   0.608749   \n",
       "50%    183.500000  133.000000   538.846769  42.807214  1050.685890   1.339294   \n",
       "75%    190.000000  137.000000  1292.932697  62.282387  1986.146941   3.988796   \n",
       "max    212.000000  171.000000  6015.982540  82.128318  8846.488332  13.381653   \n",
       "\n",
       "            lfnu        mhr        mrri       nn50      pnn50  \\\n",
       "count  34.000000  34.000000   34.000000  34.000000  34.000000   \n",
       "mean   58.306132  81.828783  745.594468  27.294118  15.494426   \n",
       "std    23.271721   5.500732   49.727980  18.579117  11.205384   \n",
       "min    17.871682  72.144605  664.222826   1.000000   0.546448   \n",
       "25%    37.717613  77.089744  704.308152  16.500000   8.761442   \n",
       "50%    57.192786  81.319711  747.664889  23.000000  12.266754   \n",
       "75%    79.792754  86.365528  786.487532  35.500000  19.049586   \n",
       "max    93.046696  92.160516  841.824675  68.000000  41.975309   \n",
       "\n",
       "       removed_artifacts       rmssd        sdnn   total_power  user  \\\n",
       "count          34.000000   34.000000   34.000000     34.000000  34.0   \n",
       "mean            0.970588   61.776942   70.944759   3572.062330   0.0   \n",
       "std             1.992186   34.546702   27.607223   3227.702304   0.0   \n",
       "min             0.000000   15.785101   30.404905    660.072449   0.0   \n",
       "25%             0.000000   38.502121   53.145949   1392.460912   0.0   \n",
       "50%             0.000000   55.281217   65.130564   2254.308665   0.0   \n",
       "75%             1.000000   76.033094   84.526677   3563.543102   0.0   \n",
       "max            10.000000  153.353970  141.658789  12151.712956   0.0   \n",
       "\n",
       "               vlf    sess_id  \n",
       "count    34.000000  34.000000  \n",
       "mean    814.011589  16.500000  \n",
       "std     965.265696   9.958246  \n",
       "min      90.929902   0.000000  \n",
       "25%     331.448531   8.250000  \n",
       "50%     459.362925  16.500000  \n",
       "75%     629.660254  24.750000  \n",
       "max    3940.988059  33.000000  "
      ]
     },
     "execution_count": 16,
     "metadata": {},
     "output_type": "execute_result"
    }
   ],
   "source": [
    "df.describe()"
   ]
  },
  {
   "cell_type": "code",
   "execution_count": 18,
   "metadata": {},
   "outputs": [],
   "source": [
    "df.to_excel(PRE_PATH + \"\\\\train_sessions.xlsx\")"
   ]
  },
  {
   "cell_type": "markdown",
   "metadata": {},
   "source": [
    "\n",
    "---\n",
    "\n",
    "\n",
    "# VISUALIZATION\n",
    "\n",
    "---\n",
    "\n"
   ]
  },
  {
   "cell_type": "code",
   "execution_count": 19,
   "metadata": {
    "scrolled": true
   },
   "outputs": [
    {
     "data": {
      "application/vnd.plotly.v1+json": {
       "data": [
        {
         "name": "train-baseline",
         "showlegend": false,
         "type": "box",
         "y": [
          72.14460476640866,
          80.24240882162032,
          76.12211383075527,
          78.56069109864058,
          72.95483948372892,
          89.06836816222825,
          84.84795628689037,
          81.43662394212642,
          88.51446589584319,
          76.88911862678634
         ]
        },
        {
         "name": "train-focus",
         "showlegend": false,
         "type": "box",
         "y": [
          76.4541572376653,
          77.71745403239049,
          84.73000514260889,
          80.17307924763895,
          75.16541057840516,
          81.40392148631943,
          78.4232813382317,
          87.21495380911794,
          86.44422357816748,
          92.16051622857628,
          90.51731836046258,
          86.56179476807077
         ]
        },
        {
         "name": "train-breathe",
         "showlegend": false,
         "type": "box",
         "y": [
          76.33351668250816,
          76.59084781743564,
          84.47006531597604,
          77.69162075765267,
          74.78591582401206,
          82.19036387962461,
          81.2354998769148,
          86.00105214478057,
          87.43998718940641,
          80.73579394767772,
          90.82721655203055,
          86.12944055237934
         ]
        }
       ],
       "layout": {
        "xaxis": {
         "title": "activity"
        },
        "yaxis": {
         "title": "mhr"
        }
       }
      },
      "text/html": [
       "<div id=\"3bdff49a-faff-450e-9bd6-5f623efe3301\" style=\"height: 525px; width: 100%;\" class=\"plotly-graph-div\"></div><script type=\"text/javascript\">require([\"plotly\"], function(Plotly) { window.PLOTLYENV=window.PLOTLYENV || {};window.PLOTLYENV.BASE_URL=\"https://plot.ly\";Plotly.newPlot(\"3bdff49a-faff-450e-9bd6-5f623efe3301\", [{\"type\": \"box\", \"y\": [72.14460476640866, 80.24240882162032, 76.12211383075527, 78.56069109864058, 72.95483948372892, 89.06836816222825, 84.84795628689037, 81.43662394212642, 88.51446589584319, 76.88911862678634], \"name\": \"train-baseline\", \"showlegend\": false}, {\"type\": \"box\", \"y\": [76.4541572376653, 77.71745403239049, 84.73000514260889, 80.17307924763895, 75.16541057840516, 81.40392148631943, 78.4232813382317, 87.21495380911794, 86.44422357816748, 92.16051622857628, 90.51731836046258, 86.56179476807077], \"name\": \"train-focus\", \"showlegend\": false}, {\"type\": \"box\", \"y\": [76.33351668250816, 76.59084781743564, 84.47006531597604, 77.69162075765267, 74.78591582401206, 82.19036387962461, 81.2354998769148, 86.00105214478057, 87.43998718940641, 80.73579394767772, 90.82721655203055, 86.12944055237934], \"name\": \"train-breathe\", \"showlegend\": false}], {\"yaxis\": {\"title\": \"mhr\"}, \"xaxis\": {\"title\": \"activity\"}}, {\"showLink\": true, \"linkText\": \"Export to plot.ly\"})});</script>"
      ],
      "text/vnd.plotly.v1+html": [
       "<div id=\"3bdff49a-faff-450e-9bd6-5f623efe3301\" style=\"height: 525px; width: 100%;\" class=\"plotly-graph-div\"></div><script type=\"text/javascript\">require([\"plotly\"], function(Plotly) { window.PLOTLYENV=window.PLOTLYENV || {};window.PLOTLYENV.BASE_URL=\"https://plot.ly\";Plotly.newPlot(\"3bdff49a-faff-450e-9bd6-5f623efe3301\", [{\"type\": \"box\", \"y\": [72.14460476640866, 80.24240882162032, 76.12211383075527, 78.56069109864058, 72.95483948372892, 89.06836816222825, 84.84795628689037, 81.43662394212642, 88.51446589584319, 76.88911862678634], \"name\": \"train-baseline\", \"showlegend\": false}, {\"type\": \"box\", \"y\": [76.4541572376653, 77.71745403239049, 84.73000514260889, 80.17307924763895, 75.16541057840516, 81.40392148631943, 78.4232813382317, 87.21495380911794, 86.44422357816748, 92.16051622857628, 90.51731836046258, 86.56179476807077], \"name\": \"train-focus\", \"showlegend\": false}, {\"type\": \"box\", \"y\": [76.33351668250816, 76.59084781743564, 84.47006531597604, 77.69162075765267, 74.78591582401206, 82.19036387962461, 81.2354998769148, 86.00105214478057, 87.43998718940641, 80.73579394767772, 90.82721655203055, 86.12944055237934], \"name\": \"train-breathe\", \"showlegend\": false}], {\"yaxis\": {\"title\": \"mhr\"}, \"xaxis\": {\"title\": \"activity\"}}, {\"showLink\": true, \"linkText\": \"Export to plot.ly\"})});</script>"
      ]
     },
     "metadata": {},
     "output_type": "display_data"
    },
    {
     "data": {
      "application/vnd.plotly.v1+json": {
       "data": [
        {
         "name": "train-baseline",
         "showlegend": false,
         "type": "box",
         "y": [
          841.8246753246754,
          763.2450980392157,
          816.6993865030674,
          771.6648648648649,
          838,
          678.0370370370371,
          712.1947368421053,
          748.2192513368984,
          715.7875,
          790.2962962962963
         ]
        },
        {
         "name": "train-focus",
         "showlegend": false,
         "type": "box",
         "y": [
          789.6666666666666,
          776.0591715976332,
          711.0890052356021,
          758.9497206703911,
          801.6407185628742,
          742.775956284153,
          767.2582417582418,
          690.2122641509434,
          697.1570680628272,
          681.6868131868132,
          664.2228260869565,
          703.7566137566138
         ]
        },
        {
         "name": "train-breathe",
         "showlegend": false,
         "type": "box",
         "y": [
          792.0833333333334,
          788.0424242424242,
          713.0368421052632,
          781.8228571428572,
          814.0178571428571,
          737.6288659793814,
          749.7348066298342,
          700.5,
          687.8516483516484,
          747.1105263157895,
          671.976076555024,
          705.9627659574468
         ]
        }
       ],
       "layout": {
        "xaxis": {
         "title": "activity"
        },
        "yaxis": {
         "title": "mrri"
        }
       }
      },
      "text/html": [
       "<div id=\"d48c8b6e-a666-421c-a599-a57868511e77\" style=\"height: 525px; width: 100%;\" class=\"plotly-graph-div\"></div><script type=\"text/javascript\">require([\"plotly\"], function(Plotly) { window.PLOTLYENV=window.PLOTLYENV || {};window.PLOTLYENV.BASE_URL=\"https://plot.ly\";Plotly.newPlot(\"d48c8b6e-a666-421c-a599-a57868511e77\", [{\"type\": \"box\", \"y\": [841.8246753246754, 763.2450980392157, 816.6993865030674, 771.6648648648649, 838.0, 678.0370370370371, 712.1947368421053, 748.2192513368984, 715.7875, 790.2962962962963], \"name\": \"train-baseline\", \"showlegend\": false}, {\"type\": \"box\", \"y\": [789.6666666666666, 776.0591715976332, 711.0890052356021, 758.9497206703911, 801.6407185628742, 742.775956284153, 767.2582417582418, 690.2122641509434, 697.1570680628272, 681.6868131868132, 664.2228260869565, 703.7566137566138], \"name\": \"train-focus\", \"showlegend\": false}, {\"type\": \"box\", \"y\": [792.0833333333334, 788.0424242424242, 713.0368421052632, 781.8228571428572, 814.0178571428571, 737.6288659793814, 749.7348066298342, 700.5, 687.8516483516484, 747.1105263157895, 671.976076555024, 705.9627659574468], \"name\": \"train-breathe\", \"showlegend\": false}], {\"yaxis\": {\"title\": \"mrri\"}, \"xaxis\": {\"title\": \"activity\"}}, {\"showLink\": true, \"linkText\": \"Export to plot.ly\"})});</script>"
      ],
      "text/vnd.plotly.v1+html": [
       "<div id=\"d48c8b6e-a666-421c-a599-a57868511e77\" style=\"height: 525px; width: 100%;\" class=\"plotly-graph-div\"></div><script type=\"text/javascript\">require([\"plotly\"], function(Plotly) { window.PLOTLYENV=window.PLOTLYENV || {};window.PLOTLYENV.BASE_URL=\"https://plot.ly\";Plotly.newPlot(\"d48c8b6e-a666-421c-a599-a57868511e77\", [{\"type\": \"box\", \"y\": [841.8246753246754, 763.2450980392157, 816.6993865030674, 771.6648648648649, 838.0, 678.0370370370371, 712.1947368421053, 748.2192513368984, 715.7875, 790.2962962962963], \"name\": \"train-baseline\", \"showlegend\": false}, {\"type\": \"box\", \"y\": [789.6666666666666, 776.0591715976332, 711.0890052356021, 758.9497206703911, 801.6407185628742, 742.775956284153, 767.2582417582418, 690.2122641509434, 697.1570680628272, 681.6868131868132, 664.2228260869565, 703.7566137566138], \"name\": \"train-focus\", \"showlegend\": false}, {\"type\": \"box\", \"y\": [792.0833333333334, 788.0424242424242, 713.0368421052632, 781.8228571428572, 814.0178571428571, 737.6288659793814, 749.7348066298342, 700.5, 687.8516483516484, 747.1105263157895, 671.976076555024, 705.9627659574468], \"name\": \"train-breathe\", \"showlegend\": false}], {\"yaxis\": {\"title\": \"mrri\"}, \"xaxis\": {\"title\": \"activity\"}}, {\"showLink\": true, \"linkText\": \"Export to plot.ly\"})});</script>"
      ]
     },
     "metadata": {},
     "output_type": "display_data"
    },
    {
     "data": {
      "application/vnd.plotly.v1+json": {
       "data": [
        {
         "name": "train-baseline",
         "showlegend": false,
         "type": "box",
         "y": [
          98.30631952750659,
          92.24901364092915,
          132.6401022617834,
          60.998539791041296,
          105.12711422334172,
          53.734113968131176,
          68.58099890863389,
          86.7477498296743,
          141.65878871917425,
          92.50058847480352
         ]
        },
        {
         "name": "train-focus",
         "showlegend": false,
         "type": "box",
         "y": [
          62.67768239109276,
          57.979132549689176,
          41.004074695532566,
          71.72953834557875,
          52.70333218665535,
          52.949894115618605,
          41.644964983701406,
          38.462479292587695,
          56.03942634469692,
          121.85457205712298,
          30.40490542555267,
          75.16325509271094
         ]
        },
        {
         "name": "train-breathe",
         "showlegend": false,
         "type": "box",
         "y": [
          65.08367867246686,
          61.58648009646743,
          44.010986008561964,
          73.43890683940516,
          110.89766946327887,
          65.1774492276777,
          77.86345850690711,
          45.4127833932516,
          35.4510786178429,
          55.71444005291049,
          69.61697683308812,
          72.71130885281406
         ]
        }
       ],
       "layout": {
        "xaxis": {
         "title": "activity"
        },
        "yaxis": {
         "title": "sdnn"
        }
       }
      },
      "text/html": [
       "<div id=\"e3710db6-9b76-459c-b8a8-ac745fb887a6\" style=\"height: 525px; width: 100%;\" class=\"plotly-graph-div\"></div><script type=\"text/javascript\">require([\"plotly\"], function(Plotly) { window.PLOTLYENV=window.PLOTLYENV || {};window.PLOTLYENV.BASE_URL=\"https://plot.ly\";Plotly.newPlot(\"e3710db6-9b76-459c-b8a8-ac745fb887a6\", [{\"type\": \"box\", \"y\": [98.30631952750659, 92.24901364092915, 132.6401022617834, 60.998539791041296, 105.12711422334172, 53.734113968131176, 68.58099890863389, 86.7477498296743, 141.65878871917425, 92.50058847480352], \"name\": \"train-baseline\", \"showlegend\": false}, {\"type\": \"box\", \"y\": [62.67768239109276, 57.979132549689176, 41.004074695532566, 71.72953834557875, 52.70333218665535, 52.949894115618605, 41.644964983701406, 38.462479292587695, 56.03942634469692, 121.85457205712298, 30.40490542555267, 75.16325509271094], \"name\": \"train-focus\", \"showlegend\": false}, {\"type\": \"box\", \"y\": [65.08367867246686, 61.58648009646743, 44.010986008561964, 73.43890683940516, 110.89766946327887, 65.1774492276777, 77.86345850690711, 45.4127833932516, 35.4510786178429, 55.71444005291049, 69.61697683308812, 72.71130885281406], \"name\": \"train-breathe\", \"showlegend\": false}], {\"yaxis\": {\"title\": \"sdnn\"}, \"xaxis\": {\"title\": \"activity\"}}, {\"showLink\": true, \"linkText\": \"Export to plot.ly\"})});</script>"
      ],
      "text/vnd.plotly.v1+html": [
       "<div id=\"e3710db6-9b76-459c-b8a8-ac745fb887a6\" style=\"height: 525px; width: 100%;\" class=\"plotly-graph-div\"></div><script type=\"text/javascript\">require([\"plotly\"], function(Plotly) { window.PLOTLYENV=window.PLOTLYENV || {};window.PLOTLYENV.BASE_URL=\"https://plot.ly\";Plotly.newPlot(\"e3710db6-9b76-459c-b8a8-ac745fb887a6\", [{\"type\": \"box\", \"y\": [98.30631952750659, 92.24901364092915, 132.6401022617834, 60.998539791041296, 105.12711422334172, 53.734113968131176, 68.58099890863389, 86.7477498296743, 141.65878871917425, 92.50058847480352], \"name\": \"train-baseline\", \"showlegend\": false}, {\"type\": \"box\", \"y\": [62.67768239109276, 57.979132549689176, 41.004074695532566, 71.72953834557875, 52.70333218665535, 52.949894115618605, 41.644964983701406, 38.462479292587695, 56.03942634469692, 121.85457205712298, 30.40490542555267, 75.16325509271094], \"name\": \"train-focus\", \"showlegend\": false}, {\"type\": \"box\", \"y\": [65.08367867246686, 61.58648009646743, 44.010986008561964, 73.43890683940516, 110.89766946327887, 65.1774492276777, 77.86345850690711, 45.4127833932516, 35.4510786178429, 55.71444005291049, 69.61697683308812, 72.71130885281406], \"name\": \"train-breathe\", \"showlegend\": false}], {\"yaxis\": {\"title\": \"sdnn\"}, \"xaxis\": {\"title\": \"activity\"}}, {\"showLink\": true, \"linkText\": \"Export to plot.ly\"})});</script>"
      ]
     },
     "metadata": {},
     "output_type": "display_data"
    },
    {
     "data": {
      "application/vnd.plotly.v1+json": {
       "data": [
        {
         "name": "train-baseline",
         "showlegend": false,
         "type": "box",
         "y": [
          37.908496732026144,
          19.21182266009852,
          41.9753086419753,
          9.782608695652174,
          32.850241545893724,
          3.1914893617021276,
          13.756613756613756,
          19.892473118279568,
          41.509433962264154,
          26.70807453416149
         ]
        },
        {
         "name": "train-focus",
         "showlegend": false,
         "type": "box",
         "y": [
          16.463414634146343,
          16.666666666666664,
          8.421052631578947,
          15.168539325842698,
          30.120481927710845,
          3.296703296703297,
          9.94475138121547,
          1.8957345971563981,
          7.368421052631578,
          29.2817679558011,
          0.546448087431694,
          12.23404255319149
         ]
        },
        {
         "name": "train-breathe",
         "showlegend": false,
         "type": "box",
         "y": [
          16.766467065868262,
          12.804878048780488,
          4.761904761904762,
          12.068965517241379,
          18.562874251497004,
          9.844559585492227,
          11.11111111111111,
          5.970149253731343,
          3.314917127071823,
          10.052910052910052,
          11.057692307692307,
          12.299465240641712
         ]
        }
       ],
       "layout": {
        "xaxis": {
         "title": "activity"
        },
        "yaxis": {
         "title": "pnn50"
        }
       }
      },
      "text/html": [
       "<div id=\"8095fedc-8a21-4268-a86c-3cd5882173b7\" style=\"height: 525px; width: 100%;\" class=\"plotly-graph-div\"></div><script type=\"text/javascript\">require([\"plotly\"], function(Plotly) { window.PLOTLYENV=window.PLOTLYENV || {};window.PLOTLYENV.BASE_URL=\"https://plot.ly\";Plotly.newPlot(\"8095fedc-8a21-4268-a86c-3cd5882173b7\", [{\"type\": \"box\", \"y\": [37.908496732026144, 19.21182266009852, 41.9753086419753, 9.782608695652174, 32.850241545893724, 3.1914893617021276, 13.756613756613756, 19.892473118279568, 41.509433962264154, 26.70807453416149], \"name\": \"train-baseline\", \"showlegend\": false}, {\"type\": \"box\", \"y\": [16.463414634146343, 16.666666666666664, 8.421052631578947, 15.168539325842698, 30.120481927710845, 3.296703296703297, 9.94475138121547, 1.8957345971563981, 7.368421052631578, 29.2817679558011, 0.546448087431694, 12.23404255319149], \"name\": \"train-focus\", \"showlegend\": false}, {\"type\": \"box\", \"y\": [16.766467065868262, 12.804878048780488, 4.761904761904762, 12.068965517241379, 18.562874251497004, 9.844559585492227, 11.11111111111111, 5.970149253731343, 3.314917127071823, 10.052910052910052, 11.057692307692307, 12.299465240641712], \"name\": \"train-breathe\", \"showlegend\": false}], {\"yaxis\": {\"title\": \"pnn50\"}, \"xaxis\": {\"title\": \"activity\"}}, {\"showLink\": true, \"linkText\": \"Export to plot.ly\"})});</script>"
      ],
      "text/vnd.plotly.v1+html": [
       "<div id=\"8095fedc-8a21-4268-a86c-3cd5882173b7\" style=\"height: 525px; width: 100%;\" class=\"plotly-graph-div\"></div><script type=\"text/javascript\">require([\"plotly\"], function(Plotly) { window.PLOTLYENV=window.PLOTLYENV || {};window.PLOTLYENV.BASE_URL=\"https://plot.ly\";Plotly.newPlot(\"8095fedc-8a21-4268-a86c-3cd5882173b7\", [{\"type\": \"box\", \"y\": [37.908496732026144, 19.21182266009852, 41.9753086419753, 9.782608695652174, 32.850241545893724, 3.1914893617021276, 13.756613756613756, 19.892473118279568, 41.509433962264154, 26.70807453416149], \"name\": \"train-baseline\", \"showlegend\": false}, {\"type\": \"box\", \"y\": [16.463414634146343, 16.666666666666664, 8.421052631578947, 15.168539325842698, 30.120481927710845, 3.296703296703297, 9.94475138121547, 1.8957345971563981, 7.368421052631578, 29.2817679558011, 0.546448087431694, 12.23404255319149], \"name\": \"train-focus\", \"showlegend\": false}, {\"type\": \"box\", \"y\": [16.766467065868262, 12.804878048780488, 4.761904761904762, 12.068965517241379, 18.562874251497004, 9.844559585492227, 11.11111111111111, 5.970149253731343, 3.314917127071823, 10.052910052910052, 11.057692307692307, 12.299465240641712], \"name\": \"train-breathe\", \"showlegend\": false}], {\"yaxis\": {\"title\": \"pnn50\"}, \"xaxis\": {\"title\": \"activity\"}}, {\"showLink\": true, \"linkText\": \"Export to plot.ly\"})});</script>"
      ]
     },
     "metadata": {},
     "output_type": "display_data"
    },
    {
     "data": {
      "application/vnd.plotly.v1+json": {
       "data": [
        {
         "name": "train-baseline",
         "showlegend": false,
         "type": "box",
         "y": [
          77.42974888937646,
          91.75994060322505,
          142.83528889278875,
          47.038201403798894,
          90.17781682510946,
          22.765221702169654,
          84.02459327561351,
          71.23012833622931,
          153.35397044606418,
          87.47475234681517
         ]
        },
        {
         "name": "train-focus",
         "showlegend": false,
         "type": "box",
         "y": [
          52.52740283680974,
          39.05818309479675,
          42.736462922870615,
          63.384904097235406,
          51.07500980426753,
          54.58922527828652,
          31.108347461219406,
          21.561331017835226,
          72.28579972653871,
          151.98213401835585,
          15.785100535223203,
          77.28219221814656
         ]
        },
        {
         "name": "train-breathe",
         "showlegend": false,
         "type": "box",
         "y": [
          45.490934807943866,
          35.06222691298373,
          24.51335884583673,
          61.944914349711574,
          61.10024157855747,
          53.265587370529026,
          56.86313978902912,
          25.634534386913113,
          33.28472514798335,
          38.31676660646881,
          67.50064102259725,
          55.97320787662612
         ]
        }
       ],
       "layout": {
        "xaxis": {
         "title": "activity"
        },
        "yaxis": {
         "title": "rmssd"
        }
       }
      },
      "text/html": [
       "<div id=\"e083fe4b-76e5-4c4b-b919-35a4187470be\" style=\"height: 525px; width: 100%;\" class=\"plotly-graph-div\"></div><script type=\"text/javascript\">require([\"plotly\"], function(Plotly) { window.PLOTLYENV=window.PLOTLYENV || {};window.PLOTLYENV.BASE_URL=\"https://plot.ly\";Plotly.newPlot(\"e083fe4b-76e5-4c4b-b919-35a4187470be\", [{\"type\": \"box\", \"y\": [77.42974888937646, 91.75994060322505, 142.83528889278875, 47.038201403798894, 90.17781682510946, 22.765221702169654, 84.02459327561351, 71.23012833622931, 153.35397044606418, 87.47475234681517], \"name\": \"train-baseline\", \"showlegend\": false}, {\"type\": \"box\", \"y\": [52.52740283680974, 39.05818309479675, 42.736462922870615, 63.384904097235406, 51.07500980426753, 54.58922527828652, 31.108347461219406, 21.561331017835226, 72.28579972653871, 151.98213401835585, 15.785100535223203, 77.28219221814656], \"name\": \"train-focus\", \"showlegend\": false}, {\"type\": \"box\", \"y\": [45.490934807943866, 35.06222691298373, 24.51335884583673, 61.944914349711574, 61.10024157855747, 53.265587370529026, 56.86313978902912, 25.634534386913113, 33.28472514798335, 38.31676660646881, 67.50064102259725, 55.97320787662612], \"name\": \"train-breathe\", \"showlegend\": false}], {\"yaxis\": {\"title\": \"rmssd\"}, \"xaxis\": {\"title\": \"activity\"}}, {\"showLink\": true, \"linkText\": \"Export to plot.ly\"})});</script>"
      ],
      "text/vnd.plotly.v1+html": [
       "<div id=\"e083fe4b-76e5-4c4b-b919-35a4187470be\" style=\"height: 525px; width: 100%;\" class=\"plotly-graph-div\"></div><script type=\"text/javascript\">require([\"plotly\"], function(Plotly) { window.PLOTLYENV=window.PLOTLYENV || {};window.PLOTLYENV.BASE_URL=\"https://plot.ly\";Plotly.newPlot(\"e083fe4b-76e5-4c4b-b919-35a4187470be\", [{\"type\": \"box\", \"y\": [77.42974888937646, 91.75994060322505, 142.83528889278875, 47.038201403798894, 90.17781682510946, 22.765221702169654, 84.02459327561351, 71.23012833622931, 153.35397044606418, 87.47475234681517], \"name\": \"train-baseline\", \"showlegend\": false}, {\"type\": \"box\", \"y\": [52.52740283680974, 39.05818309479675, 42.736462922870615, 63.384904097235406, 51.07500980426753, 54.58922527828652, 31.108347461219406, 21.561331017835226, 72.28579972653871, 151.98213401835585, 15.785100535223203, 77.28219221814656], \"name\": \"train-focus\", \"showlegend\": false}, {\"type\": \"box\", \"y\": [45.490934807943866, 35.06222691298373, 24.51335884583673, 61.944914349711574, 61.10024157855747, 53.265587370529026, 56.86313978902912, 25.634534386913113, 33.28472514798335, 38.31676660646881, 67.50064102259725, 55.97320787662612], \"name\": \"train-breathe\", \"showlegend\": false}], {\"yaxis\": {\"title\": \"rmssd\"}, \"xaxis\": {\"title\": \"activity\"}}, {\"showLink\": true, \"linkText\": \"Export to plot.ly\"})});</script>"
      ]
     },
     "metadata": {},
     "output_type": "display_data"
    },
    {
     "data": {
      "application/vnd.plotly.v1+json": {
       "data": [
        {
         "name": "train-baseline",
         "showlegend": false,
         "type": "box",
         "y": [
          40.52910624622246,
          73.92869969271275,
          82.12831778993738,
          57.62321430046219,
          69.03102948805491,
          26.465330543600267,
          23.510758682682695,
          68.5007272505422,
          64.28487768072159,
          56.42682352747048
         ]
        },
        {
         "name": "train-focus",
         "showlegend": false,
         "type": "box",
         "y": [
          41.21429493839446,
          36.946056398329894,
          44.40013218962843,
          63.83544478865076,
          64.46968195848079,
          65.84514615382334,
          57.24889531771454,
          53.52665021799483,
          46.96139173166159,
          74.73405524617209,
          30.47956902006238,
          54.23065938519528
         ]
        },
        {
         "name": "train-breathe",
         "showlegend": false,
         "type": "box",
         "y": [
          12.189005036525911,
          9.322718822155254,
          23.857460880395113,
          34.44993799686472,
          9.79554177283474,
          6.953303799790317,
          8.709852512769336,
          11.179484741403076,
          19.106074910899668,
          12.789760017389447,
          57.040780569455386,
          15.876733250351968
         ]
        }
       ],
       "layout": {
        "xaxis": {
         "title": "activity"
        },
        "yaxis": {
         "title": "hfnu"
        }
       }
      },
      "text/html": [
       "<div id=\"e4ff87a5-d4d5-44f0-a134-e0c0da2f94e4\" style=\"height: 525px; width: 100%;\" class=\"plotly-graph-div\"></div><script type=\"text/javascript\">require([\"plotly\"], function(Plotly) { window.PLOTLYENV=window.PLOTLYENV || {};window.PLOTLYENV.BASE_URL=\"https://plot.ly\";Plotly.newPlot(\"e4ff87a5-d4d5-44f0-a134-e0c0da2f94e4\", [{\"type\": \"box\", \"y\": [40.52910624622246, 73.92869969271275, 82.12831778993738, 57.62321430046219, 69.03102948805491, 26.465330543600267, 23.510758682682695, 68.5007272505422, 64.28487768072159, 56.42682352747048], \"name\": \"train-baseline\", \"showlegend\": false}, {\"type\": \"box\", \"y\": [41.21429493839446, 36.946056398329894, 44.40013218962843, 63.83544478865076, 64.46968195848079, 65.84514615382334, 57.24889531771454, 53.52665021799483, 46.96139173166159, 74.73405524617209, 30.47956902006238, 54.23065938519528], \"name\": \"train-focus\", \"showlegend\": false}, {\"type\": \"box\", \"y\": [12.189005036525911, 9.322718822155254, 23.857460880395113, 34.44993799686472, 9.79554177283474, 6.953303799790317, 8.709852512769336, 11.179484741403076, 19.106074910899668, 12.789760017389447, 57.040780569455386, 15.876733250351968], \"name\": \"train-breathe\", \"showlegend\": false}], {\"yaxis\": {\"title\": \"hfnu\"}, \"xaxis\": {\"title\": \"activity\"}}, {\"showLink\": true, \"linkText\": \"Export to plot.ly\"})});</script>"
      ],
      "text/vnd.plotly.v1+html": [
       "<div id=\"e4ff87a5-d4d5-44f0-a134-e0c0da2f94e4\" style=\"height: 525px; width: 100%;\" class=\"plotly-graph-div\"></div><script type=\"text/javascript\">require([\"plotly\"], function(Plotly) { window.PLOTLYENV=window.PLOTLYENV || {};window.PLOTLYENV.BASE_URL=\"https://plot.ly\";Plotly.newPlot(\"e4ff87a5-d4d5-44f0-a134-e0c0da2f94e4\", [{\"type\": \"box\", \"y\": [40.52910624622246, 73.92869969271275, 82.12831778993738, 57.62321430046219, 69.03102948805491, 26.465330543600267, 23.510758682682695, 68.5007272505422, 64.28487768072159, 56.42682352747048], \"name\": \"train-baseline\", \"showlegend\": false}, {\"type\": \"box\", \"y\": [41.21429493839446, 36.946056398329894, 44.40013218962843, 63.83544478865076, 64.46968195848079, 65.84514615382334, 57.24889531771454, 53.52665021799483, 46.96139173166159, 74.73405524617209, 30.47956902006238, 54.23065938519528], \"name\": \"train-focus\", \"showlegend\": false}, {\"type\": \"box\", \"y\": [12.189005036525911, 9.322718822155254, 23.857460880395113, 34.44993799686472, 9.79554177283474, 6.953303799790317, 8.709852512769336, 11.179484741403076, 19.106074910899668, 12.789760017389447, 57.040780569455386, 15.876733250351968], \"name\": \"train-breathe\", \"showlegend\": false}], {\"yaxis\": {\"title\": \"hfnu\"}, \"xaxis\": {\"title\": \"activity\"}}, {\"showLink\": true, \"linkText\": \"Export to plot.ly\"})});</script>"
      ]
     },
     "metadata": {},
     "output_type": "display_data"
    },
    {
     "data": {
      "application/vnd.plotly.v1+json": {
       "data": [
        {
         "name": "train-baseline",
         "showlegend": false,
         "type": "box",
         "y": [
          59.47089375377752,
          26.07130030728726,
          17.871682210062602,
          42.37678569953782,
          30.968970511945077,
          73.53466945639975,
          76.48924131731731,
          31.499272749457802,
          35.71512231927842,
          43.573176472529525
         ]
        },
        {
         "name": "train-focus",
         "showlegend": false,
         "type": "box",
         "y": [
          58.785705061605555,
          63.05394360167011,
          55.59986781037157,
          36.16455521134924,
          35.53031804151922,
          34.15485384617666,
          42.751104682285444,
          46.473349782005194,
          53.038608268338386,
          25.265944753827906,
          69.52043097993761,
          45.769340614804726
         ]
        },
        {
         "name": "train-breathe",
         "showlegend": false,
         "type": "box",
         "y": [
          87.81099496347409,
          90.67728117784473,
          76.14253911960489,
          65.5500620031353,
          90.20445822716528,
          93.04669620020968,
          91.29014748723067,
          88.82051525859693,
          80.89392508910032,
          87.21023998261053,
          42.959219430544614,
          84.12326674964804
         ]
        }
       ],
       "layout": {
        "xaxis": {
         "title": "activity"
        },
        "yaxis": {
         "title": "lfnu"
        }
       }
      },
      "text/html": [
       "<div id=\"1ba9d72e-aec6-4a6f-b9ce-08fd5d82e979\" style=\"height: 525px; width: 100%;\" class=\"plotly-graph-div\"></div><script type=\"text/javascript\">require([\"plotly\"], function(Plotly) { window.PLOTLYENV=window.PLOTLYENV || {};window.PLOTLYENV.BASE_URL=\"https://plot.ly\";Plotly.newPlot(\"1ba9d72e-aec6-4a6f-b9ce-08fd5d82e979\", [{\"type\": \"box\", \"y\": [59.47089375377752, 26.07130030728726, 17.871682210062602, 42.37678569953782, 30.968970511945077, 73.53466945639975, 76.48924131731731, 31.499272749457802, 35.71512231927842, 43.573176472529525], \"name\": \"train-baseline\", \"showlegend\": false}, {\"type\": \"box\", \"y\": [58.785705061605555, 63.05394360167011, 55.59986781037157, 36.16455521134924, 35.53031804151922, 34.15485384617666, 42.751104682285444, 46.473349782005194, 53.038608268338386, 25.265944753827906, 69.52043097993761, 45.769340614804726], \"name\": \"train-focus\", \"showlegend\": false}, {\"type\": \"box\", \"y\": [87.81099496347409, 90.67728117784473, 76.14253911960489, 65.5500620031353, 90.20445822716528, 93.04669620020968, 91.29014748723067, 88.82051525859693, 80.89392508910032, 87.21023998261053, 42.959219430544614, 84.12326674964804], \"name\": \"train-breathe\", \"showlegend\": false}], {\"yaxis\": {\"title\": \"lfnu\"}, \"xaxis\": {\"title\": \"activity\"}}, {\"showLink\": true, \"linkText\": \"Export to plot.ly\"})});</script>"
      ],
      "text/vnd.plotly.v1+html": [
       "<div id=\"1ba9d72e-aec6-4a6f-b9ce-08fd5d82e979\" style=\"height: 525px; width: 100%;\" class=\"plotly-graph-div\"></div><script type=\"text/javascript\">require([\"plotly\"], function(Plotly) { window.PLOTLYENV=window.PLOTLYENV || {};window.PLOTLYENV.BASE_URL=\"https://plot.ly\";Plotly.newPlot(\"1ba9d72e-aec6-4a6f-b9ce-08fd5d82e979\", [{\"type\": \"box\", \"y\": [59.47089375377752, 26.07130030728726, 17.871682210062602, 42.37678569953782, 30.968970511945077, 73.53466945639975, 76.48924131731731, 31.499272749457802, 35.71512231927842, 43.573176472529525], \"name\": \"train-baseline\", \"showlegend\": false}, {\"type\": \"box\", \"y\": [58.785705061605555, 63.05394360167011, 55.59986781037157, 36.16455521134924, 35.53031804151922, 34.15485384617666, 42.751104682285444, 46.473349782005194, 53.038608268338386, 25.265944753827906, 69.52043097993761, 45.769340614804726], \"name\": \"train-focus\", \"showlegend\": false}, {\"type\": \"box\", \"y\": [87.81099496347409, 90.67728117784473, 76.14253911960489, 65.5500620031353, 90.20445822716528, 93.04669620020968, 91.29014748723067, 88.82051525859693, 80.89392508910032, 87.21023998261053, 42.959219430544614, 84.12326674964804], \"name\": \"train-breathe\", \"showlegend\": false}], {\"yaxis\": {\"title\": \"lfnu\"}, \"xaxis\": {\"title\": \"activity\"}}, {\"showLink\": true, \"linkText\": \"Export to plot.ly\"})});</script>"
      ]
     },
     "metadata": {},
     "output_type": "display_data"
    },
    {
     "data": {
      "application/vnd.plotly.v1+json": {
       "data": [
        {
         "name": "train-baseline",
         "showlegend": false,
         "type": "box",
         "y": [
          1.4673625762305218,
          0.3526546580104011,
          0.21760682175146528,
          0.7354116949910918,
          0.448623912197397,
          2.778528283833643,
          3.253371886023267,
          0.45983851579047985,
          0.5555757995941406,
          0.7722067936593423
         ]
        },
        {
         "name": "train-focus",
         "showlegend": false,
         "type": "box",
         "y": [
          1.426342611209925,
          1.706648821239833,
          1.2522455467679738,
          0.5665278174387984,
          0.5511166948892529,
          0.5187148307999228,
          0.7467585958651146,
          0.8682282487832867,
          1.1294087826741197,
          0.3380780645530678,
          2.2808862859634793,
          0.8439753662169106
         ]
        },
        {
         "name": "train-breathe",
         "showlegend": false,
         "type": "box",
         "y": [
          7.20411507750938,
          9.72648461330315,
          3.191560891636003,
          1.9027628441334488,
          9.208725797823934,
          13.38165264733803,
          10.481250670248668,
          7.944956079205626,
          4.233937397730593,
          6.818754993372522,
          0.7531316893224412,
          5.298524918391705
         ]
        }
       ],
       "layout": {
        "xaxis": {
         "title": "activity"
        },
        "yaxis": {
         "title": "lf_hf"
        }
       }
      },
      "text/html": [
       "<div id=\"06bbf49d-702e-45f6-a2df-952f83dedeee\" style=\"height: 525px; width: 100%;\" class=\"plotly-graph-div\"></div><script type=\"text/javascript\">require([\"plotly\"], function(Plotly) { window.PLOTLYENV=window.PLOTLYENV || {};window.PLOTLYENV.BASE_URL=\"https://plot.ly\";Plotly.newPlot(\"06bbf49d-702e-45f6-a2df-952f83dedeee\", [{\"type\": \"box\", \"y\": [1.4673625762305218, 0.3526546580104011, 0.21760682175146528, 0.7354116949910918, 0.448623912197397, 2.778528283833643, 3.253371886023267, 0.45983851579047985, 0.5555757995941406, 0.7722067936593423], \"name\": \"train-baseline\", \"showlegend\": false}, {\"type\": \"box\", \"y\": [1.426342611209925, 1.706648821239833, 1.2522455467679738, 0.5665278174387984, 0.5511166948892529, 0.5187148307999228, 0.7467585958651146, 0.8682282487832867, 1.1294087826741197, 0.3380780645530678, 2.2808862859634793, 0.8439753662169106], \"name\": \"train-focus\", \"showlegend\": false}, {\"type\": \"box\", \"y\": [7.20411507750938, 9.72648461330315, 3.191560891636003, 1.9027628441334488, 9.208725797823934, 13.38165264733803, 10.481250670248668, 7.944956079205626, 4.233937397730593, 6.818754993372522, 0.7531316893224412, 5.298524918391705], \"name\": \"train-breathe\", \"showlegend\": false}], {\"yaxis\": {\"title\": \"lf_hf\"}, \"xaxis\": {\"title\": \"activity\"}}, {\"showLink\": true, \"linkText\": \"Export to plot.ly\"})});</script>"
      ],
      "text/vnd.plotly.v1+html": [
       "<div id=\"06bbf49d-702e-45f6-a2df-952f83dedeee\" style=\"height: 525px; width: 100%;\" class=\"plotly-graph-div\"></div><script type=\"text/javascript\">require([\"plotly\"], function(Plotly) { window.PLOTLYENV=window.PLOTLYENV || {};window.PLOTLYENV.BASE_URL=\"https://plot.ly\";Plotly.newPlot(\"06bbf49d-702e-45f6-a2df-952f83dedeee\", [{\"type\": \"box\", \"y\": [1.4673625762305218, 0.3526546580104011, 0.21760682175146528, 0.7354116949910918, 0.448623912197397, 2.778528283833643, 3.253371886023267, 0.45983851579047985, 0.5555757995941406, 0.7722067936593423], \"name\": \"train-baseline\", \"showlegend\": false}, {\"type\": \"box\", \"y\": [1.426342611209925, 1.706648821239833, 1.2522455467679738, 0.5665278174387984, 0.5511166948892529, 0.5187148307999228, 0.7467585958651146, 0.8682282487832867, 1.1294087826741197, 0.3380780645530678, 2.2808862859634793, 0.8439753662169106], \"name\": \"train-focus\", \"showlegend\": false}, {\"type\": \"box\", \"y\": [7.20411507750938, 9.72648461330315, 3.191560891636003, 1.9027628441334488, 9.208725797823934, 13.38165264733803, 10.481250670248668, 7.944956079205626, 4.233937397730593, 6.818754993372522, 0.7531316893224412, 5.298524918391705], \"name\": \"train-breathe\", \"showlegend\": false}], {\"yaxis\": {\"title\": \"lf_hf\"}, \"xaxis\": {\"title\": \"activity\"}}, {\"showLink\": true, \"linkText\": \"Export to plot.ly\"})});</script>"
      ]
     },
     "metadata": {},
     "output_type": "display_data"
    },
    {
     "data": {
      "application/vnd.plotly.v1+json": {
       "data": [
        {
         "name": "train-baseline",
         "showlegend": false,
         "type": "box",
         "y": [
          2873.072820756743,
          1157.7393980446727,
          3940.9880590729035,
          493.2531409425002,
          3120.8475774734125,
          839.311233787315,
          466.1427515012532,
          1095.7681743885692,
          634.6621409521022,
          2607.4817537798876
         ]
        },
        {
         "name": "train-focus",
         "showlegend": false,
         "type": "box",
         "y": [
          419.78740289800527,
          487.83922829031616,
          133.47739775584947,
          304.56472813975125,
          529.7880696123054,
          367.7473238318894,
          403.7673497306281,
          484.6251896574332,
          340.4372352548188,
          452.5830990001109,
          233.9647094857037,
          492.4802227396549
         ]
        },
        {
         "name": "train-breathe",
         "showlegend": false,
         "type": "box",
         "y": [
          106.37845402759464,
          441.1834562395702,
          149.23111548500015,
          614.6545921857924,
          2344.560953217838,
          90.92990175302714,
          409.67319365006153,
          248.83270929936648,
          157.1842820597929,
          413.2351949010161,
          491.74887442338763,
          328.45229690159806
         ]
        }
       ],
       "layout": {
        "xaxis": {
         "title": "activity"
        },
        "yaxis": {
         "title": "vlf"
        }
       }
      },
      "text/html": [
       "<div id=\"9f99988d-106f-45aa-9c80-d23346fe5634\" style=\"height: 525px; width: 100%;\" class=\"plotly-graph-div\"></div><script type=\"text/javascript\">require([\"plotly\"], function(Plotly) { window.PLOTLYENV=window.PLOTLYENV || {};window.PLOTLYENV.BASE_URL=\"https://plot.ly\";Plotly.newPlot(\"9f99988d-106f-45aa-9c80-d23346fe5634\", [{\"type\": \"box\", \"y\": [2873.072820756743, 1157.7393980446727, 3940.9880590729035, 493.2531409425002, 3120.8475774734125, 839.311233787315, 466.1427515012532, 1095.7681743885692, 634.6621409521022, 2607.4817537798876], \"name\": \"train-baseline\", \"showlegend\": false}, {\"type\": \"box\", \"y\": [419.78740289800527, 487.83922829031616, 133.47739775584947, 304.56472813975125, 529.7880696123054, 367.7473238318894, 403.7673497306281, 484.6251896574332, 340.4372352548188, 452.5830990001109, 233.9647094857037, 492.4802227396549], \"name\": \"train-focus\", \"showlegend\": false}, {\"type\": \"box\", \"y\": [106.37845402759464, 441.1834562395702, 149.23111548500015, 614.6545921857924, 2344.560953217838, 90.92990175302714, 409.67319365006153, 248.83270929936648, 157.1842820597929, 413.2351949010161, 491.74887442338763, 328.45229690159806], \"name\": \"train-breathe\", \"showlegend\": false}], {\"yaxis\": {\"title\": \"vlf\"}, \"xaxis\": {\"title\": \"activity\"}}, {\"showLink\": true, \"linkText\": \"Export to plot.ly\"})});</script>"
      ],
      "text/vnd.plotly.v1+html": [
       "<div id=\"9f99988d-106f-45aa-9c80-d23346fe5634\" style=\"height: 525px; width: 100%;\" class=\"plotly-graph-div\"></div><script type=\"text/javascript\">require([\"plotly\"], function(Plotly) { window.PLOTLYENV=window.PLOTLYENV || {};window.PLOTLYENV.BASE_URL=\"https://plot.ly\";Plotly.newPlot(\"9f99988d-106f-45aa-9c80-d23346fe5634\", [{\"type\": \"box\", \"y\": [2873.072820756743, 1157.7393980446727, 3940.9880590729035, 493.2531409425002, 3120.8475774734125, 839.311233787315, 466.1427515012532, 1095.7681743885692, 634.6621409521022, 2607.4817537798876], \"name\": \"train-baseline\", \"showlegend\": false}, {\"type\": \"box\", \"y\": [419.78740289800527, 487.83922829031616, 133.47739775584947, 304.56472813975125, 529.7880696123054, 367.7473238318894, 403.7673497306281, 484.6251896574332, 340.4372352548188, 452.5830990001109, 233.9647094857037, 492.4802227396549], \"name\": \"train-focus\", \"showlegend\": false}, {\"type\": \"box\", \"y\": [106.37845402759464, 441.1834562395702, 149.23111548500015, 614.6545921857924, 2344.560953217838, 90.92990175302714, 409.67319365006153, 248.83270929936648, 157.1842820597929, 413.2351949010161, 491.74887442338763, 328.45229690159806], \"name\": \"train-breathe\", \"showlegend\": false}], {\"yaxis\": {\"title\": \"vlf\"}, \"xaxis\": {\"title\": \"activity\"}}, {\"showLink\": true, \"linkText\": \"Export to plot.ly\"})});</script>"
      ]
     },
     "metadata": {},
     "output_type": "display_data"
    }
   ],
   "source": [
    "#d21 = df_export[df_export.start > '2018-06-21']\n",
    "for feat in cl.features_all:\n",
    "    dv.boxplot_compare(df, feat, groupby='activity', min_examples=2)"
   ]
  },
  {
   "cell_type": "markdown",
   "metadata": {},
   "source": [
    "\n",
    "---\n",
    "\n",
    "\n",
    "# FRAGMENTATION\n",
    "\n",
    "---\n",
    "\n"
   ]
  },
  {
   "cell_type": "code",
   "execution_count": 24,
   "metadata": {},
   "outputs": [],
   "source": [
    "durations = [60, 30, 20, 10]\n",
    "crop = 5\n",
    "sessions = df.to_dict(orient='records')\n",
    "\n",
    "def multifrag(sessions, durations):\n",
    "    for dr in durations:\n",
    "        fname = PRE_PATH + '\\\\df_train_' + str(dr) + '.xlsx'\n",
    "        print ('generating', fname, '...')\n",
    "        ds = fr.gen_fragments_dataset(sessions, dr, crop, RAW_PATH)\n",
    "        print('resulting dataset:', len(ds), 'records' )\n",
    "        ds.to_excel(fname)"
   ]
  },
  {
   "cell_type": "code",
   "execution_count": 27,
   "metadata": {},
   "outputs": [
    {
     "name": "stdout",
     "output_type": "stream",
     "text": [
      "generating C:\\Users\\ju\\GDrive\\Projects\\HeRV\\Data\\PreProcessed\\df_train_60.xlsx ...\n",
      "34 valid sessions out of 34 total (at least one full fragment of 60 seconds after discarding first 5 seconds)\n",
      "0 / 65\n"
     ]
    },
    {
     "name": "stderr",
     "output_type": "stream",
     "text": [
      "C:\\Users\\Ju\\Anaconda3\\lib\\site-packages\\scipy\\signal\\spectral.py:1633: UserWarning:\n",
      "\n",
      "nperseg = 256 is greater than input length  = 238, using nperseg = 238\n",
      "\n",
      "C:\\Users\\Ju\\Anaconda3\\lib\\site-packages\\scipy\\signal\\spectral.py:1633: UserWarning:\n",
      "\n",
      "nperseg = 256 is greater than input length  = 241, using nperseg = 241\n",
      "\n",
      "C:\\Users\\Ju\\Anaconda3\\lib\\site-packages\\scipy\\signal\\spectral.py:1633: UserWarning:\n",
      "\n",
      "nperseg = 256 is greater than input length  = 234, using nperseg = 234\n",
      "\n",
      "C:\\Users\\Ju\\Anaconda3\\lib\\site-packages\\scipy\\signal\\spectral.py:1633: UserWarning:\n",
      "\n",
      "nperseg = 256 is greater than input length  = 243, using nperseg = 243\n",
      "\n",
      "C:\\Users\\Ju\\Anaconda3\\lib\\site-packages\\scipy\\signal\\spectral.py:1633: UserWarning:\n",
      "\n",
      "nperseg = 256 is greater than input length  = 235, using nperseg = 235\n",
      "\n",
      "C:\\Users\\Ju\\Anaconda3\\lib\\site-packages\\scipy\\signal\\spectral.py:1633: UserWarning:\n",
      "\n",
      "nperseg = 256 is greater than input length  = 246, using nperseg = 246\n",
      "\n",
      "C:\\Users\\Ju\\Anaconda3\\lib\\site-packages\\scipy\\signal\\spectral.py:1633: UserWarning:\n",
      "\n",
      "nperseg = 256 is greater than input length  = 240, using nperseg = 240\n",
      "\n",
      "C:\\Users\\Ju\\Anaconda3\\lib\\site-packages\\scipy\\signal\\spectral.py:1633: UserWarning:\n",
      "\n",
      "nperseg = 256 is greater than input length  = 239, using nperseg = 239\n",
      "\n",
      "C:\\Users\\Ju\\Anaconda3\\lib\\site-packages\\scipy\\signal\\spectral.py:1633: UserWarning:\n",
      "\n",
      "nperseg = 256 is greater than input length  = 232, using nperseg = 232\n",
      "\n",
      "C:\\Users\\Ju\\Anaconda3\\lib\\site-packages\\scipy\\signal\\spectral.py:1633: UserWarning:\n",
      "\n",
      "nperseg = 256 is greater than input length  = 242, using nperseg = 242\n",
      "\n",
      "C:\\Users\\Ju\\Anaconda3\\lib\\site-packages\\scipy\\signal\\spectral.py:1633: UserWarning:\n",
      "\n",
      "nperseg = 256 is greater than input length  = 245, using nperseg = 245\n",
      "\n",
      "C:\\Users\\Ju\\Anaconda3\\lib\\site-packages\\scipy\\signal\\spectral.py:1633: UserWarning:\n",
      "\n",
      "nperseg = 256 is greater than input length  = 233, using nperseg = 233\n",
      "\n",
      "C:\\Users\\Ju\\Anaconda3\\lib\\site-packages\\scipy\\signal\\spectral.py:1633: UserWarning:\n",
      "\n",
      "nperseg = 256 is greater than input length  = 237, using nperseg = 237\n",
      "\n",
      "C:\\Users\\Ju\\Anaconda3\\lib\\site-packages\\scipy\\signal\\spectral.py:1633: UserWarning:\n",
      "\n",
      "nperseg = 256 is greater than input length  = 226, using nperseg = 226\n",
      "\n",
      "C:\\Users\\Ju\\Anaconda3\\lib\\site-packages\\scipy\\signal\\spectral.py:1633: UserWarning:\n",
      "\n",
      "nperseg = 256 is greater than input length  = 244, using nperseg = 244\n",
      "\n",
      "C:\\Users\\Ju\\Anaconda3\\lib\\site-packages\\scipy\\signal\\spectral.py:1633: UserWarning:\n",
      "\n",
      "nperseg = 256 is greater than input length  = 236, using nperseg = 236\n",
      "\n",
      "C:\\Users\\Ju\\Anaconda3\\lib\\site-packages\\scipy\\signal\\spectral.py:1633: UserWarning:\n",
      "\n",
      "nperseg = 256 is greater than input length  = 224, using nperseg = 224\n",
      "\n",
      "C:\\Users\\Ju\\Anaconda3\\lib\\site-packages\\scipy\\signal\\spectral.py:1633: UserWarning:\n",
      "\n",
      "nperseg = 256 is greater than input length  = 230, using nperseg = 230\n",
      "\n"
     ]
    },
    {
     "name": "stdout",
     "output_type": "stream",
     "text": [
      "65 total frags and 64 kept\n",
      "resulting dataset: 64 records\n",
      "generating C:\\Users\\ju\\GDrive\\Projects\\HeRV\\Data\\PreProcessed\\df_train_30.xlsx ...\n",
      "34 valid sessions out of 34 total (at least one full fragment of 30 seconds after discarding first 5 seconds)\n",
      "0 / 134\n"
     ]
    },
    {
     "name": "stderr",
     "output_type": "stream",
     "text": [
      "C:\\Users\\Ju\\Anaconda3\\lib\\site-packages\\scipy\\signal\\spectral.py:1633: UserWarning:\n",
      "\n",
      "nperseg = 256 is greater than input length  = 114, using nperseg = 114\n",
      "\n",
      "C:\\Users\\Ju\\Anaconda3\\lib\\site-packages\\scipy\\signal\\spectral.py:1633: UserWarning:\n",
      "\n",
      "nperseg = 256 is greater than input length  = 117, using nperseg = 117\n",
      "\n",
      "C:\\Users\\Ju\\Anaconda3\\lib\\site-packages\\scipy\\signal\\spectral.py:1633: UserWarning:\n",
      "\n",
      "nperseg = 256 is greater than input length  = 116, using nperseg = 116\n",
      "\n",
      "C:\\Users\\Ju\\Anaconda3\\lib\\site-packages\\scipy\\signal\\spectral.py:1633: UserWarning:\n",
      "\n",
      "nperseg = 256 is greater than input length  = 122, using nperseg = 122\n",
      "\n",
      "C:\\Users\\Ju\\Anaconda3\\lib\\site-packages\\scipy\\signal\\spectral.py:1633: UserWarning:\n",
      "\n",
      "nperseg = 256 is greater than input length  = 112, using nperseg = 112\n",
      "\n",
      "C:\\Users\\Ju\\Anaconda3\\lib\\site-packages\\scipy\\signal\\spectral.py:1633: UserWarning:\n",
      "\n",
      "nperseg = 256 is greater than input length  = 118, using nperseg = 118\n",
      "\n",
      "C:\\Users\\Ju\\Anaconda3\\lib\\site-packages\\scipy\\signal\\spectral.py:1633: UserWarning:\n",
      "\n",
      "nperseg = 256 is greater than input length  = 120, using nperseg = 120\n",
      "\n",
      "C:\\Users\\Ju\\Anaconda3\\lib\\site-packages\\scipy\\signal\\spectral.py:1633: UserWarning:\n",
      "\n",
      "nperseg = 256 is greater than input length  = 115, using nperseg = 115\n",
      "\n",
      "C:\\Users\\Ju\\Anaconda3\\lib\\site-packages\\scipy\\signal\\spectral.py:1633: UserWarning:\n",
      "\n",
      "nperseg = 256 is greater than input length  = 113, using nperseg = 113\n",
      "\n",
      "C:\\Users\\Ju\\Anaconda3\\lib\\site-packages\\scipy\\signal\\spectral.py:1633: UserWarning:\n",
      "\n",
      "nperseg = 256 is greater than input length  = 119, using nperseg = 119\n",
      "\n",
      "C:\\Users\\Ju\\Anaconda3\\lib\\site-packages\\scipy\\signal\\spectral.py:1633: UserWarning:\n",
      "\n",
      "nperseg = 256 is greater than input length  = 121, using nperseg = 121\n",
      "\n",
      "C:\\Users\\Ju\\Anaconda3\\lib\\site-packages\\scipy\\signal\\spectral.py:1633: UserWarning:\n",
      "\n",
      "nperseg = 256 is greater than input length  = 110, using nperseg = 110\n",
      "\n",
      "C:\\Users\\Ju\\Anaconda3\\lib\\site-packages\\scipy\\signal\\spectral.py:1633: UserWarning:\n",
      "\n",
      "nperseg = 256 is greater than input length  = 111, using nperseg = 111\n",
      "\n",
      "C:\\Users\\Ju\\Anaconda3\\lib\\site-packages\\scipy\\signal\\spectral.py:1633: UserWarning:\n",
      "\n",
      "nperseg = 256 is greater than input length  = 109, using nperseg = 109\n",
      "\n",
      "C:\\Users\\Ju\\Anaconda3\\lib\\site-packages\\scipy\\signal\\spectral.py:1633: UserWarning:\n",
      "\n",
      "nperseg = 256 is greater than input length  = 104, using nperseg = 104\n",
      "\n",
      "C:\\Users\\Ju\\Anaconda3\\lib\\site-packages\\scipy\\signal\\spectral.py:1633: UserWarning:\n",
      "\n",
      "nperseg = 256 is greater than input length  = 123, using nperseg = 123\n",
      "\n",
      "C:\\Users\\Ju\\Anaconda3\\lib\\site-packages\\scipy\\signal\\spectral.py:1633: UserWarning:\n",
      "\n",
      "nperseg = 256 is greater than input length  = 100, using nperseg = 100\n",
      "\n",
      "C:\\Users\\Ju\\Anaconda3\\lib\\site-packages\\scipy\\signal\\spectral.py:1633: UserWarning:\n",
      "\n",
      "nperseg = 256 is greater than input length  = 108, using nperseg = 108\n",
      "\n"
     ]
    },
    {
     "name": "stdout",
     "output_type": "stream",
     "text": [
      "134 total frags and 129 kept\n",
      "resulting dataset: 129 records\n",
      "generating C:\\Users\\ju\\GDrive\\Projects\\HeRV\\Data\\PreProcessed\\df_train_20.xlsx ...\n",
      "34 valid sessions out of 34 total (at least one full fragment of 20 seconds after discarding first 5 seconds)\n",
      "0 / 204\n"
     ]
    },
    {
     "name": "stderr",
     "output_type": "stream",
     "text": [
      "C:\\Users\\Ju\\Anaconda3\\lib\\site-packages\\scipy\\signal\\spectral.py:1633: UserWarning:\n",
      "\n",
      "nperseg = 256 is greater than input length  = 75, using nperseg = 75\n",
      "\n",
      "C:\\Users\\Ju\\Anaconda3\\lib\\site-packages\\scipy\\signal\\spectral.py:1633: UserWarning:\n",
      "\n",
      "nperseg = 256 is greater than input length  = 74, using nperseg = 74\n",
      "\n",
      "C:\\Users\\Ju\\Anaconda3\\lib\\site-packages\\scipy\\signal\\spectral.py:1633: UserWarning:\n",
      "\n",
      "nperseg = 256 is greater than input length  = 76, using nperseg = 76\n",
      "\n",
      "C:\\Users\\Ju\\Anaconda3\\lib\\site-packages\\scipy\\signal\\spectral.py:1633: UserWarning:\n",
      "\n",
      "nperseg = 256 is greater than input length  = 71, using nperseg = 71\n",
      "\n",
      "C:\\Users\\Ju\\Anaconda3\\lib\\site-packages\\scipy\\signal\\spectral.py:1633: UserWarning:\n",
      "\n",
      "nperseg = 256 is greater than input length  = 79, using nperseg = 79\n",
      "\n",
      "C:\\Users\\Ju\\Anaconda3\\lib\\site-packages\\scipy\\signal\\spectral.py:1633: UserWarning:\n",
      "\n",
      "nperseg = 256 is greater than input length  = 73, using nperseg = 73\n",
      "\n",
      "C:\\Users\\Ju\\Anaconda3\\lib\\site-packages\\scipy\\signal\\spectral.py:1633: UserWarning:\n",
      "\n",
      "nperseg = 256 is greater than input length  = 80, using nperseg = 80\n",
      "\n",
      "C:\\Users\\Ju\\Anaconda3\\lib\\site-packages\\scipy\\signal\\spectral.py:1633: UserWarning:\n",
      "\n",
      "nperseg = 256 is greater than input length  = 77, using nperseg = 77\n",
      "\n",
      "C:\\Users\\Ju\\Anaconda3\\lib\\site-packages\\scipy\\signal\\spectral.py:1633: UserWarning:\n",
      "\n",
      "nperseg = 256 is greater than input length  = 70, using nperseg = 70\n",
      "\n",
      "C:\\Users\\Ju\\Anaconda3\\lib\\site-packages\\scipy\\signal\\spectral.py:1633: UserWarning:\n",
      "\n",
      "nperseg = 256 is greater than input length  = 69, using nperseg = 69\n",
      "\n",
      "C:\\Users\\Ju\\Anaconda3\\lib\\site-packages\\scipy\\signal\\spectral.py:1633: UserWarning:\n",
      "\n",
      "nperseg = 256 is greater than input length  = 72, using nperseg = 72\n",
      "\n",
      "C:\\Users\\Ju\\Anaconda3\\lib\\site-packages\\scipy\\signal\\spectral.py:1633: UserWarning:\n",
      "\n",
      "nperseg = 256 is greater than input length  = 78, using nperseg = 78\n",
      "\n",
      "C:\\Users\\Ju\\Anaconda3\\lib\\site-packages\\scipy\\signal\\spectral.py:1633: UserWarning:\n",
      "\n",
      "nperseg = 256 is greater than input length  = 81, using nperseg = 81\n",
      "\n",
      "C:\\Users\\Ju\\Anaconda3\\lib\\site-packages\\scipy\\signal\\spectral.py:1633: UserWarning:\n",
      "\n",
      "nperseg = 256 is greater than input length  = 82, using nperseg = 82\n",
      "\n",
      "C:\\Users\\Ju\\Anaconda3\\lib\\site-packages\\scipy\\signal\\spectral.py:1633: UserWarning:\n",
      "\n",
      "nperseg = 256 is greater than input length  = 63, using nperseg = 63\n",
      "\n",
      "C:\\Users\\Ju\\Anaconda3\\lib\\site-packages\\scipy\\signal\\spectral.py:1633: UserWarning:\n",
      "\n",
      "nperseg = 256 is greater than input length  = 67, using nperseg = 67\n",
      "\n",
      "C:\\Users\\Ju\\Anaconda3\\lib\\site-packages\\scipy\\signal\\spectral.py:1633: UserWarning:\n",
      "\n",
      "nperseg = 256 is greater than input length  = 60, using nperseg = 60\n",
      "\n",
      "C:\\Users\\Ju\\Anaconda3\\lib\\site-packages\\scipy\\signal\\spectral.py:1633: UserWarning:\n",
      "\n",
      "nperseg = 256 is greater than input length  = 66, using nperseg = 66\n",
      "\n"
     ]
    },
    {
     "name": "stdout",
     "output_type": "stream",
     "text": [
      "204 total frags and 200 kept\n",
      "resulting dataset: 200 records\n",
      "generating C:\\Users\\ju\\GDrive\\Projects\\HeRV\\Data\\PreProcessed\\df_train_10.xlsx ...\n",
      "34 valid sessions out of 34 total (at least one full fragment of 10 seconds after discarding first 5 seconds)\n",
      "0 / 422\n"
     ]
    },
    {
     "name": "stderr",
     "output_type": "stream",
     "text": [
      "C:\\Users\\Ju\\Anaconda3\\lib\\site-packages\\scipy\\signal\\spectral.py:1633: UserWarning:\n",
      "\n",
      "nperseg = 256 is greater than input length  = 35, using nperseg = 35\n",
      "\n",
      "C:\\Users\\Ju\\Anaconda3\\lib\\site-packages\\scipy\\signal\\spectral.py:1633: UserWarning:\n",
      "\n",
      "nperseg = 256 is greater than input length  = 34, using nperseg = 34\n",
      "\n",
      "C:\\Users\\Ju\\Anaconda3\\lib\\site-packages\\scipy\\signal\\spectral.py:1633: UserWarning:\n",
      "\n",
      "nperseg = 256 is greater than input length  = 33, using nperseg = 33\n",
      "\n",
      "C:\\Users\\Ju\\Anaconda3\\lib\\site-packages\\scipy\\signal\\spectral.py:1633: UserWarning:\n",
      "\n",
      "nperseg = 256 is greater than input length  = 36, using nperseg = 36\n",
      "\n",
      "C:\\Users\\Ju\\Anaconda3\\lib\\site-packages\\scipy\\signal\\spectral.py:1633: UserWarning:\n",
      "\n",
      "nperseg = 256 is greater than input length  = 39, using nperseg = 39\n",
      "\n",
      "C:\\Users\\Ju\\Anaconda3\\lib\\site-packages\\scipy\\signal\\spectral.py:1633: UserWarning:\n",
      "\n",
      "nperseg = 256 is greater than input length  = 30, using nperseg = 30\n",
      "\n",
      "C:\\Users\\Ju\\Anaconda3\\lib\\site-packages\\hrv\\classical.py:44: RuntimeWarning:\n",
      "\n",
      "invalid value encountered in double_scalars\n",
      "\n",
      "C:\\Users\\Ju\\Anaconda3\\lib\\site-packages\\hrv\\classical.py:45: RuntimeWarning:\n",
      "\n",
      "invalid value encountered in double_scalars\n",
      "\n",
      "C:\\Users\\Ju\\Anaconda3\\lib\\site-packages\\hrv\\classical.py:46: RuntimeWarning:\n",
      "\n",
      "invalid value encountered in double_scalars\n",
      "\n",
      "C:\\Users\\Ju\\Anaconda3\\lib\\site-packages\\scipy\\signal\\spectral.py:1633: UserWarning:\n",
      "\n",
      "nperseg = 256 is greater than input length  = 38, using nperseg = 38\n",
      "\n",
      "C:\\Users\\Ju\\Anaconda3\\lib\\site-packages\\scipy\\signal\\spectral.py:1633: UserWarning:\n",
      "\n",
      "nperseg = 256 is greater than input length  = 37, using nperseg = 37\n",
      "\n",
      "C:\\Users\\Ju\\Anaconda3\\lib\\site-packages\\scipy\\signal\\spectral.py:1633: UserWarning:\n",
      "\n",
      "nperseg = 256 is greater than input length  = 28, using nperseg = 28\n",
      "\n",
      "C:\\Users\\Ju\\Anaconda3\\lib\\site-packages\\scipy\\signal\\spectral.py:1633: UserWarning:\n",
      "\n",
      "nperseg = 256 is greater than input length  = 32, using nperseg = 32\n",
      "\n",
      "C:\\Users\\Ju\\Anaconda3\\lib\\site-packages\\scipy\\signal\\spectral.py:1633: UserWarning:\n",
      "\n",
      "nperseg = 256 is greater than input length  = 31, using nperseg = 31\n",
      "\n",
      "C:\\Users\\Ju\\Anaconda3\\lib\\site-packages\\scipy\\signal\\spectral.py:1633: UserWarning:\n",
      "\n",
      "nperseg = 256 is greater than input length  = 41, using nperseg = 41\n",
      "\n",
      "C:\\Users\\Ju\\Anaconda3\\lib\\site-packages\\scipy\\signal\\spectral.py:1633: UserWarning:\n",
      "\n",
      "nperseg = 256 is greater than input length  = 29, using nperseg = 29\n",
      "\n",
      "C:\\Users\\Ju\\Anaconda3\\lib\\site-packages\\scipy\\signal\\spectral.py:1633: UserWarning:\n",
      "\n",
      "nperseg = 256 is greater than input length  = 40, using nperseg = 40\n",
      "\n",
      "C:\\Users\\Ju\\Anaconda3\\lib\\site-packages\\scipy\\signal\\spectral.py:1633: UserWarning:\n",
      "\n",
      "nperseg = 256 is greater than input length  = 27, using nperseg = 27\n",
      "\n",
      "C:\\Users\\Ju\\Anaconda3\\lib\\site-packages\\scipy\\signal\\spectral.py:1633: UserWarning:\n",
      "\n",
      "nperseg = 256 is greater than input length  = 25, using nperseg = 25\n",
      "\n"
     ]
    },
    {
     "name": "stdout",
     "output_type": "stream",
     "text": [
      "422 total frags and 417 kept\n",
      "resulting dataset: 417 records\n",
      "Wall time: 1min 10s\n"
     ]
    }
   ],
   "source": [
    "%time multifrag(sessions, durations)"
   ]
  },
  {
   "cell_type": "markdown",
   "metadata": {},
   "source": [
    "\n",
    "---\n",
    "\n",
    "\n",
    "# CLASSIFICATION\n",
    "\n",
    "---\n",
    "\n"
   ]
  },
  {
   "cell_type": "code",
   "execution_count": 36,
   "metadata": {},
   "outputs": [],
   "source": [
    "features = ['mrri', 'sdnn', 'rmssd', 'pnn50', 'hfnu', 'lfnu', 'lf_hf']\n",
    "clf = RandomForestClassifier(n_estimators=100, n_jobs=-1)"
   ]
  },
  {
   "cell_type": "code",
   "execution_count": 37,
   "metadata": {},
   "outputs": [
    {
     "data": {
      "text/html": [
       "<div>\n",
       "<style>\n",
       "    .dataframe thead tr:only-child th {\n",
       "        text-align: right;\n",
       "    }\n",
       "\n",
       "    .dataframe thead th {\n",
       "        text-align: left;\n",
       "    }\n",
       "\n",
       "    .dataframe tbody tr th {\n",
       "        vertical-align: top;\n",
       "    }\n",
       "</style>\n",
       "<table border=\"1\" class=\"dataframe\">\n",
       "  <thead>\n",
       "    <tr style=\"text-align: right;\">\n",
       "      <th></th>\n",
       "      <th>beatcount</th>\n",
       "      <th>hf</th>\n",
       "      <th>hfnu</th>\n",
       "      <th>lf</th>\n",
       "      <th>lf_hf</th>\n",
       "      <th>lfnu</th>\n",
       "      <th>mhr</th>\n",
       "      <th>mrri</th>\n",
       "      <th>nn50</th>\n",
       "      <th>order</th>\n",
       "      <th>pnn50</th>\n",
       "      <th>rmssd</th>\n",
       "      <th>sdnn</th>\n",
       "      <th>sess</th>\n",
       "      <th>total_power</th>\n",
       "      <th>user</th>\n",
       "      <th>vlf</th>\n",
       "    </tr>\n",
       "  </thead>\n",
       "  <tbody>\n",
       "    <tr>\n",
       "      <th>count</th>\n",
       "      <td>64.000000</td>\n",
       "      <td>64.000000</td>\n",
       "      <td>64.000000</td>\n",
       "      <td>64.000000</td>\n",
       "      <td>64.000000</td>\n",
       "      <td>64.000000</td>\n",
       "      <td>64.000000</td>\n",
       "      <td>64.000000</td>\n",
       "      <td>64.000000</td>\n",
       "      <td>64.000000</td>\n",
       "      <td>64.000000</td>\n",
       "      <td>64.000000</td>\n",
       "      <td>64.000000</td>\n",
       "      <td>64.000000</td>\n",
       "      <td>64.000000</td>\n",
       "      <td>64.0</td>\n",
       "      <td>64.000000</td>\n",
       "    </tr>\n",
       "    <tr>\n",
       "      <th>mean</th>\n",
       "      <td>80.812500</td>\n",
       "      <td>906.892903</td>\n",
       "      <td>43.019616</td>\n",
       "      <td>1401.593039</td>\n",
       "      <td>3.256969</td>\n",
       "      <td>56.980384</td>\n",
       "      <td>81.337328</td>\n",
       "      <td>748.949495</td>\n",
       "      <td>11.421875</td>\n",
       "      <td>0.484375</td>\n",
       "      <td>14.790510</td>\n",
       "      <td>52.723166</td>\n",
       "      <td>63.134512</td>\n",
       "      <td>16.093750</td>\n",
       "      <td>3095.316772</td>\n",
       "      <td>0.0</td>\n",
       "      <td>786.830830</td>\n",
       "    </tr>\n",
       "    <tr>\n",
       "      <th>std</th>\n",
       "      <td>5.687287</td>\n",
       "      <td>1203.777538</td>\n",
       "      <td>24.086947</td>\n",
       "      <td>2569.160132</td>\n",
       "      <td>4.784701</td>\n",
       "      <td>24.086947</td>\n",
       "      <td>5.801891</td>\n",
       "      <td>52.736762</td>\n",
       "      <td>9.004064</td>\n",
       "      <td>0.503706</td>\n",
       "      <td>12.148936</td>\n",
       "      <td>36.781636</td>\n",
       "      <td>30.964950</td>\n",
       "      <td>9.857265</td>\n",
       "      <td>4035.128292</td>\n",
       "      <td>0.0</td>\n",
       "      <td>1179.827968</td>\n",
       "    </tr>\n",
       "    <tr>\n",
       "      <th>min</th>\n",
       "      <td>68.000000</td>\n",
       "      <td>82.046471</td>\n",
       "      <td>3.359040</td>\n",
       "      <td>60.775005</td>\n",
       "      <td>0.151619</td>\n",
       "      <td>13.165736</td>\n",
       "      <td>69.165795</td>\n",
       "      <td>653.445652</td>\n",
       "      <td>0.000000</td>\n",
       "      <td>0.000000</td>\n",
       "      <td>0.000000</td>\n",
       "      <td>15.203744</td>\n",
       "      <td>24.110738</td>\n",
       "      <td>0.000000</td>\n",
       "      <td>362.491185</td>\n",
       "      <td>0.0</td>\n",
       "      <td>32.990982</td>\n",
       "    </tr>\n",
       "    <tr>\n",
       "      <th>25%</th>\n",
       "      <td>76.750000</td>\n",
       "      <td>224.814554</td>\n",
       "      <td>24.555316</td>\n",
       "      <td>395.724516</td>\n",
       "      <td>0.564498</td>\n",
       "      <td>36.079339</td>\n",
       "      <td>76.968898</td>\n",
       "      <td>704.744186</td>\n",
       "      <td>4.000000</td>\n",
       "      <td>0.000000</td>\n",
       "      <td>5.146104</td>\n",
       "      <td>25.321243</td>\n",
       "      <td>42.287758</td>\n",
       "      <td>7.750000</td>\n",
       "      <td>1176.921437</td>\n",
       "      <td>0.0</td>\n",
       "      <td>194.565217</td>\n",
       "    </tr>\n",
       "    <tr>\n",
       "      <th>50%</th>\n",
       "      <td>81.000000</td>\n",
       "      <td>364.750644</td>\n",
       "      <td>41.971416</td>\n",
       "      <td>749.652321</td>\n",
       "      <td>1.382853</td>\n",
       "      <td>58.028584</td>\n",
       "      <td>81.113127</td>\n",
       "      <td>742.931948</td>\n",
       "      <td>9.500000</td>\n",
       "      <td>0.000000</td>\n",
       "      <td>11.898061</td>\n",
       "      <td>39.910302</td>\n",
       "      <td>54.352067</td>\n",
       "      <td>16.000000</td>\n",
       "      <td>1843.541765</td>\n",
       "      <td>0.0</td>\n",
       "      <td>355.305220</td>\n",
       "    </tr>\n",
       "    <tr>\n",
       "      <th>75%</th>\n",
       "      <td>85.250000</td>\n",
       "      <td>978.300152</td>\n",
       "      <td>63.920661</td>\n",
       "      <td>1446.639540</td>\n",
       "      <td>3.075189</td>\n",
       "      <td>75.444684</td>\n",
       "      <td>86.010238</td>\n",
       "      <td>786.481923</td>\n",
       "      <td>15.500000</td>\n",
       "      <td>1.000000</td>\n",
       "      <td>20.067568</td>\n",
       "      <td>64.196444</td>\n",
       "      <td>72.547394</td>\n",
       "      <td>24.250000</td>\n",
       "      <td>3062.817274</td>\n",
       "      <td>0.0</td>\n",
       "      <td>829.750739</td>\n",
       "    </tr>\n",
       "    <tr>\n",
       "      <th>max</th>\n",
       "      <td>92.000000</td>\n",
       "      <td>5776.928692</td>\n",
       "      <td>86.834264</td>\n",
       "      <td>19869.445137</td>\n",
       "      <td>28.770411</td>\n",
       "      <td>96.640960</td>\n",
       "      <td>94.373136</td>\n",
       "      <td>882.808824</td>\n",
       "      <td>44.000000</td>\n",
       "      <td>1.000000</td>\n",
       "      <td>55.000000</td>\n",
       "      <td>178.143096</td>\n",
       "      <td>168.596896</td>\n",
       "      <td>33.000000</td>\n",
       "      <td>27541.808917</td>\n",
       "      <td>0.0</td>\n",
       "      <td>5655.788389</td>\n",
       "    </tr>\n",
       "  </tbody>\n",
       "</table>\n",
       "</div>"
      ],
      "text/plain": [
       "       beatcount           hf       hfnu            lf      lf_hf       lfnu  \\\n",
       "count  64.000000    64.000000  64.000000     64.000000  64.000000  64.000000   \n",
       "mean   80.812500   906.892903  43.019616   1401.593039   3.256969  56.980384   \n",
       "std     5.687287  1203.777538  24.086947   2569.160132   4.784701  24.086947   \n",
       "min    68.000000    82.046471   3.359040     60.775005   0.151619  13.165736   \n",
       "25%    76.750000   224.814554  24.555316    395.724516   0.564498  36.079339   \n",
       "50%    81.000000   364.750644  41.971416    749.652321   1.382853  58.028584   \n",
       "75%    85.250000   978.300152  63.920661   1446.639540   3.075189  75.444684   \n",
       "max    92.000000  5776.928692  86.834264  19869.445137  28.770411  96.640960   \n",
       "\n",
       "             mhr        mrri       nn50      order      pnn50       rmssd  \\\n",
       "count  64.000000   64.000000  64.000000  64.000000  64.000000   64.000000   \n",
       "mean   81.337328  748.949495  11.421875   0.484375  14.790510   52.723166   \n",
       "std     5.801891   52.736762   9.004064   0.503706  12.148936   36.781636   \n",
       "min    69.165795  653.445652   0.000000   0.000000   0.000000   15.203744   \n",
       "25%    76.968898  704.744186   4.000000   0.000000   5.146104   25.321243   \n",
       "50%    81.113127  742.931948   9.500000   0.000000  11.898061   39.910302   \n",
       "75%    86.010238  786.481923  15.500000   1.000000  20.067568   64.196444   \n",
       "max    94.373136  882.808824  44.000000   1.000000  55.000000  178.143096   \n",
       "\n",
       "             sdnn       sess   total_power  user          vlf  \n",
       "count   64.000000  64.000000     64.000000  64.0    64.000000  \n",
       "mean    63.134512  16.093750   3095.316772   0.0   786.830830  \n",
       "std     30.964950   9.857265   4035.128292   0.0  1179.827968  \n",
       "min     24.110738   0.000000    362.491185   0.0    32.990982  \n",
       "25%     42.287758   7.750000   1176.921437   0.0   194.565217  \n",
       "50%     54.352067  16.000000   1843.541765   0.0   355.305220  \n",
       "75%     72.547394  24.250000   3062.817274   0.0   829.750739  \n",
       "max    168.596896  33.000000  27541.808917   0.0  5655.788389  "
      ]
     },
     "execution_count": 37,
     "metadata": {},
     "output_type": "execute_result"
    }
   ],
   "source": [
    "df = pd.read_excel(PRE_PATH+'\\\\df_train_60_5.xlsx')\n",
    "df.describe()"
   ]
  },
  {
   "cell_type": "code",
   "execution_count": 38,
   "metadata": {},
   "outputs": [],
   "source": [
    "dfr = df[df.activity.isin(['train-focus', 'train-breathe'])]"
   ]
  },
  {
   "cell_type": "code",
   "execution_count": 40,
   "metadata": {},
   "outputs": [
    {
     "name": "stdout",
     "output_type": "stream",
     "text": [
      "\n",
      "\n",
      "\n",
      "--------------------------------------------- activity ---------------------------------------------\n",
      "activity\n",
      "train-breathe    23\n",
      "train-focus      23\n",
      "Name: user, dtype: int64\n",
      "36 10\n"
     ]
    },
    {
     "data": {
      "application/vnd.plotly.v1+json": {
       "data": [
        {
         "colorscale": [
          [
           0,
           "rgb(165,0,38)"
          ],
          [
           0.1111111111111111,
           "rgb(215,48,39)"
          ],
          [
           0.2222222222222222,
           "rgb(244,109,67)"
          ],
          [
           0.3333333333333333,
           "rgb(253,174,97)"
          ],
          [
           0.4444444444444444,
           "rgb(254,224,144)"
          ],
          [
           0.5555555555555556,
           "rgb(224,243,248)"
          ],
          [
           0.6666666666666666,
           "rgb(171,217,233)"
          ],
          [
           0.7777777777777778,
           "rgb(116,173,209)"
          ],
          [
           0.8888888888888888,
           "rgb(69,117,180)"
          ],
          [
           1,
           "rgb(49,54,149)"
          ]
         ],
         "type": "heatmap",
         "x": [
          "precision",
          "recall",
          "f1"
         ],
         "y": [
          "train-breathe",
          "train-focus"
         ],
         "z": [
          [
           1,
           0.5,
           0.6666666666666666
          ],
          [
           0.75,
           1,
           0.8571428571428571
          ]
         ],
         "zmax": 1,
         "zmin": 0.5
        }
       ],
       "layout": {
        "font": {
         "color": "#333333",
         "size": 16
        },
        "title": "Precision, Recall, F1-score",
        "yaxis": {
         "autorange": "reversed"
        }
       }
      },
      "text/html": [
       "<div id=\"ec80390f-541b-4292-afd6-1311f1ac8203\" style=\"height: 525px; width: 100%;\" class=\"plotly-graph-div\"></div><script type=\"text/javascript\">require([\"plotly\"], function(Plotly) { window.PLOTLYENV=window.PLOTLYENV || {};window.PLOTLYENV.BASE_URL=\"https://plot.ly\";Plotly.newPlot(\"ec80390f-541b-4292-afd6-1311f1ac8203\", [{\"type\": \"heatmap\", \"z\": [[1.0, 0.5, 0.6666666666666666], [0.75, 1.0, 0.8571428571428571]], \"y\": [\"train-breathe\", \"train-focus\"], \"x\": [\"precision\", \"recall\", \"f1\"], \"colorscale\": [[0.0, \"rgb(165,0,38)\"], [0.1111111111111111, \"rgb(215,48,39)\"], [0.2222222222222222, \"rgb(244,109,67)\"], [0.3333333333333333, \"rgb(253,174,97)\"], [0.4444444444444444, \"rgb(254,224,144)\"], [0.5555555555555556, \"rgb(224,243,248)\"], [0.6666666666666666, \"rgb(171,217,233)\"], [0.7777777777777778, \"rgb(116,173,209)\"], [0.8888888888888888, \"rgb(69,117,180)\"], [1.0, \"rgb(49,54,149)\"]], \"zmin\": 0.5, \"zmax\": 1.0}], {\"title\": \"Precision, Recall, F1-score\", \"font\": {\"size\": 16, \"color\": \"#333333\"}, \"yaxis\": {\"autorange\": \"reversed\"}}, {\"showLink\": true, \"linkText\": \"Export to plot.ly\"})});</script>"
      ],
      "text/vnd.plotly.v1+html": [
       "<div id=\"ec80390f-541b-4292-afd6-1311f1ac8203\" style=\"height: 525px; width: 100%;\" class=\"plotly-graph-div\"></div><script type=\"text/javascript\">require([\"plotly\"], function(Plotly) { window.PLOTLYENV=window.PLOTLYENV || {};window.PLOTLYENV.BASE_URL=\"https://plot.ly\";Plotly.newPlot(\"ec80390f-541b-4292-afd6-1311f1ac8203\", [{\"type\": \"heatmap\", \"z\": [[1.0, 0.5, 0.6666666666666666], [0.75, 1.0, 0.8571428571428571]], \"y\": [\"train-breathe\", \"train-focus\"], \"x\": [\"precision\", \"recall\", \"f1\"], \"colorscale\": [[0.0, \"rgb(165,0,38)\"], [0.1111111111111111, \"rgb(215,48,39)\"], [0.2222222222222222, \"rgb(244,109,67)\"], [0.3333333333333333, \"rgb(253,174,97)\"], [0.4444444444444444, \"rgb(254,224,144)\"], [0.5555555555555556, \"rgb(224,243,248)\"], [0.6666666666666666, \"rgb(171,217,233)\"], [0.7777777777777778, \"rgb(116,173,209)\"], [0.8888888888888888, \"rgb(69,117,180)\"], [1.0, \"rgb(49,54,149)\"]], \"zmin\": 0.5, \"zmax\": 1.0}], {\"title\": \"Precision, Recall, F1-score\", \"font\": {\"size\": 16, \"color\": \"#333333\"}, \"yaxis\": {\"autorange\": \"reversed\"}}, {\"showLink\": true, \"linkText\": \"Export to plot.ly\"})});</script>"
      ]
     },
     "metadata": {},
     "output_type": "display_data"
    },
    {
     "data": {
      "application/vnd.plotly.v1+json": {
       "data": [
        {
         "colorscale": "Reds",
         "type": "heatmap",
         "x": [
          "train-breathe",
          "train-focus"
         ],
         "y": [
          "train-breathe",
          "train-focus"
         ],
         "z": [
          [
           2,
           2
          ],
          [
           0,
           6
          ]
         ]
        }
       ],
       "layout": {
        "font": {
         "color": "#333333",
         "size": 16
        },
        "title": "Confusion Matrix",
        "xaxis": {
         "title": "predicted",
         "titlefont": {
          "color": "#333333",
          "size": 16
         }
        },
        "yaxis": {
         "autorange": "reversed",
         "title": "true label",
         "titlefont": {
          "color": "#333333",
          "size": 16
         }
        }
       }
      },
      "text/html": [
       "<div id=\"ce36352e-a0fa-45f1-a85d-91bad3ed9022\" style=\"height: 525px; width: 100%;\" class=\"plotly-graph-div\"></div><script type=\"text/javascript\">require([\"plotly\"], function(Plotly) { window.PLOTLYENV=window.PLOTLYENV || {};window.PLOTLYENV.BASE_URL=\"https://plot.ly\";Plotly.newPlot(\"ce36352e-a0fa-45f1-a85d-91bad3ed9022\", [{\"type\": \"heatmap\", \"z\": [[2, 2], [0, 6]], \"x\": [\"train-breathe\", \"train-focus\"], \"y\": [\"train-breathe\", \"train-focus\"], \"colorscale\": \"Reds\"}], {\"title\": \"Confusion Matrix\", \"font\": {\"size\": 16, \"color\": \"#333333\"}, \"xaxis\": {\"title\": \"predicted\", \"titlefont\": {\"size\": 16, \"color\": \"#333333\"}}, \"yaxis\": {\"title\": \"true label\", \"titlefont\": {\"size\": 16, \"color\": \"#333333\"}, \"autorange\": \"reversed\"}}, {\"showLink\": true, \"linkText\": \"Export to plot.ly\"})});</script>"
      ],
      "text/vnd.plotly.v1+html": [
       "<div id=\"ce36352e-a0fa-45f1-a85d-91bad3ed9022\" style=\"height: 525px; width: 100%;\" class=\"plotly-graph-div\"></div><script type=\"text/javascript\">require([\"plotly\"], function(Plotly) { window.PLOTLYENV=window.PLOTLYENV || {};window.PLOTLYENV.BASE_URL=\"https://plot.ly\";Plotly.newPlot(\"ce36352e-a0fa-45f1-a85d-91bad3ed9022\", [{\"type\": \"heatmap\", \"z\": [[2, 2], [0, 6]], \"x\": [\"train-breathe\", \"train-focus\"], \"y\": [\"train-breathe\", \"train-focus\"], \"colorscale\": \"Reds\"}], {\"title\": \"Confusion Matrix\", \"font\": {\"size\": 16, \"color\": \"#333333\"}, \"xaxis\": {\"title\": \"predicted\", \"titlefont\": {\"size\": 16, \"color\": \"#333333\"}}, \"yaxis\": {\"title\": \"true label\", \"titlefont\": {\"size\": 16, \"color\": \"#333333\"}, \"autorange\": \"reversed\"}}, {\"showLink\": true, \"linkText\": \"Export to plot.ly\"})});</script>"
      ]
     },
     "metadata": {},
     "output_type": "display_data"
    }
   ],
   "source": [
    "for label in ['activity']:\n",
    "    cmc.plot_matrices(dfr, clf, features, label)"
   ]
  },
  {
   "cell_type": "code",
   "execution_count": null,
   "metadata": {},
   "outputs": [],
   "source": []
  }
 ],
 "metadata": {
  "kernelspec": {
   "display_name": "Python 3",
   "language": "python",
   "name": "python3"
  },
  "language_info": {
   "codemirror_mode": {
    "name": "ipython",
    "version": 3
   },
   "file_extension": ".py",
   "mimetype": "text/x-python",
   "name": "python",
   "nbconvert_exporter": "python",
   "pygments_lexer": "ipython3",
   "version": "3.6.3"
  }
 },
 "nbformat": 4,
 "nbformat_minor": 2
}
