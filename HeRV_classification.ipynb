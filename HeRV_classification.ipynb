{
 "cells": [
  {
   "cell_type": "code",
   "execution_count": 27,
   "metadata": {},
   "outputs": [
    {
     "name": "stdout",
     "output_type": "stream",
     "text": [
      "The autoreload extension is already loaded. To reload it, use:\n",
      "  %reload_ext autoreload\n"
     ]
    }
   ],
   "source": [
    "%load_ext autoreload\n",
    "%autoreload 2\n",
    "%matplotlib inline  \n",
    "\n",
    "import pandas as pd\n",
    "import numpy as np\n",
    "import matplotlib.pyplot as plt\n",
    "\n",
    "from sklearn import svm\n",
    "from sklearn.preprocessing import scale\n",
    "from sklearn.model_selection import StratifiedShuffleSplit, GridSearchCV, train_test_split\n",
    "\n",
    "import hervpd as hp\n",
    "import plotReport as pr"
   ]
  },
  {
   "cell_type": "code",
   "execution_count": 6,
   "metadata": {},
   "outputs": [
    {
     "name": "stdout",
     "output_type": "stream",
     "text": [
      "['eat' 'focused-active' 'focused-passive' 'household-chores'\n",
      " 'leisure-active' 'leisure-passive' 'movement' 'sleep' 'rest-active']\n"
     ]
    },
    {
     "data": {
      "text/html": [
       "<div>\n",
       "<style>\n",
       "    .dataframe thead tr:only-child th {\n",
       "        text-align: right;\n",
       "    }\n",
       "\n",
       "    .dataframe thead th {\n",
       "        text-align: left;\n",
       "    }\n",
       "\n",
       "    .dataframe tbody tr th {\n",
       "        vertical-align: top;\n",
       "    }\n",
       "</style>\n",
       "<table border=\"1\" class=\"dataframe\">\n",
       "  <thead>\n",
       "    <tr style=\"text-align: right;\">\n",
       "      <th></th>\n",
       "      <th>user</th>\n",
       "      <th>AVGNN</th>\n",
       "      <th>SDNN</th>\n",
       "      <th>MeanHR</th>\n",
       "      <th>MinHR</th>\n",
       "      <th>MaxHR</th>\n",
       "      <th>RMSSD</th>\n",
       "      <th>pNNxx</th>\n",
       "      <th>TINN</th>\n",
       "      <th>powerVLF</th>\n",
       "      <th>powerLF</th>\n",
       "      <th>powerHF</th>\n",
       "      <th>ratioHFLF</th>\n",
       "    </tr>\n",
       "  </thead>\n",
       "  <tbody>\n",
       "    <tr>\n",
       "      <th>count</th>\n",
       "      <td>544.000000</td>\n",
       "      <td>544.000000</td>\n",
       "      <td>544.000000</td>\n",
       "      <td>544.00000</td>\n",
       "      <td>544.000000</td>\n",
       "      <td>544.000000</td>\n",
       "      <td>544.000000</td>\n",
       "      <td>544.000000</td>\n",
       "      <td>544.000000</td>\n",
       "      <td>544.000000</td>\n",
       "      <td>544.000000</td>\n",
       "      <td>544.000000</td>\n",
       "      <td>544.000000</td>\n",
       "    </tr>\n",
       "    <tr>\n",
       "      <th>mean</th>\n",
       "      <td>1.187500</td>\n",
       "      <td>758.600000</td>\n",
       "      <td>72.865018</td>\n",
       "      <td>81.37714</td>\n",
       "      <td>67.362033</td>\n",
       "      <td>108.560417</td>\n",
       "      <td>46.409227</td>\n",
       "      <td>20.082227</td>\n",
       "      <td>358.020221</td>\n",
       "      <td>2877.387599</td>\n",
       "      <td>1423.919671</td>\n",
       "      <td>1000.824001</td>\n",
       "      <td>2.753764</td>\n",
       "    </tr>\n",
       "    <tr>\n",
       "      <th>std</th>\n",
       "      <td>0.913249</td>\n",
       "      <td>129.785003</td>\n",
       "      <td>32.960406</td>\n",
       "      <td>13.75457</td>\n",
       "      <td>10.849680</td>\n",
       "      <td>36.385572</td>\n",
       "      <td>32.537407</td>\n",
       "      <td>18.316263</td>\n",
       "      <td>146.885899</td>\n",
       "      <td>3619.576847</td>\n",
       "      <td>1443.217366</td>\n",
       "      <td>1841.656665</td>\n",
       "      <td>2.296974</td>\n",
       "    </tr>\n",
       "    <tr>\n",
       "      <th>min</th>\n",
       "      <td>0.000000</td>\n",
       "      <td>475.730000</td>\n",
       "      <td>17.833000</td>\n",
       "      <td>51.62800</td>\n",
       "      <td>41.437000</td>\n",
       "      <td>58.117000</td>\n",
       "      <td>4.882500</td>\n",
       "      <td>0.000000</td>\n",
       "      <td>83.000000</td>\n",
       "      <td>85.654000</td>\n",
       "      <td>57.852000</td>\n",
       "      <td>7.977700</td>\n",
       "      <td>0.154680</td>\n",
       "    </tr>\n",
       "    <tr>\n",
       "      <th>25%</th>\n",
       "      <td>0.000000</td>\n",
       "      <td>670.362500</td>\n",
       "      <td>51.871500</td>\n",
       "      <td>73.23225</td>\n",
       "      <td>60.292750</td>\n",
       "      <td>91.470250</td>\n",
       "      <td>27.438750</td>\n",
       "      <td>6.593075</td>\n",
       "      <td>258.000000</td>\n",
       "      <td>995.182500</td>\n",
       "      <td>591.307500</td>\n",
       "      <td>258.917500</td>\n",
       "      <td>1.257000</td>\n",
       "    </tr>\n",
       "    <tr>\n",
       "      <th>50%</th>\n",
       "      <td>2.000000</td>\n",
       "      <td>750.545000</td>\n",
       "      <td>67.057000</td>\n",
       "      <td>79.94200</td>\n",
       "      <td>66.181500</td>\n",
       "      <td>100.520000</td>\n",
       "      <td>37.994500</td>\n",
       "      <td>15.417500</td>\n",
       "      <td>339.000000</td>\n",
       "      <td>1807.950000</td>\n",
       "      <td>1040.350000</td>\n",
       "      <td>512.090000</td>\n",
       "      <td>2.037350</td>\n",
       "    </tr>\n",
       "    <tr>\n",
       "      <th>75%</th>\n",
       "      <td>2.000000</td>\n",
       "      <td>819.307500</td>\n",
       "      <td>85.820000</td>\n",
       "      <td>89.50400</td>\n",
       "      <td>74.285250</td>\n",
       "      <td>112.580000</td>\n",
       "      <td>54.762250</td>\n",
       "      <td>26.790500</td>\n",
       "      <td>426.250000</td>\n",
       "      <td>3304.250000</td>\n",
       "      <td>1697.950000</td>\n",
       "      <td>960.045000</td>\n",
       "      <td>3.579975</td>\n",
       "    </tr>\n",
       "    <tr>\n",
       "      <th>max</th>\n",
       "      <td>2.000000</td>\n",
       "      <td>1162.200000</td>\n",
       "      <td>264.250000</td>\n",
       "      <td>126.12000</td>\n",
       "      <td>104.900000</td>\n",
       "      <td>550.320000</td>\n",
       "      <td>240.470000</td>\n",
       "      <td>98.232000</td>\n",
       "      <td>1103.000000</td>\n",
       "      <td>29716.000000</td>\n",
       "      <td>12958.000000</td>\n",
       "      <td>16103.000000</td>\n",
       "      <td>18.228000</td>\n",
       "    </tr>\n",
       "  </tbody>\n",
       "</table>\n",
       "</div>"
      ],
      "text/plain": [
       "             user        AVGNN        SDNN     MeanHR       MinHR       MaxHR  \\\n",
       "count  544.000000   544.000000  544.000000  544.00000  544.000000  544.000000   \n",
       "mean     1.187500   758.600000   72.865018   81.37714   67.362033  108.560417   \n",
       "std      0.913249   129.785003   32.960406   13.75457   10.849680   36.385572   \n",
       "min      0.000000   475.730000   17.833000   51.62800   41.437000   58.117000   \n",
       "25%      0.000000   670.362500   51.871500   73.23225   60.292750   91.470250   \n",
       "50%      2.000000   750.545000   67.057000   79.94200   66.181500  100.520000   \n",
       "75%      2.000000   819.307500   85.820000   89.50400   74.285250  112.580000   \n",
       "max      2.000000  1162.200000  264.250000  126.12000  104.900000  550.320000   \n",
       "\n",
       "            RMSSD       pNNxx         TINN      powerVLF       powerLF  \\\n",
       "count  544.000000  544.000000   544.000000    544.000000    544.000000   \n",
       "mean    46.409227   20.082227   358.020221   2877.387599   1423.919671   \n",
       "std     32.537407   18.316263   146.885899   3619.576847   1443.217366   \n",
       "min      4.882500    0.000000    83.000000     85.654000     57.852000   \n",
       "25%     27.438750    6.593075   258.000000    995.182500    591.307500   \n",
       "50%     37.994500   15.417500   339.000000   1807.950000   1040.350000   \n",
       "75%     54.762250   26.790500   426.250000   3304.250000   1697.950000   \n",
       "max    240.470000   98.232000  1103.000000  29716.000000  12958.000000   \n",
       "\n",
       "            powerHF   ratioHFLF  \n",
       "count    544.000000  544.000000  \n",
       "mean    1000.824001    2.753764  \n",
       "std     1841.656665    2.296974  \n",
       "min        7.977700    0.154680  \n",
       "25%      258.917500    1.257000  \n",
       "50%      512.090000    2.037350  \n",
       "75%      960.045000    3.579975  \n",
       "max    16103.000000   18.228000  "
      ]
     },
     "execution_count": 6,
     "metadata": {},
     "output_type": "execute_result"
    }
   ],
   "source": [
    "df = pd.read_csv( 'data/12features/combined.csv')\n",
    "print(df.activity.unique())\n",
    "df.describe()"
   ]
  },
  {
   "cell_type": "code",
   "execution_count": 15,
   "metadata": {},
   "outputs": [
    {
     "data": {
      "text/plain": [
       "Text(0,0.5,'sessions')"
      ]
     },
     "execution_count": 15,
     "metadata": {},
     "output_type": "execute_result"
    },
    {
     "data": {
      "image/png": "[encoded data removed]",
      "text/plain": [
       "<matplotlib.figure.Figure at 0xc33e438>"
      ]
     },
     "metadata": {},
     "output_type": "display_data"
    }
   ],
   "source": [
    "ac = hp.countExamplesByActivity(df)\n",
    "ac.plot(kind='bar', y='# of ')\n",
    "\n",
    "ax = ac.plot(kind='bar')\n",
    "ax.set_ylabel(\"sessions\")"
   ]
  },
  {
   "cell_type": "markdown",
   "metadata": {},
   "source": [
    "### Apply scale to make all features go to mean = 0 and SD = 1. That will allow SVM kernels not to put too much weight on features with larger values."
   ]
  },
  {
   "cell_type": "code",
   "execution_count": 16,
   "metadata": {},
   "outputs": [
    {
     "name": "stderr",
     "output_type": "stream",
     "text": [
      "C:\\Users\\johndoe\\Anaconda3\\lib\\site-packages\\sklearn\\utils\\validation.py:475: DataConversionWarning: Data with input dtype int64 was converted to float64 by the scale function.\n",
      "  warnings.warn(msg, DataConversionWarning)\n",
      "C:\\Users\\johndoe\\Anaconda3\\lib\\site-packages\\pandas\\core\\indexing.py:517: SettingWithCopyWarning: \n",
      "A value is trying to be set on a copy of a slice from a DataFrame.\n",
      "Try using .loc[row_indexer,col_indexer] = value instead\n",
      "\n",
      "See the caveats in the documentation: http://pandas.pydata.org/pandas-docs/stable/indexing.html#indexing-view-versus-copy\n",
      "  self.obj[item] = s\n"
     ]
    },
    {
     "data": {
      "text/html": [
       "<div>\n",
       "<style>\n",
       "    .dataframe thead tr:only-child th {\n",
       "        text-align: right;\n",
       "    }\n",
       "\n",
       "    .dataframe thead th {\n",
       "        text-align: left;\n",
       "    }\n",
       "\n",
       "    .dataframe tbody tr th {\n",
       "        vertical-align: top;\n",
       "    }\n",
       "</style>\n",
       "<table border=\"1\" class=\"dataframe\">\n",
       "  <thead>\n",
       "    <tr style=\"text-align: right;\">\n",
       "      <th></th>\n",
       "      <th>user</th>\n",
       "      <th>AVGNN</th>\n",
       "      <th>SDNN</th>\n",
       "      <th>MeanHR</th>\n",
       "      <th>MinHR</th>\n",
       "      <th>MaxHR</th>\n",
       "      <th>RMSSD</th>\n",
       "      <th>pNNxx</th>\n",
       "      <th>TINN</th>\n",
       "      <th>powerVLF</th>\n",
       "      <th>powerLF</th>\n",
       "      <th>powerHF</th>\n",
       "      <th>ratioHFLF</th>\n",
       "    </tr>\n",
       "  </thead>\n",
       "  <tbody>\n",
       "    <tr>\n",
       "      <th>count</th>\n",
       "      <td>511.000000</td>\n",
       "      <td>5.110000e+02</td>\n",
       "      <td>5.110000e+02</td>\n",
       "      <td>5.110000e+02</td>\n",
       "      <td>5.110000e+02</td>\n",
       "      <td>5.110000e+02</td>\n",
       "      <td>5.110000e+02</td>\n",
       "      <td>5.110000e+02</td>\n",
       "      <td>5.110000e+02</td>\n",
       "      <td>5.110000e+02</td>\n",
       "      <td>5.110000e+02</td>\n",
       "      <td>5.110000e+02</td>\n",
       "      <td>5.110000e+02</td>\n",
       "    </tr>\n",
       "    <tr>\n",
       "      <th>mean</th>\n",
       "      <td>1.189824</td>\n",
       "      <td>9.081668e-17</td>\n",
       "      <td>2.085742e-17</td>\n",
       "      <td>-1.477401e-16</td>\n",
       "      <td>-7.565160e-16</td>\n",
       "      <td>-2.137885e-16</td>\n",
       "      <td>1.807643e-16</td>\n",
       "      <td>1.194956e-17</td>\n",
       "      <td>-1.199302e-16</td>\n",
       "      <td>7.126285e-17</td>\n",
       "      <td>-4.084578e-17</td>\n",
       "      <td>-1.738118e-18</td>\n",
       "      <td>-7.549951e-17</td>\n",
       "    </tr>\n",
       "    <tr>\n",
       "      <th>std</th>\n",
       "      <td>0.908119</td>\n",
       "      <td>1.000980e+00</td>\n",
       "      <td>1.000980e+00</td>\n",
       "      <td>1.000980e+00</td>\n",
       "      <td>1.000980e+00</td>\n",
       "      <td>1.000980e+00</td>\n",
       "      <td>1.000980e+00</td>\n",
       "      <td>1.000980e+00</td>\n",
       "      <td>1.000980e+00</td>\n",
       "      <td>1.000980e+00</td>\n",
       "      <td>1.000980e+00</td>\n",
       "      <td>1.000980e+00</td>\n",
       "      <td>1.000980e+00</td>\n",
       "    </tr>\n",
       "    <tr>\n",
       "      <th>min</th>\n",
       "      <td>0.000000</td>\n",
       "      <td>-2.843791e+00</td>\n",
       "      <td>-2.873066e+00</td>\n",
       "      <td>-2.547263e+00</td>\n",
       "      <td>-2.635850e+00</td>\n",
       "      <td>-2.620717e+00</td>\n",
       "      <td>-2.905886e+00</td>\n",
       "      <td>-2.207686e+00</td>\n",
       "      <td>-2.721551e+00</td>\n",
       "      <td>-1.275233e+00</td>\n",
       "      <td>-1.467678e+00</td>\n",
       "      <td>-1.552781e+00</td>\n",
       "      <td>-1.441435e+00</td>\n",
       "    </tr>\n",
       "    <tr>\n",
       "      <th>25%</th>\n",
       "      <td>0.000000</td>\n",
       "      <td>-7.165027e-01</td>\n",
       "      <td>-7.058184e-01</td>\n",
       "      <td>-6.671908e-01</td>\n",
       "      <td>-6.477357e-01</td>\n",
       "      <td>-5.485619e-01</td>\n",
       "      <td>-7.698206e-01</td>\n",
       "      <td>-7.580441e-01</td>\n",
       "      <td>-6.882156e-01</td>\n",
       "      <td>-5.539461e-01</td>\n",
       "      <td>-5.801241e-01</td>\n",
       "      <td>-5.796605e-01</td>\n",
       "      <td>-6.869322e-01</td>\n",
       "    </tr>\n",
       "    <tr>\n",
       "      <th>50%</th>\n",
       "      <td>2.000000</td>\n",
       "      <td>-4.724819e-02</td>\n",
       "      <td>-1.616980e-01</td>\n",
       "      <td>-1.033129e-01</td>\n",
       "      <td>-3.807991e-02</td>\n",
       "      <td>-1.930613e-01</td>\n",
       "      <td>-1.479614e-01</td>\n",
       "      <td>-2.320322e-01</td>\n",
       "      <td>-8.755481e-02</td>\n",
       "      <td>-3.052989e-01</td>\n",
       "      <td>-3.122527e-01</td>\n",
       "      <td>-3.218217e-01</td>\n",
       "      <td>-3.069928e-01</td>\n",
       "    </tr>\n",
       "    <tr>\n",
       "      <th>75%</th>\n",
       "      <td>2.000000</td>\n",
       "      <td>5.617277e-01</td>\n",
       "      <td>4.902671e-01</td>\n",
       "      <td>6.596258e-01</td>\n",
       "      <td>6.282435e-01</td>\n",
       "      <td>4.116855e-01</td>\n",
       "      <td>5.974686e-01</td>\n",
       "      <td>4.682481e-01</td>\n",
       "      <td>5.304008e-01</td>\n",
       "      <td>1.556014e-01</td>\n",
       "      <td>1.900725e-01</td>\n",
       "      <td>3.429801e-01</td>\n",
       "      <td>3.874725e-01</td>\n",
       "    </tr>\n",
       "    <tr>\n",
       "      <th>max</th>\n",
       "      <td>2.000000</td>\n",
       "      <td>3.960386e+00</td>\n",
       "      <td>4.527089e+00</td>\n",
       "      <td>3.880179e+00</td>\n",
       "      <td>5.022477e+00</td>\n",
       "      <td>7.809460e+00</td>\n",
       "      <td>4.081758e+00</td>\n",
       "      <td>4.073784e+00</td>\n",
       "      <td>3.766537e+00</td>\n",
       "      <td>6.320008e+00</td>\n",
       "      <td>5.711016e+00</td>\n",
       "      <td>6.086113e+00</td>\n",
       "      <td>5.772806e+00</td>\n",
       "    </tr>\n",
       "  </tbody>\n",
       "</table>\n",
       "</div>"
      ],
      "text/plain": [
       "             user         AVGNN          SDNN        MeanHR         MinHR  \\\n",
       "count  511.000000  5.110000e+02  5.110000e+02  5.110000e+02  5.110000e+02   \n",
       "mean     1.189824  9.081668e-17  2.085742e-17 -1.477401e-16 -7.565160e-16   \n",
       "std      0.908119  1.000980e+00  1.000980e+00  1.000980e+00  1.000980e+00   \n",
       "min      0.000000 -2.843791e+00 -2.873066e+00 -2.547263e+00 -2.635850e+00   \n",
       "25%      0.000000 -7.165027e-01 -7.058184e-01 -6.671908e-01 -6.477357e-01   \n",
       "50%      2.000000 -4.724819e-02 -1.616980e-01 -1.033129e-01 -3.807991e-02   \n",
       "75%      2.000000  5.617277e-01  4.902671e-01  6.596258e-01  6.282435e-01   \n",
       "max      2.000000  3.960386e+00  4.527089e+00  3.880179e+00  5.022477e+00   \n",
       "\n",
       "              MaxHR         RMSSD         pNNxx          TINN      powerVLF  \\\n",
       "count  5.110000e+02  5.110000e+02  5.110000e+02  5.110000e+02  5.110000e+02   \n",
       "mean  -2.137885e-16  1.807643e-16  1.194956e-17 -1.199302e-16  7.126285e-17   \n",
       "std    1.000980e+00  1.000980e+00  1.000980e+00  1.000980e+00  1.000980e+00   \n",
       "min   -2.620717e+00 -2.905886e+00 -2.207686e+00 -2.721551e+00 -1.275233e+00   \n",
       "25%   -5.485619e-01 -7.698206e-01 -7.580441e-01 -6.882156e-01 -5.539461e-01   \n",
       "50%   -1.930613e-01 -1.479614e-01 -2.320322e-01 -8.755481e-02 -3.052989e-01   \n",
       "75%    4.116855e-01  5.974686e-01  4.682481e-01  5.304008e-01  1.556014e-01   \n",
       "max    7.809460e+00  4.081758e+00  4.073784e+00  3.766537e+00  6.320008e+00   \n",
       "\n",
       "            powerLF       powerHF     ratioHFLF  \n",
       "count  5.110000e+02  5.110000e+02  5.110000e+02  \n",
       "mean  -4.084578e-17 -1.738118e-18 -7.549951e-17  \n",
       "std    1.000980e+00  1.000980e+00  1.000980e+00  \n",
       "min   -1.467678e+00 -1.552781e+00 -1.441435e+00  \n",
       "25%   -5.801241e-01 -5.796605e-01 -6.869322e-01  \n",
       "50%   -3.122527e-01 -3.218217e-01 -3.069928e-01  \n",
       "75%    1.900725e-01  3.429801e-01  3.874725e-01  \n",
       "max    5.711016e+00  6.086113e+00  5.772806e+00  "
      ]
     },
     "execution_count": 16,
     "metadata": {},
     "output_type": "execute_result"
    }
   ],
   "source": [
    "#df.iloc[:, 3:15] = df.iloc[:, 3:15].apply(lambda x: scale(x))\n",
    "df = hp.scaleWithinUser(df)\n",
    "df.describe()"
   ]
  },
  {
   "cell_type": "markdown",
   "metadata": {},
   "source": [
    "### Test dataset will have 20% of examples, the other 80% will be for training (with cross-validation)"
   ]
  },
  {
   "cell_type": "code",
   "execution_count": 45,
   "metadata": {},
   "outputs": [
    {
     "name": "stdout",
     "output_type": "stream",
     "text": [
      "408 103\n"
     ]
    }
   ],
   "source": [
    "train, test = train_test_split(df, test_size=0.2)\n",
    "print (len(train), len(test))"
   ]
  },
  {
   "cell_type": "markdown",
   "metadata": {},
   "source": [
    "### 3 - Model selection:  Perform an exhaustive search, with k-fold cross-validation,  in the space parameter consisting of:\n",
    "* $C = 10^{i}, com -1 \\leq i \\leq 6$, for both linear and RBF kernels\n",
    "* $\\gamma = 10^{i}, com -3 \\leq i \\leq 3$, for RBF kernel."
   ]
  },
  {
   "cell_type": "code",
   "execution_count": 46,
   "metadata": {
    "collapsed": true
   },
   "outputs": [],
   "source": [
    "crossval = StratifiedShuffleSplit(n_splits=4, test_size=0.2)\n",
    "\n",
    "c_range = np.logspace(-1, 2, 4) \n",
    "gamma_range = np.logspace(-2, 1, 4)\n",
    "\n",
    "param_lin=dict(C=c_range)\n",
    "param_rbf=dict(C=c_range, gamma=gamma_range)\n"
   ]
  },
  {
   "cell_type": "code",
   "execution_count": 47,
   "metadata": {},
   "outputs": [
    {
     "name": "stdout",
     "output_type": "stream",
     "text": [
      "Kernel linear --- \n",
      "Best params: {'C': 10.0} with score 0.42378\n",
      "                  precision    recall  f1-score   support\n",
      "\n",
      "             eat       0.25      0.38      0.30         8\n",
      "  focused-active       0.32      0.33      0.32        18\n",
      " focused-passive       0.47      0.64      0.54        11\n",
      "household-chores       0.43      0.21      0.29        14\n",
      " leisure-passive       0.33      0.29      0.31        17\n",
      "        movement       0.73      0.65      0.69        17\n",
      "           sleep       0.65      0.72      0.68        18\n",
      "\n",
      "     avg / total       0.47      0.47      0.46       103\n",
      "\n"
     ]
    }
   ],
   "source": [
    "grid_lin = GridSearchCV(svm.SVC(kernel='linear', cache_size=1000), param_grid=param_lin, cv=crossval)\n",
    "grid_lin.fit(X=train.iloc[:, 3:15], y=train['activity'])\n",
    "\n",
    "print(\"Kernel linear --- \")\n",
    "print(\"Best params: %s with score %0.5f\" % (grid_lin.best_params_, grid_lin.best_score_))\n",
    "\n",
    "clf1 = svm.SVC(kernel='linear', cache_size=1000, C=grid_lin.best_params_['C'])\n",
    "clf1.fit(X=train.iloc[:, 3:15], y=train['activity'])\n",
    "print(hp.report(test, clf1.predict(test.iloc[:, 3:15])))"
   ]
  },
  {
   "cell_type": "code",
   "execution_count": 48,
   "metadata": {},
   "outputs": [
    {
     "name": "stdout",
     "output_type": "stream",
     "text": [
      "Kernel RBF --- \n",
      "Best params: {'C': 100.0, 'gamma': 0.01} with score 0.51524\n",
      "                  precision    recall  f1-score   support\n",
      "\n",
      "             eat       0.14      0.12      0.13         8\n",
      "  focused-active       0.36      0.44      0.40        18\n",
      " focused-passive       0.33      0.45      0.38        11\n",
      "household-chores       0.47      0.50      0.48        14\n",
      " leisure-passive       0.11      0.12      0.11        17\n",
      "        movement       0.90      0.53      0.67        17\n",
      "           sleep       0.69      0.61      0.65        18\n",
      "\n",
      "     avg / total       0.46      0.42      0.43       103\n",
      "\n"
     ]
    }
   ],
   "source": [
    "grid_rbf = GridSearchCV(svm.SVC(kernel='rbf', cache_size=1000), param_grid=param_rbf, cv=crossval)\n",
    "grid_rbf.fit(X=train.iloc[:, 3:15], y=train['activity'])\n",
    "\n",
    "print(\"Kernel RBF --- \")\n",
    "print(\"Best params: %s with score %0.5f\" % (grid_rbf.best_params_, grid_rbf.best_score_))\n",
    "\n",
    "clf2 = svm.SVC(kernel='rbf', cache_size=1000, C=grid_rbf.best_params_['C'], gamma=grid_rbf.best_params_['gamma'])\n",
    "clf2.fit(X=train.iloc[:, 3:15], y=train['activity'])\n",
    "r_fulldf = hp.report(test, clf2.predict(test.iloc[:, 3:15]))\n",
    "print(r_fulldf)"
   ]
  },
  {
   "cell_type": "code",
   "execution_count": 50,
   "metadata": {},
   "outputs": [
    {
     "name": "stdout",
     "output_type": "stream",
     "text": [
      "[0.14, 0.12, 0.13]\n",
      "[0.36, 0.44, 0.4]\n",
      "[0.33, 0.45, 0.38]\n",
      "[0.47, 0.5, 0.48]\n",
      "[0.11, 0.12, 0.11]\n",
      "[0.9, 0.53, 0.67]\n",
      "[0.69, 0.61, 0.65]\n"
     ]
    },
    {
     "data": {
      "image/png": "[encoded data removed]",
      "text/plain": [
       "<matplotlib.figure.Figure at 0xd3d44a8>"
      ]
     },
     "metadata": {},
     "output_type": "display_data"
    }
   ],
   "source": [
    "pr.plot_classification_report(r_fulldf, title='', with_avg_total=False, cmap=plt.cm.coolwarm_r)"
   ]
  },
  {
   "cell_type": "code",
   "execution_count": 44,
   "metadata": {},
   "outputs": [
    {
     "name": "stdout",
     "output_type": "stream",
     "text": [
      "                  precision    recall  f1-score   support\n",
      "\n",
      "             eat       0.44      0.27      0.33        15\n",
      "  focused-active       0.38      0.29      0.33        17\n",
      " focused-passive       0.20      0.27      0.23        11\n",
      "household-chores       0.45      0.31      0.37        16\n",
      " leisure-passive       0.20      0.46      0.28        13\n",
      "        movement       0.70      0.44      0.54        16\n",
      "           sleep       0.87      0.87      0.87        15\n",
      "\n",
      "     avg / total       0.48      0.42      0.43       103\n",
      "\n"
     ]
    }
   ],
   "source": [
    "clf3 = svm.SVC(kernel='poly', cache_size=1000, C=grid_lin.best_params_['C'])\n",
    "clf3.fit(X=train.iloc[:, 3:15], y=train['activity'])\n",
    "print(hp.report(test, clf3.predict(test.iloc[:, 3:15])))"
   ]
  },
  {
   "cell_type": "markdown",
   "metadata": {},
   "source": [
    "\n",
    "## Now, we can run the same steps above with multiple experiments! Time to have fun!!"
   ]
  },
  {
   "cell_type": "code",
   "execution_count": 14,
   "metadata": {
    "scrolled": true
   },
   "outputs": [
    {
     "name": "stdout",
     "output_type": "stream",
     "text": [
      "activity\n",
      "eat                 53\n",
      "focused-active      88\n",
      "focused-passive     73\n",
      "household-chores    68\n",
      "leisure-passive     89\n",
      "movement            65\n",
      "sleep               75\n",
      "Name: user, dtype: int64\n"
     ]
    }
   ],
   "source": [
    "# exclude from df activities with too few examples\n",
    "\n",
    "df = pd.read_csv( 'data/12features/combined.csv')\n",
    "df = hp.excludeActivities(df, ['leisure-active',  'rest-active'])\n",
    "print(hp.countExamplesByActivity(df))"
   ]
  },
  {
   "cell_type": "code",
   "execution_count": 64,
   "metadata": {},
   "outputs": [
    {
     "name": "stderr",
     "output_type": "stream",
     "text": [
      "C:\\Users\\johndoe\\Anaconda3\\lib\\site-packages\\pandas\\core\\indexing.py:517: SettingWithCopyWarning: \n",
      "A value is trying to be set on a copy of a slice from a DataFrame.\n",
      "Try using .loc[row_indexer,col_indexer] = value instead\n",
      "\n",
      "See the caveats in the documentation: http://pandas.pydata.org/pandas-docs/stable/indexing.html#indexing-view-versus-copy\n",
      "  self.obj[item] = s\n"
     ]
    },
    {
     "name": "stdout",
     "output_type": "stream",
     "text": [
      "408 train examples and 103 test examples\n",
      "Best params for linear kernel: {'C': 10.0} with score 0.50610\n",
      "--- test results for linear kernel:\n",
      "Best params for RBF kernel: {'C': 10.0, 'gamma': 0.10000000000000001} with score 0.50305\n",
      "--- test results for RBF kernel:\n",
      "                  precision    recall  f1-score   support\n",
      "\n",
      "             eat       0.46      0.60      0.52        10\n",
      "  focused-active       0.36      0.59      0.44        17\n",
      " focused-passive       0.71      0.24      0.36        21\n",
      "household-chores       0.21      0.27      0.24        11\n",
      " leisure-passive       0.15      0.21      0.18        14\n",
      "        movement       0.54      0.54      0.54        13\n",
      "           sleep       0.88      0.41      0.56        17\n",
      "\n",
      "     avg / total       0.51      0.40      0.41       103\n",
      "\n"
     ]
    }
   ],
   "source": [
    "r = hp.runFlow(df)\n",
    "print(r[0])"
   ]
  },
  {
   "cell_type": "code",
   "execution_count": 65,
   "metadata": {},
   "outputs": [
    {
     "name": "stdout",
     "output_type": "stream",
     "text": [
      "                  precision    recall  f1-score   support\n",
      "\n",
      "             eat       0.75      0.30      0.43        10\n",
      "  focused-active       0.33      0.47      0.39        17\n",
      " focused-passive       0.36      0.24      0.29        21\n",
      "household-chores       0.42      0.45      0.43        11\n",
      " leisure-passive       0.14      0.21      0.17        14\n",
      "        movement       0.67      0.77      0.71        13\n",
      "           sleep       0.83      0.59      0.69        17\n",
      "\n",
      "     avg / total       0.49      0.43      0.44       103\n",
      "\n"
     ]
    }
   ],
   "source": [
    "print(r[1])"
   ]
  },
  {
   "cell_type": "code",
   "execution_count": 67,
   "metadata": {},
   "outputs": [
    {
     "name": "stdout",
     "output_type": "stream",
     "text": [
      "[0.75, 0.3, 0.43]\n",
      "[0.33, 0.47, 0.39]\n",
      "[0.36, 0.24, 0.29]\n",
      "[0.42, 0.45, 0.43]\n",
      "[0.14, 0.21, 0.17]\n",
      "[0.67, 0.77, 0.71]\n",
      "[0.83, 0.59, 0.69]\n"
     ]
    },
    {
     "data": {
      "image/png": "[encoded data removed]",
      "text/plain": [
       "<matplotlib.figure.Figure at 0xc34ada0>"
      ]
     },
     "metadata": {},
     "output_type": "display_data"
    }
   ],
   "source": [
    "pr.plot_classification_report(r[1], cmap=plt.cm.coolwarm_r)"
   ]
  },
  {
   "cell_type": "code",
   "execution_count": 98,
   "metadata": {},
   "outputs": [
    {
     "name": "stdout",
     "output_type": "stream",
     "text": [
      "136 train examples and 35 test examples\n",
      "Best params for linear kernel: {'C': 10.0} with score 0.58929\n",
      "--- test results for linear kernel:\n"
     ]
    },
    {
     "name": "stderr",
     "output_type": "stream",
     "text": [
      "C:\\Users\\johndoe\\Anaconda3\\lib\\site-packages\\sklearn\\metrics\\classification.py:1135: UndefinedMetricWarning: Precision and F-score are ill-defined and being set to 0.0 in labels with no predicted samples.\n",
      "  'precision', 'predicted', average, warn_for)\n"
     ]
    },
    {
     "name": "stdout",
     "output_type": "stream",
     "text": [
      "Best params for RBF kernel: {'C': 100.0, 'gamma': 0.01} with score 0.58036\n",
      "--- test results for RBF kernel:\n",
      "                  precision    recall  f1-score   support\n",
      "\n",
      "             eat       0.00      0.00      0.00         1\n",
      "  focused-active       0.67      0.40      0.50         5\n",
      " focused-passive       0.33      0.50      0.40         4\n",
      "household-chores       0.44      0.67      0.53         6\n",
      " leisure-passive       0.50      0.67      0.57         3\n",
      "        movement       0.75      0.50      0.60         6\n",
      "           sleep       0.89      0.80      0.84        10\n",
      "\n",
      "     avg / total       0.63      0.60      0.60        35\n",
      "\n",
      "                  precision    recall  f1-score   support\n",
      "\n",
      "             eat       0.00      0.00      0.00         1\n",
      "  focused-active       1.00      0.40      0.57         5\n",
      " focused-passive       0.29      0.50      0.36         4\n",
      "household-chores       0.38      0.50      0.43         6\n",
      " leisure-passive       0.60      1.00      0.75         3\n",
      "        movement       0.67      0.33      0.44         6\n",
      "           sleep       0.89      0.80      0.84        10\n",
      "\n",
      "     avg / total       0.66      0.57      0.58        35\n",
      "\n",
      "[0.0, 0.0, 0.0]\n",
      "[1.0, 0.4, 0.57]\n",
      "[0.29, 0.5, 0.36]\n",
      "[0.38, 0.5, 0.43]\n",
      "[0.6, 1.0, 0.75]\n",
      "[0.67, 0.33, 0.44]\n",
      "[0.89, 0.8, 0.84]\n"
     ]
    },
    {
     "data": {
      "image/png": "[encoded data removed]",
      "text/plain": [
       "<matplotlib.figure.Figure at 0xcfb3c88>"
      ]
     },
     "metadata": {},
     "output_type": "display_data"
    }
   ],
   "source": [
    "r0 = hp.runFlow(hp.userRows(df, 0))\n",
    "print (r0[0])\n",
    "print (r0[1])\n",
    "pr.plot_classification_report(r0[1], title ='')\n"
   ]
  },
  {
   "cell_type": "code",
   "execution_count": 99,
   "metadata": {},
   "outputs": [
    {
     "name": "stdout",
     "output_type": "stream",
     "text": [
      "57 train examples and 15 test examples\n",
      "Best params for linear kernel: {'C': 0.10000000000000001} with score 0.66667\n",
      "--- test results for linear kernel:\n",
      "Best params for RBF kernel: {'C': 10.0, 'gamma': 0.01} with score 0.58333\n",
      "--- test results for RBF kernel:\n",
      "                 precision    recall  f1-score   support\n",
      "\n",
      "            eat       0.50      0.50      0.50         2\n",
      " focused-active       0.71      1.00      0.83         5\n",
      "leisure-passive       0.80      0.80      0.80         5\n",
      "       movement       1.00      0.33      0.50         3\n",
      "\n",
      "    avg / total       0.77      0.73      0.71        15\n",
      "\n",
      "                 precision    recall  f1-score   support\n",
      "\n",
      "            eat       0.33      0.50      0.40         2\n",
      " focused-active       0.80      0.80      0.80         5\n",
      "leisure-passive       0.83      1.00      0.91         5\n",
      "       movement       1.00      0.33      0.50         3\n",
      "\n",
      "    avg / total       0.79      0.73      0.72        15\n",
      "\n",
      "[0.33, 0.5, 0.4]\n",
      "[0.8, 0.8, 0.8]\n",
      "[0.83, 1.0, 0.91]\n",
      "[1.0, 0.33, 0.5]\n"
     ]
    },
    {
     "data": {
      "image/png": "[encoded data removed]",
      "text/plain": [
       "<matplotlib.figure.Figure at 0xd0b4470>"
      ]
     },
     "metadata": {},
     "output_type": "display_data"
    }
   ],
   "source": [
    "r1 = hp.runFlow(hp.userRows(df, 1))\n",
    "print (r1[0])\n",
    "print (r1[1])\n",
    "pr.plot_classification_report(r1[1], title ='')"
   ]
  },
  {
   "cell_type": "code",
   "execution_count": 100,
   "metadata": {},
   "outputs": [
    {
     "name": "stdout",
     "output_type": "stream",
     "text": [
      "214 train examples and 54 test examples\n",
      "Best params for linear kernel: {'C': 100.0} with score 0.47674\n",
      "--- test results for linear kernel:\n",
      "Best params for RBF kernel: {'C': 100.0, 'gamma': 0.10000000000000001} with score 0.58140\n",
      "--- test results for RBF kernel:\n",
      "                  precision    recall  f1-score   support\n",
      "\n",
      "             eat       0.38      0.43      0.40         7\n",
      "  focused-active       0.42      0.83      0.56         6\n",
      " focused-passive       0.25      0.09      0.13        11\n",
      "household-chores       0.22      0.25      0.24         8\n",
      " leisure-passive       0.30      0.43      0.35         7\n",
      "        movement       0.25      0.17      0.20         6\n",
      "           sleep       1.00      0.78      0.88         9\n",
      "\n",
      "     avg / total       0.41      0.41      0.39        54\n",
      "\n",
      "                  precision    recall  f1-score   support\n",
      "\n",
      "             eat       0.40      0.29      0.33         7\n",
      "  focused-active       0.42      0.83      0.56         6\n",
      " focused-passive       0.67      0.36      0.47        11\n",
      "household-chores       0.60      0.38      0.46         8\n",
      " leisure-passive       0.50      0.71      0.59         7\n",
      "        movement       0.57      0.67      0.62         6\n",
      "           sleep       0.78      0.78      0.78         9\n",
      "\n",
      "     avg / total       0.58      0.56      0.54        54\n",
      "\n",
      "[0.4, 0.29, 0.33]\n",
      "[0.42, 0.83, 0.56]\n",
      "[0.67, 0.36, 0.47]\n",
      "[0.6, 0.38, 0.46]\n",
      "[0.5, 0.71, 0.59]\n",
      "[0.57, 0.67, 0.62]\n",
      "[0.78, 0.78, 0.78]\n"
     ]
    },
    {
     "data": {
      "image/png": "[encoded data removed]",
      "text/plain": [
       "<matplotlib.figure.Figure at 0xd14a588>"
      ]
     },
     "metadata": {},
     "output_type": "display_data"
    }
   ],
   "source": [
    "r2 = hp.runFlow(hp.userRows(df, 2))\n",
    "print (r2[0])\n",
    "print (r2[1])\n",
    "pr.plot_classification_report(r2[1], title ='')"
   ]
  },
  {
   "cell_type": "code",
   "execution_count": 93,
   "metadata": {},
   "outputs": [
    {
     "name": "stdout",
     "output_type": "stream",
     "text": [
      "[0.25, 0.6, 0.35]\n",
      "[0.57, 0.44, 0.5]\n",
      "[0.44, 0.4, 0.42]\n",
      "[0.5, 0.29, 0.36]\n",
      "[0.14, 0.14, 0.14]\n",
      "[0.43, 0.6, 0.5]\n",
      "[1.0, 0.73, 0.84]\n"
     ]
    },
    {
     "data": {
      "image/png": "[encoded data removed]",
      "text/plain": [
       "<matplotlib.figure.Figure at 0xcff4588>"
      ]
     },
     "metadata": {},
     "output_type": "display_data"
    }
   ],
   "source": [
    "pr.plot_classification_report(reports[2][1], title='', cmap=plt.cm.coolwarm_r)"
   ]
  },
  {
   "cell_type": "code",
   "execution_count": 89,
   "metadata": {},
   "outputs": [
    {
     "data": {
      "text/plain": [
       "activity\n",
       "eat                 53\n",
       "focused-active      88\n",
       "focused-passive     73\n",
       "household-chores    68\n",
       "leisure-passive     89\n",
       "movement            65\n",
       "sleep               75\n",
       "Name: user, dtype: int64"
      ]
     },
     "execution_count": 89,
     "metadata": {},
     "output_type": "execute_result"
    }
   ],
   "source": [
    "hp.countExamplesByActivity(df)"
   ]
  },
  {
   "cell_type": "markdown",
   "metadata": {},
   "source": [
    "### 2 - Is eating the problem??"
   ]
  },
  {
   "cell_type": "code",
   "execution_count": 102,
   "metadata": {},
   "outputs": [
    {
     "data": {
      "text/plain": [
       "activity\n",
       "focused-active      88\n",
       "focused-passive     73\n",
       "household-chores    68\n",
       "leisure-passive     89\n",
       "movement            65\n",
       "sleep               75\n",
       "Name: user, dtype: int64"
      ]
     },
     "execution_count": 102,
     "metadata": {},
     "output_type": "execute_result"
    }
   ],
   "source": [
    "df_reduced = hp.excludeActivities(df, ['eat'])\n",
    "df_reduced.groupby('activity').count()['user']"
   ]
  },
  {
   "cell_type": "code",
   "execution_count": 105,
   "metadata": {},
   "outputs": [
    {
     "name": "stderr",
     "output_type": "stream",
     "text": [
      "C:\\Users\\johndoe\\Anaconda3\\lib\\site-packages\\pandas\\core\\indexing.py:517: SettingWithCopyWarning: \n",
      "A value is trying to be set on a copy of a slice from a DataFrame.\n",
      "Try using .loc[row_indexer,col_indexer] = value instead\n",
      "\n",
      "See the caveats in the documentation: http://pandas.pydata.org/pandas-docs/stable/indexing.html#indexing-view-versus-copy\n",
      "  self.obj[item] = s\n"
     ]
    },
    {
     "name": "stdout",
     "output_type": "stream",
     "text": [
      "366 train examples and 92 test examples\n",
      "Best params for linear kernel: {'C': 1.0} with score 0.47635\n",
      "--- test results for linear kernel:\n",
      "                  precision    recall  f1-score   support\n",
      "\n",
      "  focused-active       0.18      0.56      0.27         9\n",
      " focused-passive       0.67      0.43      0.52        14\n",
      "household-chores       0.36      0.31      0.33        13\n",
      " leisure-passive       0.47      0.37      0.41        19\n",
      "        movement       0.57      0.73      0.64        11\n",
      "           sleep       0.87      0.50      0.63        26\n",
      "\n",
      "     avg / total       0.58      0.47      0.49        92\n",
      "\n",
      "Best params for RBF kernel: {'C': 100.0, 'gamma': 0.01} with score 0.50338\n",
      "--- test results for RBF kernel:\n",
      "                  precision    recall  f1-score   support\n",
      "\n",
      "  focused-active       0.19      0.56      0.29         9\n",
      " focused-passive       0.46      0.43      0.44        14\n",
      "household-chores       0.53      0.62      0.57        13\n",
      " leisure-passive       0.53      0.42      0.47        19\n",
      "        movement       0.71      0.45      0.56        11\n",
      "           sleep       0.94      0.58      0.71        26\n",
      "\n",
      "     avg / total       0.62      0.51      0.54        92\n",
      "\n"
     ]
    }
   ],
   "source": [
    "reduced = hp.runFlow(df_reduced)"
   ]
  },
  {
   "cell_type": "code",
   "execution_count": 106,
   "metadata": {},
   "outputs": [
    {
     "name": "stdout",
     "output_type": "stream",
     "text": [
      "131 train examples and 33 test examples\n",
      "Best params for linear kernel: {'C': 1.0} with score 0.57407\n",
      "--- test results for linear kernel:\n",
      "                  precision    recall  f1-score   support\n",
      "\n",
      "  focused-active       0.50      0.14      0.22         7\n",
      " focused-passive       0.33      0.43      0.38         7\n",
      "household-chores       0.67      0.67      0.67         3\n",
      " leisure-passive       0.33      0.33      0.33         6\n",
      "        movement       1.00      0.40      0.57         5\n",
      "           sleep       0.18      0.40      0.25         5\n",
      "\n",
      "     avg / total       0.48      0.36      0.37        33\n",
      "\n",
      "Best params for RBF kernel: {'C': 10.0, 'gamma': 0.10000000000000001} with score 0.56481\n",
      "--- test results for RBF kernel:\n",
      "                  precision    recall  f1-score   support\n",
      "\n",
      "  focused-active       1.00      0.71      0.83         7\n",
      " focused-passive       0.44      0.57      0.50         7\n",
      "household-chores       0.40      0.67      0.50         3\n",
      " leisure-passive       0.33      0.17      0.22         6\n",
      "        movement       1.00      0.60      0.75         5\n",
      "           sleep       0.38      0.60      0.46         5\n",
      "\n",
      "     avg / total       0.61      0.55      0.55        33\n",
      "\n",
      "49 train examples and 13 test examples\n",
      "Best params for linear kernel: {'C': 1.0} with score 0.85000\n",
      "--- test results for linear kernel:\n",
      "                 precision    recall  f1-score   support\n",
      "\n",
      " focused-active       0.60      0.43      0.50         7\n",
      "leisure-passive       0.29      0.50      0.36         4\n",
      "       movement       1.00      0.50      0.67         2\n",
      "\n",
      "    avg / total       0.56      0.46      0.48        13\n",
      "\n",
      "Best params for RBF kernel: {'C': 1.0, 'gamma': 0.10000000000000001} with score 0.75000\n",
      "--- test results for RBF kernel:\n",
      "                 precision    recall  f1-score   support\n",
      "\n",
      " focused-active       0.75      0.43      0.55         7\n",
      "leisure-passive       0.38      0.75      0.50         4\n",
      "       movement       1.00      0.50      0.67         2\n",
      "\n",
      "    avg / total       0.67      0.54      0.55        13\n",
      "\n",
      "185 train examples and 47 test examples\n",
      "Best params for linear kernel: {'C': 0.01} with score 0.54054\n",
      "--- test results for linear kernel:\n",
      "                  precision    recall  f1-score   support\n",
      "\n",
      "  focused-active       0.50      0.50      0.50         8\n",
      " focused-passive       0.00      0.00      0.00        10\n",
      "household-chores       0.23      0.43      0.30         7\n",
      " leisure-passive       0.18      0.60      0.27         5\n",
      "        movement       0.00      0.00      0.00         9\n",
      "           sleep       0.89      1.00      0.94         8\n",
      "\n",
      "     avg / total       0.29      0.38      0.32        47\n",
      "\n"
     ]
    },
    {
     "name": "stderr",
     "output_type": "stream",
     "text": [
      "C:\\Users\\johndoe\\Anaconda3\\lib\\site-packages\\sklearn\\metrics\\classification.py:1135: UndefinedMetricWarning: Precision and F-score are ill-defined and being set to 0.0 in labels with no predicted samples.\n",
      "  'precision', 'predicted', average, warn_for)\n"
     ]
    },
    {
     "name": "stdout",
     "output_type": "stream",
     "text": [
      "Best params for RBF kernel: {'C': 100.0, 'gamma': 0.10000000000000001} with score 0.48649\n",
      "--- test results for RBF kernel:\n",
      "                  precision    recall  f1-score   support\n",
      "\n",
      "  focused-active       0.70      0.88      0.78         8\n",
      " focused-passive       0.36      0.40      0.38        10\n",
      "household-chores       0.43      0.43      0.43         7\n",
      " leisure-passive       0.17      0.20      0.18         5\n",
      "        movement       0.60      0.33      0.43         9\n",
      "           sleep       0.88      0.88      0.88         8\n",
      "\n",
      "     avg / total       0.54      0.53      0.53        47\n",
      "\n"
     ]
    }
   ],
   "source": [
    "reduced = hp.runFlowByUser(df_reduced)"
   ]
  },
  {
   "cell_type": "markdown",
   "metadata": {},
   "source": [
    "### 2 - Splitting database into movement categories (movement, household chores and exercise) and all others"
   ]
  },
  {
   "cell_type": "code",
   "execution_count": 107,
   "metadata": {},
   "outputs": [
    {
     "data": {
      "text/plain": [
       "move\n",
       "move     133\n",
       "still    378\n",
       "Name: user, dtype: int64"
      ]
     },
     "execution_count": 107,
     "metadata": {},
     "output_type": "execute_result"
    }
   ],
   "source": [
    "includelist = ['movement', 'household-chores']\n",
    "\n",
    "df_move = hp.addPartition(df, includelist, pname='move', labelIn='move', labelOut='still')\n",
    "df_move.groupby('move').count()['user']"
   ]
  },
  {
   "cell_type": "code",
   "execution_count": 175,
   "metadata": {},
   "outputs": [
    {
     "name": "stderr",
     "output_type": "stream",
     "text": [
      "C:\\Users\\johndoe\\Anaconda3\\lib\\site-packages\\pandas\\core\\indexing.py:517: SettingWithCopyWarning: \n",
      "A value is trying to be set on a copy of a slice from a DataFrame.\n",
      "Try using .loc[row_indexer,col_indexer] = value instead\n",
      "\n",
      "See the caveats in the documentation: http://pandas.pydata.org/pandas-docs/stable/indexing.html#indexing-view-versus-copy\n",
      "  self.obj[item] = s\n"
     ]
    },
    {
     "name": "stdout",
     "output_type": "stream",
     "text": [
      "408 train examples and 103 test examples\n",
      "Best params for linear kernel: {'C': 1.0} with score 0.90244\n",
      "--- test results for linear kernel:\n",
      "             precision    recall  f1-score   support\n",
      "\n",
      "       move       0.80      0.52      0.63        23\n",
      "      still       0.88      0.96      0.92        80\n",
      "\n",
      "avg / total       0.86      0.86      0.85       103\n",
      "\n",
      "Best params for RBF kernel: {'C': 100.0, 'gamma': 0.01} with score 0.89024\n",
      "--- test results for RBF kernel:\n",
      "             precision    recall  f1-score   support\n",
      "\n",
      "       move       0.80      0.52      0.63        23\n",
      "      still       0.88      0.96      0.92        80\n",
      "\n",
      "avg / total       0.86      0.86      0.85       103\n",
      "\n"
     ]
    }
   ],
   "source": [
    "mvres = hp.runFlow(df_move, labelName='move')"
   ]
  },
  {
   "cell_type": "code",
   "execution_count": 111,
   "metadata": {},
   "outputs": [
    {
     "name": "stdout",
     "output_type": "stream",
     "text": [
      "[0.95, 0.72, 0.82]\n",
      "[0.92, 0.99, 0.95]\n"
     ]
    },
    {
     "data": {
      "image/png": "[encoded data removed]",
      "text/plain": [
       "<matplotlib.figure.Figure at 0xd34eb00>"
      ]
     },
     "metadata": {},
     "output_type": "display_data"
    }
   ],
   "source": [
    "pr.plot_classification_report(mvres[0])"
   ]
  },
  {
   "cell_type": "code",
   "execution_count": 130,
   "metadata": {},
   "outputs": [
    {
     "name": "stdout",
     "output_type": "stream",
     "text": [
      "136 train examples and 35 test examples\n",
      "Best params for linear kernel: {'C': 1.0} with score 0.87500\n",
      "--- test results for linear kernel:\n",
      "             precision    recall  f1-score   support\n",
      "\n",
      "       move       0.73      0.85      0.79        13\n",
      "      still       0.90      0.82      0.86        22\n",
      "\n",
      "avg / total       0.84      0.83      0.83        35\n",
      "\n",
      "Best params for RBF kernel: {'C': 10.0, 'gamma': 0.10000000000000001} with score 0.92857\n",
      "--- test results for RBF kernel:\n",
      "             precision    recall  f1-score   support\n",
      "\n",
      "       move       0.85      0.85      0.85        13\n",
      "      still       0.91      0.91      0.91        22\n",
      "\n",
      "avg / total       0.89      0.89      0.89        35\n",
      "\n",
      "57 train examples and 15 test examples\n",
      "Best params for linear kernel: {'C': 0.10000000000000001} with score 0.95833\n",
      "--- test results for linear kernel:\n",
      "             precision    recall  f1-score   support\n",
      "\n",
      "      still       1.00      1.00      1.00        15\n",
      "\n",
      "avg / total       1.00      1.00      1.00        15\n",
      "\n",
      "Best params for RBF kernel: {'C': 10.0, 'gamma': 0.01} with score 0.97917\n",
      "--- test results for RBF kernel:\n",
      "             precision    recall  f1-score   support\n",
      "\n",
      "      still       1.00      1.00      1.00        15\n",
      "\n",
      "avg / total       1.00      1.00      1.00        15\n",
      "\n",
      "214 train examples and 54 test examples\n",
      "Best params for linear kernel: {'C': 0.10000000000000001} with score 0.86047\n",
      "--- test results for linear kernel:\n",
      "             precision    recall  f1-score   support\n",
      "\n",
      "       move       0.86      0.71      0.77        17\n",
      "      still       0.88      0.95      0.91        37\n",
      "\n",
      "avg / total       0.87      0.87      0.87        54\n",
      "\n",
      "Best params for RBF kernel: {'C': 1.0, 'gamma': 0.01} with score 0.85465\n",
      "--- test results for RBF kernel:\n",
      "             precision    recall  f1-score   support\n",
      "\n",
      "       move       0.85      0.65      0.73        17\n",
      "      still       0.85      0.95      0.90        37\n",
      "\n",
      "avg / total       0.85      0.85      0.85        54\n",
      "\n"
     ]
    }
   ],
   "source": [
    "mvresu = hp.runFlowByUser(df_move, labelName='move')"
   ]
  },
  {
   "cell_type": "code",
   "execution_count": 136,
   "metadata": {},
   "outputs": [
    {
     "name": "stdout",
     "output_type": "stream",
     "text": [
      "['0.89', '1.00', '0.85']\n"
     ]
    }
   ],
   "source": [
    "scores = []\n",
    "for i in mvresu:\n",
    "    scores.append(pr.fscore_from_report(i)) \n",
    "print(scores)"
   ]
  },
  {
   "cell_type": "code",
   "execution_count": null,
   "metadata": {
    "collapsed": true
   },
   "outputs": [],
   "source": []
  },
  {
   "cell_type": "code",
   "execution_count": 127,
   "metadata": {},
   "outputs": [
    {
     "data": {
      "text/plain": [
       "'0.91'"
      ]
     },
     "execution_count": 127,
     "metadata": {},
     "output_type": "execute_result"
    }
   ],
   "source": []
  },
  {
   "cell_type": "markdown",
   "metadata": {},
   "source": [
    "## Hierarchy"
   ]
  },
  {
   "cell_type": "markdown",
   "metadata": {},
   "source": [
    "### 1 - Split data by movement intensity:\n",
    " * group 1 = movement, household chores, exercise\n",
    " "
   ]
  },
  {
   "cell_type": "code",
   "execution_count": 142,
   "metadata": {},
   "outputs": [
    {
     "data": {
      "text/plain": [
       "activity\n",
       "eat                53\n",
       "focused-active     88\n",
       "focused-passive    73\n",
       "leisure-passive    89\n",
       "sleep              75\n",
       "Name: user, dtype: int64"
      ]
     },
     "execution_count": 142,
     "metadata": {},
     "output_type": "execute_result"
    }
   ],
   "source": [
    "df_stillcls = hp.excludeActivities(df, includelist)\n",
    "hp.countExamplesByActivity(df_stillcls)"
   ]
  },
  {
   "cell_type": "code",
   "execution_count": 143,
   "metadata": {},
   "outputs": [
    {
     "name": "stderr",
     "output_type": "stream",
     "text": [
      "C:\\Users\\johndoe\\Anaconda3\\lib\\site-packages\\pandas\\core\\indexing.py:517: SettingWithCopyWarning: \n",
      "A value is trying to be set on a copy of a slice from a DataFrame.\n",
      "Try using .loc[row_indexer,col_indexer] = value instead\n",
      "\n",
      "See the caveats in the documentation: http://pandas.pydata.org/pandas-docs/stable/indexing.html#indexing-view-versus-copy\n",
      "  self.obj[item] = s\n"
     ]
    },
    {
     "name": "stdout",
     "output_type": "stream",
     "text": [
      "302 train examples and 76 test examples\n",
      "Best params for linear kernel: {'C': 0.01} with score 0.43033\n",
      "--- test results for linear kernel:\n",
      "                 precision    recall  f1-score   support\n",
      "\n",
      "            eat       0.00      0.00      0.00         9\n",
      " focused-active       0.34      0.81      0.48        16\n",
      "focused-passive       0.24      0.45      0.31        11\n",
      "leisure-passive       0.50      0.08      0.13        26\n",
      "          sleep       0.46      0.43      0.44        14\n",
      "\n",
      "    avg / total       0.36      0.34      0.27        76\n",
      "\n"
     ]
    },
    {
     "name": "stderr",
     "output_type": "stream",
     "text": [
      "C:\\Users\\johndoe\\Anaconda3\\lib\\site-packages\\sklearn\\metrics\\classification.py:1135: UndefinedMetricWarning: Precision and F-score are ill-defined and being set to 0.0 in labels with no predicted samples.\n",
      "  'precision', 'predicted', average, warn_for)\n"
     ]
    },
    {
     "name": "stdout",
     "output_type": "stream",
     "text": [
      "Best params for RBF kernel: {'C': 100.0, 'gamma': 0.10000000000000001} with score 0.49180\n",
      "--- test results for RBF kernel:\n",
      "                 precision    recall  f1-score   support\n",
      "\n",
      "            eat       0.35      0.67      0.46         9\n",
      " focused-active       0.48      0.62      0.54        16\n",
      "focused-passive       0.33      0.27      0.30        11\n",
      "leisure-passive       0.56      0.38      0.45        26\n",
      "          sleep       0.64      0.50      0.56        14\n",
      "\n",
      "    avg / total       0.50      0.47      0.47        76\n",
      "\n"
     ]
    },
    {
     "data": {
      "text/plain": [
       "['                 precision    recall  f1-score   support\\n\\n            eat       0.00      0.00      0.00         9\\n focused-active       0.34      0.81      0.48        16\\nfocused-passive       0.24      0.45      0.31        11\\nleisure-passive       0.50      0.08      0.13        26\\n          sleep       0.46      0.43      0.44        14\\n\\n    avg / total       0.36      0.34      0.27        76\\n',\n",
       " '                 precision    recall  f1-score   support\\n\\n            eat       0.35      0.67      0.46         9\\n focused-active       0.48      0.62      0.54        16\\nfocused-passive       0.33      0.27      0.30        11\\nleisure-passive       0.56      0.38      0.45        26\\n          sleep       0.64      0.50      0.56        14\\n\\n    avg / total       0.50      0.47      0.47        76\\n']"
      ]
     },
     "execution_count": 143,
     "metadata": {},
     "output_type": "execute_result"
    }
   ],
   "source": [
    "hp.runFlow(df_stillcls)"
   ]
  },
  {
   "cell_type": "code",
   "execution_count": 144,
   "metadata": {},
   "outputs": [
    {
     "name": "stdout",
     "output_type": "stream",
     "text": [
      "92 train examples and 24 test examples\n",
      "Best params for linear kernel: {'C': 10.0} with score 0.55263\n",
      "--- test results for linear kernel:\n",
      "                 precision    recall  f1-score   support\n",
      "\n",
      "            eat       0.00      0.00      0.00         0\n",
      " focused-active       0.50      0.75      0.60         4\n",
      "focused-passive       0.86      0.60      0.71        10\n",
      "leisure-passive       0.60      0.75      0.67         4\n",
      "          sleep       0.60      0.50      0.55         6\n",
      "\n",
      "    avg / total       0.69      0.62      0.64        24\n",
      "\n"
     ]
    },
    {
     "name": "stderr",
     "output_type": "stream",
     "text": [
      "C:\\Users\\johndoe\\Anaconda3\\lib\\site-packages\\sklearn\\metrics\\classification.py:1137: UndefinedMetricWarning: Recall and F-score are ill-defined and being set to 0.0 in labels with no true samples.\n",
      "  'recall', 'true', average, warn_for)\n"
     ]
    },
    {
     "name": "stdout",
     "output_type": "stream",
     "text": [
      "Best params for RBF kernel: {'C': 10.0, 'gamma': 1.0} with score 0.53947\n",
      "--- test results for RBF kernel:\n",
      "                 precision    recall  f1-score   support\n",
      "\n",
      "            eat       0.00      0.00      0.00         0\n",
      " focused-active       0.50      0.25      0.33         4\n",
      "focused-passive       0.86      0.60      0.71        10\n",
      "leisure-passive       0.67      1.00      0.80         4\n",
      "          sleep       0.50      0.67      0.57         6\n",
      "\n",
      "    avg / total       0.68      0.62      0.63        24\n",
      "\n",
      "51 train examples and 13 test examples\n",
      "Best params for linear kernel: {'C': 0.10000000000000001} with score 0.65909\n",
      "--- test results for linear kernel:\n",
      "                 precision    recall  f1-score   support\n",
      "\n",
      "            eat       1.00      0.67      0.80         3\n",
      " focused-active       0.60      0.60      0.60         5\n",
      "leisure-passive       0.67      0.80      0.73         5\n",
      "\n",
      "    avg / total       0.72      0.69      0.70        13\n",
      "\n"
     ]
    },
    {
     "name": "stderr",
     "output_type": "stream",
     "text": [
      "C:\\Users\\johndoe\\Anaconda3\\lib\\site-packages\\sklearn\\metrics\\classification.py:1137: UndefinedMetricWarning: Recall and F-score are ill-defined and being set to 0.0 in labels with no true samples.\n",
      "  'recall', 'true', average, warn_for)\n"
     ]
    },
    {
     "name": "stdout",
     "output_type": "stream",
     "text": [
      "Best params for RBF kernel: {'C': 0.01, 'gamma': 0.10000000000000001} with score 0.75000\n",
      "--- test results for RBF kernel:\n",
      "                 precision    recall  f1-score   support\n",
      "\n",
      "            eat       0.00      0.00      0.00         3\n",
      " focused-active       0.50      0.80      0.62         5\n",
      "leisure-passive       0.80      0.80      0.80         5\n",
      "\n",
      "    avg / total       0.50      0.62      0.54        13\n",
      "\n",
      "158 train examples and 40 test examples\n"
     ]
    },
    {
     "name": "stderr",
     "output_type": "stream",
     "text": [
      "C:\\Users\\johndoe\\Anaconda3\\lib\\site-packages\\sklearn\\metrics\\classification.py:1135: UndefinedMetricWarning: Precision and F-score are ill-defined and being set to 0.0 in labels with no predicted samples.\n",
      "  'precision', 'predicted', average, warn_for)\n"
     ]
    },
    {
     "name": "stdout",
     "output_type": "stream",
     "text": [
      "Best params for linear kernel: {'C': 100.0} with score 0.50000\n",
      "--- test results for linear kernel:\n",
      "                 precision    recall  f1-score   support\n",
      "\n",
      "            eat       0.55      1.00      0.71         6\n",
      " focused-active       0.43      0.60      0.50         5\n",
      "focused-passive       0.80      0.50      0.62         8\n",
      "leisure-passive       0.50      0.33      0.40         6\n",
      "          sleep       1.00      0.87      0.93        15\n",
      "\n",
      "    avg / total       0.75      0.70      0.70        40\n",
      "\n",
      "Best params for RBF kernel: {'C': 100.0, 'gamma': 0.10000000000000001} with score 0.60156\n",
      "--- test results for RBF kernel:\n",
      "                 precision    recall  f1-score   support\n",
      "\n",
      "            eat       0.33      0.50      0.40         6\n",
      " focused-active       0.50      0.60      0.55         5\n",
      "focused-passive       0.83      0.62      0.71         8\n",
      "leisure-passive       0.57      0.67      0.62         6\n",
      "          sleep       1.00      0.80      0.89        15\n",
      "\n",
      "    avg / total       0.74      0.68      0.70        40\n",
      "\n"
     ]
    },
    {
     "data": {
      "text/plain": [
       "[['                 precision    recall  f1-score   support\\n\\n            eat       0.00      0.00      0.00         0\\n focused-active       0.50      0.75      0.60         4\\nfocused-passive       0.86      0.60      0.71        10\\nleisure-passive       0.60      0.75      0.67         4\\n          sleep       0.60      0.50      0.55         6\\n\\n    avg / total       0.69      0.62      0.64        24\\n',\n",
       "  '                 precision    recall  f1-score   support\\n\\n            eat       0.00      0.00      0.00         0\\n focused-active       0.50      0.25      0.33         4\\nfocused-passive       0.86      0.60      0.71        10\\nleisure-passive       0.67      1.00      0.80         4\\n          sleep       0.50      0.67      0.57         6\\n\\n    avg / total       0.68      0.62      0.63        24\\n'],\n",
       " ['                 precision    recall  f1-score   support\\n\\n            eat       1.00      0.67      0.80         3\\n focused-active       0.60      0.60      0.60         5\\nleisure-passive       0.67      0.80      0.73         5\\n\\n    avg / total       0.72      0.69      0.70        13\\n',\n",
       "  '                 precision    recall  f1-score   support\\n\\n            eat       0.00      0.00      0.00         3\\n focused-active       0.50      0.80      0.62         5\\nleisure-passive       0.80      0.80      0.80         5\\n\\n    avg / total       0.50      0.62      0.54        13\\n'],\n",
       " ['                 precision    recall  f1-score   support\\n\\n            eat       0.55      1.00      0.71         6\\n focused-active       0.43      0.60      0.50         5\\nfocused-passive       0.80      0.50      0.62         8\\nleisure-passive       0.50      0.33      0.40         6\\n          sleep       1.00      0.87      0.93        15\\n\\n    avg / total       0.75      0.70      0.70        40\\n',\n",
       "  '                 precision    recall  f1-score   support\\n\\n            eat       0.33      0.50      0.40         6\\n focused-active       0.50      0.60      0.55         5\\nfocused-passive       0.83      0.62      0.71         8\\nleisure-passive       0.57      0.67      0.62         6\\n          sleep       1.00      0.80      0.89        15\\n\\n    avg / total       0.74      0.68      0.70        40\\n']]"
      ]
     },
     "execution_count": 144,
     "metadata": {},
     "output_type": "execute_result"
    }
   ],
   "source": [
    "hp.runFlowByUser(df_stillcls)"
   ]
  },
  {
   "cell_type": "code",
   "execution_count": 176,
   "metadata": {},
   "outputs": [
    {
     "data": {
      "text/plain": [
       "activity\n",
       "household-chores    68\n",
       "movement            65\n",
       "Name: user, dtype: int64"
      ]
     },
     "execution_count": 176,
     "metadata": {},
     "output_type": "execute_result"
    }
   ],
   "source": [
    "df_movecls = hp.filterActivities(df, includelist)\n",
    "hp.countExamplesByActivity(df_movecls)"
   ]
  },
  {
   "cell_type": "code",
   "execution_count": 177,
   "metadata": {},
   "outputs": [
    {
     "name": "stderr",
     "output_type": "stream",
     "text": [
      "C:\\Users\\johndoe\\Anaconda3\\lib\\site-packages\\pandas\\core\\indexing.py:517: SettingWithCopyWarning: \n",
      "A value is trying to be set on a copy of a slice from a DataFrame.\n",
      "Try using .loc[row_indexer,col_indexer] = value instead\n",
      "\n",
      "See the caveats in the documentation: http://pandas.pydata.org/pandas-docs/stable/indexing.html#indexing-view-versus-copy\n",
      "  self.obj[item] = s\n"
     ]
    },
    {
     "name": "stdout",
     "output_type": "stream",
     "text": [
      "106 train examples and 27 test examples\n",
      "Best params for linear kernel: {'C': 0.10000000000000001} with score 0.62500\n",
      "--- test results for linear kernel:\n",
      "                  precision    recall  f1-score   support\n",
      "\n",
      "household-chores       0.50      0.82      0.62        11\n",
      "        movement       0.78      0.44      0.56        16\n",
      "\n",
      "     avg / total       0.66      0.59      0.58        27\n",
      "\n",
      "Best params for RBF kernel: {'C': 1.0, 'gamma': 0.10000000000000001} with score 0.64773\n",
      "--- test results for RBF kernel:\n",
      "                  precision    recall  f1-score   support\n",
      "\n",
      "household-chores       0.52      1.00      0.69        11\n",
      "        movement       1.00      0.38      0.55        16\n",
      "\n",
      "     avg / total       0.81      0.63      0.60        27\n",
      "\n"
     ]
    },
    {
     "data": {
      "text/plain": [
       "['                  precision    recall  f1-score   support\\n\\nhousehold-chores       0.50      0.82      0.62        11\\n        movement       0.78      0.44      0.56        16\\n\\n     avg / total       0.66      0.59      0.58        27\\n',\n",
       " '                  precision    recall  f1-score   support\\n\\nhousehold-chores       0.52      1.00      0.69        11\\n        movement       1.00      0.38      0.55        16\\n\\n     avg / total       0.81      0.63      0.60        27\\n']"
      ]
     },
     "execution_count": 177,
     "metadata": {},
     "output_type": "execute_result"
    }
   ],
   "source": [
    "hp.runFlow(df_movecls)"
   ]
  },
  {
   "cell_type": "code",
   "execution_count": 196,
   "metadata": {},
   "outputs": [
    {
     "name": "stdout",
     "output_type": "stream",
     "text": [
      "activity\n",
      "household-chores    28\n",
      "movement            27\n",
      "Name: user, dtype: int64\n",
      "44 train examples and 11 test examples\n",
      "Best params for linear kernel: {'C': 10.0} with score 0.72222\n",
      "--- test results for linear kernel:\n",
      "                  precision    recall  f1-score   support\n",
      "\n",
      "household-chores       0.62      0.71      0.67         7\n",
      "        movement       0.33      0.25      0.29         4\n",
      "\n",
      "     avg / total       0.52      0.55      0.53        11\n",
      "\n",
      "Best params for RBF kernel: {'C': 1.0, 'gamma': 0.10000000000000001} with score 0.69444\n",
      "--- test results for RBF kernel:\n",
      "                  precision    recall  f1-score   support\n",
      "\n",
      "household-chores       0.86      0.86      0.86         7\n",
      "        movement       0.75      0.75      0.75         4\n",
      "\n",
      "     avg / total       0.82      0.82      0.82        11\n",
      "\n"
     ]
    },
    {
     "data": {
      "text/plain": [
       "['                  precision    recall  f1-score   support\\n\\nhousehold-chores       0.62      0.71      0.67         7\\n        movement       0.33      0.25      0.29         4\\n\\n     avg / total       0.52      0.55      0.53        11\\n',\n",
       " '                  precision    recall  f1-score   support\\n\\nhousehold-chores       0.86      0.86      0.86         7\\n        movement       0.75      0.75      0.75         4\\n\\n     avg / total       0.82      0.82      0.82        11\\n']"
      ]
     },
     "execution_count": 196,
     "metadata": {},
     "output_type": "execute_result"
    }
   ],
   "source": [
    "ju_move = hp.userRows(df_movecls, 0)\n",
    "print(hp.countExamplesByActivity(ju_move))\n",
    "hp.runFlow(ju_move)"
   ]
  },
  {
   "cell_type": "code",
   "execution_count": 197,
   "metadata": {},
   "outputs": [
    {
     "name": "stdout",
     "output_type": "stream",
     "text": [
      "activity\n",
      "household-chores    40\n",
      "movement            30\n",
      "Name: user, dtype: int64\n",
      "56 train examples and 14 test examples\n",
      "Best params for linear kernel: {'C': 0.01} with score 0.58333\n",
      "--- test results for linear kernel:\n",
      "                  precision    recall  f1-score   support\n",
      "\n",
      "household-chores       0.50      1.00      0.67         7\n",
      "        movement       0.00      0.00      0.00         7\n",
      "\n",
      "     avg / total       0.25      0.50      0.33        14\n",
      "\n"
     ]
    },
    {
     "name": "stderr",
     "output_type": "stream",
     "text": [
      "C:\\Users\\johndoe\\Anaconda3\\lib\\site-packages\\sklearn\\metrics\\classification.py:1135: UndefinedMetricWarning: Precision and F-score are ill-defined and being set to 0.0 in labels with no predicted samples.\n",
      "  'precision', 'predicted', average, warn_for)\n"
     ]
    },
    {
     "name": "stdout",
     "output_type": "stream",
     "text": [
      "Best params for RBF kernel: {'C': 10.0, 'gamma': 0.10000000000000001} with score 0.66667\n",
      "--- test results for RBF kernel:\n",
      "                  precision    recall  f1-score   support\n",
      "\n",
      "household-chores       0.56      0.71      0.63         7\n",
      "        movement       0.60      0.43      0.50         7\n",
      "\n",
      "     avg / total       0.58      0.57      0.56        14\n",
      "\n"
     ]
    },
    {
     "data": {
      "text/plain": [
       "['                  precision    recall  f1-score   support\\n\\nhousehold-chores       0.50      1.00      0.67         7\\n        movement       0.00      0.00      0.00         7\\n\\n     avg / total       0.25      0.50      0.33        14\\n',\n",
       " '                  precision    recall  f1-score   support\\n\\nhousehold-chores       0.56      0.71      0.63         7\\n        movement       0.60      0.43      0.50         7\\n\\n     avg / total       0.58      0.57      0.56        14\\n']"
      ]
     },
     "execution_count": 197,
     "metadata": {},
     "output_type": "execute_result"
    }
   ],
   "source": [
    "edu_move = hp.userRows(df_movecls, 2)\n",
    "print(hp.countExamplesByActivity(edu_move))\n",
    "hp.runFlow(edu_move)"
   ]
  },
  {
   "cell_type": "code",
   "execution_count": 195,
   "metadata": {},
   "outputs": [
    {
     "name": "stdout",
     "output_type": "stream",
     "text": [
      "----------------------------------------------------------------\n",
      "eat\n",
      "eat        53\n",
      "others    325\n",
      "Name: user, dtype: int64\n"
     ]
    },
    {
     "name": "stderr",
     "output_type": "stream",
     "text": [
      "C:\\Users\\johndoe\\Anaconda3\\lib\\site-packages\\pandas\\core\\indexing.py:517: SettingWithCopyWarning: \n",
      "A value is trying to be set on a copy of a slice from a DataFrame.\n",
      "Try using .loc[row_indexer,col_indexer] = value instead\n",
      "\n",
      "See the caveats in the documentation: http://pandas.pydata.org/pandas-docs/stable/indexing.html#indexing-view-versus-copy\n",
      "  self.obj[item] = s\n"
     ]
    },
    {
     "name": "stdout",
     "output_type": "stream",
     "text": [
      "302 train examples and 76 test examples\n",
      "Best params for linear kernel: {'C': 0.01} with score 0.86885\n",
      "--- test results for linear kernel:\n",
      "             precision    recall  f1-score   support\n",
      "\n",
      "        eat       0.00      0.00      0.00        11\n",
      "     others       0.86      1.00      0.92        65\n",
      "\n",
      "avg / total       0.73      0.86      0.79        76\n",
      "\n"
     ]
    },
    {
     "name": "stderr",
     "output_type": "stream",
     "text": [
      "C:\\Users\\johndoe\\Anaconda3\\lib\\site-packages\\sklearn\\metrics\\classification.py:1135: UndefinedMetricWarning: Precision and F-score are ill-defined and being set to 0.0 in labels with no predicted samples.\n",
      "  'precision', 'predicted', average, warn_for)\n"
     ]
    },
    {
     "name": "stdout",
     "output_type": "stream",
     "text": [
      "Best params for RBF kernel: {'C': 10.0, 'gamma': 0.10000000000000001} with score 0.89344\n",
      "--- test results for RBF kernel:\n",
      "             precision    recall  f1-score   support\n",
      "\n",
      "        eat       0.50      0.27      0.35        11\n",
      "     others       0.89      0.95      0.92        65\n",
      "\n",
      "avg / total       0.83      0.86      0.84        76\n",
      "\n",
      "----------------------------------------------------------------\n",
      "focused-active\n",
      "focused-active     88\n",
      "others            290\n",
      "Name: user, dtype: int64\n"
     ]
    },
    {
     "name": "stderr",
     "output_type": "stream",
     "text": [
      "C:\\Users\\johndoe\\Anaconda3\\lib\\site-packages\\pandas\\core\\indexing.py:517: SettingWithCopyWarning: \n",
      "A value is trying to be set on a copy of a slice from a DataFrame.\n",
      "Try using .loc[row_indexer,col_indexer] = value instead\n",
      "\n",
      "See the caveats in the documentation: http://pandas.pydata.org/pandas-docs/stable/indexing.html#indexing-view-versus-copy\n",
      "  self.obj[item] = s\n"
     ]
    },
    {
     "name": "stdout",
     "output_type": "stream",
     "text": [
      "302 train examples and 76 test examples\n",
      "Best params for linear kernel: {'C': 0.01} with score 0.77049\n",
      "--- test results for linear kernel:\n",
      "                precision    recall  f1-score   support\n",
      "\n",
      "focused-active       0.00      0.00      0.00        20\n",
      "        others       0.74      1.00      0.85        56\n",
      "\n",
      "   avg / total       0.54      0.74      0.63        76\n",
      "\n"
     ]
    },
    {
     "name": "stderr",
     "output_type": "stream",
     "text": [
      "C:\\Users\\johndoe\\Anaconda3\\lib\\site-packages\\sklearn\\metrics\\classification.py:1135: UndefinedMetricWarning: Precision and F-score are ill-defined and being set to 0.0 in labels with no predicted samples.\n",
      "  'precision', 'predicted', average, warn_for)\n"
     ]
    },
    {
     "name": "stdout",
     "output_type": "stream",
     "text": [
      "Best params for RBF kernel: {'C': 10.0, 'gamma': 0.10000000000000001} with score 0.81557\n",
      "--- test results for RBF kernel:\n",
      "                precision    recall  f1-score   support\n",
      "\n",
      "focused-active       0.56      0.25      0.34        20\n",
      "        others       0.78      0.93      0.85        56\n",
      "\n",
      "   avg / total       0.72      0.75      0.71        76\n",
      "\n",
      "----------------------------------------------------------------\n",
      "focused-passive\n",
      "focused-passive     73\n",
      "others             305\n",
      "Name: user, dtype: int64\n"
     ]
    },
    {
     "name": "stderr",
     "output_type": "stream",
     "text": [
      "C:\\Users\\johndoe\\Anaconda3\\lib\\site-packages\\pandas\\core\\indexing.py:517: SettingWithCopyWarning: \n",
      "A value is trying to be set on a copy of a slice from a DataFrame.\n",
      "Try using .loc[row_indexer,col_indexer] = value instead\n",
      "\n",
      "See the caveats in the documentation: http://pandas.pydata.org/pandas-docs/stable/indexing.html#indexing-view-versus-copy\n",
      "  self.obj[item] = s\n"
     ]
    },
    {
     "name": "stdout",
     "output_type": "stream",
     "text": [
      "302 train examples and 76 test examples\n",
      "Best params for linear kernel: {'C': 0.01} with score 0.81967\n",
      "--- test results for linear kernel:\n",
      "                 precision    recall  f1-score   support\n",
      "\n",
      "focused-passive       0.00      0.00      0.00        17\n",
      "         others       0.78      1.00      0.87        59\n",
      "\n",
      "    avg / total       0.60      0.78      0.68        76\n",
      "\n"
     ]
    },
    {
     "name": "stderr",
     "output_type": "stream",
     "text": [
      "C:\\Users\\johndoe\\Anaconda3\\lib\\site-packages\\sklearn\\metrics\\classification.py:1135: UndefinedMetricWarning: Precision and F-score are ill-defined and being set to 0.0 in labels with no predicted samples.\n",
      "  'precision', 'predicted', average, warn_for)\n"
     ]
    },
    {
     "name": "stdout",
     "output_type": "stream",
     "text": [
      "Best params for RBF kernel: {'C': 1.0, 'gamma': 1.0} with score 0.83197\n",
      "--- test results for RBF kernel:\n",
      "                 precision    recall  f1-score   support\n",
      "\n",
      "focused-passive       1.00      0.06      0.11        17\n",
      "         others       0.79      1.00      0.88        59\n",
      "\n",
      "    avg / total       0.83      0.79      0.71        76\n",
      "\n",
      "----------------------------------------------------------------\n",
      "leisure-passive\n",
      "leisure-passive     89\n",
      "others             289\n",
      "Name: user, dtype: int64\n"
     ]
    },
    {
     "name": "stderr",
     "output_type": "stream",
     "text": [
      "C:\\Users\\johndoe\\Anaconda3\\lib\\site-packages\\pandas\\core\\indexing.py:517: SettingWithCopyWarning: \n",
      "A value is trying to be set on a copy of a slice from a DataFrame.\n",
      "Try using .loc[row_indexer,col_indexer] = value instead\n",
      "\n",
      "See the caveats in the documentation: http://pandas.pydata.org/pandas-docs/stable/indexing.html#indexing-view-versus-copy\n",
      "  self.obj[item] = s\n"
     ]
    },
    {
     "name": "stdout",
     "output_type": "stream",
     "text": [
      "302 train examples and 76 test examples\n",
      "Best params for linear kernel: {'C': 0.01} with score 0.77049\n",
      "--- test results for linear kernel:\n",
      "                 precision    recall  f1-score   support\n",
      "\n",
      "leisure-passive       0.00      0.00      0.00        22\n",
      "         others       0.71      1.00      0.83        54\n",
      "\n",
      "    avg / total       0.50      0.71      0.59        76\n",
      "\n"
     ]
    },
    {
     "name": "stderr",
     "output_type": "stream",
     "text": [
      "C:\\Users\\johndoe\\Anaconda3\\lib\\site-packages\\sklearn\\metrics\\classification.py:1135: UndefinedMetricWarning: Precision and F-score are ill-defined and being set to 0.0 in labels with no predicted samples.\n",
      "  'precision', 'predicted', average, warn_for)\n"
     ]
    },
    {
     "name": "stdout",
     "output_type": "stream",
     "text": [
      "Best params for RBF kernel: {'C': 0.01, 'gamma': 0.01} with score 0.77049\n",
      "--- test results for RBF kernel:\n",
      "                 precision    recall  f1-score   support\n",
      "\n",
      "leisure-passive       0.00      0.00      0.00        22\n",
      "         others       0.71      1.00      0.83        54\n",
      "\n",
      "    avg / total       0.50      0.71      0.59        76\n",
      "\n",
      "----------------------------------------------------------------\n",
      "sleep\n",
      "others    303\n",
      "sleep      75\n",
      "Name: user, dtype: int64\n"
     ]
    },
    {
     "name": "stderr",
     "output_type": "stream",
     "text": [
      "C:\\Users\\johndoe\\Anaconda3\\lib\\site-packages\\sklearn\\metrics\\classification.py:1135: UndefinedMetricWarning: Precision and F-score are ill-defined and being set to 0.0 in labels with no predicted samples.\n",
      "  'precision', 'predicted', average, warn_for)\n",
      "C:\\Users\\johndoe\\Anaconda3\\lib\\site-packages\\pandas\\core\\indexing.py:517: SettingWithCopyWarning: \n",
      "A value is trying to be set on a copy of a slice from a DataFrame.\n",
      "Try using .loc[row_indexer,col_indexer] = value instead\n",
      "\n",
      "See the caveats in the documentation: http://pandas.pydata.org/pandas-docs/stable/indexing.html#indexing-view-versus-copy\n",
      "  self.obj[item] = s\n"
     ]
    },
    {
     "name": "stdout",
     "output_type": "stream",
     "text": [
      "302 train examples and 76 test examples\n",
      "Best params for linear kernel: {'C': 100.0} with score 0.85656\n",
      "--- test results for linear kernel:\n",
      "             precision    recall  f1-score   support\n",
      "\n",
      "     others       0.94      0.97      0.95        64\n",
      "      sleep       0.80      0.67      0.73        12\n",
      "\n",
      "avg / total       0.92      0.92      0.92        76\n",
      "\n",
      "Best params for RBF kernel: {'C': 100.0, 'gamma': 0.10000000000000001} with score 0.86885\n",
      "--- test results for RBF kernel:\n",
      "             precision    recall  f1-score   support\n",
      "\n",
      "     others       0.98      0.97      0.98        64\n",
      "      sleep       0.85      0.92      0.88        12\n",
      "\n",
      "avg / total       0.96      0.96      0.96        76\n",
      "\n"
     ]
    }
   ],
   "source": [
    "for activ in df_stillcls.activity.unique():\n",
    "    print ('----------------------------------------------------------------')\n",
    "    dfa = df_stillcls\n",
    "    df_onevsall = hp.addPartition(df=dfa, includelist=[activ], pname=activ, labelIn=activ, labelOut='others')\n",
    "    print(df_onevsall.groupby(activ).count()['user'])\n",
    "    hp.runFlow(df_onevsall, labelName=activ)"
   ]
  },
  {
   "cell_type": "markdown",
   "metadata": {},
   "source": [
    "### Split still activities by sleep vc others"
   ]
  },
  {
   "cell_type": "code",
   "execution_count": 158,
   "metadata": {},
   "outputs": [
    {
     "name": "stdout",
     "output_type": "stream",
     "text": [
      "sleep\n",
      "sleep     75\n",
      "wake     303\n",
      "Name: user, dtype: int64\n"
     ]
    }
   ],
   "source": [
    "hp.countExamplesByActivity(df_stillcls)\n",
    "df_partsleep = hp.addPartition(df=df_stillcls, includelist=['sleep'], pname='sleep', labelIn='sleep', labelOut='wake')\n",
    "print(df_partsleep.groupby('sleep').count()['user'])"
   ]
  },
  {
   "cell_type": "code",
   "execution_count": 159,
   "metadata": {},
   "outputs": [
    {
     "name": "stderr",
     "output_type": "stream",
     "text": [
      "C:\\Users\\johndoe\\Anaconda3\\lib\\site-packages\\pandas\\core\\indexing.py:517: SettingWithCopyWarning: \n",
      "A value is trying to be set on a copy of a slice from a DataFrame.\n",
      "Try using .loc[row_indexer,col_indexer] = value instead\n",
      "\n",
      "See the caveats in the documentation: http://pandas.pydata.org/pandas-docs/stable/indexing.html#indexing-view-versus-copy\n",
      "  self.obj[item] = s\n"
     ]
    },
    {
     "name": "stdout",
     "output_type": "stream",
     "text": [
      "302 train examples and 76 test examples\n",
      "Best params for linear kernel: {'C': 1.0} with score 0.86066\n",
      "--- test results for linear kernel:\n",
      "             precision    recall  f1-score   support\n",
      "\n",
      "      sleep       0.62      0.45      0.53        11\n",
      "       wake       0.91      0.95      0.93        65\n",
      "\n",
      "avg / total       0.87      0.88      0.87        76\n",
      "\n",
      "Best params for RBF kernel: {'C': 100.0, 'gamma': 0.10000000000000001} with score 0.86066\n",
      "--- test results for RBF kernel:\n",
      "             precision    recall  f1-score   support\n",
      "\n",
      "      sleep       0.60      0.82      0.69        11\n",
      "       wake       0.97      0.91      0.94        65\n",
      "\n",
      "avg / total       0.91      0.89      0.90        76\n",
      "\n"
     ]
    },
    {
     "data": {
      "text/plain": [
       "['             precision    recall  f1-score   support\\n\\n      sleep       0.62      0.45      0.53        11\\n       wake       0.91      0.95      0.93        65\\n\\navg / total       0.87      0.88      0.87        76\\n',\n",
       " '             precision    recall  f1-score   support\\n\\n      sleep       0.60      0.82      0.69        11\\n       wake       0.97      0.91      0.94        65\\n\\navg / total       0.91      0.89      0.90        76\\n']"
      ]
     },
     "execution_count": 159,
     "metadata": {},
     "output_type": "execute_result"
    }
   ],
   "source": [
    " hp.runFlow(df_partsleep, labelName='sleep')"
   ]
  },
  {
   "cell_type": "code",
   "execution_count": 162,
   "metadata": {},
   "outputs": [
    {
     "name": "stdout",
     "output_type": "stream",
     "text": [
      "92 train examples and 24 test examples\n",
      "Best params for linear kernel: {'C': 10.0} with score 0.84211\n",
      "--- test results for linear kernel:\n",
      "             precision    recall  f1-score   support\n",
      "\n",
      "      sleep       0.80      0.80      0.80        10\n",
      "       wake       0.86      0.86      0.86        14\n",
      "\n",
      "avg / total       0.83      0.83      0.83        24\n",
      "\n",
      "Best params for RBF kernel: {'C': 10.0, 'gamma': 0.10000000000000001} with score 0.88158\n",
      "--- test results for RBF kernel:\n",
      "             precision    recall  f1-score   support\n",
      "\n",
      "      sleep       0.78      0.70      0.74        10\n",
      "       wake       0.80      0.86      0.83        14\n",
      "\n",
      "avg / total       0.79      0.79      0.79        24\n",
      "\n"
     ]
    },
    {
     "data": {
      "text/plain": [
       "['             precision    recall  f1-score   support\\n\\n      sleep       0.80      0.80      0.80        10\\n       wake       0.86      0.86      0.86        14\\n\\navg / total       0.83      0.83      0.83        24\\n',\n",
       " '             precision    recall  f1-score   support\\n\\n      sleep       0.78      0.70      0.74        10\\n       wake       0.80      0.86      0.83        14\\n\\navg / total       0.79      0.79      0.79        24\\n']"
      ]
     },
     "execution_count": 162,
     "metadata": {},
     "output_type": "execute_result"
    }
   ],
   "source": [
    "ju_sleep = hp.userRows(df_partsleep, 0) \n",
    "hp.runFlow(ju_sleep, labelName='sleep')"
   ]
  },
  {
   "cell_type": "code",
   "execution_count": 163,
   "metadata": {},
   "outputs": [
    {
     "name": "stdout",
     "output_type": "stream",
     "text": [
      "158 train examples and 40 test examples\n",
      "Best params for linear kernel: {'C': 0.10000000000000001} with score 0.96875\n",
      "--- test results for linear kernel:\n",
      "             precision    recall  f1-score   support\n",
      "\n",
      "      sleep       1.00      0.89      0.94         9\n",
      "       wake       0.97      1.00      0.98        31\n",
      "\n",
      "avg / total       0.98      0.97      0.97        40\n",
      "\n",
      "Best params for RBF kernel: {'C': 10.0, 'gamma': 0.01} with score 0.98438\n",
      "--- test results for RBF kernel:\n",
      "             precision    recall  f1-score   support\n",
      "\n",
      "      sleep       1.00      0.89      0.94         9\n",
      "       wake       0.97      1.00      0.98        31\n",
      "\n",
      "avg / total       0.98      0.97      0.97        40\n",
      "\n"
     ]
    },
    {
     "data": {
      "text/plain": [
       "['             precision    recall  f1-score   support\\n\\n      sleep       1.00      0.89      0.94         9\\n       wake       0.97      1.00      0.98        31\\n\\navg / total       0.98      0.97      0.97        40\\n',\n",
       " '             precision    recall  f1-score   support\\n\\n      sleep       1.00      0.89      0.94         9\\n       wake       0.97      1.00      0.98        31\\n\\navg / total       0.98      0.97      0.97        40\\n']"
      ]
     },
     "execution_count": 163,
     "metadata": {},
     "output_type": "execute_result"
    }
   ],
   "source": [
    "edu_sleep = hp.userRows(df_partsleep, 2) \n",
    "hp.runFlow(edu_sleep, labelName='sleep')"
   ]
  },
  {
   "cell_type": "code",
   "execution_count": 164,
   "metadata": {},
   "outputs": [
    {
     "data": {
      "text/plain": [
       "activity\n",
       "eat                53\n",
       "focused-active     88\n",
       "focused-passive    73\n",
       "leisure-passive    89\n",
       "Name: user, dtype: int64"
      ]
     },
     "execution_count": 164,
     "metadata": {},
     "output_type": "execute_result"
    }
   ],
   "source": [
    "df_wake = hp.excludeActivities(df_stillcls,['sleep'] )\n",
    "hp.countExamplesByActivity(df_wake)"
   ]
  },
  {
   "cell_type": "code",
   "execution_count": 165,
   "metadata": {},
   "outputs": [
    {
     "name": "stderr",
     "output_type": "stream",
     "text": [
      "C:\\Users\\johndoe\\Anaconda3\\lib\\site-packages\\pandas\\core\\indexing.py:517: SettingWithCopyWarning: \n",
      "A value is trying to be set on a copy of a slice from a DataFrame.\n",
      "Try using .loc[row_indexer,col_indexer] = value instead\n",
      "\n",
      "See the caveats in the documentation: http://pandas.pydata.org/pandas-docs/stable/indexing.html#indexing-view-versus-copy\n",
      "  self.obj[item] = s\n"
     ]
    },
    {
     "name": "stdout",
     "output_type": "stream",
     "text": [
      "242 train examples and 61 test examples\n",
      "Best params for linear kernel: {'C': 0.10000000000000001} with score 0.40816\n",
      "--- test results for linear kernel:\n",
      "                 precision    recall  f1-score   support\n",
      "\n",
      "            eat       0.30      0.23      0.26        13\n",
      " focused-active       0.67      0.45      0.54        22\n",
      "focused-passive       0.13      0.22      0.17         9\n",
      "leisure-passive       0.38      0.47      0.42        17\n",
      "\n",
      "    avg / total       0.43      0.38      0.39        61\n",
      "\n",
      "Best params for RBF kernel: {'C': 10.0, 'gamma': 0.10000000000000001} with score 0.53061\n",
      "--- test results for RBF kernel:\n",
      "                 precision    recall  f1-score   support\n",
      "\n",
      "            eat       0.27      0.31      0.29        13\n",
      " focused-active       0.59      0.45      0.51        22\n",
      "focused-passive       0.19      0.33      0.24         9\n",
      "leisure-passive       0.31      0.24      0.27        17\n",
      "\n",
      "    avg / total       0.38      0.34      0.36        61\n",
      "\n"
     ]
    },
    {
     "data": {
      "text/plain": [
       "['                 precision    recall  f1-score   support\\n\\n            eat       0.30      0.23      0.26        13\\n focused-active       0.67      0.45      0.54        22\\nfocused-passive       0.13      0.22      0.17         9\\nleisure-passive       0.38      0.47      0.42        17\\n\\n    avg / total       0.43      0.38      0.39        61\\n',\n",
       " '                 precision    recall  f1-score   support\\n\\n            eat       0.27      0.31      0.29        13\\n focused-active       0.59      0.45      0.51        22\\nfocused-passive       0.19      0.33      0.24         9\\nleisure-passive       0.31      0.24      0.27        17\\n\\n    avg / total       0.38      0.34      0.36        61\\n']"
      ]
     },
     "execution_count": 165,
     "metadata": {},
     "output_type": "execute_result"
    }
   ],
   "source": [
    "hp.runFlow(df_wake)"
   ]
  },
  {
   "cell_type": "code",
   "execution_count": 166,
   "metadata": {},
   "outputs": [
    {
     "name": "stdout",
     "output_type": "stream",
     "text": [
      "67 train examples and 17 test examples\n",
      "Best params for linear kernel: {'C': 0.10000000000000001} with score 0.57143\n",
      "--- test results for linear kernel:\n",
      "                 precision    recall  f1-score   support\n",
      "\n",
      "            eat       0.00      0.00      0.00         2\n",
      " focused-active       0.00      0.00      0.00         5\n",
      "focused-passive       0.53      1.00      0.70         8\n",
      "leisure-passive       1.00      1.00      1.00         2\n",
      "\n",
      "    avg / total       0.37      0.59      0.45        17\n",
      "\n"
     ]
    },
    {
     "name": "stderr",
     "output_type": "stream",
     "text": [
      "C:\\Users\\johndoe\\Anaconda3\\lib\\site-packages\\sklearn\\metrics\\classification.py:1135: UndefinedMetricWarning: Precision and F-score are ill-defined and being set to 0.0 in labels with no predicted samples.\n",
      "  'precision', 'predicted', average, warn_for)\n"
     ]
    },
    {
     "name": "stdout",
     "output_type": "stream",
     "text": [
      "Best params for RBF kernel: {'C': 10.0, 'gamma': 0.01} with score 0.53571\n",
      "--- test results for RBF kernel:\n",
      "                 precision    recall  f1-score   support\n",
      "\n",
      "            eat       0.00      0.00      0.00         2\n",
      " focused-active       0.00      0.00      0.00         5\n",
      "focused-passive       0.53      1.00      0.70         8\n",
      "leisure-passive       1.00      1.00      1.00         2\n",
      "\n",
      "    avg / total       0.37      0.59      0.45        17\n",
      "\n",
      "51 train examples and 13 test examples\n",
      "Best params for linear kernel: {'C': 100.0} with score 0.72727\n",
      "--- test results for linear kernel:\n",
      "                 precision    recall  f1-score   support\n",
      "\n",
      "            eat       0.50      0.50      0.50         2\n",
      " focused-active       0.78      0.88      0.82         8\n",
      "leisure-passive       1.00      0.67      0.80         3\n",
      "\n",
      "    avg / total       0.79      0.77      0.77        13\n",
      "\n"
     ]
    },
    {
     "name": "stderr",
     "output_type": "stream",
     "text": [
      "C:\\Users\\johndoe\\Anaconda3\\lib\\site-packages\\sklearn\\metrics\\classification.py:1135: UndefinedMetricWarning: Precision and F-score are ill-defined and being set to 0.0 in labels with no predicted samples.\n",
      "  'precision', 'predicted', average, warn_for)\n"
     ]
    },
    {
     "name": "stdout",
     "output_type": "stream",
     "text": [
      "Best params for RBF kernel: {'C': 10.0, 'gamma': 0.10000000000000001} with score 0.63636\n",
      "--- test results for RBF kernel:\n",
      "                 precision    recall  f1-score   support\n",
      "\n",
      "            eat       0.33      0.50      0.40         2\n",
      " focused-active       0.83      0.62      0.71         8\n",
      "leisure-passive       0.50      0.67      0.57         3\n",
      "\n",
      "    avg / total       0.68      0.62      0.63        13\n",
      "\n",
      "124 train examples and 31 test examples\n",
      "Best params for linear kernel: {'C': 1.0} with score 0.46000\n",
      "--- test results for linear kernel:\n",
      "                 precision    recall  f1-score   support\n",
      "\n",
      "            eat       0.22      0.40      0.29         5\n",
      " focused-active       0.67      0.67      0.67        12\n",
      "focused-passive       0.50      0.33      0.40         6\n",
      "leisure-passive       0.00      0.00      0.00         8\n",
      "\n",
      "    avg / total       0.39      0.39      0.38        31\n",
      "\n",
      "Best params for RBF kernel: {'C': 10.0, 'gamma': 0.10000000000000001} with score 0.52000\n",
      "--- test results for RBF kernel:\n",
      "                 precision    recall  f1-score   support\n",
      "\n",
      "            eat       0.33      0.40      0.36         5\n",
      " focused-active       0.73      0.67      0.70        12\n",
      "focused-passive       0.60      0.50      0.55         6\n",
      "leisure-passive       0.33      0.38      0.35         8\n",
      "\n",
      "    avg / total       0.54      0.52      0.52        31\n",
      "\n"
     ]
    },
    {
     "data": {
      "text/plain": [
       "[['                 precision    recall  f1-score   support\\n\\n            eat       0.00      0.00      0.00         2\\n focused-active       0.00      0.00      0.00         5\\nfocused-passive       0.53      1.00      0.70         8\\nleisure-passive       1.00      1.00      1.00         2\\n\\n    avg / total       0.37      0.59      0.45        17\\n',\n",
       "  '                 precision    recall  f1-score   support\\n\\n            eat       0.00      0.00      0.00         2\\n focused-active       0.00      0.00      0.00         5\\nfocused-passive       0.53      1.00      0.70         8\\nleisure-passive       1.00      1.00      1.00         2\\n\\n    avg / total       0.37      0.59      0.45        17\\n'],\n",
       " ['                 precision    recall  f1-score   support\\n\\n            eat       0.50      0.50      0.50         2\\n focused-active       0.78      0.88      0.82         8\\nleisure-passive       1.00      0.67      0.80         3\\n\\n    avg / total       0.79      0.77      0.77        13\\n',\n",
       "  '                 precision    recall  f1-score   support\\n\\n            eat       0.33      0.50      0.40         2\\n focused-active       0.83      0.62      0.71         8\\nleisure-passive       0.50      0.67      0.57         3\\n\\n    avg / total       0.68      0.62      0.63        13\\n'],\n",
       " ['                 precision    recall  f1-score   support\\n\\n            eat       0.22      0.40      0.29         5\\n focused-active       0.67      0.67      0.67        12\\nfocused-passive       0.50      0.33      0.40         6\\nleisure-passive       0.00      0.00      0.00         8\\n\\n    avg / total       0.39      0.39      0.38        31\\n',\n",
       "  '                 precision    recall  f1-score   support\\n\\n            eat       0.33      0.40      0.36         5\\n focused-active       0.73      0.67      0.70        12\\nfocused-passive       0.60      0.50      0.55         6\\nleisure-passive       0.33      0.38      0.35         8\\n\\n    avg / total       0.54      0.52      0.52        31\\n']]"
      ]
     },
     "execution_count": 166,
     "metadata": {},
     "output_type": "execute_result"
    }
   ],
   "source": [
    "hp.runFlowByUser(df_wake)"
   ]
  },
  {
   "cell_type": "markdown",
   "metadata": {},
   "source": [
    "### Split by passive vs active sitting activities"
   ]
  },
  {
   "cell_type": "code",
   "execution_count": 167,
   "metadata": {},
   "outputs": [
    {
     "ename": "NameError",
     "evalue": "name 'df_passive' is not defined",
     "output_type": "error",
     "traceback": [
      "\u001b[1;31m---------------------------------------------------------------------------\u001b[0m",
      "\u001b[1;31mNameError\u001b[0m                                 Traceback (most recent call last)",
      "\u001b[1;32m<ipython-input-167-25bce0ad8b5a>\u001b[0m in \u001b[0;36m<module>\u001b[1;34m()\u001b[0m\n\u001b[0;32m      1\u001b[0m \u001b[0mdf_actlvl\u001b[0m \u001b[1;33m=\u001b[0m \u001b[0mhp\u001b[0m\u001b[1;33m.\u001b[0m\u001b[0maddPartition\u001b[0m\u001b[1;33m(\u001b[0m\u001b[0mdf_wake\u001b[0m\u001b[1;33m,\u001b[0m \u001b[0mincludelist\u001b[0m\u001b[1;33m=\u001b[0m\u001b[1;33m[\u001b[0m\u001b[1;34m'focused-passive'\u001b[0m\u001b[1;33m,\u001b[0m \u001b[1;34m'leisure-passive'\u001b[0m\u001b[1;33m]\u001b[0m\u001b[1;33m,\u001b[0m \u001b[0mpname\u001b[0m\u001b[1;33m=\u001b[0m\u001b[1;34m'actlvl'\u001b[0m\u001b[1;33m,\u001b[0m \u001b[0mlabelIn\u001b[0m\u001b[1;33m=\u001b[0m\u001b[1;34m'passive'\u001b[0m\u001b[1;33m,\u001b[0m \u001b[0mlabelOut\u001b[0m\u001b[1;33m=\u001b[0m\u001b[1;34m'active'\u001b[0m\u001b[1;33m)\u001b[0m\u001b[1;33m\u001b[0m\u001b[0m\n\u001b[1;32m----> 2\u001b[1;33m \u001b[0mprint\u001b[0m\u001b[1;33m(\u001b[0m\u001b[0mdf_passive\u001b[0m\u001b[1;33m.\u001b[0m\u001b[0mgroupby\u001b[0m\u001b[1;33m(\u001b[0m\u001b[1;34m'actlvl'\u001b[0m\u001b[1;33m)\u001b[0m\u001b[1;33m.\u001b[0m\u001b[0mcount\u001b[0m\u001b[1;33m(\u001b[0m\u001b[1;33m)\u001b[0m\u001b[1;33m[\u001b[0m\u001b[1;34m'user'\u001b[0m\u001b[1;33m]\u001b[0m\u001b[1;33m)\u001b[0m\u001b[1;33m\u001b[0m\u001b[0m\n\u001b[0m",
      "\u001b[1;31mNameError\u001b[0m: name 'df_passive' is not defined"
     ]
    }
   ],
   "source": [
    "df_actlvl = hp.addPartition(df_wake, includelist=['focused-passive', 'leisure-passive'], pname='actlvl', labelIn='passive', labelOut='active')\n",
    "print(df_passive.groupby('actlvl').count()['user'])"
   ]
  },
  {
   "cell_type": "code",
   "execution_count": 170,
   "metadata": {},
   "outputs": [
    {
     "name": "stderr",
     "output_type": "stream",
     "text": [
      "C:\\Users\\johndoe\\Anaconda3\\lib\\site-packages\\pandas\\core\\indexing.py:517: SettingWithCopyWarning: \n",
      "A value is trying to be set on a copy of a slice from a DataFrame.\n",
      "Try using .loc[row_indexer,col_indexer] = value instead\n",
      "\n",
      "See the caveats in the documentation: http://pandas.pydata.org/pandas-docs/stable/indexing.html#indexing-view-versus-copy\n",
      "  self.obj[item] = s\n"
     ]
    },
    {
     "name": "stdout",
     "output_type": "stream",
     "text": [
      "242 train examples and 61 test examples\n",
      "Best params for linear kernel: {'C': 1.0} with score 0.62755\n",
      "--- test results for linear kernel:\n",
      "             precision    recall  f1-score   support\n",
      "\n",
      "     active       0.75      0.43      0.55        28\n",
      "    passive       0.64      0.88      0.74        33\n",
      "\n",
      "avg / total       0.69      0.67      0.65        61\n",
      "\n",
      "Best params for RBF kernel: {'C': 100.0, 'gamma': 0.10000000000000001} with score 0.69898\n",
      "--- test results for RBF kernel:\n",
      "             precision    recall  f1-score   support\n",
      "\n",
      "     active       0.69      0.71      0.70        28\n",
      "    passive       0.75      0.73      0.74        33\n",
      "\n",
      "avg / total       0.72      0.72      0.72        61\n",
      "\n"
     ]
    },
    {
     "data": {
      "text/plain": [
       "['             precision    recall  f1-score   support\\n\\n     active       0.75      0.43      0.55        28\\n    passive       0.64      0.88      0.74        33\\n\\navg / total       0.69      0.67      0.65        61\\n',\n",
       " '             precision    recall  f1-score   support\\n\\n     active       0.69      0.71      0.70        28\\n    passive       0.75      0.73      0.74        33\\n\\navg / total       0.72      0.72      0.72        61\\n']"
      ]
     },
     "execution_count": 170,
     "metadata": {},
     "output_type": "execute_result"
    }
   ],
   "source": [
    "hp.runFlow(df_actlvl, labelName='actlvl')"
   ]
  },
  {
   "cell_type": "code",
   "execution_count": 171,
   "metadata": {},
   "outputs": [
    {
     "name": "stdout",
     "output_type": "stream",
     "text": [
      "67 train examples and 17 test examples\n",
      "Best params for linear kernel: {'C': 0.01} with score 0.71429\n",
      "--- test results for linear kernel:\n",
      "             precision    recall  f1-score   support\n",
      "\n",
      "     active       0.00      0.00      0.00         7\n",
      "    passive       0.59      1.00      0.74        10\n",
      "\n",
      "avg / total       0.35      0.59      0.44        17\n",
      "\n"
     ]
    },
    {
     "name": "stderr",
     "output_type": "stream",
     "text": [
      "C:\\Users\\johndoe\\Anaconda3\\lib\\site-packages\\sklearn\\metrics\\classification.py:1135: UndefinedMetricWarning: Precision and F-score are ill-defined and being set to 0.0 in labels with no predicted samples.\n",
      "  'precision', 'predicted', average, warn_for)\n"
     ]
    },
    {
     "name": "stdout",
     "output_type": "stream",
     "text": [
      "Best params for RBF kernel: {'C': 10.0, 'gamma': 0.10000000000000001} with score 0.83929\n",
      "--- test results for RBF kernel:\n",
      "             precision    recall  f1-score   support\n",
      "\n",
      "     active       1.00      0.29      0.44         7\n",
      "    passive       0.67      1.00      0.80        10\n",
      "\n",
      "avg / total       0.80      0.71      0.65        17\n",
      "\n",
      "51 train examples and 13 test examples\n",
      "Best params for linear kernel: {'C': 1.0} with score 0.77273\n",
      "--- test results for linear kernel:\n",
      "             precision    recall  f1-score   support\n",
      "\n",
      "     active       0.71      0.62      0.67         8\n",
      "    passive       0.50      0.60      0.55         5\n",
      "\n",
      "avg / total       0.63      0.62      0.62        13\n",
      "\n",
      "Best params for RBF kernel: {'C': 10.0, 'gamma': 0.10000000000000001} with score 0.68182\n",
      "--- test results for RBF kernel:\n",
      "             precision    recall  f1-score   support\n",
      "\n",
      "     active       0.75      0.75      0.75         8\n",
      "    passive       0.60      0.60      0.60         5\n",
      "\n",
      "avg / total       0.69      0.69      0.69        13\n",
      "\n",
      "124 train examples and 31 test examples\n",
      "Best params for linear kernel: {'C': 0.01} with score 0.70000\n",
      "--- test results for linear kernel:\n",
      "             precision    recall  f1-score   support\n",
      "\n",
      "     active       0.55      0.38      0.44        16\n",
      "    passive       0.50      0.67      0.57        15\n",
      "\n",
      "avg / total       0.52      0.52      0.51        31\n",
      "\n",
      "Best params for RBF kernel: {'C': 10.0, 'gamma': 0.10000000000000001} with score 0.79000\n",
      "--- test results for RBF kernel:\n",
      "             precision    recall  f1-score   support\n",
      "\n",
      "     active       0.64      0.44      0.52        16\n",
      "    passive       0.55      0.73      0.63        15\n",
      "\n",
      "avg / total       0.59      0.58      0.57        31\n",
      "\n"
     ]
    },
    {
     "data": {
      "text/plain": [
       "[['             precision    recall  f1-score   support\\n\\n     active       0.00      0.00      0.00         7\\n    passive       0.59      1.00      0.74        10\\n\\navg / total       0.35      0.59      0.44        17\\n',\n",
       "  '             precision    recall  f1-score   support\\n\\n     active       1.00      0.29      0.44         7\\n    passive       0.67      1.00      0.80        10\\n\\navg / total       0.80      0.71      0.65        17\\n'],\n",
       " ['             precision    recall  f1-score   support\\n\\n     active       0.71      0.62      0.67         8\\n    passive       0.50      0.60      0.55         5\\n\\navg / total       0.63      0.62      0.62        13\\n',\n",
       "  '             precision    recall  f1-score   support\\n\\n     active       0.75      0.75      0.75         8\\n    passive       0.60      0.60      0.60         5\\n\\navg / total       0.69      0.69      0.69        13\\n'],\n",
       " ['             precision    recall  f1-score   support\\n\\n     active       0.55      0.38      0.44        16\\n    passive       0.50      0.67      0.57        15\\n\\navg / total       0.52      0.52      0.51        31\\n',\n",
       "  '             precision    recall  f1-score   support\\n\\n     active       0.64      0.44      0.52        16\\n    passive       0.55      0.73      0.63        15\\n\\navg / total       0.59      0.58      0.57        31\\n']]"
      ]
     },
     "execution_count": 171,
     "metadata": {},
     "output_type": "execute_result"
    }
   ],
   "source": [
    "hp.runFlowByUser(df_actlvl, labelName='actlvl')"
   ]
  },
  {
   "cell_type": "code",
   "execution_count": 172,
   "metadata": {},
   "outputs": [
    {
     "data": {
      "text/plain": [
       "activity\n",
       "focused-passive    73\n",
       "leisure-passive    89\n",
       "Name: user, dtype: int64"
      ]
     },
     "execution_count": 172,
     "metadata": {},
     "output_type": "execute_result"
    }
   ],
   "source": [
    "df_passive = hp.filterActivities(df_actlvl, ['leisure-passive', 'focused-passive'])\n",
    "hp.countExamplesByActivity(df_passive)"
   ]
  },
  {
   "cell_type": "code",
   "execution_count": 173,
   "metadata": {},
   "outputs": [
    {
     "name": "stderr",
     "output_type": "stream",
     "text": [
      "C:\\Users\\johndoe\\Anaconda3\\lib\\site-packages\\pandas\\core\\indexing.py:517: SettingWithCopyWarning: \n",
      "A value is trying to be set on a copy of a slice from a DataFrame.\n",
      "Try using .loc[row_indexer,col_indexer] = value instead\n",
      "\n",
      "See the caveats in the documentation: http://pandas.pydata.org/pandas-docs/stable/indexing.html#indexing-view-versus-copy\n",
      "  self.obj[item] = s\n"
     ]
    },
    {
     "name": "stdout",
     "output_type": "stream",
     "text": [
      "129 train examples and 33 test examples\n",
      "Best params for linear kernel: {'C': 10.0} with score 0.72115\n",
      "--- test results for linear kernel:\n",
      "                 precision    recall  f1-score   support\n",
      "\n",
      "focused-passive       0.44      0.58      0.50        12\n",
      "leisure-passive       0.71      0.57      0.63        21\n",
      "\n",
      "    avg / total       0.61      0.58      0.58        33\n",
      "\n",
      "Best params for RBF kernel: {'C': 1.0, 'gamma': 1.0} with score 0.61538\n",
      "--- test results for RBF kernel:\n",
      "                 precision    recall  f1-score   support\n",
      "\n",
      "focused-passive       0.62      0.42      0.50        12\n",
      "leisure-passive       0.72      0.86      0.78        21\n",
      "\n",
      "    avg / total       0.69      0.70      0.68        33\n",
      "\n"
     ]
    },
    {
     "data": {
      "text/plain": [
       "['                 precision    recall  f1-score   support\\n\\nfocused-passive       0.44      0.58      0.50        12\\nleisure-passive       0.71      0.57      0.63        21\\n\\n    avg / total       0.61      0.58      0.58        33\\n',\n",
       " '                 precision    recall  f1-score   support\\n\\nfocused-passive       0.62      0.42      0.50        12\\nleisure-passive       0.72      0.86      0.78        21\\n\\n    avg / total       0.69      0.70      0.68        33\\n']"
      ]
     },
     "execution_count": 173,
     "metadata": {},
     "output_type": "execute_result"
    }
   ],
   "source": [
    "hp.runFlow(df_passive)"
   ]
  },
  {
   "cell_type": "code",
   "execution_count": 174,
   "metadata": {},
   "outputs": [
    {
     "name": "stdout",
     "output_type": "stream",
     "text": [
      "44 train examples and 12 test examples\n",
      "Best params for linear kernel: {'C': 0.10000000000000001} with score 0.86111\n",
      "--- test results for linear kernel:\n",
      "                 precision    recall  f1-score   support\n",
      "\n",
      "focused-passive       0.88      0.78      0.82         9\n",
      "leisure-passive       0.50      0.67      0.57         3\n",
      "\n",
      "    avg / total       0.78      0.75      0.76        12\n",
      "\n",
      "Best params for RBF kernel: {'C': 1.0, 'gamma': 0.10000000000000001} with score 0.83333\n",
      "--- test results for RBF kernel:\n",
      "                 precision    recall  f1-score   support\n",
      "\n",
      "focused-passive       0.88      0.78      0.82         9\n",
      "leisure-passive       0.50      0.67      0.57         3\n",
      "\n",
      "    avg / total       0.78      0.75      0.76        12\n",
      "\n"
     ]
    },
    {
     "data": {
      "text/plain": [
       "['                 precision    recall  f1-score   support\\n\\nfocused-passive       0.88      0.78      0.82         9\\nleisure-passive       0.50      0.67      0.57         3\\n\\n    avg / total       0.78      0.75      0.76        12\\n',\n",
       " '                 precision    recall  f1-score   support\\n\\nfocused-passive       0.88      0.78      0.82         9\\nleisure-passive       0.50      0.67      0.57         3\\n\\n    avg / total       0.78      0.75      0.76        12\\n']"
      ]
     },
     "execution_count": 174,
     "metadata": {},
     "output_type": "execute_result"
    }
   ],
   "source": [
    "hp.runFlow(hp.userRows(df_passive, 0))"
   ]
  },
  {
   "cell_type": "code",
   "execution_count": 144,
   "metadata": {},
   "outputs": [
    {
     "name": "stderr",
     "output_type": "stream",
     "text": [
      "C:\\Users\\julia\\Anaconda3\\lib\\site-packages\\sklearn\\utils\\validation.py:444: DataConversionWarning: Data with input dtype int64 was converted to float64 by the scale function.\n",
      "  warnings.warn(msg, DataConversionWarning)\n"
     ]
    },
    {
     "name": "stdout",
     "output_type": "stream",
     "text": [
      "63 train examples and 16 test examples\n",
      "Best params for linear kernel: {'C': 10.0} with score 0.55769\n",
      "--- test results for linear kernel:\n",
      "                 precision    recall  f1-score   support\n",
      "\n",
      "focused-passive       0.75      0.27      0.40        11\n",
      "leisure-passive       0.33      0.80      0.47         5\n",
      "\n",
      "    avg / total       0.62      0.44      0.42        16\n",
      "\n",
      "Best params for RBF kernel: {'C': 1.0, 'gamma': 0.01} with score 0.63462\n",
      "--- test results for RBF kernel:\n",
      "                 precision    recall  f1-score   support\n",
      "\n",
      "focused-passive       1.00      0.09      0.17        11\n",
      "leisure-passive       0.33      1.00      0.50         5\n",
      "\n",
      "    avg / total       0.79      0.38      0.27        16\n",
      "\n"
     ]
    }
   ],
   "source": [
    "hp.runFlow(hp.userRows(df_passive, 2))"
   ]
  },
  {
   "cell_type": "code",
   "execution_count": 131,
   "metadata": {},
   "outputs": [
    {
     "data": {
      "text/plain": [
       "activity\n",
       "eat               53\n",
       "focused-active    88\n",
       "Name: user, dtype: int64"
      ]
     },
     "execution_count": 131,
     "metadata": {},
     "output_type": "execute_result"
    }
   ],
   "source": [
    "df_active = hp.excludeActivities(df_actlvl, ['leisure-passive', 'focused-passive'])\n",
    "hp.countExamplesByActivity(df_active)"
   ]
  },
  {
   "cell_type": "code",
   "execution_count": 145,
   "metadata": {},
   "outputs": [
    {
     "name": "stderr",
     "output_type": "stream",
     "text": [
      "C:\\Users\\julia\\Anaconda3\\lib\\site-packages\\sklearn\\utils\\validation.py:444: DataConversionWarning: Data with input dtype int64 was converted to float64 by the scale function.\n",
      "  warnings.warn(msg, DataConversionWarning)\n",
      "C:\\Users\\julia\\Anaconda3\\lib\\site-packages\\pandas\\core\\indexing.py:517: SettingWithCopyWarning: \n",
      "A value is trying to be set on a copy of a slice from a DataFrame.\n",
      "Try using .loc[row_indexer,col_indexer] = value instead\n",
      "\n",
      "See the caveats in the documentation: http://pandas.pydata.org/pandas-docs/stable/indexing.html#indexing-view-versus-copy\n",
      "  self.obj[item] = s\n"
     ]
    },
    {
     "name": "stdout",
     "output_type": "stream",
     "text": [
      "112 train examples and 29 test examples\n",
      "Best params for linear kernel: {'C': 100.0} with score 0.89130\n",
      "--- test results for linear kernel:\n",
      "                precision    recall  f1-score   support\n",
      "\n",
      "           eat       0.78      0.64      0.70        11\n",
      "focused-active       0.80      0.89      0.84        18\n",
      "\n",
      "   avg / total       0.79      0.79      0.79        29\n",
      "\n",
      "Best params for RBF kernel: {'C': 10.0, 'gamma': 0.01} with score 0.83696\n",
      "--- test results for RBF kernel:\n",
      "                precision    recall  f1-score   support\n",
      "\n",
      "           eat       0.78      0.64      0.70        11\n",
      "focused-active       0.80      0.89      0.84        18\n",
      "\n",
      "   avg / total       0.79      0.79      0.79        29\n",
      "\n"
     ]
    }
   ],
   "source": [
    "hp.runFlow(df_active)"
   ]
  },
  {
   "cell_type": "code",
   "execution_count": 149,
   "metadata": {},
   "outputs": [
    {
     "name": "stderr",
     "output_type": "stream",
     "text": [
      "C:\\Users\\julia\\Anaconda3\\lib\\site-packages\\sklearn\\utils\\validation.py:444: DataConversionWarning: Data with input dtype int64 was converted to float64 by the scale function.\n",
      "  warnings.warn(msg, DataConversionWarning)\n",
      "C:\\Users\\julia\\Anaconda3\\lib\\site-packages\\sklearn\\metrics\\classification.py:1135: UndefinedMetricWarning: Precision and F-score are ill-defined and being set to 0.0 in labels with no predicted samples.\n",
      "  'precision', 'predicted', average, warn_for)\n"
     ]
    },
    {
     "name": "stdout",
     "output_type": "stream",
     "text": [
      "CLASSFIER FOR USER 0\n",
      "22 train examples and 6 test examples\n",
      "Best params for linear kernel: {'C': 0.10000000000000001} with score 0.85000\n",
      "--- test results for linear kernel:\n",
      "                precision    recall  f1-score   support\n",
      "\n",
      "           eat       0.00      0.00      0.00         1\n",
      "focused-active       0.83      1.00      0.91         5\n",
      "\n",
      "   avg / total       0.69      0.83      0.76         6\n",
      "\n",
      "Best params for RBF kernel: {'C': 1.0, 'gamma': 0.10000000000000001} with score 0.90000\n",
      "--- test results for RBF kernel:\n",
      "                precision    recall  f1-score   support\n",
      "\n",
      "           eat       0.00      0.00      0.00         1\n",
      "focused-active       0.83      1.00      0.91         5\n",
      "\n",
      "   avg / total       0.69      0.83      0.76         6\n",
      "\n",
      "CLASSFIER FOR USER 1\n",
      "29 train examples and 8 test examples\n",
      "Best params for linear kernel: {'C': 0.10000000000000001} with score 0.87500\n",
      "--- test results for linear kernel:\n",
      "                precision    recall  f1-score   support\n",
      "\n",
      "           eat       1.00      1.00      1.00         2\n",
      "focused-active       1.00      1.00      1.00         6\n",
      "\n",
      "   avg / total       1.00      1.00      1.00         8\n",
      "\n"
     ]
    },
    {
     "name": "stderr",
     "output_type": "stream",
     "text": [
      "C:\\Users\\julia\\Anaconda3\\lib\\site-packages\\sklearn\\metrics\\classification.py:1135: UndefinedMetricWarning: Precision and F-score are ill-defined and being set to 0.0 in labels with no predicted samples.\n",
      "  'precision', 'predicted', average, warn_for)\n",
      "C:\\Users\\julia\\Anaconda3\\lib\\site-packages\\sklearn\\utils\\validation.py:444: DataConversionWarning: Data with input dtype int64 was converted to float64 by the scale function.\n",
      "  warnings.warn(msg, DataConversionWarning)\n"
     ]
    },
    {
     "name": "stdout",
     "output_type": "stream",
     "text": [
      "Best params for RBF kernel: {'C': 1.0, 'gamma': 0.10000000000000001} with score 0.95833\n",
      "--- test results for RBF kernel:\n",
      "                precision    recall  f1-score   support\n",
      "\n",
      "           eat       1.00      0.50      0.67         2\n",
      "focused-active       0.86      1.00      0.92         6\n",
      "\n",
      "   avg / total       0.89      0.88      0.86         8\n",
      "\n",
      "CLASSFIER FOR USER 2\n",
      "60 train examples and 16 test examples\n",
      "Best params for linear kernel: {'C': 1.0} with score 0.72917\n",
      "--- test results for linear kernel:\n",
      "                precision    recall  f1-score   support\n",
      "\n",
      "           eat       1.00      0.83      0.91         6\n",
      "focused-active       0.91      1.00      0.95        10\n",
      "\n",
      "   avg / total       0.94      0.94      0.94        16\n",
      "\n"
     ]
    },
    {
     "name": "stderr",
     "output_type": "stream",
     "text": [
      "C:\\Users\\julia\\Anaconda3\\lib\\site-packages\\sklearn\\utils\\validation.py:444: DataConversionWarning: Data with input dtype int64 was converted to float64 by the scale function.\n",
      "  warnings.warn(msg, DataConversionWarning)\n"
     ]
    },
    {
     "name": "stdout",
     "output_type": "stream",
     "text": [
      "Best params for RBF kernel: {'C': 10.0, 'gamma': 0.01} with score 0.79167\n",
      "--- test results for RBF kernel:\n",
      "                precision    recall  f1-score   support\n",
      "\n",
      "           eat       0.75      0.50      0.60         6\n",
      "focused-active       0.75      0.90      0.82        10\n",
      "\n",
      "   avg / total       0.75      0.75      0.74        16\n",
      "\n"
     ]
    }
   ],
   "source": [
    "hp.runFlowByUser(df_active)"
   ]
  },
  {
   "cell_type": "code",
   "execution_count": null,
   "metadata": {
    "collapsed": true
   },
   "outputs": [],
   "source": []
  }
 ],
 "metadata": {
  "kernelspec": {
   "display_name": "Python 3",
   "language": "python",
   "name": "python3"
  },
  "language_info": {
   "codemirror_mode": {
    "name": "ipython",
    "version": 3
   },
   "file_extension": ".py",
   "mimetype": "text/x-python",
   "name": "python",
   "nbconvert_exporter": "python",
   "pygments_lexer": "ipython3",
   "version": "3.6.3"
  }
 },
 "nbformat": 4,
 "nbformat_minor": 2
}
