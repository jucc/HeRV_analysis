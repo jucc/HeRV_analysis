{
 "cells": [
  {
   "cell_type": "code",
   "execution_count": 1,
   "metadata": {},
   "outputs": [
    {
     "data": {
      "text/html": [
       "<script>requirejs.config({paths: { 'plotly': ['https://cdn.plot.ly/plotly-latest.min']},});if(!window.Plotly) {{require(['plotly'],function(plotly) {window.Plotly=plotly;});}}</script>"
      ],
      "text/vnd.plotly.v1+html": [
       "<script>requirejs.config({paths: { 'plotly': ['https://cdn.plot.ly/plotly-latest.min']},});if(!window.Plotly) {{require(['plotly'],function(plotly) {window.Plotly=plotly;});}}</script>"
      ]
     },
     "metadata": {},
     "output_type": "display_data"
    }
   ],
   "source": [
    "%load_ext autoreload\n",
    "%autoreload 2\n",
    "%matplotlib inline  \n",
    "\n",
    "import pandas as pd\n",
    "import numpy as np\n",
    "\n",
    "from datetime import datetime, timedelta\n",
    "\n",
    "import plotly.offline as pl\n",
    "pl.init_notebook_mode(connected=True)\n",
    "import plotly.graph_objs as go\n",
    "\n",
    "from sklearn.ensemble import RandomForestClassifier\n",
    "from sklearn.metrics import accuracy_score\n",
    "\n",
    "import parseIntervalFiles as pif\n",
    "import consolidateFiles as cf\n",
    "import datacleaning as cl\n",
    "import dataviz as dv\n",
    "import fragmentation as fr\n",
    "import classif_multiclass as cmc\n",
    "import hervpd as hp"
   ]
  },
  {
   "cell_type": "markdown",
   "metadata": {},
   "source": [
    "## Pipeline configuration \n",
    "* set the input/output directories, users and date range"
   ]
  },
  {
   "cell_type": "code",
   "execution_count": 2,
   "metadata": {},
   "outputs": [],
   "source": [
    "verbose = True\n",
    "    \n",
    "DATA_PATH = \"C:\\\\Users\\\\ju\\\\GDrive\\\\Projects\\\\HeRV\\\\Data\\\\\" \n",
    "# DATA_PATH = \"/home/ju/GDrive/Projects/HeRV/Data/\"\n",
    "    \n",
    "RAW_PATH = DATA_PATH + \"Raw\"\n",
    "PRE_PATH = DATA_PATH + \"PreProcessed\"\n",
    "\n",
    "dt1 = datetime(2018, 6, 21)\n",
    "dt2 = datetime(2018, 10, 27)\n",
    "\n",
    "users = [1, 3, 9, 10, 11, 12, 13]"
   ]
  },
  {
   "cell_type": "markdown",
   "metadata": {},
   "source": [
    "## Extracting sessions"
   ]
  },
  {
   "cell_type": "code",
   "execution_count": 3,
   "metadata": {
    "scrolled": true
   },
   "outputs": [
    {
     "name": "stdout",
     "output_type": "stream",
     "text": [
      "parsing C:\\Users\\ju\\GDrive\\Projects\\HeRV\\Data\\Raw\\1\\act180621.csv\n",
      "0 sessions excluded\n",
      "parsing C:\\Users\\ju\\GDrive\\Projects\\HeRV\\Data\\Raw\\1\\act180623.csv\n",
      "0 sessions excluded\n",
      "parsing C:\\Users\\ju\\GDrive\\Projects\\HeRV\\Data\\Raw\\1\\act180624.csv\n",
      "0 sessions excluded\n",
      "parsing C:\\Users\\ju\\GDrive\\Projects\\HeRV\\Data\\Raw\\1\\act180626.csv\n",
      "0 sessions excluded\n",
      "[ 1 ] train-baseline 2018-06-21 17:01:07\n",
      "[ 1 ] train-focus 2018-06-21 17:04:23\n",
      "[ 1 ] train-breathe 2018-06-21 17:08:04\n",
      "[ 1 ] train-focus 2018-06-21 17:10:43\n",
      "[ 1 ] train-breathe 2018-06-21 17:13:39\n",
      "[ 1 ] train-baseline 2018-06-21 22:22:37\n",
      "[ 1 ] train-focus 2018-06-21 22:24:49\n",
      "[ 1 ] train-breathe 2018-06-21 22:28:19\n",
      "[ 1 ] train-focus 2018-06-21 22:32:17\n",
      "[ 1 ] train-breathe 2018-06-21 22:35:42\n",
      "[ 1 ] leisure-passive 2018-06-21 22:41:08\n",
      "[ 1 ] train-baseline 2018-06-23 23:37:06\n",
      "[ 1 ] train-focus 2018-06-23 23:40:35\n",
      "[ 1 ] train-breathe 2018-06-23 23:43:22\n",
      "[ 1 ] train-focus 2018-06-23 23:47:30\n",
      "[ 1 ] train-breathe 2018-06-23 23:50:59\n",
      "[ 1 ] leisure-passive 2018-06-23 23:56:00\n",
      "[ 1 ] leisure-passive 2018-06-24 00:00:00\n",
      "[ 1 ] focused-passive 2018-06-26 23:00:08\n",
      "[ 1 ] focused-passive 2018-06-26 23:06:07\n",
      "[ 1 ] focused-passive 2018-06-26 23:11:00\n",
      "[ 1 ] video-engaging 2018-06-26 23:13:20\n",
      "[ 1 ] video-disengaging 2018-06-26 23:25:53\n",
      "[ 1 ] train-baseline 2018-06-26 23:35:12\n",
      "[ 1 ] train-focus 2018-06-26 23:36:40\n",
      "[ 1 ] train-breathe 2018-06-26 23:38:03\n",
      "[ 1 ] train-focus 2018-06-26 23:39:31\n",
      "[ 1 ] train-breathe 2018-06-26 23:40:55\n",
      "[ 1 ] train-focus 2018-06-26 23:42:33\n",
      "[ 1 ] train-breathe 2018-06-26 23:43:56\n",
      "parsing C:\\Users\\ju\\GDrive\\Projects\\HeRV\\Data\\Raw\\3\\act180626.csv\n",
      "0 sessions excluded\n",
      "[ 3 ] train-baseline 2018-06-26 14:19:16\n",
      "[ 3 ] train-focus 2018-06-26 14:20:51\n",
      "[ 3 ] train-breathe 2018-06-26 14:22:59\n",
      "[ 3 ] train-focus 2018-06-26 14:24:33\n",
      "[ 3 ] train-breathe 2018-06-26 14:26:04\n",
      "[ 3 ] train-focus 2018-06-26 14:27:41\n",
      "[ 3 ] train-breathe 2018-06-26 14:29:07\n",
      "[ 3 ] video-engaging 2018-06-26 14:35:29\n",
      "[ 3 ] video-disengaging 2018-06-26 14:39:41\n",
      "parsing C:\\Users\\ju\\GDrive\\Projects\\HeRV\\Data\\Raw\\9\\act180626.csv\n",
      "0 sessions excluded\n",
      "[ 9 ] train-baseline 2018-06-26 15:34:14\n",
      "[ 9 ] train-focus 2018-06-26 15:35:38\n",
      "[ 9 ] train-breathe 2018-06-26 15:37:03\n",
      "[ 9 ] train-focus 2018-06-26 15:38:30\n",
      "[ 9 ] train-breathe 2018-06-26 15:39:52\n",
      "[ 9 ] train-focus 2018-06-26 15:41:16\n",
      "[ 9 ] train-breathe 2018-06-26 15:42:38\n",
      "parsing C:\\Users\\ju\\GDrive\\Projects\\HeRV\\Data\\Raw\\10\\act180626.csv\n",
      "0 sessions excluded\n",
      "[ 10 ] train-baseline 2018-06-26 15:49:04\n",
      "[ 10 ] train-focus 2018-06-26 15:50:34\n",
      "[ 10 ] train-breathe 2018-06-26 15:52:02\n",
      "[ 10 ] train-focus 2018-06-26 15:53:25\n",
      "[ 10 ] train-breathe 2018-06-26 15:54:56\n",
      "[ 10 ] train-focus 2018-06-26 15:56:21\n",
      "[ 10 ] train-breathe 2018-06-26 15:58:00\n",
      "parsing C:\\Users\\ju\\GDrive\\Projects\\HeRV\\Data\\Raw\\11\\act180722.csv\n",
      "0 sessions excluded\n",
      "[ 11 ] train-baseline 2018-07-22 17:03:44\n",
      "[ 11 ] train-focus 2018-07-22 17:05:10\n",
      "[ 11 ] train-breathe 2018-07-22 17:06:49\n",
      "[ 11 ] train-focus 2018-07-22 17:08:17\n",
      "[ 11 ] train-breathe 2018-07-22 17:09:43\n",
      "[ 11 ] train-focus 2018-07-22 17:11:36\n",
      "[ 11 ] train-breathe 2018-07-22 17:12:59\n",
      "parsing C:\\Users\\ju\\GDrive\\Projects\\HeRV\\Data\\Raw\\12\\act180722.csv\n",
      "0 sessions excluded\n",
      "[ 12 ] train-baseline 2018-07-22 18:29:07\n",
      "[ 12 ] train-focus 2018-07-22 18:30:35\n",
      "[ 12 ] train-breathe 2018-07-22 18:32:18\n",
      "[ 12 ] train-focus 2018-07-22 18:34:52\n",
      "[ 12 ] train-breathe 2018-07-22 18:36:39\n",
      "[ 12 ] train-focus 2018-07-22 18:38:15\n",
      "[ 12 ] train-breathe 2018-07-22 18:39:40\n",
      "parsing C:\\Users\\ju\\GDrive\\Projects\\HeRV\\Data\\Raw\\13\\act180722.csv\n",
      "0 sessions excluded\n",
      "[ 13 ] train-baseline 2018-07-22 18:46:41\n",
      "[ 13 ] train-focus 2018-07-22 18:49:14\n",
      "[ 13 ] train-breathe 2018-07-22 18:51:23\n",
      "[ 13 ] train-focus 2018-07-22 18:53:30\n",
      "[ 13 ] train-breathe 2018-07-22 18:55:22\n",
      "[ 13 ] train-focus 2018-07-22 18:57:16\n",
      "[ 13 ] train-breathe 2018-07-22 18:59:11\n",
      "74 sessions completed and 0 discarded for lack of RR data\n",
      "Wall time: 3.25 s\n"
     ]
    }
   ],
   "source": [
    "%time sess = cf.gen_sessions_dataset(users, dt1, dt2, dirname=RAW_PATH, verbose=True)"
   ]
  },
  {
   "cell_type": "code",
   "execution_count": 4,
   "metadata": {
    "scrolled": true
   },
   "outputs": [],
   "source": [
    "dfs = pd.DataFrame(sess)"
   ]
  },
  {
   "cell_type": "code",
   "execution_count": 5,
   "metadata": {},
   "outputs": [],
   "source": [
    "dfs = dfs[dfs.activity.isin(['train-baseline', 'train-focus', 'train-breathe'])]"
   ]
  },
  {
   "cell_type": "code",
   "execution_count": 6,
   "metadata": {},
   "outputs": [
    {
     "data": {
      "text/plain": [
       "activity\n",
       "train-baseline    10\n",
       "train-breathe     27\n",
       "train-focus       27\n",
       "Name: duration, dtype: int64"
      ]
     },
     "execution_count": 6,
     "metadata": {},
     "output_type": "execute_result"
    }
   ],
   "source": [
    "dfs.groupby('activity').count()['duration']"
   ]
  },
  {
   "cell_type": "code",
   "execution_count": 8,
   "metadata": {
    "scrolled": true
   },
   "outputs": [
    {
     "data": {
      "text/html": [
       "<div>\n",
       "<style>\n",
       "    .dataframe thead tr:only-child th {\n",
       "        text-align: right;\n",
       "    }\n",
       "\n",
       "    .dataframe thead th {\n",
       "        text-align: left;\n",
       "    }\n",
       "\n",
       "    .dataframe tbody tr th {\n",
       "        vertical-align: top;\n",
       "    }\n",
       "</style>\n",
       "<table border=\"1\" class=\"dataframe\">\n",
       "  <thead>\n",
       "    <tr style=\"text-align: right;\">\n",
       "      <th></th>\n",
       "      <th>activity</th>\n",
       "      <th>user</th>\n",
       "      <th>start</th>\n",
       "      <th>duration</th>\n",
       "      <th>beatscount</th>\n",
       "    </tr>\n",
       "  </thead>\n",
       "  <tbody>\n",
       "    <tr>\n",
       "      <th>0</th>\n",
       "      <td>train-baseline</td>\n",
       "      <td>1</td>\n",
       "      <td>2018-06-21 17:01:07</td>\n",
       "      <td>147</td>\n",
       "      <td>201</td>\n",
       "    </tr>\n",
       "    <tr>\n",
       "      <th>1</th>\n",
       "      <td>train-focus</td>\n",
       "      <td>1</td>\n",
       "      <td>2018-06-21 17:04:23</td>\n",
       "      <td>127</td>\n",
       "      <td>183</td>\n",
       "    </tr>\n",
       "    <tr>\n",
       "      <th>2</th>\n",
       "      <td>train-breathe</td>\n",
       "      <td>1</td>\n",
       "      <td>2018-06-21 17:08:04</td>\n",
       "      <td>127</td>\n",
       "      <td>158</td>\n",
       "    </tr>\n",
       "    <tr>\n",
       "      <th>3</th>\n",
       "      <td>train-focus</td>\n",
       "      <td>1</td>\n",
       "      <td>2018-06-21 17:10:43</td>\n",
       "      <td>128</td>\n",
       "      <td>189</td>\n",
       "    </tr>\n",
       "    <tr>\n",
       "      <th>4</th>\n",
       "      <td>train-breathe</td>\n",
       "      <td>1</td>\n",
       "      <td>2018-06-21 17:13:39</td>\n",
       "      <td>133</td>\n",
       "      <td>176</td>\n",
       "    </tr>\n",
       "    <tr>\n",
       "      <th>5</th>\n",
       "      <td>train-baseline</td>\n",
       "      <td>1</td>\n",
       "      <td>2018-06-21 22:22:37</td>\n",
       "      <td>104</td>\n",
       "      <td>146</td>\n",
       "    </tr>\n",
       "    <tr>\n",
       "      <th>6</th>\n",
       "      <td>train-focus</td>\n",
       "      <td>1</td>\n",
       "      <td>2018-06-21 22:24:49</td>\n",
       "      <td>141</td>\n",
       "      <td>202</td>\n",
       "    </tr>\n",
       "    <tr>\n",
       "      <th>7</th>\n",
       "      <td>train-breathe</td>\n",
       "      <td>1</td>\n",
       "      <td>2018-06-21 22:28:19</td>\n",
       "      <td>128</td>\n",
       "      <td>165</td>\n",
       "    </tr>\n",
       "    <tr>\n",
       "      <th>8</th>\n",
       "      <td>train-focus</td>\n",
       "      <td>1</td>\n",
       "      <td>2018-06-21 22:32:17</td>\n",
       "      <td>130</td>\n",
       "      <td>187</td>\n",
       "    </tr>\n",
       "    <tr>\n",
       "      <th>9</th>\n",
       "      <td>train-breathe</td>\n",
       "      <td>1</td>\n",
       "      <td>2018-06-21 22:35:42</td>\n",
       "      <td>135</td>\n",
       "      <td>171</td>\n",
       "    </tr>\n",
       "    <tr>\n",
       "      <th>11</th>\n",
       "      <td>train-baseline</td>\n",
       "      <td>1</td>\n",
       "      <td>2018-06-23 23:37:06</td>\n",
       "      <td>132</td>\n",
       "      <td>138</td>\n",
       "    </tr>\n",
       "    <tr>\n",
       "      <th>12</th>\n",
       "      <td>train-focus</td>\n",
       "      <td>1</td>\n",
       "      <td>2018-06-23 23:40:35</td>\n",
       "      <td>135</td>\n",
       "      <td>144</td>\n",
       "    </tr>\n",
       "    <tr>\n",
       "      <th>13</th>\n",
       "      <td>train-breathe</td>\n",
       "      <td>1</td>\n",
       "      <td>2018-06-23 23:43:22</td>\n",
       "      <td>131</td>\n",
       "      <td>132</td>\n",
       "    </tr>\n",
       "    <tr>\n",
       "      <th>14</th>\n",
       "      <td>train-focus</td>\n",
       "      <td>1</td>\n",
       "      <td>2018-06-23 23:47:30</td>\n",
       "      <td>130</td>\n",
       "      <td>137</td>\n",
       "    </tr>\n",
       "    <tr>\n",
       "      <th>15</th>\n",
       "      <td>train-breathe</td>\n",
       "      <td>1</td>\n",
       "      <td>2018-06-23 23:50:59</td>\n",
       "      <td>134</td>\n",
       "      <td>141</td>\n",
       "    </tr>\n",
       "    <tr>\n",
       "      <th>23</th>\n",
       "      <td>train-baseline</td>\n",
       "      <td>1</td>\n",
       "      <td>2018-06-26 23:35:12</td>\n",
       "      <td>80</td>\n",
       "      <td>73</td>\n",
       "    </tr>\n",
       "    <tr>\n",
       "      <th>24</th>\n",
       "      <td>train-focus</td>\n",
       "      <td>1</td>\n",
       "      <td>2018-06-26 23:36:40</td>\n",
       "      <td>80</td>\n",
       "      <td>72</td>\n",
       "    </tr>\n",
       "    <tr>\n",
       "      <th>25</th>\n",
       "      <td>train-breathe</td>\n",
       "      <td>1</td>\n",
       "      <td>2018-06-26 23:38:03</td>\n",
       "      <td>80</td>\n",
       "      <td>78</td>\n",
       "    </tr>\n",
       "    <tr>\n",
       "      <th>26</th>\n",
       "      <td>train-focus</td>\n",
       "      <td>1</td>\n",
       "      <td>2018-06-26 23:39:31</td>\n",
       "      <td>80</td>\n",
       "      <td>77</td>\n",
       "    </tr>\n",
       "    <tr>\n",
       "      <th>27</th>\n",
       "      <td>train-breathe</td>\n",
       "      <td>1</td>\n",
       "      <td>2018-06-26 23:40:55</td>\n",
       "      <td>80</td>\n",
       "      <td>76</td>\n",
       "    </tr>\n",
       "    <tr>\n",
       "      <th>28</th>\n",
       "      <td>train-focus</td>\n",
       "      <td>1</td>\n",
       "      <td>2018-06-26 23:42:33</td>\n",
       "      <td>80</td>\n",
       "      <td>80</td>\n",
       "    </tr>\n",
       "    <tr>\n",
       "      <th>29</th>\n",
       "      <td>train-breathe</td>\n",
       "      <td>1</td>\n",
       "      <td>2018-06-26 23:43:56</td>\n",
       "      <td>80</td>\n",
       "      <td>80</td>\n",
       "    </tr>\n",
       "  </tbody>\n",
       "</table>\n",
       "</div>"
      ],
      "text/plain": [
       "          activity  user               start  duration  beatscount\n",
       "0   train-baseline     1 2018-06-21 17:01:07       147         201\n",
       "1      train-focus     1 2018-06-21 17:04:23       127         183\n",
       "2    train-breathe     1 2018-06-21 17:08:04       127         158\n",
       "3      train-focus     1 2018-06-21 17:10:43       128         189\n",
       "4    train-breathe     1 2018-06-21 17:13:39       133         176\n",
       "5   train-baseline     1 2018-06-21 22:22:37       104         146\n",
       "6      train-focus     1 2018-06-21 22:24:49       141         202\n",
       "7    train-breathe     1 2018-06-21 22:28:19       128         165\n",
       "8      train-focus     1 2018-06-21 22:32:17       130         187\n",
       "9    train-breathe     1 2018-06-21 22:35:42       135         171\n",
       "11  train-baseline     1 2018-06-23 23:37:06       132         138\n",
       "12     train-focus     1 2018-06-23 23:40:35       135         144\n",
       "13   train-breathe     1 2018-06-23 23:43:22       131         132\n",
       "14     train-focus     1 2018-06-23 23:47:30       130         137\n",
       "15   train-breathe     1 2018-06-23 23:50:59       134         141\n",
       "23  train-baseline     1 2018-06-26 23:35:12        80          73\n",
       "24     train-focus     1 2018-06-26 23:36:40        80          72\n",
       "25   train-breathe     1 2018-06-26 23:38:03        80          78\n",
       "26     train-focus     1 2018-06-26 23:39:31        80          77\n",
       "27   train-breathe     1 2018-06-26 23:40:55        80          76\n",
       "28     train-focus     1 2018-06-26 23:42:33        80          80\n",
       "29   train-breathe     1 2018-06-26 23:43:56        80          80"
      ]
     },
     "execution_count": 8,
     "metadata": {},
     "output_type": "execute_result"
    }
   ],
   "source": [
    "dfs[dfs.user==1][['activity', 'user', 'start', 'duration', 'beatscount']]"
   ]
  },
  {
   "cell_type": "code",
   "execution_count": null,
   "metadata": {},
   "outputs": [],
   "source": [
    "dfs.describe()"
   ]
  },
  {
   "cell_type": "code",
   "execution_count": null,
   "metadata": {},
   "outputs": [],
   "source": [
    "dfs.drop(['rr'], axis =  1).to_excel(PRE_PATH + \"\\\\train_sessions.xlsx\")"
   ]
  },
  {
   "cell_type": "markdown",
   "metadata": {},
   "source": [
    "\n",
    "---\n",
    "\n",
    "\n",
    "# VISUALIZATION\n",
    "\n",
    "---\n",
    "\n"
   ]
  },
  {
   "cell_type": "code",
   "execution_count": null,
   "metadata": {
    "scrolled": true
   },
   "outputs": [],
   "source": [
    "#d21 = df_export[df_export.start > '2018-06-21']\n",
    "for feat in cl.features_all:\n",
    "    dv.boxplot_compare(dfs[dfs.user==11], feat, groupby='activity', min_examples=1)"
   ]
  },
  {
   "cell_type": "markdown",
   "metadata": {},
   "source": [
    "\n",
    "---\n",
    "\n",
    "\n",
    "# FRAGMENTATION\n",
    "\n",
    "---\n",
    "\n"
   ]
  },
  {
   "cell_type": "code",
   "execution_count": null,
   "metadata": {},
   "outputs": [],
   "source": [
    "sessions = dfs.to_dict(orient='records')"
   ]
  },
  {
   "cell_type": "markdown",
   "metadata": {},
   "source": [
    "### Example dataset for 60 sec frags"
   ]
  },
  {
   "cell_type": "code",
   "execution_count": null,
   "metadata": {
    "scrolled": true
   },
   "outputs": [],
   "source": [
    "frags = fr.gen_fragments_dataset(sessions, 60, 5, RAW_PATH)\n",
    "dff = pd.DataFrame(frags)\n",
    "dff.sample(2)"
   ]
  },
  {
   "cell_type": "code",
   "execution_count": null,
   "metadata": {
    "scrolled": true
   },
   "outputs": [],
   "source": [
    "dv.full_plot_sess(dfs.iloc[-2], dff, RAW_PATH)"
   ]
  },
  {
   "cell_type": "markdown",
   "metadata": {},
   "source": [
    "### Generate datasets for multiple fragment sizes"
   ]
  },
  {
   "cell_type": "code",
   "execution_count": null,
   "metadata": {},
   "outputs": [],
   "source": [
    "durations = [60, 30, 20, 15, 10]\n",
    "crop = 10\n",
    "\n",
    "for dr in durations:\n",
    "    fname = PRE_PATH + '\\\\df_train_' + str(dr) + '.xlsx'\n",
    "    print ('generating', fname, '...')\n",
    "    ds = pd.DataFrame(fr.gen_fragments_dataset(sessions, dr, crop, RAW_PATH))\n",
    "    print('resulting dataset:', len(ds), 'records')\n",
    "    ds.drop('rr', axis=1).to_excel(fname)"
   ]
  },
  {
   "cell_type": "markdown",
   "metadata": {},
   "source": [
    "\n",
    "---\n",
    "\n",
    "\n",
    "# CLASSIFICATION\n",
    "\n",
    "---\n",
    "\n"
   ]
  },
  {
   "cell_type": "code",
   "execution_count": null,
   "metadata": {},
   "outputs": [],
   "source": [
    "dff = pd.read_excel(PRE_PATH+'\\\\df_train_15.xlsx')"
   ]
  },
  {
   "cell_type": "code",
   "execution_count": null,
   "metadata": {},
   "outputs": [],
   "source": [
    "dff[dff.user==1].groupby('activity').count()['start']"
   ]
  },
  {
   "cell_type": "code",
   "execution_count": null,
   "metadata": {},
   "outputs": [],
   "source": [
    "dfr = dff[dff.activity.isin(['train-focus', 'train-breathe'])]"
   ]
  },
  {
   "cell_type": "code",
   "execution_count": null,
   "metadata": {},
   "outputs": [],
   "source": [
    "features = cl.features_all\n",
    "clf1 = RandomForestClassifier(n_estimators=10, n_jobs=-1)\n",
    "clf2 = RandomForestClassifier(n_estimators=100, n_jobs=-1)\n",
    "clf3 = RandomForestClassifier(n_estimators=1000, n_jobs=-1)\n",
    "clf4 = RandomForestClassifier(n_estimators=10000, n_jobs=-1)\n",
    "clf5 = RandomForestClassifier(n_estimators=100000, n_jobs=-1)"
   ]
  },
  {
   "cell_type": "code",
   "execution_count": null,
   "metadata": {},
   "outputs": [],
   "source": [
    "dff.groupby('user').count()['start']"
   ]
  },
  {
   "cell_type": "code",
   "execution_count": null,
   "metadata": {},
   "outputs": [],
   "source": [
    "cmc.barplot_accuracy_per_user(dff, clf4, features, label='activity', users=[1,3,9,10,11,12,13])"
   ]
  },
  {
   "cell_type": "code",
   "execution_count": null,
   "metadata": {
    "scrolled": true
   },
   "outputs": [],
   "source": [
    "for u in [1,3,9,10,11,12,13]:\n",
    "    print('----', u, '----')\n",
    "    cmc.plot_matrices(dfr[dfr.user==u], clf3, features, label='activity')\n",
    "\n",
    "print ('------ combined -------')\n",
    "cmc.plot_matrices(dfr[dfr.user.isin([1,3])], clf3, features, label='activity')"
   ]
  },
  {
   "cell_type": "code",
   "execution_count": null,
   "metadata": {},
   "outputs": [],
   "source": []
  }
 ],
 "metadata": {
  "kernelspec": {
   "display_name": "Python 3",
   "language": "python",
   "name": "python3"
  },
  "language_info": {
   "codemirror_mode": {
    "name": "ipython",
    "version": 3
   },
   "file_extension": ".py",
   "mimetype": "text/x-python",
   "name": "python",
   "nbconvert_exporter": "python",
   "pygments_lexer": "ipython3",
   "version": "3.6.3"
  }
 },
 "nbformat": 4,
 "nbformat_minor": 2
}
