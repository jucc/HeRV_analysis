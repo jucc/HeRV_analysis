{
 "cells": [
  {
   "cell_type": "code",
   "execution_count": 1,
   "metadata": {},
   "outputs": [
    {
     "data": {
      "text/html": [
       "<script>requirejs.config({paths: { 'plotly': ['https://cdn.plot.ly/plotly-latest.min']},});if(!window.Plotly) {{require(['plotly'],function(plotly) {window.Plotly=plotly;});}}</script>"
      ],
      "text/vnd.plotly.v1+html": [
       "<script>requirejs.config({paths: { 'plotly': ['https://cdn.plot.ly/plotly-latest.min']},});if(!window.Plotly) {{require(['plotly'],function(plotly) {window.Plotly=plotly;});}}</script>"
      ]
     },
     "metadata": {},
     "output_type": "display_data"
    }
   ],
   "source": [
    "%load_ext autoreload\n",
    "%autoreload 2\n",
    "%matplotlib inline  \n",
    "\n",
    "import pandas as pd\n",
    "import numpy as np\n",
    "import matplotlib.pyplot as plt\n",
    "import plotly.offline as pl\n",
    "import plotly.graph_objs as go\n",
    "pl.init_notebook_mode(connected=True)\n",
    "\n",
    "from sklearn import svm\n",
    "from sklearn.ensemble import RandomForestClassifier\n",
    "from sklearn.preprocessing import scale\n",
    "from sklearn.model_selection import StratifiedShuffleSplit, GridSearchCV, train_test_split\n",
    "from sklearn.metrics import classification_report, precision_recall_fscore_support\n",
    "\n",
    "import hervpd as hp\n",
    "import classif\n",
    "import dataviz as dv"
   ]
  },
  {
   "cell_type": "code",
   "execution_count": 2,
   "metadata": {},
   "outputs": [],
   "source": [
    "path = \"C:\\\\Users\\\\ju\\\\GDrive\\\\Projects\\\\HeRV\\\\Data\\\\PreProcessed\" \n",
    "\n",
    "features = ['mrri', 'sdnn', 'rmssd', 'pnn50', 'hfnu', 'lfnu', 'lf_hf']\n",
    "onehotlabels = ['sleep', 'exercise', 'move', 'stress1', 'stress2', 'stress3', 'relax2']\n",
    "crops = [90] \n",
    "durations = [600, 450, 300, 240, 180, 120, 60]"
   ]
  },
  {
   "cell_type": "code",
   "execution_count": 3,
   "metadata": {},
   "outputs": [],
   "source": [
    "c1 = 10\n",
    "c2 = 10\n",
    "gamma = 0.1\n",
    "\n",
    "\n",
    "clf_rbf = svm.SVC(kernel='rbf', cache_size=1000, C=c1, gamma=gamma)\n",
    "clf_lin = svm.SVC(kernel='linear', cache_size=1000, C=10, gamma=gamma)\n",
    "clf_rf = RandomForestClassifier(n_estimators=100, n_jobs=-1)\n",
    "\n",
    "#classifiers = {'rf': clf_rf, 'rbf': clf_rbf, 'lin': clf_lin}\n",
    "#classifiers = {'rf': clf_rf, 'rbf': clf_rbf}\n",
    "classifiers = {'rf': clf_rf}"
   ]
  },
  {
   "cell_type": "markdown",
   "metadata": {},
   "source": [
    "## Interuser classification"
   ]
  },
  {
   "cell_type": "code",
   "execution_count": 4,
   "metadata": {
    "scrolled": true
   },
   "outputs": [
    {
     "name": "stdout",
     "output_type": "stream",
     "text": [
      "C:\\Users\\ju\\GDrive\\Projects\\HeRV\\Data\\PreProcessed\\df_600_90_encoded.xlsx\n",
      "1538 frags\n",
      "1230 308\n"
     ]
    },
    {
     "name": "stderr",
     "output_type": "stream",
     "text": [
      "C:\\Users\\Ju\\Anaconda3\\lib\\site-packages\\sklearn\\utils\\validation.py:475: DataConversionWarning:\n",
      "\n",
      "Data with input dtype int64 was converted to float64 by StandardScaler.\n",
      "\n"
     ]
    },
    {
     "name": "stdout",
     "output_type": "stream",
     "text": [
      "C:\\Users\\ju\\GDrive\\Projects\\HeRV\\Data\\PreProcessed\\df_450_90_encoded.xlsx\n",
      "2087 frags\n",
      "1669 418\n"
     ]
    },
    {
     "name": "stderr",
     "output_type": "stream",
     "text": [
      "C:\\Users\\Ju\\Anaconda3\\lib\\site-packages\\sklearn\\utils\\validation.py:475: DataConversionWarning:\n",
      "\n",
      "Data with input dtype int64 was converted to float64 by StandardScaler.\n",
      "\n"
     ]
    },
    {
     "name": "stdout",
     "output_type": "stream",
     "text": [
      "C:\\Users\\ju\\GDrive\\Projects\\HeRV\\Data\\PreProcessed\\df_300_90_encoded.xlsx\n",
      "3222 frags\n",
      "2577 645\n"
     ]
    },
    {
     "name": "stderr",
     "output_type": "stream",
     "text": [
      "C:\\Users\\Ju\\Anaconda3\\lib\\site-packages\\sklearn\\utils\\validation.py:475: DataConversionWarning:\n",
      "\n",
      "Data with input dtype int64 was converted to float64 by StandardScaler.\n",
      "\n"
     ]
    },
    {
     "name": "stdout",
     "output_type": "stream",
     "text": [
      "C:\\Users\\ju\\GDrive\\Projects\\HeRV\\Data\\PreProcessed\\df_240_90_encoded.xlsx\n",
      "4108 frags\n",
      "3286 822\n"
     ]
    },
    {
     "name": "stderr",
     "output_type": "stream",
     "text": [
      "C:\\Users\\Ju\\Anaconda3\\lib\\site-packages\\sklearn\\utils\\validation.py:475: DataConversionWarning:\n",
      "\n",
      "Data with input dtype int64 was converted to float64 by StandardScaler.\n",
      "\n"
     ]
    },
    {
     "name": "stdout",
     "output_type": "stream",
     "text": [
      "C:\\Users\\ju\\GDrive\\Projects\\HeRV\\Data\\PreProcessed\\df_180_90_encoded.xlsx\n",
      "5550 frags\n",
      "4440 1110\n"
     ]
    },
    {
     "name": "stderr",
     "output_type": "stream",
     "text": [
      "C:\\Users\\Ju\\Anaconda3\\lib\\site-packages\\sklearn\\utils\\validation.py:475: DataConversionWarning:\n",
      "\n",
      "Data with input dtype int64 was converted to float64 by StandardScaler.\n",
      "\n"
     ]
    },
    {
     "name": "stdout",
     "output_type": "stream",
     "text": [
      "C:\\Users\\ju\\GDrive\\Projects\\HeRV\\Data\\PreProcessed\\df_120_90_encoded.xlsx\n",
      "8457 frags\n",
      "6765 1692\n"
     ]
    },
    {
     "name": "stderr",
     "output_type": "stream",
     "text": [
      "C:\\Users\\Ju\\Anaconda3\\lib\\site-packages\\sklearn\\utils\\validation.py:475: DataConversionWarning:\n",
      "\n",
      "Data with input dtype int64 was converted to float64 by StandardScaler.\n",
      "\n"
     ]
    },
    {
     "name": "stdout",
     "output_type": "stream",
     "text": [
      "C:\\Users\\ju\\GDrive\\Projects\\HeRV\\Data\\PreProcessed\\df_60_90_encoded.xlsx\n",
      "17199 frags\n",
      "13759 3440\n"
     ]
    },
    {
     "name": "stderr",
     "output_type": "stream",
     "text": [
      "C:\\Users\\Ju\\Anaconda3\\lib\\site-packages\\sklearn\\utils\\validation.py:475: DataConversionWarning:\n",
      "\n",
      "Data with input dtype int64 was converted to float64 by StandardScaler.\n",
      "\n"
     ]
    },
    {
     "name": "stdout",
     "output_type": "stream",
     "text": [
      "Wall time: 47.2 s\n"
     ]
    }
   ],
   "source": [
    "%time fullresult = classif.full_binary_classification(classifiers, durations, crops, features, onehotlabels, path=path)"
   ]
  },
  {
   "cell_type": "code",
   "execution_count": 5,
   "metadata": {},
   "outputs": [
    {
     "data": {
      "text/html": [
       "<div>\n",
       "<style>\n",
       "    .dataframe thead tr:only-child th {\n",
       "        text-align: right;\n",
       "    }\n",
       "\n",
       "    .dataframe thead th {\n",
       "        text-align: left;\n",
       "    }\n",
       "\n",
       "    .dataframe tbody tr th {\n",
       "        vertical-align: top;\n",
       "    }\n",
       "</style>\n",
       "<table border=\"1\" class=\"dataframe\">\n",
       "  <thead>\n",
       "    <tr style=\"text-align: right;\">\n",
       "      <th></th>\n",
       "      <th>crop</th>\n",
       "      <th>duration</th>\n",
       "      <th>f1</th>\n",
       "      <th>fn</th>\n",
       "      <th>fp</th>\n",
       "      <th>precision</th>\n",
       "      <th>recall</th>\n",
       "      <th>score</th>\n",
       "      <th>tn</th>\n",
       "      <th>tp</th>\n",
       "      <th>user</th>\n",
       "    </tr>\n",
       "  </thead>\n",
       "  <tbody>\n",
       "    <tr>\n",
       "      <th>count</th>\n",
       "      <td>49.0</td>\n",
       "      <td>49.000000</td>\n",
       "      <td>49.000000</td>\n",
       "      <td>49.000000</td>\n",
       "      <td>49.000000</td>\n",
       "      <td>49.000000</td>\n",
       "      <td>49.000000</td>\n",
       "      <td>49.000000</td>\n",
       "      <td>49.000000</td>\n",
       "      <td>49.000000</td>\n",
       "      <td>49.0</td>\n",
       "    </tr>\n",
       "    <tr>\n",
       "      <th>mean</th>\n",
       "      <td>90.0</td>\n",
       "      <td>278.571429</td>\n",
       "      <td>0.530736</td>\n",
       "      <td>134.510204</td>\n",
       "      <td>58.408163</td>\n",
       "      <td>0.652610</td>\n",
       "      <td>0.472852</td>\n",
       "      <td>0.847633</td>\n",
       "      <td>889.693878</td>\n",
       "      <td>122.387755</td>\n",
       "      <td>-1.0</td>\n",
       "    </tr>\n",
       "    <tr>\n",
       "      <th>std</th>\n",
       "      <td>0.0</td>\n",
       "      <td>178.009831</td>\n",
       "      <td>0.216007</td>\n",
       "      <td>150.582082</td>\n",
       "      <td>71.041337</td>\n",
       "      <td>0.149738</td>\n",
       "      <td>0.223015</td>\n",
       "      <td>0.075267</td>\n",
       "      <td>778.675938</td>\n",
       "      <td>169.269486</td>\n",
       "      <td>0.0</td>\n",
       "    </tr>\n",
       "    <tr>\n",
       "      <th>min</th>\n",
       "      <td>90.0</td>\n",
       "      <td>60.000000</td>\n",
       "      <td>0.053097</td>\n",
       "      <td>1.000000</td>\n",
       "      <td>1.000000</td>\n",
       "      <td>0.333333</td>\n",
       "      <td>0.028846</td>\n",
       "      <td>0.740407</td>\n",
       "      <td>162.000000</td>\n",
       "      <td>3.000000</td>\n",
       "      <td>-1.0</td>\n",
       "    </tr>\n",
       "    <tr>\n",
       "      <th>25%</th>\n",
       "      <td>90.0</td>\n",
       "      <td>120.000000</td>\n",
       "      <td>0.446259</td>\n",
       "      <td>37.000000</td>\n",
       "      <td>13.000000</td>\n",
       "      <td>0.563063</td>\n",
       "      <td>0.366834</td>\n",
       "      <td>0.781105</td>\n",
       "      <td>353.000000</td>\n",
       "      <td>24.000000</td>\n",
       "      <td>-1.0</td>\n",
       "    </tr>\n",
       "    <tr>\n",
       "      <th>50%</th>\n",
       "      <td>90.0</td>\n",
       "      <td>240.000000</td>\n",
       "      <td>0.548936</td>\n",
       "      <td>87.000000</td>\n",
       "      <td>35.000000</td>\n",
       "      <td>0.628931</td>\n",
       "      <td>0.495833</td>\n",
       "      <td>0.845946</td>\n",
       "      <td>621.000000</td>\n",
       "      <td>71.000000</td>\n",
       "      <td>-1.0</td>\n",
       "    </tr>\n",
       "    <tr>\n",
       "      <th>75%</th>\n",
       "      <td>90.0</td>\n",
       "      <td>450.000000</td>\n",
       "      <td>0.676768</td>\n",
       "      <td>164.000000</td>\n",
       "      <td>67.000000</td>\n",
       "      <td>0.800000</td>\n",
       "      <td>0.615385</td>\n",
       "      <td>0.889294</td>\n",
       "      <td>1065.000000</td>\n",
       "      <td>145.000000</td>\n",
       "      <td>-1.0</td>\n",
       "    </tr>\n",
       "    <tr>\n",
       "      <th>max</th>\n",
       "      <td>90.0</td>\n",
       "      <td>600.000000</td>\n",
       "      <td>0.885496</td>\n",
       "      <td>592.000000</td>\n",
       "      <td>324.000000</td>\n",
       "      <td>0.920635</td>\n",
       "      <td>0.852941</td>\n",
       "      <td>0.993506</td>\n",
       "      <td>3309.000000</td>\n",
       "      <td>989.000000</td>\n",
       "      <td>-1.0</td>\n",
       "    </tr>\n",
       "  </tbody>\n",
       "</table>\n",
       "</div>"
      ],
      "text/plain": [
       "       crop    duration         f1          fn          fp  precision  \\\n",
       "count  49.0   49.000000  49.000000   49.000000   49.000000  49.000000   \n",
       "mean   90.0  278.571429   0.530736  134.510204   58.408163   0.652610   \n",
       "std     0.0  178.009831   0.216007  150.582082   71.041337   0.149738   \n",
       "min    90.0   60.000000   0.053097    1.000000    1.000000   0.333333   \n",
       "25%    90.0  120.000000   0.446259   37.000000   13.000000   0.563063   \n",
       "50%    90.0  240.000000   0.548936   87.000000   35.000000   0.628931   \n",
       "75%    90.0  450.000000   0.676768  164.000000   67.000000   0.800000   \n",
       "max    90.0  600.000000   0.885496  592.000000  324.000000   0.920635   \n",
       "\n",
       "          recall      score           tn          tp  user  \n",
       "count  49.000000  49.000000    49.000000   49.000000  49.0  \n",
       "mean    0.472852   0.847633   889.693878  122.387755  -1.0  \n",
       "std     0.223015   0.075267   778.675938  169.269486   0.0  \n",
       "min     0.028846   0.740407   162.000000    3.000000  -1.0  \n",
       "25%     0.366834   0.781105   353.000000   24.000000  -1.0  \n",
       "50%     0.495833   0.845946   621.000000   71.000000  -1.0  \n",
       "75%     0.615385   0.889294  1065.000000  145.000000  -1.0  \n",
       "max     0.852941   0.993506  3309.000000  989.000000  -1.0  "
      ]
     },
     "execution_count": 5,
     "metadata": {},
     "output_type": "execute_result"
    }
   ],
   "source": [
    "dfi = pd.DataFrame(fullresult)\n",
    "dfi.loc[dfi['classifier']=='rf'].describe()"
   ]
  },
  {
   "cell_type": "code",
   "execution_count": null,
   "metadata": {},
   "outputs": [],
   "source": [
    "dfi.to_excel('./resultsprelim.xlsx')\n",
    "dfi"
   ]
  },
  {
   "cell_type": "markdown",
   "metadata": {},
   "source": [
    "## Intrauser classification"
   ]
  },
  {
   "cell_type": "code",
   "execution_count": null,
   "metadata": {
    "scrolled": true
   },
   "outputs": [],
   "source": [
    "usersresult = []\n",
    "\n",
    "for user in range(2):\n",
    "    usersresult.extend(classif.full_binary_classification(classifiers, durations, crops, features, onehotlabels, user=user, path=path))\n",
    "    "
   ]
  },
  {
   "cell_type": "code",
   "execution_count": null,
   "metadata": {
    "scrolled": false
   },
   "outputs": [],
   "source": [
    "dfu = pd.DataFrame(usersresult)\n",
    "dfu.describe()"
   ]
  },
  {
   "cell_type": "code",
   "execution_count": null,
   "metadata": {},
   "outputs": [],
   "source": [
    "dfull = pd.concat([dfi, dfu])"
   ]
  },
  {
   "cell_type": "code",
   "execution_count": null,
   "metadata": {},
   "outputs": [],
   "source": [
    "dfull.to_excel(path + '\\\\results_encoded.xlsx')"
   ]
  },
  {
   "cell_type": "markdown",
   "metadata": {},
   "source": [
    "## Examining classification"
   ]
  },
  {
   "cell_type": "code",
   "execution_count": null,
   "metadata": {},
   "outputs": [],
   "source": [
    "df = pd.read_excel(path + '\\\\results.xlsx')"
   ]
  },
  {
   "cell_type": "markdown",
   "metadata": {},
   "source": [
    "### Examining one of the options (duration = 240, crop = 90, classifier = random forest)"
   ]
  },
  {
   "cell_type": "code",
   "execution_count": null,
   "metadata": {},
   "outputs": [],
   "source": [
    "dview = dfi.loc[(dfi['classifier'] == 'rf') & (dfi['crop'] == 90) &(dfi['duration']==240)]\n",
    "dview"
   ]
  },
  {
   "cell_type": "code",
   "execution_count": null,
   "metadata": {
    "scrolled": true
   },
   "outputs": [],
   "source": [
    "metrics = ['precision', 'recall', 'f1']\n",
    "\n",
    "trace = go.Heatmap(z=np.array(dview[metrics]),\n",
    "                   x=metrics,\n",
    "                   y=dview['label'],\n",
    "                   colorscale='Viridis',)\n",
    "data=[trace]\n",
    "pl.iplot(data, filename='labelled-heatmap')"
   ]
  },
  {
   "cell_type": "code",
   "execution_count": null,
   "metadata": {
    "scrolled": true
   },
   "outputs": [],
   "source": [
    "metrics = ['tp', 'fp', 'fn'] \n",
    "\n",
    "trace = go.Heatmap(z=np.array(dview[metrics]),\n",
    "                   x=metrics,\n",
    "                   y=dview['label'],\n",
    "                   colorscale='Viridis',)\n",
    "data=[trace]\n",
    "pl.iplot(data, filename='labelled-heatmap')"
   ]
  },
  {
   "cell_type": "markdown",
   "metadata": {},
   "source": [
    "### Model selection - for various durations, crops and classifiers, which is the best?"
   ]
  },
  {
   "cell_type": "code",
   "execution_count": null,
   "metadata": {},
   "outputs": [],
   "source": [
    "dfn = df.loc[(df['classifier'] == 'rf') & df['label'].isin(['exercise', 'move', 'sleep', 'stress2'])]\n",
    "dfn"
   ]
  },
  {
   "cell_type": "code",
   "execution_count": null,
   "metadata": {},
   "outputs": [],
   "source": [
    "dfi = dfi.loc[(dfi['classifier'] == 'rf') & dfi['label'].isin(['exercise', 'move', 'sleep', 'stress2', 'relax2'])]\n",
    "dv.bargroup(dfi, 'crop', 'duration', 'label', 'f1')"
   ]
  },
  {
   "cell_type": "code",
   "execution_count": null,
   "metadata": {
    "scrolled": false
   },
   "outputs": [],
   "source": [
    "dv.bargroup(dfull[dfull['user']==0], 'label', 'duration', 'classifier', 'f1')"
   ]
  },
  {
   "cell_type": "markdown",
   "metadata": {},
   "source": [
    "### Examining per user results"
   ]
  },
  {
   "cell_type": "code",
   "execution_count": null,
   "metadata": {
    "scrolled": false
   },
   "outputs": [],
   "source": [
    "dview = dfull.loc[(dfull['classifier'] == 'rf') & (dfull['crop'] == 90) &(dfull['duration']==240) & ( dfull['user'] == 0)]\n",
    "dview"
   ]
  },
  {
   "cell_type": "code",
   "execution_count": null,
   "metadata": {},
   "outputs": [],
   "source": [
    "dfull[dfull['duration']==600]"
   ]
  },
  {
   "cell_type": "code",
   "execution_count": null,
   "metadata": {},
   "outputs": [],
   "source": []
  },
  {
   "cell_type": "code",
   "execution_count": null,
   "metadata": {},
   "outputs": [],
   "source": []
  }
 ],
 "metadata": {
  "kernelspec": {
   "display_name": "Python 3",
   "language": "python",
   "name": "python3"
  },
  "language_info": {
   "codemirror_mode": {
    "name": "ipython",
    "version": 3
   },
   "file_extension": ".py",
   "mimetype": "text/x-python",
   "name": "python",
   "nbconvert_exporter": "python",
   "pygments_lexer": "ipython3",
   "version": "3.6.3"
  }
 },
 "nbformat": 4,
 "nbformat_minor": 2
}
