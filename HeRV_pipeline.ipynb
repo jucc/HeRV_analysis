{
 "cells": [
  {
   "cell_type": "code",
   "execution_count": 1,
   "metadata": {},
   "outputs": [],
   "source": [
    "%load_ext autoreload\n",
    "%autoreload 2\n",
    "%matplotlib inline  \n",
    "\n",
    "import pandas as pd\n",
    "import numpy as np\n",
    "import matplotlib.pyplot as plt\n",
    "import re\n",
    "\n",
    "import parseIntervalFiles as pif\n",
    "import parseActivityFiles as paf\n",
    "#pun intended :)\n",
    "import consolidateFiles as cf\n",
    "\n",
    "from datetime import datetime, timedelta"
   ]
  },
  {
   "cell_type": "markdown",
   "metadata": {},
   "source": [
    "## 0 - Pipeline configuration \n",
    "* set the input/output directories, user id and verbose level"
   ]
  },
  {
   "cell_type": "code",
   "execution_count": 2,
   "metadata": {
    "collapsed": true
   },
   "outputs": [],
   "source": [
    "    verbose = True    \n",
    "    user = 0\n",
    "    \n",
    "    RAW_DATA_PATH = \"/home/ju/GDrive/Projects/HeRV/Data/Raw/%d\"%user\n",
    "    PRE_DATA_PATH = \"/home/ju/GDrive/Projects/HeRV/Data/PreProcessed/%d\"%user\n",
    "    \n",
    "    # duration (in seconds) to be cropped from the beginning of each second to account for stabilization and user adjustment\n",
    "    crop = 90\n",
    "    \n",
    "    # duration (in seconds) of each fragment to be sent to analysis\n",
    "    duration = 300\n",
    "    \n",
    "    # if any fragment has more than 'threshold' consecutive seconds with no beats, it will be discarded\n",
    "    threshold = 3"
   ]
  },
  {
   "cell_type": "markdown",
   "metadata": {},
   "source": [
    "## 1 - Extract sessions from raw data (intervals + annotations files)\n",
    "\n",
    "### 1.1 - List activities with session start/stop datetime\n",
    "Parses activities files and prints all errors found (activities without start or stop, invalid dates, etc)"
   ]
  },
  {
   "cell_type": "code",
   "execution_count": 3,
   "metadata": {},
   "outputs": [
    {
     "name": "stdout",
     "output_type": "stream",
     "text": [
      "reading /home/ju/GDrive/Projects/HeRV/Data/Raw/0/act171014.csv ... \n",
      "orphan stop in: ['2017-10-14 2:14:21', 'stop', '', '', '']\n",
      "orphan start in: ['2017-10-14 11:58:31', 'start', 'focused-active', 'lying down', '']\n",
      "reading /home/ju/GDrive/Projects/HeRV/Data/Raw/0/act171102.csv ... \n",
      "reading /home/ju/GDrive/Projects/HeRV/Data/Raw/0/act171016.csv ... \n",
      "reading /home/ju/GDrive/Projects/HeRV/Data/Raw/0/act171006.csv ... \n",
      "reading /home/ju/GDrive/Projects/HeRV/Data/Raw/0/act171104.csv ... \n",
      "reading /home/ju/GDrive/Projects/HeRV/Data/Raw/0/act171029.csv ... \n",
      "orphan stop in: ['2017-10-29 15:27:59', 'stop', '', '']\n",
      "reading /home/ju/GDrive/Projects/HeRV/Data/Raw/0/act171028.csv ... \n",
      "orphan start in: ['2017-10-28 11:48:07', 'start', 'sleep', 'posture']\n",
      "reading /home/ju/GDrive/Projects/HeRV/Data/Raw/0/act171013.csv ... \n",
      "reading /home/ju/GDrive/Projects/HeRV/Data/Raw/0/act171003.csv ... \n",
      "orphan start in: ['2017-10-03 22:56:19', 'start', 'eat', 'sitting']\n",
      "reading /home/ju/GDrive/Projects/HeRV/Data/Raw/0/act171017.csv ... \n",
      "reading /home/ju/GDrive/Projects/HeRV/Data/Raw/0/act171015.csv ... \n",
      "orphan stop in: ['2017-10-15 1:41:24', 'stop', '', '', '']\n",
      "reading /home/ju/GDrive/Projects/HeRV/Data/Raw/0/act171109.csv ... \n",
      "reading /home/ju/GDrive/Projects/HeRV/Data/Raw/0/act171107.csv ... \n",
      "reading /home/ju/GDrive/Projects/HeRV/Data/Raw/0/act171101.csv ... \n",
      "reading /home/ju/GDrive/Projects/HeRV/Data/Raw/0/act171011.csv ... \n",
      "orphan stop in: ['2017-10-11 0:04:41', 'stop', '', '', '']\n",
      "orphan start in: ['2017-10-11 12:30:10', 'start', 'moving', 'standing', '']\n",
      "orphan start in: ['2017-10-11 17:51:14', 'start', 'household-chores', 'standing']\n",
      "reading /home/ju/GDrive/Projects/HeRV/Data/Raw/0/act171103.csv ... \n",
      "reading /home/ju/GDrive/Projects/HeRV/Data/Raw/0/act171012.csv ... \n",
      "orphan start in: ['2017-10-12 12:17:07', 'start', 'household-chores', 'standing']\n",
      "orphan stop in: ['2017-10-12 14:09:16', 'stop', '', '']\n",
      "reading /home/ju/GDrive/Projects/HeRV/Data/Raw/0/act170930.csv ... \n",
      "reading /home/ju/GDrive/Projects/HeRV/Data/Raw/0/act171001.csv ... \n",
      "reading /home/ju/GDrive/Projects/HeRV/Data/Raw/0/act171106.csv ... \n",
      "orphan stop in: ['2017-11-06 10:20:29', 'stop', '', '']\n",
      "reading /home/ju/GDrive/Projects/HeRV/Data/Raw/0/act171108.csv ... \n",
      "orphan stop in: ['2017-11-08 9:30', 'stop', '', '', '']\n",
      "orphan stop in: ['2017-11-08 9:42', 'stop', '', '', '']\n",
      "orphan stop in: ['2017-11-08 15:46', 'stop', '', '', '']\n",
      "orphan stop in: ['2017-11-08 19:37', 'stop', '', '', '']\n",
      "orphan stop in: ['2017-11-08 21:27', 'stop', '', '', '']\n",
      "reading /home/ju/GDrive/Projects/HeRV/Data/Raw/0/act171105.csv ... \n",
      "orphan stop in: ['2017-11-05 6:40:42', 'stop', '', '']\n",
      "reading /home/ju/GDrive/Projects/HeRV/Data/Raw/0/act171010.csv ... \n",
      "orphan start in: ['2017-10-10 23:23:37', 'start', 'leisure-passive', 'sitting']\n",
      "reading /home/ju/GDrive/Projects/HeRV/Data/Raw/0/act171004.csv ... \n",
      "orphan start in: ['2017-10-04 13:31:16', 'start', 'movement', 'standing']\n",
      "orphan start in: ['2017-10-04 14:59:24', 'start', 'rest-passive', 'sitting']\n",
      "orphan start in: ['2017-10-04 15:14:23', 'start', 'movement', 'standing']\n",
      "orphan start in: ['2017-10-04 17:05:36', 'start', 'rest-passive', 'sitting']\n",
      "orphan start in: ['2017-10-04 23:30:33', 'start', 'sleep', 'lying down']\n",
      "reading /home/ju/GDrive/Projects/HeRV/Data/Raw/0/act171005.csv ... \n",
      "orphan start in: ['2017-10-05 11:08:11', 'start', 'focused-passive', 'sitting', '']\n",
      "orphan start in: ['2017-10-05 12:54:00', 'start', 'eat', 'sitting', '']\n",
      "orphan start in: ['2017-10-05 13:48:39', 'start', 'rest-active', 'sitting', '']\n",
      "orphan start in: ['2017-10-05 13:57:37', 'start', 'movement', 'standing', '']\n",
      "orphan start in: ['2017-10-05 17:55:44', 'start', 'focused-active', 'sitting', '']\n",
      "orphan start in: ['2017-10-05 21:53:45', 'start', 'rest-active', 'sitting', '']\n",
      "orphan start in: ['2017-10-05 23:47:45', 'start', 'focused-active', 'sitting', 'sitting on bed, installing and using pandas']\n",
      "reading /home/ju/GDrive/Projects/HeRV/Data/Raw/0/act170929.csv ... \n",
      "orphan stop in: ['2017-09-29 00:19:00', 'stop', '', '', '', '', '']\n",
      "reading /home/ju/GDrive/Projects/HeRV/Data/Raw/0/act171031.csv ... \n",
      "157 sessions extracted and 32 errors found in 27 files\n"
     ]
    }
   ],
   "source": [
    "sessions = paf.parseActivityFiles(dirname=RAW_DATA_PATH)"
   ]
  },
  {
   "cell_type": "markdown",
   "metadata": {
    "collapsed": true
   },
   "source": [
    "## 2 - Generate fragments from sessions\n",
    "\n",
    "### 2.1 - breaks the sessions duration in fragments\n",
    "Configurations:\n",
    "* duration of each fragment in seconds;\n",
    "* number of seconds to be discarded at the beginning of the session, accounting for user's stabilization and adjustment to posture and activity \n",
    "\n",
    "### 2.2 - extracts the intervals for each fragment\n",
    "Retrieves from the heartbeat files all the intervals contained in each session's duration and adds them to the fragments objects (in memory)\n"
   ]
  },
  {
   "cell_type": "code",
   "execution_count": null,
   "metadata": {},
   "outputs": [
    {
     "name": "stdout",
     "output_type": "stream",
     "text": [
      "122 valid sessions out of 157 total (at least one full fragment of 300 seconds after discarding first 90 seconds)\n"
     ]
    }
   ],
   "source": [
    "frags = cf.fragment_sessions(sessions, duration, crop)\n",
    "cf.add_beats_to_fragments(frags, dirname=RAW_DATA_PATH)\n",
    "\n",
    "print (sessions[0])\n",
    "\n",
    "df = pd.DataFrame(frags)\n",
    "df.head(10)"
   ]
  },
  {
   "cell_type": "code",
   "execution_count": null,
   "metadata": {
    "collapsed": true
   },
   "outputs": [],
   "source": [
    "## 3 - Quality assurance\n",
    "\n",
    "## 4 - "
   ]
  }
 ],
 "metadata": {
  "kernelspec": {
   "display_name": "Python 3",
   "language": "python",
   "name": "python3"
  },
  "language_info": {
   "codemirror_mode": {
    "name": "ipython",
    "version": 3
   },
   "file_extension": ".py",
   "mimetype": "text/x-python",
   "name": "python",
   "nbconvert_exporter": "python",
   "pygments_lexer": "ipython3",
   "version": "3.6.3"
  }
 },
 "nbformat": 4,
 "nbformat_minor": 2
}
