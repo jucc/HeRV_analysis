{
 "cells": [
  {
   "cell_type": "code",
   "execution_count": 1,
   "metadata": {},
   "outputs": [
    {
     "data": {
      "text/html": [
       "<script>requirejs.config({paths: { 'plotly': ['https://cdn.plot.ly/plotly-latest.min']},});if(!window.Plotly) {{require(['plotly'],function(plotly) {window.Plotly=plotly;});}}</script>"
      ],
      "text/vnd.plotly.v1+html": [
       "<script>requirejs.config({paths: { 'plotly': ['https://cdn.plot.ly/plotly-latest.min']},});if(!window.Plotly) {{require(['plotly'],function(plotly) {window.Plotly=plotly;});}}</script>"
      ]
     },
     "metadata": {},
     "output_type": "display_data"
    }
   ],
   "source": [
    "%load_ext autoreload\n",
    "%autoreload 2\n",
    "%matplotlib inline  \n",
    "\n",
    "import pandas as pd\n",
    "import numpy as np\n",
    "\n",
    "from datetime import datetime, timedelta\n",
    "\n",
    "import plotly.offline as pl\n",
    "pl.init_notebook_mode(connected=True)\n",
    "import plotly.graph_objs as go\n",
    "\n",
    "from sklearn.ensemble import RandomForestClassifier\n",
    "\n",
    "\n",
    "import parseIntervalFiles as pif\n",
    "import consolidateFiles as cf\n",
    "import datacleaning as cl\n",
    "import dataviz as dv\n",
    "import fragmentation as fr\n",
    "import classif_multiclass as cmc\n",
    "import hervpd as hp"
   ]
  },
  {
   "cell_type": "markdown",
   "metadata": {},
   "source": [
    "## ! Parse activity files and parse interval files are to be replaced with the corresponding database queries as soon as they are available "
   ]
  },
  {
   "cell_type": "markdown",
   "metadata": {},
   "source": [
    "## 0 - Pipeline configuration \n",
    "* set the input/output directories, user id and verbose level"
   ]
  },
  {
   "cell_type": "code",
   "execution_count": 2,
   "metadata": {},
   "outputs": [],
   "source": [
    "verbose = True\n",
    "    \n",
    "DATA_PATH = \"C:\\\\Users\\\\ju\\\\GDrive\\\\Projects\\\\HeRV\\\\Data\\\\\" \n",
    "# DATA_PATH = \"/home/ju/GDrive/Projects/HeRV/Data/\"\n",
    "    \n",
    "RAW_PATH = DATA_PATH + \"Raw\"\n",
    "PRE_PATH = DATA_PATH + \"PreProcessed\"\n",
    "\n",
    "dt1 = datetime(2018, 6, 18)\n",
    "dt2 = datetime(2018, 6, 23)\n",
    "\n",
    "user = 1"
   ]
  },
  {
   "cell_type": "markdown",
   "metadata": {},
   "source": [
    "## Extracting sessions"
   ]
  },
  {
   "cell_type": "code",
   "execution_count": 3,
   "metadata": {},
   "outputs": [
    {
     "name": "stdout",
     "output_type": "stream",
     "text": [
      "reading act180621.csv ... \n",
      "11 sessions extracted and 0 errors found\n"
     ]
    }
   ],
   "source": [
    "sess = cf.get_user_sessions(user, dt1, dt2, RAW_PATH, verbose=True)"
   ]
  },
  {
   "cell_type": "code",
   "execution_count": 4,
   "metadata": {},
   "outputs": [],
   "source": [
    "sess = cf.sessions_add_beats(sess, RAW_PATH, verbose=False)"
   ]
  },
  {
   "cell_type": "code",
   "execution_count": 5,
   "metadata": {},
   "outputs": [],
   "source": [
    "dfs = pd.DataFrame(sess)"
   ]
  },
  {
   "cell_type": "code",
   "execution_count": 6,
   "metadata": {},
   "outputs": [],
   "source": [
    "dfs = dfs[dfs.activity.isin(['train-baseline', 'train-focus', 'train-breathe'])]"
   ]
  },
  {
   "cell_type": "markdown",
   "metadata": {},
   "source": [
    "### Include column with beats count for ease of use "
   ]
  },
  {
   "cell_type": "code",
   "execution_count": 7,
   "metadata": {},
   "outputs": [],
   "source": [
    "dfs['beatscount'] = dfs['rr'].apply(len)"
   ]
  },
  {
   "cell_type": "markdown",
   "metadata": {},
   "source": [
    "### Removing outliers"
   ]
  },
  {
   "cell_type": "code",
   "execution_count": 8,
   "metadata": {},
   "outputs": [],
   "source": [
    "dfs['rr'] = dfs['rr'].apply(cl.clean_rr_series)"
   ]
  },
  {
   "cell_type": "code",
   "execution_count": 9,
   "metadata": {},
   "outputs": [],
   "source": [
    "dfs['beatscount_clean'] = dfs['rr'].apply(len)"
   ]
  },
  {
   "cell_type": "code",
   "execution_count": 10,
   "metadata": {},
   "outputs": [],
   "source": [
    "dfs['removed_artifacts'] = dfs['beatscount'] - dfs['beatscount_clean']\n",
    "dfs['beatscount'] = dfs['beatscount_clean']\n",
    "dfs = dfs.drop(['beatscount_clean'], axis=1)"
   ]
  },
  {
   "cell_type": "code",
   "execution_count": 11,
   "metadata": {},
   "outputs": [
    {
     "data": {
      "text/html": [
       "<div>\n",
       "<style>\n",
       "    .dataframe thead tr:only-child th {\n",
       "        text-align: right;\n",
       "    }\n",
       "\n",
       "    .dataframe thead th {\n",
       "        text-align: left;\n",
       "    }\n",
       "\n",
       "    .dataframe tbody tr th {\n",
       "        vertical-align: top;\n",
       "    }\n",
       "</style>\n",
       "<table border=\"1\" class=\"dataframe\">\n",
       "  <thead>\n",
       "    <tr style=\"text-align: right;\">\n",
       "      <th></th>\n",
       "      <th>duration</th>\n",
       "      <th>user</th>\n",
       "      <th>beatscount</th>\n",
       "      <th>removed_artifacts</th>\n",
       "    </tr>\n",
       "  </thead>\n",
       "  <tbody>\n",
       "    <tr>\n",
       "      <th>count</th>\n",
       "      <td>10.000000</td>\n",
       "      <td>10.0</td>\n",
       "      <td>10.00000</td>\n",
       "      <td>10.0</td>\n",
       "    </tr>\n",
       "    <tr>\n",
       "      <th>mean</th>\n",
       "      <td>130.000000</td>\n",
       "      <td>1.0</td>\n",
       "      <td>177.80000</td>\n",
       "      <td>0.0</td>\n",
       "    </tr>\n",
       "    <tr>\n",
       "      <th>std</th>\n",
       "      <td>11.284207</td>\n",
       "      <td>0.0</td>\n",
       "      <td>18.18913</td>\n",
       "      <td>0.0</td>\n",
       "    </tr>\n",
       "    <tr>\n",
       "      <th>min</th>\n",
       "      <td>104.000000</td>\n",
       "      <td>1.0</td>\n",
       "      <td>146.00000</td>\n",
       "      <td>0.0</td>\n",
       "    </tr>\n",
       "    <tr>\n",
       "      <th>25%</th>\n",
       "      <td>127.250000</td>\n",
       "      <td>1.0</td>\n",
       "      <td>166.50000</td>\n",
       "      <td>0.0</td>\n",
       "    </tr>\n",
       "    <tr>\n",
       "      <th>50%</th>\n",
       "      <td>129.000000</td>\n",
       "      <td>1.0</td>\n",
       "      <td>179.50000</td>\n",
       "      <td>0.0</td>\n",
       "    </tr>\n",
       "    <tr>\n",
       "      <th>75%</th>\n",
       "      <td>134.500000</td>\n",
       "      <td>1.0</td>\n",
       "      <td>188.50000</td>\n",
       "      <td>0.0</td>\n",
       "    </tr>\n",
       "    <tr>\n",
       "      <th>max</th>\n",
       "      <td>147.000000</td>\n",
       "      <td>1.0</td>\n",
       "      <td>202.00000</td>\n",
       "      <td>0.0</td>\n",
       "    </tr>\n",
       "  </tbody>\n",
       "</table>\n",
       "</div>"
      ],
      "text/plain": [
       "         duration  user  beatscount  removed_artifacts\n",
       "count   10.000000  10.0    10.00000               10.0\n",
       "mean   130.000000   1.0   177.80000                0.0\n",
       "std     11.284207   0.0    18.18913                0.0\n",
       "min    104.000000   1.0   146.00000                0.0\n",
       "25%    127.250000   1.0   166.50000                0.0\n",
       "50%    129.000000   1.0   179.50000                0.0\n",
       "75%    134.500000   1.0   188.50000                0.0\n",
       "max    147.000000   1.0   202.00000                0.0"
      ]
     },
     "execution_count": 11,
     "metadata": {},
     "output_type": "execute_result"
    }
   ],
   "source": [
    "dfs.describe()"
   ]
  },
  {
   "cell_type": "markdown",
   "metadata": {},
   "source": [
    "### Removing sessions without beats recorded or with too few of them"
   ]
  },
  {
   "cell_type": "code",
   "execution_count": 12,
   "metadata": {},
   "outputs": [
    {
     "name": "stdout",
     "output_type": "stream",
     "text": [
      "0  sessions out of 10 removed for lack of interval data\n"
     ]
    }
   ],
   "source": [
    "l = len(dfs)\n",
    "dfs = dfs[dfs['beatscount'] > 100]\n",
    "print(l - len(dfs), ' sessions out of', l, 'removed for lack of interval data')"
   ]
  },
  {
   "cell_type": "code",
   "execution_count": 13,
   "metadata": {},
   "outputs": [
    {
     "data": {
      "text/plain": [
       "activity\n",
       "train-baseline    2\n",
       "train-breathe     4\n",
       "train-focus       4\n",
       "Name: duration, dtype: int64"
      ]
     },
     "execution_count": 13,
     "metadata": {},
     "output_type": "execute_result"
    }
   ],
   "source": [
    "dfs.groupby('activity').count()['duration']"
   ]
  },
  {
   "cell_type": "markdown",
   "metadata": {},
   "source": [
    "## 3 - Aggregating data"
   ]
  },
  {
   "cell_type": "code",
   "execution_count": 14,
   "metadata": {},
   "outputs": [
    {
     "name": "stdout",
     "output_type": "stream",
     "text": [
      "21.0457834257\n"
     ]
    }
   ],
   "source": [
    "dic = dfs.to_dict(orient='records')\n",
    "for i in dic:\n",
    "    i.update(cf.features_from_dic(i['rr']))\n",
    "print(dic[0]['rmssd'])\n",
    "dfs = pd.DataFrame(dic)"
   ]
  },
  {
   "cell_type": "code",
   "execution_count": 15,
   "metadata": {},
   "outputs": [
    {
     "data": {
      "text/html": [
       "<div>\n",
       "<style>\n",
       "    .dataframe thead tr:only-child th {\n",
       "        text-align: right;\n",
       "    }\n",
       "\n",
       "    .dataframe thead th {\n",
       "        text-align: left;\n",
       "    }\n",
       "\n",
       "    .dataframe tbody tr th {\n",
       "        vertical-align: top;\n",
       "    }\n",
       "</style>\n",
       "<table border=\"1\" class=\"dataframe\">\n",
       "  <thead>\n",
       "    <tr style=\"text-align: right;\">\n",
       "      <th></th>\n",
       "      <th>activity</th>\n",
       "      <th>beatscount</th>\n",
       "      <th>duration</th>\n",
       "      <th>hf</th>\n",
       "      <th>hfnu</th>\n",
       "      <th>lf</th>\n",
       "      <th>lf_hf</th>\n",
       "      <th>lfnu</th>\n",
       "      <th>mhr</th>\n",
       "      <th>mrri</th>\n",
       "      <th>...</th>\n",
       "      <th>posture</th>\n",
       "      <th>removed_artifacts</th>\n",
       "      <th>rmssd</th>\n",
       "      <th>sdnn</th>\n",
       "      <th>start</th>\n",
       "      <th>stop</th>\n",
       "      <th>total_power</th>\n",
       "      <th>user</th>\n",
       "      <th>vlf</th>\n",
       "      <th>sess_id</th>\n",
       "    </tr>\n",
       "  </thead>\n",
       "  <tbody>\n",
       "    <tr>\n",
       "      <th>7</th>\n",
       "      <td>train-breathe</td>\n",
       "      <td>165</td>\n",
       "      <td>128</td>\n",
       "      <td>795.670151</td>\n",
       "      <td>8.868473</td>\n",
       "      <td>8176.225219</td>\n",
       "      <td>10.275898</td>\n",
       "      <td>91.131527</td>\n",
       "      <td>76.540396</td>\n",
       "      <td>794.587879</td>\n",
       "      <td>...</td>\n",
       "      <td>sit</td>\n",
       "      <td>0</td>\n",
       "      <td>47.335402</td>\n",
       "      <td>93.631998</td>\n",
       "      <td>2018-06-21 22:28:19</td>\n",
       "      <td>2018-06-21 22:30:27</td>\n",
       "      <td>9042.885023</td>\n",
       "      <td>1</td>\n",
       "      <td>70.989653</td>\n",
       "      <td>7</td>\n",
       "    </tr>\n",
       "    <tr>\n",
       "      <th>0</th>\n",
       "      <td>train-baseline</td>\n",
       "      <td>201</td>\n",
       "      <td>147</td>\n",
       "      <td>145.015180</td>\n",
       "      <td>6.776602</td>\n",
       "      <td>1994.924190</td>\n",
       "      <td>13.756658</td>\n",
       "      <td>93.223398</td>\n",
       "      <td>80.603377</td>\n",
       "      <td>748.975124</td>\n",
       "      <td>...</td>\n",
       "      <td>sit</td>\n",
       "      <td>0</td>\n",
       "      <td>21.045783</td>\n",
       "      <td>59.268241</td>\n",
       "      <td>2018-06-21 17:01:07</td>\n",
       "      <td>2018-06-21 17:03:34</td>\n",
       "      <td>3158.860601</td>\n",
       "      <td>1</td>\n",
       "      <td>1018.921230</td>\n",
       "      <td>0</td>\n",
       "    </tr>\n",
       "  </tbody>\n",
       "</table>\n",
       "<p>2 rows × 23 columns</p>\n",
       "</div>"
      ],
      "text/plain": [
       "         activity  beatscount  duration          hf      hfnu           lf  \\\n",
       "7   train-breathe         165       128  795.670151  8.868473  8176.225219   \n",
       "0  train-baseline         201       147  145.015180  6.776602  1994.924190   \n",
       "\n",
       "       lf_hf       lfnu        mhr        mrri   ...     posture  \\\n",
       "7  10.275898  91.131527  76.540396  794.587879   ...         sit   \n",
       "0  13.756658  93.223398  80.603377  748.975124   ...         sit   \n",
       "\n",
       "   removed_artifacts      rmssd       sdnn               start  \\\n",
       "7                  0  47.335402  93.631998 2018-06-21 22:28:19   \n",
       "0                  0  21.045783  59.268241 2018-06-21 17:01:07   \n",
       "\n",
       "                 stop  total_power user          vlf  sess_id  \n",
       "7 2018-06-21 22:30:27  9042.885023    1    70.989653        7  \n",
       "0 2018-06-21 17:03:34  3158.860601    1  1018.921230        0  \n",
       "\n",
       "[2 rows x 23 columns]"
      ]
     },
     "execution_count": 15,
     "metadata": {},
     "output_type": "execute_result"
    }
   ],
   "source": [
    "dfs['sess_id'] = dfs.index\n",
    "dfs = dfs.drop(['rr'], axis = 1)\n",
    "dfs.sample(2)"
   ]
  },
  {
   "cell_type": "code",
   "execution_count": 16,
   "metadata": {},
   "outputs": [
    {
     "data": {
      "text/html": [
       "<div>\n",
       "<style>\n",
       "    .dataframe thead tr:only-child th {\n",
       "        text-align: right;\n",
       "    }\n",
       "\n",
       "    .dataframe thead th {\n",
       "        text-align: left;\n",
       "    }\n",
       "\n",
       "    .dataframe tbody tr th {\n",
       "        vertical-align: top;\n",
       "    }\n",
       "</style>\n",
       "<table border=\"1\" class=\"dataframe\">\n",
       "  <thead>\n",
       "    <tr style=\"text-align: right;\">\n",
       "      <th></th>\n",
       "      <th>beatscount</th>\n",
       "      <th>duration</th>\n",
       "      <th>hf</th>\n",
       "      <th>hfnu</th>\n",
       "      <th>lf</th>\n",
       "      <th>lf_hf</th>\n",
       "      <th>lfnu</th>\n",
       "      <th>mhr</th>\n",
       "      <th>mrri</th>\n",
       "      <th>nn50</th>\n",
       "      <th>notes</th>\n",
       "      <th>pnn50</th>\n",
       "      <th>removed_artifacts</th>\n",
       "      <th>rmssd</th>\n",
       "      <th>sdnn</th>\n",
       "      <th>total_power</th>\n",
       "      <th>user</th>\n",
       "      <th>vlf</th>\n",
       "      <th>sess_id</th>\n",
       "    </tr>\n",
       "  </thead>\n",
       "  <tbody>\n",
       "    <tr>\n",
       "      <th>count</th>\n",
       "      <td>10.00000</td>\n",
       "      <td>10.000000</td>\n",
       "      <td>10.000000</td>\n",
       "      <td>10.000000</td>\n",
       "      <td>10.000000</td>\n",
       "      <td>10.000000</td>\n",
       "      <td>10.000000</td>\n",
       "      <td>10.000000</td>\n",
       "      <td>10.000000</td>\n",
       "      <td>10.000000</td>\n",
       "      <td>0.0</td>\n",
       "      <td>10.000000</td>\n",
       "      <td>10.0</td>\n",
       "      <td>10.000000</td>\n",
       "      <td>10.000000</td>\n",
       "      <td>10.000000</td>\n",
       "      <td>10.0</td>\n",
       "      <td>10.000000</td>\n",
       "      <td>10.00000</td>\n",
       "    </tr>\n",
       "    <tr>\n",
       "      <th>mean</th>\n",
       "      <td>177.80000</td>\n",
       "      <td>130.000000</td>\n",
       "      <td>310.461362</td>\n",
       "      <td>12.024548</td>\n",
       "      <td>3316.440120</td>\n",
       "      <td>9.633720</td>\n",
       "      <td>87.975452</td>\n",
       "      <td>81.157411</td>\n",
       "      <td>747.346863</td>\n",
       "      <td>14.500000</td>\n",
       "      <td>NaN</td>\n",
       "      <td>8.652746</td>\n",
       "      <td>0.0</td>\n",
       "      <td>29.150462</td>\n",
       "      <td>62.165445</td>\n",
       "      <td>3982.424760</td>\n",
       "      <td>1.0</td>\n",
       "      <td>355.523278</td>\n",
       "      <td>4.50000</td>\n",
       "    </tr>\n",
       "    <tr>\n",
       "      <th>std</th>\n",
       "      <td>18.18913</td>\n",
       "      <td>11.284207</td>\n",
       "      <td>347.150903</td>\n",
       "      <td>7.034007</td>\n",
       "      <td>3682.377861</td>\n",
       "      <td>4.833126</td>\n",
       "      <td>7.034007</td>\n",
       "      <td>4.605022</td>\n",
       "      <td>46.987885</td>\n",
       "      <td>16.338435</td>\n",
       "      <td>NaN</td>\n",
       "      <td>9.968072</td>\n",
       "      <td>0.0</td>\n",
       "      <td>17.615224</td>\n",
       "      <td>30.412808</td>\n",
       "      <td>3937.569688</td>\n",
       "      <td>0.0</td>\n",
       "      <td>300.113723</td>\n",
       "      <td>3.02765</td>\n",
       "    </tr>\n",
       "    <tr>\n",
       "      <th>min</th>\n",
       "      <td>146.00000</td>\n",
       "      <td>104.000000</td>\n",
       "      <td>36.467514</td>\n",
       "      <td>5.716321</td>\n",
       "      <td>130.060979</td>\n",
       "      <td>2.784573</td>\n",
       "      <td>73.576940</td>\n",
       "      <td>74.280077</td>\n",
       "      <td>686.883598</td>\n",
       "      <td>0.000000</td>\n",
       "      <td>NaN</td>\n",
       "      <td>0.000000</td>\n",
       "      <td>0.0</td>\n",
       "      <td>12.977209</td>\n",
       "      <td>24.809968</td>\n",
       "      <td>354.178357</td>\n",
       "      <td>1.0</td>\n",
       "      <td>70.989653</td>\n",
       "      <td>0.00000</td>\n",
       "    </tr>\n",
       "    <tr>\n",
       "      <th>25%</th>\n",
       "      <td>166.50000</td>\n",
       "      <td>127.250000</td>\n",
       "      <td>47.949711</td>\n",
       "      <td>7.200230</td>\n",
       "      <td>302.024523</td>\n",
       "      <td>6.397409</td>\n",
       "      <td>86.481419</td>\n",
       "      <td>77.045080</td>\n",
       "      <td>708.318049</td>\n",
       "      <td>2.000000</td>\n",
       "      <td>NaN</td>\n",
       "      <td>1.072598</td>\n",
       "      <td>0.0</td>\n",
       "      <td>15.249627</td>\n",
       "      <td>36.735998</td>\n",
       "      <td>727.622338</td>\n",
       "      <td>1.0</td>\n",
       "      <td>109.884889</td>\n",
       "      <td>2.25000</td>\n",
       "    </tr>\n",
       "    <tr>\n",
       "      <th>50%</th>\n",
       "      <td>179.50000</td>\n",
       "      <td>129.000000</td>\n",
       "      <td>119.132197</td>\n",
       "      <td>9.029392</td>\n",
       "      <td>1423.626166</td>\n",
       "      <td>10.078461</td>\n",
       "      <td>90.970608</td>\n",
       "      <td>81.958307</td>\n",
       "      <td>735.401946</td>\n",
       "      <td>4.500000</td>\n",
       "      <td>NaN</td>\n",
       "      <td>2.344086</td>\n",
       "      <td>0.0</td>\n",
       "      <td>19.339475</td>\n",
       "      <td>52.802440</td>\n",
       "      <td>2175.156658</td>\n",
       "      <td>1.0</td>\n",
       "      <td>276.111000</td>\n",
       "      <td>4.50000</td>\n",
       "    </tr>\n",
       "    <tr>\n",
       "      <th>75%</th>\n",
       "      <td>188.50000</td>\n",
       "      <td>134.500000</td>\n",
       "      <td>649.252629</td>\n",
       "      <td>13.518581</td>\n",
       "      <td>6839.998216</td>\n",
       "      <td>13.018699</td>\n",
       "      <td>92.799770</td>\n",
       "      <td>84.972709</td>\n",
       "      <td>789.977841</td>\n",
       "      <td>29.000000</td>\n",
       "      <td>NaN</td>\n",
       "      <td>17.559182</td>\n",
       "      <td>0.0</td>\n",
       "      <td>44.246508</td>\n",
       "      <td>91.544346</td>\n",
       "      <td>7832.967060</td>\n",
       "      <td>1.0</td>\n",
       "      <td>510.719363</td>\n",
       "      <td>6.75000</td>\n",
       "    </tr>\n",
       "    <tr>\n",
       "      <th>max</th>\n",
       "      <td>202.00000</td>\n",
       "      <td>147.000000</td>\n",
       "      <td>838.172523</td>\n",
       "      <td>26.423060</td>\n",
       "      <td>9056.304573</td>\n",
       "      <td>16.493768</td>\n",
       "      <td>94.283679</td>\n",
       "      <td>87.607577</td>\n",
       "      <td>820.879747</td>\n",
       "      <td>39.000000</td>\n",
       "      <td>NaN</td>\n",
       "      <td>24.840764</td>\n",
       "      <td>0.0</td>\n",
       "      <td>56.267163</td>\n",
       "      <td>104.337300</td>\n",
       "      <td>9991.695123</td>\n",
       "      <td>1.0</td>\n",
       "      <td>1018.921230</td>\n",
       "      <td>9.00000</td>\n",
       "    </tr>\n",
       "  </tbody>\n",
       "</table>\n",
       "</div>"
      ],
      "text/plain": [
       "       beatscount    duration          hf       hfnu           lf      lf_hf  \\\n",
       "count    10.00000   10.000000   10.000000  10.000000    10.000000  10.000000   \n",
       "mean    177.80000  130.000000  310.461362  12.024548  3316.440120   9.633720   \n",
       "std      18.18913   11.284207  347.150903   7.034007  3682.377861   4.833126   \n",
       "min     146.00000  104.000000   36.467514   5.716321   130.060979   2.784573   \n",
       "25%     166.50000  127.250000   47.949711   7.200230   302.024523   6.397409   \n",
       "50%     179.50000  129.000000  119.132197   9.029392  1423.626166  10.078461   \n",
       "75%     188.50000  134.500000  649.252629  13.518581  6839.998216  13.018699   \n",
       "max     202.00000  147.000000  838.172523  26.423060  9056.304573  16.493768   \n",
       "\n",
       "            lfnu        mhr        mrri       nn50  notes      pnn50  \\\n",
       "count  10.000000  10.000000   10.000000  10.000000    0.0  10.000000   \n",
       "mean   87.975452  81.157411  747.346863  14.500000    NaN   8.652746   \n",
       "std     7.034007   4.605022   46.987885  16.338435    NaN   9.968072   \n",
       "min    73.576940  74.280077  686.883598   0.000000    NaN   0.000000   \n",
       "25%    86.481419  77.045080  708.318049   2.000000    NaN   1.072598   \n",
       "50%    90.970608  81.958307  735.401946   4.500000    NaN   2.344086   \n",
       "75%    92.799770  84.972709  789.977841  29.000000    NaN  17.559182   \n",
       "max    94.283679  87.607577  820.879747  39.000000    NaN  24.840764   \n",
       "\n",
       "       removed_artifacts      rmssd        sdnn  total_power  user  \\\n",
       "count               10.0  10.000000   10.000000    10.000000  10.0   \n",
       "mean                 0.0  29.150462   62.165445  3982.424760   1.0   \n",
       "std                  0.0  17.615224   30.412808  3937.569688   0.0   \n",
       "min                  0.0  12.977209   24.809968   354.178357   1.0   \n",
       "25%                  0.0  15.249627   36.735998   727.622338   1.0   \n",
       "50%                  0.0  19.339475   52.802440  2175.156658   1.0   \n",
       "75%                  0.0  44.246508   91.544346  7832.967060   1.0   \n",
       "max                  0.0  56.267163  104.337300  9991.695123   1.0   \n",
       "\n",
       "               vlf   sess_id  \n",
       "count    10.000000  10.00000  \n",
       "mean    355.523278   4.50000  \n",
       "std     300.113723   3.02765  \n",
       "min      70.989653   0.00000  \n",
       "25%     109.884889   2.25000  \n",
       "50%     276.111000   4.50000  \n",
       "75%     510.719363   6.75000  \n",
       "max    1018.921230   9.00000  "
      ]
     },
     "execution_count": 16,
     "metadata": {},
     "output_type": "execute_result"
    }
   ],
   "source": [
    "dfs.describe()"
   ]
  },
  {
   "cell_type": "code",
   "execution_count": 17,
   "metadata": {
    "scrolled": false
   },
   "outputs": [
    {
     "data": {
      "text/html": [
       "<div>\n",
       "<style>\n",
       "    .dataframe thead tr:only-child th {\n",
       "        text-align: right;\n",
       "    }\n",
       "\n",
       "    .dataframe thead th {\n",
       "        text-align: left;\n",
       "    }\n",
       "\n",
       "    .dataframe tbody tr th {\n",
       "        vertical-align: top;\n",
       "    }\n",
       "</style>\n",
       "<table border=\"1\" class=\"dataframe\">\n",
       "  <thead>\n",
       "    <tr style=\"text-align: right;\">\n",
       "      <th></th>\n",
       "      <th>activity</th>\n",
       "      <th>beatscount</th>\n",
       "      <th>duration</th>\n",
       "      <th>hf</th>\n",
       "      <th>hfnu</th>\n",
       "      <th>lf</th>\n",
       "      <th>lf_hf</th>\n",
       "      <th>lfnu</th>\n",
       "      <th>mhr</th>\n",
       "      <th>mrri</th>\n",
       "      <th>...</th>\n",
       "      <th>posture</th>\n",
       "      <th>removed_artifacts</th>\n",
       "      <th>rmssd</th>\n",
       "      <th>sdnn</th>\n",
       "      <th>start</th>\n",
       "      <th>stop</th>\n",
       "      <th>total_power</th>\n",
       "      <th>user</th>\n",
       "      <th>vlf</th>\n",
       "      <th>sess_id</th>\n",
       "    </tr>\n",
       "  </thead>\n",
       "  <tbody>\n",
       "    <tr>\n",
       "      <th>1</th>\n",
       "      <td>train-focus</td>\n",
       "      <td>183</td>\n",
       "      <td>127</td>\n",
       "      <td>93.249214</td>\n",
       "      <td>21.938356</td>\n",
       "      <td>331.801837</td>\n",
       "      <td>3.558227</td>\n",
       "      <td>78.061644</td>\n",
       "      <td>85.371274</td>\n",
       "      <td>704.743169</td>\n",
       "      <td>...</td>\n",
       "      <td>sit</td>\n",
       "      <td>0</td>\n",
       "      <td>17.633167</td>\n",
       "      <td>36.473001</td>\n",
       "      <td>2018-06-21 17:04:23</td>\n",
       "      <td>2018-06-21 17:06:30</td>\n",
       "      <td>572.936528</td>\n",
       "      <td>1</td>\n",
       "      <td>147.885476</td>\n",
       "      <td>1</td>\n",
       "    </tr>\n",
       "    <tr>\n",
       "      <th>3</th>\n",
       "      <td>train-focus</td>\n",
       "      <td>189</td>\n",
       "      <td>128</td>\n",
       "      <td>51.675768</td>\n",
       "      <td>5.716321</td>\n",
       "      <td>852.328142</td>\n",
       "      <td>16.493768</td>\n",
       "      <td>94.283679</td>\n",
       "      <td>87.607577</td>\n",
       "      <td>686.883598</td>\n",
       "      <td>...</td>\n",
       "      <td>sit</td>\n",
       "      <td>0</td>\n",
       "      <td>14.553094</td>\n",
       "      <td>37.524987</td>\n",
       "      <td>2018-06-21 17:10:43</td>\n",
       "      <td>2018-06-21 17:12:51</td>\n",
       "      <td>1191.452715</td>\n",
       "      <td>1</td>\n",
       "      <td>287.448805</td>\n",
       "      <td>3</td>\n",
       "    </tr>\n",
       "    <tr>\n",
       "      <th>6</th>\n",
       "      <td>train-focus</td>\n",
       "      <td>202</td>\n",
       "      <td>141</td>\n",
       "      <td>36.467514</td>\n",
       "      <td>13.557302</td>\n",
       "      <td>232.520472</td>\n",
       "      <td>6.376099</td>\n",
       "      <td>86.442698</td>\n",
       "      <td>83.936218</td>\n",
       "      <td>715.673267</td>\n",
       "      <td>...</td>\n",
       "      <td>sit</td>\n",
       "      <td>0</td>\n",
       "      <td>12.977209</td>\n",
       "      <td>24.809968</td>\n",
       "      <td>2018-06-21 22:24:49</td>\n",
       "      <td>2018-06-21 22:27:10</td>\n",
       "      <td>354.178357</td>\n",
       "      <td>1</td>\n",
       "      <td>85.190370</td>\n",
       "      <td>6</td>\n",
       "    </tr>\n",
       "    <tr>\n",
       "      <th>8</th>\n",
       "      <td>train-focus</td>\n",
       "      <td>187</td>\n",
       "      <td>130</td>\n",
       "      <td>46.707692</td>\n",
       "      <td>26.423060</td>\n",
       "      <td>130.060979</td>\n",
       "      <td>2.784573</td>\n",
       "      <td>73.576940</td>\n",
       "      <td>85.318206</td>\n",
       "      <td>705.866310</td>\n",
       "      <td>...</td>\n",
       "      <td>sit</td>\n",
       "      <td>0</td>\n",
       "      <td>17.171025</td>\n",
       "      <td>46.336640</td>\n",
       "      <td>2018-06-21 22:32:17</td>\n",
       "      <td>2018-06-21 22:34:27</td>\n",
       "      <td>697.077024</td>\n",
       "      <td>1</td>\n",
       "      <td>520.308353</td>\n",
       "      <td>8</td>\n",
       "    </tr>\n",
       "  </tbody>\n",
       "</table>\n",
       "<p>4 rows × 23 columns</p>\n",
       "</div>"
      ],
      "text/plain": [
       "      activity  beatscount  duration         hf       hfnu          lf  \\\n",
       "1  train-focus         183       127  93.249214  21.938356  331.801837   \n",
       "3  train-focus         189       128  51.675768   5.716321  852.328142   \n",
       "6  train-focus         202       141  36.467514  13.557302  232.520472   \n",
       "8  train-focus         187       130  46.707692  26.423060  130.060979   \n",
       "\n",
       "       lf_hf       lfnu        mhr        mrri   ...     posture  \\\n",
       "1   3.558227  78.061644  85.371274  704.743169   ...         sit   \n",
       "3  16.493768  94.283679  87.607577  686.883598   ...         sit   \n",
       "6   6.376099  86.442698  83.936218  715.673267   ...         sit   \n",
       "8   2.784573  73.576940  85.318206  705.866310   ...         sit   \n",
       "\n",
       "   removed_artifacts      rmssd       sdnn               start  \\\n",
       "1                  0  17.633167  36.473001 2018-06-21 17:04:23   \n",
       "3                  0  14.553094  37.524987 2018-06-21 17:10:43   \n",
       "6                  0  12.977209  24.809968 2018-06-21 22:24:49   \n",
       "8                  0  17.171025  46.336640 2018-06-21 22:32:17   \n",
       "\n",
       "                 stop  total_power user         vlf  sess_id  \n",
       "1 2018-06-21 17:06:30   572.936528    1  147.885476        1  \n",
       "3 2018-06-21 17:12:51  1191.452715    1  287.448805        3  \n",
       "6 2018-06-21 22:27:10   354.178357    1   85.190370        6  \n",
       "8 2018-06-21 22:34:27   697.077024    1  520.308353        8  \n",
       "\n",
       "[4 rows x 23 columns]"
      ]
     },
     "execution_count": 17,
     "metadata": {},
     "output_type": "execute_result"
    }
   ],
   "source": [
    "dfs[dfs.activity == 'train-focus']"
   ]
  },
  {
   "cell_type": "code",
   "execution_count": 18,
   "metadata": {},
   "outputs": [],
   "source": [
    "dfs.to_excel(PRE_PATH + \"\\\\train_sessions.xlsx\")"
   ]
  },
  {
   "cell_type": "markdown",
   "metadata": {},
   "source": [
    "\n",
    "---\n",
    "\n",
    "\n",
    "# VISUALIZATION\n",
    "\n",
    "---\n",
    "\n"
   ]
  },
  {
   "cell_type": "code",
   "execution_count": 19,
   "metadata": {
    "scrolled": false
   },
   "outputs": [
    {
     "data": {
      "application/vnd.plotly.v1+json": {
       "data": [
        {
         "name": "train-baseline",
         "showlegend": false,
         "type": "box",
         "y": [
          80.60337700699858,
          83.31323774996211
         ]
        },
        {
         "name": "train-focus",
         "showlegend": false,
         "type": "box",
         "y": [
          85.37127386478745,
          87.60757664306064,
          83.93621782847185,
          85.31820633619049
         ]
        },
        {
         "name": "train-breathe",
         "showlegend": false,
         "type": "box",
         "y": [
          74.2800773964429,
          78.55913128236062,
          76.5403961097889,
          76.04461824493706
         ]
        }
       ],
       "layout": {
        "xaxis": {
         "title": "activity"
        },
        "yaxis": {
         "title": "mhr"
        }
       }
      },
      "text/html": [
       "<div id=\"1c59a0c4-7b33-40db-9a35-ebd23137e23d\" style=\"height: 525px; width: 100%;\" class=\"plotly-graph-div\"></div><script type=\"text/javascript\">require([\"plotly\"], function(Plotly) { window.PLOTLYENV=window.PLOTLYENV || {};window.PLOTLYENV.BASE_URL=\"https://plot.ly\";Plotly.newPlot(\"1c59a0c4-7b33-40db-9a35-ebd23137e23d\", [{\"type\": \"box\", \"y\": [80.60337700699858, 83.31323774996211], \"name\": \"train-baseline\", \"showlegend\": false}, {\"type\": \"box\", \"y\": [85.37127386478745, 87.60757664306064, 83.93621782847185, 85.31820633619049], \"name\": \"train-focus\", \"showlegend\": false}, {\"type\": \"box\", \"y\": [74.2800773964429, 78.55913128236062, 76.5403961097889, 76.04461824493706], \"name\": \"train-breathe\", \"showlegend\": false}], {\"yaxis\": {\"title\": \"mhr\"}, \"xaxis\": {\"title\": \"activity\"}}, {\"showLink\": true, \"linkText\": \"Export to plot.ly\"})});</script>"
      ],
      "text/vnd.plotly.v1+html": [
       "<div id=\"1c59a0c4-7b33-40db-9a35-ebd23137e23d\" style=\"height: 525px; width: 100%;\" class=\"plotly-graph-div\"></div><script type=\"text/javascript\">require([\"plotly\"], function(Plotly) { window.PLOTLYENV=window.PLOTLYENV || {};window.PLOTLYENV.BASE_URL=\"https://plot.ly\";Plotly.newPlot(\"1c59a0c4-7b33-40db-9a35-ebd23137e23d\", [{\"type\": \"box\", \"y\": [80.60337700699858, 83.31323774996211], \"name\": \"train-baseline\", \"showlegend\": false}, {\"type\": \"box\", \"y\": [85.37127386478745, 87.60757664306064, 83.93621782847185, 85.31820633619049], \"name\": \"train-focus\", \"showlegend\": false}, {\"type\": \"box\", \"y\": [74.2800773964429, 78.55913128236062, 76.5403961097889, 76.04461824493706], \"name\": \"train-breathe\", \"showlegend\": false}], {\"yaxis\": {\"title\": \"mhr\"}, \"xaxis\": {\"title\": \"activity\"}}, {\"showLink\": true, \"linkText\": \"Export to plot.ly\"})});</script>"
      ]
     },
     "metadata": {},
     "output_type": "display_data"
    },
    {
     "data": {
      "application/vnd.plotly.v1+json": {
       "data": [
        {
         "name": "train-baseline",
         "showlegend": false,
         "type": "box",
         "y": [
          748.9751243781094,
          721.8287671232877
         ]
        },
        {
         "name": "train-focus",
         "showlegend": false,
         "type": "box",
         "y": [
          704.7431693989071,
          686.8835978835979,
          715.6732673267327,
          705.8663101604278
         ]
        },
        {
         "name": "train-breathe",
         "showlegend": false,
         "type": "box",
         "y": [
          820.879746835443,
          776.1477272727273,
          794.5878787878788,
          797.8830409356725
         ]
        }
       ],
       "layout": {
        "xaxis": {
         "title": "activity"
        },
        "yaxis": {
         "title": "mrri"
        }
       }
      },
      "text/html": [
       "<div id=\"395092ad-02c5-4201-9bef-2da15e3de083\" style=\"height: 525px; width: 100%;\" class=\"plotly-graph-div\"></div><script type=\"text/javascript\">require([\"plotly\"], function(Plotly) { window.PLOTLYENV=window.PLOTLYENV || {};window.PLOTLYENV.BASE_URL=\"https://plot.ly\";Plotly.newPlot(\"395092ad-02c5-4201-9bef-2da15e3de083\", [{\"type\": \"box\", \"y\": [748.9751243781094, 721.8287671232877], \"name\": \"train-baseline\", \"showlegend\": false}, {\"type\": \"box\", \"y\": [704.7431693989071, 686.8835978835979, 715.6732673267327, 705.8663101604278], \"name\": \"train-focus\", \"showlegend\": false}, {\"type\": \"box\", \"y\": [820.879746835443, 776.1477272727273, 794.5878787878788, 797.8830409356725], \"name\": \"train-breathe\", \"showlegend\": false}], {\"yaxis\": {\"title\": \"mrri\"}, \"xaxis\": {\"title\": \"activity\"}}, {\"showLink\": true, \"linkText\": \"Export to plot.ly\"})});</script>"
      ],
      "text/vnd.plotly.v1+html": [
       "<div id=\"395092ad-02c5-4201-9bef-2da15e3de083\" style=\"height: 525px; width: 100%;\" class=\"plotly-graph-div\"></div><script type=\"text/javascript\">require([\"plotly\"], function(Plotly) { window.PLOTLYENV=window.PLOTLYENV || {};window.PLOTLYENV.BASE_URL=\"https://plot.ly\";Plotly.newPlot(\"395092ad-02c5-4201-9bef-2da15e3de083\", [{\"type\": \"box\", \"y\": [748.9751243781094, 721.8287671232877], \"name\": \"train-baseline\", \"showlegend\": false}, {\"type\": \"box\", \"y\": [704.7431693989071, 686.8835978835979, 715.6732673267327, 705.8663101604278], \"name\": \"train-focus\", \"showlegend\": false}, {\"type\": \"box\", \"y\": [820.879746835443, 776.1477272727273, 794.5878787878788, 797.8830409356725], \"name\": \"train-breathe\", \"showlegend\": false}], {\"yaxis\": {\"title\": \"mrri\"}, \"xaxis\": {\"title\": \"activity\"}}, {\"showLink\": true, \"linkText\": \"Export to plot.ly\"})});</script>"
      ]
     },
     "metadata": {},
     "output_type": "display_data"
    },
    {
     "data": {
      "application/vnd.plotly.v1+json": {
       "data": [
        {
         "name": "train-baseline",
         "showlegend": false,
         "type": "box",
         "y": [
          59.26824088927773,
          34.95482001966916
         ]
        },
        {
         "name": "train-focus",
         "showlegend": false,
         "type": "box",
         "y": [
          36.473001377185255,
          37.52498735973246,
          24.809967869575626,
          46.336639730057854
         ]
        },
        {
         "name": "train-breathe",
         "showlegend": false,
         "type": "box",
         "y": [
          104.33729952070391,
          99.0361019049088,
          93.63199811865886,
          85.28139100574512
         ]
        }
       ],
       "layout": {
        "xaxis": {
         "title": "activity"
        },
        "yaxis": {
         "title": "sdnn"
        }
       }
      },
      "text/html": [
       "<div id=\"52710fe0-9318-4fbf-b970-964b0a013fd3\" style=\"height: 525px; width: 100%;\" class=\"plotly-graph-div\"></div><script type=\"text/javascript\">require([\"plotly\"], function(Plotly) { window.PLOTLYENV=window.PLOTLYENV || {};window.PLOTLYENV.BASE_URL=\"https://plot.ly\";Plotly.newPlot(\"52710fe0-9318-4fbf-b970-964b0a013fd3\", [{\"type\": \"box\", \"y\": [59.26824088927773, 34.95482001966916], \"name\": \"train-baseline\", \"showlegend\": false}, {\"type\": \"box\", \"y\": [36.473001377185255, 37.52498735973246, 24.809967869575626, 46.336639730057854], \"name\": \"train-focus\", \"showlegend\": false}, {\"type\": \"box\", \"y\": [104.33729952070391, 99.0361019049088, 93.63199811865886, 85.28139100574512], \"name\": \"train-breathe\", \"showlegend\": false}], {\"yaxis\": {\"title\": \"sdnn\"}, \"xaxis\": {\"title\": \"activity\"}}, {\"showLink\": true, \"linkText\": \"Export to plot.ly\"})});</script>"
      ],
      "text/vnd.plotly.v1+html": [
       "<div id=\"52710fe0-9318-4fbf-b970-964b0a013fd3\" style=\"height: 525px; width: 100%;\" class=\"plotly-graph-div\"></div><script type=\"text/javascript\">require([\"plotly\"], function(Plotly) { window.PLOTLYENV=window.PLOTLYENV || {};window.PLOTLYENV.BASE_URL=\"https://plot.ly\";Plotly.newPlot(\"52710fe0-9318-4fbf-b970-964b0a013fd3\", [{\"type\": \"box\", \"y\": [59.26824088927773, 34.95482001966916], \"name\": \"train-baseline\", \"showlegend\": false}, {\"type\": \"box\", \"y\": [36.473001377185255, 37.52498735973246, 24.809967869575626, 46.336639730057854], \"name\": \"train-focus\", \"showlegend\": false}, {\"type\": \"box\", \"y\": [104.33729952070391, 99.0361019049088, 93.63199811865886, 85.28139100574512], \"name\": \"train-breathe\", \"showlegend\": false}], {\"yaxis\": {\"title\": \"sdnn\"}, \"xaxis\": {\"title\": \"activity\"}}, {\"showLink\": true, \"linkText\": \"Export to plot.ly\"})});</script>"
      ]
     },
     "metadata": {},
     "output_type": "display_data"
    },
    {
     "data": {
      "application/vnd.plotly.v1+json": {
       "data": [
        {
         "name": "train-baseline",
         "showlegend": false,
         "type": "box",
         "y": [
          2,
          0.6896551724137931
         ]
        },
        {
         "name": "train-focus",
         "showlegend": false,
         "type": "box",
         "y": [
          1.098901098901099,
          1.0638297872340425,
          0,
          2.6881720430107525
         ]
        },
        {
         "name": "train-breathe",
         "showlegend": false,
         "type": "box",
         "y": [
          24.840764331210192,
          21.714285714285715,
          18.902439024390244,
          13.529411764705882
         ]
        }
       ],
       "layout": {
        "xaxis": {
         "title": "activity"
        },
        "yaxis": {
         "title": "pnn50"
        }
       }
      },
      "text/html": [
       "<div id=\"f1f183db-ea56-4baa-aaea-33289cee796a\" style=\"height: 525px; width: 100%;\" class=\"plotly-graph-div\"></div><script type=\"text/javascript\">require([\"plotly\"], function(Plotly) { window.PLOTLYENV=window.PLOTLYENV || {};window.PLOTLYENV.BASE_URL=\"https://plot.ly\";Plotly.newPlot(\"f1f183db-ea56-4baa-aaea-33289cee796a\", [{\"type\": \"box\", \"y\": [2.0, 0.6896551724137931], \"name\": \"train-baseline\", \"showlegend\": false}, {\"type\": \"box\", \"y\": [1.098901098901099, 1.0638297872340425, 0.0, 2.6881720430107525], \"name\": \"train-focus\", \"showlegend\": false}, {\"type\": \"box\", \"y\": [24.840764331210192, 21.714285714285715, 18.902439024390244, 13.529411764705882], \"name\": \"train-breathe\", \"showlegend\": false}], {\"yaxis\": {\"title\": \"pnn50\"}, \"xaxis\": {\"title\": \"activity\"}}, {\"showLink\": true, \"linkText\": \"Export to plot.ly\"})});</script>"
      ],
      "text/vnd.plotly.v1+html": [
       "<div id=\"f1f183db-ea56-4baa-aaea-33289cee796a\" style=\"height: 525px; width: 100%;\" class=\"plotly-graph-div\"></div><script type=\"text/javascript\">require([\"plotly\"], function(Plotly) { window.PLOTLYENV=window.PLOTLYENV || {};window.PLOTLYENV.BASE_URL=\"https://plot.ly\";Plotly.newPlot(\"f1f183db-ea56-4baa-aaea-33289cee796a\", [{\"type\": \"box\", \"y\": [2.0, 0.6896551724137931], \"name\": \"train-baseline\", \"showlegend\": false}, {\"type\": \"box\", \"y\": [1.098901098901099, 1.0638297872340425, 0.0, 2.6881720430107525], \"name\": \"train-focus\", \"showlegend\": false}, {\"type\": \"box\", \"y\": [24.840764331210192, 21.714285714285715, 18.902439024390244, 13.529411764705882], \"name\": \"train-breathe\", \"showlegend\": false}], {\"yaxis\": {\"title\": \"pnn50\"}, \"xaxis\": {\"title\": \"activity\"}}, {\"showLink\": true, \"linkText\": \"Export to plot.ly\"})});</script>"
      ]
     },
     "metadata": {},
     "output_type": "display_data"
    },
    {
     "data": {
      "application/vnd.plotly.v1+json": {
       "data": [
        {
         "name": "train-baseline",
         "showlegend": false,
         "type": "box",
         "y": [
          21.045783425665103,
          14.609161037064947
         ]
        },
        {
         "name": "train-focus",
         "showlegend": false,
         "type": "box",
         "y": [
          17.63316680090594,
          14.553094282367903,
          12.977209260815862,
          17.171024606047986
         ]
        },
        {
         "name": "train-breathe",
         "showlegend": false,
         "type": "box",
         "y": [
          56.267162986712314,
          54.932790103647825,
          47.335401592280164,
          34.979826118694724
         ]
        }
       ],
       "layout": {
        "xaxis": {
         "title": "activity"
        },
        "yaxis": {
         "title": "rmssd"
        }
       }
      },
      "text/html": [
       "<div id=\"97c4224e-a3c8-40a6-8e5a-42c6fdce3a61\" style=\"height: 525px; width: 100%;\" class=\"plotly-graph-div\"></div><script type=\"text/javascript\">require([\"plotly\"], function(Plotly) { window.PLOTLYENV=window.PLOTLYENV || {};window.PLOTLYENV.BASE_URL=\"https://plot.ly\";Plotly.newPlot(\"97c4224e-a3c8-40a6-8e5a-42c6fdce3a61\", [{\"type\": \"box\", \"y\": [21.045783425665103, 14.609161037064947], \"name\": \"train-baseline\", \"showlegend\": false}, {\"type\": \"box\", \"y\": [17.63316680090594, 14.553094282367903, 12.977209260815862, 17.171024606047986], \"name\": \"train-focus\", \"showlegend\": false}, {\"type\": \"box\", \"y\": [56.267162986712314, 54.932790103647825, 47.335401592280164, 34.979826118694724], \"name\": \"train-breathe\", \"showlegend\": false}], {\"yaxis\": {\"title\": \"rmssd\"}, \"xaxis\": {\"title\": \"activity\"}}, {\"showLink\": true, \"linkText\": \"Export to plot.ly\"})});</script>"
      ],
      "text/vnd.plotly.v1+html": [
       "<div id=\"97c4224e-a3c8-40a6-8e5a-42c6fdce3a61\" style=\"height: 525px; width: 100%;\" class=\"plotly-graph-div\"></div><script type=\"text/javascript\">require([\"plotly\"], function(Plotly) { window.PLOTLYENV=window.PLOTLYENV || {};window.PLOTLYENV.BASE_URL=\"https://plot.ly\";Plotly.newPlot(\"97c4224e-a3c8-40a6-8e5a-42c6fdce3a61\", [{\"type\": \"box\", \"y\": [21.045783425665103, 14.609161037064947], \"name\": \"train-baseline\", \"showlegend\": false}, {\"type\": \"box\", \"y\": [17.63316680090594, 14.553094282367903, 12.977209260815862, 17.171024606047986], \"name\": \"train-focus\", \"showlegend\": false}, {\"type\": \"box\", \"y\": [56.267162986712314, 54.932790103647825, 47.335401592280164, 34.979826118694724], \"name\": \"train-breathe\", \"showlegend\": false}], {\"yaxis\": {\"title\": \"rmssd\"}, \"xaxis\": {\"title\": \"activity\"}}, {\"showLink\": true, \"linkText\": \"Export to plot.ly\"})});</script>"
      ]
     },
     "metadata": {},
     "output_type": "display_data"
    },
    {
     "data": {
      "application/vnd.plotly.v1+json": {
       "data": [
        {
         "name": "train-baseline",
         "showlegend": false,
         "type": "box",
         "y": [
          145.01518043275436,
          45.20713797100223
         ]
        },
        {
         "name": "train-focus",
         "showlegend": false,
         "type": "box",
         "y": [
          93.24921447062295,
          51.67576784386646,
          36.46751415552033,
          46.7076922627856
         ]
        },
        {
         "name": "train-breathe",
         "showlegend": false,
         "type": "box",
         "y": [
          838.1725226052042,
          772.2810375884403,
          795.6701512126994,
          280.16740473828656
         ]
        }
       ],
       "layout": {
        "xaxis": {
         "title": "activity"
        },
        "yaxis": {
         "title": "hf"
        }
       }
      },
      "text/html": [
       "<div id=\"b2c762b0-b204-4996-b7e4-1e2873f60f13\" style=\"height: 525px; width: 100%;\" class=\"plotly-graph-div\"></div><script type=\"text/javascript\">require([\"plotly\"], function(Plotly) { window.PLOTLYENV=window.PLOTLYENV || {};window.PLOTLYENV.BASE_URL=\"https://plot.ly\";Plotly.newPlot(\"b2c762b0-b204-4996-b7e4-1e2873f60f13\", [{\"type\": \"box\", \"y\": [145.01518043275436, 45.20713797100223], \"name\": \"train-baseline\", \"showlegend\": false}, {\"type\": \"box\", \"y\": [93.24921447062295, 51.67576784386646, 36.46751415552033, 46.7076922627856], \"name\": \"train-focus\", \"showlegend\": false}, {\"type\": \"box\", \"y\": [838.1725226052042, 772.2810375884403, 795.6701512126994, 280.16740473828656], \"name\": \"train-breathe\", \"showlegend\": false}], {\"yaxis\": {\"title\": \"hf\"}, \"xaxis\": {\"title\": \"activity\"}}, {\"showLink\": true, \"linkText\": \"Export to plot.ly\"})});</script>"
      ],
      "text/vnd.plotly.v1+html": [
       "<div id=\"b2c762b0-b204-4996-b7e4-1e2873f60f13\" style=\"height: 525px; width: 100%;\" class=\"plotly-graph-div\"></div><script type=\"text/javascript\">require([\"plotly\"], function(Plotly) { window.PLOTLYENV=window.PLOTLYENV || {};window.PLOTLYENV.BASE_URL=\"https://plot.ly\";Plotly.newPlot(\"b2c762b0-b204-4996-b7e4-1e2873f60f13\", [{\"type\": \"box\", \"y\": [145.01518043275436, 45.20713797100223], \"name\": \"train-baseline\", \"showlegend\": false}, {\"type\": \"box\", \"y\": [93.24921447062295, 51.67576784386646, 36.46751415552033, 46.7076922627856], \"name\": \"train-focus\", \"showlegend\": false}, {\"type\": \"box\", \"y\": [838.1725226052042, 772.2810375884403, 795.6701512126994, 280.16740473828656], \"name\": \"train-breathe\", \"showlegend\": false}], {\"yaxis\": {\"title\": \"hf\"}, \"xaxis\": {\"title\": \"activity\"}}, {\"showLink\": true, \"linkText\": \"Export to plot.ly\"})});</script>"
      ]
     },
     "metadata": {},
     "output_type": "display_data"
    },
    {
     "data": {
      "application/vnd.plotly.v1+json": {
       "data": [
        {
         "name": "train-baseline",
         "showlegend": false,
         "type": "box",
         "y": [
          6.776602293045646,
          13.402415825541162
         ]
        },
        {
         "name": "train-focus",
         "showlegend": false,
         "type": "box",
         "y": [
          21.938356362319116,
          5.716321277279895,
          13.55730219272971,
          26.423060164557988
         ]
        },
        {
         "name": "train-breathe",
         "showlegend": false,
         "type": "box",
         "y": [
          8.471114890425001,
          9.190311009855861,
          8.868473365121716,
          5.901520629037785
         ]
        }
       ],
       "layout": {
        "xaxis": {
         "title": "activity"
        },
        "yaxis": {
         "title": "hfnu"
        }
       }
      },
      "text/html": [
       "<div id=\"47a6931f-c469-4a53-ad23-d49eb6bc3d71\" style=\"height: 525px; width: 100%;\" class=\"plotly-graph-div\"></div><script type=\"text/javascript\">require([\"plotly\"], function(Plotly) { window.PLOTLYENV=window.PLOTLYENV || {};window.PLOTLYENV.BASE_URL=\"https://plot.ly\";Plotly.newPlot(\"47a6931f-c469-4a53-ad23-d49eb6bc3d71\", [{\"type\": \"box\", \"y\": [6.776602293045646, 13.402415825541162], \"name\": \"train-baseline\", \"showlegend\": false}, {\"type\": \"box\", \"y\": [21.938356362319116, 5.716321277279895, 13.55730219272971, 26.423060164557988], \"name\": \"train-focus\", \"showlegend\": false}, {\"type\": \"box\", \"y\": [8.471114890425001, 9.190311009855861, 8.868473365121716, 5.901520629037785], \"name\": \"train-breathe\", \"showlegend\": false}], {\"yaxis\": {\"title\": \"hfnu\"}, \"xaxis\": {\"title\": \"activity\"}}, {\"showLink\": true, \"linkText\": \"Export to plot.ly\"})});</script>"
      ],
      "text/vnd.plotly.v1+html": [
       "<div id=\"47a6931f-c469-4a53-ad23-d49eb6bc3d71\" style=\"height: 525px; width: 100%;\" class=\"plotly-graph-div\"></div><script type=\"text/javascript\">require([\"plotly\"], function(Plotly) { window.PLOTLYENV=window.PLOTLYENV || {};window.PLOTLYENV.BASE_URL=\"https://plot.ly\";Plotly.newPlot(\"47a6931f-c469-4a53-ad23-d49eb6bc3d71\", [{\"type\": \"box\", \"y\": [6.776602293045646, 13.402415825541162], \"name\": \"train-baseline\", \"showlegend\": false}, {\"type\": \"box\", \"y\": [21.938356362319116, 5.716321277279895, 13.55730219272971, 26.423060164557988], \"name\": \"train-focus\", \"showlegend\": false}, {\"type\": \"box\", \"y\": [8.471114890425001, 9.190311009855861, 8.868473365121716, 5.901520629037785], \"name\": \"train-breathe\", \"showlegend\": false}], {\"yaxis\": {\"title\": \"hfnu\"}, \"xaxis\": {\"title\": \"activity\"}}, {\"showLink\": true, \"linkText\": \"Export to plot.ly\"})});</script>"
      ]
     },
     "metadata": {},
     "output_type": "display_data"
    },
    {
     "data": {
      "application/vnd.plotly.v1+json": {
       "data": [
        {
         "name": "train-baseline",
         "showlegend": false,
         "type": "box",
         "y": [
          1994.9241897966792,
          292.09875194811514
         ]
        },
        {
         "name": "train-focus",
         "showlegend": false,
         "type": "box",
         "y": [
          331.80183735195544,
          852.3281419653513,
          232.520472075815,
          130.06097863263167
         ]
        },
        {
         "name": "train-breathe",
         "showlegend": false,
         "type": "box",
         "y": [
          9056.304573350611,
          7630.927915408164,
          8176.225218535408,
          4467.209116488354
         ]
        }
       ],
       "layout": {
        "xaxis": {
         "title": "activity"
        },
        "yaxis": {
         "title": "lf"
        }
       }
      },
      "text/html": [
       "<div id=\"2766f94f-90d2-4e73-96b0-c7eccf67a698\" style=\"height: 525px; width: 100%;\" class=\"plotly-graph-div\"></div><script type=\"text/javascript\">require([\"plotly\"], function(Plotly) { window.PLOTLYENV=window.PLOTLYENV || {};window.PLOTLYENV.BASE_URL=\"https://plot.ly\";Plotly.newPlot(\"2766f94f-90d2-4e73-96b0-c7eccf67a698\", [{\"type\": \"box\", \"y\": [1994.9241897966792, 292.09875194811514], \"name\": \"train-baseline\", \"showlegend\": false}, {\"type\": \"box\", \"y\": [331.80183735195544, 852.3281419653513, 232.520472075815, 130.06097863263167], \"name\": \"train-focus\", \"showlegend\": false}, {\"type\": \"box\", \"y\": [9056.304573350611, 7630.927915408164, 8176.225218535408, 4467.209116488354], \"name\": \"train-breathe\", \"showlegend\": false}], {\"yaxis\": {\"title\": \"lf\"}, \"xaxis\": {\"title\": \"activity\"}}, {\"showLink\": true, \"linkText\": \"Export to plot.ly\"})});</script>"
      ],
      "text/vnd.plotly.v1+html": [
       "<div id=\"2766f94f-90d2-4e73-96b0-c7eccf67a698\" style=\"height: 525px; width: 100%;\" class=\"plotly-graph-div\"></div><script type=\"text/javascript\">require([\"plotly\"], function(Plotly) { window.PLOTLYENV=window.PLOTLYENV || {};window.PLOTLYENV.BASE_URL=\"https://plot.ly\";Plotly.newPlot(\"2766f94f-90d2-4e73-96b0-c7eccf67a698\", [{\"type\": \"box\", \"y\": [1994.9241897966792, 292.09875194811514], \"name\": \"train-baseline\", \"showlegend\": false}, {\"type\": \"box\", \"y\": [331.80183735195544, 852.3281419653513, 232.520472075815, 130.06097863263167], \"name\": \"train-focus\", \"showlegend\": false}, {\"type\": \"box\", \"y\": [9056.304573350611, 7630.927915408164, 8176.225218535408, 4467.209116488354], \"name\": \"train-breathe\", \"showlegend\": false}], {\"yaxis\": {\"title\": \"lf\"}, \"xaxis\": {\"title\": \"activity\"}}, {\"showLink\": true, \"linkText\": \"Export to plot.ly\"})});</script>"
      ]
     },
     "metadata": {},
     "output_type": "display_data"
    },
    {
     "data": {
      "application/vnd.plotly.v1+json": {
       "data": [
        {
         "name": "train-baseline",
         "showlegend": false,
         "type": "box",
         "y": [
          93.22339770695434,
          86.59758417445885
         ]
        },
        {
         "name": "train-focus",
         "showlegend": false,
         "type": "box",
         "y": [
          78.06164363768089,
          94.28367872272011,
          86.44269780727026,
          73.57693983544203
         ]
        },
        {
         "name": "train-breathe",
         "showlegend": false,
         "type": "box",
         "y": [
          91.528885109575,
          90.80968899014415,
          91.13152663487828,
          94.09847937096222
         ]
        }
       ],
       "layout": {
        "xaxis": {
         "title": "activity"
        },
        "yaxis": {
         "title": "lfnu"
        }
       }
      },
      "text/html": [
       "<div id=\"7f567078-fbdf-4298-a29b-5ed365653b38\" style=\"height: 525px; width: 100%;\" class=\"plotly-graph-div\"></div><script type=\"text/javascript\">require([\"plotly\"], function(Plotly) { window.PLOTLYENV=window.PLOTLYENV || {};window.PLOTLYENV.BASE_URL=\"https://plot.ly\";Plotly.newPlot(\"7f567078-fbdf-4298-a29b-5ed365653b38\", [{\"type\": \"box\", \"y\": [93.22339770695434, 86.59758417445885], \"name\": \"train-baseline\", \"showlegend\": false}, {\"type\": \"box\", \"y\": [78.06164363768089, 94.28367872272011, 86.44269780727026, 73.57693983544203], \"name\": \"train-focus\", \"showlegend\": false}, {\"type\": \"box\", \"y\": [91.528885109575, 90.80968899014415, 91.13152663487828, 94.09847937096222], \"name\": \"train-breathe\", \"showlegend\": false}], {\"yaxis\": {\"title\": \"lfnu\"}, \"xaxis\": {\"title\": \"activity\"}}, {\"showLink\": true, \"linkText\": \"Export to plot.ly\"})});</script>"
      ],
      "text/vnd.plotly.v1+html": [
       "<div id=\"7f567078-fbdf-4298-a29b-5ed365653b38\" style=\"height: 525px; width: 100%;\" class=\"plotly-graph-div\"></div><script type=\"text/javascript\">require([\"plotly\"], function(Plotly) { window.PLOTLYENV=window.PLOTLYENV || {};window.PLOTLYENV.BASE_URL=\"https://plot.ly\";Plotly.newPlot(\"7f567078-fbdf-4298-a29b-5ed365653b38\", [{\"type\": \"box\", \"y\": [93.22339770695434, 86.59758417445885], \"name\": \"train-baseline\", \"showlegend\": false}, {\"type\": \"box\", \"y\": [78.06164363768089, 94.28367872272011, 86.44269780727026, 73.57693983544203], \"name\": \"train-focus\", \"showlegend\": false}, {\"type\": \"box\", \"y\": [91.528885109575, 90.80968899014415, 91.13152663487828, 94.09847937096222], \"name\": \"train-breathe\", \"showlegend\": false}], {\"yaxis\": {\"title\": \"lfnu\"}, \"xaxis\": {\"title\": \"activity\"}}, {\"showLink\": true, \"linkText\": \"Export to plot.ly\"})});</script>"
      ]
     },
     "metadata": {},
     "output_type": "display_data"
    },
    {
     "data": {
      "application/vnd.plotly.v1+json": {
       "data": [
        {
         "name": "train-baseline",
         "showlegend": false,
         "type": "box",
         "y": [
          13.756657639865189,
          6.461341395588449
         ]
        },
        {
         "name": "train-focus",
         "showlegend": false,
         "type": "box",
         "y": [
          3.5582266213779814,
          16.493768308205535,
          6.3760987679116825,
          2.784572997117605
         ]
        },
        {
         "name": "train-breathe",
         "showlegend": false,
         "type": "box",
         "y": [
          10.804821595918993,
          9.881024580425857,
          10.2758978781268,
          15.94478529956516
         ]
        }
       ],
       "layout": {
        "xaxis": {
         "title": "activity"
        },
        "yaxis": {
         "title": "lf_hf"
        }
       }
      },
      "text/html": [
       "<div id=\"ef94c05d-fa38-4fe9-8226-57d6793fc048\" style=\"height: 525px; width: 100%;\" class=\"plotly-graph-div\"></div><script type=\"text/javascript\">require([\"plotly\"], function(Plotly) { window.PLOTLYENV=window.PLOTLYENV || {};window.PLOTLYENV.BASE_URL=\"https://plot.ly\";Plotly.newPlot(\"ef94c05d-fa38-4fe9-8226-57d6793fc048\", [{\"type\": \"box\", \"y\": [13.756657639865189, 6.461341395588449], \"name\": \"train-baseline\", \"showlegend\": false}, {\"type\": \"box\", \"y\": [3.5582266213779814, 16.493768308205535, 6.3760987679116825, 2.784572997117605], \"name\": \"train-focus\", \"showlegend\": false}, {\"type\": \"box\", \"y\": [10.804821595918993, 9.881024580425857, 10.2758978781268, 15.94478529956516], \"name\": \"train-breathe\", \"showlegend\": false}], {\"yaxis\": {\"title\": \"lf_hf\"}, \"xaxis\": {\"title\": \"activity\"}}, {\"showLink\": true, \"linkText\": \"Export to plot.ly\"})});</script>"
      ],
      "text/vnd.plotly.v1+html": [
       "<div id=\"ef94c05d-fa38-4fe9-8226-57d6793fc048\" style=\"height: 525px; width: 100%;\" class=\"plotly-graph-div\"></div><script type=\"text/javascript\">require([\"plotly\"], function(Plotly) { window.PLOTLYENV=window.PLOTLYENV || {};window.PLOTLYENV.BASE_URL=\"https://plot.ly\";Plotly.newPlot(\"ef94c05d-fa38-4fe9-8226-57d6793fc048\", [{\"type\": \"box\", \"y\": [13.756657639865189, 6.461341395588449], \"name\": \"train-baseline\", \"showlegend\": false}, {\"type\": \"box\", \"y\": [3.5582266213779814, 16.493768308205535, 6.3760987679116825, 2.784572997117605], \"name\": \"train-focus\", \"showlegend\": false}, {\"type\": \"box\", \"y\": [10.804821595918993, 9.881024580425857, 10.2758978781268, 15.94478529956516], \"name\": \"train-breathe\", \"showlegend\": false}], {\"yaxis\": {\"title\": \"lf_hf\"}, \"xaxis\": {\"title\": \"activity\"}}, {\"showLink\": true, \"linkText\": \"Export to plot.ly\"})});</script>"
      ]
     },
     "metadata": {},
     "output_type": "display_data"
    },
    {
     "data": {
      "application/vnd.plotly.v1+json": {
       "data": [
        {
         "name": "train-baseline",
         "showlegend": false,
         "type": "box",
         "y": [
          1018.9212303048113,
          481.9523908035778
         ]
        },
        {
         "name": "train-focus",
         "showlegend": false,
         "type": "box",
         "y": [
          147.88547568658208,
          287.4488050497223,
          85.19037043655513,
          520.3083534327868
         ]
        },
        {
         "name": "train-breathe",
         "showlegend": false,
         "type": "box",
         "y": [
          97.21802685484808,
          264.77319456851683,
          70.98965302030493,
          580.5452778316793
         ]
        }
       ],
       "layout": {
        "xaxis": {
         "title": "activity"
        },
        "yaxis": {
         "title": "vlf"
        }
       }
      },
      "text/html": [
       "<div id=\"fa348ef1-66a9-4d16-a5ab-f75747af0bbe\" style=\"height: 525px; width: 100%;\" class=\"plotly-graph-div\"></div><script type=\"text/javascript\">require([\"plotly\"], function(Plotly) { window.PLOTLYENV=window.PLOTLYENV || {};window.PLOTLYENV.BASE_URL=\"https://plot.ly\";Plotly.newPlot(\"fa348ef1-66a9-4d16-a5ab-f75747af0bbe\", [{\"type\": \"box\", \"y\": [1018.9212303048113, 481.9523908035778], \"name\": \"train-baseline\", \"showlegend\": false}, {\"type\": \"box\", \"y\": [147.88547568658208, 287.4488050497223, 85.19037043655513, 520.3083534327868], \"name\": \"train-focus\", \"showlegend\": false}, {\"type\": \"box\", \"y\": [97.21802685484808, 264.77319456851683, 70.98965302030493, 580.5452778316793], \"name\": \"train-breathe\", \"showlegend\": false}], {\"yaxis\": {\"title\": \"vlf\"}, \"xaxis\": {\"title\": \"activity\"}}, {\"showLink\": true, \"linkText\": \"Export to plot.ly\"})});</script>"
      ],
      "text/vnd.plotly.v1+html": [
       "<div id=\"fa348ef1-66a9-4d16-a5ab-f75747af0bbe\" style=\"height: 525px; width: 100%;\" class=\"plotly-graph-div\"></div><script type=\"text/javascript\">require([\"plotly\"], function(Plotly) { window.PLOTLYENV=window.PLOTLYENV || {};window.PLOTLYENV.BASE_URL=\"https://plot.ly\";Plotly.newPlot(\"fa348ef1-66a9-4d16-a5ab-f75747af0bbe\", [{\"type\": \"box\", \"y\": [1018.9212303048113, 481.9523908035778], \"name\": \"train-baseline\", \"showlegend\": false}, {\"type\": \"box\", \"y\": [147.88547568658208, 287.4488050497223, 85.19037043655513, 520.3083534327868], \"name\": \"train-focus\", \"showlegend\": false}, {\"type\": \"box\", \"y\": [97.21802685484808, 264.77319456851683, 70.98965302030493, 580.5452778316793], \"name\": \"train-breathe\", \"showlegend\": false}], {\"yaxis\": {\"title\": \"vlf\"}, \"xaxis\": {\"title\": \"activity\"}}, {\"showLink\": true, \"linkText\": \"Export to plot.ly\"})});</script>"
      ]
     },
     "metadata": {},
     "output_type": "display_data"
    }
   ],
   "source": [
    "#d21 = df_export[df_export.start > '2018-06-21']\n",
    "for feat in cl.features_all:\n",
    "    dv.boxplot_compare(dfs, feat, groupby='activity', min_examples=1)"
   ]
  },
  {
   "cell_type": "markdown",
   "metadata": {},
   "source": [
    "\n",
    "---\n",
    "\n",
    "\n",
    "# FRAGMENTATION\n",
    "\n",
    "---\n",
    "\n"
   ]
  },
  {
   "cell_type": "code",
   "execution_count": 20,
   "metadata": {},
   "outputs": [],
   "source": [
    "durations = [60, 30, 20, 10]\n",
    "crop = 5\n",
    "sessions = dfs.to_dict(orient='records')\n",
    "\n",
    "def multifrag(sessions, durations):\n",
    "    for dr in durations:\n",
    "        fname = PRE_PATH + '\\\\df_train_' + str(dr) + '.xlsx'\n",
    "        print ('generating', fname, '...')\n",
    "        ds = fr.gen_fragments_dataset(sessions, dr, crop, RAW_PATH)\n",
    "        print('resulting dataset:', len(ds), 'records' )\n",
    "        ds.to_excel(fname)"
   ]
  },
  {
   "cell_type": "code",
   "execution_count": 21,
   "metadata": {
    "scrolled": true
   },
   "outputs": [
    {
     "name": "stdout",
     "output_type": "stream",
     "text": [
      "generating C:\\Users\\ju\\GDrive\\Projects\\HeRV\\Data\\PreProcessed\\df_train_60.xlsx ...\n",
      "10 valid sessions out of 10 total (at least one full fragment of 60 seconds after discarding first 5 seconds)\n",
      "0 / 19\n"
     ]
    },
    {
     "name": "stderr",
     "output_type": "stream",
     "text": [
      "C:\\Users\\Ju\\Anaconda3\\lib\\site-packages\\scipy\\signal\\spectral.py:1633: UserWarning:\n",
      "\n",
      "nperseg = 256 is greater than input length  = 239, using nperseg = 239\n",
      "\n",
      "C:\\Users\\Ju\\Anaconda3\\lib\\site-packages\\scipy\\signal\\spectral.py:1633: UserWarning:\n",
      "\n",
      "nperseg = 256 is greater than input length  = 246, using nperseg = 246\n",
      "\n",
      "C:\\Users\\Ju\\Anaconda3\\lib\\site-packages\\scipy\\signal\\spectral.py:1633: UserWarning:\n",
      "\n",
      "nperseg = 256 is greater than input length  = 243, using nperseg = 243\n",
      "\n",
      "C:\\Users\\Ju\\Anaconda3\\lib\\site-packages\\scipy\\signal\\spectral.py:1633: UserWarning:\n",
      "\n",
      "nperseg = 256 is greater than input length  = 244, using nperseg = 244\n",
      "\n",
      "C:\\Users\\Ju\\Anaconda3\\lib\\site-packages\\scipy\\signal\\spectral.py:1633: UserWarning:\n",
      "\n",
      "nperseg = 256 is greater than input length  = 240, using nperseg = 240\n",
      "\n",
      "C:\\Users\\Ju\\Anaconda3\\lib\\site-packages\\scipy\\signal\\spectral.py:1633: UserWarning:\n",
      "\n",
      "nperseg = 256 is greater than input length  = 241, using nperseg = 241\n",
      "\n",
      "C:\\Users\\Ju\\Anaconda3\\lib\\site-packages\\scipy\\signal\\spectral.py:1633: UserWarning:\n",
      "\n",
      "nperseg = 256 is greater than input length  = 242, using nperseg = 242\n",
      "\n",
      "C:\\Users\\Ju\\Anaconda3\\lib\\site-packages\\scipy\\signal\\spectral.py:1633: UserWarning:\n",
      "\n",
      "nperseg = 256 is greater than input length  = 245, using nperseg = 245\n",
      "\n",
      "C:\\Users\\Ju\\Anaconda3\\lib\\site-packages\\scipy\\signal\\spectral.py:1633: UserWarning:\n",
      "\n",
      "nperseg = 256 is greater than input length  = 237, using nperseg = 237\n",
      "\n",
      "C:\\Users\\Ju\\Anaconda3\\lib\\site-packages\\scipy\\signal\\spectral.py:1633: UserWarning:\n",
      "\n",
      "nperseg = 256 is greater than input length  = 233, using nperseg = 233\n",
      "\n"
     ]
    },
    {
     "name": "stdout",
     "output_type": "stream",
     "text": [
      "19 total frags and 19 kept\n",
      "resulting dataset: 19 records\n",
      "generating C:\\Users\\ju\\GDrive\\Projects\\HeRV\\Data\\PreProcessed\\df_train_30.xlsx ...\n",
      "10 valid sessions out of 10 total (at least one full fragment of 30 seconds after discarding first 5 seconds)\n",
      "0 / 39\n"
     ]
    },
    {
     "name": "stderr",
     "output_type": "stream",
     "text": [
      "C:\\Users\\Ju\\Anaconda3\\lib\\site-packages\\scipy\\signal\\spectral.py:1633: UserWarning:\n",
      "\n",
      "nperseg = 256 is greater than input length  = 118, using nperseg = 118\n",
      "\n",
      "C:\\Users\\Ju\\Anaconda3\\lib\\site-packages\\scipy\\signal\\spectral.py:1633: UserWarning:\n",
      "\n",
      "nperseg = 256 is greater than input length  = 116, using nperseg = 116\n",
      "\n",
      "C:\\Users\\Ju\\Anaconda3\\lib\\site-packages\\scipy\\signal\\spectral.py:1633: UserWarning:\n",
      "\n",
      "nperseg = 256 is greater than input length  = 117, using nperseg = 117\n",
      "\n",
      "C:\\Users\\Ju\\Anaconda3\\lib\\site-packages\\scipy\\signal\\spectral.py:1633: UserWarning:\n",
      "\n",
      "nperseg = 256 is greater than input length  = 114, using nperseg = 114\n",
      "\n",
      "C:\\Users\\Ju\\Anaconda3\\lib\\site-packages\\scipy\\signal\\spectral.py:1633: UserWarning:\n",
      "\n",
      "nperseg = 256 is greater than input length  = 115, using nperseg = 115\n",
      "\n",
      "C:\\Users\\Ju\\Anaconda3\\lib\\site-packages\\scipy\\signal\\spectral.py:1633: UserWarning:\n",
      "\n",
      "nperseg = 256 is greater than input length  = 120, using nperseg = 120\n",
      "\n",
      "C:\\Users\\Ju\\Anaconda3\\lib\\site-packages\\scipy\\signal\\spectral.py:1633: UserWarning:\n",
      "\n",
      "nperseg = 256 is greater than input length  = 111, using nperseg = 111\n",
      "\n",
      "C:\\Users\\Ju\\Anaconda3\\lib\\site-packages\\scipy\\signal\\spectral.py:1633: UserWarning:\n",
      "\n",
      "nperseg = 256 is greater than input length  = 119, using nperseg = 119\n",
      "\n",
      "C:\\Users\\Ju\\Anaconda3\\lib\\site-packages\\scipy\\signal\\spectral.py:1633: UserWarning:\n",
      "\n",
      "nperseg = 256 is greater than input length  = 121, using nperseg = 121\n",
      "\n",
      "C:\\Users\\Ju\\Anaconda3\\lib\\site-packages\\scipy\\signal\\spectral.py:1633: UserWarning:\n",
      "\n",
      "nperseg = 256 is greater than input length  = 112, using nperseg = 112\n",
      "\n",
      "C:\\Users\\Ju\\Anaconda3\\lib\\site-packages\\scipy\\signal\\spectral.py:1633: UserWarning:\n",
      "\n",
      "nperseg = 256 is greater than input length  = 113, using nperseg = 113\n",
      "\n",
      "C:\\Users\\Ju\\Anaconda3\\lib\\site-packages\\scipy\\signal\\spectral.py:1633: UserWarning:\n",
      "\n",
      "nperseg = 256 is greater than input length  = 122, using nperseg = 122\n",
      "\n",
      "C:\\Users\\Ju\\Anaconda3\\lib\\site-packages\\scipy\\signal\\spectral.py:1633: UserWarning:\n",
      "\n",
      "nperseg = 256 is greater than input length  = 123, using nperseg = 123\n",
      "\n"
     ]
    },
    {
     "name": "stdout",
     "output_type": "stream",
     "text": [
      "39 total frags and 39 kept\n",
      "resulting dataset: 39 records\n",
      "generating C:\\Users\\ju\\GDrive\\Projects\\HeRV\\Data\\PreProcessed\\df_train_20.xlsx ...\n",
      "10 valid sessions out of 10 total (at least one full fragment of 20 seconds after discarding first 5 seconds)\n",
      "0 / 59\n"
     ]
    },
    {
     "name": "stderr",
     "output_type": "stream",
     "text": [
      "C:\\Users\\Ju\\Anaconda3\\lib\\site-packages\\scipy\\signal\\spectral.py:1633: UserWarning:\n",
      "\n",
      "nperseg = 256 is greater than input length  = 76, using nperseg = 76\n",
      "\n",
      "C:\\Users\\Ju\\Anaconda3\\lib\\site-packages\\scipy\\signal\\spectral.py:1633: UserWarning:\n",
      "\n",
      "nperseg = 256 is greater than input length  = 77, using nperseg = 77\n",
      "\n",
      "C:\\Users\\Ju\\Anaconda3\\lib\\site-packages\\scipy\\signal\\spectral.py:1633: UserWarning:\n",
      "\n",
      "nperseg = 256 is greater than input length  = 75, using nperseg = 75\n",
      "\n",
      "C:\\Users\\Ju\\Anaconda3\\lib\\site-packages\\scipy\\signal\\spectral.py:1633: UserWarning:\n",
      "\n",
      "nperseg = 256 is greater than input length  = 78, using nperseg = 78\n",
      "\n",
      "C:\\Users\\Ju\\Anaconda3\\lib\\site-packages\\scipy\\signal\\spectral.py:1633: UserWarning:\n",
      "\n",
      "nperseg = 256 is greater than input length  = 80, using nperseg = 80\n",
      "\n",
      "C:\\Users\\Ju\\Anaconda3\\lib\\site-packages\\scipy\\signal\\spectral.py:1633: UserWarning:\n",
      "\n",
      "nperseg = 256 is greater than input length  = 74, using nperseg = 74\n",
      "\n",
      "C:\\Users\\Ju\\Anaconda3\\lib\\site-packages\\scipy\\signal\\spectral.py:1633: UserWarning:\n",
      "\n",
      "nperseg = 256 is greater than input length  = 70, using nperseg = 70\n",
      "\n",
      "C:\\Users\\Ju\\Anaconda3\\lib\\site-packages\\scipy\\signal\\spectral.py:1633: UserWarning:\n",
      "\n",
      "nperseg = 256 is greater than input length  = 79, using nperseg = 79\n",
      "\n",
      "C:\\Users\\Ju\\Anaconda3\\lib\\site-packages\\scipy\\signal\\spectral.py:1633: UserWarning:\n",
      "\n",
      "nperseg = 256 is greater than input length  = 72, using nperseg = 72\n",
      "\n",
      "C:\\Users\\Ju\\Anaconda3\\lib\\site-packages\\scipy\\signal\\spectral.py:1633: UserWarning:\n",
      "\n",
      "nperseg = 256 is greater than input length  = 71, using nperseg = 71\n",
      "\n",
      "C:\\Users\\Ju\\Anaconda3\\lib\\site-packages\\scipy\\signal\\spectral.py:1633: UserWarning:\n",
      "\n",
      "nperseg = 256 is greater than input length  = 81, using nperseg = 81\n",
      "\n"
     ]
    },
    {
     "name": "stdout",
     "output_type": "stream",
     "text": [
      "59 total frags and 59 kept\n",
      "resulting dataset: 59 records\n",
      "generating C:\\Users\\ju\\GDrive\\Projects\\HeRV\\Data\\PreProcessed\\df_train_10.xlsx ...\n",
      "10 valid sessions out of 10 total (at least one full fragment of 10 seconds after discarding first 5 seconds)\n",
      "0 / 121\n"
     ]
    },
    {
     "name": "stderr",
     "output_type": "stream",
     "text": [
      "C:\\Users\\Ju\\Anaconda3\\lib\\site-packages\\scipy\\signal\\spectral.py:1633: UserWarning:\n",
      "\n",
      "nperseg = 256 is greater than input length  = 34, using nperseg = 34\n",
      "\n",
      "C:\\Users\\Ju\\Anaconda3\\lib\\site-packages\\scipy\\signal\\spectral.py:1633: UserWarning:\n",
      "\n",
      "nperseg = 256 is greater than input length  = 35, using nperseg = 35\n",
      "\n",
      "C:\\Users\\Ju\\Anaconda3\\lib\\site-packages\\scipy\\signal\\spectral.py:1633: UserWarning:\n",
      "\n",
      "nperseg = 256 is greater than input length  = 36, using nperseg = 36\n",
      "\n",
      "C:\\Users\\Ju\\Anaconda3\\lib\\site-packages\\scipy\\signal\\spectral.py:1633: UserWarning:\n",
      "\n",
      "nperseg = 256 is greater than input length  = 40, using nperseg = 40\n",
      "\n",
      "C:\\Users\\Ju\\Anaconda3\\lib\\site-packages\\scipy\\signal\\spectral.py:1633: UserWarning:\n",
      "\n",
      "nperseg = 256 is greater than input length  = 33, using nperseg = 33\n",
      "\n",
      "C:\\Users\\Ju\\Anaconda3\\lib\\site-packages\\scipy\\signal\\spectral.py:1633: UserWarning:\n",
      "\n",
      "nperseg = 256 is greater than input length  = 37, using nperseg = 37\n",
      "\n",
      "C:\\Users\\Ju\\Anaconda3\\lib\\site-packages\\scipy\\signal\\spectral.py:1633: UserWarning:\n",
      "\n",
      "nperseg = 256 is greater than input length  = 31, using nperseg = 31\n",
      "\n",
      "C:\\Users\\Ju\\Anaconda3\\lib\\site-packages\\scipy\\signal\\spectral.py:1633: UserWarning:\n",
      "\n",
      "nperseg = 256 is greater than input length  = 29, using nperseg = 29\n",
      "\n",
      "C:\\Users\\Ju\\Anaconda3\\lib\\site-packages\\hrv\\classical.py:44: RuntimeWarning:\n",
      "\n",
      "invalid value encountered in double_scalars\n",
      "\n",
      "C:\\Users\\Ju\\Anaconda3\\lib\\site-packages\\hrv\\classical.py:45: RuntimeWarning:\n",
      "\n",
      "invalid value encountered in double_scalars\n",
      "\n",
      "C:\\Users\\Ju\\Anaconda3\\lib\\site-packages\\hrv\\classical.py:46: RuntimeWarning:\n",
      "\n",
      "invalid value encountered in double_scalars\n",
      "\n",
      "C:\\Users\\Ju\\Anaconda3\\lib\\site-packages\\scipy\\signal\\spectral.py:1633: UserWarning:\n",
      "\n",
      "nperseg = 256 is greater than input length  = 38, using nperseg = 38\n",
      "\n",
      "C:\\Users\\Ju\\Anaconda3\\lib\\site-packages\\scipy\\signal\\spectral.py:1633: UserWarning:\n",
      "\n",
      "nperseg = 256 is greater than input length  = 28, using nperseg = 28\n",
      "\n",
      "C:\\Users\\Ju\\Anaconda3\\lib\\site-packages\\scipy\\signal\\spectral.py:1633: UserWarning:\n",
      "\n",
      "nperseg = 256 is greater than input length  = 30, using nperseg = 30\n",
      "\n",
      "C:\\Users\\Ju\\Anaconda3\\lib\\site-packages\\scipy\\signal\\spectral.py:1633: UserWarning:\n",
      "\n",
      "nperseg = 256 is greater than input length  = 39, using nperseg = 39\n",
      "\n",
      "C:\\Users\\Ju\\Anaconda3\\lib\\site-packages\\scipy\\signal\\spectral.py:1633: UserWarning:\n",
      "\n",
      "nperseg = 256 is greater than input length  = 32, using nperseg = 32\n",
      "\n"
     ]
    },
    {
     "name": "stdout",
     "output_type": "stream",
     "text": [
      "121 total frags and 121 kept\n",
      "resulting dataset: 121 records\n",
      "Wall time: 9.85 s\n"
     ]
    }
   ],
   "source": [
    "%time multifrag(sessions, durations)"
   ]
  },
  {
   "cell_type": "markdown",
   "metadata": {},
   "source": [
    "\n",
    "---\n",
    "\n",
    "\n",
    "# CLASSIFICATION\n",
    "\n",
    "---\n",
    "\n"
   ]
  },
  {
   "cell_type": "code",
   "execution_count": 22,
   "metadata": {},
   "outputs": [],
   "source": [
    "features = cl.features_fd\n",
    "clf = RandomForestClassifier(n_estimators=100, n_jobs=-1)"
   ]
  },
  {
   "cell_type": "code",
   "execution_count": 23,
   "metadata": {},
   "outputs": [
    {
     "data": {
      "text/html": [
       "<div>\n",
       "<style>\n",
       "    .dataframe thead tr:only-child th {\n",
       "        text-align: right;\n",
       "    }\n",
       "\n",
       "    .dataframe thead th {\n",
       "        text-align: left;\n",
       "    }\n",
       "\n",
       "    .dataframe tbody tr th {\n",
       "        vertical-align: top;\n",
       "    }\n",
       "</style>\n",
       "<table border=\"1\" class=\"dataframe\">\n",
       "  <thead>\n",
       "    <tr style=\"text-align: right;\">\n",
       "      <th></th>\n",
       "      <th>beatcount</th>\n",
       "      <th>hf</th>\n",
       "      <th>hfnu</th>\n",
       "      <th>lf</th>\n",
       "      <th>lf_hf</th>\n",
       "      <th>lfnu</th>\n",
       "      <th>mhr</th>\n",
       "      <th>mrri</th>\n",
       "      <th>nn50</th>\n",
       "      <th>order</th>\n",
       "      <th>pnn50</th>\n",
       "      <th>rmssd</th>\n",
       "      <th>sdnn</th>\n",
       "      <th>sess</th>\n",
       "      <th>total_power</th>\n",
       "      <th>user</th>\n",
       "      <th>vlf</th>\n",
       "    </tr>\n",
       "  </thead>\n",
       "  <tbody>\n",
       "    <tr>\n",
       "      <th>count</th>\n",
       "      <td>59.000000</td>\n",
       "      <td>59.000000</td>\n",
       "      <td>59.000000</td>\n",
       "      <td>59.000000</td>\n",
       "      <td>59.000000</td>\n",
       "      <td>59.000000</td>\n",
       "      <td>59.000000</td>\n",
       "      <td>59.000000</td>\n",
       "      <td>59.000000</td>\n",
       "      <td>59.000000</td>\n",
       "      <td>59.000000</td>\n",
       "      <td>59.000000</td>\n",
       "      <td>59.000000</td>\n",
       "      <td>59.00000</td>\n",
       "      <td>59.000000</td>\n",
       "      <td>59.0</td>\n",
       "      <td>59.0</td>\n",
       "    </tr>\n",
       "    <tr>\n",
       "      <th>mean</th>\n",
       "      <td>26.237288</td>\n",
       "      <td>287.428948</td>\n",
       "      <td>21.178566</td>\n",
       "      <td>1732.078811</td>\n",
       "      <td>16.061014</td>\n",
       "      <td>78.821434</td>\n",
       "      <td>81.043432</td>\n",
       "      <td>748.602742</td>\n",
       "      <td>2.084746</td>\n",
       "      <td>2.491525</td>\n",
       "      <td>8.809150</td>\n",
       "      <td>28.641679</td>\n",
       "      <td>56.644246</td>\n",
       "      <td>4.40678</td>\n",
       "      <td>2019.507759</td>\n",
       "      <td>1.0</td>\n",
       "      <td>0.0</td>\n",
       "    </tr>\n",
       "    <tr>\n",
       "      <th>std</th>\n",
       "      <td>1.968186</td>\n",
       "      <td>359.545226</td>\n",
       "      <td>19.194135</td>\n",
       "      <td>2025.650272</td>\n",
       "      <td>38.031500</td>\n",
       "      <td>19.194135</td>\n",
       "      <td>4.989110</td>\n",
       "      <td>50.415306</td>\n",
       "      <td>2.500263</td>\n",
       "      <td>1.755512</td>\n",
       "      <td>10.724459</td>\n",
       "      <td>19.305675</td>\n",
       "      <td>36.655789</td>\n",
       "      <td>2.97761</td>\n",
       "      <td>2311.626426</td>\n",
       "      <td>0.0</td>\n",
       "      <td>0.0</td>\n",
       "    </tr>\n",
       "    <tr>\n",
       "      <th>min</th>\n",
       "      <td>22.000000</td>\n",
       "      <td>2.058388</td>\n",
       "      <td>0.387951</td>\n",
       "      <td>1.406026</td>\n",
       "      <td>0.160247</td>\n",
       "      <td>13.811465</td>\n",
       "      <td>70.701368</td>\n",
       "      <td>673.103448</td>\n",
       "      <td>0.000000</td>\n",
       "      <td>0.000000</td>\n",
       "      <td>0.000000</td>\n",
       "      <td>6.022394</td>\n",
       "      <td>4.901014</td>\n",
       "      <td>0.00000</td>\n",
       "      <td>3.464414</td>\n",
       "      <td>1.0</td>\n",
       "      <td>0.0</td>\n",
       "    </tr>\n",
       "    <tr>\n",
       "      <th>25%</th>\n",
       "      <td>25.000000</td>\n",
       "      <td>25.941202</td>\n",
       "      <td>8.788185</td>\n",
       "      <td>139.042234</td>\n",
       "      <td>2.477759</td>\n",
       "      <td>71.192057</td>\n",
       "      <td>76.911883</td>\n",
       "      <td>704.632275</td>\n",
       "      <td>0.000000</td>\n",
       "      <td>1.000000</td>\n",
       "      <td>0.000000</td>\n",
       "      <td>12.250272</td>\n",
       "      <td>25.158889</td>\n",
       "      <td>2.00000</td>\n",
       "      <td>185.204787</td>\n",
       "      <td>1.0</td>\n",
       "      <td>0.0</td>\n",
       "    </tr>\n",
       "    <tr>\n",
       "      <th>50%</th>\n",
       "      <td>26.000000</td>\n",
       "      <td>68.518106</td>\n",
       "      <td>15.040132</td>\n",
       "      <td>616.844398</td>\n",
       "      <td>5.648878</td>\n",
       "      <td>84.959868</td>\n",
       "      <td>81.662256</td>\n",
       "      <td>737.840000</td>\n",
       "      <td>1.000000</td>\n",
       "      <td>2.000000</td>\n",
       "      <td>3.703704</td>\n",
       "      <td>19.996428</td>\n",
       "      <td>41.827319</td>\n",
       "      <td>4.00000</td>\n",
       "      <td>659.479413</td>\n",
       "      <td>1.0</td>\n",
       "      <td>0.0</td>\n",
       "    </tr>\n",
       "    <tr>\n",
       "      <th>75%</th>\n",
       "      <td>28.000000</td>\n",
       "      <td>460.340304</td>\n",
       "      <td>28.807943</td>\n",
       "      <td>3239.532014</td>\n",
       "      <td>10.379330</td>\n",
       "      <td>91.211815</td>\n",
       "      <td>85.283248</td>\n",
       "      <td>792.441538</td>\n",
       "      <td>4.500000</td>\n",
       "      <td>4.000000</td>\n",
       "      <td>19.523810</td>\n",
       "      <td>46.689257</td>\n",
       "      <td>93.332765</td>\n",
       "      <td>7.00000</td>\n",
       "      <td>3701.261521</td>\n",
       "      <td>1.0</td>\n",
       "      <td>0.0</td>\n",
       "    </tr>\n",
       "    <tr>\n",
       "      <th>max</th>\n",
       "      <td>30.000000</td>\n",
       "      <td>1179.054705</td>\n",
       "      <td>86.188535</td>\n",
       "      <td>8129.815765</td>\n",
       "      <td>256.764267</td>\n",
       "      <td>99.612049</td>\n",
       "      <td>89.482244</td>\n",
       "      <td>861.739130</td>\n",
       "      <td>8.000000</td>\n",
       "      <td>6.000000</td>\n",
       "      <td>34.782609</td>\n",
       "      <td>68.502694</td>\n",
       "      <td>123.271495</td>\n",
       "      <td>9.00000</td>\n",
       "      <td>9264.450008</td>\n",
       "      <td>1.0</td>\n",
       "      <td>0.0</td>\n",
       "    </tr>\n",
       "  </tbody>\n",
       "</table>\n",
       "</div>"
      ],
      "text/plain": [
       "       beatcount           hf       hfnu           lf       lf_hf       lfnu  \\\n",
       "count  59.000000    59.000000  59.000000    59.000000   59.000000  59.000000   \n",
       "mean   26.237288   287.428948  21.178566  1732.078811   16.061014  78.821434   \n",
       "std     1.968186   359.545226  19.194135  2025.650272   38.031500  19.194135   \n",
       "min    22.000000     2.058388   0.387951     1.406026    0.160247  13.811465   \n",
       "25%    25.000000    25.941202   8.788185   139.042234    2.477759  71.192057   \n",
       "50%    26.000000    68.518106  15.040132   616.844398    5.648878  84.959868   \n",
       "75%    28.000000   460.340304  28.807943  3239.532014   10.379330  91.211815   \n",
       "max    30.000000  1179.054705  86.188535  8129.815765  256.764267  99.612049   \n",
       "\n",
       "             mhr        mrri       nn50      order      pnn50      rmssd  \\\n",
       "count  59.000000   59.000000  59.000000  59.000000  59.000000  59.000000   \n",
       "mean   81.043432  748.602742   2.084746   2.491525   8.809150  28.641679   \n",
       "std     4.989110   50.415306   2.500263   1.755512  10.724459  19.305675   \n",
       "min    70.701368  673.103448   0.000000   0.000000   0.000000   6.022394   \n",
       "25%    76.911883  704.632275   0.000000   1.000000   0.000000  12.250272   \n",
       "50%    81.662256  737.840000   1.000000   2.000000   3.703704  19.996428   \n",
       "75%    85.283248  792.441538   4.500000   4.000000  19.523810  46.689257   \n",
       "max    89.482244  861.739130   8.000000   6.000000  34.782609  68.502694   \n",
       "\n",
       "             sdnn      sess  total_power  user   vlf  \n",
       "count   59.000000  59.00000    59.000000  59.0  59.0  \n",
       "mean    56.644246   4.40678  2019.507759   1.0   0.0  \n",
       "std     36.655789   2.97761  2311.626426   0.0   0.0  \n",
       "min      4.901014   0.00000     3.464414   1.0   0.0  \n",
       "25%     25.158889   2.00000   185.204787   1.0   0.0  \n",
       "50%     41.827319   4.00000   659.479413   1.0   0.0  \n",
       "75%     93.332765   7.00000  3701.261521   1.0   0.0  \n",
       "max    123.271495   9.00000  9264.450008   1.0   0.0  "
      ]
     },
     "execution_count": 23,
     "metadata": {},
     "output_type": "execute_result"
    }
   ],
   "source": [
    "dff = pd.read_excel(PRE_PATH+'\\\\df_train_20.xlsx')\n",
    "dff.describe()"
   ]
  },
  {
   "cell_type": "code",
   "execution_count": 24,
   "metadata": {},
   "outputs": [],
   "source": [
    "dfr = dff[dff.activity.isin(['train-focus', 'train-breathe'])]"
   ]
  },
  {
   "cell_type": "code",
   "execution_count": 25,
   "metadata": {
    "scrolled": false
   },
   "outputs": [
    {
     "name": "stdout",
     "output_type": "stream",
     "text": [
      "\n",
      "\n",
      "\n",
      "--------------------------------------------- activity ---------------------------------------------\n",
      "activity\n",
      "train-breathe    24\n",
      "train-focus      24\n",
      "Name: user, dtype: int64\n",
      "38 10\n"
     ]
    },
    {
     "data": {
      "application/vnd.plotly.v1+json": {
       "data": [
        {
         "colorscale": [
          [
           0,
           "rgb(165,0,38)"
          ],
          [
           0.1111111111111111,
           "rgb(215,48,39)"
          ],
          [
           0.2222222222222222,
           "rgb(244,109,67)"
          ],
          [
           0.3333333333333333,
           "rgb(253,174,97)"
          ],
          [
           0.4444444444444444,
           "rgb(254,224,144)"
          ],
          [
           0.5555555555555556,
           "rgb(224,243,248)"
          ],
          [
           0.6666666666666666,
           "rgb(171,217,233)"
          ],
          [
           0.7777777777777778,
           "rgb(116,173,209)"
          ],
          [
           0.8888888888888888,
           "rgb(69,117,180)"
          ],
          [
           1,
           "rgb(49,54,149)"
          ]
         ],
         "type": "heatmap",
         "x": [
          "precision",
          "recall",
          "f1"
         ],
         "y": [
          "train-breathe",
          "train-focus"
         ],
         "z": [
          [
           1,
           1,
           1
          ],
          [
           1,
           1,
           1
          ]
         ],
         "zmax": 1,
         "zmin": 0.5
        }
       ],
       "layout": {
        "font": {
         "color": "#333333",
         "size": 16
        },
        "title": "Precision, Recall, F1-score",
        "yaxis": {
         "autorange": "reversed"
        }
       }
      },
      "text/html": [
       "<div id=\"1328137d-4492-4e1f-b9e8-765e10d4d2c4\" style=\"height: 525px; width: 100%;\" class=\"plotly-graph-div\"></div><script type=\"text/javascript\">require([\"plotly\"], function(Plotly) { window.PLOTLYENV=window.PLOTLYENV || {};window.PLOTLYENV.BASE_URL=\"https://plot.ly\";Plotly.newPlot(\"1328137d-4492-4e1f-b9e8-765e10d4d2c4\", [{\"type\": \"heatmap\", \"z\": [[1.0, 1.0, 1.0], [1.0, 1.0, 1.0]], \"y\": [\"train-breathe\", \"train-focus\"], \"x\": [\"precision\", \"recall\", \"f1\"], \"colorscale\": [[0.0, \"rgb(165,0,38)\"], [0.1111111111111111, \"rgb(215,48,39)\"], [0.2222222222222222, \"rgb(244,109,67)\"], [0.3333333333333333, \"rgb(253,174,97)\"], [0.4444444444444444, \"rgb(254,224,144)\"], [0.5555555555555556, \"rgb(224,243,248)\"], [0.6666666666666666, \"rgb(171,217,233)\"], [0.7777777777777778, \"rgb(116,173,209)\"], [0.8888888888888888, \"rgb(69,117,180)\"], [1.0, \"rgb(49,54,149)\"]], \"zmin\": 0.5, \"zmax\": 1.0}], {\"title\": \"Precision, Recall, F1-score\", \"font\": {\"size\": 16, \"color\": \"#333333\"}, \"yaxis\": {\"autorange\": \"reversed\"}}, {\"showLink\": true, \"linkText\": \"Export to plot.ly\"})});</script>"
      ],
      "text/vnd.plotly.v1+html": [
       "<div id=\"1328137d-4492-4e1f-b9e8-765e10d4d2c4\" style=\"height: 525px; width: 100%;\" class=\"plotly-graph-div\"></div><script type=\"text/javascript\">require([\"plotly\"], function(Plotly) { window.PLOTLYENV=window.PLOTLYENV || {};window.PLOTLYENV.BASE_URL=\"https://plot.ly\";Plotly.newPlot(\"1328137d-4492-4e1f-b9e8-765e10d4d2c4\", [{\"type\": \"heatmap\", \"z\": [[1.0, 1.0, 1.0], [1.0, 1.0, 1.0]], \"y\": [\"train-breathe\", \"train-focus\"], \"x\": [\"precision\", \"recall\", \"f1\"], \"colorscale\": [[0.0, \"rgb(165,0,38)\"], [0.1111111111111111, \"rgb(215,48,39)\"], [0.2222222222222222, \"rgb(244,109,67)\"], [0.3333333333333333, \"rgb(253,174,97)\"], [0.4444444444444444, \"rgb(254,224,144)\"], [0.5555555555555556, \"rgb(224,243,248)\"], [0.6666666666666666, \"rgb(171,217,233)\"], [0.7777777777777778, \"rgb(116,173,209)\"], [0.8888888888888888, \"rgb(69,117,180)\"], [1.0, \"rgb(49,54,149)\"]], \"zmin\": 0.5, \"zmax\": 1.0}], {\"title\": \"Precision, Recall, F1-score\", \"font\": {\"size\": 16, \"color\": \"#333333\"}, \"yaxis\": {\"autorange\": \"reversed\"}}, {\"showLink\": true, \"linkText\": \"Export to plot.ly\"})});</script>"
      ]
     },
     "metadata": {},
     "output_type": "display_data"
    },
    {
     "data": {
      "application/vnd.plotly.v1+json": {
       "data": [
        {
         "colorscale": "Reds",
         "type": "heatmap",
         "x": [
          "train-breathe",
          "train-focus"
         ],
         "y": [
          "train-breathe",
          "train-focus"
         ],
         "z": [
          [
           8,
           0
          ],
          [
           0,
           2
          ]
         ]
        }
       ],
       "layout": {
        "font": {
         "color": "#333333",
         "size": 16
        },
        "title": "Confusion Matrix",
        "xaxis": {
         "title": "predicted",
         "titlefont": {
          "color": "#333333",
          "size": 16
         }
        },
        "yaxis": {
         "autorange": "reversed",
         "title": "true label",
         "titlefont": {
          "color": "#333333",
          "size": 16
         }
        }
       }
      },
      "text/html": [
       "<div id=\"287e9bf6-9645-4a60-90ca-a3796964e1c4\" style=\"height: 525px; width: 100%;\" class=\"plotly-graph-div\"></div><script type=\"text/javascript\">require([\"plotly\"], function(Plotly) { window.PLOTLYENV=window.PLOTLYENV || {};window.PLOTLYENV.BASE_URL=\"https://plot.ly\";Plotly.newPlot(\"287e9bf6-9645-4a60-90ca-a3796964e1c4\", [{\"type\": \"heatmap\", \"z\": [[8, 0], [0, 2]], \"x\": [\"train-breathe\", \"train-focus\"], \"y\": [\"train-breathe\", \"train-focus\"], \"colorscale\": \"Reds\"}], {\"title\": \"Confusion Matrix\", \"font\": {\"size\": 16, \"color\": \"#333333\"}, \"xaxis\": {\"title\": \"predicted\", \"titlefont\": {\"size\": 16, \"color\": \"#333333\"}}, \"yaxis\": {\"title\": \"true label\", \"titlefont\": {\"size\": 16, \"color\": \"#333333\"}, \"autorange\": \"reversed\"}}, {\"showLink\": true, \"linkText\": \"Export to plot.ly\"})});</script>"
      ],
      "text/vnd.plotly.v1+html": [
       "<div id=\"287e9bf6-9645-4a60-90ca-a3796964e1c4\" style=\"height: 525px; width: 100%;\" class=\"plotly-graph-div\"></div><script type=\"text/javascript\">require([\"plotly\"], function(Plotly) { window.PLOTLYENV=window.PLOTLYENV || {};window.PLOTLYENV.BASE_URL=\"https://plot.ly\";Plotly.newPlot(\"287e9bf6-9645-4a60-90ca-a3796964e1c4\", [{\"type\": \"heatmap\", \"z\": [[8, 0], [0, 2]], \"x\": [\"train-breathe\", \"train-focus\"], \"y\": [\"train-breathe\", \"train-focus\"], \"colorscale\": \"Reds\"}], {\"title\": \"Confusion Matrix\", \"font\": {\"size\": 16, \"color\": \"#333333\"}, \"xaxis\": {\"title\": \"predicted\", \"titlefont\": {\"size\": 16, \"color\": \"#333333\"}}, \"yaxis\": {\"title\": \"true label\", \"titlefont\": {\"size\": 16, \"color\": \"#333333\"}, \"autorange\": \"reversed\"}}, {\"showLink\": true, \"linkText\": \"Export to plot.ly\"})});</script>"
      ]
     },
     "metadata": {},
     "output_type": "display_data"
    }
   ],
   "source": [
    "for label in ['activity']:\n",
    "    cmc.plot_matrices(dfr, clf, features, label)"
   ]
  },
  {
   "cell_type": "code",
   "execution_count": null,
   "metadata": {},
   "outputs": [],
   "source": []
  },
  {
   "cell_type": "code",
   "execution_count": null,
   "metadata": {},
   "outputs": [],
   "source": []
  },
  {
   "cell_type": "code",
   "execution_count": null,
   "metadata": {},
   "outputs": [],
   "source": []
  }
 ],
 "metadata": {
  "kernelspec": {
   "display_name": "Python 3",
   "language": "python",
   "name": "python3"
  },
  "language_info": {
   "codemirror_mode": {
    "name": "ipython",
    "version": 3
   },
   "file_extension": ".py",
   "mimetype": "text/x-python",
   "name": "python",
   "nbconvert_exporter": "python",
   "pygments_lexer": "ipython3",
   "version": "3.6.3"
  }
 },
 "nbformat": 4,
 "nbformat_minor": 2
}
