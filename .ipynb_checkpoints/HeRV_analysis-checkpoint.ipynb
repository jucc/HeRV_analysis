{
 "cells": [
  {
   "cell_type": "code",
   "execution_count": 50,
   "metadata": {},
   "outputs": [
    {
     "name": "stdout",
     "output_type": "stream",
     "text": [
      "The autoreload extension is already loaded. To reload it, use:\n",
      "  %reload_ext autoreload\n"
     ]
    }
   ],
   "source": [
    "%load_ext autoreload\n",
    "%autoreload 2\n",
    "\n",
    "import numpy as np\n",
    "import matplotlib.pyplot as plt\n",
    "\n",
    "from sklearn import svm\n",
    "from sklearn.preprocessing import scale\n",
    "from sklearn.model_selection import StratifiedShuffleSplit, GridSearchCV\n",
    "\n",
    "import herv_preprocess as hpp"
   ]
  },
  {
   "cell_type": "markdown",
   "metadata": {},
   "source": [
    "### Parameter configuration"
   ]
  },
  {
   "cell_type": "code",
   "execution_count": 126,
   "metadata": {},
   "outputs": [],
   "source": [
    "# input data\n",
    "filename = 'data/304_sessions_e.csv'\n",
    "# k-fold cross validation (one in each k examples will be used for validation, the others for training)\n",
    "k = 5\n",
    "\n",
    "dtype = \"i4,U20,U5,f4,f4,f4,f4,f4,f4,f4,f4,f4,f4,f4,f4,f4,f4,f4,f4,f4,f4\"\n",
    "dtype = \"i4,U20,U5,f4,f4,f4,f4,f4,f4,f4,f4,f4,f4,f4,f4,f4,f4,f4\"\n",
    "dtype = \"i4,U20,U5,f4,f4,f4,f4,f4,f4,f4,f4,f4\"\n",
    "\n",
    "features=['AVGNN','SDNN','MeanHR','SDHR','MinHR','MaxHR','RMSSD','NNxx','pNNxx', 'triangularindex', 'TINN', 'powerVLF', 'powerLF', 'powerHF', 'ratioHFLF', 'peakVLF', 'peakLF', 'peakHF']"
   ]
  },
  {
   "cell_type": "markdown",
   "metadata": {},
   "source": [
    "### 1 - Extract data from the csv file and split it into labels and features"
   ]
  },
  {
   "cell_type": "code",
   "execution_count": 129,
   "metadata": {},
   "outputs": [
    {
     "name": "stdout",
     "output_type": "stream",
     "text": [
      "(#samples, #features) =  (300, 9)\n",
      "min and max values before scaling:  0.0 1135.40002441\n",
      "min and max values after scaling:  -2.67828367187 4.97289409218\n",
      "300\n"
     ]
    }
   ],
   "source": [
    "labels, examples = hpp.getData(filename, dtype)\n",
    "h1 = hpp.addHierarchy(labels, group1=('movement', 'household-chores'))#, name1='moving', name2='still')\n",
    "print(len(h1))"
   ]
  },
  {
   "cell_type": "code",
   "execution_count": 130,
   "metadata": {},
   "outputs": [
    {
     "name": "stdout",
     "output_type": "stream",
     "text": [
      "[{'activity': 'moving', 'examples': array([], shape=(0, 300, 9), dtype=float64)}, {'activity': 'still', 'examples': array([], shape=(0, 300, 9), dtype=float64)}]\n",
      "moving: 0 examples (0 for train and 0 for test)\n",
      "still: 0 examples (0 for train and 0 for test)\n",
      "\n",
      "Total: 0 train examples and 0 test examples \n"
     ]
    }
   ],
   "source": [
    "ltrain, ltest, ftrain, ftest = hpp.trainAndTestDatasets(h1, examples, k )"
   ]
  },
  {
   "cell_type": "markdown",
   "metadata": {},
   "source": [
    "### 2 - test classifiers with no cross validation and predefined parameters (C=1, $\\gamma$ = 0.01)"
   ]
  },
  {
   "cell_type": "code",
   "execution_count": 114,
   "metadata": {
    "scrolled": true
   },
   "outputs": [
    {
     "ename": "ValueError",
     "evalue": "Expected 2D array, got 1D array instead:\narray=[].\nReshape your data either using array.reshape(-1, 1) if your data has a single feature or array.reshape(1, -1) if it contains a single sample.",
     "output_type": "error",
     "traceback": [
      "\u001b[1;31m---------------------------------------------------------------------------\u001b[0m",
      "\u001b[1;31mValueError\u001b[0m                                Traceback (most recent call last)",
      "\u001b[1;32m<ipython-input-114-7a67dddcca05>\u001b[0m in \u001b[0;36m<module>\u001b[1;34m()\u001b[0m\n\u001b[0;32m      1\u001b[0m \u001b[0mclf1\u001b[0m \u001b[1;33m=\u001b[0m \u001b[0msvm\u001b[0m\u001b[1;33m.\u001b[0m\u001b[0mSVC\u001b[0m\u001b[1;33m(\u001b[0m\u001b[0mkernel\u001b[0m\u001b[1;33m=\u001b[0m\u001b[1;34m'linear'\u001b[0m\u001b[1;33m,\u001b[0m \u001b[0mcache_size\u001b[0m\u001b[1;33m=\u001b[0m\u001b[1;36m1000\u001b[0m\u001b[1;33m,\u001b[0m \u001b[0mC\u001b[0m\u001b[1;33m=\u001b[0m\u001b[1;36m10\u001b[0m\u001b[1;33m)\u001b[0m\u001b[1;33m\u001b[0m\u001b[0m\n\u001b[1;32m----> 2\u001b[1;33m \u001b[0mclf1\u001b[0m\u001b[1;33m.\u001b[0m\u001b[0mfit\u001b[0m\u001b[1;33m(\u001b[0m\u001b[0mX\u001b[0m\u001b[1;33m=\u001b[0m\u001b[0mftrain\u001b[0m\u001b[1;33m,\u001b[0m \u001b[0my\u001b[0m\u001b[1;33m=\u001b[0m\u001b[0mltrain\u001b[0m\u001b[1;33m)\u001b[0m\u001b[1;33m\u001b[0m\u001b[0m\n\u001b[0m\u001b[0;32m      3\u001b[0m \u001b[0mhpp\u001b[0m\u001b[1;33m.\u001b[0m\u001b[0mprintResults\u001b[0m\u001b[1;33m(\u001b[0m\u001b[0mltest\u001b[0m\u001b[1;33m,\u001b[0m \u001b[0mclf1\u001b[0m\u001b[1;33m.\u001b[0m\u001b[0mpredict\u001b[0m\u001b[1;33m(\u001b[0m\u001b[0mftest\u001b[0m\u001b[1;33m)\u001b[0m\u001b[1;33m)\u001b[0m\u001b[1;33m\u001b[0m\u001b[0m\n",
      "\u001b[1;32m~\\Anaconda3\\lib\\site-packages\\sklearn\\svm\\base.py\u001b[0m in \u001b[0;36mfit\u001b[1;34m(self, X, y, sample_weight)\u001b[0m\n\u001b[0;32m    147\u001b[0m         \u001b[0mself\u001b[0m\u001b[1;33m.\u001b[0m\u001b[0m_sparse\u001b[0m \u001b[1;33m=\u001b[0m \u001b[0msparse\u001b[0m \u001b[1;32mand\u001b[0m \u001b[1;32mnot\u001b[0m \u001b[0mcallable\u001b[0m\u001b[1;33m(\u001b[0m\u001b[0mself\u001b[0m\u001b[1;33m.\u001b[0m\u001b[0mkernel\u001b[0m\u001b[1;33m)\u001b[0m\u001b[1;33m\u001b[0m\u001b[0m\n\u001b[0;32m    148\u001b[0m \u001b[1;33m\u001b[0m\u001b[0m\n\u001b[1;32m--> 149\u001b[1;33m         \u001b[0mX\u001b[0m\u001b[1;33m,\u001b[0m \u001b[0my\u001b[0m \u001b[1;33m=\u001b[0m \u001b[0mcheck_X_y\u001b[0m\u001b[1;33m(\u001b[0m\u001b[0mX\u001b[0m\u001b[1;33m,\u001b[0m \u001b[0my\u001b[0m\u001b[1;33m,\u001b[0m \u001b[0mdtype\u001b[0m\u001b[1;33m=\u001b[0m\u001b[0mnp\u001b[0m\u001b[1;33m.\u001b[0m\u001b[0mfloat64\u001b[0m\u001b[1;33m,\u001b[0m \u001b[0morder\u001b[0m\u001b[1;33m=\u001b[0m\u001b[1;34m'C'\u001b[0m\u001b[1;33m,\u001b[0m \u001b[0maccept_sparse\u001b[0m\u001b[1;33m=\u001b[0m\u001b[1;34m'csr'\u001b[0m\u001b[1;33m)\u001b[0m\u001b[1;33m\u001b[0m\u001b[0m\n\u001b[0m\u001b[0;32m    150\u001b[0m         \u001b[0my\u001b[0m \u001b[1;33m=\u001b[0m \u001b[0mself\u001b[0m\u001b[1;33m.\u001b[0m\u001b[0m_validate_targets\u001b[0m\u001b[1;33m(\u001b[0m\u001b[0my\u001b[0m\u001b[1;33m)\u001b[0m\u001b[1;33m\u001b[0m\u001b[0m\n\u001b[0;32m    151\u001b[0m \u001b[1;33m\u001b[0m\u001b[0m\n",
      "\u001b[1;32m~\\Anaconda3\\lib\\site-packages\\sklearn\\utils\\validation.py\u001b[0m in \u001b[0;36mcheck_X_y\u001b[1;34m(X, y, accept_sparse, dtype, order, copy, force_all_finite, ensure_2d, allow_nd, multi_output, ensure_min_samples, ensure_min_features, y_numeric, warn_on_dtype, estimator)\u001b[0m\n\u001b[0;32m    540\u001b[0m     X = check_array(X, accept_sparse, dtype, order, copy, force_all_finite,\n\u001b[0;32m    541\u001b[0m                     \u001b[0mensure_2d\u001b[0m\u001b[1;33m,\u001b[0m \u001b[0mallow_nd\u001b[0m\u001b[1;33m,\u001b[0m \u001b[0mensure_min_samples\u001b[0m\u001b[1;33m,\u001b[0m\u001b[1;33m\u001b[0m\u001b[0m\n\u001b[1;32m--> 542\u001b[1;33m                     ensure_min_features, warn_on_dtype, estimator)\n\u001b[0m\u001b[0;32m    543\u001b[0m     \u001b[1;32mif\u001b[0m \u001b[0mmulti_output\u001b[0m\u001b[1;33m:\u001b[0m\u001b[1;33m\u001b[0m\u001b[0m\n\u001b[0;32m    544\u001b[0m         y = check_array(y, 'csr', force_all_finite=True, ensure_2d=False,\n",
      "\u001b[1;32m~\\Anaconda3\\lib\\site-packages\\sklearn\\utils\\validation.py\u001b[0m in \u001b[0;36mcheck_array\u001b[1;34m(array, accept_sparse, dtype, order, copy, force_all_finite, ensure_2d, allow_nd, ensure_min_samples, ensure_min_features, warn_on_dtype, estimator)\u001b[0m\n\u001b[0;32m    408\u001b[0m                     \u001b[1;34m\"Reshape your data either using array.reshape(-1, 1) if \"\u001b[0m\u001b[1;33m\u001b[0m\u001b[0m\n\u001b[0;32m    409\u001b[0m                     \u001b[1;34m\"your data has a single feature or array.reshape(1, -1) \"\u001b[0m\u001b[1;33m\u001b[0m\u001b[0m\n\u001b[1;32m--> 410\u001b[1;33m                     \"if it contains a single sample.\".format(array))\n\u001b[0m\u001b[0;32m    411\u001b[0m             \u001b[0marray\u001b[0m \u001b[1;33m=\u001b[0m \u001b[0mnp\u001b[0m\u001b[1;33m.\u001b[0m\u001b[0matleast_2d\u001b[0m\u001b[1;33m(\u001b[0m\u001b[0marray\u001b[0m\u001b[1;33m)\u001b[0m\u001b[1;33m\u001b[0m\u001b[0m\n\u001b[0;32m    412\u001b[0m             \u001b[1;31m# To ensure that array flags are maintained\u001b[0m\u001b[1;33m\u001b[0m\u001b[1;33m\u001b[0m\u001b[0m\n",
      "\u001b[1;31mValueError\u001b[0m: Expected 2D array, got 1D array instead:\narray=[].\nReshape your data either using array.reshape(-1, 1) if your data has a single feature or array.reshape(1, -1) if it contains a single sample."
     ]
    }
   ],
   "source": [
    "clf1 = svm.SVC(kernel='linear', cache_size=1000, C=10)\n",
    "clf1.fit(X=ftrain, y=ltrain)\n",
    "hpp.printResults(ltest, clf1.predict(ftest))"
   ]
  },
  {
   "cell_type": "code",
   "execution_count": 111,
   "metadata": {},
   "outputs": [
    {
     "name": "stdout",
     "output_type": "stream",
     "text": [
      "expected\t\tresult\n",
      "------------------------------\n",
      "g1\t\tg1\n",
      "g1\t\tg1\n",
      "g1\t\tg2\n",
      "g1\t\tg1\n",
      "g1\t\tg2\n",
      "g1\t\tg2\n",
      "g1\t\tg2\n",
      "g1\t\tg2\n",
      "g1\t\tg1\n",
      "g1\t\tg1\n",
      "g1\t\tg1\n",
      "g1\t\tg1\n",
      "g1\t\tg1\n",
      "g1\t\tg1\n",
      "g2\t\tg2\n",
      "g2\t\tg2\n",
      "g2\t\tg2\n",
      "g2\t\tg2\n",
      "g2\t\tg2\n",
      "g2\t\tg2\n",
      "g2\t\tg2\n",
      "g2\t\tg2\n",
      "g2\t\tg2\n",
      "g2\t\tg2\n",
      "g2\t\tg2\n",
      "g2\t\tg2\n",
      "g2\t\tg2\n",
      "g2\t\tg2\n",
      "g2\t\tg1\n",
      "g2\t\tg1\n",
      "g2\t\tg2\n",
      "g2\t\tg2\n",
      "g2\t\tg2\n",
      "g2\t\tg2\n",
      "g2\t\tg2\n",
      "g2\t\tg2\n",
      "g2\t\tg2\n",
      "g2\t\tg2\n",
      "g2\t\tg2\n",
      "g2\t\tg2\n",
      "g2\t\tg1\n",
      "g2\t\tg2\n",
      "g2\t\tg2\n",
      "g2\t\tg2\n",
      "g2\t\tg2\n",
      "g2\t\tg1\n",
      "g2\t\tg1\n",
      "g2\t\tg2\n",
      "g2\t\tg2\n",
      "g2\t\tg2\n",
      "g2\t\tg2\n",
      "g2\t\tg2\n",
      "g2\t\tg2\n",
      "g2\t\tg2\n",
      "g2\t\tg2\n",
      "g2\t\tg2\n",
      "g2\t\tg2\n",
      "g2\t\tg2\n",
      "g2\t\tg2\n",
      "g2\t\tg2\n",
      "------\n",
      "Got 50 out of 60 right! :)\n"
     ]
    }
   ],
   "source": [
    "clf2 = svm.SVC(kernel='rbf', cache_size=1000, C=1, gamma=0.01)\n",
    "clf2.fit(X=ftrain, y=ltrain)\n",
    "hpp.printResults(ltest, clf2.predict(ftest))"
   ]
  },
  {
   "cell_type": "markdown",
   "metadata": {},
   "source": [
    "### 3 - Model selection:  Perform an exhaustive search, with k-fold cross-validation,  in the space parameter consisting of:\n",
    "* $C = 10^{i}, com -1 \\leq i \\leq 6$, for both linear and RBF kernels\n",
    "* $\\gamma = 10^{i}, com -3 \\leq i \\leq 3$, for RBF kernel."
   ]
  },
  {
   "cell_type": "code",
   "execution_count": 94,
   "metadata": {},
   "outputs": [],
   "source": [
    "crossval = StratifiedShuffleSplit(n_splits=k-1, test_size=0.2)\n",
    "\n",
    "# C varies from 10^(-1) to 10^6, gamma from 10^(-3) to 10^3\n",
    "c_range = np.logspace(-1, 2, 4) \n",
    "gamma_range = np.logspace(-2, 1, 4)\n",
    "\n",
    "param_lin=dict(C=c_range)\n",
    "param_rbf=dict(C=c_range, gamma=gamma_range)\n"
   ]
  },
  {
   "cell_type": "code",
   "execution_count": 99,
   "metadata": {},
   "outputs": [
    {
     "name": "stdout",
     "output_type": "stream",
     "text": [
      "Kernel linear --- \n",
      "Best params: {'C': 0.10000000000000001} with score 0.87245\n"
     ]
    }
   ],
   "source": [
    "grid_lin = GridSearchCV(svm.SVC(kernel='linear', cache_size=1000), param_grid=param_lin, cv=crossval)\n",
    "grid_lin.fit(X=ftrain, y=ltrain)\n",
    "\n",
    "print(\"Kernel linear --- \")\n",
    "print(\"Best params: %s with score %0.5f\" % (grid_lin.best_params_, grid_lin.best_score_))"
   ]
  },
  {
   "cell_type": "code",
   "execution_count": 100,
   "metadata": {},
   "outputs": [
    {
     "name": "stdout",
     "output_type": "stream",
     "text": [
      "Kernel RBF --- \n",
      "Best params: {'C': 1.0, 'gamma': 0.01} with score 0.88776\n"
     ]
    }
   ],
   "source": [
    "grid_rbf = GridSearchCV(svm.SVC(kernel='rbf', cache_size=1000), param_grid=param_rbf, cv=crossval)\n",
    "grid_rbf.fit(X=ftrain, y=ltrain)\n",
    "\n",
    "print(\"Kernel RBF --- \")\n",
    "print(\"Best params: %s with score %0.5f\" % (grid_rbf.best_params_, grid_rbf.best_score_))"
   ]
  },
  {
   "cell_type": "code",
   "execution_count": null,
   "metadata": {},
   "outputs": [],
   "source": []
  },
  {
   "cell_type": "code",
   "execution_count": null,
   "metadata": {
    "collapsed": true
   },
   "outputs": [],
   "source": []
  },
  {
   "cell_type": "code",
   "execution_count": null,
   "metadata": {},
   "outputs": [],
   "source": []
  },
  {
   "cell_type": "code",
   "execution_count": null,
   "metadata": {},
   "outputs": [],
   "source": []
  },
  {
   "cell_type": "code",
   "execution_count": null,
   "metadata": {
    "collapsed": true
   },
   "outputs": [],
   "source": []
  }
 ],
 "metadata": {
  "kernelspec": {
   "display_name": "Python 3",
   "language": "python",
   "name": "python3"
  },
  "language_info": {
   "codemirror_mode": {
    "name": "ipython",
    "version": 3
   },
   "file_extension": ".py",
   "mimetype": "text/x-python",
   "name": "python",
   "nbconvert_exporter": "python",
   "pygments_lexer": "ipython3",
   "version": "3.6.2"
  }
 },
 "nbformat": 4,
 "nbformat_minor": 2
}
