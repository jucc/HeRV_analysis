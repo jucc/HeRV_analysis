{
 "cells": [
  {
   "cell_type": "code",
   "execution_count": 6,
   "metadata": {},
   "outputs": [
    {
     "name": "stdout",
     "output_type": "stream",
     "text": [
      "The autoreload extension is already loaded. To reload it, use:\n",
      "  %reload_ext autoreload\n"
     ]
    }
   ],
   "source": [
    "%load_ext autoreload\n",
    "%autoreload 2\n",
    "%matplotlib inline  \n",
    "\n",
    "import pandas as pd\n",
    "import numpy as np\n",
    "import matplotlib.pyplot as plt\n",
    "\n",
    "from sklearn import svm\n",
    "from sklearn.preprocessing import scale\n",
    "from sklearn.model_selection import StratifiedShuffleSplit, GridSearchCV, train_test_split\n",
    "\n",
    "import hervpd as hp\n",
    "import plotReport as pr"
   ]
  },
  {
   "cell_type": "code",
   "execution_count": 7,
   "metadata": {},
   "outputs": [
    {
     "data": {
      "text/html": [
       "<div>\n",
       "<style>\n",
       "    .dataframe thead tr:only-child th {\n",
       "        text-align: right;\n",
       "    }\n",
       "\n",
       "    .dataframe thead th {\n",
       "        text-align: left;\n",
       "    }\n",
       "\n",
       "    .dataframe tbody tr th {\n",
       "        vertical-align: top;\n",
       "    }\n",
       "</style>\n",
       "<table border=\"1\" class=\"dataframe\">\n",
       "  <thead>\n",
       "    <tr style=\"text-align: right;\">\n",
       "      <th></th>\n",
       "      <th>user</th>\n",
       "      <th>AVGNN</th>\n",
       "      <th>SDNN</th>\n",
       "      <th>MeanHR</th>\n",
       "      <th>MinHR</th>\n",
       "      <th>MaxHR</th>\n",
       "      <th>RMSSD</th>\n",
       "      <th>pNNxx</th>\n",
       "      <th>TINN</th>\n",
       "      <th>powerVLF</th>\n",
       "      <th>powerLF</th>\n",
       "      <th>powerHF</th>\n",
       "      <th>ratioHFLF</th>\n",
       "    </tr>\n",
       "  </thead>\n",
       "  <tbody>\n",
       "    <tr>\n",
       "      <th>count</th>\n",
       "      <td>544.000000</td>\n",
       "      <td>544.000000</td>\n",
       "      <td>544.000000</td>\n",
       "      <td>544.00000</td>\n",
       "      <td>544.000000</td>\n",
       "      <td>544.000000</td>\n",
       "      <td>544.000000</td>\n",
       "      <td>544.000000</td>\n",
       "      <td>544.000000</td>\n",
       "      <td>544.000000</td>\n",
       "      <td>544.000000</td>\n",
       "      <td>544.000000</td>\n",
       "      <td>544.000000</td>\n",
       "    </tr>\n",
       "    <tr>\n",
       "      <th>mean</th>\n",
       "      <td>1.187500</td>\n",
       "      <td>758.600000</td>\n",
       "      <td>72.865018</td>\n",
       "      <td>81.37714</td>\n",
       "      <td>67.362033</td>\n",
       "      <td>108.560417</td>\n",
       "      <td>46.409227</td>\n",
       "      <td>20.082227</td>\n",
       "      <td>358.020221</td>\n",
       "      <td>2877.387599</td>\n",
       "      <td>1423.919671</td>\n",
       "      <td>1000.824001</td>\n",
       "      <td>2.753764</td>\n",
       "    </tr>\n",
       "    <tr>\n",
       "      <th>std</th>\n",
       "      <td>0.913249</td>\n",
       "      <td>129.785003</td>\n",
       "      <td>32.960406</td>\n",
       "      <td>13.75457</td>\n",
       "      <td>10.849680</td>\n",
       "      <td>36.385572</td>\n",
       "      <td>32.537407</td>\n",
       "      <td>18.316263</td>\n",
       "      <td>146.885899</td>\n",
       "      <td>3619.576847</td>\n",
       "      <td>1443.217366</td>\n",
       "      <td>1841.656665</td>\n",
       "      <td>2.296974</td>\n",
       "    </tr>\n",
       "    <tr>\n",
       "      <th>min</th>\n",
       "      <td>0.000000</td>\n",
       "      <td>475.730000</td>\n",
       "      <td>17.833000</td>\n",
       "      <td>51.62800</td>\n",
       "      <td>41.437000</td>\n",
       "      <td>58.117000</td>\n",
       "      <td>4.882500</td>\n",
       "      <td>0.000000</td>\n",
       "      <td>83.000000</td>\n",
       "      <td>85.654000</td>\n",
       "      <td>57.852000</td>\n",
       "      <td>7.977700</td>\n",
       "      <td>0.154680</td>\n",
       "    </tr>\n",
       "    <tr>\n",
       "      <th>25%</th>\n",
       "      <td>0.000000</td>\n",
       "      <td>670.362500</td>\n",
       "      <td>51.871500</td>\n",
       "      <td>73.23225</td>\n",
       "      <td>60.292750</td>\n",
       "      <td>91.470250</td>\n",
       "      <td>27.438750</td>\n",
       "      <td>6.593075</td>\n",
       "      <td>258.000000</td>\n",
       "      <td>995.182500</td>\n",
       "      <td>591.307500</td>\n",
       "      <td>258.917500</td>\n",
       "      <td>1.257000</td>\n",
       "    </tr>\n",
       "    <tr>\n",
       "      <th>50%</th>\n",
       "      <td>2.000000</td>\n",
       "      <td>750.545000</td>\n",
       "      <td>67.057000</td>\n",
       "      <td>79.94200</td>\n",
       "      <td>66.181500</td>\n",
       "      <td>100.520000</td>\n",
       "      <td>37.994500</td>\n",
       "      <td>15.417500</td>\n",
       "      <td>339.000000</td>\n",
       "      <td>1807.950000</td>\n",
       "      <td>1040.350000</td>\n",
       "      <td>512.090000</td>\n",
       "      <td>2.037350</td>\n",
       "    </tr>\n",
       "    <tr>\n",
       "      <th>75%</th>\n",
       "      <td>2.000000</td>\n",
       "      <td>819.307500</td>\n",
       "      <td>85.820000</td>\n",
       "      <td>89.50400</td>\n",
       "      <td>74.285250</td>\n",
       "      <td>112.580000</td>\n",
       "      <td>54.762250</td>\n",
       "      <td>26.790500</td>\n",
       "      <td>426.250000</td>\n",
       "      <td>3304.250000</td>\n",
       "      <td>1697.950000</td>\n",
       "      <td>960.045000</td>\n",
       "      <td>3.579975</td>\n",
       "    </tr>\n",
       "    <tr>\n",
       "      <th>max</th>\n",
       "      <td>2.000000</td>\n",
       "      <td>1162.200000</td>\n",
       "      <td>264.250000</td>\n",
       "      <td>126.12000</td>\n",
       "      <td>104.900000</td>\n",
       "      <td>550.320000</td>\n",
       "      <td>240.470000</td>\n",
       "      <td>98.232000</td>\n",
       "      <td>1103.000000</td>\n",
       "      <td>29716.000000</td>\n",
       "      <td>12958.000000</td>\n",
       "      <td>16103.000000</td>\n",
       "      <td>18.228000</td>\n",
       "    </tr>\n",
       "  </tbody>\n",
       "</table>\n",
       "</div>"
      ],
      "text/plain": [
       "             user        AVGNN        SDNN     MeanHR       MinHR       MaxHR  \\\n",
       "count  544.000000   544.000000  544.000000  544.00000  544.000000  544.000000   \n",
       "mean     1.187500   758.600000   72.865018   81.37714   67.362033  108.560417   \n",
       "std      0.913249   129.785003   32.960406   13.75457   10.849680   36.385572   \n",
       "min      0.000000   475.730000   17.833000   51.62800   41.437000   58.117000   \n",
       "25%      0.000000   670.362500   51.871500   73.23225   60.292750   91.470250   \n",
       "50%      2.000000   750.545000   67.057000   79.94200   66.181500  100.520000   \n",
       "75%      2.000000   819.307500   85.820000   89.50400   74.285250  112.580000   \n",
       "max      2.000000  1162.200000  264.250000  126.12000  104.900000  550.320000   \n",
       "\n",
       "            RMSSD       pNNxx         TINN      powerVLF       powerLF  \\\n",
       "count  544.000000  544.000000   544.000000    544.000000    544.000000   \n",
       "mean    46.409227   20.082227   358.020221   2877.387599   1423.919671   \n",
       "std     32.537407   18.316263   146.885899   3619.576847   1443.217366   \n",
       "min      4.882500    0.000000    83.000000     85.654000     57.852000   \n",
       "25%     27.438750    6.593075   258.000000    995.182500    591.307500   \n",
       "50%     37.994500   15.417500   339.000000   1807.950000   1040.350000   \n",
       "75%     54.762250   26.790500   426.250000   3304.250000   1697.950000   \n",
       "max    240.470000   98.232000  1103.000000  29716.000000  12958.000000   \n",
       "\n",
       "            powerHF   ratioHFLF  \n",
       "count    544.000000  544.000000  \n",
       "mean    1000.824001    2.753764  \n",
       "std     1841.656665    2.296974  \n",
       "min        7.977700    0.154680  \n",
       "25%      258.917500    1.257000  \n",
       "50%      512.090000    2.037350  \n",
       "75%      960.045000    3.579975  \n",
       "max    16103.000000   18.228000  "
      ]
     },
     "execution_count": 7,
     "metadata": {},
     "output_type": "execute_result"
    }
   ],
   "source": [
    "df = pd.read_csv( 'data/12features/combined.csv')\n",
    "df.describe()"
   ]
  },
  {
   "cell_type": "code",
   "execution_count": 8,
   "metadata": {},
   "outputs": [
    {
     "data": {
      "image/png": "[encoded data removed]",
      "text/plain": [
       "<matplotlib.figure.Figure at 0x7f48e0f36630>"
      ]
     },
     "metadata": {},
     "output_type": "display_data"
    }
   ],
   "source": [
    "hp.plot_count(df, 'activity')"
   ]
  },
  {
   "cell_type": "code",
   "execution_count": 10,
   "metadata": {},
   "outputs": [
    {
     "name": "stdout",
     "output_type": "stream",
     "text": [
      "['eat' 'focused-active' 'focused-passive' 'household-chores'\n",
      " 'leisure-passive' 'movement' 'sleep']\n"
     ]
    }
   ],
   "source": [
    "# exclude activities with too little representation\n",
    "df = hp.filter_out(df, 'activity', ['rest-active', 'leisure-active'])\n",
    "print(df.activity.unique())"
   ]
  },
  {
   "cell_type": "code",
   "execution_count": 12,
   "metadata": {},
   "outputs": [
    {
     "data": {
      "text/html": [
       "<div>\n",
       "<style>\n",
       "    .dataframe thead tr:only-child th {\n",
       "        text-align: right;\n",
       "    }\n",
       "\n",
       "    .dataframe thead th {\n",
       "        text-align: left;\n",
       "    }\n",
       "\n",
       "    .dataframe tbody tr th {\n",
       "        vertical-align: top;\n",
       "    }\n",
       "</style>\n",
       "<table border=\"1\" class=\"dataframe\">\n",
       "  <thead>\n",
       "    <tr style=\"text-align: right;\">\n",
       "      <th></th>\n",
       "      <th>user</th>\n",
       "      <th>activity</th>\n",
       "      <th>posture</th>\n",
       "      <th>AVGNN</th>\n",
       "      <th>SDNN</th>\n",
       "      <th>MeanHR</th>\n",
       "      <th>MinHR</th>\n",
       "      <th>MaxHR</th>\n",
       "      <th>RMSSD</th>\n",
       "      <th>pNNxx</th>\n",
       "      <th>TINN</th>\n",
       "      <th>powerVLF</th>\n",
       "      <th>powerLF</th>\n",
       "      <th>powerHF</th>\n",
       "      <th>ratioHFLF</th>\n",
       "      <th>move</th>\n",
       "      <th>sleep</th>\n",
       "    </tr>\n",
       "  </thead>\n",
       "  <tbody>\n",
       "    <tr>\n",
       "      <th>324</th>\n",
       "      <td>2</td>\n",
       "      <td>focused-active</td>\n",
       "      <td>sit</td>\n",
       "      <td>889.05</td>\n",
       "      <td>80.213</td>\n",
       "      <td>67.488</td>\n",
       "      <td>59.488</td>\n",
       "      <td>94.787</td>\n",
       "      <td>59.683</td>\n",
       "      <td>34.5240</td>\n",
       "      <td>364</td>\n",
       "      <td>1237.80</td>\n",
       "      <td>1437.50</td>\n",
       "      <td>1318.00</td>\n",
       "      <td>1.0910</td>\n",
       "      <td>still</td>\n",
       "      <td>wake</td>\n",
       "    </tr>\n",
       "    <tr>\n",
       "      <th>244</th>\n",
       "      <td>1</td>\n",
       "      <td>leisure-passive</td>\n",
       "      <td>sit</td>\n",
       "      <td>799.30</td>\n",
       "      <td>65.810</td>\n",
       "      <td>75.066</td>\n",
       "      <td>65.617</td>\n",
       "      <td>92.490</td>\n",
       "      <td>37.050</td>\n",
       "      <td>15.2000</td>\n",
       "      <td>292</td>\n",
       "      <td>2502.50</td>\n",
       "      <td>955.46</td>\n",
       "      <td>528.51</td>\n",
       "      <td>1.8078</td>\n",
       "      <td>still</td>\n",
       "      <td>wake</td>\n",
       "    </tr>\n",
       "    <tr>\n",
       "      <th>523</th>\n",
       "      <td>2</td>\n",
       "      <td>sleep</td>\n",
       "      <td>lie</td>\n",
       "      <td>924.23</td>\n",
       "      <td>136.410</td>\n",
       "      <td>64.919</td>\n",
       "      <td>51.458</td>\n",
       "      <td>86.931</td>\n",
       "      <td>61.432</td>\n",
       "      <td>25.6170</td>\n",
       "      <td>692</td>\n",
       "      <td>18418.00</td>\n",
       "      <td>3246.20</td>\n",
       "      <td>811.34</td>\n",
       "      <td>4.0010</td>\n",
       "      <td>still</td>\n",
       "      <td>sleep</td>\n",
       "    </tr>\n",
       "    <tr>\n",
       "      <th>83</th>\n",
       "      <td>0</td>\n",
       "      <td>household-chores</td>\n",
       "      <td>stand</td>\n",
       "      <td>575.96</td>\n",
       "      <td>63.002</td>\n",
       "      <td>104.170</td>\n",
       "      <td>80.819</td>\n",
       "      <td>202.130</td>\n",
       "      <td>41.379</td>\n",
       "      <td>6.3707</td>\n",
       "      <td>533</td>\n",
       "      <td>413.27</td>\n",
       "      <td>460.09</td>\n",
       "      <td>160.55</td>\n",
       "      <td>2.8656</td>\n",
       "      <td>move</td>\n",
       "      <td>wake</td>\n",
       "    </tr>\n",
       "    <tr>\n",
       "      <th>533</th>\n",
       "      <td>2</td>\n",
       "      <td>sleep</td>\n",
       "      <td>lie</td>\n",
       "      <td>1134.80</td>\n",
       "      <td>56.378</td>\n",
       "      <td>52.871</td>\n",
       "      <td>48.015</td>\n",
       "      <td>60.976</td>\n",
       "      <td>49.659</td>\n",
       "      <td>31.5590</td>\n",
       "      <td>288</td>\n",
       "      <td>1006.00</td>\n",
       "      <td>524.16</td>\n",
       "      <td>623.65</td>\n",
       "      <td>0.8400</td>\n",
       "      <td>still</td>\n",
       "      <td>sleep</td>\n",
       "    </tr>\n",
       "    <tr>\n",
       "      <th>480</th>\n",
       "      <td>2</td>\n",
       "      <td>movement</td>\n",
       "      <td>stand</td>\n",
       "      <td>723.38</td>\n",
       "      <td>66.570</td>\n",
       "      <td>82.944</td>\n",
       "      <td>67.950</td>\n",
       "      <td>98.587</td>\n",
       "      <td>22.295</td>\n",
       "      <td>4.1063</td>\n",
       "      <td>277</td>\n",
       "      <td>2163.10</td>\n",
       "      <td>1000.50</td>\n",
       "      <td>271.94</td>\n",
       "      <td>3.6790</td>\n",
       "      <td>move</td>\n",
       "      <td>wake</td>\n",
       "    </tr>\n",
       "  </tbody>\n",
       "</table>\n",
       "</div>"
      ],
      "text/plain": [
       "     user          activity posture    AVGNN     SDNN   MeanHR   MinHR  \\\n",
       "324     2    focused-active     sit   889.05   80.213   67.488  59.488   \n",
       "244     1   leisure-passive     sit   799.30   65.810   75.066  65.617   \n",
       "523     2             sleep     lie   924.23  136.410   64.919  51.458   \n",
       "83      0  household-chores   stand   575.96   63.002  104.170  80.819   \n",
       "533     2             sleep     lie  1134.80   56.378   52.871  48.015   \n",
       "480     2          movement   stand   723.38   66.570   82.944  67.950   \n",
       "\n",
       "       MaxHR   RMSSD    pNNxx  TINN  powerVLF  powerLF  powerHF  ratioHFLF  \\\n",
       "324   94.787  59.683  34.5240   364   1237.80  1437.50  1318.00     1.0910   \n",
       "244   92.490  37.050  15.2000   292   2502.50   955.46   528.51     1.8078   \n",
       "523   86.931  61.432  25.6170   692  18418.00  3246.20   811.34     4.0010   \n",
       "83   202.130  41.379   6.3707   533    413.27   460.09   160.55     2.8656   \n",
       "533   60.976  49.659  31.5590   288   1006.00   524.16   623.65     0.8400   \n",
       "480   98.587  22.295   4.1063   277   2163.10  1000.50   271.94     3.6790   \n",
       "\n",
       "      move  sleep  \n",
       "324  still   wake  \n",
       "244  still   wake  \n",
       "523  still  sleep  \n",
       "83    move   wake  \n",
       "533  still  sleep  \n",
       "480   move   wake  "
      ]
     },
     "execution_count": 12,
     "metadata": {},
     "output_type": "execute_result"
    }
   ],
   "source": [
    "movelist = ['exercise-high', 'exercise-low', 'movement', 'household-chores']\n",
    "df = hp.add_partition(df, movelist, pname='move', labelIn='move', labelOut='still')\n",
    "    \n",
    "sleeplist = ['sleep']\n",
    "df = hp.add_partition(df, sleeplist, pname='sleep', labelIn='sleep', labelOut='wake')\n",
    "\n",
    "df.sample(6)"
   ]
  },
  {
   "cell_type": "markdown",
   "metadata": {},
   "source": [
    "### Apply scale to make all features turn to gaussians with mean = 0 and SD = 1. That will allow SVM kernels not to put too much weight on features with larger values."
   ]
  },
  {
   "cell_type": "code",
   "execution_count": 13,
   "metadata": {},
   "outputs": [
    {
     "data": {
      "text/html": [
       "<div>\n",
       "<style>\n",
       "    .dataframe thead tr:only-child th {\n",
       "        text-align: right;\n",
       "    }\n",
       "\n",
       "    .dataframe thead th {\n",
       "        text-align: left;\n",
       "    }\n",
       "\n",
       "    .dataframe tbody tr th {\n",
       "        vertical-align: top;\n",
       "    }\n",
       "</style>\n",
       "<table border=\"1\" class=\"dataframe\">\n",
       "  <thead>\n",
       "    <tr style=\"text-align: right;\">\n",
       "      <th></th>\n",
       "      <th>user</th>\n",
       "      <th>AVGNN</th>\n",
       "      <th>SDNN</th>\n",
       "      <th>MeanHR</th>\n",
       "      <th>MinHR</th>\n",
       "      <th>MaxHR</th>\n",
       "      <th>RMSSD</th>\n",
       "      <th>pNNxx</th>\n",
       "      <th>TINN</th>\n",
       "      <th>powerVLF</th>\n",
       "      <th>powerLF</th>\n",
       "      <th>powerHF</th>\n",
       "      <th>ratioHFLF</th>\n",
       "    </tr>\n",
       "  </thead>\n",
       "  <tbody>\n",
       "    <tr>\n",
       "      <th>count</th>\n",
       "      <td>511.000000</td>\n",
       "      <td>5.110000e+02</td>\n",
       "      <td>5.110000e+02</td>\n",
       "      <td>5.110000e+02</td>\n",
       "      <td>5.110000e+02</td>\n",
       "      <td>5.110000e+02</td>\n",
       "      <td>5.110000e+02</td>\n",
       "      <td>5.110000e+02</td>\n",
       "      <td>5.110000e+02</td>\n",
       "      <td>5.110000e+02</td>\n",
       "      <td>5.110000e+02</td>\n",
       "      <td>5.110000e+02</td>\n",
       "      <td>5.110000e+02</td>\n",
       "    </tr>\n",
       "    <tr>\n",
       "      <th>mean</th>\n",
       "      <td>1.189824</td>\n",
       "      <td>-1.929311e-16</td>\n",
       "      <td>-3.006945e-16</td>\n",
       "      <td>-9.942036e-16</td>\n",
       "      <td>9.194645e-16</td>\n",
       "      <td>9.059941e-17</td>\n",
       "      <td>1.342696e-16</td>\n",
       "      <td>1.040698e-16</td>\n",
       "      <td>1.042871e-17</td>\n",
       "      <td>1.142813e-16</td>\n",
       "      <td>-5.170902e-17</td>\n",
       "      <td>4.160621e-17</td>\n",
       "      <td>8.549369e-17</td>\n",
       "    </tr>\n",
       "    <tr>\n",
       "      <th>std</th>\n",
       "      <td>0.908119</td>\n",
       "      <td>1.000980e+00</td>\n",
       "      <td>1.000980e+00</td>\n",
       "      <td>1.000980e+00</td>\n",
       "      <td>1.000980e+00</td>\n",
       "      <td>1.000980e+00</td>\n",
       "      <td>1.000980e+00</td>\n",
       "      <td>1.000980e+00</td>\n",
       "      <td>1.000980e+00</td>\n",
       "      <td>1.000980e+00</td>\n",
       "      <td>1.000980e+00</td>\n",
       "      <td>1.000980e+00</td>\n",
       "      <td>1.000980e+00</td>\n",
       "    </tr>\n",
       "    <tr>\n",
       "      <th>min</th>\n",
       "      <td>0.000000</td>\n",
       "      <td>-2.137055e+00</td>\n",
       "      <td>-1.676670e+00</td>\n",
       "      <td>-2.137750e+00</td>\n",
       "      <td>-2.362415e+00</td>\n",
       "      <td>-1.373772e+00</td>\n",
       "      <td>-1.313777e+00</td>\n",
       "      <td>-1.109950e+00</td>\n",
       "      <td>-1.888086e+00</td>\n",
       "      <td>-7.717804e-01</td>\n",
       "      <td>-9.417885e-01</td>\n",
       "      <td>-5.493034e-01</td>\n",
       "      <td>-1.136800e+00</td>\n",
       "    </tr>\n",
       "    <tr>\n",
       "      <th>25%</th>\n",
       "      <td>0.000000</td>\n",
       "      <td>-6.838934e-01</td>\n",
       "      <td>-6.304033e-01</td>\n",
       "      <td>-6.195035e-01</td>\n",
       "      <td>-6.799283e-01</td>\n",
       "      <td>-4.801817e-01</td>\n",
       "      <td>-6.038868e-01</td>\n",
       "      <td>-7.468693e-01</td>\n",
       "      <td>-6.732240e-01</td>\n",
       "      <td>-5.177532e-01</td>\n",
       "      <td>-5.741279e-01</td>\n",
       "      <td>-4.118293e-01</td>\n",
       "      <td>-6.640603e-01</td>\n",
       "    </tr>\n",
       "    <tr>\n",
       "      <th>50%</th>\n",
       "      <td>2.000000</td>\n",
       "      <td>-7.328069e-02</td>\n",
       "      <td>-1.541356e-01</td>\n",
       "      <td>-9.631318e-02</td>\n",
       "      <td>-1.142624e-01</td>\n",
       "      <td>-2.201270e-01</td>\n",
       "      <td>-2.565619e-01</td>\n",
       "      <td>-2.462851e-01</td>\n",
       "      <td>-1.135686e-01</td>\n",
       "      <td>-2.944213e-01</td>\n",
       "      <td>-2.761460e-01</td>\n",
       "      <td>-2.664865e-01</td>\n",
       "      <td>-3.093413e-01</td>\n",
       "    </tr>\n",
       "    <tr>\n",
       "      <th>75%</th>\n",
       "      <td>2.000000</td>\n",
       "      <td>4.979229e-01</td>\n",
       "      <td>3.897935e-01</td>\n",
       "      <td>5.933614e-01</td>\n",
       "      <td>6.604105e-01</td>\n",
       "      <td>1.002332e-01</td>\n",
       "      <td>2.880550e-01</td>\n",
       "      <td>3.975070e-01</td>\n",
       "      <td>4.631495e-01</td>\n",
       "      <td>1.211459e-01</td>\n",
       "      <td>1.844318e-01</td>\n",
       "      <td>-1.089094e-02</td>\n",
       "      <td>3.844003e-01</td>\n",
       "    </tr>\n",
       "    <tr>\n",
       "      <th>max</th>\n",
       "      <td>2.000000</td>\n",
       "      <td>3.075496e+00</td>\n",
       "      <td>5.793283e+00</td>\n",
       "      <td>3.172352e+00</td>\n",
       "      <td>3.393374e+00</td>\n",
       "      <td>1.182139e+01</td>\n",
       "      <td>6.151021e+00</td>\n",
       "      <td>4.306605e+00</td>\n",
       "      <td>5.073482e+00</td>\n",
       "      <td>7.403906e+00</td>\n",
       "      <td>7.882036e+00</td>\n",
       "      <td>8.543813e+00</td>\n",
       "      <td>6.582587e+00</td>\n",
       "    </tr>\n",
       "  </tbody>\n",
       "</table>\n",
       "</div>"
      ],
      "text/plain": [
       "             user         AVGNN          SDNN        MeanHR         MinHR  \\\n",
       "count  511.000000  5.110000e+02  5.110000e+02  5.110000e+02  5.110000e+02   \n",
       "mean     1.189824 -1.929311e-16 -3.006945e-16 -9.942036e-16  9.194645e-16   \n",
       "std      0.908119  1.000980e+00  1.000980e+00  1.000980e+00  1.000980e+00   \n",
       "min      0.000000 -2.137055e+00 -1.676670e+00 -2.137750e+00 -2.362415e+00   \n",
       "25%      0.000000 -6.838934e-01 -6.304033e-01 -6.195035e-01 -6.799283e-01   \n",
       "50%      2.000000 -7.328069e-02 -1.541356e-01 -9.631318e-02 -1.142624e-01   \n",
       "75%      2.000000  4.979229e-01  3.897935e-01  5.933614e-01  6.604105e-01   \n",
       "max      2.000000  3.075496e+00  5.793283e+00  3.172352e+00  3.393374e+00   \n",
       "\n",
       "              MaxHR         RMSSD         pNNxx          TINN      powerVLF  \\\n",
       "count  5.110000e+02  5.110000e+02  5.110000e+02  5.110000e+02  5.110000e+02   \n",
       "mean   9.059941e-17  1.342696e-16  1.040698e-16  1.042871e-17  1.142813e-16   \n",
       "std    1.000980e+00  1.000980e+00  1.000980e+00  1.000980e+00  1.000980e+00   \n",
       "min   -1.373772e+00 -1.313777e+00 -1.109950e+00 -1.888086e+00 -7.717804e-01   \n",
       "25%   -4.801817e-01 -6.038868e-01 -7.468693e-01 -6.732240e-01 -5.177532e-01   \n",
       "50%   -2.201270e-01 -2.565619e-01 -2.462851e-01 -1.135686e-01 -2.944213e-01   \n",
       "75%    1.002332e-01  2.880550e-01  3.975070e-01  4.631495e-01  1.211459e-01   \n",
       "max    1.182139e+01  6.151021e+00  4.306605e+00  5.073482e+00  7.403906e+00   \n",
       "\n",
       "            powerLF       powerHF     ratioHFLF  \n",
       "count  5.110000e+02  5.110000e+02  5.110000e+02  \n",
       "mean  -5.170902e-17  4.160621e-17  8.549369e-17  \n",
       "std    1.000980e+00  1.000980e+00  1.000980e+00  \n",
       "min   -9.417885e-01 -5.493034e-01 -1.136800e+00  \n",
       "25%   -5.741279e-01 -4.118293e-01 -6.640603e-01  \n",
       "50%   -2.761460e-01 -2.664865e-01 -3.093413e-01  \n",
       "75%    1.844318e-01 -1.089094e-02  3.844003e-01  \n",
       "max    7.882036e+00  8.543813e+00  6.582587e+00  "
      ]
     },
     "execution_count": 13,
     "metadata": {},
     "output_type": "execute_result"
    }
   ],
   "source": [
    "feature_list = ['AVGNN', 'SDNN', 'MeanHR', 'MinHR', 'MaxHR', 'RMSSD', 'pNNxx', 'TINN', 'powerVLF', 'powerLF', 'powerHF', 'ratioHFLF']\n",
    "df[feature_list] = hp.scaled_features(df, feature_list)\n",
    "df.describe()"
   ]
  },
  {
   "cell_type": "markdown",
   "metadata": {},
   "source": [
    "### Test dataset will have 20% of examples, the other 80% will be for training (with cross-validation)"
   ]
  },
  {
   "cell_type": "code",
   "execution_count": 14,
   "metadata": {},
   "outputs": [
    {
     "name": "stdout",
     "output_type": "stream",
     "text": [
      "408 103\n"
     ]
    }
   ],
   "source": [
    "train, test = train_test_split(df, test_size=0.2)\n",
    "print (len(train), len(test))"
   ]
  },
  {
   "cell_type": "markdown",
   "metadata": {},
   "source": [
    "### 3 - Model selection:  Perform an exhaustive search, with k-fold cross-validation,  in the space parameter consisting of:\n",
    "* $C = 10^{i}, com -1 \\leq i \\leq 6$, for both linear and RBF kernels\n",
    "* $\\gamma = 10^{i}, com -3 \\leq i \\leq 3$, for RBF kernel."
   ]
  },
  {
   "cell_type": "code",
   "execution_count": 15,
   "metadata": {
    "collapsed": true
   },
   "outputs": [],
   "source": [
    "crossval = StratifiedShuffleSplit(n_splits=4, test_size=0.2)\n",
    "\n",
    "c_range = np.logspace(-1, 2, 4) \n",
    "gamma_range = np.logspace(-2, 1, 4)\n",
    "\n",
    "param_lin=dict(C=c_range)\n",
    "param_rbf=dict(C=c_range, gamma=gamma_range)\n"
   ]
  },
  {
   "cell_type": "code",
   "execution_count": 16,
   "metadata": {},
   "outputs": [
    {
     "name": "stdout",
     "output_type": "stream",
     "text": [
      "Kernel linear --- \n",
      "Best params: {'C': 100.0} with score 0.44207\n",
      "                  precision    recall  f1-score   support\n",
      "\n",
      "             eat       0.27      0.21      0.24        14\n",
      "  focused-active       0.54      0.72      0.62        18\n",
      " focused-passive       0.22      0.71      0.33         7\n",
      "household-chores       0.33      0.17      0.22        12\n",
      " leisure-passive       0.47      0.35      0.40        20\n",
      "        movement       0.56      0.33      0.42        15\n",
      "           sleep       0.60      0.53      0.56        17\n",
      "\n",
      "     avg / total       0.46      0.43      0.42       103\n",
      "\n"
     ]
    }
   ],
   "source": [
    "grid_lin = GridSearchCV(svm.SVC(kernel='linear', cache_size=1000), param_grid=param_lin, cv=crossval)\n",
    "grid_lin.fit(X=train.iloc[:, 3:15], y=train['activity'])\n",
    "\n",
    "print(\"Kernel linear --- \")\n",
    "print(\"Best params: %s with score %0.5f\" % (grid_lin.best_params_, grid_lin.best_score_))\n",
    "\n",
    "clf1 = svm.SVC(kernel='linear', cache_size=1000, C=grid_lin.best_params_['C'])\n",
    "clf1.fit(X=train[feature_list], y=train['activity'])\n",
    "print(hp.report(test, clf1.predict(test[feature_list])))"
   ]
  },
  {
   "cell_type": "code",
   "execution_count": 17,
   "metadata": {},
   "outputs": [
    {
     "name": "stdout",
     "output_type": "stream",
     "text": [
      "Kernel RBF --- \n",
      "Best params: {'C': 10.0, 'gamma': 0.10000000000000001} with score 0.50000\n",
      "                  precision    recall  f1-score   support\n",
      "\n",
      "             eat       0.17      0.07      0.10        14\n",
      "  focused-active       0.43      0.56      0.49        18\n",
      " focused-passive       0.23      0.71      0.34         7\n",
      "household-chores       0.30      0.25      0.27        12\n",
      " leisure-passive       0.36      0.40      0.38        20\n",
      "        movement       0.70      0.47      0.56        15\n",
      "           sleep       0.90      0.53      0.67        17\n",
      "\n",
      "     avg / total       0.47      0.42      0.42       103\n",
      "\n"
     ]
    }
   ],
   "source": [
    "grid_rbf = GridSearchCV(svm.SVC(kernel='rbf', cache_size=1000), param_grid=param_rbf, cv=crossval)\n",
    "grid_rbf.fit(X=train[feature_list], y=train['activity'])\n",
    "\n",
    "print(\"Kernel RBF --- \")\n",
    "print(\"Best params: %s with score %0.5f\" % (grid_rbf.best_params_, grid_rbf.best_score_))\n",
    "\n",
    "clf2 = svm.SVC(kernel='rbf', cache_size=1000, C=grid_rbf.best_params_['C'], gamma=grid_rbf.best_params_['gamma'])\n",
    "clf2.fit(X=train[feature_list], y=train['activity'])\n",
    "\n",
    "r_fulldf = hp.report(test, clf2.predict(test[feature_list]))\n",
    "print(r_fulldf)"
   ]
  },
  {
   "cell_type": "code",
   "execution_count": 18,
   "metadata": {},
   "outputs": [
    {
     "name": "stdout",
     "output_type": "stream",
     "text": [
      "[0.17, 0.07, 0.1]\n",
      "[0.43, 0.56, 0.49]\n",
      "[0.23, 0.71, 0.34]\n",
      "[0.3, 0.25, 0.27]\n",
      "[0.36, 0.4, 0.38]\n",
      "[0.7, 0.47, 0.56]\n",
      "[0.9, 0.53, 0.67]\n"
     ]
    },
    {
     "data": {
      "image/png": "[encoded data removed]",
      "text/plain": [
       "<matplotlib.figure.Figure at 0x7f48e47fbeb8>"
      ]
     },
     "metadata": {},
     "output_type": "display_data"
    }
   ],
   "source": [
    "pr.plot_classification_report(r_fulldf, title='', with_avg_total=False, cmap=plt.cm.coolwarm_r)"
   ]
  },
  {
   "cell_type": "code",
   "execution_count": 19,
   "metadata": {},
   "outputs": [
    {
     "name": "stdout",
     "output_type": "stream",
     "text": [
      "                  precision    recall  f1-score   support\n",
      "\n",
      "             eat       0.20      0.07      0.11        14\n",
      "  focused-active       0.53      0.56      0.54        18\n",
      " focused-passive       0.26      0.71      0.38         7\n",
      "household-chores       0.40      0.33      0.36        12\n",
      " leisure-passive       0.47      0.75      0.58        20\n",
      "        movement       0.86      0.40      0.55        15\n",
      "           sleep       0.91      0.59      0.71        17\n",
      "\n",
      "     avg / total       0.55      0.50      0.49       103\n",
      "\n"
     ]
    }
   ],
   "source": [
    "clf3 = svm.SVC(kernel='poly', cache_size=1000, C=grid_lin.best_params_['C'])\n",
    "clf3.fit(X=train[feature_list], y=train['activity'])\n",
    "print(hp.report(test, clf3.predict(test.iloc[:, 3:15])))"
   ]
  },
  {
   "cell_type": "markdown",
   "metadata": {},
   "source": [
    "\n",
    "## Now, we can run the same steps above with multiple experiments! Time to have fun!!"
   ]
  },
  {
   "cell_type": "code",
   "execution_count": 20,
   "metadata": {},
   "outputs": [
    {
     "name": "stdout",
     "output_type": "stream",
     "text": [
      "408 train examples and 103 test examples\n",
      "Best params for linear kernel: {'C': 1.0} with score 0.37195\n",
      "--- test results for linear kernel:\n",
      "                  precision    recall  f1-score   support\n",
      "\n",
      "             eat       0.33      0.20      0.25        10\n",
      "  focused-active       0.44      0.69      0.54        16\n",
      " focused-passive       0.29      0.11      0.16        18\n",
      "household-chores       0.29      0.40      0.33        10\n",
      " leisure-passive       0.50      0.53      0.51        19\n",
      "        movement       0.57      0.62      0.59        13\n",
      "           sleep       0.59      0.59      0.59        17\n",
      "\n",
      "     avg / total       0.44      0.46      0.43       103\n",
      "\n",
      "Best params for RBF kernel: {'C': 10.0, 'gamma': 0.10000000000000001} with score 0.43293\n",
      "--- test results for RBF kernel:\n",
      "                  precision    recall  f1-score   support\n",
      "\n",
      "             eat       0.20      0.20      0.20        10\n",
      "  focused-active       0.47      0.44      0.45        16\n",
      " focused-passive       0.23      0.17      0.19        18\n",
      "household-chores       0.38      0.50      0.43        10\n",
      " leisure-passive       0.36      0.42      0.39        19\n",
      "        movement       0.58      0.54      0.56        13\n",
      "           sleep       0.83      0.88      0.86        17\n",
      "\n",
      "     avg / total       0.45      0.46      0.45       103\n",
      "\n"
     ]
    }
   ],
   "source": [
    "r = hp.run_flow(df, feature_list)"
   ]
  },
  {
   "cell_type": "code",
   "execution_count": 67,
   "metadata": {},
   "outputs": [
    {
     "name": "stdout",
     "output_type": "stream",
     "text": [
      "[0.0, 0.0, 0.0]\n",
      "[0.72, 0.62, 0.67]\n",
      "[0.29, 0.38, 0.33]\n",
      "[0.36, 0.38, 0.37]\n",
      "[0.35, 0.58, 0.44]\n",
      "[0.32, 0.43, 0.36]\n",
      "[0.85, 0.65, 0.73]\n"
     ]
    },
    {
     "data": {
      "image/png": "[encoded data removed]",
      "text/plain": [
       "<matplotlib.figure.Figure at 0x7fcd0e7f0fd0>"
      ]
     },
     "metadata": {},
     "output_type": "display_data"
    }
   ],
   "source": [
    "pr.plot_classification_report(r[1], cmap=plt.cm.coolwarm_r)"
   ]
  },
  {
   "cell_type": "code",
   "execution_count": 22,
   "metadata": {},
   "outputs": [
    {
     "name": "stdout",
     "output_type": "stream",
     "text": [
      "136 train examples and 35 test examples\n",
      "Best params for linear kernel: {'C': 1.0} with score 0.47321\n",
      "--- test results for linear kernel:\n",
      "                  precision    recall  f1-score   support\n",
      "\n",
      "             eat       0.00      0.00      0.00         1\n",
      "  focused-active       0.00      0.00      0.00         5\n",
      " focused-passive       0.50      0.50      0.50         4\n",
      "household-chores       0.20      0.25      0.22         4\n",
      " leisure-passive       0.57      0.67      0.62         6\n",
      "        movement       0.57      0.67      0.62         6\n",
      "           sleep       0.58      0.78      0.67         9\n",
      "\n",
      "     avg / total       0.43      0.51      0.46        35\n",
      "\n"
     ]
    },
    {
     "name": "stderr",
     "output_type": "stream",
     "text": [
      "/home/ju/anaconda3/lib/python3.6/site-packages/sklearn/metrics/classification.py:1135: UndefinedMetricWarning: Precision and F-score are ill-defined and being set to 0.0 in labels with no predicted samples.\n",
      "  'precision', 'predicted', average, warn_for)\n"
     ]
    },
    {
     "name": "stdout",
     "output_type": "stream",
     "text": [
      "Best params for RBF kernel: {'C': 10.0, 'gamma': 0.10000000000000001} with score 0.57143\n",
      "--- test results for RBF kernel:\n",
      "                  precision    recall  f1-score   support\n",
      "\n",
      "             eat       0.00      0.00      0.00         1\n",
      "  focused-active       0.80      0.80      0.80         5\n",
      " focused-passive       0.50      0.50      0.50         4\n",
      "household-chores       0.17      0.25      0.20         4\n",
      " leisure-passive       1.00      0.33      0.50         6\n",
      "        movement       0.71      0.83      0.77         6\n",
      "           sleep       0.73      0.89      0.80         9\n",
      "\n",
      "     avg / total       0.67      0.63      0.62        35\n",
      "\n",
      "                  precision    recall  f1-score   support\n",
      "\n",
      "             eat       0.00      0.00      0.00         1\n",
      "  focused-active       0.00      0.00      0.00         5\n",
      " focused-passive       0.50      0.50      0.50         4\n",
      "household-chores       0.20      0.25      0.22         4\n",
      " leisure-passive       0.57      0.67      0.62         6\n",
      "        movement       0.57      0.67      0.62         6\n",
      "           sleep       0.58      0.78      0.67         9\n",
      "\n",
      "     avg / total       0.43      0.51      0.46        35\n",
      "\n",
      "                  precision    recall  f1-score   support\n",
      "\n",
      "             eat       0.00      0.00      0.00         1\n",
      "  focused-active       0.80      0.80      0.80         5\n",
      " focused-passive       0.50      0.50      0.50         4\n",
      "household-chores       0.17      0.25      0.20         4\n",
      " leisure-passive       1.00      0.33      0.50         6\n",
      "        movement       0.71      0.83      0.77         6\n",
      "           sleep       0.73      0.89      0.80         9\n",
      "\n",
      "     avg / total       0.67      0.63      0.62        35\n",
      "\n",
      "[0.0, 0.0, 0.0]\n",
      "[0.8, 0.8, 0.8]\n",
      "[0.5, 0.5, 0.5]\n",
      "[0.17, 0.25, 0.2]\n",
      "[1.0, 0.33, 0.5]\n",
      "[0.71, 0.83, 0.77]\n",
      "[0.73, 0.89, 0.8]\n"
     ]
    },
    {
     "name": "stderr",
     "output_type": "stream",
     "text": [
      "/home/ju/anaconda3/lib/python3.6/site-packages/sklearn/metrics/classification.py:1135: UndefinedMetricWarning: Precision and F-score are ill-defined and being set to 0.0 in labels with no predicted samples.\n",
      "  'precision', 'predicted', average, warn_for)\n"
     ]
    },
    {
     "data": {
      "image/png": "[encoded data removed]",
      "text/plain": [
       "<matplotlib.figure.Figure at 0x7f491c39e940>"
      ]
     },
     "metadata": {},
     "output_type": "display_data"
    }
   ],
   "source": [
    "u0 = hp.user_data(df, 0)\n",
    "r0 = hp.run_flow(u0, feature_list)\n",
    "print (r0[0])\n",
    "print (r0[1])\n",
    "pr.plot_classification_report(r0[1], title ='')\n"
   ]
  },
  {
   "cell_type": "code",
   "execution_count": 23,
   "metadata": {},
   "outputs": [
    {
     "name": "stdout",
     "output_type": "stream",
     "text": [
      "57 train examples and 15 test examples\n",
      "Best params for linear kernel: {'C': 1.0} with score 0.66667\n",
      "--- test results for linear kernel:\n",
      "                 precision    recall  f1-score   support\n",
      "\n",
      "            eat       0.00      0.00      0.00         0\n",
      " focused-active       0.50      0.43      0.46         7\n",
      "leisure-passive       0.50      0.50      0.50         6\n",
      "       movement       1.00      1.00      1.00         2\n",
      "\n",
      "    avg / total       0.57      0.53      0.55        15\n",
      "\n"
     ]
    },
    {
     "name": "stderr",
     "output_type": "stream",
     "text": [
      "/home/ju/anaconda3/lib/python3.6/site-packages/sklearn/metrics/classification.py:1137: UndefinedMetricWarning: Recall and F-score are ill-defined and being set to 0.0 in labels with no true samples.\n",
      "  'recall', 'true', average, warn_for)\n"
     ]
    },
    {
     "name": "stdout",
     "output_type": "stream",
     "text": [
      "Best params for RBF kernel: {'C': 100.0, 'gamma': 0.10000000000000001} with score 0.77083\n",
      "--- test results for RBF kernel:\n",
      "                 precision    recall  f1-score   support\n",
      "\n",
      "            eat       0.00      0.00      0.00         0\n",
      " focused-active       0.50      0.29      0.36         7\n",
      "leisure-passive       0.50      0.67      0.57         6\n",
      "       movement       1.00      1.00      1.00         2\n",
      "\n",
      "    avg / total       0.57      0.53      0.53        15\n",
      "\n",
      "                 precision    recall  f1-score   support\n",
      "\n",
      "            eat       0.00      0.00      0.00         0\n",
      " focused-active       0.50      0.43      0.46         7\n",
      "leisure-passive       0.50      0.50      0.50         6\n",
      "       movement       1.00      1.00      1.00         2\n",
      "\n",
      "    avg / total       0.57      0.53      0.55        15\n",
      "\n",
      "                 precision    recall  f1-score   support\n",
      "\n",
      "            eat       0.00      0.00      0.00         0\n",
      " focused-active       0.50      0.29      0.36         7\n",
      "leisure-passive       0.50      0.67      0.57         6\n",
      "       movement       1.00      1.00      1.00         2\n",
      "\n",
      "    avg / total       0.57      0.53      0.53        15\n",
      "\n",
      "[0.0, 0.0, 0.0]\n",
      "[0.5, 0.29, 0.36]\n",
      "[0.5, 0.67, 0.57]\n",
      "[1.0, 1.0, 1.0]\n"
     ]
    },
    {
     "name": "stderr",
     "output_type": "stream",
     "text": [
      "/home/ju/anaconda3/lib/python3.6/site-packages/sklearn/metrics/classification.py:1137: UndefinedMetricWarning: Recall and F-score are ill-defined and being set to 0.0 in labels with no true samples.\n",
      "  'recall', 'true', average, warn_for)\n"
     ]
    },
    {
     "data": {
      "image/png": "[encoded data removed]",
      "text/plain": [
       "<matplotlib.figure.Figure at 0x7f48e0d51748>"
      ]
     },
     "metadata": {},
     "output_type": "display_data"
    }
   ],
   "source": [
    "r1 = hp.run_flow(hp.user_data(df, 1), feature_list)\n",
    "print (r1[0])\n",
    "print (r1[1])\n",
    "pr.plot_classification_report(r1[1], title ='')"
   ]
  },
  {
   "cell_type": "code",
   "execution_count": 25,
   "metadata": {},
   "outputs": [
    {
     "name": "stdout",
     "output_type": "stream",
     "text": [
      "214 train examples and 54 test examples\n",
      "Best params for linear kernel: {'C': 100.0} with score 0.44767\n",
      "--- test results for linear kernel:\n",
      "                  precision    recall  f1-score   support\n",
      "\n",
      "             eat       0.56      0.50      0.53        10\n",
      "  focused-active       0.20      0.25      0.22         4\n",
      " focused-passive       0.40      0.36      0.38        11\n",
      "household-chores       0.43      0.27      0.33        11\n",
      " leisure-passive       0.10      0.14      0.12         7\n",
      "        movement       0.43      0.43      0.43         7\n",
      "           sleep       0.67      1.00      0.80         4\n",
      "\n",
      "     avg / total       0.40      0.39      0.39        54\n",
      "\n",
      "Best params for RBF kernel: {'C': 10.0, 'gamma': 0.01} with score 0.42442\n",
      "--- test results for RBF kernel:\n",
      "                  precision    recall  f1-score   support\n",
      "\n",
      "             eat       0.33      0.10      0.15        10\n",
      "  focused-active       0.20      0.50      0.29         4\n",
      " focused-passive       0.25      0.09      0.13        11\n",
      "household-chores       0.33      0.18      0.24        11\n",
      " leisure-passive       0.12      0.29      0.17         7\n",
      "        movement       0.22      0.29      0.25         7\n",
      "           sleep       0.80      1.00      0.89         4\n",
      "\n",
      "     avg / total       0.30      0.26      0.24        54\n",
      "\n",
      "                  precision    recall  f1-score   support\n",
      "\n",
      "             eat       0.56      0.50      0.53        10\n",
      "  focused-active       0.20      0.25      0.22         4\n",
      " focused-passive       0.40      0.36      0.38        11\n",
      "household-chores       0.43      0.27      0.33        11\n",
      " leisure-passive       0.10      0.14      0.12         7\n",
      "        movement       0.43      0.43      0.43         7\n",
      "           sleep       0.67      1.00      0.80         4\n",
      "\n",
      "     avg / total       0.40      0.39      0.39        54\n",
      "\n",
      "                  precision    recall  f1-score   support\n",
      "\n",
      "             eat       0.33      0.10      0.15        10\n",
      "  focused-active       0.20      0.50      0.29         4\n",
      " focused-passive       0.25      0.09      0.13        11\n",
      "household-chores       0.33      0.18      0.24        11\n",
      " leisure-passive       0.12      0.29      0.17         7\n",
      "        movement       0.22      0.29      0.25         7\n",
      "           sleep       0.80      1.00      0.89         4\n",
      "\n",
      "     avg / total       0.30      0.26      0.24        54\n",
      "\n",
      "[0.33, 0.1, 0.15]\n",
      "[0.2, 0.5, 0.29]\n",
      "[0.25, 0.09, 0.13]\n",
      "[0.33, 0.18, 0.24]\n",
      "[0.12, 0.29, 0.17]\n",
      "[0.22, 0.29, 0.25]\n",
      "[0.8, 1.0, 0.89]\n"
     ]
    },
    {
     "data": {
      "image/png": "[encoded data removed]",
      "text/plain": [
       "<matplotlib.figure.Figure at 0x7f48e0cba320>"
      ]
     },
     "metadata": {},
     "output_type": "display_data"
    }
   ],
   "source": [
    "r2 = hp.run_flow(hp.user_data(df, 2), feature_list)\n",
    "print (r2[0])\n",
    "print (r2[1])\n",
    "pr.plot_classification_report(r2[1], title ='')"
   ]
  },
  {
   "cell_type": "code",
   "execution_count": 26,
   "metadata": {},
   "outputs": [
    {
     "data": {
      "text/plain": [
       "activity\n",
       "eat                 53\n",
       "focused-active      88\n",
       "focused-passive     73\n",
       "household-chores    68\n",
       "leisure-passive     89\n",
       "movement            65\n",
       "sleep               75\n",
       "Name: user, dtype: int64"
      ]
     },
     "execution_count": 26,
     "metadata": {},
     "output_type": "execute_result"
    }
   ],
   "source": [
    "hp.count_by(df, 'activity')"
   ]
  },
  {
   "cell_type": "markdown",
   "metadata": {},
   "source": [
    "### 2 - Is eating the problem??"
   ]
  },
  {
   "cell_type": "code",
   "execution_count": 27,
   "metadata": {},
   "outputs": [
    {
     "data": {
      "text/plain": [
       "activity\n",
       "focused-active      88\n",
       "focused-passive     73\n",
       "household-chores    68\n",
       "leisure-passive     89\n",
       "movement            65\n",
       "sleep               75\n",
       "Name: user, dtype: int64"
      ]
     },
     "execution_count": 27,
     "metadata": {},
     "output_type": "execute_result"
    }
   ],
   "source": [
    "df_reduced = hp.filter_out(df, 'activity', ['eat'])\n",
    "df_reduced.groupby('activity').count()['user']"
   ]
  },
  {
   "cell_type": "code",
   "execution_count": 28,
   "metadata": {},
   "outputs": [
    {
     "name": "stdout",
     "output_type": "stream",
     "text": [
      "366 train examples and 92 test examples\n",
      "Best params for linear kernel: {'C': 1.0} with score 0.44932\n",
      "--- test results for linear kernel:\n",
      "                  precision    recall  f1-score   support\n",
      "\n",
      "  focused-active       0.46      0.63      0.53        19\n",
      " focused-passive       0.20      0.25      0.22        12\n",
      "household-chores       0.60      0.46      0.52        13\n",
      " leisure-passive       0.50      0.62      0.56        16\n",
      "        movement       0.64      0.75      0.69        12\n",
      "           sleep       0.86      0.30      0.44        20\n",
      "\n",
      "     avg / total       0.56      0.50      0.50        92\n",
      "\n",
      "Best params for RBF kernel: {'C': 1.0, 'gamma': 1.0} with score 0.49324\n",
      "--- test results for RBF kernel:\n",
      "                  precision    recall  f1-score   support\n",
      "\n",
      "  focused-active       0.70      0.74      0.72        19\n",
      " focused-passive       0.50      0.33      0.40        12\n",
      "household-chores       0.33      0.31      0.32        13\n",
      " leisure-passive       0.50      0.50      0.50        16\n",
      "        movement       0.25      0.50      0.33        12\n",
      "           sleep       0.92      0.55      0.69        20\n",
      "\n",
      "     avg / total       0.58      0.51      0.53        92\n",
      "\n"
     ]
    }
   ],
   "source": [
    "reduced = hp.run_flow(df_reduced, feature_list)"
   ]
  },
  {
   "cell_type": "code",
   "execution_count": 31,
   "metadata": {},
   "outputs": [
    {
     "name": "stdout",
     "output_type": "stream",
     "text": [
      "131 train examples and 33 test examples\n",
      "Best params for linear kernel: {'C': 10.0} with score 0.62037\n",
      "--- test results for linear kernel:\n",
      "                  precision    recall  f1-score   support\n",
      "\n",
      "  focused-active       0.00      0.00      0.00         5\n",
      " focused-passive       0.56      0.62      0.59         8\n",
      "household-chores       0.50      0.25      0.33         4\n",
      " leisure-passive       0.33      0.20      0.25         5\n",
      "        movement       0.71      0.83      0.77         6\n",
      "           sleep       0.62      1.00      0.77         5\n",
      "\n",
      "     avg / total       0.47      0.52      0.48        33\n",
      "\n",
      "Best params for RBF kernel: {'C': 10.0, 'gamma': 0.01} with score 0.67593\n",
      "--- test results for RBF kernel:\n",
      "                  precision    recall  f1-score   support\n",
      "\n",
      "  focused-active       0.00      0.00      0.00         5\n",
      " focused-passive       0.50      0.62      0.56         8\n",
      "household-chores       0.33      0.25      0.29         4\n",
      " leisure-passive       0.50      0.40      0.44         5\n",
      "        movement       0.80      0.67      0.73         6\n",
      "           sleep       0.50      1.00      0.67         5\n",
      "\n",
      "     avg / total       0.46      0.52      0.47        33\n",
      "\n"
     ]
    }
   ],
   "source": [
    "reduced = hp.run_flow(hp.user_data(df_reduced, 0), feature_list)"
   ]
  },
  {
   "cell_type": "markdown",
   "metadata": {},
   "source": [
    "# Defining hierarchy"
   ]
  },
  {
   "cell_type": "markdown",
   "metadata": {},
   "source": [
    "### 1 - Splitting database into movement categories (movement, household chores and exercise) and all others"
   ]
  },
  {
   "cell_type": "code",
   "execution_count": 32,
   "metadata": {},
   "outputs": [
    {
     "ename": "NameError",
     "evalue": "name 'run' is not defined",
     "output_type": "error",
     "traceback": [
      "\u001b[0;31m---------------------------------------------------------------------------\u001b[0m",
      "\u001b[0;31mNameError\u001b[0m                                 Traceback (most recent call last)",
      "\u001b[0;32m<ipython-input-32-4a13f2db1b59>\u001b[0m in \u001b[0;36m<module>\u001b[0;34m()\u001b[0m\n\u001b[0;32m----> 1\u001b[0;31m \u001b[0mdf\u001b[0m\u001b[0;34m.\u001b[0m\u001b[0mgroupby\u001b[0m\u001b[0;34m(\u001b[0m\u001b[0;34m'move'\u001b[0m\u001b[0;34m)\u001b[0m\u001b[0;34m.\u001b[0m\u001b[0mcount\u001b[0m\u001b[0;34m(\u001b[0m\u001b[0mrun\u001b[0m\u001b[0;34m)\u001b[0m\u001b[0;34m[\u001b[0m\u001b[0;34m'user'\u001b[0m\u001b[0;34m]\u001b[0m\u001b[0;34m\u001b[0m\u001b[0m\n\u001b[0m",
      "\u001b[0;31mNameError\u001b[0m: name 'run' is not defined"
     ]
    }
   ],
   "source": [
    "df.groupby('move').count(run)['user']"
   ]
  },
  {
   "cell_type": "code",
   "execution_count": 34,
   "metadata": {},
   "outputs": [
    {
     "name": "stdout",
     "output_type": "stream",
     "text": [
      "408 train examples and 103 test examples\n",
      "Best params for linear kernel: {'C': 0.10000000000000001} with score 0.88415\n",
      "--- test results for linear kernel:\n",
      "             precision    recall  f1-score   support\n",
      "\n",
      "       move       0.90      0.83      0.86        23\n",
      "      still       0.95      0.97      0.96        80\n",
      "\n",
      "avg / total       0.94      0.94      0.94       103\n",
      "\n",
      "Best params for RBF kernel: {'C': 10.0, 'gamma': 0.10000000000000001} with score 0.88110\n",
      "--- test results for RBF kernel:\n",
      "             precision    recall  f1-score   support\n",
      "\n",
      "       move       0.86      0.83      0.84        23\n",
      "      still       0.95      0.96      0.96        80\n",
      "\n",
      "avg / total       0.93      0.93      0.93       103\n",
      "\n"
     ]
    }
   ],
   "source": [
    "mvres = hp.run_flow(df, feature_list, labelName='move')"
   ]
  },
  {
   "cell_type": "code",
   "execution_count": 35,
   "metadata": {},
   "outputs": [
    {
     "name": "stdout",
     "output_type": "stream",
     "text": [
      "[0.9, 0.83, 0.86]\n",
      "[0.95, 0.97, 0.96]\n"
     ]
    },
    {
     "data": {
      "image/png": "[encoded data removed]",
      "text/plain": [
       "<matplotlib.figure.Figure at 0x7f48e0b6c2b0>"
      ]
     },
     "metadata": {},
     "output_type": "display_data"
    }
   ],
   "source": [
    "pr.plot_classification_report(mvres[0])"
   ]
  },
  {
   "cell_type": "code",
   "execution_count": 39,
   "metadata": {},
   "outputs": [
    {
     "name": "stdout",
     "output_type": "stream",
     "text": [
      "136 train examples and 35 test examples\n",
      "Best params for linear kernel: {'C': 0.10000000000000001} with score 0.87500\n",
      "--- test results for linear kernel:\n",
      "             precision    recall  f1-score   support\n",
      "\n",
      "       move       1.00      0.75      0.86         8\n",
      "      still       0.93      1.00      0.96        27\n",
      "\n",
      "avg / total       0.95      0.94      0.94        35\n",
      "\n",
      "Best params for RBF kernel: {'C': 100.0, 'gamma': 0.01} with score 0.90179\n",
      "--- test results for RBF kernel:\n",
      "             precision    recall  f1-score   support\n",
      "\n",
      "       move       1.00      0.88      0.93         8\n",
      "      still       0.96      1.00      0.98        27\n",
      "\n",
      "avg / total       0.97      0.97      0.97        35\n",
      "\n",
      "57 train examples and 15 test examples\n",
      "Best params for linear kernel: {'C': 0.10000000000000001} with score 0.95833\n",
      "--- test results for linear kernel:\n",
      "             precision    recall  f1-score   support\n",
      "\n",
      "       move       1.00      1.00      1.00         1\n",
      "      still       1.00      1.00      1.00        14\n",
      "\n",
      "avg / total       1.00      1.00      1.00        15\n",
      "\n",
      "Best params for RBF kernel: {'C': 1.0, 'gamma': 0.10000000000000001} with score 1.00000\n",
      "--- test results for RBF kernel:\n",
      "             precision    recall  f1-score   support\n",
      "\n",
      "       move       1.00      1.00      1.00         1\n",
      "      still       1.00      1.00      1.00        14\n",
      "\n",
      "avg / total       1.00      1.00      1.00        15\n",
      "\n",
      "214 train examples and 54 test examples\n",
      "Best params for linear kernel: {'C': 10.0} with score 0.84302\n",
      "--- test results for linear kernel:\n",
      "             precision    recall  f1-score   support\n",
      "\n",
      "       move       0.79      0.92      0.85        12\n",
      "      still       0.97      0.93      0.95        42\n",
      "\n",
      "avg / total       0.93      0.93      0.93        54\n",
      "\n",
      "Best params for RBF kernel: {'C': 1.0, 'gamma': 0.01} with score 0.80233\n",
      "--- test results for RBF kernel:\n",
      "             precision    recall  f1-score   support\n",
      "\n",
      "       move       0.85      0.92      0.88        12\n",
      "      still       0.98      0.95      0.96        42\n",
      "\n",
      "avg / total       0.95      0.94      0.95        54\n",
      "\n"
     ]
    }
   ],
   "source": [
    "mvresu = [hp.run_flow(hp.user_data(df, user), feature_list, labelName='move') for user in range(3)]"
   ]
  },
  {
   "cell_type": "code",
   "execution_count": 40,
   "metadata": {},
   "outputs": [
    {
     "name": "stdout",
     "output_type": "stream",
     "text": [
      "['0.97', '1.00', '0.95']\n"
     ]
    }
   ],
   "source": [
    "scores = []\n",
    "for i in mvresu:\n",
    "    scores.append(pr.fscore_from_report(i)) \n",
    "print(scores)"
   ]
  },
  {
   "cell_type": "markdown",
   "metadata": {},
   "source": [
    "### 1 - Split data by movement intensity:\n",
    " * group 1 = movement, household chores, exercise\n",
    " "
   ]
  },
  {
   "cell_type": "code",
   "execution_count": 42,
   "metadata": {},
   "outputs": [
    {
     "data": {
      "text/plain": [
       "activity\n",
       "eat                53\n",
       "focused-active     88\n",
       "focused-passive    73\n",
       "leisure-passive    89\n",
       "sleep              75\n",
       "Name: user, dtype: int64"
      ]
     },
     "execution_count": 42,
     "metadata": {},
     "output_type": "execute_result"
    }
   ],
   "source": [
    "df_stillcls = hp.filter_out(df, 'activity', movelist)\n",
    "hp.count_by(df_stillcls, 'activity')"
   ]
  },
  {
   "cell_type": "code",
   "execution_count": 45,
   "metadata": {},
   "outputs": [
    {
     "name": "stdout",
     "output_type": "stream",
     "text": [
      "302 train examples and 76 test examples\n",
      "Best params for linear kernel: {'C': 0.10000000000000001} with score 0.42623\n",
      "--- test results for linear kernel:\n",
      "                 precision    recall  f1-score   support\n",
      "\n",
      "            eat       0.00      0.00      0.00        12\n",
      " focused-active       0.62      0.68      0.65        19\n",
      "focused-passive       0.44      0.47      0.46        17\n",
      "leisure-passive       0.35      0.44      0.39        18\n",
      "          sleep       0.57      0.80      0.67        10\n",
      "\n",
      "    avg / total       0.41      0.49      0.44        76\n",
      "\n"
     ]
    },
    {
     "name": "stderr",
     "output_type": "stream",
     "text": [
      "/home/ju/anaconda3/lib/python3.6/site-packages/sklearn/metrics/classification.py:1135: UndefinedMetricWarning: Precision and F-score are ill-defined and being set to 0.0 in labels with no predicted samples.\n",
      "  'precision', 'predicted', average, warn_for)\n"
     ]
    },
    {
     "name": "stdout",
     "output_type": "stream",
     "text": [
      "Best params for RBF kernel: {'C': 100.0, 'gamma': 0.01} with score 0.52049\n",
      "--- test results for RBF kernel:\n",
      "                 precision    recall  f1-score   support\n",
      "\n",
      "            eat       0.33      0.08      0.13        12\n",
      " focused-active       0.64      0.74      0.68        19\n",
      "focused-passive       0.47      0.41      0.44        17\n",
      "leisure-passive       0.39      0.50      0.44        18\n",
      "          sleep       0.69      0.90      0.78        10\n",
      "\n",
      "    avg / total       0.50      0.53      0.50        76\n",
      "\n",
      "[0.33, 0.08, 0.13]\n",
      "[0.64, 0.74, 0.68]\n",
      "[0.47, 0.41, 0.44]\n",
      "[0.39, 0.5, 0.44]\n",
      "[0.69, 0.9, 0.78]\n"
     ]
    },
    {
     "data": {
      "image/png": "[encoded data removed]",
      "text/plain": [
       "<matplotlib.figure.Figure at 0x7f48e0c48240>"
      ]
     },
     "metadata": {},
     "output_type": "display_data"
    }
   ],
   "source": [
    "r = hp.run_flow(df_stillcls, feature_list)\n",
    "pr.plot_classification_report(r[1], cmap=plt.cm.coolwarm_r)"
   ]
  },
  {
   "cell_type": "code",
   "execution_count": 47,
   "metadata": {},
   "outputs": [
    {
     "name": "stdout",
     "output_type": "stream",
     "text": [
      "92 train examples and 24 test examples\n",
      "Best params for linear kernel: {'C': 10.0} with score 0.57895\n",
      "--- test results for linear kernel:\n",
      "                 precision    recall  f1-score   support\n",
      "\n",
      "            eat       0.00      0.00      0.00         0\n",
      " focused-active       0.43      0.75      0.55         4\n",
      "focused-passive       0.67      0.57      0.62         7\n",
      "leisure-passive       0.50      0.33      0.40         6\n",
      "          sleep       0.67      0.57      0.62         7\n",
      "\n",
      "    avg / total       0.59      0.54      0.55        24\n",
      "\n"
     ]
    },
    {
     "name": "stderr",
     "output_type": "stream",
     "text": [
      "/home/ju/anaconda3/lib/python3.6/site-packages/sklearn/metrics/classification.py:1137: UndefinedMetricWarning: Recall and F-score are ill-defined and being set to 0.0 in labels with no true samples.\n",
      "  'recall', 'true', average, warn_for)\n"
     ]
    },
    {
     "name": "stdout",
     "output_type": "stream",
     "text": [
      "Best params for RBF kernel: {'C': 100.0, 'gamma': 0.10000000000000001} with score 0.61842\n",
      "--- test results for RBF kernel:\n",
      "                 precision    recall  f1-score   support\n",
      "\n",
      "            eat       0.00      0.00      0.00         0\n",
      " focused-active       0.50      0.75      0.60         4\n",
      "focused-passive       0.80      0.57      0.67         7\n",
      "leisure-passive       0.33      0.17      0.22         6\n",
      "          sleep       0.67      0.86      0.75         7\n",
      "\n",
      "    avg / total       0.59      0.58      0.57        24\n",
      "\n",
      "51 train examples and 13 test examples\n",
      "Best params for linear kernel: {'C': 10.0} with score 0.68182\n",
      "--- test results for linear kernel:\n",
      "                 precision    recall  f1-score   support\n",
      "\n",
      "            eat       0.50      1.00      0.67         2\n",
      " focused-active       0.60      0.50      0.55         6\n",
      "leisure-passive       0.50      0.40      0.44         5\n",
      "\n",
      "    avg / total       0.55      0.54      0.53        13\n",
      "\n"
     ]
    },
    {
     "name": "stderr",
     "output_type": "stream",
     "text": [
      "/home/ju/anaconda3/lib/python3.6/site-packages/sklearn/metrics/classification.py:1137: UndefinedMetricWarning: Recall and F-score are ill-defined and being set to 0.0 in labels with no true samples.\n",
      "  'recall', 'true', average, warn_for)\n"
     ]
    },
    {
     "name": "stdout",
     "output_type": "stream",
     "text": [
      "Best params for RBF kernel: {'C': 10.0, 'gamma': 0.10000000000000001} with score 0.68182\n",
      "--- test results for RBF kernel:\n",
      "                 precision    recall  f1-score   support\n",
      "\n",
      "            eat       0.67      1.00      0.80         2\n",
      " focused-active       1.00      0.50      0.67         6\n",
      "leisure-passive       0.57      0.80      0.67         5\n",
      "\n",
      "    avg / total       0.78      0.69      0.69        13\n",
      "\n",
      "158 train examples and 40 test examples\n",
      "Best params for linear kernel: {'C': 1.0} with score 0.51562\n",
      "--- test results for linear kernel:\n",
      "                 precision    recall  f1-score   support\n",
      "\n",
      "            eat       0.86      0.50      0.63        12\n",
      " focused-active       0.50      0.60      0.55         5\n",
      "focused-passive       0.20      0.40      0.27         5\n",
      "leisure-passive       0.50      0.33      0.40         9\n",
      "          sleep       0.82      1.00      0.90         9\n",
      "\n",
      "    avg / total       0.64      0.57      0.58        40\n",
      "\n",
      "Best params for RBF kernel: {'C': 1.0, 'gamma': 0.01} with score 0.55469\n",
      "--- test results for RBF kernel:\n",
      "                 precision    recall  f1-score   support\n",
      "\n",
      "            eat       0.00      0.00      0.00        12\n",
      " focused-active       0.40      0.80      0.53         5\n",
      "focused-passive       0.10      0.40      0.15         5\n",
      "leisure-passive       0.00      0.00      0.00         9\n",
      "          sleep       1.00      1.00      1.00         9\n",
      "\n",
      "    avg / total       0.29      0.38      0.31        40\n",
      "\n"
     ]
    },
    {
     "name": "stderr",
     "output_type": "stream",
     "text": [
      "/home/ju/anaconda3/lib/python3.6/site-packages/sklearn/metrics/classification.py:1135: UndefinedMetricWarning: Precision and F-score are ill-defined and being set to 0.0 in labels with no predicted samples.\n",
      "  'precision', 'predicted', average, warn_for)\n"
     ]
    }
   ],
   "source": [
    "mvres = [hp.run_flow(hp.user_data(df_stillcls, user), feature_list) for user in range(3)]"
   ]
  },
  {
   "cell_type": "code",
   "execution_count": 49,
   "metadata": {},
   "outputs": [
    {
     "data": {
      "text/plain": [
       "activity\n",
       "household-chores    68\n",
       "movement            65\n",
       "Name: user, dtype: int64"
      ]
     },
     "execution_count": 49,
     "metadata": {},
     "output_type": "execute_result"
    }
   ],
   "source": [
    "includelist = ['movement', 'household-chores', 'exercise-high', 'exercise-low']\n",
    "df_movecls = hp.filter_in(df, 'activity', includelist)\n",
    "hp.count_by(df_movecls, 'activity')"
   ]
  },
  {
   "cell_type": "code",
   "execution_count": 52,
   "metadata": {},
   "outputs": [
    {
     "name": "stdout",
     "output_type": "stream",
     "text": [
      "106 train examples and 27 test examples\n",
      "Best params for linear kernel: {'C': 0.10000000000000001} with score 0.64773\n",
      "--- test results for linear kernel:\n",
      "                  precision    recall  f1-score   support\n",
      "\n",
      "household-chores       0.47      0.54      0.50        13\n",
      "        movement       0.50      0.43      0.46        14\n",
      "\n",
      "     avg / total       0.48      0.48      0.48        27\n",
      "\n",
      "Best params for RBF kernel: {'C': 1.0, 'gamma': 0.10000000000000001} with score 0.68182\n",
      "--- test results for RBF kernel:\n",
      "                  precision    recall  f1-score   support\n",
      "\n",
      "household-chores       0.45      0.69      0.55        13\n",
      "        movement       0.43      0.21      0.29        14\n",
      "\n",
      "     avg / total       0.44      0.44      0.41        27\n",
      "\n",
      "[0.45, 0.69, 0.55]\n",
      "[0.43, 0.21, 0.29]\n"
     ]
    },
    {
     "data": {
      "image/png": "[encoded data removed]",
      "text/plain": [
       "<matplotlib.figure.Figure at 0x7f48e0cba860>"
      ]
     },
     "metadata": {},
     "output_type": "display_data"
    }
   ],
   "source": [
    "r = hp.run_flow(df_movecls, feature_list)\n",
    "pr.plot_classification_report(r[1], cmap=plt.cm.coolwarm_r)"
   ]
  },
  {
   "cell_type": "code",
   "execution_count": 54,
   "metadata": {},
   "outputs": [
    {
     "name": "stdout",
     "output_type": "stream",
     "text": [
      "activity\n",
      "household-chores    28\n",
      "movement            27\n",
      "Name: user, dtype: int64\n",
      "44 train examples and 11 test examples\n",
      "Best params for linear kernel: {'C': 10.0} with score 0.69444\n",
      "--- test results for linear kernel:\n",
      "                  precision    recall  f1-score   support\n",
      "\n",
      "household-chores       0.86      0.86      0.86         7\n",
      "        movement       0.75      0.75      0.75         4\n",
      "\n",
      "     avg / total       0.82      0.82      0.82        11\n",
      "\n",
      "Best params for RBF kernel: {'C': 1.0, 'gamma': 1.0} with score 0.69444\n",
      "--- test results for RBF kernel:\n",
      "                  precision    recall  f1-score   support\n",
      "\n",
      "household-chores       0.83      0.71      0.77         7\n",
      "        movement       0.60      0.75      0.67         4\n",
      "\n",
      "     avg / total       0.75      0.73      0.73        11\n",
      "\n",
      "[0.83, 0.71, 0.77]\n",
      "[0.6, 0.75, 0.67]\n"
     ]
    },
    {
     "data": {
      "image/png": "[encoded data removed]",
      "text/plain": [
       "<matplotlib.figure.Figure at 0x7f48e0e2f588>"
      ]
     },
     "metadata": {},
     "output_type": "display_data"
    }
   ],
   "source": [
    "ju_move = hp.user_data(df_movecls, 0)\n",
    "print(hp.count_by(ju_move, 'activity'))\n",
    "r = hp.run_flow(ju_move, feature_list)\n",
    "pr.plot_classification_report(r[1], cmap=plt.cm.coolwarm_r)"
   ]
  },
  {
   "cell_type": "code",
   "execution_count": 55,
   "metadata": {},
   "outputs": [
    {
     "name": "stdout",
     "output_type": "stream",
     "text": [
      "activity\n",
      "household-chores    40\n",
      "movement            30\n",
      "Name: user, dtype: int64\n",
      "56 train examples and 14 test examples\n",
      "Best params for linear kernel: {'C': 100.0} with score 0.66667\n",
      "--- test results for linear kernel:\n",
      "                  precision    recall  f1-score   support\n",
      "\n",
      "household-chores       0.55      0.86      0.67         7\n",
      "        movement       0.67      0.29      0.40         7\n",
      "\n",
      "     avg / total       0.61      0.57      0.53        14\n",
      "\n",
      "Best params for RBF kernel: {'C': 10.0, 'gamma': 1.0} with score 0.62500\n",
      "--- test results for RBF kernel:\n",
      "                  precision    recall  f1-score   support\n",
      "\n",
      "household-chores       0.60      0.86      0.71         7\n",
      "        movement       0.75      0.43      0.55         7\n",
      "\n",
      "     avg / total       0.67      0.64      0.63        14\n",
      "\n",
      "[0.6, 0.86, 0.71]\n",
      "[0.75, 0.43, 0.55]\n"
     ]
    },
    {
     "data": {
      "image/png": "[encoded data removed]",
      "text/plain": [
       "<matplotlib.figure.Figure at 0x7f48e4813c88>"
      ]
     },
     "metadata": {},
     "output_type": "display_data"
    }
   ],
   "source": [
    "edu_move = hp.user_data(df_movecls, 2)\n",
    "print(hp.count_by(edu_move, 'activity'))\n",
    "r = hp.run_flow(edu_move, feature_list)\n",
    "pr.plot_classification_report(r[1], cmap=plt.cm.coolwarm_r)"
   ]
  },
  {
   "cell_type": "code",
   "execution_count": 56,
   "metadata": {},
   "outputs": [
    {
     "name": "stdout",
     "output_type": "stream",
     "text": [
      "----------------------------------------------------------------\n",
      "eat\n",
      "eat        53\n",
      "others    325\n",
      "Name: user, dtype: int64\n",
      "302 train examples and 76 test examples\n",
      "Best params for linear kernel: {'C': 0.01} with score 0.86885\n",
      "--- test results for linear kernel:\n",
      "             precision    recall  f1-score   support\n",
      "\n",
      "        eat       0.00      0.00      0.00        13\n",
      "     others       0.83      1.00      0.91        63\n",
      "\n",
      "avg / total       0.69      0.83      0.75        76\n",
      "\n"
     ]
    },
    {
     "name": "stderr",
     "output_type": "stream",
     "text": [
      "/home/ju/workspace/HeRV_analysis/hervpd.py:26: SettingWithCopyWarning: \n",
      "A value is trying to be set on a copy of a slice from a DataFrame.\n",
      "Try using .loc[row_indexer,col_indexer] = value instead\n",
      "\n",
      "See the caveats in the documentation: http://pandas.pydata.org/pandas-docs/stable/indexing.html#indexing-view-versus-copy\n",
      "  df[pname] = np.where(df['activity'].isin(includelist), labelIn, labelOut)\n",
      "/home/ju/anaconda3/lib/python3.6/site-packages/sklearn/metrics/classification.py:1135: UndefinedMetricWarning: Precision and F-score are ill-defined and being set to 0.0 in labels with no predicted samples.\n",
      "  'precision', 'predicted', average, warn_for)\n"
     ]
    },
    {
     "name": "stdout",
     "output_type": "stream",
     "text": [
      "Best params for RBF kernel: {'C': 0.01, 'gamma': 0.01} with score 0.86885\n",
      "--- test results for RBF kernel:\n",
      "             precision    recall  f1-score   support\n",
      "\n",
      "        eat       0.00      0.00      0.00        13\n",
      "     others       0.83      1.00      0.91        63\n",
      "\n",
      "avg / total       0.69      0.83      0.75        76\n",
      "\n",
      "----------------------------------------------------------------\n",
      "focused-active\n",
      "focused-active     88\n",
      "others            290\n",
      "Name: user, dtype: int64\n",
      "302 train examples and 76 test examples\n"
     ]
    },
    {
     "name": "stderr",
     "output_type": "stream",
     "text": [
      "/home/ju/anaconda3/lib/python3.6/site-packages/sklearn/metrics/classification.py:1135: UndefinedMetricWarning: Precision and F-score are ill-defined and being set to 0.0 in labels with no predicted samples.\n",
      "  'precision', 'predicted', average, warn_for)\n",
      "/home/ju/workspace/HeRV_analysis/hervpd.py:26: SettingWithCopyWarning: \n",
      "A value is trying to be set on a copy of a slice from a DataFrame.\n",
      "Try using .loc[row_indexer,col_indexer] = value instead\n",
      "\n",
      "See the caveats in the documentation: http://pandas.pydata.org/pandas-docs/stable/indexing.html#indexing-view-versus-copy\n",
      "  df[pname] = np.where(df['activity'].isin(includelist), labelIn, labelOut)\n"
     ]
    },
    {
     "name": "stdout",
     "output_type": "stream",
     "text": [
      "Best params for linear kernel: {'C': 1.0} with score 0.75820\n",
      "--- test results for linear kernel:\n",
      "                precision    recall  f1-score   support\n",
      "\n",
      "focused-active       0.00      0.00      0.00        14\n",
      "        others       0.82      1.00      0.90        62\n",
      "\n",
      "   avg / total       0.67      0.82      0.73        76\n",
      "\n"
     ]
    },
    {
     "name": "stderr",
     "output_type": "stream",
     "text": [
      "/home/ju/anaconda3/lib/python3.6/site-packages/sklearn/metrics/classification.py:1135: UndefinedMetricWarning: Precision and F-score are ill-defined and being set to 0.0 in labels with no predicted samples.\n",
      "  'precision', 'predicted', average, warn_for)\n"
     ]
    },
    {
     "name": "stdout",
     "output_type": "stream",
     "text": [
      "Best params for RBF kernel: {'C': 1.0, 'gamma': 1.0} with score 0.81557\n",
      "--- test results for RBF kernel:\n",
      "                precision    recall  f1-score   support\n",
      "\n",
      "focused-active       1.00      0.50      0.67        14\n",
      "        others       0.90      1.00      0.95        62\n",
      "\n",
      "   avg / total       0.92      0.91      0.90        76\n",
      "\n",
      "----------------------------------------------------------------\n",
      "focused-passive\n",
      "focused-passive     73\n",
      "others             305\n",
      "Name: user, dtype: int64\n",
      "302 train examples and 76 test examples\n"
     ]
    },
    {
     "name": "stderr",
     "output_type": "stream",
     "text": [
      "/home/ju/workspace/HeRV_analysis/hervpd.py:26: SettingWithCopyWarning: \n",
      "A value is trying to be set on a copy of a slice from a DataFrame.\n",
      "Try using .loc[row_indexer,col_indexer] = value instead\n",
      "\n",
      "See the caveats in the documentation: http://pandas.pydata.org/pandas-docs/stable/indexing.html#indexing-view-versus-copy\n",
      "  df[pname] = np.where(df['activity'].isin(includelist), labelIn, labelOut)\n"
     ]
    },
    {
     "name": "stdout",
     "output_type": "stream",
     "text": [
      "Best params for linear kernel: {'C': 10.0} with score 0.81557\n",
      "--- test results for linear kernel:\n",
      "                 precision    recall  f1-score   support\n",
      "\n",
      "focused-passive       0.20      0.11      0.14         9\n",
      "         others       0.89      0.94      0.91        67\n",
      "\n",
      "    avg / total       0.81      0.84      0.82        76\n",
      "\n",
      "Best params for RBF kernel: {'C': 100.0, 'gamma': 0.01} with score 0.82787\n",
      "--- test results for RBF kernel:\n",
      "                 precision    recall  f1-score   support\n",
      "\n",
      "focused-passive       0.33      0.11      0.17         9\n",
      "         others       0.89      0.97      0.93        67\n",
      "\n",
      "    avg / total       0.82      0.87      0.84        76\n",
      "\n",
      "----------------------------------------------------------------\n",
      "leisure-passive\n",
      "leisure-passive     89\n",
      "others             289\n",
      "Name: user, dtype: int64\n",
      "302 train examples and 76 test examples\n"
     ]
    },
    {
     "name": "stderr",
     "output_type": "stream",
     "text": [
      "/home/ju/workspace/HeRV_analysis/hervpd.py:26: SettingWithCopyWarning: \n",
      "A value is trying to be set on a copy of a slice from a DataFrame.\n",
      "Try using .loc[row_indexer,col_indexer] = value instead\n",
      "\n",
      "See the caveats in the documentation: http://pandas.pydata.org/pandas-docs/stable/indexing.html#indexing-view-versus-copy\n",
      "  df[pname] = np.where(df['activity'].isin(includelist), labelIn, labelOut)\n"
     ]
    },
    {
     "name": "stdout",
     "output_type": "stream",
     "text": [
      "Best params for linear kernel: {'C': 0.01} with score 0.75410\n",
      "--- test results for linear kernel:\n",
      "                 precision    recall  f1-score   support\n",
      "\n",
      "leisure-passive       0.00      0.00      0.00        17\n",
      "         others       0.78      1.00      0.87        59\n",
      "\n",
      "    avg / total       0.60      0.78      0.68        76\n",
      "\n"
     ]
    },
    {
     "name": "stderr",
     "output_type": "stream",
     "text": [
      "/home/ju/anaconda3/lib/python3.6/site-packages/sklearn/metrics/classification.py:1135: UndefinedMetricWarning: Precision and F-score are ill-defined and being set to 0.0 in labels with no predicted samples.\n",
      "  'precision', 'predicted', average, warn_for)\n"
     ]
    },
    {
     "name": "stdout",
     "output_type": "stream",
     "text": [
      "Best params for RBF kernel: {'C': 100.0, 'gamma': 1.0} with score 0.77049\n",
      "--- test results for RBF kernel:\n",
      "                 precision    recall  f1-score   support\n",
      "\n",
      "leisure-passive       0.50      0.47      0.48        17\n",
      "         others       0.85      0.86      0.86        59\n",
      "\n",
      "    avg / total       0.77      0.78      0.77        76\n",
      "\n",
      "----------------------------------------------------------------\n",
      "sleep\n",
      "others    303\n",
      "sleep      75\n",
      "Name: user, dtype: int64\n",
      "302 train examples and 76 test examples\n"
     ]
    },
    {
     "name": "stderr",
     "output_type": "stream",
     "text": [
      "/home/ju/workspace/HeRV_analysis/hervpd.py:26: SettingWithCopyWarning: \n",
      "A value is trying to be set on a copy of a slice from a DataFrame.\n",
      "Try using .loc[row_indexer,col_indexer] = value instead\n",
      "\n",
      "See the caveats in the documentation: http://pandas.pydata.org/pandas-docs/stable/indexing.html#indexing-view-versus-copy\n",
      "  df[pname] = np.where(df['activity'].isin(includelist), labelIn, labelOut)\n"
     ]
    },
    {
     "name": "stdout",
     "output_type": "stream",
     "text": [
      "Best params for linear kernel: {'C': 0.10000000000000001} with score 0.87705\n",
      "--- test results for linear kernel:\n",
      "             precision    recall  f1-score   support\n",
      "\n",
      "     others       0.85      1.00      0.92        61\n",
      "      sleep       1.00      0.27      0.42        15\n",
      "\n",
      "avg / total       0.88      0.86      0.82        76\n",
      "\n",
      "Best params for RBF kernel: {'C': 100.0, 'gamma': 0.01} with score 0.94262\n",
      "--- test results for RBF kernel:\n",
      "             precision    recall  f1-score   support\n",
      "\n",
      "     others       0.91      0.98      0.94        61\n",
      "      sleep       0.90      0.60      0.72        15\n",
      "\n",
      "avg / total       0.91      0.91      0.90        76\n",
      "\n"
     ]
    }
   ],
   "source": [
    "for activ in df_stillcls.activity.unique():\n",
    "    print ('----------------------------------------------------------------')\n",
    "    dfa = df_stillcls\n",
    "    df_onevsall = hp.add_partition(df=dfa, includelist=[activ], pname=activ, labelIn=activ, labelOut='others')\n",
    "    print(df_onevsall.groupby(activ).count()['user'])\n",
    "    hp.run_flow(df_onevsall, feature_list, labelName=activ)"
   ]
  },
  {
   "cell_type": "markdown",
   "metadata": {},
   "source": [
    "### Split still activities by sleep vc others"
   ]
  },
  {
   "cell_type": "code",
   "execution_count": null,
   "metadata": {
    "collapsed": true
   },
   "outputs": [],
   "source": [
    "hp.countExamplesByActivity(df_stillcls)\n",
    "df_partsleep = hp.addPartition(df=df_stillcls, includelist=['sleep'], pname='sleep', labelIn='sleep', labelOut='wake')\n",
    "print(df_partsleep.groupby('sleep').count()['user'])"
   ]
  },
  {
   "cell_type": "code",
   "execution_count": null,
   "metadata": {
    "collapsed": true
   },
   "outputs": [],
   "source": [
    " hp.runFlow(df_partsleep, labelName='sleep')"
   ]
  },
  {
   "cell_type": "code",
   "execution_count": null,
   "metadata": {
    "collapsed": true
   },
   "outputs": [],
   "source": [
    "ju_sleep = hp.userRows(df_partsleep, 0) \n",
    "hp.runFlow(ju_sleep, labelName='sleep')"
   ]
  },
  {
   "cell_type": "code",
   "execution_count": null,
   "metadata": {
    "collapsed": true
   },
   "outputs": [],
   "source": [
    "edu_sleep = hp.userRows(df_partsleep, 2) \n",
    "hp.runFlow(edu_sleep, labelName='sleep')"
   ]
  },
  {
   "cell_type": "code",
   "execution_count": null,
   "metadata": {
    "collapsed": true
   },
   "outputs": [],
   "source": [
    "df_wake = hp.excludeActivities(df_stillcls,['sleep'] )\n",
    "hp.countExamplesByActivity(df_wake)"
   ]
  },
  {
   "cell_type": "code",
   "execution_count": null,
   "metadata": {
    "collapsed": true
   },
   "outputs": [],
   "source": [
    "hp.runFlow(df_wake)"
   ]
  },
  {
   "cell_type": "code",
   "execution_count": null,
   "metadata": {
    "collapsed": true
   },
   "outputs": [],
   "source": [
    "hp.runFlowByUser(df_wake)"
   ]
  },
  {
   "cell_type": "markdown",
   "metadata": {},
   "source": [
    "### Split by passive vs active sitting activities"
   ]
  },
  {
   "cell_type": "code",
   "execution_count": null,
   "metadata": {
    "collapsed": true
   },
   "outputs": [],
   "source": [
    "df_actlvl = hp.addPartition(df_wake, includelist=['focused-passive', 'leisure-passive'], pname='actlvl', labelIn='passive', labelOut='active')\n",
    "print(df_passive.groupby('actlvl').count()['user'])"
   ]
  },
  {
   "cell_type": "code",
   "execution_count": null,
   "metadata": {
    "collapsed": true
   },
   "outputs": [],
   "source": [
    "hp.runFlow(df_actlvl, labelName='actlvl')"
   ]
  },
  {
   "cell_type": "code",
   "execution_count": null,
   "metadata": {
    "collapsed": true
   },
   "outputs": [],
   "source": [
    "hp.runFlowByUser(df_actlvl, labelName='actlvl')"
   ]
  },
  {
   "cell_type": "code",
   "execution_count": null,
   "metadata": {
    "collapsed": true
   },
   "outputs": [],
   "source": [
    "df_passive = hp.filterActivities(df_actlvl, ['leisure-passive', 'focused-passive'])\n",
    "hp.countExamplesByActivity(df_passive)"
   ]
  },
  {
   "cell_type": "code",
   "execution_count": null,
   "metadata": {
    "collapsed": true
   },
   "outputs": [],
   "source": [
    "hp.runFlow(df_passive)"
   ]
  },
  {
   "cell_type": "code",
   "execution_count": null,
   "metadata": {
    "collapsed": true
   },
   "outputs": [],
   "source": [
    "hp.runFlow(hp.userRows(df_passive, 0))"
   ]
  },
  {
   "cell_type": "code",
   "execution_count": null,
   "metadata": {
    "collapsed": true
   },
   "outputs": [],
   "source": [
    "hp.runFlow(hp.userRows(df_passive, 2))"
   ]
  },
  {
   "cell_type": "code",
   "execution_count": null,
   "metadata": {
    "collapsed": true
   },
   "outputs": [],
   "source": [
    "df_active = hp.excludeActivities(df_actlvl, ['leisure-passive', 'focused-passive'])\n",
    "hp.countExamplesByActivity(df_active)"
   ]
  },
  {
   "cell_type": "code",
   "execution_count": null,
   "metadata": {
    "collapsed": true
   },
   "outputs": [],
   "source": [
    "hp.runFlow(df_active)"
   ]
  },
  {
   "cell_type": "code",
   "execution_count": null,
   "metadata": {
    "collapsed": true
   },
   "outputs": [],
   "source": [
    "hp.runFlowByUser(df_active)"
   ]
  },
  {
   "cell_type": "code",
   "execution_count": null,
   "metadata": {
    "collapsed": true
   },
   "outputs": [],
   "source": []
  }
 ],
 "metadata": {
  "kernelspec": {
   "display_name": "Python 3",
   "language": "python",
   "name": "python3"
  },
  "language_info": {
   "codemirror_mode": {
    "name": "ipython",
    "version": 3
   },
   "file_extension": ".py",
   "mimetype": "text/x-python",
   "name": "python",
   "nbconvert_exporter": "python",
   "pygments_lexer": "ipython3",
   "version": "3.6.3"
  }
 },
 "nbformat": 4,
 "nbformat_minor": 2
}
