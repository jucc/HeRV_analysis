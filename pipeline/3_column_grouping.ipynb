{
 "cells": [
  {
   "cell_type": "code",
   "execution_count": 1,
   "metadata": {},
   "outputs": [],
   "source": [
    "%load_ext autoreload\n",
    "%autoreload 2\n",
    "%matplotlib inline  \n",
    "\n",
    "import pandas as pd\n",
    "import numpy as np\n",
    "import matplotlib.pyplot as plt"
   ]
  },
  {
   "cell_type": "code",
   "execution_count": 2,
   "metadata": {},
   "outputs": [],
   "source": [
    "# DATA_PATH = '/home/ju/GDrive/Projects/HeRV/Data/PreProcessed/'\n",
    "DATA_PATH = \"C:\\\\Users\\\\ju\\\\GDrive\\\\Projects\\\\HeRV\\\\Data\\\\PreProcessed\\\\\"\n"
   ]
  },
  {
   "cell_type": "code",
   "execution_count": 3,
   "metadata": {},
   "outputs": [],
   "source": [
    "sleeplist = ['sleep', 'sleeping']\n",
    "exerciselist = ['exercise', 'exercise-high', 'exercise-low']\n",
    "movelist = ['movement', 'household-chores']\n",
    "\n",
    "activelist   = ['focused-active', 'rest-active', 'eat']\n",
    "passivelist  = ['leisure', 'focused-passive', 'rest-passive']\n",
    "\n",
    "focusedlist1 = ['focused-passive', 'focused-active']\n",
    "restlist1    = ['rest-passive', 'rest-active', 'leisure', 'eat']\n",
    "\n",
    "focusedlist2 = ['focused-passive', 'focused-active', 'eat']\n",
    "restlist2    = ['rest-passive', 'rest-active', 'leisure']\n",
    "\n",
    "stresslist1  = ['focused-passive','focused-active', 'rest-active', 'eat']\n",
    "relaxlist1   = ['rest-passive', 'leisure']\n",
    "\n",
    "stresslist2  = ['focused-passive','focused-active', 'rest-active']\n",
    "relaxlist2   = ['rest-passive', 'leisure', 'eat']\n",
    "\n",
    "stresslist3  = ['focused-active', 'eat']\n",
    "relaxlist3   = ['focused-passive', 'rest-passive', 'rest-active', 'leisure']"
   ]
  },
  {
   "cell_type": "code",
   "execution_count": 4,
   "metadata": {},
   "outputs": [],
   "source": [
    "moveall = movelist.copy()\n",
    "moveall.extend(exerciselist)\n",
    "\n",
    "stillist =  ['focused-passive', 'focused-active', 'eat', 'rest-passive', 'rest-active', 'leisure']\n"
   ]
  },
  {
   "cell_type": "markdown",
   "metadata": {},
   "source": [
    "## Multiclass"
   ]
  },
  {
   "cell_type": "code",
   "execution_count": 5,
   "metadata": {},
   "outputs": [],
   "source": [
    "def extgr(dbase, dextend):\n",
    "    dres = dbase.copy()\n",
    "    dres.update(dextend)\n",
    "    return dres"
   ]
  },
  {
   "cell_type": "code",
   "execution_count": 6,
   "metadata": {},
   "outputs": [],
   "source": [
    "gr_main3 =  { 'sleep': sleeplist, 'move': moveall, 'still': stillist}\n",
    "\n",
    "gr_main4 = { 'sleep': sleeplist, 'move': movelist, 'exercise': exerciselist, 'still': stillist }\n",
    "    \n",
    "dbase =  {'sleep': sleeplist, 'exercise': exerciselist, 'move': movelist}\n",
    "\n",
    "gr_active = extgr(dbase, {'active': activelist, 'passive': passivelist})\n",
    "\n",
    "gr_focus1 = extgr(dbase, {'focused': focusedlist1, 'rest': restlist1})\n",
    "\n",
    "gr_focus2 = extgr(dbase, {'focused': focusedlist2, 'rest': restlist2})\n",
    "\n",
    "gr_stress1 = extgr(dbase, {'stressed': stresslist1, 'relaxed': relaxlist1})\n",
    "\n",
    "gr_stress2 = extgr(dbase, {'stressed': stresslist2, 'relaxed': relaxlist2})\n",
    "\n",
    "gr_stress3 = extgr(dbase, {'stressed': stresslist3, 'relaxed': relaxlist3})\n",
    "\n",
    "\n",
    "def inv_map(dic):\n",
    "    return {x: k for k, v in dic.items() for x in v}\n",
    "\n",
    "im0a = inv_map(gr_main3)\n",
    "im0b = inv_map(gr_main4)\n",
    "im1 = inv_map(gr_active)\n",
    "im2 = inv_map(gr_focus1)\n",
    "im3 = inv_map(gr_focus2)\n",
    "im4 = inv_map(gr_stress1)\n",
    "im5 = inv_map(gr_stress2)\n",
    "im6 = inv_map(gr_stress3)"
   ]
  },
  {
   "cell_type": "code",
   "execution_count": 7,
   "metadata": {},
   "outputs": [],
   "source": [
    "for crop in [30, 90]:\n",
    "    for duration in [30]:\n",
    "        bundle = 'df_' + str(duration) + '_' + str(crop)\n",
    "        filename = DATA_PATH + bundle + '.xlsx'\n",
    "        df = pd.read_excel(filename)\n",
    "        df['gr_main3'] = df['activity'].map(im0a)\n",
    "        df['gr_main4'] = df['activity'].map(im0b)\n",
    "        df['gr_active'] = df['activity'].map(im1)\n",
    "        df['gr_focus1'] = df['activity'].map(im2)\n",
    "        df['gr_focus2'] = df['activity'].map(im3)\n",
    "        df['gr_stress1'] = df['activity'].map(im4)\n",
    "        df['gr_stress2'] = df['activity'].map(im5)\n",
    "        df['gr_stress3'] = df['activity'].map(im6)\n",
    "        df.to_excel(DATA_PATH + bundle + '_grouped.xlsx')"
   ]
  },
  {
   "cell_type": "markdown",
   "metadata": {},
   "source": [
    "## Binary partitions"
   ]
  },
  {
   "cell_type": "code",
   "execution_count": 12,
   "metadata": {},
   "outputs": [],
   "source": [
    "def add_partition(df, includelist, pname='partition', labelIn='in', labelOut='out'):\n",
    "    df[pname] = np.where(df['activity'].isin(includelist), labelIn, labelOut)\n",
    "    return df"
   ]
  },
  {
   "cell_type": "code",
   "execution_count": 13,
   "metadata": {},
   "outputs": [],
   "source": [
    "for crop in [30, 90]:\n",
    "    for duration in [600, 450, 300, 240, 180, 120, 60]:\n",
    "        bundle = 'df_' + str(duration) + '_' + str(crop)\n",
    "        filename = DATA_PATH + bundle + '.xlsx'\n",
    "        df = pd.read_excel(filename)\n",
    "        add_partition(df, sleeplist, pname='sleep', labelIn=1, labelOut=0)\n",
    "        add_partition(df, exerciselist, pname='exercise', labelIn=1, labelOut=0)\n",
    "        add_partition(df, movelist, pname='move', labelIn=1, labelOut=0)\n",
    "        add_partition(df, activelist, pname='active', labelIn=1, labelOut=0)\n",
    "        add_partition(df, focusedlist1, pname='focused1', labelIn=1, labelOut=0)\n",
    "        add_partition(df, focusedlist2, pname='focused2', labelIn=1, labelOut=0)        \n",
    "        add_partition(df, restlist1, pname='relaxed1', labelIn=1, labelOut=0)\n",
    "        add_partition(df, restlist2, pname='relaxed2', labelIn=1, labelOut=0) \n",
    "        add_partition(df, relaxlist2, pname='relax2', labelIn=1, labelOut=0)\n",
    "        add_partition(df, stresslist1, pname='stressed1', labelIn=1, labelOut=0) \n",
    "        add_partition(df, stresslist2, pname='stressed2', labelIn=1, labelOut=0)\n",
    "        add_partition(df, stresslist3, pname='stressed3', labelIn=1, labelOut=0) \n",
    "        add_partition(df, relaxlist1, pname='relaxed1', labelIn=1, labelOut=0)\n",
    "        add_partition(df, relaxlist2, pname='relaxed2', labelIn=1, labelOut=0) \n",
    "        add_partition(df, relaxlist3, pname='relaxed3', labelIn=1, labelOut=0)\n",
    "\n",
    "        df.to_excel(DATA_PATH + bundle + '_encoded.xlsx'  )"
   ]
  },
  {
   "cell_type": "code",
   "execution_count": null,
   "metadata": {},
   "outputs": [],
   "source": []
  }
 ],
 "metadata": {
  "kernelspec": {
   "display_name": "Python 3",
   "language": "python",
   "name": "python3"
  },
  "language_info": {
   "codemirror_mode": {
    "name": "ipython",
    "version": 3
   },
   "file_extension": ".py",
   "mimetype": "text/x-python",
   "name": "python",
   "nbconvert_exporter": "python",
   "pygments_lexer": "ipython3",
   "version": "3.6.3"
  }
 },
 "nbformat": 4,
 "nbformat_minor": 2
}
