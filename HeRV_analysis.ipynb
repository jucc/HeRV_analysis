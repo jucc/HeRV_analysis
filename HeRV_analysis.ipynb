{
 "cells": [
  {
   "cell_type": "code",
   "execution_count": 47,
   "metadata": {},
   "outputs": [
    {
     "name": "stdout",
     "output_type": "stream",
     "text": [
      "The autoreload extension is already loaded. To reload it, use:\n",
      "  %reload_ext autoreload\n"
     ]
    }
   ],
   "source": [
    "%load_ext autoreload\n",
    "%autoreload 2\n",
    "\n",
    "import numpy as np\n",
    "import matplotlib.pyplot as plt\n",
    "\n",
    "from sklearn import svm\n",
    "from sklearn.preprocessing import scale\n",
    "from sklearn.model_selection import StratifiedShuffleSplit, GridSearchCV\n",
    "\n",
    "import herv_preprocess as hpp"
   ]
  },
  {
   "cell_type": "markdown",
   "metadata": {},
   "source": [
    "### Parameter configuration"
   ]
  },
  {
   "cell_type": "code",
   "execution_count": 112,
   "metadata": {},
   "outputs": [],
   "source": [
    "# input data\n",
    "filename = 'data/12features/ju.csv'\n",
    "# k-fold cross validation (one in each k examples will be used for validation, the others for training)\n",
    "k = 5\n",
    "\n",
    "includelist  = ('eat','focused-active')\n",
    "grouplist  = ('household-chores','movement')"
   ]
  },
  {
   "cell_type": "markdown",
   "metadata": {},
   "source": [
    "### 1 - Extract data from the csv file and split it into labels and features"
   ]
  },
  {
   "cell_type": "code",
   "execution_count": 113,
   "metadata": {},
   "outputs": [
    {
     "name": "stdout",
     "output_type": "stream",
     "text": [
      "(0, 'eat', 'sit',  682.29998779,  102.56999969,  87.93800354,  70.75499725,  137.30000305,  88.26499939,  28.96899986,  501.,  3648.89990234,  1150.80004883,  1373.59997559,  0.83780998)\n"
     ]
    }
   ],
   "source": [
    "data = hpp.getData(filename)\n",
    "#data = hpp.filterActivities(data, includelist)\n",
    "print(data[0])"
   ]
  },
  {
   "cell_type": "code",
   "execution_count": 114,
   "metadata": {},
   "outputs": [
    {
     "name": "stdout",
     "output_type": "stream",
     "text": [
      "2\n"
     ]
    }
   ],
   "source": [
    "hpp.groupActivities(data, grouplist)\n",
    "datagroups = hpp.getDataByActivity(np.array(data))\n",
    "print (len(datagroups))"
   ]
  },
  {
   "cell_type": "code",
   "execution_count": 115,
   "metadata": {},
   "outputs": [
    {
     "name": "stdout",
     "output_type": "stream",
     "text": [
      "in: 55 examples (44 for train and 11 for test)\n",
      "out: 130 examples (104 for train and 26 for test)\n",
      "\n",
      "Total: 148 train examples and 37 test examples \n"
     ]
    }
   ],
   "source": [
    "train, test = hpp.balanceTrainTestDatasets(datagroups)\n",
    "ltrain, ftrain = hpp.splitExamples(train)\n",
    "ltest, ftest = hpp.splitExamples(test)"
   ]
  },
  {
   "cell_type": "code",
   "execution_count": 116,
   "metadata": {},
   "outputs": [
    {
     "name": "stdout",
     "output_type": "stream",
     "text": [
      "min and max values before scaling:  0.154679998755 29716.0\n",
      "min and max values after scaling:  -2.55328795792 8.0176301504\n",
      "(148, 12)\n",
      "(37, 12)\n"
     ]
    }
   ],
   "source": [
    "ftrain, ftest = hpp.scaleFeatures(ftrain, ftest)\n",
    "print(ftrain.shape)\n",
    "print(ftest.shape)"
   ]
  },
  {
   "cell_type": "markdown",
   "metadata": {},
   "source": [
    "### 2 - test classifiers with no cross validation and predefined parameters (C=1, $\\gamma$ = 0.01)"
   ]
  },
  {
   "cell_type": "code",
   "execution_count": 117,
   "metadata": {
    "scrolled": true
   },
   "outputs": [
    {
     "name": "stdout",
     "output_type": "stream",
     "text": [
      "------\n",
      "Got 24 out of 37 right! :)\n"
     ]
    }
   ],
   "source": [
    "clf1 = svm.SVC(kernel='linear', cache_size=1000, C=10)\n",
    "clf1.fit(X=ftrain, y=ltrain)\n",
    "hpp.printResults(ltest, clf1.predict(ftest))"
   ]
  },
  {
   "cell_type": "code",
   "execution_count": 122,
   "metadata": {},
   "outputs": [
    {
     "name": "stdout",
     "output_type": "stream",
     "text": [
      "------\n",
      "Got 24 out of 37 right! :)\n"
     ]
    }
   ],
   "source": [
    "clf2 = svm.SVC(kernel='rbf', cache_size=1000, C=10, gamma=0.1)\n",
    "clf2.fit(X=ftrain, y=ltrain)\n",
    "hpp.printResults(ltest, clf2.predict(ftest))"
   ]
  },
  {
   "cell_type": "markdown",
   "metadata": {},
   "source": [
    "### 3 - Model selection:  Perform an exhaustive search, with k-fold cross-validation,  in the space parameter consisting of:\n",
    "* $C = 10^{i}, com -1 \\leq i \\leq 6$, for both linear and RBF kernels\n",
    "* $\\gamma = 10^{i}, com -3 \\leq i \\leq 3$, for RBF kernel."
   ]
  },
  {
   "cell_type": "code",
   "execution_count": 119,
   "metadata": {},
   "outputs": [],
   "source": [
    "crossval = StratifiedShuffleSplit(n_splits=k-1, test_size=0.2)\n",
    "\n",
    "# C varies from 10^(-1) to 10^6, gamma from 10^(-3) to 10^3\n",
    "c_range = np.logspace(-1, 2, 4) \n",
    "gamma_range = np.logspace(-2, 1, 4)\n",
    "\n",
    "param_lin=dict(C=c_range)\n",
    "param_rbf=dict(C=c_range, gamma=gamma_range)\n"
   ]
  },
  {
   "cell_type": "code",
   "execution_count": 120,
   "metadata": {},
   "outputs": [
    {
     "name": "stdout",
     "output_type": "stream",
     "text": [
      "Kernel linear --- \n",
      "Best params: {'C': 10.0} with score 0.97500\n"
     ]
    }
   ],
   "source": [
    "grid_lin = GridSearchCV(svm.SVC(kernel='linear', cache_size=1000), param_grid=param_lin, cv=crossval)\n",
    "grid_lin.fit(X=ftrain, y=ltrain)\n",
    "\n",
    "print(\"Kernel linear --- \")\n",
    "print(\"Best params: %s with score %0.5f\" % (grid_lin.best_params_, grid_lin.best_score_))"
   ]
  },
  {
   "cell_type": "code",
   "execution_count": 121,
   "metadata": {},
   "outputs": [
    {
     "name": "stdout",
     "output_type": "stream",
     "text": [
      "Kernel RBF --- \n",
      "Best params: {'C': 10.0, 'gamma': 0.10000000000000001} with score 0.98333\n"
     ]
    }
   ],
   "source": [
    "grid_rbf = GridSearchCV(svm.SVC(kernel='rbf', cache_size=1000), param_grid=param_rbf, cv=crossval)\n",
    "grid_rbf.fit(X=ftrain, y=ltrain)\n",
    "\n",
    "print(\"Kernel RBF --- \")\n",
    "print(\"Best params: %s with score %0.5f\" % (grid_rbf.best_params_, grid_rbf.best_score_))"
   ]
  },
  {
   "cell_type": "code",
   "execution_count": null,
   "metadata": {},
   "outputs": [],
   "source": []
  },
  {
   "cell_type": "code",
   "execution_count": null,
   "metadata": {
    "collapsed": true
   },
   "outputs": [],
   "source": []
  },
  {
   "cell_type": "code",
   "execution_count": null,
   "metadata": {},
   "outputs": [],
   "source": [
    "ltrain, ltest, ftrain, ftest = hpp.trainAndTestDatasets(labels, examples, k )"
   ]
  }
 ],
 "metadata": {
  "kernelspec": {
   "display_name": "Python 3",
   "language": "python",
   "name": "python3"
  },
  "language_info": {
   "codemirror_mode": {
    "name": "ipython",
    "version": 3
   },
   "file_extension": ".py",
   "mimetype": "text/x-python",
   "name": "python",
   "nbconvert_exporter": "python",
   "pygments_lexer": "ipython3",
   "version": "3.6.2"
  }
 },
 "nbformat": 4,
 "nbformat_minor": 2
}
