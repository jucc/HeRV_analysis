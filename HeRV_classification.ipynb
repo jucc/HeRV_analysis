{
 "cells": [
  {
   "cell_type": "code",
   "execution_count": 1,
   "metadata": {
    "collapsed": true
   },
   "outputs": [],
   "source": [
    "%load_ext autoreload\n",
    "%autoreload 2\n",
    "\n",
    "import pandas as pd\n",
    "import numpy as np\n",
    "import matplotlib.pyplot as plt\n",
    "\n",
    "from sklearn import svm\n",
    "from sklearn.preprocessing import scale\n",
    "from sklearn.model_selection import StratifiedShuffleSplit, GridSearchCV, train_test_split\n",
    "\n",
    "import hervpd as hp"
   ]
  },
  {
   "cell_type": "code",
   "execution_count": 2,
   "metadata": {},
   "outputs": [
    {
     "name": "stdout",
     "output_type": "stream",
     "text": [
      "['eat' 'focused-active' 'focused-passive' 'household-chores'\n",
      " 'leisure-active' 'leisure-passive' 'movement' 'sleep' 'rest-active']\n"
     ]
    },
    {
     "data": {
      "text/html": [
       "<div>\n",
       "<style>\n",
       "    .dataframe thead tr:only-child th {\n",
       "        text-align: right;\n",
       "    }\n",
       "\n",
       "    .dataframe thead th {\n",
       "        text-align: left;\n",
       "    }\n",
       "\n",
       "    .dataframe tbody tr th {\n",
       "        vertical-align: top;\n",
       "    }\n",
       "</style>\n",
       "<table border=\"1\" class=\"dataframe\">\n",
       "  <thead>\n",
       "    <tr style=\"text-align: right;\">\n",
       "      <th></th>\n",
       "      <th>user</th>\n",
       "      <th>AVGNN</th>\n",
       "      <th>SDNN</th>\n",
       "      <th>MeanHR</th>\n",
       "      <th>MinHR</th>\n",
       "      <th>MaxHR</th>\n",
       "      <th>RMSSD</th>\n",
       "      <th>pNNxx</th>\n",
       "      <th>TINN</th>\n",
       "      <th>powerVLF</th>\n",
       "      <th>powerLF</th>\n",
       "      <th>powerHF</th>\n",
       "      <th>ratioHFLF</th>\n",
       "    </tr>\n",
       "  </thead>\n",
       "  <tbody>\n",
       "    <tr>\n",
       "      <th>count</th>\n",
       "      <td>544.000000</td>\n",
       "      <td>544.000000</td>\n",
       "      <td>544.000000</td>\n",
       "      <td>544.00000</td>\n",
       "      <td>544.000000</td>\n",
       "      <td>544.000000</td>\n",
       "      <td>544.000000</td>\n",
       "      <td>544.000000</td>\n",
       "      <td>544.000000</td>\n",
       "      <td>544.000000</td>\n",
       "      <td>544.000000</td>\n",
       "      <td>544.000000</td>\n",
       "      <td>544.000000</td>\n",
       "    </tr>\n",
       "    <tr>\n",
       "      <th>mean</th>\n",
       "      <td>1.187500</td>\n",
       "      <td>758.600000</td>\n",
       "      <td>72.865018</td>\n",
       "      <td>81.37714</td>\n",
       "      <td>67.362033</td>\n",
       "      <td>108.560417</td>\n",
       "      <td>46.409227</td>\n",
       "      <td>20.082227</td>\n",
       "      <td>358.020221</td>\n",
       "      <td>2877.387599</td>\n",
       "      <td>1423.919671</td>\n",
       "      <td>1000.824001</td>\n",
       "      <td>2.753764</td>\n",
       "    </tr>\n",
       "    <tr>\n",
       "      <th>std</th>\n",
       "      <td>0.913249</td>\n",
       "      <td>129.785003</td>\n",
       "      <td>32.960406</td>\n",
       "      <td>13.75457</td>\n",
       "      <td>10.849680</td>\n",
       "      <td>36.385572</td>\n",
       "      <td>32.537407</td>\n",
       "      <td>18.316263</td>\n",
       "      <td>146.885899</td>\n",
       "      <td>3619.576847</td>\n",
       "      <td>1443.217366</td>\n",
       "      <td>1841.656665</td>\n",
       "      <td>2.296974</td>\n",
       "    </tr>\n",
       "    <tr>\n",
       "      <th>min</th>\n",
       "      <td>0.000000</td>\n",
       "      <td>475.730000</td>\n",
       "      <td>17.833000</td>\n",
       "      <td>51.62800</td>\n",
       "      <td>41.437000</td>\n",
       "      <td>58.117000</td>\n",
       "      <td>4.882500</td>\n",
       "      <td>0.000000</td>\n",
       "      <td>83.000000</td>\n",
       "      <td>85.654000</td>\n",
       "      <td>57.852000</td>\n",
       "      <td>7.977700</td>\n",
       "      <td>0.154680</td>\n",
       "    </tr>\n",
       "    <tr>\n",
       "      <th>25%</th>\n",
       "      <td>0.000000</td>\n",
       "      <td>670.362500</td>\n",
       "      <td>51.871500</td>\n",
       "      <td>73.23225</td>\n",
       "      <td>60.292750</td>\n",
       "      <td>91.470250</td>\n",
       "      <td>27.438750</td>\n",
       "      <td>6.593075</td>\n",
       "      <td>258.000000</td>\n",
       "      <td>995.182500</td>\n",
       "      <td>591.307500</td>\n",
       "      <td>258.917500</td>\n",
       "      <td>1.257000</td>\n",
       "    </tr>\n",
       "    <tr>\n",
       "      <th>50%</th>\n",
       "      <td>2.000000</td>\n",
       "      <td>750.545000</td>\n",
       "      <td>67.057000</td>\n",
       "      <td>79.94200</td>\n",
       "      <td>66.181500</td>\n",
       "      <td>100.520000</td>\n",
       "      <td>37.994500</td>\n",
       "      <td>15.417500</td>\n",
       "      <td>339.000000</td>\n",
       "      <td>1807.950000</td>\n",
       "      <td>1040.350000</td>\n",
       "      <td>512.090000</td>\n",
       "      <td>2.037350</td>\n",
       "    </tr>\n",
       "    <tr>\n",
       "      <th>75%</th>\n",
       "      <td>2.000000</td>\n",
       "      <td>819.307500</td>\n",
       "      <td>85.820000</td>\n",
       "      <td>89.50400</td>\n",
       "      <td>74.285250</td>\n",
       "      <td>112.580000</td>\n",
       "      <td>54.762250</td>\n",
       "      <td>26.790500</td>\n",
       "      <td>426.250000</td>\n",
       "      <td>3304.250000</td>\n",
       "      <td>1697.950000</td>\n",
       "      <td>960.045000</td>\n",
       "      <td>3.579975</td>\n",
       "    </tr>\n",
       "    <tr>\n",
       "      <th>max</th>\n",
       "      <td>2.000000</td>\n",
       "      <td>1162.200000</td>\n",
       "      <td>264.250000</td>\n",
       "      <td>126.12000</td>\n",
       "      <td>104.900000</td>\n",
       "      <td>550.320000</td>\n",
       "      <td>240.470000</td>\n",
       "      <td>98.232000</td>\n",
       "      <td>1103.000000</td>\n",
       "      <td>29716.000000</td>\n",
       "      <td>12958.000000</td>\n",
       "      <td>16103.000000</td>\n",
       "      <td>18.228000</td>\n",
       "    </tr>\n",
       "  </tbody>\n",
       "</table>\n",
       "</div>"
      ],
      "text/plain": [
       "             user        AVGNN        SDNN     MeanHR       MinHR       MaxHR  \\\n",
       "count  544.000000   544.000000  544.000000  544.00000  544.000000  544.000000   \n",
       "mean     1.187500   758.600000   72.865018   81.37714   67.362033  108.560417   \n",
       "std      0.913249   129.785003   32.960406   13.75457   10.849680   36.385572   \n",
       "min      0.000000   475.730000   17.833000   51.62800   41.437000   58.117000   \n",
       "25%      0.000000   670.362500   51.871500   73.23225   60.292750   91.470250   \n",
       "50%      2.000000   750.545000   67.057000   79.94200   66.181500  100.520000   \n",
       "75%      2.000000   819.307500   85.820000   89.50400   74.285250  112.580000   \n",
       "max      2.000000  1162.200000  264.250000  126.12000  104.900000  550.320000   \n",
       "\n",
       "            RMSSD       pNNxx         TINN      powerVLF       powerLF  \\\n",
       "count  544.000000  544.000000   544.000000    544.000000    544.000000   \n",
       "mean    46.409227   20.082227   358.020221   2877.387599   1423.919671   \n",
       "std     32.537407   18.316263   146.885899   3619.576847   1443.217366   \n",
       "min      4.882500    0.000000    83.000000     85.654000     57.852000   \n",
       "25%     27.438750    6.593075   258.000000    995.182500    591.307500   \n",
       "50%     37.994500   15.417500   339.000000   1807.950000   1040.350000   \n",
       "75%     54.762250   26.790500   426.250000   3304.250000   1697.950000   \n",
       "max    240.470000   98.232000  1103.000000  29716.000000  12958.000000   \n",
       "\n",
       "            powerHF   ratioHFLF  \n",
       "count    544.000000  544.000000  \n",
       "mean    1000.824001    2.753764  \n",
       "std     1841.656665    2.296974  \n",
       "min        7.977700    0.154680  \n",
       "25%      258.917500    1.257000  \n",
       "50%      512.090000    2.037350  \n",
       "75%      960.045000    3.579975  \n",
       "max    16103.000000   18.228000  "
      ]
     },
     "execution_count": 2,
     "metadata": {},
     "output_type": "execute_result"
    }
   ],
   "source": [
    "df = pd.read_csv( 'data/12features/combined.csv')\n",
    "print(df.activity.unique())\n",
    "df.describe()"
   ]
  },
  {
   "cell_type": "code",
   "execution_count": null,
   "metadata": {
    "collapsed": true
   },
   "outputs": [],
   "source": [
    "df.groupby('activity').count()['user']"
   ]
  },
  {
   "cell_type": "markdown",
   "metadata": {},
   "source": [
    "### Apply scale to make all features go to mean = 0 and SD = 1. That will allow SVM kernels not to put too much weight on features with larger values."
   ]
  },
  {
   "cell_type": "code",
   "execution_count": null,
   "metadata": {
    "collapsed": true
   },
   "outputs": [],
   "source": [
    "#df.iloc[:, 3:15] = df.iloc[:, 3:15].apply(lambda x: scale(x))\n",
    "df = hp.scaleWithinUser(df)\n",
    "df.describe()"
   ]
  },
  {
   "cell_type": "markdown",
   "metadata": {},
   "source": [
    "### Test dataset will have 20% of examples, the other 80% will be for training (with cross-validation)"
   ]
  },
  {
   "cell_type": "code",
   "execution_count": null,
   "metadata": {
    "collapsed": true
   },
   "outputs": [],
   "source": [
    "train, test = train_test_split(df, test_size=0.2)\n",
    "print (len(train), len(test))"
   ]
  },
  {
   "cell_type": "markdown",
   "metadata": {},
   "source": [
    "### 3 - Model selection:  Perform an exhaustive search, with k-fold cross-validation,  in the space parameter consisting of:\n",
    "* $C = 10^{i}, com -1 \\leq i \\leq 6$, for both linear and RBF kernels\n",
    "* $\\gamma = 10^{i}, com -3 \\leq i \\leq 3$, for RBF kernel."
   ]
  },
  {
   "cell_type": "code",
   "execution_count": null,
   "metadata": {
    "collapsed": true
   },
   "outputs": [],
   "source": [
    "crossval = StratifiedShuffleSplit(n_splits=4, test_size=0.2)\n",
    "\n",
    "c_range = np.logspace(-1, 2, 4) \n",
    "gamma_range = np.logspace(-2, 1, 4)\n",
    "\n",
    "param_lin=dict(C=c_range)\n",
    "param_rbf=dict(C=c_range, gamma=gamma_range)\n"
   ]
  },
  {
   "cell_type": "code",
   "execution_count": null,
   "metadata": {
    "collapsed": true
   },
   "outputs": [],
   "source": [
    "grid_lin = GridSearchCV(svm.SVC(kernel='linear', cache_size=1000), param_grid=param_lin, cv=crossval)\n",
    "grid_lin.fit(X=train.iloc[:, 3:15], y=train['activity'])\n",
    "\n",
    "print(\"Kernel linear --- \")\n",
    "print(\"Best params: %s with score %0.5f\" % (grid_lin.best_params_, grid_lin.best_score_))"
   ]
  },
  {
   "cell_type": "code",
   "execution_count": null,
   "metadata": {
    "collapsed": true
   },
   "outputs": [],
   "source": [
    "grid_rbf = GridSearchCV(svm.SVC(kernel='rbf', cache_size=1000), param_grid=param_rbf, cv=crossval)\n",
    "grid_rbf.fit(X=train.iloc[:, 3:15], y=train['activity'])\n",
    "\n",
    "print(\"Kernel RBF --- \")\n",
    "print(\"Best params: %s with score %0.5f\" % (grid_rbf.best_params_, grid_rbf.best_score_))"
   ]
  },
  {
   "cell_type": "code",
   "execution_count": null,
   "metadata": {
    "collapsed": true
   },
   "outputs": [],
   "source": [
    "clf1 = svm.SVC(kernel='linear', cache_size=1000, C=grid_lin.best_params_['C'])\n",
    "clf1.fit(X=train.iloc[:, 3:15], y=train['activity'])\n",
    "hp.printResults(test['activity'].values, clf1.predict(test.iloc[:, 3:15]))\n",
    "\n",
    "clf2 = svm.SVC(kernel='rbf', cache_size=1000, C=grid_rbf.best_params_['C'], gamma=grid_rbf.best_params_['gamma'])\n",
    "clf2.fit(X=train.iloc[:, 3:15], y=train['activity'])\n",
    "hp.printResults(test['activity'].values, clf1.predict(test.iloc[:, 3:15]))"
   ]
  },
  {
   "cell_type": "markdown",
   "metadata": {},
   "source": [
    "\n",
    "## Now, we can run the same steps above with multiple experiments! Time to have fun!!"
   ]
  },
  {
   "cell_type": "code",
   "execution_count": 40,
   "metadata": {
    "scrolled": true
   },
   "outputs": [
    {
     "name": "stderr",
     "output_type": "stream",
     "text": [
      "C:\\Users\\julia\\Anaconda3\\lib\\site-packages\\sklearn\\utils\\validation.py:444: DataConversionWarning: Data with input dtype int64 was converted to float64 by the scale function.\n",
      "  warnings.warn(msg, DataConversionWarning)\n",
      "C:\\Users\\julia\\Anaconda3\\lib\\site-packages\\pandas\\core\\indexing.py:517: SettingWithCopyWarning: \n",
      "A value is trying to be set on a copy of a slice from a DataFrame.\n",
      "Try using .loc[row_indexer,col_indexer] = value instead\n",
      "\n",
      "See the caveats in the documentation: http://pandas.pydata.org/pandas-docs/stable/indexing.html#indexing-view-versus-copy\n",
      "  self.obj[item] = s\n"
     ]
    },
    {
     "name": "stdout",
     "output_type": "stream",
     "text": [
      "49 out of 103 right! :)\n",
      "                  precision    recall  f1-score   support\n",
      "\n",
      "             eat       0.12      0.29      0.17         7\n",
      "  focused-active       0.63      0.63      0.63        19\n",
      " focused-passive       0.25      0.13      0.17        15\n",
      "household-chores       0.38      0.31      0.34        16\n",
      " leisure-passive       0.53      0.59      0.56        17\n",
      "        movement       0.54      0.47      0.50        15\n",
      "           sleep       0.73      0.79      0.76        14\n",
      "\n",
      "     avg / total       0.49      0.48      0.47       103\n",
      "\n"
     ]
    }
   ],
   "source": [
    "# exclude from df activities with too few examples\n",
    "\n",
    "df = pd.read_csv( 'data/12features/combined.csv')\n",
    "df = hp.excludeActivities(df, ['leisure-active',  'rest-active'])\n",
    "hp.runFlow(df)"
   ]
  },
  {
   "cell_type": "markdown",
   "metadata": {},
   "source": [
    "### 2 - Removing activities from the list"
   ]
  },
  {
   "cell_type": "code",
   "execution_count": 41,
   "metadata": {},
   "outputs": [
    {
     "data": {
      "text/plain": [
       "activity\n",
       "focused-active     88\n",
       "focused-passive    73\n",
       "leisure-passive    89\n",
       "Name: user, dtype: int64"
      ]
     },
     "execution_count": 41,
     "metadata": {},
     "output_type": "execute_result"
    }
   ],
   "source": [
    "df_reduced = hp.excludeActivities(df, ['leisure-active',  'rest-active', 'sleep', 'movement', 'household-chores', 'eat'])\n",
    "df_reduced.groupby('activity').count()['user']"
   ]
  },
  {
   "cell_type": "code",
   "execution_count": 42,
   "metadata": {},
   "outputs": [
    {
     "name": "stderr",
     "output_type": "stream",
     "text": [
      "C:\\Users\\julia\\Anaconda3\\lib\\site-packages\\sklearn\\utils\\validation.py:444: DataConversionWarning: Data with input dtype int64 was converted to float64 by the scale function.\n",
      "  warnings.warn(msg, DataConversionWarning)\n",
      "C:\\Users\\julia\\Anaconda3\\lib\\site-packages\\pandas\\core\\indexing.py:517: SettingWithCopyWarning: \n",
      "A value is trying to be set on a copy of a slice from a DataFrame.\n",
      "Try using .loc[row_indexer,col_indexer] = value instead\n",
      "\n",
      "See the caveats in the documentation: http://pandas.pydata.org/pandas-docs/stable/indexing.html#indexing-view-versus-copy\n",
      "  self.obj[item] = s\n"
     ]
    },
    {
     "name": "stdout",
     "output_type": "stream",
     "text": [
      "18 out of 50 right! :)\n",
      "                 precision    recall  f1-score   support\n",
      "\n",
      " focused-active       0.33      0.18      0.24        22\n",
      "focused-passive       0.41      0.50      0.45        14\n",
      "leisure-passive       0.33      0.50      0.40        14\n",
      "\n",
      "    avg / total       0.36      0.36      0.34        50\n",
      "\n"
     ]
    }
   ],
   "source": [
    "hp.runFlow(df_reduced)"
   ]
  },
  {
   "cell_type": "markdown",
   "metadata": {},
   "source": [
    "### 1 - All activities per user"
   ]
  },
  {
   "cell_type": "code",
   "execution_count": 32,
   "metadata": {},
   "outputs": [
    {
     "data": {
      "text/html": [
       "<div>\n",
       "<style>\n",
       "    .dataframe thead tr:only-child th {\n",
       "        text-align: right;\n",
       "    }\n",
       "\n",
       "    .dataframe thead th {\n",
       "        text-align: left;\n",
       "    }\n",
       "\n",
       "    .dataframe tbody tr th {\n",
       "        vertical-align: top;\n",
       "    }\n",
       "</style>\n",
       "<table border=\"1\" class=\"dataframe\">\n",
       "  <thead>\n",
       "    <tr style=\"text-align: right;\">\n",
       "      <th></th>\n",
       "      <th>user</th>\n",
       "      <th>AVGNN</th>\n",
       "      <th>SDNN</th>\n",
       "      <th>MeanHR</th>\n",
       "      <th>MinHR</th>\n",
       "      <th>MaxHR</th>\n",
       "      <th>RMSSD</th>\n",
       "      <th>pNNxx</th>\n",
       "      <th>TINN</th>\n",
       "      <th>powerVLF</th>\n",
       "      <th>powerLF</th>\n",
       "      <th>powerHF</th>\n",
       "      <th>ratioHFLF</th>\n",
       "    </tr>\n",
       "  </thead>\n",
       "  <tbody>\n",
       "    <tr>\n",
       "      <th>count</th>\n",
       "      <td>171.0</td>\n",
       "      <td>171.000000</td>\n",
       "      <td>171.000000</td>\n",
       "      <td>171.000000</td>\n",
       "      <td>171.000000</td>\n",
       "      <td>171.000000</td>\n",
       "      <td>171.000000</td>\n",
       "      <td>171.000000</td>\n",
       "      <td>171.000000</td>\n",
       "      <td>171.000000</td>\n",
       "      <td>171.000000</td>\n",
       "      <td>171.000000</td>\n",
       "      <td>171.000000</td>\n",
       "    </tr>\n",
       "    <tr>\n",
       "      <th>mean</th>\n",
       "      <td>0.0</td>\n",
       "      <td>705.760117</td>\n",
       "      <td>78.435041</td>\n",
       "      <td>87.234982</td>\n",
       "      <td>70.866170</td>\n",
       "      <td>129.230216</td>\n",
       "      <td>64.659298</td>\n",
       "      <td>21.486519</td>\n",
       "      <td>408.152047</td>\n",
       "      <td>2947.679649</td>\n",
       "      <td>1539.862433</td>\n",
       "      <td>1732.321988</td>\n",
       "      <td>1.932863</td>\n",
       "    </tr>\n",
       "    <tr>\n",
       "      <th>std</th>\n",
       "      <td>0.0</td>\n",
       "      <td>115.589830</td>\n",
       "      <td>42.775841</td>\n",
       "      <td>14.019577</td>\n",
       "      <td>11.197753</td>\n",
       "      <td>54.078833</td>\n",
       "      <td>44.097554</td>\n",
       "      <td>19.449443</td>\n",
       "      <td>185.021049</td>\n",
       "      <td>4435.316039</td>\n",
       "      <td>2005.189948</td>\n",
       "      <td>2836.653377</td>\n",
       "      <td>1.748349</td>\n",
       "    </tr>\n",
       "    <tr>\n",
       "      <th>min</th>\n",
       "      <td>0.0</td>\n",
       "      <td>478.320000</td>\n",
       "      <td>23.498000</td>\n",
       "      <td>51.628000</td>\n",
       "      <td>41.437000</td>\n",
       "      <td>71.208000</td>\n",
       "      <td>14.743000</td>\n",
       "      <td>0.238660</td>\n",
       "      <td>116.000000</td>\n",
       "      <td>155.130000</td>\n",
       "      <td>84.136000</td>\n",
       "      <td>29.782000</td>\n",
       "      <td>0.154680</td>\n",
       "    </tr>\n",
       "    <tr>\n",
       "      <th>25%</th>\n",
       "      <td>0.0</td>\n",
       "      <td>618.915000</td>\n",
       "      <td>48.248000</td>\n",
       "      <td>77.871000</td>\n",
       "      <td>64.014000</td>\n",
       "      <td>99.404500</td>\n",
       "      <td>28.788500</td>\n",
       "      <td>5.416700</td>\n",
       "      <td>275.000000</td>\n",
       "      <td>696.530000</td>\n",
       "      <td>473.085000</td>\n",
       "      <td>258.845000</td>\n",
       "      <td>0.716570</td>\n",
       "    </tr>\n",
       "    <tr>\n",
       "      <th>50%</th>\n",
       "      <td>0.0</td>\n",
       "      <td>707.750000</td>\n",
       "      <td>70.417000</td>\n",
       "      <td>84.776000</td>\n",
       "      <td>72.150000</td>\n",
       "      <td>111.190000</td>\n",
       "      <td>54.254000</td>\n",
       "      <td>16.935000</td>\n",
       "      <td>397.000000</td>\n",
       "      <td>1601.100000</td>\n",
       "      <td>841.630000</td>\n",
       "      <td>600.950000</td>\n",
       "      <td>1.373800</td>\n",
       "    </tr>\n",
       "    <tr>\n",
       "      <th>75%</th>\n",
       "      <td>0.0</td>\n",
       "      <td>770.500000</td>\n",
       "      <td>94.793500</td>\n",
       "      <td>96.943500</td>\n",
       "      <td>78.523500</td>\n",
       "      <td>144.050000</td>\n",
       "      <td>88.970000</td>\n",
       "      <td>32.690000</td>\n",
       "      <td>505.000000</td>\n",
       "      <td>3245.750000</td>\n",
       "      <td>1695.800000</td>\n",
       "      <td>2033.550000</td>\n",
       "      <td>2.809450</td>\n",
       "    </tr>\n",
       "    <tr>\n",
       "      <th>max</th>\n",
       "      <td>0.0</td>\n",
       "      <td>1162.200000</td>\n",
       "      <td>264.250000</td>\n",
       "      <td>125.440000</td>\n",
       "      <td>92.937000</td>\n",
       "      <td>550.320000</td>\n",
       "      <td>240.470000</td>\n",
       "      <td>79.351000</td>\n",
       "      <td>1103.000000</td>\n",
       "      <td>29716.000000</td>\n",
       "      <td>12958.000000</td>\n",
       "      <td>16103.000000</td>\n",
       "      <td>11.995000</td>\n",
       "    </tr>\n",
       "  </tbody>\n",
       "</table>\n",
       "</div>"
      ],
      "text/plain": [
       "        user        AVGNN        SDNN      MeanHR       MinHR       MaxHR  \\\n",
       "count  171.0   171.000000  171.000000  171.000000  171.000000  171.000000   \n",
       "mean     0.0   705.760117   78.435041   87.234982   70.866170  129.230216   \n",
       "std      0.0   115.589830   42.775841   14.019577   11.197753   54.078833   \n",
       "min      0.0   478.320000   23.498000   51.628000   41.437000   71.208000   \n",
       "25%      0.0   618.915000   48.248000   77.871000   64.014000   99.404500   \n",
       "50%      0.0   707.750000   70.417000   84.776000   72.150000  111.190000   \n",
       "75%      0.0   770.500000   94.793500   96.943500   78.523500  144.050000   \n",
       "max      0.0  1162.200000  264.250000  125.440000   92.937000  550.320000   \n",
       "\n",
       "            RMSSD       pNNxx         TINN      powerVLF       powerLF  \\\n",
       "count  171.000000  171.000000   171.000000    171.000000    171.000000   \n",
       "mean    64.659298   21.486519   408.152047   2947.679649   1539.862433   \n",
       "std     44.097554   19.449443   185.021049   4435.316039   2005.189948   \n",
       "min     14.743000    0.238660   116.000000    155.130000     84.136000   \n",
       "25%     28.788500    5.416700   275.000000    696.530000    473.085000   \n",
       "50%     54.254000   16.935000   397.000000   1601.100000    841.630000   \n",
       "75%     88.970000   32.690000   505.000000   3245.750000   1695.800000   \n",
       "max    240.470000   79.351000  1103.000000  29716.000000  12958.000000   \n",
       "\n",
       "            powerHF   ratioHFLF  \n",
       "count    171.000000  171.000000  \n",
       "mean    1732.321988    1.932863  \n",
       "std     2836.653377    1.748349  \n",
       "min       29.782000    0.154680  \n",
       "25%      258.845000    0.716570  \n",
       "50%      600.950000    1.373800  \n",
       "75%     2033.550000    2.809450  \n",
       "max    16103.000000   11.995000  "
      ]
     },
     "execution_count": 32,
     "metadata": {},
     "output_type": "execute_result"
    }
   ],
   "source": [
    "ju = hp.userRows(df, 0)\n",
    "ron = hp.userRows(df, 1)\n",
    "edu = hp.userRows(df, 2)\n",
    "\n",
    "ju.describe()"
   ]
  },
  {
   "cell_type": "code",
   "execution_count": 37,
   "metadata": {},
   "outputs": [
    {
     "name": "stderr",
     "output_type": "stream",
     "text": [
      "C:\\Users\\julia\\Anaconda3\\lib\\site-packages\\sklearn\\utils\\validation.py:444: DataConversionWarning: Data with input dtype int64 was converted to float64 by the scale function.\n",
      "  warnings.warn(msg, DataConversionWarning)\n"
     ]
    },
    {
     "name": "stdout",
     "output_type": "stream",
     "text": [
      "16 out of 35 right! :)\n",
      "                  precision    recall  f1-score   support\n",
      "\n",
      "             eat       0.00      0.00      0.00         1\n",
      "  focused-active       0.33      0.50      0.40         2\n",
      " focused-passive       0.43      0.75      0.55         8\n",
      "household-chores       0.00      0.00      0.00         4\n",
      " leisure-passive       0.40      0.33      0.36         6\n",
      "        movement       0.60      0.38      0.46         8\n",
      "           sleep       0.80      0.67      0.73         6\n",
      "\n",
      "     avg / total       0.46      0.46      0.44        35\n",
      "\n"
     ]
    },
    {
     "name": "stderr",
     "output_type": "stream",
     "text": [
      "C:\\Users\\julia\\Anaconda3\\lib\\site-packages\\sklearn\\metrics\\classification.py:1135: UndefinedMetricWarning: Precision and F-score are ill-defined and being set to 0.0 in labels with no predicted samples.\n",
      "  'precision', 'predicted', average, warn_for)\n"
     ]
    }
   ],
   "source": [
    "hp.runFlow(ju)"
   ]
  },
  {
   "cell_type": "code",
   "execution_count": 38,
   "metadata": {},
   "outputs": [
    {
     "name": "stderr",
     "output_type": "stream",
     "text": [
      "C:\\Users\\julia\\Anaconda3\\lib\\site-packages\\sklearn\\utils\\validation.py:444: DataConversionWarning: Data with input dtype int64 was converted to float64 by the scale function.\n",
      "  warnings.warn(msg, DataConversionWarning)\n"
     ]
    },
    {
     "name": "stdout",
     "output_type": "stream",
     "text": [
      "10 out of 15 right! :)\n",
      "                 precision    recall  f1-score   support\n",
      "\n",
      "            eat       0.50      0.33      0.40         3\n",
      " focused-active       0.56      1.00      0.71         5\n",
      "leisure-passive       1.00      0.50      0.67         6\n",
      "       movement       1.00      1.00      1.00         1\n",
      "\n",
      "    avg / total       0.75      0.67      0.65        15\n",
      "\n"
     ]
    }
   ],
   "source": [
    "hp.runFlow(ron)"
   ]
  },
  {
   "cell_type": "code",
   "execution_count": 39,
   "metadata": {},
   "outputs": [
    {
     "name": "stderr",
     "output_type": "stream",
     "text": [
      "C:\\Users\\julia\\Anaconda3\\lib\\site-packages\\sklearn\\utils\\validation.py:444: DataConversionWarning: Data with input dtype int64 was converted to float64 by the scale function.\n",
      "  warnings.warn(msg, DataConversionWarning)\n"
     ]
    },
    {
     "name": "stdout",
     "output_type": "stream",
     "text": [
      "26 out of 54 right! :)\n",
      "                  precision    recall  f1-score   support\n",
      "\n",
      "             eat       0.25      0.43      0.32         7\n",
      "  focused-active       0.50      0.86      0.63         7\n",
      " focused-passive       0.25      0.50      0.33         4\n",
      "household-chores       0.50      0.25      0.33        12\n",
      " leisure-passive       1.00      0.10      0.18        10\n",
      "        movement       0.50      0.50      0.50         6\n",
      "           sleep       0.89      1.00      0.94         8\n",
      "\n",
      "     avg / total       0.60      0.48      0.45        54\n",
      "\n"
     ]
    }
   ],
   "source": [
    "hp.runFlow(edu)"
   ]
  },
  {
   "cell_type": "markdown",
   "metadata": {},
   "source": [
    "### 2 - Splitting database into movement categories (movement, household chores and exercise) and all others"
   ]
  },
  {
   "cell_type": "code",
   "execution_count": 29,
   "metadata": {},
   "outputs": [
    {
     "data": {
      "text/plain": [
       "move\n",
       "move     133\n",
       "still    378\n",
       "Name: user, dtype: int64"
      ]
     },
     "execution_count": 29,
     "metadata": {},
     "output_type": "execute_result"
    }
   ],
   "source": [
    "includelist = ['movement', 'household-chores']\n",
    "\n",
    "df_move = hp.addPartition(df, includelist, pname='move', labelIn='move', labelOut='still')\n",
    "df_move.groupby('move').count()['user']"
   ]
  },
  {
   "cell_type": "code",
   "execution_count": 30,
   "metadata": {},
   "outputs": [
    {
     "name": "stderr",
     "output_type": "stream",
     "text": [
      "C:\\Users\\julia\\Anaconda3\\lib\\site-packages\\sklearn\\utils\\validation.py:444: DataConversionWarning: Data with input dtype int64 was converted to float64 by the scale function.\n",
      "  warnings.warn(msg, DataConversionWarning)\n",
      "C:\\Users\\julia\\Anaconda3\\lib\\site-packages\\pandas\\core\\indexing.py:517: SettingWithCopyWarning: \n",
      "A value is trying to be set on a copy of a slice from a DataFrame.\n",
      "Try using .loc[row_indexer,col_indexer] = value instead\n",
      "\n",
      "See the caveats in the documentation: http://pandas.pydata.org/pandas-docs/stable/indexing.html#indexing-view-versus-copy\n",
      "  self.obj[item] = s\n"
     ]
    },
    {
     "name": "stdout",
     "output_type": "stream",
     "text": [
      "408 train examples and 103 test examples\n",
      "Best params for linear kernel: {'C': 1.0} with score 0.90549\n",
      "Best params for RBF kernel: {'C': 1.0, 'gamma': 0.10000000000000001} with score 0.90244\n",
      "--- test results for linear kernel:\n",
      "93 out of 103 right! :)\n",
      "--- test results for RBF kernel:\n",
      "93 out of 103 right! :)\n"
     ]
    }
   ],
   "source": [
    "hp.runFlow(df_move, labelName='move')"
   ]
  },
  {
   "cell_type": "code",
   "execution_count": null,
   "metadata": {
    "collapsed": true
   },
   "outputs": [],
   "source": [
    "jumove = hp.addPartition(ju, includelist, pname='move', labelIn='move', labelOut='still')\n",
    "hp.runFlow(jumove, labelName='move')"
   ]
  },
  {
   "cell_type": "code",
   "execution_count": null,
   "metadata": {
    "collapsed": true
   },
   "outputs": [],
   "source": [
    "edumove = hp.addPartition(edu, includelist, pname='move', labelIn='move', labelOut='still')\n",
    "hp.runFlow(edumove, labelName='move')"
   ]
  },
  {
   "cell_type": "code",
   "execution_count": null,
   "metadata": {
    "collapsed": true
   },
   "outputs": [],
   "source": [
    "ronmove = hp.addPartition(ron, includelist, pname='move', labelIn='move', labelOut='still')\n",
    "hp.runFlow(ronmove, labelName='move')"
   ]
  },
  {
   "cell_type": "code",
   "execution_count": null,
   "metadata": {
    "collapsed": true
   },
   "outputs": [],
   "source": [
    "includelist\n",
    "dfnomove = hp.excludeActivities(df, includelist)\n",
    "dfnomove.describe()\n",
    "hp.runFlow(dfnomove)"
   ]
  },
  {
   "cell_type": "code",
   "execution_count": null,
   "metadata": {
    "collapsed": true
   },
   "outputs": [],
   "source": [
    "[x for x in df['activity']]"
   ]
  },
  {
   "cell_type": "code",
   "execution_count": 47,
   "metadata": {},
   "outputs": [
    {
     "name": "stdout",
     "output_type": "stream",
     "text": [
      "CLASSFIER FOR USER 0\n",
      "136 train examples and 35 test examples\n"
     ]
    },
    {
     "name": "stderr",
     "output_type": "stream",
     "text": [
      "C:\\Users\\julia\\Anaconda3\\lib\\site-packages\\sklearn\\utils\\validation.py:444: DataConversionWarning: Data with input dtype int64 was converted to float64 by the scale function.\n",
      "  warnings.warn(msg, DataConversionWarning)\n"
     ]
    },
    {
     "name": "stdout",
     "output_type": "stream",
     "text": [
      "Best params for linear kernel: {'C': 1.0} with score 0.56250\n",
      "--- test results for linear kernel:\n",
      "                  precision    recall  f1-score   support\n",
      "\n",
      "  focused-active       0.00      0.00      0.00         3\n",
      " focused-passive       0.43      0.50      0.46         6\n",
      "household-chores       0.57      0.57      0.57         7\n",
      " leisure-passive       1.00      0.29      0.44         7\n",
      "        movement       0.67      0.50      0.57         8\n",
      "           sleep       0.33      1.00      0.50         4\n",
      "\n",
      "     avg / total       0.58      0.49      0.47        35\n",
      "\n",
      "Best params for RBF kernel: {'C': 10.0, 'gamma': 0.10000000000000001} with score 0.61607\n",
      "--- test results for RBF kernel:\n",
      "                  precision    recall  f1-score   support\n",
      "\n",
      "             eat       0.00      0.00      0.00         0\n",
      "  focused-active       0.25      0.33      0.29         3\n",
      " focused-passive       0.50      0.67      0.57         6\n",
      "household-chores       0.80      0.57      0.67         7\n",
      " leisure-passive       1.00      0.57      0.73         7\n",
      "        movement       0.88      0.88      0.88         8\n",
      "           sleep       0.80      1.00      0.89         4\n",
      "\n",
      "     avg / total       0.76      0.69      0.70        35\n",
      "\n",
      "CLASSFIER FOR USER 1\n",
      "57 train examples and 15 test examples\n",
      "Best params for linear kernel: {'C': 100.0} with score 0.68750\n",
      "--- test results for linear kernel:\n",
      "                 precision    recall  f1-score   support\n",
      "\n",
      "            eat       0.33      0.50      0.40         2\n",
      " focused-active       0.75      0.50      0.60         6\n",
      "leisure-passive       0.43      0.60      0.50         5\n",
      "       movement       1.00      0.50      0.67         2\n",
      "\n",
      "    avg / total       0.62      0.53      0.55        15\n",
      "\n"
     ]
    },
    {
     "name": "stderr",
     "output_type": "stream",
     "text": [
      "C:\\Users\\julia\\Anaconda3\\lib\\site-packages\\sklearn\\metrics\\classification.py:1137: UndefinedMetricWarning: Recall and F-score are ill-defined and being set to 0.0 in labels with no true samples.\n",
      "  'recall', 'true', average, warn_for)\n",
      "C:\\Users\\julia\\Anaconda3\\lib\\site-packages\\sklearn\\utils\\validation.py:444: DataConversionWarning: Data with input dtype int64 was converted to float64 by the scale function.\n",
      "  warnings.warn(msg, DataConversionWarning)\n"
     ]
    },
    {
     "name": "stdout",
     "output_type": "stream",
     "text": [
      "Best params for RBF kernel: {'C': 10.0, 'gamma': 0.01} with score 0.75000\n",
      "--- test results for RBF kernel:\n",
      "                 precision    recall  f1-score   support\n",
      "\n",
      "            eat       0.50      0.50      0.50         2\n",
      " focused-active       0.71      0.83      0.77         6\n",
      "leisure-passive       0.40      0.40      0.40         5\n",
      "       movement       1.00      0.50      0.67         2\n",
      "\n",
      "    avg / total       0.62      0.60      0.60        15\n",
      "\n",
      "CLASSFIER FOR USER 2\n",
      "214 train examples and 54 test examples\n"
     ]
    },
    {
     "name": "stderr",
     "output_type": "stream",
     "text": [
      "C:\\Users\\julia\\Anaconda3\\lib\\site-packages\\sklearn\\utils\\validation.py:444: DataConversionWarning: Data with input dtype int64 was converted to float64 by the scale function.\n",
      "  warnings.warn(msg, DataConversionWarning)\n"
     ]
    },
    {
     "name": "stdout",
     "output_type": "stream",
     "text": [
      "Best params for linear kernel: {'C': 1.0} with score 0.49419\n",
      "--- test results for linear kernel:\n",
      "                  precision    recall  f1-score   support\n",
      "\n",
      "             eat       0.11      0.33      0.17         3\n",
      "  focused-active       0.47      0.78      0.58         9\n",
      " focused-passive       0.29      0.25      0.27         8\n",
      "household-chores       0.50      0.40      0.44        10\n",
      " leisure-passive       0.50      0.25      0.33         8\n",
      "        movement       1.00      0.29      0.44         7\n",
      "           sleep       0.89      0.89      0.89         9\n",
      "\n",
      "     avg / total       0.57      0.48      0.48        54\n",
      "\n",
      "Best params for RBF kernel: {'C': 10.0, 'gamma': 0.01} with score 0.41279\n",
      "--- test results for RBF kernel:\n",
      "                  precision    recall  f1-score   support\n",
      "\n",
      "             eat       0.09      0.33      0.14         3\n",
      "  focused-active       0.43      0.67      0.52         9\n",
      " focused-passive       0.33      0.25      0.29         8\n",
      "household-chores       0.50      0.40      0.44        10\n",
      " leisure-passive       0.50      0.12      0.20         8\n",
      "        movement       1.00      0.43      0.60         7\n",
      "           sleep       0.90      1.00      0.95         9\n",
      "\n",
      "     avg / total       0.57      0.48      0.48        54\n",
      "\n"
     ]
    }
   ],
   "source": [
    "hp.runFlowByUser(df)"
   ]
  },
  {
   "cell_type": "code",
   "execution_count": null,
   "metadata": {
    "collapsed": true
   },
   "outputs": [],
   "source": []
  }
 ],
 "metadata": {
  "kernelspec": {
   "display_name": "Python 3",
   "language": "python",
   "name": "python3"
  },
  "language_info": {
   "codemirror_mode": {
    "name": "ipython",
    "version": 3
   },
   "file_extension": ".py",
   "mimetype": "text/x-python",
   "name": "python",
   "nbconvert_exporter": "python",
   "pygments_lexer": "ipython3",
   "version": "3.6.2"
  }
 },
 "nbformat": 4,
 "nbformat_minor": 2
}
